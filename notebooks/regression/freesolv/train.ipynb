{
 "cells": [
  {
   "cell_type": "markdown",
   "id": "10853bcb-9348-4494-bd41-11bbef29bcec",
   "metadata": {},
   "source": [
    "## Know your libraries (KYL)"
   ]
  },
  {
   "cell_type": "code",
   "execution_count": 1,
   "id": "6d246802-c80b-46ec-8535-12d7b23328f8",
   "metadata": {},
   "outputs": [
    {
     "name": "stdout",
     "output_type": "stream",
     "text": [
      "cpu\n"
     ]
    }
   ],
   "source": [
    "import sys\n",
    "sys.path.append('../../../src')\n",
    "\n",
    "import multiprocessing as mp\n",
    "mp.set_start_method('spawn', force=True)\n",
    "\n",
    "import dataset, molecular_representation, config, utils, model\n",
    "from dataset import QM9Dataset,LogSDataset,LogPDataset,FreeSolvDataset,ESOLDataset,ToxQDataset\n",
    "import numpy as np\n",
    "import pandas as pd\n",
    "from utils import *\n",
    "import torch\n",
    "from torch.nn.utils.rnn import pad_sequence\n",
    "from torch.utils.data import Dataset, DataLoader, Subset\n",
    "from scipy.stats import pearsonr\n",
    "from tqdm import tqdm\n",
    "from model import AtomAutoencoder,BondAutoencoder\n",
    "from model import GNNBondAngle,GNN2D,GNN3D,GNN3DAtnON,GNN3DAtnOFF,GNN3Dihed,GNN3DConfig,GNN3DLayer,GNN3DClassifier\n",
    "\n",
    "import matplotlib.pyplot as plt\n",
    "from rdkit import Chem\n",
    "from rdkit.Chem import Draw\n",
    "from rdkit.Chem import AllChem\n",
    "from rdkit.Chem.Draw import MolsToGridImage\n",
    "from rdkit.Chem.Draw import IPythonConsole\n",
    "IPythonConsole.ipython_useSVG=True\n",
    "IPythonConsole.drawOptions.addStereoAnnotation = True\n",
    "\n",
    "from sklearn.model_selection import train_test_split\n",
    "from sklearn.metrics import roc_auc_score, roc_curve, auc\n",
    "\n",
    "import os\n",
    "datadir=\"../../../data/regression/freesolv/\"\n",
    "modeldir=\"./models/\"\n",
    "dataset_name=\"freesolv\"\n",
    "# Create datadir and modeldir folders if they don't exist\n",
    "if not os.path.exists(datadir):\n",
    "    os.makedirs(datadir)\n",
    "\n",
    "if not os.path.exists(modeldir):\n",
    "    os.makedirs(modeldir)\n",
    "\n",
    "import time\n",
    "import datetime\n",
    "\n",
    "device = torch.device(\"cuda\" if torch.cuda.is_available() else \"cpu\")\n",
    "print(device)"
   ]
  },
  {
   "cell_type": "markdown",
   "id": "3b073b63-db6d-4cb7-81f5-04305a48f352",
   "metadata": {},
   "source": [
    "## Split your dataset (SYD)"
   ]
  },
  {
   "cell_type": "code",
   "execution_count": 2,
   "id": "100ecd3d-2ed3-42c3-99da-cde2df211ab4",
   "metadata": {},
   "outputs": [
    {
     "name": "stdout",
     "output_type": "stream",
     "text": [
      "Train and test datasets saved successfully.\n"
     ]
    }
   ],
   "source": [
    "# Load dataset from CSV\n",
    "dataset = pd.read_csv(datadir+dataset_name+\".csv\")\n",
    "\n",
    "# Split dataset into train and test\n",
    "train_dataset, test_dataset = split_dataset(dataset, 0.9)\n",
    "\n",
    "# Write train_dataset and test_dataset to CSV files\n",
    "train_dataset.to_csv(datadir+\"train.csv\", index=False)\n",
    "test_dataset.to_csv(datadir+\"test.csv\", index=False)\n",
    "\n",
    "print(\"Train and test datasets saved successfully.\")"
   ]
  },
  {
   "cell_type": "markdown",
   "id": "322a679b-31ca-4067-ac30-e92935bb155a",
   "metadata": {},
   "source": [
    "## Process your data (PYD)"
   ]
  },
  {
   "cell_type": "code",
   "execution_count": 3,
   "id": "1b421be3-1e02-47fa-a776-f22b5ce8a639",
   "metadata": {},
   "outputs": [
    {
     "name": "stdout",
     "output_type": "stream",
     "text": [
      "Loading dataset from folder\n",
      "Initializing Molecular Representation Generator\n",
      "Dataset Name: FreeSolv\n",
      "Number of Molecules Loaded: 577\n",
      "===================================\n",
      "Loading dataset from folder\n",
      "Initializing Molecular Representation Generator\n",
      "Dataset Name: FreeSolv\n",
      "Number of Molecules Loaded: 65\n"
     ]
    }
   ],
   "source": [
    "train_samples = FreeSolvDataset(datadir+\"train\")\n",
    "print(train_samples)\n",
    "print(\"===================================\")\n",
    "test_samples = FreeSolvDataset(datadir+\"test\")\n",
    "print(test_samples)"
   ]
  },
  {
   "cell_type": "markdown",
   "id": "684bf8f7-c561-47b8-a7b7-aab77f6225d5",
   "metadata": {},
   "source": [
    "## Know your featues (KYF)"
   ]
  },
  {
   "cell_type": "code",
   "execution_count": 4,
   "id": "cd351932-d0d7-4f09-b725-4768704bb67f",
   "metadata": {},
   "outputs": [
    {
     "name": "stdout",
     "output_type": "stream",
     "text": [
      "Atomic Features:           torch.Size([6, 154]) - This represents the atomic features of the molecule\n",
      "Bond Features:             torch.Size([10, 10]) - This represents the bond features of the molecule\n",
      "Bond Indices:              torch.Size([12]) - This represents the bond indices of the molecule\n",
      "Angle Features:            torch.Size([8]) - This represents the angle features of the molecule\n",
      "Angle Indices:             torch.Size([200]) - This represents the angle indices of the molecule\n",
      "Dihedral Features:         torch.Size([10, 2]) - This represents the dihedral features of the molecule\n",
      "Dihedral Indices:          torch.Size([12, 2]) - This represents the dihedral indices of the molecule\n",
      "Global Molecular Features: torch.Size([8, 2]) - This represents the global molecular features of the molecule\n",
      "Target: torch.Size([1]) - This represents the target of the molecule\n"
     ]
    }
   ],
   "source": [
    "         \"\"\"\n",
    "         Convert SMILES to a molecule representation\n",
    "         I.E A collection of the following vectors\n",
    "             1. Atomic Feature Vectors\n",
    "             2. Bond Feature Vectors\n",
    "             3. Bond Indices\n",
    "             4. Angle Feature Vectors\n",
    "             5. Angle Indices\n",
    "             6. Dihedral Feature Vectors\n",
    "             7. Dihedral Indices \n",
    "             8. Global Molecular Features\n",
    "         \"\"\"\n",
    "\n",
    "# Printing out the dimensions of all of these features with a description of what each feature is for a paticular molecule\n",
    "print(f\"Atomic Features:           {(train_samples[1])[0].shape} - This represents the atomic features of the molecule\")\n",
    "print(f\"Bond Features:             {(train_samples[1])[1].shape} - This represents the bond features of the molecule\")\n",
    "print(f\"Bond Indices:              {(train_samples[1])[2].shape} - This represents the bond indices of the molecule\")\n",
    "print(f\"Angle Features:            {(train_samples[1])[3].shape} - This represents the angle features of the molecule\")\n",
    "print(f\"Angle Indices:             {(train_samples[1])[4].shape} - This represents the angle indices of the molecule\")\n",
    "print(f\"Dihedral Features:         {(train_samples[1])[5].shape} - This represents the dihedral features of the molecule\")\n",
    "print(f\"Dihedral Indices:          {(train_samples[1])[6].shape} - This represents the dihedral indices of the molecule\")\n",
    "print(f\"Global Molecular Features: {(train_samples[1])[7].shape} - This represents the global molecular features of the molecule\")\n",
    "\n",
    "print(f\"Target: {(train_samples[0])[8].shape} - This represents the target of the molecule\")"
   ]
  },
  {
   "cell_type": "markdown",
   "id": "6db5eca1-c71a-4265-896f-9cc3d75c668e",
   "metadata": {},
   "source": [
    "## Know your correlations (KYC)"
   ]
  },
  {
   "cell_type": "code",
   "execution_count": 5,
   "id": "038e120d-74bc-4cb6-ad49-35a699c9a65d",
   "metadata": {},
   "outputs": [],
   "source": [
    "# Calculate R^2\n",
    "def calculate_r_squared(predictions, targets):\n",
    "    ss_tot = np.sum((targets - np.mean(targets))**2)\n",
    "    ss_res = np.sum((targets - predictions)**2)\n",
    "    r_squared = 1 - (ss_res / ss_tot)\n",
    "    return r_squared"
   ]
  },
  {
   "cell_type": "markdown",
   "id": "09698ca2-9cf3-4cd7-9a66-1212a6955f45",
   "metadata": {},
   "source": [
    "## Know your modules (KYM)"
   ]
  },
  {
   "cell_type": "code",
   "execution_count": 6,
   "id": "89e82a6c-b879-4ca7-8c25-7783e34ec942",
   "metadata": {},
   "outputs": [],
   "source": [
    "class CustomMoleculeDataset(Dataset):\n",
    "    \"\"\"A custom dataset class to work DataLoader\"\"\"\n",
    "    def __init__(self, samples, atom_autoencoder, bond_autoencoder, device):\n",
    "        self.samples = samples\n",
    "        self.atom_autoencoder = atom_autoencoder\n",
    "        self.bond_autoencoder = bond_autoencoder\n",
    "        self.device = device\n",
    "\n",
    "    def __len__(self):\n",
    "        return len(self.samples)\n",
    "\n",
    "    def __getitem__(self, idx):\n",
    "        sample = self.samples[idx]\n",
    "        processed_data = process_molecule(sample, self.atom_autoencoder, self.bond_autoencoder, self.device)\n",
    "\n",
    "        if processed_data is None:\n",
    "            return (None,) * 9\n",
    "\n",
    "        if len(processed_data) != 9:\n",
    "            raise ValueError(f\"Unexpected number of elements: {len(processed_data)}\")\n",
    "\n",
    "\n",
    "        return processed_data\n",
    "\n",
    "\n",
    "\n",
    "\n",
    "def process_molecule(molecule, atom_autoencoder, bond_autoencoder, device):\n",
    "    \"\"\"Separate input features and target\"\"\"\n",
    "    if len(molecule) < 9:\n",
    "        return None\n",
    "\n",
    "    # Extracting features and target (9th element (index 8) is the target)\n",
    "    target = molecule[8]\n",
    "    molecule_data = [mol_elem for mol_elem in molecule[:8]]\n",
    "\n",
    "    atom_features = molecule_data[0]\n",
    "    bond_features = molecule_data[1]\n",
    "\n",
    "    if len(atom_features) == 0 or len(bond_features) == 0:\n",
    "        return None\n",
    "\n",
    "   #molecule_data = [item.to(device) for item in molecule_data]\n",
    "    molecule_data = [item.to(device).detach() for item in molecule_data]\n",
    "    # Applying encoders\n",
    "    molecule_data[0] = atom_autoencoder.encode(molecule_data[0])\n",
    "    molecule_data[1] = bond_autoencoder.encode(molecule_data[1])\n",
    "\n",
    "\n",
    "    # Moving data to the device in the training loop\n",
    "    return molecule_data[0], molecule_data[1], molecule_data[2], molecule_data[3], molecule_data[4], molecule_data[5], molecule_data[6], molecule_data[7], target\n",
    "\n",
    "\n",
    "\n",
    "\n",
    "def collate_fn(batch):\n",
    "    \"\"\"Custom collate function for batching molecular data.\"\"\"\n",
    "\n",
    "\n",
    "    # Filter out None values\n",
    "    batch = [item for item in batch if item[0] is not None]\n",
    "\n",
    "    # If all samples were skipped, return empty tensors\n",
    "    if not batch:\n",
    "        return (torch.empty(0),) * 8 + (torch.empty(0),)\n",
    "\n",
    "    # Extract components from batch\n",
    "    atomic_features = [item[0] for item in batch]\n",
    "    bond_features = [item[1] for item in batch]\n",
    "    angle_features = [item[2] for item in batch]\n",
    "    dihedral_features = [item[3] for item in batch]\n",
    "    global_molecular_features = [item[4] for item in batch]\n",
    "    bond_indices = [item[5] for item in batch]\n",
    "    angle_indices = [item[6] for item in batch]\n",
    "    dihedral_indices = [item[7] for item in batch]\n",
    "    targets = [item[8] for item in batch]\n",
    "\n",
    "    # Determine the device\n",
    "    device = 'cuda' if torch.cuda.is_available() else 'cpu'\n",
    "\n",
    "    # Convert all tensors to detach and ensure they are on the same device\n",
    "    def detach_and_to_device(tensors, device):\n",
    "        return [tensor.detach().to(device) for tensor in tensors]\n",
    "\n",
    "    device = atomic_features[0].device if atomic_features else 'cpu'\n",
    "    atomic_features = detach_and_to_device(atomic_features, device)\n",
    "    bond_features = detach_and_to_device(bond_features, device)\n",
    "    angle_features = detach_and_to_device(angle_features, device)\n",
    "    dihedral_features = detach_and_to_device(dihedral_features, device)\n",
    "    global_molecular_features = detach_and_to_device(global_molecular_features, device)\n",
    "    targets = detach_and_to_device(targets, device)\n",
    "\n",
    "    # Pad sequences and stack\n",
    "    def pad_sequences(sequences):\n",
    "        lengths = [seq.size(0) for seq in sequences]\n",
    "        max_len = max(lengths, default=0)\n",
    "        return pad_sequence(sequences, batch_first=True, padding_value=0), max_len\n",
    "\n",
    "    atomic_features, _ = pad_sequences(atomic_features)\n",
    "    bond_features, max_bond_len = pad_sequences(bond_features)\n",
    "    angle_features, max_angle_len = pad_sequences(angle_features)\n",
    "    dihedral_features, max_dihedral_len = pad_sequences(dihedral_features)\n",
    "    global_molecular_features = torch.stack(global_molecular_features)\n",
    "    targets = torch.stack(targets)\n",
    "\n",
    "    # Pad indices\n",
    "    def pad_indices(indices_list, max_len):\n",
    "        padded_indices = torch.full((len(indices_list), max_len, 2), -1, dtype=torch.long)\n",
    "        for i, indices in enumerate(indices_list):\n",
    "            if indices.size(0) > 0:\n",
    "                end = min(indices.size(0), max_len)\n",
    "                padded_indices[i, :end] = indices[:end]\n",
    "        return padded_indices\n",
    "\n",
    "    bond_indices = pad_indices(bond_indices, max_bond_len)\n",
    "    angle_indices = pad_indices(angle_indices, max_angle_len)\n",
    "    dihedral_indices = pad_indices(dihedral_indices, max_dihedral_len)\n",
    "\n",
    "    # Create a batch and move to device\n",
    "    batch_tensors = (\n",
    "        atomic_features, bond_features, angle_features, dihedral_features,\n",
    "        global_molecular_features, bond_indices, angle_indices, dihedral_indices,\n",
    "        targets\n",
    "    )\n",
    "\n",
    "    # Move all tensors to the device\n",
    "    batch_tensors = tuple(tensor.to(device) for tensor in batch_tensors)\n",
    "\n",
    "    return batch_tensors\n",
    "   #return atomic_features, bond_features, angle_features, dihedral_features, global_molecular_features, bond_indices, angle_indices, dihedral_indices, targets\n",
    "\n",
    "\n",
    "\n",
    "\n",
    "def train_gnn3d_model(gnn3d, train_samples, val_samples, test_samples, atom_autoencoder, bond_autoencoder, n_epochs=10, printstep=10, save_dir=\"./models/\", dataset_name=\"logs\", batch_size=16, prefetch_factor=2, num_workers=0):\n",
    "    \"\"\"Train GNN3D\"\"\"\n",
    "    device = torch.device('cuda' if torch.cuda.is_available() else 'cpu')\n",
    "    os.makedirs(save_dir, exist_ok=True)\n",
    "    mse_loss_fn = torch.nn.MSELoss()\n",
    "    gnn_optimizer = torch.optim.Adam(gnn3d.parameters(), lr=1e-3)\n",
    "\n",
    "    dataloader_train = DataLoader(\n",
    "        CustomMoleculeDataset(train_samples, atom_autoencoder, bond_autoencoder, device=device),\n",
    "        batch_size=batch_size,\n",
    "        prefetch_factor=prefetch_factor,\n",
    "        shuffle=True,\n",
    "        num_workers=num_workers,\n",
    "        pin_memory=False,\n",
    "        collate_fn=collate_fn\n",
    "    )\n",
    "\n",
    "    dataloader_val = DataLoader(\n",
    "        CustomMoleculeDataset(val_samples, atom_autoencoder, bond_autoencoder, device=device),\n",
    "        batch_size=batch_size,\n",
    "        prefetch_factor=prefetch_factor,\n",
    "        shuffle=False,\n",
    "        num_workers=num_workers,\n",
    "        pin_memory=False,\n",
    "        collate_fn=collate_fn\n",
    "    )\n",
    "\n",
    "    dataloader_test = DataLoader(\n",
    "        CustomMoleculeDataset(test_samples, atom_autoencoder, bond_autoencoder, device=device),\n",
    "        batch_size=batch_size,\n",
    "        prefetch_factor=prefetch_factor,\n",
    "        shuffle=False,\n",
    "        num_workers=num_workers,\n",
    "        pin_memory=False,\n",
    "        collate_fn=collate_fn\n",
    "    )\n",
    "\n",
    "    gnn3d.to(device)\n",
    "    start_time = time.time()\n",
    "\n",
    "    avg_rmse_losses_train = []\n",
    "    avg_mse_losses_train = []\n",
    "    avg_rmse_losses_val = []\n",
    "    avg_mse_losses_val = []\n",
    "\n",
    "    for epoch_i in range(n_epochs):\n",
    "        # Training\n",
    "        avg_rmse_loss_train = 0\n",
    "        avg_mse_loss_train = 0\n",
    "        total_samples_train = 0\n",
    "        skipped_samples_train = 0\n",
    "\n",
    "        for batch in tqdm(dataloader_train, desc='Training samples'):\n",
    "\n",
    "\n",
    "            # Filter out None values\n",
    "            batch = [item for item in batch if item is not None]\n",
    "            if not batch:\n",
    "                skipped_samples_train += len(batch)\n",
    "                continue\n",
    "\n",
    "            atomic_features, bond_features, angle_features, dihedral_features, global_molecular_features, bond_indices, angle_indices, dihedral_indices, targets = batch\n",
    "\n",
    "\n",
    "            valid_indices = [i for i, target in enumerate(targets) if target is not None]\n",
    "            if not valid_indices:\n",
    "                skipped_samples_train += len(targets)\n",
    "                continue\n",
    "            # Only retain valid samples\n",
    "            atomic_features = atomic_features[valid_indices]\n",
    "            bond_features = bond_features[valid_indices]\n",
    "            angle_features = angle_features[valid_indices]\n",
    "            dihedral_features = dihedral_features[valid_indices]\n",
    "            global_molecular_features = global_molecular_features[valid_indices]\n",
    "            bond_indices = bond_indices[valid_indices]\n",
    "            angle_indices = angle_indices[valid_indices]\n",
    "            dihedral_indices = dihedral_indices[valid_indices]\n",
    "            targets = targets[valid_indices]\n",
    "\n",
    "\n",
    "            # Forward pass\n",
    "            total_loss = 0\n",
    "            for i in range(len(targets)):\n",
    "                molecule_data = (atomic_features[i], bond_features[i], angle_features[i], dihedral_features[i], global_molecular_features[i], bond_indices[i], angle_indices[i], dihedral_indices[i])\n",
    "                #molecule_data = (atomic_features[i], bond_features[i], global_molecular_features[i], bond_indices[i])  #2D\n",
    "                target = targets[i]\n",
    "\n",
    "                prediction = gnn3d(molecule_data)\n",
    "                loss = mse_loss_fn(prediction, target)\n",
    "                total_loss += loss\n",
    "\n",
    "#           total_loss /= len(targets)\n",
    "\n",
    "            if len(targets) > 0:\n",
    "                total_loss /= len(targets)\n",
    "            else:\n",
    "                continue  # Safeguard against division by zero\n",
    "\n",
    "\n",
    "            gnn_optimizer.zero_grad()\n",
    "            total_loss.backward()\n",
    "            gnn_optimizer.step()\n",
    "\n",
    "            avg_mse_loss_train += total_loss.item() * len(targets)\n",
    "            avg_rmse_loss_train += torch.sqrt(total_loss).item() * len(targets)\n",
    "            total_samples_train += len(targets)\n",
    "\n",
    "        avg_mse_loss_train /= total_samples_train\n",
    "        avg_rmse_loss_train /= total_samples_train\n",
    "        avg_mse_losses_train.append(avg_mse_loss_train)\n",
    "        avg_rmse_losses_train.append(avg_rmse_loss_train)\n",
    "\n",
    "\n",
    "        # Validation\n",
    "        avg_rmse_loss_val = 0\n",
    "        avg_mse_loss_val = 0\n",
    "        total_samples_val = 0\n",
    "        skipped_samples_val = 0\n",
    "\n",
    "        with torch.no_grad():\n",
    "            for batch in tqdm(dataloader_val, desc='Validation samples'):\n",
    "\n",
    "                # Filter out None values\n",
    "                batch = [item for item in batch if item is not None]\n",
    "                if not batch:\n",
    "                    skipped_samples_val += len(batch)\n",
    "                    continue\n",
    "\n",
    "                atomic_features, bond_features, angle_features, dihedral_features, global_molecular_features, bond_indices, angle_indices, dihedral_indices, targets = batch\n",
    "\n",
    "                valid_indices = [i for i, target in enumerate(targets) if target is not None]\n",
    "                if not valid_indices:\n",
    "                    skipped_samples_val += len(targets)\n",
    "                    continue\n",
    "                # Only retain valid samples\n",
    "                atomic_features = atomic_features[valid_indices]\n",
    "                bond_features = bond_features[valid_indices]\n",
    "                angle_features = angle_features[valid_indices]\n",
    "                dihedral_features = dihedral_features[valid_indices]\n",
    "                global_molecular_features = global_molecular_features[valid_indices]\n",
    "                bond_indices = bond_indices[valid_indices]\n",
    "                angle_indices = angle_indices[valid_indices]\n",
    "                dihedral_indices = dihedral_indices[valid_indices]\n",
    "                targets = targets[valid_indices]\n",
    "\n",
    "                # Forward pass\n",
    "                total_loss = 0\n",
    "                for i in range(len(targets)):\n",
    "                    molecule_data = (atomic_features[i], bond_features[i], angle_features[i], dihedral_features[i], global_molecular_features[i], bond_indices[i], angle_indices[i], dihedral_indices[i])\n",
    "                    #molecule_data = (atomic_features[i], bond_features[i], global_molecular_features[i], bond_indices[i])  #2D\n",
    "                    target = targets[i]\n",
    "\n",
    "                    prediction = gnn3d(molecule_data)\n",
    "                    loss = mse_loss_fn(prediction, target)\n",
    "                    total_loss += loss\n",
    "\n",
    "#               total_loss /= len(targets)\n",
    "\n",
    "                if len(targets) > 0:\n",
    "                    total_loss /= len(targets)\n",
    "                else:\n",
    "                    continue  # Safeguard against division by zero\n",
    "\n",
    "\n",
    "                avg_mse_loss_val += total_loss.item() * len(targets)\n",
    "                avg_rmse_loss_val += torch.sqrt(total_loss).item() * len(targets)\n",
    "                total_samples_val += len(targets)\n",
    "\n",
    "        avg_mse_loss_val /= total_samples_val\n",
    "        avg_rmse_loss_val /= total_samples_val\n",
    "        avg_mse_losses_val.append(avg_mse_loss_val)\n",
    "        avg_rmse_losses_val.append(avg_rmse_loss_val)\n",
    "\n",
    "       #if epoch_i % printstep == 0 or epoch_i == n_epochs - 1:\n",
    "        print(f\"Epoch: {epoch_i:>3} | RMSE Train  Loss: {avg_rmse_loss_train:.4f} | MSE Train Loss: {avg_mse_loss_train:.4f} | RMSE Val  Loss: {avg_rmse_loss_val:.4f} | MSE Val Loss: {avg_mse_loss_val:.4f}\")\n",
    "\n",
    "    # Saving model state\n",
    "    torch.save(gnn3d.state_dict(), os.path.join(save_dir, f\"gnn3d_{dataset_name}.pth\"))\n",
    "    print(f\"Model saved to {os.path.join(save_dir, f'gnn3d_{dataset_name}.pth')}\")\n",
    "\n",
    "    end_time = time.time()\n",
    "    actual_time = end_time - start_time\n",
    "\n",
    "    actual_time_td = datetime.timedelta(seconds=actual_time)\n",
    "    hours = actual_time_td.seconds // 3600\n",
    "    minutes = (actual_time_td.seconds // 60) % 60\n",
    "    seconds = actual_time_td.seconds % 60\n",
    "    actual_time_str = f\"{hours} hours, {minutes} minutes, {seconds} seconds\"\n",
    "\n",
    "    print(f\"Time taken for training: {actual_time_str}\")\n",
    "\n",
    "    # Evaluation on test samples\n",
    "    avg_rmse_loss_test = 0\n",
    "    avg_mse_loss_test = 0\n",
    "    total_samples_test = 0\n",
    "    skipped_samples_test = 0\n",
    "    predictions = []\n",
    "    targets = []\n",
    "\n",
    "    with torch.no_grad():\n",
    "        for batch in tqdm(dataloader_test, desc='Test samples'):\n",
    "\n",
    "            # Filter out None values\n",
    "            batch = [item for item in batch if item is not None]\n",
    "            if not batch:\n",
    "                skipped_samples_test += len(batch)\n",
    "                continue\n",
    "\n",
    "            atomic_features, bond_features, angle_features, dihedral_features, global_molecular_features, bond_indices, angle_indices, dihedral_indices, targets_batch = batch\n",
    "\n",
    "            valid_indices = [i for i, target in enumerate(targets_batch) if target is not None]\n",
    "            if not valid_indices:\n",
    "                skipped_samples_test += len(targets_batch)\n",
    "                continue\n",
    "            # Only retain valid samples\n",
    "            atomic_features = atomic_features[valid_indices]\n",
    "            bond_features = bond_features[valid_indices]\n",
    "            angle_features = angle_features[valid_indices]\n",
    "            dihedral_features = dihedral_features[valid_indices]\n",
    "            global_molecular_features = global_molecular_features[valid_indices]\n",
    "            bond_indices = bond_indices[valid_indices]\n",
    "            angle_indices = angle_indices[valid_indices]\n",
    "            dihedral_indices = dihedral_indices[valid_indices]\n",
    "            targets_batch = targets_batch[valid_indices]\n",
    "\n",
    "            # Forward pass\n",
    "            for i in range(len(targets_batch)):\n",
    "                molecule_data = (atomic_features[i], bond_features[i], angle_features[i], dihedral_features[i], global_molecular_features[i], bond_indices[i], angle_indices[i], dihedral_indices[i])\n",
    "                #molecule_data = (atomic_features[i], bond_features[i], global_molecular_features[i], bond_indices[i])  #2D\n",
    "                target = targets_batch[i]\n",
    "\n",
    "                prediction = gnn3d(molecule_data)\n",
    "                loss = mse_loss_fn(prediction, target)\n",
    "\n",
    "                # Extract target and prediction values\n",
    "                predictions.append(prediction.item())\n",
    "                targets.append(target.item())\n",
    "\n",
    "                avg_mse_loss_test += loss.item()\n",
    "                avg_rmse_loss_test += torch.sqrt(loss).item()\n",
    "                total_samples_test += 1\n",
    "\n",
    "    # Calculate average losses for test\n",
    "    avg_mse_loss_test /= total_samples_test\n",
    "    avg_rmse_loss_test /= total_samples_test\n",
    "\n",
    "    print(f\"Test Results:\")\n",
    "    print(f\"RMSE Loss: {avg_rmse_loss_test:.4f}\")\n",
    "    print(f\"MSE Loss: {avg_mse_loss_test:.4f}\")\n",
    "\n",
    "    end_time = time.time()\n",
    "    actual_time = end_time - start_time\n",
    "\n",
    "    actual_time_td = datetime.timedelta(seconds=actual_time)\n",
    "    hours = actual_time_td.seconds // 3600\n",
    "    minutes = (actual_time_td.seconds // 60) % 60\n",
    "    seconds = actual_time_td.seconds % 60\n",
    "    actual_time_str = f\"{hours} hours, {minutes} minutes, {seconds} seconds\"\n",
    "\n",
    "    print(f\"Time taken for training and evaluation: {actual_time_str}\")\n",
    "\n",
    "    return avg_rmse_losses_train, avg_mse_losses_train, avg_rmse_losses_val, avg_mse_losses_val, predictions, targets, skipped_samples_train, skipped_samples_val, skipped_samples_test"
   ]
  },
  {
   "cell_type": "markdown",
   "id": "4b63ab5a-522d-486d-a97c-509fd16c02a6",
   "metadata": {},
   "source": [
    "## Know your variables for main()"
   ]
  },
  {
   "cell_type": "code",
   "execution_count": 9,
   "id": "87e26207-b0de-48ad-b036-898e1eeee0bd",
   "metadata": {},
   "outputs": [],
   "source": [
    "def main():\n",
    "    \"\"\"Function for train, validation and test\n",
    "       Make sure to assign your local variables here too\"\"\"\n",
    "    mp.set_start_method('spawn', force=True)\n",
    "\n",
    "    datadir=\"../../../data/regression/freesolv/\"\n",
    "    modeldir=\"./models/\"\n",
    "    dataset_name=\"freesolv\"\n",
    "\n",
    "    train_samples = FreeSolvDataset(datadir+\"train\")\n",
    "    print(train_samples)\n",
    "    print(\"===================================\")\n",
    "    test_samples = FreeSolvDataset(datadir+\"test\")\n",
    "    print(test_samples)\n",
    "    print(\"===================================\")\n",
    "\n",
    "    n_epochs=10\n",
    "    printstep=2\n",
    "    batch_size=1\n",
    "    prefetch_factor=None\n",
    "    num_workers=0\n",
    "\n",
    "    rmse_losses_train = []\n",
    "    rmse_losses_val = []\n",
    "\n",
    "    random_state_values = [98, 123, 456, 1704, 19472]\n",
    "\n",
    "    for random_state in random_state_values:\n",
    "\n",
    "        print(f\"Training for random_state = {random_state}\")\n",
    "\n",
    "        gnn3d = GNN3Dihed(atomic_vector_size=10, bond_vector_size=3, number_of_molecular_features=200, number_of_targets=1).to(device)\n",
    "        train_part_samples, val_samples = train_test_split(train_samples, test_size=0.1, random_state=random_state)\n",
    "        atom_autoencoder = AtomAutoencoder(154, 10).to(device)\n",
    "        bond_autoencoder = BondAutoencoder(10, 3).to(device)\n",
    "\n",
    "        rmse_losses_train_per_model, mse_losses_train_per_model, rmse_losses_val_per_model, mse_losses_val_per_model, predictions, targets, skipped_train, skipped_val, skipped_test=train_gnn3d_model(\n",
    "            gnn3d,\n",
    "            train_part_samples,\n",
    "            val_samples,\n",
    "            test_samples,\n",
    "            atom_autoencoder,\n",
    "            bond_autoencoder,\n",
    "            n_epochs=n_epochs,\n",
    "            printstep=printstep,\n",
    "            save_dir=modeldir,\n",
    "            dataset_name=dataset_name,\n",
    "            batch_size=batch_size,\n",
    "            prefetch_factor=prefetch_factor,\n",
    "            num_workers=num_workers\n",
    "        )\n",
    "\n",
    "        rmse_losses_train.append(rmse_losses_train_per_model)\n",
    "        rmse_losses_val.append(rmse_losses_val_per_model)\n",
    "\n",
    "    return gnn3d, atom_autoencoder, bond_autoencoder, n_epochs, rmse_losses_train, rmse_losses_val, predictions, targets"
   ]
  },
  {
   "cell_type": "markdown",
   "id": "1316d293-029e-453b-83e0-eb195dfd1da2",
   "metadata": {},
   "source": [
    "## Training=================================================\n",
    "## GNN3D training for multiple models; and testing"
   ]
  },
  {
   "cell_type": "code",
   "execution_count": 10,
   "id": "6f7a4740-e72a-4ef9-b66d-f96bcc74c903",
   "metadata": {},
   "outputs": [
    {
     "name": "stdout",
     "output_type": "stream",
     "text": [
      "Loading dataset from folder\n",
      "Initializing Molecular Representation Generator\n",
      "Dataset Name: FreeSolv\n",
      "Number of Molecules Loaded: 577\n",
      "===================================\n",
      "Loading dataset from folder\n",
      "Initializing Molecular Representation Generator\n",
      "Dataset Name: FreeSolv\n",
      "Number of Molecules Loaded: 65\n",
      "===================================\n",
      "Training for random_state = 98\n"
     ]
    },
    {
     "name": "stderr",
     "output_type": "stream",
     "text": [
      "Training samples: 100%|███████████████████████████████████████████████████████████████████████████████████████████████████████████████████████████████| 519/519 [00:03<00:00, 143.73it/s]\n",
      "Validation samples: 100%|███████████████████████████████████████████████████████████████████████████████████████████████████████████████████████████████| 58/58 [00:00<00:00, 463.00it/s]\n"
     ]
    },
    {
     "name": "stdout",
     "output_type": "stream",
     "text": [
      "Epoch:   0 | RMSE Train  Loss: 2.4561 | MSE Train Loss: 12.0459 | RMSE Val  Loss: 2.0661 | MSE Val Loss: 10.4276\n"
     ]
    },
    {
     "name": "stderr",
     "output_type": "stream",
     "text": [
      "Training samples: 100%|███████████████████████████████████████████████████████████████████████████████████████████████████████████████████████████████| 519/519 [00:02<00:00, 175.92it/s]\n",
      "Validation samples: 100%|███████████████████████████████████████████████████████████████████████████████████████████████████████████████████████████████| 58/58 [00:00<00:00, 485.72it/s]\n"
     ]
    },
    {
     "name": "stdout",
     "output_type": "stream",
     "text": [
      "Epoch:   1 | RMSE Train  Loss: 1.5742 | MSE Train Loss: 5.5336 | RMSE Val  Loss: 1.5479 | MSE Val Loss: 6.1270\n"
     ]
    },
    {
     "name": "stderr",
     "output_type": "stream",
     "text": [
      "Training samples: 100%|███████████████████████████████████████████████████████████████████████████████████████████████████████████████████████████████| 519/519 [00:02<00:00, 176.94it/s]\n",
      "Validation samples: 100%|███████████████████████████████████████████████████████████████████████████████████████████████████████████████████████████████| 58/58 [00:00<00:00, 481.22it/s]\n"
     ]
    },
    {
     "name": "stdout",
     "output_type": "stream",
     "text": [
      "Epoch:   2 | RMSE Train  Loss: 1.2343 | MSE Train Loss: 3.4272 | RMSE Val  Loss: 1.4950 | MSE Val Loss: 4.2260\n"
     ]
    },
    {
     "name": "stderr",
     "output_type": "stream",
     "text": [
      "Training samples: 100%|███████████████████████████████████████████████████████████████████████████████████████████████████████████████████████████████| 519/519 [00:02<00:00, 177.21it/s]\n",
      "Validation samples: 100%|███████████████████████████████████████████████████████████████████████████████████████████████████████████████████████████████| 58/58 [00:00<00:00, 490.43it/s]\n"
     ]
    },
    {
     "name": "stdout",
     "output_type": "stream",
     "text": [
      "Epoch:   3 | RMSE Train  Loss: 1.0474 | MSE Train Loss: 2.4112 | RMSE Val  Loss: 1.4274 | MSE Val Loss: 3.8883\n"
     ]
    },
    {
     "name": "stderr",
     "output_type": "stream",
     "text": [
      "Training samples: 100%|███████████████████████████████████████████████████████████████████████████████████████████████████████████████████████████████| 519/519 [00:02<00:00, 174.57it/s]\n",
      "Validation samples: 100%|███████████████████████████████████████████████████████████████████████████████████████████████████████████████████████████████| 58/58 [00:00<00:00, 506.90it/s]\n"
     ]
    },
    {
     "name": "stdout",
     "output_type": "stream",
     "text": [
      "Epoch:   4 | RMSE Train  Loss: 0.9637 | MSE Train Loss: 2.1037 | RMSE Val  Loss: 1.2040 | MSE Val Loss: 2.9387\n"
     ]
    },
    {
     "name": "stderr",
     "output_type": "stream",
     "text": [
      "Training samples: 100%|███████████████████████████████████████████████████████████████████████████████████████████████████████████████████████████████| 519/519 [00:02<00:00, 177.75it/s]\n",
      "Validation samples: 100%|███████████████████████████████████████████████████████████████████████████████████████████████████████████████████████████████| 58/58 [00:00<00:00, 484.53it/s]\n"
     ]
    },
    {
     "name": "stdout",
     "output_type": "stream",
     "text": [
      "Epoch:   5 | RMSE Train  Loss: 0.8803 | MSE Train Loss: 1.7426 | RMSE Val  Loss: 1.1326 | MSE Val Loss: 2.5638\n"
     ]
    },
    {
     "name": "stderr",
     "output_type": "stream",
     "text": [
      "Training samples: 100%|███████████████████████████████████████████████████████████████████████████████████████████████████████████████████████████████| 519/519 [00:02<00:00, 179.42it/s]\n",
      "Validation samples: 100%|███████████████████████████████████████████████████████████████████████████████████████████████████████████████████████████████| 58/58 [00:00<00:00, 483.91it/s]\n"
     ]
    },
    {
     "name": "stdout",
     "output_type": "stream",
     "text": [
      "Epoch:   6 | RMSE Train  Loss: 0.8416 | MSE Train Loss: 1.5653 | RMSE Val  Loss: 1.4021 | MSE Val Loss: 3.3520\n"
     ]
    },
    {
     "name": "stderr",
     "output_type": "stream",
     "text": [
      "Training samples: 100%|███████████████████████████████████████████████████████████████████████████████████████████████████████████████████████████████| 519/519 [00:02<00:00, 176.88it/s]\n",
      "Validation samples: 100%|███████████████████████████████████████████████████████████████████████████████████████████████████████████████████████████████| 58/58 [00:00<00:00, 506.58it/s]\n"
     ]
    },
    {
     "name": "stdout",
     "output_type": "stream",
     "text": [
      "Epoch:   7 | RMSE Train  Loss: 0.8348 | MSE Train Loss: 1.5146 | RMSE Val  Loss: 1.1549 | MSE Val Loss: 2.8121\n"
     ]
    },
    {
     "name": "stderr",
     "output_type": "stream",
     "text": [
      "Training samples: 100%|███████████████████████████████████████████████████████████████████████████████████████████████████████████████████████████████| 519/519 [00:02<00:00, 177.07it/s]\n",
      "Validation samples: 100%|███████████████████████████████████████████████████████████████████████████████████████████████████████████████████████████████| 58/58 [00:00<00:00, 496.66it/s]\n"
     ]
    },
    {
     "name": "stdout",
     "output_type": "stream",
     "text": [
      "Epoch:   8 | RMSE Train  Loss: 0.7981 | MSE Train Loss: 1.3593 | RMSE Val  Loss: 1.0757 | MSE Val Loss: 2.4478\n"
     ]
    },
    {
     "name": "stderr",
     "output_type": "stream",
     "text": [
      "Training samples: 100%|███████████████████████████████████████████████████████████████████████████████████████████████████████████████████████████████| 519/519 [00:02<00:00, 181.10it/s]\n",
      "Validation samples: 100%|███████████████████████████████████████████████████████████████████████████████████████████████████████████████████████████████| 58/58 [00:00<00:00, 515.24it/s]\n"
     ]
    },
    {
     "name": "stdout",
     "output_type": "stream",
     "text": [
      "Epoch:   9 | RMSE Train  Loss: 0.7825 | MSE Train Loss: 1.3339 | RMSE Val  Loss: 1.0757 | MSE Val Loss: 2.5898\n",
      "Model saved to ./models/gnn3d_freesolv.pth\n",
      "Time taken for training: 0 hours, 0 minutes, 31 seconds\n"
     ]
    },
    {
     "name": "stderr",
     "output_type": "stream",
     "text": [
      "Test samples: 100%|█████████████████████████████████████████████████████████████████████████████████████████████████████████████████████████████████████| 65/65 [00:00<00:00, 458.13it/s]\n"
     ]
    },
    {
     "name": "stdout",
     "output_type": "stream",
     "text": [
      "Test Results:\n",
      "RMSE Loss: 0.9173\n",
      "MSE Loss: 1.9685\n",
      "Time taken for training and evaluation: 0 hours, 0 minutes, 31 seconds\n",
      "Training for random_state = 123\n"
     ]
    },
    {
     "name": "stderr",
     "output_type": "stream",
     "text": [
      "Training samples: 100%|███████████████████████████████████████████████████████████████████████████████████████████████████████████████████████████████| 519/519 [00:03<00:00, 172.76it/s]\n",
      "Validation samples: 100%|███████████████████████████████████████████████████████████████████████████████████████████████████████████████████████████████| 58/58 [00:00<00:00, 508.08it/s]\n"
     ]
    },
    {
     "name": "stdout",
     "output_type": "stream",
     "text": [
      "Epoch:   0 | RMSE Train  Loss: 2.3305 | MSE Train Loss: 11.3276 | RMSE Val  Loss: 1.6830 | MSE Val Loss: 4.8923\n"
     ]
    },
    {
     "name": "stderr",
     "output_type": "stream",
     "text": [
      "Training samples: 100%|███████████████████████████████████████████████████████████████████████████████████████████████████████████████████████████████| 519/519 [00:02<00:00, 178.49it/s]\n",
      "Validation samples: 100%|███████████████████████████████████████████████████████████████████████████████████████████████████████████████████████████████| 58/58 [00:00<00:00, 505.25it/s]\n"
     ]
    },
    {
     "name": "stdout",
     "output_type": "stream",
     "text": [
      "Epoch:   1 | RMSE Train  Loss: 1.4543 | MSE Train Loss: 4.7353 | RMSE Val  Loss: 1.9314 | MSE Val Loss: 5.8110\n"
     ]
    },
    {
     "name": "stderr",
     "output_type": "stream",
     "text": [
      "Training samples: 100%|███████████████████████████████████████████████████████████████████████████████████████████████████████████████████████████████| 519/519 [00:02<00:00, 180.06it/s]\n",
      "Validation samples: 100%|███████████████████████████████████████████████████████████████████████████████████████████████████████████████████████████████| 58/58 [00:00<00:00, 478.19it/s]\n"
     ]
    },
    {
     "name": "stdout",
     "output_type": "stream",
     "text": [
      "Epoch:   2 | RMSE Train  Loss: 1.1285 | MSE Train Loss: 2.7628 | RMSE Val  Loss: 1.2152 | MSE Val Loss: 2.9397\n"
     ]
    },
    {
     "name": "stderr",
     "output_type": "stream",
     "text": [
      "Training samples: 100%|███████████████████████████████████████████████████████████████████████████████████████████████████████████████████████████████| 519/519 [00:02<00:00, 175.33it/s]\n",
      "Validation samples: 100%|███████████████████████████████████████████████████████████████████████████████████████████████████████████████████████████████| 58/58 [00:00<00:00, 459.49it/s]\n"
     ]
    },
    {
     "name": "stdout",
     "output_type": "stream",
     "text": [
      "Epoch:   3 | RMSE Train  Loss: 0.9908 | MSE Train Loss: 1.9839 | RMSE Val  Loss: 1.2169 | MSE Val Loss: 2.8232\n"
     ]
    },
    {
     "name": "stderr",
     "output_type": "stream",
     "text": [
      "Training samples: 100%|███████████████████████████████████████████████████████████████████████████████████████████████████████████████████████████████| 519/519 [00:02<00:00, 175.04it/s]\n",
      "Validation samples: 100%|███████████████████████████████████████████████████████████████████████████████████████████████████████████████████████████████| 58/58 [00:00<00:00, 484.57it/s]\n"
     ]
    },
    {
     "name": "stdout",
     "output_type": "stream",
     "text": [
      "Epoch:   4 | RMSE Train  Loss: 0.9049 | MSE Train Loss: 1.6605 | RMSE Val  Loss: 1.1734 | MSE Val Loss: 2.8406\n"
     ]
    },
    {
     "name": "stderr",
     "output_type": "stream",
     "text": [
      "Training samples: 100%|███████████████████████████████████████████████████████████████████████████████████████████████████████████████████████████████| 519/519 [00:02<00:00, 179.53it/s]\n",
      "Validation samples: 100%|███████████████████████████████████████████████████████████████████████████████████████████████████████████████████████████████| 58/58 [00:00<00:00, 500.14it/s]\n"
     ]
    },
    {
     "name": "stdout",
     "output_type": "stream",
     "text": [
      "Epoch:   5 | RMSE Train  Loss: 0.8468 | MSE Train Loss: 1.4963 | RMSE Val  Loss: 1.1249 | MSE Val Loss: 2.7903\n"
     ]
    },
    {
     "name": "stderr",
     "output_type": "stream",
     "text": [
      "Training samples: 100%|███████████████████████████████████████████████████████████████████████████████████████████████████████████████████████████████| 519/519 [00:03<00:00, 170.28it/s]\n",
      "Validation samples: 100%|███████████████████████████████████████████████████████████████████████████████████████████████████████████████████████████████| 58/58 [00:00<00:00, 464.64it/s]\n"
     ]
    },
    {
     "name": "stdout",
     "output_type": "stream",
     "text": [
      "Epoch:   6 | RMSE Train  Loss: 0.7965 | MSE Train Loss: 1.3112 | RMSE Val  Loss: 1.1333 | MSE Val Loss: 2.6616\n"
     ]
    },
    {
     "name": "stderr",
     "output_type": "stream",
     "text": [
      "Training samples: 100%|███████████████████████████████████████████████████████████████████████████████████████████████████████████████████████████████| 519/519 [00:03<00:00, 169.69it/s]\n",
      "Validation samples: 100%|███████████████████████████████████████████████████████████████████████████████████████████████████████████████████████████████| 58/58 [00:00<00:00, 533.14it/s]\n"
     ]
    },
    {
     "name": "stdout",
     "output_type": "stream",
     "text": [
      "Epoch:   7 | RMSE Train  Loss: 0.7780 | MSE Train Loss: 1.2751 | RMSE Val  Loss: 1.1450 | MSE Val Loss: 2.9156\n"
     ]
    },
    {
     "name": "stderr",
     "output_type": "stream",
     "text": [
      "Training samples: 100%|███████████████████████████████████████████████████████████████████████████████████████████████████████████████████████████████| 519/519 [00:02<00:00, 182.26it/s]\n",
      "Validation samples: 100%|███████████████████████████████████████████████████████████████████████████████████████████████████████████████████████████████| 58/58 [00:00<00:00, 503.47it/s]\n"
     ]
    },
    {
     "name": "stdout",
     "output_type": "stream",
     "text": [
      "Epoch:   8 | RMSE Train  Loss: 0.7728 | MSE Train Loss: 1.1631 | RMSE Val  Loss: 1.1486 | MSE Val Loss: 3.0586\n"
     ]
    },
    {
     "name": "stderr",
     "output_type": "stream",
     "text": [
      "Training samples: 100%|███████████████████████████████████████████████████████████████████████████████████████████████████████████████████████████████| 519/519 [00:02<00:00, 175.38it/s]\n",
      "Validation samples: 100%|███████████████████████████████████████████████████████████████████████████████████████████████████████████████████████████████| 58/58 [00:00<00:00, 513.48it/s]\n"
     ]
    },
    {
     "name": "stdout",
     "output_type": "stream",
     "text": [
      "Epoch:   9 | RMSE Train  Loss: 0.7362 | MSE Train Loss: 1.0931 | RMSE Val  Loss: 1.3079 | MSE Val Loss: 3.4778\n",
      "Model saved to ./models/gnn3d_freesolv.pth\n",
      "Time taken for training: 0 hours, 0 minutes, 30 seconds\n"
     ]
    },
    {
     "name": "stderr",
     "output_type": "stream",
     "text": [
      "Test samples: 100%|█████████████████████████████████████████████████████████████████████████████████████████████████████████████████████████████████████| 65/65 [00:00<00:00, 510.03it/s]\n"
     ]
    },
    {
     "name": "stdout",
     "output_type": "stream",
     "text": [
      "Test Results:\n",
      "RMSE Loss: 1.0643\n",
      "MSE Loss: 2.4793\n",
      "Time taken for training and evaluation: 0 hours, 0 minutes, 30 seconds\n",
      "Training for random_state = 456\n"
     ]
    },
    {
     "name": "stderr",
     "output_type": "stream",
     "text": [
      "Training samples: 100%|███████████████████████████████████████████████████████████████████████████████████████████████████████████████████████████████| 519/519 [00:03<00:00, 169.67it/s]\n",
      "Validation samples: 100%|███████████████████████████████████████████████████████████████████████████████████████████████████████████████████████████████| 58/58 [00:00<00:00, 505.39it/s]\n"
     ]
    },
    {
     "name": "stdout",
     "output_type": "stream",
     "text": [
      "Epoch:   0 | RMSE Train  Loss: 2.3886 | MSE Train Loss: 11.3770 | RMSE Val  Loss: 1.3729 | MSE Val Loss: 3.2062\n"
     ]
    },
    {
     "name": "stderr",
     "output_type": "stream",
     "text": [
      "Training samples: 100%|███████████████████████████████████████████████████████████████████████████████████████████████████████████████████████████████| 519/519 [00:02<00:00, 180.17it/s]\n",
      "Validation samples: 100%|███████████████████████████████████████████████████████████████████████████████████████████████████████████████████████████████| 58/58 [00:00<00:00, 508.23it/s]\n"
     ]
    },
    {
     "name": "stdout",
     "output_type": "stream",
     "text": [
      "Epoch:   1 | RMSE Train  Loss: 1.4296 | MSE Train Loss: 4.5625 | RMSE Val  Loss: 0.9671 | MSE Val Loss: 1.5219\n"
     ]
    },
    {
     "name": "stderr",
     "output_type": "stream",
     "text": [
      "Training samples: 100%|███████████████████████████████████████████████████████████████████████████████████████████████████████████████████████████████| 519/519 [00:02<00:00, 179.94it/s]\n",
      "Validation samples: 100%|███████████████████████████████████████████████████████████████████████████████████████████████████████████████████████████████| 58/58 [00:00<00:00, 483.15it/s]\n"
     ]
    },
    {
     "name": "stdout",
     "output_type": "stream",
     "text": [
      "Epoch:   2 | RMSE Train  Loss: 1.1709 | MSE Train Loss: 2.8766 | RMSE Val  Loss: 0.9044 | MSE Val Loss: 1.4142\n"
     ]
    },
    {
     "name": "stderr",
     "output_type": "stream",
     "text": [
      "Training samples: 100%|███████████████████████████████████████████████████████████████████████████████████████████████████████████████████████████████| 519/519 [00:02<00:00, 178.38it/s]\n",
      "Validation samples: 100%|███████████████████████████████████████████████████████████████████████████████████████████████████████████████████████████████| 58/58 [00:00<00:00, 576.29it/s]\n"
     ]
    },
    {
     "name": "stdout",
     "output_type": "stream",
     "text": [
      "Epoch:   3 | RMSE Train  Loss: 1.0321 | MSE Train Loss: 2.2012 | RMSE Val  Loss: 0.8773 | MSE Val Loss: 1.3812\n"
     ]
    },
    {
     "name": "stderr",
     "output_type": "stream",
     "text": [
      "Training samples: 100%|███████████████████████████████████████████████████████████████████████████████████████████████████████████████████████████████| 519/519 [00:02<00:00, 181.22it/s]\n",
      "Validation samples: 100%|███████████████████████████████████████████████████████████████████████████████████████████████████████████████████████████████| 58/58 [00:00<00:00, 537.86it/s]\n"
     ]
    },
    {
     "name": "stdout",
     "output_type": "stream",
     "text": [
      "Epoch:   4 | RMSE Train  Loss: 0.9647 | MSE Train Loss: 1.8965 | RMSE Val  Loss: 0.9044 | MSE Val Loss: 1.3050\n"
     ]
    },
    {
     "name": "stderr",
     "output_type": "stream",
     "text": [
      "Training samples: 100%|███████████████████████████████████████████████████████████████████████████████████████████████████████████████████████████████| 519/519 [00:02<00:00, 184.12it/s]\n",
      "Validation samples: 100%|███████████████████████████████████████████████████████████████████████████████████████████████████████████████████████████████| 58/58 [00:00<00:00, 530.19it/s]\n"
     ]
    },
    {
     "name": "stdout",
     "output_type": "stream",
     "text": [
      "Epoch:   5 | RMSE Train  Loss: 0.8997 | MSE Train Loss: 1.6715 | RMSE Val  Loss: 0.9781 | MSE Val Loss: 1.6569\n"
     ]
    },
    {
     "name": "stderr",
     "output_type": "stream",
     "text": [
      "Training samples: 100%|███████████████████████████████████████████████████████████████████████████████████████████████████████████████████████████████| 519/519 [00:02<00:00, 183.10it/s]\n",
      "Validation samples: 100%|███████████████████████████████████████████████████████████████████████████████████████████████████████████████████████████████| 58/58 [00:00<00:00, 574.60it/s]\n"
     ]
    },
    {
     "name": "stdout",
     "output_type": "stream",
     "text": [
      "Epoch:   6 | RMSE Train  Loss: 0.8699 | MSE Train Loss: 1.5499 | RMSE Val  Loss: 0.8740 | MSE Val Loss: 1.2713\n"
     ]
    },
    {
     "name": "stderr",
     "output_type": "stream",
     "text": [
      "Training samples: 100%|███████████████████████████████████████████████████████████████████████████████████████████████████████████████████████████████| 519/519 [00:03<00:00, 172.04it/s]\n",
      "Validation samples: 100%|███████████████████████████████████████████████████████████████████████████████████████████████████████████████████████████████| 58/58 [00:00<00:00, 550.01it/s]\n"
     ]
    },
    {
     "name": "stdout",
     "output_type": "stream",
     "text": [
      "Epoch:   7 | RMSE Train  Loss: 0.8799 | MSE Train Loss: 1.5149 | RMSE Val  Loss: 0.8628 | MSE Val Loss: 1.2857\n"
     ]
    },
    {
     "name": "stderr",
     "output_type": "stream",
     "text": [
      "Training samples: 100%|███████████████████████████████████████████████████████████████████████████████████████████████████████████████████████████████| 519/519 [00:02<00:00, 179.16it/s]\n",
      "Validation samples: 100%|███████████████████████████████████████████████████████████████████████████████████████████████████████████████████████████████| 58/58 [00:00<00:00, 512.54it/s]\n"
     ]
    },
    {
     "name": "stdout",
     "output_type": "stream",
     "text": [
      "Epoch:   8 | RMSE Train  Loss: 0.8571 | MSE Train Loss: 1.4014 | RMSE Val  Loss: 0.8209 | MSE Val Loss: 1.1148\n"
     ]
    },
    {
     "name": "stderr",
     "output_type": "stream",
     "text": [
      "Training samples: 100%|███████████████████████████████████████████████████████████████████████████████████████████████████████████████████████████████| 519/519 [00:02<00:00, 177.40it/s]\n",
      "Validation samples: 100%|███████████████████████████████████████████████████████████████████████████████████████████████████████████████████████████████| 58/58 [00:00<00:00, 525.12it/s]\n"
     ]
    },
    {
     "name": "stdout",
     "output_type": "stream",
     "text": [
      "Epoch:   9 | RMSE Train  Loss: 0.8466 | MSE Train Loss: 1.3413 | RMSE Val  Loss: 0.8127 | MSE Val Loss: 1.1281\n",
      "Model saved to ./models/gnn3d_freesolv.pth\n",
      "Time taken for training: 0 hours, 0 minutes, 30 seconds\n"
     ]
    },
    {
     "name": "stderr",
     "output_type": "stream",
     "text": [
      "Test samples: 100%|█████████████████████████████████████████████████████████████████████████████████████████████████████████████████████████████████████| 65/65 [00:00<00:00, 521.68it/s]\n"
     ]
    },
    {
     "name": "stdout",
     "output_type": "stream",
     "text": [
      "Test Results:\n",
      "RMSE Loss: 0.9168\n",
      "MSE Loss: 1.8995\n",
      "Time taken for training and evaluation: 0 hours, 0 minutes, 30 seconds\n",
      "Training for random_state = 1704\n"
     ]
    },
    {
     "name": "stderr",
     "output_type": "stream",
     "text": [
      "Training samples: 100%|███████████████████████████████████████████████████████████████████████████████████████████████████████████████████████████████| 519/519 [00:02<00:00, 176.74it/s]\n",
      "Validation samples: 100%|███████████████████████████████████████████████████████████████████████████████████████████████████████████████████████████████| 58/58 [00:00<00:00, 544.05it/s]\n"
     ]
    },
    {
     "name": "stdout",
     "output_type": "stream",
     "text": [
      "Epoch:   0 | RMSE Train  Loss: 2.2865 | MSE Train Loss: 10.1851 | RMSE Val  Loss: 1.5183 | MSE Val Loss: 5.2852\n"
     ]
    },
    {
     "name": "stderr",
     "output_type": "stream",
     "text": [
      "Training samples: 100%|███████████████████████████████████████████████████████████████████████████████████████████████████████████████████████████████| 519/519 [00:02<00:00, 183.02it/s]\n",
      "Validation samples: 100%|███████████████████████████████████████████████████████████████████████████████████████████████████████████████████████████████| 58/58 [00:00<00:00, 542.20it/s]\n"
     ]
    },
    {
     "name": "stdout",
     "output_type": "stream",
     "text": [
      "Epoch:   1 | RMSE Train  Loss: 1.4168 | MSE Train Loss: 4.3544 | RMSE Val  Loss: 1.1930 | MSE Val Loss: 3.0710\n"
     ]
    },
    {
     "name": "stderr",
     "output_type": "stream",
     "text": [
      "Training samples: 100%|███████████████████████████████████████████████████████████████████████████████████████████████████████████████████████████████| 519/519 [00:02<00:00, 182.28it/s]\n",
      "Validation samples: 100%|███████████████████████████████████████████████████████████████████████████████████████████████████████████████████████████████| 58/58 [00:00<00:00, 538.29it/s]\n"
     ]
    },
    {
     "name": "stdout",
     "output_type": "stream",
     "text": [
      "Epoch:   2 | RMSE Train  Loss: 1.0939 | MSE Train Loss: 2.7036 | RMSE Val  Loss: 1.2002 | MSE Val Loss: 2.6592\n"
     ]
    },
    {
     "name": "stderr",
     "output_type": "stream",
     "text": [
      "Training samples: 100%|███████████████████████████████████████████████████████████████████████████████████████████████████████████████████████████████| 519/519 [00:02<00:00, 176.74it/s]\n",
      "Validation samples: 100%|███████████████████████████████████████████████████████████████████████████████████████████████████████████████████████████████| 58/58 [00:00<00:00, 526.90it/s]\n"
     ]
    },
    {
     "name": "stdout",
     "output_type": "stream",
     "text": [
      "Epoch:   3 | RMSE Train  Loss: 1.0008 | MSE Train Loss: 2.1115 | RMSE Val  Loss: 1.1278 | MSE Val Loss: 2.1133\n"
     ]
    },
    {
     "name": "stderr",
     "output_type": "stream",
     "text": [
      "Training samples: 100%|███████████████████████████████████████████████████████████████████████████████████████████████████████████████████████████████| 519/519 [00:02<00:00, 184.44it/s]\n",
      "Validation samples: 100%|███████████████████████████████████████████████████████████████████████████████████████████████████████████████████████████████| 58/58 [00:00<00:00, 522.90it/s]\n"
     ]
    },
    {
     "name": "stdout",
     "output_type": "stream",
     "text": [
      "Epoch:   4 | RMSE Train  Loss: 0.9625 | MSE Train Loss: 1.8297 | RMSE Val  Loss: 0.9346 | MSE Val Loss: 1.6179\n"
     ]
    },
    {
     "name": "stderr",
     "output_type": "stream",
     "text": [
      "Training samples: 100%|███████████████████████████████████████████████████████████████████████████████████████████████████████████████████████████████| 519/519 [00:02<00:00, 182.98it/s]\n",
      "Validation samples: 100%|███████████████████████████████████████████████████████████████████████████████████████████████████████████████████████████████| 58/58 [00:00<00:00, 558.75it/s]\n"
     ]
    },
    {
     "name": "stdout",
     "output_type": "stream",
     "text": [
      "Epoch:   5 | RMSE Train  Loss: 0.8996 | MSE Train Loss: 1.6732 | RMSE Val  Loss: 1.0609 | MSE Val Loss: 1.9140\n"
     ]
    },
    {
     "name": "stderr",
     "output_type": "stream",
     "text": [
      "Training samples: 100%|███████████████████████████████████████████████████████████████████████████████████████████████████████████████████████████████| 519/519 [00:02<00:00, 184.53it/s]\n",
      "Validation samples: 100%|███████████████████████████████████████████████████████████████████████████████████████████████████████████████████████████████| 58/58 [00:00<00:00, 518.38it/s]\n"
     ]
    },
    {
     "name": "stdout",
     "output_type": "stream",
     "text": [
      "Epoch:   6 | RMSE Train  Loss: 0.8589 | MSE Train Loss: 1.5166 | RMSE Val  Loss: 0.8828 | MSE Val Loss: 1.3993\n"
     ]
    },
    {
     "name": "stderr",
     "output_type": "stream",
     "text": [
      "Training samples: 100%|███████████████████████████████████████████████████████████████████████████████████████████████████████████████████████████████| 519/519 [00:02<00:00, 178.58it/s]\n",
      "Validation samples: 100%|███████████████████████████████████████████████████████████████████████████████████████████████████████████████████████████████| 58/58 [00:00<00:00, 555.29it/s]\n"
     ]
    },
    {
     "name": "stdout",
     "output_type": "stream",
     "text": [
      "Epoch:   7 | RMSE Train  Loss: 0.8318 | MSE Train Loss: 1.4435 | RMSE Val  Loss: 0.8993 | MSE Val Loss: 1.4839\n"
     ]
    },
    {
     "name": "stderr",
     "output_type": "stream",
     "text": [
      "Training samples: 100%|███████████████████████████████████████████████████████████████████████████████████████████████████████████████████████████████| 519/519 [00:02<00:00, 183.05it/s]\n",
      "Validation samples: 100%|███████████████████████████████████████████████████████████████████████████████████████████████████████████████████████████████| 58/58 [00:00<00:00, 532.75it/s]\n"
     ]
    },
    {
     "name": "stdout",
     "output_type": "stream",
     "text": [
      "Epoch:   8 | RMSE Train  Loss: 0.7956 | MSE Train Loss: 1.2925 | RMSE Val  Loss: 0.9284 | MSE Val Loss: 1.5397\n"
     ]
    },
    {
     "name": "stderr",
     "output_type": "stream",
     "text": [
      "Training samples: 100%|███████████████████████████████████████████████████████████████████████████████████████████████████████████████████████████████| 519/519 [00:02<00:00, 181.88it/s]\n",
      "Validation samples: 100%|███████████████████████████████████████████████████████████████████████████████████████████████████████████████████████████████| 58/58 [00:00<00:00, 545.58it/s]\n"
     ]
    },
    {
     "name": "stdout",
     "output_type": "stream",
     "text": [
      "Epoch:   9 | RMSE Train  Loss: 0.7851 | MSE Train Loss: 1.2513 | RMSE Val  Loss: 0.8113 | MSE Val Loss: 1.2946\n",
      "Model saved to ./models/gnn3d_freesolv.pth\n",
      "Time taken for training: 0 hours, 0 minutes, 29 seconds\n"
     ]
    },
    {
     "name": "stderr",
     "output_type": "stream",
     "text": [
      "Test samples: 100%|█████████████████████████████████████████████████████████████████████████████████████████████████████████████████████████████████████| 65/65 [00:00<00:00, 532.42it/s]\n"
     ]
    },
    {
     "name": "stdout",
     "output_type": "stream",
     "text": [
      "Test Results:\n",
      "RMSE Loss: 0.9692\n",
      "MSE Loss: 2.0519\n",
      "Time taken for training and evaluation: 0 hours, 0 minutes, 29 seconds\n",
      "Training for random_state = 19472\n"
     ]
    },
    {
     "name": "stderr",
     "output_type": "stream",
     "text": [
      "Training samples: 100%|███████████████████████████████████████████████████████████████████████████████████████████████████████████████████████████████| 519/519 [00:02<00:00, 179.95it/s]\n",
      "Validation samples: 100%|███████████████████████████████████████████████████████████████████████████████████████████████████████████████████████████████| 58/58 [00:00<00:00, 543.80it/s]\n"
     ]
    },
    {
     "name": "stdout",
     "output_type": "stream",
     "text": [
      "Epoch:   0 | RMSE Train  Loss: 2.4881 | MSE Train Loss: 12.0598 | RMSE Val  Loss: 1.7933 | MSE Val Loss: 6.6419\n"
     ]
    },
    {
     "name": "stderr",
     "output_type": "stream",
     "text": [
      "Training samples: 100%|███████████████████████████████████████████████████████████████████████████████████████████████████████████████████████████████| 519/519 [00:02<00:00, 184.94it/s]\n",
      "Validation samples: 100%|███████████████████████████████████████████████████████████████████████████████████████████████████████████████████████████████| 58/58 [00:00<00:00, 540.42it/s]\n"
     ]
    },
    {
     "name": "stdout",
     "output_type": "stream",
     "text": [
      "Epoch:   1 | RMSE Train  Loss: 1.4548 | MSE Train Loss: 4.9990 | RMSE Val  Loss: 1.2021 | MSE Val Loss: 3.0930\n"
     ]
    },
    {
     "name": "stderr",
     "output_type": "stream",
     "text": [
      "Training samples: 100%|███████████████████████████████████████████████████████████████████████████████████████████████████████████████████████████████| 519/519 [00:02<00:00, 183.63it/s]\n",
      "Validation samples: 100%|███████████████████████████████████████████████████████████████████████████████████████████████████████████████████████████████| 58/58 [00:00<00:00, 558.88it/s]\n"
     ]
    },
    {
     "name": "stdout",
     "output_type": "stream",
     "text": [
      "Epoch:   2 | RMSE Train  Loss: 1.1529 | MSE Train Loss: 3.0494 | RMSE Val  Loss: 1.1497 | MSE Val Loss: 2.3811\n"
     ]
    },
    {
     "name": "stderr",
     "output_type": "stream",
     "text": [
      "Training samples: 100%|███████████████████████████████████████████████████████████████████████████████████████████████████████████████████████████████| 519/519 [00:02<00:00, 180.99it/s]\n",
      "Validation samples: 100%|███████████████████████████████████████████████████████████████████████████████████████████████████████████████████████████████| 58/58 [00:00<00:00, 530.01it/s]\n"
     ]
    },
    {
     "name": "stdout",
     "output_type": "stream",
     "text": [
      "Epoch:   3 | RMSE Train  Loss: 1.0018 | MSE Train Loss: 2.2096 | RMSE Val  Loss: 1.2156 | MSE Val Loss: 2.4387\n"
     ]
    },
    {
     "name": "stderr",
     "output_type": "stream",
     "text": [
      "Training samples: 100%|███████████████████████████████████████████████████████████████████████████████████████████████████████████████████████████████| 519/519 [00:02<00:00, 183.74it/s]\n",
      "Validation samples: 100%|███████████████████████████████████████████████████████████████████████████████████████████████████████████████████████████████| 58/58 [00:00<00:00, 556.55it/s]\n"
     ]
    },
    {
     "name": "stdout",
     "output_type": "stream",
     "text": [
      "Epoch:   4 | RMSE Train  Loss: 0.9508 | MSE Train Loss: 1.9550 | RMSE Val  Loss: 1.1240 | MSE Val Loss: 2.1798\n"
     ]
    },
    {
     "name": "stderr",
     "output_type": "stream",
     "text": [
      "Training samples: 100%|███████████████████████████████████████████████████████████████████████████████████████████████████████████████████████████████| 519/519 [00:02<00:00, 183.85it/s]\n",
      "Validation samples: 100%|███████████████████████████████████████████████████████████████████████████████████████████████████████████████████████████████| 58/58 [00:00<00:00, 519.55it/s]\n"
     ]
    },
    {
     "name": "stdout",
     "output_type": "stream",
     "text": [
      "Epoch:   5 | RMSE Train  Loss: 0.9046 | MSE Train Loss: 1.6985 | RMSE Val  Loss: 1.4319 | MSE Val Loss: 2.8883\n"
     ]
    },
    {
     "name": "stderr",
     "output_type": "stream",
     "text": [
      "Training samples: 100%|███████████████████████████████████████████████████████████████████████████████████████████████████████████████████████████████| 519/519 [00:02<00:00, 186.74it/s]\n",
      "Validation samples: 100%|███████████████████████████████████████████████████████████████████████████████████████████████████████████████████████████████| 58/58 [00:00<00:00, 571.45it/s]\n"
     ]
    },
    {
     "name": "stdout",
     "output_type": "stream",
     "text": [
      "Epoch:   6 | RMSE Train  Loss: 0.8780 | MSE Train Loss: 1.5314 | RMSE Val  Loss: 0.9656 | MSE Val Loss: 1.7995\n"
     ]
    },
    {
     "name": "stderr",
     "output_type": "stream",
     "text": [
      "Training samples: 100%|███████████████████████████████████████████████████████████████████████████████████████████████████████████████████████████████| 519/519 [00:02<00:00, 181.22it/s]\n",
      "Validation samples: 100%|███████████████████████████████████████████████████████████████████████████████████████████████████████████████████████████████| 58/58 [00:00<00:00, 502.02it/s]\n"
     ]
    },
    {
     "name": "stdout",
     "output_type": "stream",
     "text": [
      "Epoch:   7 | RMSE Train  Loss: 0.8498 | MSE Train Loss: 1.4748 | RMSE Val  Loss: 1.0064 | MSE Val Loss: 1.8703\n"
     ]
    },
    {
     "name": "stderr",
     "output_type": "stream",
     "text": [
      "Training samples: 100%|███████████████████████████████████████████████████████████████████████████████████████████████████████████████████████████████| 519/519 [00:02<00:00, 182.84it/s]\n",
      "Validation samples: 100%|███████████████████████████████████████████████████████████████████████████████████████████████████████████████████████████████| 58/58 [00:00<00:00, 569.91it/s]\n"
     ]
    },
    {
     "name": "stdout",
     "output_type": "stream",
     "text": [
      "Epoch:   8 | RMSE Train  Loss: 0.8518 | MSE Train Loss: 1.3722 | RMSE Val  Loss: 0.9893 | MSE Val Loss: 1.8363\n"
     ]
    },
    {
     "name": "stderr",
     "output_type": "stream",
     "text": [
      "Training samples: 100%|███████████████████████████████████████████████████████████████████████████████████████████████████████████████████████████████| 519/519 [00:02<00:00, 184.51it/s]\n",
      "Validation samples: 100%|███████████████████████████████████████████████████████████████████████████████████████████████████████████████████████████████| 58/58 [00:00<00:00, 498.24it/s]\n"
     ]
    },
    {
     "name": "stdout",
     "output_type": "stream",
     "text": [
      "Epoch:   9 | RMSE Train  Loss: 0.8166 | MSE Train Loss: 1.3522 | RMSE Val  Loss: 0.9099 | MSE Val Loss: 1.6630\n",
      "Model saved to ./models/gnn3d_freesolv.pth\n",
      "Time taken for training: 0 hours, 0 minutes, 29 seconds\n"
     ]
    },
    {
     "name": "stderr",
     "output_type": "stream",
     "text": [
      "Test samples: 100%|█████████████████████████████████████████████████████████████████████████████████████████████████████████████████████████████████████| 65/65 [00:00<00:00, 511.66it/s]\n"
     ]
    },
    {
     "name": "stdout",
     "output_type": "stream",
     "text": [
      "Test Results:\n",
      "RMSE Loss: 0.9667\n",
      "MSE Loss: 2.1139\n",
      "Time taken for training and evaluation: 0 hours, 0 minutes, 29 seconds\n",
      "RMSE Losses Train: [[2.4560715003739433, 1.5741684625718406, 1.2342754088787216, 1.0474483888732675, 0.9636637924637409, 0.8803032447004364, 0.8415519931929649, 0.8347919044840313, 0.7981099285659073, 0.7824708464374203], [2.330503184097121, 1.4543295673207741, 1.128521088173394, 0.9907610515179203, 0.9049077810206395, 0.8468105664659786, 0.7965198347563918, 0.7780339536266061, 0.7728012998324598, 0.7362365728829178], [2.388618159902808, 1.4296261829706285, 1.170923802606862, 1.032136312454422, 0.9646613587749142, 0.8996693644105584, 0.8699276497684463, 0.8799124963165248, 0.8571289518636316, 0.8466341149829946], [2.2865472806901144, 1.4167765675683242, 1.0938658337171596, 1.0007895362314, 0.9624932467478089, 0.8996418339123157, 0.8588764604059028, 0.8317638463941842, 0.7955749094062745, 0.7850816358088988], [2.4880889947014735, 1.454844382636407, 1.1528725499190347, 1.0017526608843335, 0.9508424080075671, 0.9045512938947347, 0.8779792480443485, 0.8498481752526783, 0.851814480746068, 0.8166347631829323]]\n",
      "RMSE Losses Val: [[2.0661232039846222, 1.5478517104839455, 1.4950135622558922, 1.4273750874502906, 1.2039954898686245, 1.132611561951966, 1.4021362898678615, 1.1548759772859771, 1.0757092741029015, 1.0757386396671165], [1.683043629958712, 1.9314217896297061, 1.2151574697987786, 1.2168605980174294, 1.1733888680564946, 1.1248698666177948, 1.1333292018750618, 1.1450391098343093, 1.1485825602350563, 1.3078551225621124], [1.3728575809248562, 0.9671148770842058, 0.9044406285573696, 0.8772657454527658, 0.904408403511705, 0.978131065594739, 0.8740433002340382, 0.8628377466109293, 0.820860944174487, 0.8126982899125794], [1.5182762289869374, 1.192979680053119, 1.200185468741532, 1.1277955667725925, 0.9346498510447042, 1.0609037927512466, 0.8827730083260042, 0.8993025198578835, 0.9283769482682491, 0.811288035892207], [1.7932612752092296, 1.2021207665574962, 1.1496748387299736, 1.2155549567642396, 1.1239891328431408, 1.431860856454948, 0.9655864256723173, 1.0064350099399173, 0.9893003853744474, 0.9099189334645353]]\n"
     ]
    },
    {
     "data": {
      "image/png": "[encoded data removed]",
      "text/plain": [
       "<Figure size 1000x600 with 1 Axes>"
      ]
     },
     "metadata": {},
     "output_type": "display_data"
    },
    {
     "name": "stdout",
     "output_type": "stream",
     "text": [
      "Epoch | Average Training Loss | Average Validation Loss\n",
      "    0 | 2.3900                | 1.6867\n",
      "    1 | 1.4659                | 1.3683\n",
      "    2 | 1.1561                | 1.1929\n",
      "    3 | 1.0146                | 1.1730\n",
      "    4 | 0.9493                | 1.0681\n",
      "    5 | 0.8862                | 1.1457\n",
      "    6 | 0.8490                | 1.0516\n",
      "    7 | 0.8349                | 1.0137\n",
      "    8 | 0.8151                | 0.9926\n",
      "    9 | 0.7934                | 0.9835\n",
      "Pearson Correlation Coefficient: 0.9264\n",
      "Coefficient of Determination R^2: 0.8499\n"
     ]
    }
   ],
   "source": [
    "if __name__ == '__main__':\n",
    "    gnn3d, atom_autoencoder, bond_autoencoder, n_epochs, rmse_losses_train, rmse_losses_val, predictions, targets = main()\n",
    "\n",
    "    print(\"RMSE Losses Train:\", rmse_losses_train)\n",
    "    print(\"RMSE Losses Val:\", rmse_losses_val)\n",
    "\n",
    "    plt.figure(figsize=(10, 6))\n",
    "    for i, train_losses in enumerate(rmse_losses_train):\n",
    "        plt.plot(range(1, n_epochs + 1), train_losses, marker='o', color=f'C{i}', label=f'Model {i+1}: Training Loss')\n",
    "\n",
    "    for i, val_losses in enumerate(rmse_losses_val):\n",
    "        plt.plot(range(1, n_epochs + 1), val_losses, marker='x', color=f'C{i}', label=f'Model {i+1}: Validation Loss')\n",
    "\n",
    "    # Calculate and plot average losses for training and validation from various models\n",
    "    avg_train_losses = [sum(losses) / len(losses) for losses in zip(*rmse_losses_train)]\n",
    "    avg_val_losses = [sum(losses) / len(losses) for losses in zip(*rmse_losses_val)]\n",
    "\n",
    "    plt.plot(range(1, n_epochs + 1), avg_train_losses, marker='o', color='black', linestyle='--', label='Average Training Loss')\n",
    "    plt.plot(range(1, n_epochs + 1), avg_val_losses, marker='x', color='black', linestyle='--', label='Average Validation Loss')\n",
    "\n",
    "    plt.xlabel('Epochs')\n",
    "    plt.ylabel('RMSE Loss')\n",
    "    plt.title('RMSE Loss vs. Epochs for Multiple Models')\n",
    "    plt.legend()\n",
    "    plt.grid(True)\n",
    "    plt.tight_layout()\n",
    "    plt.savefig(f\"{modeldir}gnn3d_losses_{dataset_name}_multi_models.png\")\n",
    "    plt.savefig(f\"{modeldir}gnn3d_losses_{dataset_name}_multi_models.svg\", format='svg')\n",
    "    plt.show()\n",
    "\n",
    "    print(f\"Epoch | Average Training Loss | Average Validation Loss\")\n",
    "    for i in range(n_epochs):\n",
    "        print(f\" {i:>4} | {avg_train_losses[i]:.4f}                | {avg_val_losses[i]:.4f}\")\n",
    "\n",
    "## Know your correlations (KYC)=============================\n",
    "\n",
    "    # Convert lists to NumPy arrays\n",
    "    predictions = np.array(predictions)\n",
    "    targets = np.array(targets)\n",
    "\n",
    "    # Calculate Pearson correlation coefficient\n",
    "    corr, _ = pearsonr(predictions, targets)\n",
    "\n",
    "    print(f\"Pearson Correlation Coefficient: {corr:.4f}\")\n",
    "\n",
    "    r_squared = calculate_r_squared(predictions, targets)\n",
    "    print(f\"Coefficient of Determination R^2: {r_squared:.4f}\")"
   ]
  },
  {
   "cell_type": "code",
   "execution_count": null,
   "id": "626e8391-6b9a-4356-82f8-2d12440afe90",
   "metadata": {},
   "outputs": [],
   "source": []
  }
 ],
 "metadata": {
  "kernelspec": {
   "display_name": "Python 3 (ipykernel)",
   "language": "python",
   "name": "python3"
  },
  "language_info": {
   "codemirror_mode": {
    "name": "ipython",
    "version": 3
   },
   "file_extension": ".py",
   "mimetype": "text/x-python",
   "name": "python",
   "nbconvert_exporter": "python",
   "pygments_lexer": "ipython3",
   "version": "3.12.2"
  }
 },
 "nbformat": 4,
 "nbformat_minor": 5
}
