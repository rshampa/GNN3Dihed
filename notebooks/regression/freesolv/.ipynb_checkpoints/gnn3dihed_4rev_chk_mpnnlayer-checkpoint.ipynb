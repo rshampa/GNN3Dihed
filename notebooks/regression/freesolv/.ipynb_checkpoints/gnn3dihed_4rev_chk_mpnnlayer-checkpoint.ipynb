{
 "cells": [
  {
   "cell_type": "markdown",
   "id": "10853bcb-9348-4494-bd41-11bbef29bcec",
   "metadata": {},
   "source": [
    "## Know your libraries (KYL)"
   ]
  },
  {
   "cell_type": "code",
   "execution_count": 15,
   "id": "6d246802-c80b-46ec-8535-12d7b23328f8",
   "metadata": {},
   "outputs": [
    {
     "name": "stdout",
     "output_type": "stream",
     "text": [
      "cpu\n"
     ]
    }
   ],
   "source": [
    "import sys\n",
    "sys.path.append('../../src')\n",
    "\n",
    "import multiprocessing as mp\n",
    "mp.set_start_method('spawn', force=True)\n",
    "\n",
    "import dataset, molecular_representation, config, utils, model\n",
    "from dataset import QM9Dataset,LogSDataset,LogPDataset,FreeSolvDataset,ESOLDataset,ToxQDataset\n",
    "import numpy as np\n",
    "import pandas as pd\n",
    "from utils import *\n",
    "import torch\n",
    "from torch.nn.utils.rnn import pad_sequence\n",
    "from torch.utils.data import Dataset, DataLoader, Subset\n",
    "from scipy.stats import pearsonr\n",
    "from tqdm import tqdm\n",
    "from model import AtomAutoencoder,BondAutoencoder\n",
    "from model import GNNBondAngle,GNN2D,GNN3D,GNN3DAtnON,GNN3DAtnOFF,GNN3Dihed,GNN3DConfig,GNN3DLayer,GNN3DClassifier\n",
    "\n",
    "import matplotlib.pyplot as plt\n",
    "from rdkit import Chem\n",
    "from rdkit.Chem import Draw\n",
    "from rdkit.Chem import AllChem\n",
    "from rdkit.Chem.Draw import MolsToGridImage\n",
    "from rdkit.Chem.Draw import IPythonConsole\n",
    "IPythonConsole.ipython_useSVG=True\n",
    "IPythonConsole.drawOptions.addStereoAnnotation = True\n",
    "\n",
    "from sklearn.model_selection import train_test_split\n",
    "from sklearn.metrics import roc_auc_score, roc_curve, auc\n",
    "\n",
    "import os\n",
    "datadir=\"../../data/regression/freesolv/\"\n",
    "modeldir=\"./models_gnn3dihed_rmse_4rev/\"\n",
    "dataset_name=\"freesolv\"\n",
    "# Create datadir and modeldir folders if they don't exist\n",
    "if not os.path.exists(datadir):\n",
    "    os.makedirs(datadir)\n",
    "\n",
    "if not os.path.exists(modeldir):\n",
    "    os.makedirs(modeldir)\n",
    "\n",
    "import time\n",
    "import datetime\n",
    "\n",
    "device = torch.device(\"cuda\" if torch.cuda.is_available() else \"cpu\")\n",
    "print(device)"
   ]
  },
  {
   "cell_type": "markdown",
   "id": "3b073b63-db6d-4cb7-81f5-04305a48f352",
   "metadata": {},
   "source": [
    "## Split your dataset (SYD)"
   ]
  },
  {
   "cell_type": "code",
   "execution_count": null,
   "id": "100ecd3d-2ed3-42c3-99da-cde2df211ab4",
   "metadata": {},
   "outputs": [],
   "source": [
    "# Load dataset from CSV\n",
    "dataset = pd.read_csv(datadir+dataset_name+\".csv\")\n",
    "\n",
    "# Split dataset into train and test\n",
    "train_dataset, test_dataset = split_dataset(dataset, 0.9)\n",
    "\n",
    "# Write train_dataset and test_dataset to CSV files\n",
    "train_dataset.to_csv(datadir+\"train.csv\", index=False)\n",
    "test_dataset.to_csv(datadir+\"test.csv\", index=False)\n",
    "\n",
    "print(\"Train and test datasets saved successfully.\")"
   ]
  },
  {
   "cell_type": "markdown",
   "id": "322a679b-31ca-4067-ac30-e92935bb155a",
   "metadata": {},
   "source": [
    "## Process your data (PYD)"
   ]
  },
  {
   "cell_type": "code",
   "execution_count": 6,
   "id": "1b421be3-1e02-47fa-a776-f22b5ce8a639",
   "metadata": {},
   "outputs": [
    {
     "name": "stdout",
     "output_type": "stream",
     "text": [
      "Loading dataset from folder\n",
      "Initializing Molecular Representation Generator\n",
      "Dataset Name: FreeSolv\n",
      "Number of Molecules Loaded: 577\n",
      "===================================\n",
      "Loading dataset from folder\n",
      "Initializing Molecular Representation Generator\n",
      "Dataset Name: FreeSolv\n",
      "Number of Molecules Loaded: 65\n"
     ]
    }
   ],
   "source": [
    "train_samples = FreeSolvDataset(datadir+\"train\")\n",
    "print(train_samples)\n",
    "print(\"===================================\")\n",
    "test_samples = FreeSolvDataset(datadir+\"test\")\n",
    "print(test_samples)"
   ]
  },
  {
   "cell_type": "markdown",
   "id": "684bf8f7-c561-47b8-a7b7-aab77f6225d5",
   "metadata": {},
   "source": [
    "## Know your featues (KYF)"
   ]
  },
  {
   "cell_type": "code",
   "execution_count": 7,
   "id": "cd351932-d0d7-4f09-b725-4768704bb67f",
   "metadata": {},
   "outputs": [
    {
     "name": "stdout",
     "output_type": "stream",
     "text": [
      "Atomic Features:           torch.Size([6, 154]) - This represents the atomic features of the molecule\n",
      "Bond Features:             torch.Size([10, 10]) - This represents the bond features of the molecule\n",
      "Bond Indices:              torch.Size([12]) - This represents the bond indices of the molecule\n",
      "Angle Features:            torch.Size([8]) - This represents the angle features of the molecule\n",
      "Angle Indices:             torch.Size([200]) - This represents the angle indices of the molecule\n",
      "Dihedral Features:         torch.Size([10, 2]) - This represents the dihedral features of the molecule\n",
      "Dihedral Indices:          torch.Size([12, 2]) - This represents the dihedral indices of the molecule\n",
      "Global Molecular Features: torch.Size([8, 2]) - This represents the global molecular features of the molecule\n",
      "Target: torch.Size([1]) - This represents the target of the molecule\n"
     ]
    }
   ],
   "source": [
    "         \"\"\"\n",
    "         Convert SMILES to a molecule representation\n",
    "         I.E A collection of the following vectors\n",
    "             1. Atomic Feature Vectors\n",
    "             2. Bond Feature Vectors\n",
    "             3. Bond Indices\n",
    "             4. Angle Feature Vectors\n",
    "             5. Angle Indices\n",
    "             6. Dihedral Feature Vectors\n",
    "             7. Dihedral Indices \n",
    "             8. Global Molecular Features\n",
    "         \"\"\"\n",
    "\n",
    "# Printing out the dimensions of all of these features with a description of what each feature is for a paticular molecule\n",
    "print(f\"Atomic Features:           {(train_samples[1])[0].shape} - This represents the atomic features of the molecule\")\n",
    "print(f\"Bond Features:             {(train_samples[1])[1].shape} - This represents the bond features of the molecule\")\n",
    "print(f\"Bond Indices:              {(train_samples[1])[2].shape} - This represents the bond indices of the molecule\")\n",
    "print(f\"Angle Features:            {(train_samples[1])[3].shape} - This represents the angle features of the molecule\")\n",
    "print(f\"Angle Indices:             {(train_samples[1])[4].shape} - This represents the angle indices of the molecule\")\n",
    "print(f\"Dihedral Features:         {(train_samples[1])[5].shape} - This represents the dihedral features of the molecule\")\n",
    "print(f\"Dihedral Indices:          {(train_samples[1])[6].shape} - This represents the dihedral indices of the molecule\")\n",
    "print(f\"Global Molecular Features: {(train_samples[1])[7].shape} - This represents the global molecular features of the molecule\")\n",
    "\n",
    "print(f\"Target: {(train_samples[0])[8].shape} - This represents the target of the molecule\")"
   ]
  },
  {
   "cell_type": "markdown",
   "id": "6db5eca1-c71a-4265-896f-9cc3d75c668e",
   "metadata": {},
   "source": [
    "## Know your correlations (KYC)"
   ]
  },
  {
   "cell_type": "code",
   "execution_count": 9,
   "id": "038e120d-74bc-4cb6-ad49-35a699c9a65d",
   "metadata": {},
   "outputs": [],
   "source": [
    "# Calculate R^2\n",
    "def calculate_r_squared(predictions, targets):\n",
    "    ss_tot = np.sum((targets - np.mean(targets))**2)\n",
    "    ss_res = np.sum((targets - predictions)**2)\n",
    "    r_squared = 1 - (ss_res / ss_tot)\n",
    "    return r_squared"
   ]
  },
  {
   "cell_type": "markdown",
   "id": "09698ca2-9cf3-4cd7-9a66-1212a6955f45",
   "metadata": {},
   "source": [
    "## Know your modules (KYM)"
   ]
  },
  {
   "cell_type": "code",
   "execution_count": 10,
   "id": "89e82a6c-b879-4ca7-8c25-7783e34ec942",
   "metadata": {},
   "outputs": [],
   "source": [
    "class CustomMoleculeDataset(Dataset):\n",
    "    \"\"\"A custom dataset class to work DataLoader\"\"\"\n",
    "    def __init__(self, samples, atom_autoencoder, bond_autoencoder, device):\n",
    "        self.samples = samples\n",
    "        self.atom_autoencoder = atom_autoencoder\n",
    "        self.bond_autoencoder = bond_autoencoder\n",
    "        self.device = device\n",
    "\n",
    "    def __len__(self):\n",
    "        return len(self.samples)\n",
    "\n",
    "    def __getitem__(self, idx):\n",
    "        sample = self.samples[idx]\n",
    "        processed_data = process_molecule(sample, self.atom_autoencoder, self.bond_autoencoder, self.device)\n",
    "\n",
    "        if processed_data is None:\n",
    "            return (None,) * 9\n",
    "\n",
    "        if len(processed_data) != 9:\n",
    "            raise ValueError(f\"Unexpected number of elements: {len(processed_data)}\")\n",
    "\n",
    "\n",
    "        return processed_data\n",
    "\n",
    "\n",
    "\n",
    "\n",
    "def process_molecule(molecule, atom_autoencoder, bond_autoencoder, device):\n",
    "    \"\"\"Separate input features and target\"\"\"\n",
    "    if len(molecule) < 9:\n",
    "        return None\n",
    "\n",
    "    # Extracting features and target (9th element (index 8) is the target)\n",
    "    target = molecule[8]\n",
    "    molecule_data = [mol_elem for mol_elem in molecule[:8]]\n",
    "\n",
    "    atom_features = molecule_data[0]\n",
    "    bond_features = molecule_data[1]\n",
    "\n",
    "    if len(atom_features) == 0 or len(bond_features) == 0:\n",
    "        return None\n",
    "\n",
    "   #molecule_data = [item.to(device) for item in molecule_data]\n",
    "    molecule_data = [item.to(device).detach() for item in molecule_data]\n",
    "    # Applying encoders\n",
    "    molecule_data[0] = atom_autoencoder.encode(molecule_data[0])\n",
    "    molecule_data[1] = bond_autoencoder.encode(molecule_data[1])\n",
    "\n",
    "\n",
    "    # Moving data to the device in the training loop\n",
    "    return molecule_data[0], molecule_data[1], molecule_data[2], molecule_data[3], molecule_data[4], molecule_data[5], molecule_data[6], molecule_data[7], target\n",
    "\n",
    "\n",
    "\n",
    "\n",
    "def collate_fn(batch):\n",
    "    \"\"\"Custom collate function for batching molecular data.\"\"\"\n",
    "\n",
    "\n",
    "    # Filter out None values\n",
    "    batch = [item for item in batch if item[0] is not None]\n",
    "\n",
    "    # If all samples were skipped, return empty tensors\n",
    "    if not batch:\n",
    "        return (torch.empty(0),) * 8 + (torch.empty(0),)\n",
    "\n",
    "    # Extract components from batch\n",
    "    atomic_features = [item[0] for item in batch]\n",
    "    bond_features = [item[1] for item in batch]\n",
    "    angle_features = [item[2] for item in batch]\n",
    "    dihedral_features = [item[3] for item in batch]\n",
    "    global_molecular_features = [item[4] for item in batch]\n",
    "    bond_indices = [item[5] for item in batch]\n",
    "    angle_indices = [item[6] for item in batch]\n",
    "    dihedral_indices = [item[7] for item in batch]\n",
    "    targets = [item[8] for item in batch]\n",
    "\n",
    "    # Determine the device\n",
    "    device = 'cuda' if torch.cuda.is_available() else 'cpu'\n",
    "\n",
    "    # Convert all tensors to detach and ensure they are on the same device\n",
    "    def detach_and_to_device(tensors, device):\n",
    "        return [tensor.detach().to(device) for tensor in tensors]\n",
    "\n",
    "    device = atomic_features[0].device if atomic_features else 'cpu'\n",
    "    atomic_features = detach_and_to_device(atomic_features, device)\n",
    "    bond_features = detach_and_to_device(bond_features, device)\n",
    "    angle_features = detach_and_to_device(angle_features, device)\n",
    "    dihedral_features = detach_and_to_device(dihedral_features, device)\n",
    "    global_molecular_features = detach_and_to_device(global_molecular_features, device)\n",
    "    targets = detach_and_to_device(targets, device)\n",
    "\n",
    "    # Pad sequences and stack\n",
    "    def pad_sequences(sequences):\n",
    "        lengths = [seq.size(0) for seq in sequences]\n",
    "        max_len = max(lengths, default=0)\n",
    "        return pad_sequence(sequences, batch_first=True, padding_value=0), max_len\n",
    "\n",
    "    atomic_features, _ = pad_sequences(atomic_features)\n",
    "    bond_features, max_bond_len = pad_sequences(bond_features)\n",
    "    angle_features, max_angle_len = pad_sequences(angle_features)\n",
    "    dihedral_features, max_dihedral_len = pad_sequences(dihedral_features)\n",
    "    global_molecular_features = torch.stack(global_molecular_features)\n",
    "    targets = torch.stack(targets)\n",
    "\n",
    "    # Pad indices\n",
    "    def pad_indices(indices_list, max_len):\n",
    "        padded_indices = torch.full((len(indices_list), max_len, 2), -1, dtype=torch.long)\n",
    "        for i, indices in enumerate(indices_list):\n",
    "            if indices.size(0) > 0:\n",
    "                end = min(indices.size(0), max_len)\n",
    "                padded_indices[i, :end] = indices[:end]\n",
    "        return padded_indices\n",
    "\n",
    "    bond_indices = pad_indices(bond_indices, max_bond_len)\n",
    "    angle_indices = pad_indices(angle_indices, max_angle_len)\n",
    "    dihedral_indices = pad_indices(dihedral_indices, max_dihedral_len)\n",
    "\n",
    "    # Create a batch and move to device\n",
    "    batch_tensors = (\n",
    "        atomic_features, bond_features, angle_features, dihedral_features,\n",
    "        global_molecular_features, bond_indices, angle_indices, dihedral_indices,\n",
    "        targets\n",
    "    )\n",
    "\n",
    "    # Move all tensors to the device\n",
    "    batch_tensors = tuple(tensor.to(device) for tensor in batch_tensors)\n",
    "\n",
    "    return batch_tensors\n",
    "   #return atomic_features, bond_features, angle_features, dihedral_features, global_molecular_features, bond_indices, angle_indices, dihedral_indices, targets\n",
    "\n",
    "\n",
    "\n",
    "\n",
    "def train_gnn3d_model(gnn3d, train_samples, val_samples, test_samples, atom_autoencoder, bond_autoencoder, n_epochs=10, printstep=10, save_dir=\"./models/\", dataset_name=\"logs\", batch_size=16, prefetch_factor=2, num_workers=0):\n",
    "    \"\"\"Train GNN3D\"\"\"\n",
    "    device = torch.device('cuda' if torch.cuda.is_available() else 'cpu')\n",
    "    os.makedirs(save_dir, exist_ok=True)\n",
    "    mse_loss_fn = torch.nn.MSELoss()\n",
    "    gnn_optimizer = torch.optim.Adam(gnn3d.parameters(), lr=1e-3)\n",
    "\n",
    "    dataloader_train = DataLoader(\n",
    "        CustomMoleculeDataset(train_samples, atom_autoencoder, bond_autoencoder, device=device),\n",
    "        batch_size=batch_size,\n",
    "        prefetch_factor=prefetch_factor,\n",
    "        shuffle=True,\n",
    "        num_workers=num_workers,\n",
    "        pin_memory=False,\n",
    "        collate_fn=collate_fn\n",
    "    )\n",
    "\n",
    "    dataloader_val = DataLoader(\n",
    "        CustomMoleculeDataset(val_samples, atom_autoencoder, bond_autoencoder, device=device),\n",
    "        batch_size=batch_size,\n",
    "        prefetch_factor=prefetch_factor,\n",
    "        shuffle=False,\n",
    "        num_workers=num_workers,\n",
    "        pin_memory=False,\n",
    "        collate_fn=collate_fn\n",
    "    )\n",
    "\n",
    "    dataloader_test = DataLoader(\n",
    "        CustomMoleculeDataset(test_samples, atom_autoencoder, bond_autoencoder, device=device),\n",
    "        batch_size=batch_size,\n",
    "        prefetch_factor=prefetch_factor,\n",
    "        shuffle=False,\n",
    "        num_workers=num_workers,\n",
    "        pin_memory=False,\n",
    "        collate_fn=collate_fn\n",
    "    )\n",
    "\n",
    "    gnn3d.to(device)\n",
    "    start_time = time.time()\n",
    "\n",
    "    avg_rmse_losses_train = []\n",
    "    avg_mse_losses_train = []\n",
    "    avg_rmse_losses_val = []\n",
    "    avg_mse_losses_val = []\n",
    "\n",
    "    for epoch_i in range(n_epochs):\n",
    "        # Training\n",
    "        avg_rmse_loss_train = 0\n",
    "        avg_mse_loss_train = 0\n",
    "        total_samples_train = 0\n",
    "        skipped_samples_train = 0\n",
    "\n",
    "        for batch in tqdm(dataloader_train, desc='Training samples'):\n",
    "\n",
    "\n",
    "            # Filter out None values\n",
    "            batch = [item for item in batch if item is not None]\n",
    "            if not batch:\n",
    "                skipped_samples_train += len(batch)\n",
    "                continue\n",
    "\n",
    "            atomic_features, bond_features, angle_features, dihedral_features, global_molecular_features, bond_indices, angle_indices, dihedral_indices, targets = batch\n",
    "\n",
    "\n",
    "            valid_indices = [i for i, target in enumerate(targets) if target is not None]\n",
    "            if not valid_indices:\n",
    "                skipped_samples_train += len(targets)\n",
    "                continue\n",
    "            # Only retain valid samples\n",
    "            atomic_features = atomic_features[valid_indices]\n",
    "            bond_features = bond_features[valid_indices]\n",
    "            angle_features = angle_features[valid_indices]\n",
    "            dihedral_features = dihedral_features[valid_indices]\n",
    "            global_molecular_features = global_molecular_features[valid_indices]\n",
    "            bond_indices = bond_indices[valid_indices]\n",
    "            angle_indices = angle_indices[valid_indices]\n",
    "            dihedral_indices = dihedral_indices[valid_indices]\n",
    "            targets = targets[valid_indices]\n",
    "\n",
    "\n",
    "            # Forward pass\n",
    "            total_loss = 0\n",
    "            for i in range(len(targets)):\n",
    "                molecule_data = (atomic_features[i], bond_features[i], angle_features[i], dihedral_features[i], global_molecular_features[i], bond_indices[i], angle_indices[i], dihedral_indices[i])\n",
    "                #molecule_data = (atomic_features[i], bond_features[i], global_molecular_features[i], bond_indices[i])  #2D\n",
    "                target = targets[i]\n",
    "\n",
    "                prediction = gnn3d(molecule_data)\n",
    "                loss = mse_loss_fn(prediction, target)\n",
    "                total_loss += loss\n",
    "\n",
    "#           total_loss /= len(targets)\n",
    "\n",
    "            if len(targets) > 0:\n",
    "                total_loss /= len(targets)\n",
    "            else:\n",
    "                continue  # Safeguard against division by zero\n",
    "\n",
    "\n",
    "            gnn_optimizer.zero_grad()\n",
    "            total_loss.backward()\n",
    "            gnn_optimizer.step()\n",
    "\n",
    "            avg_mse_loss_train += total_loss.item() * len(targets)\n",
    "            avg_rmse_loss_train += torch.sqrt(total_loss).item() * len(targets)\n",
    "            total_samples_train += len(targets)\n",
    "\n",
    "        avg_mse_loss_train /= total_samples_train\n",
    "        avg_rmse_loss_train /= total_samples_train\n",
    "        avg_mse_losses_train.append(avg_mse_loss_train)\n",
    "        avg_rmse_losses_train.append(avg_rmse_loss_train)\n",
    "\n",
    "\n",
    "        # Validation\n",
    "        avg_rmse_loss_val = 0\n",
    "        avg_mse_loss_val = 0\n",
    "        total_samples_val = 0\n",
    "        skipped_samples_val = 0\n",
    "\n",
    "        with torch.no_grad():\n",
    "            for batch in tqdm(dataloader_val, desc='Validation samples'):\n",
    "\n",
    "                # Filter out None values\n",
    "                batch = [item for item in batch if item is not None]\n",
    "                if not batch:\n",
    "                    skipped_samples_val += len(batch)\n",
    "                    continue\n",
    "\n",
    "                atomic_features, bond_features, angle_features, dihedral_features, global_molecular_features, bond_indices, angle_indices, dihedral_indices, targets = batch\n",
    "\n",
    "                valid_indices = [i for i, target in enumerate(targets) if target is not None]\n",
    "                if not valid_indices:\n",
    "                    skipped_samples_val += len(targets)\n",
    "                    continue\n",
    "                # Only retain valid samples\n",
    "                atomic_features = atomic_features[valid_indices]\n",
    "                bond_features = bond_features[valid_indices]\n",
    "                angle_features = angle_features[valid_indices]\n",
    "                dihedral_features = dihedral_features[valid_indices]\n",
    "                global_molecular_features = global_molecular_features[valid_indices]\n",
    "                bond_indices = bond_indices[valid_indices]\n",
    "                angle_indices = angle_indices[valid_indices]\n",
    "                dihedral_indices = dihedral_indices[valid_indices]\n",
    "                targets = targets[valid_indices]\n",
    "\n",
    "                # Forward pass\n",
    "                total_loss = 0\n",
    "                for i in range(len(targets)):\n",
    "                    molecule_data = (atomic_features[i], bond_features[i], angle_features[i], dihedral_features[i], global_molecular_features[i], bond_indices[i], angle_indices[i], dihedral_indices[i])\n",
    "                    #molecule_data = (atomic_features[i], bond_features[i], global_molecular_features[i], bond_indices[i])  #2D\n",
    "                    target = targets[i]\n",
    "\n",
    "                    prediction = gnn3d(molecule_data)\n",
    "                    loss = mse_loss_fn(prediction, target)\n",
    "                    total_loss += loss\n",
    "\n",
    "#               total_loss /= len(targets)\n",
    "\n",
    "                if len(targets) > 0:\n",
    "                    total_loss /= len(targets)\n",
    "                else:\n",
    "                    continue  # Safeguard against division by zero\n",
    "\n",
    "\n",
    "                avg_mse_loss_val += total_loss.item() * len(targets)\n",
    "                avg_rmse_loss_val += torch.sqrt(total_loss).item() * len(targets)\n",
    "                total_samples_val += len(targets)\n",
    "\n",
    "        avg_mse_loss_val /= total_samples_val\n",
    "        avg_rmse_loss_val /= total_samples_val\n",
    "        avg_mse_losses_val.append(avg_mse_loss_val)\n",
    "        avg_rmse_losses_val.append(avg_rmse_loss_val)\n",
    "\n",
    "       #if epoch_i % printstep == 0 or epoch_i == n_epochs - 1:\n",
    "        print(f\"Epoch: {epoch_i:>3} | RMSE Train  Loss: {avg_rmse_loss_train:.4f} | MSE Train Loss: {avg_mse_loss_train:.4f} | RMSE Val  Loss: {avg_rmse_loss_val:.4f} | MSE Val Loss: {avg_mse_loss_val:.4f}\")\n",
    "\n",
    "    # Saving model state\n",
    "    torch.save(gnn3d.state_dict(), os.path.join(save_dir, f\"gnn3d_{dataset_name}.pth\"))\n",
    "    print(f\"Model saved to {os.path.join(save_dir, f'gnn3d_{dataset_name}.pth')}\")\n",
    "\n",
    "    end_time = time.time()\n",
    "    actual_time = end_time - start_time\n",
    "\n",
    "    actual_time_td = datetime.timedelta(seconds=actual_time)\n",
    "    hours = actual_time_td.seconds // 3600\n",
    "    minutes = (actual_time_td.seconds // 60) % 60\n",
    "    seconds = actual_time_td.seconds % 60\n",
    "    actual_time_str = f\"{hours} hours, {minutes} minutes, {seconds} seconds\"\n",
    "\n",
    "    print(f\"Time taken for training: {actual_time_str}\")\n",
    "\n",
    "    # Evaluation on test samples\n",
    "    avg_rmse_loss_test = 0\n",
    "    avg_mse_loss_test = 0\n",
    "    total_samples_test = 0\n",
    "    skipped_samples_test = 0\n",
    "    predictions = []\n",
    "    targets = []\n",
    "\n",
    "    with torch.no_grad():\n",
    "        for batch in tqdm(dataloader_test, desc='Test samples'):\n",
    "\n",
    "            # Filter out None values\n",
    "            batch = [item for item in batch if item is not None]\n",
    "            if not batch:\n",
    "                skipped_samples_test += len(batch)\n",
    "                continue\n",
    "\n",
    "            atomic_features, bond_features, angle_features, dihedral_features, global_molecular_features, bond_indices, angle_indices, dihedral_indices, targets_batch = batch\n",
    "\n",
    "            valid_indices = [i for i, target in enumerate(targets_batch) if target is not None]\n",
    "            if not valid_indices:\n",
    "                skipped_samples_test += len(targets_batch)\n",
    "                continue\n",
    "            # Only retain valid samples\n",
    "            atomic_features = atomic_features[valid_indices]\n",
    "            bond_features = bond_features[valid_indices]\n",
    "            angle_features = angle_features[valid_indices]\n",
    "            dihedral_features = dihedral_features[valid_indices]\n",
    "            global_molecular_features = global_molecular_features[valid_indices]\n",
    "            bond_indices = bond_indices[valid_indices]\n",
    "            angle_indices = angle_indices[valid_indices]\n",
    "            dihedral_indices = dihedral_indices[valid_indices]\n",
    "            targets_batch = targets_batch[valid_indices]\n",
    "\n",
    "            # Forward pass\n",
    "            for i in range(len(targets_batch)):\n",
    "                molecule_data = (atomic_features[i], bond_features[i], angle_features[i], dihedral_features[i], global_molecular_features[i], bond_indices[i], angle_indices[i], dihedral_indices[i])\n",
    "                #molecule_data = (atomic_features[i], bond_features[i], global_molecular_features[i], bond_indices[i])  #2D\n",
    "                target = targets_batch[i]\n",
    "\n",
    "                prediction = gnn3d(molecule_data)\n",
    "                loss = mse_loss_fn(prediction, target)\n",
    "\n",
    "                # Extract target and prediction values\n",
    "                predictions.append(prediction.item())\n",
    "                targets.append(target.item())\n",
    "\n",
    "                avg_mse_loss_test += loss.item()\n",
    "                avg_rmse_loss_test += torch.sqrt(loss).item()\n",
    "                total_samples_test += 1\n",
    "\n",
    "    # Calculate average losses for test\n",
    "    avg_mse_loss_test /= total_samples_test\n",
    "    avg_rmse_loss_test /= total_samples_test\n",
    "\n",
    "    print(f\"Test Results:\")\n",
    "    print(f\"RMSE Loss: {avg_rmse_loss_test:.4f}\")\n",
    "    print(f\"MSE Loss: {avg_mse_loss_test:.4f}\")\n",
    "\n",
    "    end_time = time.time()\n",
    "    actual_time = end_time - start_time\n",
    "\n",
    "    actual_time_td = datetime.timedelta(seconds=actual_time)\n",
    "    hours = actual_time_td.seconds // 3600\n",
    "    minutes = (actual_time_td.seconds // 60) % 60\n",
    "    seconds = actual_time_td.seconds % 60\n",
    "    actual_time_str = f\"{hours} hours, {minutes} minutes, {seconds} seconds\"\n",
    "\n",
    "    print(f\"Time taken for training and evaluation: {actual_time_str}\")\n",
    "\n",
    "    return avg_rmse_losses_train, avg_mse_losses_train, avg_rmse_losses_val, avg_mse_losses_val, predictions, targets, skipped_samples_train, skipped_samples_val, skipped_samples_test"
   ]
  },
  {
   "cell_type": "markdown",
   "id": "4b63ab5a-522d-486d-a97c-509fd16c02a6",
   "metadata": {},
   "source": [
    "## Know your variables for main()"
   ]
  },
  {
   "cell_type": "code",
   "execution_count": 16,
   "id": "87e26207-b0de-48ad-b036-898e1eeee0bd",
   "metadata": {},
   "outputs": [],
   "source": [
    "def main():\n",
    "    \"\"\"Function for train, validation and test\n",
    "       Make sure to assign your local variables here too\"\"\"\n",
    "    mp.set_start_method('spawn', force=True)\n",
    "\n",
    "    datadir=\"../../data/regression/freesolv/\"\n",
    "    modeldir=\"./models_gnn3dihed_rmse_4rev/\"\n",
    "    dataset_name=\"freesolv\"\n",
    "\n",
    "    train_samples = FreeSolvDataset(datadir+\"train\")\n",
    "    print(train_samples)\n",
    "    print(\"===================================\")\n",
    "    test_samples = FreeSolvDataset(datadir+\"test\")\n",
    "    print(test_samples)\n",
    "    print(\"===================================\")\n",
    "\n",
    "    n_epochs=10\n",
    "    printstep=2\n",
    "    batch_size=1\n",
    "    prefetch_factor=None\n",
    "    num_workers=0\n",
    "\n",
    "    rmse_losses_train = []\n",
    "    rmse_losses_val = []\n",
    "\n",
    "    random_state_values = [98, 123, 456, 1704, 19472]\n",
    "\n",
    "    for random_state in random_state_values:\n",
    "\n",
    "        print(f\"Training for random_state = {random_state}\")\n",
    "\n",
    "        gnn3d = GNN3Dihed(atomic_vector_size=10, bond_vector_size=3, number_of_molecular_features=200, number_of_targets=1).to(device)\n",
    "        train_part_samples, val_samples = train_test_split(train_samples, test_size=0.1, random_state=random_state)\n",
    "        atom_autoencoder = AtomAutoencoder(154, 10).to(device)\n",
    "        bond_autoencoder = BondAutoencoder(10, 3).to(device)\n",
    "\n",
    "        rmse_losses_train_per_model, mse_losses_train_per_model, rmse_losses_val_per_model, mse_losses_val_per_model, predictions, targets, skipped_train, skipped_val, skipped_test=train_gnn3d_model(\n",
    "            gnn3d,\n",
    "            train_part_samples,\n",
    "            val_samples,\n",
    "            test_samples,\n",
    "            atom_autoencoder,\n",
    "            bond_autoencoder,\n",
    "            n_epochs=n_epochs,\n",
    "            printstep=printstep,\n",
    "            save_dir=modeldir,\n",
    "            dataset_name=dataset_name,\n",
    "            batch_size=batch_size,\n",
    "            prefetch_factor=prefetch_factor,\n",
    "            num_workers=num_workers\n",
    "        )\n",
    "\n",
    "        rmse_losses_train.append(rmse_losses_train_per_model)\n",
    "        rmse_losses_val.append(rmse_losses_val_per_model)\n",
    "\n",
    "    return gnn3d, atom_autoencoder, bond_autoencoder, n_epochs, rmse_losses_train, rmse_losses_val, predictions, targets"
   ]
  },
  {
   "cell_type": "markdown",
   "id": "1316d293-029e-453b-83e0-eb195dfd1da2",
   "metadata": {},
   "source": [
    "## Training=================================================\n",
    "## GNN3D training for multiple models; and testing"
   ]
  },
  {
   "cell_type": "code",
   "execution_count": 17,
   "id": "6f7a4740-e72a-4ef9-b66d-f96bcc74c903",
   "metadata": {},
   "outputs": [
    {
     "name": "stdout",
     "output_type": "stream",
     "text": [
      "Loading dataset from folder\n",
      "Initializing Molecular Representation Generator\n",
      "Dataset Name: FreeSolv\n",
      "Number of Molecules Loaded: 577\n",
      "===================================\n",
      "Loading dataset from folder\n",
      "Initializing Molecular Representation Generator\n",
      "Dataset Name: FreeSolv\n",
      "Number of Molecules Loaded: 65\n",
      "===================================\n",
      "Training for random_state = 98\n"
     ]
    },
    {
     "name": "stderr",
     "output_type": "stream",
     "text": [
      "Training samples: 100%|█████████████████████████████████████████████████████████████████████████████████████████████████████████████████████████████████| 519/519 [00:46<00:00, 11.28it/s]\n",
      "Validation samples: 100%|█████████████████████████████████████████████████████████████████████████████████████████████████████████████████████████████████| 58/58 [00:01<00:00, 44.86it/s]\n"
     ]
    },
    {
     "name": "stdout",
     "output_type": "stream",
     "text": [
      "Epoch:   0 | RMSE Train  Loss: 2.3670 | MSE Train Loss: 11.5685 | RMSE Val  Loss: 1.9568 | MSE Val Loss: 9.4059\n"
     ]
    },
    {
     "name": "stderr",
     "output_type": "stream",
     "text": [
      "Training samples: 100%|█████████████████████████████████████████████████████████████████████████████████████████████████████████████████████████████████| 519/519 [00:45<00:00, 11.53it/s]\n",
      "Validation samples: 100%|█████████████████████████████████████████████████████████████████████████████████████████████████████████████████████████████████| 58/58 [00:01<00:00, 46.05it/s]\n"
     ]
    },
    {
     "name": "stdout",
     "output_type": "stream",
     "text": [
      "Epoch:   1 | RMSE Train  Loss: 1.4436 | MSE Train Loss: 4.7484 | RMSE Val  Loss: 1.5115 | MSE Val Loss: 4.9630\n"
     ]
    },
    {
     "name": "stderr",
     "output_type": "stream",
     "text": [
      "Training samples: 100%|█████████████████████████████████████████████████████████████████████████████████████████████████████████████████████████████████| 519/519 [00:44<00:00, 11.54it/s]\n",
      "Validation samples: 100%|█████████████████████████████████████████████████████████████████████████████████████████████████████████████████████████████████| 58/58 [00:01<00:00, 45.51it/s]\n"
     ]
    },
    {
     "name": "stdout",
     "output_type": "stream",
     "text": [
      "Epoch:   2 | RMSE Train  Loss: 1.1377 | MSE Train Loss: 2.9507 | RMSE Val  Loss: 1.3362 | MSE Val Loss: 3.5451\n"
     ]
    },
    {
     "name": "stderr",
     "output_type": "stream",
     "text": [
      "Training samples: 100%|█████████████████████████████████████████████████████████████████████████████████████████████████████████████████████████████████| 519/519 [00:44<00:00, 11.73it/s]\n",
      "Validation samples: 100%|█████████████████████████████████████████████████████████████████████████████████████████████████████████████████████████████████| 58/58 [00:01<00:00, 45.75it/s]\n"
     ]
    },
    {
     "name": "stdout",
     "output_type": "stream",
     "text": [
      "Epoch:   3 | RMSE Train  Loss: 1.0252 | MSE Train Loss: 2.2589 | RMSE Val  Loss: 1.2586 | MSE Val Loss: 2.9479\n"
     ]
    },
    {
     "name": "stderr",
     "output_type": "stream",
     "text": [
      "Training samples: 100%|█████████████████████████████████████████████████████████████████████████████████████████████████████████████████████████████████| 519/519 [00:44<00:00, 11.71it/s]\n",
      "Validation samples: 100%|█████████████████████████████████████████████████████████████████████████████████████████████████████████████████████████████████| 58/58 [00:01<00:00, 45.40it/s]\n"
     ]
    },
    {
     "name": "stdout",
     "output_type": "stream",
     "text": [
      "Epoch:   4 | RMSE Train  Loss: 0.9399 | MSE Train Loss: 1.8776 | RMSE Val  Loss: 1.1283 | MSE Val Loss: 2.5608\n"
     ]
    },
    {
     "name": "stderr",
     "output_type": "stream",
     "text": [
      "Training samples: 100%|█████████████████████████████████████████████████████████████████████████████████████████████████████████████████████████████████| 519/519 [00:44<00:00, 11.74it/s]\n",
      "Validation samples: 100%|█████████████████████████████████████████████████████████████████████████████████████████████████████████████████████████████████| 58/58 [00:01<00:00, 45.76it/s]\n"
     ]
    },
    {
     "name": "stdout",
     "output_type": "stream",
     "text": [
      "Epoch:   5 | RMSE Train  Loss: 0.8898 | MSE Train Loss: 1.7215 | RMSE Val  Loss: 1.1062 | MSE Val Loss: 2.4336\n"
     ]
    },
    {
     "name": "stderr",
     "output_type": "stream",
     "text": [
      "Training samples: 100%|█████████████████████████████████████████████████████████████████████████████████████████████████████████████████████████████████| 519/519 [00:44<00:00, 11.72it/s]\n",
      "Validation samples: 100%|█████████████████████████████████████████████████████████████████████████████████████████████████████████████████████████████████| 58/58 [00:01<00:00, 45.62it/s]\n"
     ]
    },
    {
     "name": "stdout",
     "output_type": "stream",
     "text": [
      "Epoch:   6 | RMSE Train  Loss: 0.8345 | MSE Train Loss: 1.4841 | RMSE Val  Loss: 1.1990 | MSE Val Loss: 2.7985\n"
     ]
    },
    {
     "name": "stderr",
     "output_type": "stream",
     "text": [
      "Training samples: 100%|█████████████████████████████████████████████████████████████████████████████████████████████████████████████████████████████████| 519/519 [00:44<00:00, 11.73it/s]\n",
      "Validation samples: 100%|█████████████████████████████████████████████████████████████████████████████████████████████████████████████████████████████████| 58/58 [00:01<00:00, 45.73it/s]\n"
     ]
    },
    {
     "name": "stdout",
     "output_type": "stream",
     "text": [
      "Epoch:   7 | RMSE Train  Loss: 0.8310 | MSE Train Loss: 1.3770 | RMSE Val  Loss: 1.0770 | MSE Val Loss: 2.4210\n"
     ]
    },
    {
     "name": "stderr",
     "output_type": "stream",
     "text": [
      "Training samples: 100%|█████████████████████████████████████████████████████████████████████████████████████████████████████████████████████████████████| 519/519 [00:44<00:00, 11.70it/s]\n",
      "Validation samples: 100%|█████████████████████████████████████████████████████████████████████████████████████████████████████████████████████████████████| 58/58 [00:01<00:00, 45.81it/s]\n"
     ]
    },
    {
     "name": "stdout",
     "output_type": "stream",
     "text": [
      "Epoch:   8 | RMSE Train  Loss: 0.7878 | MSE Train Loss: 1.3126 | RMSE Val  Loss: 0.9811 | MSE Val Loss: 2.1014\n"
     ]
    },
    {
     "name": "stderr",
     "output_type": "stream",
     "text": [
      "Training samples: 100%|█████████████████████████████████████████████████████████████████████████████████████████████████████████████████████████████████| 519/519 [00:44<00:00, 11.68it/s]\n",
      "Validation samples: 100%|█████████████████████████████████████████████████████████████████████████████████████████████████████████████████████████████████| 58/58 [00:01<00:00, 45.68it/s]\n"
     ]
    },
    {
     "name": "stdout",
     "output_type": "stream",
     "text": [
      "Epoch:   9 | RMSE Train  Loss: 0.7675 | MSE Train Loss: 1.2350 | RMSE Val  Loss: 0.9945 | MSE Val Loss: 2.3652\n",
      "Model saved to ./models_gnn3dihed_rmse_4rev/gnn3d_freesolv.pth\n",
      "Time taken for training: 0 hours, 7 minutes, 39 seconds\n"
     ]
    },
    {
     "name": "stderr",
     "output_type": "stream",
     "text": [
      "Test samples: 100%|███████████████████████████████████████████████████████████████████████████████████████████████████████████████████████████████████████| 65/65 [00:01<00:00, 46.45it/s]\n"
     ]
    },
    {
     "name": "stdout",
     "output_type": "stream",
     "text": [
      "Test Results:\n",
      "RMSE Loss: 0.9111\n",
      "MSE Loss: 2.0488\n",
      "Time taken for training and evaluation: 0 hours, 7 minutes, 40 seconds\n",
      "Training for random_state = 123\n"
     ]
    },
    {
     "name": "stderr",
     "output_type": "stream",
     "text": [
      "Training samples: 100%|█████████████████████████████████████████████████████████████████████████████████████████████████████████████████████████████████| 519/519 [00:44<00:00, 11.59it/s]\n",
      "Validation samples: 100%|█████████████████████████████████████████████████████████████████████████████████████████████████████████████████████████████████| 58/58 [00:01<00:00, 49.57it/s]\n"
     ]
    },
    {
     "name": "stdout",
     "output_type": "stream",
     "text": [
      "Epoch:   0 | RMSE Train  Loss: 2.5883 | MSE Train Loss: 13.4349 | RMSE Val  Loss: 1.8224 | MSE Val Loss: 5.6471\n"
     ]
    },
    {
     "name": "stderr",
     "output_type": "stream",
     "text": [
      "Training samples: 100%|█████████████████████████████████████████████████████████████████████████████████████████████████████████████████████████████████| 519/519 [00:44<00:00, 11.61it/s]\n",
      "Validation samples: 100%|█████████████████████████████████████████████████████████████████████████████████████████████████████████████████████████████████| 58/58 [00:01<00:00, 49.26it/s]\n"
     ]
    },
    {
     "name": "stdout",
     "output_type": "stream",
     "text": [
      "Epoch:   1 | RMSE Train  Loss: 1.5593 | MSE Train Loss: 5.5200 | RMSE Val  Loss: 1.2997 | MSE Val Loss: 3.3064\n"
     ]
    },
    {
     "name": "stderr",
     "output_type": "stream",
     "text": [
      "Training samples: 100%|█████████████████████████████████████████████████████████████████████████████████████████████████████████████████████████████████| 519/519 [00:44<00:00, 11.60it/s]\n",
      "Validation samples: 100%|█████████████████████████████████████████████████████████████████████████████████████████████████████████████████████████████████| 58/58 [00:01<00:00, 48.85it/s]\n"
     ]
    },
    {
     "name": "stdout",
     "output_type": "stream",
     "text": [
      "Epoch:   2 | RMSE Train  Loss: 1.1627 | MSE Train Loss: 3.0788 | RMSE Val  Loss: 1.1738 | MSE Val Loss: 2.7629\n"
     ]
    },
    {
     "name": "stderr",
     "output_type": "stream",
     "text": [
      "Training samples: 100%|█████████████████████████████████████████████████████████████████████████████████████████████████████████████████████████████████| 519/519 [00:44<00:00, 11.59it/s]\n",
      "Validation samples: 100%|█████████████████████████████████████████████████████████████████████████████████████████████████████████████████████████████████| 58/58 [00:01<00:00, 49.44it/s]\n"
     ]
    },
    {
     "name": "stdout",
     "output_type": "stream",
     "text": [
      "Epoch:   3 | RMSE Train  Loss: 1.0056 | MSE Train Loss: 2.1996 | RMSE Val  Loss: 1.1699 | MSE Val Loss: 2.8077\n"
     ]
    },
    {
     "name": "stderr",
     "output_type": "stream",
     "text": [
      "Training samples: 100%|█████████████████████████████████████████████████████████████████████████████████████████████████████████████████████████████████| 519/519 [00:44<00:00, 11.56it/s]\n",
      "Validation samples: 100%|█████████████████████████████████████████████████████████████████████████████████████████████████████████████████████████████████| 58/58 [00:01<00:00, 49.30it/s]\n"
     ]
    },
    {
     "name": "stdout",
     "output_type": "stream",
     "text": [
      "Epoch:   4 | RMSE Train  Loss: 0.9123 | MSE Train Loss: 1.7530 | RMSE Val  Loss: 1.1610 | MSE Val Loss: 2.8596\n"
     ]
    },
    {
     "name": "stderr",
     "output_type": "stream",
     "text": [
      "Training samples: 100%|█████████████████████████████████████████████████████████████████████████████████████████████████████████████████████████████████| 519/519 [00:44<00:00, 11.59it/s]\n",
      "Validation samples: 100%|█████████████████████████████████████████████████████████████████████████████████████████████████████████████████████████████████| 58/58 [00:01<00:00, 48.70it/s]\n"
     ]
    },
    {
     "name": "stdout",
     "output_type": "stream",
     "text": [
      "Epoch:   5 | RMSE Train  Loss: 0.8643 | MSE Train Loss: 1.5384 | RMSE Val  Loss: 1.2350 | MSE Val Loss: 3.1073\n"
     ]
    },
    {
     "name": "stderr",
     "output_type": "stream",
     "text": [
      "Training samples: 100%|█████████████████████████████████████████████████████████████████████████████████████████████████████████████████████████████████| 519/519 [00:44<00:00, 11.60it/s]\n",
      "Validation samples: 100%|█████████████████████████████████████████████████████████████████████████████████████████████████████████████████████████████████| 58/58 [00:01<00:00, 49.77it/s]\n"
     ]
    },
    {
     "name": "stdout",
     "output_type": "stream",
     "text": [
      "Epoch:   6 | RMSE Train  Loss: 0.8395 | MSE Train Loss: 1.3831 | RMSE Val  Loss: 1.1383 | MSE Val Loss: 2.6648\n"
     ]
    },
    {
     "name": "stderr",
     "output_type": "stream",
     "text": [
      "Training samples: 100%|█████████████████████████████████████████████████████████████████████████████████████████████████████████████████████████████████| 519/519 [00:44<00:00, 11.61it/s]\n",
      "Validation samples: 100%|█████████████████████████████████████████████████████████████████████████████████████████████████████████████████████████████████| 58/58 [00:01<00:00, 49.38it/s]\n"
     ]
    },
    {
     "name": "stdout",
     "output_type": "stream",
     "text": [
      "Epoch:   7 | RMSE Train  Loss: 0.7812 | MSE Train Loss: 1.2933 | RMSE Val  Loss: 1.1337 | MSE Val Loss: 2.8456\n"
     ]
    },
    {
     "name": "stderr",
     "output_type": "stream",
     "text": [
      "Training samples: 100%|█████████████████████████████████████████████████████████████████████████████████████████████████████████████████████████████████| 519/519 [00:44<00:00, 11.61it/s]\n",
      "Validation samples: 100%|█████████████████████████████████████████████████████████████████████████████████████████████████████████████████████████████████| 58/58 [00:01<00:00, 49.40it/s]\n"
     ]
    },
    {
     "name": "stdout",
     "output_type": "stream",
     "text": [
      "Epoch:   8 | RMSE Train  Loss: 0.7926 | MSE Train Loss: 1.2361 | RMSE Val  Loss: 1.1016 | MSE Val Loss: 2.4114\n"
     ]
    },
    {
     "name": "stderr",
     "output_type": "stream",
     "text": [
      "Training samples: 100%|█████████████████████████████████████████████████████████████████████████████████████████████████████████████████████████████████| 519/519 [00:44<00:00, 11.61it/s]\n",
      "Validation samples: 100%|█████████████████████████████████████████████████████████████████████████████████████████████████████████████████████████████████| 58/58 [00:01<00:00, 49.65it/s]\n"
     ]
    },
    {
     "name": "stdout",
     "output_type": "stream",
     "text": [
      "Epoch:   9 | RMSE Train  Loss: 0.7185 | MSE Train Loss: 1.1055 | RMSE Val  Loss: 1.0773 | MSE Val Loss: 2.5687\n",
      "Model saved to ./models_gnn3dihed_rmse_4rev/gnn3d_freesolv.pth\n",
      "Time taken for training: 0 hours, 7 minutes, 39 seconds\n"
     ]
    },
    {
     "name": "stderr",
     "output_type": "stream",
     "text": [
      "Test samples: 100%|███████████████████████████████████████████████████████████████████████████████████████████████████████████████████████████████████████| 65/65 [00:01<00:00, 47.02it/s]\n"
     ]
    },
    {
     "name": "stdout",
     "output_type": "stream",
     "text": [
      "Test Results:\n",
      "RMSE Loss: 0.9542\n",
      "MSE Loss: 2.0366\n",
      "Time taken for training and evaluation: 0 hours, 7 minutes, 40 seconds\n",
      "Training for random_state = 456\n"
     ]
    },
    {
     "name": "stderr",
     "output_type": "stream",
     "text": [
      "Training samples: 100%|█████████████████████████████████████████████████████████████████████████████████████████████████████████████████████████████████| 519/519 [00:45<00:00, 11.46it/s]\n",
      "Validation samples: 100%|█████████████████████████████████████████████████████████████████████████████████████████████████████████████████████████████████| 58/58 [00:01<00:00, 55.01it/s]\n"
     ]
    },
    {
     "name": "stdout",
     "output_type": "stream",
     "text": [
      "Epoch:   0 | RMSE Train  Loss: 2.4528 | MSE Train Loss: 11.9388 | RMSE Val  Loss: 1.4500 | MSE Val Loss: 3.1038\n"
     ]
    },
    {
     "name": "stderr",
     "output_type": "stream",
     "text": [
      "Training samples: 100%|█████████████████████████████████████████████████████████████████████████████████████████████████████████████████████████████████| 519/519 [00:45<00:00, 11.46it/s]\n",
      "Validation samples: 100%|█████████████████████████████████████████████████████████████████████████████████████████████████████████████████████████████████| 58/58 [00:01<00:00, 55.79it/s]\n"
     ]
    },
    {
     "name": "stdout",
     "output_type": "stream",
     "text": [
      "Epoch:   1 | RMSE Train  Loss: 1.5836 | MSE Train Loss: 5.6507 | RMSE Val  Loss: 1.0763 | MSE Val Loss: 1.7350\n"
     ]
    },
    {
     "name": "stderr",
     "output_type": "stream",
     "text": [
      "Training samples: 100%|█████████████████████████████████████████████████████████████████████████████████████████████████████████████████████████████████| 519/519 [00:45<00:00, 11.47it/s]\n",
      "Validation samples: 100%|█████████████████████████████████████████████████████████████████████████████████████████████████████████████████████████████████| 58/58 [00:01<00:00, 55.83it/s]\n"
     ]
    },
    {
     "name": "stdout",
     "output_type": "stream",
     "text": [
      "Epoch:   2 | RMSE Train  Loss: 1.2344 | MSE Train Loss: 3.2983 | RMSE Val  Loss: 0.9210 | MSE Val Loss: 1.3690\n"
     ]
    },
    {
     "name": "stderr",
     "output_type": "stream",
     "text": [
      "Training samples: 100%|█████████████████████████████████████████████████████████████████████████████████████████████████████████████████████████████████| 519/519 [00:45<00:00, 11.45it/s]\n",
      "Validation samples: 100%|█████████████████████████████████████████████████████████████████████████████████████████████████████████████████████████████████| 58/58 [00:01<00:00, 55.76it/s]\n"
     ]
    },
    {
     "name": "stdout",
     "output_type": "stream",
     "text": [
      "Epoch:   3 | RMSE Train  Loss: 1.0694 | MSE Train Loss: 2.3637 | RMSE Val  Loss: 0.8217 | MSE Val Loss: 1.1840\n"
     ]
    },
    {
     "name": "stderr",
     "output_type": "stream",
     "text": [
      "Training samples: 100%|█████████████████████████████████████████████████████████████████████████████████████████████████████████████████████████████████| 519/519 [00:45<00:00, 11.48it/s]\n",
      "Validation samples: 100%|█████████████████████████████████████████████████████████████████████████████████████████████████████████████████████████████████| 58/58 [00:01<00:00, 55.94it/s]\n"
     ]
    },
    {
     "name": "stdout",
     "output_type": "stream",
     "text": [
      "Epoch:   4 | RMSE Train  Loss: 0.9750 | MSE Train Loss: 1.9641 | RMSE Val  Loss: 1.0093 | MSE Val Loss: 1.6030\n"
     ]
    },
    {
     "name": "stderr",
     "output_type": "stream",
     "text": [
      "Training samples: 100%|█████████████████████████████████████████████████████████████████████████████████████████████████████████████████████████████████| 519/519 [00:45<00:00, 11.44it/s]\n",
      "Validation samples: 100%|█████████████████████████████████████████████████████████████████████████████████████████████████████████████████████████████████| 58/58 [00:01<00:00, 55.11it/s]\n"
     ]
    },
    {
     "name": "stdout",
     "output_type": "stream",
     "text": [
      "Epoch:   5 | RMSE Train  Loss: 0.9311 | MSE Train Loss: 1.7190 | RMSE Val  Loss: 0.8838 | MSE Val Loss: 1.3113\n"
     ]
    },
    {
     "name": "stderr",
     "output_type": "stream",
     "text": [
      "Training samples: 100%|█████████████████████████████████████████████████████████████████████████████████████████████████████████████████████████████████| 519/519 [00:45<00:00, 11.46it/s]\n",
      "Validation samples: 100%|█████████████████████████████████████████████████████████████████████████████████████████████████████████████████████████████████| 58/58 [00:01<00:00, 55.75it/s]\n"
     ]
    },
    {
     "name": "stdout",
     "output_type": "stream",
     "text": [
      "Epoch:   6 | RMSE Train  Loss: 0.8697 | MSE Train Loss: 1.5761 | RMSE Val  Loss: 0.8210 | MSE Val Loss: 1.2933\n"
     ]
    },
    {
     "name": "stderr",
     "output_type": "stream",
     "text": [
      "Training samples: 100%|█████████████████████████████████████████████████████████████████████████████████████████████████████████████████████████████████| 519/519 [00:45<00:00, 11.46it/s]\n",
      "Validation samples: 100%|█████████████████████████████████████████████████████████████████████████████████████████████████████████████████████████████████| 58/58 [00:01<00:00, 55.45it/s]\n"
     ]
    },
    {
     "name": "stdout",
     "output_type": "stream",
     "text": [
      "Epoch:   7 | RMSE Train  Loss: 0.8265 | MSE Train Loss: 1.4179 | RMSE Val  Loss: 0.8262 | MSE Val Loss: 1.2209\n"
     ]
    },
    {
     "name": "stderr",
     "output_type": "stream",
     "text": [
      "Training samples: 100%|█████████████████████████████████████████████████████████████████████████████████████████████████████████████████████████████████| 519/519 [00:45<00:00, 11.40it/s]\n",
      "Validation samples: 100%|█████████████████████████████████████████████████████████████████████████████████████████████████████████████████████████████████| 58/58 [00:01<00:00, 54.90it/s]\n"
     ]
    },
    {
     "name": "stdout",
     "output_type": "stream",
     "text": [
      "Epoch:   8 | RMSE Train  Loss: 0.8252 | MSE Train Loss: 1.3759 | RMSE Val  Loss: 0.7447 | MSE Val Loss: 1.0089\n"
     ]
    },
    {
     "name": "stderr",
     "output_type": "stream",
     "text": [
      "Training samples: 100%|█████████████████████████████████████████████████████████████████████████████████████████████████████████████████████████████████| 519/519 [00:45<00:00, 11.37it/s]\n",
      "Validation samples: 100%|█████████████████████████████████████████████████████████████████████████████████████████████████████████████████████████████████| 58/58 [00:01<00:00, 55.21it/s]\n"
     ]
    },
    {
     "name": "stdout",
     "output_type": "stream",
     "text": [
      "Epoch:   9 | RMSE Train  Loss: 0.7650 | MSE Train Loss: 1.2162 | RMSE Val  Loss: 0.7639 | MSE Val Loss: 1.0801\n",
      "Model saved to ./models_gnn3dihed_rmse_4rev/gnn3d_freesolv.pth\n",
      "Time taken for training: 0 hours, 7 minutes, 43 seconds\n"
     ]
    },
    {
     "name": "stderr",
     "output_type": "stream",
     "text": [
      "Test samples: 100%|███████████████████████████████████████████████████████████████████████████████████████████████████████████████████████████████████████| 65/65 [00:01<00:00, 46.84it/s]\n"
     ]
    },
    {
     "name": "stdout",
     "output_type": "stream",
     "text": [
      "Test Results:\n",
      "RMSE Loss: 0.8462\n",
      "MSE Loss: 1.7212\n",
      "Time taken for training and evaluation: 0 hours, 7 minutes, 45 seconds\n",
      "Training for random_state = 1704\n"
     ]
    },
    {
     "name": "stderr",
     "output_type": "stream",
     "text": [
      "Training samples: 100%|█████████████████████████████████████████████████████████████████████████████████████████████████████████████████████████████████| 519/519 [00:45<00:00, 11.46it/s]\n",
      "Validation samples: 100%|█████████████████████████████████████████████████████████████████████████████████████████████████████████████████████████████████| 58/58 [00:01<00:00, 53.59it/s]\n"
     ]
    },
    {
     "name": "stdout",
     "output_type": "stream",
     "text": [
      "Epoch:   0 | RMSE Train  Loss: 2.4610 | MSE Train Loss: 12.0042 | RMSE Val  Loss: 1.7371 | MSE Val Loss: 6.4606\n"
     ]
    },
    {
     "name": "stderr",
     "output_type": "stream",
     "text": [
      "Training samples: 100%|█████████████████████████████████████████████████████████████████████████████████████████████████████████████████████████████████| 519/519 [00:45<00:00, 11.52it/s]\n",
      "Validation samples: 100%|█████████████████████████████████████████████████████████████████████████████████████████████████████████████████████████████████| 58/58 [00:01<00:00, 52.35it/s]\n"
     ]
    },
    {
     "name": "stdout",
     "output_type": "stream",
     "text": [
      "Epoch:   1 | RMSE Train  Loss: 1.4995 | MSE Train Loss: 5.0816 | RMSE Val  Loss: 1.2923 | MSE Val Loss: 3.6020\n"
     ]
    },
    {
     "name": "stderr",
     "output_type": "stream",
     "text": [
      "Training samples: 100%|█████████████████████████████████████████████████████████████████████████████████████████████████████████████████████████████████| 519/519 [00:44<00:00, 11.53it/s]\n",
      "Validation samples: 100%|█████████████████████████████████████████████████████████████████████████████████████████████████████████████████████████████████| 58/58 [00:01<00:00, 53.48it/s]\n"
     ]
    },
    {
     "name": "stdout",
     "output_type": "stream",
     "text": [
      "Epoch:   2 | RMSE Train  Loss: 1.1643 | MSE Train Loss: 3.0214 | RMSE Val  Loss: 1.0842 | MSE Val Loss: 2.3428\n"
     ]
    },
    {
     "name": "stderr",
     "output_type": "stream",
     "text": [
      "Training samples: 100%|█████████████████████████████████████████████████████████████████████████████████████████████████████████████████████████████████| 519/519 [00:45<00:00, 11.51it/s]\n",
      "Validation samples: 100%|█████████████████████████████████████████████████████████████████████████████████████████████████████████████████████████████████| 58/58 [00:01<00:00, 53.36it/s]\n"
     ]
    },
    {
     "name": "stdout",
     "output_type": "stream",
     "text": [
      "Epoch:   3 | RMSE Train  Loss: 0.9942 | MSE Train Loss: 2.2612 | RMSE Val  Loss: 1.0014 | MSE Val Loss: 1.8421\n"
     ]
    },
    {
     "name": "stderr",
     "output_type": "stream",
     "text": [
      "Training samples: 100%|█████████████████████████████████████████████████████████████████████████████████████████████████████████████████████████████████| 519/519 [00:45<00:00, 11.41it/s]\n",
      "Validation samples: 100%|█████████████████████████████████████████████████████████████████████████████████████████████████████████████████████████████████| 58/58 [00:01<00:00, 53.05it/s]\n"
     ]
    },
    {
     "name": "stdout",
     "output_type": "stream",
     "text": [
      "Epoch:   4 | RMSE Train  Loss: 0.9635 | MSE Train Loss: 1.9919 | RMSE Val  Loss: 0.9118 | MSE Val Loss: 1.5645\n"
     ]
    },
    {
     "name": "stderr",
     "output_type": "stream",
     "text": [
      "Training samples: 100%|█████████████████████████████████████████████████████████████████████████████████████████████████████████████████████████████████| 519/519 [00:45<00:00, 11.46it/s]\n",
      "Validation samples: 100%|█████████████████████████████████████████████████████████████████████████████████████████████████████████████████████████████████| 58/58 [00:01<00:00, 53.54it/s]\n"
     ]
    },
    {
     "name": "stdout",
     "output_type": "stream",
     "text": [
      "Epoch:   5 | RMSE Train  Loss: 0.9147 | MSE Train Loss: 1.8002 | RMSE Val  Loss: 0.9033 | MSE Val Loss: 1.5479\n"
     ]
    },
    {
     "name": "stderr",
     "output_type": "stream",
     "text": [
      "Training samples: 100%|█████████████████████████████████████████████████████████████████████████████████████████████████████████████████████████████████| 519/519 [00:45<00:00, 11.49it/s]\n",
      "Validation samples: 100%|█████████████████████████████████████████████████████████████████████████████████████████████████████████████████████████████████| 58/58 [00:01<00:00, 53.31it/s]\n"
     ]
    },
    {
     "name": "stdout",
     "output_type": "stream",
     "text": [
      "Epoch:   6 | RMSE Train  Loss: 0.8772 | MSE Train Loss: 1.5888 | RMSE Val  Loss: 1.0431 | MSE Val Loss: 1.8650\n"
     ]
    },
    {
     "name": "stderr",
     "output_type": "stream",
     "text": [
      "Training samples: 100%|█████████████████████████████████████████████████████████████████████████████████████████████████████████████████████████████████| 519/519 [00:45<00:00, 11.49it/s]\n",
      "Validation samples: 100%|█████████████████████████████████████████████████████████████████████████████████████████████████████████████████████████████████| 58/58 [00:01<00:00, 53.50it/s]\n"
     ]
    },
    {
     "name": "stdout",
     "output_type": "stream",
     "text": [
      "Epoch:   7 | RMSE Train  Loss: 0.8541 | MSE Train Loss: 1.5142 | RMSE Val  Loss: 0.9726 | MSE Val Loss: 1.6207\n"
     ]
    },
    {
     "name": "stderr",
     "output_type": "stream",
     "text": [
      "Training samples: 100%|█████████████████████████████████████████████████████████████████████████████████████████████████████████████████████████████████| 519/519 [00:45<00:00, 11.45it/s]\n",
      "Validation samples: 100%|█████████████████████████████████████████████████████████████████████████████████████████████████████████████████████████████████| 58/58 [00:01<00:00, 52.94it/s]\n"
     ]
    },
    {
     "name": "stdout",
     "output_type": "stream",
     "text": [
      "Epoch:   8 | RMSE Train  Loss: 0.8437 | MSE Train Loss: 1.4952 | RMSE Val  Loss: 1.0605 | MSE Val Loss: 1.9091\n"
     ]
    },
    {
     "name": "stderr",
     "output_type": "stream",
     "text": [
      "Training samples: 100%|█████████████████████████████████████████████████████████████████████████████████████████████████████████████████████████████████| 519/519 [00:45<00:00, 11.46it/s]\n",
      "Validation samples: 100%|█████████████████████████████████████████████████████████████████████████████████████████████████████████████████████████████████| 58/58 [00:01<00:00, 52.97it/s]\n"
     ]
    },
    {
     "name": "stdout",
     "output_type": "stream",
     "text": [
      "Epoch:   9 | RMSE Train  Loss: 0.8396 | MSE Train Loss: 1.3975 | RMSE Val  Loss: 1.0289 | MSE Val Loss: 1.7588\n",
      "Model saved to ./models_gnn3dihed_rmse_4rev/gnn3d_freesolv.pth\n",
      "Time taken for training: 0 hours, 7 minutes, 43 seconds\n"
     ]
    },
    {
     "name": "stderr",
     "output_type": "stream",
     "text": [
      "Test samples: 100%|███████████████████████████████████████████████████████████████████████████████████████████████████████████████████████████████████████| 65/65 [00:01<00:00, 46.92it/s]\n"
     ]
    },
    {
     "name": "stdout",
     "output_type": "stream",
     "text": [
      "Test Results:\n",
      "RMSE Loss: 1.0509\n",
      "MSE Loss: 2.2960\n",
      "Time taken for training and evaluation: 0 hours, 7 minutes, 44 seconds\n",
      "Training for random_state = 19472\n"
     ]
    },
    {
     "name": "stderr",
     "output_type": "stream",
     "text": [
      "Training samples: 100%|█████████████████████████████████████████████████████████████████████████████████████████████████████████████████████████████████| 519/519 [00:45<00:00, 11.50it/s]\n",
      "Validation samples: 100%|█████████████████████████████████████████████████████████████████████████████████████████████████████████████████████████████████| 58/58 [00:01<00:00, 53.51it/s]\n"
     ]
    },
    {
     "name": "stdout",
     "output_type": "stream",
     "text": [
      "Epoch:   0 | RMSE Train  Loss: 2.5964 | MSE Train Loss: 12.9383 | RMSE Val  Loss: 2.0245 | MSE Val Loss: 7.6966\n"
     ]
    },
    {
     "name": "stderr",
     "output_type": "stream",
     "text": [
      "Training samples: 100%|█████████████████████████████████████████████████████████████████████████████████████████████████████████████████████████████████| 519/519 [00:45<00:00, 11.49it/s]\n",
      "Validation samples: 100%|█████████████████████████████████████████████████████████████████████████████████████████████████████████████████████████████████| 58/58 [00:01<00:00, 53.75it/s]\n"
     ]
    },
    {
     "name": "stdout",
     "output_type": "stream",
     "text": [
      "Epoch:   1 | RMSE Train  Loss: 1.6253 | MSE Train Loss: 5.8533 | RMSE Val  Loss: 1.3660 | MSE Val Loss: 3.6835\n"
     ]
    },
    {
     "name": "stderr",
     "output_type": "stream",
     "text": [
      "Training samples: 100%|█████████████████████████████████████████████████████████████████████████████████████████████████████████████████████████████████| 519/519 [00:45<00:00, 11.50it/s]\n",
      "Validation samples: 100%|█████████████████████████████████████████████████████████████████████████████████████████████████████████████████████████████████| 58/58 [00:01<00:00, 53.85it/s]\n"
     ]
    },
    {
     "name": "stdout",
     "output_type": "stream",
     "text": [
      "Epoch:   2 | RMSE Train  Loss: 1.2118 | MSE Train Loss: 3.3766 | RMSE Val  Loss: 1.2759 | MSE Val Loss: 2.7237\n"
     ]
    },
    {
     "name": "stderr",
     "output_type": "stream",
     "text": [
      "Training samples: 100%|█████████████████████████████████████████████████████████████████████████████████████████████████████████████████████████████████| 519/519 [00:45<00:00, 11.48it/s]\n",
      "Validation samples: 100%|█████████████████████████████████████████████████████████████████████████████████████████████████████████████████████████████████| 58/58 [00:01<00:00, 53.19it/s]\n"
     ]
    },
    {
     "name": "stdout",
     "output_type": "stream",
     "text": [
      "Epoch:   3 | RMSE Train  Loss: 1.0726 | MSE Train Loss: 2.5076 | RMSE Val  Loss: 1.3077 | MSE Val Loss: 2.6170\n"
     ]
    },
    {
     "name": "stderr",
     "output_type": "stream",
     "text": [
      "Training samples: 100%|█████████████████████████████████████████████████████████████████████████████████████████████████████████████████████████████████| 519/519 [00:45<00:00, 11.31it/s]\n",
      "Validation samples: 100%|█████████████████████████████████████████████████████████████████████████████████████████████████████████████████████████████████| 58/58 [00:01<00:00, 50.93it/s]\n"
     ]
    },
    {
     "name": "stdout",
     "output_type": "stream",
     "text": [
      "Epoch:   4 | RMSE Train  Loss: 0.9745 | MSE Train Loss: 2.0383 | RMSE Val  Loss: 1.1415 | MSE Val Loss: 2.2453\n"
     ]
    },
    {
     "name": "stderr",
     "output_type": "stream",
     "text": [
      "Training samples: 100%|█████████████████████████████████████████████████████████████████████████████████████████████████████████████████████████████████| 519/519 [00:45<00:00, 11.41it/s]\n",
      "Validation samples: 100%|█████████████████████████████████████████████████████████████████████████████████████████████████████████████████████████████████| 58/58 [00:01<00:00, 52.76it/s]\n"
     ]
    },
    {
     "name": "stdout",
     "output_type": "stream",
     "text": [
      "Epoch:   5 | RMSE Train  Loss: 0.9545 | MSE Train Loss: 1.8309 | RMSE Val  Loss: 0.9876 | MSE Val Loss: 1.8916\n"
     ]
    },
    {
     "name": "stderr",
     "output_type": "stream",
     "text": [
      "Training samples: 100%|█████████████████████████████████████████████████████████████████████████████████████████████████████████████████████████████████| 519/519 [00:45<00:00, 11.49it/s]\n",
      "Validation samples: 100%|█████████████████████████████████████████████████████████████████████████████████████████████████████████████████████████████████| 58/58 [00:01<00:00, 52.95it/s]\n"
     ]
    },
    {
     "name": "stdout",
     "output_type": "stream",
     "text": [
      "Epoch:   6 | RMSE Train  Loss: 0.8929 | MSE Train Loss: 1.6427 | RMSE Val  Loss: 1.0666 | MSE Val Loss: 2.0242\n"
     ]
    },
    {
     "name": "stderr",
     "output_type": "stream",
     "text": [
      "Training samples: 100%|█████████████████████████████████████████████████████████████████████████████████████████████████████████████████████████████████| 519/519 [00:45<00:00, 11.45it/s]\n",
      "Validation samples: 100%|█████████████████████████████████████████████████████████████████████████████████████████████████████████████████████████████████| 58/58 [00:01<00:00, 53.62it/s]\n"
     ]
    },
    {
     "name": "stdout",
     "output_type": "stream",
     "text": [
      "Epoch:   7 | RMSE Train  Loss: 0.8592 | MSE Train Loss: 1.5211 | RMSE Val  Loss: 0.9344 | MSE Val Loss: 1.7111\n"
     ]
    },
    {
     "name": "stderr",
     "output_type": "stream",
     "text": [
      "Training samples: 100%|█████████████████████████████████████████████████████████████████████████████████████████████████████████████████████████████████| 519/519 [00:45<00:00, 11.48it/s]\n",
      "Validation samples: 100%|█████████████████████████████████████████████████████████████████████████████████████████████████████████████████████████████████| 58/58 [00:01<00:00, 53.61it/s]\n"
     ]
    },
    {
     "name": "stdout",
     "output_type": "stream",
     "text": [
      "Epoch:   8 | RMSE Train  Loss: 0.8424 | MSE Train Loss: 1.4533 | RMSE Val  Loss: 0.9133 | MSE Val Loss: 1.6551\n"
     ]
    },
    {
     "name": "stderr",
     "output_type": "stream",
     "text": [
      "Training samples: 100%|█████████████████████████████████████████████████████████████████████████████████████████████████████████████████████████████████| 519/519 [00:45<00:00, 11.48it/s]\n",
      "Validation samples: 100%|█████████████████████████████████████████████████████████████████████████████████████████████████████████████████████████████████| 58/58 [00:01<00:00, 53.15it/s]\n"
     ]
    },
    {
     "name": "stdout",
     "output_type": "stream",
     "text": [
      "Epoch:   9 | RMSE Train  Loss: 0.8221 | MSE Train Loss: 1.3842 | RMSE Val  Loss: 0.9067 | MSE Val Loss: 1.6343\n",
      "Model saved to ./models_gnn3dihed_rmse_4rev/gnn3d_freesolv.pth\n",
      "Time taken for training: 0 hours, 7 minutes, 43 seconds\n"
     ]
    },
    {
     "name": "stderr",
     "output_type": "stream",
     "text": [
      "Test samples: 100%|███████████████████████████████████████████████████████████████████████████████████████████████████████████████████████████████████████| 65/65 [00:01<00:00, 46.54it/s]\n"
     ]
    },
    {
     "name": "stdout",
     "output_type": "stream",
     "text": [
      "Test Results:\n",
      "RMSE Loss: 1.0059\n",
      "MSE Loss: 2.1852\n",
      "Time taken for training and evaluation: 0 hours, 7 minutes, 45 seconds\n",
      "RMSE Losses Train: [[2.367032695367846, 1.44356516243348, 1.1377198283842305, 1.0252123351041982, 0.9398707980882226, 0.8898336523874647, 0.8344571924335924, 0.8309884865217356, 0.7877785438287694, 0.7674980831542456], [2.588258233316142, 1.5592630415982593, 1.1626698883081676, 1.005571503859724, 0.9122917378942171, 0.864346847598493, 0.8395419728032426, 0.7812079217514608, 0.7926382027810479, 0.718516943082644], [2.4528419808960145, 1.583610787427839, 1.2344060760414899, 1.0693869078406248, 0.9749678077610472, 0.9310709973492145, 0.8697026458663977, 0.8265304773443007, 0.8251688765911008, 0.7650495933401102], [2.4610295137228992, 1.499491955618408, 1.164302059853008, 0.9941688206958403, 0.9634908485389628, 0.9146557207396954, 0.877152260690784, 0.8540794508018476, 0.8436777011737199, 0.8395633927917894], [2.5963770023947275, 1.625303129914983, 1.2117936314731435, 1.072568670087467, 0.9745166891744371, 0.9544947787056999, 0.8928624819066943, 0.8591772577005774, 0.8424021365095885, 0.8221299161628491]]\n",
      "RMSE Losses Val: [[1.9567786439739425, 1.511540060413295, 1.3362441083480572, 1.2585693823880162, 1.128303619294331, 1.1061934705438285, 1.198985776125357, 1.076999936124374, 0.9810911653370693, 0.9944778331394853], [1.8223824809337485, 1.2996828681949912, 1.1737883183462867, 1.169883558462406, 1.1610116845574872, 1.2350422164489483, 1.138252004981041, 1.1337155607239953, 1.1015510620742008, 1.0773363776248077], [1.449966276514119, 1.0762769358939137, 0.9209530790304316, 0.8216615596721912, 1.0092531273077274, 0.883820511143783, 0.8210403385796937, 0.8261880204081535, 0.7446616839232116, 0.7639411690420118], [1.7371138323997628, 1.2923027009799564, 1.0841779112815857, 1.001443202125615, 0.9118314025730923, 0.9032573522678737, 1.0431179776787758, 0.9726429376108893, 1.0605056516761924, 1.0288671021317612], [2.024543879360988, 1.3659814549931164, 1.275874248352544, 1.3076553131485809, 1.1414709712924629, 0.9875685652268344, 1.066616863301345, 0.934424679597904, 0.9133198221438917, 0.9067297169360621]]\n",
      "Epoch | Average Training Loss | Average Validation Loss\n",
      "    0 | 2.4931                | 1.7982\n",
      "    1 | 1.5422                | 1.3092\n",
      "    2 | 1.1822                | 1.1582\n",
      "    3 | 1.0334                | 1.1118\n",
      "    4 | 0.9530                | 1.0704\n",
      "    5 | 0.9109                | 1.0232\n",
      "    6 | 0.8627                | 1.0536\n",
      "    7 | 0.8304                | 0.9888\n",
      "    8 | 0.8183                | 0.9602\n",
      "    9 | 0.7826                | 0.9543\n"
     ]
    },
    {
     "data": {
      "image/png": "[encoded data removed]",
      "text/plain": [
       "<Figure size 1000x600 with 1 Axes>"
      ]
     },
     "metadata": {},
     "output_type": "display_data"
    }
   ],
   "source": [
    "if __name__ == '__main__':\n",
    "    gnn3d, atom_autoencoder, bond_autoencoder, n_epochs, rmse_losses_train, rmse_losses_val, predictions, targets = main()\n",
    "\n",
    "    print(\"RMSE Losses Train:\", rmse_losses_train)\n",
    "    print(\"RMSE Losses Val:\", rmse_losses_val)\n",
    "\n",
    "    plt.figure(figsize=(10, 6))\n",
    "    for i, train_losses in enumerate(rmse_losses_train):\n",
    "        plt.plot(range(1, n_epochs + 1), train_losses, marker='o', color=f'C{i}', label=f'Model {i+1}: Training Loss')\n",
    "\n",
    "    for i, val_losses in enumerate(rmse_losses_val):\n",
    "        plt.plot(range(1, n_epochs + 1), val_losses, marker='x', color=f'C{i}', label=f'Model {i+1}: Validation Loss')\n",
    "\n",
    "    # Calculate and plot average losses for training and validation from various models\n",
    "    avg_train_losses = [sum(losses) / len(losses) for losses in zip(*rmse_losses_train)]\n",
    "    avg_val_losses = [sum(losses) / len(losses) for losses in zip(*rmse_losses_val)]\n",
    "\n",
    "    plt.plot(range(1, n_epochs + 1), avg_train_losses, marker='o', color='black', linestyle='--', label='Average Training Loss')\n",
    "    plt.plot(range(1, n_epochs + 1), avg_val_losses, marker='x', color='black', linestyle='--', label='Average Validation Loss')\n",
    "\n",
    "    plt.xlabel('Epochs')\n",
    "    plt.ylabel('RMSE Loss')\n",
    "    plt.title('RMSE Loss vs. Epochs for Multiple Models')\n",
    "    plt.legend()\n",
    "    plt.grid(True)\n",
    "    plt.tight_layout()\n",
    "    plt.savefig(f\"{modeldir}gnn3d_losses_{dataset_name}_multi_models.png\")\n",
    "    plt.savefig(f\"{modeldir}gnn3d_losses_{dataset_name}_multi_models.svg\", format='svg')\n",
    "   #plt.show()\n",
    "\n",
    "    print(f\"Epoch | Average Training Loss | Average Validation Loss\")\n",
    "    for i in range(n_epochs):\n",
    "        print(f\" {i:>4} | {avg_train_losses[i]:.4f}                | {avg_val_losses[i]:.4f}\")\n",
    "\n",
    "## Know your correlations (KYC)=============================\n",
    "\n",
    "    # Convert lists to NumPy arrays\n",
    "    #predictions = np.array(predictions)\n",
    "    #targets = np.array(targets)\n",
    "\n",
    "    # Calculate Pearson correlation coefficient\n",
    "    #corr, _ = pearsonr(predictions, targets)\n",
    "\n",
    "    #print(f\"Pearson Correlation Coefficient: {corr:.4f}\")\n",
    "\n",
    "    #r_squared = calculate_r_squared(predictions, targets)\n",
    "    #print(f\"Coefficient of Determination R^2: {r_squared:.4f}\")"
   ]
  }
 ],
 "metadata": {
  "kernelspec": {
   "display_name": "Python 3 (ipykernel)",
   "language": "python",
   "name": "python3"
  },
  "language_info": {
   "codemirror_mode": {
    "name": "ipython",
    "version": 3
   },
   "file_extension": ".py",
   "mimetype": "text/x-python",
   "name": "python",
   "nbconvert_exporter": "python",
   "pygments_lexer": "ipython3",
   "version": "3.12.2"
  }
 },
 "nbformat": 4,
 "nbformat_minor": 5
}
