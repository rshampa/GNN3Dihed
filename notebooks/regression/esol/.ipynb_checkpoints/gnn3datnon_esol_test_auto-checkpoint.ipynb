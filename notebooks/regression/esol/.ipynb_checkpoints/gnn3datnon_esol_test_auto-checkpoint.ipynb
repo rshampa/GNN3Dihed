{
 "cells": [
  {
   "cell_type": "markdown",
   "id": "ede5a585-8b58-4257-b162-6e36cb73f873",
   "metadata": {},
   "source": [
    "## Know your libraries (KYL)"
   ]
  },
  {
   "cell_type": "code",
   "execution_count": 1,
   "id": "96c06257-a4aa-4aa0-a2cc-d61619fb23e7",
   "metadata": {},
   "outputs": [
    {
     "name": "stdout",
     "output_type": "stream",
     "text": [
      "cpu\n"
     ]
    }
   ],
   "source": [
    "import sys\n",
    "sys.path.append('../../src')\n",
    "\n",
    "import dataset, molecular_representation, config, utils, model\n",
    "from dataset import QM9Dataset,LogSDataset,LogPDataset,FreeSolvDataset,ESOLDataset,ToxQDataset\n",
    "import numpy as np\n",
    "import pandas as pd\n",
    "from utils import *\n",
    "import torch\n",
    "from scipy.stats import pearsonr\n",
    "from tqdm import tqdm\n",
    "from model import Autoencoder # Simply importing the autoencoder model module from the model.py file\n",
    "from model import GNN3D,GNN3DAtnON,GNN3DAtnOFF,GNN3Dihed\n",
    "\n",
    "import matplotlib.pyplot as plt\n",
    "from rdkit import Chem\n",
    "from rdkit.Chem import AllChem\n",
    "from rdkit.Chem.Draw import MolsToGridImage\n",
    "\n",
    "import os\n",
    "datadir=\"../../data/esol/\"\n",
    "modeldir=\"./models_gnn3datnon_rmse/\"\n",
    "dataset_name=\"esol\"\n",
    "# Create datadir and modeldir folders if they don't exist\n",
    "if not os.path.exists(datadir):\n",
    "    os.makedirs(datadir)\n",
    "    \n",
    "if not os.path.exists(modeldir):\n",
    "    os.makedirs(modeldir)\n",
    "\n",
    "import time\n",
    "import datetime\n",
    "\n",
    "device = torch.device(\"cuda\" if torch.cuda.is_available() else \"cpu\")\n",
    "print(device)"
   ]
  },
  {
   "cell_type": "markdown",
   "id": "9f15f0d0-0cb2-4642-84b0-5b63450abc49",
   "metadata": {},
   "source": [
    "## Split your dataset (SYD)"
   ]
  },
  {
   "cell_type": "code",
   "execution_count": 2,
   "id": "6cc4c168-84d4-4b6b-9101-730733b54d69",
   "metadata": {},
   "outputs": [
    {
     "name": "stdout",
     "output_type": "stream",
     "text": [
      "Train and test datasets saved successfully.\n"
     ]
    }
   ],
   "source": [
    "# Load dataset from CSV\n",
    "dataset = pd.read_csv(datadir+dataset_name+\".csv\")\n",
    "\n",
    "# Split dataset into train and test\n",
    "train_dataset, test_dataset = split_dataset(dataset, 0.9)\n",
    "\n",
    "# Write train_dataset and test_dataset to CSV files\n",
    "train_dataset.to_csv(datadir+\"train.csv\", index=False)\n",
    "test_dataset.to_csv(datadir+\"test.csv\", index=False)\n",
    "\n",
    "print(\"Train and test datasets saved successfully.\")"
   ]
  },
  {
   "cell_type": "markdown",
   "id": "d54da7a7-16b5-4c3d-9016-404ee9cc5d0d",
   "metadata": {},
   "source": [
    "## Process your data (PYD)"
   ]
  },
  {
   "cell_type": "code",
   "execution_count": 3,
   "id": "57a5b7a1-e495-4f9a-9afe-5f36a14e4ee0",
   "metadata": {},
   "outputs": [
    {
     "name": "stdout",
     "output_type": "stream",
     "text": [
      "Loading dataset from folder\n",
      "Initializing Molecular Representation Generator\n",
      "Dataset Name: ESOL\n",
      "Number of Molecules Loaded: 1015\n",
      "===================================\n",
      "Loading dataset from folder\n",
      "Initializing Molecular Representation Generator\n",
      "Dataset Name: ESOL\n",
      "Number of Molecules Loaded: 113\n"
     ]
    }
   ],
   "source": [
    "train_samples = ESOLDataset(datadir+\"train\")\n",
    "print(train_samples)\n",
    "print(\"===================================\")\n",
    "test_samples = ESOLDataset(datadir+\"test\")\n",
    "print(test_samples)"
   ]
  },
  {
   "cell_type": "markdown",
   "id": "fb6992d9-9ff0-4e60-8c03-06e81c1265ac",
   "metadata": {},
   "source": [
    "## Know your featues (KYF)"
   ]
  },
  {
   "cell_type": "code",
   "execution_count": 4,
   "id": "15e120fd-0f78-40a9-b890-b237c8715434",
   "metadata": {},
   "outputs": [
    {
     "name": "stdout",
     "output_type": "stream",
     "text": [
      "Atomic Features: torch.Size([36, 154]) - This represents the atomic features of the molecule\n",
      "Bond Features: torch.Size([76, 10]) - This represents the bond features of the molecule\n",
      "Angle Features: torch.Size([130]) - This represents the angle features of the molecule\n",
      "Dihedral Features: torch.Size([174]) - This represents the dihedral features of the molecule\n",
      "Global Molecular Features: torch.Size([200]) - This represents the global molecular features of the molecule\n",
      "Bond Indices: torch.Size([76, 2]) - This represents the bond indices of the molecule\n",
      "Angle Indices: torch.Size([130, 2]) - This represents the angle indices of the molecule\n",
      "Dihedral Indices: torch.Size([174, 2]) - This represents the dihedral indices of the molecule\n",
      "Target: torch.Size([1]) - This represents the target of the molecule\n"
     ]
    }
   ],
   "source": [
    "# Printing out the dimensions of all of these features with a description of what each feature is\n",
    "print(f\"Atomic Features: {(train_samples[0])[0].shape} - This represents the atomic features of the molecule\")\n",
    "print(f\"Bond Features: {(train_samples[0])[1].shape} - This represents the bond features of the molecule\")\n",
    "print(f\"Angle Features: {(train_samples[0])[2].shape} - This represents the angle features of the molecule\")\n",
    "print(f\"Dihedral Features: {(train_samples[0])[3].shape} - This represents the dihedral features of the molecule\")\n",
    "print(f\"Global Molecular Features: {(train_samples[0])[4].shape} - This represents the global molecular features of the molecule\")\n",
    "print(f\"Bond Indices: {(train_samples[0])[5].shape} - This represents the bond indices of the molecule\")\n",
    "print(f\"Angle Indices: {(train_samples[0])[6].shape} - This represents the angle indices of the molecule\")\n",
    "print(f\"Dihedral Indices: {(train_samples[0])[7].shape} - This represents the dihedral indices of the molecule\")\n",
    "print(f\"Target: {(train_samples[0])[8].shape} - This represents the target of the molecule\")"
   ]
  },
  {
   "cell_type": "markdown",
   "id": "b386540a-8acc-49bf-94b9-b8760824a501",
   "metadata": {},
   "source": [
    "## Know your modules (KYM)"
   ]
  },
  {
   "cell_type": "code",
   "execution_count": 28,
   "id": "a8573178-6a9e-4bcd-8fb6-168c142cf693",
   "metadata": {},
   "outputs": [],
   "source": [
    "def train_gnn3d_vary_dataset_size(train_samples, min_samples=10, max_samples=45, divisions=3, n_epochs= 10, printstep=10, save_dir=\"./models/vary_train_size/\", dataset_name=\"logs\"):\n",
    "    \"\"\"Train GNN3D for varying training set size\"\"\"\n",
    "    # Create the directory if it does not exist\n",
    "    os.makedirs(save_dir, exist_ok=True)\n",
    "   \n",
    "    # Determine step size for each division\n",
    "    sample_step_size = int((max_samples - min_samples) / divisions) + 1\n",
    "\n",
    "    # Dictionary to store RMSE and MSE for each division\n",
    "    gnn_rmse_dict = {}\n",
    "\n",
    "    # Open a file to save the accumulated losses\n",
    "    losses_file = os.path.join(save_dir, f\"vary_size_gnn3d_losses_{dataset_name}.txt\")\n",
    "    with open(losses_file, 'w') as f:\n",
    "        f.write(f\"Training set size |\\tRMSE Loss |\\tMSE Loss\\n\")\n",
    "    \n",
    "        # Loop through divisions\n",
    "        for division_i in range(divisions + 1):\n",
    "            # Initialize training components for each division\n",
    "            # Aond and bond autoencoders' dimensions to be changed for a new dataset\n",
    "            atom_autoencoder = Autoencoder(154, 46).to(device)\n",
    "            bond_autoencoder = Autoencoder(10, 3).to(device)\n",
    "            mse_loss_fn = torch.nn.MSELoss()\n",
    "            gnn3d = GNN3DAtnON(atomic_vector_size=46, bond_vector_size=3, number_of_molecular_features=200, number_of_targets=1).to(device)\n",
    "            gnn_optimizer = torch.optim.Adam(gnn3d.parameters())\n",
    "\n",
    "            for epoch_i in range(n_epochs):\n",
    "                # Average losses initialization\n",
    "                avg_rmse = 0\n",
    "                avg_mse = 0\n",
    "\n",
    "                # Current size of the training set for this division\n",
    "                current_size = min_samples + sample_step_size * division_i\n",
    "\n",
    "                # Initialize dictionary entry for current division\n",
    "                gnn_rmse_dict[\"d\" + str(current_size)] = {\"avg_rmse\": [], \"avg_mse\": []}\n",
    "\n",
    "                # Training loop for current division\n",
    "                for sample_i in tqdm(range(len(train_samples)), desc=f\"Division {division_i + 1}/{divisions + 1}\"):\n",
    "                    if sample_i >= current_size:\n",
    "                        break\n",
    "\n",
    "                    molecule = train_samples[sample_i]\n",
    "                    target = molecule[8].to(device)\n",
    "\n",
    "                    input_representation = [\n",
    "                        atom_autoencoder.encode(molecule[0].to(device)),\n",
    "                        bond_autoencoder.encode(molecule[1].to(device)),\n",
    "                        molecule[2].to(device),\n",
    "                        molecule[3].to(device),\n",
    "                        molecule[4].to(device),\n",
    "                        molecule[5].to(device),\n",
    "                        molecule[6].to(device),\n",
    "                        molecule[7].to(device)\n",
    "                    ]\n",
    "\n",
    "                    # Forward pass\n",
    "                    prediction = gnn3d(input_representation)\n",
    "\n",
    "                    # Compute loss\n",
    "                    loss = mse_loss_fn(prediction, target)\n",
    "\n",
    "                    # Backward pass and optimization step\n",
    "                    gnn_optimizer.zero_grad()\n",
    "                    loss.backward()\n",
    "                    gnn_optimizer.step()\n",
    "\n",
    "                    # Update average RMSE and MSE\n",
    "                    avg_rmse = (avg_rmse * sample_i + torch.sqrt(loss).item()) / (sample_i + 1)\n",
    "                    avg_mse = (avg_mse * sample_i + loss.item()) / (sample_i + 1)\n",
    "                    gnn_rmse_dict[\"d\" + str(current_size)][\"avg_rmse\"].append(avg_rmse)\n",
    "                    gnn_rmse_dict[\"d\" + str(current_size)][\"avg_mse\"].append(avg_mse)\n",
    "\n",
    "                    if (sample_i % printstep == 0):\n",
    "                        print(f\"Epoch: {epoch_i:>3} | Samples: {sample_i:>6}/{current_size:>3} | RMSE Loss: {avg_rmse:.4f} | MSE Loss: {avg_mse:.4f} | target: {target.item():.4f} | pred: {prediction.item():.4f}\")\n",
    "    \n",
    "            # Save losses to a file\n",
    "            f.write(f\"{current_size}\\t{avg_rmse}\\t{avg_mse}\\n\")\n",
    "        \n",
    "        # Save model state after each division\n",
    "        torch.save(gnn3d.state_dict(), f\"{save_dir}gnn3d_{dataset_name}_div{current_size}.pth\")\n",
    "\n",
    "    return gnn_rmse_dict"
   ]
  },
  {
   "cell_type": "code",
   "execution_count": 29,
   "id": "4222d615-2453-4270-b041-13c7976ee160",
   "metadata": {
    "scrolled": true
   },
   "outputs": [
    {
     "name": "stderr",
     "output_type": "stream",
     "text": [
      "Division 1/5:   0%|▏                                                                              | 3/1015 [00:00<01:24, 11.98it/s]"
     ]
    },
    {
     "name": "stdout",
     "output_type": "stream",
     "text": [
      "Epoch:   0 | Samples:      0/100 | RMSE Loss: 4.4062 | MSE Loss: 19.4149 | target: -4.5540 | pred: -0.1478\n"
     ]
    },
    {
     "name": "stderr",
     "output_type": "stream",
     "text": [
      "Division 1/5:   3%|██▌                                                                           | 34/1015 [00:02<01:21, 12.07it/s]"
     ]
    },
    {
     "name": "stdout",
     "output_type": "stream",
     "text": [
      "Epoch:   0 | Samples:     32/100 | RMSE Loss: 1.9453 | MSE Loss: 6.7577 | target: -3.8960 | pred: -3.7617\n"
     ]
    },
    {
     "name": "stderr",
     "output_type": "stream",
     "text": [
      "Division 1/5:   7%|█████                                                                         | 66/1015 [00:05<01:25, 11.04it/s]"
     ]
    },
    {
     "name": "stdout",
     "output_type": "stream",
     "text": [
      "Epoch:   0 | Samples:     64/100 | RMSE Loss: 1.7342 | MSE Loss: 5.1243 | target: -4.1000 | pred: -4.5483\n"
     ]
    },
    {
     "name": "stderr",
     "output_type": "stream",
     "text": [
      "Division 1/5:  10%|███████▌                                                                     | 100/1015 [00:07<01:10, 12.95it/s]\n"
     ]
    },
    {
     "name": "stdout",
     "output_type": "stream",
     "text": [
      "Epoch:   0 | Samples:     96/100 | RMSE Loss: 1.6188 | MSE Loss: 4.4825 | target: -1.3300 | pred: -2.1717\n"
     ]
    },
    {
     "name": "stderr",
     "output_type": "stream",
     "text": [
      "Division 1/5:   0%|▏                                                                              | 3/1015 [00:00<01:08, 14.87it/s]"
     ]
    },
    {
     "name": "stdout",
     "output_type": "stream",
     "text": [
      "Epoch:   1 | Samples:      0/100 | RMSE Loss: 1.1385 | MSE Loss: 1.2962 | target: -4.5540 | pred: -3.4155\n"
     ]
    },
    {
     "name": "stderr",
     "output_type": "stream",
     "text": [
      "Division 1/5:   3%|██▌                                                                           | 34/1015 [00:02<01:16, 12.79it/s]"
     ]
    },
    {
     "name": "stdout",
     "output_type": "stream",
     "text": [
      "Epoch:   1 | Samples:     32/100 | RMSE Loss: 1.4887 | MSE Loss: 3.5712 | target: -3.8960 | pred: -3.0825\n"
     ]
    },
    {
     "name": "stderr",
     "output_type": "stream",
     "text": [
      "Division 1/5:   7%|█████                                                                         | 66/1015 [00:05<01:21, 11.60it/s]"
     ]
    },
    {
     "name": "stdout",
     "output_type": "stream",
     "text": [
      "Epoch:   1 | Samples:     64/100 | RMSE Loss: 1.3470 | MSE Loss: 2.8718 | target: -4.1000 | pred: -3.6439\n"
     ]
    },
    {
     "name": "stderr",
     "output_type": "stream",
     "text": [
      "Division 1/5:  10%|███████▌                                                                     | 100/1015 [00:07<01:07, 13.49it/s]\n"
     ]
    },
    {
     "name": "stdout",
     "output_type": "stream",
     "text": [
      "Epoch:   1 | Samples:     96/100 | RMSE Loss: 1.2889 | MSE Loss: 2.7226 | target: -1.3300 | pred: -2.0836\n"
     ]
    },
    {
     "name": "stderr",
     "output_type": "stream",
     "text": [
      "Division 1/5:   0%|▏                                                                              | 3/1015 [00:00<01:08, 14.78it/s]"
     ]
    },
    {
     "name": "stdout",
     "output_type": "stream",
     "text": [
      "Epoch:   2 | Samples:      0/100 | RMSE Loss: 1.0995 | MSE Loss: 1.2088 | target: -4.5540 | pred: -3.4545\n"
     ]
    },
    {
     "name": "stderr",
     "output_type": "stream",
     "text": [
      "Division 1/5:   3%|██▌                                                                           | 34/1015 [00:02<01:16, 12.79it/s]"
     ]
    },
    {
     "name": "stdout",
     "output_type": "stream",
     "text": [
      "Epoch:   2 | Samples:     32/100 | RMSE Loss: 1.3143 | MSE Loss: 2.8009 | target: -3.8960 | pred: -3.5217\n"
     ]
    },
    {
     "name": "stderr",
     "output_type": "stream",
     "text": [
      "Division 1/5:   7%|█████                                                                         | 66/1015 [00:05<01:21, 11.63it/s]"
     ]
    },
    {
     "name": "stdout",
     "output_type": "stream",
     "text": [
      "Epoch:   2 | Samples:     64/100 | RMSE Loss: 1.1694 | MSE Loss: 2.2077 | target: -4.1000 | pred: -3.6726\n"
     ]
    },
    {
     "name": "stderr",
     "output_type": "stream",
     "text": [
      "Division 1/5:  10%|███████▌                                                                     | 100/1015 [00:07<01:07, 13.54it/s]\n"
     ]
    },
    {
     "name": "stdout",
     "output_type": "stream",
     "text": [
      "Epoch:   2 | Samples:     96/100 | RMSE Loss: 1.1281 | MSE Loss: 2.0733 | target: -1.3300 | pred: -2.0291\n"
     ]
    },
    {
     "name": "stderr",
     "output_type": "stream",
     "text": [
      "Division 1/5:   0%|▏                                                                              | 3/1015 [00:00<01:07, 14.99it/s]"
     ]
    },
    {
     "name": "stdout",
     "output_type": "stream",
     "text": [
      "Epoch:   3 | Samples:      0/100 | RMSE Loss: 1.1181 | MSE Loss: 1.2502 | target: -4.5540 | pred: -3.4359\n"
     ]
    },
    {
     "name": "stderr",
     "output_type": "stream",
     "text": [
      "Division 1/5:   3%|██▌                                                                           | 34/1015 [00:02<01:17, 12.65it/s]"
     ]
    },
    {
     "name": "stdout",
     "output_type": "stream",
     "text": [
      "Epoch:   3 | Samples:     32/100 | RMSE Loss: 1.1564 | MSE Loss: 2.2173 | target: -3.8960 | pred: -3.8681\n"
     ]
    },
    {
     "name": "stderr",
     "output_type": "stream",
     "text": [
      "Division 1/5:   7%|█████                                                                         | 66/1015 [00:05<01:21, 11.63it/s]"
     ]
    },
    {
     "name": "stdout",
     "output_type": "stream",
     "text": [
      "Epoch:   3 | Samples:     64/100 | RMSE Loss: 1.0327 | MSE Loss: 1.7372 | target: -4.1000 | pred: -3.6948\n"
     ]
    },
    {
     "name": "stderr",
     "output_type": "stream",
     "text": [
      "Division 1/5:  10%|███████▌                                                                     | 100/1015 [00:07<01:07, 13.53it/s]\n"
     ]
    },
    {
     "name": "stdout",
     "output_type": "stream",
     "text": [
      "Epoch:   3 | Samples:     96/100 | RMSE Loss: 0.9911 | MSE Loss: 1.6026 | target: -1.3300 | pred: -1.9650\n"
     ]
    },
    {
     "name": "stderr",
     "output_type": "stream",
     "text": [
      "Division 1/5:   0%|▏                                                                              | 3/1015 [00:00<01:07, 15.01it/s]"
     ]
    },
    {
     "name": "stdout",
     "output_type": "stream",
     "text": [
      "Epoch:   4 | Samples:      0/100 | RMSE Loss: 1.1351 | MSE Loss: 1.2884 | target: -4.5540 | pred: -3.4189\n"
     ]
    },
    {
     "name": "stderr",
     "output_type": "stream",
     "text": [
      "Division 1/5:   3%|██▌                                                                           | 34/1015 [00:02<01:18, 12.57it/s]"
     ]
    },
    {
     "name": "stdout",
     "output_type": "stream",
     "text": [
      "Epoch:   4 | Samples:     32/100 | RMSE Loss: 1.0359 | MSE Loss: 1.7656 | target: -3.8960 | pred: -4.2009\n"
     ]
    },
    {
     "name": "stderr",
     "output_type": "stream",
     "text": [
      "Division 1/5:   7%|█████                                                                         | 66/1015 [00:05<01:21, 11.65it/s]"
     ]
    },
    {
     "name": "stdout",
     "output_type": "stream",
     "text": [
      "Epoch:   4 | Samples:     64/100 | RMSE Loss: 0.9251 | MSE Loss: 1.3920 | target: -4.1000 | pred: -3.7122\n"
     ]
    },
    {
     "name": "stderr",
     "output_type": "stream",
     "text": [
      "Division 1/5:  10%|███████▌                                                                     | 100/1015 [00:07<01:07, 13.53it/s]\n"
     ]
    },
    {
     "name": "stdout",
     "output_type": "stream",
     "text": [
      "Epoch:   4 | Samples:     96/100 | RMSE Loss: 0.8776 | MSE Loss: 1.2413 | target: -1.3300 | pred: -1.7922\n"
     ]
    },
    {
     "name": "stderr",
     "output_type": "stream",
     "text": [
      "Division 1/5:   0%|▏                                                                              | 3/1015 [00:00<01:08, 14.77it/s]"
     ]
    },
    {
     "name": "stdout",
     "output_type": "stream",
     "text": [
      "Epoch:   5 | Samples:      0/100 | RMSE Loss: 1.3014 | MSE Loss: 1.6935 | target: -4.5540 | pred: -3.2526\n"
     ]
    },
    {
     "name": "stderr",
     "output_type": "stream",
     "text": [
      "Division 1/5:   3%|██▌                                                                           | 34/1015 [00:02<01:16, 12.84it/s]"
     ]
    },
    {
     "name": "stdout",
     "output_type": "stream",
     "text": [
      "Epoch:   5 | Samples:     32/100 | RMSE Loss: 0.9024 | MSE Loss: 1.3515 | target: -3.8960 | pred: -4.5907\n"
     ]
    },
    {
     "name": "stderr",
     "output_type": "stream",
     "text": [
      "Division 1/5:   7%|█████                                                                         | 66/1015 [00:05<01:20, 11.72it/s]"
     ]
    },
    {
     "name": "stdout",
     "output_type": "stream",
     "text": [
      "Epoch:   5 | Samples:     64/100 | RMSE Loss: 0.8329 | MSE Loss: 1.1175 | target: -4.1000 | pred: -3.7658\n"
     ]
    },
    {
     "name": "stderr",
     "output_type": "stream",
     "text": [
      "Division 1/5:  10%|███████▌                                                                     | 100/1015 [00:07<01:07, 13.48it/s]\n"
     ]
    },
    {
     "name": "stdout",
     "output_type": "stream",
     "text": [
      "Epoch:   5 | Samples:     96/100 | RMSE Loss: 0.7903 | MSE Loss: 0.9914 | target: -1.3300 | pred: -1.7074\n"
     ]
    },
    {
     "name": "stderr",
     "output_type": "stream",
     "text": [
      "Division 1/5:   0%|▏                                                                              | 3/1015 [00:00<01:08, 14.88it/s]"
     ]
    },
    {
     "name": "stdout",
     "output_type": "stream",
     "text": [
      "Epoch:   6 | Samples:      0/100 | RMSE Loss: 1.2487 | MSE Loss: 1.5594 | target: -4.5540 | pred: -3.3053\n"
     ]
    },
    {
     "name": "stderr",
     "output_type": "stream",
     "text": [
      "Division 1/5:   3%|██▌                                                                           | 34/1015 [00:02<01:16, 12.86it/s]"
     ]
    },
    {
     "name": "stdout",
     "output_type": "stream",
     "text": [
      "Epoch:   6 | Samples:     32/100 | RMSE Loss: 0.8353 | MSE Loss: 1.1295 | target: -3.8960 | pred: -4.7276\n"
     ]
    },
    {
     "name": "stderr",
     "output_type": "stream",
     "text": [
      "Division 1/5:   7%|█████                                                                         | 66/1015 [00:05<01:21, 11.66it/s]"
     ]
    },
    {
     "name": "stdout",
     "output_type": "stream",
     "text": [
      "Epoch:   6 | Samples:     64/100 | RMSE Loss: 0.7665 | MSE Loss: 0.9558 | target: -4.1000 | pred: -3.8161\n"
     ]
    },
    {
     "name": "stderr",
     "output_type": "stream",
     "text": [
      "Division 1/5:  10%|███████▌                                                                     | 100/1015 [00:07<01:07, 13.51it/s]\n"
     ]
    },
    {
     "name": "stdout",
     "output_type": "stream",
     "text": [
      "Epoch:   6 | Samples:     96/100 | RMSE Loss: 0.7302 | MSE Loss: 0.8492 | target: -1.3300 | pred: -1.6418\n"
     ]
    },
    {
     "name": "stderr",
     "output_type": "stream",
     "text": [
      "Division 1/5:   0%|▏                                                                              | 3/1015 [00:00<01:08, 14.67it/s]"
     ]
    },
    {
     "name": "stdout",
     "output_type": "stream",
     "text": [
      "Epoch:   7 | Samples:      0/100 | RMSE Loss: 1.1134 | MSE Loss: 1.2397 | target: -4.5540 | pred: -3.4406\n"
     ]
    },
    {
     "name": "stderr",
     "output_type": "stream",
     "text": [
      "Division 1/5:   3%|██▌                                                                           | 34/1015 [00:02<01:17, 12.59it/s]"
     ]
    },
    {
     "name": "stdout",
     "output_type": "stream",
     "text": [
      "Epoch:   7 | Samples:     32/100 | RMSE Loss: 0.7853 | MSE Loss: 0.9575 | target: -3.8960 | pred: -4.9863\n"
     ]
    },
    {
     "name": "stderr",
     "output_type": "stream",
     "text": [
      "Division 1/5:   7%|█████                                                                         | 66/1015 [00:05<01:21, 11.63it/s]"
     ]
    },
    {
     "name": "stdout",
     "output_type": "stream",
     "text": [
      "Epoch:   7 | Samples:     64/100 | RMSE Loss: 0.7251 | MSE Loss: 0.8408 | target: -4.1000 | pred: -3.8170\n"
     ]
    },
    {
     "name": "stderr",
     "output_type": "stream",
     "text": [
      "Division 1/5:  10%|███████▌                                                                     | 100/1015 [00:07<01:08, 13.38it/s]\n"
     ]
    },
    {
     "name": "stdout",
     "output_type": "stream",
     "text": [
      "Epoch:   7 | Samples:     96/100 | RMSE Loss: 0.6957 | MSE Loss: 0.7588 | target: -1.3300 | pred: -1.6144\n"
     ]
    },
    {
     "name": "stderr",
     "output_type": "stream",
     "text": [
      "Division 1/5:   0%|▏                                                                              | 3/1015 [00:00<01:10, 14.42it/s]"
     ]
    },
    {
     "name": "stdout",
     "output_type": "stream",
     "text": [
      "Epoch:   8 | Samples:      0/100 | RMSE Loss: 1.0116 | MSE Loss: 1.0233 | target: -4.5540 | pred: -3.5424\n"
     ]
    },
    {
     "name": "stderr",
     "output_type": "stream",
     "text": [
      "Division 1/5:   3%|██▌                                                                           | 34/1015 [00:02<01:16, 12.91it/s]"
     ]
    },
    {
     "name": "stdout",
     "output_type": "stream",
     "text": [
      "Epoch:   8 | Samples:     32/100 | RMSE Loss: 0.7287 | MSE Loss: 0.8284 | target: -3.8960 | pred: -4.8435\n"
     ]
    },
    {
     "name": "stderr",
     "output_type": "stream",
     "text": [
      "Division 1/5:   7%|█████                                                                         | 66/1015 [00:05<01:21, 11.70it/s]"
     ]
    },
    {
     "name": "stdout",
     "output_type": "stream",
     "text": [
      "Epoch:   8 | Samples:     64/100 | RMSE Loss: 0.6697 | MSE Loss: 0.7241 | target: -4.1000 | pred: -3.8880\n"
     ]
    },
    {
     "name": "stderr",
     "output_type": "stream",
     "text": [
      "Division 1/5:  10%|███████▌                                                                     | 100/1015 [00:07<01:07, 13.48it/s]\n"
     ]
    },
    {
     "name": "stdout",
     "output_type": "stream",
     "text": [
      "Epoch:   8 | Samples:     96/100 | RMSE Loss: 0.6454 | MSE Loss: 0.6684 | target: -1.3300 | pred: -1.4965\n"
     ]
    },
    {
     "name": "stderr",
     "output_type": "stream",
     "text": [
      "Division 1/5:   0%|▏                                                                              | 3/1015 [00:00<01:09, 14.65it/s]"
     ]
    },
    {
     "name": "stdout",
     "output_type": "stream",
     "text": [
      "Epoch:   9 | Samples:      0/100 | RMSE Loss: 0.9355 | MSE Loss: 0.8751 | target: -4.5540 | pred: -3.6185\n"
     ]
    },
    {
     "name": "stderr",
     "output_type": "stream",
     "text": [
      "Division 1/5:   3%|██▌                                                                           | 34/1015 [00:02<01:16, 12.75it/s]"
     ]
    },
    {
     "name": "stdout",
     "output_type": "stream",
     "text": [
      "Epoch:   9 | Samples:     32/100 | RMSE Loss: 0.6733 | MSE Loss: 0.7060 | target: -3.8960 | pred: -4.8035\n"
     ]
    },
    {
     "name": "stderr",
     "output_type": "stream",
     "text": [
      "Division 1/5:   7%|█████                                                                         | 66/1015 [00:05<01:21, 11.64it/s]"
     ]
    },
    {
     "name": "stdout",
     "output_type": "stream",
     "text": [
      "Epoch:   9 | Samples:     64/100 | RMSE Loss: 0.6250 | MSE Loss: 0.6254 | target: -4.1000 | pred: -3.9497\n"
     ]
    },
    {
     "name": "stderr",
     "output_type": "stream",
     "text": [
      "Division 1/5:  10%|███████▌                                                                     | 100/1015 [00:07<01:07, 13.49it/s]\n"
     ]
    },
    {
     "name": "stdout",
     "output_type": "stream",
     "text": [
      "Epoch:   9 | Samples:     96/100 | RMSE Loss: 0.6068 | MSE Loss: 0.5953 | target: -1.3300 | pred: -1.3628\n"
     ]
    },
    {
     "name": "stderr",
     "output_type": "stream",
     "text": [
      "Division 2/5:   0%|▏                                                                              | 3/1015 [00:00<01:09, 14.49it/s]"
     ]
    },
    {
     "name": "stdout",
     "output_type": "stream",
     "text": [
      "Epoch:   0 | Samples:      0/329 | RMSE Loss: 4.3627 | MSE Loss: 19.0331 | target: -4.5540 | pred: -0.1913\n"
     ]
    },
    {
     "name": "stderr",
     "output_type": "stream",
     "text": [
      "Division 2/5:   3%|██▌                                                                           | 34/1015 [00:02<01:16, 12.86it/s]"
     ]
    },
    {
     "name": "stdout",
     "output_type": "stream",
     "text": [
      "Epoch:   0 | Samples:     32/329 | RMSE Loss: 1.8950 | MSE Loss: 6.4243 | target: -3.8960 | pred: -3.4136\n"
     ]
    },
    {
     "name": "stderr",
     "output_type": "stream",
     "text": [
      "Division 2/5:   7%|█████                                                                         | 66/1015 [00:05<01:21, 11.64it/s]"
     ]
    },
    {
     "name": "stdout",
     "output_type": "stream",
     "text": [
      "Epoch:   0 | Samples:     64/329 | RMSE Loss: 1.6971 | MSE Loss: 4.9535 | target: -4.1000 | pred: -4.2454\n"
     ]
    },
    {
     "name": "stderr",
     "output_type": "stream",
     "text": [
      "Division 2/5:  10%|███████▌                                                                     | 100/1015 [00:07<01:05, 13.90it/s]"
     ]
    },
    {
     "name": "stdout",
     "output_type": "stream",
     "text": [
      "Epoch:   0 | Samples:     96/329 | RMSE Loss: 1.5963 | MSE Loss: 4.4364 | target: -1.3300 | pred: -2.0562\n"
     ]
    },
    {
     "name": "stderr",
     "output_type": "stream",
     "text": [
      "Division 2/5:  13%|█████████▉                                                                   | 131/1015 [00:09<01:09, 12.74it/s]"
     ]
    },
    {
     "name": "stdout",
     "output_type": "stream",
     "text": [
      "Epoch:   0 | Samples:    128/329 | RMSE Loss: 1.4469 | MSE Loss: 3.7035 | target: 0.0090 | pred: -2.2734\n"
     ]
    },
    {
     "name": "stderr",
     "output_type": "stream",
     "text": [
      "Division 2/5:  16%|████████████▎                                                                | 162/1015 [00:12<01:06, 12.85it/s]"
     ]
    },
    {
     "name": "stdout",
     "output_type": "stream",
     "text": [
      "Epoch:   0 | Samples:    160/329 | RMSE Loss: 1.4645 | MSE Loss: 3.6948 | target: -1.0900 | pred: -2.6464\n"
     ]
    },
    {
     "name": "stderr",
     "output_type": "stream",
     "text": [
      "Division 2/5:  19%|██████████████▊                                                              | 195/1015 [00:15<01:04, 12.75it/s]"
     ]
    },
    {
     "name": "stdout",
     "output_type": "stream",
     "text": [
      "Epoch:   0 | Samples:    192/329 | RMSE Loss: 1.4424 | MSE Loss: 3.6425 | target: -1.3700 | pred: -1.9702\n"
     ]
    },
    {
     "name": "stderr",
     "output_type": "stream",
     "text": [
      "Division 2/5:  22%|█████████████████▏                                                           | 226/1015 [00:17<00:57, 13.73it/s]"
     ]
    },
    {
     "name": "stdout",
     "output_type": "stream",
     "text": [
      "Epoch:   0 | Samples:    224/329 | RMSE Loss: 1.4280 | MSE Loss: 3.6525 | target: -2.0500 | pred: -2.5521\n"
     ]
    },
    {
     "name": "stderr",
     "output_type": "stream",
     "text": [
      "Division 2/5:  26%|███████████████████▋                                                         | 259/1015 [00:20<01:08, 11.03it/s]"
     ]
    },
    {
     "name": "stdout",
     "output_type": "stream",
     "text": [
      "Epoch:   0 | Samples:    256/329 | RMSE Loss: 1.4406 | MSE Loss: 3.6022 | target: -4.4200 | pred: -5.2316\n"
     ]
    },
    {
     "name": "stderr",
     "output_type": "stream",
     "text": [
      "Division 2/5:  29%|██████████████████████▏                                                      | 292/1015 [00:23<00:58, 12.40it/s]"
     ]
    },
    {
     "name": "stdout",
     "output_type": "stream",
     "text": [
      "Epoch:   0 | Samples:    288/329 | RMSE Loss: 1.4341 | MSE Loss: 3.5519 | target: -2.3690 | pred: -2.1443\n"
     ]
    },
    {
     "name": "stderr",
     "output_type": "stream",
     "text": [
      "Division 2/5:  32%|████████████████████████▌                                                    | 323/1015 [00:25<00:47, 14.45it/s]"
     ]
    },
    {
     "name": "stdout",
     "output_type": "stream",
     "text": [
      "Epoch:   0 | Samples:    320/329 | RMSE Loss: 1.3887 | MSE Loss: 3.3916 | target: -3.3500 | pred: -3.6068\n"
     ]
    },
    {
     "name": "stderr",
     "output_type": "stream",
     "text": [
      "Division 2/5:  32%|████████████████████████▉                                                    | 329/1015 [00:26<00:54, 12.55it/s]\n",
      "Division 2/5:   0%|▏                                                                              | 3/1015 [00:00<01:09, 14.54it/s]"
     ]
    },
    {
     "name": "stdout",
     "output_type": "stream",
     "text": [
      "Epoch:   1 | Samples:      0/329 | RMSE Loss: 1.5203 | MSE Loss: 2.3113 | target: -4.5540 | pred: -3.0337\n"
     ]
    },
    {
     "name": "stderr",
     "output_type": "stream",
     "text": [
      "Division 2/5:   3%|██▋                                                                           | 35/1015 [00:02<01:15, 12.94it/s]"
     ]
    },
    {
     "name": "stdout",
     "output_type": "stream",
     "text": [
      "Epoch:   1 | Samples:     32/329 | RMSE Loss: 1.1703 | MSE Loss: 2.1025 | target: -3.8960 | pred: -3.8629\n"
     ]
    },
    {
     "name": "stderr",
     "output_type": "stream",
     "text": [
      "Division 2/5:   7%|█████▏                                                                        | 67/1015 [00:05<01:16, 12.38it/s]"
     ]
    },
    {
     "name": "stdout",
     "output_type": "stream",
     "text": [
      "Epoch:   1 | Samples:     64/329 | RMSE Loss: 1.0394 | MSE Loss: 1.6568 | target: -4.1000 | pred: -3.5627\n"
     ]
    },
    {
     "name": "stderr",
     "output_type": "stream",
     "text": [
      "Division 2/5:  10%|███████▌                                                                     | 100/1015 [00:07<01:10, 12.99it/s]"
     ]
    },
    {
     "name": "stdout",
     "output_type": "stream",
     "text": [
      "Epoch:   1 | Samples:     96/329 | RMSE Loss: 0.9807 | MSE Loss: 1.5115 | target: -1.3300 | pred: -1.9420\n"
     ]
    },
    {
     "name": "stderr",
     "output_type": "stream",
     "text": [
      "Division 2/5:  13%|█████████▉                                                                   | 131/1015 [00:10<01:09, 12.80it/s]"
     ]
    },
    {
     "name": "stdout",
     "output_type": "stream",
     "text": [
      "Epoch:   1 | Samples:    128/329 | RMSE Loss: 0.9116 | MSE Loss: 1.3616 | target: 0.0090 | pred: -1.1772\n"
     ]
    },
    {
     "name": "stderr",
     "output_type": "stream",
     "text": [
      "Division 2/5:  16%|████████████▎                                                                | 162/1015 [00:12<01:05, 12.93it/s]"
     ]
    },
    {
     "name": "stdout",
     "output_type": "stream",
     "text": [
      "Epoch:   1 | Samples:    160/329 | RMSE Loss: 0.9531 | MSE Loss: 1.4391 | target: -1.0900 | pred: -1.8254\n"
     ]
    },
    {
     "name": "stderr",
     "output_type": "stream",
     "text": [
      "Division 2/5:  19%|██████████████▊                                                              | 195/1015 [00:15<01:04, 12.65it/s]"
     ]
    },
    {
     "name": "stdout",
     "output_type": "stream",
     "text": [
      "Epoch:   1 | Samples:    192/329 | RMSE Loss: 0.9658 | MSE Loss: 1.5261 | target: -1.3700 | pred: -2.0786\n"
     ]
    },
    {
     "name": "stderr",
     "output_type": "stream",
     "text": [
      "Division 2/5:  22%|█████████████████▏                                                           | 226/1015 [00:17<00:57, 13.66it/s]"
     ]
    },
    {
     "name": "stdout",
     "output_type": "stream",
     "text": [
      "Epoch:   1 | Samples:    224/329 | RMSE Loss: 0.9489 | MSE Loss: 1.4954 | target: -2.0500 | pred: -1.9705\n"
     ]
    },
    {
     "name": "stderr",
     "output_type": "stream",
     "text": [
      "Division 2/5:  26%|███████████████████▋                                                         | 259/1015 [00:20<01:09, 10.87it/s]"
     ]
    },
    {
     "name": "stdout",
     "output_type": "stream",
     "text": [
      "Epoch:   1 | Samples:    256/329 | RMSE Loss: 0.9507 | MSE Loss: 1.4747 | target: -4.4200 | pred: -5.6591\n"
     ]
    },
    {
     "name": "stderr",
     "output_type": "stream",
     "text": [
      "Division 2/5:  29%|██████████████████████▏                                                      | 292/1015 [00:23<00:58, 12.36it/s]"
     ]
    },
    {
     "name": "stdout",
     "output_type": "stream",
     "text": [
      "Epoch:   1 | Samples:    288/329 | RMSE Loss: 0.9563 | MSE Loss: 1.4832 | target: -2.3690 | pred: -2.0215\n"
     ]
    },
    {
     "name": "stderr",
     "output_type": "stream",
     "text": [
      "Division 2/5:  32%|████████████████████████▌                                                    | 323/1015 [00:25<00:46, 14.73it/s]"
     ]
    },
    {
     "name": "stdout",
     "output_type": "stream",
     "text": [
      "Epoch:   1 | Samples:    320/329 | RMSE Loss: 0.9321 | MSE Loss: 1.4171 | target: -3.3500 | pred: -3.9133\n"
     ]
    },
    {
     "name": "stderr",
     "output_type": "stream",
     "text": [
      "Division 2/5:  32%|████████████████████████▉                                                    | 329/1015 [00:26<00:55, 12.44it/s]\n",
      "Division 2/5:   0%|▏                                                                              | 3/1015 [00:00<01:08, 14.80it/s]"
     ]
    },
    {
     "name": "stdout",
     "output_type": "stream",
     "text": [
      "Epoch:   2 | Samples:      0/329 | RMSE Loss: 1.8655 | MSE Loss: 3.4800 | target: -4.5540 | pred: -2.6885\n"
     ]
    },
    {
     "name": "stderr",
     "output_type": "stream",
     "text": [
      "Division 2/5:   3%|██▋                                                                           | 35/1015 [00:02<01:15, 12.99it/s]"
     ]
    },
    {
     "name": "stdout",
     "output_type": "stream",
     "text": [
      "Epoch:   2 | Samples:     32/329 | RMSE Loss: 0.9406 | MSE Loss: 1.4882 | target: -3.8960 | pred: -4.5886\n"
     ]
    },
    {
     "name": "stderr",
     "output_type": "stream",
     "text": [
      "Division 2/5:   7%|█████▏                                                                        | 67/1015 [00:05<01:14, 12.68it/s]"
     ]
    },
    {
     "name": "stdout",
     "output_type": "stream",
     "text": [
      "Epoch:   2 | Samples:     64/329 | RMSE Loss: 0.8547 | MSE Loss: 1.1850 | target: -4.1000 | pred: -3.7347\n"
     ]
    },
    {
     "name": "stderr",
     "output_type": "stream",
     "text": [
      "Division 2/5:  10%|███████▌                                                                     | 100/1015 [00:07<01:09, 13.08it/s]"
     ]
    },
    {
     "name": "stdout",
     "output_type": "stream",
     "text": [
      "Epoch:   2 | Samples:     96/329 | RMSE Loss: 0.8124 | MSE Loss: 1.0593 | target: -1.3300 | pred: -1.7409\n"
     ]
    },
    {
     "name": "stderr",
     "output_type": "stream",
     "text": [
      "Division 2/5:  13%|█████████▉                                                                   | 131/1015 [00:10<01:08, 12.83it/s]"
     ]
    },
    {
     "name": "stdout",
     "output_type": "stream",
     "text": [
      "Epoch:   2 | Samples:    128/329 | RMSE Loss: 0.7632 | MSE Loss: 0.9775 | target: 0.0090 | pred: -0.4850\n"
     ]
    },
    {
     "name": "stderr",
     "output_type": "stream",
     "text": [
      "Division 2/5:  16%|████████████▎                                                                | 162/1015 [00:12<01:05, 13.02it/s]"
     ]
    },
    {
     "name": "stdout",
     "output_type": "stream",
     "text": [
      "Epoch:   2 | Samples:    160/329 | RMSE Loss: 0.7909 | MSE Loss: 1.0189 | target: -1.0900 | pred: -1.6208\n"
     ]
    },
    {
     "name": "stderr",
     "output_type": "stream",
     "text": [
      "Division 2/5:  19%|██████████████▊                                                              | 195/1015 [00:15<01:04, 12.70it/s]"
     ]
    },
    {
     "name": "stdout",
     "output_type": "stream",
     "text": [
      "Epoch:   2 | Samples:    192/329 | RMSE Loss: 0.8066 | MSE Loss: 1.0944 | target: -1.3700 | pred: -2.0464\n"
     ]
    },
    {
     "name": "stderr",
     "output_type": "stream",
     "text": [
      "Division 2/5:  22%|█████████████████▏                                                           | 226/1015 [00:17<00:58, 13.45it/s]"
     ]
    },
    {
     "name": "stdout",
     "output_type": "stream",
     "text": [
      "Epoch:   2 | Samples:    224/329 | RMSE Loss: 0.7928 | MSE Loss: 1.0530 | target: -2.0500 | pred: -1.9727\n"
     ]
    },
    {
     "name": "stderr",
     "output_type": "stream",
     "text": [
      "Division 2/5:  26%|███████████████████▋                                                         | 259/1015 [00:20<01:10, 10.69it/s]"
     ]
    },
    {
     "name": "stdout",
     "output_type": "stream",
     "text": [
      "Epoch:   2 | Samples:    256/329 | RMSE Loss: 0.7926 | MSE Loss: 1.0327 | target: -4.4200 | pred: -5.3907\n"
     ]
    },
    {
     "name": "stderr",
     "output_type": "stream",
     "text": [
      "Division 2/5:  29%|██████████████████████▏                                                      | 292/1015 [00:23<00:59, 12.14it/s]"
     ]
    },
    {
     "name": "stdout",
     "output_type": "stream",
     "text": [
      "Epoch:   2 | Samples:    288/329 | RMSE Loss: 0.7994 | MSE Loss: 1.0404 | target: -2.3690 | pred: -2.4803\n"
     ]
    },
    {
     "name": "stderr",
     "output_type": "stream",
     "text": [
      "Division 2/5:  32%|████████████████████████▌                                                    | 323/1015 [00:25<00:46, 14.73it/s]"
     ]
    },
    {
     "name": "stdout",
     "output_type": "stream",
     "text": [
      "Epoch:   2 | Samples:    320/329 | RMSE Loss: 0.7830 | MSE Loss: 0.9976 | target: -3.3500 | pred: -3.8858\n"
     ]
    },
    {
     "name": "stderr",
     "output_type": "stream",
     "text": [
      "Division 2/5:  32%|████████████████████████▉                                                    | 329/1015 [00:26<00:55, 12.41it/s]\n",
      "Division 2/5:   0%|▏                                                                              | 3/1015 [00:00<01:10, 14.46it/s]"
     ]
    },
    {
     "name": "stdout",
     "output_type": "stream",
     "text": [
      "Epoch:   3 | Samples:      0/329 | RMSE Loss: 1.8281 | MSE Loss: 3.3418 | target: -4.5540 | pred: -2.7259\n"
     ]
    },
    {
     "name": "stderr",
     "output_type": "stream",
     "text": [
      "Division 2/5:   3%|██▋                                                                           | 35/1015 [00:02<01:16, 12.85it/s]"
     ]
    },
    {
     "name": "stdout",
     "output_type": "stream",
     "text": [
      "Epoch:   3 | Samples:     32/329 | RMSE Loss: 0.8666 | MSE Loss: 1.1993 | target: -3.8960 | pred: -5.0350\n"
     ]
    },
    {
     "name": "stderr",
     "output_type": "stream",
     "text": [
      "Division 2/5:   7%|█████▏                                                                        | 67/1015 [00:05<01:16, 12.45it/s]"
     ]
    },
    {
     "name": "stdout",
     "output_type": "stream",
     "text": [
      "Epoch:   3 | Samples:     64/329 | RMSE Loss: 0.7602 | MSE Loss: 0.9423 | target: -4.1000 | pred: -4.0620\n"
     ]
    },
    {
     "name": "stderr",
     "output_type": "stream",
     "text": [
      "Division 2/5:  10%|███████▍                                                                      | 97/1015 [00:07<01:17, 11.89it/s]"
     ]
    },
    {
     "name": "stdout",
     "output_type": "stream",
     "text": [
      "Epoch:   3 | Samples:     96/329 | RMSE Loss: 0.7493 | MSE Loss: 0.8854 | target: -1.3300 | pred: -1.5271\n"
     ]
    },
    {
     "name": "stderr",
     "output_type": "stream",
     "text": [
      "Division 2/5:  13%|█████████▉                                                                   | 131/1015 [00:10<01:09, 12.77it/s]"
     ]
    },
    {
     "name": "stdout",
     "output_type": "stream",
     "text": [
      "Epoch:   3 | Samples:    128/329 | RMSE Loss: 0.7014 | MSE Loss: 0.8118 | target: 0.0090 | pred: -0.0667\n"
     ]
    },
    {
     "name": "stderr",
     "output_type": "stream",
     "text": [
      "Division 2/5:  16%|████████████▎                                                                | 162/1015 [00:12<01:06, 12.81it/s]"
     ]
    },
    {
     "name": "stdout",
     "output_type": "stream",
     "text": [
      "Epoch:   3 | Samples:    160/329 | RMSE Loss: 0.7196 | MSE Loss: 0.8324 | target: -1.0900 | pred: -1.5253\n"
     ]
    },
    {
     "name": "stderr",
     "output_type": "stream",
     "text": [
      "Division 2/5:  19%|██████████████▊                                                              | 195/1015 [00:15<01:05, 12.56it/s]"
     ]
    },
    {
     "name": "stdout",
     "output_type": "stream",
     "text": [
      "Epoch:   3 | Samples:    192/329 | RMSE Loss: 0.7318 | MSE Loss: 0.8801 | target: -1.3700 | pred: -1.9917\n"
     ]
    },
    {
     "name": "stderr",
     "output_type": "stream",
     "text": [
      "Division 2/5:  22%|█████████████████                                                            | 225/1015 [00:17<00:59, 13.36it/s]"
     ]
    },
    {
     "name": "stdout",
     "output_type": "stream",
     "text": [
      "Epoch:   3 | Samples:    224/329 | RMSE Loss: 0.7190 | MSE Loss: 0.8407 | target: -2.0500 | pred: -2.0121\n"
     ]
    },
    {
     "name": "stderr",
     "output_type": "stream",
     "text": [
      "Division 2/5:  25%|███████████████████▍                                                         | 257/1015 [00:20<01:07, 11.24it/s]"
     ]
    },
    {
     "name": "stdout",
     "output_type": "stream",
     "text": [
      "Epoch:   3 | Samples:    256/329 | RMSE Loss: 0.7157 | MSE Loss: 0.8225 | target: -4.4200 | pred: -5.1678\n"
     ]
    },
    {
     "name": "stderr",
     "output_type": "stream",
     "text": [
      "Division 2/5:  29%|██████████████████████▏                                                      | 292/1015 [00:23<00:58, 12.46it/s]"
     ]
    },
    {
     "name": "stdout",
     "output_type": "stream",
     "text": [
      "Epoch:   3 | Samples:    288/329 | RMSE Loss: 0.7224 | MSE Loss: 0.8317 | target: -2.3690 | pred: -2.6859\n"
     ]
    },
    {
     "name": "stderr",
     "output_type": "stream",
     "text": [
      "Division 2/5:  32%|████████████████████████▌                                                    | 323/1015 [00:25<00:47, 14.64it/s]"
     ]
    },
    {
     "name": "stdout",
     "output_type": "stream",
     "text": [
      "Epoch:   3 | Samples:    320/329 | RMSE Loss: 0.7103 | MSE Loss: 0.8057 | target: -3.3500 | pred: -3.7821\n"
     ]
    },
    {
     "name": "stderr",
     "output_type": "stream",
     "text": [
      "Division 2/5:  32%|████████████████████████▉                                                    | 329/1015 [00:26<00:55, 12.41it/s]\n",
      "Division 2/5:   0%|▏                                                                              | 3/1015 [00:00<01:09, 14.64it/s]"
     ]
    },
    {
     "name": "stdout",
     "output_type": "stream",
     "text": [
      "Epoch:   4 | Samples:      0/329 | RMSE Loss: 1.7294 | MSE Loss: 2.9907 | target: -4.5540 | pred: -2.8246\n"
     ]
    },
    {
     "name": "stderr",
     "output_type": "stream",
     "text": [
      "Division 2/5:   3%|██▌                                                                           | 34/1015 [00:02<01:20, 12.11it/s]"
     ]
    },
    {
     "name": "stdout",
     "output_type": "stream",
     "text": [
      "Epoch:   4 | Samples:     32/329 | RMSE Loss: 0.8202 | MSE Loss: 1.0008 | target: -3.8960 | pred: -5.2170\n"
     ]
    },
    {
     "name": "stderr",
     "output_type": "stream",
     "text": [
      "Division 2/5:   7%|█████                                                                         | 66/1015 [00:05<01:23, 11.30it/s]"
     ]
    },
    {
     "name": "stdout",
     "output_type": "stream",
     "text": [
      "Epoch:   4 | Samples:     64/329 | RMSE Loss: 0.7085 | MSE Loss: 0.7805 | target: -4.1000 | pred: -4.2653\n"
     ]
    },
    {
     "name": "stderr",
     "output_type": "stream",
     "text": [
      "Division 2/5:  10%|███████▍                                                                      | 97/1015 [00:07<01:16, 12.04it/s]"
     ]
    },
    {
     "name": "stdout",
     "output_type": "stream",
     "text": [
      "Epoch:   4 | Samples:     96/329 | RMSE Loss: 0.7108 | MSE Loss: 0.7735 | target: -1.3300 | pred: -1.3502\n"
     ]
    },
    {
     "name": "stderr",
     "output_type": "stream",
     "text": [
      "Division 2/5:  13%|█████████▉                                                                   | 131/1015 [00:10<01:10, 12.61it/s]"
     ]
    },
    {
     "name": "stdout",
     "output_type": "stream",
     "text": [
      "Epoch:   4 | Samples:    128/329 | RMSE Loss: 0.6669 | MSE Loss: 0.7024 | target: 0.0090 | pred: 0.2029\n"
     ]
    },
    {
     "name": "stderr",
     "output_type": "stream",
     "text": [
      "Division 2/5:  16%|████████████▎                                                                | 162/1015 [00:12<01:05, 12.98it/s]"
     ]
    },
    {
     "name": "stdout",
     "output_type": "stream",
     "text": [
      "Epoch:   4 | Samples:    160/329 | RMSE Loss: 0.6797 | MSE Loss: 0.7145 | target: -1.0900 | pred: -1.5065\n"
     ]
    },
    {
     "name": "stderr",
     "output_type": "stream",
     "text": [
      "Division 2/5:  19%|██████████████▊                                                              | 195/1015 [00:15<01:04, 12.66it/s]"
     ]
    },
    {
     "name": "stdout",
     "output_type": "stream",
     "text": [
      "Epoch:   4 | Samples:    192/329 | RMSE Loss: 0.6863 | MSE Loss: 0.7440 | target: -1.3700 | pred: -1.9750\n"
     ]
    },
    {
     "name": "stderr",
     "output_type": "stream",
     "text": [
      "Division 2/5:  22%|█████████████████▏                                                           | 226/1015 [00:17<00:59, 13.36it/s]"
     ]
    },
    {
     "name": "stdout",
     "output_type": "stream",
     "text": [
      "Epoch:   4 | Samples:    224/329 | RMSE Loss: 0.6749 | MSE Loss: 0.7171 | target: -2.0500 | pred: -2.0751\n"
     ]
    },
    {
     "name": "stderr",
     "output_type": "stream",
     "text": [
      "Division 2/5:  25%|███████████████████▍                                                         | 257/1015 [00:20<01:06, 11.34it/s]"
     ]
    },
    {
     "name": "stdout",
     "output_type": "stream",
     "text": [
      "Epoch:   4 | Samples:    256/329 | RMSE Loss: 0.6678 | MSE Loss: 0.6982 | target: -4.4200 | pred: -5.0649\n"
     ]
    },
    {
     "name": "stderr",
     "output_type": "stream",
     "text": [
      "Division 2/5:  29%|██████████████████████▏                                                      | 292/1015 [00:23<00:58, 12.36it/s]"
     ]
    },
    {
     "name": "stdout",
     "output_type": "stream",
     "text": [
      "Epoch:   4 | Samples:    288/329 | RMSE Loss: 0.6726 | MSE Loss: 0.7072 | target: -2.3690 | pred: -2.7963\n"
     ]
    },
    {
     "name": "stderr",
     "output_type": "stream",
     "text": [
      "Division 2/5:  32%|████████████████████████▌                                                    | 323/1015 [00:25<00:47, 14.49it/s]"
     ]
    },
    {
     "name": "stdout",
     "output_type": "stream",
     "text": [
      "Epoch:   4 | Samples:    320/329 | RMSE Loss: 0.6627 | MSE Loss: 0.6907 | target: -3.3500 | pred: -3.8243\n"
     ]
    },
    {
     "name": "stderr",
     "output_type": "stream",
     "text": [
      "Division 2/5:  32%|████████████████████████▉                                                    | 329/1015 [00:26<00:55, 12.40it/s]\n",
      "Division 2/5:   0%|▏                                                                              | 3/1015 [00:00<01:09, 14.49it/s]"
     ]
    },
    {
     "name": "stdout",
     "output_type": "stream",
     "text": [
      "Epoch:   5 | Samples:      0/329 | RMSE Loss: 1.5375 | MSE Loss: 2.3639 | target: -4.5540 | pred: -3.0165\n"
     ]
    },
    {
     "name": "stderr",
     "output_type": "stream",
     "text": [
      "Division 2/5:   3%|██▋                                                                           | 35/1015 [00:02<01:16, 12.89it/s]"
     ]
    },
    {
     "name": "stdout",
     "output_type": "stream",
     "text": [
      "Epoch:   5 | Samples:     32/329 | RMSE Loss: 0.7694 | MSE Loss: 0.8460 | target: -3.8960 | pred: -5.3212\n"
     ]
    },
    {
     "name": "stderr",
     "output_type": "stream",
     "text": [
      "Division 2/5:   7%|█████▏                                                                        | 67/1015 [00:05<01:15, 12.50it/s]"
     ]
    },
    {
     "name": "stdout",
     "output_type": "stream",
     "text": [
      "Epoch:   5 | Samples:     64/329 | RMSE Loss: 0.6603 | MSE Loss: 0.6695 | target: -4.1000 | pred: -4.3910\n"
     ]
    },
    {
     "name": "stderr",
     "output_type": "stream",
     "text": [
      "Division 2/5:  10%|███████▌                                                                     | 100/1015 [00:07<01:10, 12.94it/s]"
     ]
    },
    {
     "name": "stdout",
     "output_type": "stream",
     "text": [
      "Epoch:   5 | Samples:     96/329 | RMSE Loss: 0.6728 | MSE Loss: 0.6936 | target: -1.3300 | pred: -1.2976\n"
     ]
    },
    {
     "name": "stderr",
     "output_type": "stream",
     "text": [
      "Division 2/5:  13%|█████████▉                                                                   | 131/1015 [00:10<01:09, 12.78it/s]"
     ]
    },
    {
     "name": "stdout",
     "output_type": "stream",
     "text": [
      "Epoch:   5 | Samples:    128/329 | RMSE Loss: 0.6360 | MSE Loss: 0.6276 | target: 0.0090 | pred: 0.2865\n"
     ]
    },
    {
     "name": "stderr",
     "output_type": "stream",
     "text": [
      "Division 2/5:  16%|████████████▎                                                                | 162/1015 [00:12<01:05, 12.95it/s]"
     ]
    },
    {
     "name": "stdout",
     "output_type": "stream",
     "text": [
      "Epoch:   5 | Samples:    160/329 | RMSE Loss: 0.6472 | MSE Loss: 0.6395 | target: -1.0900 | pred: -1.5126\n"
     ]
    },
    {
     "name": "stderr",
     "output_type": "stream",
     "text": [
      "Division 2/5:  19%|██████████████▊                                                              | 195/1015 [00:15<01:05, 12.56it/s]"
     ]
    },
    {
     "name": "stdout",
     "output_type": "stream",
     "text": [
      "Epoch:   5 | Samples:    192/329 | RMSE Loss: 0.6495 | MSE Loss: 0.6559 | target: -1.3700 | pred: -1.9948\n"
     ]
    },
    {
     "name": "stderr",
     "output_type": "stream",
     "text": [
      "Division 2/5:  22%|█████████████████▏                                                           | 226/1015 [00:17<00:58, 13.53it/s]"
     ]
    },
    {
     "name": "stdout",
     "output_type": "stream",
     "text": [
      "Epoch:   5 | Samples:    224/329 | RMSE Loss: 0.6396 | MSE Loss: 0.6372 | target: -2.0500 | pred: -2.0997\n"
     ]
    },
    {
     "name": "stderr",
     "output_type": "stream",
     "text": [
      "Division 2/5:  25%|███████████████████▍                                                         | 257/1015 [00:20<01:07, 11.17it/s]"
     ]
    },
    {
     "name": "stdout",
     "output_type": "stream",
     "text": [
      "Epoch:   5 | Samples:    256/329 | RMSE Loss: 0.6315 | MSE Loss: 0.6199 | target: -4.4200 | pred: -4.9933\n"
     ]
    },
    {
     "name": "stderr",
     "output_type": "stream",
     "text": [
      "Division 2/5:  29%|██████████████████████▏                                                      | 292/1015 [00:23<00:58, 12.36it/s]"
     ]
    },
    {
     "name": "stdout",
     "output_type": "stream",
     "text": [
      "Epoch:   5 | Samples:    288/329 | RMSE Loss: 0.6359 | MSE Loss: 0.6288 | target: -2.3690 | pred: -2.6369\n"
     ]
    },
    {
     "name": "stderr",
     "output_type": "stream",
     "text": [
      "Division 2/5:  32%|████████████████████████▌                                                    | 323/1015 [00:25<00:47, 14.46it/s]"
     ]
    },
    {
     "name": "stdout",
     "output_type": "stream",
     "text": [
      "Epoch:   5 | Samples:    320/329 | RMSE Loss: 0.6324 | MSE Loss: 0.6251 | target: -3.3500 | pred: -3.7916\n"
     ]
    },
    {
     "name": "stderr",
     "output_type": "stream",
     "text": [
      "Division 2/5:  32%|████████████████████████▉                                                    | 329/1015 [00:26<00:55, 12.43it/s]\n",
      "Division 2/5:   0%|▏                                                                              | 3/1015 [00:00<01:09, 14.59it/s]"
     ]
    },
    {
     "name": "stdout",
     "output_type": "stream",
     "text": [
      "Epoch:   6 | Samples:      0/329 | RMSE Loss: 1.5289 | MSE Loss: 2.3375 | target: -4.5540 | pred: -3.0251\n"
     ]
    },
    {
     "name": "stderr",
     "output_type": "stream",
     "text": [
      "Division 2/5:   3%|██▋                                                                           | 35/1015 [00:02<01:16, 12.75it/s]"
     ]
    },
    {
     "name": "stdout",
     "output_type": "stream",
     "text": [
      "Epoch:   6 | Samples:     32/329 | RMSE Loss: 0.7348 | MSE Loss: 0.7703 | target: -3.8960 | pred: -5.3362\n"
     ]
    },
    {
     "name": "stderr",
     "output_type": "stream",
     "text": [
      "Division 2/5:   7%|█████▏                                                                        | 67/1015 [00:05<01:16, 12.46it/s]"
     ]
    },
    {
     "name": "stdout",
     "output_type": "stream",
     "text": [
      "Epoch:   6 | Samples:     64/329 | RMSE Loss: 0.6199 | MSE Loss: 0.6019 | target: -4.1000 | pred: -4.3853\n"
     ]
    },
    {
     "name": "stderr",
     "output_type": "stream",
     "text": [
      "Division 2/5:  10%|███████▍                                                                      | 97/1015 [00:07<01:17, 11.81it/s]"
     ]
    },
    {
     "name": "stdout",
     "output_type": "stream",
     "text": [
      "Epoch:   6 | Samples:     96/329 | RMSE Loss: 0.6354 | MSE Loss: 0.6342 | target: -1.3300 | pred: -1.2351\n"
     ]
    },
    {
     "name": "stderr",
     "output_type": "stream",
     "text": [
      "Division 2/5:  13%|█████████▉                                                                   | 131/1015 [00:10<01:09, 12.64it/s]"
     ]
    },
    {
     "name": "stdout",
     "output_type": "stream",
     "text": [
      "Epoch:   6 | Samples:    128/329 | RMSE Loss: 0.6019 | MSE Loss: 0.5680 | target: 0.0090 | pred: 0.4347\n"
     ]
    },
    {
     "name": "stderr",
     "output_type": "stream",
     "text": [
      "Division 2/5:  16%|████████████▎                                                                | 162/1015 [00:12<01:06, 12.85it/s]"
     ]
    },
    {
     "name": "stdout",
     "output_type": "stream",
     "text": [
      "Epoch:   6 | Samples:    160/329 | RMSE Loss: 0.6094 | MSE Loss: 0.5779 | target: -1.0900 | pred: -1.5327\n"
     ]
    },
    {
     "name": "stderr",
     "output_type": "stream",
     "text": [
      "Division 2/5:  19%|██████████████▊                                                              | 195/1015 [00:15<01:04, 12.64it/s]"
     ]
    },
    {
     "name": "stdout",
     "output_type": "stream",
     "text": [
      "Epoch:   6 | Samples:    192/329 | RMSE Loss: 0.6094 | MSE Loss: 0.5858 | target: -1.3700 | pred: -1.9766\n"
     ]
    },
    {
     "name": "stderr",
     "output_type": "stream",
     "text": [
      "Division 2/5:  22%|█████████████████▏                                                           | 226/1015 [00:17<00:57, 13.63it/s]"
     ]
    },
    {
     "name": "stdout",
     "output_type": "stream",
     "text": [
      "Epoch:   6 | Samples:    224/329 | RMSE Loss: 0.6033 | MSE Loss: 0.5747 | target: -2.0500 | pred: -2.1275\n"
     ]
    },
    {
     "name": "stderr",
     "output_type": "stream",
     "text": [
      "Division 2/5:  26%|███████████████████▋                                                         | 259/1015 [00:21<01:08, 10.98it/s]"
     ]
    },
    {
     "name": "stdout",
     "output_type": "stream",
     "text": [
      "Epoch:   6 | Samples:    256/329 | RMSE Loss: 0.5944 | MSE Loss: 0.5589 | target: -4.4200 | pred: -4.9073\n"
     ]
    },
    {
     "name": "stderr",
     "output_type": "stream",
     "text": [
      "Division 2/5:  29%|██████████████████████▏                                                      | 292/1015 [00:23<00:58, 12.33it/s]"
     ]
    },
    {
     "name": "stdout",
     "output_type": "stream",
     "text": [
      "Epoch:   6 | Samples:    288/329 | RMSE Loss: 0.6027 | MSE Loss: 0.5712 | target: -2.3690 | pred: -2.9363\n"
     ]
    },
    {
     "name": "stderr",
     "output_type": "stream",
     "text": [
      "Division 2/5:  32%|████████████████████████▌                                                    | 323/1015 [00:26<00:47, 14.55it/s]"
     ]
    },
    {
     "name": "stdout",
     "output_type": "stream",
     "text": [
      "Epoch:   6 | Samples:    320/329 | RMSE Loss: 0.5967 | MSE Loss: 0.5632 | target: -3.3500 | pred: -3.8063\n"
     ]
    },
    {
     "name": "stderr",
     "output_type": "stream",
     "text": [
      "Division 2/5:  32%|████████████████████████▉                                                    | 329/1015 [00:26<00:55, 12.38it/s]\n",
      "Division 2/5:   0%|▏                                                                              | 3/1015 [00:00<01:10, 14.36it/s]"
     ]
    },
    {
     "name": "stdout",
     "output_type": "stream",
     "text": [
      "Epoch:   7 | Samples:      0/329 | RMSE Loss: 1.4121 | MSE Loss: 1.9939 | target: -4.5540 | pred: -3.1419\n"
     ]
    },
    {
     "name": "stderr",
     "output_type": "stream",
     "text": [
      "Division 2/5:   3%|██▋                                                                           | 35/1015 [00:02<01:16, 12.82it/s]"
     ]
    },
    {
     "name": "stdout",
     "output_type": "stream",
     "text": [
      "Epoch:   7 | Samples:     32/329 | RMSE Loss: 0.7037 | MSE Loss: 0.6976 | target: -3.8960 | pred: -5.2916\n"
     ]
    },
    {
     "name": "stderr",
     "output_type": "stream",
     "text": [
      "Division 2/5:   7%|█████▏                                                                        | 67/1015 [00:05<01:15, 12.58it/s]"
     ]
    },
    {
     "name": "stdout",
     "output_type": "stream",
     "text": [
      "Epoch:   7 | Samples:     64/329 | RMSE Loss: 0.5886 | MSE Loss: 0.5416 | target: -4.1000 | pred: -4.4163\n"
     ]
    },
    {
     "name": "stderr",
     "output_type": "stream",
     "text": [
      "Division 2/5:  10%|███████▌                                                                     | 100/1015 [00:07<01:10, 12.94it/s]"
     ]
    },
    {
     "name": "stdout",
     "output_type": "stream",
     "text": [
      "Epoch:   7 | Samples:     96/329 | RMSE Loss: 0.6084 | MSE Loss: 0.5879 | target: -1.3300 | pred: -1.2609\n"
     ]
    },
    {
     "name": "stderr",
     "output_type": "stream",
     "text": [
      "Division 2/5:  13%|█████████▉                                                                   | 131/1015 [00:10<01:11, 12.45it/s]"
     ]
    },
    {
     "name": "stdout",
     "output_type": "stream",
     "text": [
      "Epoch:   7 | Samples:    128/329 | RMSE Loss: 0.5770 | MSE Loss: 0.5267 | target: 0.0090 | pred: 0.4709\n"
     ]
    },
    {
     "name": "stderr",
     "output_type": "stream",
     "text": [
      "Division 2/5:  16%|████████████▎                                                                | 162/1015 [00:12<01:06, 12.84it/s]"
     ]
    },
    {
     "name": "stdout",
     "output_type": "stream",
     "text": [
      "Epoch:   7 | Samples:    160/329 | RMSE Loss: 0.5827 | MSE Loss: 0.5351 | target: -1.0900 | pred: -1.5264\n"
     ]
    },
    {
     "name": "stderr",
     "output_type": "stream",
     "text": [
      "Division 2/5:  19%|██████████████▊                                                              | 195/1015 [00:15<01:05, 12.44it/s]"
     ]
    },
    {
     "name": "stdout",
     "output_type": "stream",
     "text": [
      "Epoch:   7 | Samples:    192/329 | RMSE Loss: 0.5805 | MSE Loss: 0.5365 | target: -1.3700 | pred: -1.9977\n"
     ]
    },
    {
     "name": "stderr",
     "output_type": "stream",
     "text": [
      "Division 2/5:  22%|█████████████████▏                                                           | 226/1015 [00:18<00:59, 13.22it/s]"
     ]
    },
    {
     "name": "stdout",
     "output_type": "stream",
     "text": [
      "Epoch:   7 | Samples:    224/329 | RMSE Loss: 0.5754 | MSE Loss: 0.5288 | target: -2.0500 | pred: -2.1482\n"
     ]
    },
    {
     "name": "stderr",
     "output_type": "stream",
     "text": [
      "Division 2/5:  26%|███████████████████▋                                                         | 259/1015 [00:21<01:09, 10.88it/s]"
     ]
    },
    {
     "name": "stdout",
     "output_type": "stream",
     "text": [
      "Epoch:   7 | Samples:    256/329 | RMSE Loss: 0.5670 | MSE Loss: 0.5151 | target: -4.4200 | pred: -4.8339\n"
     ]
    },
    {
     "name": "stderr",
     "output_type": "stream",
     "text": [
      "Division 2/5:  29%|██████████████████████▏                                                      | 292/1015 [00:23<01:00, 12.05it/s]"
     ]
    },
    {
     "name": "stdout",
     "output_type": "stream",
     "text": [
      "Epoch:   7 | Samples:    288/329 | RMSE Loss: 0.5763 | MSE Loss: 0.5280 | target: -2.3690 | pred: -2.9312\n"
     ]
    },
    {
     "name": "stderr",
     "output_type": "stream",
     "text": [
      "Division 2/5:  32%|████████████████████████▍                                                    | 322/1015 [00:26<00:49, 14.08it/s]"
     ]
    },
    {
     "name": "stdout",
     "output_type": "stream",
     "text": [
      "Epoch:   7 | Samples:    320/329 | RMSE Loss: 0.5715 | MSE Loss: 0.5214 | target: -3.3500 | pred: -3.8350\n"
     ]
    },
    {
     "name": "stderr",
     "output_type": "stream",
     "text": [
      "Division 2/5:  32%|████████████████████████▉                                                    | 329/1015 [00:26<00:55, 12.31it/s]\n",
      "Division 2/5:   0%|▏                                                                              | 3/1015 [00:00<01:15, 13.48it/s]"
     ]
    },
    {
     "name": "stdout",
     "output_type": "stream",
     "text": [
      "Epoch:   8 | Samples:      0/329 | RMSE Loss: 1.3277 | MSE Loss: 1.7628 | target: -4.5540 | pred: -3.2263\n"
     ]
    },
    {
     "name": "stderr",
     "output_type": "stream",
     "text": [
      "Division 2/5:   3%|██▋                                                                           | 35/1015 [00:02<01:17, 12.60it/s]"
     ]
    },
    {
     "name": "stdout",
     "output_type": "stream",
     "text": [
      "Epoch:   8 | Samples:     32/329 | RMSE Loss: 0.6792 | MSE Loss: 0.6463 | target: -3.8960 | pred: -5.3059\n"
     ]
    },
    {
     "name": "stderr",
     "output_type": "stream",
     "text": [
      "Division 2/5:   7%|█████▏                                                                        | 67/1015 [00:05<01:16, 12.43it/s]"
     ]
    },
    {
     "name": "stdout",
     "output_type": "stream",
     "text": [
      "Epoch:   8 | Samples:     64/329 | RMSE Loss: 0.5609 | MSE Loss: 0.5000 | target: -4.1000 | pred: -4.4136\n"
     ]
    },
    {
     "name": "stderr",
     "output_type": "stream",
     "text": [
      "Division 2/5:  10%|███████▌                                                                      | 98/1015 [00:07<01:10, 12.92it/s]"
     ]
    },
    {
     "name": "stdout",
     "output_type": "stream",
     "text": [
      "Epoch:   8 | Samples:     96/329 | RMSE Loss: 0.5814 | MSE Loss: 0.5468 | target: -1.3300 | pred: -1.2559\n"
     ]
    },
    {
     "name": "stderr",
     "output_type": "stream",
     "text": [
      "Division 2/5:  13%|█████████▉                                                                   | 131/1015 [00:10<01:11, 12.40it/s]"
     ]
    },
    {
     "name": "stdout",
     "output_type": "stream",
     "text": [
      "Epoch:   8 | Samples:    128/329 | RMSE Loss: 0.5524 | MSE Loss: 0.4893 | target: 0.0090 | pred: 0.5055\n"
     ]
    },
    {
     "name": "stderr",
     "output_type": "stream",
     "text": [
      "Division 2/5:  16%|████████████▎                                                                | 162/1015 [00:12<01:06, 12.88it/s]"
     ]
    },
    {
     "name": "stdout",
     "output_type": "stream",
     "text": [
      "Epoch:   8 | Samples:    160/329 | RMSE Loss: 0.5586 | MSE Loss: 0.4991 | target: -1.0900 | pred: -1.5548\n"
     ]
    },
    {
     "name": "stderr",
     "output_type": "stream",
     "text": [
      "Division 2/5:  19%|██████████████▊                                                              | 195/1015 [00:15<01:07, 12.20it/s]"
     ]
    },
    {
     "name": "stdout",
     "output_type": "stream",
     "text": [
      "Epoch:   8 | Samples:    192/329 | RMSE Loss: 0.5556 | MSE Loss: 0.4957 | target: -1.3700 | pred: -2.0033\n"
     ]
    },
    {
     "name": "stderr",
     "output_type": "stream",
     "text": [
      "Division 2/5:  22%|█████████████████▏                                                           | 226/1015 [00:18<00:57, 13.61it/s]"
     ]
    },
    {
     "name": "stdout",
     "output_type": "stream",
     "text": [
      "Epoch:   8 | Samples:    224/329 | RMSE Loss: 0.5520 | MSE Loss: 0.4908 | target: -2.0500 | pred: -2.1776\n"
     ]
    },
    {
     "name": "stderr",
     "output_type": "stream",
     "text": [
      "Division 2/5:  25%|███████████████████▍                                                         | 257/1015 [00:21<01:09, 10.83it/s]"
     ]
    },
    {
     "name": "stdout",
     "output_type": "stream",
     "text": [
      "Epoch:   8 | Samples:    256/329 | RMSE Loss: 0.5442 | MSE Loss: 0.4792 | target: -4.4200 | pred: -4.7625\n"
     ]
    },
    {
     "name": "stderr",
     "output_type": "stream",
     "text": [
      "Division 2/5:  29%|██████████████████████▏                                                      | 292/1015 [00:24<00:59, 12.05it/s]"
     ]
    },
    {
     "name": "stdout",
     "output_type": "stream",
     "text": [
      "Epoch:   8 | Samples:    288/329 | RMSE Loss: 0.5542 | MSE Loss: 0.4926 | target: -2.3690 | pred: -2.9295\n"
     ]
    },
    {
     "name": "stderr",
     "output_type": "stream",
     "text": [
      "Division 2/5:  32%|████████████████████████▍                                                    | 322/1015 [00:26<00:51, 13.39it/s]"
     ]
    },
    {
     "name": "stdout",
     "output_type": "stream",
     "text": [
      "Epoch:   8 | Samples:    320/329 | RMSE Loss: 0.5508 | MSE Loss: 0.4880 | target: -3.3500 | pred: -3.7978\n"
     ]
    },
    {
     "name": "stderr",
     "output_type": "stream",
     "text": [
      "Division 2/5:  32%|████████████████████████▉                                                    | 329/1015 [00:26<00:56, 12.22it/s]\n",
      "Division 2/5:   0%|▏                                                                              | 3/1015 [00:00<01:10, 14.41it/s]"
     ]
    },
    {
     "name": "stdout",
     "output_type": "stream",
     "text": [
      "Epoch:   9 | Samples:      0/329 | RMSE Loss: 1.2991 | MSE Loss: 1.6877 | target: -4.5540 | pred: -3.2549\n"
     ]
    },
    {
     "name": "stderr",
     "output_type": "stream",
     "text": [
      "Division 2/5:   3%|██▋                                                                           | 35/1015 [00:02<01:17, 12.58it/s]"
     ]
    },
    {
     "name": "stdout",
     "output_type": "stream",
     "text": [
      "Epoch:   9 | Samples:     32/329 | RMSE Loss: 0.6597 | MSE Loss: 0.6070 | target: -3.8960 | pred: -5.3167\n"
     ]
    },
    {
     "name": "stderr",
     "output_type": "stream",
     "text": [
      "Division 2/5:   7%|█████▏                                                                        | 67/1015 [00:05<01:15, 12.56it/s]"
     ]
    },
    {
     "name": "stdout",
     "output_type": "stream",
     "text": [
      "Epoch:   9 | Samples:     64/329 | RMSE Loss: 0.5349 | MSE Loss: 0.4643 | target: -4.1000 | pred: -4.3878\n"
     ]
    },
    {
     "name": "stderr",
     "output_type": "stream",
     "text": [
      "Division 2/5:  10%|███████▍                                                                      | 97/1015 [00:07<01:16, 11.92it/s]"
     ]
    },
    {
     "name": "stdout",
     "output_type": "stream",
     "text": [
      "Epoch:   9 | Samples:     96/329 | RMSE Loss: 0.5576 | MSE Loss: 0.5139 | target: -1.3300 | pred: -1.2664\n"
     ]
    },
    {
     "name": "stderr",
     "output_type": "stream",
     "text": [
      "Division 2/5:  13%|█████████▉                                                                   | 131/1015 [00:10<01:09, 12.66it/s]"
     ]
    },
    {
     "name": "stdout",
     "output_type": "stream",
     "text": [
      "Epoch:   9 | Samples:    128/329 | RMSE Loss: 0.5300 | MSE Loss: 0.4599 | target: 0.0090 | pred: 0.5003\n"
     ]
    },
    {
     "name": "stderr",
     "output_type": "stream",
     "text": [
      "Division 2/5:  16%|████████████▎                                                                | 162/1015 [00:12<01:06, 12.82it/s]"
     ]
    },
    {
     "name": "stdout",
     "output_type": "stream",
     "text": [
      "Epoch:   9 | Samples:    160/329 | RMSE Loss: 0.5370 | MSE Loss: 0.4694 | target: -1.0900 | pred: -1.5350\n"
     ]
    },
    {
     "name": "stderr",
     "output_type": "stream",
     "text": [
      "Division 2/5:  19%|██████████████▊                                                              | 195/1015 [00:15<01:04, 12.64it/s]"
     ]
    },
    {
     "name": "stdout",
     "output_type": "stream",
     "text": [
      "Epoch:   9 | Samples:    192/329 | RMSE Loss: 0.5337 | MSE Loss: 0.4616 | target: -1.3700 | pred: -1.9976\n"
     ]
    },
    {
     "name": "stderr",
     "output_type": "stream",
     "text": [
      "Division 2/5:  22%|█████████████████                                                            | 225/1015 [00:17<00:59, 13.35it/s]"
     ]
    },
    {
     "name": "stdout",
     "output_type": "stream",
     "text": [
      "Epoch:   9 | Samples:    224/329 | RMSE Loss: 0.5308 | MSE Loss: 0.4598 | target: -2.0500 | pred: -2.1596\n"
     ]
    },
    {
     "name": "stderr",
     "output_type": "stream",
     "text": [
      "Division 2/5:  25%|███████████████████▍                                                         | 257/1015 [00:20<01:08, 11.11it/s]"
     ]
    },
    {
     "name": "stdout",
     "output_type": "stream",
     "text": [
      "Epoch:   9 | Samples:    256/329 | RMSE Loss: 0.5241 | MSE Loss: 0.4498 | target: -4.4200 | pred: -4.7085\n"
     ]
    },
    {
     "name": "stderr",
     "output_type": "stream",
     "text": [
      "Division 2/5:  29%|██████████████████████▏                                                      | 292/1015 [00:23<00:58, 12.32it/s]"
     ]
    },
    {
     "name": "stdout",
     "output_type": "stream",
     "text": [
      "Epoch:   9 | Samples:    288/329 | RMSE Loss: 0.5349 | MSE Loss: 0.4637 | target: -2.3690 | pred: -2.9051\n"
     ]
    },
    {
     "name": "stderr",
     "output_type": "stream",
     "text": [
      "Division 2/5:  32%|████████████████████████▌                                                    | 323/1015 [00:26<00:46, 14.74it/s]"
     ]
    },
    {
     "name": "stdout",
     "output_type": "stream",
     "text": [
      "Epoch:   9 | Samples:    320/329 | RMSE Loss: 0.5318 | MSE Loss: 0.4594 | target: -3.3500 | pred: -3.8221\n"
     ]
    },
    {
     "name": "stderr",
     "output_type": "stream",
     "text": [
      "Division 2/5:  32%|████████████████████████▉                                                    | 329/1015 [00:26<00:55, 12.36it/s]\n",
      "Division 3/5:   0%|▏                                                                              | 3/1015 [00:00<01:09, 14.47it/s]"
     ]
    },
    {
     "name": "stdout",
     "output_type": "stream",
     "text": [
      "Epoch:   0 | Samples:      0/558 | RMSE Loss: 4.6571 | MSE Loss: 21.6884 | target: -4.5540 | pred: 0.1031\n"
     ]
    },
    {
     "name": "stderr",
     "output_type": "stream",
     "text": [
      "Division 3/5:   3%|██▌                                                                           | 34/1015 [00:02<01:20, 12.16it/s]"
     ]
    },
    {
     "name": "stdout",
     "output_type": "stream",
     "text": [
      "Epoch:   0 | Samples:     32/558 | RMSE Loss: 2.0502 | MSE Loss: 7.4280 | target: -3.8960 | pred: -3.4704\n"
     ]
    },
    {
     "name": "stderr",
     "output_type": "stream",
     "text": [
      "Division 3/5:   7%|█████                                                                         | 66/1015 [00:05<01:24, 11.28it/s]"
     ]
    },
    {
     "name": "stdout",
     "output_type": "stream",
     "text": [
      "Epoch:   0 | Samples:     64/558 | RMSE Loss: 1.7938 | MSE Loss: 5.5463 | target: -4.1000 | pred: -3.9155\n"
     ]
    },
    {
     "name": "stderr",
     "output_type": "stream",
     "text": [
      "Division 3/5:  10%|███████▍                                                                      | 97/1015 [00:07<01:19, 11.52it/s]"
     ]
    },
    {
     "name": "stdout",
     "output_type": "stream",
     "text": [
      "Epoch:   0 | Samples:     96/558 | RMSE Loss: 1.6603 | MSE Loss: 4.8633 | target: -1.3300 | pred: -1.9574\n"
     ]
    },
    {
     "name": "stderr",
     "output_type": "stream",
     "text": [
      "Division 3/5:  13%|█████████▉                                                                   | 131/1015 [00:10<01:10, 12.60it/s]"
     ]
    },
    {
     "name": "stdout",
     "output_type": "stream",
     "text": [
      "Epoch:   0 | Samples:    128/558 | RMSE Loss: 1.4972 | MSE Loss: 4.0401 | target: 0.0090 | pred: -2.3663\n"
     ]
    },
    {
     "name": "stderr",
     "output_type": "stream",
     "text": [
      "Division 3/5:  16%|████████████▎                                                                | 162/1015 [00:12<01:07, 12.61it/s]"
     ]
    },
    {
     "name": "stdout",
     "output_type": "stream",
     "text": [
      "Epoch:   0 | Samples:    160/558 | RMSE Loss: 1.5139 | MSE Loss: 3.9968 | target: -1.0900 | pred: -2.9564\n"
     ]
    },
    {
     "name": "stderr",
     "output_type": "stream",
     "text": [
      "Division 3/5:  19%|██████████████▊                                                              | 195/1015 [00:15<01:06, 12.31it/s]"
     ]
    },
    {
     "name": "stdout",
     "output_type": "stream",
     "text": [
      "Epoch:   0 | Samples:    192/558 | RMSE Loss: 1.4904 | MSE Loss: 3.9155 | target: -1.3700 | pred: -1.9658\n"
     ]
    },
    {
     "name": "stderr",
     "output_type": "stream",
     "text": [
      "Division 3/5:  22%|█████████████████                                                            | 225/1015 [00:18<01:00, 13.17it/s]"
     ]
    },
    {
     "name": "stdout",
     "output_type": "stream",
     "text": [
      "Epoch:   0 | Samples:    224/558 | RMSE Loss: 1.4758 | MSE Loss: 3.9356 | target: -2.0500 | pred: -2.5721\n"
     ]
    },
    {
     "name": "stderr",
     "output_type": "stream",
     "text": [
      "Division 3/5:  25%|███████████████████▍                                                         | 257/1015 [00:21<01:08, 11.06it/s]"
     ]
    },
    {
     "name": "stdout",
     "output_type": "stream",
     "text": [
      "Epoch:   0 | Samples:    256/558 | RMSE Loss: 1.4890 | MSE Loss: 3.8807 | target: -4.4200 | pred: -5.2204\n"
     ]
    },
    {
     "name": "stderr",
     "output_type": "stream",
     "text": [
      "Division 3/5:  29%|██████████████████████▏                                                      | 292/1015 [00:24<00:59, 12.16it/s]"
     ]
    },
    {
     "name": "stdout",
     "output_type": "stream",
     "text": [
      "Epoch:   0 | Samples:    288/558 | RMSE Loss: 1.4786 | MSE Loss: 3.8097 | target: -2.3690 | pred: -2.0429\n"
     ]
    },
    {
     "name": "stderr",
     "output_type": "stream",
     "text": [
      "Division 3/5:  32%|████████████████████████▌                                                    | 323/1015 [00:26<00:48, 14.38it/s]"
     ]
    },
    {
     "name": "stdout",
     "output_type": "stream",
     "text": [
      "Epoch:   0 | Samples:    320/558 | RMSE Loss: 1.4342 | MSE Loss: 3.6390 | target: -3.3500 | pred: -3.7705\n"
     ]
    },
    {
     "name": "stderr",
     "output_type": "stream",
     "text": [
      "Division 3/5:  35%|██████████████████████████▊                                                  | 353/1015 [00:29<01:10,  9.44it/s]"
     ]
    },
    {
     "name": "stdout",
     "output_type": "stream",
     "text": [
      "Epoch:   0 | Samples:    352/558 | RMSE Loss: 1.3774 | MSE Loss: 3.4355 | target: -2.1480 | pred: -1.6642\n"
     ]
    },
    {
     "name": "stderr",
     "output_type": "stream",
     "text": [
      "Division 3/5:  38%|█████████████████████████████▎                                               | 386/1015 [00:32<00:56, 11.05it/s]"
     ]
    },
    {
     "name": "stdout",
     "output_type": "stream",
     "text": [
      "Epoch:   0 | Samples:    384/558 | RMSE Loss: 1.3581 | MSE Loss: 3.3144 | target: -3.4990 | pred: -4.8081\n"
     ]
    },
    {
     "name": "stderr",
     "output_type": "stream",
     "text": [
      "Division 3/5:  41%|███████████████████████████████▋                                             | 418/1015 [00:34<00:41, 14.40it/s]"
     ]
    },
    {
     "name": "stdout",
     "output_type": "stream",
     "text": [
      "Epoch:   0 | Samples:    416/558 | RMSE Loss: 1.3342 | MSE Loss: 3.1951 | target: -1.6140 | pred: -1.1697\n"
     ]
    },
    {
     "name": "stderr",
     "output_type": "stream",
     "text": [
      "Division 3/5:  44%|██████████████████████████████████▏                                          | 450/1015 [00:37<00:39, 14.17it/s]"
     ]
    },
    {
     "name": "stdout",
     "output_type": "stream",
     "text": [
      "Epoch:   0 | Samples:    448/558 | RMSE Loss: 1.3247 | MSE Loss: 3.1561 | target: -4.5600 | pred: -3.5449\n"
     ]
    },
    {
     "name": "stderr",
     "output_type": "stream",
     "text": [
      "Division 3/5:  47%|████████████████████████████████████▎                                        | 479/1015 [00:40<00:46, 11.62it/s]"
     ]
    },
    {
     "name": "stdout",
     "output_type": "stream",
     "text": [
      "Epoch:   0 | Samples:    480/558 | RMSE Loss: 1.3119 | MSE Loss: 3.0762 | target: -2.5100 | pred: -2.4783\n"
     ]
    },
    {
     "name": "stderr",
     "output_type": "stream",
     "text": [
      "Division 3/5:  51%|███████████████████████████████████████                                      | 515/1015 [00:43<00:42, 11.76it/s]"
     ]
    },
    {
     "name": "stdout",
     "output_type": "stream",
     "text": [
      "Epoch:   0 | Samples:    512/558 | RMSE Loss: 1.2892 | MSE Loss: 2.9633 | target: -3.3600 | pred: -2.9158\n"
     ]
    },
    {
     "name": "stderr",
     "output_type": "stream",
     "text": [
      "Division 3/5:  54%|█████████████████████████████████████████▍                                   | 547/1015 [00:45<00:32, 14.28it/s]"
     ]
    },
    {
     "name": "stdout",
     "output_type": "stream",
     "text": [
      "Epoch:   0 | Samples:    544/558 | RMSE Loss: 1.2798 | MSE Loss: 2.9348 | target: -7.6800 | pred: -5.9010\n"
     ]
    },
    {
     "name": "stderr",
     "output_type": "stream",
     "text": [
      "Division 3/5:  55%|██████████████████████████████████████████▎                                  | 558/1015 [00:46<00:38, 11.94it/s]\n",
      "Division 3/5:   0%|▏                                                                              | 3/1015 [00:00<01:12, 13.96it/s]"
     ]
    },
    {
     "name": "stdout",
     "output_type": "stream",
     "text": [
      "Epoch:   1 | Samples:      0/558 | RMSE Loss: 1.5377 | MSE Loss: 2.3646 | target: -4.5540 | pred: -3.0163\n"
     ]
    },
    {
     "name": "stderr",
     "output_type": "stream",
     "text": [
      "Division 3/5:   3%|██▌                                                                           | 34/1015 [00:02<01:21, 12.10it/s]"
     ]
    },
    {
     "name": "stdout",
     "output_type": "stream",
     "text": [
      "Epoch:   1 | Samples:     32/558 | RMSE Loss: 1.0409 | MSE Loss: 1.7775 | target: -3.8960 | pred: -4.1109\n"
     ]
    },
    {
     "name": "stderr",
     "output_type": "stream",
     "text": [
      "Division 3/5:   7%|█████                                                                         | 66/1015 [00:05<01:24, 11.26it/s]"
     ]
    },
    {
     "name": "stdout",
     "output_type": "stream",
     "text": [
      "Epoch:   1 | Samples:     64/558 | RMSE Loss: 0.9374 | MSE Loss: 1.4523 | target: -4.1000 | pred: -3.2345\n"
     ]
    },
    {
     "name": "stderr",
     "output_type": "stream",
     "text": [
      "Division 3/5:  10%|███████▌                                                                     | 100/1015 [00:07<01:09, 13.25it/s]"
     ]
    },
    {
     "name": "stdout",
     "output_type": "stream",
     "text": [
      "Epoch:   1 | Samples:     96/558 | RMSE Loss: 0.8638 | MSE Loss: 1.2354 | target: -1.3300 | pred: -2.1316\n"
     ]
    },
    {
     "name": "stderr",
     "output_type": "stream",
     "text": [
      "Division 3/5:  13%|█████████▉                                                                   | 131/1015 [00:10<01:11, 12.30it/s]"
     ]
    },
    {
     "name": "stdout",
     "output_type": "stream",
     "text": [
      "Epoch:   1 | Samples:    128/558 | RMSE Loss: 0.8197 | MSE Loss: 1.1322 | target: 0.0090 | pred: -1.2962\n"
     ]
    },
    {
     "name": "stderr",
     "output_type": "stream",
     "text": [
      "Division 3/5:  16%|████████████▎                                                                | 162/1015 [00:12<01:06, 12.78it/s]"
     ]
    },
    {
     "name": "stdout",
     "output_type": "stream",
     "text": [
      "Epoch:   1 | Samples:    160/558 | RMSE Loss: 0.8517 | MSE Loss: 1.1756 | target: -1.0900 | pred: -1.9074\n"
     ]
    },
    {
     "name": "stderr",
     "output_type": "stream",
     "text": [
      "Division 3/5:  19%|██████████████▊                                                              | 195/1015 [00:15<01:05, 12.60it/s]"
     ]
    },
    {
     "name": "stdout",
     "output_type": "stream",
     "text": [
      "Epoch:   1 | Samples:    192/558 | RMSE Loss: 0.8672 | MSE Loss: 1.2522 | target: -1.3700 | pred: -2.4172\n"
     ]
    },
    {
     "name": "stderr",
     "output_type": "stream",
     "text": [
      "Division 3/5:  22%|█████████████████▏                                                           | 226/1015 [00:18<00:58, 13.54it/s]"
     ]
    },
    {
     "name": "stdout",
     "output_type": "stream",
     "text": [
      "Epoch:   1 | Samples:    224/558 | RMSE Loss: 0.8573 | MSE Loss: 1.2218 | target: -2.0500 | pred: -1.8407\n"
     ]
    },
    {
     "name": "stderr",
     "output_type": "stream",
     "text": [
      "Division 3/5:  26%|███████████████████▋                                                         | 259/1015 [00:21<01:11, 10.60it/s]"
     ]
    },
    {
     "name": "stdout",
     "output_type": "stream",
     "text": [
      "Epoch:   1 | Samples:    256/558 | RMSE Loss: 0.8561 | MSE Loss: 1.1990 | target: -4.4200 | pred: -5.3076\n"
     ]
    },
    {
     "name": "stderr",
     "output_type": "stream",
     "text": [
      "Division 3/5:  29%|██████████████████████▏                                                      | 292/1015 [00:24<00:59, 12.22it/s]"
     ]
    },
    {
     "name": "stdout",
     "output_type": "stream",
     "text": [
      "Epoch:   1 | Samples:    288/558 | RMSE Loss: 0.8663 | MSE Loss: 1.2167 | target: -2.3690 | pred: -2.1893\n"
     ]
    },
    {
     "name": "stderr",
     "output_type": "stream",
     "text": [
      "Division 3/5:  32%|████████████████████████▌                                                    | 323/1015 [00:26<00:47, 14.70it/s]"
     ]
    },
    {
     "name": "stdout",
     "output_type": "stream",
     "text": [
      "Epoch:   1 | Samples:    320/558 | RMSE Loss: 0.8531 | MSE Loss: 1.1763 | target: -3.3500 | pred: -4.1455\n"
     ]
    },
    {
     "name": "stderr",
     "output_type": "stream",
     "text": [
      "Division 3/5:  35%|██████████████████████████▊                                                  | 353/1015 [00:29<01:10,  9.45it/s]"
     ]
    },
    {
     "name": "stdout",
     "output_type": "stream",
     "text": [
      "Epoch:   1 | Samples:    352/558 | RMSE Loss: 0.8501 | MSE Loss: 1.1836 | target: -2.1480 | pred: -1.3823\n"
     ]
    },
    {
     "name": "stderr",
     "output_type": "stream",
     "text": [
      "Division 3/5:  38%|█████████████████████████████▎                                               | 386/1015 [00:32<00:57, 10.96it/s]"
     ]
    },
    {
     "name": "stdout",
     "output_type": "stream",
     "text": [
      "Epoch:   1 | Samples:    384/558 | RMSE Loss: 0.8491 | MSE Loss: 1.1783 | target: -3.4990 | pred: -5.3144\n"
     ]
    },
    {
     "name": "stderr",
     "output_type": "stream",
     "text": [
      "Division 3/5:  41%|███████████████████████████████▋                                             | 418/1015 [00:34<00:40, 14.76it/s]"
     ]
    },
    {
     "name": "stdout",
     "output_type": "stream",
     "text": [
      "Epoch:   1 | Samples:    416/558 | RMSE Loss: 0.8418 | MSE Loss: 1.1603 | target: -1.6140 | pred: -1.7857\n"
     ]
    },
    {
     "name": "stderr",
     "output_type": "stream",
     "text": [
      "Division 3/5:  44%|██████████████████████████████████▏                                          | 451/1015 [00:37<00:40, 13.89it/s]"
     ]
    },
    {
     "name": "stdout",
     "output_type": "stream",
     "text": [
      "Epoch:   1 | Samples:    448/558 | RMSE Loss: 0.8371 | MSE Loss: 1.1470 | target: -4.5600 | pred: -4.1047\n"
     ]
    },
    {
     "name": "stderr",
     "output_type": "stream",
     "text": [
      "Division 3/5:  47%|████████████████████████████████████▎                                        | 479/1015 [00:40<00:45, 11.78it/s]"
     ]
    },
    {
     "name": "stdout",
     "output_type": "stream",
     "text": [
      "Epoch:   1 | Samples:    480/558 | RMSE Loss: 0.8341 | MSE Loss: 1.1366 | target: -2.5100 | pred: -2.0035\n"
     ]
    },
    {
     "name": "stderr",
     "output_type": "stream",
     "text": [
      "Division 3/5:  51%|███████████████████████████████████████                                      | 515/1015 [00:42<00:43, 11.61it/s]"
     ]
    },
    {
     "name": "stdout",
     "output_type": "stream",
     "text": [
      "Epoch:   1 | Samples:    512/558 | RMSE Loss: 0.8271 | MSE Loss: 1.1135 | target: -3.3600 | pred: -2.3194\n"
     ]
    },
    {
     "name": "stderr",
     "output_type": "stream",
     "text": [
      "Division 3/5:  54%|█████████████████████████████████████████▍                                   | 547/1015 [00:45<00:32, 14.24it/s]"
     ]
    },
    {
     "name": "stdout",
     "output_type": "stream",
     "text": [
      "Epoch:   1 | Samples:    544/558 | RMSE Loss: 0.8361 | MSE Loss: 1.1534 | target: -7.6800 | pred: -6.9816\n"
     ]
    },
    {
     "name": "stderr",
     "output_type": "stream",
     "text": [
      "Division 3/5:  55%|██████████████████████████████████████████▎                                  | 558/1015 [00:46<00:38, 11.97it/s]\n",
      "Division 3/5:   0%|▏                                                                              | 3/1015 [00:00<01:11, 14.12it/s]"
     ]
    },
    {
     "name": "stdout",
     "output_type": "stream",
     "text": [
      "Epoch:   2 | Samples:      0/558 | RMSE Loss: 1.4935 | MSE Loss: 2.2307 | target: -4.5540 | pred: -3.0605\n"
     ]
    },
    {
     "name": "stderr",
     "output_type": "stream",
     "text": [
      "Division 3/5:   3%|██▌                                                                           | 34/1015 [00:02<01:21, 12.09it/s]"
     ]
    },
    {
     "name": "stdout",
     "output_type": "stream",
     "text": [
      "Epoch:   2 | Samples:     32/558 | RMSE Loss: 0.8632 | MSE Loss: 1.2354 | target: -3.8960 | pred: -4.7746\n"
     ]
    },
    {
     "name": "stderr",
     "output_type": "stream",
     "text": [
      "Division 3/5:   7%|█████▏                                                                        | 67/1015 [00:05<01:16, 12.37it/s]"
     ]
    },
    {
     "name": "stdout",
     "output_type": "stream",
     "text": [
      "Epoch:   2 | Samples:     64/558 | RMSE Loss: 0.7767 | MSE Loss: 1.0388 | target: -4.1000 | pred: -3.7501\n"
     ]
    },
    {
     "name": "stderr",
     "output_type": "stream",
     "text": [
      "Division 3/5:  10%|███████▌                                                                      | 99/1015 [00:07<01:06, 13.84it/s]"
     ]
    },
    {
     "name": "stdout",
     "output_type": "stream",
     "text": [
      "Epoch:   2 | Samples:     96/558 | RMSE Loss: 0.7446 | MSE Loss: 0.9170 | target: -1.3300 | pred: -1.6774\n"
     ]
    },
    {
     "name": "stderr",
     "output_type": "stream",
     "text": [
      "Division 3/5:  13%|█████████▉                                                                   | 131/1015 [00:10<01:09, 12.64it/s]"
     ]
    },
    {
     "name": "stdout",
     "output_type": "stream",
     "text": [
      "Epoch:   2 | Samples:    128/558 | RMSE Loss: 0.7063 | MSE Loss: 0.8332 | target: 0.0090 | pred: -0.6847\n"
     ]
    },
    {
     "name": "stderr",
     "output_type": "stream",
     "text": [
      "Division 3/5:  16%|████████████▎                                                                | 162/1015 [00:12<01:06, 12.81it/s]"
     ]
    },
    {
     "name": "stdout",
     "output_type": "stream",
     "text": [
      "Epoch:   2 | Samples:    160/558 | RMSE Loss: 0.7167 | MSE Loss: 0.8358 | target: -1.0900 | pred: -1.6662\n"
     ]
    },
    {
     "name": "stderr",
     "output_type": "stream",
     "text": [
      "Division 3/5:  19%|██████████████▊                                                              | 195/1015 [00:15<01:05, 12.52it/s]"
     ]
    },
    {
     "name": "stdout",
     "output_type": "stream",
     "text": [
      "Epoch:   2 | Samples:    192/558 | RMSE Loss: 0.7334 | MSE Loss: 0.9052 | target: -1.3700 | pred: -2.3759\n"
     ]
    },
    {
     "name": "stderr",
     "output_type": "stream",
     "text": [
      "Division 3/5:  22%|█████████████████                                                            | 225/1015 [00:18<00:59, 13.18it/s]"
     ]
    },
    {
     "name": "stdout",
     "output_type": "stream",
     "text": [
      "Epoch:   2 | Samples:    224/558 | RMSE Loss: 0.7270 | MSE Loss: 0.8863 | target: -2.0500 | pred: -1.8638\n"
     ]
    },
    {
     "name": "stderr",
     "output_type": "stream",
     "text": [
      "Division 3/5:  26%|███████████████████▋                                                         | 259/1015 [00:21<01:10, 10.73it/s]"
     ]
    },
    {
     "name": "stdout",
     "output_type": "stream",
     "text": [
      "Epoch:   2 | Samples:    256/558 | RMSE Loss: 0.7224 | MSE Loss: 0.8624 | target: -4.4200 | pred: -5.0212\n"
     ]
    },
    {
     "name": "stderr",
     "output_type": "stream",
     "text": [
      "Division 3/5:  29%|██████████████████████▏                                                      | 292/1015 [00:23<00:59, 12.24it/s]"
     ]
    },
    {
     "name": "stdout",
     "output_type": "stream",
     "text": [
      "Epoch:   2 | Samples:    288/558 | RMSE Loss: 0.7322 | MSE Loss: 0.8751 | target: -2.3690 | pred: -2.6684\n"
     ]
    },
    {
     "name": "stderr",
     "output_type": "stream",
     "text": [
      "Division 3/5:  32%|████████████████████████▌                                                    | 323/1015 [00:26<00:47, 14.53it/s]"
     ]
    },
    {
     "name": "stdout",
     "output_type": "stream",
     "text": [
      "Epoch:   2 | Samples:    320/558 | RMSE Loss: 0.7281 | MSE Loss: 0.8633 | target: -3.3500 | pred: -4.1311\n"
     ]
    },
    {
     "name": "stderr",
     "output_type": "stream",
     "text": [
      "Division 3/5:  35%|██████████████████████████▊                                                  | 353/1015 [00:29<01:11,  9.26it/s]"
     ]
    },
    {
     "name": "stdout",
     "output_type": "stream",
     "text": [
      "Epoch:   2 | Samples:    352/558 | RMSE Loss: 0.7342 | MSE Loss: 0.8878 | target: -2.1480 | pred: -1.5840\n"
     ]
    },
    {
     "name": "stderr",
     "output_type": "stream",
     "text": [
      "Division 3/5:  38%|█████████████████████████████▎                                               | 387/1015 [00:32<00:54, 11.58it/s]"
     ]
    },
    {
     "name": "stdout",
     "output_type": "stream",
     "text": [
      "Epoch:   2 | Samples:    384/558 | RMSE Loss: 0.7344 | MSE Loss: 0.8801 | target: -3.4990 | pred: -5.1896\n"
     ]
    },
    {
     "name": "stderr",
     "output_type": "stream",
     "text": [
      "Division 3/5:  41%|███████████████████████████████▋                                             | 418/1015 [00:34<00:40, 14.72it/s]"
     ]
    },
    {
     "name": "stdout",
     "output_type": "stream",
     "text": [
      "Epoch:   2 | Samples:    416/558 | RMSE Loss: 0.7251 | MSE Loss: 0.8659 | target: -1.6140 | pred: -2.1226\n"
     ]
    },
    {
     "name": "stderr",
     "output_type": "stream",
     "text": [
      "Division 3/5:  44%|██████████████████████████████████▏                                          | 451/1015 [00:37<00:40, 13.87it/s]"
     ]
    },
    {
     "name": "stdout",
     "output_type": "stream",
     "text": [
      "Epoch:   2 | Samples:    448/558 | RMSE Loss: 0.7222 | MSE Loss: 0.8540 | target: -4.5600 | pred: -3.9819\n"
     ]
    },
    {
     "name": "stderr",
     "output_type": "stream",
     "text": [
      "Division 3/5:  47%|████████████████████████████████████▎                                        | 479/1015 [00:40<00:45, 11.78it/s]"
     ]
    },
    {
     "name": "stdout",
     "output_type": "stream",
     "text": [
      "Epoch:   2 | Samples:    480/558 | RMSE Loss: 0.7213 | MSE Loss: 0.8462 | target: -2.5100 | pred: -1.5514\n"
     ]
    },
    {
     "name": "stderr",
     "output_type": "stream",
     "text": [
      "Division 3/5:  51%|███████████████████████████████████████                                      | 515/1015 [00:43<00:43, 11.61it/s]"
     ]
    },
    {
     "name": "stdout",
     "output_type": "stream",
     "text": [
      "Epoch:   2 | Samples:    512/558 | RMSE Loss: 0.7153 | MSE Loss: 0.8292 | target: -3.3600 | pred: -2.3512\n"
     ]
    },
    {
     "name": "stderr",
     "output_type": "stream",
     "text": [
      "Division 3/5:  54%|█████████████████████████████████████████▍                                   | 547/1015 [00:45<00:33, 14.17it/s]"
     ]
    },
    {
     "name": "stdout",
     "output_type": "stream",
     "text": [
      "Epoch:   2 | Samples:    544/558 | RMSE Loss: 0.7257 | MSE Loss: 0.8688 | target: -7.6800 | pred: -7.3763\n"
     ]
    },
    {
     "name": "stderr",
     "output_type": "stream",
     "text": [
      "Division 3/5:  55%|██████████████████████████████████████████▎                                  | 558/1015 [00:46<00:38, 11.95it/s]\n",
      "Division 3/5:   0%|▏                                                                              | 3/1015 [00:00<01:13, 13.73it/s]"
     ]
    },
    {
     "name": "stdout",
     "output_type": "stream",
     "text": [
      "Epoch:   3 | Samples:      0/558 | RMSE Loss: 1.4041 | MSE Loss: 1.9714 | target: -4.5540 | pred: -3.1499\n"
     ]
    },
    {
     "name": "stderr",
     "output_type": "stream",
     "text": [
      "Division 3/5:   3%|██▋                                                                           | 35/1015 [00:02<01:17, 12.66it/s]"
     ]
    },
    {
     "name": "stdout",
     "output_type": "stream",
     "text": [
      "Epoch:   3 | Samples:     32/558 | RMSE Loss: 0.7607 | MSE Loss: 0.9338 | target: -3.8960 | pred: -5.0578\n"
     ]
    },
    {
     "name": "stderr",
     "output_type": "stream",
     "text": [
      "Division 3/5:   7%|█████▏                                                                        | 67/1015 [00:05<01:16, 12.47it/s]"
     ]
    },
    {
     "name": "stdout",
     "output_type": "stream",
     "text": [
      "Epoch:   3 | Samples:     64/558 | RMSE Loss: 0.6696 | MSE Loss: 0.7967 | target: -4.1000 | pred: -4.0093\n"
     ]
    },
    {
     "name": "stderr",
     "output_type": "stream",
     "text": [
      "Division 3/5:  10%|███████▌                                                                     | 100/1015 [00:07<01:09, 13.22it/s]"
     ]
    },
    {
     "name": "stdout",
     "output_type": "stream",
     "text": [
      "Epoch:   3 | Samples:     96/558 | RMSE Loss: 0.6646 | MSE Loss: 0.7452 | target: -1.3300 | pred: -1.3412\n"
     ]
    },
    {
     "name": "stderr",
     "output_type": "stream",
     "text": [
      "Division 3/5:  13%|█████████▉                                                                   | 131/1015 [00:10<01:10, 12.48it/s]"
     ]
    },
    {
     "name": "stdout",
     "output_type": "stream",
     "text": [
      "Epoch:   3 | Samples:    128/558 | RMSE Loss: 0.6351 | MSE Loss: 0.6801 | target: 0.0090 | pred: -0.2657\n"
     ]
    },
    {
     "name": "stderr",
     "output_type": "stream",
     "text": [
      "Division 3/5:  16%|████████████▎                                                                | 162/1015 [00:12<01:06, 12.80it/s]"
     ]
    },
    {
     "name": "stdout",
     "output_type": "stream",
     "text": [
      "Epoch:   3 | Samples:    160/558 | RMSE Loss: 0.6420 | MSE Loss: 0.6840 | target: -1.0900 | pred: -1.6742\n"
     ]
    },
    {
     "name": "stderr",
     "output_type": "stream",
     "text": [
      "Division 3/5:  19%|██████████████▊                                                              | 195/1015 [00:15<01:06, 12.40it/s]"
     ]
    },
    {
     "name": "stdout",
     "output_type": "stream",
     "text": [
      "Epoch:   3 | Samples:    192/558 | RMSE Loss: 0.6572 | MSE Loss: 0.7291 | target: -1.3700 | pred: -2.3064\n"
     ]
    },
    {
     "name": "stderr",
     "output_type": "stream",
     "text": [
      "Division 3/5:  22%|█████████████████▏                                                           | 226/1015 [00:18<00:59, 13.33it/s]"
     ]
    },
    {
     "name": "stdout",
     "output_type": "stream",
     "text": [
      "Epoch:   3 | Samples:    224/558 | RMSE Loss: 0.6592 | MSE Loss: 0.7274 | target: -2.0500 | pred: -1.9828\n"
     ]
    },
    {
     "name": "stderr",
     "output_type": "stream",
     "text": [
      "Division 3/5:  26%|███████████████████▋                                                         | 259/1015 [00:21<01:09, 10.90it/s]"
     ]
    },
    {
     "name": "stdout",
     "output_type": "stream",
     "text": [
      "Epoch:   3 | Samples:    256/558 | RMSE Loss: 0.6626 | MSE Loss: 0.7161 | target: -4.4200 | pred: -4.9855\n"
     ]
    },
    {
     "name": "stderr",
     "output_type": "stream",
     "text": [
      "Division 3/5:  29%|██████████████████████▏                                                      | 292/1015 [00:23<00:58, 12.29it/s]"
     ]
    },
    {
     "name": "stdout",
     "output_type": "stream",
     "text": [
      "Epoch:   3 | Samples:    288/558 | RMSE Loss: 0.6697 | MSE Loss: 0.7249 | target: -2.3690 | pred: -2.8646\n"
     ]
    },
    {
     "name": "stderr",
     "output_type": "stream",
     "text": [
      "Division 3/5:  32%|████████████████████████▌                                                    | 323/1015 [00:26<00:47, 14.62it/s]"
     ]
    },
    {
     "name": "stdout",
     "output_type": "stream",
     "text": [
      "Epoch:   3 | Samples:    320/558 | RMSE Loss: 0.6680 | MSE Loss: 0.7249 | target: -3.3500 | pred: -4.2255\n"
     ]
    },
    {
     "name": "stderr",
     "output_type": "stream",
     "text": [
      "Division 3/5:  35%|██████████████████████████▊                                                  | 353/1015 [00:29<01:10,  9.42it/s]"
     ]
    },
    {
     "name": "stdout",
     "output_type": "stream",
     "text": [
      "Epoch:   3 | Samples:    352/558 | RMSE Loss: 0.6738 | MSE Loss: 0.7446 | target: -2.1480 | pred: -1.7233\n"
     ]
    },
    {
     "name": "stderr",
     "output_type": "stream",
     "text": [
      "Division 3/5:  38%|█████████████████████████████▎                                               | 386/1015 [00:32<00:57, 10.91it/s]"
     ]
    },
    {
     "name": "stdout",
     "output_type": "stream",
     "text": [
      "Epoch:   3 | Samples:    384/558 | RMSE Loss: 0.6730 | MSE Loss: 0.7380 | target: -3.4990 | pred: -5.0259\n"
     ]
    },
    {
     "name": "stderr",
     "output_type": "stream",
     "text": [
      "Division 3/5:  41%|███████████████████████████████▋                                             | 418/1015 [00:34<00:40, 14.87it/s]"
     ]
    },
    {
     "name": "stdout",
     "output_type": "stream",
     "text": [
      "Epoch:   3 | Samples:    416/558 | RMSE Loss: 0.6644 | MSE Loss: 0.7251 | target: -1.6140 | pred: -2.2431\n"
     ]
    },
    {
     "name": "stderr",
     "output_type": "stream",
     "text": [
      "Division 3/5:  44%|██████████████████████████████████▏                                          | 451/1015 [00:37<00:40, 13.84it/s]"
     ]
    },
    {
     "name": "stdout",
     "output_type": "stream",
     "text": [
      "Epoch:   3 | Samples:    448/558 | RMSE Loss: 0.6632 | MSE Loss: 0.7203 | target: -4.5600 | pred: -3.9069\n"
     ]
    },
    {
     "name": "stderr",
     "output_type": "stream",
     "text": [
      "Division 3/5:  47%|████████████████████████████████████▎                                        | 479/1015 [00:40<00:45, 11.71it/s]"
     ]
    },
    {
     "name": "stdout",
     "output_type": "stream",
     "text": [
      "Epoch:   3 | Samples:    480/558 | RMSE Loss: 0.6619 | MSE Loss: 0.7141 | target: -2.5100 | pred: -1.3406\n"
     ]
    },
    {
     "name": "stderr",
     "output_type": "stream",
     "text": [
      "Division 3/5:  51%|███████████████████████████████████████                                      | 515/1015 [00:42<00:42, 11.75it/s]"
     ]
    },
    {
     "name": "stdout",
     "output_type": "stream",
     "text": [
      "Epoch:   3 | Samples:    512/558 | RMSE Loss: 0.6567 | MSE Loss: 0.6992 | target: -3.3600 | pred: -2.5374\n"
     ]
    },
    {
     "name": "stderr",
     "output_type": "stream",
     "text": [
      "Division 3/5:  54%|█████████████████████████████████████████▍                                   | 547/1015 [00:45<00:32, 14.25it/s]"
     ]
    },
    {
     "name": "stdout",
     "output_type": "stream",
     "text": [
      "Epoch:   3 | Samples:    544/558 | RMSE Loss: 0.6651 | MSE Loss: 0.7333 | target: -7.6800 | pred: -7.6670\n"
     ]
    },
    {
     "name": "stderr",
     "output_type": "stream",
     "text": [
      "Division 3/5:  55%|██████████████████████████████████████████▎                                  | 558/1015 [00:46<00:38, 12.01it/s]\n",
      "Division 3/5:   0%|▏                                                                              | 3/1015 [00:00<01:13, 13.85it/s]"
     ]
    },
    {
     "name": "stdout",
     "output_type": "stream",
     "text": [
      "Epoch:   4 | Samples:      0/558 | RMSE Loss: 1.2816 | MSE Loss: 1.6424 | target: -4.5540 | pred: -3.2724\n"
     ]
    },
    {
     "name": "stderr",
     "output_type": "stream",
     "text": [
      "Division 3/5:   3%|██▋                                                                           | 35/1015 [00:02<01:16, 12.83it/s]"
     ]
    },
    {
     "name": "stdout",
     "output_type": "stream",
     "text": [
      "Epoch:   4 | Samples:     32/558 | RMSE Loss: 0.7021 | MSE Loss: 0.7689 | target: -3.8960 | pred: -5.1584\n"
     ]
    },
    {
     "name": "stderr",
     "output_type": "stream",
     "text": [
      "Division 3/5:   7%|█████▏                                                                        | 67/1015 [00:05<01:15, 12.48it/s]"
     ]
    },
    {
     "name": "stdout",
     "output_type": "stream",
     "text": [
      "Epoch:   4 | Samples:     64/558 | RMSE Loss: 0.6130 | MSE Loss: 0.6721 | target: -4.1000 | pred: -4.1054\n"
     ]
    },
    {
     "name": "stderr",
     "output_type": "stream",
     "text": [
      "Division 3/5:  10%|███████▌                                                                     | 100/1015 [00:07<01:08, 13.36it/s]"
     ]
    },
    {
     "name": "stdout",
     "output_type": "stream",
     "text": [
      "Epoch:   4 | Samples:     96/558 | RMSE Loss: 0.6151 | MSE Loss: 0.6452 | target: -1.3300 | pred: -1.2004\n"
     ]
    },
    {
     "name": "stderr",
     "output_type": "stream",
     "text": [
      "Division 3/5:  13%|█████████▉                                                                   | 131/1015 [00:10<01:09, 12.70it/s]"
     ]
    },
    {
     "name": "stdout",
     "output_type": "stream",
     "text": [
      "Epoch:   4 | Samples:    128/558 | RMSE Loss: 0.5935 | MSE Loss: 0.5855 | target: 0.0090 | pred: -0.1197\n"
     ]
    },
    {
     "name": "stderr",
     "output_type": "stream",
     "text": [
      "Division 3/5:  16%|████████████▎                                                                | 162/1015 [00:12<01:06, 12.80it/s]"
     ]
    },
    {
     "name": "stdout",
     "output_type": "stream",
     "text": [
      "Epoch:   4 | Samples:    160/558 | RMSE Loss: 0.5977 | MSE Loss: 0.5893 | target: -1.0900 | pred: -1.5710\n"
     ]
    },
    {
     "name": "stderr",
     "output_type": "stream",
     "text": [
      "Division 3/5:  19%|██████████████▊                                                              | 195/1015 [00:15<01:05, 12.47it/s]"
     ]
    },
    {
     "name": "stdout",
     "output_type": "stream",
     "text": [
      "Epoch:   4 | Samples:    192/558 | RMSE Loss: 0.6057 | MSE Loss: 0.6125 | target: -1.3700 | pred: -2.2785\n"
     ]
    },
    {
     "name": "stderr",
     "output_type": "stream",
     "text": [
      "Division 3/5:  22%|█████████████████▏                                                           | 226/1015 [00:17<00:57, 13.63it/s]"
     ]
    },
    {
     "name": "stdout",
     "output_type": "stream",
     "text": [
      "Epoch:   4 | Samples:    224/558 | RMSE Loss: 0.6126 | MSE Loss: 0.6286 | target: -2.0500 | pred: -1.9888\n"
     ]
    },
    {
     "name": "stderr",
     "output_type": "stream",
     "text": [
      "Division 3/5:  26%|███████████████████▋                                                         | 259/1015 [00:21<01:09, 10.92it/s]"
     ]
    },
    {
     "name": "stdout",
     "output_type": "stream",
     "text": [
      "Epoch:   4 | Samples:    256/558 | RMSE Loss: 0.6157 | MSE Loss: 0.6191 | target: -4.4200 | pred: -4.9345\n"
     ]
    },
    {
     "name": "stderr",
     "output_type": "stream",
     "text": [
      "Division 3/5:  29%|██████████████████████▏                                                      | 292/1015 [00:23<00:58, 12.36it/s]"
     ]
    },
    {
     "name": "stdout",
     "output_type": "stream",
     "text": [
      "Epoch:   4 | Samples:    288/558 | RMSE Loss: 0.6232 | MSE Loss: 0.6300 | target: -2.3690 | pred: -2.9317\n"
     ]
    },
    {
     "name": "stderr",
     "output_type": "stream",
     "text": [
      "Division 3/5:  32%|████████████████████████▌                                                    | 323/1015 [00:26<00:47, 14.61it/s]"
     ]
    },
    {
     "name": "stdout",
     "output_type": "stream",
     "text": [
      "Epoch:   4 | Samples:    320/558 | RMSE Loss: 0.6240 | MSE Loss: 0.6334 | target: -3.3500 | pred: -4.2368\n"
     ]
    },
    {
     "name": "stderr",
     "output_type": "stream",
     "text": [
      "Division 3/5:  35%|██████████████████████████▊                                                  | 353/1015 [00:28<01:10,  9.44it/s]"
     ]
    },
    {
     "name": "stdout",
     "output_type": "stream",
     "text": [
      "Epoch:   4 | Samples:    352/558 | RMSE Loss: 0.6305 | MSE Loss: 0.6524 | target: -2.1480 | pred: -1.7675\n"
     ]
    },
    {
     "name": "stderr",
     "output_type": "stream",
     "text": [
      "Division 3/5:  38%|█████████████████████████████▎                                               | 387/1015 [00:32<00:54, 11.60it/s]"
     ]
    },
    {
     "name": "stdout",
     "output_type": "stream",
     "text": [
      "Epoch:   4 | Samples:    384/558 | RMSE Loss: 0.6298 | MSE Loss: 0.6468 | target: -3.4990 | pred: -4.9192\n"
     ]
    },
    {
     "name": "stderr",
     "output_type": "stream",
     "text": [
      "Division 3/5:  41%|███████████████████████████████▊                                             | 419/1015 [00:34<00:41, 14.47it/s]"
     ]
    },
    {
     "name": "stdout",
     "output_type": "stream",
     "text": [
      "Epoch:   4 | Samples:    416/558 | RMSE Loss: 0.6212 | MSE Loss: 0.6338 | target: -1.6140 | pred: -2.2616\n"
     ]
    },
    {
     "name": "stderr",
     "output_type": "stream",
     "text": [
      "Division 3/5:  44%|██████████████████████████████████▏                                          | 451/1015 [00:37<00:40, 13.97it/s]"
     ]
    },
    {
     "name": "stdout",
     "output_type": "stream",
     "text": [
      "Epoch:   4 | Samples:    448/558 | RMSE Loss: 0.6224 | MSE Loss: 0.6331 | target: -4.5600 | pred: -3.8833\n"
     ]
    },
    {
     "name": "stderr",
     "output_type": "stream",
     "text": [
      "Division 3/5:  47%|████████████████████████████████████▎                                        | 479/1015 [00:40<00:45, 11.72it/s]"
     ]
    },
    {
     "name": "stdout",
     "output_type": "stream",
     "text": [
      "Epoch:   4 | Samples:    480/558 | RMSE Loss: 0.6200 | MSE Loss: 0.6273 | target: -2.5100 | pred: -1.2407\n"
     ]
    },
    {
     "name": "stderr",
     "output_type": "stream",
     "text": [
      "Division 3/5:  51%|███████████████████████████████████████                                      | 515/1015 [00:42<00:42, 11.68it/s]"
     ]
    },
    {
     "name": "stdout",
     "output_type": "stream",
     "text": [
      "Epoch:   4 | Samples:    512/558 | RMSE Loss: 0.6159 | MSE Loss: 0.6153 | target: -3.3600 | pred: -2.7182\n"
     ]
    },
    {
     "name": "stderr",
     "output_type": "stream",
     "text": [
      "Division 3/5:  54%|█████████████████████████████████████████▍                                   | 547/1015 [00:45<00:32, 14.22it/s]"
     ]
    },
    {
     "name": "stdout",
     "output_type": "stream",
     "text": [
      "Epoch:   4 | Samples:    544/558 | RMSE Loss: 0.6238 | MSE Loss: 0.6466 | target: -7.6800 | pred: -7.9020\n"
     ]
    },
    {
     "name": "stderr",
     "output_type": "stream",
     "text": [
      "Division 3/5:  55%|██████████████████████████████████████████▎                                  | 558/1015 [00:46<00:38, 12.02it/s]\n",
      "Division 3/5:   0%|▏                                                                              | 3/1015 [00:00<01:10, 14.42it/s]"
     ]
    },
    {
     "name": "stdout",
     "output_type": "stream",
     "text": [
      "Epoch:   5 | Samples:      0/558 | RMSE Loss: 1.2255 | MSE Loss: 1.5018 | target: -4.5540 | pred: -3.3285\n"
     ]
    },
    {
     "name": "stderr",
     "output_type": "stream",
     "text": [
      "Division 3/5:   3%|██▋                                                                           | 35/1015 [00:02<01:17, 12.70it/s]"
     ]
    },
    {
     "name": "stdout",
     "output_type": "stream",
     "text": [
      "Epoch:   5 | Samples:     32/558 | RMSE Loss: 0.6644 | MSE Loss: 0.6749 | target: -3.8960 | pred: -5.3091\n"
     ]
    },
    {
     "name": "stderr",
     "output_type": "stream",
     "text": [
      "Division 3/5:   7%|█████▏                                                                        | 67/1015 [00:05<01:15, 12.55it/s]"
     ]
    },
    {
     "name": "stdout",
     "output_type": "stream",
     "text": [
      "Epoch:   5 | Samples:     64/558 | RMSE Loss: 0.5751 | MSE Loss: 0.5990 | target: -4.1000 | pred: -4.1675\n"
     ]
    },
    {
     "name": "stderr",
     "output_type": "stream",
     "text": [
      "Division 3/5:  10%|███████▌                                                                     | 100/1015 [00:07<01:08, 13.30it/s]"
     ]
    },
    {
     "name": "stdout",
     "output_type": "stream",
     "text": [
      "Epoch:   5 | Samples:     96/558 | RMSE Loss: 0.5783 | MSE Loss: 0.5838 | target: -1.3300 | pred: -1.1187\n"
     ]
    },
    {
     "name": "stderr",
     "output_type": "stream",
     "text": [
      "Division 3/5:  13%|█████████▉                                                                   | 131/1015 [00:10<01:10, 12.55it/s]"
     ]
    },
    {
     "name": "stdout",
     "output_type": "stream",
     "text": [
      "Epoch:   5 | Samples:    128/558 | RMSE Loss: 0.5629 | MSE Loss: 0.5348 | target: 0.0090 | pred: 0.0529\n"
     ]
    },
    {
     "name": "stderr",
     "output_type": "stream",
     "text": [
      "Division 3/5:  16%|████████████▎                                                                | 162/1015 [00:12<01:07, 12.66it/s]"
     ]
    },
    {
     "name": "stdout",
     "output_type": "stream",
     "text": [
      "Epoch:   5 | Samples:    160/558 | RMSE Loss: 0.5644 | MSE Loss: 0.5402 | target: -1.0900 | pred: -1.5735\n"
     ]
    },
    {
     "name": "stderr",
     "output_type": "stream",
     "text": [
      "Division 3/5:  19%|██████████████▊                                                              | 195/1015 [00:15<01:05, 12.57it/s]"
     ]
    },
    {
     "name": "stdout",
     "output_type": "stream",
     "text": [
      "Epoch:   5 | Samples:    192/558 | RMSE Loss: 0.5693 | MSE Loss: 0.5511 | target: -1.3700 | pred: -2.2545\n"
     ]
    },
    {
     "name": "stderr",
     "output_type": "stream",
     "text": [
      "Division 3/5:  22%|█████████████████▏                                                           | 226/1015 [00:18<00:58, 13.56it/s]"
     ]
    },
    {
     "name": "stdout",
     "output_type": "stream",
     "text": [
      "Epoch:   5 | Samples:    224/558 | RMSE Loss: 0.5810 | MSE Loss: 0.5761 | target: -2.0500 | pred: -2.0714\n"
     ]
    },
    {
     "name": "stderr",
     "output_type": "stream",
     "text": [
      "Division 3/5:  26%|███████████████████▋                                                         | 259/1015 [00:21<01:09, 10.80it/s]"
     ]
    },
    {
     "name": "stdout",
     "output_type": "stream",
     "text": [
      "Epoch:   5 | Samples:    256/558 | RMSE Loss: 0.5845 | MSE Loss: 0.5702 | target: -4.4200 | pred: -4.9448\n"
     ]
    },
    {
     "name": "stderr",
     "output_type": "stream",
     "text": [
      "Division 3/5:  29%|██████████████████████▏                                                      | 292/1015 [00:23<00:59, 12.05it/s]"
     ]
    },
    {
     "name": "stdout",
     "output_type": "stream",
     "text": [
      "Epoch:   5 | Samples:    288/558 | RMSE Loss: 0.5919 | MSE Loss: 0.5815 | target: -2.3690 | pred: -2.9090\n"
     ]
    },
    {
     "name": "stderr",
     "output_type": "stream",
     "text": [
      "Division 3/5:  32%|████████████████████████▌                                                    | 323/1015 [00:26<00:47, 14.49it/s]"
     ]
    },
    {
     "name": "stdout",
     "output_type": "stream",
     "text": [
      "Epoch:   5 | Samples:    320/558 | RMSE Loss: 0.5930 | MSE Loss: 0.5852 | target: -3.3500 | pred: -4.2841\n"
     ]
    },
    {
     "name": "stderr",
     "output_type": "stream",
     "text": [
      "Division 3/5:  35%|██████████████████████████▊                                                  | 353/1015 [00:29<01:10,  9.42it/s]"
     ]
    },
    {
     "name": "stdout",
     "output_type": "stream",
     "text": [
      "Epoch:   5 | Samples:    352/558 | RMSE Loss: 0.5981 | MSE Loss: 0.6018 | target: -2.1480 | pred: -1.8544\n"
     ]
    },
    {
     "name": "stderr",
     "output_type": "stream",
     "text": [
      "Division 3/5:  38%|█████████████████████████████▎                                               | 386/1015 [00:32<00:57, 10.89it/s]"
     ]
    },
    {
     "name": "stdout",
     "output_type": "stream",
     "text": [
      "Epoch:   5 | Samples:    384/558 | RMSE Loss: 0.5971 | MSE Loss: 0.5959 | target: -3.4990 | pred: -4.8102\n"
     ]
    },
    {
     "name": "stderr",
     "output_type": "stream",
     "text": [
      "Division 3/5:  41%|███████████████████████████████▋                                             | 418/1015 [00:34<00:40, 14.89it/s]"
     ]
    },
    {
     "name": "stdout",
     "output_type": "stream",
     "text": [
      "Epoch:   5 | Samples:    416/558 | RMSE Loss: 0.5888 | MSE Loss: 0.5825 | target: -1.6140 | pred: -2.2588\n"
     ]
    },
    {
     "name": "stderr",
     "output_type": "stream",
     "text": [
      "Division 3/5:  44%|██████████████████████████████████▏                                          | 451/1015 [00:37<00:40, 13.84it/s]"
     ]
    },
    {
     "name": "stdout",
     "output_type": "stream",
     "text": [
      "Epoch:   5 | Samples:    448/558 | RMSE Loss: 0.5919 | MSE Loss: 0.5843 | target: -4.5600 | pred: -3.9311\n"
     ]
    },
    {
     "name": "stderr",
     "output_type": "stream",
     "text": [
      "Division 3/5:  47%|████████████████████████████████████▎                                        | 479/1015 [00:40<00:45, 11.76it/s]"
     ]
    },
    {
     "name": "stdout",
     "output_type": "stream",
     "text": [
      "Epoch:   5 | Samples:    480/558 | RMSE Loss: 0.5892 | MSE Loss: 0.5778 | target: -2.5100 | pred: -1.2118\n"
     ]
    },
    {
     "name": "stderr",
     "output_type": "stream",
     "text": [
      "Division 3/5:  51%|███████████████████████████████████████                                      | 515/1015 [00:42<00:42, 11.67it/s]"
     ]
    },
    {
     "name": "stdout",
     "output_type": "stream",
     "text": [
      "Epoch:   5 | Samples:    512/558 | RMSE Loss: 0.5857 | MSE Loss: 0.5672 | target: -3.3600 | pred: -2.9172\n"
     ]
    },
    {
     "name": "stderr",
     "output_type": "stream",
     "text": [
      "Division 3/5:  54%|█████████████████████████████████████████▍                                   | 547/1015 [00:45<00:33, 14.12it/s]"
     ]
    },
    {
     "name": "stdout",
     "output_type": "stream",
     "text": [
      "Epoch:   5 | Samples:    544/558 | RMSE Loss: 0.5939 | MSE Loss: 0.5966 | target: -7.6800 | pred: -8.0442\n"
     ]
    },
    {
     "name": "stderr",
     "output_type": "stream",
     "text": [
      "Division 3/5:  55%|██████████████████████████████████████████▎                                  | 558/1015 [00:46<00:38, 11.98it/s]\n",
      "Division 3/5:   0%|▏                                                                              | 3/1015 [00:00<01:12, 14.00it/s]"
     ]
    },
    {
     "name": "stdout",
     "output_type": "stream",
     "text": [
      "Epoch:   6 | Samples:      0/558 | RMSE Loss: 1.1989 | MSE Loss: 1.4373 | target: -4.5540 | pred: -3.3551\n"
     ]
    },
    {
     "name": "stderr",
     "output_type": "stream",
     "text": [
      "Division 3/5:   3%|██▌                                                                           | 34/1015 [00:02<01:20, 12.14it/s]"
     ]
    },
    {
     "name": "stdout",
     "output_type": "stream",
     "text": [
      "Epoch:   6 | Samples:     32/558 | RMSE Loss: 0.6384 | MSE Loss: 0.6152 | target: -3.8960 | pred: -5.3638\n"
     ]
    },
    {
     "name": "stderr",
     "output_type": "stream",
     "text": [
      "Division 3/5:   7%|█████▏                                                                        | 67/1015 [00:05<01:15, 12.48it/s]"
     ]
    },
    {
     "name": "stdout",
     "output_type": "stream",
     "text": [
      "Epoch:   6 | Samples:     64/558 | RMSE Loss: 0.5459 | MSE Loss: 0.5398 | target: -4.1000 | pred: -4.1747\n"
     ]
    },
    {
     "name": "stderr",
     "output_type": "stream",
     "text": [
      "Division 3/5:  10%|███████▌                                                                     | 100/1015 [00:07<01:08, 13.37it/s]"
     ]
    },
    {
     "name": "stdout",
     "output_type": "stream",
     "text": [
      "Epoch:   6 | Samples:     96/558 | RMSE Loss: 0.5491 | MSE Loss: 0.5340 | target: -1.3300 | pred: -1.1279\n"
     ]
    },
    {
     "name": "stderr",
     "output_type": "stream",
     "text": [
      "Division 3/5:  13%|█████████▉                                                                   | 131/1015 [00:10<01:10, 12.45it/s]"
     ]
    },
    {
     "name": "stdout",
     "output_type": "stream",
     "text": [
      "Epoch:   6 | Samples:    128/558 | RMSE Loss: 0.5384 | MSE Loss: 0.4934 | target: 0.0090 | pred: 0.1846\n"
     ]
    },
    {
     "name": "stderr",
     "output_type": "stream",
     "text": [
      "Division 3/5:  16%|████████████▎                                                                | 162/1015 [00:12<01:06, 12.77it/s]"
     ]
    },
    {
     "name": "stdout",
     "output_type": "stream",
     "text": [
      "Epoch:   6 | Samples:    160/558 | RMSE Loss: 0.5380 | MSE Loss: 0.5011 | target: -1.0900 | pred: -1.5838\n"
     ]
    },
    {
     "name": "stderr",
     "output_type": "stream",
     "text": [
      "Division 3/5:  19%|██████████████▊                                                              | 195/1015 [00:15<01:04, 12.68it/s]"
     ]
    },
    {
     "name": "stdout",
     "output_type": "stream",
     "text": [
      "Epoch:   6 | Samples:    192/558 | RMSE Loss: 0.5411 | MSE Loss: 0.5064 | target: -1.3700 | pred: -2.2407\n"
     ]
    },
    {
     "name": "stderr",
     "output_type": "stream",
     "text": [
      "Division 3/5:  22%|█████████████████▏                                                           | 226/1015 [00:17<00:58, 13.57it/s]"
     ]
    },
    {
     "name": "stdout",
     "output_type": "stream",
     "text": [
      "Epoch:   6 | Samples:    224/558 | RMSE Loss: 0.5561 | MSE Loss: 0.5349 | target: -2.0500 | pred: -2.1268\n"
     ]
    },
    {
     "name": "stderr",
     "output_type": "stream",
     "text": [
      "Division 3/5:  25%|███████████████████▍                                                         | 257/1015 [00:20<01:07, 11.15it/s]"
     ]
    },
    {
     "name": "stdout",
     "output_type": "stream",
     "text": [
      "Epoch:   6 | Samples:    256/558 | RMSE Loss: 0.5603 | MSE Loss: 0.5320 | target: -4.4200 | pred: -4.9336\n"
     ]
    },
    {
     "name": "stderr",
     "output_type": "stream",
     "text": [
      "Division 3/5:  29%|██████████████████████▏                                                      | 292/1015 [00:23<00:59, 12.17it/s]"
     ]
    },
    {
     "name": "stdout",
     "output_type": "stream",
     "text": [
      "Epoch:   6 | Samples:    288/558 | RMSE Loss: 0.5686 | MSE Loss: 0.5449 | target: -2.3690 | pred: -2.9035\n"
     ]
    },
    {
     "name": "stderr",
     "output_type": "stream",
     "text": [
      "Division 3/5:  32%|████████████████████████▌                                                    | 323/1015 [00:26<00:47, 14.56it/s]"
     ]
    },
    {
     "name": "stdout",
     "output_type": "stream",
     "text": [
      "Epoch:   6 | Samples:    320/558 | RMSE Loss: 0.5692 | MSE Loss: 0.5475 | target: -3.3500 | pred: -4.3121\n"
     ]
    },
    {
     "name": "stderr",
     "output_type": "stream",
     "text": [
      "Division 3/5:  35%|██████████████████████████▊                                                  | 353/1015 [00:28<01:10,  9.39it/s]"
     ]
    },
    {
     "name": "stdout",
     "output_type": "stream",
     "text": [
      "Epoch:   6 | Samples:    352/558 | RMSE Loss: 0.5742 | MSE Loss: 0.5642 | target: -2.1480 | pred: -1.9509\n"
     ]
    },
    {
     "name": "stderr",
     "output_type": "stream",
     "text": [
      "Division 3/5:  38%|█████████████████████████████▎                                               | 386/1015 [00:32<00:56, 11.05it/s]"
     ]
    },
    {
     "name": "stdout",
     "output_type": "stream",
     "text": [
      "Epoch:   6 | Samples:    384/558 | RMSE Loss: 0.5724 | MSE Loss: 0.5568 | target: -3.4990 | pred: -4.7122\n"
     ]
    },
    {
     "name": "stderr",
     "output_type": "stream",
     "text": [
      "Division 3/5:  41%|███████████████████████████████▋                                             | 418/1015 [00:34<00:40, 14.92it/s]"
     ]
    },
    {
     "name": "stdout",
     "output_type": "stream",
     "text": [
      "Epoch:   6 | Samples:    416/558 | RMSE Loss: 0.5648 | MSE Loss: 0.5435 | target: -1.6140 | pred: -2.2248\n"
     ]
    },
    {
     "name": "stderr",
     "output_type": "stream",
     "text": [
      "Division 3/5:  44%|██████████████████████████████████▏                                          | 451/1015 [00:37<00:40, 13.90it/s]"
     ]
    },
    {
     "name": "stdout",
     "output_type": "stream",
     "text": [
      "Epoch:   6 | Samples:    448/558 | RMSE Loss: 0.5689 | MSE Loss: 0.5469 | target: -4.5600 | pred: -3.9710\n"
     ]
    },
    {
     "name": "stderr",
     "output_type": "stream",
     "text": [
      "Division 3/5:  47%|████████████████████████████████████▎                                        | 479/1015 [00:40<00:45, 11.75it/s]"
     ]
    },
    {
     "name": "stdout",
     "output_type": "stream",
     "text": [
      "Epoch:   6 | Samples:    480/558 | RMSE Loss: 0.5660 | MSE Loss: 0.5402 | target: -2.5100 | pred: -1.1783\n"
     ]
    },
    {
     "name": "stderr",
     "output_type": "stream",
     "text": [
      "Division 3/5:  51%|███████████████████████████████████████                                      | 515/1015 [00:42<00:42, 11.67it/s]"
     ]
    },
    {
     "name": "stdout",
     "output_type": "stream",
     "text": [
      "Epoch:   6 | Samples:    512/558 | RMSE Loss: 0.5622 | MSE Loss: 0.5304 | target: -3.3600 | pred: -3.0777\n"
     ]
    },
    {
     "name": "stderr",
     "output_type": "stream",
     "text": [
      "Division 3/5:  54%|█████████████████████████████████████████▍                                   | 547/1015 [00:45<00:32, 14.29it/s]"
     ]
    },
    {
     "name": "stdout",
     "output_type": "stream",
     "text": [
      "Epoch:   6 | Samples:    544/558 | RMSE Loss: 0.5708 | MSE Loss: 0.5583 | target: -7.6800 | pred: -8.1385\n"
     ]
    },
    {
     "name": "stderr",
     "output_type": "stream",
     "text": [
      "Division 3/5:  55%|██████████████████████████████████████████▎                                  | 558/1015 [00:46<00:38, 12.01it/s]\n",
      "Division 3/5:   0%|▏                                                                              | 3/1015 [00:00<01:12, 13.88it/s]"
     ]
    },
    {
     "name": "stdout",
     "output_type": "stream",
     "text": [
      "Epoch:   7 | Samples:      0/558 | RMSE Loss: 1.2068 | MSE Loss: 1.4564 | target: -4.5540 | pred: -3.3472\n"
     ]
    },
    {
     "name": "stderr",
     "output_type": "stream",
     "text": [
      "Division 3/5:   3%|██▌                                                                           | 34/1015 [00:02<01:21, 12.10it/s]"
     ]
    },
    {
     "name": "stdout",
     "output_type": "stream",
     "text": [
      "Epoch:   7 | Samples:     32/558 | RMSE Loss: 0.6218 | MSE Loss: 0.5878 | target: -3.8960 | pred: -5.3824\n"
     ]
    },
    {
     "name": "stderr",
     "output_type": "stream",
     "text": [
      "Division 3/5:   7%|█████                                                                         | 66/1015 [00:05<01:24, 11.27it/s]"
     ]
    },
    {
     "name": "stdout",
     "output_type": "stream",
     "text": [
      "Epoch:   7 | Samples:     64/558 | RMSE Loss: 0.5235 | MSE Loss: 0.5011 | target: -4.1000 | pred: -4.1451\n"
     ]
    },
    {
     "name": "stderr",
     "output_type": "stream",
     "text": [
      "Division 3/5:  10%|███████▌                                                                     | 100/1015 [00:07<01:08, 13.36it/s]"
     ]
    },
    {
     "name": "stdout",
     "output_type": "stream",
     "text": [
      "Epoch:   7 | Samples:     96/558 | RMSE Loss: 0.5263 | MSE Loss: 0.4982 | target: -1.3300 | pred: -1.1448\n"
     ]
    },
    {
     "name": "stderr",
     "output_type": "stream",
     "text": [
      "Division 3/5:  13%|█████████▉                                                                   | 131/1015 [00:10<01:10, 12.60it/s]"
     ]
    },
    {
     "name": "stdout",
     "output_type": "stream",
     "text": [
      "Epoch:   7 | Samples:    128/558 | RMSE Loss: 0.5171 | MSE Loss: 0.4628 | target: 0.0090 | pred: 0.2896\n"
     ]
    },
    {
     "name": "stderr",
     "output_type": "stream",
     "text": [
      "Division 3/5:  16%|████████████▎                                                                | 162/1015 [00:12<01:06, 12.76it/s]"
     ]
    },
    {
     "name": "stdout",
     "output_type": "stream",
     "text": [
      "Epoch:   7 | Samples:    160/558 | RMSE Loss: 0.5146 | MSE Loss: 0.4710 | target: -1.0900 | pred: -1.5891\n"
     ]
    },
    {
     "name": "stderr",
     "output_type": "stream",
     "text": [
      "Division 3/5:  19%|██████████████▊                                                              | 195/1015 [00:15<01:04, 12.62it/s]"
     ]
    },
    {
     "name": "stdout",
     "output_type": "stream",
     "text": [
      "Epoch:   7 | Samples:    192/558 | RMSE Loss: 0.5183 | MSE Loss: 0.4738 | target: -1.3700 | pred: -2.2310\n"
     ]
    },
    {
     "name": "stderr",
     "output_type": "stream",
     "text": [
      "Division 3/5:  22%|█████████████████▏                                                           | 226/1015 [00:17<00:58, 13.56it/s]"
     ]
    },
    {
     "name": "stdout",
     "output_type": "stream",
     "text": [
      "Epoch:   7 | Samples:    224/558 | RMSE Loss: 0.5358 | MSE Loss: 0.5041 | target: -2.0500 | pred: -2.1626\n"
     ]
    },
    {
     "name": "stderr",
     "output_type": "stream",
     "text": [
      "Division 3/5:  25%|███████████████████▍                                                         | 257/1015 [00:20<01:07, 11.17it/s]"
     ]
    },
    {
     "name": "stdout",
     "output_type": "stream",
     "text": [
      "Epoch:   7 | Samples:    256/558 | RMSE Loss: 0.5408 | MSE Loss: 0.5043 | target: -4.4200 | pred: -4.9320\n"
     ]
    },
    {
     "name": "stderr",
     "output_type": "stream",
     "text": [
      "Division 3/5:  29%|██████████████████████▏                                                      | 292/1015 [00:23<01:00, 11.98it/s]"
     ]
    },
    {
     "name": "stdout",
     "output_type": "stream",
     "text": [
      "Epoch:   7 | Samples:    288/558 | RMSE Loss: 0.5494 | MSE Loss: 0.5172 | target: -2.3690 | pred: -2.8998\n"
     ]
    },
    {
     "name": "stderr",
     "output_type": "stream",
     "text": [
      "Division 3/5:  32%|████████████████████████▌                                                    | 323/1015 [00:26<00:47, 14.53it/s]"
     ]
    },
    {
     "name": "stdout",
     "output_type": "stream",
     "text": [
      "Epoch:   7 | Samples:    320/558 | RMSE Loss: 0.5497 | MSE Loss: 0.5180 | target: -3.3500 | pred: -4.3567\n"
     ]
    },
    {
     "name": "stderr",
     "output_type": "stream",
     "text": [
      "Division 3/5:  35%|██████████████████████████▊                                                  | 353/1015 [00:29<01:12,  9.18it/s]"
     ]
    },
    {
     "name": "stdout",
     "output_type": "stream",
     "text": [
      "Epoch:   7 | Samples:    352/558 | RMSE Loss: 0.5551 | MSE Loss: 0.5345 | target: -2.1480 | pred: -1.9542\n"
     ]
    },
    {
     "name": "stderr",
     "output_type": "stream",
     "text": [
      "Division 3/5:  38%|█████████████████████████████▎                                               | 386/1015 [00:32<00:57, 10.86it/s]"
     ]
    },
    {
     "name": "stdout",
     "output_type": "stream",
     "text": [
      "Epoch:   7 | Samples:    384/558 | RMSE Loss: 0.5530 | MSE Loss: 0.5263 | target: -3.4990 | pred: -4.6033\n"
     ]
    },
    {
     "name": "stderr",
     "output_type": "stream",
     "text": [
      "Division 3/5:  41%|███████████████████████████████▋                                             | 418/1015 [00:34<00:39, 14.98it/s]"
     ]
    },
    {
     "name": "stdout",
     "output_type": "stream",
     "text": [
      "Epoch:   7 | Samples:    416/558 | RMSE Loss: 0.5458 | MSE Loss: 0.5135 | target: -1.6140 | pred: -2.2138\n"
     ]
    },
    {
     "name": "stderr",
     "output_type": "stream",
     "text": [
      "Division 3/5:  44%|██████████████████████████████████▏                                          | 451/1015 [00:37<00:40, 13.92it/s]"
     ]
    },
    {
     "name": "stdout",
     "output_type": "stream",
     "text": [
      "Epoch:   7 | Samples:    448/558 | RMSE Loss: 0.5508 | MSE Loss: 0.5179 | target: -4.5600 | pred: -4.0140\n"
     ]
    },
    {
     "name": "stderr",
     "output_type": "stream",
     "text": [
      "Division 3/5:  47%|████████████████████████████████████▎                                        | 479/1015 [00:40<00:45, 11.75it/s]"
     ]
    },
    {
     "name": "stdout",
     "output_type": "stream",
     "text": [
      "Epoch:   7 | Samples:    480/558 | RMSE Loss: 0.5476 | MSE Loss: 0.5110 | target: -2.5100 | pred: -1.1833\n"
     ]
    },
    {
     "name": "stderr",
     "output_type": "stream",
     "text": [
      "Division 3/5:  51%|███████████████████████████████████████                                      | 515/1015 [00:42<00:42, 11.67it/s]"
     ]
    },
    {
     "name": "stdout",
     "output_type": "stream",
     "text": [
      "Epoch:   7 | Samples:    512/558 | RMSE Loss: 0.5438 | MSE Loss: 0.5022 | target: -3.3600 | pred: -3.1884\n"
     ]
    },
    {
     "name": "stderr",
     "output_type": "stream",
     "text": [
      "Division 3/5:  54%|█████████████████████████████████████████▍                                   | 547/1015 [00:45<00:33, 14.08it/s]"
     ]
    },
    {
     "name": "stdout",
     "output_type": "stream",
     "text": [
      "Epoch:   7 | Samples:    544/558 | RMSE Loss: 0.5524 | MSE Loss: 0.5286 | target: -7.6800 | pred: -8.1961\n"
     ]
    },
    {
     "name": "stderr",
     "output_type": "stream",
     "text": [
      "Division 3/5:  55%|██████████████████████████████████████████▎                                  | 558/1015 [00:46<00:38, 11.96it/s]\n",
      "Division 3/5:   0%|▏                                                                              | 3/1015 [00:00<01:12, 13.96it/s]"
     ]
    },
    {
     "name": "stdout",
     "output_type": "stream",
     "text": [
      "Epoch:   8 | Samples:      0/558 | RMSE Loss: 1.2000 | MSE Loss: 1.4400 | target: -4.5540 | pred: -3.3540\n"
     ]
    },
    {
     "name": "stderr",
     "output_type": "stream",
     "text": [
      "Division 3/5:   3%|██▋                                                                           | 35/1015 [00:02<01:17, 12.72it/s]"
     ]
    },
    {
     "name": "stdout",
     "output_type": "stream",
     "text": [
      "Epoch:   8 | Samples:     32/558 | RMSE Loss: 0.6085 | MSE Loss: 0.5714 | target: -3.8960 | pred: -5.4099\n"
     ]
    },
    {
     "name": "stderr",
     "output_type": "stream",
     "text": [
      "Division 3/5:   7%|█████▏                                                                        | 67/1015 [00:05<01:15, 12.54it/s]"
     ]
    },
    {
     "name": "stdout",
     "output_type": "stream",
     "text": [
      "Epoch:   8 | Samples:     64/558 | RMSE Loss: 0.5074 | MSE Loss: 0.4737 | target: -4.1000 | pred: -4.1356\n"
     ]
    },
    {
     "name": "stderr",
     "output_type": "stream",
     "text": [
      "Division 3/5:  10%|███████▌                                                                     | 100/1015 [00:07<01:10, 12.95it/s]"
     ]
    },
    {
     "name": "stdout",
     "output_type": "stream",
     "text": [
      "Epoch:   8 | Samples:     96/558 | RMSE Loss: 0.5112 | MSE Loss: 0.4705 | target: -1.3300 | pred: -1.1852\n"
     ]
    },
    {
     "name": "stderr",
     "output_type": "stream",
     "text": [
      "Division 3/5:  13%|█████████▉                                                                   | 131/1015 [00:10<01:10, 12.49it/s]"
     ]
    },
    {
     "name": "stdout",
     "output_type": "stream",
     "text": [
      "Epoch:   8 | Samples:    128/558 | RMSE Loss: 0.5017 | MSE Loss: 0.4390 | target: 0.0090 | pred: 0.3574\n"
     ]
    },
    {
     "name": "stderr",
     "output_type": "stream",
     "text": [
      "Division 3/5:  16%|████████████▎                                                                | 162/1015 [00:12<01:06, 12.79it/s]"
     ]
    },
    {
     "name": "stdout",
     "output_type": "stream",
     "text": [
      "Epoch:   8 | Samples:    160/558 | RMSE Loss: 0.4985 | MSE Loss: 0.4471 | target: -1.0900 | pred: -1.5885\n"
     ]
    },
    {
     "name": "stderr",
     "output_type": "stream",
     "text": [
      "Division 3/5:  19%|██████████████▊                                                              | 195/1015 [00:15<01:05, 12.59it/s]"
     ]
    },
    {
     "name": "stdout",
     "output_type": "stream",
     "text": [
      "Epoch:   8 | Samples:    192/558 | RMSE Loss: 0.5031 | MSE Loss: 0.4485 | target: -1.3700 | pred: -2.2066\n"
     ]
    },
    {
     "name": "stderr",
     "output_type": "stream",
     "text": [
      "Division 3/5:  22%|█████████████████▏                                                           | 226/1015 [00:18<00:58, 13.44it/s]"
     ]
    },
    {
     "name": "stdout",
     "output_type": "stream",
     "text": [
      "Epoch:   8 | Samples:    224/558 | RMSE Loss: 0.5217 | MSE Loss: 0.4794 | target: -2.0500 | pred: -2.1842\n"
     ]
    },
    {
     "name": "stderr",
     "output_type": "stream",
     "text": [
      "Division 3/5:  26%|███████████████████▋                                                         | 259/1015 [00:21<01:09, 10.88it/s]"
     ]
    },
    {
     "name": "stdout",
     "output_type": "stream",
     "text": [
      "Epoch:   8 | Samples:    256/558 | RMSE Loss: 0.5279 | MSE Loss: 0.4817 | target: -4.4200 | pred: -4.9173\n"
     ]
    },
    {
     "name": "stderr",
     "output_type": "stream",
     "text": [
      "Division 3/5:  29%|██████████████████████▏                                                      | 292/1015 [00:23<00:59, 12.25it/s]"
     ]
    },
    {
     "name": "stdout",
     "output_type": "stream",
     "text": [
      "Epoch:   8 | Samples:    288/558 | RMSE Loss: 0.5362 | MSE Loss: 0.4945 | target: -2.3690 | pred: -2.8960\n"
     ]
    },
    {
     "name": "stderr",
     "output_type": "stream",
     "text": [
      "Division 3/5:  32%|████████████████████████▌                                                    | 323/1015 [00:26<00:48, 14.22it/s]"
     ]
    },
    {
     "name": "stdout",
     "output_type": "stream",
     "text": [
      "Epoch:   8 | Samples:    320/558 | RMSE Loss: 0.5360 | MSE Loss: 0.4942 | target: -3.3500 | pred: -4.4125\n"
     ]
    },
    {
     "name": "stderr",
     "output_type": "stream",
     "text": [
      "Division 3/5:  35%|██████████████████████████▋                                                  | 352/1015 [00:29<01:11,  9.29it/s]"
     ]
    },
    {
     "name": "stdout",
     "output_type": "stream",
     "text": [
      "Epoch:   8 | Samples:    352/558 | RMSE Loss: 0.5423 | MSE Loss: 0.5116 | target: -2.1480 | pred: -1.9236\n"
     ]
    },
    {
     "name": "stderr",
     "output_type": "stream",
     "text": [
      "Division 3/5:  38%|█████████████████████████████▎                                               | 387/1015 [00:32<00:54, 11.61it/s]"
     ]
    },
    {
     "name": "stdout",
     "output_type": "stream",
     "text": [
      "Epoch:   8 | Samples:    384/558 | RMSE Loss: 0.5394 | MSE Loss: 0.5021 | target: -3.4990 | pred: -4.5408\n"
     ]
    },
    {
     "name": "stderr",
     "output_type": "stream",
     "text": [
      "Division 3/5:  41%|███████████████████████████████▊                                             | 419/1015 [00:34<00:41, 14.35it/s]"
     ]
    },
    {
     "name": "stdout",
     "output_type": "stream",
     "text": [
      "Epoch:   8 | Samples:    416/558 | RMSE Loss: 0.5324 | MSE Loss: 0.4899 | target: -1.6140 | pred: -2.1879\n"
     ]
    },
    {
     "name": "stderr",
     "output_type": "stream",
     "text": [
      "Division 3/5:  44%|██████████████████████████████████▏                                          | 451/1015 [00:37<00:40, 13.79it/s]"
     ]
    },
    {
     "name": "stdout",
     "output_type": "stream",
     "text": [
      "Epoch:   8 | Samples:    448/558 | RMSE Loss: 0.5379 | MSE Loss: 0.4950 | target: -4.5600 | pred: -4.0599\n"
     ]
    },
    {
     "name": "stderr",
     "output_type": "stream",
     "text": [
      "Division 3/5:  47%|████████████████████████████████████▎                                        | 479/1015 [00:40<00:45, 11.68it/s]"
     ]
    },
    {
     "name": "stdout",
     "output_type": "stream",
     "text": [
      "Epoch:   8 | Samples:    480/558 | RMSE Loss: 0.5342 | MSE Loss: 0.4878 | target: -2.5100 | pred: -1.2027\n"
     ]
    },
    {
     "name": "stderr",
     "output_type": "stream",
     "text": [
      "Division 3/5:  51%|███████████████████████████████████████                                      | 515/1015 [00:43<00:42, 11.71it/s]"
     ]
    },
    {
     "name": "stdout",
     "output_type": "stream",
     "text": [
      "Epoch:   8 | Samples:    512/558 | RMSE Loss: 0.5307 | MSE Loss: 0.4800 | target: -3.3600 | pred: -3.3210\n"
     ]
    },
    {
     "name": "stderr",
     "output_type": "stream",
     "text": [
      "Division 3/5:  54%|█████████████████████████████████████████▍                                   | 547/1015 [00:45<00:33, 14.01it/s]"
     ]
    },
    {
     "name": "stdout",
     "output_type": "stream",
     "text": [
      "Epoch:   8 | Samples:    544/558 | RMSE Loss: 0.5396 | MSE Loss: 0.5059 | target: -7.6800 | pred: -8.2509\n"
     ]
    },
    {
     "name": "stderr",
     "output_type": "stream",
     "text": [
      "Division 3/5:  55%|██████████████████████████████████████████▎                                  | 558/1015 [00:46<00:38, 11.93it/s]\n",
      "Division 3/5:   0%|▏                                                                              | 3/1015 [00:00<01:12, 13.88it/s]"
     ]
    },
    {
     "name": "stdout",
     "output_type": "stream",
     "text": [
      "Epoch:   9 | Samples:      0/558 | RMSE Loss: 1.1710 | MSE Loss: 1.3714 | target: -4.5540 | pred: -3.3830\n"
     ]
    },
    {
     "name": "stderr",
     "output_type": "stream",
     "text": [
      "Division 3/5:   3%|██▌                                                                           | 34/1015 [00:02<01:21, 12.09it/s]"
     ]
    },
    {
     "name": "stdout",
     "output_type": "stream",
     "text": [
      "Epoch:   9 | Samples:     32/558 | RMSE Loss: 0.5977 | MSE Loss: 0.5527 | target: -3.8960 | pred: -5.4608\n"
     ]
    },
    {
     "name": "stderr",
     "output_type": "stream",
     "text": [
      "Division 3/5:   7%|█████                                                                         | 66/1015 [00:05<01:24, 11.26it/s]"
     ]
    },
    {
     "name": "stdout",
     "output_type": "stream",
     "text": [
      "Epoch:   9 | Samples:     64/558 | RMSE Loss: 0.4944 | MSE Loss: 0.4507 | target: -4.1000 | pred: -4.1367\n"
     ]
    },
    {
     "name": "stderr",
     "output_type": "stream",
     "text": [
      "Division 3/5:  10%|███████▌                                                                     | 100/1015 [00:07<01:09, 13.17it/s]"
     ]
    },
    {
     "name": "stdout",
     "output_type": "stream",
     "text": [
      "Epoch:   9 | Samples:     96/558 | RMSE Loss: 0.4978 | MSE Loss: 0.4489 | target: -1.3300 | pred: -1.2184\n"
     ]
    },
    {
     "name": "stderr",
     "output_type": "stream",
     "text": [
      "Division 3/5:  13%|█████████▉                                                                   | 131/1015 [00:10<01:10, 12.55it/s]"
     ]
    },
    {
     "name": "stdout",
     "output_type": "stream",
     "text": [
      "Epoch:   9 | Samples:    128/558 | RMSE Loss: 0.4877 | MSE Loss: 0.4193 | target: 0.0090 | pred: 0.4077\n"
     ]
    },
    {
     "name": "stderr",
     "output_type": "stream",
     "text": [
      "Division 3/5:  16%|████████████▎                                                                | 162/1015 [00:12<01:07, 12.71it/s]"
     ]
    },
    {
     "name": "stdout",
     "output_type": "stream",
     "text": [
      "Epoch:   9 | Samples:    160/558 | RMSE Loss: 0.4845 | MSE Loss: 0.4264 | target: -1.0900 | pred: -1.6026\n"
     ]
    },
    {
     "name": "stderr",
     "output_type": "stream",
     "text": [
      "Division 3/5:  19%|██████████████▊                                                              | 195/1015 [00:15<01:06, 12.36it/s]"
     ]
    },
    {
     "name": "stdout",
     "output_type": "stream",
     "text": [
      "Epoch:   9 | Samples:    192/558 | RMSE Loss: 0.4893 | MSE Loss: 0.4255 | target: -1.3700 | pred: -2.2003\n"
     ]
    },
    {
     "name": "stderr",
     "output_type": "stream",
     "text": [
      "Division 3/5:  22%|█████████████████▏                                                           | 226/1015 [00:18<00:58, 13.52it/s]"
     ]
    },
    {
     "name": "stdout",
     "output_type": "stream",
     "text": [
      "Epoch:   9 | Samples:    224/558 | RMSE Loss: 0.5082 | MSE Loss: 0.4572 | target: -2.0500 | pred: -2.2182\n"
     ]
    },
    {
     "name": "stderr",
     "output_type": "stream",
     "text": [
      "Division 3/5:  25%|███████████████████▍                                                         | 257/1015 [00:20<01:07, 11.27it/s]"
     ]
    },
    {
     "name": "stdout",
     "output_type": "stream",
     "text": [
      "Epoch:   9 | Samples:    256/558 | RMSE Loss: 0.5157 | MSE Loss: 0.4616 | target: -4.4200 | pred: -4.8665\n"
     ]
    },
    {
     "name": "stderr",
     "output_type": "stream",
     "text": [
      "Division 3/5:  29%|██████████████████████▏                                                      | 292/1015 [00:23<00:59, 12.25it/s]"
     ]
    },
    {
     "name": "stdout",
     "output_type": "stream",
     "text": [
      "Epoch:   9 | Samples:    288/558 | RMSE Loss: 0.5236 | MSE Loss: 0.4743 | target: -2.3690 | pred: -2.8001\n"
     ]
    },
    {
     "name": "stderr",
     "output_type": "stream",
     "text": [
      "Division 3/5:  32%|████████████████████████▌                                                    | 323/1015 [00:26<00:47, 14.47it/s]"
     ]
    },
    {
     "name": "stdout",
     "output_type": "stream",
     "text": [
      "Epoch:   9 | Samples:    320/558 | RMSE Loss: 0.5242 | MSE Loss: 0.4751 | target: -3.3500 | pred: -4.4928\n"
     ]
    },
    {
     "name": "stderr",
     "output_type": "stream",
     "text": [
      "Division 3/5:  35%|██████████████████████████▊                                                  | 353/1015 [00:29<01:10,  9.36it/s]"
     ]
    },
    {
     "name": "stdout",
     "output_type": "stream",
     "text": [
      "Epoch:   9 | Samples:    352/558 | RMSE Loss: 0.5304 | MSE Loss: 0.4914 | target: -2.1480 | pred: -1.8718\n"
     ]
    },
    {
     "name": "stderr",
     "output_type": "stream",
     "text": [
      "Division 3/5:  38%|█████████████████████████████▎                                               | 386/1015 [00:32<00:56, 11.06it/s]"
     ]
    },
    {
     "name": "stdout",
     "output_type": "stream",
     "text": [
      "Epoch:   9 | Samples:    384/558 | RMSE Loss: 0.5276 | MSE Loss: 0.4818 | target: -3.4990 | pred: -4.5031\n"
     ]
    },
    {
     "name": "stderr",
     "output_type": "stream",
     "text": [
      "Division 3/5:  41%|███████████████████████████████▋                                             | 418/1015 [00:34<00:39, 15.09it/s]"
     ]
    },
    {
     "name": "stdout",
     "output_type": "stream",
     "text": [
      "Epoch:   9 | Samples:    416/558 | RMSE Loss: 0.5206 | MSE Loss: 0.4701 | target: -1.6140 | pred: -2.1754\n"
     ]
    },
    {
     "name": "stderr",
     "output_type": "stream",
     "text": [
      "Division 3/5:  44%|██████████████████████████████████▏                                          | 451/1015 [00:37<00:40, 13.92it/s]"
     ]
    },
    {
     "name": "stdout",
     "output_type": "stream",
     "text": [
      "Epoch:   9 | Samples:    448/558 | RMSE Loss: 0.5269 | MSE Loss: 0.4763 | target: -4.5600 | pred: -4.1295\n"
     ]
    },
    {
     "name": "stderr",
     "output_type": "stream",
     "text": [
      "Division 3/5:  47%|████████████████████████████████████▎                                        | 479/1015 [00:40<00:45, 11.78it/s]"
     ]
    },
    {
     "name": "stdout",
     "output_type": "stream",
     "text": [
      "Epoch:   9 | Samples:    480/558 | RMSE Loss: 0.5231 | MSE Loss: 0.4687 | target: -2.5100 | pred: -1.2220\n"
     ]
    },
    {
     "name": "stderr",
     "output_type": "stream",
     "text": [
      "Division 3/5:  51%|███████████████████████████████████████                                      | 515/1015 [00:42<00:42, 11.71it/s]"
     ]
    },
    {
     "name": "stdout",
     "output_type": "stream",
     "text": [
      "Epoch:   9 | Samples:    512/558 | RMSE Loss: 0.5198 | MSE Loss: 0.4613 | target: -3.3600 | pred: -3.3762\n"
     ]
    },
    {
     "name": "stderr",
     "output_type": "stream",
     "text": [
      "Division 3/5:  54%|█████████████████████████████████████████▍                                   | 547/1015 [00:45<00:32, 14.26it/s]"
     ]
    },
    {
     "name": "stdout",
     "output_type": "stream",
     "text": [
      "Epoch:   9 | Samples:    544/558 | RMSE Loss: 0.5288 | MSE Loss: 0.4862 | target: -7.6800 | pred: -8.2644\n"
     ]
    },
    {
     "name": "stderr",
     "output_type": "stream",
     "text": [
      "Division 3/5:  55%|██████████████████████████████████████████▎                                  | 558/1015 [00:46<00:38, 11.98it/s]\n",
      "Division 4/5:   0%|▏                                                                              | 3/1015 [00:00<01:11, 14.19it/s]"
     ]
    },
    {
     "name": "stdout",
     "output_type": "stream",
     "text": [
      "Epoch:   0 | Samples:      0/787 | RMSE Loss: 4.7593 | MSE Loss: 22.6506 | target: -4.5540 | pred: 0.2053\n"
     ]
    },
    {
     "name": "stderr",
     "output_type": "stream",
     "text": [
      "Division 4/5:   3%|██▋                                                                           | 35/1015 [00:02<01:17, 12.71it/s]"
     ]
    },
    {
     "name": "stdout",
     "output_type": "stream",
     "text": [
      "Epoch:   0 | Samples:     32/787 | RMSE Loss: 2.2073 | MSE Loss: 8.3935 | target: -3.8960 | pred: -3.2071\n"
     ]
    },
    {
     "name": "stderr",
     "output_type": "stream",
     "text": [
      "Division 4/5:   7%|█████▏                                                                        | 67/1015 [00:05<01:15, 12.61it/s]"
     ]
    },
    {
     "name": "stdout",
     "output_type": "stream",
     "text": [
      "Epoch:   0 | Samples:     64/787 | RMSE Loss: 1.8621 | MSE Loss: 6.0394 | target: -4.1000 | pred: -4.3331\n"
     ]
    },
    {
     "name": "stderr",
     "output_type": "stream",
     "text": [
      "Division 4/5:  10%|███████▌                                                                     | 100/1015 [00:07<01:09, 13.26it/s]"
     ]
    },
    {
     "name": "stdout",
     "output_type": "stream",
     "text": [
      "Epoch:   0 | Samples:     96/787 | RMSE Loss: 1.7119 | MSE Loss: 5.1004 | target: -1.3300 | pred: -2.1346\n"
     ]
    },
    {
     "name": "stderr",
     "output_type": "stream",
     "text": [
      "Division 4/5:  13%|█████████▉                                                                   | 131/1015 [00:10<01:10, 12.50it/s]"
     ]
    },
    {
     "name": "stdout",
     "output_type": "stream",
     "text": [
      "Epoch:   0 | Samples:    128/787 | RMSE Loss: 1.5635 | MSE Loss: 4.2919 | target: 0.0090 | pred: -2.4359\n"
     ]
    },
    {
     "name": "stderr",
     "output_type": "stream",
     "text": [
      "Division 4/5:  16%|████████████▎                                                                | 162/1015 [00:12<01:06, 12.80it/s]"
     ]
    },
    {
     "name": "stdout",
     "output_type": "stream",
     "text": [
      "Epoch:   0 | Samples:    160/787 | RMSE Loss: 1.5710 | MSE Loss: 4.2296 | target: -1.0900 | pred: -2.7202\n"
     ]
    },
    {
     "name": "stderr",
     "output_type": "stream",
     "text": [
      "Division 4/5:  19%|██████████████▊                                                              | 195/1015 [00:15<01:05, 12.53it/s]"
     ]
    },
    {
     "name": "stdout",
     "output_type": "stream",
     "text": [
      "Epoch:   0 | Samples:    192/787 | RMSE Loss: 1.5454 | MSE Loss: 4.1457 | target: -1.3700 | pred: -1.9320\n"
     ]
    },
    {
     "name": "stderr",
     "output_type": "stream",
     "text": [
      "Division 4/5:  22%|█████████████████▏                                                           | 226/1015 [00:18<00:58, 13.47it/s]"
     ]
    },
    {
     "name": "stdout",
     "output_type": "stream",
     "text": [
      "Epoch:   0 | Samples:    224/787 | RMSE Loss: 1.5339 | MSE Loss: 4.1819 | target: -2.0500 | pred: -2.6828\n"
     ]
    },
    {
     "name": "stderr",
     "output_type": "stream",
     "text": [
      "Division 4/5:  25%|███████████████████▍                                                         | 257/1015 [00:20<01:07, 11.21it/s]"
     ]
    },
    {
     "name": "stdout",
     "output_type": "stream",
     "text": [
      "Epoch:   0 | Samples:    256/787 | RMSE Loss: 1.5590 | MSE Loss: 4.1641 | target: -4.4200 | pred: -5.0430\n"
     ]
    },
    {
     "name": "stderr",
     "output_type": "stream",
     "text": [
      "Division 4/5:  29%|██████████████████████▏                                                      | 292/1015 [00:23<00:59, 12.16it/s]"
     ]
    },
    {
     "name": "stdout",
     "output_type": "stream",
     "text": [
      "Epoch:   0 | Samples:    288/787 | RMSE Loss: 1.5574 | MSE Loss: 4.1348 | target: -2.3690 | pred: -2.4809\n"
     ]
    },
    {
     "name": "stderr",
     "output_type": "stream",
     "text": [
      "Division 4/5:  32%|████████████████████████▌                                                    | 323/1015 [00:26<00:47, 14.55it/s]"
     ]
    },
    {
     "name": "stdout",
     "output_type": "stream",
     "text": [
      "Epoch:   0 | Samples:    320/787 | RMSE Loss: 1.5113 | MSE Loss: 3.9706 | target: -3.3500 | pred: -3.6761\n"
     ]
    },
    {
     "name": "stderr",
     "output_type": "stream",
     "text": [
      "Division 4/5:  35%|██████████████████████████▊                                                  | 353/1015 [00:29<01:11,  9.30it/s]"
     ]
    },
    {
     "name": "stdout",
     "output_type": "stream",
     "text": [
      "Epoch:   0 | Samples:    352/787 | RMSE Loss: 1.4535 | MSE Loss: 3.7522 | target: -2.1480 | pred: -2.3584\n"
     ]
    },
    {
     "name": "stderr",
     "output_type": "stream",
     "text": [
      "Division 4/5:  38%|█████████████████████████████▎                                               | 386/1015 [00:32<00:57, 10.98it/s]"
     ]
    },
    {
     "name": "stdout",
     "output_type": "stream",
     "text": [
      "Epoch:   0 | Samples:    384/787 | RMSE Loss: 1.4304 | MSE Loss: 3.6234 | target: -3.4990 | pred: -4.6551\n"
     ]
    },
    {
     "name": "stderr",
     "output_type": "stream",
     "text": [
      "Division 4/5:  41%|███████████████████████████████▊                                             | 419/1015 [00:34<00:42, 14.13it/s]"
     ]
    },
    {
     "name": "stdout",
     "output_type": "stream",
     "text": [
      "Epoch:   0 | Samples:    416/787 | RMSE Loss: 1.4131 | MSE Loss: 3.5227 | target: -1.6140 | pred: -2.1236\n"
     ]
    },
    {
     "name": "stderr",
     "output_type": "stream",
     "text": [
      "Division 4/5:  44%|██████████████████████████████████▏                                          | 451/1015 [00:37<00:40, 13.80it/s]"
     ]
    },
    {
     "name": "stdout",
     "output_type": "stream",
     "text": [
      "Epoch:   0 | Samples:    448/787 | RMSE Loss: 1.4078 | MSE Loss: 3.4988 | target: -4.5600 | pred: -3.9234\n"
     ]
    },
    {
     "name": "stderr",
     "output_type": "stream",
     "text": [
      "Division 4/5:  47%|████████████████████████████████████▎                                        | 479/1015 [00:40<00:45, 11.74it/s]"
     ]
    },
    {
     "name": "stdout",
     "output_type": "stream",
     "text": [
      "Epoch:   0 | Samples:    480/787 | RMSE Loss: 1.3975 | MSE Loss: 3.4253 | target: -2.5100 | pred: -2.5573\n"
     ]
    },
    {
     "name": "stderr",
     "output_type": "stream",
     "text": [
      "Division 4/5:  51%|███████████████████████████████████████                                      | 515/1015 [00:42<00:42, 11.65it/s]"
     ]
    },
    {
     "name": "stdout",
     "output_type": "stream",
     "text": [
      "Epoch:   0 | Samples:    512/787 | RMSE Loss: 1.3743 | MSE Loss: 3.3068 | target: -3.3600 | pred: -2.7878\n"
     ]
    },
    {
     "name": "stderr",
     "output_type": "stream",
     "text": [
      "Division 4/5:  54%|█████████████████████████████████████████▍                                   | 547/1015 [00:45<00:33, 14.05it/s]"
     ]
    },
    {
     "name": "stdout",
     "output_type": "stream",
     "text": [
      "Epoch:   0 | Samples:    544/787 | RMSE Loss: 1.3636 | MSE Loss: 3.2791 | target: -7.6800 | pred: -5.3191\n"
     ]
    },
    {
     "name": "stderr",
     "output_type": "stream",
     "text": [
      "Division 4/5:  57%|███████████████████████████████████████████▉                                 | 579/1015 [00:48<00:32, 13.59it/s]"
     ]
    },
    {
     "name": "stdout",
     "output_type": "stream",
     "text": [
      "Epoch:   0 | Samples:    576/787 | RMSE Loss: 1.3393 | MSE Loss: 3.1687 | target: -2.8200 | pred: -2.5627\n"
     ]
    },
    {
     "name": "stderr",
     "output_type": "stream",
     "text": [
      "Division 4/5:  60%|██████████████████████████████████████████████▎                              | 610/1015 [00:50<00:26, 15.10it/s]"
     ]
    },
    {
     "name": "stdout",
     "output_type": "stream",
     "text": [
      "Epoch:   0 | Samples:    608/787 | RMSE Loss: 1.3341 | MSE Loss: 3.1283 | target: -2.0300 | pred: -2.3803\n"
     ]
    },
    {
     "name": "stderr",
     "output_type": "stream",
     "text": [
      "Division 4/5:  63%|████████████████████████████████████████████████▊                            | 643/1015 [00:52<00:21, 17.25it/s]"
     ]
    },
    {
     "name": "stdout",
     "output_type": "stream",
     "text": [
      "Epoch:   0 | Samples:    640/787 | RMSE Loss: 1.3156 | MSE Loss: 3.0469 | target: -2.6800 | pred: -1.7938\n"
     ]
    },
    {
     "name": "stderr",
     "output_type": "stream",
     "text": [
      "Division 4/5:  66%|███████████████████████████████████████████████████▏                         | 674/1015 [00:55<00:26, 12.72it/s]"
     ]
    },
    {
     "name": "stdout",
     "output_type": "stream",
     "text": [
      "Epoch:   0 | Samples:    672/787 | RMSE Loss: 1.2937 | MSE Loss: 2.9508 | target: -3.9530 | pred: -4.0176\n"
     ]
    },
    {
     "name": "stderr",
     "output_type": "stream",
     "text": [
      "Division 4/5:  70%|█████████████████████████████████████████████████████▋                       | 708/1015 [00:57<00:22, 13.64it/s]"
     ]
    },
    {
     "name": "stdout",
     "output_type": "stream",
     "text": [
      "Epoch:   0 | Samples:    704/787 | RMSE Loss: 1.2694 | MSE Loss: 2.8528 | target: -3.0940 | pred: -3.0435\n"
     ]
    },
    {
     "name": "stderr",
     "output_type": "stream",
     "text": [
      "Division 4/5:  73%|████████████████████████████████████████████████████████                     | 739/1015 [01:00<00:21, 12.89it/s]"
     ]
    },
    {
     "name": "stdout",
     "output_type": "stream",
     "text": [
      "Epoch:   0 | Samples:    736/787 | RMSE Loss: 1.2522 | MSE Loss: 2.7852 | target: -4.9070 | pred: -3.6365\n"
     ]
    },
    {
     "name": "stderr",
     "output_type": "stream",
     "text": [
      "Division 4/5:  76%|██████████████████████████████████████████████████████████▍                  | 770/1015 [01:02<00:17, 14.07it/s]"
     ]
    },
    {
     "name": "stdout",
     "output_type": "stream",
     "text": [
      "Epoch:   0 | Samples:    768/787 | RMSE Loss: 1.2346 | MSE Loss: 2.7168 | target: -0.1400 | pred: -1.2334\n"
     ]
    },
    {
     "name": "stderr",
     "output_type": "stream",
     "text": [
      "Division 4/5:  78%|███████████████████████████████████████████████████████████▋                 | 787/1015 [01:03<00:18, 12.38it/s]\n",
      "Division 4/5:   0%|▏                                                                              | 3/1015 [00:00<01:10, 14.32it/s]"
     ]
    },
    {
     "name": "stdout",
     "output_type": "stream",
     "text": [
      "Epoch:   1 | Samples:      0/787 | RMSE Loss: 1.7161 | MSE Loss: 2.9450 | target: -4.5540 | pred: -2.8379\n"
     ]
    },
    {
     "name": "stderr",
     "output_type": "stream",
     "text": [
      "Division 4/5:   3%|██▌                                                                           | 34/1015 [00:02<01:20, 12.13it/s]"
     ]
    },
    {
     "name": "stdout",
     "output_type": "stream",
     "text": [
      "Epoch:   1 | Samples:     32/787 | RMSE Loss: 1.0261 | MSE Loss: 1.6615 | target: -3.8960 | pred: -4.3883\n"
     ]
    },
    {
     "name": "stderr",
     "output_type": "stream",
     "text": [
      "Division 4/5:   7%|█████                                                                         | 66/1015 [00:05<01:27, 10.86it/s]"
     ]
    },
    {
     "name": "stdout",
     "output_type": "stream",
     "text": [
      "Epoch:   1 | Samples:     64/787 | RMSE Loss: 0.9215 | MSE Loss: 1.3500 | target: -4.1000 | pred: -3.3932\n"
     ]
    },
    {
     "name": "stderr",
     "output_type": "stream",
     "text": [
      "Division 4/5:  10%|███████▌                                                                     | 100/1015 [00:07<01:07, 13.52it/s]"
     ]
    },
    {
     "name": "stdout",
     "output_type": "stream",
     "text": [
      "Epoch:   1 | Samples:     96/787 | RMSE Loss: 0.8635 | MSE Loss: 1.1797 | target: -1.3300 | pred: -2.1201\n"
     ]
    },
    {
     "name": "stderr",
     "output_type": "stream",
     "text": [
      "Division 4/5:  13%|█████████▉                                                                   | 131/1015 [00:10<01:10, 12.58it/s]"
     ]
    },
    {
     "name": "stdout",
     "output_type": "stream",
     "text": [
      "Epoch:   1 | Samples:    128/787 | RMSE Loss: 0.8064 | MSE Loss: 1.0685 | target: 0.0090 | pred: -0.8811\n"
     ]
    },
    {
     "name": "stderr",
     "output_type": "stream",
     "text": [
      "Division 4/5:  16%|████████████▎                                                                | 162/1015 [00:12<01:06, 12.79it/s]"
     ]
    },
    {
     "name": "stdout",
     "output_type": "stream",
     "text": [
      "Epoch:   1 | Samples:    160/787 | RMSE Loss: 0.8216 | MSE Loss: 1.0720 | target: -1.0900 | pred: -1.6940\n"
     ]
    },
    {
     "name": "stderr",
     "output_type": "stream",
     "text": [
      "Division 4/5:  19%|██████████████▊                                                              | 195/1015 [00:15<01:05, 12.53it/s]"
     ]
    },
    {
     "name": "stdout",
     "output_type": "stream",
     "text": [
      "Epoch:   1 | Samples:    192/787 | RMSE Loss: 0.8351 | MSE Loss: 1.1512 | target: -1.3700 | pred: -2.1330\n"
     ]
    },
    {
     "name": "stderr",
     "output_type": "stream",
     "text": [
      "Division 4/5:  22%|█████████████████▏                                                           | 226/1015 [00:18<00:58, 13.55it/s]"
     ]
    },
    {
     "name": "stdout",
     "output_type": "stream",
     "text": [
      "Epoch:   1 | Samples:    224/787 | RMSE Loss: 0.8239 | MSE Loss: 1.1205 | target: -2.0500 | pred: -1.8508\n"
     ]
    },
    {
     "name": "stderr",
     "output_type": "stream",
     "text": [
      "Division 4/5:  25%|███████████████████▍                                                         | 257/1015 [00:20<01:07, 11.17it/s]"
     ]
    },
    {
     "name": "stdout",
     "output_type": "stream",
     "text": [
      "Epoch:   1 | Samples:    256/787 | RMSE Loss: 0.8194 | MSE Loss: 1.0991 | target: -4.4200 | pred: -5.1525\n"
     ]
    },
    {
     "name": "stderr",
     "output_type": "stream",
     "text": [
      "Division 4/5:  29%|██████████████████████▏                                                      | 292/1015 [00:23<00:58, 12.26it/s]"
     ]
    },
    {
     "name": "stdout",
     "output_type": "stream",
     "text": [
      "Epoch:   1 | Samples:    288/787 | RMSE Loss: 0.8303 | MSE Loss: 1.1273 | target: -2.3690 | pred: -2.4876\n"
     ]
    },
    {
     "name": "stderr",
     "output_type": "stream",
     "text": [
      "Division 4/5:  32%|████████████████████████▌                                                    | 323/1015 [00:26<00:47, 14.54it/s]"
     ]
    },
    {
     "name": "stdout",
     "output_type": "stream",
     "text": [
      "Epoch:   1 | Samples:    320/787 | RMSE Loss: 0.8167 | MSE Loss: 1.0869 | target: -3.3500 | pred: -4.3543\n"
     ]
    },
    {
     "name": "stderr",
     "output_type": "stream",
     "text": [
      "Division 4/5:  35%|██████████████████████████▊                                                  | 353/1015 [00:29<01:10,  9.43it/s]"
     ]
    },
    {
     "name": "stdout",
     "output_type": "stream",
     "text": [
      "Epoch:   1 | Samples:    352/787 | RMSE Loss: 0.8147 | MSE Loss: 1.1022 | target: -2.1480 | pred: -1.5648\n"
     ]
    },
    {
     "name": "stderr",
     "output_type": "stream",
     "text": [
      "Division 4/5:  38%|█████████████████████████████▎                                               | 386/1015 [00:32<00:56, 11.10it/s]"
     ]
    },
    {
     "name": "stdout",
     "output_type": "stream",
     "text": [
      "Epoch:   1 | Samples:    384/787 | RMSE Loss: 0.8114 | MSE Loss: 1.0926 | target: -3.4990 | pred: -5.2108\n"
     ]
    },
    {
     "name": "stderr",
     "output_type": "stream",
     "text": [
      "Division 4/5:  41%|███████████████████████████████▋                                             | 418/1015 [00:34<00:39, 14.98it/s]"
     ]
    },
    {
     "name": "stdout",
     "output_type": "stream",
     "text": [
      "Epoch:   1 | Samples:    416/787 | RMSE Loss: 0.8035 | MSE Loss: 1.0754 | target: -1.6140 | pred: -1.8647\n"
     ]
    },
    {
     "name": "stderr",
     "output_type": "stream",
     "text": [
      "Division 4/5:  44%|██████████████████████████████████▏                                          | 451/1015 [00:37<00:41, 13.71it/s]"
     ]
    },
    {
     "name": "stdout",
     "output_type": "stream",
     "text": [
      "Epoch:   1 | Samples:    448/787 | RMSE Loss: 0.7960 | MSE Loss: 1.0571 | target: -4.5600 | pred: -4.2696\n"
     ]
    },
    {
     "name": "stderr",
     "output_type": "stream",
     "text": [
      "Division 4/5:  47%|████████████████████████████████████▎                                        | 479/1015 [00:40<00:48, 11.10it/s]"
     ]
    },
    {
     "name": "stdout",
     "output_type": "stream",
     "text": [
      "Epoch:   1 | Samples:    480/787 | RMSE Loss: 0.7960 | MSE Loss: 1.0497 | target: -2.5100 | pred: -1.9566\n"
     ]
    },
    {
     "name": "stderr",
     "output_type": "stream",
     "text": [
      "Division 4/5:  51%|███████████████████████████████████████                                      | 515/1015 [00:42<00:42, 11.64it/s]"
     ]
    },
    {
     "name": "stdout",
     "output_type": "stream",
     "text": [
      "Epoch:   1 | Samples:    512/787 | RMSE Loss: 0.7927 | MSE Loss: 1.0338 | target: -3.3600 | pred: -2.0609\n"
     ]
    },
    {
     "name": "stderr",
     "output_type": "stream",
     "text": [
      "Division 4/5:  54%|█████████████████████████████████████████▍                                   | 547/1015 [00:45<00:33, 13.96it/s]"
     ]
    },
    {
     "name": "stdout",
     "output_type": "stream",
     "text": [
      "Epoch:   1 | Samples:    544/787 | RMSE Loss: 0.8015 | MSE Loss: 1.0646 | target: -7.6800 | pred: -7.2339\n"
     ]
    },
    {
     "name": "stderr",
     "output_type": "stream",
     "text": [
      "Division 4/5:  57%|███████████████████████████████████████████▉                                 | 579/1015 [00:48<00:32, 13.52it/s]"
     ]
    },
    {
     "name": "stdout",
     "output_type": "stream",
     "text": [
      "Epoch:   1 | Samples:    576/787 | RMSE Loss: 0.7987 | MSE Loss: 1.0503 | target: -2.8200 | pred: -2.7568\n"
     ]
    },
    {
     "name": "stderr",
     "output_type": "stream",
     "text": [
      "Division 4/5:  60%|██████████████████████████████████████████████▎                              | 610/1015 [00:50<00:26, 15.15it/s]"
     ]
    },
    {
     "name": "stdout",
     "output_type": "stream",
     "text": [
      "Epoch:   1 | Samples:    608/787 | RMSE Loss: 0.8000 | MSE Loss: 1.0517 | target: -2.0300 | pred: -2.1575\n"
     ]
    },
    {
     "name": "stderr",
     "output_type": "stream",
     "text": [
      "Division 4/5:  64%|████████████████████████████████████████████████▉                            | 645/1015 [00:53<00:21, 17.11it/s]"
     ]
    },
    {
     "name": "stdout",
     "output_type": "stream",
     "text": [
      "Epoch:   1 | Samples:    640/787 | RMSE Loss: 0.7936 | MSE Loss: 1.0384 | target: -2.6800 | pred: -1.8137\n"
     ]
    },
    {
     "name": "stderr",
     "output_type": "stream",
     "text": [
      "Division 4/5:  67%|███████████████████████████████████████████████████▏                         | 675/1015 [00:55<00:26, 13.04it/s]"
     ]
    },
    {
     "name": "stdout",
     "output_type": "stream",
     "text": [
      "Epoch:   1 | Samples:    672/787 | RMSE Loss: 0.7820 | MSE Loss: 1.0122 | target: -3.9530 | pred: -4.4420\n"
     ]
    },
    {
     "name": "stderr",
     "output_type": "stream",
     "text": [
      "Division 4/5:  70%|█████████████████████████████████████████████████████▋                       | 708/1015 [00:57<00:22, 13.45it/s]"
     ]
    },
    {
     "name": "stdout",
     "output_type": "stream",
     "text": [
      "Epoch:   1 | Samples:    704/787 | RMSE Loss: 0.7703 | MSE Loss: 0.9862 | target: -3.0940 | pred: -3.3434\n"
     ]
    },
    {
     "name": "stderr",
     "output_type": "stream",
     "text": [
      "Division 4/5:  73%|████████████████████████████████████████████████████████                     | 739/1015 [01:00<00:21, 12.81it/s]"
     ]
    },
    {
     "name": "stdout",
     "output_type": "stream",
     "text": [
      "Epoch:   1 | Samples:    736/787 | RMSE Loss: 0.7668 | MSE Loss: 0.9798 | target: -4.9070 | pred: -4.0768\n"
     ]
    },
    {
     "name": "stderr",
     "output_type": "stream",
     "text": [
      "Division 4/5:  76%|██████████████████████████████████████████████████████████▍                  | 770/1015 [01:02<00:17, 14.07it/s]"
     ]
    },
    {
     "name": "stdout",
     "output_type": "stream",
     "text": [
      "Epoch:   1 | Samples:    768/787 | RMSE Loss: 0.7603 | MSE Loss: 0.9648 | target: -0.1400 | pred: -0.8022\n"
     ]
    },
    {
     "name": "stderr",
     "output_type": "stream",
     "text": [
      "Division 4/5:  78%|███████████████████████████████████████████████████████████▋                 | 787/1015 [01:03<00:18, 12.38it/s]\n",
      "Division 4/5:   0%|▏                                                                              | 3/1015 [00:00<01:09, 14.58it/s]"
     ]
    },
    {
     "name": "stdout",
     "output_type": "stream",
     "text": [
      "Epoch:   2 | Samples:      0/787 | RMSE Loss: 1.7296 | MSE Loss: 2.9917 | target: -4.5540 | pred: -2.8244\n"
     ]
    },
    {
     "name": "stderr",
     "output_type": "stream",
     "text": [
      "Division 4/5:   3%|██▌                                                                           | 34/1015 [00:02<01:21, 12.05it/s]"
     ]
    },
    {
     "name": "stdout",
     "output_type": "stream",
     "text": [
      "Epoch:   2 | Samples:     32/787 | RMSE Loss: 0.7926 | MSE Loss: 1.0562 | target: -3.8960 | pred: -5.0001\n"
     ]
    },
    {
     "name": "stderr",
     "output_type": "stream",
     "text": [
      "Division 4/5:   7%|█████                                                                         | 66/1015 [00:05<01:26, 10.92it/s]"
     ]
    },
    {
     "name": "stdout",
     "output_type": "stream",
     "text": [
      "Epoch:   2 | Samples:     64/787 | RMSE Loss: 0.7053 | MSE Loss: 0.8727 | target: -4.1000 | pred: -4.0051\n"
     ]
    },
    {
     "name": "stderr",
     "output_type": "stream",
     "text": [
      "Division 4/5:  10%|███████▌                                                                     | 100/1015 [00:07<01:08, 13.33it/s]"
     ]
    },
    {
     "name": "stdout",
     "output_type": "stream",
     "text": [
      "Epoch:   2 | Samples:     96/787 | RMSE Loss: 0.7165 | MSE Loss: 0.8472 | target: -1.3300 | pred: -1.5196\n"
     ]
    },
    {
     "name": "stderr",
     "output_type": "stream",
     "text": [
      "Division 4/5:  13%|█████████▉                                                                   | 131/1015 [00:10<01:10, 12.61it/s]"
     ]
    },
    {
     "name": "stdout",
     "output_type": "stream",
     "text": [
      "Epoch:   2 | Samples:    128/787 | RMSE Loss: 0.6678 | MSE Loss: 0.7400 | target: 0.0090 | pred: -0.5792\n"
     ]
    },
    {
     "name": "stderr",
     "output_type": "stream",
     "text": [
      "Division 4/5:  16%|████████████▎                                                                | 162/1015 [00:12<01:06, 12.76it/s]"
     ]
    },
    {
     "name": "stdout",
     "output_type": "stream",
     "text": [
      "Epoch:   2 | Samples:    160/787 | RMSE Loss: 0.6678 | MSE Loss: 0.7235 | target: -1.0900 | pred: -1.4067\n"
     ]
    },
    {
     "name": "stderr",
     "output_type": "stream",
     "text": [
      "Division 4/5:  19%|██████████████▊                                                              | 195/1015 [00:15<01:05, 12.56it/s]"
     ]
    },
    {
     "name": "stdout",
     "output_type": "stream",
     "text": [
      "Epoch:   2 | Samples:    192/787 | RMSE Loss: 0.6796 | MSE Loss: 0.7683 | target: -1.3700 | pred: -1.8928\n"
     ]
    },
    {
     "name": "stderr",
     "output_type": "stream",
     "text": [
      "Division 4/5:  22%|█████████████████▏                                                           | 226/1015 [00:18<00:59, 13.37it/s]"
     ]
    },
    {
     "name": "stdout",
     "output_type": "stream",
     "text": [
      "Epoch:   2 | Samples:    224/787 | RMSE Loss: 0.6768 | MSE Loss: 0.7566 | target: -2.0500 | pred: -1.8258\n"
     ]
    },
    {
     "name": "stderr",
     "output_type": "stream",
     "text": [
      "Division 4/5:  25%|███████████████████▍                                                         | 257/1015 [00:20<01:07, 11.19it/s]"
     ]
    },
    {
     "name": "stdout",
     "output_type": "stream",
     "text": [
      "Epoch:   2 | Samples:    256/787 | RMSE Loss: 0.6653 | MSE Loss: 0.7328 | target: -4.4200 | pred: -4.7615\n"
     ]
    },
    {
     "name": "stderr",
     "output_type": "stream",
     "text": [
      "Division 4/5:  29%|██████████████████████▏                                                      | 292/1015 [00:23<00:59, 12.07it/s]"
     ]
    },
    {
     "name": "stdout",
     "output_type": "stream",
     "text": [
      "Epoch:   2 | Samples:    288/787 | RMSE Loss: 0.6755 | MSE Loss: 0.7545 | target: -2.3690 | pred: -2.6951\n"
     ]
    },
    {
     "name": "stderr",
     "output_type": "stream",
     "text": [
      "Division 4/5:  32%|████████████████████████▌                                                    | 323/1015 [00:26<00:48, 14.41it/s]"
     ]
    },
    {
     "name": "stdout",
     "output_type": "stream",
     "text": [
      "Epoch:   2 | Samples:    320/787 | RMSE Loss: 0.6701 | MSE Loss: 0.7461 | target: -3.3500 | pred: -4.3254\n"
     ]
    },
    {
     "name": "stderr",
     "output_type": "stream",
     "text": [
      "Division 4/5:  35%|██████████████████████████▊                                                  | 353/1015 [00:29<01:12,  9.08it/s]"
     ]
    },
    {
     "name": "stdout",
     "output_type": "stream",
     "text": [
      "Epoch:   2 | Samples:    352/787 | RMSE Loss: 0.6785 | MSE Loss: 0.7771 | target: -2.1480 | pred: -1.8271\n"
     ]
    },
    {
     "name": "stderr",
     "output_type": "stream",
     "text": [
      "Division 4/5:  38%|█████████████████████████████▎                                               | 386/1015 [00:32<00:57, 10.94it/s]"
     ]
    },
    {
     "name": "stdout",
     "output_type": "stream",
     "text": [
      "Epoch:   2 | Samples:    384/787 | RMSE Loss: 0.6741 | MSE Loss: 0.7641 | target: -3.4990 | pred: -5.0235\n"
     ]
    },
    {
     "name": "stderr",
     "output_type": "stream",
     "text": [
      "Division 4/5:  41%|███████████████████████████████▋                                             | 418/1015 [00:34<00:40, 14.92it/s]"
     ]
    },
    {
     "name": "stdout",
     "output_type": "stream",
     "text": [
      "Epoch:   2 | Samples:    416/787 | RMSE Loss: 0.6648 | MSE Loss: 0.7479 | target: -1.6140 | pred: -2.1326\n"
     ]
    },
    {
     "name": "stderr",
     "output_type": "stream",
     "text": [
      "Division 4/5:  44%|██████████████████████████████████▏                                          | 451/1015 [00:38<00:41, 13.54it/s]"
     ]
    },
    {
     "name": "stdout",
     "output_type": "stream",
     "text": [
      "Epoch:   2 | Samples:    448/787 | RMSE Loss: 0.6612 | MSE Loss: 0.7334 | target: -4.5600 | pred: -4.0810\n"
     ]
    },
    {
     "name": "stderr",
     "output_type": "stream",
     "text": [
      "Division 4/5:  47%|████████████████████████████████████▎                                        | 479/1015 [00:40<00:45, 11.82it/s]"
     ]
    },
    {
     "name": "stdout",
     "output_type": "stream",
     "text": [
      "Epoch:   2 | Samples:    480/787 | RMSE Loss: 0.6611 | MSE Loss: 0.7281 | target: -2.5100 | pred: -1.5401\n"
     ]
    },
    {
     "name": "stderr",
     "output_type": "stream",
     "text": [
      "Division 4/5:  51%|███████████████████████████████████████                                      | 515/1015 [00:43<00:43, 11.53it/s]"
     ]
    },
    {
     "name": "stdout",
     "output_type": "stream",
     "text": [
      "Epoch:   2 | Samples:    512/787 | RMSE Loss: 0.6581 | MSE Loss: 0.7165 | target: -3.3600 | pred: -2.4388\n"
     ]
    },
    {
     "name": "stderr",
     "output_type": "stream",
     "text": [
      "Division 4/5:  54%|█████████████████████████████████████████▍                                   | 547/1015 [00:45<00:34, 13.76it/s]"
     ]
    },
    {
     "name": "stdout",
     "output_type": "stream",
     "text": [
      "Epoch:   2 | Samples:    544/787 | RMSE Loss: 0.6672 | MSE Loss: 0.7446 | target: -7.6800 | pred: -7.8016\n"
     ]
    },
    {
     "name": "stderr",
     "output_type": "stream",
     "text": [
      "Division 4/5:  57%|███████████████████████████████████████████▉                                 | 579/1015 [00:48<00:32, 13.26it/s]"
     ]
    },
    {
     "name": "stdout",
     "output_type": "stream",
     "text": [
      "Epoch:   2 | Samples:    576/787 | RMSE Loss: 0.6643 | MSE Loss: 0.7382 | target: -2.8200 | pred: -2.6996\n"
     ]
    },
    {
     "name": "stderr",
     "output_type": "stream",
     "text": [
      "Division 4/5:  60%|██████████████████████████████████████████████▎                              | 610/1015 [00:50<00:26, 15.21it/s]"
     ]
    },
    {
     "name": "stdout",
     "output_type": "stream",
     "text": [
      "Epoch:   2 | Samples:    608/787 | RMSE Loss: 0.6647 | MSE Loss: 0.7355 | target: -2.0300 | pred: -2.1733\n"
     ]
    },
    {
     "name": "stderr",
     "output_type": "stream",
     "text": [
      "Division 4/5:  63%|████████████████████████████████████████████████▊                            | 643/1015 [00:53<00:21, 17.41it/s]"
     ]
    },
    {
     "name": "stdout",
     "output_type": "stream",
     "text": [
      "Epoch:   2 | Samples:    640/787 | RMSE Loss: 0.6618 | MSE Loss: 0.7272 | target: -2.6800 | pred: -2.1746\n"
     ]
    },
    {
     "name": "stderr",
     "output_type": "stream",
     "text": [
      "Division 4/5:  67%|███████████████████████████████████████████████████▏                         | 675/1015 [00:55<00:26, 12.92it/s]"
     ]
    },
    {
     "name": "stdout",
     "output_type": "stream",
     "text": [
      "Epoch:   2 | Samples:    672/787 | RMSE Loss: 0.6538 | MSE Loss: 0.7103 | target: -3.9530 | pred: -4.6227\n"
     ]
    },
    {
     "name": "stderr",
     "output_type": "stream",
     "text": [
      "Division 4/5:  70%|█████████████████████████████████████████████████████▋                       | 708/1015 [00:58<00:22, 13.45it/s]"
     ]
    },
    {
     "name": "stdout",
     "output_type": "stream",
     "text": [
      "Epoch:   2 | Samples:    704/787 | RMSE Loss: 0.6459 | MSE Loss: 0.6954 | target: -3.0940 | pred: -3.2540\n"
     ]
    },
    {
     "name": "stderr",
     "output_type": "stream",
     "text": [
      "Division 4/5:  73%|████████████████████████████████████████████████████████                     | 739/1015 [01:00<00:21, 12.70it/s]"
     ]
    },
    {
     "name": "stdout",
     "output_type": "stream",
     "text": [
      "Epoch:   2 | Samples:    736/787 | RMSE Loss: 0.6453 | MSE Loss: 0.6947 | target: -4.9070 | pred: -3.8742\n"
     ]
    },
    {
     "name": "stderr",
     "output_type": "stream",
     "text": [
      "Division 4/5:  76%|██████████████████████████████████████████████████████████▍                  | 770/1015 [01:02<00:17, 14.23it/s]"
     ]
    },
    {
     "name": "stdout",
     "output_type": "stream",
     "text": [
      "Epoch:   2 | Samples:    768/787 | RMSE Loss: 0.6418 | MSE Loss: 0.6850 | target: -0.1400 | pred: -0.5887\n"
     ]
    },
    {
     "name": "stderr",
     "output_type": "stream",
     "text": [
      "Division 4/5:  78%|███████████████████████████████████████████████████████████▋                 | 787/1015 [01:03<00:18, 12.33it/s]\n",
      "Division 4/5:   0%|▏                                                                              | 3/1015 [00:00<01:08, 14.70it/s]"
     ]
    },
    {
     "name": "stdout",
     "output_type": "stream",
     "text": [
      "Epoch:   3 | Samples:      0/787 | RMSE Loss: 1.6255 | MSE Loss: 2.6421 | target: -4.5540 | pred: -2.9285\n"
     ]
    },
    {
     "name": "stderr",
     "output_type": "stream",
     "text": [
      "Division 4/5:   3%|██▌                                                                           | 34/1015 [00:02<01:20, 12.17it/s]"
     ]
    },
    {
     "name": "stdout",
     "output_type": "stream",
     "text": [
      "Epoch:   3 | Samples:     32/787 | RMSE Loss: 0.6874 | MSE Loss: 0.8020 | target: -3.8960 | pred: -5.1695\n"
     ]
    },
    {
     "name": "stderr",
     "output_type": "stream",
     "text": [
      "Division 4/5:   7%|█████                                                                         | 66/1015 [00:05<01:27, 10.89it/s]"
     ]
    },
    {
     "name": "stdout",
     "output_type": "stream",
     "text": [
      "Epoch:   3 | Samples:     64/787 | RMSE Loss: 0.6037 | MSE Loss: 0.6703 | target: -4.1000 | pred: -4.1961\n"
     ]
    },
    {
     "name": "stderr",
     "output_type": "stream",
     "text": [
      "Division 4/5:  10%|███████▌                                                                     | 100/1015 [00:07<01:08, 13.40it/s]"
     ]
    },
    {
     "name": "stdout",
     "output_type": "stream",
     "text": [
      "Epoch:   3 | Samples:     96/787 | RMSE Loss: 0.6386 | MSE Loss: 0.6922 | target: -1.3300 | pred: -1.1670\n"
     ]
    },
    {
     "name": "stderr",
     "output_type": "stream",
     "text": [
      "Division 4/5:  13%|█████████▉                                                                   | 131/1015 [00:10<01:10, 12.49it/s]"
     ]
    },
    {
     "name": "stdout",
     "output_type": "stream",
     "text": [
      "Epoch:   3 | Samples:    128/787 | RMSE Loss: 0.6029 | MSE Loss: 0.6017 | target: 0.0090 | pred: -0.4090\n"
     ]
    },
    {
     "name": "stderr",
     "output_type": "stream",
     "text": [
      "Division 4/5:  16%|████████████▎                                                                | 162/1015 [00:12<01:07, 12.63it/s]"
     ]
    },
    {
     "name": "stdout",
     "output_type": "stream",
     "text": [
      "Epoch:   3 | Samples:    160/787 | RMSE Loss: 0.5948 | MSE Loss: 0.5848 | target: -1.0900 | pred: -1.2789\n"
     ]
    },
    {
     "name": "stderr",
     "output_type": "stream",
     "text": [
      "Division 4/5:  19%|██████████████▊                                                              | 195/1015 [00:15<01:06, 12.32it/s]"
     ]
    },
    {
     "name": "stdout",
     "output_type": "stream",
     "text": [
      "Epoch:   3 | Samples:    192/787 | RMSE Loss: 0.6001 | MSE Loss: 0.6055 | target: -1.3700 | pred: -1.8173\n"
     ]
    },
    {
     "name": "stderr",
     "output_type": "stream",
     "text": [
      "Division 4/5:  22%|█████████████████▏                                                           | 226/1015 [00:18<00:59, 13.19it/s]"
     ]
    },
    {
     "name": "stdout",
     "output_type": "stream",
     "text": [
      "Epoch:   3 | Samples:    224/787 | RMSE Loss: 0.6025 | MSE Loss: 0.6053 | target: -2.0500 | pred: -1.7998\n"
     ]
    },
    {
     "name": "stderr",
     "output_type": "stream",
     "text": [
      "Division 4/5:  25%|███████████████████▍                                                         | 257/1015 [00:21<01:08, 11.00it/s]"
     ]
    },
    {
     "name": "stdout",
     "output_type": "stream",
     "text": [
      "Epoch:   3 | Samples:    256/787 | RMSE Loss: 0.5919 | MSE Loss: 0.5821 | target: -4.4200 | pred: -4.6622\n"
     ]
    },
    {
     "name": "stderr",
     "output_type": "stream",
     "text": [
      "Division 4/5:  29%|██████████████████████▏                                                      | 292/1015 [00:24<00:59, 12.14it/s]"
     ]
    },
    {
     "name": "stdout",
     "output_type": "stream",
     "text": [
      "Epoch:   3 | Samples:    288/787 | RMSE Loss: 0.5973 | MSE Loss: 0.5953 | target: -2.3690 | pred: -2.7561\n"
     ]
    },
    {
     "name": "stderr",
     "output_type": "stream",
     "text": [
      "Division 4/5:  32%|████████████████████████▌                                                    | 323/1015 [00:26<00:48, 14.20it/s]"
     ]
    },
    {
     "name": "stdout",
     "output_type": "stream",
     "text": [
      "Epoch:   3 | Samples:    320/787 | RMSE Loss: 0.5968 | MSE Loss: 0.5971 | target: -3.3500 | pred: -4.1431\n"
     ]
    },
    {
     "name": "stderr",
     "output_type": "stream",
     "text": [
      "Division 4/5:  35%|██████████████████████████▊                                                  | 353/1015 [00:29<01:10,  9.39it/s]"
     ]
    },
    {
     "name": "stdout",
     "output_type": "stream",
     "text": [
      "Epoch:   3 | Samples:    352/787 | RMSE Loss: 0.6053 | MSE Loss: 0.6272 | target: -2.1480 | pred: -1.6298\n"
     ]
    },
    {
     "name": "stderr",
     "output_type": "stream",
     "text": [
      "Division 4/5:  38%|█████████████████████████████▎                                               | 386/1015 [00:32<00:57, 10.99it/s]"
     ]
    },
    {
     "name": "stdout",
     "output_type": "stream",
     "text": [
      "Epoch:   3 | Samples:    384/787 | RMSE Loss: 0.6054 | MSE Loss: 0.6211 | target: -3.4990 | pred: -4.9503\n"
     ]
    },
    {
     "name": "stderr",
     "output_type": "stream",
     "text": [
      "Division 4/5:  41%|███████████████████████████████▋                                             | 418/1015 [00:34<00:40, 14.74it/s]"
     ]
    },
    {
     "name": "stdout",
     "output_type": "stream",
     "text": [
      "Epoch:   3 | Samples:    416/787 | RMSE Loss: 0.5951 | MSE Loss: 0.6053 | target: -1.6140 | pred: -2.1821\n"
     ]
    },
    {
     "name": "stderr",
     "output_type": "stream",
     "text": [
      "Division 4/5:  44%|██████████████████████████████████▏                                          | 451/1015 [00:38<00:40, 13.81it/s]"
     ]
    },
    {
     "name": "stdout",
     "output_type": "stream",
     "text": [
      "Epoch:   3 | Samples:    448/787 | RMSE Loss: 0.5942 | MSE Loss: 0.5962 | target: -4.5600 | pred: -4.0575\n"
     ]
    },
    {
     "name": "stderr",
     "output_type": "stream",
     "text": [
      "Division 4/5:  47%|████████████████████████████████████▎                                        | 479/1015 [00:40<00:46, 11.65it/s]"
     ]
    },
    {
     "name": "stdout",
     "output_type": "stream",
     "text": [
      "Epoch:   3 | Samples:    480/787 | RMSE Loss: 0.5949 | MSE Loss: 0.5919 | target: -2.5100 | pred: -1.4599\n"
     ]
    },
    {
     "name": "stderr",
     "output_type": "stream",
     "text": [
      "Division 4/5:  51%|███████████████████████████████████████                                      | 515/1015 [00:43<00:42, 11.63it/s]"
     ]
    },
    {
     "name": "stdout",
     "output_type": "stream",
     "text": [
      "Epoch:   3 | Samples:    512/787 | RMSE Loss: 0.5934 | MSE Loss: 0.5842 | target: -3.3600 | pred: -2.8425\n"
     ]
    },
    {
     "name": "stderr",
     "output_type": "stream",
     "text": [
      "Division 4/5:  54%|█████████████████████████████████████████▍                                   | 547/1015 [00:45<00:33, 14.03it/s]"
     ]
    },
    {
     "name": "stdout",
     "output_type": "stream",
     "text": [
      "Epoch:   3 | Samples:    544/787 | RMSE Loss: 0.6023 | MSE Loss: 0.6117 | target: -7.6800 | pred: -8.1345\n"
     ]
    },
    {
     "name": "stderr",
     "output_type": "stream",
     "text": [
      "Division 4/5:  57%|███████████████████████████████████████████▉                                 | 579/1015 [00:48<00:32, 13.48it/s]"
     ]
    },
    {
     "name": "stdout",
     "output_type": "stream",
     "text": [
      "Epoch:   3 | Samples:    576/787 | RMSE Loss: 0.5998 | MSE Loss: 0.6085 | target: -2.8200 | pred: -2.6813\n"
     ]
    },
    {
     "name": "stderr",
     "output_type": "stream",
     "text": [
      "Division 4/5:  60%|██████████████████████████████████████████████▎                              | 610/1015 [00:50<00:26, 15.07it/s]"
     ]
    },
    {
     "name": "stdout",
     "output_type": "stream",
     "text": [
      "Epoch:   3 | Samples:    608/787 | RMSE Loss: 0.6007 | MSE Loss: 0.6065 | target: -2.0300 | pred: -2.2119\n"
     ]
    },
    {
     "name": "stderr",
     "output_type": "stream",
     "text": [
      "Division 4/5:  63%|████████████████████████████████████████████████▊                            | 643/1015 [00:53<00:21, 17.35it/s]"
     ]
    },
    {
     "name": "stdout",
     "output_type": "stream",
     "text": [
      "Epoch:   3 | Samples:    640/787 | RMSE Loss: 0.5977 | MSE Loss: 0.5994 | target: -2.6800 | pred: -2.3961\n"
     ]
    },
    {
     "name": "stderr",
     "output_type": "stream",
     "text": [
      "Division 4/5:  67%|███████████████████████████████████████████████████▏                         | 675/1015 [00:55<00:26, 13.02it/s]"
     ]
    },
    {
     "name": "stdout",
     "output_type": "stream",
     "text": [
      "Epoch:   3 | Samples:    672/787 | RMSE Loss: 0.5914 | MSE Loss: 0.5856 | target: -3.9530 | pred: -4.6299\n"
     ]
    },
    {
     "name": "stderr",
     "output_type": "stream",
     "text": [
      "Division 4/5:  70%|█████████████████████████████████████████████████████▋                       | 708/1015 [00:57<00:22, 13.73it/s]"
     ]
    },
    {
     "name": "stdout",
     "output_type": "stream",
     "text": [
      "Epoch:   3 | Samples:    704/787 | RMSE Loss: 0.5843 | MSE Loss: 0.5744 | target: -3.0940 | pred: -3.0665\n"
     ]
    },
    {
     "name": "stderr",
     "output_type": "stream",
     "text": [
      "Division 4/5:  73%|████████████████████████████████████████████████████████                     | 739/1015 [01:00<00:21, 12.77it/s]"
     ]
    },
    {
     "name": "stdout",
     "output_type": "stream",
     "text": [
      "Epoch:   3 | Samples:    736/787 | RMSE Loss: 0.5847 | MSE Loss: 0.5752 | target: -4.9070 | pred: -3.8220\n"
     ]
    },
    {
     "name": "stderr",
     "output_type": "stream",
     "text": [
      "Division 4/5:  76%|██████████████████████████████████████████████████████████▍                  | 770/1015 [01:02<00:17, 13.62it/s]"
     ]
    },
    {
     "name": "stdout",
     "output_type": "stream",
     "text": [
      "Epoch:   3 | Samples:    768/787 | RMSE Loss: 0.5818 | MSE Loss: 0.5673 | target: -0.1400 | pred: -0.4632\n"
     ]
    },
    {
     "name": "stderr",
     "output_type": "stream",
     "text": [
      "Division 4/5:  78%|███████████████████████████████████████████████████████████▋                 | 787/1015 [01:03<00:18, 12.35it/s]\n",
      "Division 4/5:   0%|▏                                                                              | 3/1015 [00:00<01:09, 14.65it/s]"
     ]
    },
    {
     "name": "stdout",
     "output_type": "stream",
     "text": [
      "Epoch:   4 | Samples:      0/787 | RMSE Loss: 1.4614 | MSE Loss: 2.1358 | target: -4.5540 | pred: -3.0926\n"
     ]
    },
    {
     "name": "stderr",
     "output_type": "stream",
     "text": [
      "Division 4/5:   3%|██▌                                                                           | 34/1015 [00:02<01:21, 12.10it/s]"
     ]
    },
    {
     "name": "stdout",
     "output_type": "stream",
     "text": [
      "Epoch:   4 | Samples:     32/787 | RMSE Loss: 0.6194 | MSE Loss: 0.6642 | target: -3.8960 | pred: -5.1931\n"
     ]
    },
    {
     "name": "stderr",
     "output_type": "stream",
     "text": [
      "Division 4/5:   7%|█████▏                                                                        | 67/1015 [00:05<01:18, 12.07it/s]"
     ]
    },
    {
     "name": "stdout",
     "output_type": "stream",
     "text": [
      "Epoch:   4 | Samples:     64/787 | RMSE Loss: 0.5374 | MSE Loss: 0.5460 | target: -4.1000 | pred: -4.2501\n"
     ]
    },
    {
     "name": "stderr",
     "output_type": "stream",
     "text": [
      "Division 4/5:  10%|███████▌                                                                     | 100/1015 [00:07<01:08, 13.34it/s]"
     ]
    },
    {
     "name": "stdout",
     "output_type": "stream",
     "text": [
      "Epoch:   4 | Samples:     96/787 | RMSE Loss: 0.5849 | MSE Loss: 0.5918 | target: -1.3300 | pred: -1.0876\n"
     ]
    },
    {
     "name": "stderr",
     "output_type": "stream",
     "text": [
      "Division 4/5:  13%|█████████▉                                                                   | 131/1015 [00:10<01:11, 12.41it/s]"
     ]
    },
    {
     "name": "stdout",
     "output_type": "stream",
     "text": [
      "Epoch:   4 | Samples:    128/787 | RMSE Loss: 0.5548 | MSE Loss: 0.5173 | target: 0.0090 | pred: -0.2100\n"
     ]
    },
    {
     "name": "stderr",
     "output_type": "stream",
     "text": [
      "Division 4/5:  16%|████████████▎                                                                | 162/1015 [00:12<01:06, 12.80it/s]"
     ]
    },
    {
     "name": "stdout",
     "output_type": "stream",
     "text": [
      "Epoch:   4 | Samples:    160/787 | RMSE Loss: 0.5493 | MSE Loss: 0.5081 | target: -1.0900 | pred: -1.3163\n"
     ]
    },
    {
     "name": "stderr",
     "output_type": "stream",
     "text": [
      "Division 4/5:  19%|██████████████▊                                                              | 195/1015 [00:15<01:05, 12.46it/s]"
     ]
    },
    {
     "name": "stdout",
     "output_type": "stream",
     "text": [
      "Epoch:   4 | Samples:    192/787 | RMSE Loss: 0.5545 | MSE Loss: 0.5231 | target: -1.3700 | pred: -1.7978\n"
     ]
    },
    {
     "name": "stderr",
     "output_type": "stream",
     "text": [
      "Division 4/5:  22%|█████████████████▏                                                           | 226/1015 [00:18<00:59, 13.37it/s]"
     ]
    },
    {
     "name": "stdout",
     "output_type": "stream",
     "text": [
      "Epoch:   4 | Samples:    224/787 | RMSE Loss: 0.5601 | MSE Loss: 0.5272 | target: -2.0500 | pred: -1.8252\n"
     ]
    },
    {
     "name": "stderr",
     "output_type": "stream",
     "text": [
      "Division 4/5:  25%|███████████████████▍                                                         | 257/1015 [00:21<01:07, 11.17it/s]"
     ]
    },
    {
     "name": "stdout",
     "output_type": "stream",
     "text": [
      "Epoch:   4 | Samples:    256/787 | RMSE Loss: 0.5513 | MSE Loss: 0.5093 | target: -4.4200 | pred: -4.7226\n"
     ]
    },
    {
     "name": "stderr",
     "output_type": "stream",
     "text": [
      "Division 4/5:  29%|██████████████████████▏                                                      | 292/1015 [00:24<00:59, 12.06it/s]"
     ]
    },
    {
     "name": "stdout",
     "output_type": "stream",
     "text": [
      "Epoch:   4 | Samples:    288/787 | RMSE Loss: 0.5573 | MSE Loss: 0.5199 | target: -2.3690 | pred: -2.6882\n"
     ]
    },
    {
     "name": "stderr",
     "output_type": "stream",
     "text": [
      "Division 4/5:  32%|████████████████████████▌                                                    | 323/1015 [00:26<00:47, 14.62it/s]"
     ]
    },
    {
     "name": "stdout",
     "output_type": "stream",
     "text": [
      "Epoch:   4 | Samples:    320/787 | RMSE Loss: 0.5566 | MSE Loss: 0.5212 | target: -3.3500 | pred: -4.0849\n"
     ]
    },
    {
     "name": "stderr",
     "output_type": "stream",
     "text": [
      "Division 4/5:  35%|██████████████████████████▊                                                  | 353/1015 [00:29<01:10,  9.40it/s]"
     ]
    },
    {
     "name": "stdout",
     "output_type": "stream",
     "text": [
      "Epoch:   4 | Samples:    352/787 | RMSE Loss: 0.5668 | MSE Loss: 0.5497 | target: -2.1480 | pred: -1.6970\n"
     ]
    },
    {
     "name": "stderr",
     "output_type": "stream",
     "text": [
      "Division 4/5:  38%|█████████████████████████████▎                                               | 386/1015 [00:32<00:57, 10.97it/s]"
     ]
    },
    {
     "name": "stdout",
     "output_type": "stream",
     "text": [
      "Epoch:   4 | Samples:    384/787 | RMSE Loss: 0.5640 | MSE Loss: 0.5390 | target: -3.4990 | pred: -4.7500\n"
     ]
    },
    {
     "name": "stderr",
     "output_type": "stream",
     "text": [
      "Division 4/5:  41%|███████████████████████████████▋                                             | 418/1015 [00:34<00:39, 14.96it/s]"
     ]
    },
    {
     "name": "stdout",
     "output_type": "stream",
     "text": [
      "Epoch:   4 | Samples:    416/787 | RMSE Loss: 0.5530 | MSE Loss: 0.5243 | target: -1.6140 | pred: -2.1209\n"
     ]
    },
    {
     "name": "stderr",
     "output_type": "stream",
     "text": [
      "Division 4/5:  44%|██████████████████████████████████▏                                          | 451/1015 [00:37<00:41, 13.64it/s]"
     ]
    },
    {
     "name": "stdout",
     "output_type": "stream",
     "text": [
      "Epoch:   4 | Samples:    448/787 | RMSE Loss: 0.5527 | MSE Loss: 0.5187 | target: -4.5600 | pred: -4.1014\n"
     ]
    },
    {
     "name": "stderr",
     "output_type": "stream",
     "text": [
      "Division 4/5:  47%|████████████████████████████████████▎                                        | 479/1015 [00:40<00:46, 11.65it/s]"
     ]
    },
    {
     "name": "stdout",
     "output_type": "stream",
     "text": [
      "Epoch:   4 | Samples:    480/787 | RMSE Loss: 0.5524 | MSE Loss: 0.5147 | target: -2.5100 | pred: -1.4157\n"
     ]
    },
    {
     "name": "stderr",
     "output_type": "stream",
     "text": [
      "Division 4/5:  51%|███████████████████████████████████████                                      | 515/1015 [00:43<00:42, 11.63it/s]"
     ]
    },
    {
     "name": "stdout",
     "output_type": "stream",
     "text": [
      "Epoch:   4 | Samples:    512/787 | RMSE Loss: 0.5530 | MSE Loss: 0.5112 | target: -3.3600 | pred: -3.0056\n"
     ]
    },
    {
     "name": "stderr",
     "output_type": "stream",
     "text": [
      "Division 4/5:  54%|█████████████████████████████████████████▍                                   | 547/1015 [00:45<00:33, 14.05it/s]"
     ]
    },
    {
     "name": "stdout",
     "output_type": "stream",
     "text": [
      "Epoch:   4 | Samples:    544/787 | RMSE Loss: 0.5614 | MSE Loss: 0.5376 | target: -7.6800 | pred: -8.3301\n"
     ]
    },
    {
     "name": "stderr",
     "output_type": "stream",
     "text": [
      "Division 4/5:  57%|███████████████████████████████████████████▉                                 | 579/1015 [00:48<00:31, 13.63it/s]"
     ]
    },
    {
     "name": "stdout",
     "output_type": "stream",
     "text": [
      "Epoch:   4 | Samples:    576/787 | RMSE Loss: 0.5604 | MSE Loss: 0.5365 | target: -2.8200 | pred: -2.6550\n"
     ]
    },
    {
     "name": "stderr",
     "output_type": "stream",
     "text": [
      "Division 4/5:  60%|██████████████████████████████████████████████▎                              | 610/1015 [00:50<00:26, 15.25it/s]"
     ]
    },
    {
     "name": "stdout",
     "output_type": "stream",
     "text": [
      "Epoch:   4 | Samples:    608/787 | RMSE Loss: 0.5607 | MSE Loss: 0.5344 | target: -2.0300 | pred: -2.1134\n"
     ]
    },
    {
     "name": "stderr",
     "output_type": "stream",
     "text": [
      "Division 4/5:  63%|████████████████████████████████████████████████▊                            | 643/1015 [00:53<00:21, 17.44it/s]"
     ]
    },
    {
     "name": "stdout",
     "output_type": "stream",
     "text": [
      "Epoch:   4 | Samples:    640/787 | RMSE Loss: 0.5575 | MSE Loss: 0.5283 | target: -2.6800 | pred: -2.4669\n"
     ]
    },
    {
     "name": "stderr",
     "output_type": "stream",
     "text": [
      "Division 4/5:  67%|███████████████████████████████████████████████████▏                         | 675/1015 [00:55<00:26, 12.90it/s]"
     ]
    },
    {
     "name": "stdout",
     "output_type": "stream",
     "text": [
      "Epoch:   4 | Samples:    672/787 | RMSE Loss: 0.5519 | MSE Loss: 0.5165 | target: -3.9530 | pred: -4.6194\n"
     ]
    },
    {
     "name": "stderr",
     "output_type": "stream",
     "text": [
      "Division 4/5:  70%|█████████████████████████████████████████████████████▋                       | 708/1015 [00:57<00:22, 13.65it/s]"
     ]
    },
    {
     "name": "stdout",
     "output_type": "stream",
     "text": [
      "Epoch:   4 | Samples:    704/787 | RMSE Loss: 0.5455 | MSE Loss: 0.5071 | target: -3.0940 | pred: -2.9715\n"
     ]
    },
    {
     "name": "stderr",
     "output_type": "stream",
     "text": [
      "Division 4/5:  73%|████████████████████████████████████████████████████████                     | 739/1015 [01:00<00:21, 12.70it/s]"
     ]
    },
    {
     "name": "stdout",
     "output_type": "stream",
     "text": [
      "Epoch:   4 | Samples:    736/787 | RMSE Loss: 0.5453 | MSE Loss: 0.5073 | target: -4.9070 | pred: -3.9006\n"
     ]
    },
    {
     "name": "stderr",
     "output_type": "stream",
     "text": [
      "Division 4/5:  76%|██████████████████████████████████████████████████████████▍                  | 770/1015 [01:02<00:17, 14.10it/s]"
     ]
    },
    {
     "name": "stdout",
     "output_type": "stream",
     "text": [
      "Epoch:   4 | Samples:    768/787 | RMSE Loss: 0.5431 | MSE Loss: 0.5003 | target: -0.1400 | pred: -0.3954\n"
     ]
    },
    {
     "name": "stderr",
     "output_type": "stream",
     "text": [
      "Division 4/5:  78%|███████████████████████████████████████████████████████████▋                 | 787/1015 [01:03<00:18, 12.37it/s]\n",
      "Division 4/5:   0%|▏                                                                              | 3/1015 [00:00<01:08, 14.72it/s]"
     ]
    },
    {
     "name": "stdout",
     "output_type": "stream",
     "text": [
      "Epoch:   5 | Samples:      0/787 | RMSE Loss: 1.3423 | MSE Loss: 1.8016 | target: -4.5540 | pred: -3.2117\n"
     ]
    },
    {
     "name": "stderr",
     "output_type": "stream",
     "text": [
      "Division 4/5:   3%|██▌                                                                           | 34/1015 [00:02<01:21, 11.98it/s]"
     ]
    },
    {
     "name": "stdout",
     "output_type": "stream",
     "text": [
      "Epoch:   5 | Samples:     32/787 | RMSE Loss: 0.5776 | MSE Loss: 0.5760 | target: -3.8960 | pred: -5.2878\n"
     ]
    },
    {
     "name": "stderr",
     "output_type": "stream",
     "text": [
      "Division 4/5:   7%|█████                                                                         | 66/1015 [00:05<01:27, 10.91it/s]"
     ]
    },
    {
     "name": "stdout",
     "output_type": "stream",
     "text": [
      "Epoch:   5 | Samples:     64/787 | RMSE Loss: 0.5026 | MSE Loss: 0.4743 | target: -4.1000 | pred: -4.2376\n"
     ]
    },
    {
     "name": "stderr",
     "output_type": "stream",
     "text": [
      "Division 4/5:  10%|███████▌                                                                     | 100/1015 [00:07<01:09, 13.25it/s]"
     ]
    },
    {
     "name": "stdout",
     "output_type": "stream",
     "text": [
      "Epoch:   5 | Samples:     96/787 | RMSE Loss: 0.5494 | MSE Loss: 0.5244 | target: -1.3300 | pred: -1.0860\n"
     ]
    },
    {
     "name": "stderr",
     "output_type": "stream",
     "text": [
      "Division 4/5:  13%|█████████▉                                                                   | 131/1015 [00:10<01:10, 12.48it/s]"
     ]
    },
    {
     "name": "stdout",
     "output_type": "stream",
     "text": [
      "Epoch:   5 | Samples:    128/787 | RMSE Loss: 0.5228 | MSE Loss: 0.4635 | target: 0.0090 | pred: -0.1232\n"
     ]
    },
    {
     "name": "stderr",
     "output_type": "stream",
     "text": [
      "Division 4/5:  16%|████████████▎                                                                | 162/1015 [00:12<01:07, 12.69it/s]"
     ]
    },
    {
     "name": "stdout",
     "output_type": "stream",
     "text": [
      "Epoch:   5 | Samples:    160/787 | RMSE Loss: 0.5195 | MSE Loss: 0.4580 | target: -1.0900 | pred: -1.2817\n"
     ]
    },
    {
     "name": "stderr",
     "output_type": "stream",
     "text": [
      "Division 4/5:  19%|██████████████▊                                                              | 195/1015 [00:15<01:07, 12.24it/s]"
     ]
    },
    {
     "name": "stdout",
     "output_type": "stream",
     "text": [
      "Epoch:   5 | Samples:    192/787 | RMSE Loss: 0.5259 | MSE Loss: 0.4684 | target: -1.3700 | pred: -1.9109\n"
     ]
    },
    {
     "name": "stderr",
     "output_type": "stream",
     "text": [
      "Division 4/5:  22%|█████████████████                                                            | 225/1015 [00:18<00:59, 13.17it/s]"
     ]
    },
    {
     "name": "stdout",
     "output_type": "stream",
     "text": [
      "Epoch:   5 | Samples:    224/787 | RMSE Loss: 0.5349 | MSE Loss: 0.4769 | target: -2.0500 | pred: -1.8205\n"
     ]
    },
    {
     "name": "stderr",
     "output_type": "stream",
     "text": [
      "Division 4/5:  25%|███████████████████▍                                                         | 257/1015 [00:21<01:08, 10.99it/s]"
     ]
    },
    {
     "name": "stdout",
     "output_type": "stream",
     "text": [
      "Epoch:   5 | Samples:    256/787 | RMSE Loss: 0.5271 | MSE Loss: 0.4640 | target: -4.4200 | pred: -4.6589\n"
     ]
    },
    {
     "name": "stderr",
     "output_type": "stream",
     "text": [
      "Division 4/5:  29%|██████████████████████▏                                                      | 292/1015 [00:24<00:59, 12.23it/s]"
     ]
    },
    {
     "name": "stdout",
     "output_type": "stream",
     "text": [
      "Epoch:   5 | Samples:    288/787 | RMSE Loss: 0.5320 | MSE Loss: 0.4714 | target: -2.3690 | pred: -2.6525\n"
     ]
    },
    {
     "name": "stderr",
     "output_type": "stream",
     "text": [
      "Division 4/5:  32%|████████████████████████▌                                                    | 323/1015 [00:26<00:47, 14.67it/s]"
     ]
    },
    {
     "name": "stdout",
     "output_type": "stream",
     "text": [
      "Epoch:   5 | Samples:    320/787 | RMSE Loss: 0.5309 | MSE Loss: 0.4716 | target: -3.3500 | pred: -4.2293\n"
     ]
    },
    {
     "name": "stderr",
     "output_type": "stream",
     "text": [
      "Division 4/5:  35%|██████████████████████████▋                                                  | 352/1015 [00:29<01:11,  9.28it/s]"
     ]
    },
    {
     "name": "stdout",
     "output_type": "stream",
     "text": [
      "Epoch:   5 | Samples:    352/787 | RMSE Loss: 0.5403 | MSE Loss: 0.4950 | target: -2.1480 | pred: -1.8139\n"
     ]
    },
    {
     "name": "stderr",
     "output_type": "stream",
     "text": [
      "Division 4/5:  38%|█████████████████████████████▎                                               | 386/1015 [00:32<00:57, 11.00it/s]"
     ]
    },
    {
     "name": "stdout",
     "output_type": "stream",
     "text": [
      "Epoch:   5 | Samples:    384/787 | RMSE Loss: 0.5371 | MSE Loss: 0.4845 | target: -3.4990 | pred: -4.5953\n"
     ]
    },
    {
     "name": "stderr",
     "output_type": "stream",
     "text": [
      "Division 4/5:  41%|███████████████████████████████▋                                             | 418/1015 [00:34<00:39, 14.95it/s]"
     ]
    },
    {
     "name": "stdout",
     "output_type": "stream",
     "text": [
      "Epoch:   5 | Samples:    416/787 | RMSE Loss: 0.5263 | MSE Loss: 0.4705 | target: -1.6140 | pred: -2.1234\n"
     ]
    },
    {
     "name": "stderr",
     "output_type": "stream",
     "text": [
      "Division 4/5:  44%|██████████████████████████████████▏                                          | 451/1015 [00:38<00:41, 13.68it/s]"
     ]
    },
    {
     "name": "stdout",
     "output_type": "stream",
     "text": [
      "Epoch:   5 | Samples:    448/787 | RMSE Loss: 0.5262 | MSE Loss: 0.4666 | target: -4.5600 | pred: -4.1758\n"
     ]
    },
    {
     "name": "stderr",
     "output_type": "stream",
     "text": [
      "Division 4/5:  47%|████████████████████████████████████▎                                        | 479/1015 [00:40<00:45, 11.75it/s]"
     ]
    },
    {
     "name": "stdout",
     "output_type": "stream",
     "text": [
      "Epoch:   5 | Samples:    480/787 | RMSE Loss: 0.5253 | MSE Loss: 0.4626 | target: -2.5100 | pred: -1.4736\n"
     ]
    },
    {
     "name": "stderr",
     "output_type": "stream",
     "text": [
      "Division 4/5:  51%|███████████████████████████████████████                                      | 515/1015 [00:43<00:42, 11.67it/s]"
     ]
    },
    {
     "name": "stdout",
     "output_type": "stream",
     "text": [
      "Epoch:   5 | Samples:    512/787 | RMSE Loss: 0.5254 | MSE Loss: 0.4604 | target: -3.3600 | pred: -3.1299\n"
     ]
    },
    {
     "name": "stderr",
     "output_type": "stream",
     "text": [
      "Division 4/5:  54%|█████████████████████████████████████████▍                                   | 547/1015 [00:45<00:33, 14.07it/s]"
     ]
    },
    {
     "name": "stdout",
     "output_type": "stream",
     "text": [
      "Epoch:   5 | Samples:    544/787 | RMSE Loss: 0.5335 | MSE Loss: 0.4863 | target: -7.6800 | pred: -8.4673\n"
     ]
    },
    {
     "name": "stderr",
     "output_type": "stream",
     "text": [
      "Division 4/5:  57%|███████████████████████████████████████████▉                                 | 579/1015 [00:48<00:32, 13.49it/s]"
     ]
    },
    {
     "name": "stdout",
     "output_type": "stream",
     "text": [
      "Epoch:   5 | Samples:    576/787 | RMSE Loss: 0.5341 | MSE Loss: 0.4876 | target: -2.8200 | pred: -2.6512\n"
     ]
    },
    {
     "name": "stderr",
     "output_type": "stream",
     "text": [
      "Division 4/5:  60%|██████████████████████████████████████████████▎                              | 610/1015 [00:50<00:26, 15.10it/s]"
     ]
    },
    {
     "name": "stdout",
     "output_type": "stream",
     "text": [
      "Epoch:   5 | Samples:    608/787 | RMSE Loss: 0.5334 | MSE Loss: 0.4844 | target: -2.0300 | pred: -2.1167\n"
     ]
    },
    {
     "name": "stderr",
     "output_type": "stream",
     "text": [
      "Division 4/5:  63%|████████████████████████████████████████████████▊                            | 643/1015 [00:53<00:21, 17.36it/s]"
     ]
    },
    {
     "name": "stdout",
     "output_type": "stream",
     "text": [
      "Epoch:   5 | Samples:    640/787 | RMSE Loss: 0.5299 | MSE Loss: 0.4784 | target: -2.6800 | pred: -2.5299\n"
     ]
    },
    {
     "name": "stderr",
     "output_type": "stream",
     "text": [
      "Division 4/5:  67%|███████████████████████████████████████████████████▏                         | 675/1015 [00:55<00:26, 12.94it/s]"
     ]
    },
    {
     "name": "stdout",
     "output_type": "stream",
     "text": [
      "Epoch:   5 | Samples:    672/787 | RMSE Loss: 0.5242 | MSE Loss: 0.4674 | target: -3.9530 | pred: -4.4994\n"
     ]
    },
    {
     "name": "stderr",
     "output_type": "stream",
     "text": [
      "Division 4/5:  70%|█████████████████████████████████████████████████████▋                       | 708/1015 [00:57<00:22, 13.52it/s]"
     ]
    },
    {
     "name": "stdout",
     "output_type": "stream",
     "text": [
      "Epoch:   5 | Samples:    704/787 | RMSE Loss: 0.5174 | MSE Loss: 0.4581 | target: -3.0940 | pred: -2.8973\n"
     ]
    },
    {
     "name": "stderr",
     "output_type": "stream",
     "text": [
      "Division 4/5:  73%|████████████████████████████████████████████████████████                     | 739/1015 [01:00<00:21, 12.73it/s]"
     ]
    },
    {
     "name": "stdout",
     "output_type": "stream",
     "text": [
      "Epoch:   5 | Samples:    736/787 | RMSE Loss: 0.5170 | MSE Loss: 0.4588 | target: -4.9070 | pred: -3.9694\n"
     ]
    },
    {
     "name": "stderr",
     "output_type": "stream",
     "text": [
      "Division 4/5:  76%|██████████████████████████████████████████████████████████▍                  | 770/1015 [01:02<00:17, 14.08it/s]"
     ]
    },
    {
     "name": "stdout",
     "output_type": "stream",
     "text": [
      "Epoch:   5 | Samples:    768/787 | RMSE Loss: 0.5153 | MSE Loss: 0.4528 | target: -0.1400 | pred: -0.3451\n"
     ]
    },
    {
     "name": "stderr",
     "output_type": "stream",
     "text": [
      "Division 4/5:  78%|███████████████████████████████████████████████████████████▋                 | 787/1015 [01:03<00:18, 12.35it/s]\n",
      "Division 4/5:   0%|▏                                                                              | 3/1015 [00:00<01:10, 14.46it/s]"
     ]
    },
    {
     "name": "stdout",
     "output_type": "stream",
     "text": [
      "Epoch:   6 | Samples:      0/787 | RMSE Loss: 1.2786 | MSE Loss: 1.6347 | target: -4.5540 | pred: -3.2754\n"
     ]
    },
    {
     "name": "stderr",
     "output_type": "stream",
     "text": [
      "Division 4/5:   3%|██▌                                                                           | 34/1015 [00:02<01:20, 12.15it/s]"
     ]
    },
    {
     "name": "stdout",
     "output_type": "stream",
     "text": [
      "Epoch:   6 | Samples:     32/787 | RMSE Loss: 0.5460 | MSE Loss: 0.5168 | target: -3.8960 | pred: -5.3214\n"
     ]
    },
    {
     "name": "stderr",
     "output_type": "stream",
     "text": [
      "Division 4/5:   7%|█████                                                                         | 66/1015 [00:05<01:28, 10.77it/s]"
     ]
    },
    {
     "name": "stdout",
     "output_type": "stream",
     "text": [
      "Epoch:   6 | Samples:     64/787 | RMSE Loss: 0.4707 | MSE Loss: 0.4194 | target: -4.1000 | pred: -4.2291\n"
     ]
    },
    {
     "name": "stderr",
     "output_type": "stream",
     "text": [
      "Division 4/5:  10%|███████▌                                                                     | 100/1015 [00:07<01:07, 13.46it/s]"
     ]
    },
    {
     "name": "stdout",
     "output_type": "stream",
     "text": [
      "Epoch:   6 | Samples:     96/787 | RMSE Loss: 0.5190 | MSE Loss: 0.4707 | target: -1.3300 | pred: -1.1494\n"
     ]
    },
    {
     "name": "stderr",
     "output_type": "stream",
     "text": [
      "Division 4/5:  13%|█████████▉                                                                   | 131/1015 [00:10<01:11, 12.34it/s]"
     ]
    },
    {
     "name": "stdout",
     "output_type": "stream",
     "text": [
      "Epoch:   6 | Samples:    128/787 | RMSE Loss: 0.4918 | MSE Loss: 0.4180 | target: 0.0090 | pred: 0.0904\n"
     ]
    },
    {
     "name": "stderr",
     "output_type": "stream",
     "text": [
      "Division 4/5:  16%|████████████▎                                                                | 162/1015 [00:12<01:07, 12.64it/s]"
     ]
    },
    {
     "name": "stdout",
     "output_type": "stream",
     "text": [
      "Epoch:   6 | Samples:    160/787 | RMSE Loss: 0.4891 | MSE Loss: 0.4125 | target: -1.0900 | pred: -1.2884\n"
     ]
    },
    {
     "name": "stderr",
     "output_type": "stream",
     "text": [
      "Division 4/5:  19%|██████████████▊                                                              | 195/1015 [00:15<01:06, 12.42it/s]"
     ]
    },
    {
     "name": "stdout",
     "output_type": "stream",
     "text": [
      "Epoch:   6 | Samples:    192/787 | RMSE Loss: 0.4934 | MSE Loss: 0.4184 | target: -1.3700 | pred: -1.7930\n"
     ]
    },
    {
     "name": "stderr",
     "output_type": "stream",
     "text": [
      "Division 4/5:  22%|█████████████████▏                                                           | 226/1015 [00:18<00:58, 13.45it/s]"
     ]
    },
    {
     "name": "stdout",
     "output_type": "stream",
     "text": [
      "Epoch:   6 | Samples:    224/787 | RMSE Loss: 0.5026 | MSE Loss: 0.4264 | target: -2.0500 | pred: -1.8400\n"
     ]
    },
    {
     "name": "stderr",
     "output_type": "stream",
     "text": [
      "Division 4/5:  25%|███████████████████▍                                                         | 257/1015 [00:21<01:08, 11.07it/s]"
     ]
    },
    {
     "name": "stdout",
     "output_type": "stream",
     "text": [
      "Epoch:   6 | Samples:    256/787 | RMSE Loss: 0.4974 | MSE Loss: 0.4168 | target: -4.4200 | pred: -4.6531\n"
     ]
    },
    {
     "name": "stderr",
     "output_type": "stream",
     "text": [
      "Division 4/5:  29%|██████████████████████▏                                                      | 292/1015 [00:24<00:59, 12.20it/s]"
     ]
    },
    {
     "name": "stdout",
     "output_type": "stream",
     "text": [
      "Epoch:   6 | Samples:    288/787 | RMSE Loss: 0.5018 | MSE Loss: 0.4231 | target: -2.3690 | pred: -2.5887\n"
     ]
    },
    {
     "name": "stderr",
     "output_type": "stream",
     "text": [
      "Division 4/5:  32%|████████████████████████▌                                                    | 323/1015 [00:26<00:47, 14.49it/s]"
     ]
    },
    {
     "name": "stdout",
     "output_type": "stream",
     "text": [
      "Epoch:   6 | Samples:    320/787 | RMSE Loss: 0.5004 | MSE Loss: 0.4231 | target: -3.3500 | pred: -4.2594\n"
     ]
    },
    {
     "name": "stderr",
     "output_type": "stream",
     "text": [
      "Division 4/5:  35%|██████████████████████████▊                                                  | 353/1015 [00:29<01:09,  9.47it/s]"
     ]
    },
    {
     "name": "stdout",
     "output_type": "stream",
     "text": [
      "Epoch:   6 | Samples:    352/787 | RMSE Loss: 0.5104 | MSE Loss: 0.4424 | target: -2.1480 | pred: -1.8171\n"
     ]
    },
    {
     "name": "stderr",
     "output_type": "stream",
     "text": [
      "Division 4/5:  38%|█████████████████████████████▎                                               | 386/1015 [00:32<00:56, 11.04it/s]"
     ]
    },
    {
     "name": "stdout",
     "output_type": "stream",
     "text": [
      "Epoch:   6 | Samples:    384/787 | RMSE Loss: 0.5064 | MSE Loss: 0.4317 | target: -3.4990 | pred: -4.4075\n"
     ]
    },
    {
     "name": "stderr",
     "output_type": "stream",
     "text": [
      "Division 4/5:  41%|███████████████████████████████▋                                             | 418/1015 [00:34<00:40, 14.79it/s]"
     ]
    },
    {
     "name": "stdout",
     "output_type": "stream",
     "text": [
      "Epoch:   6 | Samples:    416/787 | RMSE Loss: 0.4967 | MSE Loss: 0.4200 | target: -1.6140 | pred: -2.1251\n"
     ]
    },
    {
     "name": "stderr",
     "output_type": "stream",
     "text": [
      "Division 4/5:  44%|██████████████████████████████████▏                                          | 451/1015 [00:38<00:41, 13.49it/s]"
     ]
    },
    {
     "name": "stdout",
     "output_type": "stream",
     "text": [
      "Epoch:   6 | Samples:    448/787 | RMSE Loss: 0.4973 | MSE Loss: 0.4175 | target: -4.5600 | pred: -4.2084\n"
     ]
    },
    {
     "name": "stderr",
     "output_type": "stream",
     "text": [
      "Division 4/5:  47%|████████████████████████████████████▎                                        | 479/1015 [00:40<00:45, 11.71it/s]"
     ]
    },
    {
     "name": "stdout",
     "output_type": "stream",
     "text": [
      "Epoch:   6 | Samples:    480/787 | RMSE Loss: 0.4965 | MSE Loss: 0.4145 | target: -2.5100 | pred: -1.4906\n"
     ]
    },
    {
     "name": "stderr",
     "output_type": "stream",
     "text": [
      "Division 4/5:  51%|███████████████████████████████████████                                      | 515/1015 [00:43<00:42, 11.63it/s]"
     ]
    },
    {
     "name": "stdout",
     "output_type": "stream",
     "text": [
      "Epoch:   6 | Samples:    512/787 | RMSE Loss: 0.4966 | MSE Loss: 0.4135 | target: -3.3600 | pred: -3.2192\n"
     ]
    },
    {
     "name": "stderr",
     "output_type": "stream",
     "text": [
      "Division 4/5:  54%|█████████████████████████████████████████▍                                   | 547/1015 [00:45<00:33, 14.03it/s]"
     ]
    },
    {
     "name": "stdout",
     "output_type": "stream",
     "text": [
      "Epoch:   6 | Samples:    544/787 | RMSE Loss: 0.5060 | MSE Loss: 0.4409 | target: -7.6800 | pred: -8.5710\n"
     ]
    },
    {
     "name": "stderr",
     "output_type": "stream",
     "text": [
      "Division 4/5:  57%|███████████████████████████████████████████▉                                 | 579/1015 [00:48<00:32, 13.41it/s]"
     ]
    },
    {
     "name": "stdout",
     "output_type": "stream",
     "text": [
      "Epoch:   6 | Samples:    576/787 | RMSE Loss: 0.5077 | MSE Loss: 0.4436 | target: -2.8200 | pred: -2.6313\n"
     ]
    },
    {
     "name": "stderr",
     "output_type": "stream",
     "text": [
      "Division 4/5:  60%|██████████████████████████████████████████████▎                              | 610/1015 [00:50<00:26, 15.05it/s]"
     ]
    },
    {
     "name": "stdout",
     "output_type": "stream",
     "text": [
      "Epoch:   6 | Samples:    608/787 | RMSE Loss: 0.5068 | MSE Loss: 0.4404 | target: -2.0300 | pred: -2.0814\n"
     ]
    },
    {
     "name": "stderr",
     "output_type": "stream",
     "text": [
      "Division 4/5:  63%|████████████████████████████████████████████████▊                            | 643/1015 [00:53<00:21, 17.26it/s]"
     ]
    },
    {
     "name": "stdout",
     "output_type": "stream",
     "text": [
      "Epoch:   6 | Samples:    640/787 | RMSE Loss: 0.5036 | MSE Loss: 0.4355 | target: -2.6800 | pred: -2.5498\n"
     ]
    },
    {
     "name": "stderr",
     "output_type": "stream",
     "text": [
      "Division 4/5:  67%|███████████████████████████████████████████████████▏                         | 675/1015 [00:55<00:26, 12.87it/s]"
     ]
    },
    {
     "name": "stdout",
     "output_type": "stream",
     "text": [
      "Epoch:   6 | Samples:    672/787 | RMSE Loss: 0.4978 | MSE Loss: 0.4253 | target: -3.9530 | pred: -4.4085\n"
     ]
    },
    {
     "name": "stderr",
     "output_type": "stream",
     "text": [
      "Division 4/5:  70%|█████████████████████████████████████████████████████▋                       | 708/1015 [00:58<00:23, 13.26it/s]"
     ]
    },
    {
     "name": "stdout",
     "output_type": "stream",
     "text": [
      "Epoch:   6 | Samples:    704/787 | RMSE Loss: 0.4918 | MSE Loss: 0.4173 | target: -3.0940 | pred: -2.7974\n"
     ]
    },
    {
     "name": "stderr",
     "output_type": "stream",
     "text": [
      "Division 4/5:  73%|████████████████████████████████████████████████████████                     | 739/1015 [01:00<00:21, 12.69it/s]"
     ]
    },
    {
     "name": "stdout",
     "output_type": "stream",
     "text": [
      "Epoch:   6 | Samples:    736/787 | RMSE Loss: 0.4913 | MSE Loss: 0.4182 | target: -4.9070 | pred: -3.9798\n"
     ]
    },
    {
     "name": "stderr",
     "output_type": "stream",
     "text": [
      "Division 4/5:  76%|██████████████████████████████████████████████████████████▍                  | 770/1015 [01:02<00:17, 13.91it/s]"
     ]
    },
    {
     "name": "stdout",
     "output_type": "stream",
     "text": [
      "Epoch:   6 | Samples:    768/787 | RMSE Loss: 0.4898 | MSE Loss: 0.4128 | target: -0.1400 | pred: -0.3171\n"
     ]
    },
    {
     "name": "stderr",
     "output_type": "stream",
     "text": [
      "Division 4/5:  78%|███████████████████████████████████████████████████████████▋                 | 787/1015 [01:03<00:18, 12.33it/s]\n",
      "Division 4/5:   0%|▏                                                                              | 3/1015 [00:00<01:08, 14.69it/s]"
     ]
    },
    {
     "name": "stdout",
     "output_type": "stream",
     "text": [
      "Epoch:   7 | Samples:      0/787 | RMSE Loss: 1.1998 | MSE Loss: 1.4396 | target: -4.5540 | pred: -3.3542\n"
     ]
    },
    {
     "name": "stderr",
     "output_type": "stream",
     "text": [
      "Division 4/5:   3%|██▌                                                                           | 34/1015 [00:02<01:21, 12.01it/s]"
     ]
    },
    {
     "name": "stdout",
     "output_type": "stream",
     "text": [
      "Epoch:   7 | Samples:     32/787 | RMSE Loss: 0.5250 | MSE Loss: 0.4808 | target: -3.8960 | pred: -5.3306\n"
     ]
    },
    {
     "name": "stderr",
     "output_type": "stream",
     "text": [
      "Division 4/5:   7%|█████                                                                         | 66/1015 [00:05<01:27, 10.88it/s]"
     ]
    },
    {
     "name": "stdout",
     "output_type": "stream",
     "text": [
      "Epoch:   7 | Samples:     64/787 | RMSE Loss: 0.4551 | MSE Loss: 0.3892 | target: -4.1000 | pred: -4.2342\n"
     ]
    },
    {
     "name": "stderr",
     "output_type": "stream",
     "text": [
      "Division 4/5:  10%|███████▌                                                                     | 100/1015 [00:07<01:09, 13.22it/s]"
     ]
    },
    {
     "name": "stdout",
     "output_type": "stream",
     "text": [
      "Epoch:   7 | Samples:     96/787 | RMSE Loss: 0.4994 | MSE Loss: 0.4366 | target: -1.3300 | pred: -1.1800\n"
     ]
    },
    {
     "name": "stderr",
     "output_type": "stream",
     "text": [
      "Division 4/5:  13%|█████████▉                                                                   | 131/1015 [00:10<01:10, 12.47it/s]"
     ]
    },
    {
     "name": "stdout",
     "output_type": "stream",
     "text": [
      "Epoch:   7 | Samples:    128/787 | RMSE Loss: 0.4724 | MSE Loss: 0.3902 | target: 0.0090 | pred: 0.1790\n"
     ]
    },
    {
     "name": "stderr",
     "output_type": "stream",
     "text": [
      "Division 4/5:  16%|████████████▎                                                                | 162/1015 [00:12<01:07, 12.69it/s]"
     ]
    },
    {
     "name": "stdout",
     "output_type": "stream",
     "text": [
      "Epoch:   7 | Samples:    160/787 | RMSE Loss: 0.4713 | MSE Loss: 0.3857 | target: -1.0900 | pred: -1.2713\n"
     ]
    },
    {
     "name": "stderr",
     "output_type": "stream",
     "text": [
      "Division 4/5:  19%|██████████████▊                                                              | 195/1015 [00:15<01:05, 12.43it/s]"
     ]
    },
    {
     "name": "stdout",
     "output_type": "stream",
     "text": [
      "Epoch:   7 | Samples:    192/787 | RMSE Loss: 0.4744 | MSE Loss: 0.3876 | target: -1.3700 | pred: -1.7715\n"
     ]
    },
    {
     "name": "stderr",
     "output_type": "stream",
     "text": [
      "Division 4/5:  22%|█████████████████▏                                                           | 226/1015 [00:18<00:58, 13.47it/s]"
     ]
    },
    {
     "name": "stdout",
     "output_type": "stream",
     "text": [
      "Epoch:   7 | Samples:    224/787 | RMSE Loss: 0.4826 | MSE Loss: 0.3946 | target: -2.0500 | pred: -1.8784\n"
     ]
    },
    {
     "name": "stderr",
     "output_type": "stream",
     "text": [
      "Division 4/5:  26%|███████████████████▋                                                         | 259/1015 [00:21<01:10, 10.75it/s]"
     ]
    },
    {
     "name": "stdout",
     "output_type": "stream",
     "text": [
      "Epoch:   7 | Samples:    256/787 | RMSE Loss: 0.4791 | MSE Loss: 0.3879 | target: -4.4200 | pred: -4.6308\n"
     ]
    },
    {
     "name": "stderr",
     "output_type": "stream",
     "text": [
      "Division 4/5:  29%|██████████████████████▏                                                      | 292/1015 [00:24<00:59, 12.21it/s]"
     ]
    },
    {
     "name": "stdout",
     "output_type": "stream",
     "text": [
      "Epoch:   7 | Samples:    288/787 | RMSE Loss: 0.4838 | MSE Loss: 0.3946 | target: -2.3690 | pred: -2.5192\n"
     ]
    },
    {
     "name": "stderr",
     "output_type": "stream",
     "text": [
      "Division 4/5:  32%|████████████████████████▌                                                    | 323/1015 [00:26<00:47, 14.65it/s]"
     ]
    },
    {
     "name": "stdout",
     "output_type": "stream",
     "text": [
      "Epoch:   7 | Samples:    320/787 | RMSE Loss: 0.4816 | MSE Loss: 0.3942 | target: -3.3500 | pred: -4.3104\n"
     ]
    },
    {
     "name": "stderr",
     "output_type": "stream",
     "text": [
      "Division 4/5:  35%|██████████████████████████▊                                                  | 353/1015 [00:29<01:10,  9.43it/s]"
     ]
    },
    {
     "name": "stdout",
     "output_type": "stream",
     "text": [
      "Epoch:   7 | Samples:    352/787 | RMSE Loss: 0.4907 | MSE Loss: 0.4101 | target: -2.1480 | pred: -1.8692\n"
     ]
    },
    {
     "name": "stderr",
     "output_type": "stream",
     "text": [
      "Division 4/5:  38%|█████████████████████████████▎                                               | 386/1015 [00:32<00:57, 10.91it/s]"
     ]
    },
    {
     "name": "stdout",
     "output_type": "stream",
     "text": [
      "Epoch:   7 | Samples:    384/787 | RMSE Loss: 0.4869 | MSE Loss: 0.4003 | target: -3.4990 | pred: -4.3852\n"
     ]
    },
    {
     "name": "stderr",
     "output_type": "stream",
     "text": [
      "Division 4/5:  41%|███████████████████████████████▋                                             | 418/1015 [00:34<00:40, 14.72it/s]"
     ]
    },
    {
     "name": "stdout",
     "output_type": "stream",
     "text": [
      "Epoch:   7 | Samples:    416/787 | RMSE Loss: 0.4778 | MSE Loss: 0.3894 | target: -1.6140 | pred: -2.0500\n"
     ]
    },
    {
     "name": "stderr",
     "output_type": "stream",
     "text": [
      "Division 4/5:  44%|██████████████████████████████████▏                                          | 451/1015 [00:38<00:41, 13.73it/s]"
     ]
    },
    {
     "name": "stdout",
     "output_type": "stream",
     "text": [
      "Epoch:   7 | Samples:    448/787 | RMSE Loss: 0.4788 | MSE Loss: 0.3875 | target: -4.5600 | pred: -4.2591\n"
     ]
    },
    {
     "name": "stderr",
     "output_type": "stream",
     "text": [
      "Division 4/5:  47%|████████████████████████████████████▎                                        | 479/1015 [00:40<00:46, 11.61it/s]"
     ]
    },
    {
     "name": "stdout",
     "output_type": "stream",
     "text": [
      "Epoch:   7 | Samples:    480/787 | RMSE Loss: 0.4781 | MSE Loss: 0.3851 | target: -2.5100 | pred: -1.5227\n"
     ]
    },
    {
     "name": "stderr",
     "output_type": "stream",
     "text": [
      "Division 4/5:  51%|███████████████████████████████████████                                      | 515/1015 [00:43<00:43, 11.55it/s]"
     ]
    },
    {
     "name": "stdout",
     "output_type": "stream",
     "text": [
      "Epoch:   7 | Samples:    512/787 | RMSE Loss: 0.4789 | MSE Loss: 0.3857 | target: -3.3600 | pred: -3.3324\n"
     ]
    },
    {
     "name": "stderr",
     "output_type": "stream",
     "text": [
      "Division 4/5:  54%|█████████████████████████████████████████▍                                   | 547/1015 [00:45<00:33, 14.10it/s]"
     ]
    },
    {
     "name": "stdout",
     "output_type": "stream",
     "text": [
      "Epoch:   7 | Samples:    544/787 | RMSE Loss: 0.4887 | MSE Loss: 0.4116 | target: -7.6800 | pred: -8.5973\n"
     ]
    },
    {
     "name": "stderr",
     "output_type": "stream",
     "text": [
      "Division 4/5:  57%|███████████████████████████████████████████▉                                 | 579/1015 [00:48<00:32, 13.42it/s]"
     ]
    },
    {
     "name": "stdout",
     "output_type": "stream",
     "text": [
      "Epoch:   7 | Samples:    576/787 | RMSE Loss: 0.4908 | MSE Loss: 0.4143 | target: -2.8200 | pred: -2.6891\n"
     ]
    },
    {
     "name": "stderr",
     "output_type": "stream",
     "text": [
      "Division 4/5:  60%|██████████████████████████████████████████████▎                              | 610/1015 [00:51<00:27, 14.93it/s]"
     ]
    },
    {
     "name": "stdout",
     "output_type": "stream",
     "text": [
      "Epoch:   7 | Samples:    608/787 | RMSE Loss: 0.4903 | MSE Loss: 0.4113 | target: -2.0300 | pred: -2.0635\n"
     ]
    },
    {
     "name": "stderr",
     "output_type": "stream",
     "text": [
      "Division 4/5:  63%|████████████████████████████████████████████████▊                            | 643/1015 [00:53<00:21, 17.23it/s]"
     ]
    },
    {
     "name": "stdout",
     "output_type": "stream",
     "text": [
      "Epoch:   7 | Samples:    640/787 | RMSE Loss: 0.4875 | MSE Loss: 0.4072 | target: -2.6800 | pred: -2.5581\n"
     ]
    },
    {
     "name": "stderr",
     "output_type": "stream",
     "text": [
      "Division 4/5:  67%|███████████████████████████████████████████████████▏                         | 675/1015 [00:56<00:26, 13.02it/s]"
     ]
    },
    {
     "name": "stdout",
     "output_type": "stream",
     "text": [
      "Epoch:   7 | Samples:    672/787 | RMSE Loss: 0.4819 | MSE Loss: 0.3978 | target: -3.9530 | pred: -4.3340\n"
     ]
    },
    {
     "name": "stderr",
     "output_type": "stream",
     "text": [
      "Division 4/5:  70%|█████████████████████████████████████████████████████▋                       | 708/1015 [00:58<00:22, 13.60it/s]"
     ]
    },
    {
     "name": "stdout",
     "output_type": "stream",
     "text": [
      "Epoch:   7 | Samples:    704/787 | RMSE Loss: 0.4755 | MSE Loss: 0.3901 | target: -3.0940 | pred: -2.7357\n"
     ]
    },
    {
     "name": "stderr",
     "output_type": "stream",
     "text": [
      "Division 4/5:  73%|████████████████████████████████████████████████████████                     | 739/1015 [01:00<00:21, 12.71it/s]"
     ]
    },
    {
     "name": "stdout",
     "output_type": "stream",
     "text": [
      "Epoch:   7 | Samples:    736/787 | RMSE Loss: 0.4751 | MSE Loss: 0.3909 | target: -4.9070 | pred: -4.0212\n"
     ]
    },
    {
     "name": "stderr",
     "output_type": "stream",
     "text": [
      "Division 4/5:  76%|██████████████████████████████████████████████████████████▍                  | 770/1015 [01:02<00:18, 13.59it/s]"
     ]
    },
    {
     "name": "stdout",
     "output_type": "stream",
     "text": [
      "Epoch:   7 | Samples:    768/787 | RMSE Loss: 0.4736 | MSE Loss: 0.3860 | target: -0.1400 | pred: -0.2802\n"
     ]
    },
    {
     "name": "stderr",
     "output_type": "stream",
     "text": [
      "Division 4/5:  78%|███████████████████████████████████████████████████████████▋                 | 787/1015 [01:03<00:18, 12.31it/s]\n",
      "Division 4/5:   0%|▏                                                                              | 3/1015 [00:00<01:11, 14.21it/s]"
     ]
    },
    {
     "name": "stdout",
     "output_type": "stream",
     "text": [
      "Epoch:   8 | Samples:      0/787 | RMSE Loss: 1.1644 | MSE Loss: 1.3558 | target: -4.5540 | pred: -3.3896\n"
     ]
    },
    {
     "name": "stderr",
     "output_type": "stream",
     "text": [
      "Division 4/5:   3%|██▌                                                                           | 34/1015 [00:02<01:21, 12.03it/s]"
     ]
    },
    {
     "name": "stdout",
     "output_type": "stream",
     "text": [
      "Epoch:   8 | Samples:     32/787 | RMSE Loss: 0.5199 | MSE Loss: 0.4638 | target: -3.8960 | pred: -5.3103\n"
     ]
    },
    {
     "name": "stderr",
     "output_type": "stream",
     "text": [
      "Division 4/5:   7%|█████▏                                                                        | 67/1015 [00:05<01:19, 11.95it/s]"
     ]
    },
    {
     "name": "stdout",
     "output_type": "stream",
     "text": [
      "Epoch:   8 | Samples:     64/787 | RMSE Loss: 0.4472 | MSE Loss: 0.3647 | target: -4.1000 | pred: -4.2089\n"
     ]
    },
    {
     "name": "stderr",
     "output_type": "stream",
     "text": [
      "Division 4/5:  10%|███████▌                                                                      | 99/1015 [00:07<01:04, 14.15it/s]"
     ]
    },
    {
     "name": "stdout",
     "output_type": "stream",
     "text": [
      "Epoch:   8 | Samples:     96/787 | RMSE Loss: 0.4872 | MSE Loss: 0.4105 | target: -1.3300 | pred: -1.2511\n"
     ]
    },
    {
     "name": "stderr",
     "output_type": "stream",
     "text": [
      "Division 4/5:  13%|█████████▉                                                                   | 131/1015 [00:10<01:10, 12.46it/s]"
     ]
    },
    {
     "name": "stdout",
     "output_type": "stream",
     "text": [
      "Epoch:   8 | Samples:    128/787 | RMSE Loss: 0.4610 | MSE Loss: 0.3687 | target: 0.0090 | pred: 0.2696\n"
     ]
    },
    {
     "name": "stderr",
     "output_type": "stream",
     "text": [
      "Division 4/5:  16%|████████████▎                                                                | 162/1015 [00:12<01:06, 12.77it/s]"
     ]
    },
    {
     "name": "stdout",
     "output_type": "stream",
     "text": [
      "Epoch:   8 | Samples:    160/787 | RMSE Loss: 0.4589 | MSE Loss: 0.3632 | target: -1.0900 | pred: -1.2625\n"
     ]
    },
    {
     "name": "stderr",
     "output_type": "stream",
     "text": [
      "Division 4/5:  19%|██████████████▊                                                              | 195/1015 [00:15<01:05, 12.45it/s]"
     ]
    },
    {
     "name": "stdout",
     "output_type": "stream",
     "text": [
      "Epoch:   8 | Samples:    192/787 | RMSE Loss: 0.4607 | MSE Loss: 0.3633 | target: -1.3700 | pred: -1.7346\n"
     ]
    },
    {
     "name": "stderr",
     "output_type": "stream",
     "text": [
      "Division 4/5:  22%|█████████████████▏                                                           | 226/1015 [00:18<00:59, 13.29it/s]"
     ]
    },
    {
     "name": "stdout",
     "output_type": "stream",
     "text": [
      "Epoch:   8 | Samples:    224/787 | RMSE Loss: 0.4677 | MSE Loss: 0.3682 | target: -2.0500 | pred: -1.9102\n"
     ]
    },
    {
     "name": "stderr",
     "output_type": "stream",
     "text": [
      "Division 4/5:  25%|███████████████████▍                                                         | 257/1015 [00:21<01:09, 10.88it/s]"
     ]
    },
    {
     "name": "stdout",
     "output_type": "stream",
     "text": [
      "Epoch:   8 | Samples:    256/787 | RMSE Loss: 0.4659 | MSE Loss: 0.3649 | target: -4.4200 | pred: -4.5723\n"
     ]
    },
    {
     "name": "stderr",
     "output_type": "stream",
     "text": [
      "Division 4/5:  29%|██████████████████████▏                                                      | 292/1015 [00:24<01:01, 11.78it/s]"
     ]
    },
    {
     "name": "stdout",
     "output_type": "stream",
     "text": [
      "Epoch:   8 | Samples:    288/787 | RMSE Loss: 0.4684 | MSE Loss: 0.3706 | target: -2.3690 | pred: -2.5075\n"
     ]
    },
    {
     "name": "stderr",
     "output_type": "stream",
     "text": [
      "Division 4/5:  32%|████████████████████████▌                                                    | 323/1015 [00:26<00:47, 14.68it/s]"
     ]
    },
    {
     "name": "stdout",
     "output_type": "stream",
     "text": [
      "Epoch:   8 | Samples:    320/787 | RMSE Loss: 0.4664 | MSE Loss: 0.3706 | target: -3.3500 | pred: -4.4085\n"
     ]
    },
    {
     "name": "stderr",
     "output_type": "stream",
     "text": [
      "Division 4/5:  35%|██████████████████████████▊                                                  | 353/1015 [00:29<01:11,  9.31it/s]"
     ]
    },
    {
     "name": "stdout",
     "output_type": "stream",
     "text": [
      "Epoch:   8 | Samples:    352/787 | RMSE Loss: 0.4745 | MSE Loss: 0.3824 | target: -2.1480 | pred: -1.8937\n"
     ]
    },
    {
     "name": "stderr",
     "output_type": "stream",
     "text": [
      "Division 4/5:  38%|█████████████████████████████▎                                               | 386/1015 [00:32<00:57, 10.88it/s]"
     ]
    },
    {
     "name": "stdout",
     "output_type": "stream",
     "text": [
      "Epoch:   8 | Samples:    384/787 | RMSE Loss: 0.4698 | MSE Loss: 0.3731 | target: -3.4990 | pred: -4.2137\n"
     ]
    },
    {
     "name": "stderr",
     "output_type": "stream",
     "text": [
      "Division 4/5:  41%|███████████████████████████████▋                                             | 418/1015 [00:35<00:40, 14.80it/s]"
     ]
    },
    {
     "name": "stdout",
     "output_type": "stream",
     "text": [
      "Epoch:   8 | Samples:    416/787 | RMSE Loss: 0.4621 | MSE Loss: 0.3647 | target: -1.6140 | pred: -2.0745\n"
     ]
    },
    {
     "name": "stderr",
     "output_type": "stream",
     "text": [
      "Division 4/5:  44%|██████████████████████████████████▏                                          | 451/1015 [00:38<00:41, 13.72it/s]"
     ]
    },
    {
     "name": "stdout",
     "output_type": "stream",
     "text": [
      "Epoch:   8 | Samples:    448/787 | RMSE Loss: 0.4638 | MSE Loss: 0.3630 | target: -4.5600 | pred: -4.2881\n"
     ]
    },
    {
     "name": "stderr",
     "output_type": "stream",
     "text": [
      "Division 4/5:  47%|████████████████████████████████████▎                                        | 479/1015 [00:40<00:45, 11.75it/s]"
     ]
    },
    {
     "name": "stdout",
     "output_type": "stream",
     "text": [
      "Epoch:   8 | Samples:    480/787 | RMSE Loss: 0.4634 | MSE Loss: 0.3607 | target: -2.5100 | pred: -1.5639\n"
     ]
    },
    {
     "name": "stderr",
     "output_type": "stream",
     "text": [
      "Division 4/5:  51%|███████████████████████████████████████                                      | 515/1015 [00:43<00:43, 11.36it/s]"
     ]
    },
    {
     "name": "stdout",
     "output_type": "stream",
     "text": [
      "Epoch:   8 | Samples:    512/787 | RMSE Loss: 0.4651 | MSE Loss: 0.3628 | target: -3.3600 | pred: -3.4282\n"
     ]
    },
    {
     "name": "stderr",
     "output_type": "stream",
     "text": [
      "Division 4/5:  54%|█████████████████████████████████████████▍                                   | 547/1015 [00:45<00:33, 14.02it/s]"
     ]
    },
    {
     "name": "stdout",
     "output_type": "stream",
     "text": [
      "Epoch:   8 | Samples:    544/787 | RMSE Loss: 0.4753 | MSE Loss: 0.3880 | target: -7.6800 | pred: -8.6230\n"
     ]
    },
    {
     "name": "stderr",
     "output_type": "stream",
     "text": [
      "Division 4/5:  57%|███████████████████████████████████████████▉                                 | 579/1015 [00:48<00:32, 13.35it/s]"
     ]
    },
    {
     "name": "stdout",
     "output_type": "stream",
     "text": [
      "Epoch:   8 | Samples:    576/787 | RMSE Loss: 0.4776 | MSE Loss: 0.3913 | target: -2.8200 | pred: -2.6603\n"
     ]
    },
    {
     "name": "stderr",
     "output_type": "stream",
     "text": [
      "Division 4/5:  60%|██████████████████████████████████████████████▎                              | 610/1015 [00:51<00:26, 15.02it/s]"
     ]
    },
    {
     "name": "stdout",
     "output_type": "stream",
     "text": [
      "Epoch:   8 | Samples:    608/787 | RMSE Loss: 0.4770 | MSE Loss: 0.3880 | target: -2.0300 | pred: -2.0766\n"
     ]
    },
    {
     "name": "stderr",
     "output_type": "stream",
     "text": [
      "Division 4/5:  63%|████████████████████████████████████████████████▊                            | 643/1015 [00:53<00:21, 17.22it/s]"
     ]
    },
    {
     "name": "stdout",
     "output_type": "stream",
     "text": [
      "Epoch:   8 | Samples:    640/787 | RMSE Loss: 0.4744 | MSE Loss: 0.3846 | target: -2.6800 | pred: -2.5415\n"
     ]
    },
    {
     "name": "stderr",
     "output_type": "stream",
     "text": [
      "Division 4/5:  66%|███████████████████████████████████████████████████▏                         | 674/1015 [00:56<00:26, 12.63it/s]"
     ]
    },
    {
     "name": "stdout",
     "output_type": "stream",
     "text": [
      "Epoch:   8 | Samples:    672/787 | RMSE Loss: 0.4692 | MSE Loss: 0.3761 | target: -3.9530 | pred: -4.2229\n"
     ]
    },
    {
     "name": "stderr",
     "output_type": "stream",
     "text": [
      "Division 4/5:  70%|█████████████████████████████████████████████████████▋                       | 708/1015 [00:58<00:22, 13.39it/s]"
     ]
    },
    {
     "name": "stdout",
     "output_type": "stream",
     "text": [
      "Epoch:   8 | Samples:    704/787 | RMSE Loss: 0.4627 | MSE Loss: 0.3685 | target: -3.0940 | pred: -2.6883\n"
     ]
    },
    {
     "name": "stderr",
     "output_type": "stream",
     "text": [
      "Division 4/5:  73%|████████████████████████████████████████████████████████                     | 739/1015 [01:00<00:21, 12.81it/s]"
     ]
    },
    {
     "name": "stdout",
     "output_type": "stream",
     "text": [
      "Epoch:   8 | Samples:    736/787 | RMSE Loss: 0.4625 | MSE Loss: 0.3694 | target: -4.9070 | pred: -4.0388\n"
     ]
    },
    {
     "name": "stderr",
     "output_type": "stream",
     "text": [
      "Division 4/5:  76%|██████████████████████████████████████████████████████████▍                  | 770/1015 [01:02<00:17, 14.02it/s]"
     ]
    },
    {
     "name": "stdout",
     "output_type": "stream",
     "text": [
      "Epoch:   8 | Samples:    768/787 | RMSE Loss: 0.4605 | MSE Loss: 0.3646 | target: -0.1400 | pred: -0.2265\n"
     ]
    },
    {
     "name": "stderr",
     "output_type": "stream",
     "text": [
      "Division 4/5:  78%|███████████████████████████████████████████████████████████▋                 | 787/1015 [01:04<00:18, 12.28it/s]\n",
      "Division 4/5:   0%|▏                                                                              | 3/1015 [00:00<01:09, 14.55it/s]"
     ]
    },
    {
     "name": "stdout",
     "output_type": "stream",
     "text": [
      "Epoch:   9 | Samples:      0/787 | RMSE Loss: 1.1434 | MSE Loss: 1.3074 | target: -4.5540 | pred: -3.4106\n"
     ]
    },
    {
     "name": "stderr",
     "output_type": "stream",
     "text": [
      "Division 4/5:   3%|██▋                                                                           | 35/1015 [00:02<01:19, 12.25it/s]"
     ]
    },
    {
     "name": "stdout",
     "output_type": "stream",
     "text": [
      "Epoch:   9 | Samples:     32/787 | RMSE Loss: 0.5259 | MSE Loss: 0.4535 | target: -3.8960 | pred: -5.3389\n"
     ]
    },
    {
     "name": "stderr",
     "output_type": "stream",
     "text": [
      "Division 4/5:   7%|█████▏                                                                        | 67/1015 [00:05<01:19, 11.94it/s]"
     ]
    },
    {
     "name": "stdout",
     "output_type": "stream",
     "text": [
      "Epoch:   9 | Samples:     64/787 | RMSE Loss: 0.4459 | MSE Loss: 0.3489 | target: -4.1000 | pred: -4.1872\n"
     ]
    },
    {
     "name": "stderr",
     "output_type": "stream",
     "text": [
      "Division 4/5:  10%|███████▌                                                                     | 100/1015 [00:07<01:08, 13.35it/s]"
     ]
    },
    {
     "name": "stdout",
     "output_type": "stream",
     "text": [
      "Epoch:   9 | Samples:     96/787 | RMSE Loss: 0.4818 | MSE Loss: 0.3919 | target: -1.3300 | pred: -1.2690\n"
     ]
    },
    {
     "name": "stderr",
     "output_type": "stream",
     "text": [
      "Division 4/5:  13%|█████████▉                                                                   | 131/1015 [00:10<01:10, 12.50it/s]"
     ]
    },
    {
     "name": "stdout",
     "output_type": "stream",
     "text": [
      "Epoch:   9 | Samples:    128/787 | RMSE Loss: 0.4558 | MSE Loss: 0.3548 | target: 0.0090 | pred: 0.4927\n"
     ]
    },
    {
     "name": "stderr",
     "output_type": "stream",
     "text": [
      "Division 4/5:  16%|████████████▎                                                                | 162/1015 [00:12<01:07, 12.72it/s]"
     ]
    },
    {
     "name": "stdout",
     "output_type": "stream",
     "text": [
      "Epoch:   9 | Samples:    160/787 | RMSE Loss: 0.4496 | MSE Loss: 0.3448 | target: -1.0900 | pred: -1.2649\n"
     ]
    },
    {
     "name": "stderr",
     "output_type": "stream",
     "text": [
      "Division 4/5:  19%|██████████████▊                                                              | 195/1015 [00:15<01:05, 12.51it/s]"
     ]
    },
    {
     "name": "stdout",
     "output_type": "stream",
     "text": [
      "Epoch:   9 | Samples:    192/787 | RMSE Loss: 0.4499 | MSE Loss: 0.3433 | target: -1.3700 | pred: -1.7446\n"
     ]
    },
    {
     "name": "stderr",
     "output_type": "stream",
     "text": [
      "Division 4/5:  22%|█████████████████▏                                                           | 226/1015 [00:18<00:59, 13.27it/s]"
     ]
    },
    {
     "name": "stdout",
     "output_type": "stream",
     "text": [
      "Epoch:   9 | Samples:    224/787 | RMSE Loss: 0.4554 | MSE Loss: 0.3474 | target: -2.0500 | pred: -1.9395\n"
     ]
    },
    {
     "name": "stderr",
     "output_type": "stream",
     "text": [
      "Division 4/5:  26%|███████████████████▋                                                         | 259/1015 [00:21<01:10, 10.73it/s]"
     ]
    },
    {
     "name": "stdout",
     "output_type": "stream",
     "text": [
      "Epoch:   9 | Samples:    256/787 | RMSE Loss: 0.4549 | MSE Loss: 0.3456 | target: -4.4200 | pred: -4.5384\n"
     ]
    },
    {
     "name": "stderr",
     "output_type": "stream",
     "text": [
      "Division 4/5:  29%|██████████████████████▏                                                      | 292/1015 [00:24<00:59, 12.12it/s]"
     ]
    },
    {
     "name": "stdout",
     "output_type": "stream",
     "text": [
      "Epoch:   9 | Samples:    288/787 | RMSE Loss: 0.4564 | MSE Loss: 0.3507 | target: -2.3690 | pred: -2.4062\n"
     ]
    },
    {
     "name": "stderr",
     "output_type": "stream",
     "text": [
      "Division 4/5:  32%|████████████████████████▌                                                    | 323/1015 [00:26<00:47, 14.51it/s]"
     ]
    },
    {
     "name": "stdout",
     "output_type": "stream",
     "text": [
      "Epoch:   9 | Samples:    320/787 | RMSE Loss: 0.4542 | MSE Loss: 0.3513 | target: -3.3500 | pred: -4.4768\n"
     ]
    },
    {
     "name": "stderr",
     "output_type": "stream",
     "text": [
      "Division 4/5:  35%|██████████████████████████▊                                                  | 353/1015 [00:29<01:10,  9.40it/s]"
     ]
    },
    {
     "name": "stdout",
     "output_type": "stream",
     "text": [
      "Epoch:   9 | Samples:    352/787 | RMSE Loss: 0.4611 | MSE Loss: 0.3608 | target: -2.1480 | pred: -1.9260\n"
     ]
    },
    {
     "name": "stderr",
     "output_type": "stream",
     "text": [
      "Division 4/5:  38%|█████████████████████████████▎                                               | 386/1015 [00:32<01:01, 10.28it/s]"
     ]
    },
    {
     "name": "stdout",
     "output_type": "stream",
     "text": [
      "Epoch:   9 | Samples:    384/787 | RMSE Loss: 0.4572 | MSE Loss: 0.3528 | target: -3.4990 | pred: -4.2285\n"
     ]
    },
    {
     "name": "stderr",
     "output_type": "stream",
     "text": [
      "Division 4/5:  41%|███████████████████████████████▋                                             | 418/1015 [00:35<00:40, 14.89it/s]"
     ]
    },
    {
     "name": "stdout",
     "output_type": "stream",
     "text": [
      "Epoch:   9 | Samples:    416/787 | RMSE Loss: 0.4499 | MSE Loss: 0.3438 | target: -1.6140 | pred: -2.0563\n"
     ]
    },
    {
     "name": "stderr",
     "output_type": "stream",
     "text": [
      "Division 4/5:  44%|██████████████████████████████████▏                                          | 451/1015 [00:38<00:41, 13.75it/s]"
     ]
    },
    {
     "name": "stdout",
     "output_type": "stream",
     "text": [
      "Epoch:   9 | Samples:    448/787 | RMSE Loss: 0.4512 | MSE Loss: 0.3423 | target: -4.5600 | pred: -4.3220\n"
     ]
    },
    {
     "name": "stderr",
     "output_type": "stream",
     "text": [
      "Division 4/5:  47%|████████████████████████████████████▎                                        | 479/1015 [00:40<00:46, 11.54it/s]"
     ]
    },
    {
     "name": "stdout",
     "output_type": "stream",
     "text": [
      "Epoch:   9 | Samples:    480/787 | RMSE Loss: 0.4514 | MSE Loss: 0.3406 | target: -2.5100 | pred: -1.6063\n"
     ]
    },
    {
     "name": "stderr",
     "output_type": "stream",
     "text": [
      "Division 4/5:  51%|███████████████████████████████████████                                      | 515/1015 [00:43<00:43, 11.51it/s]"
     ]
    },
    {
     "name": "stdout",
     "output_type": "stream",
     "text": [
      "Epoch:   9 | Samples:    512/787 | RMSE Loss: 0.4532 | MSE Loss: 0.3426 | target: -3.3600 | pred: -3.5174\n"
     ]
    },
    {
     "name": "stderr",
     "output_type": "stream",
     "text": [
      "Division 4/5:  54%|█████████████████████████████████████████▍                                   | 547/1015 [00:46<00:33, 13.77it/s]"
     ]
    },
    {
     "name": "stdout",
     "output_type": "stream",
     "text": [
      "Epoch:   9 | Samples:    544/787 | RMSE Loss: 0.4634 | MSE Loss: 0.3673 | target: -7.6800 | pred: -8.5964\n"
     ]
    },
    {
     "name": "stderr",
     "output_type": "stream",
     "text": [
      "Division 4/5:  57%|███████████████████████████████████████████▉                                 | 579/1015 [00:49<00:32, 13.24it/s]"
     ]
    },
    {
     "name": "stdout",
     "output_type": "stream",
     "text": [
      "Epoch:   9 | Samples:    576/787 | RMSE Loss: 0.4658 | MSE Loss: 0.3699 | target: -2.8200 | pred: -2.6571\n"
     ]
    },
    {
     "name": "stderr",
     "output_type": "stream",
     "text": [
      "Division 4/5:  60%|██████████████████████████████████████████████▎                              | 610/1015 [00:51<00:27, 14.92it/s]"
     ]
    },
    {
     "name": "stdout",
     "output_type": "stream",
     "text": [
      "Epoch:   9 | Samples:    608/787 | RMSE Loss: 0.4640 | MSE Loss: 0.3654 | target: -2.0300 | pred: -2.0023\n"
     ]
    },
    {
     "name": "stderr",
     "output_type": "stream",
     "text": [
      "Division 4/5:  64%|████████████████████████████████████████████████▉                            | 645/1015 [00:53<00:21, 17.05it/s]"
     ]
    },
    {
     "name": "stdout",
     "output_type": "stream",
     "text": [
      "Epoch:   9 | Samples:    640/787 | RMSE Loss: 0.4620 | MSE Loss: 0.3625 | target: -2.6800 | pred: -2.4946\n"
     ]
    },
    {
     "name": "stderr",
     "output_type": "stream",
     "text": [
      "Division 4/5:  67%|███████████████████████████████████████████████████▏                         | 675/1015 [00:56<00:26, 12.78it/s]"
     ]
    },
    {
     "name": "stdout",
     "output_type": "stream",
     "text": [
      "Epoch:   9 | Samples:    672/787 | RMSE Loss: 0.4577 | MSE Loss: 0.3550 | target: -3.9530 | pred: -4.1785\n"
     ]
    },
    {
     "name": "stderr",
     "output_type": "stream",
     "text": [
      "Division 4/5:  70%|█████████████████████████████████████████████████████▋                       | 708/1015 [00:58<00:22, 13.37it/s]"
     ]
    },
    {
     "name": "stdout",
     "output_type": "stream",
     "text": [
      "Epoch:   9 | Samples:    704/787 | RMSE Loss: 0.4512 | MSE Loss: 0.3481 | target: -3.0940 | pred: -2.6072\n"
     ]
    },
    {
     "name": "stderr",
     "output_type": "stream",
     "text": [
      "Division 4/5:  73%|████████████████████████████████████████████████████████                     | 739/1015 [01:00<00:21, 12.66it/s]"
     ]
    },
    {
     "name": "stdout",
     "output_type": "stream",
     "text": [
      "Epoch:   9 | Samples:    736/787 | RMSE Loss: 0.4511 | MSE Loss: 0.3490 | target: -4.9070 | pred: -4.0394\n"
     ]
    },
    {
     "name": "stderr",
     "output_type": "stream",
     "text": [
      "Division 4/5:  76%|██████████████████████████████████████████████████████████▍                  | 770/1015 [01:03<00:17, 13.92it/s]"
     ]
    },
    {
     "name": "stdout",
     "output_type": "stream",
     "text": [
      "Epoch:   9 | Samples:    768/787 | RMSE Loss: 0.4492 | MSE Loss: 0.3445 | target: -0.1400 | pred: -0.2685\n"
     ]
    },
    {
     "name": "stderr",
     "output_type": "stream",
     "text": [
      "Division 4/5:  78%|███████████████████████████████████████████████████████████▋                 | 787/1015 [01:04<00:18, 12.24it/s]\n",
      "Division 5/5:   0%|▏                                                                              | 3/1015 [00:00<01:09, 14.47it/s]"
     ]
    },
    {
     "name": "stdout",
     "output_type": "stream",
     "text": [
      "Epoch:   0 | Samples:      0/1016 | RMSE Loss: 4.4633 | MSE Loss: 19.9211 | target: -4.5540 | pred: -0.0907\n"
     ]
    },
    {
     "name": "stderr",
     "output_type": "stream",
     "text": [
      "Division 5/5:   3%|██▌                                                                           | 34/1015 [00:02<01:22, 11.89it/s]"
     ]
    },
    {
     "name": "stdout",
     "output_type": "stream",
     "text": [
      "Epoch:   0 | Samples:     32/1016 | RMSE Loss: 2.0824 | MSE Loss: 7.3155 | target: -3.8960 | pred: -2.1392\n"
     ]
    },
    {
     "name": "stderr",
     "output_type": "stream",
     "text": [
      "Division 5/5:   7%|█████                                                                         | 66/1015 [00:05<01:26, 10.96it/s]"
     ]
    },
    {
     "name": "stdout",
     "output_type": "stream",
     "text": [
      "Epoch:   0 | Samples:     64/1016 | RMSE Loss: 1.7763 | MSE Loss: 5.2149 | target: -4.1000 | pred: -3.2022\n"
     ]
    },
    {
     "name": "stderr",
     "output_type": "stream",
     "text": [
      "Division 5/5:  10%|███████▌                                                                     | 100/1015 [00:07<01:08, 13.45it/s]"
     ]
    },
    {
     "name": "stdout",
     "output_type": "stream",
     "text": [
      "Epoch:   0 | Samples:     96/1016 | RMSE Loss: 1.6315 | MSE Loss: 4.4839 | target: -1.3300 | pred: -2.1948\n"
     ]
    },
    {
     "name": "stderr",
     "output_type": "stream",
     "text": [
      "Division 5/5:  13%|█████████▉                                                                   | 131/1015 [00:10<01:11, 12.43it/s]"
     ]
    },
    {
     "name": "stdout",
     "output_type": "stream",
     "text": [
      "Epoch:   0 | Samples:    128/1016 | RMSE Loss: 1.4821 | MSE Loss: 3.7673 | target: 0.0090 | pred: -2.3056\n"
     ]
    },
    {
     "name": "stderr",
     "output_type": "stream",
     "text": [
      "Division 5/5:  16%|████████████▎                                                                | 162/1015 [00:12<01:07, 12.67it/s]"
     ]
    },
    {
     "name": "stdout",
     "output_type": "stream",
     "text": [
      "Epoch:   0 | Samples:    160/1016 | RMSE Loss: 1.4764 | MSE Loss: 3.6929 | target: -1.0900 | pred: -2.3393\n"
     ]
    },
    {
     "name": "stderr",
     "output_type": "stream",
     "text": [
      "Division 5/5:  19%|██████████████▊                                                              | 195/1015 [00:15<01:06, 12.39it/s]"
     ]
    },
    {
     "name": "stdout",
     "output_type": "stream",
     "text": [
      "Epoch:   0 | Samples:    192/1016 | RMSE Loss: 1.4542 | MSE Loss: 3.6150 | target: -1.3700 | pred: -2.0802\n"
     ]
    },
    {
     "name": "stderr",
     "output_type": "stream",
     "text": [
      "Division 5/5:  22%|█████████████████▏                                                           | 226/1015 [00:18<00:58, 13.46it/s]"
     ]
    },
    {
     "name": "stdout",
     "output_type": "stream",
     "text": [
      "Epoch:   0 | Samples:    224/1016 | RMSE Loss: 1.4328 | MSE Loss: 3.5901 | target: -2.0500 | pred: -2.3621\n"
     ]
    },
    {
     "name": "stderr",
     "output_type": "stream",
     "text": [
      "Division 5/5:  25%|███████████████████▍                                                         | 257/1015 [00:21<01:08, 11.08it/s]"
     ]
    },
    {
     "name": "stdout",
     "output_type": "stream",
     "text": [
      "Epoch:   0 | Samples:    256/1016 | RMSE Loss: 1.4360 | MSE Loss: 3.5170 | target: -4.4200 | pred: -5.5565\n"
     ]
    },
    {
     "name": "stderr",
     "output_type": "stream",
     "text": [
      "Division 5/5:  29%|██████████████████████▏                                                      | 292/1015 [00:24<00:59, 12.17it/s]"
     ]
    },
    {
     "name": "stdout",
     "output_type": "stream",
     "text": [
      "Epoch:   0 | Samples:    288/1016 | RMSE Loss: 1.4236 | MSE Loss: 3.4500 | target: -2.3690 | pred: -2.1017\n"
     ]
    },
    {
     "name": "stderr",
     "output_type": "stream",
     "text": [
      "Division 5/5:  32%|████████████████████████▌                                                    | 323/1015 [00:26<00:47, 14.45it/s]"
     ]
    },
    {
     "name": "stdout",
     "output_type": "stream",
     "text": [
      "Epoch:   0 | Samples:    320/1016 | RMSE Loss: 1.3724 | MSE Loss: 3.2770 | target: -3.3500 | pred: -3.7934\n"
     ]
    },
    {
     "name": "stderr",
     "output_type": "stream",
     "text": [
      "Division 5/5:  35%|██████████████████████████▊                                                  | 353/1015 [00:29<01:10,  9.38it/s]"
     ]
    },
    {
     "name": "stdout",
     "output_type": "stream",
     "text": [
      "Epoch:   0 | Samples:    352/1016 | RMSE Loss: 1.3205 | MSE Loss: 3.0975 | target: -2.1480 | pred: -1.6891\n"
     ]
    },
    {
     "name": "stderr",
     "output_type": "stream",
     "text": [
      "Division 5/5:  38%|█████████████████████████████▎                                               | 386/1015 [00:32<00:58, 10.81it/s]"
     ]
    },
    {
     "name": "stdout",
     "output_type": "stream",
     "text": [
      "Epoch:   0 | Samples:    384/1016 | RMSE Loss: 1.2984 | MSE Loss: 2.9827 | target: -3.4990 | pred: -4.8705\n"
     ]
    },
    {
     "name": "stderr",
     "output_type": "stream",
     "text": [
      "Division 5/5:  41%|███████████████████████████████▋                                             | 418/1015 [00:34<00:40, 14.85it/s]"
     ]
    },
    {
     "name": "stdout",
     "output_type": "stream",
     "text": [
      "Epoch:   0 | Samples:    416/1016 | RMSE Loss: 1.2744 | MSE Loss: 2.8766 | target: -1.6140 | pred: -1.6475\n"
     ]
    },
    {
     "name": "stderr",
     "output_type": "stream",
     "text": [
      "Division 5/5:  44%|██████████████████████████████████▏                                          | 451/1015 [00:38<00:41, 13.75it/s]"
     ]
    },
    {
     "name": "stdout",
     "output_type": "stream",
     "text": [
      "Epoch:   0 | Samples:    448/1016 | RMSE Loss: 1.2597 | MSE Loss: 2.8193 | target: -4.5600 | pred: -4.2123\n"
     ]
    },
    {
     "name": "stderr",
     "output_type": "stream",
     "text": [
      "Division 5/5:  47%|████████████████████████████████████▎                                        | 479/1015 [00:40<00:46, 11.61it/s]"
     ]
    },
    {
     "name": "stdout",
     "output_type": "stream",
     "text": [
      "Epoch:   0 | Samples:    480/1016 | RMSE Loss: 1.2460 | MSE Loss: 2.7437 | target: -2.5100 | pred: -2.5313\n"
     ]
    },
    {
     "name": "stderr",
     "output_type": "stream",
     "text": [
      "Division 5/5:  51%|███████████████████████████████████████                                      | 515/1015 [00:43<00:43, 11.61it/s]"
     ]
    },
    {
     "name": "stdout",
     "output_type": "stream",
     "text": [
      "Epoch:   0 | Samples:    512/1016 | RMSE Loss: 1.2274 | MSE Loss: 2.6488 | target: -3.3600 | pred: -2.5353\n"
     ]
    },
    {
     "name": "stderr",
     "output_type": "stream",
     "text": [
      "Division 5/5:  54%|█████████████████████████████████████████▍                                   | 547/1015 [00:45<00:33, 14.00it/s]"
     ]
    },
    {
     "name": "stdout",
     "output_type": "stream",
     "text": [
      "Epoch:   0 | Samples:    544/1016 | RMSE Loss: 1.2194 | MSE Loss: 2.6278 | target: -7.6800 | pred: -6.0334\n"
     ]
    },
    {
     "name": "stderr",
     "output_type": "stream",
     "text": [
      "Division 5/5:  57%|███████████████████████████████████████████▉                                 | 579/1015 [00:48<00:32, 13.48it/s]"
     ]
    },
    {
     "name": "stdout",
     "output_type": "stream",
     "text": [
      "Epoch:   0 | Samples:    576/1016 | RMSE Loss: 1.2009 | MSE Loss: 2.5419 | target: -2.8200 | pred: -2.5863\n"
     ]
    },
    {
     "name": "stderr",
     "output_type": "stream",
     "text": [
      "Division 5/5:  60%|██████████████████████████████████████████████▎                              | 610/1015 [00:50<00:26, 15.02it/s]"
     ]
    },
    {
     "name": "stdout",
     "output_type": "stream",
     "text": [
      "Epoch:   0 | Samples:    608/1016 | RMSE Loss: 1.1942 | MSE Loss: 2.5059 | target: -2.0300 | pred: -2.2924\n"
     ]
    },
    {
     "name": "stderr",
     "output_type": "stream",
     "text": [
      "Division 5/5:  63%|████████████████████████████████████████████████▊                            | 643/1015 [00:53<00:21, 17.47it/s]"
     ]
    },
    {
     "name": "stdout",
     "output_type": "stream",
     "text": [
      "Epoch:   0 | Samples:    640/1016 | RMSE Loss: 1.1775 | MSE Loss: 2.4394 | target: -2.6800 | pred: -1.7724\n"
     ]
    },
    {
     "name": "stderr",
     "output_type": "stream",
     "text": [
      "Division 5/5:  66%|███████████████████████████████████████████████████▏                         | 674/1015 [00:55<00:26, 12.75it/s]"
     ]
    },
    {
     "name": "stdout",
     "output_type": "stream",
     "text": [
      "Epoch:   0 | Samples:    672/1016 | RMSE Loss: 1.1559 | MSE Loss: 2.3631 | target: -3.9530 | pred: -4.1821\n"
     ]
    },
    {
     "name": "stderr",
     "output_type": "stream",
     "text": [
      "Division 5/5:  70%|█████████████████████████████████████████████████████▋                       | 708/1015 [00:57<00:22, 13.66it/s]"
     ]
    },
    {
     "name": "stdout",
     "output_type": "stream",
     "text": [
      "Epoch:   0 | Samples:    704/1016 | RMSE Loss: 1.1363 | MSE Loss: 2.2892 | target: -3.0940 | pred: -3.2425\n"
     ]
    },
    {
     "name": "stderr",
     "output_type": "stream",
     "text": [
      "Division 5/5:  73%|████████████████████████████████████████████████████████                     | 739/1015 [01:00<00:21, 12.59it/s]"
     ]
    },
    {
     "name": "stdout",
     "output_type": "stream",
     "text": [
      "Epoch:   0 | Samples:    736/1016 | RMSE Loss: 1.1218 | MSE Loss: 2.2383 | target: -4.9070 | pred: -3.9948\n"
     ]
    },
    {
     "name": "stderr",
     "output_type": "stream",
     "text": [
      "Division 5/5:  76%|██████████████████████████████████████████████████████████▍                  | 770/1015 [01:02<00:17, 14.15it/s]"
     ]
    },
    {
     "name": "stdout",
     "output_type": "stream",
     "text": [
      "Epoch:   0 | Samples:    768/1016 | RMSE Loss: 1.1066 | MSE Loss: 2.1850 | target: -0.1400 | pred: -1.0153\n"
     ]
    },
    {
     "name": "stderr",
     "output_type": "stream",
     "text": [
      "Division 5/5:  79%|████████████████████████████████████████████████████████████▊                | 801/1015 [01:04<00:18, 11.74it/s]"
     ]
    },
    {
     "name": "stdout",
     "output_type": "stream",
     "text": [
      "Epoch:   0 | Samples:    800/1016 | RMSE Loss: 1.0941 | MSE Loss: 2.1468 | target: -3.7000 | pred: -4.4248\n"
     ]
    },
    {
     "name": "stderr",
     "output_type": "stream",
     "text": [
      "Division 5/5:  82%|███████████████████████████████████████████████████████████████▍             | 836/1015 [01:07<00:13, 13.50it/s]"
     ]
    },
    {
     "name": "stdout",
     "output_type": "stream",
     "text": [
      "Epoch:   0 | Samples:    832/1016 | RMSE Loss: 1.0825 | MSE Loss: 2.1031 | target: -4.0800 | pred: -4.3653\n"
     ]
    },
    {
     "name": "stderr",
     "output_type": "stream",
     "text": [
      "Division 5/5:  85%|█████████████████████████████████████████████████████████████████▊           | 867/1015 [01:10<00:09, 14.88it/s]"
     ]
    },
    {
     "name": "stdout",
     "output_type": "stream",
     "text": [
      "Epoch:   0 | Samples:    864/1016 | RMSE Loss: 1.0710 | MSE Loss: 2.0704 | target: 0.3600 | pred: -1.6587\n"
     ]
    },
    {
     "name": "stderr",
     "output_type": "stream",
     "text": [
      "Division 5/5:  89%|████████████████████████████████████████████████████████████████████▏        | 899/1015 [01:13<00:08, 13.44it/s]"
     ]
    },
    {
     "name": "stdout",
     "output_type": "stream",
     "text": [
      "Epoch:   0 | Samples:    896/1016 | RMSE Loss: 1.0592 | MSE Loss: 2.0241 | target: -7.2100 | pred: -6.6562\n"
     ]
    },
    {
     "name": "stderr",
     "output_type": "stream",
     "text": [
      "Division 5/5:  92%|██████████████████████████████████████████████████████████████████████▌      | 930/1015 [01:16<00:09,  9.13it/s]"
     ]
    },
    {
     "name": "stdout",
     "output_type": "stream",
     "text": [
      "Epoch:   0 | Samples:    928/1016 | RMSE Loss: 1.0452 | MSE Loss: 1.9774 | target: -0.8500 | pred: -1.8043\n"
     ]
    },
    {
     "name": "stderr",
     "output_type": "stream",
     "text": [
      "Division 5/5:  95%|█████████████████████████████████████████████████████████████████████████    | 963/1015 [01:18<00:04, 10.68it/s]"
     ]
    },
    {
     "name": "stdout",
     "output_type": "stream",
     "text": [
      "Epoch:   0 | Samples:    960/1016 | RMSE Loss: 1.0332 | MSE Loss: 1.9391 | target: -1.8000 | pred: -3.0799\n"
     ]
    },
    {
     "name": "stderr",
     "output_type": "stream",
     "text": [
      "Division 5/5:  98%|███████████████████████████████████████████████████████████████████████████▍ | 995/1015 [01:21<00:01, 10.72it/s]"
     ]
    },
    {
     "name": "stdout",
     "output_type": "stream",
     "text": [
      "Epoch:   0 | Samples:    992/1016 | RMSE Loss: 1.0179 | MSE Loss: 1.8911 | target: -2.4600 | pred: -1.9035\n"
     ]
    },
    {
     "name": "stderr",
     "output_type": "stream",
     "text": [
      "Division 5/5: 100%|████████████████████████████████████████████████████████████████████████████| 1015/1015 [01:23<00:00, 12.19it/s]\n",
      "Division 5/5:   0%|▏                                                                              | 3/1015 [00:00<01:11, 14.12it/s]"
     ]
    },
    {
     "name": "stdout",
     "output_type": "stream",
     "text": [
      "Epoch:   1 | Samples:      0/1016 | RMSE Loss: 1.0466 | MSE Loss: 1.0954 | target: -4.5540 | pred: -3.5074\n"
     ]
    },
    {
     "name": "stderr",
     "output_type": "stream",
     "text": [
      "Division 5/5:   3%|██▌                                                                           | 34/1015 [00:02<01:22, 11.96it/s]"
     ]
    },
    {
     "name": "stdout",
     "output_type": "stream",
     "text": [
      "Epoch:   1 | Samples:     32/1016 | RMSE Loss: 0.8594 | MSE Loss: 1.1956 | target: -3.8960 | pred: -4.8927\n"
     ]
    },
    {
     "name": "stderr",
     "output_type": "stream",
     "text": [
      "Division 5/5:   7%|█████▏                                                                        | 67/1015 [00:05<01:18, 12.11it/s]"
     ]
    },
    {
     "name": "stdout",
     "output_type": "stream",
     "text": [
      "Epoch:   1 | Samples:     64/1016 | RMSE Loss: 0.8066 | MSE Loss: 1.0413 | target: -4.1000 | pred: -3.9500\n"
     ]
    },
    {
     "name": "stderr",
     "output_type": "stream",
     "text": [
      "Division 5/5:  10%|███████▌                                                                     | 100/1015 [00:07<01:11, 12.77it/s]"
     ]
    },
    {
     "name": "stdout",
     "output_type": "stream",
     "text": [
      "Epoch:   1 | Samples:     96/1016 | RMSE Loss: 0.7735 | MSE Loss: 0.9549 | target: -1.3300 | pred: -1.7117\n"
     ]
    },
    {
     "name": "stderr",
     "output_type": "stream",
     "text": [
      "Division 5/5:  13%|█████████▉                                                                   | 131/1015 [00:10<01:11, 12.40it/s]"
     ]
    },
    {
     "name": "stdout",
     "output_type": "stream",
     "text": [
      "Epoch:   1 | Samples:    128/1016 | RMSE Loss: 0.7270 | MSE Loss: 0.8630 | target: 0.0090 | pred: -0.5881\n"
     ]
    },
    {
     "name": "stderr",
     "output_type": "stream",
     "text": [
      "Division 5/5:  16%|████████████▎                                                                | 162/1015 [00:12<01:06, 12.84it/s]"
     ]
    },
    {
     "name": "stdout",
     "output_type": "stream",
     "text": [
      "Epoch:   1 | Samples:    160/1016 | RMSE Loss: 0.7283 | MSE Loss: 0.8475 | target: -1.0900 | pred: -1.6650\n"
     ]
    },
    {
     "name": "stderr",
     "output_type": "stream",
     "text": [
      "Division 5/5:  19%|██████████████▊                                                              | 195/1015 [00:15<01:06, 12.41it/s]"
     ]
    },
    {
     "name": "stdout",
     "output_type": "stream",
     "text": [
      "Epoch:   1 | Samples:    192/1016 | RMSE Loss: 0.7493 | MSE Loss: 0.9422 | target: -1.3700 | pred: -2.1134\n"
     ]
    },
    {
     "name": "stderr",
     "output_type": "stream",
     "text": [
      "Division 5/5:  22%|█████████████████                                                            | 225/1015 [00:18<00:59, 13.26it/s]"
     ]
    },
    {
     "name": "stdout",
     "output_type": "stream",
     "text": [
      "Epoch:   1 | Samples:    224/1016 | RMSE Loss: 0.7393 | MSE Loss: 0.9132 | target: -2.0500 | pred: -2.0209\n"
     ]
    },
    {
     "name": "stderr",
     "output_type": "stream",
     "text": [
      "Division 5/5:  25%|███████████████████▍                                                         | 257/1015 [00:21<01:09, 10.99it/s]"
     ]
    },
    {
     "name": "stdout",
     "output_type": "stream",
     "text": [
      "Epoch:   1 | Samples:    256/1016 | RMSE Loss: 0.7357 | MSE Loss: 0.8933 | target: -4.4200 | pred: -4.9591\n"
     ]
    },
    {
     "name": "stderr",
     "output_type": "stream",
     "text": [
      "Division 5/5:  29%|██████████████████████▏                                                      | 292/1015 [00:24<00:59, 12.19it/s]"
     ]
    },
    {
     "name": "stdout",
     "output_type": "stream",
     "text": [
      "Epoch:   1 | Samples:    288/1016 | RMSE Loss: 0.7523 | MSE Loss: 0.9223 | target: -2.3690 | pred: -2.5408\n"
     ]
    },
    {
     "name": "stderr",
     "output_type": "stream",
     "text": [
      "Division 5/5:  32%|████████████████████████▌                                                    | 323/1015 [00:26<00:47, 14.62it/s]"
     ]
    },
    {
     "name": "stdout",
     "output_type": "stream",
     "text": [
      "Epoch:   1 | Samples:    320/1016 | RMSE Loss: 0.7458 | MSE Loss: 0.9055 | target: -3.3500 | pred: -4.1431\n"
     ]
    },
    {
     "name": "stderr",
     "output_type": "stream",
     "text": [
      "Division 5/5:  35%|██████████████████████████▊                                                  | 353/1015 [00:29<01:11,  9.32it/s]"
     ]
    },
    {
     "name": "stdout",
     "output_type": "stream",
     "text": [
      "Epoch:   1 | Samples:    352/1016 | RMSE Loss: 0.7538 | MSE Loss: 0.9369 | target: -2.1480 | pred: -1.4727\n"
     ]
    },
    {
     "name": "stderr",
     "output_type": "stream",
     "text": [
      "Division 5/5:  38%|█████████████████████████████▎                                               | 386/1015 [00:32<00:57, 10.93it/s]"
     ]
    },
    {
     "name": "stdout",
     "output_type": "stream",
     "text": [
      "Epoch:   1 | Samples:    384/1016 | RMSE Loss: 0.7561 | MSE Loss: 0.9385 | target: -3.4990 | pred: -5.3497\n"
     ]
    },
    {
     "name": "stderr",
     "output_type": "stream",
     "text": [
      "Division 5/5:  41%|███████████████████████████████▋                                             | 418/1015 [00:35<00:40, 14.68it/s]"
     ]
    },
    {
     "name": "stdout",
     "output_type": "stream",
     "text": [
      "Epoch:   1 | Samples:    416/1016 | RMSE Loss: 0.7481 | MSE Loss: 0.9267 | target: -1.6140 | pred: -2.1082\n"
     ]
    },
    {
     "name": "stderr",
     "output_type": "stream",
     "text": [
      "Division 5/5:  44%|██████████████████████████████████▏                                          | 451/1015 [00:38<00:40, 13.84it/s]"
     ]
    },
    {
     "name": "stdout",
     "output_type": "stream",
     "text": [
      "Epoch:   1 | Samples:    448/1016 | RMSE Loss: 0.7438 | MSE Loss: 0.9127 | target: -4.5600 | pred: -4.0201\n"
     ]
    },
    {
     "name": "stderr",
     "output_type": "stream",
     "text": [
      "Division 5/5:  47%|████████████████████████████████████▎                                        | 479/1015 [00:40<00:46, 11.61it/s]"
     ]
    },
    {
     "name": "stdout",
     "output_type": "stream",
     "text": [
      "Epoch:   1 | Samples:    480/1016 | RMSE Loss: 0.7455 | MSE Loss: 0.9102 | target: -2.5100 | pred: -1.8544\n"
     ]
    },
    {
     "name": "stderr",
     "output_type": "stream",
     "text": [
      "Division 5/5:  51%|███████████████████████████████████████                                      | 515/1015 [00:43<00:43, 11.44it/s]"
     ]
    },
    {
     "name": "stdout",
     "output_type": "stream",
     "text": [
      "Epoch:   1 | Samples:    512/1016 | RMSE Loss: 0.7445 | MSE Loss: 0.9006 | target: -3.3600 | pred: -2.0460\n"
     ]
    },
    {
     "name": "stderr",
     "output_type": "stream",
     "text": [
      "Division 5/5:  54%|█████████████████████████████████████████▍                                   | 547/1015 [00:45<00:33, 13.94it/s]"
     ]
    },
    {
     "name": "stdout",
     "output_type": "stream",
     "text": [
      "Epoch:   1 | Samples:    544/1016 | RMSE Loss: 0.7554 | MSE Loss: 0.9390 | target: -7.6800 | pred: -7.2200\n"
     ]
    },
    {
     "name": "stderr",
     "output_type": "stream",
     "text": [
      "Division 5/5:  57%|███████████████████████████████████████████▉                                 | 579/1015 [00:48<00:32, 13.48it/s]"
     ]
    },
    {
     "name": "stdout",
     "output_type": "stream",
     "text": [
      "Epoch:   1 | Samples:    576/1016 | RMSE Loss: 0.7544 | MSE Loss: 0.9326 | target: -2.8200 | pred: -2.7413\n"
     ]
    },
    {
     "name": "stderr",
     "output_type": "stream",
     "text": [
      "Division 5/5:  60%|██████████████████████████████████████████████▎                              | 610/1015 [00:51<00:26, 15.00it/s]"
     ]
    },
    {
     "name": "stdout",
     "output_type": "stream",
     "text": [
      "Epoch:   1 | Samples:    608/1016 | RMSE Loss: 0.7562 | MSE Loss: 0.9354 | target: -2.0300 | pred: -2.1089\n"
     ]
    },
    {
     "name": "stderr",
     "output_type": "stream",
     "text": [
      "Division 5/5:  63%|████████████████████████████████████████████████▊                            | 643/1015 [00:53<00:21, 17.48it/s]"
     ]
    },
    {
     "name": "stdout",
     "output_type": "stream",
     "text": [
      "Epoch:   1 | Samples:    640/1016 | RMSE Loss: 0.7501 | MSE Loss: 0.9233 | target: -2.6800 | pred: -1.9948\n"
     ]
    },
    {
     "name": "stderr",
     "output_type": "stream",
     "text": [
      "Division 5/5:  66%|███████████████████████████████████████████████████▏                         | 674/1015 [00:55<00:26, 12.66it/s]"
     ]
    },
    {
     "name": "stdout",
     "output_type": "stream",
     "text": [
      "Epoch:   1 | Samples:    672/1016 | RMSE Loss: 0.7419 | MSE Loss: 0.9040 | target: -3.9530 | pred: -4.4264\n"
     ]
    },
    {
     "name": "stderr",
     "output_type": "stream",
     "text": [
      "Division 5/5:  70%|█████████████████████████████████████████████████████▋                       | 708/1015 [00:58<00:22, 13.52it/s]"
     ]
    },
    {
     "name": "stdout",
     "output_type": "stream",
     "text": [
      "Epoch:   1 | Samples:    704/1016 | RMSE Loss: 0.7325 | MSE Loss: 0.8867 | target: -3.0940 | pred: -3.3260\n"
     ]
    },
    {
     "name": "stderr",
     "output_type": "stream",
     "text": [
      "Division 5/5:  73%|████████████████████████████████████████████████████████                     | 739/1015 [01:00<00:21, 13.14it/s]"
     ]
    },
    {
     "name": "stdout",
     "output_type": "stream",
     "text": [
      "Epoch:   1 | Samples:    736/1016 | RMSE Loss: 0.7291 | MSE Loss: 0.8823 | target: -4.9070 | pred: -4.2112\n"
     ]
    },
    {
     "name": "stderr",
     "output_type": "stream",
     "text": [
      "Division 5/5:  76%|██████████████████████████████████████████████████████████▍                  | 770/1015 [01:02<00:17, 14.05it/s]"
     ]
    },
    {
     "name": "stdout",
     "output_type": "stream",
     "text": [
      "Epoch:   1 | Samples:    768/1016 | RMSE Loss: 0.7235 | MSE Loss: 0.8691 | target: -0.1400 | pred: -0.5722\n"
     ]
    },
    {
     "name": "stderr",
     "output_type": "stream",
     "text": [
      "Division 5/5:  79%|████████████████████████████████████████████████████████████▊                | 801/1015 [01:05<00:18, 11.83it/s]"
     ]
    },
    {
     "name": "stdout",
     "output_type": "stream",
     "text": [
      "Epoch:   1 | Samples:    800/1016 | RMSE Loss: 0.7225 | MSE Loss: 0.8715 | target: -3.7000 | pred: -4.6236\n"
     ]
    },
    {
     "name": "stderr",
     "output_type": "stream",
     "text": [
      "Division 5/5:  82%|███████████████████████████████████████████████████████████████▍             | 836/1015 [01:08<00:13, 13.56it/s]"
     ]
    },
    {
     "name": "stdout",
     "output_type": "stream",
     "text": [
      "Epoch:   1 | Samples:    832/1016 | RMSE Loss: 0.7196 | MSE Loss: 0.8636 | target: -4.0800 | pred: -4.5124\n"
     ]
    },
    {
     "name": "stderr",
     "output_type": "stream",
     "text": [
      "Division 5/5:  85%|█████████████████████████████████████████████████████████████████▋           | 866/1015 [01:10<00:10, 14.06it/s]"
     ]
    },
    {
     "name": "stdout",
     "output_type": "stream",
     "text": [
      "Epoch:   1 | Samples:    864/1016 | RMSE Loss: 0.7174 | MSE Loss: 0.8658 | target: 0.3600 | pred: -1.2136\n"
     ]
    },
    {
     "name": "stderr",
     "output_type": "stream",
     "text": [
      "Division 5/5:  89%|████████████████████████████████████████████████████████████████████▏        | 899/1015 [01:13<00:08, 13.31it/s]"
     ]
    },
    {
     "name": "stdout",
     "output_type": "stream",
     "text": [
      "Epoch:   1 | Samples:    896/1016 | RMSE Loss: 0.7128 | MSE Loss: 0.8549 | target: -7.2100 | pred: -6.9606\n"
     ]
    },
    {
     "name": "stderr",
     "output_type": "stream",
     "text": [
      "Division 5/5:  92%|██████████████████████████████████████████████████████████████████████▌      | 930/1015 [01:16<00:09,  9.25it/s]"
     ]
    },
    {
     "name": "stdout",
     "output_type": "stream",
     "text": [
      "Epoch:   1 | Samples:    928/1016 | RMSE Loss: 0.7094 | MSE Loss: 0.8450 | target: -0.8500 | pred: -1.9040\n"
     ]
    },
    {
     "name": "stderr",
     "output_type": "stream",
     "text": [
      "Division 5/5:  95%|█████████████████████████████████████████████████████████████████████████    | 963/1015 [01:18<00:04, 10.74it/s]"
     ]
    },
    {
     "name": "stdout",
     "output_type": "stream",
     "text": [
      "Epoch:   1 | Samples:    960/1016 | RMSE Loss: 0.7055 | MSE Loss: 0.8368 | target: -1.8000 | pred: -2.7027\n"
     ]
    },
    {
     "name": "stderr",
     "output_type": "stream",
     "text": [
      "Division 5/5:  98%|███████████████████████████████████████████████████████████████████████████▍ | 995/1015 [01:21<00:01, 10.68it/s]"
     ]
    },
    {
     "name": "stdout",
     "output_type": "stream",
     "text": [
      "Epoch:   1 | Samples:    992/1016 | RMSE Loss: 0.6989 | MSE Loss: 0.8220 | target: -2.4600 | pred: -2.0239\n"
     ]
    },
    {
     "name": "stderr",
     "output_type": "stream",
     "text": [
      "Division 5/5: 100%|████████████████████████████████████████████████████████████████████████████| 1015/1015 [01:23<00:00, 12.17it/s]\n",
      "Division 5/5:   0%|▏                                                                              | 3/1015 [00:00<01:12, 13.92it/s]"
     ]
    },
    {
     "name": "stdout",
     "output_type": "stream",
     "text": [
      "Epoch:   2 | Samples:      0/1016 | RMSE Loss: 0.8876 | MSE Loss: 0.7878 | target: -4.5540 | pred: -3.6664\n"
     ]
    },
    {
     "name": "stderr",
     "output_type": "stream",
     "text": [
      "Division 5/5:   3%|██▌                                                                           | 34/1015 [00:02<01:20, 12.25it/s]"
     ]
    },
    {
     "name": "stdout",
     "output_type": "stream",
     "text": [
      "Epoch:   2 | Samples:     32/1016 | RMSE Loss: 0.7680 | MSE Loss: 0.8698 | target: -3.8960 | pred: -5.2032\n"
     ]
    },
    {
     "name": "stderr",
     "output_type": "stream",
     "text": [
      "Division 5/5:   7%|█████▏                                                                        | 67/1015 [00:05<01:18, 12.00it/s]"
     ]
    },
    {
     "name": "stdout",
     "output_type": "stream",
     "text": [
      "Epoch:   2 | Samples:     64/1016 | RMSE Loss: 0.6946 | MSE Loss: 0.7503 | target: -4.1000 | pred: -4.2744\n"
     ]
    },
    {
     "name": "stderr",
     "output_type": "stream",
     "text": [
      "Division 5/5:  10%|███████▌                                                                      | 98/1015 [00:07<01:11, 12.81it/s]"
     ]
    },
    {
     "name": "stdout",
     "output_type": "stream",
     "text": [
      "Epoch:   2 | Samples:     96/1016 | RMSE Loss: 0.6929 | MSE Loss: 0.7475 | target: -1.3300 | pred: -1.2631\n"
     ]
    },
    {
     "name": "stderr",
     "output_type": "stream",
     "text": [
      "Division 5/5:  13%|█████████▉                                                                   | 131/1015 [00:10<01:10, 12.50it/s]"
     ]
    },
    {
     "name": "stdout",
     "output_type": "stream",
     "text": [
      "Epoch:   2 | Samples:    128/1016 | RMSE Loss: 0.6502 | MSE Loss: 0.6581 | target: 0.0090 | pred: -0.2234\n"
     ]
    },
    {
     "name": "stderr",
     "output_type": "stream",
     "text": [
      "Division 5/5:  16%|████████████▎                                                                | 162/1015 [00:12<01:07, 12.64it/s]"
     ]
    },
    {
     "name": "stdout",
     "output_type": "stream",
     "text": [
      "Epoch:   2 | Samples:    160/1016 | RMSE Loss: 0.6411 | MSE Loss: 0.6406 | target: -1.0900 | pred: -1.5977\n"
     ]
    },
    {
     "name": "stderr",
     "output_type": "stream",
     "text": [
      "Division 5/5:  19%|██████████████▊                                                              | 195/1015 [00:15<01:05, 12.48it/s]"
     ]
    },
    {
     "name": "stdout",
     "output_type": "stream",
     "text": [
      "Epoch:   2 | Samples:    192/1016 | RMSE Loss: 0.6545 | MSE Loss: 0.6928 | target: -1.3700 | pred: -2.0019\n"
     ]
    },
    {
     "name": "stderr",
     "output_type": "stream",
     "text": [
      "Division 5/5:  22%|█████████████████▏                                                           | 226/1015 [00:18<00:58, 13.48it/s]"
     ]
    },
    {
     "name": "stdout",
     "output_type": "stream",
     "text": [
      "Epoch:   2 | Samples:    224/1016 | RMSE Loss: 0.6505 | MSE Loss: 0.6883 | target: -2.0500 | pred: -2.0326\n"
     ]
    },
    {
     "name": "stderr",
     "output_type": "stream",
     "text": [
      "Division 5/5:  25%|███████████████████▍                                                         | 257/1015 [00:21<01:07, 11.16it/s]"
     ]
    },
    {
     "name": "stdout",
     "output_type": "stream",
     "text": [
      "Epoch:   2 | Samples:    256/1016 | RMSE Loss: 0.6454 | MSE Loss: 0.6739 | target: -4.4200 | pred: -4.8456\n"
     ]
    },
    {
     "name": "stderr",
     "output_type": "stream",
     "text": [
      "Division 5/5:  29%|██████████████████████▏                                                      | 292/1015 [00:24<01:00, 12.00it/s]"
     ]
    },
    {
     "name": "stdout",
     "output_type": "stream",
     "text": [
      "Epoch:   2 | Samples:    288/1016 | RMSE Loss: 0.6580 | MSE Loss: 0.6950 | target: -2.3690 | pred: -2.7193\n"
     ]
    },
    {
     "name": "stderr",
     "output_type": "stream",
     "text": [
      "Division 5/5:  32%|████████████████████████▌                                                    | 323/1015 [00:26<00:47, 14.61it/s]"
     ]
    },
    {
     "name": "stdout",
     "output_type": "stream",
     "text": [
      "Epoch:   2 | Samples:    320/1016 | RMSE Loss: 0.6563 | MSE Loss: 0.6966 | target: -3.3500 | pred: -4.1934\n"
     ]
    },
    {
     "name": "stderr",
     "output_type": "stream",
     "text": [
      "Division 5/5:  35%|██████████████████████████▊                                                  | 353/1015 [00:29<01:10,  9.39it/s]"
     ]
    },
    {
     "name": "stdout",
     "output_type": "stream",
     "text": [
      "Epoch:   2 | Samples:    352/1016 | RMSE Loss: 0.6695 | MSE Loss: 0.7336 | target: -2.1480 | pred: -1.5228\n"
     ]
    },
    {
     "name": "stderr",
     "output_type": "stream",
     "text": [
      "Division 5/5:  38%|█████████████████████████████▎                                               | 386/1015 [00:32<00:57, 10.94it/s]"
     ]
    },
    {
     "name": "stdout",
     "output_type": "stream",
     "text": [
      "Epoch:   2 | Samples:    384/1016 | RMSE Loss: 0.6689 | MSE Loss: 0.7268 | target: -3.4990 | pred: -5.1484\n"
     ]
    },
    {
     "name": "stderr",
     "output_type": "stream",
     "text": [
      "Division 5/5:  41%|███████████████████████████████▋                                             | 418/1015 [00:35<00:40, 14.80it/s]"
     ]
    },
    {
     "name": "stdout",
     "output_type": "stream",
     "text": [
      "Epoch:   2 | Samples:    416/1016 | RMSE Loss: 0.6597 | MSE Loss: 0.7130 | target: -1.6140 | pred: -2.2845\n"
     ]
    },
    {
     "name": "stderr",
     "output_type": "stream",
     "text": [
      "Division 5/5:  44%|██████████████████████████████████▏                                          | 451/1015 [00:38<00:41, 13.59it/s]"
     ]
    },
    {
     "name": "stdout",
     "output_type": "stream",
     "text": [
      "Epoch:   2 | Samples:    448/1016 | RMSE Loss: 0.6583 | MSE Loss: 0.7053 | target: -4.5600 | pred: -3.8798\n"
     ]
    },
    {
     "name": "stderr",
     "output_type": "stream",
     "text": [
      "Division 5/5:  47%|████████████████████████████████████▎                                        | 479/1015 [00:40<00:45, 11.66it/s]"
     ]
    },
    {
     "name": "stdout",
     "output_type": "stream",
     "text": [
      "Epoch:   2 | Samples:    480/1016 | RMSE Loss: 0.6589 | MSE Loss: 0.7016 | target: -2.5100 | pred: -1.4663\n"
     ]
    },
    {
     "name": "stderr",
     "output_type": "stream",
     "text": [
      "Division 5/5:  51%|███████████████████████████████████████                                      | 515/1015 [00:43<00:43, 11.48it/s]"
     ]
    },
    {
     "name": "stdout",
     "output_type": "stream",
     "text": [
      "Epoch:   2 | Samples:    512/1016 | RMSE Loss: 0.6586 | MSE Loss: 0.6950 | target: -3.3600 | pred: -2.4002\n"
     ]
    },
    {
     "name": "stderr",
     "output_type": "stream",
     "text": [
      "Division 5/5:  54%|█████████████████████████████████████████▍                                   | 547/1015 [00:45<00:34, 13.72it/s]"
     ]
    },
    {
     "name": "stdout",
     "output_type": "stream",
     "text": [
      "Epoch:   2 | Samples:    544/1016 | RMSE Loss: 0.6683 | MSE Loss: 0.7272 | target: -7.6800 | pred: -7.7106\n"
     ]
    },
    {
     "name": "stderr",
     "output_type": "stream",
     "text": [
      "Division 5/5:  57%|███████████████████████████████████████████▉                                 | 579/1015 [00:48<00:32, 13.35it/s]"
     ]
    },
    {
     "name": "stdout",
     "output_type": "stream",
     "text": [
      "Epoch:   2 | Samples:    576/1016 | RMSE Loss: 0.6657 | MSE Loss: 0.7234 | target: -2.8200 | pred: -2.6974\n"
     ]
    },
    {
     "name": "stderr",
     "output_type": "stream",
     "text": [
      "Division 5/5:  60%|██████████████████████████████████████████████▎                              | 610/1015 [00:51<00:26, 15.07it/s]"
     ]
    },
    {
     "name": "stdout",
     "output_type": "stream",
     "text": [
      "Epoch:   2 | Samples:    608/1016 | RMSE Loss: 0.6670 | MSE Loss: 0.7245 | target: -2.0300 | pred: -1.9985\n"
     ]
    },
    {
     "name": "stderr",
     "output_type": "stream",
     "text": [
      "Division 5/5:  63%|████████████████████████████████████████████████▊                            | 643/1015 [00:53<00:21, 17.39it/s]"
     ]
    },
    {
     "name": "stdout",
     "output_type": "stream",
     "text": [
      "Epoch:   2 | Samples:    640/1016 | RMSE Loss: 0.6625 | MSE Loss: 0.7148 | target: -2.6800 | pred: -2.2218\n"
     ]
    },
    {
     "name": "stderr",
     "output_type": "stream",
     "text": [
      "Division 5/5:  66%|███████████████████████████████████████████████████▏                         | 674/1015 [00:55<00:27, 12.61it/s]"
     ]
    },
    {
     "name": "stdout",
     "output_type": "stream",
     "text": [
      "Epoch:   2 | Samples:    672/1016 | RMSE Loss: 0.6551 | MSE Loss: 0.6998 | target: -3.9530 | pred: -4.4830\n"
     ]
    },
    {
     "name": "stderr",
     "output_type": "stream",
     "text": [
      "Division 5/5:  70%|█████████████████████████████████████████████████████▋                       | 708/1015 [00:58<00:22, 13.59it/s]"
     ]
    },
    {
     "name": "stdout",
     "output_type": "stream",
     "text": [
      "Epoch:   2 | Samples:    704/1016 | RMSE Loss: 0.6457 | MSE Loss: 0.6872 | target: -3.0940 | pred: -3.2450\n"
     ]
    },
    {
     "name": "stderr",
     "output_type": "stream",
     "text": [
      "Division 5/5:  73%|████████████████████████████████████████████████████████                     | 739/1015 [01:00<00:21, 12.72it/s]"
     ]
    },
    {
     "name": "stdout",
     "output_type": "stream",
     "text": [
      "Epoch:   2 | Samples:    736/1016 | RMSE Loss: 0.6449 | MSE Loss: 0.6852 | target: -4.9070 | pred: -3.9841\n"
     ]
    },
    {
     "name": "stderr",
     "output_type": "stream",
     "text": [
      "Division 5/5:  76%|██████████████████████████████████████████████████████████▍                  | 770/1015 [01:02<00:17, 14.01it/s]"
     ]
    },
    {
     "name": "stdout",
     "output_type": "stream",
     "text": [
      "Epoch:   2 | Samples:    768/1016 | RMSE Loss: 0.6407 | MSE Loss: 0.6749 | target: -0.1400 | pred: -0.3982\n"
     ]
    },
    {
     "name": "stderr",
     "output_type": "stream",
     "text": [
      "Division 5/5:  79%|████████████████████████████████████████████████████████████▊                | 801/1015 [01:05<00:18, 11.70it/s]"
     ]
    },
    {
     "name": "stdout",
     "output_type": "stream",
     "text": [
      "Epoch:   2 | Samples:    800/1016 | RMSE Loss: 0.6422 | MSE Loss: 0.6816 | target: -3.7000 | pred: -4.6213\n"
     ]
    },
    {
     "name": "stderr",
     "output_type": "stream",
     "text": [
      "Division 5/5:  82%|███████████████████████████████████████████████████████████████▎             | 835/1015 [01:08<00:13, 13.38it/s]"
     ]
    },
    {
     "name": "stdout",
     "output_type": "stream",
     "text": [
      "Epoch:   2 | Samples:    832/1016 | RMSE Loss: 0.6390 | MSE Loss: 0.6739 | target: -4.0800 | pred: -4.4788\n"
     ]
    },
    {
     "name": "stderr",
     "output_type": "stream",
     "text": [
      "Division 5/5:  85%|█████████████████████████████████████████████████████████████████▊           | 867/1015 [01:10<00:10, 14.46it/s]"
     ]
    },
    {
     "name": "stdout",
     "output_type": "stream",
     "text": [
      "Epoch:   2 | Samples:    864/1016 | RMSE Loss: 0.6388 | MSE Loss: 0.6794 | target: 0.3600 | pred: -1.0242\n"
     ]
    },
    {
     "name": "stderr",
     "output_type": "stream",
     "text": [
      "Division 5/5:  89%|████████████████████████████████████████████████████████████████████▏        | 899/1015 [01:13<00:08, 13.36it/s]"
     ]
    },
    {
     "name": "stdout",
     "output_type": "stream",
     "text": [
      "Epoch:   2 | Samples:    896/1016 | RMSE Loss: 0.6341 | MSE Loss: 0.6715 | target: -7.2100 | pred: -7.2039\n"
     ]
    },
    {
     "name": "stderr",
     "output_type": "stream",
     "text": [
      "Division 5/5:  92%|██████████████████████████████████████████████████████████████████████▌      | 930/1015 [01:16<00:09,  9.14it/s]"
     ]
    },
    {
     "name": "stdout",
     "output_type": "stream",
     "text": [
      "Epoch:   2 | Samples:    928/1016 | RMSE Loss: 0.6319 | MSE Loss: 0.6660 | target: -0.8500 | pred: -2.1890\n"
     ]
    },
    {
     "name": "stderr",
     "output_type": "stream",
     "text": [
      "Division 5/5:  95%|█████████████████████████████████████████████████████████████████████████    | 963/1015 [01:19<00:04, 10.61it/s]"
     ]
    },
    {
     "name": "stdout",
     "output_type": "stream",
     "text": [
      "Epoch:   2 | Samples:    960/1016 | RMSE Loss: 0.6282 | MSE Loss: 0.6597 | target: -1.8000 | pred: -2.3334\n"
     ]
    },
    {
     "name": "stderr",
     "output_type": "stream",
     "text": [
      "Division 5/5:  98%|███████████████████████████████████████████████████████████████████████████▍ | 994/1015 [01:21<00:01, 10.85it/s]"
     ]
    },
    {
     "name": "stdout",
     "output_type": "stream",
     "text": [
      "Epoch:   2 | Samples:    992/1016 | RMSE Loss: 0.6236 | MSE Loss: 0.6507 | target: -2.4600 | pred: -2.1748\n"
     ]
    },
    {
     "name": "stderr",
     "output_type": "stream",
     "text": [
      "Division 5/5: 100%|████████████████████████████████████████████████████████████████████████████| 1015/1015 [01:23<00:00, 12.14it/s]\n",
      "Division 5/5:   0%|▏                                                                              | 3/1015 [00:00<01:13, 13.76it/s]"
     ]
    },
    {
     "name": "stdout",
     "output_type": "stream",
     "text": [
      "Epoch:   3 | Samples:      0/1016 | RMSE Loss: 0.7612 | MSE Loss: 0.5795 | target: -4.5540 | pred: -3.7928\n"
     ]
    },
    {
     "name": "stderr",
     "output_type": "stream",
     "text": [
      "Division 5/5:   3%|██▌                                                                           | 34/1015 [00:02<01:22, 11.94it/s]"
     ]
    },
    {
     "name": "stdout",
     "output_type": "stream",
     "text": [
      "Epoch:   3 | Samples:     32/1016 | RMSE Loss: 0.7130 | MSE Loss: 0.7163 | target: -3.8960 | pred: -5.3007\n"
     ]
    },
    {
     "name": "stderr",
     "output_type": "stream",
     "text": [
      "Division 5/5:   7%|█████                                                                         | 66/1015 [00:05<01:26, 10.95it/s]"
     ]
    },
    {
     "name": "stdout",
     "output_type": "stream",
     "text": [
      "Epoch:   3 | Samples:     64/1016 | RMSE Loss: 0.6283 | MSE Loss: 0.6198 | target: -4.1000 | pred: -4.3463\n"
     ]
    },
    {
     "name": "stderr",
     "output_type": "stream",
     "text": [
      "Division 5/5:  10%|███████▌                                                                     | 100/1015 [00:07<01:11, 12.78it/s]"
     ]
    },
    {
     "name": "stdout",
     "output_type": "stream",
     "text": [
      "Epoch:   3 | Samples:     96/1016 | RMSE Loss: 0.6446 | MSE Loss: 0.6452 | target: -1.3300 | pred: -1.0359\n"
     ]
    },
    {
     "name": "stderr",
     "output_type": "stream",
     "text": [
      "Division 5/5:  13%|█████████▉                                                                   | 131/1015 [00:10<01:10, 12.49it/s]"
     ]
    },
    {
     "name": "stdout",
     "output_type": "stream",
     "text": [
      "Epoch:   3 | Samples:    128/1016 | RMSE Loss: 0.6061 | MSE Loss: 0.5641 | target: 0.0090 | pred: -0.0059\n"
     ]
    },
    {
     "name": "stderr",
     "output_type": "stream",
     "text": [
      "Division 5/5:  16%|████████████▎                                                                | 162/1015 [00:12<01:07, 12.65it/s]"
     ]
    },
    {
     "name": "stdout",
     "output_type": "stream",
     "text": [
      "Epoch:   3 | Samples:    160/1016 | RMSE Loss: 0.5924 | MSE Loss: 0.5476 | target: -1.0900 | pred: -1.5442\n"
     ]
    },
    {
     "name": "stderr",
     "output_type": "stream",
     "text": [
      "Division 5/5:  19%|██████████████▊                                                              | 195/1015 [00:15<01:06, 12.37it/s]"
     ]
    },
    {
     "name": "stdout",
     "output_type": "stream",
     "text": [
      "Epoch:   3 | Samples:    192/1016 | RMSE Loss: 0.6032 | MSE Loss: 0.5864 | target: -1.3700 | pred: -1.9269\n"
     ]
    },
    {
     "name": "stderr",
     "output_type": "stream",
     "text": [
      "Division 5/5:  22%|█████████████████                                                            | 225/1015 [00:18<00:59, 13.26it/s]"
     ]
    },
    {
     "name": "stdout",
     "output_type": "stream",
     "text": [
      "Epoch:   3 | Samples:    224/1016 | RMSE Loss: 0.6025 | MSE Loss: 0.5888 | target: -2.0500 | pred: -2.0517\n"
     ]
    },
    {
     "name": "stderr",
     "output_type": "stream",
     "text": [
      "Division 5/5:  25%|███████████████████▍                                                         | 257/1015 [00:21<01:08, 11.07it/s]"
     ]
    },
    {
     "name": "stdout",
     "output_type": "stream",
     "text": [
      "Epoch:   3 | Samples:    256/1016 | RMSE Loss: 0.5966 | MSE Loss: 0.5792 | target: -4.4200 | pred: -4.8401\n"
     ]
    },
    {
     "name": "stderr",
     "output_type": "stream",
     "text": [
      "Division 5/5:  29%|██████████████████████▏                                                      | 292/1015 [00:24<00:59, 12.23it/s]"
     ]
    },
    {
     "name": "stdout",
     "output_type": "stream",
     "text": [
      "Epoch:   3 | Samples:    288/1016 | RMSE Loss: 0.6062 | MSE Loss: 0.5942 | target: -2.3690 | pred: -2.6715\n"
     ]
    },
    {
     "name": "stderr",
     "output_type": "stream",
     "text": [
      "Division 5/5:  32%|████████████████████████▌                                                    | 323/1015 [00:26<00:47, 14.49it/s]"
     ]
    },
    {
     "name": "stdout",
     "output_type": "stream",
     "text": [
      "Epoch:   3 | Samples:    320/1016 | RMSE Loss: 0.6067 | MSE Loss: 0.6018 | target: -3.3500 | pred: -4.2342\n"
     ]
    },
    {
     "name": "stderr",
     "output_type": "stream",
     "text": [
      "Division 5/5:  35%|██████████████████████████▊                                                  | 353/1015 [00:29<01:10,  9.36it/s]"
     ]
    },
    {
     "name": "stdout",
     "output_type": "stream",
     "text": [
      "Epoch:   3 | Samples:    352/1016 | RMSE Loss: 0.6208 | MSE Loss: 0.6384 | target: -2.1480 | pred: -1.5825\n"
     ]
    },
    {
     "name": "stderr",
     "output_type": "stream",
     "text": [
      "Division 5/5:  38%|█████████████████████████████▎                                               | 386/1015 [00:32<00:57, 10.89it/s]"
     ]
    },
    {
     "name": "stdout",
     "output_type": "stream",
     "text": [
      "Epoch:   3 | Samples:    384/1016 | RMSE Loss: 0.6177 | MSE Loss: 0.6271 | target: -3.4990 | pred: -4.9203\n"
     ]
    },
    {
     "name": "stderr",
     "output_type": "stream",
     "text": [
      "Division 5/5:  41%|███████████████████████████████▋                                             | 418/1015 [00:35<00:40, 14.85it/s]"
     ]
    },
    {
     "name": "stdout",
     "output_type": "stream",
     "text": [
      "Epoch:   3 | Samples:    416/1016 | RMSE Loss: 0.6070 | MSE Loss: 0.6114 | target: -1.6140 | pred: -2.2300\n"
     ]
    },
    {
     "name": "stderr",
     "output_type": "stream",
     "text": [
      "Division 5/5:  44%|██████████████████████████████████▏                                          | 451/1015 [00:38<00:41, 13.74it/s]"
     ]
    },
    {
     "name": "stdout",
     "output_type": "stream",
     "text": [
      "Epoch:   3 | Samples:    448/1016 | RMSE Loss: 0.6066 | MSE Loss: 0.6053 | target: -4.5600 | pred: -3.8353\n"
     ]
    },
    {
     "name": "stderr",
     "output_type": "stream",
     "text": [
      "Division 5/5:  47%|████████████████████████████████████▎                                        | 479/1015 [00:40<00:45, 11.71it/s]"
     ]
    },
    {
     "name": "stdout",
     "output_type": "stream",
     "text": [
      "Epoch:   3 | Samples:    480/1016 | RMSE Loss: 0.6066 | MSE Loss: 0.6019 | target: -2.5100 | pred: -1.2939\n"
     ]
    },
    {
     "name": "stderr",
     "output_type": "stream",
     "text": [
      "Division 5/5:  51%|███████████████████████████████████████                                      | 515/1015 [00:43<00:43, 11.57it/s]"
     ]
    },
    {
     "name": "stdout",
     "output_type": "stream",
     "text": [
      "Epoch:   3 | Samples:    512/1016 | RMSE Loss: 0.6073 | MSE Loss: 0.5974 | target: -3.3600 | pred: -2.7359\n"
     ]
    },
    {
     "name": "stderr",
     "output_type": "stream",
     "text": [
      "Division 5/5:  54%|█████████████████████████████████████████▍                                   | 547/1015 [00:45<00:33, 13.97it/s]"
     ]
    },
    {
     "name": "stdout",
     "output_type": "stream",
     "text": [
      "Epoch:   3 | Samples:    544/1016 | RMSE Loss: 0.6167 | MSE Loss: 0.6249 | target: -7.6800 | pred: -8.0020\n"
     ]
    },
    {
     "name": "stderr",
     "output_type": "stream",
     "text": [
      "Division 5/5:  57%|███████████████████████████████████████████▉                                 | 579/1015 [00:48<00:32, 13.48it/s]"
     ]
    },
    {
     "name": "stdout",
     "output_type": "stream",
     "text": [
      "Epoch:   3 | Samples:    576/1016 | RMSE Loss: 0.6141 | MSE Loss: 0.6223 | target: -2.8200 | pred: -2.6731\n"
     ]
    },
    {
     "name": "stderr",
     "output_type": "stream",
     "text": [
      "Division 5/5:  60%|██████████████████████████████████████████████▎                              | 610/1015 [00:51<00:27, 14.99it/s]"
     ]
    },
    {
     "name": "stdout",
     "output_type": "stream",
     "text": [
      "Epoch:   3 | Samples:    608/1016 | RMSE Loss: 0.6161 | MSE Loss: 0.6230 | target: -2.0300 | pred: -1.8514\n"
     ]
    },
    {
     "name": "stderr",
     "output_type": "stream",
     "text": [
      "Division 5/5:  63%|████████████████████████████████████████████████▊                            | 643/1015 [00:53<00:21, 17.32it/s]"
     ]
    },
    {
     "name": "stdout",
     "output_type": "stream",
     "text": [
      "Epoch:   3 | Samples:    640/1016 | RMSE Loss: 0.6131 | MSE Loss: 0.6155 | target: -2.6800 | pred: -2.3939\n"
     ]
    },
    {
     "name": "stderr",
     "output_type": "stream",
     "text": [
      "Division 5/5:  67%|███████████████████████████████████████████████████▏                         | 675/1015 [00:56<00:26, 12.96it/s]"
     ]
    },
    {
     "name": "stdout",
     "output_type": "stream",
     "text": [
      "Epoch:   3 | Samples:    672/1016 | RMSE Loss: 0.6063 | MSE Loss: 0.6023 | target: -3.9530 | pred: -4.4028\n"
     ]
    },
    {
     "name": "stderr",
     "output_type": "stream",
     "text": [
      "Division 5/5:  70%|█████████████████████████████████████████████████████▋                       | 708/1015 [00:58<00:22, 13.52it/s]"
     ]
    },
    {
     "name": "stdout",
     "output_type": "stream",
     "text": [
      "Epoch:   3 | Samples:    704/1016 | RMSE Loss: 0.5970 | MSE Loss: 0.5911 | target: -3.0940 | pred: -3.1266\n"
     ]
    },
    {
     "name": "stderr",
     "output_type": "stream",
     "text": [
      "Division 5/5:  73%|████████████████████████████████████████████████████████                     | 739/1015 [01:00<00:21, 12.77it/s]"
     ]
    },
    {
     "name": "stdout",
     "output_type": "stream",
     "text": [
      "Epoch:   3 | Samples:    736/1016 | RMSE Loss: 0.5954 | MSE Loss: 0.5874 | target: -4.9070 | pred: -4.1540\n"
     ]
    },
    {
     "name": "stderr",
     "output_type": "stream",
     "text": [
      "Division 5/5:  76%|██████████████████████████████████████████████████████████▍                  | 770/1015 [01:02<00:17, 13.97it/s]"
     ]
    },
    {
     "name": "stdout",
     "output_type": "stream",
     "text": [
      "Epoch:   3 | Samples:    768/1016 | RMSE Loss: 0.5913 | MSE Loss: 0.5779 | target: -0.1400 | pred: -0.2359\n"
     ]
    },
    {
     "name": "stderr",
     "output_type": "stream",
     "text": [
      "Division 5/5:  79%|████████████████████████████████████████████████████████████▊                | 801/1015 [01:05<00:18, 11.80it/s]"
     ]
    },
    {
     "name": "stdout",
     "output_type": "stream",
     "text": [
      "Epoch:   3 | Samples:    800/1016 | RMSE Loss: 0.5944 | MSE Loss: 0.5848 | target: -3.7000 | pred: -4.6541\n"
     ]
    },
    {
     "name": "stderr",
     "output_type": "stream",
     "text": [
      "Division 5/5:  82%|███████████████████████████████████████████████████████████████▍             | 836/1015 [01:08<00:13, 13.44it/s]"
     ]
    },
    {
     "name": "stdout",
     "output_type": "stream",
     "text": [
      "Epoch:   3 | Samples:    832/1016 | RMSE Loss: 0.5911 | MSE Loss: 0.5780 | target: -4.0800 | pred: -4.4118\n"
     ]
    },
    {
     "name": "stderr",
     "output_type": "stream",
     "text": [
      "Division 5/5:  85%|█████████████████████████████████████████████████████████████████▊           | 867/1015 [01:10<00:09, 14.89it/s]"
     ]
    },
    {
     "name": "stdout",
     "output_type": "stream",
     "text": [
      "Epoch:   3 | Samples:    864/1016 | RMSE Loss: 0.5910 | MSE Loss: 0.5842 | target: 0.3600 | pred: -0.9857\n"
     ]
    },
    {
     "name": "stderr",
     "output_type": "stream",
     "text": [
      "Division 5/5:  89%|████████████████████████████████████████████████████████████████████▏        | 899/1015 [01:13<00:08, 13.49it/s]"
     ]
    },
    {
     "name": "stdout",
     "output_type": "stream",
     "text": [
      "Epoch:   3 | Samples:    896/1016 | RMSE Loss: 0.5867 | MSE Loss: 0.5778 | target: -7.2100 | pred: -7.3506\n"
     ]
    },
    {
     "name": "stderr",
     "output_type": "stream",
     "text": [
      "Division 5/5:  92%|██████████████████████████████████████████████████████████████████████▌      | 930/1015 [01:16<00:09,  9.07it/s]"
     ]
    },
    {
     "name": "stdout",
     "output_type": "stream",
     "text": [
      "Epoch:   3 | Samples:    928/1016 | RMSE Loss: 0.5850 | MSE Loss: 0.5740 | target: -0.8500 | pred: -2.1982\n"
     ]
    },
    {
     "name": "stderr",
     "output_type": "stream",
     "text": [
      "Division 5/5:  95%|█████████████████████████████████████████████████████████████████████████    | 963/1015 [01:19<00:04, 10.71it/s]"
     ]
    },
    {
     "name": "stdout",
     "output_type": "stream",
     "text": [
      "Epoch:   3 | Samples:    960/1016 | RMSE Loss: 0.5809 | MSE Loss: 0.5683 | target: -1.8000 | pred: -2.1184\n"
     ]
    },
    {
     "name": "stderr",
     "output_type": "stream",
     "text": [
      "Division 5/5:  98%|███████████████████████████████████████████████████████████████████████████▍ | 994/1015 [01:21<00:01, 10.54it/s]"
     ]
    },
    {
     "name": "stdout",
     "output_type": "stream",
     "text": [
      "Epoch:   3 | Samples:    992/1016 | RMSE Loss: 0.5776 | MSE Loss: 0.5628 | target: -2.4600 | pred: -2.3023\n"
     ]
    },
    {
     "name": "stderr",
     "output_type": "stream",
     "text": [
      "Division 5/5: 100%|████████████████████████████████████████████████████████████████████████████| 1015/1015 [01:23<00:00, 12.14it/s]\n",
      "Division 5/5:   0%|▏                                                                              | 3/1015 [00:00<01:15, 13.37it/s]"
     ]
    },
    {
     "name": "stdout",
     "output_type": "stream",
     "text": [
      "Epoch:   4 | Samples:      0/1016 | RMSE Loss: 0.6469 | MSE Loss: 0.4185 | target: -4.5540 | pred: -3.9071\n"
     ]
    },
    {
     "name": "stderr",
     "output_type": "stream",
     "text": [
      "Division 5/5:   3%|██▋                                                                           | 35/1015 [00:02<01:20, 12.10it/s]"
     ]
    },
    {
     "name": "stdout",
     "output_type": "stream",
     "text": [
      "Epoch:   4 | Samples:     32/1016 | RMSE Loss: 0.6610 | MSE Loss: 0.6301 | target: -3.8960 | pred: -5.3073\n"
     ]
    },
    {
     "name": "stderr",
     "output_type": "stream",
     "text": [
      "Division 5/5:   7%|█████▏                                                                        | 67/1015 [00:05<01:19, 11.99it/s]"
     ]
    },
    {
     "name": "stdout",
     "output_type": "stream",
     "text": [
      "Epoch:   4 | Samples:     64/1016 | RMSE Loss: 0.5779 | MSE Loss: 0.5456 | target: -4.1000 | pred: -4.3074\n"
     ]
    },
    {
     "name": "stderr",
     "output_type": "stream",
     "text": [
      "Division 5/5:  10%|███████▌                                                                     | 100/1015 [00:07<01:10, 12.91it/s]"
     ]
    },
    {
     "name": "stdout",
     "output_type": "stream",
     "text": [
      "Epoch:   4 | Samples:     96/1016 | RMSE Loss: 0.6005 | MSE Loss: 0.5743 | target: -1.3300 | pred: -0.9472\n"
     ]
    },
    {
     "name": "stderr",
     "output_type": "stream",
     "text": [
      "Division 5/5:  13%|█████████▉                                                                   | 131/1015 [00:10<01:10, 12.49it/s]"
     ]
    },
    {
     "name": "stdout",
     "output_type": "stream",
     "text": [
      "Epoch:   4 | Samples:    128/1016 | RMSE Loss: 0.5691 | MSE Loss: 0.5041 | target: 0.0090 | pred: 0.1946\n"
     ]
    },
    {
     "name": "stderr",
     "output_type": "stream",
     "text": [
      "Division 5/5:  16%|████████████▎                                                                | 162/1015 [00:12<01:07, 12.70it/s]"
     ]
    },
    {
     "name": "stdout",
     "output_type": "stream",
     "text": [
      "Epoch:   4 | Samples:    160/1016 | RMSE Loss: 0.5567 | MSE Loss: 0.4916 | target: -1.0900 | pred: -1.5557\n"
     ]
    },
    {
     "name": "stderr",
     "output_type": "stream",
     "text": [
      "Division 5/5:  19%|██████████████▊                                                              | 195/1015 [00:15<01:06, 12.32it/s]"
     ]
    },
    {
     "name": "stdout",
     "output_type": "stream",
     "text": [
      "Epoch:   4 | Samples:    192/1016 | RMSE Loss: 0.5648 | MSE Loss: 0.5209 | target: -1.3700 | pred: -1.8770\n"
     ]
    },
    {
     "name": "stderr",
     "output_type": "stream",
     "text": [
      "Division 5/5:  22%|█████████████████▏                                                           | 226/1015 [00:18<00:59, 13.31it/s]"
     ]
    },
    {
     "name": "stdout",
     "output_type": "stream",
     "text": [
      "Epoch:   4 | Samples:    224/1016 | RMSE Loss: 0.5668 | MSE Loss: 0.5243 | target: -2.0500 | pred: -2.0462\n"
     ]
    },
    {
     "name": "stderr",
     "output_type": "stream",
     "text": [
      "Division 5/5:  25%|███████████████████▍                                                         | 257/1015 [00:21<01:09, 10.95it/s]"
     ]
    },
    {
     "name": "stdout",
     "output_type": "stream",
     "text": [
      "Epoch:   4 | Samples:    256/1016 | RMSE Loss: 0.5630 | MSE Loss: 0.5198 | target: -4.4200 | pred: -4.7945\n"
     ]
    },
    {
     "name": "stderr",
     "output_type": "stream",
     "text": [
      "Division 5/5:  29%|██████████████████████▏                                                      | 292/1015 [00:24<00:59, 12.15it/s]"
     ]
    },
    {
     "name": "stdout",
     "output_type": "stream",
     "text": [
      "Epoch:   4 | Samples:    288/1016 | RMSE Loss: 0.5704 | MSE Loss: 0.5314 | target: -2.3690 | pred: -2.6281\n"
     ]
    },
    {
     "name": "stderr",
     "output_type": "stream",
     "text": [
      "Division 5/5:  32%|████████████████████████▌                                                    | 323/1015 [00:26<00:47, 14.48it/s]"
     ]
    },
    {
     "name": "stdout",
     "output_type": "stream",
     "text": [
      "Epoch:   4 | Samples:    320/1016 | RMSE Loss: 0.5718 | MSE Loss: 0.5395 | target: -3.3500 | pred: -4.3595\n"
     ]
    },
    {
     "name": "stderr",
     "output_type": "stream",
     "text": [
      "Division 5/5:  35%|██████████████████████████▊                                                  | 353/1015 [00:29<01:11,  9.26it/s]"
     ]
    },
    {
     "name": "stdout",
     "output_type": "stream",
     "text": [
      "Epoch:   4 | Samples:    352/1016 | RMSE Loss: 0.5866 | MSE Loss: 0.5766 | target: -2.1480 | pred: -1.6083\n"
     ]
    },
    {
     "name": "stderr",
     "output_type": "stream",
     "text": [
      "Division 5/5:  38%|█████████████████████████████▎                                               | 386/1015 [00:32<00:58, 10.81it/s]"
     ]
    },
    {
     "name": "stdout",
     "output_type": "stream",
     "text": [
      "Epoch:   4 | Samples:    384/1016 | RMSE Loss: 0.5801 | MSE Loss: 0.5620 | target: -3.4990 | pred: -4.7015\n"
     ]
    },
    {
     "name": "stderr",
     "output_type": "stream",
     "text": [
      "Division 5/5:  41%|███████████████████████████████▋                                             | 418/1015 [00:35<00:40, 14.83it/s]"
     ]
    },
    {
     "name": "stdout",
     "output_type": "stream",
     "text": [
      "Epoch:   4 | Samples:    416/1016 | RMSE Loss: 0.5698 | MSE Loss: 0.5458 | target: -1.6140 | pred: -2.2057\n"
     ]
    },
    {
     "name": "stderr",
     "output_type": "stream",
     "text": [
      "Division 5/5:  44%|██████████████████████████████████▏                                          | 451/1015 [00:38<00:41, 13.55it/s]"
     ]
    },
    {
     "name": "stdout",
     "output_type": "stream",
     "text": [
      "Epoch:   4 | Samples:    448/1016 | RMSE Loss: 0.5699 | MSE Loss: 0.5401 | target: -4.5600 | pred: -3.9002\n"
     ]
    },
    {
     "name": "stderr",
     "output_type": "stream",
     "text": [
      "Division 5/5:  47%|████████████████████████████████████▎                                        | 479/1015 [00:40<00:46, 11.61it/s]"
     ]
    },
    {
     "name": "stdout",
     "output_type": "stream",
     "text": [
      "Epoch:   4 | Samples:    480/1016 | RMSE Loss: 0.5691 | MSE Loss: 0.5356 | target: -2.5100 | pred: -1.2599\n"
     ]
    },
    {
     "name": "stderr",
     "output_type": "stream",
     "text": [
      "Division 5/5:  51%|███████████████████████████████████████                                      | 515/1015 [00:43<00:42, 11.66it/s]"
     ]
    },
    {
     "name": "stdout",
     "output_type": "stream",
     "text": [
      "Epoch:   4 | Samples:    512/1016 | RMSE Loss: 0.5705 | MSE Loss: 0.5334 | target: -3.3600 | pred: -2.9883\n"
     ]
    },
    {
     "name": "stderr",
     "output_type": "stream",
     "text": [
      "Division 5/5:  54%|█████████████████████████████████████████▍                                   | 547/1015 [00:46<00:33, 14.09it/s]"
     ]
    },
    {
     "name": "stdout",
     "output_type": "stream",
     "text": [
      "Epoch:   4 | Samples:    544/1016 | RMSE Loss: 0.5794 | MSE Loss: 0.5587 | target: -7.6800 | pred: -8.1809\n"
     ]
    },
    {
     "name": "stderr",
     "output_type": "stream",
     "text": [
      "Division 5/5:  57%|███████████████████████████████████████████▉                                 | 579/1015 [00:48<00:32, 13.49it/s]"
     ]
    },
    {
     "name": "stdout",
     "output_type": "stream",
     "text": [
      "Epoch:   4 | Samples:    576/1016 | RMSE Loss: 0.5777 | MSE Loss: 0.5570 | target: -2.8200 | pred: -2.6611\n"
     ]
    },
    {
     "name": "stderr",
     "output_type": "stream",
     "text": [
      "Division 5/5:  60%|██████████████████████████████████████████████▎                              | 610/1015 [00:51<00:27, 14.93it/s]"
     ]
    },
    {
     "name": "stdout",
     "output_type": "stream",
     "text": [
      "Epoch:   4 | Samples:    608/1016 | RMSE Loss: 0.5799 | MSE Loss: 0.5572 | target: -2.0300 | pred: -1.7865\n"
     ]
    },
    {
     "name": "stderr",
     "output_type": "stream",
     "text": [
      "Division 5/5:  63%|████████████████████████████████████████████████▊                            | 643/1015 [00:53<00:21, 17.47it/s]"
     ]
    },
    {
     "name": "stdout",
     "output_type": "stream",
     "text": [
      "Epoch:   4 | Samples:    640/1016 | RMSE Loss: 0.5769 | MSE Loss: 0.5504 | target: -2.6800 | pred: -2.5177\n"
     ]
    },
    {
     "name": "stderr",
     "output_type": "stream",
     "text": [
      "Division 5/5:  66%|███████████████████████████████████████████████████▏                         | 674/1015 [00:56<00:26, 12.71it/s]"
     ]
    },
    {
     "name": "stdout",
     "output_type": "stream",
     "text": [
      "Epoch:   4 | Samples:    672/1016 | RMSE Loss: 0.5705 | MSE Loss: 0.5383 | target: -3.9530 | pred: -4.3501\n"
     ]
    },
    {
     "name": "stderr",
     "output_type": "stream",
     "text": [
      "Division 5/5:  70%|█████████████████████████████████████████████████████▋                       | 708/1015 [00:58<00:22, 13.39it/s]"
     ]
    },
    {
     "name": "stdout",
     "output_type": "stream",
     "text": [
      "Epoch:   4 | Samples:    704/1016 | RMSE Loss: 0.5617 | MSE Loss: 0.5278 | target: -3.0940 | pred: -3.0038\n"
     ]
    },
    {
     "name": "stderr",
     "output_type": "stream",
     "text": [
      "Division 5/5:  73%|████████████████████████████████████████████████████████                     | 739/1015 [01:00<00:21, 12.68it/s]"
     ]
    },
    {
     "name": "stdout",
     "output_type": "stream",
     "text": [
      "Epoch:   4 | Samples:    736/1016 | RMSE Loss: 0.5589 | MSE Loss: 0.5228 | target: -4.9070 | pred: -4.2268\n"
     ]
    },
    {
     "name": "stderr",
     "output_type": "stream",
     "text": [
      "Division 5/5:  76%|██████████████████████████████████████████████████████████▍                  | 770/1015 [01:02<00:17, 14.08it/s]"
     ]
    },
    {
     "name": "stdout",
     "output_type": "stream",
     "text": [
      "Epoch:   4 | Samples:    768/1016 | RMSE Loss: 0.5555 | MSE Loss: 0.5144 | target: -0.1400 | pred: -0.2646\n"
     ]
    },
    {
     "name": "stderr",
     "output_type": "stream",
     "text": [
      "Division 5/5:  79%|████████████████████████████████████████████████████████████▊                | 801/1015 [01:05<00:18, 11.78it/s]"
     ]
    },
    {
     "name": "stdout",
     "output_type": "stream",
     "text": [
      "Epoch:   4 | Samples:    800/1016 | RMSE Loss: 0.5592 | MSE Loss: 0.5215 | target: -3.7000 | pred: -4.5058\n"
     ]
    },
    {
     "name": "stderr",
     "output_type": "stream",
     "text": [
      "Division 5/5:  82%|███████████████████████████████████████████████████████████████▎             | 835/1015 [01:08<00:13, 13.26it/s]"
     ]
    },
    {
     "name": "stdout",
     "output_type": "stream",
     "text": [
      "Epoch:   4 | Samples:    832/1016 | RMSE Loss: 0.5565 | MSE Loss: 0.5160 | target: -4.0800 | pred: -4.4091\n"
     ]
    },
    {
     "name": "stderr",
     "output_type": "stream",
     "text": [
      "Division 5/5:  85%|█████████████████████████████████████████████████████████████████▊           | 867/1015 [01:10<00:10, 14.57it/s]"
     ]
    },
    {
     "name": "stdout",
     "output_type": "stream",
     "text": [
      "Epoch:   4 | Samples:    864/1016 | RMSE Loss: 0.5567 | MSE Loss: 0.5220 | target: 0.3600 | pred: -0.9108\n"
     ]
    },
    {
     "name": "stderr",
     "output_type": "stream",
     "text": [
      "Division 5/5:  89%|████████████████████████████████████████████████████████████████████▏        | 899/1015 [01:13<00:08, 13.53it/s]"
     ]
    },
    {
     "name": "stdout",
     "output_type": "stream",
     "text": [
      "Epoch:   4 | Samples:    896/1016 | RMSE Loss: 0.5529 | MSE Loss: 0.5167 | target: -7.2100 | pred: -7.4622\n"
     ]
    },
    {
     "name": "stderr",
     "output_type": "stream",
     "text": [
      "Division 5/5:  92%|██████████████████████████████████████████████████████████████████████▌      | 930/1015 [01:16<00:09,  9.24it/s]"
     ]
    },
    {
     "name": "stdout",
     "output_type": "stream",
     "text": [
      "Epoch:   4 | Samples:    928/1016 | RMSE Loss: 0.5513 | MSE Loss: 0.5130 | target: -0.8500 | pred: -2.1823\n"
     ]
    },
    {
     "name": "stderr",
     "output_type": "stream",
     "text": [
      "Division 5/5:  95%|█████████████████████████████████████████████████████████████████████████    | 963/1015 [01:19<00:04, 10.64it/s]"
     ]
    },
    {
     "name": "stdout",
     "output_type": "stream",
     "text": [
      "Epoch:   4 | Samples:    960/1016 | RMSE Loss: 0.5469 | MSE Loss: 0.5076 | target: -1.8000 | pred: -1.9889\n"
     ]
    },
    {
     "name": "stderr",
     "output_type": "stream",
     "text": [
      "Division 5/5:  98%|███████████████████████████████████████████████████████████████████████████▍ | 994/1015 [01:21<00:01, 10.77it/s]"
     ]
    },
    {
     "name": "stdout",
     "output_type": "stream",
     "text": [
      "Epoch:   4 | Samples:    992/1016 | RMSE Loss: 0.5446 | MSE Loss: 0.5041 | target: -2.4600 | pred: -2.4136\n"
     ]
    },
    {
     "name": "stderr",
     "output_type": "stream",
     "text": [
      "Division 5/5: 100%|████████████████████████████████████████████████████████████████████████████| 1015/1015 [01:23<00:00, 12.12it/s]\n",
      "Division 5/5:   0%|▏                                                                              | 3/1015 [00:00<01:13, 13.79it/s]"
     ]
    },
    {
     "name": "stdout",
     "output_type": "stream",
     "text": [
      "Epoch:   5 | Samples:      0/1016 | RMSE Loss: 0.5534 | MSE Loss: 0.3063 | target: -4.5540 | pred: -4.0006\n"
     ]
    },
    {
     "name": "stderr",
     "output_type": "stream",
     "text": [
      "Division 5/5:   3%|██▌                                                                           | 34/1015 [00:02<01:20, 12.25it/s]"
     ]
    },
    {
     "name": "stdout",
     "output_type": "stream",
     "text": [
      "Epoch:   5 | Samples:     32/1016 | RMSE Loss: 0.6075 | MSE Loss: 0.5689 | target: -3.8960 | pred: -5.3173\n"
     ]
    },
    {
     "name": "stderr",
     "output_type": "stream",
     "text": [
      "Division 5/5:   7%|█████▏                                                                        | 67/1015 [00:05<01:18, 12.11it/s]"
     ]
    },
    {
     "name": "stdout",
     "output_type": "stream",
     "text": [
      "Epoch:   5 | Samples:     64/1016 | RMSE Loss: 0.5431 | MSE Loss: 0.4944 | target: -4.1000 | pred: -4.2653\n"
     ]
    },
    {
     "name": "stderr",
     "output_type": "stream",
     "text": [
      "Division 5/5:  10%|███████▌                                                                     | 100/1015 [00:07<01:09, 13.22it/s]"
     ]
    },
    {
     "name": "stdout",
     "output_type": "stream",
     "text": [
      "Epoch:   5 | Samples:     96/1016 | RMSE Loss: 0.5665 | MSE Loss: 0.5203 | target: -1.3300 | pred: -0.8979\n"
     ]
    },
    {
     "name": "stderr",
     "output_type": "stream",
     "text": [
      "Division 5/5:  13%|█████████▉                                                                   | 131/1015 [00:10<01:10, 12.46it/s]"
     ]
    },
    {
     "name": "stdout",
     "output_type": "stream",
     "text": [
      "Epoch:   5 | Samples:    128/1016 | RMSE Loss: 0.5410 | MSE Loss: 0.4627 | target: 0.0090 | pred: 0.3133\n"
     ]
    },
    {
     "name": "stderr",
     "output_type": "stream",
     "text": [
      "Division 5/5:  16%|████████████▎                                                                | 162/1015 [00:12<01:07, 12.68it/s]"
     ]
    },
    {
     "name": "stdout",
     "output_type": "stream",
     "text": [
      "Epoch:   5 | Samples:    160/1016 | RMSE Loss: 0.5314 | MSE Loss: 0.4537 | target: -1.0900 | pred: -1.5657\n"
     ]
    },
    {
     "name": "stderr",
     "output_type": "stream",
     "text": [
      "Division 5/5:  19%|██████████████▊                                                              | 195/1015 [00:15<01:05, 12.47it/s]"
     ]
    },
    {
     "name": "stdout",
     "output_type": "stream",
     "text": [
      "Epoch:   5 | Samples:    192/1016 | RMSE Loss: 0.5409 | MSE Loss: 0.4796 | target: -1.3700 | pred: -1.8681\n"
     ]
    },
    {
     "name": "stderr",
     "output_type": "stream",
     "text": [
      "Division 5/5:  22%|█████████████████▏                                                           | 226/1015 [00:18<00:58, 13.49it/s]"
     ]
    },
    {
     "name": "stdout",
     "output_type": "stream",
     "text": [
      "Epoch:   5 | Samples:    224/1016 | RMSE Loss: 0.5432 | MSE Loss: 0.4829 | target: -2.0500 | pred: -2.0692\n"
     ]
    },
    {
     "name": "stderr",
     "output_type": "stream",
     "text": [
      "Division 5/5:  25%|███████████████████▍                                                         | 257/1015 [00:21<01:07, 11.21it/s]"
     ]
    },
    {
     "name": "stdout",
     "output_type": "stream",
     "text": [
      "Epoch:   5 | Samples:    256/1016 | RMSE Loss: 0.5403 | MSE Loss: 0.4809 | target: -4.4200 | pred: -4.7509\n"
     ]
    },
    {
     "name": "stderr",
     "output_type": "stream",
     "text": [
      "Division 5/5:  29%|██████████████████████▏                                                      | 292/1015 [00:24<00:59, 12.11it/s]"
     ]
    },
    {
     "name": "stdout",
     "output_type": "stream",
     "text": [
      "Epoch:   5 | Samples:    288/1016 | RMSE Loss: 0.5459 | MSE Loss: 0.4899 | target: -2.3690 | pred: -2.5859\n"
     ]
    },
    {
     "name": "stderr",
     "output_type": "stream",
     "text": [
      "Division 5/5:  32%|████████████████████████▌                                                    | 323/1015 [00:26<00:48, 14.41it/s]"
     ]
    },
    {
     "name": "stdout",
     "output_type": "stream",
     "text": [
      "Epoch:   5 | Samples:    320/1016 | RMSE Loss: 0.5459 | MSE Loss: 0.4964 | target: -3.3500 | pred: -4.4209\n"
     ]
    },
    {
     "name": "stderr",
     "output_type": "stream",
     "text": [
      "Division 5/5:  35%|██████████████████████████▊                                                  | 353/1015 [00:29<01:10,  9.35it/s]"
     ]
    },
    {
     "name": "stdout",
     "output_type": "stream",
     "text": [
      "Epoch:   5 | Samples:    352/1016 | RMSE Loss: 0.5594 | MSE Loss: 0.5309 | target: -2.1480 | pred: -1.5938\n"
     ]
    },
    {
     "name": "stderr",
     "output_type": "stream",
     "text": [
      "Division 5/5:  38%|█████████████████████████████▎                                               | 386/1015 [00:32<00:57, 10.97it/s]"
     ]
    },
    {
     "name": "stdout",
     "output_type": "stream",
     "text": [
      "Epoch:   5 | Samples:    384/1016 | RMSE Loss: 0.5515 | MSE Loss: 0.5149 | target: -3.4990 | pred: -4.5562\n"
     ]
    },
    {
     "name": "stderr",
     "output_type": "stream",
     "text": [
      "Division 5/5:  41%|███████████████████████████████▋                                             | 418/1015 [00:35<00:40, 14.88it/s]"
     ]
    },
    {
     "name": "stdout",
     "output_type": "stream",
     "text": [
      "Epoch:   5 | Samples:    416/1016 | RMSE Loss: 0.5423 | MSE Loss: 0.4995 | target: -1.6140 | pred: -2.1770\n"
     ]
    },
    {
     "name": "stderr",
     "output_type": "stream",
     "text": [
      "Division 5/5:  44%|██████████████████████████████████▏                                          | 451/1015 [00:38<00:40, 13.80it/s]"
     ]
    },
    {
     "name": "stdout",
     "output_type": "stream",
     "text": [
      "Epoch:   5 | Samples:    448/1016 | RMSE Loss: 0.5428 | MSE Loss: 0.4943 | target: -4.5600 | pred: -3.9565\n"
     ]
    },
    {
     "name": "stderr",
     "output_type": "stream",
     "text": [
      "Division 5/5:  47%|████████████████████████████████████▎                                        | 479/1015 [00:40<00:45, 11.67it/s]"
     ]
    },
    {
     "name": "stdout",
     "output_type": "stream",
     "text": [
      "Epoch:   5 | Samples:    480/1016 | RMSE Loss: 0.5415 | MSE Loss: 0.4892 | target: -2.5100 | pred: -1.2559\n"
     ]
    },
    {
     "name": "stderr",
     "output_type": "stream",
     "text": [
      "Division 5/5:  51%|███████████████████████████████████████                                      | 515/1015 [00:43<00:43, 11.61it/s]"
     ]
    },
    {
     "name": "stdout",
     "output_type": "stream",
     "text": [
      "Epoch:   5 | Samples:    512/1016 | RMSE Loss: 0.5427 | MSE Loss: 0.4879 | target: -3.3600 | pred: -3.1870\n"
     ]
    },
    {
     "name": "stderr",
     "output_type": "stream",
     "text": [
      "Division 5/5:  54%|█████████████████████████████████████████▍                                   | 547/1015 [00:45<00:33, 13.98it/s]"
     ]
    },
    {
     "name": "stdout",
     "output_type": "stream",
     "text": [
      "Epoch:   5 | Samples:    544/1016 | RMSE Loss: 0.5515 | MSE Loss: 0.5124 | target: -7.6800 | pred: -8.2038\n"
     ]
    },
    {
     "name": "stderr",
     "output_type": "stream",
     "text": [
      "Division 5/5:  57%|███████████████████████████████████████████▉                                 | 579/1015 [00:48<00:31, 13.63it/s]"
     ]
    },
    {
     "name": "stdout",
     "output_type": "stream",
     "text": [
      "Epoch:   5 | Samples:    576/1016 | RMSE Loss: 0.5506 | MSE Loss: 0.5110 | target: -2.8200 | pred: -2.6759\n"
     ]
    },
    {
     "name": "stderr",
     "output_type": "stream",
     "text": [
      "Division 5/5:  60%|██████████████████████████████████████████████▎                              | 610/1015 [00:51<00:27, 14.92it/s]"
     ]
    },
    {
     "name": "stdout",
     "output_type": "stream",
     "text": [
      "Epoch:   5 | Samples:    608/1016 | RMSE Loss: 0.5526 | MSE Loss: 0.5104 | target: -2.0300 | pred: -1.7518\n"
     ]
    },
    {
     "name": "stderr",
     "output_type": "stream",
     "text": [
      "Division 5/5:  64%|████████████████████████████████████████████████▉                            | 645/1015 [00:53<00:21, 17.16it/s]"
     ]
    },
    {
     "name": "stdout",
     "output_type": "stream",
     "text": [
      "Epoch:   5 | Samples:    640/1016 | RMSE Loss: 0.5496 | MSE Loss: 0.5043 | target: -2.6800 | pred: -2.5638\n"
     ]
    },
    {
     "name": "stderr",
     "output_type": "stream",
     "text": [
      "Division 5/5:  66%|███████████████████████████████████████████████████▏                         | 674/1015 [00:55<00:27, 12.38it/s]"
     ]
    },
    {
     "name": "stdout",
     "output_type": "stream",
     "text": [
      "Epoch:   5 | Samples:    672/1016 | RMSE Loss: 0.5435 | MSE Loss: 0.4928 | target: -3.9530 | pred: -4.3113\n"
     ]
    },
    {
     "name": "stderr",
     "output_type": "stream",
     "text": [
      "Division 5/5:  70%|█████████████████████████████████████████████████████▋                       | 708/1015 [00:58<00:22, 13.49it/s]"
     ]
    },
    {
     "name": "stdout",
     "output_type": "stream",
     "text": [
      "Epoch:   5 | Samples:    704/1016 | RMSE Loss: 0.5354 | MSE Loss: 0.4832 | target: -3.0940 | pred: -2.8957\n"
     ]
    },
    {
     "name": "stderr",
     "output_type": "stream",
     "text": [
      "Division 5/5:  73%|████████████████████████████████████████████████████████                     | 739/1015 [01:00<00:21, 12.61it/s]"
     ]
    },
    {
     "name": "stdout",
     "output_type": "stream",
     "text": [
      "Epoch:   5 | Samples:    736/1016 | RMSE Loss: 0.5318 | MSE Loss: 0.4777 | target: -4.9070 | pred: -4.3043\n"
     ]
    },
    {
     "name": "stderr",
     "output_type": "stream",
     "text": [
      "Division 5/5:  76%|██████████████████████████████████████████████████████████▍                  | 770/1015 [01:02<00:18, 13.24it/s]"
     ]
    },
    {
     "name": "stdout",
     "output_type": "stream",
     "text": [
      "Epoch:   5 | Samples:    768/1016 | RMSE Loss: 0.5289 | MSE Loss: 0.4703 | target: -0.1400 | pred: -0.2373\n"
     ]
    },
    {
     "name": "stderr",
     "output_type": "stream",
     "text": [
      "Division 5/5:  79%|████████████████████████████████████████████████████████████▊                | 801/1015 [01:05<00:18, 11.76it/s]"
     ]
    },
    {
     "name": "stdout",
     "output_type": "stream",
     "text": [
      "Epoch:   5 | Samples:    800/1016 | RMSE Loss: 0.5327 | MSE Loss: 0.4772 | target: -3.7000 | pred: -4.4424\n"
     ]
    },
    {
     "name": "stderr",
     "output_type": "stream",
     "text": [
      "Division 5/5:  82%|███████████████████████████████████████████████████████████████▎             | 835/1015 [01:08<00:14, 12.72it/s]"
     ]
    },
    {
     "name": "stdout",
     "output_type": "stream",
     "text": [
      "Epoch:   5 | Samples:    832/1016 | RMSE Loss: 0.5307 | MSE Loss: 0.4729 | target: -4.0800 | pred: -4.4354\n"
     ]
    },
    {
     "name": "stderr",
     "output_type": "stream",
     "text": [
      "Division 5/5:  85%|█████████████████████████████████████████████████████████████████▊           | 867/1015 [01:10<00:10, 14.50it/s]"
     ]
    },
    {
     "name": "stdout",
     "output_type": "stream",
     "text": [
      "Epoch:   5 | Samples:    864/1016 | RMSE Loss: 0.5306 | MSE Loss: 0.4785 | target: 0.3600 | pred: -0.8463\n"
     ]
    },
    {
     "name": "stderr",
     "output_type": "stream",
     "text": [
      "Division 5/5:  89%|████████████████████████████████████████████████████████████████████▏        | 899/1015 [01:13<00:08, 13.28it/s]"
     ]
    },
    {
     "name": "stdout",
     "output_type": "stream",
     "text": [
      "Epoch:   5 | Samples:    896/1016 | RMSE Loss: 0.5267 | MSE Loss: 0.4741 | target: -7.2100 | pred: -7.4393\n"
     ]
    },
    {
     "name": "stderr",
     "output_type": "stream",
     "text": [
      "Division 5/5:  92%|██████████████████████████████████████████████████████████████████████▌      | 930/1015 [01:16<00:09,  9.13it/s]"
     ]
    },
    {
     "name": "stdout",
     "output_type": "stream",
     "text": [
      "Epoch:   5 | Samples:    928/1016 | RMSE Loss: 0.5255 | MSE Loss: 0.4707 | target: -0.8500 | pred: -2.1908\n"
     ]
    },
    {
     "name": "stderr",
     "output_type": "stream",
     "text": [
      "Division 5/5:  95%|█████████████████████████████████████████████████████████████████████████    | 963/1015 [01:19<00:04, 10.65it/s]"
     ]
    },
    {
     "name": "stdout",
     "output_type": "stream",
     "text": [
      "Epoch:   5 | Samples:    960/1016 | RMSE Loss: 0.5212 | MSE Loss: 0.4660 | target: -1.8000 | pred: -1.9249\n"
     ]
    },
    {
     "name": "stderr",
     "output_type": "stream",
     "text": [
      "Division 5/5:  98%|███████████████████████████████████████████████████████████████████████████▍ | 995/1015 [01:21<00:01, 10.72it/s]"
     ]
    },
    {
     "name": "stdout",
     "output_type": "stream",
     "text": [
      "Epoch:   5 | Samples:    992/1016 | RMSE Loss: 0.5193 | MSE Loss: 0.4640 | target: -2.4600 | pred: -2.4436\n"
     ]
    },
    {
     "name": "stderr",
     "output_type": "stream",
     "text": [
      "Division 5/5: 100%|████████████████████████████████████████████████████████████████████████████| 1015/1015 [01:23<00:00, 12.14it/s]\n",
      "Division 5/5:   0%|▏                                                                              | 3/1015 [00:00<01:14, 13.67it/s]"
     ]
    },
    {
     "name": "stdout",
     "output_type": "stream",
     "text": [
      "Epoch:   6 | Samples:      0/1016 | RMSE Loss: 0.4653 | MSE Loss: 0.2165 | target: -4.5540 | pred: -4.0887\n"
     ]
    },
    {
     "name": "stderr",
     "output_type": "stream",
     "text": [
      "Division 5/5:   3%|██▌                                                                           | 34/1015 [00:02<01:20, 12.13it/s]"
     ]
    },
    {
     "name": "stdout",
     "output_type": "stream",
     "text": [
      "Epoch:   6 | Samples:     32/1016 | RMSE Loss: 0.5773 | MSE Loss: 0.5300 | target: -3.8960 | pred: -5.3670\n"
     ]
    },
    {
     "name": "stderr",
     "output_type": "stream",
     "text": [
      "Division 5/5:   7%|█████                                                                         | 66/1015 [00:05<01:27, 10.91it/s]"
     ]
    },
    {
     "name": "stdout",
     "output_type": "stream",
     "text": [
      "Epoch:   6 | Samples:     64/1016 | RMSE Loss: 0.5206 | MSE Loss: 0.4590 | target: -4.1000 | pred: -4.2722\n"
     ]
    },
    {
     "name": "stderr",
     "output_type": "stream",
     "text": [
      "Division 5/5:  10%|███████▌                                                                     | 100/1015 [00:07<01:11, 12.88it/s]"
     ]
    },
    {
     "name": "stdout",
     "output_type": "stream",
     "text": [
      "Epoch:   6 | Samples:     96/1016 | RMSE Loss: 0.5452 | MSE Loss: 0.4822 | target: -1.3300 | pred: -0.9427\n"
     ]
    },
    {
     "name": "stderr",
     "output_type": "stream",
     "text": [
      "Division 5/5:  13%|█████████▉                                                                   | 131/1015 [00:10<01:11, 12.43it/s]"
     ]
    },
    {
     "name": "stdout",
     "output_type": "stream",
     "text": [
      "Epoch:   6 | Samples:    128/1016 | RMSE Loss: 0.5191 | MSE Loss: 0.4296 | target: 0.0090 | pred: 0.4170\n"
     ]
    },
    {
     "name": "stderr",
     "output_type": "stream",
     "text": [
      "Division 5/5:  16%|████████████▎                                                                | 162/1015 [00:12<01:07, 12.65it/s]"
     ]
    },
    {
     "name": "stdout",
     "output_type": "stream",
     "text": [
      "Epoch:   6 | Samples:    160/1016 | RMSE Loss: 0.5100 | MSE Loss: 0.4216 | target: -1.0900 | pred: -1.5403\n"
     ]
    },
    {
     "name": "stderr",
     "output_type": "stream",
     "text": [
      "Division 5/5:  19%|██████████████▊                                                              | 195/1015 [00:15<01:05, 12.46it/s]"
     ]
    },
    {
     "name": "stdout",
     "output_type": "stream",
     "text": [
      "Epoch:   6 | Samples:    192/1016 | RMSE Loss: 0.5197 | MSE Loss: 0.4438 | target: -1.3700 | pred: -1.7809\n"
     ]
    },
    {
     "name": "stderr",
     "output_type": "stream",
     "text": [
      "Division 5/5:  22%|█████████████████▏                                                           | 226/1015 [00:18<00:59, 13.25it/s]"
     ]
    },
    {
     "name": "stdout",
     "output_type": "stream",
     "text": [
      "Epoch:   6 | Samples:    224/1016 | RMSE Loss: 0.5222 | MSE Loss: 0.4476 | target: -2.0500 | pred: -2.0808\n"
     ]
    },
    {
     "name": "stderr",
     "output_type": "stream",
     "text": [
      "Division 5/5:  25%|███████████████████▍                                                         | 257/1015 [00:21<01:10, 10.68it/s]"
     ]
    },
    {
     "name": "stdout",
     "output_type": "stream",
     "text": [
      "Epoch:   6 | Samples:    256/1016 | RMSE Loss: 0.5216 | MSE Loss: 0.4475 | target: -4.4200 | pred: -4.7199\n"
     ]
    },
    {
     "name": "stderr",
     "output_type": "stream",
     "text": [
      "Division 5/5:  29%|██████████████████████▏                                                      | 292/1015 [00:24<00:59, 12.10it/s]"
     ]
    },
    {
     "name": "stdout",
     "output_type": "stream",
     "text": [
      "Epoch:   6 | Samples:    288/1016 | RMSE Loss: 0.5254 | MSE Loss: 0.4551 | target: -2.3690 | pred: -2.5328\n"
     ]
    },
    {
     "name": "stderr",
     "output_type": "stream",
     "text": [
      "Division 5/5:  32%|████████████████████████▌                                                    | 323/1015 [00:26<00:48, 14.39it/s]"
     ]
    },
    {
     "name": "stdout",
     "output_type": "stream",
     "text": [
      "Epoch:   6 | Samples:    320/1016 | RMSE Loss: 0.5247 | MSE Loss: 0.4620 | target: -3.3500 | pred: -4.4337\n"
     ]
    },
    {
     "name": "stderr",
     "output_type": "stream",
     "text": [
      "Division 5/5:  35%|██████████████████████████▊                                                  | 353/1015 [00:29<01:11,  9.29it/s]"
     ]
    },
    {
     "name": "stdout",
     "output_type": "stream",
     "text": [
      "Epoch:   6 | Samples:    352/1016 | RMSE Loss: 0.5389 | MSE Loss: 0.4937 | target: -2.1480 | pred: -1.5567\n"
     ]
    },
    {
     "name": "stderr",
     "output_type": "stream",
     "text": [
      "Division 5/5:  38%|█████████████████████████████▎                                               | 386/1015 [00:32<00:58, 10.73it/s]"
     ]
    },
    {
     "name": "stdout",
     "output_type": "stream",
     "text": [
      "Epoch:   6 | Samples:    384/1016 | RMSE Loss: 0.5299 | MSE Loss: 0.4768 | target: -3.4990 | pred: -4.3854\n"
     ]
    },
    {
     "name": "stderr",
     "output_type": "stream",
     "text": [
      "Division 5/5:  41%|███████████████████████████████▋                                             | 418/1015 [00:35<00:40, 14.77it/s]"
     ]
    },
    {
     "name": "stdout",
     "output_type": "stream",
     "text": [
      "Epoch:   6 | Samples:    416/1016 | RMSE Loss: 0.5205 | MSE Loss: 0.4621 | target: -1.6140 | pred: -2.1404\n"
     ]
    },
    {
     "name": "stderr",
     "output_type": "stream",
     "text": [
      "Division 5/5:  44%|██████████████████████████████████▏                                          | 451/1015 [00:38<00:41, 13.74it/s]"
     ]
    },
    {
     "name": "stdout",
     "output_type": "stream",
     "text": [
      "Epoch:   6 | Samples:    448/1016 | RMSE Loss: 0.5209 | MSE Loss: 0.4569 | target: -4.5600 | pred: -3.9880\n"
     ]
    },
    {
     "name": "stderr",
     "output_type": "stream",
     "text": [
      "Division 5/5:  47%|████████████████████████████████████▎                                        | 479/1015 [00:40<00:46, 11.57it/s]"
     ]
    },
    {
     "name": "stdout",
     "output_type": "stream",
     "text": [
      "Epoch:   6 | Samples:    480/1016 | RMSE Loss: 0.5193 | MSE Loss: 0.4516 | target: -2.5100 | pred: -1.3030\n"
     ]
    },
    {
     "name": "stderr",
     "output_type": "stream",
     "text": [
      "Division 5/5:  51%|███████████████████████████████████████                                      | 515/1015 [00:43<00:43, 11.43it/s]"
     ]
    },
    {
     "name": "stdout",
     "output_type": "stream",
     "text": [
      "Epoch:   6 | Samples:    512/1016 | RMSE Loss: 0.5203 | MSE Loss: 0.4504 | target: -3.3600 | pred: -3.3129\n"
     ]
    },
    {
     "name": "stderr",
     "output_type": "stream",
     "text": [
      "Division 5/5:  54%|█████████████████████████████████████████▍                                   | 547/1015 [00:46<00:33, 14.02it/s]"
     ]
    },
    {
     "name": "stdout",
     "output_type": "stream",
     "text": [
      "Epoch:   6 | Samples:    544/1016 | RMSE Loss: 0.5287 | MSE Loss: 0.4739 | target: -7.6800 | pred: -8.2841\n"
     ]
    },
    {
     "name": "stderr",
     "output_type": "stream",
     "text": [
      "Division 5/5:  57%|███████████████████████████████████████████▉                                 | 579/1015 [00:49<00:32, 13.47it/s]"
     ]
    },
    {
     "name": "stdout",
     "output_type": "stream",
     "text": [
      "Epoch:   6 | Samples:    576/1016 | RMSE Loss: 0.5291 | MSE Loss: 0.4736 | target: -2.8200 | pred: -2.6517\n"
     ]
    },
    {
     "name": "stderr",
     "output_type": "stream",
     "text": [
      "Division 5/5:  60%|██████████████████████████████████████████████▎                              | 610/1015 [00:51<00:27, 14.94it/s]"
     ]
    },
    {
     "name": "stdout",
     "output_type": "stream",
     "text": [
      "Epoch:   6 | Samples:    608/1016 | RMSE Loss: 0.5305 | MSE Loss: 0.4723 | target: -2.0300 | pred: -1.7274\n"
     ]
    },
    {
     "name": "stderr",
     "output_type": "stream",
     "text": [
      "Division 5/5:  63%|████████████████████████████████████████████████▊                            | 643/1015 [00:53<00:21, 17.18it/s]"
     ]
    },
    {
     "name": "stdout",
     "output_type": "stream",
     "text": [
      "Epoch:   6 | Samples:    640/1016 | RMSE Loss: 0.5279 | MSE Loss: 0.4670 | target: -2.6800 | pred: -2.5931\n"
     ]
    },
    {
     "name": "stderr",
     "output_type": "stream",
     "text": [
      "Division 5/5:  66%|███████████████████████████████████████████████████▏                         | 674/1015 [00:56<00:26, 12.71it/s]"
     ]
    },
    {
     "name": "stdout",
     "output_type": "stream",
     "text": [
      "Epoch:   6 | Samples:    672/1016 | RMSE Loss: 0.5219 | MSE Loss: 0.4562 | target: -3.9530 | pred: -4.2590\n"
     ]
    },
    {
     "name": "stderr",
     "output_type": "stream",
     "text": [
      "Division 5/5:  70%|█████████████████████████████████████████████████████▋                       | 708/1015 [00:58<00:23, 13.28it/s]"
     ]
    },
    {
     "name": "stdout",
     "output_type": "stream",
     "text": [
      "Epoch:   6 | Samples:    704/1016 | RMSE Loss: 0.5145 | MSE Loss: 0.4474 | target: -3.0940 | pred: -2.8277\n"
     ]
    },
    {
     "name": "stderr",
     "output_type": "stream",
     "text": [
      "Division 5/5:  73%|████████████████████████████████████████████████████████                     | 739/1015 [01:00<00:21, 12.65it/s]"
     ]
    },
    {
     "name": "stdout",
     "output_type": "stream",
     "text": [
      "Epoch:   6 | Samples:    736/1016 | RMSE Loss: 0.5104 | MSE Loss: 0.4419 | target: -4.9070 | pred: -4.3457\n"
     ]
    },
    {
     "name": "stderr",
     "output_type": "stream",
     "text": [
      "Division 5/5:  76%|██████████████████████████████████████████████████████████▍                  | 770/1015 [01:03<00:17, 13.99it/s]"
     ]
    },
    {
     "name": "stdout",
     "output_type": "stream",
     "text": [
      "Epoch:   6 | Samples:    768/1016 | RMSE Loss: 0.5076 | MSE Loss: 0.4353 | target: -0.1400 | pred: -0.2278\n"
     ]
    },
    {
     "name": "stderr",
     "output_type": "stream",
     "text": [
      "Division 5/5:  79%|████████████████████████████████████████████████████████████▊                | 801/1015 [01:05<00:18, 11.76it/s]"
     ]
    },
    {
     "name": "stdout",
     "output_type": "stream",
     "text": [
      "Epoch:   6 | Samples:    800/1016 | RMSE Loss: 0.5112 | MSE Loss: 0.4417 | target: -3.7000 | pred: -4.3634\n"
     ]
    },
    {
     "name": "stderr",
     "output_type": "stream",
     "text": [
      "Division 5/5:  82%|███████████████████████████████████████████████████████████████▍             | 836/1015 [01:08<00:13, 13.59it/s]"
     ]
    },
    {
     "name": "stdout",
     "output_type": "stream",
     "text": [
      "Epoch:   6 | Samples:    832/1016 | RMSE Loss: 0.5094 | MSE Loss: 0.4383 | target: -4.0800 | pred: -4.4298\n"
     ]
    },
    {
     "name": "stderr",
     "output_type": "stream",
     "text": [
      "Division 5/5:  85%|█████████████████████████████████████████████████████████████████▊           | 867/1015 [01:11<00:10, 14.71it/s]"
     ]
    },
    {
     "name": "stdout",
     "output_type": "stream",
     "text": [
      "Epoch:   6 | Samples:    864/1016 | RMSE Loss: 0.5097 | MSE Loss: 0.4433 | target: 0.3600 | pred: -0.7991\n"
     ]
    },
    {
     "name": "stderr",
     "output_type": "stream",
     "text": [
      "Division 5/5:  89%|████████████████████████████████████████████████████████████████████▏        | 899/1015 [01:14<00:08, 13.37it/s]"
     ]
    },
    {
     "name": "stdout",
     "output_type": "stream",
     "text": [
      "Epoch:   6 | Samples:    896/1016 | RMSE Loss: 0.5064 | MSE Loss: 0.4398 | target: -7.2100 | pred: -7.4881\n"
     ]
    },
    {
     "name": "stderr",
     "output_type": "stream",
     "text": [
      "Division 5/5:  92%|██████████████████████████████████████████████████████████████████████▌      | 930/1015 [01:16<00:09,  9.19it/s]"
     ]
    },
    {
     "name": "stdout",
     "output_type": "stream",
     "text": [
      "Epoch:   6 | Samples:    928/1016 | RMSE Loss: 0.5048 | MSE Loss: 0.4360 | target: -0.8500 | pred: -2.1608\n"
     ]
    },
    {
     "name": "stderr",
     "output_type": "stream",
     "text": [
      "Division 5/5:  95%|█████████████████████████████████████████████████████████████████████████    | 963/1015 [01:19<00:04, 10.74it/s]"
     ]
    },
    {
     "name": "stdout",
     "output_type": "stream",
     "text": [
      "Epoch:   6 | Samples:    960/1016 | RMSE Loss: 0.5005 | MSE Loss: 0.4313 | target: -1.8000 | pred: -1.8731\n"
     ]
    },
    {
     "name": "stderr",
     "output_type": "stream",
     "text": [
      "Division 5/5:  98%|███████████████████████████████████████████████████████████████████████████▍ | 995/1015 [01:22<00:01, 10.65it/s]"
     ]
    },
    {
     "name": "stdout",
     "output_type": "stream",
     "text": [
      "Epoch:   6 | Samples:    992/1016 | RMSE Loss: 0.4992 | MSE Loss: 0.4300 | target: -2.4600 | pred: -2.4639\n"
     ]
    },
    {
     "name": "stderr",
     "output_type": "stream",
     "text": [
      "Division 5/5: 100%|████████████████████████████████████████████████████████████████████████████| 1015/1015 [01:23<00:00, 12.10it/s]\n",
      "Division 5/5:   0%|▏                                                                              | 3/1015 [00:00<01:14, 13.63it/s]"
     ]
    },
    {
     "name": "stdout",
     "output_type": "stream",
     "text": [
      "Epoch:   7 | Samples:      0/1016 | RMSE Loss: 0.4068 | MSE Loss: 0.1655 | target: -4.5540 | pred: -4.1472\n"
     ]
    },
    {
     "name": "stderr",
     "output_type": "stream",
     "text": [
      "Division 5/5:   3%|██▋                                                                           | 35/1015 [00:02<01:18, 12.54it/s]"
     ]
    },
    {
     "name": "stdout",
     "output_type": "stream",
     "text": [
      "Epoch:   7 | Samples:     32/1016 | RMSE Loss: 0.5509 | MSE Loss: 0.4978 | target: -3.8960 | pred: -5.3701\n"
     ]
    },
    {
     "name": "stderr",
     "output_type": "stream",
     "text": [
      "Division 5/5:   7%|█████▏                                                                        | 67/1015 [00:05<01:19, 11.99it/s]"
     ]
    },
    {
     "name": "stdout",
     "output_type": "stream",
     "text": [
      "Epoch:   7 | Samples:     64/1016 | RMSE Loss: 0.4954 | MSE Loss: 0.4243 | target: -4.1000 | pred: -4.2299\n"
     ]
    },
    {
     "name": "stderr",
     "output_type": "stream",
     "text": [
      "Division 5/5:  10%|███████▌                                                                     | 100/1015 [00:07<01:11, 12.87it/s]"
     ]
    },
    {
     "name": "stdout",
     "output_type": "stream",
     "text": [
      "Epoch:   7 | Samples:     96/1016 | RMSE Loss: 0.5224 | MSE Loss: 0.4453 | target: -1.3300 | pred: -0.9370\n"
     ]
    },
    {
     "name": "stderr",
     "output_type": "stream",
     "text": [
      "Division 5/5:  13%|█████████▉                                                                   | 131/1015 [00:10<01:12, 12.19it/s]"
     ]
    },
    {
     "name": "stdout",
     "output_type": "stream",
     "text": [
      "Epoch:   7 | Samples:    128/1016 | RMSE Loss: 0.4999 | MSE Loss: 0.4028 | target: 0.0090 | pred: 0.5164\n"
     ]
    },
    {
     "name": "stderr",
     "output_type": "stream",
     "text": [
      "Division 5/5:  16%|████████████▎                                                                | 162/1015 [00:12<01:07, 12.58it/s]"
     ]
    },
    {
     "name": "stdout",
     "output_type": "stream",
     "text": [
      "Epoch:   7 | Samples:    160/1016 | RMSE Loss: 0.4935 | MSE Loss: 0.3965 | target: -1.0900 | pred: -1.5478\n"
     ]
    },
    {
     "name": "stderr",
     "output_type": "stream",
     "text": [
      "Division 5/5:  19%|██████████████▊                                                              | 195/1015 [00:15<01:06, 12.31it/s]"
     ]
    },
    {
     "name": "stdout",
     "output_type": "stream",
     "text": [
      "Epoch:   7 | Samples:    192/1016 | RMSE Loss: 0.5038 | MSE Loss: 0.4169 | target: -1.3700 | pred: -1.7525\n"
     ]
    },
    {
     "name": "stderr",
     "output_type": "stream",
     "text": [
      "Division 5/5:  22%|█████████████████▏                                                           | 226/1015 [00:18<00:59, 13.36it/s]"
     ]
    },
    {
     "name": "stdout",
     "output_type": "stream",
     "text": [
      "Epoch:   7 | Samples:    224/1016 | RMSE Loss: 0.5053 | MSE Loss: 0.4202 | target: -2.0500 | pred: -2.0829\n"
     ]
    },
    {
     "name": "stderr",
     "output_type": "stream",
     "text": [
      "Division 5/5:  25%|███████████████████▍                                                         | 257/1015 [00:21<01:08, 11.05it/s]"
     ]
    },
    {
     "name": "stdout",
     "output_type": "stream",
     "text": [
      "Epoch:   7 | Samples:    256/1016 | RMSE Loss: 0.5071 | MSE Loss: 0.4227 | target: -4.4200 | pred: -4.6675\n"
     ]
    },
    {
     "name": "stderr",
     "output_type": "stream",
     "text": [
      "Division 5/5:  29%|██████████████████████▏                                                      | 292/1015 [00:24<00:59, 12.15it/s]"
     ]
    },
    {
     "name": "stdout",
     "output_type": "stream",
     "text": [
      "Epoch:   7 | Samples:    288/1016 | RMSE Loss: 0.5099 | MSE Loss: 0.4283 | target: -2.3690 | pred: -2.4964\n"
     ]
    },
    {
     "name": "stderr",
     "output_type": "stream",
     "text": [
      "Division 5/5:  32%|████████████████████████▌                                                    | 323/1015 [00:26<00:48, 14.33it/s]"
     ]
    },
    {
     "name": "stdout",
     "output_type": "stream",
     "text": [
      "Epoch:   7 | Samples:    320/1016 | RMSE Loss: 0.5090 | MSE Loss: 0.4357 | target: -3.3500 | pred: -4.4547\n"
     ]
    },
    {
     "name": "stderr",
     "output_type": "stream",
     "text": [
      "Division 5/5:  35%|██████████████████████████▊                                                  | 353/1015 [00:29<01:11,  9.32it/s]"
     ]
    },
    {
     "name": "stdout",
     "output_type": "stream",
     "text": [
      "Epoch:   7 | Samples:    352/1016 | RMSE Loss: 0.5241 | MSE Loss: 0.4648 | target: -2.1480 | pred: -1.5256\n"
     ]
    },
    {
     "name": "stderr",
     "output_type": "stream",
     "text": [
      "Division 5/5:  38%|█████████████████████████████▎                                               | 386/1015 [00:32<00:57, 10.98it/s]"
     ]
    },
    {
     "name": "stdout",
     "output_type": "stream",
     "text": [
      "Epoch:   7 | Samples:    384/1016 | RMSE Loss: 0.5141 | MSE Loss: 0.4488 | target: -3.4990 | pred: -4.2911\n"
     ]
    },
    {
     "name": "stderr",
     "output_type": "stream",
     "text": [
      "Division 5/5:  41%|███████████████████████████████▋                                             | 418/1015 [00:35<00:40, 14.78it/s]"
     ]
    },
    {
     "name": "stdout",
     "output_type": "stream",
     "text": [
      "Epoch:   7 | Samples:    416/1016 | RMSE Loss: 0.5052 | MSE Loss: 0.4353 | target: -1.6140 | pred: -2.0840\n"
     ]
    },
    {
     "name": "stderr",
     "output_type": "stream",
     "text": [
      "Division 5/5:  44%|██████████████████████████████████▏                                          | 451/1015 [00:38<00:40, 13.79it/s]"
     ]
    },
    {
     "name": "stdout",
     "output_type": "stream",
     "text": [
      "Epoch:   7 | Samples:    448/1016 | RMSE Loss: 0.5058 | MSE Loss: 0.4306 | target: -4.5600 | pred: -4.0483\n"
     ]
    },
    {
     "name": "stderr",
     "output_type": "stream",
     "text": [
      "Division 5/5:  47%|████████████████████████████████████▎                                        | 479/1015 [00:40<00:46, 11.65it/s]"
     ]
    },
    {
     "name": "stdout",
     "output_type": "stream",
     "text": [
      "Epoch:   7 | Samples:    480/1016 | RMSE Loss: 0.5035 | MSE Loss: 0.4250 | target: -2.5100 | pred: -1.3626\n"
     ]
    },
    {
     "name": "stderr",
     "output_type": "stream",
     "text": [
      "Division 5/5:  51%|███████████████████████████████████████                                      | 515/1015 [00:43<00:43, 11.43it/s]"
     ]
    },
    {
     "name": "stdout",
     "output_type": "stream",
     "text": [
      "Epoch:   7 | Samples:    512/1016 | RMSE Loss: 0.5052 | MSE Loss: 0.4252 | target: -3.3600 | pred: -3.3962\n"
     ]
    },
    {
     "name": "stderr",
     "output_type": "stream",
     "text": [
      "Division 5/5:  54%|█████████████████████████████████████████▍                                   | 547/1015 [00:46<00:33, 14.04it/s]"
     ]
    },
    {
     "name": "stdout",
     "output_type": "stream",
     "text": [
      "Epoch:   7 | Samples:    544/1016 | RMSE Loss: 0.5136 | MSE Loss: 0.4479 | target: -7.6800 | pred: -8.3542\n"
     ]
    },
    {
     "name": "stderr",
     "output_type": "stream",
     "text": [
      "Division 5/5:  57%|███████████████████████████████████████████▉                                 | 579/1015 [00:48<00:32, 13.30it/s]"
     ]
    },
    {
     "name": "stdout",
     "output_type": "stream",
     "text": [
      "Epoch:   7 | Samples:    576/1016 | RMSE Loss: 0.5153 | MSE Loss: 0.4495 | target: -2.8200 | pred: -2.5982\n"
     ]
    },
    {
     "name": "stderr",
     "output_type": "stream",
     "text": [
      "Division 5/5:  60%|██████████████████████████████████████████████▎                              | 610/1015 [00:51<00:27, 14.95it/s]"
     ]
    },
    {
     "name": "stdout",
     "output_type": "stream",
     "text": [
      "Epoch:   7 | Samples:    608/1016 | RMSE Loss: 0.5164 | MSE Loss: 0.4476 | target: -2.0300 | pred: -1.7668\n"
     ]
    },
    {
     "name": "stderr",
     "output_type": "stream",
     "text": [
      "Division 5/5:  63%|████████████████████████████████████████████████▊                            | 643/1015 [00:53<00:21, 17.14it/s]"
     ]
    },
    {
     "name": "stdout",
     "output_type": "stream",
     "text": [
      "Epoch:   7 | Samples:    640/1016 | RMSE Loss: 0.5133 | MSE Loss: 0.4425 | target: -2.6800 | pred: -2.5976\n"
     ]
    },
    {
     "name": "stderr",
     "output_type": "stream",
     "text": [
      "Division 5/5:  67%|███████████████████████████████████████████████████▏                         | 675/1015 [00:56<00:26, 12.78it/s]"
     ]
    },
    {
     "name": "stdout",
     "output_type": "stream",
     "text": [
      "Epoch:   7 | Samples:    672/1016 | RMSE Loss: 0.5074 | MSE Loss: 0.4323 | target: -3.9530 | pred: -4.2154\n"
     ]
    },
    {
     "name": "stderr",
     "output_type": "stream",
     "text": [
      "Division 5/5:  70%|█████████████████████████████████████████████████████▋                       | 708/1015 [00:58<00:23, 13.19it/s]"
     ]
    },
    {
     "name": "stdout",
     "output_type": "stream",
     "text": [
      "Epoch:   7 | Samples:    704/1016 | RMSE Loss: 0.4997 | MSE Loss: 0.4236 | target: -3.0940 | pred: -2.7813\n"
     ]
    },
    {
     "name": "stderr",
     "output_type": "stream",
     "text": [
      "Division 5/5:  73%|████████████████████████████████████████████████████████                     | 739/1015 [01:00<00:21, 12.71it/s]"
     ]
    },
    {
     "name": "stdout",
     "output_type": "stream",
     "text": [
      "Epoch:   7 | Samples:    736/1016 | RMSE Loss: 0.4958 | MSE Loss: 0.4183 | target: -4.9070 | pred: -4.3970\n"
     ]
    },
    {
     "name": "stderr",
     "output_type": "stream",
     "text": [
      "Division 5/5:  76%|██████████████████████████████████████████████████████████▍                  | 770/1015 [01:03<00:17, 13.87it/s]"
     ]
    },
    {
     "name": "stdout",
     "output_type": "stream",
     "text": [
      "Epoch:   7 | Samples:    768/1016 | RMSE Loss: 0.4933 | MSE Loss: 0.4123 | target: -0.1400 | pred: -0.2064\n"
     ]
    },
    {
     "name": "stderr",
     "output_type": "stream",
     "text": [
      "Division 5/5:  79%|████████████████████████████████████████████████████████████▊                | 801/1015 [01:05<00:18, 11.82it/s]"
     ]
    },
    {
     "name": "stdout",
     "output_type": "stream",
     "text": [
      "Epoch:   7 | Samples:    800/1016 | RMSE Loss: 0.4969 | MSE Loss: 0.4185 | target: -3.7000 | pred: -4.2936\n"
     ]
    },
    {
     "name": "stderr",
     "output_type": "stream",
     "text": [
      "Division 5/5:  82%|███████████████████████████████████████████████████████████████▍             | 836/1015 [01:08<00:13, 13.53it/s]"
     ]
    },
    {
     "name": "stdout",
     "output_type": "stream",
     "text": [
      "Epoch:   7 | Samples:    832/1016 | RMSE Loss: 0.4951 | MSE Loss: 0.4158 | target: -4.0800 | pred: -4.4378\n"
     ]
    },
    {
     "name": "stderr",
     "output_type": "stream",
     "text": [
      "Division 5/5:  85%|█████████████████████████████████████████████████████████████████▊           | 867/1015 [01:11<00:10, 14.70it/s]"
     ]
    },
    {
     "name": "stdout",
     "output_type": "stream",
     "text": [
      "Epoch:   7 | Samples:    864/1016 | RMSE Loss: 0.4950 | MSE Loss: 0.4199 | target: 0.3600 | pred: -0.6995\n"
     ]
    },
    {
     "name": "stderr",
     "output_type": "stream",
     "text": [
      "Division 5/5:  89%|████████████████████████████████████████████████████████████████████▏        | 899/1015 [01:14<00:08, 13.35it/s]"
     ]
    },
    {
     "name": "stdout",
     "output_type": "stream",
     "text": [
      "Epoch:   7 | Samples:    896/1016 | RMSE Loss: 0.4920 | MSE Loss: 0.4170 | target: -7.2100 | pred: -7.4430\n"
     ]
    },
    {
     "name": "stderr",
     "output_type": "stream",
     "text": [
      "Division 5/5:  92%|██████████████████████████████████████████████████████████████████████▌      | 930/1015 [01:16<00:09,  9.22it/s]"
     ]
    },
    {
     "name": "stdout",
     "output_type": "stream",
     "text": [
      "Epoch:   7 | Samples:    928/1016 | RMSE Loss: 0.4900 | MSE Loss: 0.4130 | target: -0.8500 | pred: -2.1153\n"
     ]
    },
    {
     "name": "stderr",
     "output_type": "stream",
     "text": [
      "Division 5/5:  95%|█████████████████████████████████████████████████████████████████████████    | 963/1015 [01:19<00:04, 10.45it/s]"
     ]
    },
    {
     "name": "stdout",
     "output_type": "stream",
     "text": [
      "Epoch:   7 | Samples:    960/1016 | RMSE Loss: 0.4854 | MSE Loss: 0.4084 | target: -1.8000 | pred: -1.8712\n"
     ]
    },
    {
     "name": "stderr",
     "output_type": "stream",
     "text": [
      "Division 5/5:  98%|███████████████████████████████████████████████████████████████████████████▍ | 994/1015 [01:22<00:01, 10.80it/s]"
     ]
    },
    {
     "name": "stdout",
     "output_type": "stream",
     "text": [
      "Epoch:   7 | Samples:    992/1016 | RMSE Loss: 0.4844 | MSE Loss: 0.4078 | target: -2.4600 | pred: -2.4898\n"
     ]
    },
    {
     "name": "stderr",
     "output_type": "stream",
     "text": [
      "Division 5/5: 100%|████████████████████████████████████████████████████████████████████████████| 1015/1015 [01:23<00:00, 12.09it/s]\n",
      "Division 5/5:   0%|▏                                                                              | 3/1015 [00:00<01:12, 13.92it/s]"
     ]
    },
    {
     "name": "stdout",
     "output_type": "stream",
     "text": [
      "Epoch:   8 | Samples:      0/1016 | RMSE Loss: 0.3797 | MSE Loss: 0.1441 | target: -4.5540 | pred: -4.1743\n"
     ]
    },
    {
     "name": "stderr",
     "output_type": "stream",
     "text": [
      "Division 5/5:   3%|██▌                                                                           | 34/1015 [00:02<01:21, 11.98it/s]"
     ]
    },
    {
     "name": "stdout",
     "output_type": "stream",
     "text": [
      "Epoch:   8 | Samples:     32/1016 | RMSE Loss: 0.5461 | MSE Loss: 0.4840 | target: -3.8960 | pred: -5.3454\n"
     ]
    },
    {
     "name": "stderr",
     "output_type": "stream",
     "text": [
      "Division 5/5:   7%|█████▏                                                                        | 67/1015 [00:05<01:19, 11.96it/s]"
     ]
    },
    {
     "name": "stdout",
     "output_type": "stream",
     "text": [
      "Epoch:   8 | Samples:     64/1016 | RMSE Loss: 0.4865 | MSE Loss: 0.4019 | target: -4.1000 | pred: -4.2455\n"
     ]
    },
    {
     "name": "stderr",
     "output_type": "stream",
     "text": [
      "Division 5/5:  10%|███████▌                                                                     | 100/1015 [00:07<01:09, 13.18it/s]"
     ]
    },
    {
     "name": "stdout",
     "output_type": "stream",
     "text": [
      "Epoch:   8 | Samples:     96/1016 | RMSE Loss: 0.5114 | MSE Loss: 0.4184 | target: -1.3300 | pred: -0.9393\n"
     ]
    },
    {
     "name": "stderr",
     "output_type": "stream",
     "text": [
      "Division 5/5:  13%|█████████▉                                                                   | 131/1015 [00:10<01:10, 12.45it/s]"
     ]
    },
    {
     "name": "stdout",
     "output_type": "stream",
     "text": [
      "Epoch:   8 | Samples:    128/1016 | RMSE Loss: 0.4854 | MSE Loss: 0.3782 | target: 0.0090 | pred: 0.5844\n"
     ]
    },
    {
     "name": "stderr",
     "output_type": "stream",
     "text": [
      "Division 5/5:  16%|████████████▎                                                                | 162/1015 [00:12<01:07, 12.68it/s]"
     ]
    },
    {
     "name": "stdout",
     "output_type": "stream",
     "text": [
      "Epoch:   8 | Samples:    160/1016 | RMSE Loss: 0.4798 | MSE Loss: 0.3718 | target: -1.0900 | pred: -1.5172\n"
     ]
    },
    {
     "name": "stderr",
     "output_type": "stream",
     "text": [
      "Division 5/5:  19%|██████████████▊                                                              | 195/1015 [00:15<01:07, 12.13it/s]"
     ]
    },
    {
     "name": "stdout",
     "output_type": "stream",
     "text": [
      "Epoch:   8 | Samples:    192/1016 | RMSE Loss: 0.4891 | MSE Loss: 0.3891 | target: -1.3700 | pred: -1.6480\n"
     ]
    },
    {
     "name": "stderr",
     "output_type": "stream",
     "text": [
      "Division 5/5:  22%|█████████████████                                                            | 225/1015 [00:18<01:00, 13.10it/s]"
     ]
    },
    {
     "name": "stdout",
     "output_type": "stream",
     "text": [
      "Epoch:   8 | Samples:    224/1016 | RMSE Loss: 0.4898 | MSE Loss: 0.3936 | target: -2.0500 | pred: -2.1191\n"
     ]
    },
    {
     "name": "stderr",
     "output_type": "stream",
     "text": [
      "Division 5/5:  25%|███████████████████▍                                                         | 257/1015 [00:21<01:09, 10.92it/s]"
     ]
    },
    {
     "name": "stdout",
     "output_type": "stream",
     "text": [
      "Epoch:   8 | Samples:    256/1016 | RMSE Loss: 0.4936 | MSE Loss: 0.3983 | target: -4.4200 | pred: -4.6425\n"
     ]
    },
    {
     "name": "stderr",
     "output_type": "stream",
     "text": [
      "Division 5/5:  29%|██████████████████████▏                                                      | 292/1015 [00:24<00:59, 12.08it/s]"
     ]
    },
    {
     "name": "stdout",
     "output_type": "stream",
     "text": [
      "Epoch:   8 | Samples:    288/1016 | RMSE Loss: 0.4961 | MSE Loss: 0.4042 | target: -2.3690 | pred: -2.4732\n"
     ]
    },
    {
     "name": "stderr",
     "output_type": "stream",
     "text": [
      "Division 5/5:  32%|████████████████████████▌                                                    | 323/1015 [00:26<00:48, 14.27it/s]"
     ]
    },
    {
     "name": "stdout",
     "output_type": "stream",
     "text": [
      "Epoch:   8 | Samples:    320/1016 | RMSE Loss: 0.4949 | MSE Loss: 0.4122 | target: -3.3500 | pred: -4.5066\n"
     ]
    },
    {
     "name": "stderr",
     "output_type": "stream",
     "text": [
      "Division 5/5:  35%|██████████████████████████▊                                                  | 353/1015 [00:29<01:11,  9.32it/s]"
     ]
    },
    {
     "name": "stdout",
     "output_type": "stream",
     "text": [
      "Epoch:   8 | Samples:    352/1016 | RMSE Loss: 0.5098 | MSE Loss: 0.4387 | target: -2.1480 | pred: -1.5201\n"
     ]
    },
    {
     "name": "stderr",
     "output_type": "stream",
     "text": [
      "Division 5/5:  38%|█████████████████████████████▎                                               | 386/1015 [00:32<00:57, 10.95it/s]"
     ]
    },
    {
     "name": "stdout",
     "output_type": "stream",
     "text": [
      "Epoch:   8 | Samples:    384/1016 | RMSE Loss: 0.5006 | MSE Loss: 0.4240 | target: -3.4990 | pred: -4.2675\n"
     ]
    },
    {
     "name": "stderr",
     "output_type": "stream",
     "text": [
      "Division 5/5:  41%|███████████████████████████████▋                                             | 418/1015 [00:35<00:41, 14.55it/s]"
     ]
    },
    {
     "name": "stdout",
     "output_type": "stream",
     "text": [
      "Epoch:   8 | Samples:    416/1016 | RMSE Loss: 0.4927 | MSE Loss: 0.4118 | target: -1.6140 | pred: -2.0651\n"
     ]
    },
    {
     "name": "stderr",
     "output_type": "stream",
     "text": [
      "Division 5/5:  44%|██████████████████████████████████▏                                          | 451/1015 [00:38<00:40, 13.81it/s]"
     ]
    },
    {
     "name": "stdout",
     "output_type": "stream",
     "text": [
      "Epoch:   8 | Samples:    448/1016 | RMSE Loss: 0.4929 | MSE Loss: 0.4070 | target: -4.5600 | pred: -4.0447\n"
     ]
    },
    {
     "name": "stderr",
     "output_type": "stream",
     "text": [
      "Division 5/5:  47%|████████████████████████████████████▎                                        | 479/1015 [00:40<00:46, 11.57it/s]"
     ]
    },
    {
     "name": "stdout",
     "output_type": "stream",
     "text": [
      "Epoch:   8 | Samples:    480/1016 | RMSE Loss: 0.4908 | MSE Loss: 0.4019 | target: -2.5100 | pred: -1.4016\n"
     ]
    },
    {
     "name": "stderr",
     "output_type": "stream",
     "text": [
      "Division 5/5:  51%|███████████████████████████████████████                                      | 515/1015 [00:43<00:43, 11.55it/s]"
     ]
    },
    {
     "name": "stdout",
     "output_type": "stream",
     "text": [
      "Epoch:   8 | Samples:    512/1016 | RMSE Loss: 0.4928 | MSE Loss: 0.4025 | target: -3.3600 | pred: -3.4574\n"
     ]
    },
    {
     "name": "stderr",
     "output_type": "stream",
     "text": [
      "Division 5/5:  54%|█████████████████████████████████████████▍                                   | 547/1015 [00:46<00:33, 13.95it/s]"
     ]
    },
    {
     "name": "stdout",
     "output_type": "stream",
     "text": [
      "Epoch:   8 | Samples:    544/1016 | RMSE Loss: 0.5012 | MSE Loss: 0.4243 | target: -7.6800 | pred: -8.3375\n"
     ]
    },
    {
     "name": "stderr",
     "output_type": "stream",
     "text": [
      "Division 5/5:  57%|███████████████████████████████████████████▉                                 | 579/1015 [00:49<00:32, 13.45it/s]"
     ]
    },
    {
     "name": "stdout",
     "output_type": "stream",
     "text": [
      "Epoch:   8 | Samples:    576/1016 | RMSE Loss: 0.5028 | MSE Loss: 0.4259 | target: -2.8200 | pred: -2.6051\n"
     ]
    },
    {
     "name": "stderr",
     "output_type": "stream",
     "text": [
      "Division 5/5:  60%|██████████████████████████████████████████████▎                              | 610/1015 [00:51<00:27, 14.84it/s]"
     ]
    },
    {
     "name": "stdout",
     "output_type": "stream",
     "text": [
      "Epoch:   8 | Samples:    608/1016 | RMSE Loss: 0.5032 | MSE Loss: 0.4229 | target: -2.0300 | pred: -1.8012\n"
     ]
    },
    {
     "name": "stderr",
     "output_type": "stream",
     "text": [
      "Division 5/5:  63%|████████████████████████████████████████████████▊                            | 643/1015 [00:53<00:22, 16.74it/s]"
     ]
    },
    {
     "name": "stdout",
     "output_type": "stream",
     "text": [
      "Epoch:   8 | Samples:    640/1016 | RMSE Loss: 0.4999 | MSE Loss: 0.4180 | target: -2.6800 | pred: -2.6144\n"
     ]
    },
    {
     "name": "stderr",
     "output_type": "stream",
     "text": [
      "Division 5/5:  66%|███████████████████████████████████████████████████▏                         | 674/1015 [00:56<00:27, 12.52it/s]"
     ]
    },
    {
     "name": "stdout",
     "output_type": "stream",
     "text": [
      "Epoch:   8 | Samples:    672/1016 | RMSE Loss: 0.4945 | MSE Loss: 0.4090 | target: -3.9530 | pred: -4.1938\n"
     ]
    },
    {
     "name": "stderr",
     "output_type": "stream",
     "text": [
      "Division 5/5:  70%|█████████████████████████████████████████████████████▋                       | 708/1015 [00:58<00:22, 13.47it/s]"
     ]
    },
    {
     "name": "stdout",
     "output_type": "stream",
     "text": [
      "Epoch:   8 | Samples:    704/1016 | RMSE Loss: 0.4867 | MSE Loss: 0.4008 | target: -3.0940 | pred: -2.7447\n"
     ]
    },
    {
     "name": "stderr",
     "output_type": "stream",
     "text": [
      "Division 5/5:  73%|████████████████████████████████████████████████████████                     | 739/1015 [01:00<00:21, 12.63it/s]"
     ]
    },
    {
     "name": "stdout",
     "output_type": "stream",
     "text": [
      "Epoch:   8 | Samples:    736/1016 | RMSE Loss: 0.4831 | MSE Loss: 0.3957 | target: -4.9070 | pred: -4.4572\n"
     ]
    },
    {
     "name": "stderr",
     "output_type": "stream",
     "text": [
      "Division 5/5:  76%|██████████████████████████████████████████████████████████▍                  | 770/1015 [01:03<00:18, 13.19it/s]"
     ]
    },
    {
     "name": "stdout",
     "output_type": "stream",
     "text": [
      "Epoch:   8 | Samples:    768/1016 | RMSE Loss: 0.4810 | MSE Loss: 0.3904 | target: -0.1400 | pred: -0.2162\n"
     ]
    },
    {
     "name": "stderr",
     "output_type": "stream",
     "text": [
      "Division 5/5:  79%|████████████████████████████████████████████████████████████▊                | 802/1015 [01:05<00:16, 12.59it/s]"
     ]
    },
    {
     "name": "stdout",
     "output_type": "stream",
     "text": [
      "Epoch:   8 | Samples:    800/1016 | RMSE Loss: 0.4844 | MSE Loss: 0.3964 | target: -3.7000 | pred: -4.2737\n"
     ]
    },
    {
     "name": "stderr",
     "output_type": "stream",
     "text": [
      "Division 5/5:  82%|███████████████████████████████████████████████████████████████▎             | 835/1015 [01:08<00:13, 13.34it/s]"
     ]
    },
    {
     "name": "stdout",
     "output_type": "stream",
     "text": [
      "Epoch:   8 | Samples:    832/1016 | RMSE Loss: 0.4834 | MSE Loss: 0.3950 | target: -4.0800 | pred: -4.4229\n"
     ]
    },
    {
     "name": "stderr",
     "output_type": "stream",
     "text": [
      "Division 5/5:  85%|█████████████████████████████████████████████████████████████████▊           | 867/1015 [01:11<00:10, 14.66it/s]"
     ]
    },
    {
     "name": "stdout",
     "output_type": "stream",
     "text": [
      "Epoch:   8 | Samples:    864/1016 | RMSE Loss: 0.4834 | MSE Loss: 0.3987 | target: 0.3600 | pred: -0.6319\n"
     ]
    },
    {
     "name": "stderr",
     "output_type": "stream",
     "text": [
      "Division 5/5:  89%|████████████████████████████████████████████████████████████████████▏        | 899/1015 [01:14<00:08, 13.36it/s]"
     ]
    },
    {
     "name": "stdout",
     "output_type": "stream",
     "text": [
      "Epoch:   8 | Samples:    896/1016 | RMSE Loss: 0.4810 | MSE Loss: 0.3966 | target: -7.2100 | pred: -7.4664\n"
     ]
    },
    {
     "name": "stderr",
     "output_type": "stream",
     "text": [
      "Division 5/5:  92%|██████████████████████████████████████████████████████████████████████▌      | 930/1015 [01:16<00:09,  9.21it/s]"
     ]
    },
    {
     "name": "stdout",
     "output_type": "stream",
     "text": [
      "Epoch:   8 | Samples:    928/1016 | RMSE Loss: 0.4783 | MSE Loss: 0.3922 | target: -0.8500 | pred: -2.0626\n"
     ]
    },
    {
     "name": "stderr",
     "output_type": "stream",
     "text": [
      "Division 5/5:  95%|█████████████████████████████████████████████████████████████████████████    | 963/1015 [01:19<00:04, 10.68it/s]"
     ]
    },
    {
     "name": "stdout",
     "output_type": "stream",
     "text": [
      "Epoch:   8 | Samples:    960/1016 | RMSE Loss: 0.4735 | MSE Loss: 0.3872 | target: -1.8000 | pred: -1.8546\n"
     ]
    },
    {
     "name": "stderr",
     "output_type": "stream",
     "text": [
      "Division 5/5:  98%|███████████████████████████████████████████████████████████████████████████▍ | 995/1015 [01:22<00:01, 10.68it/s]"
     ]
    },
    {
     "name": "stdout",
     "output_type": "stream",
     "text": [
      "Epoch:   8 | Samples:    992/1016 | RMSE Loss: 0.4725 | MSE Loss: 0.3868 | target: -2.4600 | pred: -2.5006\n"
     ]
    },
    {
     "name": "stderr",
     "output_type": "stream",
     "text": [
      "Division 5/5: 100%|████████████████████████████████████████████████████████████████████████████| 1015/1015 [01:24<00:00, 12.08it/s]\n",
      "Division 5/5:   0%|▏                                                                              | 3/1015 [00:00<01:12, 13.87it/s]"
     ]
    },
    {
     "name": "stdout",
     "output_type": "stream",
     "text": [
      "Epoch:   9 | Samples:      0/1016 | RMSE Loss: 0.3770 | MSE Loss: 0.1421 | target: -4.5540 | pred: -4.1770\n"
     ]
    },
    {
     "name": "stderr",
     "output_type": "stream",
     "text": [
      "Division 5/5:   3%|██▌                                                                           | 34/1015 [00:02<01:22, 11.95it/s]"
     ]
    },
    {
     "name": "stdout",
     "output_type": "stream",
     "text": [
      "Epoch:   9 | Samples:     32/1016 | RMSE Loss: 0.5358 | MSE Loss: 0.4673 | target: -3.8960 | pred: -5.3366\n"
     ]
    },
    {
     "name": "stderr",
     "output_type": "stream",
     "text": [
      "Division 5/5:   7%|█████                                                                         | 66/1015 [00:05<01:27, 10.84it/s]"
     ]
    },
    {
     "name": "stdout",
     "output_type": "stream",
     "text": [
      "Epoch:   9 | Samples:     64/1016 | RMSE Loss: 0.4721 | MSE Loss: 0.3804 | target: -4.1000 | pred: -4.2205\n"
     ]
    },
    {
     "name": "stderr",
     "output_type": "stream",
     "text": [
      "Division 5/5:  10%|███████▍                                                                      | 97/1015 [00:07<01:19, 11.50it/s]"
     ]
    },
    {
     "name": "stdout",
     "output_type": "stream",
     "text": [
      "Epoch:   9 | Samples:     96/1016 | RMSE Loss: 0.4997 | MSE Loss: 0.3963 | target: -1.3300 | pred: -0.9785\n"
     ]
    },
    {
     "name": "stderr",
     "output_type": "stream",
     "text": [
      "Division 5/5:  13%|█████████▉                                                                   | 131/1015 [00:10<01:11, 12.45it/s]"
     ]
    },
    {
     "name": "stdout",
     "output_type": "stream",
     "text": [
      "Epoch:   9 | Samples:    128/1016 | RMSE Loss: 0.4716 | MSE Loss: 0.3587 | target: 0.0090 | pred: 0.6594\n"
     ]
    },
    {
     "name": "stderr",
     "output_type": "stream",
     "text": [
      "Division 5/5:  16%|████████████▎                                                                | 162/1015 [00:12<01:07, 12.63it/s]"
     ]
    },
    {
     "name": "stdout",
     "output_type": "stream",
     "text": [
      "Epoch:   9 | Samples:    160/1016 | RMSE Loss: 0.4675 | MSE Loss: 0.3530 | target: -1.0900 | pred: -1.4962\n"
     ]
    },
    {
     "name": "stderr",
     "output_type": "stream",
     "text": [
      "Division 5/5:  19%|██████████████▊                                                              | 195/1015 [00:15<01:06, 12.37it/s]"
     ]
    },
    {
     "name": "stdout",
     "output_type": "stream",
     "text": [
      "Epoch:   9 | Samples:    192/1016 | RMSE Loss: 0.4768 | MSE Loss: 0.3689 | target: -1.3700 | pred: -1.6418\n"
     ]
    },
    {
     "name": "stderr",
     "output_type": "stream",
     "text": [
      "Division 5/5:  22%|█████████████████▏                                                           | 226/1015 [00:18<00:58, 13.39it/s]"
     ]
    },
    {
     "name": "stdout",
     "output_type": "stream",
     "text": [
      "Epoch:   9 | Samples:    224/1016 | RMSE Loss: 0.4750 | MSE Loss: 0.3718 | target: -2.0500 | pred: -2.0938\n"
     ]
    },
    {
     "name": "stderr",
     "output_type": "stream",
     "text": [
      "Division 5/5:  25%|███████████████████▍                                                         | 257/1015 [00:21<01:07, 11.17it/s]"
     ]
    },
    {
     "name": "stdout",
     "output_type": "stream",
     "text": [
      "Epoch:   9 | Samples:    256/1016 | RMSE Loss: 0.4794 | MSE Loss: 0.3774 | target: -4.4200 | pred: -4.6010\n"
     ]
    },
    {
     "name": "stderr",
     "output_type": "stream",
     "text": [
      "Division 5/5:  29%|██████████████████████▏                                                      | 292/1015 [00:24<00:59, 12.10it/s]"
     ]
    },
    {
     "name": "stdout",
     "output_type": "stream",
     "text": [
      "Epoch:   9 | Samples:    288/1016 | RMSE Loss: 0.4807 | MSE Loss: 0.3819 | target: -2.3690 | pred: -2.4908\n"
     ]
    },
    {
     "name": "stderr",
     "output_type": "stream",
     "text": [
      "Division 5/5:  32%|████████████████████████▌                                                    | 323/1015 [00:26<00:47, 14.48it/s]"
     ]
    },
    {
     "name": "stdout",
     "output_type": "stream",
     "text": [
      "Epoch:   9 | Samples:    320/1016 | RMSE Loss: 0.4799 | MSE Loss: 0.3903 | target: -3.3500 | pred: -4.5801\n"
     ]
    },
    {
     "name": "stderr",
     "output_type": "stream",
     "text": [
      "Division 5/5:  35%|██████████████████████████▊                                                  | 353/1015 [00:29<01:10,  9.34it/s]"
     ]
    },
    {
     "name": "stdout",
     "output_type": "stream",
     "text": [
      "Epoch:   9 | Samples:    352/1016 | RMSE Loss: 0.4947 | MSE Loss: 0.4149 | target: -2.1480 | pred: -1.5219\n"
     ]
    },
    {
     "name": "stderr",
     "output_type": "stream",
     "text": [
      "Division 5/5:  38%|█████████████████████████████▎                                               | 386/1015 [00:32<00:57, 10.90it/s]"
     ]
    },
    {
     "name": "stdout",
     "output_type": "stream",
     "text": [
      "Epoch:   9 | Samples:    384/1016 | RMSE Loss: 0.4870 | MSE Loss: 0.4018 | target: -3.4990 | pred: -4.2543\n"
     ]
    },
    {
     "name": "stderr",
     "output_type": "stream",
     "text": [
      "Division 5/5:  41%|███████████████████████████████▋                                             | 418/1015 [00:35<00:40, 14.62it/s]"
     ]
    },
    {
     "name": "stdout",
     "output_type": "stream",
     "text": [
      "Epoch:   9 | Samples:    416/1016 | RMSE Loss: 0.4796 | MSE Loss: 0.3908 | target: -1.6140 | pred: -2.0411\n"
     ]
    },
    {
     "name": "stderr",
     "output_type": "stream",
     "text": [
      "Division 5/5:  44%|██████████████████████████████████▏                                          | 451/1015 [00:38<00:41, 13.66it/s]"
     ]
    },
    {
     "name": "stdout",
     "output_type": "stream",
     "text": [
      "Epoch:   9 | Samples:    448/1016 | RMSE Loss: 0.4797 | MSE Loss: 0.3859 | target: -4.5600 | pred: -4.0758\n"
     ]
    },
    {
     "name": "stderr",
     "output_type": "stream",
     "text": [
      "Division 5/5:  47%|████████████████████████████████████▎                                        | 479/1015 [00:40<00:45, 11.72it/s]"
     ]
    },
    {
     "name": "stdout",
     "output_type": "stream",
     "text": [
      "Epoch:   9 | Samples:    480/1016 | RMSE Loss: 0.4774 | MSE Loss: 0.3808 | target: -2.5100 | pred: -1.4612\n"
     ]
    },
    {
     "name": "stderr",
     "output_type": "stream",
     "text": [
      "Division 5/5:  51%|███████████████████████████████████████                                      | 515/1015 [00:43<00:43, 11.56it/s]"
     ]
    },
    {
     "name": "stdout",
     "output_type": "stream",
     "text": [
      "Epoch:   9 | Samples:    512/1016 | RMSE Loss: 0.4797 | MSE Loss: 0.3818 | target: -3.3600 | pred: -3.5215\n"
     ]
    },
    {
     "name": "stderr",
     "output_type": "stream",
     "text": [
      "Division 5/5:  54%|█████████████████████████████████████████▍                                   | 547/1015 [00:46<00:33, 14.02it/s]"
     ]
    },
    {
     "name": "stdout",
     "output_type": "stream",
     "text": [
      "Epoch:   9 | Samples:    544/1016 | RMSE Loss: 0.4879 | MSE Loss: 0.4025 | target: -7.6800 | pred: -8.3471\n"
     ]
    },
    {
     "name": "stderr",
     "output_type": "stream",
     "text": [
      "Division 5/5:  57%|███████████████████████████████████████████▉                                 | 579/1015 [00:48<00:32, 13.60it/s]"
     ]
    },
    {
     "name": "stdout",
     "output_type": "stream",
     "text": [
      "Epoch:   9 | Samples:    576/1016 | RMSE Loss: 0.4900 | MSE Loss: 0.4052 | target: -2.8200 | pred: -2.6034\n"
     ]
    },
    {
     "name": "stderr",
     "output_type": "stream",
     "text": [
      "Division 5/5:  60%|██████████████████████████████████████████████▎                              | 610/1015 [00:51<00:26, 15.09it/s]"
     ]
    },
    {
     "name": "stdout",
     "output_type": "stream",
     "text": [
      "Epoch:   9 | Samples:    608/1016 | RMSE Loss: 0.4902 | MSE Loss: 0.4018 | target: -2.0300 | pred: -1.8433\n"
     ]
    },
    {
     "name": "stderr",
     "output_type": "stream",
     "text": [
      "Division 5/5:  63%|████████████████████████████████████████████████▊                            | 643/1015 [00:53<00:21, 17.29it/s]"
     ]
    },
    {
     "name": "stdout",
     "output_type": "stream",
     "text": [
      "Epoch:   9 | Samples:    640/1016 | RMSE Loss: 0.4866 | MSE Loss: 0.3968 | target: -2.6800 | pred: -2.6138\n"
     ]
    },
    {
     "name": "stderr",
     "output_type": "stream",
     "text": [
      "Division 5/5:  66%|███████████████████████████████████████████████████▏                         | 674/1015 [00:56<00:26, 12.67it/s]"
     ]
    },
    {
     "name": "stdout",
     "output_type": "stream",
     "text": [
      "Epoch:   9 | Samples:    672/1016 | RMSE Loss: 0.4816 | MSE Loss: 0.3887 | target: -3.9530 | pred: -4.1627\n"
     ]
    },
    {
     "name": "stderr",
     "output_type": "stream",
     "text": [
      "Division 5/5:  70%|█████████████████████████████████████████████████████▋                       | 708/1015 [00:58<00:22, 13.60it/s]"
     ]
    },
    {
     "name": "stdout",
     "output_type": "stream",
     "text": [
      "Epoch:   9 | Samples:    704/1016 | RMSE Loss: 0.4740 | MSE Loss: 0.3812 | target: -3.0940 | pred: -2.6958\n"
     ]
    },
    {
     "name": "stderr",
     "output_type": "stream",
     "text": [
      "Division 5/5:  73%|████████████████████████████████████████████████████████                     | 739/1015 [01:00<00:21, 12.75it/s]"
     ]
    },
    {
     "name": "stdout",
     "output_type": "stream",
     "text": [
      "Epoch:   9 | Samples:    736/1016 | RMSE Loss: 0.4706 | MSE Loss: 0.3761 | target: -4.9070 | pred: -4.5026\n"
     ]
    },
    {
     "name": "stderr",
     "output_type": "stream",
     "text": [
      "Division 5/5:  76%|██████████████████████████████████████████████████████████▍                  | 770/1015 [01:02<00:17, 13.87it/s]"
     ]
    },
    {
     "name": "stdout",
     "output_type": "stream",
     "text": [
      "Epoch:   9 | Samples:    768/1016 | RMSE Loss: 0.4689 | MSE Loss: 0.3716 | target: -0.1400 | pred: -0.2033\n"
     ]
    },
    {
     "name": "stderr",
     "output_type": "stream",
     "text": [
      "Division 5/5:  79%|████████████████████████████████████████████████████████████▊                | 802/1015 [01:05<00:16, 12.89it/s]"
     ]
    },
    {
     "name": "stdout",
     "output_type": "stream",
     "text": [
      "Epoch:   9 | Samples:    800/1016 | RMSE Loss: 0.4718 | MSE Loss: 0.3764 | target: -3.7000 | pred: -4.2087\n"
     ]
    },
    {
     "name": "stderr",
     "output_type": "stream",
     "text": [
      "Division 5/5:  82%|███████████████████████████████████████████████████████████████▍             | 836/1015 [01:08<00:13, 13.50it/s]"
     ]
    },
    {
     "name": "stdout",
     "output_type": "stream",
     "text": [
      "Epoch:   9 | Samples:    832/1016 | RMSE Loss: 0.4711 | MSE Loss: 0.3755 | target: -4.0800 | pred: -4.4293\n"
     ]
    },
    {
     "name": "stderr",
     "output_type": "stream",
     "text": [
      "Division 5/5:  85%|█████████████████████████████████████████████████████████████████▊           | 867/1015 [01:10<00:09, 14.98it/s]"
     ]
    },
    {
     "name": "stdout",
     "output_type": "stream",
     "text": [
      "Epoch:   9 | Samples:    864/1016 | RMSE Loss: 0.4711 | MSE Loss: 0.3786 | target: 0.3600 | pred: -0.5613\n"
     ]
    },
    {
     "name": "stderr",
     "output_type": "stream",
     "text": [
      "Division 5/5:  89%|████████████████████████████████████████████████████████████████████▏        | 899/1015 [01:13<00:08, 13.24it/s]"
     ]
    },
    {
     "name": "stdout",
     "output_type": "stream",
     "text": [
      "Epoch:   9 | Samples:    896/1016 | RMSE Loss: 0.4690 | MSE Loss: 0.3772 | target: -7.2100 | pred: -7.4288\n"
     ]
    },
    {
     "name": "stderr",
     "output_type": "stream",
     "text": [
      "Division 5/5:  92%|██████████████████████████████████████████████████████████████████████▌      | 930/1015 [01:16<00:09,  9.19it/s]"
     ]
    },
    {
     "name": "stdout",
     "output_type": "stream",
     "text": [
      "Epoch:   9 | Samples:    928/1016 | RMSE Loss: 0.4659 | MSE Loss: 0.3726 | target: -0.8500 | pred: -2.0121\n"
     ]
    },
    {
     "name": "stderr",
     "output_type": "stream",
     "text": [
      "Division 5/5:  95%|█████████████████████████████████████████████████████████████████████████    | 963/1015 [01:19<00:04, 10.71it/s]"
     ]
    },
    {
     "name": "stdout",
     "output_type": "stream",
     "text": [
      "Epoch:   9 | Samples:    960/1016 | RMSE Loss: 0.4609 | MSE Loss: 0.3676 | target: -1.8000 | pred: -1.8418\n"
     ]
    },
    {
     "name": "stderr",
     "output_type": "stream",
     "text": [
      "Division 5/5:  98%|███████████████████████████████████████████████████████████████████████████▍ | 995/1015 [01:22<00:01, 10.58it/s]"
     ]
    },
    {
     "name": "stdout",
     "output_type": "stream",
     "text": [
      "Epoch:   9 | Samples:    992/1016 | RMSE Loss: 0.4599 | MSE Loss: 0.3670 | target: -2.4600 | pred: -2.5134\n"
     ]
    },
    {
     "name": "stderr",
     "output_type": "stream",
     "text": [
      "Division 5/5: 100%|████████████████████████████████████████████████████████████████████████████| 1015/1015 [01:23<00:00, 12.12it/s]\n"
     ]
    }
   ],
   "source": [
    "gnn_rmse_dict= train_gnn3d_vary_dataset_size(train_samples, min_samples=100, max_samples=1015, divisions=4, n_epochs= 10, printstep=32, save_dir=modeldir, dataset_name=dataset_name)"
   ]
  },
  {
   "cell_type": "code",
   "execution_count": 30,
   "id": "674cc302-9d0b-4f0d-8c9f-40bef3f94fa8",
   "metadata": {},
   "outputs": [
    {
     "data": {
      "image/png": "[encoded data removed]",
      "text/plain": [
       "<Figure size 1000x600 with 1 Axes>"
      ]
     },
     "metadata": {},
     "output_type": "display_data"
    }
   ],
   "source": [
    "# Plot all divisions on the same plot\n",
    "plt.figure(figsize=(10, 6))  # Adjust figure size as needed\n",
    "\n",
    "for key in gnn_rmse_dict.keys():\n",
    "    plt.plot(gnn_rmse_dict[key][\"avg_rmse\"], label=f\"dataset size = {key[1:]}\")\n",
    "\n",
    "plt.legend()\n",
    "plt.title(\"GNN3D RMSE Loss for Different Dataset Sizes\")\n",
    "plt.xlabel(\"Training set size\")\n",
    "plt.ylabel(\"RMSE Loss\")\n",
    "plt.grid(True)\n",
    "plt.tight_layout()\n",
    "\n",
    "# Save the plot\n",
    "plt.savefig(f\"{modeldir}gnn3d_{dataset_name}_all_divisions.svg\", format='svg')\n",
    "plt.show()"
   ]
  },
  {
   "cell_type": "code",
   "execution_count": 31,
   "id": "48ce2298-c8e1-439e-a0ef-fd5b727a0081",
   "metadata": {},
   "outputs": [],
   "source": [
    "def train_autoencoder_model(samples, atom_autoencoder, bond_autoencoder, n_epochs=10, printstep=10, save_dir=\"./models/\", dataset_name=\"logs\"):\n",
    "    \"\"\"Train Autoencoder: Atom and bond\"\"\"\n",
    "    # Set the model in training mode\n",
    "    atom_autoencoder.train()\n",
    "    bond_autoencoder.train()\n",
    "\n",
    "    # Create the directory if it does not exist\n",
    "    os.makedirs(save_dir, exist_ok=True)\n",
    "\n",
    "    # Lists to store losses\n",
    "    avg_atom_rmse_losses = []\n",
    "    avg_bond_rmse_losses = []\n",
    "\n",
    "    for epoch_i in range(n_epochs):\n",
    "        avg_atom_rmse_loss = 0\n",
    "        avg_bond_rmse_loss = 0\n",
    "        total_samples = 0\n",
    "        \n",
    "        for i, molecule in enumerate(samples):\n",
    "            atom_features = molecule[0].to(device)\n",
    "            bond_features = molecule[1].to(device)\n",
    "            \n",
    "            # Forward pass\n",
    "            atom_features_reconstructed = atom_autoencoder(atom_features)\n",
    "            bond_features_reconstructed = bond_autoencoder(bond_features)\n",
    "            \n",
    "            # Calculating loss\n",
    "            atom_loss = mse_loss_fn(atom_features_reconstructed, atom_features)\n",
    "            bond_loss = mse_loss_fn(bond_features_reconstructed, bond_features)\n",
    "            \n",
    "            # Backward pass and optimization step\n",
    "            atom_optimizer.zero_grad()\n",
    "            bond_optimizer.zero_grad()\n",
    "            atom_loss.backward()\n",
    "            bond_loss.backward()\n",
    "            atom_optimizer.step()\n",
    "            bond_optimizer.step()\n",
    "            \n",
    "            # Calculating average loss\n",
    "            avg_atom_rmse_loss = (avg_atom_rmse_loss * total_samples + torch.sqrt(atom_loss).item()) / (total_samples + 1)\n",
    "            avg_bond_rmse_loss = (avg_bond_rmse_loss * total_samples + torch.sqrt(bond_loss).item()) / (total_samples + 1)           \n",
    "            total_samples += 1\n",
    "\n",
    "            \n",
    "            if (i % printstep == 0):\n",
    "                print(f\"Epoch: {epoch_i:>3}/{n_epochs} | Samples: {i:>6}/{len(samples)} | Atom RMSE Loss: {avg_atom_rmse_loss:.4f} | Bond RMSE Loss: {avg_bond_rmse_loss:.4f}\")\n",
    "        \n",
    "        # Append average losses for the epoch to lists\n",
    "        avg_atom_rmse_losses.append(avg_atom_rmse_loss)\n",
    "        avg_bond_rmse_losses.append(avg_bond_rmse_loss)\n",
    "                \n",
    "    # Save the accumulated losses to a file\n",
    "    losses_file = os.path.join(save_dir, f\"autoencoder_losses_{dataset_name}.txt\")\n",
    "    with open(losses_file, 'w') as f:\n",
    "        f.write(f\"Epoch |\\tAtom RMSE Loss |\\tBond RMSE Loss\\n\")\n",
    "        for epoch_i in range(n_epochs):\n",
    "            f.write(f\"{epoch_i}\\t{avg_atom_rmse_losses[epoch_i]}\\t{avg_bond_rmse_losses[epoch_i]}\\n\")\n",
    "\n",
    "    # Save model state\n",
    "    torch.save(atom_autoencoder.state_dict(), f\"{save_dir}atom_autoencoder_{dataset_name}.pth\")\n",
    "    torch.save(bond_autoencoder.state_dict(), f\"{save_dir}bond_autoencoder_{dataset_name}.pth\")\n",
    "    \n",
    "    return avg_atom_rmse_losses, avg_bond_rmse_losses\n",
    "    \n",
    "\n",
    "\n",
    "\n",
    "def process_molecule(molecule, atom_autoencoder, bond_autoencoder):\n",
    "    \"\"\"Separate input features and target\"\"\"\n",
    "    # Ensure molecule has at least 8 elements\n",
    "    if len(molecule) < 8:\n",
    "        return None, None\n",
    "    \n",
    "    target = molecule[8].to(device)  # Assuming target is the 9th element (index 8)\n",
    "    # Assuming first 8 elements are molecule graph input features:\n",
    "    # atomic_features, bond_features, angle_features, dihedral_features, \n",
    "    # global_molecular_features, bond_indices, angle_indices,  dihedral_indices    \n",
    "    molecule_data = [mol_elem.to(device) for mol_elem in molecule[:8]]\n",
    "    \n",
    "    # Putting latent atomic and bond features through encoders\n",
    "    molecule_data[0] = atom_autoencoder.encode(molecule_data[0])\n",
    "    molecule_data[1] = bond_autoencoder.encode(molecule_data[1])\n",
    "    \n",
    "    return molecule_data, target\n",
    "\n",
    "\n",
    "\n",
    "\n",
    "def train_gnn3d_model(gnn3d, samples, atom_autoencoder, bond_autoencoder, n_epochs=10, printstep=10, save_dir=\"./models/\", dataset_name=\"logs\"):\n",
    "    \"\"\"Train GNN3D\"\"\"\n",
    "    # Set the model in training mode\n",
    "    gnn3d.train()\n",
    "\n",
    "    # Create the directory if it does not exist\n",
    "    os.makedirs(save_dir, exist_ok=True)\n",
    "   \n",
    "    # Lists to store losses\n",
    "    avg_rmse_losses_train = []\n",
    "    avg_mse_losses_train = []\n",
    "    avg_rmse_losses_val = []\n",
    "    avg_mse_losses_val = []\n",
    "\n",
    "    # Start timing\n",
    "    start_time = time.time()\n",
    "    \n",
    "    for epoch_i in range(n_epochs):\n",
    "        # Training phase\n",
    "        avg_rmse_loss_train = 0\n",
    "        avg_mse_loss_train = 0\n",
    "        total_samples_train = 0\n",
    "    \n",
    "        for i in tqdm(range(len(train_part_samples)), desc='Training samples'):\n",
    "            molecule_data, target = process_molecule(train_part_samples[i], atom_autoencoder, bond_autoencoder)\n",
    "            if molecule_data is None:\n",
    "                continue\n",
    "        \n",
    "            prediction = gnn3d(molecule_data)\n",
    "            loss = mse_loss_fn(prediction, target)\n",
    "        \n",
    "            gnn_optimizer.zero_grad()\n",
    "            loss.backward()\n",
    "            gnn_optimizer.step()\n",
    "        \n",
    "            avg_rmse_loss_train = (avg_rmse_loss_train * total_samples_train + torch.sqrt(loss).item()) / (total_samples_train + 1)\n",
    "            avg_mse_loss_train = (avg_mse_loss_train * total_samples_train + loss.item()) / (total_samples_train + 1)\n",
    "            total_samples_train += 1\n",
    "        \n",
    "            if (i % printstep == 0):\n",
    "                print(f\"Epoch: {epoch_i:>3} | Train Samples: {i:>6}/{len(train_part_samples)} | RMSE Loss: {avg_rmse_loss_train:.4f} | MSE Loss: {avg_mse_loss_train:.4f}\")\n",
    "    \n",
    "        # Validation phase\n",
    "        avg_rmse_loss_val = 0\n",
    "        avg_mse_loss_val = 0\n",
    "        total_samples_val = 0\n",
    "    \n",
    "        for i in tqdm(range(len(val_samples)), desc='Validation samples'):\n",
    "            molecule_data, target = process_molecule(val_samples[i], atom_autoencoder, bond_autoencoder)\n",
    "            if molecule_data is None:\n",
    "                continue\n",
    "        \n",
    "            prediction = gnn3d(molecule_data)\n",
    "            loss = mse_loss_fn(prediction, target)\n",
    "        \n",
    "            avg_rmse_loss_val = (avg_rmse_loss_val * total_samples_val + torch.sqrt(loss).item()) / (total_samples_val + 1)\n",
    "            avg_mse_loss_val = (avg_mse_loss_val * total_samples_val + loss.item()) / (total_samples_val + 1)\n",
    "            total_samples_val += 1\n",
    "        \n",
    "            if (i % printstep == 0):\n",
    "                print(f\"Epoch: {epoch_i:>3} | Val Samples: {i:>6}/{len(val_samples)} | RMSE Loss: {avg_rmse_loss_val:.4f} | MSE Loss: {avg_mse_loss_val:.4f}\")\n",
    "    \n",
    "        # Append average losses for the epoch to lists\n",
    "        avg_rmse_losses_train.append(avg_rmse_loss_train)\n",
    "        avg_mse_losses_train.append(avg_mse_loss_train)\n",
    "        avg_rmse_losses_val.append(avg_rmse_loss_val)\n",
    "        avg_mse_losses_val.append(avg_mse_loss_val)\n",
    "                \n",
    "    # Save the accumulated losses to a file\n",
    "    losses_file = os.path.join(save_dir, f\"gnn3d_losses_{dataset_name}.txt\")\n",
    "    with open(losses_file, 'w') as f:\n",
    "        f.write(f\"Epoch |\\tRMSE Train Loss |\\tMSE Train Loss |\\tRMSE Val Loss |\\tMSE Val Loss\\n\")\n",
    "        for epoch_i in range(n_epochs):\n",
    "            f.write(f\"{epoch_i}\\t{avg_rmse_losses_train[epoch_i]}\\t{avg_mse_losses_train[epoch_i]}\\t{avg_rmse_losses_val[epoch_i]}\\t{avg_mse_losses_val[epoch_i]}\\n\")\n",
    "\n",
    "    # Save model state\n",
    "    torch.save(gnn3d.state_dict(), f\"{save_dir}gnn3d_{dataset_name}.pth\")\n",
    "\n",
    "    # End timing\n",
    "    end_time = time.time()\n",
    "    \n",
    "    actual_time = end_time - start_time\n",
    "\n",
    "    actual_time_td = datetime.timedelta(seconds=actual_time)\n",
    "    hours = actual_time_td.seconds // 3600\n",
    "    minutes = (actual_time_td.seconds // 60) % 60\n",
    "    seconds = actual_time_td.seconds % 60\n",
    "    actual_time_str = f\"{hours} hours, {minutes} minutes, {seconds} seconds\"\n",
    "    \n",
    "    print(f\"Time taken for training: {actual_time_str}\")\n",
    "    \n",
    "    return avg_rmse_losses_train, avg_mse_losses_train, avg_rmse_losses_val, avg_mse_losses_val\n",
    "\n",
    "\n",
    "\n",
    "\n",
    "def evaluate_gnn3d_model(gnn3d, samples, atom_autoencoder, bond_autoencoder):\n",
    "    \"\"\"Evaluate GNN3D\"\"\"\n",
    "    # Set the model in evaluation mode\n",
    "    gnn3d.eval()\n",
    "\n",
    "    # List to store predictions\n",
    "    predictions = []\n",
    "    targets = []\n",
    "    \n",
    "    avg_rmse_loss = 0\n",
    "    avg_mse_loss = 0\n",
    "    total_samples = 0\n",
    "    \n",
    "    # Start timing\n",
    "    start_time = time.time()\n",
    "    \n",
    "    with torch.no_grad():\n",
    "        for i, molecule in enumerate(samples):\n",
    "            molecule_data, target = process_molecule(molecule, atom_autoencoder, bond_autoencoder)\n",
    "            if molecule_data is None:\n",
    "                continue\n",
    "            \n",
    "            # Forward pass\n",
    "            prediction = gnn3d(molecule_data)\n",
    "\n",
    "            # Extract target, prediction\n",
    "            target_value = target.item()\n",
    "            prediction_value = prediction.item()\n",
    "\n",
    "            # For every test samples\n",
    "            #print(f\"Target: {target.item():.4f} | Prediction: {prediction.item():.4f}\")\n",
    "    \n",
    "            # Store prediction\n",
    "            predictions.append(prediction_value)\n",
    "            targets.append(target_value)\n",
    "                        \n",
    "            # Calculating loss\n",
    "            loss = mse_loss_fn(prediction, target)\n",
    "                     \n",
    "            # Accumulate losses\n",
    "            avg_rmse_loss += (torch.sqrt(loss).item())\n",
    "            avg_mse_loss += loss.item()\n",
    "            total_samples += 1\n",
    "    \n",
    "    # Calculate average losses\n",
    "    avg_rmse_loss /= total_samples\n",
    "    avg_mse_loss /= total_samples\n",
    "\n",
    "    # End timing\n",
    "    end_time = time.time()\n",
    "\n",
    "    actual_time = end_time - start_time\n",
    "\n",
    "    actual_time_td = datetime.timedelta(seconds=actual_time)\n",
    "    hours = actual_time_td.seconds // 3600\n",
    "    minutes = (actual_time_td.seconds // 60) % 60\n",
    "    seconds = actual_time_td.seconds % 60\n",
    "    actual_time_str = f\"{hours} hours, {minutes} minutes, {seconds} seconds\"    \n",
    "    \n",
    "    print(f\"Evaluation Results:\")\n",
    "    print(f\"RMSE Loss: {avg_rmse_loss:.4f}\")\n",
    "    print(f\"MSE Loss: {avg_mse_loss:.4f}\")\n",
    "    print(f\"Time taken for evaluation: {actual_time_str}\")\n",
    "    \n",
    "    return predictions, targets"
   ]
  },
  {
   "cell_type": "markdown",
   "id": "acb3a1fa-cb1b-4397-a444-62b2126099e3",
   "metadata": {},
   "source": [
    "## Training"
   ]
  },
  {
   "cell_type": "markdown",
   "id": "f4253885-98e8-48fb-8847-ba893b9c9b05",
   "metadata": {},
   "source": [
    "### Autoencoder training"
   ]
  },
  {
   "cell_type": "code",
   "execution_count": 21,
   "id": "b723752e-b5db-4c9f-8c77-e26dde760638",
   "metadata": {},
   "outputs": [
    {
     "name": "stdout",
     "output_type": "stream",
     "text": [
      "Training Autoencoder with Atom=10, Bond=3:\n",
      "Epoch:   0/10 | Samples:      0/1015 | Atom RMSE Loss: 0.2149 | Bond RMSE Loss: 0.5575\n",
      "Epoch:   0/10 | Samples:     32/1015 | Atom RMSE Loss: 0.1836 | Bond RMSE Loss: 0.5057\n",
      "Epoch:   0/10 | Samples:     64/1015 | Atom RMSE Loss: 0.1572 | Bond RMSE Loss: 0.4942\n",
      "Epoch:   0/10 | Samples:     96/1015 | Atom RMSE Loss: 0.1480 | Bond RMSE Loss: 0.4778\n",
      "Epoch:   0/10 | Samples:    128/1015 | Atom RMSE Loss: 0.1419 | Bond RMSE Loss: 0.4462\n",
      "Epoch:   0/10 | Samples:    160/1015 | Atom RMSE Loss: 0.1365 | Bond RMSE Loss: 0.4163\n",
      "Epoch:   0/10 | Samples:    192/1015 | Atom RMSE Loss: 0.1274 | Bond RMSE Loss: 0.3907\n",
      "Epoch:   0/10 | Samples:    224/1015 | Atom RMSE Loss: 0.1202 | Bond RMSE Loss: 0.3733\n",
      "Epoch:   0/10 | Samples:    256/1015 | Atom RMSE Loss: 0.1138 | Bond RMSE Loss: 0.3612\n",
      "Epoch:   0/10 | Samples:    288/1015 | Atom RMSE Loss: 0.1081 | Bond RMSE Loss: 0.3508\n",
      "Epoch:   0/10 | Samples:    320/1015 | Atom RMSE Loss: 0.1032 | Bond RMSE Loss: 0.3410\n",
      "Epoch:   0/10 | Samples:    352/1015 | Atom RMSE Loss: 0.0987 | Bond RMSE Loss: 0.3328\n",
      "Epoch:   0/10 | Samples:    384/1015 | Atom RMSE Loss: 0.0946 | Bond RMSE Loss: 0.3240\n",
      "Epoch:   0/10 | Samples:    416/1015 | Atom RMSE Loss: 0.0914 | Bond RMSE Loss: 0.3153\n",
      "Epoch:   0/10 | Samples:    448/1015 | Atom RMSE Loss: 0.0881 | Bond RMSE Loss: 0.3053\n",
      "Epoch:   0/10 | Samples:    480/1015 | Atom RMSE Loss: 0.0855 | Bond RMSE Loss: 0.2944\n",
      "Epoch:   0/10 | Samples:    512/1015 | Atom RMSE Loss: 0.0831 | Bond RMSE Loss: 0.2846\n",
      "Epoch:   0/10 | Samples:    544/1015 | Atom RMSE Loss: 0.0810 | Bond RMSE Loss: 0.2749\n",
      "Epoch:   0/10 | Samples:    576/1015 | Atom RMSE Loss: 0.0791 | Bond RMSE Loss: 0.2665\n",
      "Epoch:   0/10 | Samples:    608/1015 | Atom RMSE Loss: 0.0771 | Bond RMSE Loss: 0.2577\n",
      "Epoch:   0/10 | Samples:    640/1015 | Atom RMSE Loss: 0.0755 | Bond RMSE Loss: 0.2504\n",
      "Epoch:   0/10 | Samples:    672/1015 | Atom RMSE Loss: 0.0739 | Bond RMSE Loss: 0.2441\n",
      "Epoch:   0/10 | Samples:    704/1015 | Atom RMSE Loss: 0.0724 | Bond RMSE Loss: 0.2371\n",
      "Epoch:   0/10 | Samples:    736/1015 | Atom RMSE Loss: 0.0709 | Bond RMSE Loss: 0.2306\n",
      "Epoch:   0/10 | Samples:    768/1015 | Atom RMSE Loss: 0.0696 | Bond RMSE Loss: 0.2257\n",
      "Epoch:   0/10 | Samples:    800/1015 | Atom RMSE Loss: 0.0683 | Bond RMSE Loss: 0.2214\n",
      "Epoch:   0/10 | Samples:    832/1015 | Atom RMSE Loss: 0.0672 | Bond RMSE Loss: 0.2176\n",
      "Epoch:   0/10 | Samples:    864/1015 | Atom RMSE Loss: 0.0663 | Bond RMSE Loss: 0.2134\n",
      "Epoch:   0/10 | Samples:    896/1015 | Atom RMSE Loss: 0.0652 | Bond RMSE Loss: 0.2092\n",
      "Epoch:   0/10 | Samples:    928/1015 | Atom RMSE Loss: 0.0641 | Bond RMSE Loss: 0.2048\n",
      "Epoch:   0/10 | Samples:    960/1015 | Atom RMSE Loss: 0.0632 | Bond RMSE Loss: 0.2015\n",
      "Epoch:   0/10 | Samples:    992/1015 | Atom RMSE Loss: 0.0624 | Bond RMSE Loss: 0.1982\n",
      "Epoch:   1/10 | Samples:      0/1015 | Atom RMSE Loss: 0.0321 | Bond RMSE Loss: 0.1352\n",
      "Epoch:   1/10 | Samples:     32/1015 | Atom RMSE Loss: 0.0330 | Bond RMSE Loss: 0.0886\n",
      "Epoch:   1/10 | Samples:     64/1015 | Atom RMSE Loss: 0.0339 | Bond RMSE Loss: 0.0928\n",
      "Epoch:   1/10 | Samples:     96/1015 | Atom RMSE Loss: 0.0343 | Bond RMSE Loss: 0.0925\n",
      "Epoch:   1/10 | Samples:    128/1015 | Atom RMSE Loss: 0.0348 | Bond RMSE Loss: 0.0967\n",
      "Epoch:   1/10 | Samples:    160/1015 | Atom RMSE Loss: 0.0351 | Bond RMSE Loss: 0.0964\n",
      "Epoch:   1/10 | Samples:    192/1015 | Atom RMSE Loss: 0.0347 | Bond RMSE Loss: 0.0955\n",
      "Epoch:   1/10 | Samples:    224/1015 | Atom RMSE Loss: 0.0345 | Bond RMSE Loss: 0.0940\n",
      "Epoch:   1/10 | Samples:    256/1015 | Atom RMSE Loss: 0.0343 | Bond RMSE Loss: 0.0958\n",
      "Epoch:   1/10 | Samples:    288/1015 | Atom RMSE Loss: 0.0340 | Bond RMSE Loss: 0.0977\n",
      "Epoch:   1/10 | Samples:    320/1015 | Atom RMSE Loss: 0.0339 | Bond RMSE Loss: 0.0960\n",
      "Epoch:   1/10 | Samples:    352/1015 | Atom RMSE Loss: 0.0336 | Bond RMSE Loss: 0.0963\n",
      "Epoch:   1/10 | Samples:    384/1015 | Atom RMSE Loss: 0.0334 | Bond RMSE Loss: 0.0966\n",
      "Epoch:   1/10 | Samples:    416/1015 | Atom RMSE Loss: 0.0334 | Bond RMSE Loss: 0.0973\n",
      "Epoch:   1/10 | Samples:    448/1015 | Atom RMSE Loss: 0.0331 | Bond RMSE Loss: 0.0975\n",
      "Epoch:   1/10 | Samples:    480/1015 | Atom RMSE Loss: 0.0327 | Bond RMSE Loss: 0.0971\n",
      "Epoch:   1/10 | Samples:    512/1015 | Atom RMSE Loss: 0.0325 | Bond RMSE Loss: 0.0975\n",
      "Epoch:   1/10 | Samples:    544/1015 | Atom RMSE Loss: 0.0323 | Bond RMSE Loss: 0.0972\n",
      "Epoch:   1/10 | Samples:    576/1015 | Atom RMSE Loss: 0.0322 | Bond RMSE Loss: 0.0977\n",
      "Epoch:   1/10 | Samples:    608/1015 | Atom RMSE Loss: 0.0320 | Bond RMSE Loss: 0.0968\n",
      "Epoch:   1/10 | Samples:    640/1015 | Atom RMSE Loss: 0.0321 | Bond RMSE Loss: 0.0966\n",
      "Epoch:   1/10 | Samples:    672/1015 | Atom RMSE Loss: 0.0321 | Bond RMSE Loss: 0.0968\n",
      "Epoch:   1/10 | Samples:    704/1015 | Atom RMSE Loss: 0.0321 | Bond RMSE Loss: 0.0957\n",
      "Epoch:   1/10 | Samples:    736/1015 | Atom RMSE Loss: 0.0320 | Bond RMSE Loss: 0.0945\n",
      "Epoch:   1/10 | Samples:    768/1015 | Atom RMSE Loss: 0.0319 | Bond RMSE Loss: 0.0943\n",
      "Epoch:   1/10 | Samples:    800/1015 | Atom RMSE Loss: 0.0319 | Bond RMSE Loss: 0.0944\n",
      "Epoch:   1/10 | Samples:    832/1015 | Atom RMSE Loss: 0.0319 | Bond RMSE Loss: 0.0946\n",
      "Epoch:   1/10 | Samples:    864/1015 | Atom RMSE Loss: 0.0320 | Bond RMSE Loss: 0.0941\n",
      "Epoch:   1/10 | Samples:    896/1015 | Atom RMSE Loss: 0.0318 | Bond RMSE Loss: 0.0935\n",
      "Epoch:   1/10 | Samples:    928/1015 | Atom RMSE Loss: 0.0317 | Bond RMSE Loss: 0.0925\n",
      "Epoch:   1/10 | Samples:    960/1015 | Atom RMSE Loss: 0.0317 | Bond RMSE Loss: 0.0920\n",
      "Epoch:   1/10 | Samples:    992/1015 | Atom RMSE Loss: 0.0316 | Bond RMSE Loss: 0.0916\n",
      "Epoch:   2/10 | Samples:      0/1015 | Atom RMSE Loss: 0.0267 | Bond RMSE Loss: 0.1047\n",
      "Epoch:   2/10 | Samples:     32/1015 | Atom RMSE Loss: 0.0274 | Bond RMSE Loss: 0.0638\n",
      "Epoch:   2/10 | Samples:     64/1015 | Atom RMSE Loss: 0.0287 | Bond RMSE Loss: 0.0673\n",
      "Epoch:   2/10 | Samples:     96/1015 | Atom RMSE Loss: 0.0293 | Bond RMSE Loss: 0.0678\n",
      "Epoch:   2/10 | Samples:    128/1015 | Atom RMSE Loss: 0.0296 | Bond RMSE Loss: 0.0720\n",
      "Epoch:   2/10 | Samples:    160/1015 | Atom RMSE Loss: 0.0298 | Bond RMSE Loss: 0.0712\n",
      "Epoch:   2/10 | Samples:    192/1015 | Atom RMSE Loss: 0.0298 | Bond RMSE Loss: 0.0711\n",
      "Epoch:   2/10 | Samples:    224/1015 | Atom RMSE Loss: 0.0298 | Bond RMSE Loss: 0.0702\n",
      "Epoch:   2/10 | Samples:    256/1015 | Atom RMSE Loss: 0.0297 | Bond RMSE Loss: 0.0718\n",
      "Epoch:   2/10 | Samples:    288/1015 | Atom RMSE Loss: 0.0297 | Bond RMSE Loss: 0.0734\n",
      "Epoch:   2/10 | Samples:    320/1015 | Atom RMSE Loss: 0.0299 | Bond RMSE Loss: 0.0724\n",
      "Epoch:   2/10 | Samples:    352/1015 | Atom RMSE Loss: 0.0298 | Bond RMSE Loss: 0.0727\n",
      "Epoch:   2/10 | Samples:    384/1015 | Atom RMSE Loss: 0.0297 | Bond RMSE Loss: 0.0732\n",
      "Epoch:   2/10 | Samples:    416/1015 | Atom RMSE Loss: 0.0297 | Bond RMSE Loss: 0.0740\n",
      "Epoch:   2/10 | Samples:    448/1015 | Atom RMSE Loss: 0.0295 | Bond RMSE Loss: 0.0742\n",
      "Epoch:   2/10 | Samples:    480/1015 | Atom RMSE Loss: 0.0293 | Bond RMSE Loss: 0.0740\n",
      "Epoch:   2/10 | Samples:    512/1015 | Atom RMSE Loss: 0.0291 | Bond RMSE Loss: 0.0743\n",
      "Epoch:   2/10 | Samples:    544/1015 | Atom RMSE Loss: 0.0291 | Bond RMSE Loss: 0.0741\n",
      "Epoch:   2/10 | Samples:    576/1015 | Atom RMSE Loss: 0.0290 | Bond RMSE Loss: 0.0746\n",
      "Epoch:   2/10 | Samples:    608/1015 | Atom RMSE Loss: 0.0288 | Bond RMSE Loss: 0.0740\n",
      "Epoch:   2/10 | Samples:    640/1015 | Atom RMSE Loss: 0.0289 | Bond RMSE Loss: 0.0737\n",
      "Epoch:   2/10 | Samples:    672/1015 | Atom RMSE Loss: 0.0290 | Bond RMSE Loss: 0.0737\n",
      "Epoch:   2/10 | Samples:    704/1015 | Atom RMSE Loss: 0.0290 | Bond RMSE Loss: 0.0727\n",
      "Epoch:   2/10 | Samples:    736/1015 | Atom RMSE Loss: 0.0290 | Bond RMSE Loss: 0.0719\n",
      "Epoch:   2/10 | Samples:    768/1015 | Atom RMSE Loss: 0.0290 | Bond RMSE Loss: 0.0715\n",
      "Epoch:   2/10 | Samples:    800/1015 | Atom RMSE Loss: 0.0289 | Bond RMSE Loss: 0.0714\n",
      "Epoch:   2/10 | Samples:    832/1015 | Atom RMSE Loss: 0.0289 | Bond RMSE Loss: 0.0714\n",
      "Epoch:   2/10 | Samples:    864/1015 | Atom RMSE Loss: 0.0289 | Bond RMSE Loss: 0.0712\n",
      "Epoch:   2/10 | Samples:    896/1015 | Atom RMSE Loss: 0.0288 | Bond RMSE Loss: 0.0705\n",
      "Epoch:   2/10 | Samples:    928/1015 | Atom RMSE Loss: 0.0287 | Bond RMSE Loss: 0.0697\n",
      "Epoch:   2/10 | Samples:    960/1015 | Atom RMSE Loss: 0.0288 | Bond RMSE Loss: 0.0693\n",
      "Epoch:   2/10 | Samples:    992/1015 | Atom RMSE Loss: 0.0287 | Bond RMSE Loss: 0.0689\n",
      "Epoch:   3/10 | Samples:      0/1015 | Atom RMSE Loss: 0.0269 | Bond RMSE Loss: 0.0283\n",
      "Epoch:   3/10 | Samples:     32/1015 | Atom RMSE Loss: 0.0271 | Bond RMSE Loss: 0.0457\n",
      "Epoch:   3/10 | Samples:     64/1015 | Atom RMSE Loss: 0.0277 | Bond RMSE Loss: 0.0480\n",
      "Epoch:   3/10 | Samples:     96/1015 | Atom RMSE Loss: 0.0280 | Bond RMSE Loss: 0.0470\n",
      "Epoch:   3/10 | Samples:    128/1015 | Atom RMSE Loss: 0.0284 | Bond RMSE Loss: 0.0510\n",
      "Epoch:   3/10 | Samples:    160/1015 | Atom RMSE Loss: 0.0283 | Bond RMSE Loss: 0.0508\n",
      "Epoch:   3/10 | Samples:    192/1015 | Atom RMSE Loss: 0.0281 | Bond RMSE Loss: 0.0508\n",
      "Epoch:   3/10 | Samples:    224/1015 | Atom RMSE Loss: 0.0280 | Bond RMSE Loss: 0.0501\n",
      "Epoch:   3/10 | Samples:    256/1015 | Atom RMSE Loss: 0.0279 | Bond RMSE Loss: 0.0505\n",
      "Epoch:   3/10 | Samples:    288/1015 | Atom RMSE Loss: 0.0280 | Bond RMSE Loss: 0.0516\n",
      "Epoch:   3/10 | Samples:    320/1015 | Atom RMSE Loss: 0.0280 | Bond RMSE Loss: 0.0511\n",
      "Epoch:   3/10 | Samples:    352/1015 | Atom RMSE Loss: 0.0278 | Bond RMSE Loss: 0.0516\n",
      "Epoch:   3/10 | Samples:    384/1015 | Atom RMSE Loss: 0.0277 | Bond RMSE Loss: 0.0519\n",
      "Epoch:   3/10 | Samples:    416/1015 | Atom RMSE Loss: 0.0277 | Bond RMSE Loss: 0.0524\n",
      "Epoch:   3/10 | Samples:    448/1015 | Atom RMSE Loss: 0.0275 | Bond RMSE Loss: 0.0524\n",
      "Epoch:   3/10 | Samples:    480/1015 | Atom RMSE Loss: 0.0273 | Bond RMSE Loss: 0.0521\n",
      "Epoch:   3/10 | Samples:    512/1015 | Atom RMSE Loss: 0.0272 | Bond RMSE Loss: 0.0526\n",
      "Epoch:   3/10 | Samples:    544/1015 | Atom RMSE Loss: 0.0271 | Bond RMSE Loss: 0.0526\n",
      "Epoch:   3/10 | Samples:    576/1015 | Atom RMSE Loss: 0.0271 | Bond RMSE Loss: 0.0527\n",
      "Epoch:   3/10 | Samples:    608/1015 | Atom RMSE Loss: 0.0270 | Bond RMSE Loss: 0.0520\n",
      "Epoch:   3/10 | Samples:    640/1015 | Atom RMSE Loss: 0.0269 | Bond RMSE Loss: 0.0520\n",
      "Epoch:   3/10 | Samples:    672/1015 | Atom RMSE Loss: 0.0270 | Bond RMSE Loss: 0.0518\n",
      "Epoch:   3/10 | Samples:    704/1015 | Atom RMSE Loss: 0.0270 | Bond RMSE Loss: 0.0512\n",
      "Epoch:   3/10 | Samples:    736/1015 | Atom RMSE Loss: 0.0271 | Bond RMSE Loss: 0.0508\n",
      "Epoch:   3/10 | Samples:    768/1015 | Atom RMSE Loss: 0.0271 | Bond RMSE Loss: 0.0505\n",
      "Epoch:   3/10 | Samples:    800/1015 | Atom RMSE Loss: 0.0270 | Bond RMSE Loss: 0.0505\n",
      "Epoch:   3/10 | Samples:    832/1015 | Atom RMSE Loss: 0.0270 | Bond RMSE Loss: 0.0507\n",
      "Epoch:   3/10 | Samples:    864/1015 | Atom RMSE Loss: 0.0270 | Bond RMSE Loss: 0.0508\n",
      "Epoch:   3/10 | Samples:    896/1015 | Atom RMSE Loss: 0.0270 | Bond RMSE Loss: 0.0502\n",
      "Epoch:   3/10 | Samples:    928/1015 | Atom RMSE Loss: 0.0270 | Bond RMSE Loss: 0.0495\n",
      "Epoch:   3/10 | Samples:    960/1015 | Atom RMSE Loss: 0.0270 | Bond RMSE Loss: 0.0494\n",
      "Epoch:   3/10 | Samples:    992/1015 | Atom RMSE Loss: 0.0270 | Bond RMSE Loss: 0.0491\n",
      "Epoch:   4/10 | Samples:      0/1015 | Atom RMSE Loss: 0.0254 | Bond RMSE Loss: 0.0303\n",
      "Epoch:   4/10 | Samples:     32/1015 | Atom RMSE Loss: 0.0260 | Bond RMSE Loss: 0.0329\n",
      "Epoch:   4/10 | Samples:     64/1015 | Atom RMSE Loss: 0.0259 | Bond RMSE Loss: 0.0342\n",
      "Epoch:   4/10 | Samples:     96/1015 | Atom RMSE Loss: 0.0264 | Bond RMSE Loss: 0.0352\n",
      "Epoch:   4/10 | Samples:    128/1015 | Atom RMSE Loss: 0.0267 | Bond RMSE Loss: 0.0384\n",
      "Epoch:   4/10 | Samples:    160/1015 | Atom RMSE Loss: 0.0266 | Bond RMSE Loss: 0.0398\n",
      "Epoch:   4/10 | Samples:    192/1015 | Atom RMSE Loss: 0.0265 | Bond RMSE Loss: 0.0399\n",
      "Epoch:   4/10 | Samples:    224/1015 | Atom RMSE Loss: 0.0264 | Bond RMSE Loss: 0.0385\n",
      "Epoch:   4/10 | Samples:    256/1015 | Atom RMSE Loss: 0.0263 | Bond RMSE Loss: 0.0385\n",
      "Epoch:   4/10 | Samples:    288/1015 | Atom RMSE Loss: 0.0263 | Bond RMSE Loss: 0.0388\n",
      "Epoch:   4/10 | Samples:    320/1015 | Atom RMSE Loss: 0.0262 | Bond RMSE Loss: 0.0384\n",
      "Epoch:   4/10 | Samples:    352/1015 | Atom RMSE Loss: 0.0261 | Bond RMSE Loss: 0.0385\n",
      "Epoch:   4/10 | Samples:    384/1015 | Atom RMSE Loss: 0.0261 | Bond RMSE Loss: 0.0384\n",
      "Epoch:   4/10 | Samples:    416/1015 | Atom RMSE Loss: 0.0261 | Bond RMSE Loss: 0.0382\n",
      "Epoch:   4/10 | Samples:    448/1015 | Atom RMSE Loss: 0.0260 | Bond RMSE Loss: 0.0380\n",
      "Epoch:   4/10 | Samples:    480/1015 | Atom RMSE Loss: 0.0259 | Bond RMSE Loss: 0.0376\n",
      "Epoch:   4/10 | Samples:    512/1015 | Atom RMSE Loss: 0.0258 | Bond RMSE Loss: 0.0380\n",
      "Epoch:   4/10 | Samples:    544/1015 | Atom RMSE Loss: 0.0258 | Bond RMSE Loss: 0.0378\n",
      "Epoch:   4/10 | Samples:    576/1015 | Atom RMSE Loss: 0.0258 | Bond RMSE Loss: 0.0378\n",
      "Epoch:   4/10 | Samples:    608/1015 | Atom RMSE Loss: 0.0257 | Bond RMSE Loss: 0.0374\n",
      "Epoch:   4/10 | Samples:    640/1015 | Atom RMSE Loss: 0.0256 | Bond RMSE Loss: 0.0375\n",
      "Epoch:   4/10 | Samples:    672/1015 | Atom RMSE Loss: 0.0258 | Bond RMSE Loss: 0.0373\n",
      "Epoch:   4/10 | Samples:    704/1015 | Atom RMSE Loss: 0.0258 | Bond RMSE Loss: 0.0369\n",
      "Epoch:   4/10 | Samples:    736/1015 | Atom RMSE Loss: 0.0258 | Bond RMSE Loss: 0.0365\n",
      "Epoch:   4/10 | Samples:    768/1015 | Atom RMSE Loss: 0.0259 | Bond RMSE Loss: 0.0362\n",
      "Epoch:   4/10 | Samples:    800/1015 | Atom RMSE Loss: 0.0258 | Bond RMSE Loss: 0.0363\n",
      "Epoch:   4/10 | Samples:    832/1015 | Atom RMSE Loss: 0.0259 | Bond RMSE Loss: 0.0366\n",
      "Epoch:   4/10 | Samples:    864/1015 | Atom RMSE Loss: 0.0259 | Bond RMSE Loss: 0.0369\n",
      "Epoch:   4/10 | Samples:    896/1015 | Atom RMSE Loss: 0.0259 | Bond RMSE Loss: 0.0364\n",
      "Epoch:   4/10 | Samples:    928/1015 | Atom RMSE Loss: 0.0259 | Bond RMSE Loss: 0.0359\n",
      "Epoch:   4/10 | Samples:    960/1015 | Atom RMSE Loss: 0.0259 | Bond RMSE Loss: 0.0357\n",
      "Epoch:   4/10 | Samples:    992/1015 | Atom RMSE Loss: 0.0258 | Bond RMSE Loss: 0.0355\n",
      "Epoch:   5/10 | Samples:      0/1015 | Atom RMSE Loss: 0.0241 | Bond RMSE Loss: 0.0261\n",
      "Epoch:   5/10 | Samples:     32/1015 | Atom RMSE Loss: 0.0250 | Bond RMSE Loss: 0.0213\n",
      "Epoch:   5/10 | Samples:     64/1015 | Atom RMSE Loss: 0.0248 | Bond RMSE Loss: 0.0220\n",
      "Epoch:   5/10 | Samples:     96/1015 | Atom RMSE Loss: 0.0252 | Bond RMSE Loss: 0.0246\n",
      "Epoch:   5/10 | Samples:    128/1015 | Atom RMSE Loss: 0.0256 | Bond RMSE Loss: 0.0286\n",
      "Epoch:   5/10 | Samples:    160/1015 | Atom RMSE Loss: 0.0257 | Bond RMSE Loss: 0.0312\n",
      "Epoch:   5/10 | Samples:    192/1015 | Atom RMSE Loss: 0.0257 | Bond RMSE Loss: 0.0312\n",
      "Epoch:   5/10 | Samples:    224/1015 | Atom RMSE Loss: 0.0257 | Bond RMSE Loss: 0.0300\n",
      "Epoch:   5/10 | Samples:    256/1015 | Atom RMSE Loss: 0.0256 | Bond RMSE Loss: 0.0296\n",
      "Epoch:   5/10 | Samples:    288/1015 | Atom RMSE Loss: 0.0256 | Bond RMSE Loss: 0.0296\n",
      "Epoch:   5/10 | Samples:    320/1015 | Atom RMSE Loss: 0.0255 | Bond RMSE Loss: 0.0289\n",
      "Epoch:   5/10 | Samples:    352/1015 | Atom RMSE Loss: 0.0255 | Bond RMSE Loss: 0.0288\n",
      "Epoch:   5/10 | Samples:    384/1015 | Atom RMSE Loss: 0.0254 | Bond RMSE Loss: 0.0288\n",
      "Epoch:   5/10 | Samples:    416/1015 | Atom RMSE Loss: 0.0254 | Bond RMSE Loss: 0.0286\n",
      "Epoch:   5/10 | Samples:    448/1015 | Atom RMSE Loss: 0.0253 | Bond RMSE Loss: 0.0282\n",
      "Epoch:   5/10 | Samples:    480/1015 | Atom RMSE Loss: 0.0251 | Bond RMSE Loss: 0.0278\n",
      "Epoch:   5/10 | Samples:    512/1015 | Atom RMSE Loss: 0.0251 | Bond RMSE Loss: 0.0281\n",
      "Epoch:   5/10 | Samples:    544/1015 | Atom RMSE Loss: 0.0251 | Bond RMSE Loss: 0.0277\n",
      "Epoch:   5/10 | Samples:    576/1015 | Atom RMSE Loss: 0.0250 | Bond RMSE Loss: 0.0278\n",
      "Epoch:   5/10 | Samples:    608/1015 | Atom RMSE Loss: 0.0250 | Bond RMSE Loss: 0.0275\n",
      "Epoch:   5/10 | Samples:    640/1015 | Atom RMSE Loss: 0.0249 | Bond RMSE Loss: 0.0277\n",
      "Epoch:   5/10 | Samples:    672/1015 | Atom RMSE Loss: 0.0251 | Bond RMSE Loss: 0.0276\n",
      "Epoch:   5/10 | Samples:    704/1015 | Atom RMSE Loss: 0.0251 | Bond RMSE Loss: 0.0273\n",
      "Epoch:   5/10 | Samples:    736/1015 | Atom RMSE Loss: 0.0253 | Bond RMSE Loss: 0.0270\n",
      "Epoch:   5/10 | Samples:    768/1015 | Atom RMSE Loss: 0.0254 | Bond RMSE Loss: 0.0267\n",
      "Epoch:   5/10 | Samples:    800/1015 | Atom RMSE Loss: 0.0253 | Bond RMSE Loss: 0.0269\n",
      "Epoch:   5/10 | Samples:    832/1015 | Atom RMSE Loss: 0.0253 | Bond RMSE Loss: 0.0272\n",
      "Epoch:   5/10 | Samples:    864/1015 | Atom RMSE Loss: 0.0253 | Bond RMSE Loss: 0.0276\n",
      "Epoch:   5/10 | Samples:    896/1015 | Atom RMSE Loss: 0.0253 | Bond RMSE Loss: 0.0273\n",
      "Epoch:   5/10 | Samples:    928/1015 | Atom RMSE Loss: 0.0253 | Bond RMSE Loss: 0.0269\n",
      "Epoch:   5/10 | Samples:    960/1015 | Atom RMSE Loss: 0.0252 | Bond RMSE Loss: 0.0268\n",
      "Epoch:   5/10 | Samples:    992/1015 | Atom RMSE Loss: 0.0252 | Bond RMSE Loss: 0.0267\n",
      "Epoch:   6/10 | Samples:      0/1015 | Atom RMSE Loss: 0.0236 | Bond RMSE Loss: 0.0205\n",
      "Epoch:   6/10 | Samples:     32/1015 | Atom RMSE Loss: 0.0246 | Bond RMSE Loss: 0.0151\n",
      "Epoch:   6/10 | Samples:     64/1015 | Atom RMSE Loss: 0.0243 | Bond RMSE Loss: 0.0155\n",
      "Epoch:   6/10 | Samples:     96/1015 | Atom RMSE Loss: 0.0245 | Bond RMSE Loss: 0.0184\n",
      "Epoch:   6/10 | Samples:    128/1015 | Atom RMSE Loss: 0.0247 | Bond RMSE Loss: 0.0222\n",
      "Epoch:   6/10 | Samples:    160/1015 | Atom RMSE Loss: 0.0246 | Bond RMSE Loss: 0.0247\n",
      "Epoch:   6/10 | Samples:    192/1015 | Atom RMSE Loss: 0.0246 | Bond RMSE Loss: 0.0253\n",
      "Epoch:   6/10 | Samples:    224/1015 | Atom RMSE Loss: 0.0246 | Bond RMSE Loss: 0.0244\n",
      "Epoch:   6/10 | Samples:    256/1015 | Atom RMSE Loss: 0.0244 | Bond RMSE Loss: 0.0242\n",
      "Epoch:   6/10 | Samples:    288/1015 | Atom RMSE Loss: 0.0245 | Bond RMSE Loss: 0.0243\n",
      "Epoch:   6/10 | Samples:    320/1015 | Atom RMSE Loss: 0.0245 | Bond RMSE Loss: 0.0236\n",
      "Epoch:   6/10 | Samples:    352/1015 | Atom RMSE Loss: 0.0245 | Bond RMSE Loss: 0.0235\n",
      "Epoch:   6/10 | Samples:    384/1015 | Atom RMSE Loss: 0.0245 | Bond RMSE Loss: 0.0234\n",
      "Epoch:   6/10 | Samples:    416/1015 | Atom RMSE Loss: 0.0245 | Bond RMSE Loss: 0.0232\n",
      "Epoch:   6/10 | Samples:    448/1015 | Atom RMSE Loss: 0.0244 | Bond RMSE Loss: 0.0228\n",
      "Epoch:   6/10 | Samples:    480/1015 | Atom RMSE Loss: 0.0243 | Bond RMSE Loss: 0.0224\n",
      "Epoch:   6/10 | Samples:    512/1015 | Atom RMSE Loss: 0.0243 | Bond RMSE Loss: 0.0226\n",
      "Epoch:   6/10 | Samples:    544/1015 | Atom RMSE Loss: 0.0243 | Bond RMSE Loss: 0.0223\n",
      "Epoch:   6/10 | Samples:    576/1015 | Atom RMSE Loss: 0.0243 | Bond RMSE Loss: 0.0223\n",
      "Epoch:   6/10 | Samples:    608/1015 | Atom RMSE Loss: 0.0243 | Bond RMSE Loss: 0.0221\n",
      "Epoch:   6/10 | Samples:    640/1015 | Atom RMSE Loss: 0.0242 | Bond RMSE Loss: 0.0224\n",
      "Epoch:   6/10 | Samples:    672/1015 | Atom RMSE Loss: 0.0243 | Bond RMSE Loss: 0.0222\n",
      "Epoch:   6/10 | Samples:    704/1015 | Atom RMSE Loss: 0.0243 | Bond RMSE Loss: 0.0220\n",
      "Epoch:   6/10 | Samples:    736/1015 | Atom RMSE Loss: 0.0243 | Bond RMSE Loss: 0.0218\n",
      "Epoch:   6/10 | Samples:    768/1015 | Atom RMSE Loss: 0.0243 | Bond RMSE Loss: 0.0215\n",
      "Epoch:   6/10 | Samples:    800/1015 | Atom RMSE Loss: 0.0243 | Bond RMSE Loss: 0.0217\n",
      "Epoch:   6/10 | Samples:    832/1015 | Atom RMSE Loss: 0.0243 | Bond RMSE Loss: 0.0221\n",
      "Epoch:   6/10 | Samples:    864/1015 | Atom RMSE Loss: 0.0244 | Bond RMSE Loss: 0.0226\n",
      "Epoch:   6/10 | Samples:    896/1015 | Atom RMSE Loss: 0.0245 | Bond RMSE Loss: 0.0223\n",
      "Epoch:   6/10 | Samples:    928/1015 | Atom RMSE Loss: 0.0245 | Bond RMSE Loss: 0.0219\n",
      "Epoch:   6/10 | Samples:    960/1015 | Atom RMSE Loss: 0.0245 | Bond RMSE Loss: 0.0218\n",
      "Epoch:   6/10 | Samples:    992/1015 | Atom RMSE Loss: 0.0245 | Bond RMSE Loss: 0.0218\n",
      "Epoch:   7/10 | Samples:      0/1015 | Atom RMSE Loss: 0.0232 | Bond RMSE Loss: 0.0157\n",
      "Epoch:   7/10 | Samples:     32/1015 | Atom RMSE Loss: 0.0243 | Bond RMSE Loss: 0.0119\n",
      "Epoch:   7/10 | Samples:     64/1015 | Atom RMSE Loss: 0.0241 | Bond RMSE Loss: 0.0118\n",
      "Epoch:   7/10 | Samples:     96/1015 | Atom RMSE Loss: 0.0241 | Bond RMSE Loss: 0.0146\n",
      "Epoch:   7/10 | Samples:    128/1015 | Atom RMSE Loss: 0.0244 | Bond RMSE Loss: 0.0166\n",
      "Epoch:   7/10 | Samples:    160/1015 | Atom RMSE Loss: 0.0243 | Bond RMSE Loss: 0.0169\n",
      "Epoch:   7/10 | Samples:    192/1015 | Atom RMSE Loss: 0.0243 | Bond RMSE Loss: 0.0172\n",
      "Epoch:   7/10 | Samples:    224/1015 | Atom RMSE Loss: 0.0243 | Bond RMSE Loss: 0.0165\n",
      "Epoch:   7/10 | Samples:    256/1015 | Atom RMSE Loss: 0.0242 | Bond RMSE Loss: 0.0166\n",
      "Epoch:   7/10 | Samples:    288/1015 | Atom RMSE Loss: 0.0243 | Bond RMSE Loss: 0.0168\n",
      "Epoch:   7/10 | Samples:    320/1015 | Atom RMSE Loss: 0.0243 | Bond RMSE Loss: 0.0169\n",
      "Epoch:   7/10 | Samples:    352/1015 | Atom RMSE Loss: 0.0243 | Bond RMSE Loss: 0.0171\n",
      "Epoch:   7/10 | Samples:    384/1015 | Atom RMSE Loss: 0.0243 | Bond RMSE Loss: 0.0174\n",
      "Epoch:   7/10 | Samples:    416/1015 | Atom RMSE Loss: 0.0243 | Bond RMSE Loss: 0.0173\n",
      "Epoch:   7/10 | Samples:    448/1015 | Atom RMSE Loss: 0.0242 | Bond RMSE Loss: 0.0172\n",
      "Epoch:   7/10 | Samples:    480/1015 | Atom RMSE Loss: 0.0241 | Bond RMSE Loss: 0.0170\n",
      "Epoch:   7/10 | Samples:    512/1015 | Atom RMSE Loss: 0.0241 | Bond RMSE Loss: 0.0173\n",
      "Epoch:   7/10 | Samples:    544/1015 | Atom RMSE Loss: 0.0241 | Bond RMSE Loss: 0.0168\n",
      "Epoch:   7/10 | Samples:    576/1015 | Atom RMSE Loss: 0.0241 | Bond RMSE Loss: 0.0170\n",
      "Epoch:   7/10 | Samples:    608/1015 | Atom RMSE Loss: 0.0241 | Bond RMSE Loss: 0.0173\n",
      "Epoch:   7/10 | Samples:    640/1015 | Atom RMSE Loss: 0.0240 | Bond RMSE Loss: 0.0184\n",
      "Epoch:   7/10 | Samples:    672/1015 | Atom RMSE Loss: 0.0241 | Bond RMSE Loss: 0.0185\n",
      "Epoch:   7/10 | Samples:    704/1015 | Atom RMSE Loss: 0.0241 | Bond RMSE Loss: 0.0185\n",
      "Epoch:   7/10 | Samples:    736/1015 | Atom RMSE Loss: 0.0241 | Bond RMSE Loss: 0.0185\n",
      "Epoch:   7/10 | Samples:    768/1015 | Atom RMSE Loss: 0.0241 | Bond RMSE Loss: 0.0182\n",
      "Epoch:   7/10 | Samples:    800/1015 | Atom RMSE Loss: 0.0241 | Bond RMSE Loss: 0.0185\n",
      "Epoch:   7/10 | Samples:    832/1015 | Atom RMSE Loss: 0.0241 | Bond RMSE Loss: 0.0188\n",
      "Epoch:   7/10 | Samples:    864/1015 | Atom RMSE Loss: 0.0241 | Bond RMSE Loss: 0.0192\n",
      "Epoch:   7/10 | Samples:    896/1015 | Atom RMSE Loss: 0.0241 | Bond RMSE Loss: 0.0190\n",
      "Epoch:   7/10 | Samples:    928/1015 | Atom RMSE Loss: 0.0241 | Bond RMSE Loss: 0.0186\n",
      "Epoch:   7/10 | Samples:    960/1015 | Atom RMSE Loss: 0.0240 | Bond RMSE Loss: 0.0186\n",
      "Epoch:   7/10 | Samples:    992/1015 | Atom RMSE Loss: 0.0240 | Bond RMSE Loss: 0.0186\n",
      "Epoch:   8/10 | Samples:      0/1015 | Atom RMSE Loss: 0.0231 | Bond RMSE Loss: 0.0123\n",
      "Epoch:   8/10 | Samples:     32/1015 | Atom RMSE Loss: 0.0242 | Bond RMSE Loss: 0.0096\n",
      "Epoch:   8/10 | Samples:     64/1015 | Atom RMSE Loss: 0.0240 | Bond RMSE Loss: 0.0094\n",
      "Epoch:   8/10 | Samples:     96/1015 | Atom RMSE Loss: 0.0239 | Bond RMSE Loss: 0.0121\n",
      "Epoch:   8/10 | Samples:    128/1015 | Atom RMSE Loss: 0.0242 | Bond RMSE Loss: 0.0134\n",
      "Epoch:   8/10 | Samples:    160/1015 | Atom RMSE Loss: 0.0241 | Bond RMSE Loss: 0.0134\n",
      "Epoch:   8/10 | Samples:    192/1015 | Atom RMSE Loss: 0.0241 | Bond RMSE Loss: 0.0141\n",
      "Epoch:   8/10 | Samples:    224/1015 | Atom RMSE Loss: 0.0240 | Bond RMSE Loss: 0.0135\n",
      "Epoch:   8/10 | Samples:    256/1015 | Atom RMSE Loss: 0.0239 | Bond RMSE Loss: 0.0137\n",
      "Epoch:   8/10 | Samples:    288/1015 | Atom RMSE Loss: 0.0239 | Bond RMSE Loss: 0.0140\n",
      "Epoch:   8/10 | Samples:    320/1015 | Atom RMSE Loss: 0.0239 | Bond RMSE Loss: 0.0146\n",
      "Epoch:   8/10 | Samples:    352/1015 | Atom RMSE Loss: 0.0239 | Bond RMSE Loss: 0.0153\n",
      "Epoch:   8/10 | Samples:    384/1015 | Atom RMSE Loss: 0.0239 | Bond RMSE Loss: 0.0159\n",
      "Epoch:   8/10 | Samples:    416/1015 | Atom RMSE Loss: 0.0239 | Bond RMSE Loss: 0.0160\n",
      "Epoch:   8/10 | Samples:    448/1015 | Atom RMSE Loss: 0.0238 | Bond RMSE Loss: 0.0159\n",
      "Epoch:   8/10 | Samples:    480/1015 | Atom RMSE Loss: 0.0238 | Bond RMSE Loss: 0.0156\n",
      "Epoch:   8/10 | Samples:    512/1015 | Atom RMSE Loss: 0.0238 | Bond RMSE Loss: 0.0159\n",
      "Epoch:   8/10 | Samples:    544/1015 | Atom RMSE Loss: 0.0238 | Bond RMSE Loss: 0.0155\n",
      "Epoch:   8/10 | Samples:    576/1015 | Atom RMSE Loss: 0.0238 | Bond RMSE Loss: 0.0156\n",
      "Epoch:   8/10 | Samples:    608/1015 | Atom RMSE Loss: 0.0238 | Bond RMSE Loss: 0.0156\n",
      "Epoch:   8/10 | Samples:    640/1015 | Atom RMSE Loss: 0.0238 | Bond RMSE Loss: 0.0159\n",
      "Epoch:   8/10 | Samples:    672/1015 | Atom RMSE Loss: 0.0241 | Bond RMSE Loss: 0.0159\n",
      "Epoch:   8/10 | Samples:    704/1015 | Atom RMSE Loss: 0.0242 | Bond RMSE Loss: 0.0158\n",
      "Epoch:   8/10 | Samples:    736/1015 | Atom RMSE Loss: 0.0243 | Bond RMSE Loss: 0.0156\n",
      "Epoch:   8/10 | Samples:    768/1015 | Atom RMSE Loss: 0.0244 | Bond RMSE Loss: 0.0154\n",
      "Epoch:   8/10 | Samples:    800/1015 | Atom RMSE Loss: 0.0244 | Bond RMSE Loss: 0.0157\n",
      "Epoch:   8/10 | Samples:    832/1015 | Atom RMSE Loss: 0.0244 | Bond RMSE Loss: 0.0163\n",
      "Epoch:   8/10 | Samples:    864/1015 | Atom RMSE Loss: 0.0244 | Bond RMSE Loss: 0.0170\n",
      "Epoch:   8/10 | Samples:    896/1015 | Atom RMSE Loss: 0.0244 | Bond RMSE Loss: 0.0170\n",
      "Epoch:   8/10 | Samples:    928/1015 | Atom RMSE Loss: 0.0243 | Bond RMSE Loss: 0.0167\n",
      "Epoch:   8/10 | Samples:    960/1015 | Atom RMSE Loss: 0.0243 | Bond RMSE Loss: 0.0166\n",
      "Epoch:   8/10 | Samples:    992/1015 | Atom RMSE Loss: 0.0243 | Bond RMSE Loss: 0.0167\n",
      "Epoch:   9/10 | Samples:      0/1015 | Atom RMSE Loss: 0.0232 | Bond RMSE Loss: 0.0093\n",
      "Epoch:   9/10 | Samples:     32/1015 | Atom RMSE Loss: 0.0241 | Bond RMSE Loss: 0.0077\n",
      "Epoch:   9/10 | Samples:     64/1015 | Atom RMSE Loss: 0.0239 | Bond RMSE Loss: 0.0076\n",
      "Epoch:   9/10 | Samples:     96/1015 | Atom RMSE Loss: 0.0238 | Bond RMSE Loss: 0.0105\n",
      "Epoch:   9/10 | Samples:    128/1015 | Atom RMSE Loss: 0.0241 | Bond RMSE Loss: 0.0110\n",
      "Epoch:   9/10 | Samples:    160/1015 | Atom RMSE Loss: 0.0239 | Bond RMSE Loss: 0.0109\n",
      "Epoch:   9/10 | Samples:    192/1015 | Atom RMSE Loss: 0.0240 | Bond RMSE Loss: 0.0119\n",
      "Epoch:   9/10 | Samples:    224/1015 | Atom RMSE Loss: 0.0239 | Bond RMSE Loss: 0.0118\n",
      "Epoch:   9/10 | Samples:    256/1015 | Atom RMSE Loss: 0.0238 | Bond RMSE Loss: 0.0122\n",
      "Epoch:   9/10 | Samples:    288/1015 | Atom RMSE Loss: 0.0238 | Bond RMSE Loss: 0.0125\n",
      "Epoch:   9/10 | Samples:    320/1015 | Atom RMSE Loss: 0.0238 | Bond RMSE Loss: 0.0126\n",
      "Epoch:   9/10 | Samples:    352/1015 | Atom RMSE Loss: 0.0238 | Bond RMSE Loss: 0.0129\n",
      "Epoch:   9/10 | Samples:    384/1015 | Atom RMSE Loss: 0.0238 | Bond RMSE Loss: 0.0134\n",
      "Epoch:   9/10 | Samples:    416/1015 | Atom RMSE Loss: 0.0237 | Bond RMSE Loss: 0.0137\n",
      "Epoch:   9/10 | Samples:    448/1015 | Atom RMSE Loss: 0.0237 | Bond RMSE Loss: 0.0137\n",
      "Epoch:   9/10 | Samples:    480/1015 | Atom RMSE Loss: 0.0236 | Bond RMSE Loss: 0.0134\n",
      "Epoch:   9/10 | Samples:    512/1015 | Atom RMSE Loss: 0.0237 | Bond RMSE Loss: 0.0137\n",
      "Epoch:   9/10 | Samples:    544/1015 | Atom RMSE Loss: 0.0237 | Bond RMSE Loss: 0.0133\n",
      "Epoch:   9/10 | Samples:    576/1015 | Atom RMSE Loss: 0.0237 | Bond RMSE Loss: 0.0134\n",
      "Epoch:   9/10 | Samples:    608/1015 | Atom RMSE Loss: 0.0236 | Bond RMSE Loss: 0.0136\n",
      "Epoch:   9/10 | Samples:    640/1015 | Atom RMSE Loss: 0.0236 | Bond RMSE Loss: 0.0151\n",
      "Epoch:   9/10 | Samples:    672/1015 | Atom RMSE Loss: 0.0236 | Bond RMSE Loss: 0.0153\n",
      "Epoch:   9/10 | Samples:    704/1015 | Atom RMSE Loss: 0.0236 | Bond RMSE Loss: 0.0154\n",
      "Epoch:   9/10 | Samples:    736/1015 | Atom RMSE Loss: 0.0235 | Bond RMSE Loss: 0.0154\n",
      "Epoch:   9/10 | Samples:    768/1015 | Atom RMSE Loss: 0.0236 | Bond RMSE Loss: 0.0151\n",
      "Epoch:   9/10 | Samples:    800/1015 | Atom RMSE Loss: 0.0235 | Bond RMSE Loss: 0.0154\n",
      "Epoch:   9/10 | Samples:    832/1015 | Atom RMSE Loss: 0.0235 | Bond RMSE Loss: 0.0158\n",
      "Epoch:   9/10 | Samples:    864/1015 | Atom RMSE Loss: 0.0235 | Bond RMSE Loss: 0.0161\n",
      "Epoch:   9/10 | Samples:    896/1015 | Atom RMSE Loss: 0.0235 | Bond RMSE Loss: 0.0158\n",
      "Epoch:   9/10 | Samples:    928/1015 | Atom RMSE Loss: 0.0234 | Bond RMSE Loss: 0.0155\n",
      "Epoch:   9/10 | Samples:    960/1015 | Atom RMSE Loss: 0.0234 | Bond RMSE Loss: 0.0155\n",
      "Epoch:   9/10 | Samples:    992/1015 | Atom RMSE Loss: 0.0234 | Bond RMSE Loss: 0.0155\n",
      "Training Autoencoder with Atom=22, Bond=3:\n",
      "Epoch:   0/10 | Samples:      0/1015 | Atom RMSE Loss: 0.2160 | Bond RMSE Loss: 0.5334\n",
      "Epoch:   0/10 | Samples:     32/1015 | Atom RMSE Loss: 0.1853 | Bond RMSE Loss: 0.4872\n",
      "Epoch:   0/10 | Samples:     64/1015 | Atom RMSE Loss: 0.1583 | Bond RMSE Loss: 0.4812\n",
      "Epoch:   0/10 | Samples:     96/1015 | Atom RMSE Loss: 0.1486 | Bond RMSE Loss: 0.4736\n",
      "Epoch:   0/10 | Samples:    128/1015 | Atom RMSE Loss: 0.1424 | Bond RMSE Loss: 0.4577\n",
      "Epoch:   0/10 | Samples:    160/1015 | Atom RMSE Loss: 0.1380 | Bond RMSE Loss: 0.4452\n",
      "Epoch:   0/10 | Samples:    192/1015 | Atom RMSE Loss: 0.1294 | Bond RMSE Loss: 0.4261\n",
      "Epoch:   0/10 | Samples:    224/1015 | Atom RMSE Loss: 0.1227 | Bond RMSE Loss: 0.4083\n",
      "Epoch:   0/10 | Samples:    256/1015 | Atom RMSE Loss: 0.1161 | Bond RMSE Loss: 0.3940\n",
      "Epoch:   0/10 | Samples:    288/1015 | Atom RMSE Loss: 0.1101 | Bond RMSE Loss: 0.3819\n",
      "Epoch:   0/10 | Samples:    320/1015 | Atom RMSE Loss: 0.1050 | Bond RMSE Loss: 0.3709\n",
      "Epoch:   0/10 | Samples:    352/1015 | Atom RMSE Loss: 0.1006 | Bond RMSE Loss: 0.3631\n",
      "Epoch:   0/10 | Samples:    384/1015 | Atom RMSE Loss: 0.0966 | Bond RMSE Loss: 0.3551\n",
      "Epoch:   0/10 | Samples:    416/1015 | Atom RMSE Loss: 0.0935 | Bond RMSE Loss: 0.3493\n",
      "Epoch:   0/10 | Samples:    448/1015 | Atom RMSE Loss: 0.0902 | Bond RMSE Loss: 0.3430\n",
      "Epoch:   0/10 | Samples:    480/1015 | Atom RMSE Loss: 0.0876 | Bond RMSE Loss: 0.3324\n",
      "Epoch:   0/10 | Samples:    512/1015 | Atom RMSE Loss: 0.0853 | Bond RMSE Loss: 0.3215\n",
      "Epoch:   0/10 | Samples:    544/1015 | Atom RMSE Loss: 0.0833 | Bond RMSE Loss: 0.3101\n",
      "Epoch:   0/10 | Samples:    576/1015 | Atom RMSE Loss: 0.0815 | Bond RMSE Loss: 0.2998\n",
      "Epoch:   0/10 | Samples:    608/1015 | Atom RMSE Loss: 0.0798 | Bond RMSE Loss: 0.2894\n",
      "Epoch:   0/10 | Samples:    640/1015 | Atom RMSE Loss: 0.0783 | Bond RMSE Loss: 0.2805\n",
      "Epoch:   0/10 | Samples:    672/1015 | Atom RMSE Loss: 0.0769 | Bond RMSE Loss: 0.2728\n",
      "Epoch:   0/10 | Samples:    704/1015 | Atom RMSE Loss: 0.0755 | Bond RMSE Loss: 0.2644\n",
      "Epoch:   0/10 | Samples:    736/1015 | Atom RMSE Loss: 0.0742 | Bond RMSE Loss: 0.2567\n",
      "Epoch:   0/10 | Samples:    768/1015 | Atom RMSE Loss: 0.0729 | Bond RMSE Loss: 0.2505\n",
      "Epoch:   0/10 | Samples:    800/1015 | Atom RMSE Loss: 0.0717 | Bond RMSE Loss: 0.2451\n",
      "Epoch:   0/10 | Samples:    832/1015 | Atom RMSE Loss: 0.0706 | Bond RMSE Loss: 0.2402\n",
      "Epoch:   0/10 | Samples:    864/1015 | Atom RMSE Loss: 0.0697 | Bond RMSE Loss: 0.2350\n",
      "Epoch:   0/10 | Samples:    896/1015 | Atom RMSE Loss: 0.0687 | Bond RMSE Loss: 0.2299\n",
      "Epoch:   0/10 | Samples:    928/1015 | Atom RMSE Loss: 0.0676 | Bond RMSE Loss: 0.2246\n",
      "Epoch:   0/10 | Samples:    960/1015 | Atom RMSE Loss: 0.0668 | Bond RMSE Loss: 0.2203\n",
      "Epoch:   0/10 | Samples:    992/1015 | Atom RMSE Loss: 0.0659 | Bond RMSE Loss: 0.2161\n",
      "Epoch:   1/10 | Samples:      0/1015 | Atom RMSE Loss: 0.0333 | Bond RMSE Loss: 0.1121\n",
      "Epoch:   1/10 | Samples:     32/1015 | Atom RMSE Loss: 0.0350 | Bond RMSE Loss: 0.0762\n",
      "Epoch:   1/10 | Samples:     64/1015 | Atom RMSE Loss: 0.0356 | Bond RMSE Loss: 0.0790\n",
      "Epoch:   1/10 | Samples:     96/1015 | Atom RMSE Loss: 0.0361 | Bond RMSE Loss: 0.0775\n",
      "Epoch:   1/10 | Samples:    128/1015 | Atom RMSE Loss: 0.0372 | Bond RMSE Loss: 0.0809\n",
      "Epoch:   1/10 | Samples:    160/1015 | Atom RMSE Loss: 0.0374 | Bond RMSE Loss: 0.0787\n",
      "Epoch:   1/10 | Samples:    192/1015 | Atom RMSE Loss: 0.0371 | Bond RMSE Loss: 0.0777\n",
      "Epoch:   1/10 | Samples:    224/1015 | Atom RMSE Loss: 0.0370 | Bond RMSE Loss: 0.0760\n",
      "Epoch:   1/10 | Samples:    256/1015 | Atom RMSE Loss: 0.0367 | Bond RMSE Loss: 0.0769\n",
      "Epoch:   1/10 | Samples:    288/1015 | Atom RMSE Loss: 0.0363 | Bond RMSE Loss: 0.0782\n",
      "Epoch:   1/10 | Samples:    320/1015 | Atom RMSE Loss: 0.0361 | Bond RMSE Loss: 0.0764\n",
      "Epoch:   1/10 | Samples:    352/1015 | Atom RMSE Loss: 0.0358 | Bond RMSE Loss: 0.0763\n",
      "Epoch:   1/10 | Samples:    384/1015 | Atom RMSE Loss: 0.0356 | Bond RMSE Loss: 0.0763\n",
      "Epoch:   1/10 | Samples:    416/1015 | Atom RMSE Loss: 0.0356 | Bond RMSE Loss: 0.0770\n",
      "Epoch:   1/10 | Samples:    448/1015 | Atom RMSE Loss: 0.0353 | Bond RMSE Loss: 0.0771\n",
      "Epoch:   1/10 | Samples:    480/1015 | Atom RMSE Loss: 0.0351 | Bond RMSE Loss: 0.0768\n",
      "Epoch:   1/10 | Samples:    512/1015 | Atom RMSE Loss: 0.0349 | Bond RMSE Loss: 0.0769\n",
      "Epoch:   1/10 | Samples:    544/1015 | Atom RMSE Loss: 0.0347 | Bond RMSE Loss: 0.0766\n",
      "Epoch:   1/10 | Samples:    576/1015 | Atom RMSE Loss: 0.0347 | Bond RMSE Loss: 0.0768\n",
      "Epoch:   1/10 | Samples:    608/1015 | Atom RMSE Loss: 0.0344 | Bond RMSE Loss: 0.0760\n",
      "Epoch:   1/10 | Samples:    640/1015 | Atom RMSE Loss: 0.0345 | Bond RMSE Loss: 0.0756\n",
      "Epoch:   1/10 | Samples:    672/1015 | Atom RMSE Loss: 0.0344 | Bond RMSE Loss: 0.0755\n",
      "Epoch:   1/10 | Samples:    704/1015 | Atom RMSE Loss: 0.0343 | Bond RMSE Loss: 0.0744\n",
      "Epoch:   1/10 | Samples:    736/1015 | Atom RMSE Loss: 0.0343 | Bond RMSE Loss: 0.0735\n",
      "Epoch:   1/10 | Samples:    768/1015 | Atom RMSE Loss: 0.0341 | Bond RMSE Loss: 0.0731\n",
      "Epoch:   1/10 | Samples:    800/1015 | Atom RMSE Loss: 0.0340 | Bond RMSE Loss: 0.0731\n",
      "Epoch:   1/10 | Samples:    832/1015 | Atom RMSE Loss: 0.0339 | Bond RMSE Loss: 0.0732\n",
      "Epoch:   1/10 | Samples:    864/1015 | Atom RMSE Loss: 0.0339 | Bond RMSE Loss: 0.0730\n",
      "Epoch:   1/10 | Samples:    896/1015 | Atom RMSE Loss: 0.0337 | Bond RMSE Loss: 0.0724\n",
      "Epoch:   1/10 | Samples:    928/1015 | Atom RMSE Loss: 0.0335 | Bond RMSE Loss: 0.0715\n",
      "Epoch:   1/10 | Samples:    960/1015 | Atom RMSE Loss: 0.0335 | Bond RMSE Loss: 0.0711\n",
      "Epoch:   1/10 | Samples:    992/1015 | Atom RMSE Loss: 0.0333 | Bond RMSE Loss: 0.0708\n",
      "Epoch:   2/10 | Samples:      0/1015 | Atom RMSE Loss: 0.0255 | Bond RMSE Loss: 0.0568\n",
      "Epoch:   2/10 | Samples:     32/1015 | Atom RMSE Loss: 0.0280 | Bond RMSE Loss: 0.0455\n",
      "Epoch:   2/10 | Samples:     64/1015 | Atom RMSE Loss: 0.0285 | Bond RMSE Loss: 0.0487\n",
      "Epoch:   2/10 | Samples:     96/1015 | Atom RMSE Loss: 0.0290 | Bond RMSE Loss: 0.0487\n",
      "Epoch:   2/10 | Samples:    128/1015 | Atom RMSE Loss: 0.0293 | Bond RMSE Loss: 0.0538\n",
      "Epoch:   2/10 | Samples:    160/1015 | Atom RMSE Loss: 0.0292 | Bond RMSE Loss: 0.0524\n",
      "Epoch:   2/10 | Samples:    192/1015 | Atom RMSE Loss: 0.0291 | Bond RMSE Loss: 0.0530\n",
      "Epoch:   2/10 | Samples:    224/1015 | Atom RMSE Loss: 0.0291 | Bond RMSE Loss: 0.0531\n",
      "Epoch:   2/10 | Samples:    256/1015 | Atom RMSE Loss: 0.0290 | Bond RMSE Loss: 0.0546\n",
      "Epoch:   2/10 | Samples:    288/1015 | Atom RMSE Loss: 0.0292 | Bond RMSE Loss: 0.0565\n",
      "Epoch:   2/10 | Samples:    320/1015 | Atom RMSE Loss: 0.0292 | Bond RMSE Loss: 0.0559\n",
      "Epoch:   2/10 | Samples:    352/1015 | Atom RMSE Loss: 0.0291 | Bond RMSE Loss: 0.0563\n",
      "Epoch:   2/10 | Samples:    384/1015 | Atom RMSE Loss: 0.0290 | Bond RMSE Loss: 0.0567\n",
      "Epoch:   2/10 | Samples:    416/1015 | Atom RMSE Loss: 0.0290 | Bond RMSE Loss: 0.0578\n",
      "Epoch:   2/10 | Samples:    448/1015 | Atom RMSE Loss: 0.0287 | Bond RMSE Loss: 0.0583\n",
      "Epoch:   2/10 | Samples:    480/1015 | Atom RMSE Loss: 0.0285 | Bond RMSE Loss: 0.0587\n",
      "Epoch:   2/10 | Samples:    512/1015 | Atom RMSE Loss: 0.0285 | Bond RMSE Loss: 0.0591\n",
      "Epoch:   2/10 | Samples:    544/1015 | Atom RMSE Loss: 0.0284 | Bond RMSE Loss: 0.0590\n",
      "Epoch:   2/10 | Samples:    576/1015 | Atom RMSE Loss: 0.0284 | Bond RMSE Loss: 0.0595\n",
      "Epoch:   2/10 | Samples:    608/1015 | Atom RMSE Loss: 0.0283 | Bond RMSE Loss: 0.0590\n",
      "Epoch:   2/10 | Samples:    640/1015 | Atom RMSE Loss: 0.0285 | Bond RMSE Loss: 0.0588\n",
      "Epoch:   2/10 | Samples:    672/1015 | Atom RMSE Loss: 0.0285 | Bond RMSE Loss: 0.0589\n",
      "Epoch:   2/10 | Samples:    704/1015 | Atom RMSE Loss: 0.0285 | Bond RMSE Loss: 0.0581\n",
      "Epoch:   2/10 | Samples:    736/1015 | Atom RMSE Loss: 0.0285 | Bond RMSE Loss: 0.0575\n",
      "Epoch:   2/10 | Samples:    768/1015 | Atom RMSE Loss: 0.0285 | Bond RMSE Loss: 0.0573\n",
      "Epoch:   2/10 | Samples:    800/1015 | Atom RMSE Loss: 0.0284 | Bond RMSE Loss: 0.0575\n",
      "Epoch:   2/10 | Samples:    832/1015 | Atom RMSE Loss: 0.0283 | Bond RMSE Loss: 0.0577\n",
      "Epoch:   2/10 | Samples:    864/1015 | Atom RMSE Loss: 0.0284 | Bond RMSE Loss: 0.0576\n",
      "Epoch:   2/10 | Samples:    896/1015 | Atom RMSE Loss: 0.0283 | Bond RMSE Loss: 0.0571\n",
      "Epoch:   2/10 | Samples:    928/1015 | Atom RMSE Loss: 0.0283 | Bond RMSE Loss: 0.0564\n",
      "Epoch:   2/10 | Samples:    960/1015 | Atom RMSE Loss: 0.0283 | Bond RMSE Loss: 0.0560\n",
      "Epoch:   2/10 | Samples:    992/1015 | Atom RMSE Loss: 0.0283 | Bond RMSE Loss: 0.0557\n",
      "Epoch:   3/10 | Samples:      0/1015 | Atom RMSE Loss: 0.0251 | Bond RMSE Loss: 0.0647\n",
      "Epoch:   3/10 | Samples:     32/1015 | Atom RMSE Loss: 0.0273 | Bond RMSE Loss: 0.0312\n",
      "Epoch:   3/10 | Samples:     64/1015 | Atom RMSE Loss: 0.0271 | Bond RMSE Loss: 0.0333\n",
      "Epoch:   3/10 | Samples:     96/1015 | Atom RMSE Loss: 0.0273 | Bond RMSE Loss: 0.0342\n",
      "Epoch:   3/10 | Samples:    128/1015 | Atom RMSE Loss: 0.0273 | Bond RMSE Loss: 0.0361\n",
      "Epoch:   3/10 | Samples:    160/1015 | Atom RMSE Loss: 0.0271 | Bond RMSE Loss: 0.0351\n",
      "Epoch:   3/10 | Samples:    192/1015 | Atom RMSE Loss: 0.0270 | Bond RMSE Loss: 0.0352\n",
      "Epoch:   3/10 | Samples:    224/1015 | Atom RMSE Loss: 0.0271 | Bond RMSE Loss: 0.0343\n",
      "Epoch:   3/10 | Samples:    256/1015 | Atom RMSE Loss: 0.0270 | Bond RMSE Loss: 0.0348\n",
      "Epoch:   3/10 | Samples:    288/1015 | Atom RMSE Loss: 0.0271 | Bond RMSE Loss: 0.0354\n",
      "Epoch:   3/10 | Samples:    320/1015 | Atom RMSE Loss: 0.0271 | Bond RMSE Loss: 0.0347\n",
      "Epoch:   3/10 | Samples:    352/1015 | Atom RMSE Loss: 0.0270 | Bond RMSE Loss: 0.0343\n",
      "Epoch:   3/10 | Samples:    384/1015 | Atom RMSE Loss: 0.0270 | Bond RMSE Loss: 0.0343\n",
      "Epoch:   3/10 | Samples:    416/1015 | Atom RMSE Loss: 0.0270 | Bond RMSE Loss: 0.0341\n",
      "Epoch:   3/10 | Samples:    448/1015 | Atom RMSE Loss: 0.0268 | Bond RMSE Loss: 0.0338\n",
      "Epoch:   3/10 | Samples:    480/1015 | Atom RMSE Loss: 0.0268 | Bond RMSE Loss: 0.0332\n",
      "Epoch:   3/10 | Samples:    512/1015 | Atom RMSE Loss: 0.0267 | Bond RMSE Loss: 0.0331\n",
      "Epoch:   3/10 | Samples:    544/1015 | Atom RMSE Loss: 0.0266 | Bond RMSE Loss: 0.0326\n",
      "Epoch:   3/10 | Samples:    576/1015 | Atom RMSE Loss: 0.0266 | Bond RMSE Loss: 0.0327\n",
      "Epoch:   3/10 | Samples:    608/1015 | Atom RMSE Loss: 0.0265 | Bond RMSE Loss: 0.0323\n",
      "Epoch:   3/10 | Samples:    640/1015 | Atom RMSE Loss: 0.0265 | Bond RMSE Loss: 0.0323\n",
      "Epoch:   3/10 | Samples:    672/1015 | Atom RMSE Loss: 0.0267 | Bond RMSE Loss: 0.0323\n",
      "Epoch:   3/10 | Samples:    704/1015 | Atom RMSE Loss: 0.0267 | Bond RMSE Loss: 0.0319\n",
      "Epoch:   3/10 | Samples:    736/1015 | Atom RMSE Loss: 0.0267 | Bond RMSE Loss: 0.0314\n",
      "Epoch:   3/10 | Samples:    768/1015 | Atom RMSE Loss: 0.0267 | Bond RMSE Loss: 0.0312\n",
      "Epoch:   3/10 | Samples:    800/1015 | Atom RMSE Loss: 0.0266 | Bond RMSE Loss: 0.0313\n",
      "Epoch:   3/10 | Samples:    832/1015 | Atom RMSE Loss: 0.0265 | Bond RMSE Loss: 0.0314\n",
      "Epoch:   3/10 | Samples:    864/1015 | Atom RMSE Loss: 0.0265 | Bond RMSE Loss: 0.0314\n",
      "Epoch:   3/10 | Samples:    896/1015 | Atom RMSE Loss: 0.0265 | Bond RMSE Loss: 0.0310\n",
      "Epoch:   3/10 | Samples:    928/1015 | Atom RMSE Loss: 0.0264 | Bond RMSE Loss: 0.0304\n",
      "Epoch:   3/10 | Samples:    960/1015 | Atom RMSE Loss: 0.0264 | Bond RMSE Loss: 0.0301\n",
      "Epoch:   3/10 | Samples:    992/1015 | Atom RMSE Loss: 0.0264 | Bond RMSE Loss: 0.0299\n",
      "Epoch:   4/10 | Samples:      0/1015 | Atom RMSE Loss: 0.0235 | Bond RMSE Loss: 0.0308\n",
      "Epoch:   4/10 | Samples:     32/1015 | Atom RMSE Loss: 0.0259 | Bond RMSE Loss: 0.0137\n",
      "Epoch:   4/10 | Samples:     64/1015 | Atom RMSE Loss: 0.0257 | Bond RMSE Loss: 0.0138\n",
      "Epoch:   4/10 | Samples:     96/1015 | Atom RMSE Loss: 0.0262 | Bond RMSE Loss: 0.0156\n",
      "Epoch:   4/10 | Samples:    128/1015 | Atom RMSE Loss: 0.0266 | Bond RMSE Loss: 0.0160\n",
      "Epoch:   4/10 | Samples:    160/1015 | Atom RMSE Loss: 0.0268 | Bond RMSE Loss: 0.0159\n",
      "Epoch:   4/10 | Samples:    192/1015 | Atom RMSE Loss: 0.0267 | Bond RMSE Loss: 0.0162\n",
      "Epoch:   4/10 | Samples:    224/1015 | Atom RMSE Loss: 0.0271 | Bond RMSE Loss: 0.0156\n",
      "Epoch:   4/10 | Samples:    256/1015 | Atom RMSE Loss: 0.0270 | Bond RMSE Loss: 0.0160\n",
      "Epoch:   4/10 | Samples:    288/1015 | Atom RMSE Loss: 0.0269 | Bond RMSE Loss: 0.0161\n",
      "Epoch:   4/10 | Samples:    320/1015 | Atom RMSE Loss: 0.0268 | Bond RMSE Loss: 0.0158\n",
      "Epoch:   4/10 | Samples:    352/1015 | Atom RMSE Loss: 0.0267 | Bond RMSE Loss: 0.0156\n",
      "Epoch:   4/10 | Samples:    384/1015 | Atom RMSE Loss: 0.0266 | Bond RMSE Loss: 0.0157\n",
      "Epoch:   4/10 | Samples:    416/1015 | Atom RMSE Loss: 0.0265 | Bond RMSE Loss: 0.0155\n",
      "Epoch:   4/10 | Samples:    448/1015 | Atom RMSE Loss: 0.0264 | Bond RMSE Loss: 0.0153\n",
      "Epoch:   4/10 | Samples:    480/1015 | Atom RMSE Loss: 0.0264 | Bond RMSE Loss: 0.0151\n",
      "Epoch:   4/10 | Samples:    512/1015 | Atom RMSE Loss: 0.0263 | Bond RMSE Loss: 0.0151\n",
      "Epoch:   4/10 | Samples:    544/1015 | Atom RMSE Loss: 0.0263 | Bond RMSE Loss: 0.0147\n",
      "Epoch:   4/10 | Samples:    576/1015 | Atom RMSE Loss: 0.0262 | Bond RMSE Loss: 0.0146\n",
      "Epoch:   4/10 | Samples:    608/1015 | Atom RMSE Loss: 0.0261 | Bond RMSE Loss: 0.0145\n",
      "Epoch:   4/10 | Samples:    640/1015 | Atom RMSE Loss: 0.0261 | Bond RMSE Loss: 0.0147\n",
      "Epoch:   4/10 | Samples:    672/1015 | Atom RMSE Loss: 0.0262 | Bond RMSE Loss: 0.0147\n",
      "Epoch:   4/10 | Samples:    704/1015 | Atom RMSE Loss: 0.0262 | Bond RMSE Loss: 0.0145\n",
      "Epoch:   4/10 | Samples:    736/1015 | Atom RMSE Loss: 0.0261 | Bond RMSE Loss: 0.0144\n",
      "Epoch:   4/10 | Samples:    768/1015 | Atom RMSE Loss: 0.0262 | Bond RMSE Loss: 0.0141\n",
      "Epoch:   4/10 | Samples:    800/1015 | Atom RMSE Loss: 0.0261 | Bond RMSE Loss: 0.0142\n",
      "Epoch:   4/10 | Samples:    832/1015 | Atom RMSE Loss: 0.0260 | Bond RMSE Loss: 0.0147\n",
      "Epoch:   4/10 | Samples:    864/1015 | Atom RMSE Loss: 0.0260 | Bond RMSE Loss: 0.0150\n",
      "Epoch:   4/10 | Samples:    896/1015 | Atom RMSE Loss: 0.0260 | Bond RMSE Loss: 0.0148\n",
      "Epoch:   4/10 | Samples:    928/1015 | Atom RMSE Loss: 0.0260 | Bond RMSE Loss: 0.0145\n",
      "Epoch:   4/10 | Samples:    960/1015 | Atom RMSE Loss: 0.0260 | Bond RMSE Loss: 0.0144\n",
      "Epoch:   4/10 | Samples:    992/1015 | Atom RMSE Loss: 0.0260 | Bond RMSE Loss: 0.0144\n",
      "Epoch:   5/10 | Samples:      0/1015 | Atom RMSE Loss: 0.0235 | Bond RMSE Loss: 0.0082\n",
      "Epoch:   5/10 | Samples:     32/1015 | Atom RMSE Loss: 0.0253 | Bond RMSE Loss: 0.0054\n",
      "Epoch:   5/10 | Samples:     64/1015 | Atom RMSE Loss: 0.0250 | Bond RMSE Loss: 0.0053\n",
      "Epoch:   5/10 | Samples:     96/1015 | Atom RMSE Loss: 0.0254 | Bond RMSE Loss: 0.0074\n",
      "Epoch:   5/10 | Samples:    128/1015 | Atom RMSE Loss: 0.0260 | Bond RMSE Loss: 0.0081\n",
      "Epoch:   5/10 | Samples:    160/1015 | Atom RMSE Loss: 0.0262 | Bond RMSE Loss: 0.0081\n",
      "Epoch:   5/10 | Samples:    192/1015 | Atom RMSE Loss: 0.0261 | Bond RMSE Loss: 0.0091\n",
      "Epoch:   5/10 | Samples:    224/1015 | Atom RMSE Loss: 0.0260 | Bond RMSE Loss: 0.0087\n",
      "Epoch:   5/10 | Samples:    256/1015 | Atom RMSE Loss: 0.0259 | Bond RMSE Loss: 0.0091\n",
      "Epoch:   5/10 | Samples:    288/1015 | Atom RMSE Loss: 0.0259 | Bond RMSE Loss: 0.0093\n",
      "Epoch:   5/10 | Samples:    320/1015 | Atom RMSE Loss: 0.0259 | Bond RMSE Loss: 0.0093\n",
      "Epoch:   5/10 | Samples:    352/1015 | Atom RMSE Loss: 0.0261 | Bond RMSE Loss: 0.0092\n",
      "Epoch:   5/10 | Samples:    384/1015 | Atom RMSE Loss: 0.0261 | Bond RMSE Loss: 0.0095\n",
      "Epoch:   5/10 | Samples:    416/1015 | Atom RMSE Loss: 0.0261 | Bond RMSE Loss: 0.0096\n",
      "Epoch:   5/10 | Samples:    448/1015 | Atom RMSE Loss: 0.0261 | Bond RMSE Loss: 0.0096\n",
      "Epoch:   5/10 | Samples:    480/1015 | Atom RMSE Loss: 0.0260 | Bond RMSE Loss: 0.0094\n",
      "Epoch:   5/10 | Samples:    512/1015 | Atom RMSE Loss: 0.0260 | Bond RMSE Loss: 0.0096\n",
      "Epoch:   5/10 | Samples:    544/1015 | Atom RMSE Loss: 0.0259 | Bond RMSE Loss: 0.0094\n",
      "Epoch:   5/10 | Samples:    576/1015 | Atom RMSE Loss: 0.0259 | Bond RMSE Loss: 0.0094\n",
      "Epoch:   5/10 | Samples:    608/1015 | Atom RMSE Loss: 0.0257 | Bond RMSE Loss: 0.0094\n",
      "Epoch:   5/10 | Samples:    640/1015 | Atom RMSE Loss: 0.0257 | Bond RMSE Loss: 0.0098\n",
      "Epoch:   5/10 | Samples:    672/1015 | Atom RMSE Loss: 0.0257 | Bond RMSE Loss: 0.0099\n",
      "Epoch:   5/10 | Samples:    704/1015 | Atom RMSE Loss: 0.0257 | Bond RMSE Loss: 0.0099\n",
      "Epoch:   5/10 | Samples:    736/1015 | Atom RMSE Loss: 0.0256 | Bond RMSE Loss: 0.0101\n",
      "Epoch:   5/10 | Samples:    768/1015 | Atom RMSE Loss: 0.0256 | Bond RMSE Loss: 0.0099\n",
      "Epoch:   5/10 | Samples:    800/1015 | Atom RMSE Loss: 0.0255 | Bond RMSE Loss: 0.0100\n",
      "Epoch:   5/10 | Samples:    832/1015 | Atom RMSE Loss: 0.0255 | Bond RMSE Loss: 0.0104\n",
      "Epoch:   5/10 | Samples:    864/1015 | Atom RMSE Loss: 0.0255 | Bond RMSE Loss: 0.0108\n",
      "Epoch:   5/10 | Samples:    896/1015 | Atom RMSE Loss: 0.0254 | Bond RMSE Loss: 0.0108\n",
      "Epoch:   5/10 | Samples:    928/1015 | Atom RMSE Loss: 0.0254 | Bond RMSE Loss: 0.0106\n",
      "Epoch:   5/10 | Samples:    960/1015 | Atom RMSE Loss: 0.0254 | Bond RMSE Loss: 0.0106\n",
      "Epoch:   5/10 | Samples:    992/1015 | Atom RMSE Loss: 0.0253 | Bond RMSE Loss: 0.0107\n",
      "Epoch:   6/10 | Samples:      0/1015 | Atom RMSE Loss: 0.0245 | Bond RMSE Loss: 0.0070\n",
      "Epoch:   6/10 | Samples:     32/1015 | Atom RMSE Loss: 0.0268 | Bond RMSE Loss: 0.0046\n",
      "Epoch:   6/10 | Samples:     64/1015 | Atom RMSE Loss: 0.0262 | Bond RMSE Loss: 0.0045\n",
      "Epoch:   6/10 | Samples:     96/1015 | Atom RMSE Loss: 0.0263 | Bond RMSE Loss: 0.0063\n",
      "Epoch:   6/10 | Samples:    128/1015 | Atom RMSE Loss: 0.0267 | Bond RMSE Loss: 0.0067\n",
      "Epoch:   6/10 | Samples:    160/1015 | Atom RMSE Loss: 0.0285 | Bond RMSE Loss: 0.0067\n",
      "Epoch:   6/10 | Samples:    192/1015 | Atom RMSE Loss: 0.0283 | Bond RMSE Loss: 0.0080\n",
      "Epoch:   6/10 | Samples:    224/1015 | Atom RMSE Loss: 0.0280 | Bond RMSE Loss: 0.0079\n",
      "Epoch:   6/10 | Samples:    256/1015 | Atom RMSE Loss: 0.0276 | Bond RMSE Loss: 0.0081\n",
      "Epoch:   6/10 | Samples:    288/1015 | Atom RMSE Loss: 0.0273 | Bond RMSE Loss: 0.0081\n",
      "Epoch:   6/10 | Samples:    320/1015 | Atom RMSE Loss: 0.0270 | Bond RMSE Loss: 0.0080\n",
      "Epoch:   6/10 | Samples:    352/1015 | Atom RMSE Loss: 0.0268 | Bond RMSE Loss: 0.0079\n",
      "Epoch:   6/10 | Samples:    384/1015 | Atom RMSE Loss: 0.0267 | Bond RMSE Loss: 0.0080\n",
      "Epoch:   6/10 | Samples:    416/1015 | Atom RMSE Loss: 0.0265 | Bond RMSE Loss: 0.0081\n",
      "Epoch:   6/10 | Samples:    448/1015 | Atom RMSE Loss: 0.0263 | Bond RMSE Loss: 0.0084\n",
      "Epoch:   6/10 | Samples:    480/1015 | Atom RMSE Loss: 0.0261 | Bond RMSE Loss: 0.0085\n",
      "Epoch:   6/10 | Samples:    512/1015 | Atom RMSE Loss: 0.0260 | Bond RMSE Loss: 0.0086\n",
      "Epoch:   6/10 | Samples:    544/1015 | Atom RMSE Loss: 0.0259 | Bond RMSE Loss: 0.0085\n",
      "Epoch:   6/10 | Samples:    576/1015 | Atom RMSE Loss: 0.0258 | Bond RMSE Loss: 0.0083\n",
      "Epoch:   6/10 | Samples:    608/1015 | Atom RMSE Loss: 0.0257 | Bond RMSE Loss: 0.0084\n",
      "Epoch:   6/10 | Samples:    640/1015 | Atom RMSE Loss: 0.0256 | Bond RMSE Loss: 0.0087\n",
      "Epoch:   6/10 | Samples:    672/1015 | Atom RMSE Loss: 0.0257 | Bond RMSE Loss: 0.0089\n",
      "Epoch:   6/10 | Samples:    704/1015 | Atom RMSE Loss: 0.0257 | Bond RMSE Loss: 0.0088\n",
      "Epoch:   6/10 | Samples:    736/1015 | Atom RMSE Loss: 0.0257 | Bond RMSE Loss: 0.0088\n",
      "Epoch:   6/10 | Samples:    768/1015 | Atom RMSE Loss: 0.0257 | Bond RMSE Loss: 0.0086\n",
      "Epoch:   6/10 | Samples:    800/1015 | Atom RMSE Loss: 0.0256 | Bond RMSE Loss: 0.0087\n",
      "Epoch:   6/10 | Samples:    832/1015 | Atom RMSE Loss: 0.0256 | Bond RMSE Loss: 0.0090\n",
      "Epoch:   6/10 | Samples:    864/1015 | Atom RMSE Loss: 0.0255 | Bond RMSE Loss: 0.0092\n",
      "Epoch:   6/10 | Samples:    896/1015 | Atom RMSE Loss: 0.0255 | Bond RMSE Loss: 0.0091\n",
      "Epoch:   6/10 | Samples:    928/1015 | Atom RMSE Loss: 0.0255 | Bond RMSE Loss: 0.0090\n",
      "Epoch:   6/10 | Samples:    960/1015 | Atom RMSE Loss: 0.0254 | Bond RMSE Loss: 0.0089\n",
      "Epoch:   6/10 | Samples:    992/1015 | Atom RMSE Loss: 0.0254 | Bond RMSE Loss: 0.0089\n",
      "Epoch:   7/10 | Samples:      0/1015 | Atom RMSE Loss: 0.0231 | Bond RMSE Loss: 0.0056\n",
      "Epoch:   7/10 | Samples:     32/1015 | Atom RMSE Loss: 0.0250 | Bond RMSE Loss: 0.0037\n",
      "Epoch:   7/10 | Samples:     64/1015 | Atom RMSE Loss: 0.0247 | Bond RMSE Loss: 0.0035\n",
      "Epoch:   7/10 | Samples:     96/1015 | Atom RMSE Loss: 0.0249 | Bond RMSE Loss: 0.0050\n",
      "Epoch:   7/10 | Samples:    128/1015 | Atom RMSE Loss: 0.0251 | Bond RMSE Loss: 0.0052\n",
      "Epoch:   7/10 | Samples:    160/1015 | Atom RMSE Loss: 0.0252 | Bond RMSE Loss: 0.0055\n",
      "Epoch:   7/10 | Samples:    192/1015 | Atom RMSE Loss: 0.0252 | Bond RMSE Loss: 0.0060\n",
      "Epoch:   7/10 | Samples:    224/1015 | Atom RMSE Loss: 0.0251 | Bond RMSE Loss: 0.0060\n",
      "Epoch:   7/10 | Samples:    256/1015 | Atom RMSE Loss: 0.0250 | Bond RMSE Loss: 0.0062\n",
      "Epoch:   7/10 | Samples:    288/1015 | Atom RMSE Loss: 0.0250 | Bond RMSE Loss: 0.0061\n",
      "Epoch:   7/10 | Samples:    320/1015 | Atom RMSE Loss: 0.0250 | Bond RMSE Loss: 0.0059\n",
      "Epoch:   7/10 | Samples:    352/1015 | Atom RMSE Loss: 0.0250 | Bond RMSE Loss: 0.0058\n",
      "Epoch:   7/10 | Samples:    384/1015 | Atom RMSE Loss: 0.0250 | Bond RMSE Loss: 0.0058\n",
      "Epoch:   7/10 | Samples:    416/1015 | Atom RMSE Loss: 0.0249 | Bond RMSE Loss: 0.0060\n",
      "Epoch:   7/10 | Samples:    448/1015 | Atom RMSE Loss: 0.0248 | Bond RMSE Loss: 0.0061\n",
      "Epoch:   7/10 | Samples:    480/1015 | Atom RMSE Loss: 0.0247 | Bond RMSE Loss: 0.0062\n",
      "Epoch:   7/10 | Samples:    512/1015 | Atom RMSE Loss: 0.0247 | Bond RMSE Loss: 0.0069\n",
      "Epoch:   7/10 | Samples:    544/1015 | Atom RMSE Loss: 0.0247 | Bond RMSE Loss: 0.0073\n",
      "Epoch:   7/10 | Samples:    576/1015 | Atom RMSE Loss: 0.0246 | Bond RMSE Loss: 0.0073\n",
      "Epoch:   7/10 | Samples:    608/1015 | Atom RMSE Loss: 0.0245 | Bond RMSE Loss: 0.0075\n",
      "Epoch:   7/10 | Samples:    640/1015 | Atom RMSE Loss: 0.0245 | Bond RMSE Loss: 0.0077\n",
      "Epoch:   7/10 | Samples:    672/1015 | Atom RMSE Loss: 0.0245 | Bond RMSE Loss: 0.0079\n",
      "Epoch:   7/10 | Samples:    704/1015 | Atom RMSE Loss: 0.0245 | Bond RMSE Loss: 0.0079\n",
      "Epoch:   7/10 | Samples:    736/1015 | Atom RMSE Loss: 0.0244 | Bond RMSE Loss: 0.0077\n",
      "Epoch:   7/10 | Samples:    768/1015 | Atom RMSE Loss: 0.0245 | Bond RMSE Loss: 0.0077\n",
      "Epoch:   7/10 | Samples:    800/1015 | Atom RMSE Loss: 0.0244 | Bond RMSE Loss: 0.0080\n",
      "Epoch:   7/10 | Samples:    832/1015 | Atom RMSE Loss: 0.0244 | Bond RMSE Loss: 0.0084\n",
      "Epoch:   7/10 | Samples:    864/1015 | Atom RMSE Loss: 0.0244 | Bond RMSE Loss: 0.0085\n",
      "Epoch:   7/10 | Samples:    896/1015 | Atom RMSE Loss: 0.0244 | Bond RMSE Loss: 0.0084\n",
      "Epoch:   7/10 | Samples:    928/1015 | Atom RMSE Loss: 0.0243 | Bond RMSE Loss: 0.0082\n",
      "Epoch:   7/10 | Samples:    960/1015 | Atom RMSE Loss: 0.0243 | Bond RMSE Loss: 0.0081\n",
      "Epoch:   7/10 | Samples:    992/1015 | Atom RMSE Loss: 0.0243 | Bond RMSE Loss: 0.0081\n",
      "Epoch:   8/10 | Samples:      0/1015 | Atom RMSE Loss: 0.0230 | Bond RMSE Loss: 0.0046\n",
      "Epoch:   8/10 | Samples:     32/1015 | Atom RMSE Loss: 0.0245 | Bond RMSE Loss: 0.0030\n",
      "Epoch:   8/10 | Samples:     64/1015 | Atom RMSE Loss: 0.0244 | Bond RMSE Loss: 0.0028\n",
      "Epoch:   8/10 | Samples:     96/1015 | Atom RMSE Loss: 0.0244 | Bond RMSE Loss: 0.0043\n",
      "Epoch:   8/10 | Samples:    128/1015 | Atom RMSE Loss: 0.0245 | Bond RMSE Loss: 0.0045\n",
      "Epoch:   8/10 | Samples:    160/1015 | Atom RMSE Loss: 0.0243 | Bond RMSE Loss: 0.0047\n",
      "Epoch:   8/10 | Samples:    192/1015 | Atom RMSE Loss: 0.0243 | Bond RMSE Loss: 0.0048\n",
      "Epoch:   8/10 | Samples:    224/1015 | Atom RMSE Loss: 0.0243 | Bond RMSE Loss: 0.0044\n",
      "Epoch:   8/10 | Samples:    256/1015 | Atom RMSE Loss: 0.0243 | Bond RMSE Loss: 0.0046\n",
      "Epoch:   8/10 | Samples:    288/1015 | Atom RMSE Loss: 0.0244 | Bond RMSE Loss: 0.0045\n",
      "Epoch:   8/10 | Samples:    320/1015 | Atom RMSE Loss: 0.0244 | Bond RMSE Loss: 0.0044\n",
      "Epoch:   8/10 | Samples:    352/1015 | Atom RMSE Loss: 0.0244 | Bond RMSE Loss: 0.0043\n",
      "Epoch:   8/10 | Samples:    384/1015 | Atom RMSE Loss: 0.0244 | Bond RMSE Loss: 0.0043\n",
      "Epoch:   8/10 | Samples:    416/1015 | Atom RMSE Loss: 0.0244 | Bond RMSE Loss: 0.0046\n",
      "Epoch:   8/10 | Samples:    448/1015 | Atom RMSE Loss: 0.0243 | Bond RMSE Loss: 0.0048\n",
      "Epoch:   8/10 | Samples:    480/1015 | Atom RMSE Loss: 0.0243 | Bond RMSE Loss: 0.0050\n",
      "Epoch:   8/10 | Samples:    512/1015 | Atom RMSE Loss: 0.0243 | Bond RMSE Loss: 0.0054\n",
      "Epoch:   8/10 | Samples:    544/1015 | Atom RMSE Loss: 0.0243 | Bond RMSE Loss: 0.0055\n",
      "Epoch:   8/10 | Samples:    576/1015 | Atom RMSE Loss: 0.0243 | Bond RMSE Loss: 0.0056\n",
      "Epoch:   8/10 | Samples:    608/1015 | Atom RMSE Loss: 0.0242 | Bond RMSE Loss: 0.0059\n",
      "Epoch:   8/10 | Samples:    640/1015 | Atom RMSE Loss: 0.0242 | Bond RMSE Loss: 0.0061\n",
      "Epoch:   8/10 | Samples:    672/1015 | Atom RMSE Loss: 0.0243 | Bond RMSE Loss: 0.0068\n",
      "Epoch:   8/10 | Samples:    704/1015 | Atom RMSE Loss: 0.0244 | Bond RMSE Loss: 0.0071\n",
      "Epoch:   8/10 | Samples:    736/1015 | Atom RMSE Loss: 0.0244 | Bond RMSE Loss: 0.0071\n",
      "Epoch:   8/10 | Samples:    768/1015 | Atom RMSE Loss: 0.0244 | Bond RMSE Loss: 0.0070\n",
      "Epoch:   8/10 | Samples:    800/1015 | Atom RMSE Loss: 0.0244 | Bond RMSE Loss: 0.0073\n",
      "Epoch:   8/10 | Samples:    832/1015 | Atom RMSE Loss: 0.0243 | Bond RMSE Loss: 0.0077\n",
      "Epoch:   8/10 | Samples:    864/1015 | Atom RMSE Loss: 0.0243 | Bond RMSE Loss: 0.0078\n",
      "Epoch:   8/10 | Samples:    896/1015 | Atom RMSE Loss: 0.0243 | Bond RMSE Loss: 0.0078\n",
      "Epoch:   8/10 | Samples:    928/1015 | Atom RMSE Loss: 0.0243 | Bond RMSE Loss: 0.0076\n",
      "Epoch:   8/10 | Samples:    960/1015 | Atom RMSE Loss: 0.0242 | Bond RMSE Loss: 0.0074\n",
      "Epoch:   8/10 | Samples:    992/1015 | Atom RMSE Loss: 0.0242 | Bond RMSE Loss: 0.0075\n",
      "Epoch:   9/10 | Samples:      0/1015 | Atom RMSE Loss: 0.0240 | Bond RMSE Loss: 0.0032\n",
      "Epoch:   9/10 | Samples:     32/1015 | Atom RMSE Loss: 0.0265 | Bond RMSE Loss: 0.0025\n",
      "Epoch:   9/10 | Samples:     64/1015 | Atom RMSE Loss: 0.0259 | Bond RMSE Loss: 0.0024\n",
      "Epoch:   9/10 | Samples:     96/1015 | Atom RMSE Loss: 0.0271 | Bond RMSE Loss: 0.0040\n",
      "Epoch:   9/10 | Samples:    128/1015 | Atom RMSE Loss: 0.0295 | Bond RMSE Loss: 0.0037\n",
      "Epoch:   9/10 | Samples:    160/1015 | Atom RMSE Loss: 0.0297 | Bond RMSE Loss: 0.0038\n",
      "Epoch:   9/10 | Samples:    192/1015 | Atom RMSE Loss: 0.0292 | Bond RMSE Loss: 0.0039\n",
      "Epoch:   9/10 | Samples:    224/1015 | Atom RMSE Loss: 0.0287 | Bond RMSE Loss: 0.0037\n",
      "Epoch:   9/10 | Samples:    256/1015 | Atom RMSE Loss: 0.0283 | Bond RMSE Loss: 0.0039\n",
      "Epoch:   9/10 | Samples:    288/1015 | Atom RMSE Loss: 0.0279 | Bond RMSE Loss: 0.0039\n",
      "Epoch:   9/10 | Samples:    320/1015 | Atom RMSE Loss: 0.0275 | Bond RMSE Loss: 0.0037\n",
      "Epoch:   9/10 | Samples:    352/1015 | Atom RMSE Loss: 0.0272 | Bond RMSE Loss: 0.0037\n",
      "Epoch:   9/10 | Samples:    384/1015 | Atom RMSE Loss: 0.0270 | Bond RMSE Loss: 0.0037\n",
      "Epoch:   9/10 | Samples:    416/1015 | Atom RMSE Loss: 0.0267 | Bond RMSE Loss: 0.0040\n",
      "Epoch:   9/10 | Samples:    448/1015 | Atom RMSE Loss: 0.0265 | Bond RMSE Loss: 0.0042\n",
      "Epoch:   9/10 | Samples:    480/1015 | Atom RMSE Loss: 0.0263 | Bond RMSE Loss: 0.0043\n",
      "Epoch:   9/10 | Samples:    512/1015 | Atom RMSE Loss: 0.0262 | Bond RMSE Loss: 0.0047\n",
      "Epoch:   9/10 | Samples:    544/1015 | Atom RMSE Loss: 0.0261 | Bond RMSE Loss: 0.0049\n",
      "Epoch:   9/10 | Samples:    576/1015 | Atom RMSE Loss: 0.0260 | Bond RMSE Loss: 0.0050\n",
      "Epoch:   9/10 | Samples:    608/1015 | Atom RMSE Loss: 0.0258 | Bond RMSE Loss: 0.0053\n",
      "Epoch:   9/10 | Samples:    640/1015 | Atom RMSE Loss: 0.0256 | Bond RMSE Loss: 0.0056\n",
      "Epoch:   9/10 | Samples:    672/1015 | Atom RMSE Loss: 0.0256 | Bond RMSE Loss: 0.0059\n",
      "Epoch:   9/10 | Samples:    704/1015 | Atom RMSE Loss: 0.0255 | Bond RMSE Loss: 0.0060\n",
      "Epoch:   9/10 | Samples:    736/1015 | Atom RMSE Loss: 0.0254 | Bond RMSE Loss: 0.0060\n",
      "Epoch:   9/10 | Samples:    768/1015 | Atom RMSE Loss: 0.0254 | Bond RMSE Loss: 0.0060\n",
      "Epoch:   9/10 | Samples:    800/1015 | Atom RMSE Loss: 0.0253 | Bond RMSE Loss: 0.0062\n",
      "Epoch:   9/10 | Samples:    832/1015 | Atom RMSE Loss: 0.0252 | Bond RMSE Loss: 0.0064\n",
      "Epoch:   9/10 | Samples:    864/1015 | Atom RMSE Loss: 0.0252 | Bond RMSE Loss: 0.0065\n",
      "Epoch:   9/10 | Samples:    896/1015 | Atom RMSE Loss: 0.0251 | Bond RMSE Loss: 0.0065\n",
      "Epoch:   9/10 | Samples:    928/1015 | Atom RMSE Loss: 0.0251 | Bond RMSE Loss: 0.0064\n",
      "Epoch:   9/10 | Samples:    960/1015 | Atom RMSE Loss: 0.0250 | Bond RMSE Loss: 0.0063\n",
      "Epoch:   9/10 | Samples:    992/1015 | Atom RMSE Loss: 0.0250 | Bond RMSE Loss: 0.0064\n",
      "Training Autoencoder with Atom=46, Bond=3:\n",
      "Epoch:   0/10 | Samples:      0/1015 | Atom RMSE Loss: 0.2166 | Bond RMSE Loss: 0.5247\n",
      "Epoch:   0/10 | Samples:     32/1015 | Atom RMSE Loss: 0.1838 | Bond RMSE Loss: 0.4674\n",
      "Epoch:   0/10 | Samples:     64/1015 | Atom RMSE Loss: 0.1571 | Bond RMSE Loss: 0.4577\n",
      "Epoch:   0/10 | Samples:     96/1015 | Atom RMSE Loss: 0.1476 | Bond RMSE Loss: 0.4443\n",
      "Epoch:   0/10 | Samples:    128/1015 | Atom RMSE Loss: 0.1407 | Bond RMSE Loss: 0.4188\n",
      "Epoch:   0/10 | Samples:    160/1015 | Atom RMSE Loss: 0.1325 | Bond RMSE Loss: 0.3990\n",
      "Epoch:   0/10 | Samples:    192/1015 | Atom RMSE Loss: 0.1232 | Bond RMSE Loss: 0.3780\n",
      "Epoch:   0/10 | Samples:    224/1015 | Atom RMSE Loss: 0.1153 | Bond RMSE Loss: 0.3635\n",
      "Epoch:   0/10 | Samples:    256/1015 | Atom RMSE Loss: 0.1088 | Bond RMSE Loss: 0.3543\n",
      "Epoch:   0/10 | Samples:    288/1015 | Atom RMSE Loss: 0.1034 | Bond RMSE Loss: 0.3465\n",
      "Epoch:   0/10 | Samples:    320/1015 | Atom RMSE Loss: 0.0989 | Bond RMSE Loss: 0.3390\n",
      "Epoch:   0/10 | Samples:    352/1015 | Atom RMSE Loss: 0.0951 | Bond RMSE Loss: 0.3343\n",
      "Epoch:   0/10 | Samples:    384/1015 | Atom RMSE Loss: 0.0916 | Bond RMSE Loss: 0.3290\n",
      "Epoch:   0/10 | Samples:    416/1015 | Atom RMSE Loss: 0.0888 | Bond RMSE Loss: 0.3258\n",
      "Epoch:   0/10 | Samples:    448/1015 | Atom RMSE Loss: 0.0860 | Bond RMSE Loss: 0.3223\n",
      "Epoch:   0/10 | Samples:    480/1015 | Atom RMSE Loss: 0.0837 | Bond RMSE Loss: 0.3179\n",
      "Epoch:   0/10 | Samples:    512/1015 | Atom RMSE Loss: 0.0818 | Bond RMSE Loss: 0.3142\n",
      "Epoch:   0/10 | Samples:    544/1015 | Atom RMSE Loss: 0.0801 | Bond RMSE Loss: 0.3100\n",
      "Epoch:   0/10 | Samples:    576/1015 | Atom RMSE Loss: 0.0784 | Bond RMSE Loss: 0.3052\n",
      "Epoch:   0/10 | Samples:    608/1015 | Atom RMSE Loss: 0.0769 | Bond RMSE Loss: 0.2995\n",
      "Epoch:   0/10 | Samples:    640/1015 | Atom RMSE Loss: 0.0756 | Bond RMSE Loss: 0.2929\n",
      "Epoch:   0/10 | Samples:    672/1015 | Atom RMSE Loss: 0.0742 | Bond RMSE Loss: 0.2857\n",
      "Epoch:   0/10 | Samples:    704/1015 | Atom RMSE Loss: 0.0731 | Bond RMSE Loss: 0.2774\n",
      "Epoch:   0/10 | Samples:    736/1015 | Atom RMSE Loss: 0.0721 | Bond RMSE Loss: 0.2694\n",
      "Epoch:   0/10 | Samples:    768/1015 | Atom RMSE Loss: 0.0710 | Bond RMSE Loss: 0.2630\n",
      "Epoch:   0/10 | Samples:    800/1015 | Atom RMSE Loss: 0.0699 | Bond RMSE Loss: 0.2572\n",
      "Epoch:   0/10 | Samples:    832/1015 | Atom RMSE Loss: 0.0689 | Bond RMSE Loss: 0.2520\n",
      "Epoch:   0/10 | Samples:    864/1015 | Atom RMSE Loss: 0.0681 | Bond RMSE Loss: 0.2465\n",
      "Epoch:   0/10 | Samples:    896/1015 | Atom RMSE Loss: 0.0671 | Bond RMSE Loss: 0.2411\n",
      "Epoch:   0/10 | Samples:    928/1015 | Atom RMSE Loss: 0.0661 | Bond RMSE Loss: 0.2356\n",
      "Epoch:   0/10 | Samples:    960/1015 | Atom RMSE Loss: 0.0654 | Bond RMSE Loss: 0.2312\n",
      "Epoch:   0/10 | Samples:    992/1015 | Atom RMSE Loss: 0.0646 | Bond RMSE Loss: 0.2269\n",
      "Epoch:   1/10 | Samples:      0/1015 | Atom RMSE Loss: 0.0322 | Bond RMSE Loss: 0.1239\n",
      "Epoch:   1/10 | Samples:     32/1015 | Atom RMSE Loss: 0.0350 | Bond RMSE Loss: 0.0865\n",
      "Epoch:   1/10 | Samples:     64/1015 | Atom RMSE Loss: 0.0365 | Bond RMSE Loss: 0.0906\n",
      "Epoch:   1/10 | Samples:     96/1015 | Atom RMSE Loss: 0.0375 | Bond RMSE Loss: 0.0899\n",
      "Epoch:   1/10 | Samples:    128/1015 | Atom RMSE Loss: 0.0383 | Bond RMSE Loss: 0.0940\n",
      "Epoch:   1/10 | Samples:    160/1015 | Atom RMSE Loss: 0.0383 | Bond RMSE Loss: 0.0935\n",
      "Epoch:   1/10 | Samples:    192/1015 | Atom RMSE Loss: 0.0380 | Bond RMSE Loss: 0.0927\n",
      "Epoch:   1/10 | Samples:    224/1015 | Atom RMSE Loss: 0.0381 | Bond RMSE Loss: 0.0909\n",
      "Epoch:   1/10 | Samples:    256/1015 | Atom RMSE Loss: 0.0380 | Bond RMSE Loss: 0.0924\n",
      "Epoch:   1/10 | Samples:    288/1015 | Atom RMSE Loss: 0.0376 | Bond RMSE Loss: 0.0941\n",
      "Epoch:   1/10 | Samples:    320/1015 | Atom RMSE Loss: 0.0374 | Bond RMSE Loss: 0.0922\n",
      "Epoch:   1/10 | Samples:    352/1015 | Atom RMSE Loss: 0.0371 | Bond RMSE Loss: 0.0925\n",
      "Epoch:   1/10 | Samples:    384/1015 | Atom RMSE Loss: 0.0370 | Bond RMSE Loss: 0.0926\n",
      "Epoch:   1/10 | Samples:    416/1015 | Atom RMSE Loss: 0.0370 | Bond RMSE Loss: 0.0934\n",
      "Epoch:   1/10 | Samples:    448/1015 | Atom RMSE Loss: 0.0367 | Bond RMSE Loss: 0.0936\n",
      "Epoch:   1/10 | Samples:    480/1015 | Atom RMSE Loss: 0.0365 | Bond RMSE Loss: 0.0933\n",
      "Epoch:   1/10 | Samples:    512/1015 | Atom RMSE Loss: 0.0363 | Bond RMSE Loss: 0.0938\n",
      "Epoch:   1/10 | Samples:    544/1015 | Atom RMSE Loss: 0.0361 | Bond RMSE Loss: 0.0938\n",
      "Epoch:   1/10 | Samples:    576/1015 | Atom RMSE Loss: 0.0361 | Bond RMSE Loss: 0.0943\n",
      "Epoch:   1/10 | Samples:    608/1015 | Atom RMSE Loss: 0.0359 | Bond RMSE Loss: 0.0936\n",
      "Epoch:   1/10 | Samples:    640/1015 | Atom RMSE Loss: 0.0360 | Bond RMSE Loss: 0.0936\n",
      "Epoch:   1/10 | Samples:    672/1015 | Atom RMSE Loss: 0.0359 | Bond RMSE Loss: 0.0939\n",
      "Epoch:   1/10 | Samples:    704/1015 | Atom RMSE Loss: 0.0360 | Bond RMSE Loss: 0.0929\n",
      "Epoch:   1/10 | Samples:    736/1015 | Atom RMSE Loss: 0.0359 | Bond RMSE Loss: 0.0921\n",
      "Epoch:   1/10 | Samples:    768/1015 | Atom RMSE Loss: 0.0359 | Bond RMSE Loss: 0.0921\n",
      "Epoch:   1/10 | Samples:    800/1015 | Atom RMSE Loss: 0.0358 | Bond RMSE Loss: 0.0924\n",
      "Epoch:   1/10 | Samples:    832/1015 | Atom RMSE Loss: 0.0357 | Bond RMSE Loss: 0.0928\n",
      "Epoch:   1/10 | Samples:    864/1015 | Atom RMSE Loss: 0.0358 | Bond RMSE Loss: 0.0925\n",
      "Epoch:   1/10 | Samples:    896/1015 | Atom RMSE Loss: 0.0357 | Bond RMSE Loss: 0.0921\n",
      "Epoch:   1/10 | Samples:    928/1015 | Atom RMSE Loss: 0.0356 | Bond RMSE Loss: 0.0912\n",
      "Epoch:   1/10 | Samples:    960/1015 | Atom RMSE Loss: 0.0355 | Bond RMSE Loss: 0.0910\n",
      "Epoch:   1/10 | Samples:    992/1015 | Atom RMSE Loss: 0.0355 | Bond RMSE Loss: 0.0908\n",
      "Epoch:   2/10 | Samples:      0/1015 | Atom RMSE Loss: 0.0295 | Bond RMSE Loss: 0.1038\n",
      "Epoch:   2/10 | Samples:     32/1015 | Atom RMSE Loss: 0.0302 | Bond RMSE Loss: 0.0709\n",
      "Epoch:   2/10 | Samples:     64/1015 | Atom RMSE Loss: 0.0311 | Bond RMSE Loss: 0.0751\n",
      "Epoch:   2/10 | Samples:     96/1015 | Atom RMSE Loss: 0.0320 | Bond RMSE Loss: 0.0751\n",
      "Epoch:   2/10 | Samples:    128/1015 | Atom RMSE Loss: 0.0321 | Bond RMSE Loss: 0.0797\n",
      "Epoch:   2/10 | Samples:    160/1015 | Atom RMSE Loss: 0.0323 | Bond RMSE Loss: 0.0790\n",
      "Epoch:   2/10 | Samples:    192/1015 | Atom RMSE Loss: 0.0322 | Bond RMSE Loss: 0.0788\n",
      "Epoch:   2/10 | Samples:    224/1015 | Atom RMSE Loss: 0.0323 | Bond RMSE Loss: 0.0776\n",
      "Epoch:   2/10 | Samples:    256/1015 | Atom RMSE Loss: 0.0321 | Bond RMSE Loss: 0.0795\n",
      "Epoch:   2/10 | Samples:    288/1015 | Atom RMSE Loss: 0.0317 | Bond RMSE Loss: 0.0815\n",
      "Epoch:   2/10 | Samples:    320/1015 | Atom RMSE Loss: 0.0315 | Bond RMSE Loss: 0.0802\n",
      "Epoch:   2/10 | Samples:    352/1015 | Atom RMSE Loss: 0.0312 | Bond RMSE Loss: 0.0807\n",
      "Epoch:   2/10 | Samples:    384/1015 | Atom RMSE Loss: 0.0312 | Bond RMSE Loss: 0.0815\n",
      "Epoch:   2/10 | Samples:    416/1015 | Atom RMSE Loss: 0.0311 | Bond RMSE Loss: 0.0825\n",
      "Epoch:   2/10 | Samples:    448/1015 | Atom RMSE Loss: 0.0309 | Bond RMSE Loss: 0.0831\n",
      "Epoch:   2/10 | Samples:    480/1015 | Atom RMSE Loss: 0.0306 | Bond RMSE Loss: 0.0831\n",
      "Epoch:   2/10 | Samples:    512/1015 | Atom RMSE Loss: 0.0304 | Bond RMSE Loss: 0.0839\n",
      "Epoch:   2/10 | Samples:    544/1015 | Atom RMSE Loss: 0.0302 | Bond RMSE Loss: 0.0840\n",
      "Epoch:   2/10 | Samples:    576/1015 | Atom RMSE Loss: 0.0301 | Bond RMSE Loss: 0.0848\n",
      "Epoch:   2/10 | Samples:    608/1015 | Atom RMSE Loss: 0.0301 | Bond RMSE Loss: 0.0844\n",
      "Epoch:   2/10 | Samples:    640/1015 | Atom RMSE Loss: 0.0302 | Bond RMSE Loss: 0.0846\n",
      "Epoch:   2/10 | Samples:    672/1015 | Atom RMSE Loss: 0.0301 | Bond RMSE Loss: 0.0850\n",
      "Epoch:   2/10 | Samples:    704/1015 | Atom RMSE Loss: 0.0301 | Bond RMSE Loss: 0.0843\n",
      "Epoch:   2/10 | Samples:    736/1015 | Atom RMSE Loss: 0.0301 | Bond RMSE Loss: 0.0835\n",
      "Epoch:   2/10 | Samples:    768/1015 | Atom RMSE Loss: 0.0301 | Bond RMSE Loss: 0.0837\n",
      "Epoch:   2/10 | Samples:    800/1015 | Atom RMSE Loss: 0.0300 | Bond RMSE Loss: 0.0841\n",
      "Epoch:   2/10 | Samples:    832/1015 | Atom RMSE Loss: 0.0299 | Bond RMSE Loss: 0.0846\n",
      "Epoch:   2/10 | Samples:    864/1015 | Atom RMSE Loss: 0.0300 | Bond RMSE Loss: 0.0845\n",
      "Epoch:   2/10 | Samples:    896/1015 | Atom RMSE Loss: 0.0299 | Bond RMSE Loss: 0.0841\n",
      "Epoch:   2/10 | Samples:    928/1015 | Atom RMSE Loss: 0.0298 | Bond RMSE Loss: 0.0833\n",
      "Epoch:   2/10 | Samples:    960/1015 | Atom RMSE Loss: 0.0298 | Bond RMSE Loss: 0.0831\n",
      "Epoch:   2/10 | Samples:    992/1015 | Atom RMSE Loss: 0.0297 | Bond RMSE Loss: 0.0829\n",
      "Epoch:   3/10 | Samples:      0/1015 | Atom RMSE Loss: 0.0243 | Bond RMSE Loss: 0.1028\n",
      "Epoch:   3/10 | Samples:     32/1015 | Atom RMSE Loss: 0.0265 | Bond RMSE Loss: 0.0620\n",
      "Epoch:   3/10 | Samples:     64/1015 | Atom RMSE Loss: 0.0270 | Bond RMSE Loss: 0.0662\n",
      "Epoch:   3/10 | Samples:     96/1015 | Atom RMSE Loss: 0.0276 | Bond RMSE Loss: 0.0675\n",
      "Epoch:   3/10 | Samples:    128/1015 | Atom RMSE Loss: 0.0274 | Bond RMSE Loss: 0.0715\n",
      "Epoch:   3/10 | Samples:    160/1015 | Atom RMSE Loss: 0.0276 | Bond RMSE Loss: 0.0703\n",
      "Epoch:   3/10 | Samples:    192/1015 | Atom RMSE Loss: 0.0277 | Bond RMSE Loss: 0.0701\n",
      "Epoch:   3/10 | Samples:    224/1015 | Atom RMSE Loss: 0.0278 | Bond RMSE Loss: 0.0690\n",
      "Epoch:   3/10 | Samples:    256/1015 | Atom RMSE Loss: 0.0278 | Bond RMSE Loss: 0.0707\n",
      "Epoch:   3/10 | Samples:    288/1015 | Atom RMSE Loss: 0.0277 | Bond RMSE Loss: 0.0721\n",
      "Epoch:   3/10 | Samples:    320/1015 | Atom RMSE Loss: 0.0277 | Bond RMSE Loss: 0.0707\n",
      "Epoch:   3/10 | Samples:    352/1015 | Atom RMSE Loss: 0.0276 | Bond RMSE Loss: 0.0708\n",
      "Epoch:   3/10 | Samples:    384/1015 | Atom RMSE Loss: 0.0275 | Bond RMSE Loss: 0.0712\n",
      "Epoch:   3/10 | Samples:    416/1015 | Atom RMSE Loss: 0.0275 | Bond RMSE Loss: 0.0716\n",
      "Epoch:   3/10 | Samples:    448/1015 | Atom RMSE Loss: 0.0273 | Bond RMSE Loss: 0.0716\n",
      "Epoch:   3/10 | Samples:    480/1015 | Atom RMSE Loss: 0.0271 | Bond RMSE Loss: 0.0712\n",
      "Epoch:   3/10 | Samples:    512/1015 | Atom RMSE Loss: 0.0270 | Bond RMSE Loss: 0.0712\n",
      "Epoch:   3/10 | Samples:    544/1015 | Atom RMSE Loss: 0.0269 | Bond RMSE Loss: 0.0707\n",
      "Epoch:   3/10 | Samples:    576/1015 | Atom RMSE Loss: 0.0269 | Bond RMSE Loss: 0.0709\n",
      "Epoch:   3/10 | Samples:    608/1015 | Atom RMSE Loss: 0.0268 | Bond RMSE Loss: 0.0702\n",
      "Epoch:   3/10 | Samples:    640/1015 | Atom RMSE Loss: 0.0269 | Bond RMSE Loss: 0.0699\n",
      "Epoch:   3/10 | Samples:    672/1015 | Atom RMSE Loss: 0.0270 | Bond RMSE Loss: 0.0697\n",
      "Epoch:   3/10 | Samples:    704/1015 | Atom RMSE Loss: 0.0270 | Bond RMSE Loss: 0.0687\n",
      "Epoch:   3/10 | Samples:    736/1015 | Atom RMSE Loss: 0.0272 | Bond RMSE Loss: 0.0678\n",
      "Epoch:   3/10 | Samples:    768/1015 | Atom RMSE Loss: 0.0273 | Bond RMSE Loss: 0.0674\n",
      "Epoch:   3/10 | Samples:    800/1015 | Atom RMSE Loss: 0.0273 | Bond RMSE Loss: 0.0674\n",
      "Epoch:   3/10 | Samples:    832/1015 | Atom RMSE Loss: 0.0273 | Bond RMSE Loss: 0.0674\n",
      "Epoch:   3/10 | Samples:    864/1015 | Atom RMSE Loss: 0.0273 | Bond RMSE Loss: 0.0672\n",
      "Epoch:   3/10 | Samples:    896/1015 | Atom RMSE Loss: 0.0274 | Bond RMSE Loss: 0.0666\n",
      "Epoch:   3/10 | Samples:    928/1015 | Atom RMSE Loss: 0.0275 | Bond RMSE Loss: 0.0657\n",
      "Epoch:   3/10 | Samples:    960/1015 | Atom RMSE Loss: 0.0275 | Bond RMSE Loss: 0.0653\n",
      "Epoch:   3/10 | Samples:    992/1015 | Atom RMSE Loss: 0.0275 | Bond RMSE Loss: 0.0649\n",
      "Epoch:   4/10 | Samples:      0/1015 | Atom RMSE Loss: 0.0243 | Bond RMSE Loss: 0.0608\n",
      "Epoch:   4/10 | Samples:     32/1015 | Atom RMSE Loss: 0.0265 | Bond RMSE Loss: 0.0402\n",
      "Epoch:   4/10 | Samples:     64/1015 | Atom RMSE Loss: 0.0263 | Bond RMSE Loss: 0.0428\n",
      "Epoch:   4/10 | Samples:     96/1015 | Atom RMSE Loss: 0.0266 | Bond RMSE Loss: 0.0429\n",
      "Epoch:   4/10 | Samples:    128/1015 | Atom RMSE Loss: 0.0265 | Bond RMSE Loss: 0.0470\n",
      "Epoch:   4/10 | Samples:    160/1015 | Atom RMSE Loss: 0.0266 | Bond RMSE Loss: 0.0465\n",
      "Epoch:   4/10 | Samples:    192/1015 | Atom RMSE Loss: 0.0266 | Bond RMSE Loss: 0.0469\n",
      "Epoch:   4/10 | Samples:    224/1015 | Atom RMSE Loss: 0.0265 | Bond RMSE Loss: 0.0463\n",
      "Epoch:   4/10 | Samples:    256/1015 | Atom RMSE Loss: 0.0264 | Bond RMSE Loss: 0.0471\n",
      "Epoch:   4/10 | Samples:    288/1015 | Atom RMSE Loss: 0.0263 | Bond RMSE Loss: 0.0484\n",
      "Epoch:   4/10 | Samples:    320/1015 | Atom RMSE Loss: 0.0261 | Bond RMSE Loss: 0.0477\n",
      "Epoch:   4/10 | Samples:    352/1015 | Atom RMSE Loss: 0.0260 | Bond RMSE Loss: 0.0479\n",
      "Epoch:   4/10 | Samples:    384/1015 | Atom RMSE Loss: 0.0259 | Bond RMSE Loss: 0.0481\n",
      "Epoch:   4/10 | Samples:    416/1015 | Atom RMSE Loss: 0.0259 | Bond RMSE Loss: 0.0485\n",
      "Epoch:   4/10 | Samples:    448/1015 | Atom RMSE Loss: 0.0258 | Bond RMSE Loss: 0.0486\n",
      "Epoch:   4/10 | Samples:    480/1015 | Atom RMSE Loss: 0.0257 | Bond RMSE Loss: 0.0483\n",
      "Epoch:   4/10 | Samples:    512/1015 | Atom RMSE Loss: 0.0256 | Bond RMSE Loss: 0.0486\n",
      "Epoch:   4/10 | Samples:    544/1015 | Atom RMSE Loss: 0.0255 | Bond RMSE Loss: 0.0482\n",
      "Epoch:   4/10 | Samples:    576/1015 | Atom RMSE Loss: 0.0255 | Bond RMSE Loss: 0.0483\n",
      "Epoch:   4/10 | Samples:    608/1015 | Atom RMSE Loss: 0.0255 | Bond RMSE Loss: 0.0477\n",
      "Epoch:   4/10 | Samples:    640/1015 | Atom RMSE Loss: 0.0256 | Bond RMSE Loss: 0.0477\n",
      "Epoch:   4/10 | Samples:    672/1015 | Atom RMSE Loss: 0.0256 | Bond RMSE Loss: 0.0477\n",
      "Epoch:   4/10 | Samples:    704/1015 | Atom RMSE Loss: 0.0257 | Bond RMSE Loss: 0.0470\n",
      "Epoch:   4/10 | Samples:    736/1015 | Atom RMSE Loss: 0.0258 | Bond RMSE Loss: 0.0466\n",
      "Epoch:   4/10 | Samples:    768/1015 | Atom RMSE Loss: 0.0258 | Bond RMSE Loss: 0.0463\n",
      "Epoch:   4/10 | Samples:    800/1015 | Atom RMSE Loss: 0.0258 | Bond RMSE Loss: 0.0464\n",
      "Epoch:   4/10 | Samples:    832/1015 | Atom RMSE Loss: 0.0258 | Bond RMSE Loss: 0.0466\n",
      "Epoch:   4/10 | Samples:    864/1015 | Atom RMSE Loss: 0.0258 | Bond RMSE Loss: 0.0466\n",
      "Epoch:   4/10 | Samples:    896/1015 | Atom RMSE Loss: 0.0257 | Bond RMSE Loss: 0.0463\n",
      "Epoch:   4/10 | Samples:    928/1015 | Atom RMSE Loss: 0.0257 | Bond RMSE Loss: 0.0457\n",
      "Epoch:   4/10 | Samples:    960/1015 | Atom RMSE Loss: 0.0257 | Bond RMSE Loss: 0.0455\n",
      "Epoch:   4/10 | Samples:    992/1015 | Atom RMSE Loss: 0.0256 | Bond RMSE Loss: 0.0453\n",
      "Epoch:   5/10 | Samples:      0/1015 | Atom RMSE Loss: 0.0235 | Bond RMSE Loss: 0.0636\n",
      "Epoch:   5/10 | Samples:     32/1015 | Atom RMSE Loss: 0.0254 | Bond RMSE Loss: 0.0291\n",
      "Epoch:   5/10 | Samples:     64/1015 | Atom RMSE Loss: 0.0251 | Bond RMSE Loss: 0.0305\n",
      "Epoch:   5/10 | Samples:     96/1015 | Atom RMSE Loss: 0.0255 | Bond RMSE Loss: 0.0315\n",
      "Epoch:   5/10 | Samples:    128/1015 | Atom RMSE Loss: 0.0257 | Bond RMSE Loss: 0.0335\n",
      "Epoch:   5/10 | Samples:    160/1015 | Atom RMSE Loss: 0.0267 | Bond RMSE Loss: 0.0335\n",
      "Epoch:   5/10 | Samples:    192/1015 | Atom RMSE Loss: 0.0271 | Bond RMSE Loss: 0.0340\n",
      "Epoch:   5/10 | Samples:    224/1015 | Atom RMSE Loss: 0.0276 | Bond RMSE Loss: 0.0335\n",
      "Epoch:   5/10 | Samples:    256/1015 | Atom RMSE Loss: 0.0275 | Bond RMSE Loss: 0.0344\n",
      "Epoch:   5/10 | Samples:    288/1015 | Atom RMSE Loss: 0.0274 | Bond RMSE Loss: 0.0352\n",
      "Epoch:   5/10 | Samples:    320/1015 | Atom RMSE Loss: 0.0272 | Bond RMSE Loss: 0.0347\n",
      "Epoch:   5/10 | Samples:    352/1015 | Atom RMSE Loss: 0.0271 | Bond RMSE Loss: 0.0345\n",
      "Epoch:   5/10 | Samples:    384/1015 | Atom RMSE Loss: 0.0270 | Bond RMSE Loss: 0.0347\n",
      "Epoch:   5/10 | Samples:    416/1015 | Atom RMSE Loss: 0.0269 | Bond RMSE Loss: 0.0348\n",
      "Epoch:   5/10 | Samples:    448/1015 | Atom RMSE Loss: 0.0268 | Bond RMSE Loss: 0.0346\n",
      "Epoch:   5/10 | Samples:    480/1015 | Atom RMSE Loss: 0.0267 | Bond RMSE Loss: 0.0340\n",
      "Epoch:   5/10 | Samples:    512/1015 | Atom RMSE Loss: 0.0266 | Bond RMSE Loss: 0.0343\n",
      "Epoch:   5/10 | Samples:    544/1015 | Atom RMSE Loss: 0.0265 | Bond RMSE Loss: 0.0338\n",
      "Epoch:   5/10 | Samples:    576/1015 | Atom RMSE Loss: 0.0265 | Bond RMSE Loss: 0.0338\n",
      "Epoch:   5/10 | Samples:    608/1015 | Atom RMSE Loss: 0.0264 | Bond RMSE Loss: 0.0333\n",
      "Epoch:   5/10 | Samples:    640/1015 | Atom RMSE Loss: 0.0264 | Bond RMSE Loss: 0.0334\n",
      "Epoch:   5/10 | Samples:    672/1015 | Atom RMSE Loss: 0.0264 | Bond RMSE Loss: 0.0335\n",
      "Epoch:   5/10 | Samples:    704/1015 | Atom RMSE Loss: 0.0265 | Bond RMSE Loss: 0.0330\n",
      "Epoch:   5/10 | Samples:    736/1015 | Atom RMSE Loss: 0.0265 | Bond RMSE Loss: 0.0328\n",
      "Epoch:   5/10 | Samples:    768/1015 | Atom RMSE Loss: 0.0266 | Bond RMSE Loss: 0.0326\n",
      "Epoch:   5/10 | Samples:    800/1015 | Atom RMSE Loss: 0.0265 | Bond RMSE Loss: 0.0328\n",
      "Epoch:   5/10 | Samples:    832/1015 | Atom RMSE Loss: 0.0266 | Bond RMSE Loss: 0.0331\n",
      "Epoch:   5/10 | Samples:    864/1015 | Atom RMSE Loss: 0.0266 | Bond RMSE Loss: 0.0333\n",
      "Epoch:   5/10 | Samples:    896/1015 | Atom RMSE Loss: 0.0266 | Bond RMSE Loss: 0.0330\n",
      "Epoch:   5/10 | Samples:    928/1015 | Atom RMSE Loss: 0.0265 | Bond RMSE Loss: 0.0325\n",
      "Epoch:   5/10 | Samples:    960/1015 | Atom RMSE Loss: 0.0265 | Bond RMSE Loss: 0.0324\n",
      "Epoch:   5/10 | Samples:    992/1015 | Atom RMSE Loss: 0.0264 | Bond RMSE Loss: 0.0323\n",
      "Epoch:   6/10 | Samples:      0/1015 | Atom RMSE Loss: 0.0232 | Bond RMSE Loss: 0.0547\n",
      "Epoch:   6/10 | Samples:     32/1015 | Atom RMSE Loss: 0.0249 | Bond RMSE Loss: 0.0189\n",
      "Epoch:   6/10 | Samples:     64/1015 | Atom RMSE Loss: 0.0247 | Bond RMSE Loss: 0.0195\n",
      "Epoch:   6/10 | Samples:     96/1015 | Atom RMSE Loss: 0.0249 | Bond RMSE Loss: 0.0213\n",
      "Epoch:   6/10 | Samples:    128/1015 | Atom RMSE Loss: 0.0251 | Bond RMSE Loss: 0.0232\n",
      "Epoch:   6/10 | Samples:    160/1015 | Atom RMSE Loss: 0.0251 | Bond RMSE Loss: 0.0241\n",
      "Epoch:   6/10 | Samples:    192/1015 | Atom RMSE Loss: 0.0251 | Bond RMSE Loss: 0.0247\n",
      "Epoch:   6/10 | Samples:    224/1015 | Atom RMSE Loss: 0.0251 | Bond RMSE Loss: 0.0248\n",
      "Epoch:   6/10 | Samples:    256/1015 | Atom RMSE Loss: 0.0249 | Bond RMSE Loss: 0.0258\n",
      "Epoch:   6/10 | Samples:    288/1015 | Atom RMSE Loss: 0.0249 | Bond RMSE Loss: 0.0262\n",
      "Epoch:   6/10 | Samples:    320/1015 | Atom RMSE Loss: 0.0247 | Bond RMSE Loss: 0.0257\n",
      "Epoch:   6/10 | Samples:    352/1015 | Atom RMSE Loss: 0.0247 | Bond RMSE Loss: 0.0255\n",
      "Epoch:   6/10 | Samples:    384/1015 | Atom RMSE Loss: 0.0246 | Bond RMSE Loss: 0.0256\n",
      "Epoch:   6/10 | Samples:    416/1015 | Atom RMSE Loss: 0.0246 | Bond RMSE Loss: 0.0254\n",
      "Epoch:   6/10 | Samples:    448/1015 | Atom RMSE Loss: 0.0245 | Bond RMSE Loss: 0.0251\n",
      "Epoch:   6/10 | Samples:    480/1015 | Atom RMSE Loss: 0.0244 | Bond RMSE Loss: 0.0246\n",
      "Epoch:   6/10 | Samples:    512/1015 | Atom RMSE Loss: 0.0244 | Bond RMSE Loss: 0.0247\n",
      "Epoch:   6/10 | Samples:    544/1015 | Atom RMSE Loss: 0.0244 | Bond RMSE Loss: 0.0243\n",
      "Epoch:   6/10 | Samples:    576/1015 | Atom RMSE Loss: 0.0244 | Bond RMSE Loss: 0.0243\n",
      "Epoch:   6/10 | Samples:    608/1015 | Atom RMSE Loss: 0.0243 | Bond RMSE Loss: 0.0241\n",
      "Epoch:   6/10 | Samples:    640/1015 | Atom RMSE Loss: 0.0243 | Bond RMSE Loss: 0.0242\n",
      "Epoch:   6/10 | Samples:    672/1015 | Atom RMSE Loss: 0.0244 | Bond RMSE Loss: 0.0243\n",
      "Epoch:   6/10 | Samples:    704/1015 | Atom RMSE Loss: 0.0244 | Bond RMSE Loss: 0.0240\n",
      "Epoch:   6/10 | Samples:    736/1015 | Atom RMSE Loss: 0.0244 | Bond RMSE Loss: 0.0239\n",
      "Epoch:   6/10 | Samples:    768/1015 | Atom RMSE Loss: 0.0245 | Bond RMSE Loss: 0.0236\n",
      "Epoch:   6/10 | Samples:    800/1015 | Atom RMSE Loss: 0.0244 | Bond RMSE Loss: 0.0238\n",
      "Epoch:   6/10 | Samples:    832/1015 | Atom RMSE Loss: 0.0245 | Bond RMSE Loss: 0.0241\n",
      "Epoch:   6/10 | Samples:    864/1015 | Atom RMSE Loss: 0.0246 | Bond RMSE Loss: 0.0244\n",
      "Epoch:   6/10 | Samples:    896/1015 | Atom RMSE Loss: 0.0246 | Bond RMSE Loss: 0.0240\n",
      "Epoch:   6/10 | Samples:    928/1015 | Atom RMSE Loss: 0.0246 | Bond RMSE Loss: 0.0236\n",
      "Epoch:   6/10 | Samples:    960/1015 | Atom RMSE Loss: 0.0245 | Bond RMSE Loss: 0.0235\n",
      "Epoch:   6/10 | Samples:    992/1015 | Atom RMSE Loss: 0.0245 | Bond RMSE Loss: 0.0234\n",
      "Epoch:   7/10 | Samples:      0/1015 | Atom RMSE Loss: 0.0232 | Bond RMSE Loss: 0.0176\n",
      "Epoch:   7/10 | Samples:     32/1015 | Atom RMSE Loss: 0.0246 | Bond RMSE Loss: 0.0099\n",
      "Epoch:   7/10 | Samples:     64/1015 | Atom RMSE Loss: 0.0244 | Bond RMSE Loss: 0.0101\n",
      "Epoch:   7/10 | Samples:     96/1015 | Atom RMSE Loss: 0.0243 | Bond RMSE Loss: 0.0125\n",
      "Epoch:   7/10 | Samples:    128/1015 | Atom RMSE Loss: 0.0246 | Bond RMSE Loss: 0.0134\n",
      "Epoch:   7/10 | Samples:    160/1015 | Atom RMSE Loss: 0.0247 | Bond RMSE Loss: 0.0132\n",
      "Epoch:   7/10 | Samples:    192/1015 | Atom RMSE Loss: 0.0248 | Bond RMSE Loss: 0.0143\n",
      "Epoch:   7/10 | Samples:    224/1015 | Atom RMSE Loss: 0.0252 | Bond RMSE Loss: 0.0141\n",
      "Epoch:   7/10 | Samples:    256/1015 | Atom RMSE Loss: 0.0255 | Bond RMSE Loss: 0.0146\n",
      "Epoch:   7/10 | Samples:    288/1015 | Atom RMSE Loss: 0.0256 | Bond RMSE Loss: 0.0153\n",
      "Epoch:   7/10 | Samples:    320/1015 | Atom RMSE Loss: 0.0255 | Bond RMSE Loss: 0.0156\n",
      "Epoch:   7/10 | Samples:    352/1015 | Atom RMSE Loss: 0.0255 | Bond RMSE Loss: 0.0158\n",
      "Epoch:   7/10 | Samples:    384/1015 | Atom RMSE Loss: 0.0254 | Bond RMSE Loss: 0.0162\n",
      "Epoch:   7/10 | Samples:    416/1015 | Atom RMSE Loss: 0.0253 | Bond RMSE Loss: 0.0165\n",
      "Epoch:   7/10 | Samples:    448/1015 | Atom RMSE Loss: 0.0252 | Bond RMSE Loss: 0.0166\n",
      "Epoch:   7/10 | Samples:    480/1015 | Atom RMSE Loss: 0.0251 | Bond RMSE Loss: 0.0165\n",
      "Epoch:   7/10 | Samples:    512/1015 | Atom RMSE Loss: 0.0250 | Bond RMSE Loss: 0.0167\n",
      "Epoch:   7/10 | Samples:    544/1015 | Atom RMSE Loss: 0.0250 | Bond RMSE Loss: 0.0162\n",
      "Epoch:   7/10 | Samples:    576/1015 | Atom RMSE Loss: 0.0249 | Bond RMSE Loss: 0.0163\n",
      "Epoch:   7/10 | Samples:    608/1015 | Atom RMSE Loss: 0.0249 | Bond RMSE Loss: 0.0163\n",
      "Epoch:   7/10 | Samples:    640/1015 | Atom RMSE Loss: 0.0248 | Bond RMSE Loss: 0.0167\n",
      "Epoch:   7/10 | Samples:    672/1015 | Atom RMSE Loss: 0.0248 | Bond RMSE Loss: 0.0171\n",
      "Epoch:   7/10 | Samples:    704/1015 | Atom RMSE Loss: 0.0248 | Bond RMSE Loss: 0.0170\n",
      "Epoch:   7/10 | Samples:    736/1015 | Atom RMSE Loss: 0.0250 | Bond RMSE Loss: 0.0169\n",
      "Epoch:   7/10 | Samples:    768/1015 | Atom RMSE Loss: 0.0250 | Bond RMSE Loss: 0.0166\n",
      "Epoch:   7/10 | Samples:    800/1015 | Atom RMSE Loss: 0.0250 | Bond RMSE Loss: 0.0169\n",
      "Epoch:   7/10 | Samples:    832/1015 | Atom RMSE Loss: 0.0249 | Bond RMSE Loss: 0.0172\n",
      "Epoch:   7/10 | Samples:    864/1015 | Atom RMSE Loss: 0.0249 | Bond RMSE Loss: 0.0176\n",
      "Epoch:   7/10 | Samples:    896/1015 | Atom RMSE Loss: 0.0250 | Bond RMSE Loss: 0.0175\n",
      "Epoch:   7/10 | Samples:    928/1015 | Atom RMSE Loss: 0.0251 | Bond RMSE Loss: 0.0173\n",
      "Epoch:   7/10 | Samples:    960/1015 | Atom RMSE Loss: 0.0251 | Bond RMSE Loss: 0.0172\n",
      "Epoch:   7/10 | Samples:    992/1015 | Atom RMSE Loss: 0.0250 | Bond RMSE Loss: 0.0173\n",
      "Epoch:   8/10 | Samples:      0/1015 | Atom RMSE Loss: 0.0233 | Bond RMSE Loss: 0.0069\n",
      "Epoch:   8/10 | Samples:     32/1015 | Atom RMSE Loss: 0.0245 | Bond RMSE Loss: 0.0073\n",
      "Epoch:   8/10 | Samples:     64/1015 | Atom RMSE Loss: 0.0243 | Bond RMSE Loss: 0.0074\n",
      "Epoch:   8/10 | Samples:     96/1015 | Atom RMSE Loss: 0.0241 | Bond RMSE Loss: 0.0099\n",
      "Epoch:   8/10 | Samples:    128/1015 | Atom RMSE Loss: 0.0244 | Bond RMSE Loss: 0.0109\n",
      "Epoch:   8/10 | Samples:    160/1015 | Atom RMSE Loss: 0.0246 | Bond RMSE Loss: 0.0107\n",
      "Epoch:   8/10 | Samples:    192/1015 | Atom RMSE Loss: 0.0247 | Bond RMSE Loss: 0.0119\n",
      "Epoch:   8/10 | Samples:    224/1015 | Atom RMSE Loss: 0.0246 | Bond RMSE Loss: 0.0121\n",
      "Epoch:   8/10 | Samples:    256/1015 | Atom RMSE Loss: 0.0244 | Bond RMSE Loss: 0.0126\n",
      "Epoch:   8/10 | Samples:    288/1015 | Atom RMSE Loss: 0.0244 | Bond RMSE Loss: 0.0130\n",
      "Epoch:   8/10 | Samples:    320/1015 | Atom RMSE Loss: 0.0243 | Bond RMSE Loss: 0.0130\n",
      "Epoch:   8/10 | Samples:    352/1015 | Atom RMSE Loss: 0.0242 | Bond RMSE Loss: 0.0132\n",
      "Epoch:   8/10 | Samples:    384/1015 | Atom RMSE Loss: 0.0242 | Bond RMSE Loss: 0.0136\n",
      "Epoch:   8/10 | Samples:    416/1015 | Atom RMSE Loss: 0.0241 | Bond RMSE Loss: 0.0137\n",
      "Epoch:   8/10 | Samples:    448/1015 | Atom RMSE Loss: 0.0241 | Bond RMSE Loss: 0.0136\n",
      "Epoch:   8/10 | Samples:    480/1015 | Atom RMSE Loss: 0.0240 | Bond RMSE Loss: 0.0135\n",
      "Epoch:   8/10 | Samples:    512/1015 | Atom RMSE Loss: 0.0240 | Bond RMSE Loss: 0.0137\n",
      "Epoch:   8/10 | Samples:    544/1015 | Atom RMSE Loss: 0.0240 | Bond RMSE Loss: 0.0134\n",
      "Epoch:   8/10 | Samples:    576/1015 | Atom RMSE Loss: 0.0240 | Bond RMSE Loss: 0.0137\n",
      "Epoch:   8/10 | Samples:    608/1015 | Atom RMSE Loss: 0.0240 | Bond RMSE Loss: 0.0138\n",
      "Epoch:   8/10 | Samples:    640/1015 | Atom RMSE Loss: 0.0239 | Bond RMSE Loss: 0.0143\n",
      "Epoch:   8/10 | Samples:    672/1015 | Atom RMSE Loss: 0.0240 | Bond RMSE Loss: 0.0148\n",
      "Epoch:   8/10 | Samples:    704/1015 | Atom RMSE Loss: 0.0240 | Bond RMSE Loss: 0.0147\n",
      "Epoch:   8/10 | Samples:    736/1015 | Atom RMSE Loss: 0.0239 | Bond RMSE Loss: 0.0148\n",
      "Epoch:   8/10 | Samples:    768/1015 | Atom RMSE Loss: 0.0240 | Bond RMSE Loss: 0.0145\n",
      "Epoch:   8/10 | Samples:    800/1015 | Atom RMSE Loss: 0.0239 | Bond RMSE Loss: 0.0149\n",
      "Epoch:   8/10 | Samples:    832/1015 | Atom RMSE Loss: 0.0239 | Bond RMSE Loss: 0.0153\n",
      "Epoch:   8/10 | Samples:    864/1015 | Atom RMSE Loss: 0.0239 | Bond RMSE Loss: 0.0158\n",
      "Epoch:   8/10 | Samples:    896/1015 | Atom RMSE Loss: 0.0239 | Bond RMSE Loss: 0.0157\n",
      "Epoch:   8/10 | Samples:    928/1015 | Atom RMSE Loss: 0.0239 | Bond RMSE Loss: 0.0154\n",
      "Epoch:   8/10 | Samples:    960/1015 | Atom RMSE Loss: 0.0239 | Bond RMSE Loss: 0.0155\n",
      "Epoch:   8/10 | Samples:    992/1015 | Atom RMSE Loss: 0.0239 | Bond RMSE Loss: 0.0156\n",
      "Epoch:   9/10 | Samples:      0/1015 | Atom RMSE Loss: 0.0230 | Bond RMSE Loss: 0.0050\n",
      "Epoch:   9/10 | Samples:     32/1015 | Atom RMSE Loss: 0.0245 | Bond RMSE Loss: 0.0064\n",
      "Epoch:   9/10 | Samples:     64/1015 | Atom RMSE Loss: 0.0243 | Bond RMSE Loss: 0.0065\n",
      "Epoch:   9/10 | Samples:     96/1015 | Atom RMSE Loss: 0.0241 | Bond RMSE Loss: 0.0091\n",
      "Epoch:   9/10 | Samples:    128/1015 | Atom RMSE Loss: 0.0242 | Bond RMSE Loss: 0.0101\n",
      "Epoch:   9/10 | Samples:    160/1015 | Atom RMSE Loss: 0.0241 | Bond RMSE Loss: 0.0100\n",
      "Epoch:   9/10 | Samples:    192/1015 | Atom RMSE Loss: 0.0242 | Bond RMSE Loss: 0.0112\n",
      "Epoch:   9/10 | Samples:    224/1015 | Atom RMSE Loss: 0.0241 | Bond RMSE Loss: 0.0115\n",
      "Epoch:   9/10 | Samples:    256/1015 | Atom RMSE Loss: 0.0240 | Bond RMSE Loss: 0.0122\n",
      "Epoch:   9/10 | Samples:    288/1015 | Atom RMSE Loss: 0.0241 | Bond RMSE Loss: 0.0127\n",
      "Epoch:   9/10 | Samples:    320/1015 | Atom RMSE Loss: 0.0241 | Bond RMSE Loss: 0.0127\n",
      "Epoch:   9/10 | Samples:    352/1015 | Atom RMSE Loss: 0.0244 | Bond RMSE Loss: 0.0129\n",
      "Epoch:   9/10 | Samples:    384/1015 | Atom RMSE Loss: 0.0245 | Bond RMSE Loss: 0.0132\n",
      "Epoch:   9/10 | Samples:    416/1015 | Atom RMSE Loss: 0.0245 | Bond RMSE Loss: 0.0132\n",
      "Epoch:   9/10 | Samples:    448/1015 | Atom RMSE Loss: 0.0244 | Bond RMSE Loss: 0.0132\n",
      "Epoch:   9/10 | Samples:    480/1015 | Atom RMSE Loss: 0.0244 | Bond RMSE Loss: 0.0131\n",
      "Epoch:   9/10 | Samples:    512/1015 | Atom RMSE Loss: 0.0244 | Bond RMSE Loss: 0.0132\n",
      "Epoch:   9/10 | Samples:    544/1015 | Atom RMSE Loss: 0.0243 | Bond RMSE Loss: 0.0129\n",
      "Epoch:   9/10 | Samples:    576/1015 | Atom RMSE Loss: 0.0244 | Bond RMSE Loss: 0.0131\n",
      "Epoch:   9/10 | Samples:    608/1015 | Atom RMSE Loss: 0.0244 | Bond RMSE Loss: 0.0132\n",
      "Epoch:   9/10 | Samples:    640/1015 | Atom RMSE Loss: 0.0244 | Bond RMSE Loss: 0.0137\n",
      "Epoch:   9/10 | Samples:    672/1015 | Atom RMSE Loss: 0.0245 | Bond RMSE Loss: 0.0143\n",
      "Epoch:   9/10 | Samples:    704/1015 | Atom RMSE Loss: 0.0246 | Bond RMSE Loss: 0.0142\n",
      "Epoch:   9/10 | Samples:    736/1015 | Atom RMSE Loss: 0.0250 | Bond RMSE Loss: 0.0143\n",
      "Epoch:   9/10 | Samples:    768/1015 | Atom RMSE Loss: 0.0252 | Bond RMSE Loss: 0.0141\n",
      "Epoch:   9/10 | Samples:    800/1015 | Atom RMSE Loss: 0.0253 | Bond RMSE Loss: 0.0144\n",
      "Epoch:   9/10 | Samples:    832/1015 | Atom RMSE Loss: 0.0254 | Bond RMSE Loss: 0.0148\n",
      "Epoch:   9/10 | Samples:    864/1015 | Atom RMSE Loss: 0.0255 | Bond RMSE Loss: 0.0152\n",
      "Epoch:   9/10 | Samples:    896/1015 | Atom RMSE Loss: 0.0256 | Bond RMSE Loss: 0.0151\n",
      "Epoch:   9/10 | Samples:    928/1015 | Atom RMSE Loss: 0.0256 | Bond RMSE Loss: 0.0148\n",
      "Epoch:   9/10 | Samples:    960/1015 | Atom RMSE Loss: 0.0256 | Bond RMSE Loss: 0.0148\n",
      "Epoch:   9/10 | Samples:    992/1015 | Atom RMSE Loss: 0.0256 | Bond RMSE Loss: 0.0149\n"
     ]
    }
   ],
   "source": [
    "# Define a range of values for x and y\n",
    "n_atom = [10, 22, 46]\n",
    "m_bond = [3]\n",
    "\n",
    "for n in n_atom:\n",
    "    for m in m_bond:\n",
    "\n",
    "        print(f\"Training Autoencoder with Atom={n}, Bond={m}:\")\n",
    "        atom_autoencoder = Autoencoder(154, n).to(device)\n",
    "        bond_autoencoder = Autoencoder(10, m).to(device)\n",
    "        mse_loss_fn = torch.nn.MSELoss()\n",
    "        atom_optimizer = torch.optim.Adam(atom_autoencoder.parameters())\n",
    "        bond_optimizer = torch.optim.Adam(bond_autoencoder.parameters())\n",
    "\n",
    "        atom_losses, bond_losses = train_autoencoder_model(train_samples, atom_autoencoder, bond_autoencoder, n_epochs=10, printstep=32, save_dir=modeldir, dataset_name=dataset_name)"
   ]
  },
  {
   "cell_type": "code",
   "execution_count": 22,
   "id": "792de4f6-df8a-4abf-ae05-f3909fb1fa03",
   "metadata": {},
   "outputs": [
    {
     "data": {
      "image/png": "[encoded data removed]",
      "text/plain": [
       "<Figure size 1000x600 with 1 Axes>"
      ]
     },
     "metadata": {},
     "output_type": "display_data"
    },
    {
     "data": {
      "image/png": "[encoded data removed]",
      "text/plain": [
       "<Figure size 1000x600 with 1 Axes>"
      ]
     },
     "metadata": {},
     "output_type": "display_data"
    }
   ],
   "source": [
    "# Plotting the losses (optional)\n",
    "plt.figure(figsize=(10, 6))\n",
    "plt.plot(range(1, len(atom_losses)+1), atom_losses, marker='o', linestyle='-', color='b', label='Atom RMSE Loss')\n",
    "#plt.plot(range(1, len(bond_losses)+1), bond_losses, marker='o', linestyle='-', color='r', label='Avg. Bond RMSE Loss')\n",
    "plt.title(f\"Atom Autoencoder Training Losses for {dataset_name}\")\n",
    "plt.xlabel(\"Epoch\")\n",
    "plt.ylabel(\"RMSE Loss\")\n",
    "plt.legend()\n",
    "plt.grid(True)\n",
    "plt.savefig(f\"{modeldir}atom_autoencoder_losses_{dataset_name}.png\")\n",
    "plt.show()\n",
    "\n",
    "# Plotting the losses (optional)\n",
    "plt.figure(figsize=(10, 6))\n",
    "#plt.plot(range(1, len(atom_losses)+1), atom_losses, marker='o', linestyle='-', color='b', label='Avg. Atom RMSE Loss')\n",
    "plt.plot(range(1, len(bond_losses)+1), bond_losses, marker='o', linestyle='-', color='r', label='Bond RMSE Loss')\n",
    "plt.title(f\"Bond Autoencoder Training Losses for {dataset_name}\")\n",
    "plt.xlabel(\"Epoch\")\n",
    "plt.ylabel(\"RMSE Loss\")\n",
    "plt.legend()\n",
    "plt.grid(True)\n",
    "plt.savefig(f\"{modeldir}bond_autoencoder_losses_{dataset_name}.png\")\n",
    "plt.show()"
   ]
  },
  {
   "cell_type": "markdown",
   "id": "66b95275-4edb-43d6-8227-a6130b511e11",
   "metadata": {},
   "source": [
    "### GNN3D training"
   ]
  },
  {
   "cell_type": "code",
   "execution_count": null,
   "id": "172ce254-abbb-4219-8a31-c73f7d07f046",
   "metadata": {},
   "outputs": [],
   "source": [
    "from sklearn.model_selection import train_test_split\n",
    "\n",
    "train_part_samples, val_samples = train_test_split(train_samples, test_size=0.1, random_state=42)"
   ]
  },
  {
   "cell_type": "code",
   "execution_count": null,
   "id": "1d98798d-a139-4616-bcb4-3608a98a934d",
   "metadata": {},
   "outputs": [],
   "source": [
    "atom_autoencoder = Autoencoder(154, 10).to(device)\n",
    "bond_autoencoder = Autoencoder(10, 3).to(device)\n",
    "mse_loss_fn = torch.nn.MSELoss()\n",
    "gnn3d = GNN3DAtnON(atomic_vector_size=10, bond_vector_size=3, number_of_molecular_features=200, number_of_targets=1).to(device)\n",
    "gnn_optimizer = torch.optim.Adam(gnn3d.parameters())\n",
    "rmse_losses_train, mse_losses_train, rmse_losses_val, mse_losses_val = train_gnn3d_model(gnn3d, train_samples, atom_autoencoder, bond_autoencoder, n_epochs=25, printstep=32, save_dir=modeldir, dataset_name=dataset_name)"
   ]
  },
  {
   "cell_type": "code",
   "execution_count": null,
   "id": "f592be3f-b874-404b-8670-b6906befd044",
   "metadata": {},
   "outputs": [],
   "source": [
    "# Assuming rmse_losses is the list of RMSE losses obtained from training\n",
    "plt.figure(figsize=(10, 6))\n",
    "plt.plot(range(1, len(rmse_losses_train)+1), rmse_losses_train, marker='o', linestyle='-', color='b', label='Train RMSE Loss')\n",
    "plt.plot(range(1, len(rmse_losses_val)+1), rmse_losses_val, marker='x', linestyle='-', color='r', label='Validation RMSE Loss')\n",
    "plt.title(f\"GNN3D Training Losses for {dataset_name}\")\n",
    "plt.xlabel(\"Epoch\")\n",
    "plt.ylabel(\"RMSE Loss\")\n",
    "plt.legend()\n",
    "plt.grid(True)\n",
    "plt.savefig(f\"{modeldir}gnn3d_rmse_losses_{dataset_name}.png\")\n",
    "plt.show()"
   ]
  },
  {
   "cell_type": "markdown",
   "id": "aa98e0ed-50d8-4e68-afcf-7815cbcb79d5",
   "metadata": {},
   "source": [
    "## Testing"
   ]
  },
  {
   "cell_type": "code",
   "execution_count": null,
   "id": "9a26bc02-bb5c-4769-a820-fad17f0e09a8",
   "metadata": {},
   "outputs": [],
   "source": [
    "predictions, targets = evaluate_gnn3d_model(gnn3d, test_samples, atom_autoencoder, bond_autoencoder)"
   ]
  },
  {
   "cell_type": "markdown",
   "id": "86d98a0d-b64b-4269-a10a-a171cc096398",
   "metadata": {},
   "source": [
    "## Know your correlations (KYC)"
   ]
  },
  {
   "cell_type": "code",
   "execution_count": null,
   "id": "deadc1bf-0623-4fa4-933e-d0685a905298",
   "metadata": {},
   "outputs": [],
   "source": [
    "# Calculate R^2\n",
    "def calculate_r_squared(predictions, targets):\n",
    "    ss_tot = np.sum((targets - np.mean(targets))**2)\n",
    "    ss_res = np.sum((targets - predictions)**2)\n",
    "    r_squared = 1 - (ss_res / ss_tot)\n",
    "    return r_squared\n",
    "\n",
    "# Convert lists to NumPy arrays\n",
    "predictions = np.array(predictions)\n",
    "targets = np.array(targets)\n",
    "\n",
    "# Calculate Pearson correlation coefficient\n",
    "corr, _ = pearsonr(predictions, targets)\n",
    "\n",
    "print(f\"Pearson Correlation Coefficient: {corr:.4f}\")\n",
    "\n",
    "r_squared = calculate_r_squared(predictions, targets)\n",
    "print(f\"Coefficient of Determination R^2: {r_squared:.4f}\")\n",
    "\n",
    "# Plotting\n",
    "plt.figure(figsize=(8, 6))\n",
    "plt.scatter(targets, predictions, color='blue', alpha=0.5)\n",
    "plt.plot(targets, targets, color='red', linestyle='-', linewidth=2)  # Plot y=x line\n",
    "plt.text(np.min(targets), np.max(predictions), f\"Pearson Correlation: {corr:.4f}\", fontsize=12, verticalalignment='top')\n",
    "plt.title('Scatter Plot of Predictions vs Targets')\n",
    "plt.xlabel('Targets')\n",
    "plt.ylabel('Predictions')\n",
    "plt.grid(True)\n",
    "plt.tight_layout()\n",
    "plt.show()"
   ]
  },
  {
   "cell_type": "markdown",
   "id": "5364b2e7-e72a-47c5-8f71-6d33975d7bb9",
   "metadata": {},
   "source": [
    "## Know your molecules and true/prediction (Be warned if there is skipped molecule from test_samples! No skip -> correct structure!)"
   ]
  },
  {
   "cell_type": "code",
   "execution_count": null,
   "id": "51f5d46f-d71f-4cd3-ad15-a29624a91746",
   "metadata": {},
   "outputs": [],
   "source": [
    "print(f\"Loaded train samples: {len(train_samples)}\")\n",
    "print(f\"Loaded test samples: {len(test_samples)}\")\n",
    "print(f\"Total (train+test): {len(train_samples) + len(test_samples)}\" )\n",
    "print(f\"Total from dataset: {len(dataset)}\")\n",
    "print(f\"80% of dataset: {int(0.8*len(dataset))}\")\n",
    "print(f\"20% of dataset: {int(0.2*len(dataset))}\")\n",
    "print(f\"NOT Skipped molecule, therefore following output of next cell is correct!\")"
   ]
  },
  {
   "cell_type": "code",
   "execution_count": null,
   "id": "802587be-8f1a-40d7-9159-89752437e927",
   "metadata": {},
   "outputs": [],
   "source": [
    "# Load test_samples from CSV\n",
    "test_dataset = pd.read_csv(datadir+\"test.csv\")\n",
    "molecules = test_dataset['smiles'].apply(lambda x: Chem.MolFromSmiles(x)) \n",
    "\n",
    "y_true = [targets[i] for i in range(len(test_samples))]\n",
    "y_pred = [predictions[i] for i in range(len(test_samples))]\n",
    "\n",
    "legends = [f\"y_true/y_pred = {y_true[i]:.2f}/{y_pred[i]:.2f}\" for i in range(len(test_samples))]\n",
    "MolsToGridImage(molecules, molsPerRow=5, maxMols=100,legends=legends)"
   ]
  },
  {
   "cell_type": "code",
   "execution_count": null,
   "id": "9c2d2fdd-5c41-46e1-8acb-b0c68c514a3c",
   "metadata": {},
   "outputs": [],
   "source": [
    "df = pd.read_csv(datadir+\"test.csv\")      #Reading logS: y_true dataframe\n",
    "df['preds'] = predictions\n",
    "df"
   ]
  },
  {
   "cell_type": "markdown",
   "id": "555f0723-eef6-483b-893a-3d04581b6aa7",
   "metadata": {},
   "source": [
    "## Future task: What is so unique about dihedral angles?"
   ]
  },
  {
   "cell_type": "code",
   "execution_count": null,
   "id": "f5c64eed-5662-468d-b76e-94ff50eebc6f",
   "metadata": {},
   "outputs": [],
   "source": []
  }
 ],
 "metadata": {
  "kernelspec": {
   "display_name": "Python 3 (ipykernel)",
   "language": "python",
   "name": "python3"
  },
  "language_info": {
   "codemirror_mode": {
    "name": "ipython",
    "version": 3
   },
   "file_extension": ".py",
   "mimetype": "text/x-python",
   "name": "python",
   "nbconvert_exporter": "python",
   "pygments_lexer": "ipython3",
   "version": "3.12.2"
  }
 },
 "nbformat": 4,
 "nbformat_minor": 5
}
