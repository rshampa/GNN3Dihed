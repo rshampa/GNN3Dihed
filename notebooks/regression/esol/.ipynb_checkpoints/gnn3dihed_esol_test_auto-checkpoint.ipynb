{
 "cells": [
  {
   "cell_type": "markdown",
   "id": "ede5a585-8b58-4257-b162-6e36cb73f873",
   "metadata": {},
   "source": [
    "## Know your libraries (KYL)"
   ]
  },
  {
   "cell_type": "code",
   "execution_count": 1,
   "id": "96c06257-a4aa-4aa0-a2cc-d61619fb23e7",
   "metadata": {},
   "outputs": [
    {
     "name": "stdout",
     "output_type": "stream",
     "text": [
      "cpu\n"
     ]
    }
   ],
   "source": [
    "import sys\n",
    "sys.path.append('../../src')\n",
    "\n",
    "import dataset, molecular_representation, config, utils, model\n",
    "from dataset import QM9Dataset,LogSDataset,LogPDataset,FreeSolvDataset,ESOLDataset,ToxQDataset\n",
    "import numpy as np\n",
    "import pandas as pd\n",
    "from utils import *\n",
    "import torch\n",
    "from scipy.stats import pearsonr\n",
    "from tqdm import tqdm\n",
    "from model import Autoencoder # Simply importing the autoencoder model module from the model.py file\n",
    "from model import GNN3D,GNN3DAtnON,GNN3DAtnOFF,GNN3Dihed\n",
    "\n",
    "import matplotlib.pyplot as plt\n",
    "from rdkit import Chem\n",
    "from rdkit.Chem import AllChem\n",
    "from rdkit.Chem.Draw import MolsToGridImage\n",
    "\n",
    "import os\n",
    "datadir=\"../../data/esol/\"\n",
    "modeldir=\"./models_gnn3dihed_rmse/\"\n",
    "dataset_name=\"esol\"\n",
    "# Create datadir and modeldir folders if they don't exist\n",
    "if not os.path.exists(datadir):\n",
    "    os.makedirs(datadir)\n",
    "    \n",
    "if not os.path.exists(modeldir):\n",
    "    os.makedirs(modeldir)\n",
    "\n",
    "import time\n",
    "import datetime\n",
    "\n",
    "device = torch.device(\"cuda\" if torch.cuda.is_available() else \"cpu\")\n",
    "print(device)"
   ]
  },
  {
   "cell_type": "markdown",
   "id": "9f15f0d0-0cb2-4642-84b0-5b63450abc49",
   "metadata": {},
   "source": [
    "## Split your dataset (SYD)"
   ]
  },
  {
   "cell_type": "code",
   "execution_count": 2,
   "id": "6cc4c168-84d4-4b6b-9101-730733b54d69",
   "metadata": {},
   "outputs": [
    {
     "name": "stdout",
     "output_type": "stream",
     "text": [
      "Train and test datasets saved successfully.\n"
     ]
    }
   ],
   "source": [
    "# Load dataset from CSV\n",
    "dataset = pd.read_csv(datadir+dataset_name+\".csv\")\n",
    "\n",
    "# Split dataset into train and test\n",
    "train_dataset, test_dataset = split_dataset(dataset, 0.9)\n",
    "\n",
    "# Write train_dataset and test_dataset to CSV files\n",
    "train_dataset.to_csv(datadir+\"train.csv\", index=False)\n",
    "test_dataset.to_csv(datadir+\"test.csv\", index=False)\n",
    "\n",
    "print(\"Train and test datasets saved successfully.\")"
   ]
  },
  {
   "cell_type": "markdown",
   "id": "d54da7a7-16b5-4c3d-9016-404ee9cc5d0d",
   "metadata": {},
   "source": [
    "## Process your data (PYD)"
   ]
  },
  {
   "cell_type": "code",
   "execution_count": 3,
   "id": "57a5b7a1-e495-4f9a-9afe-5f36a14e4ee0",
   "metadata": {},
   "outputs": [
    {
     "name": "stdout",
     "output_type": "stream",
     "text": [
      "Loading dataset from folder\n",
      "Initializing Molecular Representation Generator\n",
      "Dataset Name: ESOL\n",
      "Number of Molecules Loaded: 1015\n",
      "===================================\n",
      "Loading dataset from folder\n",
      "Initializing Molecular Representation Generator\n",
      "Dataset Name: ESOL\n",
      "Number of Molecules Loaded: 113\n"
     ]
    }
   ],
   "source": [
    "train_samples = ESOLDataset(datadir+\"train\")\n",
    "print(train_samples)\n",
    "print(\"===================================\")\n",
    "test_samples = ESOLDataset(datadir+\"test\")\n",
    "print(test_samples)"
   ]
  },
  {
   "cell_type": "markdown",
   "id": "fb6992d9-9ff0-4e60-8c03-06e81c1265ac",
   "metadata": {},
   "source": [
    "## Know your featues (KYF)"
   ]
  },
  {
   "cell_type": "code",
   "execution_count": 4,
   "id": "15e120fd-0f78-40a9-b890-b237c8715434",
   "metadata": {},
   "outputs": [
    {
     "name": "stdout",
     "output_type": "stream",
     "text": [
      "Atomic Features: torch.Size([36, 154]) - This represents the atomic features of the molecule\n",
      "Bond Features: torch.Size([76, 10]) - This represents the bond features of the molecule\n",
      "Angle Features: torch.Size([130]) - This represents the angle features of the molecule\n",
      "Dihedral Features: torch.Size([174]) - This represents the dihedral features of the molecule\n",
      "Global Molecular Features: torch.Size([200]) - This represents the global molecular features of the molecule\n",
      "Bond Indices: torch.Size([76, 2]) - This represents the bond indices of the molecule\n",
      "Angle Indices: torch.Size([130, 2]) - This represents the angle indices of the molecule\n",
      "Dihedral Indices: torch.Size([174, 2]) - This represents the dihedral indices of the molecule\n",
      "Target: torch.Size([1]) - This represents the target of the molecule\n"
     ]
    }
   ],
   "source": [
    "# Printing out the dimensions of all of these features with a description of what each feature is\n",
    "print(f\"Atomic Features: {(train_samples[0])[0].shape} - This represents the atomic features of the molecule\")\n",
    "print(f\"Bond Features: {(train_samples[0])[1].shape} - This represents the bond features of the molecule\")\n",
    "print(f\"Angle Features: {(train_samples[0])[2].shape} - This represents the angle features of the molecule\")\n",
    "print(f\"Dihedral Features: {(train_samples[0])[3].shape} - This represents the dihedral features of the molecule\")\n",
    "print(f\"Global Molecular Features: {(train_samples[0])[4].shape} - This represents the global molecular features of the molecule\")\n",
    "print(f\"Bond Indices: {(train_samples[0])[5].shape} - This represents the bond indices of the molecule\")\n",
    "print(f\"Angle Indices: {(train_samples[0])[6].shape} - This represents the angle indices of the molecule\")\n",
    "print(f\"Dihedral Indices: {(train_samples[0])[7].shape} - This represents the dihedral indices of the molecule\")\n",
    "print(f\"Target: {(train_samples[0])[8].shape} - This represents the target of the molecule\")"
   ]
  },
  {
   "cell_type": "markdown",
   "id": "b386540a-8acc-49bf-94b9-b8760824a501",
   "metadata": {},
   "source": [
    "## Know your modules (KYM)"
   ]
  },
  {
   "cell_type": "code",
   "execution_count": 5,
   "id": "a8573178-6a9e-4bcd-8fb6-168c142cf693",
   "metadata": {},
   "outputs": [],
   "source": [
    "def train_gnn3d_vary_dataset_size(train_samples, min_samples=10, max_samples=45, divisions=3, n_epochs= 10, printstep=10, save_dir=\"./models/vary_train_size/\", dataset_name=\"logs\"):\n",
    "    \"\"\"Train GNN3D for varying training set size\"\"\"\n",
    "    # Create the directory if it does not exist\n",
    "    os.makedirs(save_dir, exist_ok=True)\n",
    "   \n",
    "    # Determine step size for each division\n",
    "    sample_step_size = int((max_samples - min_samples) / divisions) + 1\n",
    "\n",
    "    # Dictionary to store RMSE and MSE for each division\n",
    "    gnn_rmse_dict = {}\n",
    "\n",
    "    # Open a file to save the accumulated losses\n",
    "    losses_file = os.path.join(save_dir, f\"vary_size_gnn3d_losses_{dataset_name}.txt\")\n",
    "    with open(losses_file, 'w') as f:\n",
    "        f.write(f\"Training set size |\\tRMSE Loss |\\tMSE Loss\\n\")\n",
    "    \n",
    "        # Loop through divisions\n",
    "        for division_i in range(divisions + 1):\n",
    "            # Initialize training components for each division\n",
    "            # Aond and bond autoencoders' dimensions to be changed for a new dataset\n",
    "            atom_autoencoder = Autoencoder(154, 46).to(device)\n",
    "            bond_autoencoder = Autoencoder(10, 3).to(device)\n",
    "            mse_loss_fn = torch.nn.MSELoss()\n",
    "            gnn3d = GNN3Dihed(atomic_vector_size=46, bond_vector_size=3, number_of_molecular_features=200, number_of_targets=1).to(device)\n",
    "            gnn_optimizer = torch.optim.Adam(gnn3d.parameters())\n",
    "\n",
    "            for epoch_i in range(n_epochs):\n",
    "                # Average losses initialization\n",
    "                avg_rmse = 0\n",
    "                avg_mse = 0\n",
    "\n",
    "                # Current size of the training set for this division\n",
    "                current_size = min_samples + sample_step_size * division_i\n",
    "\n",
    "                # Initialize dictionary entry for current division\n",
    "                gnn_rmse_dict[\"d\" + str(current_size)] = {\"avg_rmse\": [], \"avg_mse\": []}\n",
    "\n",
    "                # Training loop for current division\n",
    "                for sample_i in tqdm(range(len(train_samples)), desc=f\"Division {division_i + 1}/{divisions + 1}\"):\n",
    "                    if sample_i >= current_size:\n",
    "                        break\n",
    "\n",
    "                    molecule = train_samples[sample_i]\n",
    "                    target = molecule[8].to(device)\n",
    "\n",
    "                    input_representation = [\n",
    "                        atom_autoencoder.encode(molecule[0].to(device)),\n",
    "                        bond_autoencoder.encode(molecule[1].to(device)),\n",
    "                        molecule[2].to(device),\n",
    "                        molecule[3].to(device),\n",
    "                        molecule[4].to(device),\n",
    "                        molecule[5].to(device),\n",
    "                        molecule[6].to(device),\n",
    "                        molecule[7].to(device)\n",
    "                    ]\n",
    "\n",
    "                    # Forward pass\n",
    "                    prediction = gnn3d(input_representation)\n",
    "\n",
    "                    # Compute loss\n",
    "                    loss = mse_loss_fn(prediction, target)\n",
    "\n",
    "                    # Backward pass and optimization step\n",
    "                    gnn_optimizer.zero_grad()\n",
    "                    loss.backward()\n",
    "                    gnn_optimizer.step()\n",
    "\n",
    "                    # Update average RMSE and MSE\n",
    "                    avg_rmse = (avg_rmse * sample_i + torch.sqrt(loss).item()) / (sample_i + 1)\n",
    "                    avg_mse = (avg_mse * sample_i + loss.item()) / (sample_i + 1)\n",
    "                    gnn_rmse_dict[\"d\" + str(current_size)][\"avg_rmse\"].append(avg_rmse)\n",
    "                    gnn_rmse_dict[\"d\" + str(current_size)][\"avg_mse\"].append(avg_mse)\n",
    "\n",
    "                    if (sample_i % printstep == 0):\n",
    "                        print(f\"Epoch: {epoch_i:>3} | Samples: {sample_i:>6}/{current_size:>3} | RMSE Loss: {avg_rmse:.4f} | MSE Loss: {avg_mse:.4f} | target: {target.item():.4f} | pred: {prediction.item():.4f}\")\n",
    "    \n",
    "            # Save losses to a file\n",
    "            f.write(f\"{current_size}\\t{avg_rmse}\\t{avg_mse}\\n\")\n",
    "        \n",
    "        # Save model state after each division\n",
    "        torch.save(gnn3d.state_dict(), f\"{save_dir}gnn3d_{dataset_name}_div{current_size}.pth\")\n",
    "\n",
    "    return gnn_rmse_dict"
   ]
  },
  {
   "cell_type": "code",
   "execution_count": 6,
   "id": "4222d615-2453-4270-b041-13c7976ee160",
   "metadata": {
    "scrolled": true
   },
   "outputs": [
    {
     "name": "stderr",
     "output_type": "stream",
     "text": [
      "Division 1/5:   0%|                                                                               | 1/1015 [00:00<07:03,  2.39it/s]"
     ]
    },
    {
     "name": "stdout",
     "output_type": "stream",
     "text": [
      "Epoch:   0 | Samples:      0/100 | RMSE Loss: 4.4752 | MSE Loss: 20.0274 | target: -4.5540 | pred: -0.0788\n"
     ]
    },
    {
     "name": "stderr",
     "output_type": "stream",
     "text": [
      "Division 1/5:   3%|██▌                                                                           | 34/1015 [00:04<02:20,  7.01it/s]"
     ]
    },
    {
     "name": "stdout",
     "output_type": "stream",
     "text": [
      "Epoch:   0 | Samples:     32/100 | RMSE Loss: 2.1745 | MSE Loss: 7.9194 | target: -3.8960 | pred: -1.9760\n"
     ]
    },
    {
     "name": "stderr",
     "output_type": "stream",
     "text": [
      "Division 1/5:   7%|█████                                                                         | 66/1015 [00:09<02:28,  6.38it/s]"
     ]
    },
    {
     "name": "stdout",
     "output_type": "stream",
     "text": [
      "Epoch:   0 | Samples:     64/100 | RMSE Loss: 1.8451 | MSE Loss: 5.6101 | target: -4.1000 | pred: -3.1851\n"
     ]
    },
    {
     "name": "stderr",
     "output_type": "stream",
     "text": [
      "Division 1/5:  10%|███████▌                                                                      | 98/1015 [00:13<01:59,  7.65it/s]"
     ]
    },
    {
     "name": "stdout",
     "output_type": "stream",
     "text": [
      "Epoch:   0 | Samples:     96/100 | RMSE Loss: 1.6964 | MSE Loss: 4.8258 | target: -1.3300 | pred: -2.3594\n"
     ]
    },
    {
     "name": "stderr",
     "output_type": "stream",
     "text": [
      "Division 1/5:  10%|███████▌                                                                     | 100/1015 [00:13<02:05,  7.29it/s]\n",
      "Division 1/5:   0%|▏                                                                              | 3/1015 [00:00<02:00,  8.41it/s]"
     ]
    },
    {
     "name": "stdout",
     "output_type": "stream",
     "text": [
      "Epoch:   1 | Samples:      0/100 | RMSE Loss: 1.3413 | MSE Loss: 1.7991 | target: -4.5540 | pred: -3.2127\n"
     ]
    },
    {
     "name": "stderr",
     "output_type": "stream",
     "text": [
      "Division 1/5:   3%|██▌                                                                           | 34/1015 [00:04<02:17,  7.14it/s]"
     ]
    },
    {
     "name": "stdout",
     "output_type": "stream",
     "text": [
      "Epoch:   1 | Samples:     32/100 | RMSE Loss: 1.5743 | MSE Loss: 3.9271 | target: -3.8960 | pred: -2.9972\n"
     ]
    },
    {
     "name": "stderr",
     "output_type": "stream",
     "text": [
      "Division 1/5:   7%|█████                                                                         | 66/1015 [00:08<02:25,  6.53it/s]"
     ]
    },
    {
     "name": "stdout",
     "output_type": "stream",
     "text": [
      "Epoch:   1 | Samples:     64/100 | RMSE Loss: 1.4096 | MSE Loss: 3.0941 | target: -4.1000 | pred: -3.8895\n"
     ]
    },
    {
     "name": "stderr",
     "output_type": "stream",
     "text": [
      "Division 1/5:  10%|███████▌                                                                      | 98/1015 [00:12<01:56,  7.84it/s]"
     ]
    },
    {
     "name": "stdout",
     "output_type": "stream",
     "text": [
      "Epoch:   1 | Samples:     96/100 | RMSE Loss: 1.3438 | MSE Loss: 2.9015 | target: -1.3300 | pred: -2.3286\n"
     ]
    },
    {
     "name": "stderr",
     "output_type": "stream",
     "text": [
      "Division 1/5:  10%|███████▌                                                                     | 100/1015 [00:13<01:59,  7.67it/s]\n",
      "Division 1/5:   0%|▏                                                                              | 3/1015 [00:00<01:59,  8.47it/s]"
     ]
    },
    {
     "name": "stdout",
     "output_type": "stream",
     "text": [
      "Epoch:   2 | Samples:      0/100 | RMSE Loss: 1.2465 | MSE Loss: 1.5539 | target: -4.5540 | pred: -3.3075\n"
     ]
    },
    {
     "name": "stderr",
     "output_type": "stream",
     "text": [
      "Division 1/5:   3%|██▌                                                                           | 34/1015 [00:04<02:17,  7.11it/s]"
     ]
    },
    {
     "name": "stdout",
     "output_type": "stream",
     "text": [
      "Epoch:   2 | Samples:     32/100 | RMSE Loss: 1.4085 | MSE Loss: 3.1819 | target: -3.8960 | pred: -3.3783\n"
     ]
    },
    {
     "name": "stderr",
     "output_type": "stream",
     "text": [
      "Division 1/5:   7%|█████                                                                         | 66/1015 [00:08<02:25,  6.52it/s]"
     ]
    },
    {
     "name": "stdout",
     "output_type": "stream",
     "text": [
      "Epoch:   2 | Samples:     64/100 | RMSE Loss: 1.2290 | MSE Loss: 2.4608 | target: -4.1000 | pred: -3.8657\n"
     ]
    },
    {
     "name": "stderr",
     "output_type": "stream",
     "text": [
      "Division 1/5:  10%|███████▌                                                                      | 98/1015 [00:12<02:02,  7.49it/s]"
     ]
    },
    {
     "name": "stdout",
     "output_type": "stream",
     "text": [
      "Epoch:   2 | Samples:     96/100 | RMSE Loss: 1.1848 | MSE Loss: 2.3031 | target: -1.3300 | pred: -2.2260\n"
     ]
    },
    {
     "name": "stderr",
     "output_type": "stream",
     "text": [
      "Division 1/5:  10%|███████▌                                                                     | 100/1015 [00:13<02:00,  7.61it/s]\n",
      "Division 1/5:   0%|▏                                                                              | 3/1015 [00:00<01:59,  8.46it/s]"
     ]
    },
    {
     "name": "stdout",
     "output_type": "stream",
     "text": [
      "Epoch:   3 | Samples:      0/100 | RMSE Loss: 1.2110 | MSE Loss: 1.4666 | target: -4.5540 | pred: -3.3430\n"
     ]
    },
    {
     "name": "stderr",
     "output_type": "stream",
     "text": [
      "Division 1/5:   3%|██▌                                                                           | 34/1015 [00:04<02:16,  7.21it/s]"
     ]
    },
    {
     "name": "stdout",
     "output_type": "stream",
     "text": [
      "Epoch:   3 | Samples:     32/100 | RMSE Loss: 1.2263 | MSE Loss: 2.5028 | target: -3.8960 | pred: -3.8034\n"
     ]
    },
    {
     "name": "stderr",
     "output_type": "stream",
     "text": [
      "Division 1/5:   7%|█████                                                                         | 66/1015 [00:08<02:25,  6.51it/s]"
     ]
    },
    {
     "name": "stdout",
     "output_type": "stream",
     "text": [
      "Epoch:   3 | Samples:     64/100 | RMSE Loss: 1.0693 | MSE Loss: 1.9238 | target: -4.1000 | pred: -3.8024\n"
     ]
    },
    {
     "name": "stderr",
     "output_type": "stream",
     "text": [
      "Division 1/5:  10%|███████▌                                                                      | 98/1015 [00:12<01:57,  7.80it/s]"
     ]
    },
    {
     "name": "stdout",
     "output_type": "stream",
     "text": [
      "Epoch:   3 | Samples:     96/100 | RMSE Loss: 1.0393 | MSE Loss: 1.7938 | target: -1.3300 | pred: -2.1475\n"
     ]
    },
    {
     "name": "stderr",
     "output_type": "stream",
     "text": [
      "Division 1/5:  10%|███████▌                                                                     | 100/1015 [00:13<02:00,  7.62it/s]\n",
      "Division 1/5:   0%|▏                                                                              | 3/1015 [00:00<02:00,  8.42it/s]"
     ]
    },
    {
     "name": "stdout",
     "output_type": "stream",
     "text": [
      "Epoch:   4 | Samples:      0/100 | RMSE Loss: 1.2076 | MSE Loss: 1.4582 | target: -4.5540 | pred: -3.3464\n"
     ]
    },
    {
     "name": "stderr",
     "output_type": "stream",
     "text": [
      "Division 1/5:   3%|██▌                                                                           | 34/1015 [00:04<02:16,  7.20it/s]"
     ]
    },
    {
     "name": "stdout",
     "output_type": "stream",
     "text": [
      "Epoch:   4 | Samples:     32/100 | RMSE Loss: 1.0889 | MSE Loss: 1.9852 | target: -3.8960 | pred: -4.1803\n"
     ]
    },
    {
     "name": "stderr",
     "output_type": "stream",
     "text": [
      "Division 1/5:   7%|█████                                                                         | 66/1015 [00:08<02:25,  6.51it/s]"
     ]
    },
    {
     "name": "stdout",
     "output_type": "stream",
     "text": [
      "Epoch:   4 | Samples:     64/100 | RMSE Loss: 0.9604 | MSE Loss: 1.5369 | target: -4.1000 | pred: -3.7653\n"
     ]
    },
    {
     "name": "stderr",
     "output_type": "stream",
     "text": [
      "Division 1/5:  10%|███████▌                                                                      | 98/1015 [00:12<01:57,  7.79it/s]"
     ]
    },
    {
     "name": "stdout",
     "output_type": "stream",
     "text": [
      "Epoch:   4 | Samples:     96/100 | RMSE Loss: 0.9377 | MSE Loss: 1.4247 | target: -1.3300 | pred: -2.0885\n"
     ]
    },
    {
     "name": "stderr",
     "output_type": "stream",
     "text": [
      "Division 1/5:  10%|███████▌                                                                     | 100/1015 [00:13<01:59,  7.67it/s]\n",
      "Division 1/5:   0%|▏                                                                              | 3/1015 [00:00<01:58,  8.54it/s]"
     ]
    },
    {
     "name": "stdout",
     "output_type": "stream",
     "text": [
      "Epoch:   5 | Samples:      0/100 | RMSE Loss: 1.1945 | MSE Loss: 1.4269 | target: -4.5540 | pred: -3.3595\n"
     ]
    },
    {
     "name": "stderr",
     "output_type": "stream",
     "text": [
      "Division 1/5:   3%|██▌                                                                           | 34/1015 [00:04<02:16,  7.19it/s]"
     ]
    },
    {
     "name": "stdout",
     "output_type": "stream",
     "text": [
      "Epoch:   5 | Samples:     32/100 | RMSE Loss: 0.9814 | MSE Loss: 1.6242 | target: -3.8960 | pred: -4.4556\n"
     ]
    },
    {
     "name": "stderr",
     "output_type": "stream",
     "text": [
      "Division 1/5:   7%|█████                                                                         | 66/1015 [00:08<02:26,  6.48it/s]"
     ]
    },
    {
     "name": "stdout",
     "output_type": "stream",
     "text": [
      "Epoch:   5 | Samples:     64/100 | RMSE Loss: 0.8829 | MSE Loss: 1.2843 | target: -4.1000 | pred: -3.7716\n"
     ]
    },
    {
     "name": "stderr",
     "output_type": "stream",
     "text": [
      "Division 1/5:  10%|███████▌                                                                      | 98/1015 [00:12<02:00,  7.63it/s]"
     ]
    },
    {
     "name": "stdout",
     "output_type": "stream",
     "text": [
      "Epoch:   5 | Samples:     96/100 | RMSE Loss: 0.8576 | MSE Loss: 1.1785 | target: -1.3300 | pred: -2.0147\n"
     ]
    },
    {
     "name": "stderr",
     "output_type": "stream",
     "text": [
      "Division 1/5:  10%|███████▌                                                                     | 100/1015 [00:13<02:00,  7.59it/s]\n",
      "Division 1/5:   0%|▏                                                                              | 3/1015 [00:00<01:59,  8.46it/s]"
     ]
    },
    {
     "name": "stdout",
     "output_type": "stream",
     "text": [
      "Epoch:   6 | Samples:      0/100 | RMSE Loss: 1.2005 | MSE Loss: 1.4413 | target: -4.5540 | pred: -3.3535\n"
     ]
    },
    {
     "name": "stderr",
     "output_type": "stream",
     "text": [
      "Division 1/5:   3%|██▌                                                                           | 34/1015 [00:04<02:17,  7.14it/s]"
     ]
    },
    {
     "name": "stdout",
     "output_type": "stream",
     "text": [
      "Epoch:   6 | Samples:     32/100 | RMSE Loss: 0.9043 | MSE Loss: 1.3612 | target: -3.8960 | pred: -4.6824\n"
     ]
    },
    {
     "name": "stderr",
     "output_type": "stream",
     "text": [
      "Division 1/5:   7%|█████                                                                         | 66/1015 [00:08<02:26,  6.48it/s]"
     ]
    },
    {
     "name": "stdout",
     "output_type": "stream",
     "text": [
      "Epoch:   6 | Samples:     64/100 | RMSE Loss: 0.8223 | MSE Loss: 1.1022 | target: -4.1000 | pred: -3.8116\n"
     ]
    },
    {
     "name": "stderr",
     "output_type": "stream",
     "text": [
      "Division 1/5:  10%|███████▌                                                                      | 98/1015 [00:12<01:57,  7.83it/s]"
     ]
    },
    {
     "name": "stdout",
     "output_type": "stream",
     "text": [
      "Epoch:   6 | Samples:     96/100 | RMSE Loss: 0.7933 | MSE Loss: 1.0035 | target: -1.3300 | pred: -1.9050\n"
     ]
    },
    {
     "name": "stderr",
     "output_type": "stream",
     "text": [
      "Division 1/5:  10%|███████▌                                                                     | 100/1015 [00:13<02:00,  7.59it/s]\n",
      "Division 1/5:   0%|▏                                                                              | 3/1015 [00:00<01:59,  8.46it/s]"
     ]
    },
    {
     "name": "stdout",
     "output_type": "stream",
     "text": [
      "Epoch:   7 | Samples:      0/100 | RMSE Loss: 1.1440 | MSE Loss: 1.3086 | target: -4.5540 | pred: -3.4100\n"
     ]
    },
    {
     "name": "stderr",
     "output_type": "stream",
     "text": [
      "Division 1/5:   3%|██▌                                                                           | 34/1015 [00:04<02:15,  7.24it/s]"
     ]
    },
    {
     "name": "stdout",
     "output_type": "stream",
     "text": [
      "Epoch:   7 | Samples:     32/100 | RMSE Loss: 0.8372 | MSE Loss: 1.1409 | target: -3.8960 | pred: -5.0344\n"
     ]
    },
    {
     "name": "stderr",
     "output_type": "stream",
     "text": [
      "Division 1/5:   7%|█████                                                                         | 66/1015 [00:08<02:26,  6.48it/s]"
     ]
    },
    {
     "name": "stdout",
     "output_type": "stream",
     "text": [
      "Epoch:   7 | Samples:     64/100 | RMSE Loss: 0.7731 | MSE Loss: 0.9570 | target: -4.1000 | pred: -3.9267\n"
     ]
    },
    {
     "name": "stderr",
     "output_type": "stream",
     "text": [
      "Division 1/5:  10%|███████▌                                                                      | 98/1015 [00:13<02:07,  7.20it/s]"
     ]
    },
    {
     "name": "stdout",
     "output_type": "stream",
     "text": [
      "Epoch:   7 | Samples:     96/100 | RMSE Loss: 0.7444 | MSE Loss: 0.8728 | target: -1.3300 | pred: -1.8631\n"
     ]
    },
    {
     "name": "stderr",
     "output_type": "stream",
     "text": [
      "Division 1/5:  10%|███████▌                                                                     | 100/1015 [00:13<02:01,  7.54it/s]\n",
      "Division 1/5:   0%|▏                                                                              | 3/1015 [00:00<02:01,  8.36it/s]"
     ]
    },
    {
     "name": "stdout",
     "output_type": "stream",
     "text": [
      "Epoch:   8 | Samples:      0/100 | RMSE Loss: 1.0700 | MSE Loss: 1.1449 | target: -4.5540 | pred: -3.4840\n"
     ]
    },
    {
     "name": "stderr",
     "output_type": "stream",
     "text": [
      "Division 1/5:   3%|██▌                                                                           | 34/1015 [00:04<02:19,  7.05it/s]"
     ]
    },
    {
     "name": "stdout",
     "output_type": "stream",
     "text": [
      "Epoch:   8 | Samples:     32/100 | RMSE Loss: 0.7786 | MSE Loss: 0.9619 | target: -3.8960 | pred: -4.9507\n"
     ]
    },
    {
     "name": "stderr",
     "output_type": "stream",
     "text": [
      "Division 1/5:   7%|█████                                                                         | 66/1015 [00:08<02:27,  6.45it/s]"
     ]
    },
    {
     "name": "stdout",
     "output_type": "stream",
     "text": [
      "Epoch:   8 | Samples:     64/100 | RMSE Loss: 0.7235 | MSE Loss: 0.8252 | target: -4.1000 | pred: -3.9748\n"
     ]
    },
    {
     "name": "stderr",
     "output_type": "stream",
     "text": [
      "Division 1/5:  10%|███████▌                                                                      | 98/1015 [00:12<01:59,  7.68it/s]"
     ]
    },
    {
     "name": "stdout",
     "output_type": "stream",
     "text": [
      "Epoch:   8 | Samples:     96/100 | RMSE Loss: 0.6971 | MSE Loss: 0.7624 | target: -1.3300 | pred: -1.7203\n"
     ]
    },
    {
     "name": "stderr",
     "output_type": "stream",
     "text": [
      "Division 1/5:  10%|███████▌                                                                     | 100/1015 [00:13<02:01,  7.56it/s]\n",
      "Division 1/5:   0%|▏                                                                              | 3/1015 [00:00<02:01,  8.32it/s]"
     ]
    },
    {
     "name": "stdout",
     "output_type": "stream",
     "text": [
      "Epoch:   9 | Samples:      0/100 | RMSE Loss: 1.0105 | MSE Loss: 1.0212 | target: -4.5540 | pred: -3.5435\n"
     ]
    },
    {
     "name": "stderr",
     "output_type": "stream",
     "text": [
      "Division 1/5:   3%|██▌                                                                           | 34/1015 [00:04<02:17,  7.13it/s]"
     ]
    },
    {
     "name": "stdout",
     "output_type": "stream",
     "text": [
      "Epoch:   9 | Samples:     32/100 | RMSE Loss: 0.7254 | MSE Loss: 0.8220 | target: -3.8960 | pred: -4.9083\n"
     ]
    },
    {
     "name": "stderr",
     "output_type": "stream",
     "text": [
      "Division 1/5:   7%|█████                                                                         | 66/1015 [00:08<02:25,  6.52it/s]"
     ]
    },
    {
     "name": "stdout",
     "output_type": "stream",
     "text": [
      "Epoch:   9 | Samples:     64/100 | RMSE Loss: 0.6793 | MSE Loss: 0.7243 | target: -4.1000 | pred: -3.9822\n"
     ]
    },
    {
     "name": "stderr",
     "output_type": "stream",
     "text": [
      "Division 1/5:  10%|███████▌                                                                      | 98/1015 [00:12<01:58,  7.75it/s]"
     ]
    },
    {
     "name": "stdout",
     "output_type": "stream",
     "text": [
      "Epoch:   9 | Samples:     96/100 | RMSE Loss: 0.6563 | MSE Loss: 0.6773 | target: -1.3300 | pred: -1.6201\n"
     ]
    },
    {
     "name": "stderr",
     "output_type": "stream",
     "text": [
      "Division 1/5:  10%|███████▌                                                                     | 100/1015 [00:13<02:00,  7.58it/s]\n",
      "Division 2/5:   0%|▏                                                                              | 3/1015 [00:00<01:58,  8.53it/s]"
     ]
    },
    {
     "name": "stdout",
     "output_type": "stream",
     "text": [
      "Epoch:   0 | Samples:      0/226 | RMSE Loss: 4.4018 | MSE Loss: 19.3759 | target: -4.5540 | pred: -0.1522\n"
     ]
    },
    {
     "name": "stderr",
     "output_type": "stream",
     "text": [
      "Division 2/5:   3%|██▌                                                                           | 34/1015 [00:04<02:17,  7.14it/s]"
     ]
    },
    {
     "name": "stdout",
     "output_type": "stream",
     "text": [
      "Epoch:   0 | Samples:     32/226 | RMSE Loss: 2.0184 | MSE Loss: 7.1794 | target: -3.8960 | pred: -3.2996\n"
     ]
    },
    {
     "name": "stderr",
     "output_type": "stream",
     "text": [
      "Division 2/5:   7%|█████                                                                         | 66/1015 [00:08<02:26,  6.47it/s]"
     ]
    },
    {
     "name": "stdout",
     "output_type": "stream",
     "text": [
      "Epoch:   0 | Samples:     64/226 | RMSE Loss: 1.7571 | MSE Loss: 5.3223 | target: -4.1000 | pred: -4.3999\n"
     ]
    },
    {
     "name": "stderr",
     "output_type": "stream",
     "text": [
      "Division 2/5:  10%|███████▌                                                                      | 98/1015 [00:12<01:59,  7.70it/s]"
     ]
    },
    {
     "name": "stdout",
     "output_type": "stream",
     "text": [
      "Epoch:   0 | Samples:     96/226 | RMSE Loss: 1.6246 | MSE Loss: 4.5854 | target: -1.3300 | pred: -2.1753\n"
     ]
    },
    {
     "name": "stderr",
     "output_type": "stream",
     "text": [
      "Division 2/5:  13%|█████████▊                                                                   | 130/1015 [00:17<01:47,  8.24it/s]"
     ]
    },
    {
     "name": "stdout",
     "output_type": "stream",
     "text": [
      "Epoch:   0 | Samples:    128/226 | RMSE Loss: 1.4795 | MSE Loss: 3.8488 | target: 0.0090 | pred: -2.3706\n"
     ]
    },
    {
     "name": "stderr",
     "output_type": "stream",
     "text": [
      "Division 2/5:  16%|████████████▏                                                                | 160/1015 [00:21<01:47,  7.93it/s]"
     ]
    },
    {
     "name": "stdout",
     "output_type": "stream",
     "text": [
      "Epoch:   0 | Samples:    160/226 | RMSE Loss: 1.4848 | MSE Loss: 3.7919 | target: -1.0900 | pred: -2.5746\n"
     ]
    },
    {
     "name": "stderr",
     "output_type": "stream",
     "text": [
      "Division 2/5:  19%|██████████████▋                                                              | 194/1015 [00:26<02:03,  6.65it/s]"
     ]
    },
    {
     "name": "stdout",
     "output_type": "stream",
     "text": [
      "Epoch:   0 | Samples:    192/226 | RMSE Loss: 1.4581 | MSE Loss: 3.7194 | target: -1.3700 | pred: -2.0546\n"
     ]
    },
    {
     "name": "stderr",
     "output_type": "stream",
     "text": [
      "Division 2/5:  22%|█████████████████▏                                                           | 226/1015 [00:30<01:47,  7.31it/s]\n"
     ]
    },
    {
     "name": "stdout",
     "output_type": "stream",
     "text": [
      "Epoch:   0 | Samples:    224/226 | RMSE Loss: 1.4397 | MSE Loss: 3.7140 | target: -2.0500 | pred: -2.3599\n"
     ]
    },
    {
     "name": "stderr",
     "output_type": "stream",
     "text": [
      "Division 2/5:   0%|▏                                                                              | 3/1015 [00:00<01:59,  8.48it/s]"
     ]
    },
    {
     "name": "stdout",
     "output_type": "stream",
     "text": [
      "Epoch:   1 | Samples:      0/226 | RMSE Loss: 0.8611 | MSE Loss: 0.7415 | target: -4.5540 | pred: -3.6929\n"
     ]
    },
    {
     "name": "stderr",
     "output_type": "stream",
     "text": [
      "Division 2/5:   3%|██▌                                                                           | 34/1015 [00:04<02:18,  7.07it/s]"
     ]
    },
    {
     "name": "stdout",
     "output_type": "stream",
     "text": [
      "Epoch:   1 | Samples:     32/226 | RMSE Loss: 1.2760 | MSE Loss: 2.7085 | target: -3.8960 | pred: -3.7000\n"
     ]
    },
    {
     "name": "stderr",
     "output_type": "stream",
     "text": [
      "Division 2/5:   7%|█████                                                                         | 66/1015 [00:08<02:25,  6.51it/s]"
     ]
    },
    {
     "name": "stdout",
     "output_type": "stream",
     "text": [
      "Epoch:   1 | Samples:     64/226 | RMSE Loss: 1.1333 | MSE Loss: 2.0927 | target: -4.1000 | pred: -3.6758\n"
     ]
    },
    {
     "name": "stderr",
     "output_type": "stream",
     "text": [
      "Division 2/5:  10%|███████▌                                                                      | 98/1015 [00:12<01:59,  7.65it/s]"
     ]
    },
    {
     "name": "stdout",
     "output_type": "stream",
     "text": [
      "Epoch:   1 | Samples:     96/226 | RMSE Loss: 1.0920 | MSE Loss: 1.9393 | target: -1.3300 | pred: -2.0026\n"
     ]
    },
    {
     "name": "stderr",
     "output_type": "stream",
     "text": [
      "Division 2/5:  13%|█████████▊                                                                   | 130/1015 [00:17<01:46,  8.28it/s]"
     ]
    },
    {
     "name": "stdout",
     "output_type": "stream",
     "text": [
      "Epoch:   1 | Samples:    128/226 | RMSE Loss: 1.0073 | MSE Loss: 1.6952 | target: 0.0090 | pred: -1.5633\n"
     ]
    },
    {
     "name": "stderr",
     "output_type": "stream",
     "text": [
      "Division 2/5:  16%|████████████▏                                                                | 160/1015 [00:21<01:48,  7.89it/s]"
     ]
    },
    {
     "name": "stdout",
     "output_type": "stream",
     "text": [
      "Epoch:   1 | Samples:    160/226 | RMSE Loss: 1.0377 | MSE Loss: 1.7544 | target: -1.0900 | pred: -1.8445\n"
     ]
    },
    {
     "name": "stderr",
     "output_type": "stream",
     "text": [
      "Division 2/5:  19%|██████████████▋                                                              | 194/1015 [00:26<02:04,  6.60it/s]"
     ]
    },
    {
     "name": "stdout",
     "output_type": "stream",
     "text": [
      "Epoch:   1 | Samples:    192/226 | RMSE Loss: 1.0434 | MSE Loss: 1.8191 | target: -1.3700 | pred: -2.1614\n"
     ]
    },
    {
     "name": "stderr",
     "output_type": "stream",
     "text": [
      "Division 2/5:  22%|█████████████████▏                                                           | 226/1015 [00:30<01:48,  7.30it/s]\n"
     ]
    },
    {
     "name": "stdout",
     "output_type": "stream",
     "text": [
      "Epoch:   1 | Samples:    224/226 | RMSE Loss: 1.0337 | MSE Loss: 1.8195 | target: -2.0500 | pred: -1.8193\n"
     ]
    },
    {
     "name": "stderr",
     "output_type": "stream",
     "text": [
      "Division 2/5:   0%|▏                                                                              | 3/1015 [00:00<02:00,  8.42it/s]"
     ]
    },
    {
     "name": "stdout",
     "output_type": "stream",
     "text": [
      "Epoch:   2 | Samples:      0/226 | RMSE Loss: 1.3998 | MSE Loss: 1.9593 | target: -4.5540 | pred: -3.1542\n"
     ]
    },
    {
     "name": "stderr",
     "output_type": "stream",
     "text": [
      "Division 2/5:   3%|██▌                                                                           | 34/1015 [00:04<02:18,  7.08it/s]"
     ]
    },
    {
     "name": "stdout",
     "output_type": "stream",
     "text": [
      "Epoch:   2 | Samples:     32/226 | RMSE Loss: 1.0312 | MSE Loss: 1.7404 | target: -3.8960 | pred: -4.5232\n"
     ]
    },
    {
     "name": "stderr",
     "output_type": "stream",
     "text": [
      "Division 2/5:   7%|█████                                                                         | 66/1015 [00:08<02:26,  6.46it/s]"
     ]
    },
    {
     "name": "stdout",
     "output_type": "stream",
     "text": [
      "Epoch:   2 | Samples:     64/226 | RMSE Loss: 0.9345 | MSE Loss: 1.3934 | target: -4.1000 | pred: -3.8421\n"
     ]
    },
    {
     "name": "stderr",
     "output_type": "stream",
     "text": [
      "Division 2/5:  10%|███████▌                                                                      | 98/1015 [00:12<01:59,  7.70it/s]"
     ]
    },
    {
     "name": "stdout",
     "output_type": "stream",
     "text": [
      "Epoch:   2 | Samples:     96/226 | RMSE Loss: 0.8927 | MSE Loss: 1.2497 | target: -1.3300 | pred: -1.8724\n"
     ]
    },
    {
     "name": "stderr",
     "output_type": "stream",
     "text": [
      "Division 2/5:  13%|█████████▊                                                                   | 130/1015 [00:17<01:45,  8.38it/s]"
     ]
    },
    {
     "name": "stdout",
     "output_type": "stream",
     "text": [
      "Epoch:   2 | Samples:    128/226 | RMSE Loss: 0.8385 | MSE Loss: 1.1398 | target: 0.0090 | pred: -0.9083\n"
     ]
    },
    {
     "name": "stderr",
     "output_type": "stream",
     "text": [
      "Division 2/5:  16%|████████████▏                                                                | 160/1015 [00:21<01:47,  7.99it/s]"
     ]
    },
    {
     "name": "stdout",
     "output_type": "stream",
     "text": [
      "Epoch:   2 | Samples:    160/226 | RMSE Loss: 0.8591 | MSE Loss: 1.1811 | target: -1.0900 | pred: -1.6459\n"
     ]
    },
    {
     "name": "stderr",
     "output_type": "stream",
     "text": [
      "Division 2/5:  19%|██████████████▋                                                              | 194/1015 [00:26<02:04,  6.60it/s]"
     ]
    },
    {
     "name": "stdout",
     "output_type": "stream",
     "text": [
      "Epoch:   2 | Samples:    192/226 | RMSE Loss: 0.8744 | MSE Loss: 1.2660 | target: -1.3700 | pred: -2.1498\n"
     ]
    },
    {
     "name": "stderr",
     "output_type": "stream",
     "text": [
      "Division 2/5:  22%|█████████████████▏                                                           | 226/1015 [00:30<01:48,  7.30it/s]\n"
     ]
    },
    {
     "name": "stdout",
     "output_type": "stream",
     "text": [
      "Epoch:   2 | Samples:    224/226 | RMSE Loss: 0.8635 | MSE Loss: 1.2419 | target: -2.0500 | pred: -1.8067\n"
     ]
    },
    {
     "name": "stderr",
     "output_type": "stream",
     "text": [
      "Division 2/5:   0%|▏                                                                              | 3/1015 [00:00<01:58,  8.57it/s]"
     ]
    },
    {
     "name": "stdout",
     "output_type": "stream",
     "text": [
      "Epoch:   3 | Samples:      0/226 | RMSE Loss: 1.6699 | MSE Loss: 2.7887 | target: -4.5540 | pred: -2.8841\n"
     ]
    },
    {
     "name": "stderr",
     "output_type": "stream",
     "text": [
      "Division 2/5:   3%|██▌                                                                           | 34/1015 [00:04<02:19,  7.05it/s]"
     ]
    },
    {
     "name": "stdout",
     "output_type": "stream",
     "text": [
      "Epoch:   3 | Samples:     32/226 | RMSE Loss: 0.9058 | MSE Loss: 1.3714 | target: -3.8960 | pred: -4.9163\n"
     ]
    },
    {
     "name": "stderr",
     "output_type": "stream",
     "text": [
      "Division 2/5:   7%|█████                                                                         | 66/1015 [00:08<02:28,  6.40it/s]"
     ]
    },
    {
     "name": "stdout",
     "output_type": "stream",
     "text": [
      "Epoch:   3 | Samples:     64/226 | RMSE Loss: 0.8283 | MSE Loss: 1.1150 | target: -4.1000 | pred: -4.0863\n"
     ]
    },
    {
     "name": "stderr",
     "output_type": "stream",
     "text": [
      "Division 2/5:  10%|███████▌                                                                      | 98/1015 [00:12<01:59,  7.70it/s]"
     ]
    },
    {
     "name": "stdout",
     "output_type": "stream",
     "text": [
      "Epoch:   3 | Samples:     96/226 | RMSE Loss: 0.7874 | MSE Loss: 0.9940 | target: -1.3300 | pred: -1.8059\n"
     ]
    },
    {
     "name": "stderr",
     "output_type": "stream",
     "text": [
      "Division 2/5:  13%|█████████▊                                                                   | 130/1015 [00:17<01:47,  8.26it/s]"
     ]
    },
    {
     "name": "stdout",
     "output_type": "stream",
     "text": [
      "Epoch:   3 | Samples:    128/226 | RMSE Loss: 0.7477 | MSE Loss: 0.9204 | target: 0.0090 | pred: -0.4404\n"
     ]
    },
    {
     "name": "stderr",
     "output_type": "stream",
     "text": [
      "Division 2/5:  16%|████████████▏                                                                | 160/1015 [00:21<01:47,  7.96it/s]"
     ]
    },
    {
     "name": "stdout",
     "output_type": "stream",
     "text": [
      "Epoch:   3 | Samples:    160/226 | RMSE Loss: 0.7631 | MSE Loss: 0.9420 | target: -1.0900 | pred: -1.5838\n"
     ]
    },
    {
     "name": "stderr",
     "output_type": "stream",
     "text": [
      "Division 2/5:  19%|██████████████▋                                                              | 194/1015 [00:26<02:04,  6.61it/s]"
     ]
    },
    {
     "name": "stdout",
     "output_type": "stream",
     "text": [
      "Epoch:   3 | Samples:    192/226 | RMSE Loss: 0.7789 | MSE Loss: 1.0205 | target: -1.3700 | pred: -2.1304\n"
     ]
    },
    {
     "name": "stderr",
     "output_type": "stream",
     "text": [
      "Division 2/5:  22%|█████████████████▏                                                           | 226/1015 [00:30<01:48,  7.30it/s]\n"
     ]
    },
    {
     "name": "stdout",
     "output_type": "stream",
     "text": [
      "Epoch:   3 | Samples:    224/226 | RMSE Loss: 0.7677 | MSE Loss: 0.9902 | target: -2.0500 | pred: -1.9040\n"
     ]
    },
    {
     "name": "stderr",
     "output_type": "stream",
     "text": [
      "Division 2/5:   0%|▏                                                                              | 3/1015 [00:00<01:58,  8.53it/s]"
     ]
    },
    {
     "name": "stdout",
     "output_type": "stream",
     "text": [
      "Epoch:   4 | Samples:      0/226 | RMSE Loss: 1.7244 | MSE Loss: 2.9737 | target: -4.5540 | pred: -2.8296\n"
     ]
    },
    {
     "name": "stderr",
     "output_type": "stream",
     "text": [
      "Division 2/5:   3%|██▌                                                                           | 34/1015 [00:04<02:18,  7.08it/s]"
     ]
    },
    {
     "name": "stdout",
     "output_type": "stream",
     "text": [
      "Epoch:   4 | Samples:     32/226 | RMSE Loss: 0.8437 | MSE Loss: 1.1513 | target: -3.8960 | pred: -5.1276\n"
     ]
    },
    {
     "name": "stderr",
     "output_type": "stream",
     "text": [
      "Division 2/5:   7%|█████                                                                         | 66/1015 [00:08<02:27,  6.45it/s]"
     ]
    },
    {
     "name": "stdout",
     "output_type": "stream",
     "text": [
      "Epoch:   4 | Samples:     64/226 | RMSE Loss: 0.7761 | MSE Loss: 0.9381 | target: -4.1000 | pred: -4.2698\n"
     ]
    },
    {
     "name": "stderr",
     "output_type": "stream",
     "text": [
      "Division 2/5:  10%|███████▌                                                                      | 98/1015 [00:12<02:00,  7.64it/s]"
     ]
    },
    {
     "name": "stdout",
     "output_type": "stream",
     "text": [
      "Epoch:   4 | Samples:     96/226 | RMSE Loss: 0.7432 | MSE Loss: 0.8604 | target: -1.3300 | pred: -1.7131\n"
     ]
    },
    {
     "name": "stderr",
     "output_type": "stream",
     "text": [
      "Division 2/5:  13%|█████████▊                                                                   | 130/1015 [00:17<01:46,  8.34it/s]"
     ]
    },
    {
     "name": "stdout",
     "output_type": "stream",
     "text": [
      "Epoch:   4 | Samples:    128/226 | RMSE Loss: 0.7049 | MSE Loss: 0.7961 | target: 0.0090 | pred: -0.1155\n"
     ]
    },
    {
     "name": "stderr",
     "output_type": "stream",
     "text": [
      "Division 2/5:  16%|████████████▏                                                                | 160/1015 [00:21<01:46,  8.00it/s]"
     ]
    },
    {
     "name": "stdout",
     "output_type": "stream",
     "text": [
      "Epoch:   4 | Samples:    160/226 | RMSE Loss: 0.7129 | MSE Loss: 0.8065 | target: -1.0900 | pred: -1.5809\n"
     ]
    },
    {
     "name": "stderr",
     "output_type": "stream",
     "text": [
      "Division 2/5:  19%|██████████████▋                                                              | 194/1015 [00:26<02:03,  6.66it/s]"
     ]
    },
    {
     "name": "stdout",
     "output_type": "stream",
     "text": [
      "Epoch:   4 | Samples:    192/226 | RMSE Loss: 0.7250 | MSE Loss: 0.8687 | target: -1.3700 | pred: -2.0738\n"
     ]
    },
    {
     "name": "stderr",
     "output_type": "stream",
     "text": [
      "Division 2/5:  22%|█████████████████▏                                                           | 226/1015 [00:30<01:47,  7.31it/s]\n"
     ]
    },
    {
     "name": "stdout",
     "output_type": "stream",
     "text": [
      "Epoch:   4 | Samples:    224/226 | RMSE Loss: 0.7141 | MSE Loss: 0.8413 | target: -2.0500 | pred: -1.9538\n"
     ]
    },
    {
     "name": "stderr",
     "output_type": "stream",
     "text": [
      "Division 2/5:   0%|▏                                                                              | 3/1015 [00:00<01:58,  8.55it/s]"
     ]
    },
    {
     "name": "stdout",
     "output_type": "stream",
     "text": [
      "Epoch:   5 | Samples:      0/226 | RMSE Loss: 1.6982 | MSE Loss: 2.8838 | target: -4.5540 | pred: -2.8558\n"
     ]
    },
    {
     "name": "stderr",
     "output_type": "stream",
     "text": [
      "Division 2/5:   3%|██▌                                                                           | 34/1015 [00:04<02:18,  7.08it/s]"
     ]
    },
    {
     "name": "stdout",
     "output_type": "stream",
     "text": [
      "Epoch:   5 | Samples:     32/226 | RMSE Loss: 0.7943 | MSE Loss: 0.9962 | target: -3.8960 | pred: -5.2047\n"
     ]
    },
    {
     "name": "stderr",
     "output_type": "stream",
     "text": [
      "Division 2/5:   7%|█████                                                                         | 66/1015 [00:08<02:28,  6.39it/s]"
     ]
    },
    {
     "name": "stdout",
     "output_type": "stream",
     "text": [
      "Epoch:   5 | Samples:     64/226 | RMSE Loss: 0.7278 | MSE Loss: 0.8109 | target: -4.1000 | pred: -4.3596\n"
     ]
    },
    {
     "name": "stderr",
     "output_type": "stream",
     "text": [
      "Division 2/5:  10%|███████▌                                                                      | 98/1015 [00:12<01:59,  7.69it/s]"
     ]
    },
    {
     "name": "stdout",
     "output_type": "stream",
     "text": [
      "Epoch:   5 | Samples:     96/226 | RMSE Loss: 0.7094 | MSE Loss: 0.7785 | target: -1.3300 | pred: -1.6122\n"
     ]
    },
    {
     "name": "stderr",
     "output_type": "stream",
     "text": [
      "Division 2/5:  13%|█████████▊                                                                   | 130/1015 [00:17<01:46,  8.27it/s]"
     ]
    },
    {
     "name": "stdout",
     "output_type": "stream",
     "text": [
      "Epoch:   5 | Samples:    128/226 | RMSE Loss: 0.6724 | MSE Loss: 0.7144 | target: 0.0090 | pred: 0.0993\n"
     ]
    },
    {
     "name": "stderr",
     "output_type": "stream",
     "text": [
      "Division 2/5:  16%|████████████▏                                                                | 160/1015 [00:21<01:48,  7.91it/s]"
     ]
    },
    {
     "name": "stdout",
     "output_type": "stream",
     "text": [
      "Epoch:   5 | Samples:    160/226 | RMSE Loss: 0.6750 | MSE Loss: 0.7203 | target: -1.0900 | pred: -1.5910\n"
     ]
    },
    {
     "name": "stderr",
     "output_type": "stream",
     "text": [
      "Division 2/5:  19%|██████████████▋                                                              | 194/1015 [00:26<02:04,  6.62it/s]"
     ]
    },
    {
     "name": "stdout",
     "output_type": "stream",
     "text": [
      "Epoch:   5 | Samples:    192/226 | RMSE Loss: 0.6837 | MSE Loss: 0.7679 | target: -1.3700 | pred: -2.0244\n"
     ]
    },
    {
     "name": "stderr",
     "output_type": "stream",
     "text": [
      "Division 2/5:  22%|█████████████████▏                                                           | 226/1015 [00:31<01:48,  7.29it/s]\n"
     ]
    },
    {
     "name": "stdout",
     "output_type": "stream",
     "text": [
      "Epoch:   5 | Samples:    224/226 | RMSE Loss: 0.6736 | MSE Loss: 0.7427 | target: -2.0500 | pred: -2.0069\n"
     ]
    },
    {
     "name": "stderr",
     "output_type": "stream",
     "text": [
      "Division 2/5:   0%|▏                                                                              | 3/1015 [00:00<01:58,  8.57it/s]"
     ]
    },
    {
     "name": "stdout",
     "output_type": "stream",
     "text": [
      "Epoch:   6 | Samples:      0/226 | RMSE Loss: 1.6045 | MSE Loss: 2.5745 | target: -4.5540 | pred: -2.9495\n"
     ]
    },
    {
     "name": "stderr",
     "output_type": "stream",
     "text": [
      "Division 2/5:   3%|██▌                                                                           | 34/1015 [00:04<02:18,  7.09it/s]"
     ]
    },
    {
     "name": "stdout",
     "output_type": "stream",
     "text": [
      "Epoch:   6 | Samples:     32/226 | RMSE Loss: 0.7632 | MSE Loss: 0.8872 | target: -3.8960 | pred: -5.2213\n"
     ]
    },
    {
     "name": "stderr",
     "output_type": "stream",
     "text": [
      "Division 2/5:   7%|█████                                                                         | 66/1015 [00:08<02:26,  6.46it/s]"
     ]
    },
    {
     "name": "stdout",
     "output_type": "stream",
     "text": [
      "Epoch:   6 | Samples:     64/226 | RMSE Loss: 0.6883 | MSE Loss: 0.7174 | target: -4.1000 | pred: -4.4162\n"
     ]
    },
    {
     "name": "stderr",
     "output_type": "stream",
     "text": [
      "Division 2/5:  10%|███████▌                                                                      | 98/1015 [00:12<01:58,  7.71it/s]"
     ]
    },
    {
     "name": "stdout",
     "output_type": "stream",
     "text": [
      "Epoch:   6 | Samples:     96/226 | RMSE Loss: 0.6824 | MSE Loss: 0.7216 | target: -1.3300 | pred: -1.5291\n"
     ]
    },
    {
     "name": "stderr",
     "output_type": "stream",
     "text": [
      "Division 2/5:  13%|█████████▊                                                                   | 130/1015 [00:17<01:46,  8.34it/s]"
     ]
    },
    {
     "name": "stdout",
     "output_type": "stream",
     "text": [
      "Epoch:   6 | Samples:    128/226 | RMSE Loss: 0.6475 | MSE Loss: 0.6555 | target: 0.0090 | pred: 0.2673\n"
     ]
    },
    {
     "name": "stderr",
     "output_type": "stream",
     "text": [
      "Division 2/5:  16%|████████████▏                                                                | 160/1015 [00:21<01:47,  7.95it/s]"
     ]
    },
    {
     "name": "stdout",
     "output_type": "stream",
     "text": [
      "Epoch:   6 | Samples:    160/226 | RMSE Loss: 0.6479 | MSE Loss: 0.6597 | target: -1.0900 | pred: -1.5997\n"
     ]
    },
    {
     "name": "stderr",
     "output_type": "stream",
     "text": [
      "Division 2/5:  19%|██████████████▋                                                              | 194/1015 [00:26<02:04,  6.61it/s]"
     ]
    },
    {
     "name": "stdout",
     "output_type": "stream",
     "text": [
      "Epoch:   6 | Samples:    192/226 | RMSE Loss: 0.6529 | MSE Loss: 0.6946 | target: -1.3700 | pred: -2.0100\n"
     ]
    },
    {
     "name": "stderr",
     "output_type": "stream",
     "text": [
      "Division 2/5:  22%|█████████████████▏                                                           | 226/1015 [00:31<01:48,  7.29it/s]\n"
     ]
    },
    {
     "name": "stdout",
     "output_type": "stream",
     "text": [
      "Epoch:   6 | Samples:    224/226 | RMSE Loss: 0.6449 | MSE Loss: 0.6754 | target: -2.0500 | pred: -1.9930\n"
     ]
    },
    {
     "name": "stderr",
     "output_type": "stream",
     "text": [
      "Division 2/5:   0%|▏                                                                              | 3/1015 [00:00<01:59,  8.48it/s]"
     ]
    },
    {
     "name": "stdout",
     "output_type": "stream",
     "text": [
      "Epoch:   7 | Samples:      0/226 | RMSE Loss: 1.5467 | MSE Loss: 2.3922 | target: -4.5540 | pred: -3.0073\n"
     ]
    },
    {
     "name": "stderr",
     "output_type": "stream",
     "text": [
      "Division 2/5:   3%|██▌                                                                           | 34/1015 [00:04<02:19,  7.05it/s]"
     ]
    },
    {
     "name": "stdout",
     "output_type": "stream",
     "text": [
      "Epoch:   7 | Samples:     32/226 | RMSE Loss: 0.7319 | MSE Loss: 0.8064 | target: -3.8960 | pred: -5.2316\n"
     ]
    },
    {
     "name": "stderr",
     "output_type": "stream",
     "text": [
      "Division 2/5:   7%|█████                                                                         | 66/1015 [00:08<02:26,  6.49it/s]"
     ]
    },
    {
     "name": "stdout",
     "output_type": "stream",
     "text": [
      "Epoch:   7 | Samples:     64/226 | RMSE Loss: 0.6550 | MSE Loss: 0.6474 | target: -4.1000 | pred: -4.4496\n"
     ]
    },
    {
     "name": "stderr",
     "output_type": "stream",
     "text": [
      "Division 2/5:  10%|███████▌                                                                      | 98/1015 [00:12<01:59,  7.65it/s]"
     ]
    },
    {
     "name": "stdout",
     "output_type": "stream",
     "text": [
      "Epoch:   7 | Samples:     96/226 | RMSE Loss: 0.6582 | MSE Loss: 0.6751 | target: -1.3300 | pred: -1.4541\n"
     ]
    },
    {
     "name": "stderr",
     "output_type": "stream",
     "text": [
      "Division 2/5:  13%|█████████▊                                                                   | 130/1015 [00:17<01:46,  8.32it/s]"
     ]
    },
    {
     "name": "stdout",
     "output_type": "stream",
     "text": [
      "Epoch:   7 | Samples:    128/226 | RMSE Loss: 0.6254 | MSE Loss: 0.6087 | target: 0.0090 | pred: 0.4131\n"
     ]
    },
    {
     "name": "stderr",
     "output_type": "stream",
     "text": [
      "Division 2/5:  16%|████████████▏                                                                | 160/1015 [00:21<01:47,  7.96it/s]"
     ]
    },
    {
     "name": "stdout",
     "output_type": "stream",
     "text": [
      "Epoch:   7 | Samples:    160/226 | RMSE Loss: 0.6230 | MSE Loss: 0.6108 | target: -1.0900 | pred: -1.5782\n"
     ]
    },
    {
     "name": "stderr",
     "output_type": "stream",
     "text": [
      "Division 2/5:  19%|██████████████▋                                                              | 194/1015 [00:26<02:04,  6.60it/s]"
     ]
    },
    {
     "name": "stdout",
     "output_type": "stream",
     "text": [
      "Epoch:   7 | Samples:    192/226 | RMSE Loss: 0.6250 | MSE Loss: 0.6323 | target: -1.3700 | pred: -1.9769\n"
     ]
    },
    {
     "name": "stderr",
     "output_type": "stream",
     "text": [
      "Division 2/5:  22%|█████████████████▏                                                           | 226/1015 [00:30<01:48,  7.29it/s]\n"
     ]
    },
    {
     "name": "stdout",
     "output_type": "stream",
     "text": [
      "Epoch:   7 | Samples:    224/226 | RMSE Loss: 0.6179 | MSE Loss: 0.6170 | target: -2.0500 | pred: -1.9747\n"
     ]
    },
    {
     "name": "stderr",
     "output_type": "stream",
     "text": [
      "Division 2/5:   0%|▏                                                                              | 3/1015 [00:00<01:59,  8.50it/s]"
     ]
    },
    {
     "name": "stdout",
     "output_type": "stream",
     "text": [
      "Epoch:   8 | Samples:      0/226 | RMSE Loss: 1.4655 | MSE Loss: 2.1478 | target: -4.5540 | pred: -3.0885\n"
     ]
    },
    {
     "name": "stderr",
     "output_type": "stream",
     "text": [
      "Division 2/5:   3%|██▌                                                                           | 34/1015 [00:04<02:18,  7.11it/s]"
     ]
    },
    {
     "name": "stdout",
     "output_type": "stream",
     "text": [
      "Epoch:   8 | Samples:     32/226 | RMSE Loss: 0.7052 | MSE Loss: 0.7424 | target: -3.8960 | pred: -5.2208\n"
     ]
    },
    {
     "name": "stderr",
     "output_type": "stream",
     "text": [
      "Division 2/5:   7%|█████                                                                         | 66/1015 [00:08<02:27,  6.43it/s]"
     ]
    },
    {
     "name": "stdout",
     "output_type": "stream",
     "text": [
      "Epoch:   8 | Samples:     64/226 | RMSE Loss: 0.6274 | MSE Loss: 0.5939 | target: -4.1000 | pred: -4.4625\n"
     ]
    },
    {
     "name": "stderr",
     "output_type": "stream",
     "text": [
      "Division 2/5:  10%|███████▌                                                                      | 98/1015 [00:12<02:00,  7.62it/s]"
     ]
    },
    {
     "name": "stdout",
     "output_type": "stream",
     "text": [
      "Epoch:   8 | Samples:     96/226 | RMSE Loss: 0.6387 | MSE Loss: 0.6404 | target: -1.3300 | pred: -1.4040\n"
     ]
    },
    {
     "name": "stderr",
     "output_type": "stream",
     "text": [
      "Division 2/5:  13%|█████████▊                                                                   | 130/1015 [00:17<01:46,  8.33it/s]"
     ]
    },
    {
     "name": "stdout",
     "output_type": "stream",
     "text": [
      "Epoch:   8 | Samples:    128/226 | RMSE Loss: 0.6071 | MSE Loss: 0.5735 | target: 0.0090 | pred: 0.5020\n"
     ]
    },
    {
     "name": "stderr",
     "output_type": "stream",
     "text": [
      "Division 2/5:  16%|████████████▏                                                                | 160/1015 [00:21<01:48,  7.89it/s]"
     ]
    },
    {
     "name": "stdout",
     "output_type": "stream",
     "text": [
      "Epoch:   8 | Samples:    160/226 | RMSE Loss: 0.6043 | MSE Loss: 0.5736 | target: -1.0900 | pred: -1.5762\n"
     ]
    },
    {
     "name": "stderr",
     "output_type": "stream",
     "text": [
      "Division 2/5:  19%|██████████████▋                                                              | 194/1015 [00:26<02:05,  6.56it/s]"
     ]
    },
    {
     "name": "stdout",
     "output_type": "stream",
     "text": [
      "Epoch:   8 | Samples:    192/226 | RMSE Loss: 0.6037 | MSE Loss: 0.5859 | target: -1.3700 | pred: -1.9493\n"
     ]
    },
    {
     "name": "stderr",
     "output_type": "stream",
     "text": [
      "Division 2/5:  22%|█████████████████▏                                                           | 226/1015 [00:31<01:48,  7.29it/s]\n"
     ]
    },
    {
     "name": "stdout",
     "output_type": "stream",
     "text": [
      "Epoch:   8 | Samples:    224/226 | RMSE Loss: 0.5973 | MSE Loss: 0.5749 | target: -2.0500 | pred: -1.9474\n"
     ]
    },
    {
     "name": "stderr",
     "output_type": "stream",
     "text": [
      "Division 2/5:   0%|▏                                                                              | 3/1015 [00:00<02:01,  8.33it/s]"
     ]
    },
    {
     "name": "stdout",
     "output_type": "stream",
     "text": [
      "Epoch:   9 | Samples:      0/226 | RMSE Loss: 1.3774 | MSE Loss: 1.8972 | target: -4.5540 | pred: -3.1766\n"
     ]
    },
    {
     "name": "stderr",
     "output_type": "stream",
     "text": [
      "Division 2/5:   3%|██▌                                                                           | 34/1015 [00:04<02:18,  7.09it/s]"
     ]
    },
    {
     "name": "stdout",
     "output_type": "stream",
     "text": [
      "Epoch:   9 | Samples:     32/226 | RMSE Loss: 0.6813 | MSE Loss: 0.6910 | target: -3.8960 | pred: -5.2149\n"
     ]
    },
    {
     "name": "stderr",
     "output_type": "stream",
     "text": [
      "Division 2/5:   7%|█████                                                                         | 66/1015 [00:08<02:27,  6.43it/s]"
     ]
    },
    {
     "name": "stdout",
     "output_type": "stream",
     "text": [
      "Epoch:   9 | Samples:     64/226 | RMSE Loss: 0.6016 | MSE Loss: 0.5497 | target: -4.1000 | pred: -4.4660\n"
     ]
    },
    {
     "name": "stderr",
     "output_type": "stream",
     "text": [
      "Division 2/5:  10%|███████▌                                                                      | 98/1015 [00:12<01:59,  7.64it/s]"
     ]
    },
    {
     "name": "stdout",
     "output_type": "stream",
     "text": [
      "Epoch:   9 | Samples:     96/226 | RMSE Loss: 0.6193 | MSE Loss: 0.6093 | target: -1.3300 | pred: -1.3595\n"
     ]
    },
    {
     "name": "stderr",
     "output_type": "stream",
     "text": [
      "Division 2/5:  13%|█████████▊                                                                   | 130/1015 [00:17<01:47,  8.22it/s]"
     ]
    },
    {
     "name": "stdout",
     "output_type": "stream",
     "text": [
      "Epoch:   9 | Samples:    128/226 | RMSE Loss: 0.5891 | MSE Loss: 0.5440 | target: 0.0090 | pred: 0.5563\n"
     ]
    },
    {
     "name": "stderr",
     "output_type": "stream",
     "text": [
      "Division 2/5:  16%|████████████▏                                                                | 160/1015 [00:21<01:48,  7.89it/s]"
     ]
    },
    {
     "name": "stdout",
     "output_type": "stream",
     "text": [
      "Epoch:   9 | Samples:    160/226 | RMSE Loss: 0.5862 | MSE Loss: 0.5439 | target: -1.0900 | pred: -1.5686\n"
     ]
    },
    {
     "name": "stderr",
     "output_type": "stream",
     "text": [
      "Division 2/5:  19%|██████████████▋                                                              | 194/1015 [00:26<02:03,  6.65it/s]"
     ]
    },
    {
     "name": "stdout",
     "output_type": "stream",
     "text": [
      "Epoch:   9 | Samples:    192/226 | RMSE Loss: 0.5837 | MSE Loss: 0.5485 | target: -1.3700 | pred: -1.9226\n"
     ]
    },
    {
     "name": "stderr",
     "output_type": "stream",
     "text": [
      "Division 2/5:  22%|█████████████████▏                                                           | 226/1015 [00:31<01:49,  7.23it/s]\n"
     ]
    },
    {
     "name": "stdout",
     "output_type": "stream",
     "text": [
      "Epoch:   9 | Samples:    224/226 | RMSE Loss: 0.5777 | MSE Loss: 0.5405 | target: -2.0500 | pred: -1.9279\n"
     ]
    },
    {
     "name": "stderr",
     "output_type": "stream",
     "text": [
      "Division 3/5:   0%|▏                                                                              | 3/1015 [00:00<01:59,  8.46it/s]"
     ]
    },
    {
     "name": "stdout",
     "output_type": "stream",
     "text": [
      "Epoch:   0 | Samples:      0/352 | RMSE Loss: 4.7525 | MSE Loss: 22.5864 | target: -4.5540 | pred: 0.1985\n"
     ]
    },
    {
     "name": "stderr",
     "output_type": "stream",
     "text": [
      "Division 3/5:   3%|██▌                                                                           | 34/1015 [00:04<02:17,  7.11it/s]"
     ]
    },
    {
     "name": "stdout",
     "output_type": "stream",
     "text": [
      "Epoch:   0 | Samples:     32/352 | RMSE Loss: 2.1058 | MSE Loss: 7.5617 | target: -3.8960 | pred: -2.6679\n"
     ]
    },
    {
     "name": "stderr",
     "output_type": "stream",
     "text": [
      "Division 3/5:   7%|█████                                                                         | 66/1015 [00:08<02:29,  6.35it/s]"
     ]
    },
    {
     "name": "stdout",
     "output_type": "stream",
     "text": [
      "Epoch:   0 | Samples:     64/352 | RMSE Loss: 1.7651 | MSE Loss: 5.2831 | target: -4.1000 | pred: -3.5583\n"
     ]
    },
    {
     "name": "stderr",
     "output_type": "stream",
     "text": [
      "Division 3/5:  10%|███████▌                                                                      | 98/1015 [00:12<01:59,  7.66it/s]"
     ]
    },
    {
     "name": "stdout",
     "output_type": "stream",
     "text": [
      "Epoch:   0 | Samples:     96/352 | RMSE Loss: 1.6309 | MSE Loss: 4.5435 | target: -1.3300 | pred: -2.1832\n"
     ]
    },
    {
     "name": "stderr",
     "output_type": "stream",
     "text": [
      "Division 3/5:  13%|█████████▊                                                                   | 130/1015 [00:17<01:46,  8.28it/s]"
     ]
    },
    {
     "name": "stdout",
     "output_type": "stream",
     "text": [
      "Epoch:   0 | Samples:    128/352 | RMSE Loss: 1.4821 | MSE Loss: 3.8174 | target: 0.0090 | pred: -2.4069\n"
     ]
    },
    {
     "name": "stderr",
     "output_type": "stream",
     "text": [
      "Division 3/5:  16%|████████████▏                                                                | 160/1015 [00:21<01:48,  7.85it/s]"
     ]
    },
    {
     "name": "stdout",
     "output_type": "stream",
     "text": [
      "Epoch:   0 | Samples:    160/352 | RMSE Loss: 1.4770 | MSE Loss: 3.7448 | target: -1.0900 | pred: -2.3452\n"
     ]
    },
    {
     "name": "stderr",
     "output_type": "stream",
     "text": [
      "Division 3/5:  19%|██████████████▋                                                              | 194/1015 [00:26<02:04,  6.60it/s]"
     ]
    },
    {
     "name": "stdout",
     "output_type": "stream",
     "text": [
      "Epoch:   0 | Samples:    192/352 | RMSE Loss: 1.4562 | MSE Loss: 3.6581 | target: -1.3700 | pred: -2.0852\n"
     ]
    },
    {
     "name": "stderr",
     "output_type": "stream",
     "text": [
      "Division 3/5:  22%|█████████████████▏                                                           | 226/1015 [00:31<01:26,  9.09it/s]"
     ]
    },
    {
     "name": "stdout",
     "output_type": "stream",
     "text": [
      "Epoch:   0 | Samples:    224/352 | RMSE Loss: 1.4356 | MSE Loss: 3.6244 | target: -2.0500 | pred: -2.3729\n"
     ]
    },
    {
     "name": "stderr",
     "output_type": "stream",
     "text": [
      "Division 3/5:  25%|███████████████████▍                                                         | 257/1015 [00:36<01:51,  6.78it/s]"
     ]
    },
    {
     "name": "stdout",
     "output_type": "stream",
     "text": [
      "Epoch:   0 | Samples:    256/352 | RMSE Loss: 1.4405 | MSE Loss: 3.5493 | target: -4.4200 | pred: -5.7333\n"
     ]
    },
    {
     "name": "stderr",
     "output_type": "stream",
     "text": [
      "Division 3/5:  28%|█████████████████████▉                                                       | 289/1015 [00:40<02:10,  5.56it/s]"
     ]
    },
    {
     "name": "stdout",
     "output_type": "stream",
     "text": [
      "Epoch:   0 | Samples:    288/352 | RMSE Loss: 1.4285 | MSE Loss: 3.4842 | target: -2.3690 | pred: -2.1529\n"
     ]
    },
    {
     "name": "stderr",
     "output_type": "stream",
     "text": [
      "Division 3/5:  32%|████████████████████████▌                                                    | 323/1015 [00:45<01:23,  8.32it/s]"
     ]
    },
    {
     "name": "stdout",
     "output_type": "stream",
     "text": [
      "Epoch:   0 | Samples:    320/352 | RMSE Loss: 1.3789 | MSE Loss: 3.3076 | target: -3.3500 | pred: -3.7112\n"
     ]
    },
    {
     "name": "stderr",
     "output_type": "stream",
     "text": [
      "Division 3/5:  35%|██████████████████████████▋                                                  | 352/1015 [00:50<01:34,  7.02it/s]\n",
      "Division 3/5:   0%|▏                                                                              | 3/1015 [00:00<02:04,  8.12it/s]"
     ]
    },
    {
     "name": "stdout",
     "output_type": "stream",
     "text": [
      "Epoch:   1 | Samples:      0/352 | RMSE Loss: 1.7682 | MSE Loss: 3.1264 | target: -4.5540 | pred: -2.7858\n"
     ]
    },
    {
     "name": "stderr",
     "output_type": "stream",
     "text": [
      "Division 3/5:   3%|██▌                                                                           | 34/1015 [00:04<02:18,  7.10it/s]"
     ]
    },
    {
     "name": "stdout",
     "output_type": "stream",
     "text": [
      "Epoch:   1 | Samples:     32/352 | RMSE Loss: 1.1480 | MSE Loss: 1.9840 | target: -3.8960 | pred: -3.9641\n"
     ]
    },
    {
     "name": "stderr",
     "output_type": "stream",
     "text": [
      "Division 3/5:   7%|█████                                                                         | 66/1015 [00:09<02:27,  6.43it/s]"
     ]
    },
    {
     "name": "stdout",
     "output_type": "stream",
     "text": [
      "Epoch:   1 | Samples:     64/352 | RMSE Loss: 1.0163 | MSE Loss: 1.5572 | target: -4.1000 | pred: -3.4222\n"
     ]
    },
    {
     "name": "stderr",
     "output_type": "stream",
     "text": [
      "Division 3/5:  10%|███████▌                                                                      | 98/1015 [00:13<01:58,  7.75it/s]"
     ]
    },
    {
     "name": "stdout",
     "output_type": "stream",
     "text": [
      "Epoch:   1 | Samples:     96/352 | RMSE Loss: 0.9464 | MSE Loss: 1.3979 | target: -1.3300 | pred: -1.9584\n"
     ]
    },
    {
     "name": "stderr",
     "output_type": "stream",
     "text": [
      "Division 3/5:  13%|█████████▊                                                                   | 130/1015 [00:17<01:46,  8.32it/s]"
     ]
    },
    {
     "name": "stdout",
     "output_type": "stream",
     "text": [
      "Epoch:   1 | Samples:    128/352 | RMSE Loss: 0.8839 | MSE Loss: 1.2669 | target: 0.0090 | pred: -0.9872\n"
     ]
    },
    {
     "name": "stderr",
     "output_type": "stream",
     "text": [
      "Division 3/5:  16%|████████████▏                                                                | 160/1015 [00:21<01:48,  7.91it/s]"
     ]
    },
    {
     "name": "stdout",
     "output_type": "stream",
     "text": [
      "Epoch:   1 | Samples:    160/352 | RMSE Loss: 0.9132 | MSE Loss: 1.3078 | target: -1.0900 | pred: -1.8718\n"
     ]
    },
    {
     "name": "stderr",
     "output_type": "stream",
     "text": [
      "Division 3/5:  19%|██████████████▋                                                              | 194/1015 [00:26<02:04,  6.61it/s]"
     ]
    },
    {
     "name": "stdout",
     "output_type": "stream",
     "text": [
      "Epoch:   1 | Samples:    192/352 | RMSE Loss: 0.9285 | MSE Loss: 1.3919 | target: -1.3700 | pred: -2.0647\n"
     ]
    },
    {
     "name": "stderr",
     "output_type": "stream",
     "text": [
      "Division 3/5:  22%|█████████████████▏                                                           | 226/1015 [00:31<01:28,  8.91it/s]"
     ]
    },
    {
     "name": "stdout",
     "output_type": "stream",
     "text": [
      "Epoch:   1 | Samples:    224/352 | RMSE Loss: 0.9099 | MSE Loss: 1.3475 | target: -2.0500 | pred: -2.0092\n"
     ]
    },
    {
     "name": "stderr",
     "output_type": "stream",
     "text": [
      "Division 3/5:  25%|███████████████████▍                                                         | 257/1015 [00:36<01:53,  6.68it/s]"
     ]
    },
    {
     "name": "stdout",
     "output_type": "stream",
     "text": [
      "Epoch:   1 | Samples:    256/352 | RMSE Loss: 0.9077 | MSE Loss: 1.3210 | target: -4.4200 | pred: -5.6967\n"
     ]
    },
    {
     "name": "stderr",
     "output_type": "stream",
     "text": [
      "Division 3/5:  28%|█████████████████████▉                                                       | 289/1015 [00:41<02:09,  5.59it/s]"
     ]
    },
    {
     "name": "stdout",
     "output_type": "stream",
     "text": [
      "Epoch:   1 | Samples:    288/352 | RMSE Loss: 0.9154 | MSE Loss: 1.3360 | target: -2.3690 | pred: -2.1693\n"
     ]
    },
    {
     "name": "stderr",
     "output_type": "stream",
     "text": [
      "Division 3/5:  32%|████████████████████████▍                                                    | 322/1015 [00:45<01:26,  7.97it/s]"
     ]
    },
    {
     "name": "stdout",
     "output_type": "stream",
     "text": [
      "Epoch:   1 | Samples:    320/352 | RMSE Loss: 0.8915 | MSE Loss: 1.2719 | target: -3.3500 | pred: -3.8585\n"
     ]
    },
    {
     "name": "stderr",
     "output_type": "stream",
     "text": [
      "Division 3/5:  35%|██████████████████████████▋                                                  | 352/1015 [00:50<01:34,  7.00it/s]\n",
      "Division 3/5:   0%|▏                                                                              | 3/1015 [00:00<02:01,  8.32it/s]"
     ]
    },
    {
     "name": "stdout",
     "output_type": "stream",
     "text": [
      "Epoch:   2 | Samples:      0/352 | RMSE Loss: 2.0319 | MSE Loss: 4.1284 | target: -4.5540 | pred: -2.5221\n"
     ]
    },
    {
     "name": "stderr",
     "output_type": "stream",
     "text": [
      "Division 3/5:   3%|██▌                                                                           | 34/1015 [00:04<02:21,  6.94it/s]"
     ]
    },
    {
     "name": "stdout",
     "output_type": "stream",
     "text": [
      "Epoch:   2 | Samples:     32/352 | RMSE Loss: 0.9503 | MSE Loss: 1.3676 | target: -3.8960 | pred: -4.5579\n"
     ]
    },
    {
     "name": "stderr",
     "output_type": "stream",
     "text": [
      "Division 3/5:   7%|█████                                                                         | 66/1015 [00:09<02:28,  6.40it/s]"
     ]
    },
    {
     "name": "stdout",
     "output_type": "stream",
     "text": [
      "Epoch:   2 | Samples:     64/352 | RMSE Loss: 0.8487 | MSE Loss: 1.1050 | target: -4.1000 | pred: -3.6285\n"
     ]
    },
    {
     "name": "stderr",
     "output_type": "stream",
     "text": [
      "Division 3/5:  10%|███████▌                                                                      | 98/1015 [00:13<01:59,  7.69it/s]"
     ]
    },
    {
     "name": "stdout",
     "output_type": "stream",
     "text": [
      "Epoch:   2 | Samples:     96/352 | RMSE Loss: 0.8054 | MSE Loss: 1.0009 | target: -1.3300 | pred: -1.6030\n"
     ]
    },
    {
     "name": "stderr",
     "output_type": "stream",
     "text": [
      "Division 3/5:  13%|█████████▊                                                                   | 130/1015 [00:17<01:47,  8.25it/s]"
     ]
    },
    {
     "name": "stdout",
     "output_type": "stream",
     "text": [
      "Epoch:   2 | Samples:    128/352 | RMSE Loss: 0.7567 | MSE Loss: 0.9246 | target: 0.0090 | pred: -0.2848\n"
     ]
    },
    {
     "name": "stderr",
     "output_type": "stream",
     "text": [
      "Division 3/5:  16%|████████████▏                                                                | 160/1015 [00:21<01:48,  7.91it/s]"
     ]
    },
    {
     "name": "stdout",
     "output_type": "stream",
     "text": [
      "Epoch:   2 | Samples:    160/352 | RMSE Loss: 0.7775 | MSE Loss: 0.9549 | target: -1.0900 | pred: -1.6820\n"
     ]
    },
    {
     "name": "stderr",
     "output_type": "stream",
     "text": [
      "Division 3/5:  19%|██████████████▋                                                              | 194/1015 [00:26<02:04,  6.62it/s]"
     ]
    },
    {
     "name": "stdout",
     "output_type": "stream",
     "text": [
      "Epoch:   2 | Samples:    192/352 | RMSE Loss: 0.7912 | MSE Loss: 1.0270 | target: -1.3700 | pred: -2.0523\n"
     ]
    },
    {
     "name": "stderr",
     "output_type": "stream",
     "text": [
      "Division 3/5:  22%|█████████████████▏                                                           | 226/1015 [00:31<01:28,  8.94it/s]"
     ]
    },
    {
     "name": "stdout",
     "output_type": "stream",
     "text": [
      "Epoch:   2 | Samples:    224/352 | RMSE Loss: 0.7762 | MSE Loss: 0.9801 | target: -2.0500 | pred: -2.0210\n"
     ]
    },
    {
     "name": "stderr",
     "output_type": "stream",
     "text": [
      "Division 3/5:  25%|███████████████████▍                                                         | 257/1015 [00:36<01:52,  6.74it/s]"
     ]
    },
    {
     "name": "stdout",
     "output_type": "stream",
     "text": [
      "Epoch:   2 | Samples:    256/352 | RMSE Loss: 0.7707 | MSE Loss: 0.9578 | target: -4.4200 | pred: -5.3500\n"
     ]
    },
    {
     "name": "stderr",
     "output_type": "stream",
     "text": [
      "Division 3/5:  28%|█████████████████████▉                                                       | 289/1015 [00:41<02:11,  5.52it/s]"
     ]
    },
    {
     "name": "stdout",
     "output_type": "stream",
     "text": [
      "Epoch:   2 | Samples:    288/352 | RMSE Loss: 0.7793 | MSE Loss: 0.9698 | target: -2.3690 | pred: -2.5085\n"
     ]
    },
    {
     "name": "stderr",
     "output_type": "stream",
     "text": [
      "Division 3/5:  32%|████████████████████████▍                                                    | 322/1015 [00:45<01:27,  7.93it/s]"
     ]
    },
    {
     "name": "stdout",
     "output_type": "stream",
     "text": [
      "Epoch:   2 | Samples:    320/352 | RMSE Loss: 0.7629 | MSE Loss: 0.9304 | target: -3.3500 | pred: -3.7286\n"
     ]
    },
    {
     "name": "stderr",
     "output_type": "stream",
     "text": [
      "Division 3/5:  35%|██████████████████████████▋                                                  | 352/1015 [00:50<01:34,  7.00it/s]\n",
      "Division 3/5:   0%|▏                                                                              | 3/1015 [00:00<02:02,  8.26it/s]"
     ]
    },
    {
     "name": "stdout",
     "output_type": "stream",
     "text": [
      "Epoch:   3 | Samples:      0/352 | RMSE Loss: 1.9721 | MSE Loss: 3.8890 | target: -4.5540 | pred: -2.5819\n"
     ]
    },
    {
     "name": "stderr",
     "output_type": "stream",
     "text": [
      "Division 3/5:   3%|██▌                                                                           | 34/1015 [00:04<02:18,  7.09it/s]"
     ]
    },
    {
     "name": "stdout",
     "output_type": "stream",
     "text": [
      "Epoch:   3 | Samples:     32/352 | RMSE Loss: 0.8765 | MSE Loss: 1.0689 | target: -3.8960 | pred: -4.8066\n"
     ]
    },
    {
     "name": "stderr",
     "output_type": "stream",
     "text": [
      "Division 3/5:   7%|█████                                                                         | 66/1015 [00:09<02:27,  6.45it/s]"
     ]
    },
    {
     "name": "stdout",
     "output_type": "stream",
     "text": [
      "Epoch:   3 | Samples:     64/352 | RMSE Loss: 0.7506 | MSE Loss: 0.8531 | target: -4.1000 | pred: -3.8911\n"
     ]
    },
    {
     "name": "stderr",
     "output_type": "stream",
     "text": [
      "Division 3/5:  10%|███████▌                                                                      | 98/1015 [00:13<01:59,  7.69it/s]"
     ]
    },
    {
     "name": "stdout",
     "output_type": "stream",
     "text": [
      "Epoch:   3 | Samples:     96/352 | RMSE Loss: 0.7393 | MSE Loss: 0.8216 | target: -1.3300 | pred: -1.3086\n"
     ]
    },
    {
     "name": "stderr",
     "output_type": "stream",
     "text": [
      "Division 3/5:  13%|█████████▊                                                                   | 130/1015 [00:17<01:46,  8.32it/s]"
     ]
    },
    {
     "name": "stdout",
     "output_type": "stream",
     "text": [
      "Epoch:   3 | Samples:    128/352 | RMSE Loss: 0.6942 | MSE Loss: 0.7562 | target: 0.0090 | pred: 0.0720\n"
     ]
    },
    {
     "name": "stderr",
     "output_type": "stream",
     "text": [
      "Division 3/5:  16%|████████████▏                                                                | 160/1015 [00:21<01:47,  7.95it/s]"
     ]
    },
    {
     "name": "stdout",
     "output_type": "stream",
     "text": [
      "Epoch:   3 | Samples:    160/352 | RMSE Loss: 0.7107 | MSE Loss: 0.7813 | target: -1.0900 | pred: -1.6362\n"
     ]
    },
    {
     "name": "stderr",
     "output_type": "stream",
     "text": [
      "Division 3/5:  19%|██████████████▋                                                              | 194/1015 [00:26<02:05,  6.56it/s]"
     ]
    },
    {
     "name": "stdout",
     "output_type": "stream",
     "text": [
      "Epoch:   3 | Samples:    192/352 | RMSE Loss: 0.7195 | MSE Loss: 0.8213 | target: -1.3700 | pred: -2.0409\n"
     ]
    },
    {
     "name": "stderr",
     "output_type": "stream",
     "text": [
      "Division 3/5:  22%|█████████████████▏                                                           | 226/1015 [00:31<01:27,  9.05it/s]"
     ]
    },
    {
     "name": "stdout",
     "output_type": "stream",
     "text": [
      "Epoch:   3 | Samples:    224/352 | RMSE Loss: 0.7058 | MSE Loss: 0.7859 | target: -2.0500 | pred: -1.9918\n"
     ]
    },
    {
     "name": "stderr",
     "output_type": "stream",
     "text": [
      "Division 3/5:  25%|███████████████████▍                                                         | 257/1015 [00:36<01:52,  6.77it/s]"
     ]
    },
    {
     "name": "stdout",
     "output_type": "stream",
     "text": [
      "Epoch:   3 | Samples:    256/352 | RMSE Loss: 0.7005 | MSE Loss: 0.7676 | target: -4.4200 | pred: -5.1806\n"
     ]
    },
    {
     "name": "stderr",
     "output_type": "stream",
     "text": [
      "Division 3/5:  28%|█████████████████████▉                                                       | 289/1015 [00:41<02:09,  5.62it/s]"
     ]
    },
    {
     "name": "stdout",
     "output_type": "stream",
     "text": [
      "Epoch:   3 | Samples:    288/352 | RMSE Loss: 0.7058 | MSE Loss: 0.7750 | target: -2.3690 | pred: -2.7695\n"
     ]
    },
    {
     "name": "stderr",
     "output_type": "stream",
     "text": [
      "Division 3/5:  32%|████████████████████████▍                                                    | 322/1015 [00:45<01:26,  7.97it/s]"
     ]
    },
    {
     "name": "stdout",
     "output_type": "stream",
     "text": [
      "Epoch:   3 | Samples:    320/352 | RMSE Loss: 0.6950 | MSE Loss: 0.7545 | target: -3.3500 | pred: -3.6702\n"
     ]
    },
    {
     "name": "stderr",
     "output_type": "stream",
     "text": [
      "Division 3/5:  35%|██████████████████████████▋                                                  | 352/1015 [00:50<01:34,  7.02it/s]\n",
      "Division 3/5:   0%|▏                                                                              | 3/1015 [00:00<02:04,  8.14it/s]"
     ]
    },
    {
     "name": "stdout",
     "output_type": "stream",
     "text": [
      "Epoch:   4 | Samples:      0/352 | RMSE Loss: 1.8416 | MSE Loss: 3.3917 | target: -4.5540 | pred: -2.7124\n"
     ]
    },
    {
     "name": "stderr",
     "output_type": "stream",
     "text": [
      "Division 3/5:   3%|██▌                                                                           | 34/1015 [00:04<02:19,  7.01it/s]"
     ]
    },
    {
     "name": "stdout",
     "output_type": "stream",
     "text": [
      "Epoch:   4 | Samples:     32/352 | RMSE Loss: 0.8145 | MSE Loss: 0.8704 | target: -3.8960 | pred: -4.9279\n"
     ]
    },
    {
     "name": "stderr",
     "output_type": "stream",
     "text": [
      "Division 3/5:   7%|█████                                                                         | 66/1015 [00:09<02:26,  6.46it/s]"
     ]
    },
    {
     "name": "stdout",
     "output_type": "stream",
     "text": [
      "Epoch:   4 | Samples:     64/352 | RMSE Loss: 0.6806 | MSE Loss: 0.6995 | target: -4.1000 | pred: -4.0978\n"
     ]
    },
    {
     "name": "stderr",
     "output_type": "stream",
     "text": [
      "Division 3/5:  10%|███████▌                                                                      | 98/1015 [00:13<01:59,  7.65it/s]"
     ]
    },
    {
     "name": "stdout",
     "output_type": "stream",
     "text": [
      "Epoch:   4 | Samples:     96/352 | RMSE Loss: 0.6907 | MSE Loss: 0.7156 | target: -1.3300 | pred: -1.1175\n"
     ]
    },
    {
     "name": "stderr",
     "output_type": "stream",
     "text": [
      "Division 3/5:  13%|█████████▊                                                                   | 130/1015 [00:17<01:46,  8.29it/s]"
     ]
    },
    {
     "name": "stdout",
     "output_type": "stream",
     "text": [
      "Epoch:   4 | Samples:    128/352 | RMSE Loss: 0.6510 | MSE Loss: 0.6513 | target: 0.0090 | pred: 0.2798\n"
     ]
    },
    {
     "name": "stderr",
     "output_type": "stream",
     "text": [
      "Division 3/5:  16%|████████████▏                                                                | 160/1015 [00:21<01:48,  7.87it/s]"
     ]
    },
    {
     "name": "stdout",
     "output_type": "stream",
     "text": [
      "Epoch:   4 | Samples:    160/352 | RMSE Loss: 0.6653 | MSE Loss: 0.6749 | target: -1.0900 | pred: -1.6136\n"
     ]
    },
    {
     "name": "stderr",
     "output_type": "stream",
     "text": [
      "Division 3/5:  19%|██████████████▋                                                              | 194/1015 [00:26<02:03,  6.65it/s]"
     ]
    },
    {
     "name": "stdout",
     "output_type": "stream",
     "text": [
      "Epoch:   4 | Samples:    192/352 | RMSE Loss: 0.6681 | MSE Loss: 0.6926 | target: -1.3700 | pred: -2.0391\n"
     ]
    },
    {
     "name": "stderr",
     "output_type": "stream",
     "text": [
      "Division 3/5:  22%|█████████████████▏                                                           | 226/1015 [00:31<01:28,  8.94it/s]"
     ]
    },
    {
     "name": "stdout",
     "output_type": "stream",
     "text": [
      "Epoch:   4 | Samples:    224/352 | RMSE Loss: 0.6567 | MSE Loss: 0.6675 | target: -2.0500 | pred: -2.0145\n"
     ]
    },
    {
     "name": "stderr",
     "output_type": "stream",
     "text": [
      "Division 3/5:  25%|███████████████████▍                                                         | 257/1015 [00:36<01:52,  6.72it/s]"
     ]
    },
    {
     "name": "stdout",
     "output_type": "stream",
     "text": [
      "Epoch:   4 | Samples:    256/352 | RMSE Loss: 0.6509 | MSE Loss: 0.6519 | target: -4.4200 | pred: -5.1267\n"
     ]
    },
    {
     "name": "stderr",
     "output_type": "stream",
     "text": [
      "Division 3/5:  28%|█████████████████████▉                                                       | 289/1015 [00:41<02:10,  5.58it/s]"
     ]
    },
    {
     "name": "stdout",
     "output_type": "stream",
     "text": [
      "Epoch:   4 | Samples:    288/352 | RMSE Loss: 0.6556 | MSE Loss: 0.6588 | target: -2.3690 | pred: -2.8112\n"
     ]
    },
    {
     "name": "stderr",
     "output_type": "stream",
     "text": [
      "Division 3/5:  32%|████████████████████████▍                                                    | 322/1015 [00:45<01:26,  7.97it/s]"
     ]
    },
    {
     "name": "stdout",
     "output_type": "stream",
     "text": [
      "Epoch:   4 | Samples:    320/352 | RMSE Loss: 0.6462 | MSE Loss: 0.6474 | target: -3.3500 | pred: -3.5783\n"
     ]
    },
    {
     "name": "stderr",
     "output_type": "stream",
     "text": [
      "Division 3/5:  35%|██████████████████████████▋                                                  | 352/1015 [00:50<01:34,  7.00it/s]\n",
      "Division 3/5:   0%|▏                                                                              | 3/1015 [00:00<02:02,  8.28it/s]"
     ]
    },
    {
     "name": "stdout",
     "output_type": "stream",
     "text": [
      "Epoch:   5 | Samples:      0/352 | RMSE Loss: 1.6422 | MSE Loss: 2.6967 | target: -4.5540 | pred: -2.9118\n"
     ]
    },
    {
     "name": "stderr",
     "output_type": "stream",
     "text": [
      "Division 3/5:   3%|██▌                                                                           | 34/1015 [00:04<02:18,  7.06it/s]"
     ]
    },
    {
     "name": "stdout",
     "output_type": "stream",
     "text": [
      "Epoch:   5 | Samples:     32/352 | RMSE Loss: 0.7415 | MSE Loss: 0.7189 | target: -3.8960 | pred: -5.0268\n"
     ]
    },
    {
     "name": "stderr",
     "output_type": "stream",
     "text": [
      "Division 3/5:   7%|█████                                                                         | 66/1015 [00:09<02:28,  6.40it/s]"
     ]
    },
    {
     "name": "stdout",
     "output_type": "stream",
     "text": [
      "Epoch:   5 | Samples:     64/352 | RMSE Loss: 0.6187 | MSE Loss: 0.5856 | target: -4.1000 | pred: -4.2316\n"
     ]
    },
    {
     "name": "stderr",
     "output_type": "stream",
     "text": [
      "Division 3/5:  10%|███████▌                                                                      | 98/1015 [00:13<02:00,  7.64it/s]"
     ]
    },
    {
     "name": "stdout",
     "output_type": "stream",
     "text": [
      "Epoch:   5 | Samples:     96/352 | RMSE Loss: 0.6383 | MSE Loss: 0.6255 | target: -1.3300 | pred: -1.0716\n"
     ]
    },
    {
     "name": "stderr",
     "output_type": "stream",
     "text": [
      "Division 3/5:  13%|█████████▊                                                                   | 130/1015 [00:17<01:46,  8.27it/s]"
     ]
    },
    {
     "name": "stdout",
     "output_type": "stream",
     "text": [
      "Epoch:   5 | Samples:    128/352 | RMSE Loss: 0.6027 | MSE Loss: 0.5639 | target: 0.0090 | pred: 0.4066\n"
     ]
    },
    {
     "name": "stderr",
     "output_type": "stream",
     "text": [
      "Division 3/5:  16%|████████████▏                                                                | 160/1015 [00:21<01:48,  7.86it/s]"
     ]
    },
    {
     "name": "stdout",
     "output_type": "stream",
     "text": [
      "Epoch:   5 | Samples:    160/352 | RMSE Loss: 0.6154 | MSE Loss: 0.5879 | target: -1.0900 | pred: -1.6593\n"
     ]
    },
    {
     "name": "stderr",
     "output_type": "stream",
     "text": [
      "Division 3/5:  19%|██████████████▋                                                              | 194/1015 [00:26<02:04,  6.62it/s]"
     ]
    },
    {
     "name": "stdout",
     "output_type": "stream",
     "text": [
      "Epoch:   5 | Samples:    192/352 | RMSE Loss: 0.6165 | MSE Loss: 0.5979 | target: -1.3700 | pred: -2.0814\n"
     ]
    },
    {
     "name": "stderr",
     "output_type": "stream",
     "text": [
      "Division 3/5:  22%|█████████████████▏                                                           | 226/1015 [00:31<01:27,  8.98it/s]"
     ]
    },
    {
     "name": "stdout",
     "output_type": "stream",
     "text": [
      "Epoch:   5 | Samples:    224/352 | RMSE Loss: 0.6094 | MSE Loss: 0.5833 | target: -2.0500 | pred: -2.0066\n"
     ]
    },
    {
     "name": "stderr",
     "output_type": "stream",
     "text": [
      "Division 3/5:  25%|███████████████████▍                                                         | 257/1015 [00:36<01:52,  6.71it/s]"
     ]
    },
    {
     "name": "stdout",
     "output_type": "stream",
     "text": [
      "Epoch:   5 | Samples:    256/352 | RMSE Loss: 0.6041 | MSE Loss: 0.5705 | target: -4.4200 | pred: -5.0593\n"
     ]
    },
    {
     "name": "stderr",
     "output_type": "stream",
     "text": [
      "Division 3/5:  28%|█████████████████████▉                                                       | 289/1015 [00:41<02:09,  5.62it/s]"
     ]
    },
    {
     "name": "stdout",
     "output_type": "stream",
     "text": [
      "Epoch:   5 | Samples:    288/352 | RMSE Loss: 0.6097 | MSE Loss: 0.5779 | target: -2.3690 | pred: -2.8193\n"
     ]
    },
    {
     "name": "stderr",
     "output_type": "stream",
     "text": [
      "Division 3/5:  32%|████████████████████████▍                                                    | 322/1015 [00:45<01:27,  7.93it/s]"
     ]
    },
    {
     "name": "stdout",
     "output_type": "stream",
     "text": [
      "Epoch:   5 | Samples:    320/352 | RMSE Loss: 0.6026 | MSE Loss: 0.5718 | target: -3.3500 | pred: -3.5389\n"
     ]
    },
    {
     "name": "stderr",
     "output_type": "stream",
     "text": [
      "Division 3/5:  35%|██████████████████████████▋                                                  | 352/1015 [00:50<01:34,  7.00it/s]\n",
      "Division 3/5:   0%|▏                                                                              | 3/1015 [00:00<02:03,  8.23it/s]"
     ]
    },
    {
     "name": "stdout",
     "output_type": "stream",
     "text": [
      "Epoch:   6 | Samples:      0/352 | RMSE Loss: 1.5074 | MSE Loss: 2.2722 | target: -4.5540 | pred: -3.0466\n"
     ]
    },
    {
     "name": "stderr",
     "output_type": "stream",
     "text": [
      "Division 3/5:   3%|██▌                                                                           | 34/1015 [00:04<02:18,  7.10it/s]"
     ]
    },
    {
     "name": "stdout",
     "output_type": "stream",
     "text": [
      "Epoch:   6 | Samples:     32/352 | RMSE Loss: 0.7028 | MSE Loss: 0.6519 | target: -3.8960 | pred: -5.0997\n"
     ]
    },
    {
     "name": "stderr",
     "output_type": "stream",
     "text": [
      "Division 3/5:   7%|█████                                                                         | 66/1015 [00:09<02:27,  6.44it/s]"
     ]
    },
    {
     "name": "stdout",
     "output_type": "stream",
     "text": [
      "Epoch:   6 | Samples:     64/352 | RMSE Loss: 0.5807 | MSE Loss: 0.5271 | target: -4.1000 | pred: -4.2784\n"
     ]
    },
    {
     "name": "stderr",
     "output_type": "stream",
     "text": [
      "Division 3/5:  10%|███████▌                                                                      | 98/1015 [00:13<02:01,  7.55it/s]"
     ]
    },
    {
     "name": "stdout",
     "output_type": "stream",
     "text": [
      "Epoch:   6 | Samples:     96/352 | RMSE Loss: 0.5981 | MSE Loss: 0.5688 | target: -1.3300 | pred: -1.1284\n"
     ]
    },
    {
     "name": "stderr",
     "output_type": "stream",
     "text": [
      "Division 3/5:  13%|█████████▊                                                                   | 130/1015 [00:17<01:47,  8.20it/s]"
     ]
    },
    {
     "name": "stdout",
     "output_type": "stream",
     "text": [
      "Epoch:   6 | Samples:    128/352 | RMSE Loss: 0.5648 | MSE Loss: 0.5102 | target: 0.0090 | pred: 0.5379\n"
     ]
    },
    {
     "name": "stderr",
     "output_type": "stream",
     "text": [
      "Division 3/5:  16%|████████████▏                                                                | 160/1015 [00:21<01:49,  7.84it/s]"
     ]
    },
    {
     "name": "stdout",
     "output_type": "stream",
     "text": [
      "Epoch:   6 | Samples:    160/352 | RMSE Loss: 0.5761 | MSE Loss: 0.5314 | target: -1.0900 | pred: -1.6444\n"
     ]
    },
    {
     "name": "stderr",
     "output_type": "stream",
     "text": [
      "Division 3/5:  19%|██████████████▋                                                              | 194/1015 [00:26<02:04,  6.60it/s]"
     ]
    },
    {
     "name": "stdout",
     "output_type": "stream",
     "text": [
      "Epoch:   6 | Samples:    192/352 | RMSE Loss: 0.5748 | MSE Loss: 0.5317 | target: -1.3700 | pred: -2.0916\n"
     ]
    },
    {
     "name": "stderr",
     "output_type": "stream",
     "text": [
      "Division 3/5:  22%|█████████████████▏                                                           | 226/1015 [00:31<01:26,  9.10it/s]"
     ]
    },
    {
     "name": "stdout",
     "output_type": "stream",
     "text": [
      "Epoch:   6 | Samples:    224/352 | RMSE Loss: 0.5702 | MSE Loss: 0.5221 | target: -2.0500 | pred: -1.9873\n"
     ]
    },
    {
     "name": "stderr",
     "output_type": "stream",
     "text": [
      "Division 3/5:  25%|███████████████████▍                                                         | 257/1015 [00:36<01:53,  6.68it/s]"
     ]
    },
    {
     "name": "stdout",
     "output_type": "stream",
     "text": [
      "Epoch:   6 | Samples:    256/352 | RMSE Loss: 0.5652 | MSE Loss: 0.5110 | target: -4.4200 | pred: -5.0119\n"
     ]
    },
    {
     "name": "stderr",
     "output_type": "stream",
     "text": [
      "Division 3/5:  28%|█████████████████████▉                                                       | 289/1015 [00:41<02:09,  5.61it/s]"
     ]
    },
    {
     "name": "stdout",
     "output_type": "stream",
     "text": [
      "Epoch:   6 | Samples:    288/352 | RMSE Loss: 0.5708 | MSE Loss: 0.5178 | target: -2.3690 | pred: -2.8214\n"
     ]
    },
    {
     "name": "stderr",
     "output_type": "stream",
     "text": [
      "Division 3/5:  32%|████████████████████████▌                                                    | 323/1015 [00:45<01:21,  8.46it/s]"
     ]
    },
    {
     "name": "stdout",
     "output_type": "stream",
     "text": [
      "Epoch:   6 | Samples:    320/352 | RMSE Loss: 0.5655 | MSE Loss: 0.5135 | target: -3.3500 | pred: -3.5094\n"
     ]
    },
    {
     "name": "stderr",
     "output_type": "stream",
     "text": [
      "Division 3/5:  35%|██████████████████████████▋                                                  | 352/1015 [00:50<01:34,  6.99it/s]\n",
      "Division 3/5:   0%|▏                                                                              | 3/1015 [00:00<02:02,  8.25it/s]"
     ]
    },
    {
     "name": "stdout",
     "output_type": "stream",
     "text": [
      "Epoch:   7 | Samples:      0/352 | RMSE Loss: 1.4253 | MSE Loss: 2.0314 | target: -4.5540 | pred: -3.1287\n"
     ]
    },
    {
     "name": "stderr",
     "output_type": "stream",
     "text": [
      "Division 3/5:   3%|██▌                                                                           | 34/1015 [00:04<02:19,  7.02it/s]"
     ]
    },
    {
     "name": "stdout",
     "output_type": "stream",
     "text": [
      "Epoch:   7 | Samples:     32/352 | RMSE Loss: 0.6751 | MSE Loss: 0.6114 | target: -3.8960 | pred: -5.1426\n"
     ]
    },
    {
     "name": "stderr",
     "output_type": "stream",
     "text": [
      "Division 3/5:   7%|█████                                                                         | 66/1015 [00:09<02:27,  6.44it/s]"
     ]
    },
    {
     "name": "stdout",
     "output_type": "stream",
     "text": [
      "Epoch:   7 | Samples:     64/352 | RMSE Loss: 0.5478 | MSE Loss: 0.4838 | target: -4.1000 | pred: -4.3005\n"
     ]
    },
    {
     "name": "stderr",
     "output_type": "stream",
     "text": [
      "Division 3/5:  10%|███████▌                                                                      | 98/1015 [00:13<02:01,  7.58it/s]"
     ]
    },
    {
     "name": "stdout",
     "output_type": "stream",
     "text": [
      "Epoch:   7 | Samples:     96/352 | RMSE Loss: 0.5649 | MSE Loss: 0.5248 | target: -1.3300 | pred: -1.1985\n"
     ]
    },
    {
     "name": "stderr",
     "output_type": "stream",
     "text": [
      "Division 3/5:  13%|█████████▊                                                                   | 130/1015 [00:17<01:47,  8.27it/s]"
     ]
    },
    {
     "name": "stdout",
     "output_type": "stream",
     "text": [
      "Epoch:   7 | Samples:    128/352 | RMSE Loss: 0.5343 | MSE Loss: 0.4706 | target: 0.0090 | pred: 0.5496\n"
     ]
    },
    {
     "name": "stderr",
     "output_type": "stream",
     "text": [
      "Division 3/5:  16%|████████████▏                                                                | 160/1015 [00:21<01:47,  7.92it/s]"
     ]
    },
    {
     "name": "stdout",
     "output_type": "stream",
     "text": [
      "Epoch:   7 | Samples:    160/352 | RMSE Loss: 0.5458 | MSE Loss: 0.4898 | target: -1.0900 | pred: -1.6317\n"
     ]
    },
    {
     "name": "stderr",
     "output_type": "stream",
     "text": [
      "Division 3/5:  19%|██████████████▋                                                              | 194/1015 [00:26<02:05,  6.55it/s]"
     ]
    },
    {
     "name": "stdout",
     "output_type": "stream",
     "text": [
      "Epoch:   7 | Samples:    192/352 | RMSE Loss: 0.5451 | MSE Loss: 0.4873 | target: -1.3700 | pred: -2.1489\n"
     ]
    },
    {
     "name": "stderr",
     "output_type": "stream",
     "text": [
      "Division 3/5:  22%|█████████████████▏                                                           | 226/1015 [00:31<01:27,  9.01it/s]"
     ]
    },
    {
     "name": "stdout",
     "output_type": "stream",
     "text": [
      "Epoch:   7 | Samples:    224/352 | RMSE Loss: 0.5403 | MSE Loss: 0.4787 | target: -2.0500 | pred: -1.9523\n"
     ]
    },
    {
     "name": "stderr",
     "output_type": "stream",
     "text": [
      "Division 3/5:  25%|███████████████████▍                                                         | 257/1015 [00:36<01:52,  6.72it/s]"
     ]
    },
    {
     "name": "stdout",
     "output_type": "stream",
     "text": [
      "Epoch:   7 | Samples:    256/352 | RMSE Loss: 0.5372 | MSE Loss: 0.4704 | target: -4.4200 | pred: -4.9499\n"
     ]
    },
    {
     "name": "stderr",
     "output_type": "stream",
     "text": [
      "Division 3/5:  28%|█████████████████████▉                                                       | 289/1015 [00:41<02:08,  5.66it/s]"
     ]
    },
    {
     "name": "stdout",
     "output_type": "stream",
     "text": [
      "Epoch:   7 | Samples:    288/352 | RMSE Loss: 0.5421 | MSE Loss: 0.4754 | target: -2.3690 | pred: -2.8010\n"
     ]
    },
    {
     "name": "stderr",
     "output_type": "stream",
     "text": [
      "Division 3/5:  32%|████████████████████████▍                                                    | 322/1015 [00:45<01:26,  7.98it/s]"
     ]
    },
    {
     "name": "stdout",
     "output_type": "stream",
     "text": [
      "Epoch:   7 | Samples:    320/352 | RMSE Loss: 0.5378 | MSE Loss: 0.4719 | target: -3.3500 | pred: -3.4945\n"
     ]
    },
    {
     "name": "stderr",
     "output_type": "stream",
     "text": [
      "Division 3/5:  35%|██████████████████████████▋                                                  | 352/1015 [00:50<01:34,  6.99it/s]\n",
      "Division 3/5:   0%|▏                                                                              | 3/1015 [00:00<02:03,  8.18it/s]"
     ]
    },
    {
     "name": "stdout",
     "output_type": "stream",
     "text": [
      "Epoch:   8 | Samples:      0/352 | RMSE Loss: 1.3314 | MSE Loss: 1.7726 | target: -4.5540 | pred: -3.2226\n"
     ]
    },
    {
     "name": "stderr",
     "output_type": "stream",
     "text": [
      "Division 3/5:   3%|██▌                                                                           | 34/1015 [00:04<02:18,  7.09it/s]"
     ]
    },
    {
     "name": "stdout",
     "output_type": "stream",
     "text": [
      "Epoch:   8 | Samples:     32/352 | RMSE Loss: 0.6448 | MSE Loss: 0.5726 | target: -3.8960 | pred: -5.2001\n"
     ]
    },
    {
     "name": "stderr",
     "output_type": "stream",
     "text": [
      "Division 3/5:   7%|█████                                                                         | 66/1015 [00:09<02:27,  6.43it/s]"
     ]
    },
    {
     "name": "stdout",
     "output_type": "stream",
     "text": [
      "Epoch:   8 | Samples:     64/352 | RMSE Loss: 0.5213 | MSE Loss: 0.4438 | target: -4.1000 | pred: -4.3381\n"
     ]
    },
    {
     "name": "stderr",
     "output_type": "stream",
     "text": [
      "Division 3/5:  10%|███████▌                                                                      | 98/1015 [00:13<01:59,  7.68it/s]"
     ]
    },
    {
     "name": "stdout",
     "output_type": "stream",
     "text": [
      "Epoch:   8 | Samples:     96/352 | RMSE Loss: 0.5368 | MSE Loss: 0.4832 | target: -1.3300 | pred: -1.2907\n"
     ]
    },
    {
     "name": "stderr",
     "output_type": "stream",
     "text": [
      "Division 3/5:  13%|█████████▊                                                                   | 130/1015 [00:17<01:47,  8.24it/s]"
     ]
    },
    {
     "name": "stdout",
     "output_type": "stream",
     "text": [
      "Epoch:   8 | Samples:    128/352 | RMSE Loss: 0.5079 | MSE Loss: 0.4335 | target: 0.0090 | pred: 0.5634\n"
     ]
    },
    {
     "name": "stderr",
     "output_type": "stream",
     "text": [
      "Division 3/5:  16%|████████████▏                                                                | 160/1015 [00:21<01:48,  7.90it/s]"
     ]
    },
    {
     "name": "stdout",
     "output_type": "stream",
     "text": [
      "Epoch:   8 | Samples:    160/352 | RMSE Loss: 0.5183 | MSE Loss: 0.4490 | target: -1.0900 | pred: -1.6032\n"
     ]
    },
    {
     "name": "stderr",
     "output_type": "stream",
     "text": [
      "Division 3/5:  19%|██████████████▋                                                              | 194/1015 [00:26<02:03,  6.64it/s]"
     ]
    },
    {
     "name": "stdout",
     "output_type": "stream",
     "text": [
      "Epoch:   8 | Samples:    192/352 | RMSE Loss: 0.5181 | MSE Loss: 0.4450 | target: -1.3700 | pred: -2.1765\n"
     ]
    },
    {
     "name": "stderr",
     "output_type": "stream",
     "text": [
      "Division 3/5:  22%|█████████████████▏                                                           | 226/1015 [00:31<01:27,  9.03it/s]"
     ]
    },
    {
     "name": "stdout",
     "output_type": "stream",
     "text": [
      "Epoch:   8 | Samples:    224/352 | RMSE Loss: 0.5143 | MSE Loss: 0.4396 | target: -2.0500 | pred: -1.9527\n"
     ]
    },
    {
     "name": "stderr",
     "output_type": "stream",
     "text": [
      "Division 3/5:  25%|███████████████████▍                                                         | 257/1015 [00:36<01:53,  6.71it/s]"
     ]
    },
    {
     "name": "stdout",
     "output_type": "stream",
     "text": [
      "Epoch:   8 | Samples:    256/352 | RMSE Loss: 0.5126 | MSE Loss: 0.4337 | target: -4.4200 | pred: -4.8916\n"
     ]
    },
    {
     "name": "stderr",
     "output_type": "stream",
     "text": [
      "Division 3/5:  28%|█████████████████████▉                                                       | 289/1015 [00:41<02:08,  5.63it/s]"
     ]
    },
    {
     "name": "stdout",
     "output_type": "stream",
     "text": [
      "Epoch:   8 | Samples:    288/352 | RMSE Loss: 0.5173 | MSE Loss: 0.4387 | target: -2.3690 | pred: -2.7601\n"
     ]
    },
    {
     "name": "stderr",
     "output_type": "stream",
     "text": [
      "Division 3/5:  32%|████████████████████████▍                                                    | 322/1015 [00:45<01:27,  7.94it/s]"
     ]
    },
    {
     "name": "stdout",
     "output_type": "stream",
     "text": [
      "Epoch:   8 | Samples:    320/352 | RMSE Loss: 0.5127 | MSE Loss: 0.4349 | target: -3.3500 | pred: -3.4747\n"
     ]
    },
    {
     "name": "stderr",
     "output_type": "stream",
     "text": [
      "Division 3/5:  35%|██████████████████████████▋                                                  | 352/1015 [00:50<01:34,  7.00it/s]\n",
      "Division 3/5:   0%|▏                                                                              | 3/1015 [00:00<02:03,  8.17it/s]"
     ]
    },
    {
     "name": "stdout",
     "output_type": "stream",
     "text": [
      "Epoch:   9 | Samples:      0/352 | RMSE Loss: 1.2689 | MSE Loss: 1.6101 | target: -4.5540 | pred: -3.2851\n"
     ]
    },
    {
     "name": "stderr",
     "output_type": "stream",
     "text": [
      "Division 3/5:   3%|██▌                                                                           | 34/1015 [00:04<02:19,  7.05it/s]"
     ]
    },
    {
     "name": "stdout",
     "output_type": "stream",
     "text": [
      "Epoch:   9 | Samples:     32/352 | RMSE Loss: 0.6215 | MSE Loss: 0.5459 | target: -3.8960 | pred: -5.2236\n"
     ]
    },
    {
     "name": "stderr",
     "output_type": "stream",
     "text": [
      "Division 3/5:   7%|█████                                                                         | 66/1015 [00:09<02:29,  6.33it/s]"
     ]
    },
    {
     "name": "stdout",
     "output_type": "stream",
     "text": [
      "Epoch:   9 | Samples:     64/352 | RMSE Loss: 0.4995 | MSE Loss: 0.4170 | target: -4.1000 | pred: -4.3018\n"
     ]
    },
    {
     "name": "stderr",
     "output_type": "stream",
     "text": [
      "Division 3/5:  10%|███████▌                                                                      | 98/1015 [00:13<01:59,  7.68it/s]"
     ]
    },
    {
     "name": "stdout",
     "output_type": "stream",
     "text": [
      "Epoch:   9 | Samples:     96/352 | RMSE Loss: 0.5134 | MSE Loss: 0.4529 | target: -1.3300 | pred: -1.2977\n"
     ]
    },
    {
     "name": "stderr",
     "output_type": "stream",
     "text": [
      "Division 3/5:  13%|█████████▊                                                                   | 130/1015 [00:17<01:47,  8.26it/s]"
     ]
    },
    {
     "name": "stdout",
     "output_type": "stream",
     "text": [
      "Epoch:   9 | Samples:    128/352 | RMSE Loss: 0.4875 | MSE Loss: 0.4079 | target: 0.0090 | pred: 0.5359\n"
     ]
    },
    {
     "name": "stderr",
     "output_type": "stream",
     "text": [
      "Division 3/5:  16%|████████████▏                                                                | 160/1015 [00:21<01:47,  7.95it/s]"
     ]
    },
    {
     "name": "stdout",
     "output_type": "stream",
     "text": [
      "Epoch:   9 | Samples:    160/352 | RMSE Loss: 0.4958 | MSE Loss: 0.4185 | target: -1.0900 | pred: -1.5550\n"
     ]
    },
    {
     "name": "stderr",
     "output_type": "stream",
     "text": [
      "Division 3/5:  19%|██████████████▋                                                              | 194/1015 [00:26<02:05,  6.57it/s]"
     ]
    },
    {
     "name": "stdout",
     "output_type": "stream",
     "text": [
      "Epoch:   9 | Samples:    192/352 | RMSE Loss: 0.4952 | MSE Loss: 0.4115 | target: -1.3700 | pred: -2.1429\n"
     ]
    },
    {
     "name": "stderr",
     "output_type": "stream",
     "text": [
      "Division 3/5:  22%|█████████████████▏                                                           | 226/1015 [00:31<01:27,  8.99it/s]"
     ]
    },
    {
     "name": "stdout",
     "output_type": "stream",
     "text": [
      "Epoch:   9 | Samples:    224/352 | RMSE Loss: 0.4920 | MSE Loss: 0.4084 | target: -2.0500 | pred: -1.9454\n"
     ]
    },
    {
     "name": "stderr",
     "output_type": "stream",
     "text": [
      "Division 3/5:  25%|███████████████████▍                                                         | 257/1015 [00:36<01:53,  6.68it/s]"
     ]
    },
    {
     "name": "stdout",
     "output_type": "stream",
     "text": [
      "Epoch:   9 | Samples:    256/352 | RMSE Loss: 0.4915 | MSE Loss: 0.4048 | target: -4.4200 | pred: -4.8120\n"
     ]
    },
    {
     "name": "stderr",
     "output_type": "stream",
     "text": [
      "Division 3/5:  28%|█████████████████████▉                                                       | 289/1015 [00:41<02:11,  5.54it/s]"
     ]
    },
    {
     "name": "stdout",
     "output_type": "stream",
     "text": [
      "Epoch:   9 | Samples:    288/352 | RMSE Loss: 0.4955 | MSE Loss: 0.4084 | target: -2.3690 | pred: -2.7451\n"
     ]
    },
    {
     "name": "stderr",
     "output_type": "stream",
     "text": [
      "Division 3/5:  32%|████████████████████████▍                                                    | 322/1015 [00:45<01:26,  7.97it/s]"
     ]
    },
    {
     "name": "stdout",
     "output_type": "stream",
     "text": [
      "Epoch:   9 | Samples:    320/352 | RMSE Loss: 0.4908 | MSE Loss: 0.4034 | target: -3.3500 | pred: -3.4641\n"
     ]
    },
    {
     "name": "stderr",
     "output_type": "stream",
     "text": [
      "Division 3/5:  35%|██████████████████████████▋                                                  | 352/1015 [00:50<01:34,  6.99it/s]\n",
      "Division 4/5:   0%|▏                                                                              | 3/1015 [00:00<02:01,  8.30it/s]"
     ]
    },
    {
     "name": "stdout",
     "output_type": "stream",
     "text": [
      "Epoch:   0 | Samples:      0/478 | RMSE Loss: 4.6066 | MSE Loss: 21.2210 | target: -4.5540 | pred: 0.0526\n"
     ]
    },
    {
     "name": "stderr",
     "output_type": "stream",
     "text": [
      "Division 4/5:   3%|██▌                                                                           | 34/1015 [00:04<02:19,  7.05it/s]"
     ]
    },
    {
     "name": "stdout",
     "output_type": "stream",
     "text": [
      "Epoch:   0 | Samples:     32/478 | RMSE Loss: 2.1109 | MSE Loss: 7.5712 | target: -3.8960 | pred: -2.7881\n"
     ]
    },
    {
     "name": "stderr",
     "output_type": "stream",
     "text": [
      "Division 4/5:   7%|█████                                                                         | 66/1015 [00:09<02:28,  6.41it/s]"
     ]
    },
    {
     "name": "stdout",
     "output_type": "stream",
     "text": [
      "Epoch:   0 | Samples:     64/478 | RMSE Loss: 1.7663 | MSE Loss: 5.3043 | target: -4.1000 | pred: -3.8105\n"
     ]
    },
    {
     "name": "stderr",
     "output_type": "stream",
     "text": [
      "Division 4/5:  10%|███████▌                                                                      | 98/1015 [00:13<01:59,  7.68it/s]"
     ]
    },
    {
     "name": "stdout",
     "output_type": "stream",
     "text": [
      "Epoch:   0 | Samples:     96/478 | RMSE Loss: 1.6298 | MSE Loss: 4.5488 | target: -1.3300 | pred: -2.1679\n"
     ]
    },
    {
     "name": "stderr",
     "output_type": "stream",
     "text": [
      "Division 4/5:  13%|█████████▊                                                                   | 130/1015 [00:17<01:47,  8.24it/s]"
     ]
    },
    {
     "name": "stdout",
     "output_type": "stream",
     "text": [
      "Epoch:   0 | Samples:    128/478 | RMSE Loss: 1.4856 | MSE Loss: 3.8318 | target: 0.0090 | pred: -2.4021\n"
     ]
    },
    {
     "name": "stderr",
     "output_type": "stream",
     "text": [
      "Division 4/5:  16%|████████████▏                                                                | 160/1015 [00:21<01:49,  7.84it/s]"
     ]
    },
    {
     "name": "stdout",
     "output_type": "stream",
     "text": [
      "Epoch:   0 | Samples:    160/478 | RMSE Loss: 1.4858 | MSE Loss: 3.7590 | target: -1.0900 | pred: -2.4992\n"
     ]
    },
    {
     "name": "stderr",
     "output_type": "stream",
     "text": [
      "Division 4/5:  19%|██████████████▋                                                              | 194/1015 [00:26<02:04,  6.60it/s]"
     ]
    },
    {
     "name": "stdout",
     "output_type": "stream",
     "text": [
      "Epoch:   0 | Samples:    192/478 | RMSE Loss: 1.4608 | MSE Loss: 3.6679 | target: -1.3700 | pred: -1.9879\n"
     ]
    },
    {
     "name": "stderr",
     "output_type": "stream",
     "text": [
      "Division 4/5:  22%|█████████████████▏                                                           | 226/1015 [00:31<01:26,  9.08it/s]"
     ]
    },
    {
     "name": "stdout",
     "output_type": "stream",
     "text": [
      "Epoch:   0 | Samples:    224/478 | RMSE Loss: 1.4386 | MSE Loss: 3.6419 | target: -2.0500 | pred: -2.4840\n"
     ]
    },
    {
     "name": "stderr",
     "output_type": "stream",
     "text": [
      "Division 4/5:  25%|███████████████████▍                                                         | 257/1015 [00:36<01:52,  6.72it/s]"
     ]
    },
    {
     "name": "stdout",
     "output_type": "stream",
     "text": [
      "Epoch:   0 | Samples:    256/478 | RMSE Loss: 1.4425 | MSE Loss: 3.5626 | target: -4.4200 | pred: -5.4080\n"
     ]
    },
    {
     "name": "stderr",
     "output_type": "stream",
     "text": [
      "Division 4/5:  28%|█████████████████████▉                                                       | 289/1015 [00:41<02:10,  5.57it/s]"
     ]
    },
    {
     "name": "stdout",
     "output_type": "stream",
     "text": [
      "Epoch:   0 | Samples:    288/478 | RMSE Loss: 1.4269 | MSE Loss: 3.4863 | target: -2.3690 | pred: -2.1807\n"
     ]
    },
    {
     "name": "stderr",
     "output_type": "stream",
     "text": [
      "Division 4/5:  32%|████████████████████████▌                                                    | 323/1015 [00:45<01:23,  8.33it/s]"
     ]
    },
    {
     "name": "stdout",
     "output_type": "stream",
     "text": [
      "Epoch:   0 | Samples:    320/478 | RMSE Loss: 1.3777 | MSE Loss: 3.3139 | target: -3.3500 | pred: -3.8477\n"
     ]
    },
    {
     "name": "stderr",
     "output_type": "stream",
     "text": [
      "Division 4/5:  35%|██████████████████████████▊                                                  | 353/1015 [00:50<02:10,  5.06it/s]"
     ]
    },
    {
     "name": "stdout",
     "output_type": "stream",
     "text": [
      "Epoch:   0 | Samples:    352/478 | RMSE Loss: 1.3239 | MSE Loss: 3.1299 | target: -2.1480 | pred: -1.7216\n"
     ]
    },
    {
     "name": "stderr",
     "output_type": "stream",
     "text": [
      "Division 4/5:  38%|█████████████████████████████▎                                               | 386/1015 [00:56<01:36,  6.55it/s]"
     ]
    },
    {
     "name": "stdout",
     "output_type": "stream",
     "text": [
      "Epoch:   0 | Samples:    384/478 | RMSE Loss: 1.3011 | MSE Loss: 3.0097 | target: -3.4990 | pred: -4.8491\n"
     ]
    },
    {
     "name": "stderr",
     "output_type": "stream",
     "text": [
      "Division 4/5:  41%|███████████████████████████████▋                                             | 418/1015 [01:00<01:08,  8.73it/s]"
     ]
    },
    {
     "name": "stdout",
     "output_type": "stream",
     "text": [
      "Epoch:   0 | Samples:    416/478 | RMSE Loss: 1.2769 | MSE Loss: 2.9027 | target: -1.6140 | pred: -1.6592\n"
     ]
    },
    {
     "name": "stderr",
     "output_type": "stream",
     "text": [
      "Division 4/5:  44%|██████████████████████████████████▏                                          | 450/1015 [01:05<00:56,  9.96it/s]"
     ]
    },
    {
     "name": "stdout",
     "output_type": "stream",
     "text": [
      "Epoch:   0 | Samples:    448/478 | RMSE Loss: 1.2627 | MSE Loss: 2.8440 | target: -4.5600 | pred: -4.1876\n"
     ]
    },
    {
     "name": "stderr",
     "output_type": "stream",
     "text": [
      "Division 4/5:  47%|████████████████████████████████████▎                                        | 478/1015 [01:09<01:18,  6.83it/s]\n",
      "Division 4/5:   0%|▏                                                                              | 3/1015 [00:00<01:57,  8.64it/s]"
     ]
    },
    {
     "name": "stdout",
     "output_type": "stream",
     "text": [
      "Epoch:   1 | Samples:      0/478 | RMSE Loss: 1.9523 | MSE Loss: 3.8114 | target: -4.5540 | pred: -2.6017\n"
     ]
    },
    {
     "name": "stderr",
     "output_type": "stream",
     "text": [
      "Division 4/5:   3%|██▌                                                                           | 34/1015 [00:04<02:20,  6.97it/s]"
     ]
    },
    {
     "name": "stdout",
     "output_type": "stream",
     "text": [
      "Epoch:   1 | Samples:     32/478 | RMSE Loss: 1.0766 | MSE Loss: 1.8725 | target: -3.8960 | pred: -4.0932\n"
     ]
    },
    {
     "name": "stderr",
     "output_type": "stream",
     "text": [
      "Division 4/5:   7%|█████                                                                         | 66/1015 [00:08<02:28,  6.41it/s]"
     ]
    },
    {
     "name": "stdout",
     "output_type": "stream",
     "text": [
      "Epoch:   1 | Samples:     64/478 | RMSE Loss: 0.9639 | MSE Loss: 1.5029 | target: -4.1000 | pred: -3.4085\n"
     ]
    },
    {
     "name": "stderr",
     "output_type": "stream",
     "text": [
      "Division 4/5:  10%|███████▌                                                                      | 98/1015 [00:12<01:59,  7.66it/s]"
     ]
    },
    {
     "name": "stdout",
     "output_type": "stream",
     "text": [
      "Epoch:   1 | Samples:     96/478 | RMSE Loss: 0.8723 | MSE Loss: 1.2567 | target: -1.3300 | pred: -2.0937\n"
     ]
    },
    {
     "name": "stderr",
     "output_type": "stream",
     "text": [
      "Division 4/5:  13%|█████████▊                                                                   | 130/1015 [00:17<01:47,  8.22it/s]"
     ]
    },
    {
     "name": "stdout",
     "output_type": "stream",
     "text": [
      "Epoch:   1 | Samples:    128/478 | RMSE Loss: 0.8227 | MSE Loss: 1.1483 | target: 0.0090 | pred: -1.1062\n"
     ]
    },
    {
     "name": "stderr",
     "output_type": "stream",
     "text": [
      "Division 4/5:  16%|████████████▏                                                                | 160/1015 [00:21<01:49,  7.79it/s]"
     ]
    },
    {
     "name": "stdout",
     "output_type": "stream",
     "text": [
      "Epoch:   1 | Samples:    160/478 | RMSE Loss: 0.8452 | MSE Loss: 1.1623 | target: -1.0900 | pred: -1.8106\n"
     ]
    },
    {
     "name": "stderr",
     "output_type": "stream",
     "text": [
      "Division 4/5:  19%|██████████████▋                                                              | 194/1015 [00:26<02:05,  6.55it/s]"
     ]
    },
    {
     "name": "stdout",
     "output_type": "stream",
     "text": [
      "Epoch:   1 | Samples:    192/478 | RMSE Loss: 0.8569 | MSE Loss: 1.2334 | target: -1.3700 | pred: -2.1952\n"
     ]
    },
    {
     "name": "stderr",
     "output_type": "stream",
     "text": [
      "Division 4/5:  22%|█████████████████▏                                                           | 226/1015 [00:31<01:27,  9.03it/s]"
     ]
    },
    {
     "name": "stdout",
     "output_type": "stream",
     "text": [
      "Epoch:   1 | Samples:    224/478 | RMSE Loss: 0.8425 | MSE Loss: 1.1872 | target: -2.0500 | pred: -1.9387\n"
     ]
    },
    {
     "name": "stderr",
     "output_type": "stream",
     "text": [
      "Division 4/5:  25%|███████████████████▍                                                         | 257/1015 [00:36<01:53,  6.67it/s]"
     ]
    },
    {
     "name": "stdout",
     "output_type": "stream",
     "text": [
      "Epoch:   1 | Samples:    256/478 | RMSE Loss: 0.8394 | MSE Loss: 1.1617 | target: -4.4200 | pred: -5.2039\n"
     ]
    },
    {
     "name": "stderr",
     "output_type": "stream",
     "text": [
      "Division 4/5:  28%|█████████████████████▉                                                       | 289/1015 [00:41<02:10,  5.55it/s]"
     ]
    },
    {
     "name": "stdout",
     "output_type": "stream",
     "text": [
      "Epoch:   1 | Samples:    288/478 | RMSE Loss: 0.8494 | MSE Loss: 1.1763 | target: -2.3690 | pred: -2.4239\n"
     ]
    },
    {
     "name": "stderr",
     "output_type": "stream",
     "text": [
      "Division 4/5:  32%|████████████████████████▍                                                    | 322/1015 [00:45<01:27,  7.96it/s]"
     ]
    },
    {
     "name": "stdout",
     "output_type": "stream",
     "text": [
      "Epoch:   1 | Samples:    320/478 | RMSE Loss: 0.8376 | MSE Loss: 1.1347 | target: -3.3500 | pred: -4.1902\n"
     ]
    },
    {
     "name": "stderr",
     "output_type": "stream",
     "text": [
      "Division 4/5:  35%|██████████████████████████▊                                                  | 353/1015 [00:50<02:12,  5.00it/s]"
     ]
    },
    {
     "name": "stdout",
     "output_type": "stream",
     "text": [
      "Epoch:   1 | Samples:    352/478 | RMSE Loss: 0.8363 | MSE Loss: 1.1476 | target: -2.1480 | pred: -1.3709\n"
     ]
    },
    {
     "name": "stderr",
     "output_type": "stream",
     "text": [
      "Division 4/5:  38%|█████████████████████████████▎                                               | 386/1015 [00:56<01:36,  6.53it/s]"
     ]
    },
    {
     "name": "stdout",
     "output_type": "stream",
     "text": [
      "Epoch:   1 | Samples:    384/478 | RMSE Loss: 0.8362 | MSE Loss: 1.1444 | target: -3.4990 | pred: -5.1377\n"
     ]
    },
    {
     "name": "stderr",
     "output_type": "stream",
     "text": [
      "Division 4/5:  41%|███████████████████████████████▋                                             | 417/1015 [01:00<01:04,  9.26it/s]"
     ]
    },
    {
     "name": "stdout",
     "output_type": "stream",
     "text": [
      "Epoch:   1 | Samples:    416/478 | RMSE Loss: 0.8287 | MSE Loss: 1.1281 | target: -1.6140 | pred: -1.9108\n"
     ]
    },
    {
     "name": "stderr",
     "output_type": "stream",
     "text": [
      "Division 4/5:  44%|██████████████████████████████████▏                                          | 450/1015 [01:05<00:56, 10.00it/s]"
     ]
    },
    {
     "name": "stdout",
     "output_type": "stream",
     "text": [
      "Epoch:   1 | Samples:    448/478 | RMSE Loss: 0.8214 | MSE Loss: 1.1111 | target: -4.5600 | pred: -4.3164\n"
     ]
    },
    {
     "name": "stderr",
     "output_type": "stream",
     "text": [
      "Division 4/5:  47%|████████████████████████████████████▎                                        | 478/1015 [01:09<01:18,  6.84it/s]\n",
      "Division 4/5:   0%|▏                                                                              | 3/1015 [00:00<01:56,  8.68it/s]"
     ]
    },
    {
     "name": "stdout",
     "output_type": "stream",
     "text": [
      "Epoch:   2 | Samples:      0/478 | RMSE Loss: 1.9886 | MSE Loss: 3.9544 | target: -4.5540 | pred: -2.5654\n"
     ]
    },
    {
     "name": "stderr",
     "output_type": "stream",
     "text": [
      "Division 4/5:   3%|██▌                                                                           | 34/1015 [00:04<02:21,  6.93it/s]"
     ]
    },
    {
     "name": "stdout",
     "output_type": "stream",
     "text": [
      "Epoch:   2 | Samples:     32/478 | RMSE Loss: 0.9011 | MSE Loss: 1.3458 | target: -3.8960 | pred: -4.7896\n"
     ]
    },
    {
     "name": "stderr",
     "output_type": "stream",
     "text": [
      "Division 4/5:   7%|█████                                                                         | 66/1015 [00:08<02:28,  6.39it/s]"
     ]
    },
    {
     "name": "stdout",
     "output_type": "stream",
     "text": [
      "Epoch:   2 | Samples:     64/478 | RMSE Loss: 0.8186 | MSE Loss: 1.1108 | target: -4.1000 | pred: -3.8219\n"
     ]
    },
    {
     "name": "stderr",
     "output_type": "stream",
     "text": [
      "Division 4/5:  10%|███████▌                                                                      | 98/1015 [00:12<01:59,  7.67it/s]"
     ]
    },
    {
     "name": "stdout",
     "output_type": "stream",
     "text": [
      "Epoch:   2 | Samples:     96/478 | RMSE Loss: 0.7755 | MSE Loss: 0.9698 | target: -1.3300 | pred: -1.6815\n"
     ]
    },
    {
     "name": "stderr",
     "output_type": "stream",
     "text": [
      "Division 4/5:  13%|█████████▊                                                                   | 130/1015 [00:17<01:46,  8.31it/s]"
     ]
    },
    {
     "name": "stdout",
     "output_type": "stream",
     "text": [
      "Epoch:   2 | Samples:    128/478 | RMSE Loss: 0.7349 | MSE Loss: 0.8876 | target: 0.0090 | pred: -0.4989\n"
     ]
    },
    {
     "name": "stderr",
     "output_type": "stream",
     "text": [
      "Division 4/5:  16%|████████████▏                                                                | 160/1015 [00:21<01:48,  7.90it/s]"
     ]
    },
    {
     "name": "stdout",
     "output_type": "stream",
     "text": [
      "Epoch:   2 | Samples:    160/478 | RMSE Loss: 0.7391 | MSE Loss: 0.8811 | target: -1.0900 | pred: -1.6485\n"
     ]
    },
    {
     "name": "stderr",
     "output_type": "stream",
     "text": [
      "Division 4/5:  19%|██████████████▋                                                              | 194/1015 [00:26<02:03,  6.64it/s]"
     ]
    },
    {
     "name": "stdout",
     "output_type": "stream",
     "text": [
      "Epoch:   2 | Samples:    192/478 | RMSE Loss: 0.7473 | MSE Loss: 0.9303 | target: -1.3700 | pred: -2.1329\n"
     ]
    },
    {
     "name": "stderr",
     "output_type": "stream",
     "text": [
      "Division 4/5:  22%|█████████████████▏                                                           | 226/1015 [00:31<01:27,  9.02it/s]"
     ]
    },
    {
     "name": "stdout",
     "output_type": "stream",
     "text": [
      "Epoch:   2 | Samples:    224/478 | RMSE Loss: 0.7316 | MSE Loss: 0.8959 | target: -2.0500 | pred: -1.9322\n"
     ]
    },
    {
     "name": "stderr",
     "output_type": "stream",
     "text": [
      "Division 4/5:  25%|███████████████████▍                                                         | 257/1015 [00:36<01:53,  6.70it/s]"
     ]
    },
    {
     "name": "stdout",
     "output_type": "stream",
     "text": [
      "Epoch:   2 | Samples:    256/478 | RMSE Loss: 0.7279 | MSE Loss: 0.8751 | target: -4.4200 | pred: -4.9008\n"
     ]
    },
    {
     "name": "stderr",
     "output_type": "stream",
     "text": [
      "Division 4/5:  28%|█████████████████████▉                                                       | 289/1015 [00:41<02:11,  5.54it/s]"
     ]
    },
    {
     "name": "stdout",
     "output_type": "stream",
     "text": [
      "Epoch:   2 | Samples:    288/478 | RMSE Loss: 0.7397 | MSE Loss: 0.8884 | target: -2.3690 | pred: -2.8721\n"
     ]
    },
    {
     "name": "stderr",
     "output_type": "stream",
     "text": [
      "Division 4/5:  32%|████████████████████████▍                                                    | 322/1015 [00:45<01:27,  7.95it/s]"
     ]
    },
    {
     "name": "stdout",
     "output_type": "stream",
     "text": [
      "Epoch:   2 | Samples:    320/478 | RMSE Loss: 0.7330 | MSE Loss: 0.8705 | target: -3.3500 | pred: -4.1747\n"
     ]
    },
    {
     "name": "stderr",
     "output_type": "stream",
     "text": [
      "Division 4/5:  35%|██████████████████████████▊                                                  | 353/1015 [00:50<02:11,  5.03it/s]"
     ]
    },
    {
     "name": "stdout",
     "output_type": "stream",
     "text": [
      "Epoch:   2 | Samples:    352/478 | RMSE Loss: 0.7396 | MSE Loss: 0.8998 | target: -2.1480 | pred: -1.6265\n"
     ]
    },
    {
     "name": "stderr",
     "output_type": "stream",
     "text": [
      "Division 4/5:  38%|█████████████████████████████▎                                               | 386/1015 [00:56<01:35,  6.56it/s]"
     ]
    },
    {
     "name": "stdout",
     "output_type": "stream",
     "text": [
      "Epoch:   2 | Samples:    384/478 | RMSE Loss: 0.7408 | MSE Loss: 0.8965 | target: -3.4990 | pred: -5.0889\n"
     ]
    },
    {
     "name": "stderr",
     "output_type": "stream",
     "text": [
      "Division 4/5:  41%|███████████████████████████████▋                                             | 417/1015 [01:00<01:04,  9.28it/s]"
     ]
    },
    {
     "name": "stdout",
     "output_type": "stream",
     "text": [
      "Epoch:   2 | Samples:    416/478 | RMSE Loss: 0.7327 | MSE Loss: 0.8841 | target: -1.6140 | pred: -2.1956\n"
     ]
    },
    {
     "name": "stderr",
     "output_type": "stream",
     "text": [
      "Division 4/5:  44%|██████████████████████████████████▏                                          | 450/1015 [01:05<00:56,  9.97it/s]"
     ]
    },
    {
     "name": "stdout",
     "output_type": "stream",
     "text": [
      "Epoch:   2 | Samples:    448/478 | RMSE Loss: 0.7290 | MSE Loss: 0.8713 | target: -4.5600 | pred: -4.1092\n"
     ]
    },
    {
     "name": "stderr",
     "output_type": "stream",
     "text": [
      "Division 4/5:  47%|████████████████████████████████████▎                                        | 478/1015 [01:09<01:18,  6.85it/s]\n",
      "Division 4/5:   0%|▏                                                                              | 3/1015 [00:00<01:57,  8.64it/s]"
     ]
    },
    {
     "name": "stdout",
     "output_type": "stream",
     "text": [
      "Epoch:   3 | Samples:      0/478 | RMSE Loss: 1.8100 | MSE Loss: 3.2761 | target: -4.5540 | pred: -2.7440\n"
     ]
    },
    {
     "name": "stderr",
     "output_type": "stream",
     "text": [
      "Division 4/5:   3%|██▌                                                                           | 34/1015 [00:04<02:21,  6.92it/s]"
     ]
    },
    {
     "name": "stdout",
     "output_type": "stream",
     "text": [
      "Epoch:   3 | Samples:     32/478 | RMSE Loss: 0.7970 | MSE Loss: 1.0170 | target: -3.8960 | pred: -5.1806\n"
     ]
    },
    {
     "name": "stderr",
     "output_type": "stream",
     "text": [
      "Division 4/5:   7%|█████                                                                         | 66/1015 [00:09<02:30,  6.32it/s]"
     ]
    },
    {
     "name": "stdout",
     "output_type": "stream",
     "text": [
      "Epoch:   3 | Samples:     64/478 | RMSE Loss: 0.7170 | MSE Loss: 0.8443 | target: -4.1000 | pred: -4.1207\n"
     ]
    },
    {
     "name": "stderr",
     "output_type": "stream",
     "text": [
      "Division 4/5:  10%|███████▌                                                                      | 98/1015 [00:13<02:00,  7.61it/s]"
     ]
    },
    {
     "name": "stdout",
     "output_type": "stream",
     "text": [
      "Epoch:   3 | Samples:     96/478 | RMSE Loss: 0.7042 | MSE Loss: 0.7957 | target: -1.3300 | pred: -1.3147\n"
     ]
    },
    {
     "name": "stderr",
     "output_type": "stream",
     "text": [
      "Division 4/5:  13%|█████████▊                                                                   | 130/1015 [00:17<01:47,  8.22it/s]"
     ]
    },
    {
     "name": "stdout",
     "output_type": "stream",
     "text": [
      "Epoch:   3 | Samples:    128/478 | RMSE Loss: 0.6681 | MSE Loss: 0.7236 | target: 0.0090 | pred: -0.1987\n"
     ]
    },
    {
     "name": "stderr",
     "output_type": "stream",
     "text": [
      "Division 4/5:  16%|████████████▏                                                                | 160/1015 [00:21<01:48,  7.89it/s]"
     ]
    },
    {
     "name": "stdout",
     "output_type": "stream",
     "text": [
      "Epoch:   3 | Samples:    160/478 | RMSE Loss: 0.6669 | MSE Loss: 0.7174 | target: -1.0900 | pred: -1.5958\n"
     ]
    },
    {
     "name": "stderr",
     "output_type": "stream",
     "text": [
      "Division 4/5:  19%|██████████████▋                                                              | 194/1015 [00:26<02:04,  6.57it/s]"
     ]
    },
    {
     "name": "stdout",
     "output_type": "stream",
     "text": [
      "Epoch:   3 | Samples:    192/478 | RMSE Loss: 0.6713 | MSE Loss: 0.7397 | target: -1.3700 | pred: -2.1182\n"
     ]
    },
    {
     "name": "stderr",
     "output_type": "stream",
     "text": [
      "Division 4/5:  22%|█████████████████▏                                                           | 226/1015 [00:31<01:26,  9.11it/s]"
     ]
    },
    {
     "name": "stdout",
     "output_type": "stream",
     "text": [
      "Epoch:   3 | Samples:    224/478 | RMSE Loss: 0.6630 | MSE Loss: 0.7265 | target: -2.0500 | pred: -1.9905\n"
     ]
    },
    {
     "name": "stderr",
     "output_type": "stream",
     "text": [
      "Division 4/5:  25%|███████████████████▍                                                         | 257/1015 [00:36<01:52,  6.71it/s]"
     ]
    },
    {
     "name": "stdout",
     "output_type": "stream",
     "text": [
      "Epoch:   3 | Samples:    256/478 | RMSE Loss: 0.6611 | MSE Loss: 0.7122 | target: -4.4200 | pred: -4.8205\n"
     ]
    },
    {
     "name": "stderr",
     "output_type": "stream",
     "text": [
      "Division 4/5:  28%|█████████████████████▉                                                       | 289/1015 [00:41<02:11,  5.53it/s]"
     ]
    },
    {
     "name": "stdout",
     "output_type": "stream",
     "text": [
      "Epoch:   3 | Samples:    288/478 | RMSE Loss: 0.6715 | MSE Loss: 0.7249 | target: -2.3690 | pred: -3.0067\n"
     ]
    },
    {
     "name": "stderr",
     "output_type": "stream",
     "text": [
      "Division 4/5:  32%|████████████████████████▍                                                    | 322/1015 [00:45<01:27,  7.89it/s]"
     ]
    },
    {
     "name": "stdout",
     "output_type": "stream",
     "text": [
      "Epoch:   3 | Samples:    320/478 | RMSE Loss: 0.6687 | MSE Loss: 0.7211 | target: -3.3500 | pred: -4.1875\n"
     ]
    },
    {
     "name": "stderr",
     "output_type": "stream",
     "text": [
      "Division 4/5:  35%|██████████████████████████▊                                                  | 353/1015 [00:50<02:13,  4.98it/s]"
     ]
    },
    {
     "name": "stdout",
     "output_type": "stream",
     "text": [
      "Epoch:   3 | Samples:    352/478 | RMSE Loss: 0.6772 | MSE Loss: 0.7514 | target: -2.1480 | pred: -1.7853\n"
     ]
    },
    {
     "name": "stderr",
     "output_type": "stream",
     "text": [
      "Division 4/5:  38%|█████████████████████████████▎                                               | 386/1015 [00:56<01:35,  6.58it/s]"
     ]
    },
    {
     "name": "stdout",
     "output_type": "stream",
     "text": [
      "Epoch:   3 | Samples:    384/478 | RMSE Loss: 0.6790 | MSE Loss: 0.7473 | target: -3.4990 | pred: -5.0116\n"
     ]
    },
    {
     "name": "stderr",
     "output_type": "stream",
     "text": [
      "Division 4/5:  41%|███████████████████████████████▋                                             | 418/1015 [01:00<01:07,  8.80it/s]"
     ]
    },
    {
     "name": "stdout",
     "output_type": "stream",
     "text": [
      "Epoch:   3 | Samples:    416/478 | RMSE Loss: 0.6714 | MSE Loss: 0.7354 | target: -1.6140 | pred: -2.2977\n"
     ]
    },
    {
     "name": "stderr",
     "output_type": "stream",
     "text": [
      "Division 4/5:  44%|██████████████████████████████████▏                                          | 450/1015 [01:05<00:56, 10.01it/s]"
     ]
    },
    {
     "name": "stdout",
     "output_type": "stream",
     "text": [
      "Epoch:   3 | Samples:    448/478 | RMSE Loss: 0.6702 | MSE Loss: 0.7283 | target: -4.5600 | pred: -3.9904\n"
     ]
    },
    {
     "name": "stderr",
     "output_type": "stream",
     "text": [
      "Division 4/5:  47%|████████████████████████████████████▎                                        | 478/1015 [01:09<01:18,  6.84it/s]\n",
      "Division 4/5:   0%|▏                                                                              | 3/1015 [00:00<01:57,  8.64it/s]"
     ]
    },
    {
     "name": "stdout",
     "output_type": "stream",
     "text": [
      "Epoch:   4 | Samples:      0/478 | RMSE Loss: 1.5707 | MSE Loss: 2.4670 | target: -4.5540 | pred: -2.9833\n"
     ]
    },
    {
     "name": "stderr",
     "output_type": "stream",
     "text": [
      "Division 4/5:   3%|██▌                                                                           | 34/1015 [00:04<02:21,  6.92it/s]"
     ]
    },
    {
     "name": "stdout",
     "output_type": "stream",
     "text": [
      "Epoch:   4 | Samples:     32/478 | RMSE Loss: 0.7437 | MSE Loss: 0.8336 | target: -3.8960 | pred: -5.3306\n"
     ]
    },
    {
     "name": "stderr",
     "output_type": "stream",
     "text": [
      "Division 4/5:   7%|█████                                                                         | 66/1015 [00:08<02:28,  6.40it/s]"
     ]
    },
    {
     "name": "stdout",
     "output_type": "stream",
     "text": [
      "Epoch:   4 | Samples:     64/478 | RMSE Loss: 0.6534 | MSE Loss: 0.6948 | target: -4.1000 | pred: -4.2761\n"
     ]
    },
    {
     "name": "stderr",
     "output_type": "stream",
     "text": [
      "Division 4/5:  10%|███████▌                                                                      | 98/1015 [00:13<02:00,  7.61it/s]"
     ]
    },
    {
     "name": "stdout",
     "output_type": "stream",
     "text": [
      "Epoch:   4 | Samples:     96/478 | RMSE Loss: 0.6542 | MSE Loss: 0.6941 | target: -1.3300 | pred: -1.1737\n"
     ]
    },
    {
     "name": "stderr",
     "output_type": "stream",
     "text": [
      "Division 4/5:  13%|█████████▊                                                                   | 130/1015 [00:17<01:46,  8.27it/s]"
     ]
    },
    {
     "name": "stdout",
     "output_type": "stream",
     "text": [
      "Epoch:   4 | Samples:    128/478 | RMSE Loss: 0.6271 | MSE Loss: 0.6297 | target: 0.0090 | pred: -0.0580\n"
     ]
    },
    {
     "name": "stderr",
     "output_type": "stream",
     "text": [
      "Division 4/5:  16%|████████████▏                                                                | 160/1015 [00:21<01:48,  7.90it/s]"
     ]
    },
    {
     "name": "stdout",
     "output_type": "stream",
     "text": [
      "Epoch:   4 | Samples:    160/478 | RMSE Loss: 0.6232 | MSE Loss: 0.6280 | target: -1.0900 | pred: -1.6003\n"
     ]
    },
    {
     "name": "stderr",
     "output_type": "stream",
     "text": [
      "Division 4/5:  19%|██████████████▋                                                              | 194/1015 [00:26<02:03,  6.63it/s]"
     ]
    },
    {
     "name": "stdout",
     "output_type": "stream",
     "text": [
      "Epoch:   4 | Samples:    192/478 | RMSE Loss: 0.6233 | MSE Loss: 0.6334 | target: -1.3700 | pred: -2.1631\n"
     ]
    },
    {
     "name": "stderr",
     "output_type": "stream",
     "text": [
      "Division 4/5:  22%|█████████████████▏                                                           | 226/1015 [00:31<01:28,  8.92it/s]"
     ]
    },
    {
     "name": "stdout",
     "output_type": "stream",
     "text": [
      "Epoch:   4 | Samples:    224/478 | RMSE Loss: 0.6208 | MSE Loss: 0.6341 | target: -2.0500 | pred: -2.0152\n"
     ]
    },
    {
     "name": "stderr",
     "output_type": "stream",
     "text": [
      "Division 4/5:  25%|███████████████████▍                                                         | 257/1015 [00:36<01:52,  6.75it/s]"
     ]
    },
    {
     "name": "stdout",
     "output_type": "stream",
     "text": [
      "Epoch:   4 | Samples:    256/478 | RMSE Loss: 0.6194 | MSE Loss: 0.6235 | target: -4.4200 | pred: -4.7761\n"
     ]
    },
    {
     "name": "stderr",
     "output_type": "stream",
     "text": [
      "Division 4/5:  28%|█████████████████████▉                                                       | 289/1015 [00:41<02:10,  5.56it/s]"
     ]
    },
    {
     "name": "stdout",
     "output_type": "stream",
     "text": [
      "Epoch:   4 | Samples:    288/478 | RMSE Loss: 0.6277 | MSE Loss: 0.6344 | target: -2.3690 | pred: -3.0661\n"
     ]
    },
    {
     "name": "stderr",
     "output_type": "stream",
     "text": [
      "Division 4/5:  32%|████████████████████████▍                                                    | 322/1015 [00:45<01:33,  7.45it/s]"
     ]
    },
    {
     "name": "stdout",
     "output_type": "stream",
     "text": [
      "Epoch:   4 | Samples:    320/478 | RMSE Loss: 0.6262 | MSE Loss: 0.6360 | target: -3.3500 | pred: -4.2102\n"
     ]
    },
    {
     "name": "stderr",
     "output_type": "stream",
     "text": [
      "Division 4/5:  35%|██████████████████████████▊                                                  | 353/1015 [00:50<02:12,  5.01it/s]"
     ]
    },
    {
     "name": "stdout",
     "output_type": "stream",
     "text": [
      "Epoch:   4 | Samples:    352/478 | RMSE Loss: 0.6345 | MSE Loss: 0.6642 | target: -2.1480 | pred: -1.8328\n"
     ]
    },
    {
     "name": "stderr",
     "output_type": "stream",
     "text": [
      "Division 4/5:  38%|█████████████████████████████▎                                               | 386/1015 [00:56<01:35,  6.58it/s]"
     ]
    },
    {
     "name": "stdout",
     "output_type": "stream",
     "text": [
      "Epoch:   4 | Samples:    384/478 | RMSE Loss: 0.6357 | MSE Loss: 0.6591 | target: -3.4990 | pred: -4.9394\n"
     ]
    },
    {
     "name": "stderr",
     "output_type": "stream",
     "text": [
      "Division 4/5:  41%|███████████████████████████████▋                                             | 418/1015 [01:00<01:07,  8.80it/s]"
     ]
    },
    {
     "name": "stdout",
     "output_type": "stream",
     "text": [
      "Epoch:   4 | Samples:    416/478 | RMSE Loss: 0.6280 | MSE Loss: 0.6461 | target: -1.6140 | pred: -2.3292\n"
     ]
    },
    {
     "name": "stderr",
     "output_type": "stream",
     "text": [
      "Division 4/5:  44%|██████████████████████████████████▏                                          | 450/1015 [01:06<00:57,  9.78it/s]"
     ]
    },
    {
     "name": "stdout",
     "output_type": "stream",
     "text": [
      "Epoch:   4 | Samples:    448/478 | RMSE Loss: 0.6287 | MSE Loss: 0.6417 | target: -4.5600 | pred: -3.9543\n"
     ]
    },
    {
     "name": "stderr",
     "output_type": "stream",
     "text": [
      "Division 4/5:  47%|████████████████████████████████████▎                                        | 478/1015 [01:10<01:18,  6.82it/s]\n",
      "Division 4/5:   0%|▏                                                                              | 3/1015 [00:00<01:58,  8.55it/s]"
     ]
    },
    {
     "name": "stdout",
     "output_type": "stream",
     "text": [
      "Epoch:   5 | Samples:      0/478 | RMSE Loss: 1.4199 | MSE Loss: 2.0160 | target: -4.5540 | pred: -3.1341\n"
     ]
    },
    {
     "name": "stderr",
     "output_type": "stream",
     "text": [
      "Division 4/5:   3%|██▌                                                                           | 34/1015 [00:04<02:21,  6.95it/s]"
     ]
    },
    {
     "name": "stdout",
     "output_type": "stream",
     "text": [
      "Epoch:   5 | Samples:     32/478 | RMSE Loss: 0.7009 | MSE Loss: 0.7214 | target: -3.8960 | pred: -5.3750\n"
     ]
    },
    {
     "name": "stderr",
     "output_type": "stream",
     "text": [
      "Division 4/5:   7%|█████                                                                         | 66/1015 [00:09<02:29,  6.36it/s]"
     ]
    },
    {
     "name": "stdout",
     "output_type": "stream",
     "text": [
      "Epoch:   5 | Samples:     64/478 | RMSE Loss: 0.6005 | MSE Loss: 0.5992 | target: -4.1000 | pred: -4.2816\n"
     ]
    },
    {
     "name": "stderr",
     "output_type": "stream",
     "text": [
      "Division 4/5:  10%|███████▌                                                                      | 98/1015 [00:13<02:00,  7.60it/s]"
     ]
    },
    {
     "name": "stdout",
     "output_type": "stream",
     "text": [
      "Epoch:   5 | Samples:     96/478 | RMSE Loss: 0.6105 | MSE Loss: 0.6168 | target: -1.3300 | pred: -1.1132\n"
     ]
    },
    {
     "name": "stderr",
     "output_type": "stream",
     "text": [
      "Division 4/5:  13%|█████████▊                                                                   | 130/1015 [00:17<01:47,  8.20it/s]"
     ]
    },
    {
     "name": "stdout",
     "output_type": "stream",
     "text": [
      "Epoch:   5 | Samples:    128/478 | RMSE Loss: 0.5888 | MSE Loss: 0.5603 | target: 0.0090 | pred: 0.0843\n"
     ]
    },
    {
     "name": "stderr",
     "output_type": "stream",
     "text": [
      "Division 4/5:  16%|████████████▏                                                                | 160/1015 [00:21<01:48,  7.91it/s]"
     ]
    },
    {
     "name": "stdout",
     "output_type": "stream",
     "text": [
      "Epoch:   5 | Samples:    160/478 | RMSE Loss: 0.5838 | MSE Loss: 0.5629 | target: -1.0900 | pred: -1.6188\n"
     ]
    },
    {
     "name": "stderr",
     "output_type": "stream",
     "text": [
      "Division 4/5:  19%|██████████████▋                                                              | 194/1015 [00:26<02:04,  6.61it/s]"
     ]
    },
    {
     "name": "stdout",
     "output_type": "stream",
     "text": [
      "Epoch:   5 | Samples:    192/478 | RMSE Loss: 0.5827 | MSE Loss: 0.5597 | target: -1.3700 | pred: -2.1716\n"
     ]
    },
    {
     "name": "stderr",
     "output_type": "stream",
     "text": [
      "Division 4/5:  22%|█████████████████▏                                                           | 226/1015 [00:31<01:26,  9.08it/s]"
     ]
    },
    {
     "name": "stdout",
     "output_type": "stream",
     "text": [
      "Epoch:   5 | Samples:    224/478 | RMSE Loss: 0.5845 | MSE Loss: 0.5686 | target: -2.0500 | pred: -2.0538\n"
     ]
    },
    {
     "name": "stderr",
     "output_type": "stream",
     "text": [
      "Division 4/5:  25%|███████████████████▍                                                         | 257/1015 [00:36<01:52,  6.75it/s]"
     ]
    },
    {
     "name": "stdout",
     "output_type": "stream",
     "text": [
      "Epoch:   5 | Samples:    256/478 | RMSE Loss: 0.5841 | MSE Loss: 0.5620 | target: -4.4200 | pred: -4.7711\n"
     ]
    },
    {
     "name": "stderr",
     "output_type": "stream",
     "text": [
      "Division 4/5:  28%|█████████████████████▉                                                       | 289/1015 [00:41<02:08,  5.64it/s]"
     ]
    },
    {
     "name": "stdout",
     "output_type": "stream",
     "text": [
      "Epoch:   5 | Samples:    288/478 | RMSE Loss: 0.5916 | MSE Loss: 0.5724 | target: -2.3690 | pred: -3.0479\n"
     ]
    },
    {
     "name": "stderr",
     "output_type": "stream",
     "text": [
      "Division 4/5:  32%|████████████████████████▌                                                    | 323/1015 [00:45<01:22,  8.41it/s]"
     ]
    },
    {
     "name": "stdout",
     "output_type": "stream",
     "text": [
      "Epoch:   5 | Samples:    320/478 | RMSE Loss: 0.5910 | MSE Loss: 0.5758 | target: -3.3500 | pred: -4.2539\n"
     ]
    },
    {
     "name": "stderr",
     "output_type": "stream",
     "text": [
      "Division 4/5:  35%|██████████████████████████▊                                                  | 353/1015 [00:50<02:12,  5.00it/s]"
     ]
    },
    {
     "name": "stdout",
     "output_type": "stream",
     "text": [
      "Epoch:   5 | Samples:    352/478 | RMSE Loss: 0.5991 | MSE Loss: 0.6032 | target: -2.1480 | pred: -1.8459\n"
     ]
    },
    {
     "name": "stderr",
     "output_type": "stream",
     "text": [
      "Division 4/5:  38%|█████████████████████████████▎                                               | 386/1015 [00:56<01:35,  6.56it/s]"
     ]
    },
    {
     "name": "stdout",
     "output_type": "stream",
     "text": [
      "Epoch:   5 | Samples:    384/478 | RMSE Loss: 0.6002 | MSE Loss: 0.5977 | target: -3.4990 | pred: -4.8786\n"
     ]
    },
    {
     "name": "stderr",
     "output_type": "stream",
     "text": [
      "Division 4/5:  41%|███████████████████████████████▋                                             | 417/1015 [01:00<01:04,  9.22it/s]"
     ]
    },
    {
     "name": "stdout",
     "output_type": "stream",
     "text": [
      "Epoch:   5 | Samples:    416/478 | RMSE Loss: 0.5922 | MSE Loss: 0.5842 | target: -1.6140 | pred: -2.3102\n"
     ]
    },
    {
     "name": "stderr",
     "output_type": "stream",
     "text": [
      "Division 4/5:  44%|██████████████████████████████████▏                                          | 450/1015 [01:05<00:57,  9.88it/s]"
     ]
    },
    {
     "name": "stdout",
     "output_type": "stream",
     "text": [
      "Epoch:   5 | Samples:    448/478 | RMSE Loss: 0.5943 | MSE Loss: 0.5816 | target: -4.5600 | pred: -3.9732\n"
     ]
    },
    {
     "name": "stderr",
     "output_type": "stream",
     "text": [
      "Division 4/5:  47%|████████████████████████████████████▎                                        | 478/1015 [01:09<01:18,  6.83it/s]\n",
      "Division 4/5:   0%|▏                                                                              | 3/1015 [00:00<01:57,  8.59it/s]"
     ]
    },
    {
     "name": "stdout",
     "output_type": "stream",
     "text": [
      "Epoch:   6 | Samples:      0/478 | RMSE Loss: 1.3089 | MSE Loss: 1.7132 | target: -4.5540 | pred: -3.2451\n"
     ]
    },
    {
     "name": "stderr",
     "output_type": "stream",
     "text": [
      "Division 4/5:   3%|██▌                                                                           | 34/1015 [00:04<02:21,  6.95it/s]"
     ]
    },
    {
     "name": "stdout",
     "output_type": "stream",
     "text": [
      "Epoch:   6 | Samples:     32/478 | RMSE Loss: 0.6704 | MSE Loss: 0.6548 | target: -3.8960 | pred: -5.4512\n"
     ]
    },
    {
     "name": "stderr",
     "output_type": "stream",
     "text": [
      "Division 4/5:   7%|█████                                                                         | 66/1015 [00:09<02:29,  6.33it/s]"
     ]
    },
    {
     "name": "stdout",
     "output_type": "stream",
     "text": [
      "Epoch:   6 | Samples:     64/478 | RMSE Loss: 0.5671 | MSE Loss: 0.5394 | target: -4.1000 | pred: -4.2850\n"
     ]
    },
    {
     "name": "stderr",
     "output_type": "stream",
     "text": [
      "Division 4/5:  10%|███████▌                                                                      | 98/1015 [00:13<01:59,  7.67it/s]"
     ]
    },
    {
     "name": "stdout",
     "output_type": "stream",
     "text": [
      "Epoch:   6 | Samples:     96/478 | RMSE Loss: 0.5822 | MSE Loss: 0.5642 | target: -1.3300 | pred: -1.1138\n"
     ]
    },
    {
     "name": "stderr",
     "output_type": "stream",
     "text": [
      "Division 4/5:  13%|█████████▊                                                                   | 130/1015 [00:17<01:46,  8.28it/s]"
     ]
    },
    {
     "name": "stdout",
     "output_type": "stream",
     "text": [
      "Epoch:   6 | Samples:    128/478 | RMSE Loss: 0.5644 | MSE Loss: 0.5150 | target: 0.0090 | pred: 0.1687\n"
     ]
    },
    {
     "name": "stderr",
     "output_type": "stream",
     "text": [
      "Division 4/5:  16%|████████████▏                                                                | 160/1015 [00:21<01:48,  7.85it/s]"
     ]
    },
    {
     "name": "stdout",
     "output_type": "stream",
     "text": [
      "Epoch:   6 | Samples:    160/478 | RMSE Loss: 0.5591 | MSE Loss: 0.5207 | target: -1.0900 | pred: -1.6125\n"
     ]
    },
    {
     "name": "stderr",
     "output_type": "stream",
     "text": [
      "Division 4/5:  19%|██████████████▋                                                              | 194/1015 [00:26<02:04,  6.57it/s]"
     ]
    },
    {
     "name": "stdout",
     "output_type": "stream",
     "text": [
      "Epoch:   6 | Samples:    192/478 | RMSE Loss: 0.5558 | MSE Loss: 0.5122 | target: -1.3700 | pred: -2.1532\n"
     ]
    },
    {
     "name": "stderr",
     "output_type": "stream",
     "text": [
      "Division 4/5:  22%|█████████████████▏                                                           | 226/1015 [00:31<01:27,  9.05it/s]"
     ]
    },
    {
     "name": "stdout",
     "output_type": "stream",
     "text": [
      "Epoch:   6 | Samples:    224/478 | RMSE Loss: 0.5602 | MSE Loss: 0.5239 | target: -2.0500 | pred: -2.0858\n"
     ]
    },
    {
     "name": "stderr",
     "output_type": "stream",
     "text": [
      "Division 4/5:  25%|███████████████████▍                                                         | 257/1015 [00:36<01:53,  6.69it/s]"
     ]
    },
    {
     "name": "stdout",
     "output_type": "stream",
     "text": [
      "Epoch:   6 | Samples:    256/478 | RMSE Loss: 0.5614 | MSE Loss: 0.5208 | target: -4.4200 | pred: -4.7284\n"
     ]
    },
    {
     "name": "stderr",
     "output_type": "stream",
     "text": [
      "Division 4/5:  28%|█████████████████████▉                                                       | 289/1015 [00:41<02:10,  5.57it/s]"
     ]
    },
    {
     "name": "stdout",
     "output_type": "stream",
     "text": [
      "Epoch:   6 | Samples:    288/478 | RMSE Loss: 0.5696 | MSE Loss: 0.5318 | target: -2.3690 | pred: -2.9864\n"
     ]
    },
    {
     "name": "stderr",
     "output_type": "stream",
     "text": [
      "Division 4/5:  32%|████████████████████████▍                                                    | 322/1015 [00:45<01:27,  7.97it/s]"
     ]
    },
    {
     "name": "stdout",
     "output_type": "stream",
     "text": [
      "Epoch:   6 | Samples:    320/478 | RMSE Loss: 0.5693 | MSE Loss: 0.5368 | target: -3.3500 | pred: -4.1974\n"
     ]
    },
    {
     "name": "stderr",
     "output_type": "stream",
     "text": [
      "Division 4/5:  35%|██████████████████████████▊                                                  | 353/1015 [00:50<02:13,  4.96it/s]"
     ]
    },
    {
     "name": "stdout",
     "output_type": "stream",
     "text": [
      "Epoch:   6 | Samples:    352/478 | RMSE Loss: 0.5760 | MSE Loss: 0.5629 | target: -2.1480 | pred: -1.8584\n"
     ]
    },
    {
     "name": "stderr",
     "output_type": "stream",
     "text": [
      "Division 4/5:  38%|█████████████████████████████▎                                               | 386/1015 [00:56<01:36,  6.50it/s]"
     ]
    },
    {
     "name": "stdout",
     "output_type": "stream",
     "text": [
      "Epoch:   6 | Samples:    384/478 | RMSE Loss: 0.5767 | MSE Loss: 0.5570 | target: -3.4990 | pred: -4.8091\n"
     ]
    },
    {
     "name": "stderr",
     "output_type": "stream",
     "text": [
      "Division 4/5:  41%|███████████████████████████████▋                                             | 417/1015 [01:00<01:04,  9.26it/s]"
     ]
    },
    {
     "name": "stdout",
     "output_type": "stream",
     "text": [
      "Epoch:   6 | Samples:    416/478 | RMSE Loss: 0.5679 | MSE Loss: 0.5427 | target: -1.6140 | pred: -2.2841\n"
     ]
    },
    {
     "name": "stderr",
     "output_type": "stream",
     "text": [
      "Division 4/5:  44%|██████████████████████████████████▏                                          | 450/1015 [01:05<00:57,  9.88it/s]"
     ]
    },
    {
     "name": "stdout",
     "output_type": "stream",
     "text": [
      "Epoch:   6 | Samples:    448/478 | RMSE Loss: 0.5708 | MSE Loss: 0.5411 | target: -4.5600 | pred: -4.0140\n"
     ]
    },
    {
     "name": "stderr",
     "output_type": "stream",
     "text": [
      "Division 4/5:  47%|████████████████████████████████████▎                                        | 478/1015 [01:09<01:18,  6.83it/s]\n",
      "Division 4/5:   0%|▏                                                                              | 3/1015 [00:00<01:58,  8.52it/s]"
     ]
    },
    {
     "name": "stdout",
     "output_type": "stream",
     "text": [
      "Epoch:   7 | Samples:      0/478 | RMSE Loss: 1.2366 | MSE Loss: 1.5292 | target: -4.5540 | pred: -3.3174\n"
     ]
    },
    {
     "name": "stderr",
     "output_type": "stream",
     "text": [
      "Division 4/5:   3%|██▌                                                                           | 34/1015 [00:04<02:21,  6.96it/s]"
     ]
    },
    {
     "name": "stdout",
     "output_type": "stream",
     "text": [
      "Epoch:   7 | Samples:     32/478 | RMSE Loss: 0.6469 | MSE Loss: 0.6120 | target: -3.8960 | pred: -5.4603\n"
     ]
    },
    {
     "name": "stderr",
     "output_type": "stream",
     "text": [
      "Division 4/5:   7%|█████                                                                         | 66/1015 [00:09<02:31,  6.28it/s]"
     ]
    },
    {
     "name": "stdout",
     "output_type": "stream",
     "text": [
      "Epoch:   7 | Samples:     64/478 | RMSE Loss: 0.5423 | MSE Loss: 0.4942 | target: -4.1000 | pred: -4.2632\n"
     ]
    },
    {
     "name": "stderr",
     "output_type": "stream",
     "text": [
      "Division 4/5:  10%|███████▌                                                                      | 98/1015 [00:13<01:59,  7.68it/s]"
     ]
    },
    {
     "name": "stdout",
     "output_type": "stream",
     "text": [
      "Epoch:   7 | Samples:     96/478 | RMSE Loss: 0.5618 | MSE Loss: 0.5237 | target: -1.3300 | pred: -1.1470\n"
     ]
    },
    {
     "name": "stderr",
     "output_type": "stream",
     "text": [
      "Division 4/5:  13%|█████████▊                                                                   | 130/1015 [00:17<01:47,  8.22it/s]"
     ]
    },
    {
     "name": "stdout",
     "output_type": "stream",
     "text": [
      "Epoch:   7 | Samples:    128/478 | RMSE Loss: 0.5439 | MSE Loss: 0.4790 | target: 0.0090 | pred: 0.2170\n"
     ]
    },
    {
     "name": "stderr",
     "output_type": "stream",
     "text": [
      "Division 4/5:  16%|████████████▏                                                                | 160/1015 [00:21<01:48,  7.89it/s]"
     ]
    },
    {
     "name": "stdout",
     "output_type": "stream",
     "text": [
      "Epoch:   7 | Samples:    160/478 | RMSE Loss: 0.5365 | MSE Loss: 0.4847 | target: -1.0900 | pred: -1.5989\n"
     ]
    },
    {
     "name": "stderr",
     "output_type": "stream",
     "text": [
      "Division 4/5:  19%|██████████████▋                                                              | 194/1015 [00:26<02:05,  6.55it/s]"
     ]
    },
    {
     "name": "stdout",
     "output_type": "stream",
     "text": [
      "Epoch:   7 | Samples:    192/478 | RMSE Loss: 0.5321 | MSE Loss: 0.4739 | target: -1.3700 | pred: -2.1409\n"
     ]
    },
    {
     "name": "stderr",
     "output_type": "stream",
     "text": [
      "Division 4/5:  22%|█████████████████▏                                                           | 226/1015 [00:31<01:27,  8.97it/s]"
     ]
    },
    {
     "name": "stdout",
     "output_type": "stream",
     "text": [
      "Epoch:   7 | Samples:    224/478 | RMSE Loss: 0.5381 | MSE Loss: 0.4869 | target: -2.0500 | pred: -2.1047\n"
     ]
    },
    {
     "name": "stderr",
     "output_type": "stream",
     "text": [
      "Division 4/5:  25%|███████████████████▍                                                         | 257/1015 [00:36<01:52,  6.74it/s]"
     ]
    },
    {
     "name": "stdout",
     "output_type": "stream",
     "text": [
      "Epoch:   7 | Samples:    256/478 | RMSE Loss: 0.5410 | MSE Loss: 0.4869 | target: -4.4200 | pred: -4.7016\n"
     ]
    },
    {
     "name": "stderr",
     "output_type": "stream",
     "text": [
      "Division 4/5:  28%|█████████████████████▉                                                       | 289/1015 [00:41<02:11,  5.53it/s]"
     ]
    },
    {
     "name": "stdout",
     "output_type": "stream",
     "text": [
      "Epoch:   7 | Samples:    288/478 | RMSE Loss: 0.5492 | MSE Loss: 0.4984 | target: -2.3690 | pred: -2.9726\n"
     ]
    },
    {
     "name": "stderr",
     "output_type": "stream",
     "text": [
      "Division 4/5:  32%|████████████████████████▍                                                    | 322/1015 [00:45<01:27,  7.94it/s]"
     ]
    },
    {
     "name": "stdout",
     "output_type": "stream",
     "text": [
      "Epoch:   7 | Samples:    320/478 | RMSE Loss: 0.5483 | MSE Loss: 0.5021 | target: -3.3500 | pred: -4.2341\n"
     ]
    },
    {
     "name": "stderr",
     "output_type": "stream",
     "text": [
      "Division 4/5:  35%|██████████████████████████▊                                                  | 353/1015 [00:50<02:11,  5.03it/s]"
     ]
    },
    {
     "name": "stdout",
     "output_type": "stream",
     "text": [
      "Epoch:   7 | Samples:    352/478 | RMSE Loss: 0.5554 | MSE Loss: 0.5270 | target: -2.1480 | pred: -1.8581\n"
     ]
    },
    {
     "name": "stderr",
     "output_type": "stream",
     "text": [
      "Division 4/5:  38%|█████████████████████████████▎                                               | 386/1015 [00:56<01:35,  6.58it/s]"
     ]
    },
    {
     "name": "stdout",
     "output_type": "stream",
     "text": [
      "Epoch:   7 | Samples:    384/478 | RMSE Loss: 0.5552 | MSE Loss: 0.5204 | target: -3.4990 | pred: -4.7437\n"
     ]
    },
    {
     "name": "stderr",
     "output_type": "stream",
     "text": [
      "Division 4/5:  41%|███████████████████████████████▋                                             | 418/1015 [01:00<01:07,  8.80it/s]"
     ]
    },
    {
     "name": "stdout",
     "output_type": "stream",
     "text": [
      "Epoch:   7 | Samples:    416/478 | RMSE Loss: 0.5456 | MSE Loss: 0.5060 | target: -1.6140 | pred: -2.2554\n"
     ]
    },
    {
     "name": "stderr",
     "output_type": "stream",
     "text": [
      "Division 4/5:  44%|██████████████████████████████████▏                                          | 450/1015 [01:05<00:56,  9.93it/s]"
     ]
    },
    {
     "name": "stdout",
     "output_type": "stream",
     "text": [
      "Epoch:   7 | Samples:    448/478 | RMSE Loss: 0.5490 | MSE Loss: 0.5050 | target: -4.5600 | pred: -4.0666\n"
     ]
    },
    {
     "name": "stderr",
     "output_type": "stream",
     "text": [
      "Division 4/5:  47%|████████████████████████████████████▎                                        | 478/1015 [01:09<01:18,  6.84it/s]\n",
      "Division 4/5:   0%|▏                                                                              | 3/1015 [00:00<01:57,  8.59it/s]"
     ]
    },
    {
     "name": "stdout",
     "output_type": "stream",
     "text": [
      "Epoch:   8 | Samples:      0/478 | RMSE Loss: 1.1805 | MSE Loss: 1.3935 | target: -4.5540 | pred: -3.3735\n"
     ]
    },
    {
     "name": "stderr",
     "output_type": "stream",
     "text": [
      "Division 4/5:   3%|██▌                                                                           | 34/1015 [00:04<02:20,  6.97it/s]"
     ]
    },
    {
     "name": "stdout",
     "output_type": "stream",
     "text": [
      "Epoch:   8 | Samples:     32/478 | RMSE Loss: 0.6239 | MSE Loss: 0.5809 | target: -3.8960 | pred: -5.5109\n"
     ]
    },
    {
     "name": "stderr",
     "output_type": "stream",
     "text": [
      "Division 4/5:   7%|█████                                                                         | 66/1015 [00:08<02:29,  6.36it/s]"
     ]
    },
    {
     "name": "stdout",
     "output_type": "stream",
     "text": [
      "Epoch:   8 | Samples:     64/478 | RMSE Loss: 0.5256 | MSE Loss: 0.4654 | target: -4.1000 | pred: -4.2570\n"
     ]
    },
    {
     "name": "stderr",
     "output_type": "stream",
     "text": [
      "Division 4/5:  10%|███████▌                                                                      | 98/1015 [00:12<01:59,  7.65it/s]"
     ]
    },
    {
     "name": "stdout",
     "output_type": "stream",
     "text": [
      "Epoch:   8 | Samples:     96/478 | RMSE Loss: 0.5458 | MSE Loss: 0.4953 | target: -1.3300 | pred: -1.1938\n"
     ]
    },
    {
     "name": "stderr",
     "output_type": "stream",
     "text": [
      "Division 4/5:  13%|█████████▊                                                                   | 130/1015 [00:17<01:47,  8.24it/s]"
     ]
    },
    {
     "name": "stdout",
     "output_type": "stream",
     "text": [
      "Epoch:   8 | Samples:    128/478 | RMSE Loss: 0.5286 | MSE Loss: 0.4544 | target: 0.0090 | pred: 0.2511\n"
     ]
    },
    {
     "name": "stderr",
     "output_type": "stream",
     "text": [
      "Division 4/5:  16%|████████████▏                                                                | 160/1015 [00:21<01:47,  7.92it/s]"
     ]
    },
    {
     "name": "stdout",
     "output_type": "stream",
     "text": [
      "Epoch:   8 | Samples:    160/478 | RMSE Loss: 0.5202 | MSE Loss: 0.4596 | target: -1.0900 | pred: -1.5872\n"
     ]
    },
    {
     "name": "stderr",
     "output_type": "stream",
     "text": [
      "Division 4/5:  19%|██████████████▋                                                              | 194/1015 [00:26<02:04,  6.61it/s]"
     ]
    },
    {
     "name": "stdout",
     "output_type": "stream",
     "text": [
      "Epoch:   8 | Samples:    192/478 | RMSE Loss: 0.5155 | MSE Loss: 0.4464 | target: -1.3700 | pred: -2.1159\n"
     ]
    },
    {
     "name": "stderr",
     "output_type": "stream",
     "text": [
      "Division 4/5:  22%|█████████████████▏                                                           | 226/1015 [00:31<01:28,  8.91it/s]"
     ]
    },
    {
     "name": "stdout",
     "output_type": "stream",
     "text": [
      "Epoch:   8 | Samples:    224/478 | RMSE Loss: 0.5239 | MSE Loss: 0.4623 | target: -2.0500 | pred: -2.1957\n"
     ]
    },
    {
     "name": "stderr",
     "output_type": "stream",
     "text": [
      "Division 4/5:  25%|███████████████████▍                                                         | 257/1015 [00:36<01:53,  6.70it/s]"
     ]
    },
    {
     "name": "stdout",
     "output_type": "stream",
     "text": [
      "Epoch:   8 | Samples:    256/478 | RMSE Loss: 0.5290 | MSE Loss: 0.4669 | target: -4.4200 | pred: -4.6525\n"
     ]
    },
    {
     "name": "stderr",
     "output_type": "stream",
     "text": [
      "Division 4/5:  28%|█████████████████████▉                                                       | 289/1015 [00:41<02:09,  5.60it/s]"
     ]
    },
    {
     "name": "stdout",
     "output_type": "stream",
     "text": [
      "Epoch:   8 | Samples:    288/478 | RMSE Loss: 0.5366 | MSE Loss: 0.4769 | target: -2.3690 | pred: -2.9341\n"
     ]
    },
    {
     "name": "stderr",
     "output_type": "stream",
     "text": [
      "Division 4/5:  32%|████████████████████████▌                                                    | 323/1015 [00:45<01:23,  8.33it/s]"
     ]
    },
    {
     "name": "stdout",
     "output_type": "stream",
     "text": [
      "Epoch:   8 | Samples:    320/478 | RMSE Loss: 0.5348 | MSE Loss: 0.4792 | target: -3.3500 | pred: -4.2174\n"
     ]
    },
    {
     "name": "stderr",
     "output_type": "stream",
     "text": [
      "Division 4/5:  35%|██████████████████████████▊                                                  | 353/1015 [00:50<02:12,  5.00it/s]"
     ]
    },
    {
     "name": "stdout",
     "output_type": "stream",
     "text": [
      "Epoch:   8 | Samples:    352/478 | RMSE Loss: 0.5414 | MSE Loss: 0.5026 | target: -2.1480 | pred: -1.8540\n"
     ]
    },
    {
     "name": "stderr",
     "output_type": "stream",
     "text": [
      "Division 4/5:  38%|█████████████████████████████▎                                               | 386/1015 [00:56<01:36,  6.55it/s]"
     ]
    },
    {
     "name": "stdout",
     "output_type": "stream",
     "text": [
      "Epoch:   8 | Samples:    384/478 | RMSE Loss: 0.5396 | MSE Loss: 0.4944 | target: -3.4990 | pred: -4.6911\n"
     ]
    },
    {
     "name": "stderr",
     "output_type": "stream",
     "text": [
      "Division 4/5:  41%|███████████████████████████████▋                                             | 417/1015 [01:00<01:04,  9.24it/s]"
     ]
    },
    {
     "name": "stdout",
     "output_type": "stream",
     "text": [
      "Epoch:   8 | Samples:    416/478 | RMSE Loss: 0.5296 | MSE Loss: 0.4802 | target: -1.6140 | pred: -2.2258\n"
     ]
    },
    {
     "name": "stderr",
     "output_type": "stream",
     "text": [
      "Division 4/5:  44%|██████████████████████████████████▏                                          | 450/1015 [01:05<00:56,  9.93it/s]"
     ]
    },
    {
     "name": "stdout",
     "output_type": "stream",
     "text": [
      "Epoch:   8 | Samples:    448/478 | RMSE Loss: 0.5331 | MSE Loss: 0.4790 | target: -4.5600 | pred: -4.1340\n"
     ]
    },
    {
     "name": "stderr",
     "output_type": "stream",
     "text": [
      "Division 4/5:  47%|████████████████████████████████████▎                                        | 478/1015 [01:10<01:18,  6.82it/s]\n",
      "Division 4/5:   0%|▏                                                                              | 3/1015 [00:00<01:55,  8.73it/s]"
     ]
    },
    {
     "name": "stdout",
     "output_type": "stream",
     "text": [
      "Epoch:   9 | Samples:      0/478 | RMSE Loss: 1.1552 | MSE Loss: 1.3344 | target: -4.5540 | pred: -3.3988\n"
     ]
    },
    {
     "name": "stderr",
     "output_type": "stream",
     "text": [
      "Division 4/5:   3%|██▌                                                                           | 34/1015 [00:04<02:21,  6.93it/s]"
     ]
    },
    {
     "name": "stdout",
     "output_type": "stream",
     "text": [
      "Epoch:   9 | Samples:     32/478 | RMSE Loss: 0.6044 | MSE Loss: 0.5619 | target: -3.8960 | pred: -5.5226\n"
     ]
    },
    {
     "name": "stderr",
     "output_type": "stream",
     "text": [
      "Division 4/5:   7%|█████                                                                         | 66/1015 [00:09<02:28,  6.38it/s]"
     ]
    },
    {
     "name": "stdout",
     "output_type": "stream",
     "text": [
      "Epoch:   9 | Samples:     64/478 | RMSE Loss: 0.5083 | MSE Loss: 0.4416 | target: -4.1000 | pred: -4.2211\n"
     ]
    },
    {
     "name": "stderr",
     "output_type": "stream",
     "text": [
      "Division 4/5:  10%|███████▌                                                                      | 98/1015 [00:13<02:01,  7.57it/s]"
     ]
    },
    {
     "name": "stdout",
     "output_type": "stream",
     "text": [
      "Epoch:   9 | Samples:     96/478 | RMSE Loss: 0.5300 | MSE Loss: 0.4706 | target: -1.3300 | pred: -1.2277\n"
     ]
    },
    {
     "name": "stderr",
     "output_type": "stream",
     "text": [
      "Division 4/5:  13%|█████████▊                                                                   | 130/1015 [00:17<01:47,  8.23it/s]"
     ]
    },
    {
     "name": "stdout",
     "output_type": "stream",
     "text": [
      "Epoch:   9 | Samples:    128/478 | RMSE Loss: 0.5129 | MSE Loss: 0.4322 | target: 0.0090 | pred: 0.2870\n"
     ]
    },
    {
     "name": "stderr",
     "output_type": "stream",
     "text": [
      "Division 4/5:  16%|████████████▏                                                                | 160/1015 [00:21<01:49,  7.84it/s]"
     ]
    },
    {
     "name": "stdout",
     "output_type": "stream",
     "text": [
      "Epoch:   9 | Samples:    160/478 | RMSE Loss: 0.5026 | MSE Loss: 0.4348 | target: -1.0900 | pred: -1.5579\n"
     ]
    },
    {
     "name": "stderr",
     "output_type": "stream",
     "text": [
      "Division 4/5:  19%|██████████████▋                                                              | 194/1015 [00:26<02:03,  6.62it/s]"
     ]
    },
    {
     "name": "stdout",
     "output_type": "stream",
     "text": [
      "Epoch:   9 | Samples:    192/478 | RMSE Loss: 0.4992 | MSE Loss: 0.4217 | target: -1.3700 | pred: -2.0948\n"
     ]
    },
    {
     "name": "stderr",
     "output_type": "stream",
     "text": [
      "Division 4/5:  22%|█████████████████▏                                                           | 226/1015 [00:31<01:28,  8.94it/s]"
     ]
    },
    {
     "name": "stdout",
     "output_type": "stream",
     "text": [
      "Epoch:   9 | Samples:    224/478 | RMSE Loss: 0.5064 | MSE Loss: 0.4346 | target: -2.0500 | pred: -2.1395\n"
     ]
    },
    {
     "name": "stderr",
     "output_type": "stream",
     "text": [
      "Division 4/5:  25%|███████████████████▍                                                         | 257/1015 [00:36<01:52,  6.73it/s]"
     ]
    },
    {
     "name": "stdout",
     "output_type": "stream",
     "text": [
      "Epoch:   9 | Samples:    256/478 | RMSE Loss: 0.5089 | MSE Loss: 0.4357 | target: -4.4200 | pred: -4.6127\n"
     ]
    },
    {
     "name": "stderr",
     "output_type": "stream",
     "text": [
      "Division 4/5:  28%|█████████████████████▉                                                       | 289/1015 [00:41<02:09,  5.60it/s]"
     ]
    },
    {
     "name": "stdout",
     "output_type": "stream",
     "text": [
      "Epoch:   9 | Samples:    288/478 | RMSE Loss: 0.5167 | MSE Loss: 0.4453 | target: -2.3690 | pred: -2.8921\n"
     ]
    },
    {
     "name": "stderr",
     "output_type": "stream",
     "text": [
      "Division 4/5:  32%|████████████████████████▍                                                    | 322/1015 [00:45<01:28,  7.85it/s]"
     ]
    },
    {
     "name": "stdout",
     "output_type": "stream",
     "text": [
      "Epoch:   9 | Samples:    320/478 | RMSE Loss: 0.5147 | MSE Loss: 0.4469 | target: -3.3500 | pred: -4.2172\n"
     ]
    },
    {
     "name": "stderr",
     "output_type": "stream",
     "text": [
      "Division 4/5:  35%|██████████████████████████▊                                                  | 353/1015 [00:50<02:12,  4.99it/s]"
     ]
    },
    {
     "name": "stdout",
     "output_type": "stream",
     "text": [
      "Epoch:   9 | Samples:    352/478 | RMSE Loss: 0.5222 | MSE Loss: 0.4698 | target: -2.1480 | pred: -1.8428\n"
     ]
    },
    {
     "name": "stderr",
     "output_type": "stream",
     "text": [
      "Division 4/5:  38%|█████████████████████████████▎                                               | 386/1015 [00:56<01:35,  6.60it/s]"
     ]
    },
    {
     "name": "stdout",
     "output_type": "stream",
     "text": [
      "Epoch:   9 | Samples:    384/478 | RMSE Loss: 0.5195 | MSE Loss: 0.4607 | target: -3.4990 | pred: -4.6291\n"
     ]
    },
    {
     "name": "stderr",
     "output_type": "stream",
     "text": [
      "Division 4/5:  41%|███████████████████████████████▋                                             | 418/1015 [01:00<01:08,  8.71it/s]"
     ]
    },
    {
     "name": "stdout",
     "output_type": "stream",
     "text": [
      "Epoch:   9 | Samples:    416/478 | RMSE Loss: 0.5092 | MSE Loss: 0.4472 | target: -1.6140 | pred: -2.1764\n"
     ]
    },
    {
     "name": "stderr",
     "output_type": "stream",
     "text": [
      "Division 4/5:  44%|██████████████████████████████████▏                                          | 450/1015 [01:05<00:56,  9.95it/s]"
     ]
    },
    {
     "name": "stdout",
     "output_type": "stream",
     "text": [
      "Epoch:   9 | Samples:    448/478 | RMSE Loss: 0.5130 | MSE Loss: 0.4464 | target: -4.5600 | pred: -4.1918\n"
     ]
    },
    {
     "name": "stderr",
     "output_type": "stream",
     "text": [
      "Division 4/5:  47%|████████████████████████████████████▎                                        | 478/1015 [01:10<01:18,  6.83it/s]\n",
      "Division 5/5:   0%|▏                                                                              | 3/1015 [00:00<01:57,  8.61it/s]"
     ]
    },
    {
     "name": "stdout",
     "output_type": "stream",
     "text": [
      "Epoch:   0 | Samples:      0/604 | RMSE Loss: 4.4005 | MSE Loss: 19.3647 | target: -4.5540 | pred: -0.1535\n"
     ]
    },
    {
     "name": "stderr",
     "output_type": "stream",
     "text": [
      "Division 5/5:   3%|██▌                                                                           | 34/1015 [00:04<02:21,  6.95it/s]"
     ]
    },
    {
     "name": "stdout",
     "output_type": "stream",
     "text": [
      "Epoch:   0 | Samples:     32/604 | RMSE Loss: 2.0361 | MSE Loss: 7.0881 | target: -3.8960 | pred: -2.7131\n"
     ]
    },
    {
     "name": "stderr",
     "output_type": "stream",
     "text": [
      "Division 5/5:   7%|█████                                                                         | 66/1015 [00:09<02:29,  6.35it/s]"
     ]
    },
    {
     "name": "stdout",
     "output_type": "stream",
     "text": [
      "Epoch:   0 | Samples:     64/604 | RMSE Loss: 1.7359 | MSE Loss: 5.0862 | target: -4.1000 | pred: -3.8159\n"
     ]
    },
    {
     "name": "stderr",
     "output_type": "stream",
     "text": [
      "Division 5/5:  10%|███████▌                                                                      | 98/1015 [00:13<02:00,  7.60it/s]"
     ]
    },
    {
     "name": "stdout",
     "output_type": "stream",
     "text": [
      "Epoch:   0 | Samples:     96/604 | RMSE Loss: 1.6049 | MSE Loss: 4.4172 | target: -1.3300 | pred: -2.2808\n"
     ]
    },
    {
     "name": "stderr",
     "output_type": "stream",
     "text": [
      "Division 5/5:  13%|█████████▊                                                                   | 130/1015 [00:17<01:48,  8.13it/s]"
     ]
    },
    {
     "name": "stdout",
     "output_type": "stream",
     "text": [
      "Epoch:   0 | Samples:    128/604 | RMSE Loss: 1.4653 | MSE Loss: 3.7234 | target: 0.0090 | pred: -2.3774\n"
     ]
    },
    {
     "name": "stderr",
     "output_type": "stream",
     "text": [
      "Division 5/5:  16%|████████████▏                                                                | 160/1015 [00:21<01:48,  7.89it/s]"
     ]
    },
    {
     "name": "stdout",
     "output_type": "stream",
     "text": [
      "Epoch:   0 | Samples:    160/604 | RMSE Loss: 1.4710 | MSE Loss: 3.6757 | target: -1.0900 | pred: -2.5291\n"
     ]
    },
    {
     "name": "stderr",
     "output_type": "stream",
     "text": [
      "Division 5/5:  19%|██████████████▋                                                              | 194/1015 [00:26<02:05,  6.54it/s]"
     ]
    },
    {
     "name": "stdout",
     "output_type": "stream",
     "text": [
      "Epoch:   0 | Samples:    192/604 | RMSE Loss: 1.4549 | MSE Loss: 3.6193 | target: -1.3700 | pred: -2.1495\n"
     ]
    },
    {
     "name": "stderr",
     "output_type": "stream",
     "text": [
      "Division 5/5:  22%|█████████████████▏                                                           | 226/1015 [00:31<01:31,  8.61it/s]"
     ]
    },
    {
     "name": "stdout",
     "output_type": "stream",
     "text": [
      "Epoch:   0 | Samples:    224/604 | RMSE Loss: 1.4371 | MSE Loss: 3.6105 | target: -2.0500 | pred: -2.4646\n"
     ]
    },
    {
     "name": "stderr",
     "output_type": "stream",
     "text": [
      "Division 5/5:  25%|███████████████████▍                                                         | 257/1015 [00:36<01:53,  6.65it/s]"
     ]
    },
    {
     "name": "stdout",
     "output_type": "stream",
     "text": [
      "Epoch:   0 | Samples:    256/604 | RMSE Loss: 1.4468 | MSE Loss: 3.5568 | target: -4.4200 | pred: -5.4248\n"
     ]
    },
    {
     "name": "stderr",
     "output_type": "stream",
     "text": [
      "Division 5/5:  28%|█████████████████████▉                                                       | 289/1015 [00:41<02:10,  5.55it/s]"
     ]
    },
    {
     "name": "stdout",
     "output_type": "stream",
     "text": [
      "Epoch:   0 | Samples:    288/604 | RMSE Loss: 1.4373 | MSE Loss: 3.5031 | target: -2.3690 | pred: -2.4379\n"
     ]
    },
    {
     "name": "stderr",
     "output_type": "stream",
     "text": [
      "Division 5/5:  32%|████████████████████████▍                                                    | 322/1015 [00:45<01:28,  7.84it/s]"
     ]
    },
    {
     "name": "stdout",
     "output_type": "stream",
     "text": [
      "Epoch:   0 | Samples:    320/604 | RMSE Loss: 1.3899 | MSE Loss: 3.3384 | target: -3.3500 | pred: -3.8097\n"
     ]
    },
    {
     "name": "stderr",
     "output_type": "stream",
     "text": [
      "Division 5/5:  35%|██████████████████████████▊                                                  | 353/1015 [00:50<02:12,  5.01it/s]"
     ]
    },
    {
     "name": "stdout",
     "output_type": "stream",
     "text": [
      "Epoch:   0 | Samples:    352/604 | RMSE Loss: 1.3331 | MSE Loss: 3.1499 | target: -2.1480 | pred: -1.9216\n"
     ]
    },
    {
     "name": "stderr",
     "output_type": "stream",
     "text": [
      "Division 5/5:  38%|█████████████████████████████▎                                               | 386/1015 [00:56<01:36,  6.53it/s]"
     ]
    },
    {
     "name": "stdout",
     "output_type": "stream",
     "text": [
      "Epoch:   0 | Samples:    384/604 | RMSE Loss: 1.3090 | MSE Loss: 3.0305 | target: -3.4990 | pred: -4.7571\n"
     ]
    },
    {
     "name": "stderr",
     "output_type": "stream",
     "text": [
      "Division 5/5:  41%|███████████████████████████████▋                                             | 417/1015 [01:00<01:04,  9.24it/s]"
     ]
    },
    {
     "name": "stdout",
     "output_type": "stream",
     "text": [
      "Epoch:   0 | Samples:    416/604 | RMSE Loss: 1.2863 | MSE Loss: 2.9261 | target: -1.6140 | pred: -1.8088\n"
     ]
    },
    {
     "name": "stderr",
     "output_type": "stream",
     "text": [
      "Division 5/5:  44%|██████████████████████████████████▏                                          | 450/1015 [01:06<00:56,  9.93it/s]"
     ]
    },
    {
     "name": "stdout",
     "output_type": "stream",
     "text": [
      "Epoch:   0 | Samples:    448/604 | RMSE Loss: 1.2704 | MSE Loss: 2.8640 | target: -4.5600 | pred: -4.2443\n"
     ]
    },
    {
     "name": "stderr",
     "output_type": "stream",
     "text": [
      "Division 5/5:  47%|████████████████████████████████████▍                                        | 481/1015 [01:10<01:02,  8.59it/s]"
     ]
    },
    {
     "name": "stdout",
     "output_type": "stream",
     "text": [
      "Epoch:   0 | Samples:    480/604 | RMSE Loss: 1.2563 | MSE Loss: 2.7864 | target: -2.5100 | pred: -2.4442\n"
     ]
    },
    {
     "name": "stderr",
     "output_type": "stream",
     "text": [
      "Division 5/5:  51%|██████████████████████████████████████▉                                      | 513/1015 [01:14<01:13,  6.83it/s]"
     ]
    },
    {
     "name": "stdout",
     "output_type": "stream",
     "text": [
      "Epoch:   0 | Samples:    512/604 | RMSE Loss: 1.2378 | MSE Loss: 2.6905 | target: -3.3600 | pred: -2.5294\n"
     ]
    },
    {
     "name": "stderr",
     "output_type": "stream",
     "text": [
      "Division 5/5:  54%|█████████████████████████████████████████▍                                   | 546/1015 [01:19<00:57,  8.18it/s]"
     ]
    },
    {
     "name": "stdout",
     "output_type": "stream",
     "text": [
      "Epoch:   0 | Samples:    544/604 | RMSE Loss: 1.2279 | MSE Loss: 2.6635 | target: -7.6800 | pred: -6.2460\n"
     ]
    },
    {
     "name": "stderr",
     "output_type": "stream",
     "text": [
      "Division 5/5:  57%|███████████████████████████████████████████▊                                 | 578/1015 [01:24<00:59,  7.34it/s]"
     ]
    },
    {
     "name": "stdout",
     "output_type": "stream",
     "text": [
      "Epoch:   0 | Samples:    576/604 | RMSE Loss: 1.2075 | MSE Loss: 2.5713 | target: -2.8200 | pred: -2.5220\n"
     ]
    },
    {
     "name": "stderr",
     "output_type": "stream",
     "text": [
      "Division 5/5:  60%|█████████████████████████████████████████████▊                               | 604/1015 [01:27<00:59,  6.87it/s]\n",
      "Division 5/5:   0%|▏                                                                              | 3/1015 [00:00<02:00,  8.38it/s]"
     ]
    },
    {
     "name": "stdout",
     "output_type": "stream",
     "text": [
      "Epoch:   1 | Samples:      0/604 | RMSE Loss: 2.5337 | MSE Loss: 6.4196 | target: -4.5540 | pred: -2.0203\n"
     ]
    },
    {
     "name": "stderr",
     "output_type": "stream",
     "text": [
      "Division 5/5:   3%|██▌                                                                           | 34/1015 [00:04<02:18,  7.11it/s]"
     ]
    },
    {
     "name": "stdout",
     "output_type": "stream",
     "text": [
      "Epoch:   1 | Samples:     32/604 | RMSE Loss: 1.0158 | MSE Loss: 1.6935 | target: -3.8960 | pred: -4.4746\n"
     ]
    },
    {
     "name": "stderr",
     "output_type": "stream",
     "text": [
      "Division 5/5:   7%|█████                                                                         | 66/1015 [00:09<02:27,  6.43it/s]"
     ]
    },
    {
     "name": "stdout",
     "output_type": "stream",
     "text": [
      "Epoch:   1 | Samples:     64/604 | RMSE Loss: 0.9221 | MSE Loss: 1.4157 | target: -4.1000 | pred: -3.3844\n"
     ]
    },
    {
     "name": "stderr",
     "output_type": "stream",
     "text": [
      "Division 5/5:  10%|███████▌                                                                      | 98/1015 [00:13<02:00,  7.61it/s]"
     ]
    },
    {
     "name": "stdout",
     "output_type": "stream",
     "text": [
      "Epoch:   1 | Samples:     96/604 | RMSE Loss: 0.8410 | MSE Loss: 1.1991 | target: -1.3300 | pred: -2.1145\n"
     ]
    },
    {
     "name": "stderr",
     "output_type": "stream",
     "text": [
      "Division 5/5:  13%|█████████▊                                                                   | 130/1015 [00:17<01:47,  8.24it/s]"
     ]
    },
    {
     "name": "stdout",
     "output_type": "stream",
     "text": [
      "Epoch:   1 | Samples:    128/604 | RMSE Loss: 0.8014 | MSE Loss: 1.0957 | target: 0.0090 | pred: -0.8596\n"
     ]
    },
    {
     "name": "stderr",
     "output_type": "stream",
     "text": [
      "Division 5/5:  16%|████████████▏                                                                | 160/1015 [00:21<01:48,  7.87it/s]"
     ]
    },
    {
     "name": "stdout",
     "output_type": "stream",
     "text": [
      "Epoch:   1 | Samples:    160/604 | RMSE Loss: 0.8116 | MSE Loss: 1.0847 | target: -1.0900 | pred: -1.7673\n"
     ]
    },
    {
     "name": "stderr",
     "output_type": "stream",
     "text": [
      "Division 5/5:  19%|██████████████▋                                                              | 194/1015 [00:26<02:03,  6.64it/s]"
     ]
    },
    {
     "name": "stdout",
     "output_type": "stream",
     "text": [
      "Epoch:   1 | Samples:    192/604 | RMSE Loss: 0.8267 | MSE Loss: 1.1683 | target: -1.3700 | pred: -2.2919\n"
     ]
    },
    {
     "name": "stderr",
     "output_type": "stream",
     "text": [
      "Division 5/5:  22%|█████████████████▏                                                           | 226/1015 [00:31<01:26,  9.10it/s]"
     ]
    },
    {
     "name": "stdout",
     "output_type": "stream",
     "text": [
      "Epoch:   1 | Samples:    224/604 | RMSE Loss: 0.8128 | MSE Loss: 1.1247 | target: -2.0500 | pred: -1.8974\n"
     ]
    },
    {
     "name": "stderr",
     "output_type": "stream",
     "text": [
      "Division 5/5:  25%|███████████████████▍                                                         | 257/1015 [00:36<01:51,  6.77it/s]"
     ]
    },
    {
     "name": "stdout",
     "output_type": "stream",
     "text": [
      "Epoch:   1 | Samples:    256/604 | RMSE Loss: 0.8115 | MSE Loss: 1.1014 | target: -4.4200 | pred: -4.9864\n"
     ]
    },
    {
     "name": "stderr",
     "output_type": "stream",
     "text": [
      "Division 5/5:  28%|█████████████████████▉                                                       | 289/1015 [00:41<02:09,  5.59it/s]"
     ]
    },
    {
     "name": "stdout",
     "output_type": "stream",
     "text": [
      "Epoch:   1 | Samples:    288/604 | RMSE Loss: 0.8233 | MSE Loss: 1.1248 | target: -2.3690 | pred: -2.5533\n"
     ]
    },
    {
     "name": "stderr",
     "output_type": "stream",
     "text": [
      "Division 5/5:  32%|████████████████████████▍                                                    | 322/1015 [00:45<01:27,  7.90it/s]"
     ]
    },
    {
     "name": "stdout",
     "output_type": "stream",
     "text": [
      "Epoch:   1 | Samples:    320/604 | RMSE Loss: 0.8115 | MSE Loss: 1.0871 | target: -3.3500 | pred: -4.2515\n"
     ]
    },
    {
     "name": "stderr",
     "output_type": "stream",
     "text": [
      "Division 5/5:  35%|██████████████████████████▊                                                  | 353/1015 [00:50<02:12,  5.01it/s]"
     ]
    },
    {
     "name": "stdout",
     "output_type": "stream",
     "text": [
      "Epoch:   1 | Samples:    352/604 | RMSE Loss: 0.8124 | MSE Loss: 1.1034 | target: -2.1480 | pred: -1.5492\n"
     ]
    },
    {
     "name": "stderr",
     "output_type": "stream",
     "text": [
      "Division 5/5:  38%|█████████████████████████████▎                                               | 386/1015 [00:56<01:36,  6.53it/s]"
     ]
    },
    {
     "name": "stdout",
     "output_type": "stream",
     "text": [
      "Epoch:   1 | Samples:    384/604 | RMSE Loss: 0.8109 | MSE Loss: 1.0980 | target: -3.4990 | pred: -5.1765\n"
     ]
    },
    {
     "name": "stderr",
     "output_type": "stream",
     "text": [
      "Division 5/5:  41%|███████████████████████████████▋                                             | 417/1015 [01:00<01:04,  9.26it/s]"
     ]
    },
    {
     "name": "stdout",
     "output_type": "stream",
     "text": [
      "Epoch:   1 | Samples:    416/604 | RMSE Loss: 0.8017 | MSE Loss: 1.0785 | target: -1.6140 | pred: -1.9954\n"
     ]
    },
    {
     "name": "stderr",
     "output_type": "stream",
     "text": [
      "Division 5/5:  44%|██████████████████████████████████▏                                          | 450/1015 [01:05<00:57,  9.85it/s]"
     ]
    },
    {
     "name": "stdout",
     "output_type": "stream",
     "text": [
      "Epoch:   1 | Samples:    448/604 | RMSE Loss: 0.7944 | MSE Loss: 1.0590 | target: -4.5600 | pred: -4.2195\n"
     ]
    },
    {
     "name": "stderr",
     "output_type": "stream",
     "text": [
      "Division 5/5:  47%|████████████████████████████████████▍                                        | 481/1015 [01:10<01:01,  8.61it/s]"
     ]
    },
    {
     "name": "stdout",
     "output_type": "stream",
     "text": [
      "Epoch:   1 | Samples:    480/604 | RMSE Loss: 0.7931 | MSE Loss: 1.0508 | target: -2.5100 | pred: -1.8161\n"
     ]
    },
    {
     "name": "stderr",
     "output_type": "stream",
     "text": [
      "Division 5/5:  51%|██████████████████████████████████████▉                                      | 514/1015 [01:14<01:19,  6.31it/s]"
     ]
    },
    {
     "name": "stdout",
     "output_type": "stream",
     "text": [
      "Epoch:   1 | Samples:    512/604 | RMSE Loss: 0.7879 | MSE Loss: 1.0318 | target: -3.3600 | pred: -2.1190\n"
     ]
    },
    {
     "name": "stderr",
     "output_type": "stream",
     "text": [
      "Division 5/5:  54%|█████████████████████████████████████████▍                                   | 546/1015 [01:19<00:58,  8.01it/s]"
     ]
    },
    {
     "name": "stdout",
     "output_type": "stream",
     "text": [
      "Epoch:   1 | Samples:    544/604 | RMSE Loss: 0.7969 | MSE Loss: 1.0647 | target: -7.6800 | pred: -7.1841\n"
     ]
    },
    {
     "name": "stderr",
     "output_type": "stream",
     "text": [
      "Division 5/5:  57%|███████████████████████████████████████████▊                                 | 578/1015 [01:24<00:59,  7.35it/s]"
     ]
    },
    {
     "name": "stdout",
     "output_type": "stream",
     "text": [
      "Epoch:   1 | Samples:    576/604 | RMSE Loss: 0.7931 | MSE Loss: 1.0494 | target: -2.8200 | pred: -2.8243\n"
     ]
    },
    {
     "name": "stderr",
     "output_type": "stream",
     "text": [
      "Division 5/5:  60%|█████████████████████████████████████████████▊                               | 604/1015 [01:27<00:59,  6.88it/s]\n",
      "Division 5/5:   0%|▏                                                                              | 3/1015 [00:00<02:03,  8.19it/s]"
     ]
    },
    {
     "name": "stdout",
     "output_type": "stream",
     "text": [
      "Epoch:   2 | Samples:      0/604 | RMSE Loss: 2.5879 | MSE Loss: 6.6973 | target: -4.5540 | pred: -1.9661\n"
     ]
    },
    {
     "name": "stderr",
     "output_type": "stream",
     "text": [
      "Division 5/5:   3%|██▌                                                                           | 34/1015 [00:04<02:18,  7.09it/s]"
     ]
    },
    {
     "name": "stdout",
     "output_type": "stream",
     "text": [
      "Epoch:   2 | Samples:     32/604 | RMSE Loss: 0.8715 | MSE Loss: 1.2499 | target: -3.8960 | pred: -4.8037\n"
     ]
    },
    {
     "name": "stderr",
     "output_type": "stream",
     "text": [
      "Division 5/5:   7%|█████                                                                         | 66/1015 [00:09<02:28,  6.40it/s]"
     ]
    },
    {
     "name": "stdout",
     "output_type": "stream",
     "text": [
      "Epoch:   2 | Samples:     64/604 | RMSE Loss: 0.7494 | MSE Loss: 1.0000 | target: -4.1000 | pred: -3.8060\n"
     ]
    },
    {
     "name": "stderr",
     "output_type": "stream",
     "text": [
      "Division 5/5:  10%|███████▌                                                                      | 98/1015 [00:13<02:00,  7.59it/s]"
     ]
    },
    {
     "name": "stdout",
     "output_type": "stream",
     "text": [
      "Epoch:   2 | Samples:     96/604 | RMSE Loss: 0.7234 | MSE Loss: 0.8931 | target: -1.3300 | pred: -1.4485\n"
     ]
    },
    {
     "name": "stderr",
     "output_type": "stream",
     "text": [
      "Division 5/5:  13%|█████████▊                                                                   | 130/1015 [00:17<01:47,  8.26it/s]"
     ]
    },
    {
     "name": "stdout",
     "output_type": "stream",
     "text": [
      "Epoch:   2 | Samples:    128/604 | RMSE Loss: 0.6832 | MSE Loss: 0.7932 | target: 0.0090 | pred: -0.4708\n"
     ]
    },
    {
     "name": "stderr",
     "output_type": "stream",
     "text": [
      "Division 5/5:  16%|████████████▏                                                                | 160/1015 [00:21<01:49,  7.82it/s]"
     ]
    },
    {
     "name": "stdout",
     "output_type": "stream",
     "text": [
      "Epoch:   2 | Samples:    160/604 | RMSE Loss: 0.6819 | MSE Loss: 0.7724 | target: -1.0900 | pred: -1.5625\n"
     ]
    },
    {
     "name": "stderr",
     "output_type": "stream",
     "text": [
      "Division 5/5:  19%|██████████████▋                                                              | 194/1015 [00:26<02:08,  6.40it/s]"
     ]
    },
    {
     "name": "stdout",
     "output_type": "stream",
     "text": [
      "Epoch:   2 | Samples:    192/604 | RMSE Loss: 0.6941 | MSE Loss: 0.8218 | target: -1.3700 | pred: -2.2189\n"
     ]
    },
    {
     "name": "stderr",
     "output_type": "stream",
     "text": [
      "Division 5/5:  22%|█████████████████▏                                                           | 226/1015 [00:31<01:28,  8.92it/s]"
     ]
    },
    {
     "name": "stdout",
     "output_type": "stream",
     "text": [
      "Epoch:   2 | Samples:    224/604 | RMSE Loss: 0.6924 | MSE Loss: 0.8114 | target: -2.0500 | pred: -1.9024\n"
     ]
    },
    {
     "name": "stderr",
     "output_type": "stream",
     "text": [
      "Division 5/5:  25%|███████████████████▍                                                         | 257/1015 [00:36<01:52,  6.74it/s]"
     ]
    },
    {
     "name": "stdout",
     "output_type": "stream",
     "text": [
      "Epoch:   2 | Samples:    256/604 | RMSE Loss: 0.6870 | MSE Loss: 0.7908 | target: -4.4200 | pred: -4.8985\n"
     ]
    },
    {
     "name": "stderr",
     "output_type": "stream",
     "text": [
      "Division 5/5:  28%|█████████████████████▉                                                       | 289/1015 [00:41<02:11,  5.54it/s]"
     ]
    },
    {
     "name": "stdout",
     "output_type": "stream",
     "text": [
      "Epoch:   2 | Samples:    288/604 | RMSE Loss: 0.6951 | MSE Loss: 0.8061 | target: -2.3690 | pred: -2.7828\n"
     ]
    },
    {
     "name": "stderr",
     "output_type": "stream",
     "text": [
      "Division 5/5:  32%|████████████████████████▌                                                    | 323/1015 [00:45<01:23,  8.31it/s]"
     ]
    },
    {
     "name": "stdout",
     "output_type": "stream",
     "text": [
      "Epoch:   2 | Samples:    320/604 | RMSE Loss: 0.6871 | MSE Loss: 0.7917 | target: -3.3500 | pred: -4.0872\n"
     ]
    },
    {
     "name": "stderr",
     "output_type": "stream",
     "text": [
      "Division 5/5:  35%|██████████████████████████▊                                                  | 353/1015 [00:50<02:12,  4.99it/s]"
     ]
    },
    {
     "name": "stdout",
     "output_type": "stream",
     "text": [
      "Epoch:   2 | Samples:    352/604 | RMSE Loss: 0.6934 | MSE Loss: 0.8153 | target: -2.1480 | pred: -1.7209\n"
     ]
    },
    {
     "name": "stderr",
     "output_type": "stream",
     "text": [
      "Division 5/5:  38%|█████████████████████████████▎                                               | 386/1015 [00:56<01:36,  6.55it/s]"
     ]
    },
    {
     "name": "stdout",
     "output_type": "stream",
     "text": [
      "Epoch:   2 | Samples:    384/604 | RMSE Loss: 0.6914 | MSE Loss: 0.8060 | target: -3.4990 | pred: -5.0315\n"
     ]
    },
    {
     "name": "stderr",
     "output_type": "stream",
     "text": [
      "Division 5/5:  41%|███████████████████████████████▋                                             | 418/1015 [01:00<01:09,  8.60it/s]"
     ]
    },
    {
     "name": "stdout",
     "output_type": "stream",
     "text": [
      "Epoch:   2 | Samples:    416/604 | RMSE Loss: 0.6818 | MSE Loss: 0.7909 | target: -1.6140 | pred: -2.2761\n"
     ]
    },
    {
     "name": "stderr",
     "output_type": "stream",
     "text": [
      "Division 5/5:  44%|██████████████████████████████████▏                                          | 450/1015 [01:06<00:57,  9.87it/s]"
     ]
    },
    {
     "name": "stdout",
     "output_type": "stream",
     "text": [
      "Epoch:   2 | Samples:    448/604 | RMSE Loss: 0.6788 | MSE Loss: 0.7812 | target: -4.5600 | pred: -4.1463\n"
     ]
    },
    {
     "name": "stderr",
     "output_type": "stream",
     "text": [
      "Division 5/5:  47%|████████████████████████████████████▍                                        | 481/1015 [01:10<01:03,  8.45it/s]"
     ]
    },
    {
     "name": "stdout",
     "output_type": "stream",
     "text": [
      "Epoch:   2 | Samples:    480/604 | RMSE Loss: 0.6787 | MSE Loss: 0.7731 | target: -2.5100 | pred: -1.5280\n"
     ]
    },
    {
     "name": "stderr",
     "output_type": "stream",
     "text": [
      "Division 5/5:  51%|██████████████████████████████████████▉                                      | 514/1015 [01:15<01:19,  6.27it/s]"
     ]
    },
    {
     "name": "stdout",
     "output_type": "stream",
     "text": [
      "Epoch:   2 | Samples:    512/604 | RMSE Loss: 0.6745 | MSE Loss: 0.7586 | target: -3.3600 | pred: -2.3259\n"
     ]
    },
    {
     "name": "stderr",
     "output_type": "stream",
     "text": [
      "Division 5/5:  54%|█████████████████████████████████████████▍                                   | 546/1015 [01:19<00:58,  7.96it/s]"
     ]
    },
    {
     "name": "stdout",
     "output_type": "stream",
     "text": [
      "Epoch:   2 | Samples:    544/604 | RMSE Loss: 0.6827 | MSE Loss: 0.7894 | target: -7.6800 | pred: -7.5861\n"
     ]
    },
    {
     "name": "stderr",
     "output_type": "stream",
     "text": [
      "Division 5/5:  57%|███████████████████████████████████████████▊                                 | 578/1015 [01:24<00:59,  7.31it/s]"
     ]
    },
    {
     "name": "stdout",
     "output_type": "stream",
     "text": [
      "Epoch:   2 | Samples:    576/604 | RMSE Loss: 0.6808 | MSE Loss: 0.7835 | target: -2.8200 | pred: -2.5999\n"
     ]
    },
    {
     "name": "stderr",
     "output_type": "stream",
     "text": [
      "Division 5/5:  60%|█████████████████████████████████████████████▊                               | 604/1015 [01:28<01:00,  6.84it/s]\n",
      "Division 5/5:   0%|▏                                                                              | 3/1015 [00:00<02:04,  8.10it/s]"
     ]
    },
    {
     "name": "stdout",
     "output_type": "stream",
     "text": [
      "Epoch:   3 | Samples:      0/604 | RMSE Loss: 1.8840 | MSE Loss: 3.5493 | target: -4.5540 | pred: -2.6700\n"
     ]
    },
    {
     "name": "stderr",
     "output_type": "stream",
     "text": [
      "Division 5/5:   3%|██▌                                                                           | 34/1015 [00:04<02:19,  7.06it/s]"
     ]
    },
    {
     "name": "stdout",
     "output_type": "stream",
     "text": [
      "Epoch:   3 | Samples:     32/604 | RMSE Loss: 0.7408 | MSE Loss: 0.8515 | target: -3.8960 | pred: -5.0698\n"
     ]
    },
    {
     "name": "stderr",
     "output_type": "stream",
     "text": [
      "Division 5/5:   7%|█████                                                                         | 66/1015 [00:09<02:29,  6.36it/s]"
     ]
    },
    {
     "name": "stdout",
     "output_type": "stream",
     "text": [
      "Epoch:   3 | Samples:     64/604 | RMSE Loss: 0.6470 | MSE Loss: 0.7342 | target: -4.1000 | pred: -4.1108\n"
     ]
    },
    {
     "name": "stderr",
     "output_type": "stream",
     "text": [
      "Division 5/5:  10%|███████▌                                                                      | 98/1015 [00:13<02:01,  7.53it/s]"
     ]
    },
    {
     "name": "stdout",
     "output_type": "stream",
     "text": [
      "Epoch:   3 | Samples:     96/604 | RMSE Loss: 0.6515 | MSE Loss: 0.7095 | target: -1.3300 | pred: -1.0576\n"
     ]
    },
    {
     "name": "stderr",
     "output_type": "stream",
     "text": [
      "Division 5/5:  13%|█████████▊                                                                   | 130/1015 [00:17<01:46,  8.28it/s]"
     ]
    },
    {
     "name": "stdout",
     "output_type": "stream",
     "text": [
      "Epoch:   3 | Samples:    128/604 | RMSE Loss: 0.6259 | MSE Loss: 0.6375 | target: 0.0090 | pred: -0.1853\n"
     ]
    },
    {
     "name": "stderr",
     "output_type": "stream",
     "text": [
      "Division 5/5:  16%|████████████▏                                                                | 160/1015 [00:21<01:48,  7.84it/s]"
     ]
    },
    {
     "name": "stdout",
     "output_type": "stream",
     "text": [
      "Epoch:   3 | Samples:    160/604 | RMSE Loss: 0.6160 | MSE Loss: 0.6185 | target: -1.0900 | pred: -1.5477\n"
     ]
    },
    {
     "name": "stderr",
     "output_type": "stream",
     "text": [
      "Division 5/5:  19%|██████████████▋                                                              | 194/1015 [00:26<02:05,  6.54it/s]"
     ]
    },
    {
     "name": "stdout",
     "output_type": "stream",
     "text": [
      "Epoch:   3 | Samples:    192/604 | RMSE Loss: 0.6231 | MSE Loss: 0.6472 | target: -1.3700 | pred: -2.2114\n"
     ]
    },
    {
     "name": "stderr",
     "output_type": "stream",
     "text": [
      "Division 5/5:  22%|█████████████████▏                                                           | 226/1015 [00:31<01:27,  9.00it/s]"
     ]
    },
    {
     "name": "stdout",
     "output_type": "stream",
     "text": [
      "Epoch:   3 | Samples:    224/604 | RMSE Loss: 0.6248 | MSE Loss: 0.6524 | target: -2.0500 | pred: -1.9616\n"
     ]
    },
    {
     "name": "stderr",
     "output_type": "stream",
     "text": [
      "Division 5/5:  25%|███████████████████▍                                                         | 257/1015 [00:36<01:52,  6.72it/s]"
     ]
    },
    {
     "name": "stdout",
     "output_type": "stream",
     "text": [
      "Epoch:   3 | Samples:    256/604 | RMSE Loss: 0.6195 | MSE Loss: 0.6357 | target: -4.4200 | pred: -4.8486\n"
     ]
    },
    {
     "name": "stderr",
     "output_type": "stream",
     "text": [
      "Division 5/5:  28%|█████████████████████▉                                                       | 289/1015 [00:41<02:10,  5.56it/s]"
     ]
    },
    {
     "name": "stdout",
     "output_type": "stream",
     "text": [
      "Epoch:   3 | Samples:    288/604 | RMSE Loss: 0.6270 | MSE Loss: 0.6507 | target: -2.3690 | pred: -2.8605\n"
     ]
    },
    {
     "name": "stderr",
     "output_type": "stream",
     "text": [
      "Division 5/5:  32%|████████████████████████▍                                                    | 322/1015 [00:45<01:28,  7.87it/s]"
     ]
    },
    {
     "name": "stdout",
     "output_type": "stream",
     "text": [
      "Epoch:   3 | Samples:    320/604 | RMSE Loss: 0.6217 | MSE Loss: 0.6468 | target: -3.3500 | pred: -3.9794\n"
     ]
    },
    {
     "name": "stderr",
     "output_type": "stream",
     "text": [
      "Division 5/5:  35%|██████████████████████████▊                                                  | 353/1015 [00:50<02:12,  5.00it/s]"
     ]
    },
    {
     "name": "stdout",
     "output_type": "stream",
     "text": [
      "Epoch:   3 | Samples:    352/604 | RMSE Loss: 0.6304 | MSE Loss: 0.6723 | target: -2.1480 | pred: -1.7463\n"
     ]
    },
    {
     "name": "stderr",
     "output_type": "stream",
     "text": [
      "Division 5/5:  38%|█████████████████████████████▎                                               | 386/1015 [00:56<01:36,  6.52it/s]"
     ]
    },
    {
     "name": "stdout",
     "output_type": "stream",
     "text": [
      "Epoch:   3 | Samples:    384/604 | RMSE Loss: 0.6298 | MSE Loss: 0.6647 | target: -3.4990 | pred: -4.9210\n"
     ]
    },
    {
     "name": "stderr",
     "output_type": "stream",
     "text": [
      "Division 5/5:  41%|███████████████████████████████▋                                             | 417/1015 [01:00<01:04,  9.23it/s]"
     ]
    },
    {
     "name": "stdout",
     "output_type": "stream",
     "text": [
      "Epoch:   3 | Samples:    416/604 | RMSE Loss: 0.6188 | MSE Loss: 0.6486 | target: -1.6140 | pred: -2.2872\n"
     ]
    },
    {
     "name": "stderr",
     "output_type": "stream",
     "text": [
      "Division 5/5:  44%|██████████████████████████████████▏                                          | 450/1015 [01:06<00:56,  9.96it/s]"
     ]
    },
    {
     "name": "stdout",
     "output_type": "stream",
     "text": [
      "Epoch:   3 | Samples:    448/604 | RMSE Loss: 0.6182 | MSE Loss: 0.6427 | target: -4.5600 | pred: -4.1408\n"
     ]
    },
    {
     "name": "stderr",
     "output_type": "stream",
     "text": [
      "Division 5/5:  47%|████████████████████████████████████▍                                        | 481/1015 [01:10<01:01,  8.65it/s]"
     ]
    },
    {
     "name": "stdout",
     "output_type": "stream",
     "text": [
      "Epoch:   3 | Samples:    480/604 | RMSE Loss: 0.6167 | MSE Loss: 0.6365 | target: -2.5100 | pred: -1.3870\n"
     ]
    },
    {
     "name": "stderr",
     "output_type": "stream",
     "text": [
      "Division 5/5:  51%|██████████████████████████████████████▉                                      | 513/1015 [01:14<01:13,  6.83it/s]"
     ]
    },
    {
     "name": "stdout",
     "output_type": "stream",
     "text": [
      "Epoch:   3 | Samples:    512/604 | RMSE Loss: 0.6144 | MSE Loss: 0.6266 | target: -3.3600 | pred: -2.5301\n"
     ]
    },
    {
     "name": "stderr",
     "output_type": "stream",
     "text": [
      "Division 5/5:  54%|█████████████████████████████████████████▍                                   | 546/1015 [01:19<00:57,  8.12it/s]"
     ]
    },
    {
     "name": "stdout",
     "output_type": "stream",
     "text": [
      "Epoch:   3 | Samples:    544/604 | RMSE Loss: 0.6227 | MSE Loss: 0.6553 | target: -7.6800 | pred: -7.8881\n"
     ]
    },
    {
     "name": "stderr",
     "output_type": "stream",
     "text": [
      "Division 5/5:  57%|███████████████████████████████████████████▊                                 | 578/1015 [01:24<00:59,  7.36it/s]"
     ]
    },
    {
     "name": "stdout",
     "output_type": "stream",
     "text": [
      "Epoch:   3 | Samples:    576/604 | RMSE Loss: 0.6200 | MSE Loss: 0.6520 | target: -2.8200 | pred: -2.5638\n"
     ]
    },
    {
     "name": "stderr",
     "output_type": "stream",
     "text": [
      "Division 5/5:  60%|█████████████████████████████████████████████▊                               | 604/1015 [01:27<00:59,  6.87it/s]\n",
      "Division 5/5:   0%|▏                                                                              | 3/1015 [00:00<02:06,  7.99it/s]"
     ]
    },
    {
     "name": "stdout",
     "output_type": "stream",
     "text": [
      "Epoch:   4 | Samples:      0/604 | RMSE Loss: 1.8027 | MSE Loss: 3.2496 | target: -4.5540 | pred: -2.7513\n"
     ]
    },
    {
     "name": "stderr",
     "output_type": "stream",
     "text": [
      "Division 5/5:   3%|██▌                                                                           | 34/1015 [00:04<02:18,  7.07it/s]"
     ]
    },
    {
     "name": "stdout",
     "output_type": "stream",
     "text": [
      "Epoch:   4 | Samples:     32/604 | RMSE Loss: 0.6947 | MSE Loss: 0.7342 | target: -3.8960 | pred: -5.1891\n"
     ]
    },
    {
     "name": "stderr",
     "output_type": "stream",
     "text": [
      "Division 5/5:   7%|█████                                                                         | 66/1015 [00:09<02:28,  6.37it/s]"
     ]
    },
    {
     "name": "stdout",
     "output_type": "stream",
     "text": [
      "Epoch:   4 | Samples:     64/604 | RMSE Loss: 0.5941 | MSE Loss: 0.6257 | target: -4.1000 | pred: -4.1795\n"
     ]
    },
    {
     "name": "stderr",
     "output_type": "stream",
     "text": [
      "Division 5/5:  10%|███████▌                                                                      | 98/1015 [00:13<02:00,  7.61it/s]"
     ]
    },
    {
     "name": "stdout",
     "output_type": "stream",
     "text": [
      "Epoch:   4 | Samples:     96/604 | RMSE Loss: 0.6060 | MSE Loss: 0.6263 | target: -1.3300 | pred: -0.9707\n"
     ]
    },
    {
     "name": "stderr",
     "output_type": "stream",
     "text": [
      "Division 5/5:  13%|█████████▊                                                                   | 130/1015 [00:17<01:48,  8.17it/s]"
     ]
    },
    {
     "name": "stdout",
     "output_type": "stream",
     "text": [
      "Epoch:   4 | Samples:    128/604 | RMSE Loss: 0.5859 | MSE Loss: 0.5651 | target: 0.0090 | pred: -0.0471\n"
     ]
    },
    {
     "name": "stderr",
     "output_type": "stream",
     "text": [
      "Division 5/5:  16%|████████████▏                                                                | 160/1015 [00:21<01:48,  7.87it/s]"
     ]
    },
    {
     "name": "stdout",
     "output_type": "stream",
     "text": [
      "Epoch:   4 | Samples:    160/604 | RMSE Loss: 0.5729 | MSE Loss: 0.5499 | target: -1.0900 | pred: -1.5381\n"
     ]
    },
    {
     "name": "stderr",
     "output_type": "stream",
     "text": [
      "Division 5/5:  19%|██████████████▋                                                              | 194/1015 [00:26<02:05,  6.56it/s]"
     ]
    },
    {
     "name": "stdout",
     "output_type": "stream",
     "text": [
      "Epoch:   4 | Samples:    192/604 | RMSE Loss: 0.5749 | MSE Loss: 0.5632 | target: -1.3700 | pred: -2.1782\n"
     ]
    },
    {
     "name": "stderr",
     "output_type": "stream",
     "text": [
      "Division 5/5:  22%|█████████████████▏                                                           | 226/1015 [00:31<01:27,  8.99it/s]"
     ]
    },
    {
     "name": "stdout",
     "output_type": "stream",
     "text": [
      "Epoch:   4 | Samples:    224/604 | RMSE Loss: 0.5837 | MSE Loss: 0.5783 | target: -2.0500 | pred: -2.0095\n"
     ]
    },
    {
     "name": "stderr",
     "output_type": "stream",
     "text": [
      "Division 5/5:  25%|███████████████████▍                                                         | 257/1015 [00:36<01:53,  6.70it/s]"
     ]
    },
    {
     "name": "stdout",
     "output_type": "stream",
     "text": [
      "Epoch:   4 | Samples:    256/604 | RMSE Loss: 0.5800 | MSE Loss: 0.5675 | target: -4.4200 | pred: -4.8367\n"
     ]
    },
    {
     "name": "stderr",
     "output_type": "stream",
     "text": [
      "Division 5/5:  28%|█████████████████████▉                                                       | 289/1015 [00:41<02:09,  5.58it/s]"
     ]
    },
    {
     "name": "stdout",
     "output_type": "stream",
     "text": [
      "Epoch:   4 | Samples:    288/604 | RMSE Loss: 0.5865 | MSE Loss: 0.5808 | target: -2.3690 | pred: -2.8914\n"
     ]
    },
    {
     "name": "stderr",
     "output_type": "stream",
     "text": [
      "Division 5/5:  32%|████████████████████████▍                                                    | 322/1015 [00:45<01:33,  7.42it/s]"
     ]
    },
    {
     "name": "stdout",
     "output_type": "stream",
     "text": [
      "Epoch:   4 | Samples:    320/604 | RMSE Loss: 0.5833 | MSE Loss: 0.5792 | target: -3.3500 | pred: -4.0625\n"
     ]
    },
    {
     "name": "stderr",
     "output_type": "stream",
     "text": [
      "Division 5/5:  35%|██████████████████████████▊                                                  | 353/1015 [00:50<02:12,  5.01it/s]"
     ]
    },
    {
     "name": "stdout",
     "output_type": "stream",
     "text": [
      "Epoch:   4 | Samples:    352/604 | RMSE Loss: 0.5907 | MSE Loss: 0.6024 | target: -2.1480 | pred: -1.8618\n"
     ]
    },
    {
     "name": "stderr",
     "output_type": "stream",
     "text": [
      "Division 5/5:  38%|█████████████████████████████▎                                               | 386/1015 [00:56<01:35,  6.58it/s]"
     ]
    },
    {
     "name": "stdout",
     "output_type": "stream",
     "text": [
      "Epoch:   4 | Samples:    384/604 | RMSE Loss: 0.5893 | MSE Loss: 0.5927 | target: -3.4990 | pred: -4.7294\n"
     ]
    },
    {
     "name": "stderr",
     "output_type": "stream",
     "text": [
      "Division 5/5:  41%|███████████████████████████████▋                                             | 418/1015 [01:00<01:08,  8.77it/s]"
     ]
    },
    {
     "name": "stdout",
     "output_type": "stream",
     "text": [
      "Epoch:   4 | Samples:    416/604 | RMSE Loss: 0.5772 | MSE Loss: 0.5753 | target: -1.6140 | pred: -2.3188\n"
     ]
    },
    {
     "name": "stderr",
     "output_type": "stream",
     "text": [
      "Division 5/5:  44%|██████████████████████████████████▏                                          | 450/1015 [01:06<00:55, 10.15it/s]"
     ]
    },
    {
     "name": "stdout",
     "output_type": "stream",
     "text": [
      "Epoch:   4 | Samples:    448/604 | RMSE Loss: 0.5781 | MSE Loss: 0.5710 | target: -4.5600 | pred: -4.1532\n"
     ]
    },
    {
     "name": "stderr",
     "output_type": "stream",
     "text": [
      "Division 5/5:  47%|████████████████████████████████████▍                                        | 481/1015 [01:10<01:01,  8.62it/s]"
     ]
    },
    {
     "name": "stdout",
     "output_type": "stream",
     "text": [
      "Epoch:   4 | Samples:    480/604 | RMSE Loss: 0.5766 | MSE Loss: 0.5650 | target: -2.5100 | pred: -1.3570\n"
     ]
    },
    {
     "name": "stderr",
     "output_type": "stream",
     "text": [
      "Division 5/5:  51%|██████████████████████████████████████▉                                      | 514/1015 [01:14<01:19,  6.34it/s]"
     ]
    },
    {
     "name": "stdout",
     "output_type": "stream",
     "text": [
      "Epoch:   4 | Samples:    512/604 | RMSE Loss: 0.5751 | MSE Loss: 0.5571 | target: -3.3600 | pred: -2.6866\n"
     ]
    },
    {
     "name": "stderr",
     "output_type": "stream",
     "text": [
      "Division 5/5:  54%|█████████████████████████████████████████▍                                   | 546/1015 [01:19<00:57,  8.13it/s]"
     ]
    },
    {
     "name": "stdout",
     "output_type": "stream",
     "text": [
      "Epoch:   4 | Samples:    544/604 | RMSE Loss: 0.5828 | MSE Loss: 0.5831 | target: -7.6800 | pred: -8.0847\n"
     ]
    },
    {
     "name": "stderr",
     "output_type": "stream",
     "text": [
      "Division 5/5:  57%|███████████████████████████████████████████▊                                 | 578/1015 [01:24<00:59,  7.38it/s]"
     ]
    },
    {
     "name": "stdout",
     "output_type": "stream",
     "text": [
      "Epoch:   4 | Samples:    576/604 | RMSE Loss: 0.5799 | MSE Loss: 0.5799 | target: -2.8200 | pred: -2.5113\n"
     ]
    },
    {
     "name": "stderr",
     "output_type": "stream",
     "text": [
      "Division 5/5:  60%|█████████████████████████████████████████████▊                               | 604/1015 [01:27<00:59,  6.87it/s]\n",
      "Division 5/5:   0%|▏                                                                              | 3/1015 [00:00<02:02,  8.25it/s]"
     ]
    },
    {
     "name": "stdout",
     "output_type": "stream",
     "text": [
      "Epoch:   5 | Samples:      0/604 | RMSE Loss: 1.6870 | MSE Loss: 2.8460 | target: -4.5540 | pred: -2.8670\n"
     ]
    },
    {
     "name": "stderr",
     "output_type": "stream",
     "text": [
      "Division 5/5:   3%|██▌                                                                           | 34/1015 [00:04<02:18,  7.10it/s]"
     ]
    },
    {
     "name": "stdout",
     "output_type": "stream",
     "text": [
      "Epoch:   5 | Samples:     32/604 | RMSE Loss: 0.6576 | MSE Loss: 0.6627 | target: -3.8960 | pred: -5.2613\n"
     ]
    },
    {
     "name": "stderr",
     "output_type": "stream",
     "text": [
      "Division 5/5:   7%|█████                                                                         | 66/1015 [00:09<02:28,  6.40it/s]"
     ]
    },
    {
     "name": "stdout",
     "output_type": "stream",
     "text": [
      "Epoch:   5 | Samples:     64/604 | RMSE Loss: 0.5516 | MSE Loss: 0.5545 | target: -4.1000 | pred: -4.2373\n"
     ]
    },
    {
     "name": "stderr",
     "output_type": "stream",
     "text": [
      "Division 5/5:  10%|███████▌                                                                      | 98/1015 [00:13<02:02,  7.51it/s]"
     ]
    },
    {
     "name": "stdout",
     "output_type": "stream",
     "text": [
      "Epoch:   5 | Samples:     96/604 | RMSE Loss: 0.5648 | MSE Loss: 0.5639 | target: -1.3300 | pred: -0.9572\n"
     ]
    },
    {
     "name": "stderr",
     "output_type": "stream",
     "text": [
      "Division 5/5:  13%|█████████▊                                                                   | 130/1015 [00:17<01:48,  8.16it/s]"
     ]
    },
    {
     "name": "stdout",
     "output_type": "stream",
     "text": [
      "Epoch:   5 | Samples:    128/604 | RMSE Loss: 0.5493 | MSE Loss: 0.5125 | target: 0.0090 | pred: -0.0217\n"
     ]
    },
    {
     "name": "stderr",
     "output_type": "stream",
     "text": [
      "Division 5/5:  16%|████████████▏                                                                | 160/1015 [00:21<01:47,  7.92it/s]"
     ]
    },
    {
     "name": "stdout",
     "output_type": "stream",
     "text": [
      "Epoch:   5 | Samples:    160/604 | RMSE Loss: 0.5384 | MSE Loss: 0.5034 | target: -1.0900 | pred: -1.5531\n"
     ]
    },
    {
     "name": "stderr",
     "output_type": "stream",
     "text": [
      "Division 5/5:  19%|██████████████▋                                                              | 194/1015 [00:26<02:05,  6.56it/s]"
     ]
    },
    {
     "name": "stdout",
     "output_type": "stream",
     "text": [
      "Epoch:   5 | Samples:    192/604 | RMSE Loss: 0.5362 | MSE Loss: 0.5068 | target: -1.3700 | pred: -2.1420\n"
     ]
    },
    {
     "name": "stderr",
     "output_type": "stream",
     "text": [
      "Division 5/5:  22%|█████████████████▏                                                           | 226/1015 [00:31<01:27,  9.03it/s]"
     ]
    },
    {
     "name": "stdout",
     "output_type": "stream",
     "text": [
      "Epoch:   5 | Samples:    224/604 | RMSE Loss: 0.5477 | MSE Loss: 0.5218 | target: -2.0500 | pred: -1.9682\n"
     ]
    },
    {
     "name": "stderr",
     "output_type": "stream",
     "text": [
      "Division 5/5:  25%|███████████████████▍                                                         | 257/1015 [00:36<01:51,  6.77it/s]"
     ]
    },
    {
     "name": "stdout",
     "output_type": "stream",
     "text": [
      "Epoch:   5 | Samples:    256/604 | RMSE Loss: 0.5462 | MSE Loss: 0.5154 | target: -4.4200 | pred: -4.8024\n"
     ]
    },
    {
     "name": "stderr",
     "output_type": "stream",
     "text": [
      "Division 5/5:  28%|█████████████████████▉                                                       | 289/1015 [00:41<02:10,  5.58it/s]"
     ]
    },
    {
     "name": "stdout",
     "output_type": "stream",
     "text": [
      "Epoch:   5 | Samples:    288/604 | RMSE Loss: 0.5524 | MSE Loss: 0.5269 | target: -2.3690 | pred: -2.8524\n"
     ]
    },
    {
     "name": "stderr",
     "output_type": "stream",
     "text": [
      "Division 5/5:  32%|████████████████████████▍                                                    | 322/1015 [00:45<01:27,  7.92it/s]"
     ]
    },
    {
     "name": "stdout",
     "output_type": "stream",
     "text": [
      "Epoch:   5 | Samples:    320/604 | RMSE Loss: 0.5509 | MSE Loss: 0.5264 | target: -3.3500 | pred: -4.1204\n"
     ]
    },
    {
     "name": "stderr",
     "output_type": "stream",
     "text": [
      "Division 5/5:  35%|██████████████████████████▊                                                  | 353/1015 [00:50<02:12,  5.01it/s]"
     ]
    },
    {
     "name": "stdout",
     "output_type": "stream",
     "text": [
      "Epoch:   5 | Samples:    352/604 | RMSE Loss: 0.5572 | MSE Loss: 0.5459 | target: -2.1480 | pred: -1.9435\n"
     ]
    },
    {
     "name": "stderr",
     "output_type": "stream",
     "text": [
      "Division 5/5:  38%|█████████████████████████████▎                                               | 386/1015 [00:56<01:36,  6.52it/s]"
     ]
    },
    {
     "name": "stdout",
     "output_type": "stream",
     "text": [
      "Epoch:   5 | Samples:    384/604 | RMSE Loss: 0.5545 | MSE Loss: 0.5343 | target: -3.4990 | pred: -4.4859\n"
     ]
    },
    {
     "name": "stderr",
     "output_type": "stream",
     "text": [
      "Division 5/5:  41%|███████████████████████████████▋                                             | 418/1015 [01:00<01:08,  8.68it/s]"
     ]
    },
    {
     "name": "stdout",
     "output_type": "stream",
     "text": [
      "Epoch:   5 | Samples:    416/604 | RMSE Loss: 0.5426 | MSE Loss: 0.5176 | target: -1.6140 | pred: -2.3039\n"
     ]
    },
    {
     "name": "stderr",
     "output_type": "stream",
     "text": [
      "Division 5/5:  44%|██████████████████████████████████▏                                          | 450/1015 [01:06<00:57,  9.86it/s]"
     ]
    },
    {
     "name": "stdout",
     "output_type": "stream",
     "text": [
      "Epoch:   5 | Samples:    448/604 | RMSE Loss: 0.5445 | MSE Loss: 0.5145 | target: -4.5600 | pred: -4.1888\n"
     ]
    },
    {
     "name": "stderr",
     "output_type": "stream",
     "text": [
      "Division 5/5:  47%|████████████████████████████████████▍                                        | 481/1015 [01:10<01:02,  8.51it/s]"
     ]
    },
    {
     "name": "stdout",
     "output_type": "stream",
     "text": [
      "Epoch:   5 | Samples:    480/604 | RMSE Loss: 0.5422 | MSE Loss: 0.5078 | target: -2.5100 | pred: -1.3380\n"
     ]
    },
    {
     "name": "stderr",
     "output_type": "stream",
     "text": [
      "Division 5/5:  51%|██████████████████████████████████████▉                                      | 514/1015 [01:14<01:19,  6.31it/s]"
     ]
    },
    {
     "name": "stdout",
     "output_type": "stream",
     "text": [
      "Epoch:   5 | Samples:    512/604 | RMSE Loss: 0.5407 | MSE Loss: 0.5014 | target: -3.3600 | pred: -2.9568\n"
     ]
    },
    {
     "name": "stderr",
     "output_type": "stream",
     "text": [
      "Division 5/5:  54%|█████████████████████████████████████████▍                                   | 546/1015 [01:19<00:57,  8.09it/s]"
     ]
    },
    {
     "name": "stdout",
     "output_type": "stream",
     "text": [
      "Epoch:   5 | Samples:    544/604 | RMSE Loss: 0.5490 | MSE Loss: 0.5268 | target: -7.6800 | pred: -8.2428\n"
     ]
    },
    {
     "name": "stderr",
     "output_type": "stream",
     "text": [
      "Division 5/5:  57%|███████████████████████████████████████████▊                                 | 578/1015 [01:24<00:59,  7.39it/s]"
     ]
    },
    {
     "name": "stdout",
     "output_type": "stream",
     "text": [
      "Epoch:   5 | Samples:    576/604 | RMSE Loss: 0.5476 | MSE Loss: 0.5248 | target: -2.8200 | pred: -2.4628\n"
     ]
    },
    {
     "name": "stderr",
     "output_type": "stream",
     "text": [
      "Division 5/5:  60%|█████████████████████████████████████████████▊                               | 604/1015 [01:27<00:59,  6.89it/s]\n",
      "Division 5/5:   0%|▏                                                                              | 3/1015 [00:00<02:04,  8.13it/s]"
     ]
    },
    {
     "name": "stdout",
     "output_type": "stream",
     "text": [
      "Epoch:   6 | Samples:      0/604 | RMSE Loss: 1.5085 | MSE Loss: 2.2755 | target: -4.5540 | pred: -3.0455\n"
     ]
    },
    {
     "name": "stderr",
     "output_type": "stream",
     "text": [
      "Division 5/5:   3%|██▌                                                                           | 34/1015 [00:04<02:19,  7.05it/s]"
     ]
    },
    {
     "name": "stdout",
     "output_type": "stream",
     "text": [
      "Epoch:   6 | Samples:     32/604 | RMSE Loss: 0.6142 | MSE Loss: 0.5874 | target: -3.8960 | pred: -5.3354\n"
     ]
    },
    {
     "name": "stderr",
     "output_type": "stream",
     "text": [
      "Division 5/5:   7%|█████                                                                         | 66/1015 [00:09<02:27,  6.43it/s]"
     ]
    },
    {
     "name": "stdout",
     "output_type": "stream",
     "text": [
      "Epoch:   6 | Samples:     64/604 | RMSE Loss: 0.5154 | MSE Loss: 0.4905 | target: -4.1000 | pred: -4.2555\n"
     ]
    },
    {
     "name": "stderr",
     "output_type": "stream",
     "text": [
      "Division 5/5:  10%|███████▌                                                                      | 98/1015 [00:13<02:00,  7.64it/s]"
     ]
    },
    {
     "name": "stdout",
     "output_type": "stream",
     "text": [
      "Epoch:   6 | Samples:     96/604 | RMSE Loss: 0.5328 | MSE Loss: 0.5098 | target: -1.3300 | pred: -0.9502\n"
     ]
    },
    {
     "name": "stderr",
     "output_type": "stream",
     "text": [
      "Division 5/5:  13%|█████████▊                                                                   | 130/1015 [00:17<01:47,  8.21it/s]"
     ]
    },
    {
     "name": "stdout",
     "output_type": "stream",
     "text": [
      "Epoch:   6 | Samples:    128/604 | RMSE Loss: 0.5191 | MSE Loss: 0.4660 | target: 0.0090 | pred: 0.0973\n"
     ]
    },
    {
     "name": "stderr",
     "output_type": "stream",
     "text": [
      "Division 5/5:  16%|████████████▏                                                                | 160/1015 [00:21<01:49,  7.82it/s]"
     ]
    },
    {
     "name": "stdout",
     "output_type": "stream",
     "text": [
      "Epoch:   6 | Samples:    160/604 | RMSE Loss: 0.5085 | MSE Loss: 0.4586 | target: -1.0900 | pred: -1.5401\n"
     ]
    },
    {
     "name": "stderr",
     "output_type": "stream",
     "text": [
      "Division 5/5:  19%|██████████████▋                                                              | 194/1015 [00:26<02:04,  6.58it/s]"
     ]
    },
    {
     "name": "stdout",
     "output_type": "stream",
     "text": [
      "Epoch:   6 | Samples:    192/604 | RMSE Loss: 0.5069 | MSE Loss: 0.4568 | target: -1.3700 | pred: -2.0632\n"
     ]
    },
    {
     "name": "stderr",
     "output_type": "stream",
     "text": [
      "Division 5/5:  22%|█████████████████▏                                                           | 226/1015 [00:31<01:27,  9.00it/s]"
     ]
    },
    {
     "name": "stdout",
     "output_type": "stream",
     "text": [
      "Epoch:   6 | Samples:    224/604 | RMSE Loss: 0.5193 | MSE Loss: 0.4711 | target: -2.0500 | pred: -1.9647\n"
     ]
    },
    {
     "name": "stderr",
     "output_type": "stream",
     "text": [
      "Division 5/5:  25%|███████████████████▍                                                         | 257/1015 [00:36<01:53,  6.65it/s]"
     ]
    },
    {
     "name": "stdout",
     "output_type": "stream",
     "text": [
      "Epoch:   6 | Samples:    256/604 | RMSE Loss: 0.5211 | MSE Loss: 0.4697 | target: -4.4200 | pred: -4.7915\n"
     ]
    },
    {
     "name": "stderr",
     "output_type": "stream",
     "text": [
      "Division 5/5:  28%|█████████████████████▉                                                       | 289/1015 [00:41<02:09,  5.61it/s]"
     ]
    },
    {
     "name": "stdout",
     "output_type": "stream",
     "text": [
      "Epoch:   6 | Samples:    288/604 | RMSE Loss: 0.5274 | MSE Loss: 0.4809 | target: -2.3690 | pred: -2.8034\n"
     ]
    },
    {
     "name": "stderr",
     "output_type": "stream",
     "text": [
      "Division 5/5:  32%|████████████████████████▍                                                    | 322/1015 [00:45<01:28,  7.85it/s]"
     ]
    },
    {
     "name": "stdout",
     "output_type": "stream",
     "text": [
      "Epoch:   6 | Samples:    320/604 | RMSE Loss: 0.5256 | MSE Loss: 0.4797 | target: -3.3500 | pred: -4.1671\n"
     ]
    },
    {
     "name": "stderr",
     "output_type": "stream",
     "text": [
      "Division 5/5:  35%|██████████████████████████▊                                                  | 353/1015 [00:50<02:12,  5.00it/s]"
     ]
    },
    {
     "name": "stdout",
     "output_type": "stream",
     "text": [
      "Epoch:   6 | Samples:    352/604 | RMSE Loss: 0.5321 | MSE Loss: 0.4982 | target: -2.1480 | pred: -1.9416\n"
     ]
    },
    {
     "name": "stderr",
     "output_type": "stream",
     "text": [
      "Division 5/5:  38%|█████████████████████████████▎                                               | 386/1015 [00:56<01:36,  6.51it/s]"
     ]
    },
    {
     "name": "stdout",
     "output_type": "stream",
     "text": [
      "Epoch:   6 | Samples:    384/604 | RMSE Loss: 0.5294 | MSE Loss: 0.4867 | target: -3.4990 | pred: -4.4302\n"
     ]
    },
    {
     "name": "stderr",
     "output_type": "stream",
     "text": [
      "Division 5/5:  41%|███████████████████████████████▋                                             | 418/1015 [01:00<01:08,  8.76it/s]"
     ]
    },
    {
     "name": "stdout",
     "output_type": "stream",
     "text": [
      "Epoch:   6 | Samples:    416/604 | RMSE Loss: 0.5179 | MSE Loss: 0.4715 | target: -1.6140 | pred: -2.2679\n"
     ]
    },
    {
     "name": "stderr",
     "output_type": "stream",
     "text": [
      "Division 5/5:  44%|██████████████████████████████████▏                                          | 450/1015 [01:06<00:57,  9.82it/s]"
     ]
    },
    {
     "name": "stdout",
     "output_type": "stream",
     "text": [
      "Epoch:   6 | Samples:    448/604 | RMSE Loss: 0.5201 | MSE Loss: 0.4688 | target: -4.5600 | pred: -4.2432\n"
     ]
    },
    {
     "name": "stderr",
     "output_type": "stream",
     "text": [
      "Division 5/5:  47%|████████████████████████████████████▍                                        | 481/1015 [01:10<01:01,  8.62it/s]"
     ]
    },
    {
     "name": "stdout",
     "output_type": "stream",
     "text": [
      "Epoch:   6 | Samples:    480/604 | RMSE Loss: 0.5180 | MSE Loss: 0.4627 | target: -2.5100 | pred: -1.3650\n"
     ]
    },
    {
     "name": "stderr",
     "output_type": "stream",
     "text": [
      "Division 5/5:  51%|██████████████████████████████████████▉                                      | 514/1015 [01:14<01:19,  6.32it/s]"
     ]
    },
    {
     "name": "stdout",
     "output_type": "stream",
     "text": [
      "Epoch:   6 | Samples:    512/604 | RMSE Loss: 0.5175 | MSE Loss: 0.4586 | target: -3.3600 | pred: -3.0982\n"
     ]
    },
    {
     "name": "stderr",
     "output_type": "stream",
     "text": [
      "Division 5/5:  54%|█████████████████████████████████████████▍                                   | 546/1015 [01:19<00:57,  8.16it/s]"
     ]
    },
    {
     "name": "stdout",
     "output_type": "stream",
     "text": [
      "Epoch:   6 | Samples:    544/604 | RMSE Loss: 0.5262 | MSE Loss: 0.4843 | target: -7.6800 | pred: -8.3896\n"
     ]
    },
    {
     "name": "stderr",
     "output_type": "stream",
     "text": [
      "Division 5/5:  57%|███████████████████████████████████████████▊                                 | 578/1015 [01:24<00:59,  7.38it/s]"
     ]
    },
    {
     "name": "stdout",
     "output_type": "stream",
     "text": [
      "Epoch:   6 | Samples:    576/604 | RMSE Loss: 0.5254 | MSE Loss: 0.4834 | target: -2.8200 | pred: -2.4670\n"
     ]
    },
    {
     "name": "stderr",
     "output_type": "stream",
     "text": [
      "Division 5/5:  60%|█████████████████████████████████████████████▊                               | 604/1015 [01:27<00:59,  6.88it/s]\n",
      "Division 5/5:   0%|▏                                                                              | 3/1015 [00:00<02:02,  8.23it/s]"
     ]
    },
    {
     "name": "stdout",
     "output_type": "stream",
     "text": [
      "Epoch:   7 | Samples:      0/604 | RMSE Loss: 1.4190 | MSE Loss: 2.0136 | target: -4.5540 | pred: -3.1350\n"
     ]
    },
    {
     "name": "stderr",
     "output_type": "stream",
     "text": [
      "Division 5/5:   3%|██▌                                                                           | 34/1015 [00:04<02:18,  7.07it/s]"
     ]
    },
    {
     "name": "stdout",
     "output_type": "stream",
     "text": [
      "Epoch:   7 | Samples:     32/604 | RMSE Loss: 0.5862 | MSE Loss: 0.5455 | target: -3.8960 | pred: -5.3957\n"
     ]
    },
    {
     "name": "stderr",
     "output_type": "stream",
     "text": [
      "Division 5/5:   7%|█████                                                                         | 66/1015 [00:09<02:28,  6.39it/s]"
     ]
    },
    {
     "name": "stdout",
     "output_type": "stream",
     "text": [
      "Epoch:   7 | Samples:     64/604 | RMSE Loss: 0.4905 | MSE Loss: 0.4477 | target: -4.1000 | pred: -4.2508\n"
     ]
    },
    {
     "name": "stderr",
     "output_type": "stream",
     "text": [
      "Division 5/5:  10%|███████▌                                                                      | 98/1015 [00:13<02:01,  7.54it/s]"
     ]
    },
    {
     "name": "stdout",
     "output_type": "stream",
     "text": [
      "Epoch:   7 | Samples:     96/604 | RMSE Loss: 0.5107 | MSE Loss: 0.4723 | target: -1.3300 | pred: -1.0128\n"
     ]
    },
    {
     "name": "stderr",
     "output_type": "stream",
     "text": [
      "Division 5/5:  13%|█████████▊                                                                   | 130/1015 [00:17<01:47,  8.25it/s]"
     ]
    },
    {
     "name": "stdout",
     "output_type": "stream",
     "text": [
      "Epoch:   7 | Samples:    128/604 | RMSE Loss: 0.4966 | MSE Loss: 0.4320 | target: 0.0090 | pred: 0.1715\n"
     ]
    },
    {
     "name": "stderr",
     "output_type": "stream",
     "text": [
      "Division 5/5:  16%|████████████▏                                                                | 160/1015 [00:21<01:48,  7.85it/s]"
     ]
    },
    {
     "name": "stdout",
     "output_type": "stream",
     "text": [
      "Epoch:   7 | Samples:    160/604 | RMSE Loss: 0.4894 | MSE Loss: 0.4270 | target: -1.0900 | pred: -1.5605\n"
     ]
    },
    {
     "name": "stderr",
     "output_type": "stream",
     "text": [
      "Division 5/5:  19%|██████████████▋                                                              | 194/1015 [00:26<02:05,  6.54it/s]"
     ]
    },
    {
     "name": "stdout",
     "output_type": "stream",
     "text": [
      "Epoch:   7 | Samples:    192/604 | RMSE Loss: 0.4878 | MSE Loss: 0.4217 | target: -1.3700 | pred: -2.0581\n"
     ]
    },
    {
     "name": "stderr",
     "output_type": "stream",
     "text": [
      "Division 5/5:  22%|█████████████████▏                                                           | 226/1015 [00:31<01:28,  8.93it/s]"
     ]
    },
    {
     "name": "stdout",
     "output_type": "stream",
     "text": [
      "Epoch:   7 | Samples:    224/604 | RMSE Loss: 0.5006 | MSE Loss: 0.4354 | target: -2.0500 | pred: -1.9884\n"
     ]
    },
    {
     "name": "stderr",
     "output_type": "stream",
     "text": [
      "Division 5/5:  25%|███████████████████▍                                                         | 257/1015 [00:36<01:53,  6.69it/s]"
     ]
    },
    {
     "name": "stdout",
     "output_type": "stream",
     "text": [
      "Epoch:   7 | Samples:    256/604 | RMSE Loss: 0.5040 | MSE Loss: 0.4378 | target: -4.4200 | pred: -4.7516\n"
     ]
    },
    {
     "name": "stderr",
     "output_type": "stream",
     "text": [
      "Division 5/5:  28%|█████████████████████▉                                                       | 289/1015 [00:41<02:10,  5.56it/s]"
     ]
    },
    {
     "name": "stdout",
     "output_type": "stream",
     "text": [
      "Epoch:   7 | Samples:    288/604 | RMSE Loss: 0.5104 | MSE Loss: 0.4487 | target: -2.3690 | pred: -2.7648\n"
     ]
    },
    {
     "name": "stderr",
     "output_type": "stream",
     "text": [
      "Division 5/5:  32%|████████████████████████▌                                                    | 323/1015 [00:45<01:23,  8.32it/s]"
     ]
    },
    {
     "name": "stdout",
     "output_type": "stream",
     "text": [
      "Epoch:   7 | Samples:    320/604 | RMSE Loss: 0.5070 | MSE Loss: 0.4466 | target: -3.3500 | pred: -4.2271\n"
     ]
    },
    {
     "name": "stderr",
     "output_type": "stream",
     "text": [
      "Division 5/5:  35%|██████████████████████████▊                                                  | 353/1015 [00:50<02:12,  5.00it/s]"
     ]
    },
    {
     "name": "stdout",
     "output_type": "stream",
     "text": [
      "Epoch:   7 | Samples:    352/604 | RMSE Loss: 0.5132 | MSE Loss: 0.4629 | target: -2.1480 | pred: -1.9003\n"
     ]
    },
    {
     "name": "stderr",
     "output_type": "stream",
     "text": [
      "Division 5/5:  38%|█████████████████████████████▎                                               | 386/1015 [00:56<01:36,  6.51it/s]"
     ]
    },
    {
     "name": "stdout",
     "output_type": "stream",
     "text": [
      "Epoch:   7 | Samples:    384/604 | RMSE Loss: 0.5098 | MSE Loss: 0.4514 | target: -3.4990 | pred: -4.3068\n"
     ]
    },
    {
     "name": "stderr",
     "output_type": "stream",
     "text": [
      "Division 5/5:  41%|███████████████████████████████▋                                             | 418/1015 [01:00<01:08,  8.75it/s]"
     ]
    },
    {
     "name": "stdout",
     "output_type": "stream",
     "text": [
      "Epoch:   7 | Samples:    416/604 | RMSE Loss: 0.4992 | MSE Loss: 0.4378 | target: -1.6140 | pred: -2.2062\n"
     ]
    },
    {
     "name": "stderr",
     "output_type": "stream",
     "text": [
      "Division 5/5:  44%|██████████████████████████████████▏                                          | 450/1015 [01:06<00:57,  9.88it/s]"
     ]
    },
    {
     "name": "stdout",
     "output_type": "stream",
     "text": [
      "Epoch:   7 | Samples:    448/604 | RMSE Loss: 0.5019 | MSE Loss: 0.4360 | target: -4.5600 | pred: -4.3096\n"
     ]
    },
    {
     "name": "stderr",
     "output_type": "stream",
     "text": [
      "Division 5/5:  47%|████████████████████████████████████▍                                        | 481/1015 [01:10<01:02,  8.59it/s]"
     ]
    },
    {
     "name": "stdout",
     "output_type": "stream",
     "text": [
      "Epoch:   7 | Samples:    480/604 | RMSE Loss: 0.4987 | MSE Loss: 0.4295 | target: -2.5100 | pred: -1.3858\n"
     ]
    },
    {
     "name": "stderr",
     "output_type": "stream",
     "text": [
      "Division 5/5:  51%|██████████████████████████████████████▉                                      | 514/1015 [01:15<01:19,  6.30it/s]"
     ]
    },
    {
     "name": "stdout",
     "output_type": "stream",
     "text": [
      "Epoch:   7 | Samples:    512/604 | RMSE Loss: 0.4983 | MSE Loss: 0.4264 | target: -3.3600 | pred: -3.2283\n"
     ]
    },
    {
     "name": "stderr",
     "output_type": "stream",
     "text": [
      "Division 5/5:  54%|█████████████████████████████████████████▍                                   | 546/1015 [01:19<00:57,  8.14it/s]"
     ]
    },
    {
     "name": "stdout",
     "output_type": "stream",
     "text": [
      "Epoch:   7 | Samples:    544/604 | RMSE Loss: 0.5080 | MSE Loss: 0.4522 | target: -7.6800 | pred: -8.4608\n"
     ]
    },
    {
     "name": "stderr",
     "output_type": "stream",
     "text": [
      "Division 5/5:  57%|███████████████████████████████████████████▊                                 | 578/1015 [01:24<00:59,  7.37it/s]"
     ]
    },
    {
     "name": "stdout",
     "output_type": "stream",
     "text": [
      "Epoch:   7 | Samples:    576/604 | RMSE Loss: 0.5081 | MSE Loss: 0.4526 | target: -2.8200 | pred: -2.4511\n"
     ]
    },
    {
     "name": "stderr",
     "output_type": "stream",
     "text": [
      "Division 5/5:  60%|█████████████████████████████████████████████▊                               | 604/1015 [01:27<00:59,  6.86it/s]\n",
      "Division 5/5:   0%|▏                                                                              | 3/1015 [00:00<02:02,  8.25it/s]"
     ]
    },
    {
     "name": "stdout",
     "output_type": "stream",
     "text": [
      "Epoch:   8 | Samples:      0/604 | RMSE Loss: 1.3654 | MSE Loss: 1.8643 | target: -4.5540 | pred: -3.1886\n"
     ]
    },
    {
     "name": "stderr",
     "output_type": "stream",
     "text": [
      "Division 5/5:   3%|██▌                                                                           | 34/1015 [00:04<02:19,  7.05it/s]"
     ]
    },
    {
     "name": "stdout",
     "output_type": "stream",
     "text": [
      "Epoch:   8 | Samples:     32/604 | RMSE Loss: 0.5728 | MSE Loss: 0.5250 | target: -3.8960 | pred: -5.4762\n"
     ]
    },
    {
     "name": "stderr",
     "output_type": "stream",
     "text": [
      "Division 5/5:   7%|█████                                                                         | 66/1015 [00:09<02:30,  6.32it/s]"
     ]
    },
    {
     "name": "stdout",
     "output_type": "stream",
     "text": [
      "Epoch:   8 | Samples:     64/604 | RMSE Loss: 0.4747 | MSE Loss: 0.4217 | target: -4.1000 | pred: -4.1997\n"
     ]
    },
    {
     "name": "stderr",
     "output_type": "stream",
     "text": [
      "Division 5/5:  10%|███████▌                                                                      | 98/1015 [00:13<02:01,  7.57it/s]"
     ]
    },
    {
     "name": "stdout",
     "output_type": "stream",
     "text": [
      "Epoch:   8 | Samples:     96/604 | RMSE Loss: 0.4954 | MSE Loss: 0.4456 | target: -1.3300 | pred: -1.0741\n"
     ]
    },
    {
     "name": "stderr",
     "output_type": "stream",
     "text": [
      "Division 5/5:  13%|█████████▊                                                                   | 130/1015 [00:17<01:47,  8.22it/s]"
     ]
    },
    {
     "name": "stdout",
     "output_type": "stream",
     "text": [
      "Epoch:   8 | Samples:    128/604 | RMSE Loss: 0.4799 | MSE Loss: 0.4069 | target: 0.0090 | pred: 0.2283\n"
     ]
    },
    {
     "name": "stderr",
     "output_type": "stream",
     "text": [
      "Division 5/5:  16%|████████████▏                                                                | 160/1015 [00:21<01:48,  7.87it/s]"
     ]
    },
    {
     "name": "stdout",
     "output_type": "stream",
     "text": [
      "Epoch:   8 | Samples:    160/604 | RMSE Loss: 0.4703 | MSE Loss: 0.3988 | target: -1.0900 | pred: -1.4995\n"
     ]
    },
    {
     "name": "stderr",
     "output_type": "stream",
     "text": [
      "Division 5/5:  19%|██████████████▋                                                              | 194/1015 [00:26<02:07,  6.46it/s]"
     ]
    },
    {
     "name": "stdout",
     "output_type": "stream",
     "text": [
      "Epoch:   8 | Samples:    192/604 | RMSE Loss: 0.4689 | MSE Loss: 0.3924 | target: -1.3700 | pred: -2.0269\n"
     ]
    },
    {
     "name": "stderr",
     "output_type": "stream",
     "text": [
      "Division 5/5:  22%|█████████████████▏                                                           | 226/1015 [00:31<01:28,  8.93it/s]"
     ]
    },
    {
     "name": "stdout",
     "output_type": "stream",
     "text": [
      "Epoch:   8 | Samples:    224/604 | RMSE Loss: 0.4821 | MSE Loss: 0.4064 | target: -2.0500 | pred: -1.9956\n"
     ]
    },
    {
     "name": "stderr",
     "output_type": "stream",
     "text": [
      "Division 5/5:  25%|███████████████████▍                                                         | 257/1015 [00:36<01:53,  6.65it/s]"
     ]
    },
    {
     "name": "stdout",
     "output_type": "stream",
     "text": [
      "Epoch:   8 | Samples:    256/604 | RMSE Loss: 0.4873 | MSE Loss: 0.4120 | target: -4.4200 | pred: -4.7633\n"
     ]
    },
    {
     "name": "stderr",
     "output_type": "stream",
     "text": [
      "Division 5/5:  28%|█████████████████████▉                                                       | 289/1015 [00:41<02:10,  5.55it/s]"
     ]
    },
    {
     "name": "stdout",
     "output_type": "stream",
     "text": [
      "Epoch:   8 | Samples:    288/604 | RMSE Loss: 0.4923 | MSE Loss: 0.4213 | target: -2.3690 | pred: -2.7371\n"
     ]
    },
    {
     "name": "stderr",
     "output_type": "stream",
     "text": [
      "Division 5/5:  32%|████████████████████████▍                                                    | 322/1015 [00:45<01:27,  7.91it/s]"
     ]
    },
    {
     "name": "stdout",
     "output_type": "stream",
     "text": [
      "Epoch:   8 | Samples:    320/604 | RMSE Loss: 0.4879 | MSE Loss: 0.4177 | target: -3.3500 | pred: -4.2996\n"
     ]
    },
    {
     "name": "stderr",
     "output_type": "stream",
     "text": [
      "Division 5/5:  35%|██████████████████████████▊                                                  | 353/1015 [00:50<02:11,  5.03it/s]"
     ]
    },
    {
     "name": "stdout",
     "output_type": "stream",
     "text": [
      "Epoch:   8 | Samples:    352/604 | RMSE Loss: 0.4943 | MSE Loss: 0.4316 | target: -2.1480 | pred: -1.9030\n"
     ]
    },
    {
     "name": "stderr",
     "output_type": "stream",
     "text": [
      "Division 5/5:  38%|█████████████████████████████▎                                               | 386/1015 [00:56<01:35,  6.55it/s]"
     ]
    },
    {
     "name": "stdout",
     "output_type": "stream",
     "text": [
      "Epoch:   8 | Samples:    384/604 | RMSE Loss: 0.4905 | MSE Loss: 0.4205 | target: -3.4990 | pred: -4.2196\n"
     ]
    },
    {
     "name": "stderr",
     "output_type": "stream",
     "text": [
      "Division 5/5:  41%|███████████████████████████████▋                                             | 418/1015 [01:00<01:08,  8.74it/s]"
     ]
    },
    {
     "name": "stdout",
     "output_type": "stream",
     "text": [
      "Epoch:   8 | Samples:    416/604 | RMSE Loss: 0.4811 | MSE Loss: 0.4082 | target: -1.6140 | pred: -2.2045\n"
     ]
    },
    {
     "name": "stderr",
     "output_type": "stream",
     "text": [
      "Division 5/5:  44%|██████████████████████████████████▏                                          | 450/1015 [01:06<00:57,  9.76it/s]"
     ]
    },
    {
     "name": "stdout",
     "output_type": "stream",
     "text": [
      "Epoch:   8 | Samples:    448/604 | RMSE Loss: 0.4838 | MSE Loss: 0.4070 | target: -4.5600 | pred: -4.3569\n"
     ]
    },
    {
     "name": "stderr",
     "output_type": "stream",
     "text": [
      "Division 5/5:  47%|████████████████████████████████████▍                                        | 481/1015 [01:10<01:02,  8.60it/s]"
     ]
    },
    {
     "name": "stdout",
     "output_type": "stream",
     "text": [
      "Epoch:   8 | Samples:    480/604 | RMSE Loss: 0.4811 | MSE Loss: 0.4009 | target: -2.5100 | pred: -1.4207\n"
     ]
    },
    {
     "name": "stderr",
     "output_type": "stream",
     "text": [
      "Division 5/5:  51%|██████████████████████████████████████▉                                      | 514/1015 [01:15<01:19,  6.33it/s]"
     ]
    },
    {
     "name": "stdout",
     "output_type": "stream",
     "text": [
      "Epoch:   8 | Samples:    512/604 | RMSE Loss: 0.4807 | MSE Loss: 0.3987 | target: -3.3600 | pred: -3.2942\n"
     ]
    },
    {
     "name": "stderr",
     "output_type": "stream",
     "text": [
      "Division 5/5:  54%|█████████████████████████████████████████▍                                   | 546/1015 [01:19<00:57,  8.15it/s]"
     ]
    },
    {
     "name": "stdout",
     "output_type": "stream",
     "text": [
      "Epoch:   8 | Samples:    544/604 | RMSE Loss: 0.4914 | MSE Loss: 0.4244 | target: -7.6800 | pred: -8.4954\n"
     ]
    },
    {
     "name": "stderr",
     "output_type": "stream",
     "text": [
      "Division 5/5:  57%|███████████████████████████████████████████▊                                 | 578/1015 [01:24<00:59,  7.33it/s]"
     ]
    },
    {
     "name": "stdout",
     "output_type": "stream",
     "text": [
      "Epoch:   8 | Samples:    576/604 | RMSE Loss: 0.4923 | MSE Loss: 0.4259 | target: -2.8200 | pred: -2.4486\n"
     ]
    },
    {
     "name": "stderr",
     "output_type": "stream",
     "text": [
      "Division 5/5:  60%|█████████████████████████████████████████████▊                               | 604/1015 [01:28<00:59,  6.86it/s]\n",
      "Division 5/5:   0%|▏                                                                              | 3/1015 [00:00<02:02,  8.24it/s]"
     ]
    },
    {
     "name": "stdout",
     "output_type": "stream",
     "text": [
      "Epoch:   9 | Samples:      0/604 | RMSE Loss: 1.2622 | MSE Loss: 1.5932 | target: -4.5540 | pred: -3.2918\n"
     ]
    },
    {
     "name": "stderr",
     "output_type": "stream",
     "text": [
      "Division 5/5:   3%|██▌                                                                           | 34/1015 [00:04<02:18,  7.10it/s]"
     ]
    },
    {
     "name": "stdout",
     "output_type": "stream",
     "text": [
      "Epoch:   9 | Samples:     32/604 | RMSE Loss: 0.5540 | MSE Loss: 0.4913 | target: -3.8960 | pred: -5.4998\n"
     ]
    },
    {
     "name": "stderr",
     "output_type": "stream",
     "text": [
      "Division 5/5:   7%|█████                                                                         | 66/1015 [00:09<02:27,  6.45it/s]"
     ]
    },
    {
     "name": "stdout",
     "output_type": "stream",
     "text": [
      "Epoch:   9 | Samples:     64/604 | RMSE Loss: 0.4622 | MSE Loss: 0.3880 | target: -4.1000 | pred: -4.2162\n"
     ]
    },
    {
     "name": "stderr",
     "output_type": "stream",
     "text": [
      "Division 5/5:  10%|███████▌                                                                      | 98/1015 [00:13<02:02,  7.48it/s]"
     ]
    },
    {
     "name": "stdout",
     "output_type": "stream",
     "text": [
      "Epoch:   9 | Samples:     96/604 | RMSE Loss: 0.4816 | MSE Loss: 0.4143 | target: -1.3300 | pred: -1.1273\n"
     ]
    },
    {
     "name": "stderr",
     "output_type": "stream",
     "text": [
      "Division 5/5:  13%|█████████▊                                                                   | 130/1015 [00:17<01:48,  8.16it/s]"
     ]
    },
    {
     "name": "stdout",
     "output_type": "stream",
     "text": [
      "Epoch:   9 | Samples:    128/604 | RMSE Loss: 0.4655 | MSE Loss: 0.3796 | target: 0.0090 | pred: 0.3271\n"
     ]
    },
    {
     "name": "stderr",
     "output_type": "stream",
     "text": [
      "Division 5/5:  16%|████████████▏                                                                | 160/1015 [00:21<01:48,  7.87it/s]"
     ]
    },
    {
     "name": "stdout",
     "output_type": "stream",
     "text": [
      "Epoch:   9 | Samples:    160/604 | RMSE Loss: 0.4535 | MSE Loss: 0.3704 | target: -1.0900 | pred: -1.4792\n"
     ]
    },
    {
     "name": "stderr",
     "output_type": "stream",
     "text": [
      "Division 5/5:  19%|██████████████▋                                                              | 194/1015 [00:26<02:06,  6.50it/s]"
     ]
    },
    {
     "name": "stdout",
     "output_type": "stream",
     "text": [
      "Epoch:   9 | Samples:    192/604 | RMSE Loss: 0.4521 | MSE Loss: 0.3622 | target: -1.3700 | pred: -1.9949\n"
     ]
    },
    {
     "name": "stderr",
     "output_type": "stream",
     "text": [
      "Division 5/5:  22%|█████████████████▏                                                           | 226/1015 [00:31<01:28,  8.91it/s]"
     ]
    },
    {
     "name": "stdout",
     "output_type": "stream",
     "text": [
      "Epoch:   9 | Samples:    224/604 | RMSE Loss: 0.4645 | MSE Loss: 0.3765 | target: -2.0500 | pred: -1.9836\n"
     ]
    },
    {
     "name": "stderr",
     "output_type": "stream",
     "text": [
      "Division 5/5:  25%|███████████████████▍                                                         | 257/1015 [00:36<01:52,  6.76it/s]"
     ]
    },
    {
     "name": "stdout",
     "output_type": "stream",
     "text": [
      "Epoch:   9 | Samples:    256/604 | RMSE Loss: 0.4710 | MSE Loss: 0.3847 | target: -4.4200 | pred: -4.6928\n"
     ]
    },
    {
     "name": "stderr",
     "output_type": "stream",
     "text": [
      "Division 5/5:  28%|█████████████████████▉                                                       | 289/1015 [00:41<02:10,  5.58it/s]"
     ]
    },
    {
     "name": "stdout",
     "output_type": "stream",
     "text": [
      "Epoch:   9 | Samples:    288/604 | RMSE Loss: 0.4760 | MSE Loss: 0.3945 | target: -2.3690 | pred: -2.6949\n"
     ]
    },
    {
     "name": "stderr",
     "output_type": "stream",
     "text": [
      "Division 5/5:  32%|████████████████████████▍                                                    | 322/1015 [00:45<01:27,  7.94it/s]"
     ]
    },
    {
     "name": "stdout",
     "output_type": "stream",
     "text": [
      "Epoch:   9 | Samples:    320/604 | RMSE Loss: 0.4715 | MSE Loss: 0.3914 | target: -3.3500 | pred: -4.3337\n"
     ]
    },
    {
     "name": "stderr",
     "output_type": "stream",
     "text": [
      "Division 5/5:  35%|██████████████████████████▊                                                  | 353/1015 [00:50<02:11,  5.02it/s]"
     ]
    },
    {
     "name": "stdout",
     "output_type": "stream",
     "text": [
      "Epoch:   9 | Samples:    352/604 | RMSE Loss: 0.4791 | MSE Loss: 0.4050 | target: -2.1480 | pred: -1.8864\n"
     ]
    },
    {
     "name": "stderr",
     "output_type": "stream",
     "text": [
      "Division 5/5:  38%|█████████████████████████████▎                                               | 386/1015 [00:56<01:36,  6.54it/s]"
     ]
    },
    {
     "name": "stdout",
     "output_type": "stream",
     "text": [
      "Epoch:   9 | Samples:    384/604 | RMSE Loss: 0.4748 | MSE Loss: 0.3943 | target: -3.4990 | pred: -4.1794\n"
     ]
    },
    {
     "name": "stderr",
     "output_type": "stream",
     "text": [
      "Division 5/5:  41%|███████████████████████████████▋                                             | 418/1015 [01:00<01:08,  8.74it/s]"
     ]
    },
    {
     "name": "stdout",
     "output_type": "stream",
     "text": [
      "Epoch:   9 | Samples:    416/604 | RMSE Loss: 0.4669 | MSE Loss: 0.3837 | target: -1.6140 | pred: -2.1570\n"
     ]
    },
    {
     "name": "stderr",
     "output_type": "stream",
     "text": [
      "Division 5/5:  44%|██████████████████████████████████▏                                          | 450/1015 [01:06<00:57,  9.81it/s]"
     ]
    },
    {
     "name": "stdout",
     "output_type": "stream",
     "text": [
      "Epoch:   9 | Samples:    448/604 | RMSE Loss: 0.4693 | MSE Loss: 0.3826 | target: -4.5600 | pred: -4.3988\n"
     ]
    },
    {
     "name": "stderr",
     "output_type": "stream",
     "text": [
      "Division 5/5:  47%|████████████████████████████████████▍                                        | 481/1015 [01:10<01:02,  8.52it/s]"
     ]
    },
    {
     "name": "stdout",
     "output_type": "stream",
     "text": [
      "Epoch:   9 | Samples:    480/604 | RMSE Loss: 0.4665 | MSE Loss: 0.3766 | target: -2.5100 | pred: -1.4517\n"
     ]
    },
    {
     "name": "stderr",
     "output_type": "stream",
     "text": [
      "Division 5/5:  51%|██████████████████████████████████████▉                                      | 514/1015 [01:15<01:19,  6.28it/s]"
     ]
    },
    {
     "name": "stdout",
     "output_type": "stream",
     "text": [
      "Epoch:   9 | Samples:    512/604 | RMSE Loss: 0.4662 | MSE Loss: 0.3745 | target: -3.3600 | pred: -3.3487\n"
     ]
    },
    {
     "name": "stderr",
     "output_type": "stream",
     "text": [
      "Division 5/5:  54%|█████████████████████████████████████████▍                                   | 546/1015 [01:19<00:57,  8.17it/s]"
     ]
    },
    {
     "name": "stdout",
     "output_type": "stream",
     "text": [
      "Epoch:   9 | Samples:    544/604 | RMSE Loss: 0.4777 | MSE Loss: 0.4002 | target: -7.6800 | pred: -8.5112\n"
     ]
    },
    {
     "name": "stderr",
     "output_type": "stream",
     "text": [
      "Division 5/5:  57%|███████████████████████████████████████████▊                                 | 578/1015 [01:24<00:58,  7.46it/s]"
     ]
    },
    {
     "name": "stdout",
     "output_type": "stream",
     "text": [
      "Epoch:   9 | Samples:    576/604 | RMSE Loss: 0.4788 | MSE Loss: 0.4019 | target: -2.8200 | pred: -2.4729\n"
     ]
    },
    {
     "name": "stderr",
     "output_type": "stream",
     "text": [
      "Division 5/5:  60%|█████████████████████████████████████████████▊                               | 604/1015 [01:28<00:59,  6.86it/s]\n"
     ]
    }
   ],
   "source": [
    "gnn_rmse_dict= train_gnn3d_vary_dataset_size(train_samples, min_samples=100, max_samples=600, divisions=4, n_epochs= 10, printstep=32, save_dir=modeldir, dataset_name=dataset_name)"
   ]
  },
  {
   "cell_type": "code",
   "execution_count": 7,
   "id": "674cc302-9d0b-4f0d-8c9f-40bef3f94fa8",
   "metadata": {},
   "outputs": [
    {
     "data": {
      "image/png": "[encoded data removed]",
      "text/plain": [
       "<Figure size 1000x600 with 1 Axes>"
      ]
     },
     "metadata": {},
     "output_type": "display_data"
    }
   ],
   "source": [
    "# Plot all divisions on the same plot\n",
    "plt.figure(figsize=(10, 6))  # Adjust figure size as needed\n",
    "\n",
    "for key in gnn_rmse_dict.keys():\n",
    "    plt.plot(gnn_rmse_dict[key][\"avg_rmse\"], label=f\"dataset size = {key[1:]}\")\n",
    "\n",
    "plt.legend()\n",
    "plt.title(\"GNN3D RMSE Loss for Different Dataset Sizes\")\n",
    "plt.xlabel(\"Training set size\")\n",
    "plt.ylabel(\"RMSE Loss\")\n",
    "plt.grid(True)\n",
    "plt.tight_layout()\n",
    "\n",
    "# Save the plot\n",
    "plt.savefig(f\"{modeldir}gnn3d_{dataset_name}_all_divisions.svg\", format='svg')\n",
    "plt.show()"
   ]
  },
  {
   "cell_type": "code",
   "execution_count": null,
   "id": "48ce2298-c8e1-439e-a0ef-fd5b727a0081",
   "metadata": {},
   "outputs": [],
   "source": [
    "def train_autoencoder_model(samples, atom_autoencoder, bond_autoencoder, n_epochs=10, printstep=10, save_dir=\"./models/\", dataset_name=\"logs\"):\n",
    "    \"\"\"Train Autoencoder: Atom and bond\"\"\"\n",
    "    # Set the model in training mode\n",
    "    atom_autoencoder.train()\n",
    "    bond_autoencoder.train()\n",
    "\n",
    "    # Create the directory if it does not exist\n",
    "    os.makedirs(save_dir, exist_ok=True)\n",
    "\n",
    "    # Lists to store losses\n",
    "    avg_atom_rmse_losses = []\n",
    "    avg_bond_rmse_losses = []\n",
    "\n",
    "    for epoch_i in range(n_epochs):\n",
    "        avg_atom_rmse_loss = 0\n",
    "        avg_bond_rmse_loss = 0\n",
    "        total_samples = 0\n",
    "        \n",
    "        for i, molecule in enumerate(samples):\n",
    "            atom_features = molecule[0].to(device)\n",
    "            bond_features = molecule[1].to(device)\n",
    "            \n",
    "            # Forward pass\n",
    "            atom_features_reconstructed = atom_autoencoder(atom_features)\n",
    "            bond_features_reconstructed = bond_autoencoder(bond_features)\n",
    "            \n",
    "            # Calculating loss\n",
    "            atom_loss = mse_loss_fn(atom_features_reconstructed, atom_features)\n",
    "            bond_loss = mse_loss_fn(bond_features_reconstructed, bond_features)\n",
    "            \n",
    "            # Backward pass and optimization step\n",
    "            atom_optimizer.zero_grad()\n",
    "            bond_optimizer.zero_grad()\n",
    "            atom_loss.backward()\n",
    "            bond_loss.backward()\n",
    "            atom_optimizer.step()\n",
    "            bond_optimizer.step()\n",
    "            \n",
    "            # Calculating average loss\n",
    "            avg_atom_rmse_loss = (avg_atom_rmse_loss * total_samples + torch.sqrt(atom_loss).item()) / (total_samples + 1)\n",
    "            avg_bond_rmse_loss = (avg_bond_rmse_loss * total_samples + torch.sqrt(bond_loss).item()) / (total_samples + 1)           \n",
    "            total_samples += 1\n",
    "\n",
    "            \n",
    "            if (i % printstep == 0):\n",
    "                print(f\"Epoch: {epoch_i:>3}/{n_epochs} | Samples: {i:>6}/{len(samples)} | Atom RMSE Loss: {avg_atom_rmse_loss:.4f} | Bond RMSE Loss: {avg_bond_rmse_loss:.4f}\")\n",
    "        \n",
    "        # Append average losses for the epoch to lists\n",
    "        avg_atom_rmse_losses.append(avg_atom_rmse_loss)\n",
    "        avg_bond_rmse_losses.append(avg_bond_rmse_loss)\n",
    "                \n",
    "    # Save the accumulated losses to a file\n",
    "    losses_file = os.path.join(save_dir, f\"autoencoder_losses_{dataset_name}.txt\")\n",
    "    with open(losses_file, 'w') as f:\n",
    "        f.write(f\"Epoch |\\tAtom RMSE Loss |\\tBond RMSE Loss\\n\")\n",
    "        for epoch_i in range(n_epochs):\n",
    "            f.write(f\"{epoch_i}\\t{avg_atom_rmse_losses[epoch_i]}\\t{avg_bond_rmse_losses[epoch_i]}\\n\")\n",
    "\n",
    "    # Save model state\n",
    "    torch.save(atom_autoencoder.state_dict(), f\"{save_dir}atom_autoencoder_{dataset_name}.pth\")\n",
    "    torch.save(bond_autoencoder.state_dict(), f\"{save_dir}bond_autoencoder_{dataset_name}.pth\")\n",
    "    \n",
    "    return avg_atom_rmse_losses, avg_bond_rmse_losses\n",
    "    \n",
    "\n",
    "\n",
    "\n",
    "def process_molecule(molecule, atom_autoencoder, bond_autoencoder):\n",
    "    \"\"\"Separate input features and target\"\"\"\n",
    "    # Ensure molecule has at least 8 elements\n",
    "    if len(molecule) < 8:\n",
    "        return None, None\n",
    "    \n",
    "    target = molecule[8].to(device)  # Assuming target is the 9th element (index 8)\n",
    "    # Assuming first 8 elements are molecule graph input features:\n",
    "    # atomic_features, bond_features, angle_features, dihedral_features, \n",
    "    # global_molecular_features, bond_indices, angle_indices,  dihedral_indices    \n",
    "    molecule_data = [mol_elem.to(device) for mol_elem in molecule[:8]]\n",
    "    \n",
    "    # Putting latent atomic and bond features through encoders\n",
    "    molecule_data[0] = atom_autoencoder.encode(molecule_data[0])\n",
    "    molecule_data[1] = bond_autoencoder.encode(molecule_data[1])\n",
    "    \n",
    "    return molecule_data, target\n",
    "\n",
    "\n",
    "\n",
    "\n",
    "def train_gnn3d_model(gnn3d, samples, atom_autoencoder, bond_autoencoder, n_epochs=10, printstep=10, save_dir=\"./models/\", dataset_name=\"logs\"):\n",
    "    \"\"\"Train GNN3D\"\"\"\n",
    "    # Set the model in training mode\n",
    "    gnn3d.train()\n",
    "\n",
    "    # Create the directory if it does not exist\n",
    "    os.makedirs(save_dir, exist_ok=True)\n",
    "   \n",
    "    # Lists to store losses\n",
    "    avg_rmse_losses_train = []\n",
    "    avg_mse_losses_train = []\n",
    "    avg_rmse_losses_val = []\n",
    "    avg_mse_losses_val = []\n",
    "\n",
    "    # Start timing\n",
    "    start_time = time.time()\n",
    "    \n",
    "    for epoch_i in range(n_epochs):\n",
    "        # Training phase\n",
    "        avg_rmse_loss_train = 0\n",
    "        avg_mse_loss_train = 0\n",
    "        total_samples_train = 0\n",
    "    \n",
    "        for i in tqdm(range(len(train_part_samples)), desc='Training samples'):\n",
    "            molecule_data, target = process_molecule(train_part_samples[i], atom_autoencoder, bond_autoencoder)\n",
    "            if molecule_data is None:\n",
    "                continue\n",
    "        \n",
    "            prediction = gnn3d(molecule_data)\n",
    "            loss = mse_loss_fn(prediction, target)\n",
    "        \n",
    "            gnn_optimizer.zero_grad()\n",
    "            loss.backward()\n",
    "            gnn_optimizer.step()\n",
    "        \n",
    "            avg_rmse_loss_train = (avg_rmse_loss_train * total_samples_train + torch.sqrt(loss).item()) / (total_samples_train + 1)\n",
    "            avg_mse_loss_train = (avg_mse_loss_train * total_samples_train + loss.item()) / (total_samples_train + 1)\n",
    "            total_samples_train += 1\n",
    "        \n",
    "            if (i % printstep == 0):\n",
    "                print(f\"Epoch: {epoch_i:>3} | Train Samples: {i:>6}/{len(train_part_samples)} | RMSE Loss: {avg_rmse_loss_train:.4f} | MSE Loss: {avg_mse_loss_train:.4f}\")\n",
    "    \n",
    "        # Validation phase\n",
    "        avg_rmse_loss_val = 0\n",
    "        avg_mse_loss_val = 0\n",
    "        total_samples_val = 0\n",
    "    \n",
    "        for i in tqdm(range(len(val_samples)), desc='Validation samples'):\n",
    "            molecule_data, target = process_molecule(val_samples[i], atom_autoencoder, bond_autoencoder)\n",
    "            if molecule_data is None:\n",
    "                continue\n",
    "        \n",
    "            prediction = gnn3d(molecule_data)\n",
    "            loss = mse_loss_fn(prediction, target)\n",
    "        \n",
    "            avg_rmse_loss_val = (avg_rmse_loss_val * total_samples_val + torch.sqrt(loss).item()) / (total_samples_val + 1)\n",
    "            avg_mse_loss_val = (avg_mse_loss_val * total_samples_val + loss.item()) / (total_samples_val + 1)\n",
    "            total_samples_val += 1\n",
    "        \n",
    "            if (i % printstep == 0):\n",
    "                print(f\"Epoch: {epoch_i:>3} | Val Samples: {i:>6}/{len(val_samples)} | RMSE Loss: {avg_rmse_loss_val:.4f} | MSE Loss: {avg_mse_loss_val:.4f}\")\n",
    "    \n",
    "        # Append average losses for the epoch to lists\n",
    "        avg_rmse_losses_train.append(avg_rmse_loss_train)\n",
    "        avg_mse_losses_train.append(avg_mse_loss_train)\n",
    "        avg_rmse_losses_val.append(avg_rmse_loss_val)\n",
    "        avg_mse_losses_val.append(avg_mse_loss_val)\n",
    "                \n",
    "    # Save the accumulated losses to a file\n",
    "    losses_file = os.path.join(save_dir, f\"gnn3d_losses_{dataset_name}.txt\")\n",
    "    with open(losses_file, 'w') as f:\n",
    "        f.write(f\"Epoch |\\tRMSE Train Loss |\\tMSE Train Loss |\\tRMSE Val Loss |\\tMSE Val Loss\\n\")\n",
    "        for epoch_i in range(n_epochs):\n",
    "            f.write(f\"{epoch_i}\\t{avg_rmse_losses_train[epoch_i]}\\t{avg_mse_losses_train[epoch_i]}\\t{avg_rmse_losses_val[epoch_i]}\\t{avg_mse_losses_val[epoch_i]}\\n\")\n",
    "\n",
    "    # Save model state\n",
    "    torch.save(gnn3d.state_dict(), f\"{save_dir}gnn3d_{dataset_name}.pth\")\n",
    "\n",
    "    # End timing\n",
    "    end_time = time.time()\n",
    "    \n",
    "    actual_time = end_time - start_time\n",
    "\n",
    "    actual_time_td = datetime.timedelta(seconds=actual_time)\n",
    "    hours = actual_time_td.seconds // 3600\n",
    "    minutes = (actual_time_td.seconds // 60) % 60\n",
    "    seconds = actual_time_td.seconds % 60\n",
    "    actual_time_str = f\"{hours} hours, {minutes} minutes, {seconds} seconds\"\n",
    "    \n",
    "    print(f\"Time taken for training: {actual_time_str}\")\n",
    "    \n",
    "    return avg_rmse_losses_train, avg_mse_losses_train, avg_rmse_losses_val, avg_mse_losses_val\n",
    "\n",
    "\n",
    "\n",
    "\n",
    "def evaluate_gnn3d_model(gnn3d, samples, atom_autoencoder, bond_autoencoder):\n",
    "    \"\"\"Evaluate GNN3D\"\"\"\n",
    "    # Set the model in evaluation mode\n",
    "    gnn3d.eval()\n",
    "\n",
    "    # List to store predictions\n",
    "    predictions = []\n",
    "    targets = []\n",
    "    \n",
    "    avg_rmse_loss = 0\n",
    "    avg_mse_loss = 0\n",
    "    total_samples = 0\n",
    "    \n",
    "    # Start timing\n",
    "    start_time = time.time()\n",
    "    \n",
    "    with torch.no_grad():\n",
    "        for i, molecule in enumerate(samples):\n",
    "            molecule_data, target = process_molecule(molecule, atom_autoencoder, bond_autoencoder)\n",
    "            if molecule_data is None:\n",
    "                continue\n",
    "            \n",
    "            # Forward pass\n",
    "            prediction = gnn3d(molecule_data)\n",
    "\n",
    "            # Extract target, prediction\n",
    "            target_value = target.item()\n",
    "            prediction_value = prediction.item()\n",
    "\n",
    "            # For every test samples\n",
    "            #print(f\"Target: {target.item():.4f} | Prediction: {prediction.item():.4f}\")\n",
    "    \n",
    "            # Store prediction\n",
    "            predictions.append(prediction_value)\n",
    "            targets.append(target_value)\n",
    "                        \n",
    "            # Calculating loss\n",
    "            loss = mse_loss_fn(prediction, target)\n",
    "                     \n",
    "            # Accumulate losses\n",
    "            avg_rmse_loss += (torch.sqrt(loss).item())\n",
    "            avg_mse_loss += loss.item()\n",
    "            total_samples += 1\n",
    "    \n",
    "    # Calculate average losses\n",
    "    avg_rmse_loss /= total_samples\n",
    "    avg_mse_loss /= total_samples\n",
    "\n",
    "    # End timing\n",
    "    end_time = time.time()\n",
    "\n",
    "    actual_time = end_time - start_time\n",
    "\n",
    "    actual_time_td = datetime.timedelta(seconds=actual_time)\n",
    "    hours = actual_time_td.seconds // 3600\n",
    "    minutes = (actual_time_td.seconds // 60) % 60\n",
    "    seconds = actual_time_td.seconds % 60\n",
    "    actual_time_str = f\"{hours} hours, {minutes} minutes, {seconds} seconds\"    \n",
    "    \n",
    "    print(f\"Evaluation Results:\")\n",
    "    print(f\"RMSE Loss: {avg_rmse_loss:.4f}\")\n",
    "    print(f\"MSE Loss: {avg_mse_loss:.4f}\")\n",
    "    print(f\"Time taken for evaluation: {actual_time_str}\")\n",
    "    \n",
    "    return predictions, targets"
   ]
  },
  {
   "cell_type": "markdown",
   "id": "acb3a1fa-cb1b-4397-a444-62b2126099e3",
   "metadata": {},
   "source": [
    "## Training"
   ]
  },
  {
   "cell_type": "markdown",
   "id": "f4253885-98e8-48fb-8847-ba893b9c9b05",
   "metadata": {},
   "source": [
    "### Autoencoder training"
   ]
  },
  {
   "cell_type": "code",
   "execution_count": null,
   "id": "b723752e-b5db-4c9f-8c77-e26dde760638",
   "metadata": {},
   "outputs": [],
   "source": [
    "# Define a range of values for x and y\n",
    "n_atom = [46] #[10, 22, 46]\n",
    "m_bond = [3]\n",
    "\n",
    "for n in n_atom:\n",
    "    for m in m_bond:\n",
    "\n",
    "        print(f\"Training Autoencoder with Atom={n}, Bond={m}:\")\n",
    "        atom_autoencoder = Autoencoder(154, n).to(device)\n",
    "        bond_autoencoder = Autoencoder(10, m).to(device)\n",
    "        mse_loss_fn = torch.nn.MSELoss()\n",
    "        atom_optimizer = torch.optim.Adam(atom_autoencoder.parameters())\n",
    "        bond_optimizer = torch.optim.Adam(bond_autoencoder.parameters())\n",
    "\n",
    "        atom_losses, bond_losses = train_autoencoder_model(train_samples, atom_autoencoder, bond_autoencoder, n_epochs=10, printstep=32, save_dir=modeldir, dataset_name=dataset_name)"
   ]
  },
  {
   "cell_type": "code",
   "execution_count": null,
   "id": "792de4f6-df8a-4abf-ae05-f3909fb1fa03",
   "metadata": {},
   "outputs": [],
   "source": [
    "# Plotting the losses (optional)\n",
    "plt.figure(figsize=(10, 6))\n",
    "plt.plot(range(1, len(atom_losses)+1), atom_losses, marker='o', linestyle='-', color='b', label='Atom RMSE Loss')\n",
    "#plt.plot(range(1, len(bond_losses)+1), bond_losses, marker='o', linestyle='-', color='r', label='Avg. Bond RMSE Loss')\n",
    "plt.title(f\"Atom Autoencoder Training Losses for {dataset_name}\")\n",
    "plt.xlabel(\"Epoch\")\n",
    "plt.ylabel(\"RMSE Loss\")\n",
    "plt.legend()\n",
    "plt.grid(True)\n",
    "plt.savefig(f\"{modeldir}atom_autoencoder_losses_{dataset_name}.png\")\n",
    "plt.show()\n",
    "\n",
    "# Plotting the losses (optional)\n",
    "plt.figure(figsize=(10, 6))\n",
    "#plt.plot(range(1, len(atom_losses)+1), atom_losses, marker='o', linestyle='-', color='b', label='Avg. Atom RMSE Loss')\n",
    "plt.plot(range(1, len(bond_losses)+1), bond_losses, marker='o', linestyle='-', color='r', label='Bond RMSE Loss')\n",
    "plt.title(f\"Bond Autoencoder Training Losses for {dataset_name}\")\n",
    "plt.xlabel(\"Epoch\")\n",
    "plt.ylabel(\"RMSE Loss\")\n",
    "plt.legend()\n",
    "plt.grid(True)\n",
    "plt.savefig(f\"{modeldir}bond_autoencoder_losses_{dataset_name}.png\")\n",
    "plt.show()"
   ]
  },
  {
   "cell_type": "markdown",
   "id": "66b95275-4edb-43d6-8227-a6130b511e11",
   "metadata": {},
   "source": [
    "### GNN3D training"
   ]
  },
  {
   "cell_type": "code",
   "execution_count": null,
   "id": "172ce254-abbb-4219-8a31-c73f7d07f046",
   "metadata": {},
   "outputs": [],
   "source": [
    "from sklearn.model_selection import train_test_split\n",
    "\n",
    "train_part_samples, val_samples = train_test_split(train_samples, test_size=0.1, random_state=42)"
   ]
  },
  {
   "cell_type": "code",
   "execution_count": null,
   "id": "1d98798d-a139-4616-bcb4-3608a98a934d",
   "metadata": {},
   "outputs": [],
   "source": [
    "atom_autoencoder = Autoencoder(154, 10).to(device)\n",
    "bond_autoencoder = Autoencoder(10, 3).to(device)\n",
    "mse_loss_fn = torch.nn.MSELoss()\n",
    "gnn3d = GNN3DAtnON(atomic_vector_size=10, bond_vector_size=3, number_of_molecular_features=200, number_of_targets=1).to(device)\n",
    "gnn_optimizer = torch.optim.Adam(gnn3d.parameters())\n",
    "rmse_losses_train, mse_losses_train, rmse_losses_val, mse_losses_val = train_gnn3d_model(gnn3d, train_samples, atom_autoencoder, bond_autoencoder, n_epochs=25, printstep=32, save_dir=modeldir, dataset_name=dataset_name)"
   ]
  },
  {
   "cell_type": "code",
   "execution_count": null,
   "id": "f592be3f-b874-404b-8670-b6906befd044",
   "metadata": {},
   "outputs": [],
   "source": [
    "# Assuming rmse_losses is the list of RMSE losses obtained from training\n",
    "plt.figure(figsize=(10, 6))\n",
    "plt.plot(range(1, len(rmse_losses_train)+1), rmse_losses_train, marker='o', linestyle='-', color='b', label='Train RMSE Loss')\n",
    "plt.plot(range(1, len(rmse_losses_val)+1), rmse_losses_val, marker='x', linestyle='-', color='r', label='Validation RMSE Loss')\n",
    "plt.title(f\"GNN3D Training Losses for {dataset_name}\")\n",
    "plt.xlabel(\"Epoch\")\n",
    "plt.ylabel(\"RMSE Loss\")\n",
    "plt.legend()\n",
    "plt.grid(True)\n",
    "plt.savefig(f\"{modeldir}gnn3d_rmse_losses_{dataset_name}.png\")\n",
    "plt.show()"
   ]
  },
  {
   "cell_type": "markdown",
   "id": "aa98e0ed-50d8-4e68-afcf-7815cbcb79d5",
   "metadata": {},
   "source": [
    "## Testing"
   ]
  },
  {
   "cell_type": "code",
   "execution_count": null,
   "id": "9a26bc02-bb5c-4769-a820-fad17f0e09a8",
   "metadata": {},
   "outputs": [],
   "source": [
    "predictions, targets = evaluate_gnn3d_model(gnn3d, test_samples, atom_autoencoder, bond_autoencoder)"
   ]
  },
  {
   "cell_type": "markdown",
   "id": "86d98a0d-b64b-4269-a10a-a171cc096398",
   "metadata": {},
   "source": [
    "## Know your correlations (KYC)"
   ]
  },
  {
   "cell_type": "code",
   "execution_count": null,
   "id": "deadc1bf-0623-4fa4-933e-d0685a905298",
   "metadata": {},
   "outputs": [],
   "source": [
    "# Calculate R^2\n",
    "def calculate_r_squared(predictions, targets):\n",
    "    ss_tot = np.sum((targets - np.mean(targets))**2)\n",
    "    ss_res = np.sum((targets - predictions)**2)\n",
    "    r_squared = 1 - (ss_res / ss_tot)\n",
    "    return r_squared\n",
    "\n",
    "# Convert lists to NumPy arrays\n",
    "predictions = np.array(predictions)\n",
    "targets = np.array(targets)\n",
    "\n",
    "# Calculate Pearson correlation coefficient\n",
    "corr, _ = pearsonr(predictions, targets)\n",
    "\n",
    "print(f\"Pearson Correlation Coefficient: {corr:.4f}\")\n",
    "\n",
    "r_squared = calculate_r_squared(predictions, targets)\n",
    "print(f\"Coefficient of Determination R^2: {r_squared:.4f}\")\n",
    "\n",
    "# Plotting\n",
    "plt.figure(figsize=(8, 6))\n",
    "plt.scatter(targets, predictions, color='blue', alpha=0.5)\n",
    "plt.plot(targets, targets, color='red', linestyle='-', linewidth=2)  # Plot y=x line\n",
    "plt.text(np.min(targets), np.max(predictions), f\"Pearson Correlation: {corr:.4f}\", fontsize=12, verticalalignment='top')\n",
    "plt.title('Scatter Plot of Predictions vs Targets')\n",
    "plt.xlabel('Targets')\n",
    "plt.ylabel('Predictions')\n",
    "plt.grid(True)\n",
    "plt.tight_layout()\n",
    "plt.show()"
   ]
  },
  {
   "cell_type": "markdown",
   "id": "5364b2e7-e72a-47c5-8f71-6d33975d7bb9",
   "metadata": {},
   "source": [
    "## Know your molecules and true/prediction (Be warned if there is skipped molecule from test_samples! No skip -> correct structure!)"
   ]
  },
  {
   "cell_type": "code",
   "execution_count": null,
   "id": "51f5d46f-d71f-4cd3-ad15-a29624a91746",
   "metadata": {},
   "outputs": [],
   "source": [
    "print(f\"Loaded train samples: {len(train_samples)}\")\n",
    "print(f\"Loaded test samples: {len(test_samples)}\")\n",
    "print(f\"Total (train+test): {len(train_samples) + len(test_samples)}\" )\n",
    "print(f\"Total from dataset: {len(dataset)}\")\n",
    "print(f\"80% of dataset: {int(0.8*len(dataset))}\")\n",
    "print(f\"20% of dataset: {int(0.2*len(dataset))}\")\n",
    "print(f\"NOT Skipped molecule, therefore following output of next cell is correct!\")"
   ]
  },
  {
   "cell_type": "code",
   "execution_count": null,
   "id": "802587be-8f1a-40d7-9159-89752437e927",
   "metadata": {},
   "outputs": [],
   "source": [
    "# Load test_samples from CSV\n",
    "test_dataset = pd.read_csv(datadir+\"test.csv\")\n",
    "molecules = test_dataset['smiles'].apply(lambda x: Chem.MolFromSmiles(x)) \n",
    "\n",
    "y_true = [targets[i] for i in range(len(test_samples))]\n",
    "y_pred = [predictions[i] for i in range(len(test_samples))]\n",
    "\n",
    "legends = [f\"y_true/y_pred = {y_true[i]:.2f}/{y_pred[i]:.2f}\" for i in range(len(test_samples))]\n",
    "MolsToGridImage(molecules, molsPerRow=5, maxMols=100,legends=legends)"
   ]
  },
  {
   "cell_type": "code",
   "execution_count": null,
   "id": "9c2d2fdd-5c41-46e1-8acb-b0c68c514a3c",
   "metadata": {},
   "outputs": [],
   "source": [
    "df = pd.read_csv(datadir+\"test.csv\")      #Reading logS: y_true dataframe\n",
    "df['preds'] = predictions\n",
    "df"
   ]
  },
  {
   "cell_type": "markdown",
   "id": "555f0723-eef6-483b-893a-3d04581b6aa7",
   "metadata": {},
   "source": [
    "## Future task: What is so unique about dihedral angles?"
   ]
  },
  {
   "cell_type": "code",
   "execution_count": null,
   "id": "f5c64eed-5662-468d-b76e-94ff50eebc6f",
   "metadata": {},
   "outputs": [],
   "source": []
  }
 ],
 "metadata": {
  "kernelspec": {
   "display_name": "Python 3 (ipykernel)",
   "language": "python",
   "name": "python3"
  },
  "language_info": {
   "codemirror_mode": {
    "name": "ipython",
    "version": 3
   },
   "file_extension": ".py",
   "mimetype": "text/x-python",
   "name": "python",
   "nbconvert_exporter": "python",
   "pygments_lexer": "ipython3",
   "version": "3.12.2"
  }
 },
 "nbformat": 4,
 "nbformat_minor": 5
}
