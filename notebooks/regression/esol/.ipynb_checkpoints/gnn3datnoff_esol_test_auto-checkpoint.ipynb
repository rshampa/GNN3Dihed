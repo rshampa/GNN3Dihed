{
 "cells": [
  {
   "cell_type": "markdown",
   "id": "ede5a585-8b58-4257-b162-6e36cb73f873",
   "metadata": {},
   "source": [
    "## Know your libraries (KYL)"
   ]
  },
  {
   "cell_type": "code",
   "execution_count": 1,
   "id": "96c06257-a4aa-4aa0-a2cc-d61619fb23e7",
   "metadata": {},
   "outputs": [
    {
     "name": "stdout",
     "output_type": "stream",
     "text": [
      "cpu\n"
     ]
    }
   ],
   "source": [
    "import sys\n",
    "sys.path.append('../../src')\n",
    "\n",
    "import dataset, molecular_representation, config, utils, model\n",
    "from dataset import QM9Dataset,LogSDataset,LogPDataset,FreeSolvDataset,ESOLDataset,ToxQDataset\n",
    "import numpy as np\n",
    "import pandas as pd\n",
    "from utils import *\n",
    "import torch\n",
    "from scipy.stats import pearsonr\n",
    "from tqdm import tqdm\n",
    "from model import Autoencoder # Simply importing the autoencoder model module from the model.py file\n",
    "from model import GNN3D,GNN3DAtnON,GNN3DAtnOFF,GNN3Dihed\n",
    "\n",
    "import matplotlib.pyplot as plt\n",
    "from rdkit import Chem\n",
    "from rdkit.Chem import AllChem\n",
    "from rdkit.Chem.Draw import MolsToGridImage\n",
    "\n",
    "import os\n",
    "datadir=\"../../data/esol/\"\n",
    "modeldir=\"./models_gnn3datnoff_rmse/\"\n",
    "dataset_name=\"esol\"\n",
    "# Create datadir and modeldir folders if they don't exist\n",
    "if not os.path.exists(datadir):\n",
    "    os.makedirs(datadir)\n",
    "    \n",
    "if not os.path.exists(modeldir):\n",
    "    os.makedirs(modeldir)\n",
    "\n",
    "import time\n",
    "import datetime\n",
    "\n",
    "device = torch.device(\"cuda\" if torch.cuda.is_available() else \"cpu\")\n",
    "print(device)"
   ]
  },
  {
   "cell_type": "markdown",
   "id": "9f15f0d0-0cb2-4642-84b0-5b63450abc49",
   "metadata": {},
   "source": [
    "## Split your dataset (SYD)"
   ]
  },
  {
   "cell_type": "code",
   "execution_count": 2,
   "id": "6cc4c168-84d4-4b6b-9101-730733b54d69",
   "metadata": {},
   "outputs": [
    {
     "name": "stdout",
     "output_type": "stream",
     "text": [
      "Train and test datasets saved successfully.\n"
     ]
    }
   ],
   "source": [
    "# Load dataset from CSV\n",
    "dataset = pd.read_csv(datadir+dataset_name+\".csv\")\n",
    "\n",
    "# Split dataset into train and test\n",
    "train_dataset, test_dataset = split_dataset(dataset, 0.9)\n",
    "\n",
    "# Write train_dataset and test_dataset to CSV files\n",
    "train_dataset.to_csv(datadir+\"train.csv\", index=False)\n",
    "test_dataset.to_csv(datadir+\"test.csv\", index=False)\n",
    "\n",
    "print(\"Train and test datasets saved successfully.\")"
   ]
  },
  {
   "cell_type": "markdown",
   "id": "d54da7a7-16b5-4c3d-9016-404ee9cc5d0d",
   "metadata": {},
   "source": [
    "## Process your data (PYD)"
   ]
  },
  {
   "cell_type": "code",
   "execution_count": 3,
   "id": "57a5b7a1-e495-4f9a-9afe-5f36a14e4ee0",
   "metadata": {},
   "outputs": [
    {
     "name": "stdout",
     "output_type": "stream",
     "text": [
      "Loading dataset from folder\n",
      "Initializing Molecular Representation Generator\n",
      "Dataset Name: ESOL\n",
      "Number of Molecules Loaded: 1015\n",
      "===================================\n",
      "Loading dataset from folder\n",
      "Initializing Molecular Representation Generator\n",
      "Dataset Name: ESOL\n",
      "Number of Molecules Loaded: 113\n"
     ]
    }
   ],
   "source": [
    "train_samples = ESOLDataset(datadir+\"train\")\n",
    "print(train_samples)\n",
    "print(\"===================================\")\n",
    "test_samples = ESOLDataset(datadir+\"test\")\n",
    "print(test_samples)"
   ]
  },
  {
   "cell_type": "markdown",
   "id": "fb6992d9-9ff0-4e60-8c03-06e81c1265ac",
   "metadata": {},
   "source": [
    "## Know your featues (KYF)"
   ]
  },
  {
   "cell_type": "code",
   "execution_count": 4,
   "id": "15e120fd-0f78-40a9-b890-b237c8715434",
   "metadata": {},
   "outputs": [
    {
     "name": "stdout",
     "output_type": "stream",
     "text": [
      "Atomic Features: torch.Size([36, 154]) - This represents the atomic features of the molecule\n",
      "Bond Features: torch.Size([76, 10]) - This represents the bond features of the molecule\n",
      "Angle Features: torch.Size([130]) - This represents the angle features of the molecule\n",
      "Dihedral Features: torch.Size([174]) - This represents the dihedral features of the molecule\n",
      "Global Molecular Features: torch.Size([200]) - This represents the global molecular features of the molecule\n",
      "Bond Indices: torch.Size([76, 2]) - This represents the bond indices of the molecule\n",
      "Angle Indices: torch.Size([130, 2]) - This represents the angle indices of the molecule\n",
      "Dihedral Indices: torch.Size([174, 2]) - This represents the dihedral indices of the molecule\n",
      "Target: torch.Size([1]) - This represents the target of the molecule\n"
     ]
    }
   ],
   "source": [
    "# Printing out the dimensions of all of these features with a description of what each feature is\n",
    "print(f\"Atomic Features: {(train_samples[0])[0].shape} - This represents the atomic features of the molecule\")\n",
    "print(f\"Bond Features: {(train_samples[0])[1].shape} - This represents the bond features of the molecule\")\n",
    "print(f\"Angle Features: {(train_samples[0])[2].shape} - This represents the angle features of the molecule\")\n",
    "print(f\"Dihedral Features: {(train_samples[0])[3].shape} - This represents the dihedral features of the molecule\")\n",
    "print(f\"Global Molecular Features: {(train_samples[0])[4].shape} - This represents the global molecular features of the molecule\")\n",
    "print(f\"Bond Indices: {(train_samples[0])[5].shape} - This represents the bond indices of the molecule\")\n",
    "print(f\"Angle Indices: {(train_samples[0])[6].shape} - This represents the angle indices of the molecule\")\n",
    "print(f\"Dihedral Indices: {(train_samples[0])[7].shape} - This represents the dihedral indices of the molecule\")\n",
    "print(f\"Target: {(train_samples[0])[8].shape} - This represents the target of the molecule\")"
   ]
  },
  {
   "cell_type": "markdown",
   "id": "b386540a-8acc-49bf-94b9-b8760824a501",
   "metadata": {},
   "source": [
    "## Know your modules (KYM)"
   ]
  },
  {
   "cell_type": "code",
   "execution_count": 5,
   "id": "a8573178-6a9e-4bcd-8fb6-168c142cf693",
   "metadata": {},
   "outputs": [],
   "source": [
    "def train_gnn3d_vary_dataset_size(train_samples, min_samples=10, max_samples=45, divisions=3, n_epochs= 10, printstep=10, save_dir=\"./models/vary_train_size/\", dataset_name=\"logs\"):\n",
    "    \"\"\"Train GNN3D for varying training set size\"\"\"\n",
    "    # Create the directory if it does not exist\n",
    "    os.makedirs(save_dir, exist_ok=True)\n",
    "   \n",
    "    # Determine step size for each division\n",
    "    sample_step_size = int((max_samples - min_samples) / divisions) + 1\n",
    "\n",
    "    # Dictionary to store RMSE and MSE for each division\n",
    "    gnn_rmse_dict = {}\n",
    "\n",
    "    # Open a file to save the accumulated losses\n",
    "    losses_file = os.path.join(save_dir, f\"vary_size_gnn3d_losses_{dataset_name}.txt\")\n",
    "    with open(losses_file, 'w') as f:\n",
    "        f.write(f\"Training set size |\\tRMSE Loss |\\tMSE Loss\\n\")\n",
    "    \n",
    "        # Loop through divisions\n",
    "        for division_i in range(divisions + 1):\n",
    "            # Initialize training components for each division\n",
    "            # Aond and bond autoencoders' dimensions to be changed for a new dataset\n",
    "            atom_autoencoder = Autoencoder(154, 46).to(device)\n",
    "            bond_autoencoder = Autoencoder(10, 3).to(device)\n",
    "            mse_loss_fn = torch.nn.MSELoss()\n",
    "            gnn3d = GNN3DAtnOFF(atomic_vector_size=46, bond_vector_size=3, number_of_molecular_features=200, number_of_targets=1).to(device)\n",
    "            gnn_optimizer = torch.optim.Adam(gnn3d.parameters())\n",
    "\n",
    "            for epoch_i in range(n_epochs):\n",
    "                # Average losses initialization\n",
    "                avg_rmse = 0\n",
    "                avg_mse = 0\n",
    "\n",
    "                # Current size of the training set for this division\n",
    "                current_size = min_samples + sample_step_size * division_i\n",
    "\n",
    "                # Initialize dictionary entry for current division\n",
    "                gnn_rmse_dict[\"d\" + str(current_size)] = {\"avg_rmse\": [], \"avg_mse\": []}\n",
    "\n",
    "                # Training loop for current division\n",
    "                for sample_i in tqdm(range(len(train_samples)), desc=f\"Division {division_i + 1}/{divisions + 1}\"):\n",
    "                    if sample_i >= current_size:\n",
    "                        break\n",
    "\n",
    "                    molecule = train_samples[sample_i]\n",
    "                    target = molecule[8].to(device)\n",
    "\n",
    "                    input_representation = [\n",
    "                        atom_autoencoder.encode(molecule[0].to(device)),\n",
    "                        bond_autoencoder.encode(molecule[1].to(device)),\n",
    "                        molecule[2].to(device),\n",
    "                        molecule[3].to(device),\n",
    "                        molecule[4].to(device),\n",
    "                        molecule[5].to(device),\n",
    "                        molecule[6].to(device),\n",
    "                        molecule[7].to(device)\n",
    "                    ]\n",
    "\n",
    "                    # Forward pass\n",
    "                    prediction = gnn3d(input_representation)\n",
    "\n",
    "                    # Compute loss\n",
    "                    loss = mse_loss_fn(prediction, target)\n",
    "\n",
    "                    # Backward pass and optimization step\n",
    "                    gnn_optimizer.zero_grad()\n",
    "                    loss.backward()\n",
    "                    gnn_optimizer.step()\n",
    "\n",
    "                    # Update average RMSE and MSE\n",
    "                    avg_rmse = (avg_rmse * sample_i + torch.sqrt(loss).item()) / (sample_i + 1)\n",
    "                    avg_mse = (avg_mse * sample_i + loss.item()) / (sample_i + 1)\n",
    "                    gnn_rmse_dict[\"d\" + str(current_size)][\"avg_rmse\"].append(avg_rmse)\n",
    "                    gnn_rmse_dict[\"d\" + str(current_size)][\"avg_mse\"].append(avg_mse)\n",
    "\n",
    "                    if (sample_i % printstep == 0):\n",
    "                        print(f\"Epoch: {epoch_i:>3} | Samples: {sample_i:>6}/{current_size:>3} | RMSE Loss: {avg_rmse:.4f} | MSE Loss: {avg_mse:.4f} | target: {target.item():.4f} | pred: {prediction.item():.4f}\")\n",
    "    \n",
    "            # Save losses to a file\n",
    "            f.write(f\"{current_size}\\t{avg_rmse}\\t{avg_mse}\\n\")\n",
    "        \n",
    "        # Save model state after each division\n",
    "        torch.save(gnn3d.state_dict(), f\"{save_dir}gnn3d_{dataset_name}_div{current_size}.pth\")\n",
    "\n",
    "    return gnn_rmse_dict"
   ]
  },
  {
   "cell_type": "code",
   "execution_count": 6,
   "id": "4222d615-2453-4270-b041-13c7976ee160",
   "metadata": {
    "scrolled": true
   },
   "outputs": [
    {
     "name": "stderr",
     "output_type": "stream",
     "text": [
      "Division 1/5:   0%|                                                                               | 1/1015 [00:00<06:34,  2.57it/s]"
     ]
    },
    {
     "name": "stdout",
     "output_type": "stream",
     "text": [
      "Epoch:   0 | Samples:      0/100 | RMSE Loss: 4.7340 | MSE Loss: 22.4110 | target: -4.5540 | pred: 0.1800\n"
     ]
    },
    {
     "name": "stderr",
     "output_type": "stream",
     "text": [
      "Division 1/5:   3%|██▌                                                                           | 34/1015 [00:04<02:23,  6.85it/s]"
     ]
    },
    {
     "name": "stdout",
     "output_type": "stream",
     "text": [
      "Epoch:   0 | Samples:     32/100 | RMSE Loss: 1.8423 | MSE Loss: 5.9561 | target: -3.8960 | pred: -8.0424\n"
     ]
    },
    {
     "name": "stderr",
     "output_type": "stream",
     "text": [
      "Division 1/5:   7%|█████                                                                         | 66/1015 [00:09<02:28,  6.38it/s]"
     ]
    },
    {
     "name": "stdout",
     "output_type": "stream",
     "text": [
      "Epoch:   0 | Samples:     64/100 | RMSE Loss: 1.5440 | MSE Loss: 4.2063 | target: -4.1000 | pred: -5.5647\n"
     ]
    },
    {
     "name": "stderr",
     "output_type": "stream",
     "text": [
      "Division 1/5:  10%|███████▌                                                                      | 98/1015 [00:13<01:59,  7.67it/s]"
     ]
    },
    {
     "name": "stdout",
     "output_type": "stream",
     "text": [
      "Epoch:   0 | Samples:     96/100 | RMSE Loss: 1.4738 | MSE Loss: 3.7576 | target: -1.3300 | pred: -1.2987\n"
     ]
    },
    {
     "name": "stderr",
     "output_type": "stream",
     "text": [
      "Division 1/5:  10%|███████▌                                                                     | 100/1015 [00:13<02:05,  7.27it/s]\n",
      "Division 1/5:   0%|▏                                                                              | 3/1015 [00:00<02:01,  8.34it/s]"
     ]
    },
    {
     "name": "stdout",
     "output_type": "stream",
     "text": [
      "Epoch:   1 | Samples:      0/100 | RMSE Loss: 0.5495 | MSE Loss: 0.3020 | target: -4.5540 | pred: -4.0045\n"
     ]
    },
    {
     "name": "stderr",
     "output_type": "stream",
     "text": [
      "Division 1/5:   3%|██▌                                                                           | 34/1015 [00:04<02:19,  7.05it/s]"
     ]
    },
    {
     "name": "stdout",
     "output_type": "stream",
     "text": [
      "Epoch:   1 | Samples:     32/100 | RMSE Loss: 1.2703 | MSE Loss: 2.8892 | target: -3.8960 | pred: -5.6252\n"
     ]
    },
    {
     "name": "stderr",
     "output_type": "stream",
     "text": [
      "Division 1/5:   7%|█████                                                                         | 66/1015 [00:08<02:28,  6.41it/s]"
     ]
    },
    {
     "name": "stdout",
     "output_type": "stream",
     "text": [
      "Epoch:   1 | Samples:     64/100 | RMSE Loss: 1.1365 | MSE Loss: 2.2357 | target: -4.1000 | pred: -4.9625\n"
     ]
    },
    {
     "name": "stderr",
     "output_type": "stream",
     "text": [
      "Division 1/5:  10%|███████▌                                                                      | 98/1015 [00:12<01:59,  7.67it/s]"
     ]
    },
    {
     "name": "stdout",
     "output_type": "stream",
     "text": [
      "Epoch:   1 | Samples:     96/100 | RMSE Loss: 1.1721 | MSE Loss: 2.3170 | target: -1.3300 | pred: -1.3584\n"
     ]
    },
    {
     "name": "stderr",
     "output_type": "stream",
     "text": [
      "Division 1/5:  10%|███████▌                                                                     | 100/1015 [00:13<02:00,  7.57it/s]\n",
      "Division 1/5:   0%|▏                                                                              | 3/1015 [00:00<02:00,  8.40it/s]"
     ]
    },
    {
     "name": "stdout",
     "output_type": "stream",
     "text": [
      "Epoch:   2 | Samples:      0/100 | RMSE Loss: 0.7694 | MSE Loss: 0.5920 | target: -4.5540 | pred: -3.7846\n"
     ]
    },
    {
     "name": "stderr",
     "output_type": "stream",
     "text": [
      "Division 1/5:   3%|██▌                                                                           | 34/1015 [00:04<02:17,  7.13it/s]"
     ]
    },
    {
     "name": "stdout",
     "output_type": "stream",
     "text": [
      "Epoch:   2 | Samples:     32/100 | RMSE Loss: 1.2128 | MSE Loss: 2.6700 | target: -3.8960 | pred: -5.7572\n"
     ]
    },
    {
     "name": "stderr",
     "output_type": "stream",
     "text": [
      "Division 1/5:   7%|█████                                                                         | 66/1015 [00:08<02:27,  6.43it/s]"
     ]
    },
    {
     "name": "stdout",
     "output_type": "stream",
     "text": [
      "Epoch:   2 | Samples:     64/100 | RMSE Loss: 1.0818 | MSE Loss: 2.0495 | target: -4.1000 | pred: -4.8886\n"
     ]
    },
    {
     "name": "stderr",
     "output_type": "stream",
     "text": [
      "Division 1/5:  10%|███████▌                                                                      | 98/1015 [00:12<02:00,  7.63it/s]"
     ]
    },
    {
     "name": "stdout",
     "output_type": "stream",
     "text": [
      "Epoch:   2 | Samples:     96/100 | RMSE Loss: 1.1061 | MSE Loss: 2.0869 | target: -1.3300 | pred: -1.4066\n"
     ]
    },
    {
     "name": "stderr",
     "output_type": "stream",
     "text": [
      "Division 1/5:  10%|███████▌                                                                     | 100/1015 [00:13<02:00,  7.58it/s]\n",
      "Division 1/5:   0%|▏                                                                              | 3/1015 [00:00<02:02,  8.28it/s]"
     ]
    },
    {
     "name": "stdout",
     "output_type": "stream",
     "text": [
      "Epoch:   3 | Samples:      0/100 | RMSE Loss: 0.9012 | MSE Loss: 0.8121 | target: -4.5540 | pred: -3.6528\n"
     ]
    },
    {
     "name": "stderr",
     "output_type": "stream",
     "text": [
      "Division 1/5:   3%|██▌                                                                           | 34/1015 [00:04<02:17,  7.11it/s]"
     ]
    },
    {
     "name": "stdout",
     "output_type": "stream",
     "text": [
      "Epoch:   3 | Samples:     32/100 | RMSE Loss: 1.1586 | MSE Loss: 2.4420 | target: -3.8960 | pred: -6.1610\n"
     ]
    },
    {
     "name": "stderr",
     "output_type": "stream",
     "text": [
      "Division 1/5:   7%|█████                                                                         | 66/1015 [00:08<02:28,  6.38it/s]"
     ]
    },
    {
     "name": "stdout",
     "output_type": "stream",
     "text": [
      "Epoch:   3 | Samples:     64/100 | RMSE Loss: 1.0238 | MSE Loss: 1.8677 | target: -4.1000 | pred: -4.8047\n"
     ]
    },
    {
     "name": "stderr",
     "output_type": "stream",
     "text": [
      "Division 1/5:  10%|███████▌                                                                      | 98/1015 [00:12<01:58,  7.72it/s]"
     ]
    },
    {
     "name": "stdout",
     "output_type": "stream",
     "text": [
      "Epoch:   3 | Samples:     96/100 | RMSE Loss: 1.0308 | MSE Loss: 1.8492 | target: -1.3300 | pred: -1.4960\n"
     ]
    },
    {
     "name": "stderr",
     "output_type": "stream",
     "text": [
      "Division 1/5:  10%|███████▌                                                                     | 100/1015 [00:13<02:00,  7.59it/s]\n",
      "Division 1/5:   0%|▏                                                                              | 3/1015 [00:00<02:10,  7.77it/s]"
     ]
    },
    {
     "name": "stdout",
     "output_type": "stream",
     "text": [
      "Epoch:   4 | Samples:      0/100 | RMSE Loss: 1.0258 | MSE Loss: 1.0522 | target: -4.5540 | pred: -3.5282\n"
     ]
    },
    {
     "name": "stderr",
     "output_type": "stream",
     "text": [
      "Division 1/5:   3%|██▌                                                                           | 34/1015 [00:04<02:19,  7.05it/s]"
     ]
    },
    {
     "name": "stdout",
     "output_type": "stream",
     "text": [
      "Epoch:   4 | Samples:     32/100 | RMSE Loss: 1.1095 | MSE Loss: 2.1402 | target: -3.8960 | pred: -5.8017\n"
     ]
    },
    {
     "name": "stderr",
     "output_type": "stream",
     "text": [
      "Division 1/5:   7%|█████                                                                         | 66/1015 [00:09<02:27,  6.45it/s]"
     ]
    },
    {
     "name": "stdout",
     "output_type": "stream",
     "text": [
      "Epoch:   4 | Samples:     64/100 | RMSE Loss: 0.9786 | MSE Loss: 1.6317 | target: -4.1000 | pred: -4.6211\n"
     ]
    },
    {
     "name": "stderr",
     "output_type": "stream",
     "text": [
      "Division 1/5:  10%|███████▌                                                                      | 98/1015 [00:12<01:58,  7.74it/s]"
     ]
    },
    {
     "name": "stdout",
     "output_type": "stream",
     "text": [
      "Epoch:   4 | Samples:     96/100 | RMSE Loss: 0.9625 | MSE Loss: 1.5799 | target: -1.3300 | pred: -1.5565\n"
     ]
    },
    {
     "name": "stderr",
     "output_type": "stream",
     "text": [
      "Division 1/5:  10%|███████▌                                                                     | 100/1015 [00:13<02:00,  7.57it/s]\n",
      "Division 1/5:   0%|▏                                                                              | 3/1015 [00:00<02:01,  8.30it/s]"
     ]
    },
    {
     "name": "stdout",
     "output_type": "stream",
     "text": [
      "Epoch:   5 | Samples:      0/100 | RMSE Loss: 1.1600 | MSE Loss: 1.3457 | target: -4.5540 | pred: -3.3940\n"
     ]
    },
    {
     "name": "stderr",
     "output_type": "stream",
     "text": [
      "Division 1/5:   3%|██▌                                                                           | 34/1015 [00:04<02:18,  7.10it/s]"
     ]
    },
    {
     "name": "stdout",
     "output_type": "stream",
     "text": [
      "Epoch:   5 | Samples:     32/100 | RMSE Loss: 1.0656 | MSE Loss: 1.9059 | target: -3.8960 | pred: -5.7212\n"
     ]
    },
    {
     "name": "stderr",
     "output_type": "stream",
     "text": [
      "Division 1/5:   7%|█████                                                                         | 66/1015 [00:08<02:27,  6.43it/s]"
     ]
    },
    {
     "name": "stdout",
     "output_type": "stream",
     "text": [
      "Epoch:   5 | Samples:     64/100 | RMSE Loss: 0.9359 | MSE Loss: 1.4387 | target: -4.1000 | pred: -4.5904\n"
     ]
    },
    {
     "name": "stderr",
     "output_type": "stream",
     "text": [
      "Division 1/5:  10%|███████▌                                                                      | 98/1015 [00:12<01:58,  7.72it/s]"
     ]
    },
    {
     "name": "stdout",
     "output_type": "stream",
     "text": [
      "Epoch:   5 | Samples:     96/100 | RMSE Loss: 0.8900 | MSE Loss: 1.3524 | target: -1.3300 | pred: -1.5351\n"
     ]
    },
    {
     "name": "stderr",
     "output_type": "stream",
     "text": [
      "Division 1/5:  10%|███████▌                                                                     | 100/1015 [00:13<02:00,  7.58it/s]\n",
      "Division 1/5:   0%|▏                                                                              | 3/1015 [00:00<02:02,  8.28it/s]"
     ]
    },
    {
     "name": "stdout",
     "output_type": "stream",
     "text": [
      "Epoch:   6 | Samples:      0/100 | RMSE Loss: 1.5499 | MSE Loss: 2.4022 | target: -4.5540 | pred: -3.0041\n"
     ]
    },
    {
     "name": "stderr",
     "output_type": "stream",
     "text": [
      "Division 1/5:   3%|██▌                                                                           | 34/1015 [00:04<02:18,  7.08it/s]"
     ]
    },
    {
     "name": "stdout",
     "output_type": "stream",
     "text": [
      "Epoch:   6 | Samples:     32/100 | RMSE Loss: 1.0428 | MSE Loss: 1.8236 | target: -3.8960 | pred: -5.9161\n"
     ]
    },
    {
     "name": "stderr",
     "output_type": "stream",
     "text": [
      "Division 1/5:   7%|█████                                                                         | 66/1015 [00:08<02:26,  6.49it/s]"
     ]
    },
    {
     "name": "stdout",
     "output_type": "stream",
     "text": [
      "Epoch:   6 | Samples:     64/100 | RMSE Loss: 0.8951 | MSE Loss: 1.3546 | target: -4.1000 | pred: -4.3659\n"
     ]
    },
    {
     "name": "stderr",
     "output_type": "stream",
     "text": [
      "Division 1/5:  10%|███████▌                                                                      | 98/1015 [00:12<01:57,  7.78it/s]"
     ]
    },
    {
     "name": "stdout",
     "output_type": "stream",
     "text": [
      "Epoch:   6 | Samples:     96/100 | RMSE Loss: 0.8375 | MSE Loss: 1.2239 | target: -1.3300 | pred: -1.5905\n"
     ]
    },
    {
     "name": "stderr",
     "output_type": "stream",
     "text": [
      "Division 1/5:  10%|███████▌                                                                     | 100/1015 [00:13<02:00,  7.60it/s]\n",
      "Division 1/5:   0%|▏                                                                              | 3/1015 [00:00<02:02,  8.26it/s]"
     ]
    },
    {
     "name": "stdout",
     "output_type": "stream",
     "text": [
      "Epoch:   7 | Samples:      0/100 | RMSE Loss: 1.4851 | MSE Loss: 2.2056 | target: -4.5540 | pred: -3.0689\n"
     ]
    },
    {
     "name": "stderr",
     "output_type": "stream",
     "text": [
      "Division 1/5:   3%|██▌                                                                           | 34/1015 [00:04<02:19,  7.03it/s]"
     ]
    },
    {
     "name": "stdout",
     "output_type": "stream",
     "text": [
      "Epoch:   7 | Samples:     32/100 | RMSE Loss: 0.9745 | MSE Loss: 1.5555 | target: -3.8960 | pred: -5.5898\n"
     ]
    },
    {
     "name": "stderr",
     "output_type": "stream",
     "text": [
      "Division 1/5:   7%|█████                                                                         | 66/1015 [00:08<02:27,  6.45it/s]"
     ]
    },
    {
     "name": "stdout",
     "output_type": "stream",
     "text": [
      "Epoch:   7 | Samples:     64/100 | RMSE Loss: 0.8433 | MSE Loss: 1.1785 | target: -4.1000 | pred: -4.2761\n"
     ]
    },
    {
     "name": "stderr",
     "output_type": "stream",
     "text": [
      "Division 1/5:  10%|███████▌                                                                      | 98/1015 [00:12<01:58,  7.71it/s]"
     ]
    },
    {
     "name": "stdout",
     "output_type": "stream",
     "text": [
      "Epoch:   7 | Samples:     96/100 | RMSE Loss: 0.7842 | MSE Loss: 1.0584 | target: -1.3300 | pred: -1.6339\n"
     ]
    },
    {
     "name": "stderr",
     "output_type": "stream",
     "text": [
      "Division 1/5:  10%|███████▌                                                                     | 100/1015 [00:13<02:00,  7.61it/s]\n",
      "Division 1/5:   0%|▏                                                                              | 3/1015 [00:00<02:02,  8.23it/s]"
     ]
    },
    {
     "name": "stdout",
     "output_type": "stream",
     "text": [
      "Epoch:   8 | Samples:      0/100 | RMSE Loss: 1.3669 | MSE Loss: 1.8683 | target: -4.5540 | pred: -3.1871\n"
     ]
    },
    {
     "name": "stderr",
     "output_type": "stream",
     "text": [
      "Division 1/5:   3%|██▌                                                                           | 34/1015 [00:04<02:17,  7.13it/s]"
     ]
    },
    {
     "name": "stdout",
     "output_type": "stream",
     "text": [
      "Epoch:   8 | Samples:     32/100 | RMSE Loss: 0.9180 | MSE Loss: 1.3410 | target: -3.8960 | pred: -5.4419\n"
     ]
    },
    {
     "name": "stderr",
     "output_type": "stream",
     "text": [
      "Division 1/5:   7%|█████                                                                         | 66/1015 [00:08<02:27,  6.43it/s]"
     ]
    },
    {
     "name": "stdout",
     "output_type": "stream",
     "text": [
      "Epoch:   8 | Samples:     64/100 | RMSE Loss: 0.7912 | MSE Loss: 1.0367 | target: -4.1000 | pred: -4.0727\n"
     ]
    },
    {
     "name": "stderr",
     "output_type": "stream",
     "text": [
      "Division 1/5:  10%|███████▌                                                                      | 98/1015 [00:12<01:58,  7.72it/s]"
     ]
    },
    {
     "name": "stdout",
     "output_type": "stream",
     "text": [
      "Epoch:   8 | Samples:     96/100 | RMSE Loss: 0.7353 | MSE Loss: 0.9304 | target: -1.3300 | pred: -1.6052\n"
     ]
    },
    {
     "name": "stderr",
     "output_type": "stream",
     "text": [
      "Division 1/5:  10%|███████▌                                                                     | 100/1015 [00:13<02:00,  7.59it/s]\n",
      "Division 1/5:   0%|▏                                                                              | 3/1015 [00:00<02:00,  8.39it/s]"
     ]
    },
    {
     "name": "stdout",
     "output_type": "stream",
     "text": [
      "Epoch:   9 | Samples:      0/100 | RMSE Loss: 1.2423 | MSE Loss: 1.5434 | target: -4.5540 | pred: -3.3117\n"
     ]
    },
    {
     "name": "stderr",
     "output_type": "stream",
     "text": [
      "Division 1/5:   3%|██▌                                                                           | 34/1015 [00:04<02:17,  7.14it/s]"
     ]
    },
    {
     "name": "stdout",
     "output_type": "stream",
     "text": [
      "Epoch:   9 | Samples:     32/100 | RMSE Loss: 0.8602 | MSE Loss: 1.1589 | target: -3.8960 | pred: -5.2178\n"
     ]
    },
    {
     "name": "stderr",
     "output_type": "stream",
     "text": [
      "Division 1/5:   7%|█████                                                                         | 66/1015 [00:08<02:28,  6.37it/s]"
     ]
    },
    {
     "name": "stdout",
     "output_type": "stream",
     "text": [
      "Epoch:   9 | Samples:     64/100 | RMSE Loss: 0.7377 | MSE Loss: 0.9059 | target: -4.1000 | pred: -3.9871\n"
     ]
    },
    {
     "name": "stderr",
     "output_type": "stream",
     "text": [
      "Division 1/5:  10%|███████▌                                                                      | 98/1015 [00:12<01:59,  7.69it/s]"
     ]
    },
    {
     "name": "stdout",
     "output_type": "stream",
     "text": [
      "Epoch:   9 | Samples:     96/100 | RMSE Loss: 0.6892 | MSE Loss: 0.8224 | target: -1.3300 | pred: -1.5563\n"
     ]
    },
    {
     "name": "stderr",
     "output_type": "stream",
     "text": [
      "Division 1/5:  10%|███████▌                                                                     | 100/1015 [00:13<02:00,  7.58it/s]\n",
      "Division 2/5:   0%|▏                                                                              | 3/1015 [00:00<02:00,  8.42it/s]"
     ]
    },
    {
     "name": "stdout",
     "output_type": "stream",
     "text": [
      "Epoch:   0 | Samples:      0/304 | RMSE Loss: 4.7090 | MSE Loss: 22.1751 | target: -4.5540 | pred: 0.1550\n"
     ]
    },
    {
     "name": "stderr",
     "output_type": "stream",
     "text": [
      "Division 2/5:   3%|██▌                                                                           | 34/1015 [00:04<02:18,  7.08it/s]"
     ]
    },
    {
     "name": "stdout",
     "output_type": "stream",
     "text": [
      "Epoch:   0 | Samples:     32/304 | RMSE Loss: 1.7000 | MSE Loss: 5.1867 | target: -3.8960 | pred: -7.4579\n"
     ]
    },
    {
     "name": "stderr",
     "output_type": "stream",
     "text": [
      "Division 2/5:   7%|█████                                                                         | 66/1015 [00:09<02:27,  6.43it/s]"
     ]
    },
    {
     "name": "stdout",
     "output_type": "stream",
     "text": [
      "Epoch:   0 | Samples:     64/304 | RMSE Loss: 1.4183 | MSE Loss: 3.6284 | target: -4.1000 | pred: -5.3237\n"
     ]
    },
    {
     "name": "stderr",
     "output_type": "stream",
     "text": [
      "Division 2/5:  10%|███████▌                                                                      | 98/1015 [00:12<01:59,  7.70it/s]"
     ]
    },
    {
     "name": "stdout",
     "output_type": "stream",
     "text": [
      "Epoch:   0 | Samples:     96/304 | RMSE Loss: 1.3867 | MSE Loss: 3.3538 | target: -1.3300 | pred: -1.4144\n"
     ]
    },
    {
     "name": "stderr",
     "output_type": "stream",
     "text": [
      "Division 2/5:  13%|█████████▊                                                                   | 130/1015 [00:17<01:47,  8.20it/s]"
     ]
    },
    {
     "name": "stdout",
     "output_type": "stream",
     "text": [
      "Epoch:   0 | Samples:    128/304 | RMSE Loss: 1.2551 | MSE Loss: 2.7945 | target: 0.0090 | pred: -2.0123\n"
     ]
    },
    {
     "name": "stderr",
     "output_type": "stream",
     "text": [
      "Division 2/5:  16%|████████████▏                                                                | 160/1015 [00:21<01:48,  7.88it/s]"
     ]
    },
    {
     "name": "stdout",
     "output_type": "stream",
     "text": [
      "Epoch:   0 | Samples:    160/304 | RMSE Loss: 1.2651 | MSE Loss: 2.7702 | target: -1.0900 | pred: -2.1492\n"
     ]
    },
    {
     "name": "stderr",
     "output_type": "stream",
     "text": [
      "Division 2/5:  19%|██████████████▋                                                              | 194/1015 [00:26<02:04,  6.57it/s]"
     ]
    },
    {
     "name": "stdout",
     "output_type": "stream",
     "text": [
      "Epoch:   0 | Samples:    192/304 | RMSE Loss: 1.3121 | MSE Loss: 3.0337 | target: -1.3700 | pred: -1.6860\n"
     ]
    },
    {
     "name": "stderr",
     "output_type": "stream",
     "text": [
      "Division 2/5:  22%|█████████████████▏                                                           | 226/1015 [00:31<01:26,  9.10it/s]"
     ]
    },
    {
     "name": "stdout",
     "output_type": "stream",
     "text": [
      "Epoch:   0 | Samples:    224/304 | RMSE Loss: 1.2959 | MSE Loss: 3.0224 | target: -2.0500 | pred: -2.6619\n"
     ]
    },
    {
     "name": "stderr",
     "output_type": "stream",
     "text": [
      "Division 2/5:  25%|███████████████████▍                                                         | 257/1015 [00:36<01:51,  6.78it/s]"
     ]
    },
    {
     "name": "stdout",
     "output_type": "stream",
     "text": [
      "Epoch:   0 | Samples:    256/304 | RMSE Loss: 1.3198 | MSE Loss: 3.0133 | target: -4.4200 | pred: -6.2214\n"
     ]
    },
    {
     "name": "stderr",
     "output_type": "stream",
     "text": [
      "Division 2/5:  28%|█████████████████████▉                                                       | 289/1015 [00:41<02:06,  5.72it/s]"
     ]
    },
    {
     "name": "stdout",
     "output_type": "stream",
     "text": [
      "Epoch:   0 | Samples:    288/304 | RMSE Loss: 1.3157 | MSE Loss: 2.9773 | target: -2.3690 | pred: -2.3858\n"
     ]
    },
    {
     "name": "stderr",
     "output_type": "stream",
     "text": [
      "Division 2/5:  30%|███████████████████████                                                      | 304/1015 [00:43<01:40,  7.05it/s]\n",
      "Division 2/5:   0%|▏                                                                              | 3/1015 [00:00<01:58,  8.51it/s]"
     ]
    },
    {
     "name": "stdout",
     "output_type": "stream",
     "text": [
      "Epoch:   1 | Samples:      0/304 | RMSE Loss: 0.4017 | MSE Loss: 0.1614 | target: -4.5540 | pred: -4.1523\n"
     ]
    },
    {
     "name": "stderr",
     "output_type": "stream",
     "text": [
      "Division 2/5:   3%|██▌                                                                           | 34/1015 [00:04<02:19,  7.02it/s]"
     ]
    },
    {
     "name": "stdout",
     "output_type": "stream",
     "text": [
      "Epoch:   1 | Samples:     32/304 | RMSE Loss: 1.2459 | MSE Loss: 2.3594 | target: -3.8960 | pred: -5.4630\n"
     ]
    },
    {
     "name": "stderr",
     "output_type": "stream",
     "text": [
      "Division 2/5:   7%|█████                                                                         | 66/1015 [00:09<02:26,  6.46it/s]"
     ]
    },
    {
     "name": "stdout",
     "output_type": "stream",
     "text": [
      "Epoch:   1 | Samples:     64/304 | RMSE Loss: 1.0597 | MSE Loss: 1.7261 | target: -4.1000 | pred: -4.7688\n"
     ]
    },
    {
     "name": "stderr",
     "output_type": "stream",
     "text": [
      "Division 2/5:  10%|███████▌                                                                      | 98/1015 [00:13<01:58,  7.71it/s]"
     ]
    },
    {
     "name": "stdout",
     "output_type": "stream",
     "text": [
      "Epoch:   1 | Samples:     96/304 | RMSE Loss: 0.9988 | MSE Loss: 1.6020 | target: -1.3300 | pred: -1.5691\n"
     ]
    },
    {
     "name": "stderr",
     "output_type": "stream",
     "text": [
      "Division 2/5:  13%|█████████▊                                                                   | 130/1015 [00:17<01:46,  8.29it/s]"
     ]
    },
    {
     "name": "stdout",
     "output_type": "stream",
     "text": [
      "Epoch:   1 | Samples:    128/304 | RMSE Loss: 0.9268 | MSE Loss: 1.4145 | target: 0.0090 | pred: -1.2288\n"
     ]
    },
    {
     "name": "stderr",
     "output_type": "stream",
     "text": [
      "Division 2/5:  16%|████████████▏                                                                | 160/1015 [00:21<01:48,  7.86it/s]"
     ]
    },
    {
     "name": "stdout",
     "output_type": "stream",
     "text": [
      "Epoch:   1 | Samples:    160/304 | RMSE Loss: 0.9354 | MSE Loss: 1.3952 | target: -1.0900 | pred: -2.1565\n"
     ]
    },
    {
     "name": "stderr",
     "output_type": "stream",
     "text": [
      "Division 2/5:  19%|██████████████▋                                                              | 194/1015 [00:26<02:04,  6.58it/s]"
     ]
    },
    {
     "name": "stdout",
     "output_type": "stream",
     "text": [
      "Epoch:   1 | Samples:    192/304 | RMSE Loss: 0.9877 | MSE Loss: 1.6461 | target: -1.3700 | pred: -2.1463\n"
     ]
    },
    {
     "name": "stderr",
     "output_type": "stream",
     "text": [
      "Division 2/5:  22%|█████████████████▏                                                           | 226/1015 [00:31<01:26,  9.07it/s]"
     ]
    },
    {
     "name": "stdout",
     "output_type": "stream",
     "text": [
      "Epoch:   1 | Samples:    224/304 | RMSE Loss: 0.9664 | MSE Loss: 1.5922 | target: -2.0500 | pred: -2.1818\n"
     ]
    },
    {
     "name": "stderr",
     "output_type": "stream",
     "text": [
      "Division 2/5:  25%|███████████████████▍                                                         | 257/1015 [00:36<01:51,  6.77it/s]"
     ]
    },
    {
     "name": "stdout",
     "output_type": "stream",
     "text": [
      "Epoch:   1 | Samples:    256/304 | RMSE Loss: 0.9611 | MSE Loss: 1.5465 | target: -4.4200 | pred: -5.7118\n"
     ]
    },
    {
     "name": "stderr",
     "output_type": "stream",
     "text": [
      "Division 2/5:  28%|█████████████████████▉                                                       | 289/1015 [00:41<02:08,  5.63it/s]"
     ]
    },
    {
     "name": "stdout",
     "output_type": "stream",
     "text": [
      "Epoch:   1 | Samples:    288/304 | RMSE Loss: 0.9573 | MSE Loss: 1.5198 | target: -2.3690 | pred: -2.0264\n"
     ]
    },
    {
     "name": "stderr",
     "output_type": "stream",
     "text": [
      "Division 2/5:  30%|███████████████████████                                                      | 304/1015 [00:43<01:40,  7.05it/s]\n",
      "Division 2/5:   0%|▏                                                                              | 3/1015 [00:00<01:58,  8.51it/s]"
     ]
    },
    {
     "name": "stdout",
     "output_type": "stream",
     "text": [
      "Epoch:   2 | Samples:      0/304 | RMSE Loss: 1.2719 | MSE Loss: 1.6177 | target: -4.5540 | pred: -3.2821\n"
     ]
    },
    {
     "name": "stderr",
     "output_type": "stream",
     "text": [
      "Division 2/5:   3%|██▌                                                                           | 34/1015 [00:04<02:20,  7.01it/s]"
     ]
    },
    {
     "name": "stdout",
     "output_type": "stream",
     "text": [
      "Epoch:   2 | Samples:     32/304 | RMSE Loss: 1.0977 | MSE Loss: 1.9771 | target: -3.8960 | pred: -5.8020\n"
     ]
    },
    {
     "name": "stderr",
     "output_type": "stream",
     "text": [
      "Division 2/5:   7%|█████                                                                         | 66/1015 [00:08<02:26,  6.49it/s]"
     ]
    },
    {
     "name": "stdout",
     "output_type": "stream",
     "text": [
      "Epoch:   2 | Samples:     64/304 | RMSE Loss: 0.9200 | MSE Loss: 1.4341 | target: -4.1000 | pred: -4.0541\n"
     ]
    },
    {
     "name": "stderr",
     "output_type": "stream",
     "text": [
      "Division 2/5:  10%|███████▌                                                                      | 98/1015 [00:12<01:58,  7.74it/s]"
     ]
    },
    {
     "name": "stdout",
     "output_type": "stream",
     "text": [
      "Epoch:   2 | Samples:     96/304 | RMSE Loss: 0.8512 | MSE Loss: 1.2512 | target: -1.3300 | pred: -1.6045\n"
     ]
    },
    {
     "name": "stderr",
     "output_type": "stream",
     "text": [
      "Division 2/5:  13%|█████████▊                                                                   | 130/1015 [00:17<01:46,  8.29it/s]"
     ]
    },
    {
     "name": "stdout",
     "output_type": "stream",
     "text": [
      "Epoch:   2 | Samples:    128/304 | RMSE Loss: 0.7921 | MSE Loss: 1.1137 | target: 0.0090 | pred: -0.6854\n"
     ]
    },
    {
     "name": "stderr",
     "output_type": "stream",
     "text": [
      "Division 2/5:  16%|████████████▏                                                                | 160/1015 [00:21<01:48,  7.85it/s]"
     ]
    },
    {
     "name": "stdout",
     "output_type": "stream",
     "text": [
      "Epoch:   2 | Samples:    160/304 | RMSE Loss: 0.7947 | MSE Loss: 1.0803 | target: -1.0900 | pred: -1.9963\n"
     ]
    },
    {
     "name": "stderr",
     "output_type": "stream",
     "text": [
      "Division 2/5:  19%|██████████████▋                                                              | 194/1015 [00:26<02:04,  6.61it/s]"
     ]
    },
    {
     "name": "stdout",
     "output_type": "stream",
     "text": [
      "Epoch:   2 | Samples:    192/304 | RMSE Loss: 0.8215 | MSE Loss: 1.1761 | target: -1.3700 | pred: -2.2247\n"
     ]
    },
    {
     "name": "stderr",
     "output_type": "stream",
     "text": [
      "Division 2/5:  22%|█████████████████▏                                                           | 226/1015 [00:31<01:28,  8.88it/s]"
     ]
    },
    {
     "name": "stdout",
     "output_type": "stream",
     "text": [
      "Epoch:   2 | Samples:    224/304 | RMSE Loss: 0.8048 | MSE Loss: 1.1200 | target: -2.0500 | pred: -1.9806\n"
     ]
    },
    {
     "name": "stderr",
     "output_type": "stream",
     "text": [
      "Division 2/5:  25%|███████████████████▍                                                         | 257/1015 [00:36<01:52,  6.74it/s]"
     ]
    },
    {
     "name": "stdout",
     "output_type": "stream",
     "text": [
      "Epoch:   2 | Samples:    256/304 | RMSE Loss: 0.7939 | MSE Loss: 1.0691 | target: -4.4200 | pred: -5.3454\n"
     ]
    },
    {
     "name": "stderr",
     "output_type": "stream",
     "text": [
      "Division 2/5:  28%|█████████████████████▉                                                       | 289/1015 [00:41<02:07,  5.68it/s]"
     ]
    },
    {
     "name": "stdout",
     "output_type": "stream",
     "text": [
      "Epoch:   2 | Samples:    288/304 | RMSE Loss: 0.7925 | MSE Loss: 1.0557 | target: -2.3690 | pred: -2.6098\n"
     ]
    },
    {
     "name": "stderr",
     "output_type": "stream",
     "text": [
      "Division 2/5:  30%|███████████████████████                                                      | 304/1015 [00:43<01:40,  7.05it/s]\n",
      "Division 2/5:   0%|▏                                                                              | 3/1015 [00:00<01:58,  8.53it/s]"
     ]
    },
    {
     "name": "stdout",
     "output_type": "stream",
     "text": [
      "Epoch:   3 | Samples:      0/304 | RMSE Loss: 1.6090 | MSE Loss: 2.5889 | target: -4.5540 | pred: -2.9450\n"
     ]
    },
    {
     "name": "stderr",
     "output_type": "stream",
     "text": [
      "Division 2/5:   3%|██▌                                                                           | 34/1015 [00:04<02:20,  6.97it/s]"
     ]
    },
    {
     "name": "stdout",
     "output_type": "stream",
     "text": [
      "Epoch:   3 | Samples:     32/304 | RMSE Loss: 0.9839 | MSE Loss: 1.7505 | target: -3.8960 | pred: -4.9910\n"
     ]
    },
    {
     "name": "stderr",
     "output_type": "stream",
     "text": [
      "Division 2/5:   7%|█████                                                                         | 66/1015 [00:09<02:26,  6.47it/s]"
     ]
    },
    {
     "name": "stdout",
     "output_type": "stream",
     "text": [
      "Epoch:   3 | Samples:     64/304 | RMSE Loss: 0.8001 | MSE Loss: 1.2001 | target: -4.1000 | pred: -4.0578\n"
     ]
    },
    {
     "name": "stderr",
     "output_type": "stream",
     "text": [
      "Division 2/5:  10%|███████▌                                                                      | 98/1015 [00:12<01:58,  7.73it/s]"
     ]
    },
    {
     "name": "stdout",
     "output_type": "stream",
     "text": [
      "Epoch:   3 | Samples:     96/304 | RMSE Loss: 0.7643 | MSE Loss: 1.0650 | target: -1.3300 | pred: -1.4626\n"
     ]
    },
    {
     "name": "stderr",
     "output_type": "stream",
     "text": [
      "Division 2/5:  13%|█████████▊                                                                   | 130/1015 [00:17<01:47,  8.26it/s]"
     ]
    },
    {
     "name": "stdout",
     "output_type": "stream",
     "text": [
      "Epoch:   3 | Samples:    128/304 | RMSE Loss: 0.7070 | MSE Loss: 0.9351 | target: 0.0090 | pred: -0.3487\n"
     ]
    },
    {
     "name": "stderr",
     "output_type": "stream",
     "text": [
      "Division 2/5:  16%|████████████▏                                                                | 160/1015 [00:21<01:48,  7.86it/s]"
     ]
    },
    {
     "name": "stdout",
     "output_type": "stream",
     "text": [
      "Epoch:   3 | Samples:    160/304 | RMSE Loss: 0.7108 | MSE Loss: 0.9078 | target: -1.0900 | pred: -1.8689\n"
     ]
    },
    {
     "name": "stderr",
     "output_type": "stream",
     "text": [
      "Division 2/5:  19%|██████████████▋                                                              | 194/1015 [00:26<02:04,  6.61it/s]"
     ]
    },
    {
     "name": "stdout",
     "output_type": "stream",
     "text": [
      "Epoch:   3 | Samples:    192/304 | RMSE Loss: 0.7267 | MSE Loss: 0.9527 | target: -1.3700 | pred: -2.1314\n"
     ]
    },
    {
     "name": "stderr",
     "output_type": "stream",
     "text": [
      "Division 2/5:  22%|█████████████████▏                                                           | 226/1015 [00:31<01:27,  9.02it/s]"
     ]
    },
    {
     "name": "stdout",
     "output_type": "stream",
     "text": [
      "Epoch:   3 | Samples:    224/304 | RMSE Loss: 0.7153 | MSE Loss: 0.9080 | target: -2.0500 | pred: -1.9161\n"
     ]
    },
    {
     "name": "stderr",
     "output_type": "stream",
     "text": [
      "Division 2/5:  25%|███████████████████▍                                                         | 257/1015 [00:36<01:52,  6.75it/s]"
     ]
    },
    {
     "name": "stdout",
     "output_type": "stream",
     "text": [
      "Epoch:   3 | Samples:    256/304 | RMSE Loss: 0.7037 | MSE Loss: 0.8640 | target: -4.4200 | pred: -5.1413\n"
     ]
    },
    {
     "name": "stderr",
     "output_type": "stream",
     "text": [
      "Division 2/5:  28%|█████████████████████▉                                                       | 289/1015 [00:40<02:07,  5.71it/s]"
     ]
    },
    {
     "name": "stdout",
     "output_type": "stream",
     "text": [
      "Epoch:   3 | Samples:    288/304 | RMSE Loss: 0.7048 | MSE Loss: 0.8579 | target: -2.3690 | pred: -2.8029\n"
     ]
    },
    {
     "name": "stderr",
     "output_type": "stream",
     "text": [
      "Division 2/5:  30%|███████████████████████                                                      | 304/1015 [00:43<01:40,  7.06it/s]\n",
      "Division 2/5:   0%|▏                                                                              | 3/1015 [00:00<02:00,  8.41it/s]"
     ]
    },
    {
     "name": "stdout",
     "output_type": "stream",
     "text": [
      "Epoch:   4 | Samples:      0/304 | RMSE Loss: 1.5786 | MSE Loss: 2.4921 | target: -4.5540 | pred: -2.9754\n"
     ]
    },
    {
     "name": "stderr",
     "output_type": "stream",
     "text": [
      "Division 2/5:   3%|██▌                                                                           | 34/1015 [00:04<02:19,  7.03it/s]"
     ]
    },
    {
     "name": "stdout",
     "output_type": "stream",
     "text": [
      "Epoch:   4 | Samples:     32/304 | RMSE Loss: 0.8809 | MSE Loss: 1.3958 | target: -3.8960 | pred: -4.7039\n"
     ]
    },
    {
     "name": "stderr",
     "output_type": "stream",
     "text": [
      "Division 2/5:   7%|█████                                                                         | 66/1015 [00:09<02:27,  6.42it/s]"
     ]
    },
    {
     "name": "stdout",
     "output_type": "stream",
     "text": [
      "Epoch:   4 | Samples:     64/304 | RMSE Loss: 0.7071 | MSE Loss: 0.9319 | target: -4.1000 | pred: -4.2687\n"
     ]
    },
    {
     "name": "stderr",
     "output_type": "stream",
     "text": [
      "Division 2/5:  10%|███████▌                                                                      | 98/1015 [00:13<02:00,  7.63it/s]"
     ]
    },
    {
     "name": "stdout",
     "output_type": "stream",
     "text": [
      "Epoch:   4 | Samples:     96/304 | RMSE Loss: 0.7051 | MSE Loss: 0.8838 | target: -1.3300 | pred: -1.3462\n"
     ]
    },
    {
     "name": "stderr",
     "output_type": "stream",
     "text": [
      "Division 2/5:  13%|█████████▊                                                                   | 130/1015 [00:17<01:48,  8.17it/s]"
     ]
    },
    {
     "name": "stdout",
     "output_type": "stream",
     "text": [
      "Epoch:   4 | Samples:    128/304 | RMSE Loss: 0.6525 | MSE Loss: 0.7765 | target: 0.0090 | pred: -0.1587\n"
     ]
    },
    {
     "name": "stderr",
     "output_type": "stream",
     "text": [
      "Division 2/5:  16%|████████████▏                                                                | 160/1015 [00:21<01:49,  7.83it/s]"
     ]
    },
    {
     "name": "stdout",
     "output_type": "stream",
     "text": [
      "Epoch:   4 | Samples:    160/304 | RMSE Loss: 0.6624 | MSE Loss: 0.7698 | target: -1.0900 | pred: -1.8414\n"
     ]
    },
    {
     "name": "stderr",
     "output_type": "stream",
     "text": [
      "Division 2/5:  19%|██████████████▋                                                              | 194/1015 [00:26<02:06,  6.51it/s]"
     ]
    },
    {
     "name": "stdout",
     "output_type": "stream",
     "text": [
      "Epoch:   4 | Samples:    192/304 | RMSE Loss: 0.6660 | MSE Loss: 0.7847 | target: -1.3700 | pred: -1.9688\n"
     ]
    },
    {
     "name": "stderr",
     "output_type": "stream",
     "text": [
      "Division 2/5:  22%|█████████████████▏                                                           | 226/1015 [00:31<01:25,  9.18it/s]"
     ]
    },
    {
     "name": "stdout",
     "output_type": "stream",
     "text": [
      "Epoch:   4 | Samples:    224/304 | RMSE Loss: 0.6576 | MSE Loss: 0.7543 | target: -2.0500 | pred: -1.9280\n"
     ]
    },
    {
     "name": "stderr",
     "output_type": "stream",
     "text": [
      "Division 2/5:  25%|███████████████████▍                                                         | 257/1015 [00:36<01:51,  6.77it/s]"
     ]
    },
    {
     "name": "stdout",
     "output_type": "stream",
     "text": [
      "Epoch:   4 | Samples:    256/304 | RMSE Loss: 0.6462 | MSE Loss: 0.7193 | target: -4.4200 | pred: -5.0792\n"
     ]
    },
    {
     "name": "stderr",
     "output_type": "stream",
     "text": [
      "Division 2/5:  28%|█████████████████████▉                                                       | 289/1015 [00:41<02:10,  5.57it/s]"
     ]
    },
    {
     "name": "stdout",
     "output_type": "stream",
     "text": [
      "Epoch:   4 | Samples:    288/304 | RMSE Loss: 0.6493 | MSE Loss: 0.7187 | target: -2.3690 | pred: -2.8750\n"
     ]
    },
    {
     "name": "stderr",
     "output_type": "stream",
     "text": [
      "Division 2/5:  30%|███████████████████████                                                      | 304/1015 [00:43<01:41,  7.04it/s]\n",
      "Division 2/5:   0%|▏                                                                              | 3/1015 [00:00<02:00,  8.41it/s]"
     ]
    },
    {
     "name": "stdout",
     "output_type": "stream",
     "text": [
      "Epoch:   5 | Samples:      0/304 | RMSE Loss: 1.4992 | MSE Loss: 2.2475 | target: -4.5540 | pred: -3.0548\n"
     ]
    },
    {
     "name": "stderr",
     "output_type": "stream",
     "text": [
      "Division 2/5:   3%|██▌                                                                           | 34/1015 [00:04<02:19,  7.01it/s]"
     ]
    },
    {
     "name": "stdout",
     "output_type": "stream",
     "text": [
      "Epoch:   5 | Samples:     32/304 | RMSE Loss: 0.8143 | MSE Loss: 1.1810 | target: -3.8960 | pred: -4.7424\n"
     ]
    },
    {
     "name": "stderr",
     "output_type": "stream",
     "text": [
      "Division 2/5:   7%|█████                                                                         | 66/1015 [00:09<02:27,  6.43it/s]"
     ]
    },
    {
     "name": "stdout",
     "output_type": "stream",
     "text": [
      "Epoch:   5 | Samples:     64/304 | RMSE Loss: 0.6605 | MSE Loss: 0.7935 | target: -4.1000 | pred: -4.3446\n"
     ]
    },
    {
     "name": "stderr",
     "output_type": "stream",
     "text": [
      "Division 2/5:  10%|███████▌                                                                      | 98/1015 [00:13<02:00,  7.63it/s]"
     ]
    },
    {
     "name": "stdout",
     "output_type": "stream",
     "text": [
      "Epoch:   5 | Samples:     96/304 | RMSE Loss: 0.6753 | MSE Loss: 0.7906 | target: -1.3300 | pred: -1.2604\n"
     ]
    },
    {
     "name": "stderr",
     "output_type": "stream",
     "text": [
      "Division 2/5:  13%|█████████▊                                                                   | 130/1015 [00:17<01:46,  8.31it/s]"
     ]
    },
    {
     "name": "stdout",
     "output_type": "stream",
     "text": [
      "Epoch:   5 | Samples:    128/304 | RMSE Loss: 0.6244 | MSE Loss: 0.6881 | target: 0.0090 | pred: 0.0505\n"
     ]
    },
    {
     "name": "stderr",
     "output_type": "stream",
     "text": [
      "Division 2/5:  16%|████████████▏                                                                | 160/1015 [00:21<01:48,  7.92it/s]"
     ]
    },
    {
     "name": "stdout",
     "output_type": "stream",
     "text": [
      "Epoch:   5 | Samples:    160/304 | RMSE Loss: 0.6332 | MSE Loss: 0.6874 | target: -1.0900 | pred: -1.8573\n"
     ]
    },
    {
     "name": "stderr",
     "output_type": "stream",
     "text": [
      "Division 2/5:  19%|██████████████▋                                                              | 194/1015 [00:26<02:05,  6.54it/s]"
     ]
    },
    {
     "name": "stdout",
     "output_type": "stream",
     "text": [
      "Epoch:   5 | Samples:    192/304 | RMSE Loss: 0.6280 | MSE Loss: 0.6837 | target: -1.3700 | pred: -1.8370\n"
     ]
    },
    {
     "name": "stderr",
     "output_type": "stream",
     "text": [
      "Division 2/5:  22%|█████████████████▏                                                           | 226/1015 [00:31<01:26,  9.16it/s]"
     ]
    },
    {
     "name": "stdout",
     "output_type": "stream",
     "text": [
      "Epoch:   5 | Samples:    224/304 | RMSE Loss: 0.6195 | MSE Loss: 0.6603 | target: -2.0500 | pred: -1.9500\n"
     ]
    },
    {
     "name": "stderr",
     "output_type": "stream",
     "text": [
      "Division 2/5:  25%|███████████████████▍                                                         | 257/1015 [00:36<01:51,  6.77it/s]"
     ]
    },
    {
     "name": "stdout",
     "output_type": "stream",
     "text": [
      "Epoch:   5 | Samples:    256/304 | RMSE Loss: 0.6111 | MSE Loss: 0.6328 | target: -4.4200 | pred: -5.0509\n"
     ]
    },
    {
     "name": "stderr",
     "output_type": "stream",
     "text": [
      "Division 2/5:  28%|█████████████████████▉                                                       | 289/1015 [00:41<02:07,  5.67it/s]"
     ]
    },
    {
     "name": "stdout",
     "output_type": "stream",
     "text": [
      "Epoch:   5 | Samples:    288/304 | RMSE Loss: 0.6150 | MSE Loss: 0.6346 | target: -2.3690 | pred: -2.8973\n"
     ]
    },
    {
     "name": "stderr",
     "output_type": "stream",
     "text": [
      "Division 2/5:  30%|███████████████████████                                                      | 304/1015 [00:43<01:41,  7.03it/s]\n",
      "Division 2/5:   0%|▏                                                                              | 3/1015 [00:00<01:59,  8.47it/s]"
     ]
    },
    {
     "name": "stdout",
     "output_type": "stream",
     "text": [
      "Epoch:   6 | Samples:      0/304 | RMSE Loss: 1.4656 | MSE Loss: 2.1479 | target: -4.5540 | pred: -3.0884\n"
     ]
    },
    {
     "name": "stderr",
     "output_type": "stream",
     "text": [
      "Division 2/5:   3%|██▌                                                                           | 34/1015 [00:04<02:19,  7.02it/s]"
     ]
    },
    {
     "name": "stdout",
     "output_type": "stream",
     "text": [
      "Epoch:   6 | Samples:     32/304 | RMSE Loss: 0.7580 | MSE Loss: 1.0046 | target: -3.8960 | pred: -4.7244\n"
     ]
    },
    {
     "name": "stderr",
     "output_type": "stream",
     "text": [
      "Division 2/5:   7%|█████                                                                         | 66/1015 [00:09<02:27,  6.43it/s]"
     ]
    },
    {
     "name": "stdout",
     "output_type": "stream",
     "text": [
      "Epoch:   6 | Samples:     64/304 | RMSE Loss: 0.6185 | MSE Loss: 0.6840 | target: -4.1000 | pred: -4.3958\n"
     ]
    },
    {
     "name": "stderr",
     "output_type": "stream",
     "text": [
      "Division 2/5:  10%|███████▌                                                                      | 98/1015 [00:13<01:58,  7.74it/s]"
     ]
    },
    {
     "name": "stdout",
     "output_type": "stream",
     "text": [
      "Epoch:   6 | Samples:     96/304 | RMSE Loss: 0.6453 | MSE Loss: 0.7112 | target: -1.3300 | pred: -1.2498\n"
     ]
    },
    {
     "name": "stderr",
     "output_type": "stream",
     "text": [
      "Division 2/5:  13%|█████████▊                                                                   | 130/1015 [00:17<01:52,  7.89it/s]"
     ]
    },
    {
     "name": "stdout",
     "output_type": "stream",
     "text": [
      "Epoch:   6 | Samples:    128/304 | RMSE Loss: 0.5982 | MSE Loss: 0.6187 | target: 0.0090 | pred: 0.1534\n"
     ]
    },
    {
     "name": "stderr",
     "output_type": "stream",
     "text": [
      "Division 2/5:  16%|████████████▏                                                                | 160/1015 [00:21<01:50,  7.76it/s]"
     ]
    },
    {
     "name": "stdout",
     "output_type": "stream",
     "text": [
      "Epoch:   6 | Samples:    160/304 | RMSE Loss: 0.6075 | MSE Loss: 0.6240 | target: -1.0900 | pred: -1.8572\n"
     ]
    },
    {
     "name": "stderr",
     "output_type": "stream",
     "text": [
      "Division 2/5:  19%|██████████████▋                                                              | 194/1015 [00:26<02:04,  6.59it/s]"
     ]
    },
    {
     "name": "stdout",
     "output_type": "stream",
     "text": [
      "Epoch:   6 | Samples:    192/304 | RMSE Loss: 0.5990 | MSE Loss: 0.6129 | target: -1.3700 | pred: -1.7518\n"
     ]
    },
    {
     "name": "stderr",
     "output_type": "stream",
     "text": [
      "Division 2/5:  22%|█████████████████▏                                                           | 226/1015 [00:31<01:27,  9.06it/s]"
     ]
    },
    {
     "name": "stdout",
     "output_type": "stream",
     "text": [
      "Epoch:   6 | Samples:    224/304 | RMSE Loss: 0.5909 | MSE Loss: 0.5935 | target: -2.0500 | pred: -1.9355\n"
     ]
    },
    {
     "name": "stderr",
     "output_type": "stream",
     "text": [
      "Division 2/5:  25%|███████████████████▍                                                         | 257/1015 [00:36<01:52,  6.76it/s]"
     ]
    },
    {
     "name": "stdout",
     "output_type": "stream",
     "text": [
      "Epoch:   6 | Samples:    256/304 | RMSE Loss: 0.5838 | MSE Loss: 0.5706 | target: -4.4200 | pred: -5.0101\n"
     ]
    },
    {
     "name": "stderr",
     "output_type": "stream",
     "text": [
      "Division 2/5:  28%|█████████████████████▉                                                       | 289/1015 [00:41<02:08,  5.64it/s]"
     ]
    },
    {
     "name": "stdout",
     "output_type": "stream",
     "text": [
      "Epoch:   6 | Samples:    288/304 | RMSE Loss: 0.5876 | MSE Loss: 0.5736 | target: -2.3690 | pred: -2.8920\n"
     ]
    },
    {
     "name": "stderr",
     "output_type": "stream",
     "text": [
      "Division 2/5:  30%|███████████████████████                                                      | 304/1015 [00:43<01:41,  7.02it/s]\n",
      "Division 2/5:   0%|▏                                                                              | 3/1015 [00:00<02:00,  8.42it/s]"
     ]
    },
    {
     "name": "stdout",
     "output_type": "stream",
     "text": [
      "Epoch:   7 | Samples:      0/304 | RMSE Loss: 1.4126 | MSE Loss: 1.9956 | target: -4.5540 | pred: -3.1414\n"
     ]
    },
    {
     "name": "stderr",
     "output_type": "stream",
     "text": [
      "Division 2/5:   3%|██▌                                                                           | 34/1015 [00:04<02:19,  7.02it/s]"
     ]
    },
    {
     "name": "stdout",
     "output_type": "stream",
     "text": [
      "Epoch:   7 | Samples:     32/304 | RMSE Loss: 0.7143 | MSE Loss: 0.8613 | target: -3.8960 | pred: -4.7318\n"
     ]
    },
    {
     "name": "stderr",
     "output_type": "stream",
     "text": [
      "Division 2/5:   7%|█████                                                                         | 66/1015 [00:09<02:27,  6.42it/s]"
     ]
    },
    {
     "name": "stdout",
     "output_type": "stream",
     "text": [
      "Epoch:   7 | Samples:     64/304 | RMSE Loss: 0.5833 | MSE Loss: 0.5918 | target: -4.1000 | pred: -4.3777\n"
     ]
    },
    {
     "name": "stderr",
     "output_type": "stream",
     "text": [
      "Division 2/5:  10%|███████▌                                                                      | 98/1015 [00:13<01:58,  7.71it/s]"
     ]
    },
    {
     "name": "stdout",
     "output_type": "stream",
     "text": [
      "Epoch:   7 | Samples:     96/304 | RMSE Loss: 0.6162 | MSE Loss: 0.6391 | target: -1.3300 | pred: -1.2518\n"
     ]
    },
    {
     "name": "stderr",
     "output_type": "stream",
     "text": [
      "Division 2/5:  13%|█████████▊                                                                   | 130/1015 [00:17<01:48,  8.18it/s]"
     ]
    },
    {
     "name": "stdout",
     "output_type": "stream",
     "text": [
      "Epoch:   7 | Samples:    128/304 | RMSE Loss: 0.5720 | MSE Loss: 0.5569 | target: 0.0090 | pred: 0.2469\n"
     ]
    },
    {
     "name": "stderr",
     "output_type": "stream",
     "text": [
      "Division 2/5:  16%|████████████▏                                                                | 160/1015 [00:21<01:49,  7.80it/s]"
     ]
    },
    {
     "name": "stdout",
     "output_type": "stream",
     "text": [
      "Epoch:   7 | Samples:    160/304 | RMSE Loss: 0.5809 | MSE Loss: 0.5673 | target: -1.0900 | pred: -1.8267\n"
     ]
    },
    {
     "name": "stderr",
     "output_type": "stream",
     "text": [
      "Division 2/5:  19%|██████████████▋                                                              | 194/1015 [00:26<02:04,  6.62it/s]"
     ]
    },
    {
     "name": "stdout",
     "output_type": "stream",
     "text": [
      "Epoch:   7 | Samples:    192/304 | RMSE Loss: 0.5713 | MSE Loss: 0.5554 | target: -1.3700 | pred: -1.6844\n"
     ]
    },
    {
     "name": "stderr",
     "output_type": "stream",
     "text": [
      "Division 2/5:  22%|█████████████████▏                                                           | 226/1015 [00:31<01:29,  8.77it/s]"
     ]
    },
    {
     "name": "stdout",
     "output_type": "stream",
     "text": [
      "Epoch:   7 | Samples:    224/304 | RMSE Loss: 0.5643 | MSE Loss: 0.5390 | target: -2.0500 | pred: -1.9266\n"
     ]
    },
    {
     "name": "stderr",
     "output_type": "stream",
     "text": [
      "Division 2/5:  25%|███████████████████▍                                                         | 257/1015 [00:36<01:52,  6.75it/s]"
     ]
    },
    {
     "name": "stdout",
     "output_type": "stream",
     "text": [
      "Epoch:   7 | Samples:    256/304 | RMSE Loss: 0.5592 | MSE Loss: 0.5215 | target: -4.4200 | pred: -5.0170\n"
     ]
    },
    {
     "name": "stderr",
     "output_type": "stream",
     "text": [
      "Division 2/5:  28%|█████████████████████▉                                                       | 289/1015 [00:41<02:08,  5.63it/s]"
     ]
    },
    {
     "name": "stdout",
     "output_type": "stream",
     "text": [
      "Epoch:   7 | Samples:    288/304 | RMSE Loss: 0.5624 | MSE Loss: 0.5241 | target: -2.3690 | pred: -2.8862\n"
     ]
    },
    {
     "name": "stderr",
     "output_type": "stream",
     "text": [
      "Division 2/5:  30%|███████████████████████                                                      | 304/1015 [00:43<01:41,  6.99it/s]\n",
      "Division 2/5:   0%|▏                                                                              | 3/1015 [00:00<01:59,  8.47it/s]"
     ]
    },
    {
     "name": "stdout",
     "output_type": "stream",
     "text": [
      "Epoch:   8 | Samples:      0/304 | RMSE Loss: 1.3668 | MSE Loss: 1.8682 | target: -4.5540 | pred: -3.1872\n"
     ]
    },
    {
     "name": "stderr",
     "output_type": "stream",
     "text": [
      "Division 2/5:   3%|██▌                                                                           | 34/1015 [00:04<02:19,  7.05it/s]"
     ]
    },
    {
     "name": "stdout",
     "output_type": "stream",
     "text": [
      "Epoch:   8 | Samples:     32/304 | RMSE Loss: 0.6716 | MSE Loss: 0.7433 | target: -3.8960 | pred: -4.7659\n"
     ]
    },
    {
     "name": "stderr",
     "output_type": "stream",
     "text": [
      "Division 2/5:   7%|█████                                                                         | 66/1015 [00:09<02:26,  6.46it/s]"
     ]
    },
    {
     "name": "stdout",
     "output_type": "stream",
     "text": [
      "Epoch:   8 | Samples:     64/304 | RMSE Loss: 0.5536 | MSE Loss: 0.5207 | target: -4.1000 | pred: -4.3701\n"
     ]
    },
    {
     "name": "stderr",
     "output_type": "stream",
     "text": [
      "Division 2/5:  10%|███████▌                                                                      | 98/1015 [00:12<01:59,  7.67it/s]"
     ]
    },
    {
     "name": "stdout",
     "output_type": "stream",
     "text": [
      "Epoch:   8 | Samples:     96/304 | RMSE Loss: 0.5905 | MSE Loss: 0.5804 | target: -1.3300 | pred: -1.2927\n"
     ]
    },
    {
     "name": "stderr",
     "output_type": "stream",
     "text": [
      "Division 2/5:  13%|█████████▊                                                                   | 130/1015 [00:17<01:47,  8.26it/s]"
     ]
    },
    {
     "name": "stdout",
     "output_type": "stream",
     "text": [
      "Epoch:   8 | Samples:    128/304 | RMSE Loss: 0.5519 | MSE Loss: 0.5091 | target: 0.0090 | pred: 0.3074\n"
     ]
    },
    {
     "name": "stderr",
     "output_type": "stream",
     "text": [
      "Division 2/5:  16%|████████████▏                                                                | 160/1015 [00:21<01:48,  7.89it/s]"
     ]
    },
    {
     "name": "stdout",
     "output_type": "stream",
     "text": [
      "Epoch:   8 | Samples:    160/304 | RMSE Loss: 0.5600 | MSE Loss: 0.5216 | target: -1.0900 | pred: -1.7839\n"
     ]
    },
    {
     "name": "stderr",
     "output_type": "stream",
     "text": [
      "Division 2/5:  19%|██████████████▋                                                              | 194/1015 [00:26<02:05,  6.54it/s]"
     ]
    },
    {
     "name": "stdout",
     "output_type": "stream",
     "text": [
      "Epoch:   8 | Samples:    192/304 | RMSE Loss: 0.5500 | MSE Loss: 0.5084 | target: -1.3700 | pred: -1.6702\n"
     ]
    },
    {
     "name": "stderr",
     "output_type": "stream",
     "text": [
      "Division 2/5:  22%|█████████████████▏                                                           | 226/1015 [00:31<01:26,  9.15it/s]"
     ]
    },
    {
     "name": "stdout",
     "output_type": "stream",
     "text": [
      "Epoch:   8 | Samples:    224/304 | RMSE Loss: 0.5439 | MSE Loss: 0.4960 | target: -2.0500 | pred: -1.9687\n"
     ]
    },
    {
     "name": "stderr",
     "output_type": "stream",
     "text": [
      "Division 2/5:  25%|███████████████████▍                                                         | 257/1015 [00:36<01:53,  6.70it/s]"
     ]
    },
    {
     "name": "stdout",
     "output_type": "stream",
     "text": [
      "Epoch:   8 | Samples:    256/304 | RMSE Loss: 0.5404 | MSE Loss: 0.4845 | target: -4.4200 | pred: -5.0376\n"
     ]
    },
    {
     "name": "stderr",
     "output_type": "stream",
     "text": [
      "Division 2/5:  28%|█████████████████████▉                                                       | 289/1015 [00:41<02:07,  5.69it/s]"
     ]
    },
    {
     "name": "stdout",
     "output_type": "stream",
     "text": [
      "Epoch:   8 | Samples:    288/304 | RMSE Loss: 0.5434 | MSE Loss: 0.4869 | target: -2.3690 | pred: -2.8680\n"
     ]
    },
    {
     "name": "stderr",
     "output_type": "stream",
     "text": [
      "Division 2/5:  30%|███████████████████████                                                      | 304/1015 [00:43<01:40,  7.04it/s]\n",
      "Division 2/5:   0%|▏                                                                              | 3/1015 [00:00<02:01,  8.31it/s]"
     ]
    },
    {
     "name": "stdout",
     "output_type": "stream",
     "text": [
      "Epoch:   9 | Samples:      0/304 | RMSE Loss: 1.3765 | MSE Loss: 1.8948 | target: -4.5540 | pred: -3.1775\n"
     ]
    },
    {
     "name": "stderr",
     "output_type": "stream",
     "text": [
      "Division 2/5:   3%|██▌                                                                           | 34/1015 [00:04<02:19,  7.03it/s]"
     ]
    },
    {
     "name": "stdout",
     "output_type": "stream",
     "text": [
      "Epoch:   9 | Samples:     32/304 | RMSE Loss: 0.6398 | MSE Loss: 0.6667 | target: -3.8960 | pred: -4.8671\n"
     ]
    },
    {
     "name": "stderr",
     "output_type": "stream",
     "text": [
      "Division 2/5:   7%|█████                                                                         | 66/1015 [00:09<02:26,  6.47it/s]"
     ]
    },
    {
     "name": "stdout",
     "output_type": "stream",
     "text": [
      "Epoch:   9 | Samples:     64/304 | RMSE Loss: 0.5225 | MSE Loss: 0.4649 | target: -4.1000 | pred: -4.3489\n"
     ]
    },
    {
     "name": "stderr",
     "output_type": "stream",
     "text": [
      "Division 2/5:  10%|███████▌                                                                      | 98/1015 [00:13<01:59,  7.66it/s]"
     ]
    },
    {
     "name": "stdout",
     "output_type": "stream",
     "text": [
      "Epoch:   9 | Samples:     96/304 | RMSE Loss: 0.5638 | MSE Loss: 0.5339 | target: -1.3300 | pred: -1.3152\n"
     ]
    },
    {
     "name": "stderr",
     "output_type": "stream",
     "text": [
      "Division 2/5:  13%|█████████▊                                                                   | 130/1015 [00:17<01:47,  8.21it/s]"
     ]
    },
    {
     "name": "stdout",
     "output_type": "stream",
     "text": [
      "Epoch:   9 | Samples:    128/304 | RMSE Loss: 0.5293 | MSE Loss: 0.4701 | target: 0.0090 | pred: 0.3393\n"
     ]
    },
    {
     "name": "stderr",
     "output_type": "stream",
     "text": [
      "Division 2/5:  16%|████████████▏                                                                | 160/1015 [00:21<01:49,  7.83it/s]"
     ]
    },
    {
     "name": "stdout",
     "output_type": "stream",
     "text": [
      "Epoch:   9 | Samples:    160/304 | RMSE Loss: 0.5371 | MSE Loss: 0.4818 | target: -1.0900 | pred: -1.7723\n"
     ]
    },
    {
     "name": "stderr",
     "output_type": "stream",
     "text": [
      "Division 2/5:  19%|██████████████▋                                                              | 194/1015 [00:26<02:04,  6.57it/s]"
     ]
    },
    {
     "name": "stdout",
     "output_type": "stream",
     "text": [
      "Epoch:   9 | Samples:    192/304 | RMSE Loss: 0.5279 | MSE Loss: 0.4646 | target: -1.3700 | pred: -1.5816\n"
     ]
    },
    {
     "name": "stderr",
     "output_type": "stream",
     "text": [
      "Division 2/5:  22%|█████████████████▏                                                           | 226/1015 [00:31<01:28,  8.95it/s]"
     ]
    },
    {
     "name": "stdout",
     "output_type": "stream",
     "text": [
      "Epoch:   9 | Samples:    224/304 | RMSE Loss: 0.5215 | MSE Loss: 0.4531 | target: -2.0500 | pred: -1.9550\n"
     ]
    },
    {
     "name": "stderr",
     "output_type": "stream",
     "text": [
      "Division 2/5:  25%|███████████████████▍                                                         | 257/1015 [00:36<01:52,  6.71it/s]"
     ]
    },
    {
     "name": "stdout",
     "output_type": "stream",
     "text": [
      "Epoch:   9 | Samples:    256/304 | RMSE Loss: 0.5189 | MSE Loss: 0.4457 | target: -4.4200 | pred: -4.9550\n"
     ]
    },
    {
     "name": "stderr",
     "output_type": "stream",
     "text": [
      "Division 2/5:  28%|█████████████████████▉                                                       | 289/1015 [00:41<02:12,  5.49it/s]"
     ]
    },
    {
     "name": "stdout",
     "output_type": "stream",
     "text": [
      "Epoch:   9 | Samples:    288/304 | RMSE Loss: 0.5218 | MSE Loss: 0.4478 | target: -2.3690 | pred: -2.8378\n"
     ]
    },
    {
     "name": "stderr",
     "output_type": "stream",
     "text": [
      "Division 2/5:  30%|███████████████████████                                                      | 304/1015 [00:43<01:41,  7.04it/s]\n",
      "Division 3/5:   0%|▏                                                                              | 3/1015 [00:00<02:01,  8.36it/s]"
     ]
    },
    {
     "name": "stdout",
     "output_type": "stream",
     "text": [
      "Epoch:   0 | Samples:      0/508 | RMSE Loss: 4.5471 | MSE Loss: 20.6758 | target: -4.5540 | pred: -0.0069\n"
     ]
    },
    {
     "name": "stderr",
     "output_type": "stream",
     "text": [
      "Division 3/5:   3%|██▌                                                                           | 34/1015 [00:04<02:20,  6.98it/s]"
     ]
    },
    {
     "name": "stdout",
     "output_type": "stream",
     "text": [
      "Epoch:   0 | Samples:     32/508 | RMSE Loss: 1.6615 | MSE Loss: 4.9450 | target: -3.8960 | pred: -7.4331\n"
     ]
    },
    {
     "name": "stderr",
     "output_type": "stream",
     "text": [
      "Division 3/5:   7%|█████                                                                         | 66/1015 [00:09<02:30,  6.33it/s]"
     ]
    },
    {
     "name": "stdout",
     "output_type": "stream",
     "text": [
      "Epoch:   0 | Samples:     64/508 | RMSE Loss: 1.3933 | MSE Loss: 3.4874 | target: -4.1000 | pred: -5.3152\n"
     ]
    },
    {
     "name": "stderr",
     "output_type": "stream",
     "text": [
      "Division 3/5:  10%|███████▌                                                                      | 98/1015 [00:13<02:01,  7.56it/s]"
     ]
    },
    {
     "name": "stdout",
     "output_type": "stream",
     "text": [
      "Epoch:   0 | Samples:     96/508 | RMSE Loss: 1.3607 | MSE Loss: 3.2272 | target: -1.3300 | pred: -1.3602\n"
     ]
    },
    {
     "name": "stderr",
     "output_type": "stream",
     "text": [
      "Division 3/5:  13%|█████████▊                                                                   | 130/1015 [00:17<01:48,  8.13it/s]"
     ]
    },
    {
     "name": "stdout",
     "output_type": "stream",
     "text": [
      "Epoch:   0 | Samples:    128/508 | RMSE Loss: 1.2380 | MSE Loss: 2.7036 | target: 0.0090 | pred: -2.0409\n"
     ]
    },
    {
     "name": "stderr",
     "output_type": "stream",
     "text": [
      "Division 3/5:  16%|████████████▏                                                                | 160/1015 [00:21<01:49,  7.83it/s]"
     ]
    },
    {
     "name": "stdout",
     "output_type": "stream",
     "text": [
      "Epoch:   0 | Samples:    160/508 | RMSE Loss: 1.2501 | MSE Loss: 2.6917 | target: -1.0900 | pred: -2.1445\n"
     ]
    },
    {
     "name": "stderr",
     "output_type": "stream",
     "text": [
      "Division 3/5:  19%|██████████████▋                                                              | 194/1015 [00:26<02:05,  6.55it/s]"
     ]
    },
    {
     "name": "stdout",
     "output_type": "stream",
     "text": [
      "Epoch:   0 | Samples:    192/508 | RMSE Loss: 1.2983 | MSE Loss: 2.9545 | target: -1.3700 | pred: -1.6035\n"
     ]
    },
    {
     "name": "stderr",
     "output_type": "stream",
     "text": [
      "Division 3/5:  22%|█████████████████▏                                                           | 226/1015 [00:31<01:27,  9.05it/s]"
     ]
    },
    {
     "name": "stdout",
     "output_type": "stream",
     "text": [
      "Epoch:   0 | Samples:    224/508 | RMSE Loss: 1.2837 | MSE Loss: 2.9486 | target: -2.0500 | pred: -2.7973\n"
     ]
    },
    {
     "name": "stderr",
     "output_type": "stream",
     "text": [
      "Division 3/5:  25%|███████████████████▍                                                         | 257/1015 [00:36<01:52,  6.71it/s]"
     ]
    },
    {
     "name": "stdout",
     "output_type": "stream",
     "text": [
      "Epoch:   0 | Samples:    256/508 | RMSE Loss: 1.3035 | MSE Loss: 2.9244 | target: -4.4200 | pred: -6.0988\n"
     ]
    },
    {
     "name": "stderr",
     "output_type": "stream",
     "text": [
      "Division 3/5:  28%|█████████████████████▉                                                       | 289/1015 [00:41<02:10,  5.55it/s]"
     ]
    },
    {
     "name": "stdout",
     "output_type": "stream",
     "text": [
      "Epoch:   0 | Samples:    288/508 | RMSE Loss: 1.2993 | MSE Loss: 2.8908 | target: -2.3690 | pred: -2.3292\n"
     ]
    },
    {
     "name": "stderr",
     "output_type": "stream",
     "text": [
      "Division 3/5:  32%|████████████████████████▍                                                    | 322/1015 [00:45<01:27,  7.92it/s]"
     ]
    },
    {
     "name": "stdout",
     "output_type": "stream",
     "text": [
      "Epoch:   0 | Samples:    320/508 | RMSE Loss: 1.2738 | MSE Loss: 2.7752 | target: -3.3500 | pred: -4.1099\n"
     ]
    },
    {
     "name": "stderr",
     "output_type": "stream",
     "text": [
      "Division 3/5:  35%|██████████████████████████▊                                                  | 353/1015 [00:50<02:13,  4.97it/s]"
     ]
    },
    {
     "name": "stdout",
     "output_type": "stream",
     "text": [
      "Epoch:   0 | Samples:    352/508 | RMSE Loss: 1.2458 | MSE Loss: 2.6665 | target: -2.1480 | pred: -1.8367\n"
     ]
    },
    {
     "name": "stderr",
     "output_type": "stream",
     "text": [
      "Division 3/5:  38%|█████████████████████████████▎                                               | 386/1015 [00:56<01:35,  6.59it/s]"
     ]
    },
    {
     "name": "stdout",
     "output_type": "stream",
     "text": [
      "Epoch:   0 | Samples:    384/508 | RMSE Loss: 1.2653 | MSE Loss: 2.7435 | target: -3.4990 | pred: -4.4209\n"
     ]
    },
    {
     "name": "stderr",
     "output_type": "stream",
     "text": [
      "Division 3/5:  41%|███████████████████████████████▋                                             | 417/1015 [01:00<01:05,  9.19it/s]"
     ]
    },
    {
     "name": "stdout",
     "output_type": "stream",
     "text": [
      "Epoch:   0 | Samples:    416/508 | RMSE Loss: 1.2551 | MSE Loss: 2.7001 | target: -1.6140 | pred: -1.7364\n"
     ]
    },
    {
     "name": "stderr",
     "output_type": "stream",
     "text": [
      "Division 3/5:  44%|██████████████████████████████████▏                                          | 450/1015 [01:06<00:56,  9.98it/s]"
     ]
    },
    {
     "name": "stdout",
     "output_type": "stream",
     "text": [
      "Epoch:   0 | Samples:    448/508 | RMSE Loss: 1.2510 | MSE Loss: 2.6812 | target: -4.5600 | pred: -3.6082\n"
     ]
    },
    {
     "name": "stderr",
     "output_type": "stream",
     "text": [
      "Division 3/5:  47%|████████████████████████████████████▍                                        | 481/1015 [01:10<01:01,  8.70it/s]"
     ]
    },
    {
     "name": "stdout",
     "output_type": "stream",
     "text": [
      "Epoch:   0 | Samples:    480/508 | RMSE Loss: 1.2503 | MSE Loss: 2.6422 | target: -2.5100 | pred: -2.7533\n"
     ]
    },
    {
     "name": "stderr",
     "output_type": "stream",
     "text": [
      "Division 3/5:  50%|██████████████████████████████████████▌                                      | 508/1015 [01:14<01:13,  6.86it/s]\n",
      "Division 3/5:   0%|▏                                                                              | 3/1015 [00:00<02:00,  8.43it/s]"
     ]
    },
    {
     "name": "stdout",
     "output_type": "stream",
     "text": [
      "Epoch:   1 | Samples:      0/508 | RMSE Loss: 1.3678 | MSE Loss: 1.8709 | target: -4.5540 | pred: -3.1862\n"
     ]
    },
    {
     "name": "stderr",
     "output_type": "stream",
     "text": [
      "Division 3/5:   3%|██▌                                                                           | 34/1015 [00:04<02:19,  7.05it/s]"
     ]
    },
    {
     "name": "stdout",
     "output_type": "stream",
     "text": [
      "Epoch:   1 | Samples:     32/508 | RMSE Loss: 1.1202 | MSE Loss: 2.1437 | target: -3.8960 | pred: -4.6681\n"
     ]
    },
    {
     "name": "stderr",
     "output_type": "stream",
     "text": [
      "Division 3/5:   7%|█████                                                                         | 66/1015 [00:08<02:24,  6.55it/s]"
     ]
    },
    {
     "name": "stdout",
     "output_type": "stream",
     "text": [
      "Epoch:   1 | Samples:     64/508 | RMSE Loss: 0.9590 | MSE Loss: 1.5735 | target: -4.1000 | pred: -3.9121\n"
     ]
    },
    {
     "name": "stderr",
     "output_type": "stream",
     "text": [
      "Division 3/5:  10%|███████▌                                                                      | 98/1015 [00:12<01:59,  7.67it/s]"
     ]
    },
    {
     "name": "stdout",
     "output_type": "stream",
     "text": [
      "Epoch:   1 | Samples:     96/508 | RMSE Loss: 0.8743 | MSE Loss: 1.3342 | target: -1.3300 | pred: -1.9952\n"
     ]
    },
    {
     "name": "stderr",
     "output_type": "stream",
     "text": [
      "Division 3/5:  13%|█████████▊                                                                   | 130/1015 [00:17<01:48,  8.19it/s]"
     ]
    },
    {
     "name": "stdout",
     "output_type": "stream",
     "text": [
      "Epoch:   1 | Samples:    128/508 | RMSE Loss: 0.8181 | MSE Loss: 1.1841 | target: 0.0090 | pred: -1.1397\n"
     ]
    },
    {
     "name": "stderr",
     "output_type": "stream",
     "text": [
      "Division 3/5:  16%|████████████▏                                                                | 160/1015 [00:21<01:49,  7.83it/s]"
     ]
    },
    {
     "name": "stdout",
     "output_type": "stream",
     "text": [
      "Epoch:   1 | Samples:    160/508 | RMSE Loss: 0.8304 | MSE Loss: 1.1683 | target: -1.0900 | pred: -2.1217\n"
     ]
    },
    {
     "name": "stderr",
     "output_type": "stream",
     "text": [
      "Division 3/5:  19%|██████████████▋                                                              | 194/1015 [00:26<02:04,  6.57it/s]"
     ]
    },
    {
     "name": "stdout",
     "output_type": "stream",
     "text": [
      "Epoch:   1 | Samples:    192/508 | RMSE Loss: 0.8493 | MSE Loss: 1.2458 | target: -1.3700 | pred: -2.2184\n"
     ]
    },
    {
     "name": "stderr",
     "output_type": "stream",
     "text": [
      "Division 3/5:  22%|█████████████████▏                                                           | 226/1015 [00:31<01:27,  9.00it/s]"
     ]
    },
    {
     "name": "stdout",
     "output_type": "stream",
     "text": [
      "Epoch:   1 | Samples:    224/508 | RMSE Loss: 0.8352 | MSE Loss: 1.2032 | target: -2.0500 | pred: -2.1690\n"
     ]
    },
    {
     "name": "stderr",
     "output_type": "stream",
     "text": [
      "Division 3/5:  25%|███████████████████▍                                                         | 257/1015 [00:36<01:52,  6.72it/s]"
     ]
    },
    {
     "name": "stdout",
     "output_type": "stream",
     "text": [
      "Epoch:   1 | Samples:    256/508 | RMSE Loss: 0.8345 | MSE Loss: 1.1685 | target: -4.4200 | pred: -5.5468\n"
     ]
    },
    {
     "name": "stderr",
     "output_type": "stream",
     "text": [
      "Division 3/5:  28%|█████████████████████▉                                                       | 289/1015 [00:41<02:08,  5.64it/s]"
     ]
    },
    {
     "name": "stdout",
     "output_type": "stream",
     "text": [
      "Epoch:   1 | Samples:    288/508 | RMSE Loss: 0.8379 | MSE Loss: 1.1684 | target: -2.3690 | pred: -2.4887\n"
     ]
    },
    {
     "name": "stderr",
     "output_type": "stream",
     "text": [
      "Division 3/5:  32%|████████████████████████▍                                                    | 322/1015 [00:45<01:27,  7.92it/s]"
     ]
    },
    {
     "name": "stdout",
     "output_type": "stream",
     "text": [
      "Epoch:   1 | Samples:    320/508 | RMSE Loss: 0.8204 | MSE Loss: 1.1184 | target: -3.3500 | pred: -4.5225\n"
     ]
    },
    {
     "name": "stderr",
     "output_type": "stream",
     "text": [
      "Division 3/5:  35%|██████████████████████████▊                                                  | 353/1015 [00:50<02:13,  4.97it/s]"
     ]
    },
    {
     "name": "stdout",
     "output_type": "stream",
     "text": [
      "Epoch:   1 | Samples:    352/508 | RMSE Loss: 0.8255 | MSE Loss: 1.1370 | target: -2.1480 | pred: -1.4409\n"
     ]
    },
    {
     "name": "stderr",
     "output_type": "stream",
     "text": [
      "Division 3/5:  38%|█████████████████████████████▎                                               | 386/1015 [00:56<01:35,  6.58it/s]"
     ]
    },
    {
     "name": "stdout",
     "output_type": "stream",
     "text": [
      "Epoch:   1 | Samples:    384/508 | RMSE Loss: 0.8566 | MSE Loss: 1.2506 | target: -3.4990 | pred: -5.2626\n"
     ]
    },
    {
     "name": "stderr",
     "output_type": "stream",
     "text": [
      "Division 3/5:  41%|███████████████████████████████▋                                             | 417/1015 [01:00<01:04,  9.28it/s]"
     ]
    },
    {
     "name": "stdout",
     "output_type": "stream",
     "text": [
      "Epoch:   1 | Samples:    416/508 | RMSE Loss: 0.8525 | MSE Loss: 1.2251 | target: -1.6140 | pred: -1.7162\n"
     ]
    },
    {
     "name": "stderr",
     "output_type": "stream",
     "text": [
      "Division 3/5:  44%|██████████████████████████████████▏                                          | 450/1015 [01:05<00:56, 10.00it/s]"
     ]
    },
    {
     "name": "stdout",
     "output_type": "stream",
     "text": [
      "Epoch:   1 | Samples:    448/508 | RMSE Loss: 0.8481 | MSE Loss: 1.2058 | target: -4.5600 | pred: -4.1638\n"
     ]
    },
    {
     "name": "stderr",
     "output_type": "stream",
     "text": [
      "Division 3/5:  47%|████████████████████████████████████▍                                        | 481/1015 [01:10<01:01,  8.67it/s]"
     ]
    },
    {
     "name": "stdout",
     "output_type": "stream",
     "text": [
      "Epoch:   1 | Samples:    480/508 | RMSE Loss: 0.8474 | MSE Loss: 1.1981 | target: -2.5100 | pred: -2.4471\n"
     ]
    },
    {
     "name": "stderr",
     "output_type": "stream",
     "text": [
      "Division 3/5:  50%|██████████████████████████████████████▌                                      | 508/1015 [01:13<01:13,  6.88it/s]\n",
      "Division 3/5:   0%|▏                                                                              | 3/1015 [00:00<02:00,  8.38it/s]"
     ]
    },
    {
     "name": "stdout",
     "output_type": "stream",
     "text": [
      "Epoch:   2 | Samples:      0/508 | RMSE Loss: 1.8025 | MSE Loss: 3.2492 | target: -4.5540 | pred: -2.7515\n"
     ]
    },
    {
     "name": "stderr",
     "output_type": "stream",
     "text": [
      "Division 3/5:   3%|██▌                                                                           | 34/1015 [00:04<02:19,  7.03it/s]"
     ]
    },
    {
     "name": "stdout",
     "output_type": "stream",
     "text": [
      "Epoch:   2 | Samples:     32/508 | RMSE Loss: 0.9731 | MSE Loss: 1.8077 | target: -3.8960 | pred: -4.6263\n"
     ]
    },
    {
     "name": "stderr",
     "output_type": "stream",
     "text": [
      "Division 3/5:   7%|█████                                                                         | 66/1015 [00:09<02:25,  6.51it/s]"
     ]
    },
    {
     "name": "stdout",
     "output_type": "stream",
     "text": [
      "Epoch:   2 | Samples:     64/508 | RMSE Loss: 0.8319 | MSE Loss: 1.3024 | target: -4.1000 | pred: -3.9467\n"
     ]
    },
    {
     "name": "stderr",
     "output_type": "stream",
     "text": [
      "Division 3/5:  10%|███████▌                                                                      | 98/1015 [00:13<02:00,  7.62it/s]"
     ]
    },
    {
     "name": "stdout",
     "output_type": "stream",
     "text": [
      "Epoch:   2 | Samples:     96/508 | RMSE Loss: 0.7816 | MSE Loss: 1.1103 | target: -1.3300 | pred: -1.7051\n"
     ]
    },
    {
     "name": "stderr",
     "output_type": "stream",
     "text": [
      "Division 3/5:  13%|█████████▊                                                                   | 130/1015 [00:17<01:47,  8.23it/s]"
     ]
    },
    {
     "name": "stdout",
     "output_type": "stream",
     "text": [
      "Epoch:   2 | Samples:    128/508 | RMSE Loss: 0.7292 | MSE Loss: 0.9812 | target: 0.0090 | pred: -0.8103\n"
     ]
    },
    {
     "name": "stderr",
     "output_type": "stream",
     "text": [
      "Division 3/5:  16%|████████████▏                                                                | 160/1015 [00:21<01:48,  7.86it/s]"
     ]
    },
    {
     "name": "stdout",
     "output_type": "stream",
     "text": [
      "Epoch:   2 | Samples:    160/508 | RMSE Loss: 0.7361 | MSE Loss: 0.9607 | target: -1.0900 | pred: -1.9173\n"
     ]
    },
    {
     "name": "stderr",
     "output_type": "stream",
     "text": [
      "Division 3/5:  19%|██████████████▋                                                              | 194/1015 [00:26<02:04,  6.57it/s]"
     ]
    },
    {
     "name": "stdout",
     "output_type": "stream",
     "text": [
      "Epoch:   2 | Samples:    192/508 | RMSE Loss: 0.7485 | MSE Loss: 0.9892 | target: -1.3700 | pred: -2.1122\n"
     ]
    },
    {
     "name": "stderr",
     "output_type": "stream",
     "text": [
      "Division 3/5:  22%|█████████████████▏                                                           | 226/1015 [00:31<01:26,  9.10it/s]"
     ]
    },
    {
     "name": "stdout",
     "output_type": "stream",
     "text": [
      "Epoch:   2 | Samples:    224/508 | RMSE Loss: 0.7357 | MSE Loss: 0.9495 | target: -2.0500 | pred: -1.8919\n"
     ]
    },
    {
     "name": "stderr",
     "output_type": "stream",
     "text": [
      "Division 3/5:  25%|███████████████████▍                                                         | 257/1015 [00:36<01:54,  6.64it/s]"
     ]
    },
    {
     "name": "stdout",
     "output_type": "stream",
     "text": [
      "Epoch:   2 | Samples:    256/508 | RMSE Loss: 0.7299 | MSE Loss: 0.9138 | target: -4.4200 | pred: -5.0714\n"
     ]
    },
    {
     "name": "stderr",
     "output_type": "stream",
     "text": [
      "Division 3/5:  28%|█████████████████████▉                                                       | 289/1015 [00:41<02:08,  5.66it/s]"
     ]
    },
    {
     "name": "stdout",
     "output_type": "stream",
     "text": [
      "Epoch:   2 | Samples:    288/508 | RMSE Loss: 0.7334 | MSE Loss: 0.9128 | target: -2.3690 | pred: -2.9646\n"
     ]
    },
    {
     "name": "stderr",
     "output_type": "stream",
     "text": [
      "Division 3/5:  32%|████████████████████████▍                                                    | 322/1015 [00:45<01:27,  7.96it/s]"
     ]
    },
    {
     "name": "stdout",
     "output_type": "stream",
     "text": [
      "Epoch:   2 | Samples:    320/508 | RMSE Loss: 0.7221 | MSE Loss: 0.8835 | target: -3.3500 | pred: -4.4559\n"
     ]
    },
    {
     "name": "stderr",
     "output_type": "stream",
     "text": [
      "Division 3/5:  35%|██████████████████████████▊                                                  | 353/1015 [00:50<02:13,  4.97it/s]"
     ]
    },
    {
     "name": "stdout",
     "output_type": "stream",
     "text": [
      "Epoch:   2 | Samples:    352/508 | RMSE Loss: 0.7299 | MSE Loss: 0.9119 | target: -2.1480 | pred: -1.6748\n"
     ]
    },
    {
     "name": "stderr",
     "output_type": "stream",
     "text": [
      "Division 3/5:  38%|█████████████████████████████▎                                               | 386/1015 [00:56<01:35,  6.56it/s]"
     ]
    },
    {
     "name": "stdout",
     "output_type": "stream",
     "text": [
      "Epoch:   2 | Samples:    384/508 | RMSE Loss: 0.7417 | MSE Loss: 0.9615 | target: -3.4990 | pred: -5.0687\n"
     ]
    },
    {
     "name": "stderr",
     "output_type": "stream",
     "text": [
      "Division 3/5:  41%|███████████████████████████████▋                                             | 417/1015 [01:00<01:04,  9.21it/s]"
     ]
    },
    {
     "name": "stdout",
     "output_type": "stream",
     "text": [
      "Epoch:   2 | Samples:    416/508 | RMSE Loss: 0.7360 | MSE Loss: 0.9404 | target: -1.6140 | pred: -2.1792\n"
     ]
    },
    {
     "name": "stderr",
     "output_type": "stream",
     "text": [
      "Division 3/5:  44%|██████████████████████████████████▏                                          | 450/1015 [01:05<00:56, 10.03it/s]"
     ]
    },
    {
     "name": "stdout",
     "output_type": "stream",
     "text": [
      "Epoch:   2 | Samples:    448/508 | RMSE Loss: 0.7318 | MSE Loss: 0.9189 | target: -4.5600 | pred: -4.1199\n"
     ]
    },
    {
     "name": "stderr",
     "output_type": "stream",
     "text": [
      "Division 3/5:  47%|████████████████████████████████████▍                                        | 481/1015 [01:10<01:01,  8.72it/s]"
     ]
    },
    {
     "name": "stdout",
     "output_type": "stream",
     "text": [
      "Epoch:   2 | Samples:    480/508 | RMSE Loss: 0.7309 | MSE Loss: 0.9094 | target: -2.5100 | pred: -2.0242\n"
     ]
    },
    {
     "name": "stderr",
     "output_type": "stream",
     "text": [
      "Division 3/5:  50%|██████████████████████████████████████▌                                      | 508/1015 [01:13<01:13,  6.89it/s]\n",
      "Division 3/5:   0%|▏                                                                              | 3/1015 [00:00<01:59,  8.48it/s]"
     ]
    },
    {
     "name": "stdout",
     "output_type": "stream",
     "text": [
      "Epoch:   3 | Samples:      0/508 | RMSE Loss: 1.6784 | MSE Loss: 2.8169 | target: -4.5540 | pred: -2.8756\n"
     ]
    },
    {
     "name": "stderr",
     "output_type": "stream",
     "text": [
      "Division 3/5:   3%|██▌                                                                           | 34/1015 [00:04<02:19,  7.04it/s]"
     ]
    },
    {
     "name": "stdout",
     "output_type": "stream",
     "text": [
      "Epoch:   3 | Samples:     32/508 | RMSE Loss: 0.8488 | MSE Loss: 1.3972 | target: -3.8960 | pred: -4.7579\n"
     ]
    },
    {
     "name": "stderr",
     "output_type": "stream",
     "text": [
      "Division 3/5:   7%|█████                                                                         | 66/1015 [00:08<02:26,  6.47it/s]"
     ]
    },
    {
     "name": "stdout",
     "output_type": "stream",
     "text": [
      "Epoch:   3 | Samples:     64/508 | RMSE Loss: 0.7273 | MSE Loss: 1.0018 | target: -4.1000 | pred: -4.1001\n"
     ]
    },
    {
     "name": "stderr",
     "output_type": "stream",
     "text": [
      "Division 3/5:  10%|███████▌                                                                      | 98/1015 [00:12<01:59,  7.65it/s]"
     ]
    },
    {
     "name": "stdout",
     "output_type": "stream",
     "text": [
      "Epoch:   3 | Samples:     96/508 | RMSE Loss: 0.7113 | MSE Loss: 0.8993 | target: -1.3300 | pred: -1.3996\n"
     ]
    },
    {
     "name": "stderr",
     "output_type": "stream",
     "text": [
      "Division 3/5:  13%|█████████▊                                                                   | 130/1015 [00:17<01:48,  8.19it/s]"
     ]
    },
    {
     "name": "stdout",
     "output_type": "stream",
     "text": [
      "Epoch:   3 | Samples:    128/508 | RMSE Loss: 0.6590 | MSE Loss: 0.7926 | target: 0.0090 | pred: -0.5250\n"
     ]
    },
    {
     "name": "stderr",
     "output_type": "stream",
     "text": [
      "Division 3/5:  16%|████████████▏                                                                | 160/1015 [00:21<01:49,  7.78it/s]"
     ]
    },
    {
     "name": "stdout",
     "output_type": "stream",
     "text": [
      "Epoch:   3 | Samples:    160/508 | RMSE Loss: 0.6629 | MSE Loss: 0.7785 | target: -1.0900 | pred: -1.8337\n"
     ]
    },
    {
     "name": "stderr",
     "output_type": "stream",
     "text": [
      "Division 3/5:  19%|██████████████▋                                                              | 194/1015 [00:26<02:07,  6.45it/s]"
     ]
    },
    {
     "name": "stdout",
     "output_type": "stream",
     "text": [
      "Epoch:   3 | Samples:    192/508 | RMSE Loss: 0.6777 | MSE Loss: 0.8120 | target: -1.3700 | pred: -2.0148\n"
     ]
    },
    {
     "name": "stderr",
     "output_type": "stream",
     "text": [
      "Division 3/5:  22%|█████████████████▏                                                           | 226/1015 [00:31<01:26,  9.11it/s]"
     ]
    },
    {
     "name": "stdout",
     "output_type": "stream",
     "text": [
      "Epoch:   3 | Samples:    224/508 | RMSE Loss: 0.6676 | MSE Loss: 0.7890 | target: -2.0500 | pred: -1.8528\n"
     ]
    },
    {
     "name": "stderr",
     "output_type": "stream",
     "text": [
      "Division 3/5:  25%|███████████████████▍                                                         | 257/1015 [00:36<01:53,  6.69it/s]"
     ]
    },
    {
     "name": "stdout",
     "output_type": "stream",
     "text": [
      "Epoch:   3 | Samples:    256/508 | RMSE Loss: 0.6646 | MSE Loss: 0.7643 | target: -4.4200 | pred: -4.9781\n"
     ]
    },
    {
     "name": "stderr",
     "output_type": "stream",
     "text": [
      "Division 3/5:  28%|█████████████████████▉                                                       | 289/1015 [00:41<02:11,  5.54it/s]"
     ]
    },
    {
     "name": "stdout",
     "output_type": "stream",
     "text": [
      "Epoch:   3 | Samples:    288/508 | RMSE Loss: 0.6680 | MSE Loss: 0.7608 | target: -2.3690 | pred: -3.0628\n"
     ]
    },
    {
     "name": "stderr",
     "output_type": "stream",
     "text": [
      "Division 3/5:  32%|████████████████████████▍                                                    | 322/1015 [00:45<01:27,  7.92it/s]"
     ]
    },
    {
     "name": "stdout",
     "output_type": "stream",
     "text": [
      "Epoch:   3 | Samples:    320/508 | RMSE Loss: 0.6609 | MSE Loss: 0.7482 | target: -3.3500 | pred: -4.3548\n"
     ]
    },
    {
     "name": "stderr",
     "output_type": "stream",
     "text": [
      "Division 3/5:  35%|██████████████████████████▊                                                  | 353/1015 [00:50<02:12,  4.99it/s]"
     ]
    },
    {
     "name": "stdout",
     "output_type": "stream",
     "text": [
      "Epoch:   3 | Samples:    352/508 | RMSE Loss: 0.6725 | MSE Loss: 0.7798 | target: -2.1480 | pred: -1.6957\n"
     ]
    },
    {
     "name": "stderr",
     "output_type": "stream",
     "text": [
      "Division 3/5:  38%|█████████████████████████████▎                                               | 386/1015 [00:56<01:35,  6.57it/s]"
     ]
    },
    {
     "name": "stdout",
     "output_type": "stream",
     "text": [
      "Epoch:   3 | Samples:    384/508 | RMSE Loss: 0.6759 | MSE Loss: 0.7957 | target: -3.4990 | pred: -4.8389\n"
     ]
    },
    {
     "name": "stderr",
     "output_type": "stream",
     "text": [
      "Division 3/5:  41%|███████████████████████████████▋                                             | 417/1015 [01:00<01:04,  9.24it/s]"
     ]
    },
    {
     "name": "stdout",
     "output_type": "stream",
     "text": [
      "Epoch:   3 | Samples:    416/508 | RMSE Loss: 0.6688 | MSE Loss: 0.7756 | target: -1.6140 | pred: -2.3548\n"
     ]
    },
    {
     "name": "stderr",
     "output_type": "stream",
     "text": [
      "Division 3/5:  44%|██████████████████████████████████▏                                          | 450/1015 [01:05<00:56, 10.08it/s]"
     ]
    },
    {
     "name": "stdout",
     "output_type": "stream",
     "text": [
      "Epoch:   3 | Samples:    448/508 | RMSE Loss: 0.6671 | MSE Loss: 0.7600 | target: -4.5600 | pred: -4.0268\n"
     ]
    },
    {
     "name": "stderr",
     "output_type": "stream",
     "text": [
      "Division 3/5:  47%|████████████████████████████████████▍                                        | 481/1015 [01:10<01:01,  8.66it/s]"
     ]
    },
    {
     "name": "stdout",
     "output_type": "stream",
     "text": [
      "Epoch:   3 | Samples:    480/508 | RMSE Loss: 0.6656 | MSE Loss: 0.7503 | target: -2.5100 | pred: -1.7660\n"
     ]
    },
    {
     "name": "stderr",
     "output_type": "stream",
     "text": [
      "Division 3/5:  50%|██████████████████████████████████████▌                                      | 508/1015 [01:13<01:13,  6.89it/s]\n",
      "Division 3/5:   0%|▏                                                                              | 3/1015 [00:00<01:58,  8.51it/s]"
     ]
    },
    {
     "name": "stdout",
     "output_type": "stream",
     "text": [
      "Epoch:   4 | Samples:      0/508 | RMSE Loss: 1.6061 | MSE Loss: 2.5796 | target: -4.5540 | pred: -2.9479\n"
     ]
    },
    {
     "name": "stderr",
     "output_type": "stream",
     "text": [
      "Division 3/5:   3%|██▌                                                                           | 34/1015 [00:04<02:19,  7.04it/s]"
     ]
    },
    {
     "name": "stdout",
     "output_type": "stream",
     "text": [
      "Epoch:   4 | Samples:     32/508 | RMSE Loss: 0.7330 | MSE Loss: 1.0860 | target: -3.8960 | pred: -5.0891\n"
     ]
    },
    {
     "name": "stderr",
     "output_type": "stream",
     "text": [
      "Division 3/5:   7%|█████                                                                         | 66/1015 [00:08<02:24,  6.55it/s]"
     ]
    },
    {
     "name": "stdout",
     "output_type": "stream",
     "text": [
      "Epoch:   4 | Samples:     64/508 | RMSE Loss: 0.6407 | MSE Loss: 0.7954 | target: -4.1000 | pred: -4.2260\n"
     ]
    },
    {
     "name": "stderr",
     "output_type": "stream",
     "text": [
      "Division 3/5:  10%|███████▌                                                                      | 98/1015 [00:12<02:00,  7.64it/s]"
     ]
    },
    {
     "name": "stdout",
     "output_type": "stream",
     "text": [
      "Epoch:   4 | Samples:     96/508 | RMSE Loss: 0.6502 | MSE Loss: 0.7544 | target: -1.3300 | pred: -1.1979\n"
     ]
    },
    {
     "name": "stderr",
     "output_type": "stream",
     "text": [
      "Division 3/5:  13%|█████████▊                                                                   | 130/1015 [00:17<01:47,  8.25it/s]"
     ]
    },
    {
     "name": "stdout",
     "output_type": "stream",
     "text": [
      "Epoch:   4 | Samples:    128/508 | RMSE Loss: 0.6123 | MSE Loss: 0.6693 | target: 0.0090 | pred: -0.4006\n"
     ]
    },
    {
     "name": "stderr",
     "output_type": "stream",
     "text": [
      "Division 3/5:  16%|████████████▏                                                                | 160/1015 [00:21<01:48,  7.85it/s]"
     ]
    },
    {
     "name": "stdout",
     "output_type": "stream",
     "text": [
      "Epoch:   4 | Samples:    160/508 | RMSE Loss: 0.6127 | MSE Loss: 0.6639 | target: -1.0900 | pred: -1.7583\n"
     ]
    },
    {
     "name": "stderr",
     "output_type": "stream",
     "text": [
      "Division 3/5:  19%|██████████████▋                                                              | 194/1015 [00:26<02:04,  6.59it/s]"
     ]
    },
    {
     "name": "stdout",
     "output_type": "stream",
     "text": [
      "Epoch:   4 | Samples:    192/508 | RMSE Loss: 0.6099 | MSE Loss: 0.6572 | target: -1.3700 | pred: -1.8645\n"
     ]
    },
    {
     "name": "stderr",
     "output_type": "stream",
     "text": [
      "Division 3/5:  22%|█████████████████▏                                                           | 226/1015 [00:31<01:27,  8.97it/s]"
     ]
    },
    {
     "name": "stdout",
     "output_type": "stream",
     "text": [
      "Epoch:   4 | Samples:    224/508 | RMSE Loss: 0.6037 | MSE Loss: 0.6481 | target: -2.0500 | pred: -1.8807\n"
     ]
    },
    {
     "name": "stderr",
     "output_type": "stream",
     "text": [
      "Division 3/5:  25%|███████████████████▍                                                         | 257/1015 [00:36<01:52,  6.73it/s]"
     ]
    },
    {
     "name": "stdout",
     "output_type": "stream",
     "text": [
      "Epoch:   4 | Samples:    256/508 | RMSE Loss: 0.6037 | MSE Loss: 0.6323 | target: -4.4200 | pred: -4.9919\n"
     ]
    },
    {
     "name": "stderr",
     "output_type": "stream",
     "text": [
      "Division 3/5:  28%|█████████████████████▉                                                       | 289/1015 [00:41<02:13,  5.45it/s]"
     ]
    },
    {
     "name": "stdout",
     "output_type": "stream",
     "text": [
      "Epoch:   4 | Samples:    288/508 | RMSE Loss: 0.6075 | MSE Loss: 0.6326 | target: -2.3690 | pred: -3.0822\n"
     ]
    },
    {
     "name": "stderr",
     "output_type": "stream",
     "text": [
      "Division 3/5:  32%|████████████████████████▍                                                    | 322/1015 [00:45<01:28,  7.87it/s]"
     ]
    },
    {
     "name": "stdout",
     "output_type": "stream",
     "text": [
      "Epoch:   4 | Samples:    320/508 | RMSE Loss: 0.6048 | MSE Loss: 0.6310 | target: -3.3500 | pred: -4.3232\n"
     ]
    },
    {
     "name": "stderr",
     "output_type": "stream",
     "text": [
      "Division 3/5:  35%|██████████████████████████▊                                                  | 353/1015 [00:50<02:13,  4.98it/s]"
     ]
    },
    {
     "name": "stdout",
     "output_type": "stream",
     "text": [
      "Epoch:   4 | Samples:    352/508 | RMSE Loss: 0.6164 | MSE Loss: 0.6612 | target: -2.1480 | pred: -1.7694\n"
     ]
    },
    {
     "name": "stderr",
     "output_type": "stream",
     "text": [
      "Division 3/5:  38%|█████████████████████████████▎                                               | 386/1015 [00:56<01:35,  6.57it/s]"
     ]
    },
    {
     "name": "stdout",
     "output_type": "stream",
     "text": [
      "Epoch:   4 | Samples:    384/508 | RMSE Loss: 0.6168 | MSE Loss: 0.6642 | target: -3.4990 | pred: -4.7010\n"
     ]
    },
    {
     "name": "stderr",
     "output_type": "stream",
     "text": [
      "Division 3/5:  41%|███████████████████████████████▋                                             | 418/1015 [01:00<01:08,  8.77it/s]"
     ]
    },
    {
     "name": "stdout",
     "output_type": "stream",
     "text": [
      "Epoch:   4 | Samples:    416/508 | RMSE Loss: 0.6109 | MSE Loss: 0.6476 | target: -1.6140 | pred: -2.3111\n"
     ]
    },
    {
     "name": "stderr",
     "output_type": "stream",
     "text": [
      "Division 3/5:  44%|██████████████████████████████████▏                                          | 450/1015 [01:06<00:56,  9.98it/s]"
     ]
    },
    {
     "name": "stdout",
     "output_type": "stream",
     "text": [
      "Epoch:   4 | Samples:    448/508 | RMSE Loss: 0.6116 | MSE Loss: 0.6390 | target: -4.5600 | pred: -3.9595\n"
     ]
    },
    {
     "name": "stderr",
     "output_type": "stream",
     "text": [
      "Division 3/5:  47%|████████████████████████████████████▍                                        | 481/1015 [01:10<01:02,  8.55it/s]"
     ]
    },
    {
     "name": "stdout",
     "output_type": "stream",
     "text": [
      "Epoch:   4 | Samples:    480/508 | RMSE Loss: 0.6103 | MSE Loss: 0.6317 | target: -2.5100 | pred: -1.6256\n"
     ]
    },
    {
     "name": "stderr",
     "output_type": "stream",
     "text": [
      "Division 3/5:  50%|██████████████████████████████████████▌                                      | 508/1015 [01:14<01:13,  6.86it/s]\n",
      "Division 3/5:   0%|▏                                                                              | 3/1015 [00:00<02:00,  8.42it/s]"
     ]
    },
    {
     "name": "stdout",
     "output_type": "stream",
     "text": [
      "Epoch:   5 | Samples:      0/508 | RMSE Loss: 1.5266 | MSE Loss: 2.3304 | target: -4.5540 | pred: -3.0274\n"
     ]
    },
    {
     "name": "stderr",
     "output_type": "stream",
     "text": [
      "Division 3/5:   3%|██▌                                                                           | 34/1015 [00:04<02:19,  7.05it/s]"
     ]
    },
    {
     "name": "stdout",
     "output_type": "stream",
     "text": [
      "Epoch:   5 | Samples:     32/508 | RMSE Loss: 0.6791 | MSE Loss: 0.8802 | target: -3.8960 | pred: -5.2216\n"
     ]
    },
    {
     "name": "stderr",
     "output_type": "stream",
     "text": [
      "Division 3/5:   7%|█████                                                                         | 66/1015 [00:08<02:27,  6.44it/s]"
     ]
    },
    {
     "name": "stdout",
     "output_type": "stream",
     "text": [
      "Epoch:   5 | Samples:     64/508 | RMSE Loss: 0.5834 | MSE Loss: 0.6534 | target: -4.1000 | pred: -4.2009\n"
     ]
    },
    {
     "name": "stderr",
     "output_type": "stream",
     "text": [
      "Division 3/5:  10%|███████▌                                                                      | 98/1015 [00:12<01:59,  7.67it/s]"
     ]
    },
    {
     "name": "stdout",
     "output_type": "stream",
     "text": [
      "Epoch:   5 | Samples:     96/508 | RMSE Loss: 0.6091 | MSE Loss: 0.6552 | target: -1.3300 | pred: -1.0829\n"
     ]
    },
    {
     "name": "stderr",
     "output_type": "stream",
     "text": [
      "Division 3/5:  13%|█████████▊                                                                   | 130/1015 [00:17<01:48,  8.13it/s]"
     ]
    },
    {
     "name": "stdout",
     "output_type": "stream",
     "text": [
      "Epoch:   5 | Samples:    128/508 | RMSE Loss: 0.5773 | MSE Loss: 0.5838 | target: 0.0090 | pred: -0.2872\n"
     ]
    },
    {
     "name": "stderr",
     "output_type": "stream",
     "text": [
      "Division 3/5:  16%|████████████▏                                                                | 160/1015 [00:21<01:50,  7.74it/s]"
     ]
    },
    {
     "name": "stdout",
     "output_type": "stream",
     "text": [
      "Epoch:   5 | Samples:    160/508 | RMSE Loss: 0.5764 | MSE Loss: 0.5851 | target: -1.0900 | pred: -1.7153\n"
     ]
    },
    {
     "name": "stderr",
     "output_type": "stream",
     "text": [
      "Division 3/5:  19%|██████████████▋                                                              | 194/1015 [00:26<02:04,  6.61it/s]"
     ]
    },
    {
     "name": "stdout",
     "output_type": "stream",
     "text": [
      "Epoch:   5 | Samples:    192/508 | RMSE Loss: 0.5700 | MSE Loss: 0.5713 | target: -1.3700 | pred: -1.8161\n"
     ]
    },
    {
     "name": "stderr",
     "output_type": "stream",
     "text": [
      "Division 3/5:  22%|█████████████████▏                                                           | 226/1015 [00:31<01:27,  8.97it/s]"
     ]
    },
    {
     "name": "stdout",
     "output_type": "stream",
     "text": [
      "Epoch:   5 | Samples:    224/508 | RMSE Loss: 0.5682 | MSE Loss: 0.5713 | target: -2.0500 | pred: -1.9311\n"
     ]
    },
    {
     "name": "stderr",
     "output_type": "stream",
     "text": [
      "Division 3/5:  25%|███████████████████▍                                                         | 257/1015 [00:36<01:53,  6.70it/s]"
     ]
    },
    {
     "name": "stdout",
     "output_type": "stream",
     "text": [
      "Epoch:   5 | Samples:    256/508 | RMSE Loss: 0.5719 | MSE Loss: 0.5658 | target: -4.4200 | pred: -4.9824\n"
     ]
    },
    {
     "name": "stderr",
     "output_type": "stream",
     "text": [
      "Division 3/5:  28%|█████████████████████▉                                                       | 289/1015 [00:41<02:09,  5.59it/s]"
     ]
    },
    {
     "name": "stdout",
     "output_type": "stream",
     "text": [
      "Epoch:   5 | Samples:    288/508 | RMSE Loss: 0.5752 | MSE Loss: 0.5668 | target: -2.3690 | pred: -3.0955\n"
     ]
    },
    {
     "name": "stderr",
     "output_type": "stream",
     "text": [
      "Division 3/5:  32%|████████████████████████▍                                                    | 322/1015 [00:45<01:32,  7.52it/s]"
     ]
    },
    {
     "name": "stdout",
     "output_type": "stream",
     "text": [
      "Epoch:   5 | Samples:    320/508 | RMSE Loss: 0.5750 | MSE Loss: 0.5692 | target: -3.3500 | pred: -4.3428\n"
     ]
    },
    {
     "name": "stderr",
     "output_type": "stream",
     "text": [
      "Division 3/5:  35%|██████████████████████████▊                                                  | 353/1015 [00:50<02:13,  4.96it/s]"
     ]
    },
    {
     "name": "stdout",
     "output_type": "stream",
     "text": [
      "Epoch:   5 | Samples:    352/508 | RMSE Loss: 0.5852 | MSE Loss: 0.5949 | target: -2.1480 | pred: -1.8189\n"
     ]
    },
    {
     "name": "stderr",
     "output_type": "stream",
     "text": [
      "Division 3/5:  38%|█████████████████████████████▎                                               | 386/1015 [00:56<01:35,  6.60it/s]"
     ]
    },
    {
     "name": "stdout",
     "output_type": "stream",
     "text": [
      "Epoch:   5 | Samples:    384/508 | RMSE Loss: 0.5834 | MSE Loss: 0.5909 | target: -3.4990 | pred: -4.7263\n"
     ]
    },
    {
     "name": "stderr",
     "output_type": "stream",
     "text": [
      "Division 3/5:  41%|███████████████████████████████▋                                             | 418/1015 [01:00<01:08,  8.73it/s]"
     ]
    },
    {
     "name": "stdout",
     "output_type": "stream",
     "text": [
      "Epoch:   5 | Samples:    416/508 | RMSE Loss: 0.5762 | MSE Loss: 0.5734 | target: -1.6140 | pred: -2.3391\n"
     ]
    },
    {
     "name": "stderr",
     "output_type": "stream",
     "text": [
      "Division 3/5:  44%|██████████████████████████████████▏                                          | 450/1015 [01:06<00:56, 10.00it/s]"
     ]
    },
    {
     "name": "stdout",
     "output_type": "stream",
     "text": [
      "Epoch:   5 | Samples:    448/508 | RMSE Loss: 0.5775 | MSE Loss: 0.5670 | target: -4.5600 | pred: -3.9496\n"
     ]
    },
    {
     "name": "stderr",
     "output_type": "stream",
     "text": [
      "Division 3/5:  47%|████████████████████████████████████▍                                        | 481/1015 [01:10<01:01,  8.65it/s]"
     ]
    },
    {
     "name": "stdout",
     "output_type": "stream",
     "text": [
      "Epoch:   5 | Samples:    480/508 | RMSE Loss: 0.5755 | MSE Loss: 0.5597 | target: -2.5100 | pred: -1.5154\n"
     ]
    },
    {
     "name": "stderr",
     "output_type": "stream",
     "text": [
      "Division 3/5:  50%|██████████████████████████████████████▌                                      | 508/1015 [01:13<01:13,  6.88it/s]\n",
      "Division 3/5:   0%|▏                                                                              | 3/1015 [00:00<01:58,  8.51it/s]"
     ]
    },
    {
     "name": "stdout",
     "output_type": "stream",
     "text": [
      "Epoch:   6 | Samples:      0/508 | RMSE Loss: 1.3373 | MSE Loss: 1.7884 | target: -4.5540 | pred: -3.2167\n"
     ]
    },
    {
     "name": "stderr",
     "output_type": "stream",
     "text": [
      "Division 3/5:   3%|██▌                                                                           | 34/1015 [00:04<02:18,  7.10it/s]"
     ]
    },
    {
     "name": "stdout",
     "output_type": "stream",
     "text": [
      "Epoch:   6 | Samples:     32/508 | RMSE Loss: 0.6311 | MSE Loss: 0.7360 | target: -3.8960 | pred: -5.2349\n"
     ]
    },
    {
     "name": "stderr",
     "output_type": "stream",
     "text": [
      "Division 3/5:   7%|█████                                                                         | 66/1015 [00:08<02:25,  6.53it/s]"
     ]
    },
    {
     "name": "stdout",
     "output_type": "stream",
     "text": [
      "Epoch:   6 | Samples:     64/508 | RMSE Loss: 0.5331 | MSE Loss: 0.5485 | target: -4.1000 | pred: -4.2101\n"
     ]
    },
    {
     "name": "stderr",
     "output_type": "stream",
     "text": [
      "Division 3/5:  10%|███████▌                                                                      | 98/1015 [00:12<02:00,  7.60it/s]"
     ]
    },
    {
     "name": "stdout",
     "output_type": "stream",
     "text": [
      "Epoch:   6 | Samples:     96/508 | RMSE Loss: 0.5722 | MSE Loss: 0.5783 | target: -1.3300 | pred: -1.0337\n"
     ]
    },
    {
     "name": "stderr",
     "output_type": "stream",
     "text": [
      "Division 3/5:  13%|█████████▊                                                                   | 130/1015 [00:17<01:47,  8.21it/s]"
     ]
    },
    {
     "name": "stdout",
     "output_type": "stream",
     "text": [
      "Epoch:   6 | Samples:    128/508 | RMSE Loss: 0.5449 | MSE Loss: 0.5184 | target: 0.0090 | pred: -0.1893\n"
     ]
    },
    {
     "name": "stderr",
     "output_type": "stream",
     "text": [
      "Division 3/5:  16%|████████████▏                                                                | 160/1015 [00:21<01:48,  7.88it/s]"
     ]
    },
    {
     "name": "stdout",
     "output_type": "stream",
     "text": [
      "Epoch:   6 | Samples:    160/508 | RMSE Loss: 0.5452 | MSE Loss: 0.5261 | target: -1.0900 | pred: -1.6347\n"
     ]
    },
    {
     "name": "stderr",
     "output_type": "stream",
     "text": [
      "Division 3/5:  19%|██████████████▋                                                              | 194/1015 [00:26<02:04,  6.61it/s]"
     ]
    },
    {
     "name": "stdout",
     "output_type": "stream",
     "text": [
      "Epoch:   6 | Samples:    192/508 | RMSE Loss: 0.5377 | MSE Loss: 0.5104 | target: -1.3700 | pred: -1.8056\n"
     ]
    },
    {
     "name": "stderr",
     "output_type": "stream",
     "text": [
      "Division 3/5:  22%|█████████████████▏                                                           | 226/1015 [00:31<01:26,  9.09it/s]"
     ]
    },
    {
     "name": "stdout",
     "output_type": "stream",
     "text": [
      "Epoch:   6 | Samples:    224/508 | RMSE Loss: 0.5389 | MSE Loss: 0.5153 | target: -2.0500 | pred: -1.9629\n"
     ]
    },
    {
     "name": "stderr",
     "output_type": "stream",
     "text": [
      "Division 3/5:  25%|███████████████████▍                                                         | 257/1015 [00:36<01:53,  6.70it/s]"
     ]
    },
    {
     "name": "stdout",
     "output_type": "stream",
     "text": [
      "Epoch:   6 | Samples:    256/508 | RMSE Loss: 0.5429 | MSE Loss: 0.5135 | target: -4.4200 | pred: -5.0008\n"
     ]
    },
    {
     "name": "stderr",
     "output_type": "stream",
     "text": [
      "Division 3/5:  28%|█████████████████████▉                                                       | 289/1015 [00:41<02:11,  5.54it/s]"
     ]
    },
    {
     "name": "stdout",
     "output_type": "stream",
     "text": [
      "Epoch:   6 | Samples:    288/508 | RMSE Loss: 0.5465 | MSE Loss: 0.5148 | target: -2.3690 | pred: -3.0879\n"
     ]
    },
    {
     "name": "stderr",
     "output_type": "stream",
     "text": [
      "Division 3/5:  32%|████████████████████████▍                                                    | 322/1015 [00:45<01:27,  7.94it/s]"
     ]
    },
    {
     "name": "stdout",
     "output_type": "stream",
     "text": [
      "Epoch:   6 | Samples:    320/508 | RMSE Loss: 0.5468 | MSE Loss: 0.5178 | target: -3.3500 | pred: -4.3664\n"
     ]
    },
    {
     "name": "stderr",
     "output_type": "stream",
     "text": [
      "Division 3/5:  35%|██████████████████████████▊                                                  | 353/1015 [00:50<02:12,  5.01it/s]"
     ]
    },
    {
     "name": "stdout",
     "output_type": "stream",
     "text": [
      "Epoch:   6 | Samples:    352/508 | RMSE Loss: 0.5567 | MSE Loss: 0.5410 | target: -2.1480 | pred: -1.8044\n"
     ]
    },
    {
     "name": "stderr",
     "output_type": "stream",
     "text": [
      "Division 3/5:  38%|█████████████████████████████▎                                               | 386/1015 [00:56<01:35,  6.58it/s]"
     ]
    },
    {
     "name": "stdout",
     "output_type": "stream",
     "text": [
      "Epoch:   6 | Samples:    384/508 | RMSE Loss: 0.5527 | MSE Loss: 0.5324 | target: -3.4990 | pred: -4.6907\n"
     ]
    },
    {
     "name": "stderr",
     "output_type": "stream",
     "text": [
      "Division 3/5:  41%|███████████████████████████████▋                                             | 417/1015 [01:00<01:04,  9.26it/s]"
     ]
    },
    {
     "name": "stdout",
     "output_type": "stream",
     "text": [
      "Epoch:   6 | Samples:    416/508 | RMSE Loss: 0.5450 | MSE Loss: 0.5159 | target: -1.6140 | pred: -2.3240\n"
     ]
    },
    {
     "name": "stderr",
     "output_type": "stream",
     "text": [
      "Division 3/5:  44%|██████████████████████████████████▏                                          | 450/1015 [01:05<00:56, 10.03it/s]"
     ]
    },
    {
     "name": "stdout",
     "output_type": "stream",
     "text": [
      "Epoch:   6 | Samples:    448/508 | RMSE Loss: 0.5464 | MSE Loss: 0.5101 | target: -4.5600 | pred: -3.9810\n"
     ]
    },
    {
     "name": "stderr",
     "output_type": "stream",
     "text": [
      "Division 3/5:  47%|████████████████████████████████████▍                                        | 481/1015 [01:10<01:01,  8.63it/s]"
     ]
    },
    {
     "name": "stdout",
     "output_type": "stream",
     "text": [
      "Epoch:   6 | Samples:    480/508 | RMSE Loss: 0.5444 | MSE Loss: 0.5026 | target: -2.5100 | pred: -1.4391\n"
     ]
    },
    {
     "name": "stderr",
     "output_type": "stream",
     "text": [
      "Division 3/5:  50%|██████████████████████████████████████▌                                      | 508/1015 [01:13<01:13,  6.90it/s]\n",
      "Division 3/5:   0%|▏                                                                              | 3/1015 [00:00<01:59,  8.47it/s]"
     ]
    },
    {
     "name": "stdout",
     "output_type": "stream",
     "text": [
      "Epoch:   7 | Samples:      0/508 | RMSE Loss: 1.1835 | MSE Loss: 1.4007 | target: -4.5540 | pred: -3.3705\n"
     ]
    },
    {
     "name": "stderr",
     "output_type": "stream",
     "text": [
      "Division 3/5:   3%|██▌                                                                           | 34/1015 [00:04<02:20,  7.00it/s]"
     ]
    },
    {
     "name": "stdout",
     "output_type": "stream",
     "text": [
      "Epoch:   7 | Samples:     32/508 | RMSE Loss: 0.5947 | MSE Loss: 0.6257 | target: -3.8960 | pred: -5.2924\n"
     ]
    },
    {
     "name": "stderr",
     "output_type": "stream",
     "text": [
      "Division 3/5:   7%|█████                                                                         | 66/1015 [00:08<02:25,  6.51it/s]"
     ]
    },
    {
     "name": "stdout",
     "output_type": "stream",
     "text": [
      "Epoch:   7 | Samples:     64/508 | RMSE Loss: 0.4912 | MSE Loss: 0.4669 | target: -4.1000 | pred: -4.1766\n"
     ]
    },
    {
     "name": "stderr",
     "output_type": "stream",
     "text": [
      "Division 3/5:  10%|███████▌                                                                      | 98/1015 [00:12<02:01,  7.58it/s]"
     ]
    },
    {
     "name": "stdout",
     "output_type": "stream",
     "text": [
      "Epoch:   7 | Samples:     96/508 | RMSE Loss: 0.5396 | MSE Loss: 0.5130 | target: -1.3300 | pred: -1.0672\n"
     ]
    },
    {
     "name": "stderr",
     "output_type": "stream",
     "text": [
      "Division 3/5:  13%|█████████▊                                                                   | 130/1015 [00:17<01:47,  8.24it/s]"
     ]
    },
    {
     "name": "stdout",
     "output_type": "stream",
     "text": [
      "Epoch:   7 | Samples:    128/508 | RMSE Loss: 0.5165 | MSE Loss: 0.4631 | target: 0.0090 | pred: -0.0913\n"
     ]
    },
    {
     "name": "stderr",
     "output_type": "stream",
     "text": [
      "Division 3/5:  16%|████████████▏                                                                | 160/1015 [00:21<01:49,  7.78it/s]"
     ]
    },
    {
     "name": "stdout",
     "output_type": "stream",
     "text": [
      "Epoch:   7 | Samples:    160/508 | RMSE Loss: 0.5168 | MSE Loss: 0.4750 | target: -1.0900 | pred: -1.6308\n"
     ]
    },
    {
     "name": "stderr",
     "output_type": "stream",
     "text": [
      "Division 3/5:  19%|██████████████▋                                                              | 194/1015 [00:26<02:05,  6.56it/s]"
     ]
    },
    {
     "name": "stdout",
     "output_type": "stream",
     "text": [
      "Epoch:   7 | Samples:    192/508 | RMSE Loss: 0.5109 | MSE Loss: 0.4616 | target: -1.3700 | pred: -1.7709\n"
     ]
    },
    {
     "name": "stderr",
     "output_type": "stream",
     "text": [
      "Division 3/5:  22%|█████████████████▏                                                           | 226/1015 [00:31<01:27,  9.02it/s]"
     ]
    },
    {
     "name": "stdout",
     "output_type": "stream",
     "text": [
      "Epoch:   7 | Samples:    224/508 | RMSE Loss: 0.5152 | MSE Loss: 0.4703 | target: -2.0500 | pred: -2.0302\n"
     ]
    },
    {
     "name": "stderr",
     "output_type": "stream",
     "text": [
      "Division 3/5:  25%|███████████████████▍                                                         | 257/1015 [00:36<01:54,  6.64it/s]"
     ]
    },
    {
     "name": "stdout",
     "output_type": "stream",
     "text": [
      "Epoch:   7 | Samples:    256/508 | RMSE Loss: 0.5218 | MSE Loss: 0.4745 | target: -4.4200 | pred: -5.0962\n"
     ]
    },
    {
     "name": "stderr",
     "output_type": "stream",
     "text": [
      "Division 3/5:  28%|█████████████████████▉                                                       | 289/1015 [00:41<02:08,  5.64it/s]"
     ]
    },
    {
     "name": "stdout",
     "output_type": "stream",
     "text": [
      "Epoch:   7 | Samples:    288/508 | RMSE Loss: 0.5252 | MSE Loss: 0.4758 | target: -2.3690 | pred: -3.0375\n"
     ]
    },
    {
     "name": "stderr",
     "output_type": "stream",
     "text": [
      "Division 3/5:  32%|████████████████████████▍                                                    | 322/1015 [00:45<01:27,  7.90it/s]"
     ]
    },
    {
     "name": "stdout",
     "output_type": "stream",
     "text": [
      "Epoch:   7 | Samples:    320/508 | RMSE Loss: 0.5248 | MSE Loss: 0.4781 | target: -3.3500 | pred: -4.3592\n"
     ]
    },
    {
     "name": "stderr",
     "output_type": "stream",
     "text": [
      "Division 3/5:  35%|██████████████████████████▊                                                  | 353/1015 [00:50<02:13,  4.97it/s]"
     ]
    },
    {
     "name": "stdout",
     "output_type": "stream",
     "text": [
      "Epoch:   7 | Samples:    352/508 | RMSE Loss: 0.5334 | MSE Loss: 0.4992 | target: -2.1480 | pred: -1.8100\n"
     ]
    },
    {
     "name": "stderr",
     "output_type": "stream",
     "text": [
      "Division 3/5:  38%|█████████████████████████████▎                                               | 386/1015 [00:56<01:37,  6.48it/s]"
     ]
    },
    {
     "name": "stdout",
     "output_type": "stream",
     "text": [
      "Epoch:   7 | Samples:    384/508 | RMSE Loss: 0.5287 | MSE Loss: 0.4889 | target: -3.4990 | pred: -4.6678\n"
     ]
    },
    {
     "name": "stderr",
     "output_type": "stream",
     "text": [
      "Division 3/5:  41%|███████████████████████████████▋                                             | 417/1015 [01:00<01:04,  9.21it/s]"
     ]
    },
    {
     "name": "stdout",
     "output_type": "stream",
     "text": [
      "Epoch:   7 | Samples:    416/508 | RMSE Loss: 0.5206 | MSE Loss: 0.4736 | target: -1.6140 | pred: -2.3129\n"
     ]
    },
    {
     "name": "stderr",
     "output_type": "stream",
     "text": [
      "Division 3/5:  44%|██████████████████████████████████▏                                          | 450/1015 [01:05<00:56,  9.98it/s]"
     ]
    },
    {
     "name": "stdout",
     "output_type": "stream",
     "text": [
      "Epoch:   7 | Samples:    448/508 | RMSE Loss: 0.5224 | MSE Loss: 0.4691 | target: -4.5600 | pred: -4.0466\n"
     ]
    },
    {
     "name": "stderr",
     "output_type": "stream",
     "text": [
      "Division 3/5:  47%|████████████████████████████████████▍                                        | 481/1015 [01:10<01:01,  8.67it/s]"
     ]
    },
    {
     "name": "stdout",
     "output_type": "stream",
     "text": [
      "Epoch:   7 | Samples:    480/508 | RMSE Loss: 0.5200 | MSE Loss: 0.4610 | target: -2.5100 | pred: -1.4016\n"
     ]
    },
    {
     "name": "stderr",
     "output_type": "stream",
     "text": [
      "Division 3/5:  50%|██████████████████████████████████████▌                                      | 508/1015 [01:13<01:13,  6.88it/s]\n",
      "Division 3/5:   0%|▏                                                                              | 3/1015 [00:00<02:03,  8.21it/s]"
     ]
    },
    {
     "name": "stdout",
     "output_type": "stream",
     "text": [
      "Epoch:   8 | Samples:      0/508 | RMSE Loss: 1.0564 | MSE Loss: 1.1159 | target: -4.5540 | pred: -3.4976\n"
     ]
    },
    {
     "name": "stderr",
     "output_type": "stream",
     "text": [
      "Division 3/5:   3%|██▌                                                                           | 34/1015 [00:04<02:18,  7.08it/s]"
     ]
    },
    {
     "name": "stdout",
     "output_type": "stream",
     "text": [
      "Epoch:   8 | Samples:     32/508 | RMSE Loss: 0.5772 | MSE Loss: 0.5790 | target: -3.8960 | pred: -5.4733\n"
     ]
    },
    {
     "name": "stderr",
     "output_type": "stream",
     "text": [
      "Division 3/5:   7%|█████                                                                         | 66/1015 [00:08<02:26,  6.46it/s]"
     ]
    },
    {
     "name": "stdout",
     "output_type": "stream",
     "text": [
      "Epoch:   8 | Samples:     64/508 | RMSE Loss: 0.4752 | MSE Loss: 0.4273 | target: -4.1000 | pred: -4.2175\n"
     ]
    },
    {
     "name": "stderr",
     "output_type": "stream",
     "text": [
      "Division 3/5:  10%|███████▌                                                                      | 98/1015 [00:13<02:00,  7.59it/s]"
     ]
    },
    {
     "name": "stdout",
     "output_type": "stream",
     "text": [
      "Epoch:   8 | Samples:     96/508 | RMSE Loss: 0.5212 | MSE Loss: 0.4743 | target: -1.3300 | pred: -1.1347\n"
     ]
    },
    {
     "name": "stderr",
     "output_type": "stream",
     "text": [
      "Division 3/5:  13%|█████████▊                                                                   | 130/1015 [00:17<01:48,  8.18it/s]"
     ]
    },
    {
     "name": "stdout",
     "output_type": "stream",
     "text": [
      "Epoch:   8 | Samples:    128/508 | RMSE Loss: 0.4996 | MSE Loss: 0.4299 | target: 0.0090 | pred: 0.0252\n"
     ]
    },
    {
     "name": "stderr",
     "output_type": "stream",
     "text": [
      "Division 3/5:  16%|████████████▏                                                                | 160/1015 [00:21<01:49,  7.83it/s]"
     ]
    },
    {
     "name": "stdout",
     "output_type": "stream",
     "text": [
      "Epoch:   8 | Samples:    160/508 | RMSE Loss: 0.4955 | MSE Loss: 0.4406 | target: -1.0900 | pred: -1.5730\n"
     ]
    },
    {
     "name": "stderr",
     "output_type": "stream",
     "text": [
      "Division 3/5:  19%|██████████████▋                                                              | 194/1015 [00:26<02:05,  6.56it/s]"
     ]
    },
    {
     "name": "stdout",
     "output_type": "stream",
     "text": [
      "Epoch:   8 | Samples:    192/508 | RMSE Loss: 0.4914 | MSE Loss: 0.4262 | target: -1.3700 | pred: -1.7609\n"
     ]
    },
    {
     "name": "stderr",
     "output_type": "stream",
     "text": [
      "Division 3/5:  22%|█████████████████▏                                                           | 226/1015 [00:31<01:28,  8.96it/s]"
     ]
    },
    {
     "name": "stdout",
     "output_type": "stream",
     "text": [
      "Epoch:   8 | Samples:    224/508 | RMSE Loss: 0.4962 | MSE Loss: 0.4352 | target: -2.0500 | pred: -2.0413\n"
     ]
    },
    {
     "name": "stderr",
     "output_type": "stream",
     "text": [
      "Division 3/5:  25%|███████████████████▍                                                         | 257/1015 [00:36<01:53,  6.70it/s]"
     ]
    },
    {
     "name": "stdout",
     "output_type": "stream",
     "text": [
      "Epoch:   8 | Samples:    256/508 | RMSE Loss: 0.5029 | MSE Loss: 0.4425 | target: -4.4200 | pred: -5.1191\n"
     ]
    },
    {
     "name": "stderr",
     "output_type": "stream",
     "text": [
      "Division 3/5:  28%|█████████████████████▉                                                       | 289/1015 [00:41<02:11,  5.54it/s]"
     ]
    },
    {
     "name": "stdout",
     "output_type": "stream",
     "text": [
      "Epoch:   8 | Samples:    288/508 | RMSE Loss: 0.5063 | MSE Loss: 0.4441 | target: -2.3690 | pred: -3.0408\n"
     ]
    },
    {
     "name": "stderr",
     "output_type": "stream",
     "text": [
      "Division 3/5:  32%|████████████████████████▍                                                    | 322/1015 [00:45<01:27,  7.88it/s]"
     ]
    },
    {
     "name": "stdout",
     "output_type": "stream",
     "text": [
      "Epoch:   8 | Samples:    320/508 | RMSE Loss: 0.5065 | MSE Loss: 0.4471 | target: -3.3500 | pred: -4.4230\n"
     ]
    },
    {
     "name": "stderr",
     "output_type": "stream",
     "text": [
      "Division 3/5:  35%|██████████████████████████▊                                                  | 353/1015 [00:50<02:13,  4.95it/s]"
     ]
    },
    {
     "name": "stdout",
     "output_type": "stream",
     "text": [
      "Epoch:   8 | Samples:    352/508 | RMSE Loss: 0.5132 | MSE Loss: 0.4653 | target: -2.1480 | pred: -1.7727\n"
     ]
    },
    {
     "name": "stderr",
     "output_type": "stream",
     "text": [
      "Division 3/5:  38%|█████████████████████████████▎                                               | 386/1015 [00:56<01:35,  6.61it/s]"
     ]
    },
    {
     "name": "stdout",
     "output_type": "stream",
     "text": [
      "Epoch:   8 | Samples:    384/508 | RMSE Loss: 0.5087 | MSE Loss: 0.4537 | target: -3.4990 | pred: -4.6120\n"
     ]
    },
    {
     "name": "stderr",
     "output_type": "stream",
     "text": [
      "Division 3/5:  41%|███████████████████████████████▋                                             | 417/1015 [01:00<01:04,  9.24it/s]"
     ]
    },
    {
     "name": "stdout",
     "output_type": "stream",
     "text": [
      "Epoch:   8 | Samples:    416/508 | RMSE Loss: 0.5008 | MSE Loss: 0.4403 | target: -1.6140 | pred: -2.2457\n"
     ]
    },
    {
     "name": "stderr",
     "output_type": "stream",
     "text": [
      "Division 3/5:  44%|██████████████████████████████████▏                                          | 450/1015 [01:06<00:56, 10.07it/s]"
     ]
    },
    {
     "name": "stdout",
     "output_type": "stream",
     "text": [
      "Epoch:   8 | Samples:    448/508 | RMSE Loss: 0.5034 | MSE Loss: 0.4373 | target: -4.5600 | pred: -4.0890\n"
     ]
    },
    {
     "name": "stderr",
     "output_type": "stream",
     "text": [
      "Division 3/5:  47%|████████████████████████████████████▍                                        | 481/1015 [01:10<01:01,  8.75it/s]"
     ]
    },
    {
     "name": "stdout",
     "output_type": "stream",
     "text": [
      "Epoch:   8 | Samples:    480/508 | RMSE Loss: 0.5002 | MSE Loss: 0.4288 | target: -2.5100 | pred: -1.3244\n"
     ]
    },
    {
     "name": "stderr",
     "output_type": "stream",
     "text": [
      "Division 3/5:  50%|██████████████████████████████████████▌                                      | 508/1015 [01:13<01:13,  6.88it/s]\n",
      "Division 3/5:   0%|▏                                                                              | 3/1015 [00:00<01:58,  8.54it/s]"
     ]
    },
    {
     "name": "stdout",
     "output_type": "stream",
     "text": [
      "Epoch:   9 | Samples:      0/508 | RMSE Loss: 0.8737 | MSE Loss: 0.7634 | target: -4.5540 | pred: -3.6803\n"
     ]
    },
    {
     "name": "stderr",
     "output_type": "stream",
     "text": [
      "Division 3/5:   3%|██▌                                                                           | 34/1015 [00:04<02:17,  7.11it/s]"
     ]
    },
    {
     "name": "stdout",
     "output_type": "stream",
     "text": [
      "Epoch:   9 | Samples:     32/508 | RMSE Loss: 0.5546 | MSE Loss: 0.5259 | target: -3.8960 | pred: -5.5934\n"
     ]
    },
    {
     "name": "stderr",
     "output_type": "stream",
     "text": [
      "Division 3/5:   7%|█████                                                                         | 66/1015 [00:08<02:25,  6.52it/s]"
     ]
    },
    {
     "name": "stdout",
     "output_type": "stream",
     "text": [
      "Epoch:   9 | Samples:     64/508 | RMSE Loss: 0.4610 | MSE Loss: 0.3974 | target: -4.1000 | pred: -4.2131\n"
     ]
    },
    {
     "name": "stderr",
     "output_type": "stream",
     "text": [
      "Division 3/5:  10%|███████▌                                                                      | 98/1015 [00:12<02:01,  7.57it/s]"
     ]
    },
    {
     "name": "stdout",
     "output_type": "stream",
     "text": [
      "Epoch:   9 | Samples:     96/508 | RMSE Loss: 0.5026 | MSE Loss: 0.4397 | target: -1.3300 | pred: -1.2019\n"
     ]
    },
    {
     "name": "stderr",
     "output_type": "stream",
     "text": [
      "Division 3/5:  13%|█████████▊                                                                   | 130/1015 [00:17<01:48,  8.18it/s]"
     ]
    },
    {
     "name": "stdout",
     "output_type": "stream",
     "text": [
      "Epoch:   9 | Samples:    128/508 | RMSE Loss: 0.4838 | MSE Loss: 0.4009 | target: 0.0090 | pred: 0.0862\n"
     ]
    },
    {
     "name": "stderr",
     "output_type": "stream",
     "text": [
      "Division 3/5:  16%|████████████▏                                                                | 160/1015 [00:21<01:49,  7.82it/s]"
     ]
    },
    {
     "name": "stdout",
     "output_type": "stream",
     "text": [
      "Epoch:   9 | Samples:    160/508 | RMSE Loss: 0.4801 | MSE Loss: 0.4127 | target: -1.0900 | pred: -1.5154\n"
     ]
    },
    {
     "name": "stderr",
     "output_type": "stream",
     "text": [
      "Division 3/5:  19%|██████████████▋                                                              | 194/1015 [00:26<02:04,  6.61it/s]"
     ]
    },
    {
     "name": "stdout",
     "output_type": "stream",
     "text": [
      "Epoch:   9 | Samples:    192/508 | RMSE Loss: 0.4779 | MSE Loss: 0.3999 | target: -1.3700 | pred: -1.7425\n"
     ]
    },
    {
     "name": "stderr",
     "output_type": "stream",
     "text": [
      "Division 3/5:  22%|█████████████████▏                                                           | 226/1015 [00:31<01:26,  9.08it/s]"
     ]
    },
    {
     "name": "stdout",
     "output_type": "stream",
     "text": [
      "Epoch:   9 | Samples:    224/508 | RMSE Loss: 0.4822 | MSE Loss: 0.4081 | target: -2.0500 | pred: -2.0734\n"
     ]
    },
    {
     "name": "stderr",
     "output_type": "stream",
     "text": [
      "Division 3/5:  25%|███████████████████▍                                                         | 257/1015 [00:36<01:52,  6.72it/s]"
     ]
    },
    {
     "name": "stdout",
     "output_type": "stream",
     "text": [
      "Epoch:   9 | Samples:    256/508 | RMSE Loss: 0.4895 | MSE Loss: 0.4178 | target: -4.4200 | pred: -5.0480\n"
     ]
    },
    {
     "name": "stderr",
     "output_type": "stream",
     "text": [
      "Division 3/5:  28%|█████████████████████▉                                                       | 289/1015 [00:41<02:10,  5.58it/s]"
     ]
    },
    {
     "name": "stdout",
     "output_type": "stream",
     "text": [
      "Epoch:   9 | Samples:    288/508 | RMSE Loss: 0.4922 | MSE Loss: 0.4193 | target: -2.3690 | pred: -3.0172\n"
     ]
    },
    {
     "name": "stderr",
     "output_type": "stream",
     "text": [
      "Division 3/5:  32%|████████████████████████▍                                                    | 322/1015 [00:45<01:27,  7.92it/s]"
     ]
    },
    {
     "name": "stdout",
     "output_type": "stream",
     "text": [
      "Epoch:   9 | Samples:    320/508 | RMSE Loss: 0.4908 | MSE Loss: 0.4198 | target: -3.3500 | pred: -4.4440\n"
     ]
    },
    {
     "name": "stderr",
     "output_type": "stream",
     "text": [
      "Division 3/5:  35%|██████████████████████████▊                                                  | 353/1015 [00:50<02:12,  4.98it/s]"
     ]
    },
    {
     "name": "stdout",
     "output_type": "stream",
     "text": [
      "Epoch:   9 | Samples:    352/508 | RMSE Loss: 0.4976 | MSE Loss: 0.4370 | target: -2.1480 | pred: -1.8196\n"
     ]
    },
    {
     "name": "stderr",
     "output_type": "stream",
     "text": [
      "Division 3/5:  38%|█████████████████████████████▎                                               | 386/1015 [00:56<01:35,  6.57it/s]"
     ]
    },
    {
     "name": "stdout",
     "output_type": "stream",
     "text": [
      "Epoch:   9 | Samples:    384/508 | RMSE Loss: 0.4922 | MSE Loss: 0.4243 | target: -3.4990 | pred: -4.6097\n"
     ]
    },
    {
     "name": "stderr",
     "output_type": "stream",
     "text": [
      "Division 3/5:  41%|███████████████████████████████▋                                             | 417/1015 [01:00<01:04,  9.27it/s]"
     ]
    },
    {
     "name": "stdout",
     "output_type": "stream",
     "text": [
      "Epoch:   9 | Samples:    416/508 | RMSE Loss: 0.4846 | MSE Loss: 0.4125 | target: -1.6140 | pred: -2.2450\n"
     ]
    },
    {
     "name": "stderr",
     "output_type": "stream",
     "text": [
      "Division 3/5:  44%|██████████████████████████████████▏                                          | 450/1015 [01:05<00:57,  9.91it/s]"
     ]
    },
    {
     "name": "stdout",
     "output_type": "stream",
     "text": [
      "Epoch:   9 | Samples:    448/508 | RMSE Loss: 0.4867 | MSE Loss: 0.4090 | target: -4.5600 | pred: -4.1444\n"
     ]
    },
    {
     "name": "stderr",
     "output_type": "stream",
     "text": [
      "Division 3/5:  47%|████████████████████████████████████▍                                        | 481/1015 [01:10<01:01,  8.65it/s]"
     ]
    },
    {
     "name": "stdout",
     "output_type": "stream",
     "text": [
      "Epoch:   9 | Samples:    480/508 | RMSE Loss: 0.4853 | MSE Loss: 0.4022 | target: -2.5100 | pred: -1.3271\n"
     ]
    },
    {
     "name": "stderr",
     "output_type": "stream",
     "text": [
      "Division 3/5:  50%|██████████████████████████████████████▌                                      | 508/1015 [01:13<01:13,  6.89it/s]\n",
      "Division 4/5:   0%|▏                                                                              | 3/1015 [00:00<01:58,  8.51it/s]"
     ]
    },
    {
     "name": "stdout",
     "output_type": "stream",
     "text": [
      "Epoch:   0 | Samples:      0/712 | RMSE Loss: 4.3523 | MSE Loss: 18.9426 | target: -4.5540 | pred: -0.2017\n"
     ]
    },
    {
     "name": "stderr",
     "output_type": "stream",
     "text": [
      "Division 4/5:   3%|██▌                                                                           | 34/1015 [00:04<02:19,  7.06it/s]"
     ]
    },
    {
     "name": "stdout",
     "output_type": "stream",
     "text": [
      "Epoch:   0 | Samples:     32/712 | RMSE Loss: 1.6357 | MSE Loss: 4.6401 | target: -3.8960 | pred: -7.2131\n"
     ]
    },
    {
     "name": "stderr",
     "output_type": "stream",
     "text": [
      "Division 4/5:   7%|█████                                                                         | 66/1015 [00:08<02:25,  6.53it/s]"
     ]
    },
    {
     "name": "stdout",
     "output_type": "stream",
     "text": [
      "Epoch:   0 | Samples:     64/712 | RMSE Loss: 1.3741 | MSE Loss: 3.3204 | target: -4.1000 | pred: -5.5556\n"
     ]
    },
    {
     "name": "stderr",
     "output_type": "stream",
     "text": [
      "Division 4/5:  10%|███████▌                                                                      | 98/1015 [00:12<02:01,  7.52it/s]"
     ]
    },
    {
     "name": "stdout",
     "output_type": "stream",
     "text": [
      "Epoch:   0 | Samples:     96/712 | RMSE Loss: 1.3481 | MSE Loss: 3.1161 | target: -1.3300 | pred: -1.3531\n"
     ]
    },
    {
     "name": "stderr",
     "output_type": "stream",
     "text": [
      "Division 4/5:  13%|█████████▊                                                                   | 130/1015 [00:17<01:47,  8.25it/s]"
     ]
    },
    {
     "name": "stdout",
     "output_type": "stream",
     "text": [
      "Epoch:   0 | Samples:    128/712 | RMSE Loss: 1.2253 | MSE Loss: 2.6130 | target: 0.0090 | pred: -1.9877\n"
     ]
    },
    {
     "name": "stderr",
     "output_type": "stream",
     "text": [
      "Division 4/5:  16%|████████████▏                                                                | 160/1015 [00:21<01:49,  7.78it/s]"
     ]
    },
    {
     "name": "stdout",
     "output_type": "stream",
     "text": [
      "Epoch:   0 | Samples:    160/712 | RMSE Loss: 1.2377 | MSE Loss: 2.5955 | target: -1.0900 | pred: -2.2129\n"
     ]
    },
    {
     "name": "stderr",
     "output_type": "stream",
     "text": [
      "Division 4/5:  19%|██████████████▋                                                              | 194/1015 [00:26<02:05,  6.56it/s]"
     ]
    },
    {
     "name": "stdout",
     "output_type": "stream",
     "text": [
      "Epoch:   0 | Samples:    192/712 | RMSE Loss: 1.3062 | MSE Loss: 2.9962 | target: -1.3700 | pred: -1.4890\n"
     ]
    },
    {
     "name": "stderr",
     "output_type": "stream",
     "text": [
      "Division 4/5:  22%|█████████████████▏                                                           | 226/1015 [00:31<01:26,  9.14it/s]"
     ]
    },
    {
     "name": "stdout",
     "output_type": "stream",
     "text": [
      "Epoch:   0 | Samples:    224/712 | RMSE Loss: 1.2871 | MSE Loss: 2.9801 | target: -2.0500 | pred: -2.8051\n"
     ]
    },
    {
     "name": "stderr",
     "output_type": "stream",
     "text": [
      "Division 4/5:  25%|███████████████████▍                                                         | 257/1015 [00:36<01:53,  6.66it/s]"
     ]
    },
    {
     "name": "stdout",
     "output_type": "stream",
     "text": [
      "Epoch:   0 | Samples:    256/712 | RMSE Loss: 1.3049 | MSE Loss: 2.9444 | target: -4.4200 | pred: -6.2241\n"
     ]
    },
    {
     "name": "stderr",
     "output_type": "stream",
     "text": [
      "Division 4/5:  28%|█████████████████████▉                                                       | 289/1015 [00:41<02:09,  5.61it/s]"
     ]
    },
    {
     "name": "stdout",
     "output_type": "stream",
     "text": [
      "Epoch:   0 | Samples:    288/712 | RMSE Loss: 1.2992 | MSE Loss: 2.9020 | target: -2.3690 | pred: -2.2875\n"
     ]
    },
    {
     "name": "stderr",
     "output_type": "stream",
     "text": [
      "Division 4/5:  32%|████████████████████████▍                                                    | 322/1015 [00:45<01:27,  7.92it/s]"
     ]
    },
    {
     "name": "stdout",
     "output_type": "stream",
     "text": [
      "Epoch:   0 | Samples:    320/712 | RMSE Loss: 1.2728 | MSE Loss: 2.7748 | target: -3.3500 | pred: -4.0508\n"
     ]
    },
    {
     "name": "stderr",
     "output_type": "stream",
     "text": [
      "Division 4/5:  35%|██████████████████████████▊                                                  | 353/1015 [00:50<02:12,  4.98it/s]"
     ]
    },
    {
     "name": "stdout",
     "output_type": "stream",
     "text": [
      "Epoch:   0 | Samples:    352/712 | RMSE Loss: 1.2430 | MSE Loss: 2.6602 | target: -2.1480 | pred: -1.8078\n"
     ]
    },
    {
     "name": "stderr",
     "output_type": "stream",
     "text": [
      "Division 4/5:  38%|█████████████████████████████▎                                               | 386/1015 [00:56<01:35,  6.60it/s]"
     ]
    },
    {
     "name": "stdout",
     "output_type": "stream",
     "text": [
      "Epoch:   0 | Samples:    384/712 | RMSE Loss: 1.2630 | MSE Loss: 2.7355 | target: -3.4990 | pred: -4.5805\n"
     ]
    },
    {
     "name": "stderr",
     "output_type": "stream",
     "text": [
      "Division 4/5:  41%|███████████████████████████████▋                                             | 418/1015 [01:00<01:08,  8.73it/s]"
     ]
    },
    {
     "name": "stdout",
     "output_type": "stream",
     "text": [
      "Epoch:   0 | Samples:    416/712 | RMSE Loss: 1.2507 | MSE Loss: 2.6794 | target: -1.6140 | pred: -1.9352\n"
     ]
    },
    {
     "name": "stderr",
     "output_type": "stream",
     "text": [
      "Division 4/5:  44%|██████████████████████████████████▏                                          | 450/1015 [01:05<00:57,  9.89it/s]"
     ]
    },
    {
     "name": "stdout",
     "output_type": "stream",
     "text": [
      "Epoch:   0 | Samples:    448/712 | RMSE Loss: 1.2456 | MSE Loss: 2.6490 | target: -4.5600 | pred: -3.6262\n"
     ]
    },
    {
     "name": "stderr",
     "output_type": "stream",
     "text": [
      "Division 4/5:  47%|████████████████████████████████████▍                                        | 481/1015 [01:10<01:01,  8.65it/s]"
     ]
    },
    {
     "name": "stdout",
     "output_type": "stream",
     "text": [
      "Epoch:   0 | Samples:    480/712 | RMSE Loss: 1.2424 | MSE Loss: 2.6050 | target: -2.5100 | pred: -2.7474\n"
     ]
    },
    {
     "name": "stderr",
     "output_type": "stream",
     "text": [
      "Division 4/5:  51%|██████████████████████████████████████▉                                      | 514/1015 [01:14<01:21,  6.17it/s]"
     ]
    },
    {
     "name": "stdout",
     "output_type": "stream",
     "text": [
      "Epoch:   0 | Samples:    512/712 | RMSE Loss: 1.2213 | MSE Loss: 2.5156 | target: -3.3600 | pred: -3.0435\n"
     ]
    },
    {
     "name": "stderr",
     "output_type": "stream",
     "text": [
      "Division 4/5:  54%|█████████████████████████████████████████▍                                   | 546/1015 [01:19<00:57,  8.18it/s]"
     ]
    },
    {
     "name": "stdout",
     "output_type": "stream",
     "text": [
      "Epoch:   0 | Samples:    544/712 | RMSE Loss: 1.2179 | MSE Loss: 2.5288 | target: -7.6800 | pred: -5.6219\n"
     ]
    },
    {
     "name": "stderr",
     "output_type": "stream",
     "text": [
      "Division 4/5:  57%|███████████████████████████████████████████▊                                 | 578/1015 [01:24<01:00,  7.21it/s]"
     ]
    },
    {
     "name": "stdout",
     "output_type": "stream",
     "text": [
      "Epoch:   0 | Samples:    576/712 | RMSE Loss: 1.2029 | MSE Loss: 2.4576 | target: -2.8200 | pred: -2.4109\n"
     ]
    },
    {
     "name": "stderr",
     "output_type": "stream",
     "text": [
      "Division 4/5:  60%|██████████████████████████████████████████████▏                              | 609/1015 [01:28<00:43,  9.38it/s]"
     ]
    },
    {
     "name": "stdout",
     "output_type": "stream",
     "text": [
      "Epoch:   0 | Samples:    608/712 | RMSE Loss: 1.1950 | MSE Loss: 2.4153 | target: -2.0300 | pred: -2.4339\n"
     ]
    },
    {
     "name": "stderr",
     "output_type": "stream",
     "text": [
      "Division 4/5:  63%|████████████████████████████████████████████████▋                            | 642/1015 [01:32<00:34, 10.83it/s]"
     ]
    },
    {
     "name": "stdout",
     "output_type": "stream",
     "text": [
      "Epoch:   0 | Samples:    640/712 | RMSE Loss: 1.1790 | MSE Loss: 2.3593 | target: -2.6800 | pred: -1.8210\n"
     ]
    },
    {
     "name": "stderr",
     "output_type": "stream",
     "text": [
      "Division 4/5:  66%|███████████████████████████████████████████████████▏                         | 674/1015 [01:36<00:46,  7.36it/s]"
     ]
    },
    {
     "name": "stdout",
     "output_type": "stream",
     "text": [
      "Epoch:   0 | Samples:    672/712 | RMSE Loss: 1.1573 | MSE Loss: 2.2868 | target: -3.9530 | pred: -4.2291\n"
     ]
    },
    {
     "name": "stderr",
     "output_type": "stream",
     "text": [
      "Division 4/5:  70%|█████████████████████████████████████████████████████▋                       | 707/1015 [01:40<00:39,  7.81it/s]"
     ]
    },
    {
     "name": "stdout",
     "output_type": "stream",
     "text": [
      "Epoch:   0 | Samples:    704/712 | RMSE Loss: 1.1403 | MSE Loss: 2.2187 | target: -3.0940 | pred: -3.6610\n"
     ]
    },
    {
     "name": "stderr",
     "output_type": "stream",
     "text": [
      "Division 4/5:  70%|██████████████████████████████████████████████████████                       | 712/1015 [01:41<00:43,  7.01it/s]\n",
      "Division 4/5:   0%|▏                                                                              | 3/1015 [00:00<01:58,  8.56it/s]"
     ]
    },
    {
     "name": "stdout",
     "output_type": "stream",
     "text": [
      "Epoch:   1 | Samples:      0/712 | RMSE Loss: 1.9501 | MSE Loss: 3.8031 | target: -4.5540 | pred: -2.6039\n"
     ]
    },
    {
     "name": "stderr",
     "output_type": "stream",
     "text": [
      "Division 4/5:   3%|██▌                                                                           | 34/1015 [00:04<02:18,  7.09it/s]"
     ]
    },
    {
     "name": "stdout",
     "output_type": "stream",
     "text": [
      "Epoch:   1 | Samples:     32/712 | RMSE Loss: 1.0168 | MSE Loss: 1.6456 | target: -3.8960 | pred: -5.3040\n"
     ]
    },
    {
     "name": "stderr",
     "output_type": "stream",
     "text": [
      "Division 4/5:   7%|█████                                                                         | 66/1015 [00:09<02:27,  6.41it/s]"
     ]
    },
    {
     "name": "stdout",
     "output_type": "stream",
     "text": [
      "Epoch:   1 | Samples:     64/712 | RMSE Loss: 0.8989 | MSE Loss: 1.3247 | target: -4.1000 | pred: -3.9675\n"
     ]
    },
    {
     "name": "stderr",
     "output_type": "stream",
     "text": [
      "Division 4/5:  10%|███████▌                                                                      | 98/1015 [00:13<02:01,  7.57it/s]"
     ]
    },
    {
     "name": "stdout",
     "output_type": "stream",
     "text": [
      "Epoch:   1 | Samples:     96/712 | RMSE Loss: 0.8386 | MSE Loss: 1.1541 | target: -1.3300 | pred: -1.9481\n"
     ]
    },
    {
     "name": "stderr",
     "output_type": "stream",
     "text": [
      "Division 4/5:  13%|█████████▊                                                                   | 130/1015 [00:17<01:47,  8.20it/s]"
     ]
    },
    {
     "name": "stdout",
     "output_type": "stream",
     "text": [
      "Epoch:   1 | Samples:    128/712 | RMSE Loss: 0.7775 | MSE Loss: 1.0227 | target: 0.0090 | pred: -0.9863\n"
     ]
    },
    {
     "name": "stderr",
     "output_type": "stream",
     "text": [
      "Division 4/5:  16%|████████████▏                                                                | 160/1015 [00:21<01:49,  7.82it/s]"
     ]
    },
    {
     "name": "stdout",
     "output_type": "stream",
     "text": [
      "Epoch:   1 | Samples:    160/712 | RMSE Loss: 0.7763 | MSE Loss: 0.9897 | target: -1.0900 | pred: -1.9064\n"
     ]
    },
    {
     "name": "stderr",
     "output_type": "stream",
     "text": [
      "Division 4/5:  19%|██████████████▋                                                              | 194/1015 [00:26<02:05,  6.56it/s]"
     ]
    },
    {
     "name": "stdout",
     "output_type": "stream",
     "text": [
      "Epoch:   1 | Samples:    192/712 | RMSE Loss: 0.7983 | MSE Loss: 1.0827 | target: -1.3700 | pred: -2.1369\n"
     ]
    },
    {
     "name": "stderr",
     "output_type": "stream",
     "text": [
      "Division 4/5:  22%|█████████████████▏                                                           | 226/1015 [00:31<01:28,  8.91it/s]"
     ]
    },
    {
     "name": "stdout",
     "output_type": "stream",
     "text": [
      "Epoch:   1 | Samples:    224/712 | RMSE Loss: 0.7869 | MSE Loss: 1.0484 | target: -2.0500 | pred: -1.9837\n"
     ]
    },
    {
     "name": "stderr",
     "output_type": "stream",
     "text": [
      "Division 4/5:  25%|███████████████████▍                                                         | 257/1015 [00:36<01:54,  6.64it/s]"
     ]
    },
    {
     "name": "stdout",
     "output_type": "stream",
     "text": [
      "Epoch:   1 | Samples:    256/712 | RMSE Loss: 0.7816 | MSE Loss: 1.0141 | target: -4.4200 | pred: -5.2994\n"
     ]
    },
    {
     "name": "stderr",
     "output_type": "stream",
     "text": [
      "Division 4/5:  28%|█████████████████████▉                                                       | 289/1015 [00:41<02:10,  5.56it/s]"
     ]
    },
    {
     "name": "stdout",
     "output_type": "stream",
     "text": [
      "Epoch:   1 | Samples:    288/712 | RMSE Loss: 0.7881 | MSE Loss: 1.0237 | target: -2.3690 | pred: -2.5436\n"
     ]
    },
    {
     "name": "stderr",
     "output_type": "stream",
     "text": [
      "Division 4/5:  32%|████████████████████████▍                                                    | 322/1015 [00:45<01:28,  7.84it/s]"
     ]
    },
    {
     "name": "stdout",
     "output_type": "stream",
     "text": [
      "Epoch:   1 | Samples:    320/712 | RMSE Loss: 0.7730 | MSE Loss: 0.9842 | target: -3.3500 | pred: -4.4915\n"
     ]
    },
    {
     "name": "stderr",
     "output_type": "stream",
     "text": [
      "Division 4/5:  35%|██████████████████████████▊                                                  | 353/1015 [00:50<02:12,  5.00it/s]"
     ]
    },
    {
     "name": "stdout",
     "output_type": "stream",
     "text": [
      "Epoch:   1 | Samples:    352/712 | RMSE Loss: 0.7816 | MSE Loss: 1.0132 | target: -2.1480 | pred: -1.5851\n"
     ]
    },
    {
     "name": "stderr",
     "output_type": "stream",
     "text": [
      "Division 4/5:  38%|█████████████████████████████▎                                               | 386/1015 [00:56<01:35,  6.59it/s]"
     ]
    },
    {
     "name": "stdout",
     "output_type": "stream",
     "text": [
      "Epoch:   1 | Samples:    384/712 | RMSE Loss: 0.8061 | MSE Loss: 1.0980 | target: -3.4990 | pred: -5.1590\n"
     ]
    },
    {
     "name": "stderr",
     "output_type": "stream",
     "text": [
      "Division 4/5:  41%|███████████████████████████████▋                                             | 417/1015 [01:00<01:05,  9.20it/s]"
     ]
    },
    {
     "name": "stdout",
     "output_type": "stream",
     "text": [
      "Epoch:   1 | Samples:    416/712 | RMSE Loss: 0.8009 | MSE Loss: 1.0750 | target: -1.6140 | pred: -1.6746\n"
     ]
    },
    {
     "name": "stderr",
     "output_type": "stream",
     "text": [
      "Division 4/5:  44%|██████████████████████████████████▏                                          | 450/1015 [01:06<00:56,  9.97it/s]"
     ]
    },
    {
     "name": "stdout",
     "output_type": "stream",
     "text": [
      "Epoch:   1 | Samples:    448/712 | RMSE Loss: 0.7979 | MSE Loss: 1.0569 | target: -4.5600 | pred: -4.0708\n"
     ]
    },
    {
     "name": "stderr",
     "output_type": "stream",
     "text": [
      "Division 4/5:  47%|████████████████████████████████████▍                                        | 481/1015 [01:10<01:01,  8.69it/s]"
     ]
    },
    {
     "name": "stdout",
     "output_type": "stream",
     "text": [
      "Epoch:   1 | Samples:    480/712 | RMSE Loss: 0.7983 | MSE Loss: 1.0512 | target: -2.5100 | pred: -2.3612\n"
     ]
    },
    {
     "name": "stderr",
     "output_type": "stream",
     "text": [
      "Division 4/5:  51%|██████████████████████████████████████▉                                      | 514/1015 [01:14<01:20,  6.24it/s]"
     ]
    },
    {
     "name": "stdout",
     "output_type": "stream",
     "text": [
      "Epoch:   1 | Samples:    512/712 | RMSE Loss: 0.7922 | MSE Loss: 1.0316 | target: -3.3600 | pred: -2.4441\n"
     ]
    },
    {
     "name": "stderr",
     "output_type": "stream",
     "text": [
      "Division 4/5:  54%|█████████████████████████████████████████▍                                   | 546/1015 [01:19<00:58,  8.05it/s]"
     ]
    },
    {
     "name": "stdout",
     "output_type": "stream",
     "text": [
      "Epoch:   1 | Samples:    544/712 | RMSE Loss: 0.8019 | MSE Loss: 1.0753 | target: -7.6800 | pred: -7.0364\n"
     ]
    },
    {
     "name": "stderr",
     "output_type": "stream",
     "text": [
      "Division 4/5:  57%|███████████████████████████████████████████▊                                 | 578/1015 [01:24<00:59,  7.31it/s]"
     ]
    },
    {
     "name": "stdout",
     "output_type": "stream",
     "text": [
      "Epoch:   1 | Samples:    576/712 | RMSE Loss: 0.7986 | MSE Loss: 1.0592 | target: -2.8200 | pred: -2.6362\n"
     ]
    },
    {
     "name": "stderr",
     "output_type": "stream",
     "text": [
      "Division 4/5:  60%|██████████████████████████████████████████████▏                              | 609/1015 [01:28<00:42,  9.53it/s]"
     ]
    },
    {
     "name": "stdout",
     "output_type": "stream",
     "text": [
      "Epoch:   1 | Samples:    608/712 | RMSE Loss: 0.8021 | MSE Loss: 1.0631 | target: -2.0300 | pred: -2.3684\n"
     ]
    },
    {
     "name": "stderr",
     "output_type": "stream",
     "text": [
      "Division 4/5:  63%|████████████████████████████████████████████████▋                            | 642/1015 [01:32<00:34, 10.76it/s]"
     ]
    },
    {
     "name": "stdout",
     "output_type": "stream",
     "text": [
      "Epoch:   1 | Samples:    640/712 | RMSE Loss: 0.7956 | MSE Loss: 1.0489 | target: -2.6800 | pred: -1.7367\n"
     ]
    },
    {
     "name": "stderr",
     "output_type": "stream",
     "text": [
      "Division 4/5:  66%|███████████████████████████████████████████████████▏                         | 674/1015 [01:37<00:45,  7.42it/s]"
     ]
    },
    {
     "name": "stdout",
     "output_type": "stream",
     "text": [
      "Epoch:   1 | Samples:    672/712 | RMSE Loss: 0.7874 | MSE Loss: 1.0280 | target: -3.9530 | pred: -4.6601\n"
     ]
    },
    {
     "name": "stderr",
     "output_type": "stream",
     "text": [
      "Division 4/5:  70%|█████████████████████████████████████████████████████▋                       | 707/1015 [01:40<00:39,  7.77it/s]"
     ]
    },
    {
     "name": "stdout",
     "output_type": "stream",
     "text": [
      "Epoch:   1 | Samples:    704/712 | RMSE Loss: 0.7778 | MSE Loss: 1.0073 | target: -3.0940 | pred: -3.4684\n"
     ]
    },
    {
     "name": "stderr",
     "output_type": "stream",
     "text": [
      "Division 4/5:  70%|██████████████████████████████████████████████████████                       | 712/1015 [01:41<00:43,  6.99it/s]\n",
      "Division 4/5:   0%|▏                                                                              | 3/1015 [00:00<01:57,  8.61it/s]"
     ]
    },
    {
     "name": "stdout",
     "output_type": "stream",
     "text": [
      "Epoch:   2 | Samples:      0/712 | RMSE Loss: 1.4991 | MSE Loss: 2.2474 | target: -4.5540 | pred: -3.0549\n"
     ]
    },
    {
     "name": "stderr",
     "output_type": "stream",
     "text": [
      "Division 4/5:   3%|██▌                                                                           | 34/1015 [00:04<02:18,  7.09it/s]"
     ]
    },
    {
     "name": "stdout",
     "output_type": "stream",
     "text": [
      "Epoch:   2 | Samples:     32/712 | RMSE Loss: 0.8567 | MSE Loss: 1.1353 | target: -3.8960 | pred: -5.3617\n"
     ]
    },
    {
     "name": "stderr",
     "output_type": "stream",
     "text": [
      "Division 4/5:   7%|█████                                                                         | 66/1015 [00:09<02:30,  6.32it/s]"
     ]
    },
    {
     "name": "stdout",
     "output_type": "stream",
     "text": [
      "Epoch:   2 | Samples:     64/712 | RMSE Loss: 0.7542 | MSE Loss: 0.9195 | target: -4.1000 | pred: -4.1834\n"
     ]
    },
    {
     "name": "stderr",
     "output_type": "stream",
     "text": [
      "Division 4/5:  10%|███████▌                                                                      | 98/1015 [00:13<02:01,  7.57it/s]"
     ]
    },
    {
     "name": "stdout",
     "output_type": "stream",
     "text": [
      "Epoch:   2 | Samples:     96/712 | RMSE Loss: 0.7469 | MSE Loss: 0.8725 | target: -1.3300 | pred: -1.5631\n"
     ]
    },
    {
     "name": "stderr",
     "output_type": "stream",
     "text": [
      "Division 4/5:  13%|█████████▊                                                                   | 130/1015 [00:17<01:47,  8.23it/s]"
     ]
    },
    {
     "name": "stdout",
     "output_type": "stream",
     "text": [
      "Epoch:   2 | Samples:    128/712 | RMSE Loss: 0.6847 | MSE Loss: 0.7628 | target: 0.0090 | pred: -0.5913\n"
     ]
    },
    {
     "name": "stderr",
     "output_type": "stream",
     "text": [
      "Division 4/5:  16%|████████████▏                                                                | 160/1015 [00:21<01:49,  7.81it/s]"
     ]
    },
    {
     "name": "stdout",
     "output_type": "stream",
     "text": [
      "Epoch:   2 | Samples:    160/712 | RMSE Loss: 0.6759 | MSE Loss: 0.7417 | target: -1.0900 | pred: -1.5779\n"
     ]
    },
    {
     "name": "stderr",
     "output_type": "stream",
     "text": [
      "Division 4/5:  19%|██████████████▋                                                              | 194/1015 [00:26<02:05,  6.56it/s]"
     ]
    },
    {
     "name": "stdout",
     "output_type": "stream",
     "text": [
      "Epoch:   2 | Samples:    192/712 | RMSE Loss: 0.6907 | MSE Loss: 0.7952 | target: -1.3700 | pred: -1.9506\n"
     ]
    },
    {
     "name": "stderr",
     "output_type": "stream",
     "text": [
      "Division 4/5:  22%|█████████████████▏                                                           | 226/1015 [00:31<01:27,  9.01it/s]"
     ]
    },
    {
     "name": "stdout",
     "output_type": "stream",
     "text": [
      "Epoch:   2 | Samples:    224/712 | RMSE Loss: 0.6745 | MSE Loss: 0.7664 | target: -2.0500 | pred: -1.9021\n"
     ]
    },
    {
     "name": "stderr",
     "output_type": "stream",
     "text": [
      "Division 4/5:  25%|███████████████████▍                                                         | 257/1015 [00:36<01:53,  6.70it/s]"
     ]
    },
    {
     "name": "stdout",
     "output_type": "stream",
     "text": [
      "Epoch:   2 | Samples:    256/712 | RMSE Loss: 0.6656 | MSE Loss: 0.7349 | target: -4.4200 | pred: -4.9294\n"
     ]
    },
    {
     "name": "stderr",
     "output_type": "stream",
     "text": [
      "Division 4/5:  28%|█████████████████████▉                                                       | 289/1015 [00:41<02:09,  5.61it/s]"
     ]
    },
    {
     "name": "stdout",
     "output_type": "stream",
     "text": [
      "Epoch:   2 | Samples:    288/712 | RMSE Loss: 0.6697 | MSE Loss: 0.7432 | target: -2.3690 | pred: -2.8234\n"
     ]
    },
    {
     "name": "stderr",
     "output_type": "stream",
     "text": [
      "Division 4/5:  32%|████████████████████████▍                                                    | 322/1015 [00:45<01:37,  7.13it/s]"
     ]
    },
    {
     "name": "stdout",
     "output_type": "stream",
     "text": [
      "Epoch:   2 | Samples:    320/712 | RMSE Loss: 0.6636 | MSE Loss: 0.7315 | target: -3.3500 | pred: -4.3340\n"
     ]
    },
    {
     "name": "stderr",
     "output_type": "stream",
     "text": [
      "Division 4/5:  35%|██████████████████████████▊                                                  | 353/1015 [00:50<02:12,  4.99it/s]"
     ]
    },
    {
     "name": "stdout",
     "output_type": "stream",
     "text": [
      "Epoch:   2 | Samples:    352/712 | RMSE Loss: 0.6775 | MSE Loss: 0.7694 | target: -2.1480 | pred: -1.7770\n"
     ]
    },
    {
     "name": "stderr",
     "output_type": "stream",
     "text": [
      "Division 4/5:  38%|█████████████████████████████▎                                               | 386/1015 [00:56<01:36,  6.54it/s]"
     ]
    },
    {
     "name": "stdout",
     "output_type": "stream",
     "text": [
      "Epoch:   2 | Samples:    384/712 | RMSE Loss: 0.6832 | MSE Loss: 0.7943 | target: -3.4990 | pred: -4.8273\n"
     ]
    },
    {
     "name": "stderr",
     "output_type": "stream",
     "text": [
      "Division 4/5:  41%|███████████████████████████████▋                                             | 418/1015 [01:00<01:09,  8.56it/s]"
     ]
    },
    {
     "name": "stdout",
     "output_type": "stream",
     "text": [
      "Epoch:   2 | Samples:    416/712 | RMSE Loss: 0.6763 | MSE Loss: 0.7767 | target: -1.6140 | pred: -2.2306\n"
     ]
    },
    {
     "name": "stderr",
     "output_type": "stream",
     "text": [
      "Division 4/5:  44%|██████████████████████████████████▏                                          | 450/1015 [01:06<00:56, 10.06it/s]"
     ]
    },
    {
     "name": "stdout",
     "output_type": "stream",
     "text": [
      "Epoch:   2 | Samples:    448/712 | RMSE Loss: 0.6754 | MSE Loss: 0.7651 | target: -4.5600 | pred: -4.0736\n"
     ]
    },
    {
     "name": "stderr",
     "output_type": "stream",
     "text": [
      "Division 4/5:  47%|████████████████████████████████████▍                                        | 481/1015 [01:10<01:00,  8.77it/s]"
     ]
    },
    {
     "name": "stdout",
     "output_type": "stream",
     "text": [
      "Epoch:   2 | Samples:    480/712 | RMSE Loss: 0.6741 | MSE Loss: 0.7565 | target: -2.5100 | pred: -1.7923\n"
     ]
    },
    {
     "name": "stderr",
     "output_type": "stream",
     "text": [
      "Division 4/5:  51%|██████████████████████████████████████▉                                      | 514/1015 [01:14<01:19,  6.29it/s]"
     ]
    },
    {
     "name": "stdout",
     "output_type": "stream",
     "text": [
      "Epoch:   2 | Samples:    512/712 | RMSE Loss: 0.6698 | MSE Loss: 0.7423 | target: -3.3600 | pred: -2.5293\n"
     ]
    },
    {
     "name": "stderr",
     "output_type": "stream",
     "text": [
      "Division 4/5:  54%|█████████████████████████████████████████▍                                   | 546/1015 [01:19<00:57,  8.13it/s]"
     ]
    },
    {
     "name": "stdout",
     "output_type": "stream",
     "text": [
      "Epoch:   2 | Samples:    544/712 | RMSE Loss: 0.6818 | MSE Loss: 0.7816 | target: -7.6800 | pred: -7.5111\n"
     ]
    },
    {
     "name": "stderr",
     "output_type": "stream",
     "text": [
      "Division 4/5:  57%|███████████████████████████████████████████▊                                 | 578/1015 [01:24<00:59,  7.31it/s]"
     ]
    },
    {
     "name": "stdout",
     "output_type": "stream",
     "text": [
      "Epoch:   2 | Samples:    576/712 | RMSE Loss: 0.6779 | MSE Loss: 0.7713 | target: -2.8200 | pred: -2.7191\n"
     ]
    },
    {
     "name": "stderr",
     "output_type": "stream",
     "text": [
      "Division 4/5:  60%|██████████████████████████████████████████████▏                              | 609/1015 [01:28<00:42,  9.54it/s]"
     ]
    },
    {
     "name": "stdout",
     "output_type": "stream",
     "text": [
      "Epoch:   2 | Samples:    608/712 | RMSE Loss: 0.6804 | MSE Loss: 0.7717 | target: -2.0300 | pred: -2.1805\n"
     ]
    },
    {
     "name": "stderr",
     "output_type": "stream",
     "text": [
      "Division 4/5:  63%|████████████████████████████████████████████████▋                            | 642/1015 [01:32<00:34, 10.89it/s]"
     ]
    },
    {
     "name": "stdout",
     "output_type": "stream",
     "text": [
      "Epoch:   2 | Samples:    640/712 | RMSE Loss: 0.6751 | MSE Loss: 0.7633 | target: -2.6800 | pred: -2.0086\n"
     ]
    },
    {
     "name": "stderr",
     "output_type": "stream",
     "text": [
      "Division 4/5:  66%|███████████████████████████████████████████████████▏                         | 674/1015 [01:36<00:45,  7.47it/s]"
     ]
    },
    {
     "name": "stdout",
     "output_type": "stream",
     "text": [
      "Epoch:   2 | Samples:    672/712 | RMSE Loss: 0.6692 | MSE Loss: 0.7493 | target: -3.9530 | pred: -4.7337\n"
     ]
    },
    {
     "name": "stderr",
     "output_type": "stream",
     "text": [
      "Division 4/5:  70%|█████████████████████████████████████████████████████▋                       | 707/1015 [01:40<00:39,  7.87it/s]"
     ]
    },
    {
     "name": "stdout",
     "output_type": "stream",
     "text": [
      "Epoch:   2 | Samples:    704/712 | RMSE Loss: 0.6588 | MSE Loss: 0.7321 | target: -3.0940 | pred: -3.3631\n"
     ]
    },
    {
     "name": "stderr",
     "output_type": "stream",
     "text": [
      "Division 4/5:  70%|██████████████████████████████████████████████████████                       | 712/1015 [01:41<00:43,  7.00it/s]\n",
      "Division 4/5:   0%|▏                                                                              | 3/1015 [00:00<01:59,  8.48it/s]"
     ]
    },
    {
     "name": "stdout",
     "output_type": "stream",
     "text": [
      "Epoch:   3 | Samples:      0/712 | RMSE Loss: 1.2366 | MSE Loss: 1.5291 | target: -4.5540 | pred: -3.3174\n"
     ]
    },
    {
     "name": "stderr",
     "output_type": "stream",
     "text": [
      "Division 4/5:   3%|██▌                                                                           | 34/1015 [00:04<02:17,  7.11it/s]"
     ]
    },
    {
     "name": "stdout",
     "output_type": "stream",
     "text": [
      "Epoch:   3 | Samples:     32/712 | RMSE Loss: 0.7323 | MSE Loss: 0.8693 | target: -3.8960 | pred: -5.3655\n"
     ]
    },
    {
     "name": "stderr",
     "output_type": "stream",
     "text": [
      "Division 4/5:   7%|█████                                                                         | 66/1015 [00:09<02:28,  6.40it/s]"
     ]
    },
    {
     "name": "stdout",
     "output_type": "stream",
     "text": [
      "Epoch:   3 | Samples:     64/712 | RMSE Loss: 0.6330 | MSE Loss: 0.6832 | target: -4.1000 | pred: -4.2765\n"
     ]
    },
    {
     "name": "stderr",
     "output_type": "stream",
     "text": [
      "Division 4/5:  10%|███████▌                                                                      | 98/1015 [00:13<01:59,  7.69it/s]"
     ]
    },
    {
     "name": "stdout",
     "output_type": "stream",
     "text": [
      "Epoch:   3 | Samples:     96/712 | RMSE Loss: 0.6614 | MSE Loss: 0.7095 | target: -1.3300 | pred: -1.1790\n"
     ]
    },
    {
     "name": "stderr",
     "output_type": "stream",
     "text": [
      "Division 4/5:  13%|█████████▊                                                                   | 130/1015 [00:17<01:46,  8.31it/s]"
     ]
    },
    {
     "name": "stdout",
     "output_type": "stream",
     "text": [
      "Epoch:   3 | Samples:    128/712 | RMSE Loss: 0.6129 | MSE Loss: 0.6207 | target: 0.0090 | pred: -0.3007\n"
     ]
    },
    {
     "name": "stderr",
     "output_type": "stream",
     "text": [
      "Division 4/5:  16%|████████████▏                                                                | 160/1015 [00:21<01:48,  7.88it/s]"
     ]
    },
    {
     "name": "stdout",
     "output_type": "stream",
     "text": [
      "Epoch:   3 | Samples:    160/712 | RMSE Loss: 0.6042 | MSE Loss: 0.6091 | target: -1.0900 | pred: -1.4255\n"
     ]
    },
    {
     "name": "stderr",
     "output_type": "stream",
     "text": [
      "Division 4/5:  19%|██████████████▋                                                              | 194/1015 [00:26<02:03,  6.63it/s]"
     ]
    },
    {
     "name": "stdout",
     "output_type": "stream",
     "text": [
      "Epoch:   3 | Samples:    192/712 | RMSE Loss: 0.6099 | MSE Loss: 0.6308 | target: -1.3700 | pred: -1.7328\n"
     ]
    },
    {
     "name": "stderr",
     "output_type": "stream",
     "text": [
      "Division 4/5:  22%|█████████████████▏                                                           | 226/1015 [00:31<01:27,  8.98it/s]"
     ]
    },
    {
     "name": "stdout",
     "output_type": "stream",
     "text": [
      "Epoch:   3 | Samples:    224/712 | RMSE Loss: 0.6027 | MSE Loss: 0.6132 | target: -2.0500 | pred: -1.9155\n"
     ]
    },
    {
     "name": "stderr",
     "output_type": "stream",
     "text": [
      "Division 4/5:  25%|███████████████████▍                                                         | 257/1015 [00:36<01:53,  6.69it/s]"
     ]
    },
    {
     "name": "stdout",
     "output_type": "stream",
     "text": [
      "Epoch:   3 | Samples:    256/712 | RMSE Loss: 0.5928 | MSE Loss: 0.5879 | target: -4.4200 | pred: -4.8039\n"
     ]
    },
    {
     "name": "stderr",
     "output_type": "stream",
     "text": [
      "Division 4/5:  28%|█████████████████████▉                                                       | 289/1015 [00:41<02:10,  5.54it/s]"
     ]
    },
    {
     "name": "stdout",
     "output_type": "stream",
     "text": [
      "Epoch:   3 | Samples:    288/712 | RMSE Loss: 0.5979 | MSE Loss: 0.5944 | target: -2.3690 | pred: -2.9418\n"
     ]
    },
    {
     "name": "stderr",
     "output_type": "stream",
     "text": [
      "Division 4/5:  32%|████████████████████████▍                                                    | 322/1015 [00:45<01:27,  7.91it/s]"
     ]
    },
    {
     "name": "stdout",
     "output_type": "stream",
     "text": [
      "Epoch:   3 | Samples:    320/712 | RMSE Loss: 0.5948 | MSE Loss: 0.5913 | target: -3.3500 | pred: -4.1600\n"
     ]
    },
    {
     "name": "stderr",
     "output_type": "stream",
     "text": [
      "Division 4/5:  35%|██████████████████████████▊                                                  | 353/1015 [00:50<02:12,  5.01it/s]"
     ]
    },
    {
     "name": "stdout",
     "output_type": "stream",
     "text": [
      "Epoch:   3 | Samples:    352/712 | RMSE Loss: 0.6097 | MSE Loss: 0.6268 | target: -2.1480 | pred: -1.7631\n"
     ]
    },
    {
     "name": "stderr",
     "output_type": "stream",
     "text": [
      "Division 4/5:  38%|█████████████████████████████▎                                               | 386/1015 [00:56<01:35,  6.59it/s]"
     ]
    },
    {
     "name": "stdout",
     "output_type": "stream",
     "text": [
      "Epoch:   3 | Samples:    384/712 | RMSE Loss: 0.6097 | MSE Loss: 0.6322 | target: -3.4990 | pred: -4.5926\n"
     ]
    },
    {
     "name": "stderr",
     "output_type": "stream",
     "text": [
      "Division 4/5:  41%|███████████████████████████████▋                                             | 418/1015 [01:00<01:07,  8.85it/s]"
     ]
    },
    {
     "name": "stdout",
     "output_type": "stream",
     "text": [
      "Epoch:   3 | Samples:    416/712 | RMSE Loss: 0.6019 | MSE Loss: 0.6161 | target: -1.6140 | pred: -2.3223\n"
     ]
    },
    {
     "name": "stderr",
     "output_type": "stream",
     "text": [
      "Division 4/5:  44%|██████████████████████████████████▏                                          | 450/1015 [01:05<00:56, 10.03it/s]"
     ]
    },
    {
     "name": "stdout",
     "output_type": "stream",
     "text": [
      "Epoch:   3 | Samples:    448/712 | RMSE Loss: 0.6027 | MSE Loss: 0.6084 | target: -4.5600 | pred: -3.9829\n"
     ]
    },
    {
     "name": "stderr",
     "output_type": "stream",
     "text": [
      "Division 4/5:  47%|████████████████████████████████████▍                                        | 481/1015 [01:10<01:01,  8.74it/s]"
     ]
    },
    {
     "name": "stdout",
     "output_type": "stream",
     "text": [
      "Epoch:   3 | Samples:    480/712 | RMSE Loss: 0.6006 | MSE Loss: 0.6000 | target: -2.5100 | pred: -1.6149\n"
     ]
    },
    {
     "name": "stderr",
     "output_type": "stream",
     "text": [
      "Division 4/5:  51%|██████████████████████████████████████▉                                      | 514/1015 [01:14<01:19,  6.29it/s]"
     ]
    },
    {
     "name": "stdout",
     "output_type": "stream",
     "text": [
      "Epoch:   3 | Samples:    512/712 | RMSE Loss: 0.5989 | MSE Loss: 0.5911 | target: -3.3600 | pred: -2.7190\n"
     ]
    },
    {
     "name": "stderr",
     "output_type": "stream",
     "text": [
      "Division 4/5:  54%|█████████████████████████████████████████▍                                   | 546/1015 [01:18<00:57,  8.20it/s]"
     ]
    },
    {
     "name": "stdout",
     "output_type": "stream",
     "text": [
      "Epoch:   3 | Samples:    544/712 | RMSE Loss: 0.6102 | MSE Loss: 0.6257 | target: -7.6800 | pred: -7.9280\n"
     ]
    },
    {
     "name": "stderr",
     "output_type": "stream",
     "text": [
      "Division 4/5:  57%|███████████████████████████████████████████▊                                 | 578/1015 [01:23<00:59,  7.37it/s]"
     ]
    },
    {
     "name": "stdout",
     "output_type": "stream",
     "text": [
      "Epoch:   3 | Samples:    576/712 | RMSE Loss: 0.6055 | MSE Loss: 0.6177 | target: -2.8200 | pred: -2.8251\n"
     ]
    },
    {
     "name": "stderr",
     "output_type": "stream",
     "text": [
      "Division 4/5:  60%|██████████████████████████████████████████████▏                              | 609/1015 [01:27<00:42,  9.49it/s]"
     ]
    },
    {
     "name": "stdout",
     "output_type": "stream",
     "text": [
      "Epoch:   3 | Samples:    608/712 | RMSE Loss: 0.6095 | MSE Loss: 0.6211 | target: -2.0300 | pred: -2.1577\n"
     ]
    },
    {
     "name": "stderr",
     "output_type": "stream",
     "text": [
      "Division 4/5:  63%|████████████████████████████████████████████████▋                            | 642/1015 [01:31<00:34, 10.81it/s]"
     ]
    },
    {
     "name": "stdout",
     "output_type": "stream",
     "text": [
      "Epoch:   3 | Samples:    640/712 | RMSE Loss: 0.6051 | MSE Loss: 0.6150 | target: -2.6800 | pred: -2.3028\n"
     ]
    },
    {
     "name": "stderr",
     "output_type": "stream",
     "text": [
      "Division 4/5:  66%|███████████████████████████████████████████████████▏                         | 674/1015 [01:36<00:45,  7.43it/s]"
     ]
    },
    {
     "name": "stdout",
     "output_type": "stream",
     "text": [
      "Epoch:   3 | Samples:    672/712 | RMSE Loss: 0.5997 | MSE Loss: 0.6046 | target: -3.9530 | pred: -4.6995\n"
     ]
    },
    {
     "name": "stderr",
     "output_type": "stream",
     "text": [
      "Division 4/5:  70%|█████████████████████████████████████████████████████▋                       | 707/1015 [01:40<00:39,  7.84it/s]"
     ]
    },
    {
     "name": "stdout",
     "output_type": "stream",
     "text": [
      "Epoch:   3 | Samples:    704/712 | RMSE Loss: 0.5906 | MSE Loss: 0.5910 | target: -3.0940 | pred: -3.1310\n"
     ]
    },
    {
     "name": "stderr",
     "output_type": "stream",
     "text": [
      "Division 4/5:  70%|██████████████████████████████████████████████████████                       | 712/1015 [01:41<00:43,  7.04it/s]\n",
      "Division 4/5:   0%|▏                                                                              | 3/1015 [00:00<01:58,  8.52it/s]"
     ]
    },
    {
     "name": "stdout",
     "output_type": "stream",
     "text": [
      "Epoch:   4 | Samples:      0/712 | RMSE Loss: 1.0213 | MSE Loss: 1.0431 | target: -4.5540 | pred: -3.5327\n"
     ]
    },
    {
     "name": "stderr",
     "output_type": "stream",
     "text": [
      "Division 4/5:   3%|██▌                                                                           | 34/1015 [00:04<02:17,  7.12it/s]"
     ]
    },
    {
     "name": "stdout",
     "output_type": "stream",
     "text": [
      "Epoch:   4 | Samples:     32/712 | RMSE Loss: 0.6569 | MSE Loss: 0.7193 | target: -3.8960 | pred: -5.3620\n"
     ]
    },
    {
     "name": "stderr",
     "output_type": "stream",
     "text": [
      "Division 4/5:   7%|█████                                                                         | 66/1015 [00:09<02:29,  6.34it/s]"
     ]
    },
    {
     "name": "stdout",
     "output_type": "stream",
     "text": [
      "Epoch:   4 | Samples:     64/712 | RMSE Loss: 0.5534 | MSE Loss: 0.5494 | target: -4.1000 | pred: -4.3213\n"
     ]
    },
    {
     "name": "stderr",
     "output_type": "stream",
     "text": [
      "Division 4/5:  10%|███████▌                                                                      | 98/1015 [00:13<02:00,  7.63it/s]"
     ]
    },
    {
     "name": "stdout",
     "output_type": "stream",
     "text": [
      "Epoch:   4 | Samples:     96/712 | RMSE Loss: 0.5988 | MSE Loss: 0.6060 | target: -1.3300 | pred: -1.0432\n"
     ]
    },
    {
     "name": "stderr",
     "output_type": "stream",
     "text": [
      "Division 4/5:  13%|█████████▊                                                                   | 130/1015 [00:17<01:46,  8.28it/s]"
     ]
    },
    {
     "name": "stdout",
     "output_type": "stream",
     "text": [
      "Epoch:   4 | Samples:    128/712 | RMSE Loss: 0.5593 | MSE Loss: 0.5328 | target: 0.0090 | pred: -0.0327\n"
     ]
    },
    {
     "name": "stderr",
     "output_type": "stream",
     "text": [
      "Division 4/5:  16%|████████████▏                                                                | 160/1015 [00:21<01:48,  7.89it/s]"
     ]
    },
    {
     "name": "stdout",
     "output_type": "stream",
     "text": [
      "Epoch:   4 | Samples:    160/712 | RMSE Loss: 0.5518 | MSE Loss: 0.5260 | target: -1.0900 | pred: -1.3618\n"
     ]
    },
    {
     "name": "stderr",
     "output_type": "stream",
     "text": [
      "Division 4/5:  19%|██████████████▋                                                              | 194/1015 [00:26<02:04,  6.58it/s]"
     ]
    },
    {
     "name": "stdout",
     "output_type": "stream",
     "text": [
      "Epoch:   4 | Samples:    192/712 | RMSE Loss: 0.5540 | MSE Loss: 0.5342 | target: -1.3700 | pred: -1.6635\n"
     ]
    },
    {
     "name": "stderr",
     "output_type": "stream",
     "text": [
      "Division 4/5:  22%|█████████████████▏                                                           | 226/1015 [00:31<01:27,  9.02it/s]"
     ]
    },
    {
     "name": "stdout",
     "output_type": "stream",
     "text": [
      "Epoch:   4 | Samples:    224/712 | RMSE Loss: 0.5533 | MSE Loss: 0.5273 | target: -2.0500 | pred: -1.9385\n"
     ]
    },
    {
     "name": "stderr",
     "output_type": "stream",
     "text": [
      "Division 4/5:  25%|███████████████████▍                                                         | 257/1015 [00:36<01:53,  6.71it/s]"
     ]
    },
    {
     "name": "stdout",
     "output_type": "stream",
     "text": [
      "Epoch:   4 | Samples:    256/712 | RMSE Loss: 0.5462 | MSE Loss: 0.5113 | target: -4.4200 | pred: -4.8122\n"
     ]
    },
    {
     "name": "stderr",
     "output_type": "stream",
     "text": [
      "Division 4/5:  28%|█████████████████████▉                                                       | 289/1015 [00:41<02:10,  5.58it/s]"
     ]
    },
    {
     "name": "stdout",
     "output_type": "stream",
     "text": [
      "Epoch:   4 | Samples:    288/712 | RMSE Loss: 0.5497 | MSE Loss: 0.5147 | target: -2.3690 | pred: -2.9322\n"
     ]
    },
    {
     "name": "stderr",
     "output_type": "stream",
     "text": [
      "Division 4/5:  32%|████████████████████████▍                                                    | 322/1015 [00:45<01:26,  8.02it/s]"
     ]
    },
    {
     "name": "stdout",
     "output_type": "stream",
     "text": [
      "Epoch:   4 | Samples:    320/712 | RMSE Loss: 0.5497 | MSE Loss: 0.5154 | target: -3.3500 | pred: -4.1829\n"
     ]
    },
    {
     "name": "stderr",
     "output_type": "stream",
     "text": [
      "Division 4/5:  35%|██████████████████████████▊                                                  | 353/1015 [00:50<02:12,  4.99it/s]"
     ]
    },
    {
     "name": "stdout",
     "output_type": "stream",
     "text": [
      "Epoch:   4 | Samples:    352/712 | RMSE Loss: 0.5632 | MSE Loss: 0.5456 | target: -2.1480 | pred: -1.7357\n"
     ]
    },
    {
     "name": "stderr",
     "output_type": "stream",
     "text": [
      "Division 4/5:  38%|█████████████████████████████▎                                               | 386/1015 [00:56<01:35,  6.61it/s]"
     ]
    },
    {
     "name": "stdout",
     "output_type": "stream",
     "text": [
      "Epoch:   4 | Samples:    384/712 | RMSE Loss: 0.5622 | MSE Loss: 0.5436 | target: -3.4990 | pred: -4.4187\n"
     ]
    },
    {
     "name": "stderr",
     "output_type": "stream",
     "text": [
      "Division 4/5:  41%|███████████████████████████████▋                                             | 418/1015 [01:00<01:08,  8.74it/s]"
     ]
    },
    {
     "name": "stdout",
     "output_type": "stream",
     "text": [
      "Epoch:   4 | Samples:    416/712 | RMSE Loss: 0.5531 | MSE Loss: 0.5285 | target: -1.6140 | pred: -2.2934\n"
     ]
    },
    {
     "name": "stderr",
     "output_type": "stream",
     "text": [
      "Division 4/5:  44%|██████████████████████████████████▏                                          | 450/1015 [01:05<00:56, 10.00it/s]"
     ]
    },
    {
     "name": "stdout",
     "output_type": "stream",
     "text": [
      "Epoch:   4 | Samples:    448/712 | RMSE Loss: 0.5535 | MSE Loss: 0.5218 | target: -4.5600 | pred: -4.0591\n"
     ]
    },
    {
     "name": "stderr",
     "output_type": "stream",
     "text": [
      "Division 4/5:  47%|████████████████████████████████████▍                                        | 481/1015 [01:10<01:01,  8.67it/s]"
     ]
    },
    {
     "name": "stdout",
     "output_type": "stream",
     "text": [
      "Epoch:   4 | Samples:    480/712 | RMSE Loss: 0.5523 | MSE Loss: 0.5150 | target: -2.5100 | pred: -1.5494\n"
     ]
    },
    {
     "name": "stderr",
     "output_type": "stream",
     "text": [
      "Division 4/5:  51%|██████████████████████████████████████▉                                      | 514/1015 [01:14<01:20,  6.25it/s]"
     ]
    },
    {
     "name": "stdout",
     "output_type": "stream",
     "text": [
      "Epoch:   4 | Samples:    512/712 | RMSE Loss: 0.5520 | MSE Loss: 0.5096 | target: -3.3600 | pred: -3.0034\n"
     ]
    },
    {
     "name": "stderr",
     "output_type": "stream",
     "text": [
      "Division 4/5:  54%|█████████████████████████████████████████▍                                   | 546/1015 [01:19<00:57,  8.14it/s]"
     ]
    },
    {
     "name": "stdout",
     "output_type": "stream",
     "text": [
      "Epoch:   4 | Samples:    544/712 | RMSE Loss: 0.5634 | MSE Loss: 0.5434 | target: -7.6800 | pred: -8.2254\n"
     ]
    },
    {
     "name": "stderr",
     "output_type": "stream",
     "text": [
      "Division 4/5:  57%|███████████████████████████████████████████▊                                 | 578/1015 [01:24<01:00,  7.26it/s]"
     ]
    },
    {
     "name": "stdout",
     "output_type": "stream",
     "text": [
      "Epoch:   4 | Samples:    576/712 | RMSE Loss: 0.5613 | MSE Loss: 0.5391 | target: -2.8200 | pred: -2.6905\n"
     ]
    },
    {
     "name": "stderr",
     "output_type": "stream",
     "text": [
      "Division 4/5:  60%|██████████████████████████████████████████████▏                              | 609/1015 [01:28<00:43,  9.39it/s]"
     ]
    },
    {
     "name": "stdout",
     "output_type": "stream",
     "text": [
      "Epoch:   4 | Samples:    608/712 | RMSE Loss: 0.5635 | MSE Loss: 0.5401 | target: -2.0300 | pred: -2.1467\n"
     ]
    },
    {
     "name": "stderr",
     "output_type": "stream",
     "text": [
      "Division 4/5:  63%|████████████████████████████████████████████████▋                            | 642/1015 [01:32<00:35, 10.55it/s]"
     ]
    },
    {
     "name": "stdout",
     "output_type": "stream",
     "text": [
      "Epoch:   4 | Samples:    640/712 | RMSE Loss: 0.5603 | MSE Loss: 0.5353 | target: -2.6800 | pred: -2.4419\n"
     ]
    },
    {
     "name": "stderr",
     "output_type": "stream",
     "text": [
      "Division 4/5:  66%|███████████████████████████████████████████████████▏                         | 674/1015 [01:36<00:46,  7.38it/s]"
     ]
    },
    {
     "name": "stdout",
     "output_type": "stream",
     "text": [
      "Epoch:   4 | Samples:    672/712 | RMSE Loss: 0.5558 | MSE Loss: 0.5262 | target: -3.9530 | pred: -4.6314\n"
     ]
    },
    {
     "name": "stderr",
     "output_type": "stream",
     "text": [
      "Division 4/5:  70%|█████████████████████████████████████████████████████▋                       | 707/1015 [01:40<00:39,  7.79it/s]"
     ]
    },
    {
     "name": "stdout",
     "output_type": "stream",
     "text": [
      "Epoch:   4 | Samples:    704/712 | RMSE Loss: 0.5473 | MSE Loss: 0.5137 | target: -3.0940 | pred: -2.9949\n"
     ]
    },
    {
     "name": "stderr",
     "output_type": "stream",
     "text": [
      "Division 4/5:  70%|██████████████████████████████████████████████████████                       | 712/1015 [01:41<00:43,  7.01it/s]\n",
      "Division 4/5:   0%|▏                                                                              | 3/1015 [00:00<01:58,  8.54it/s]"
     ]
    },
    {
     "name": "stdout",
     "output_type": "stream",
     "text": [
      "Epoch:   5 | Samples:      0/712 | RMSE Loss: 0.9084 | MSE Loss: 0.8251 | target: -4.5540 | pred: -3.6456\n"
     ]
    },
    {
     "name": "stderr",
     "output_type": "stream",
     "text": [
      "Division 4/5:   3%|██▌                                                                           | 34/1015 [00:04<02:19,  7.05it/s]"
     ]
    },
    {
     "name": "stdout",
     "output_type": "stream",
     "text": [
      "Epoch:   5 | Samples:     32/712 | RMSE Loss: 0.6041 | MSE Loss: 0.6172 | target: -3.8960 | pred: -5.5222\n"
     ]
    },
    {
     "name": "stderr",
     "output_type": "stream",
     "text": [
      "Division 4/5:   7%|█████                                                                         | 66/1015 [00:09<02:29,  6.36it/s]"
     ]
    },
    {
     "name": "stdout",
     "output_type": "stream",
     "text": [
      "Epoch:   5 | Samples:     64/712 | RMSE Loss: 0.5013 | MSE Loss: 0.4661 | target: -4.1000 | pred: -4.2731\n"
     ]
    },
    {
     "name": "stderr",
     "output_type": "stream",
     "text": [
      "Division 4/5:  10%|███████▌                                                                      | 98/1015 [00:13<02:01,  7.57it/s]"
     ]
    },
    {
     "name": "stdout",
     "output_type": "stream",
     "text": [
      "Epoch:   5 | Samples:     96/712 | RMSE Loss: 0.5563 | MSE Loss: 0.5360 | target: -1.3300 | pred: -1.1467\n"
     ]
    },
    {
     "name": "stderr",
     "output_type": "stream",
     "text": [
      "Division 4/5:  13%|█████████▊                                                                   | 130/1015 [00:17<01:47,  8.22it/s]"
     ]
    },
    {
     "name": "stdout",
     "output_type": "stream",
     "text": [
      "Epoch:   5 | Samples:    128/712 | RMSE Loss: 0.5275 | MSE Loss: 0.4759 | target: 0.0090 | pred: 0.1955\n"
     ]
    },
    {
     "name": "stderr",
     "output_type": "stream",
     "text": [
      "Division 4/5:  16%|████████████▏                                                                | 160/1015 [00:21<01:48,  7.87it/s]"
     ]
    },
    {
     "name": "stdout",
     "output_type": "stream",
     "text": [
      "Epoch:   5 | Samples:    160/712 | RMSE Loss: 0.5237 | MSE Loss: 0.4747 | target: -1.0900 | pred: -1.4079\n"
     ]
    },
    {
     "name": "stderr",
     "output_type": "stream",
     "text": [
      "Division 4/5:  19%|██████████████▋                                                              | 194/1015 [00:26<02:05,  6.56it/s]"
     ]
    },
    {
     "name": "stdout",
     "output_type": "stream",
     "text": [
      "Epoch:   5 | Samples:    192/712 | RMSE Loss: 0.5284 | MSE Loss: 0.4816 | target: -1.3700 | pred: -1.7156\n"
     ]
    },
    {
     "name": "stderr",
     "output_type": "stream",
     "text": [
      "Division 4/5:  22%|█████████████████▏                                                           | 226/1015 [00:31<01:27,  8.97it/s]"
     ]
    },
    {
     "name": "stdout",
     "output_type": "stream",
     "text": [
      "Epoch:   5 | Samples:    224/712 | RMSE Loss: 0.5331 | MSE Loss: 0.4806 | target: -2.0500 | pred: -2.0359\n"
     ]
    },
    {
     "name": "stderr",
     "output_type": "stream",
     "text": [
      "Division 4/5:  25%|███████████████████▍                                                         | 257/1015 [00:36<01:53,  6.67it/s]"
     ]
    },
    {
     "name": "stdout",
     "output_type": "stream",
     "text": [
      "Epoch:   5 | Samples:    256/712 | RMSE Loss: 0.5304 | MSE Loss: 0.4729 | target: -4.4200 | pred: -5.0264\n"
     ]
    },
    {
     "name": "stderr",
     "output_type": "stream",
     "text": [
      "Division 4/5:  28%|█████████████████████▉                                                       | 289/1015 [00:41<02:09,  5.61it/s]"
     ]
    },
    {
     "name": "stdout",
     "output_type": "stream",
     "text": [
      "Epoch:   5 | Samples:    288/712 | RMSE Loss: 0.5322 | MSE Loss: 0.4755 | target: -2.3690 | pred: -2.8826\n"
     ]
    },
    {
     "name": "stderr",
     "output_type": "stream",
     "text": [
      "Division 4/5:  32%|████████████████████████▍                                                    | 322/1015 [00:45<01:27,  7.90it/s]"
     ]
    },
    {
     "name": "stdout",
     "output_type": "stream",
     "text": [
      "Epoch:   5 | Samples:    320/712 | RMSE Loss: 0.5302 | MSE Loss: 0.4743 | target: -3.3500 | pred: -4.1946\n"
     ]
    },
    {
     "name": "stderr",
     "output_type": "stream",
     "text": [
      "Division 4/5:  35%|██████████████████████████▊                                                  | 353/1015 [00:50<02:11,  5.02it/s]"
     ]
    },
    {
     "name": "stdout",
     "output_type": "stream",
     "text": [
      "Epoch:   5 | Samples:    352/712 | RMSE Loss: 0.5407 | MSE Loss: 0.4989 | target: -2.1480 | pred: -1.6963\n"
     ]
    },
    {
     "name": "stderr",
     "output_type": "stream",
     "text": [
      "Division 4/5:  38%|█████████████████████████████▎                                               | 386/1015 [00:56<01:35,  6.60it/s]"
     ]
    },
    {
     "name": "stdout",
     "output_type": "stream",
     "text": [
      "Epoch:   5 | Samples:    384/712 | RMSE Loss: 0.5393 | MSE Loss: 0.4931 | target: -3.4990 | pred: -4.3878\n"
     ]
    },
    {
     "name": "stderr",
     "output_type": "stream",
     "text": [
      "Division 4/5:  41%|███████████████████████████████▋                                             | 417/1015 [01:00<01:04,  9.28it/s]"
     ]
    },
    {
     "name": "stdout",
     "output_type": "stream",
     "text": [
      "Epoch:   5 | Samples:    416/712 | RMSE Loss: 0.5297 | MSE Loss: 0.4789 | target: -1.6140 | pred: -2.2692\n"
     ]
    },
    {
     "name": "stderr",
     "output_type": "stream",
     "text": [
      "Division 4/5:  44%|██████████████████████████████████▏                                          | 450/1015 [01:06<00:56, 10.07it/s]"
     ]
    },
    {
     "name": "stdout",
     "output_type": "stream",
     "text": [
      "Epoch:   5 | Samples:    448/712 | RMSE Loss: 0.5305 | MSE Loss: 0.4750 | target: -4.5600 | pred: -4.1508\n"
     ]
    },
    {
     "name": "stderr",
     "output_type": "stream",
     "text": [
      "Division 4/5:  47%|████████████████████████████████████▍                                        | 481/1015 [01:10<01:01,  8.72it/s]"
     ]
    },
    {
     "name": "stdout",
     "output_type": "stream",
     "text": [
      "Epoch:   5 | Samples:    480/712 | RMSE Loss: 0.5286 | MSE Loss: 0.4684 | target: -2.5100 | pred: -1.4893\n"
     ]
    },
    {
     "name": "stderr",
     "output_type": "stream",
     "text": [
      "Division 4/5:  51%|██████████████████████████████████████▉                                      | 514/1015 [01:14<01:20,  6.22it/s]"
     ]
    },
    {
     "name": "stdout",
     "output_type": "stream",
     "text": [
      "Epoch:   5 | Samples:    512/712 | RMSE Loss: 0.5283 | MSE Loss: 0.4648 | target: -3.3600 | pred: -3.1569\n"
     ]
    },
    {
     "name": "stderr",
     "output_type": "stream",
     "text": [
      "Division 4/5:  54%|█████████████████████████████████████████▍                                   | 546/1015 [01:19<00:57,  8.13it/s]"
     ]
    },
    {
     "name": "stdout",
     "output_type": "stream",
     "text": [
      "Epoch:   5 | Samples:    544/712 | RMSE Loss: 0.5391 | MSE Loss: 0.4965 | target: -7.6800 | pred: -8.3477\n"
     ]
    },
    {
     "name": "stderr",
     "output_type": "stream",
     "text": [
      "Division 4/5:  57%|███████████████████████████████████████████▊                                 | 578/1015 [01:24<01:00,  7.20it/s]"
     ]
    },
    {
     "name": "stdout",
     "output_type": "stream",
     "text": [
      "Epoch:   5 | Samples:    576/712 | RMSE Loss: 0.5384 | MSE Loss: 0.4935 | target: -2.8200 | pred: -2.6651\n"
     ]
    },
    {
     "name": "stderr",
     "output_type": "stream",
     "text": [
      "Division 4/5:  60%|██████████████████████████████████████████████▏                              | 609/1015 [01:28<00:42,  9.53it/s]"
     ]
    },
    {
     "name": "stdout",
     "output_type": "stream",
     "text": [
      "Epoch:   5 | Samples:    608/712 | RMSE Loss: 0.5398 | MSE Loss: 0.4940 | target: -2.0300 | pred: -2.1288\n"
     ]
    },
    {
     "name": "stderr",
     "output_type": "stream",
     "text": [
      "Division 4/5:  63%|████████████████████████████████████████████████▋                            | 642/1015 [01:32<00:34, 10.70it/s]"
     ]
    },
    {
     "name": "stdout",
     "output_type": "stream",
     "text": [
      "Epoch:   5 | Samples:    640/712 | RMSE Loss: 0.5370 | MSE Loss: 0.4900 | target: -2.6800 | pred: -2.5192\n"
     ]
    },
    {
     "name": "stderr",
     "output_type": "stream",
     "text": [
      "Division 4/5:  66%|███████████████████████████████████████████████████▏                         | 674/1015 [01:36<00:45,  7.42it/s]"
     ]
    },
    {
     "name": "stdout",
     "output_type": "stream",
     "text": [
      "Epoch:   5 | Samples:    672/712 | RMSE Loss: 0.5325 | MSE Loss: 0.4809 | target: -3.9530 | pred: -4.5156\n"
     ]
    },
    {
     "name": "stderr",
     "output_type": "stream",
     "text": [
      "Division 4/5:  70%|█████████████████████████████████████████████████████▋                       | 707/1015 [01:40<00:39,  7.83it/s]"
     ]
    },
    {
     "name": "stdout",
     "output_type": "stream",
     "text": [
      "Epoch:   5 | Samples:    704/712 | RMSE Loss: 0.5241 | MSE Loss: 0.4696 | target: -3.0940 | pred: -2.8418\n"
     ]
    },
    {
     "name": "stderr",
     "output_type": "stream",
     "text": [
      "Division 4/5:  70%|██████████████████████████████████████████████████████                       | 712/1015 [01:41<00:43,  7.00it/s]\n",
      "Division 4/5:   0%|▏                                                                              | 3/1015 [00:00<01:57,  8.62it/s]"
     ]
    },
    {
     "name": "stdout",
     "output_type": "stream",
     "text": [
      "Epoch:   6 | Samples:      0/712 | RMSE Loss: 0.7387 | MSE Loss: 0.5457 | target: -4.5540 | pred: -3.8153\n"
     ]
    },
    {
     "name": "stderr",
     "output_type": "stream",
     "text": [
      "Division 4/5:   3%|██▌                                                                           | 34/1015 [00:04<02:18,  7.07it/s]"
     ]
    },
    {
     "name": "stdout",
     "output_type": "stream",
     "text": [
      "Epoch:   6 | Samples:     32/712 | RMSE Loss: 0.5666 | MSE Loss: 0.5463 | target: -3.8960 | pred: -5.4671\n"
     ]
    },
    {
     "name": "stderr",
     "output_type": "stream",
     "text": [
      "Division 4/5:   7%|█████                                                                         | 66/1015 [00:09<02:29,  6.33it/s]"
     ]
    },
    {
     "name": "stdout",
     "output_type": "stream",
     "text": [
      "Epoch:   6 | Samples:     64/712 | RMSE Loss: 0.4656 | MSE Loss: 0.4065 | target: -4.1000 | pred: -4.2177\n"
     ]
    },
    {
     "name": "stderr",
     "output_type": "stream",
     "text": [
      "Division 4/5:  10%|███████▌                                                                      | 98/1015 [00:13<01:59,  7.66it/s]"
     ]
    },
    {
     "name": "stdout",
     "output_type": "stream",
     "text": [
      "Epoch:   6 | Samples:     96/712 | RMSE Loss: 0.5249 | MSE Loss: 0.4840 | target: -1.3300 | pred: -1.2119\n"
     ]
    },
    {
     "name": "stderr",
     "output_type": "stream",
     "text": [
      "Division 4/5:  13%|█████████▊                                                                   | 130/1015 [00:17<01:47,  8.23it/s]"
     ]
    },
    {
     "name": "stdout",
     "output_type": "stream",
     "text": [
      "Epoch:   6 | Samples:    128/712 | RMSE Loss: 0.5017 | MSE Loss: 0.4323 | target: 0.0090 | pred: 0.3671\n"
     ]
    },
    {
     "name": "stderr",
     "output_type": "stream",
     "text": [
      "Division 4/5:  16%|████████████▏                                                                | 160/1015 [00:21<01:48,  7.86it/s]"
     ]
    },
    {
     "name": "stdout",
     "output_type": "stream",
     "text": [
      "Epoch:   6 | Samples:    160/712 | RMSE Loss: 0.4983 | MSE Loss: 0.4310 | target: -1.0900 | pred: -1.4257\n"
     ]
    },
    {
     "name": "stderr",
     "output_type": "stream",
     "text": [
      "Division 4/5:  19%|██████████████▋                                                              | 194/1015 [00:26<02:05,  6.56it/s]"
     ]
    },
    {
     "name": "stdout",
     "output_type": "stream",
     "text": [
      "Epoch:   6 | Samples:    192/712 | RMSE Loss: 0.5009 | MSE Loss: 0.4328 | target: -1.3700 | pred: -1.6534\n"
     ]
    },
    {
     "name": "stderr",
     "output_type": "stream",
     "text": [
      "Division 4/5:  22%|█████████████████▏                                                           | 226/1015 [00:31<01:27,  9.00it/s]"
     ]
    },
    {
     "name": "stdout",
     "output_type": "stream",
     "text": [
      "Epoch:   6 | Samples:    224/712 | RMSE Loss: 0.5050 | MSE Loss: 0.4298 | target: -2.0500 | pred: -2.0110\n"
     ]
    },
    {
     "name": "stderr",
     "output_type": "stream",
     "text": [
      "Division 4/5:  25%|███████████████████▍                                                         | 257/1015 [00:36<01:52,  6.73it/s]"
     ]
    },
    {
     "name": "stdout",
     "output_type": "stream",
     "text": [
      "Epoch:   6 | Samples:    256/712 | RMSE Loss: 0.5032 | MSE Loss: 0.4272 | target: -4.4200 | pred: -4.9694\n"
     ]
    },
    {
     "name": "stderr",
     "output_type": "stream",
     "text": [
      "Division 4/5:  28%|█████████████████████▉                                                       | 289/1015 [00:41<02:09,  5.62it/s]"
     ]
    },
    {
     "name": "stdout",
     "output_type": "stream",
     "text": [
      "Epoch:   6 | Samples:    288/712 | RMSE Loss: 0.5043 | MSE Loss: 0.4300 | target: -2.3690 | pred: -2.8273\n"
     ]
    },
    {
     "name": "stderr",
     "output_type": "stream",
     "text": [
      "Division 4/5:  32%|████████████████████████▍                                                    | 322/1015 [00:45<01:28,  7.85it/s]"
     ]
    },
    {
     "name": "stdout",
     "output_type": "stream",
     "text": [
      "Epoch:   6 | Samples:    320/712 | RMSE Loss: 0.5021 | MSE Loss: 0.4295 | target: -3.3500 | pred: -4.3290\n"
     ]
    },
    {
     "name": "stderr",
     "output_type": "stream",
     "text": [
      "Division 4/5:  35%|██████████████████████████▊                                                  | 353/1015 [00:50<02:13,  4.96it/s]"
     ]
    },
    {
     "name": "stdout",
     "output_type": "stream",
     "text": [
      "Epoch:   6 | Samples:    352/712 | RMSE Loss: 0.5124 | MSE Loss: 0.4521 | target: -2.1480 | pred: -1.7250\n"
     ]
    },
    {
     "name": "stderr",
     "output_type": "stream",
     "text": [
      "Division 4/5:  38%|█████████████████████████████▎                                               | 386/1015 [00:56<01:35,  6.60it/s]"
     ]
    },
    {
     "name": "stdout",
     "output_type": "stream",
     "text": [
      "Epoch:   6 | Samples:    384/712 | RMSE Loss: 0.5126 | MSE Loss: 0.4477 | target: -3.4990 | pred: -4.2956\n"
     ]
    },
    {
     "name": "stderr",
     "output_type": "stream",
     "text": [
      "Division 4/5:  41%|███████████████████████████████▋                                             | 417/1015 [01:00<01:04,  9.24it/s]"
     ]
    },
    {
     "name": "stdout",
     "output_type": "stream",
     "text": [
      "Epoch:   6 | Samples:    416/712 | RMSE Loss: 0.5037 | MSE Loss: 0.4352 | target: -1.6140 | pred: -2.2516\n"
     ]
    },
    {
     "name": "stderr",
     "output_type": "stream",
     "text": [
      "Division 4/5:  44%|██████████████████████████████████▏                                          | 450/1015 [01:06<00:56, 10.04it/s]"
     ]
    },
    {
     "name": "stdout",
     "output_type": "stream",
     "text": [
      "Epoch:   6 | Samples:    448/712 | RMSE Loss: 0.5041 | MSE Loss: 0.4310 | target: -4.5600 | pred: -4.2260\n"
     ]
    },
    {
     "name": "stderr",
     "output_type": "stream",
     "text": [
      "Division 4/5:  47%|████████████████████████████████████▍                                        | 481/1015 [01:10<01:01,  8.69it/s]"
     ]
    },
    {
     "name": "stdout",
     "output_type": "stream",
     "text": [
      "Epoch:   6 | Samples:    480/712 | RMSE Loss: 0.5025 | MSE Loss: 0.4255 | target: -2.5100 | pred: -1.4978\n"
     ]
    },
    {
     "name": "stderr",
     "output_type": "stream",
     "text": [
      "Division 4/5:  51%|██████████████████████████████████████▉                                      | 514/1015 [01:14<01:20,  6.26it/s]"
     ]
    },
    {
     "name": "stdout",
     "output_type": "stream",
     "text": [
      "Epoch:   6 | Samples:    512/712 | RMSE Loss: 0.5024 | MSE Loss: 0.4236 | target: -3.3600 | pred: -3.3500\n"
     ]
    },
    {
     "name": "stderr",
     "output_type": "stream",
     "text": [
      "Division 4/5:  54%|█████████████████████████████████████████▍                                   | 546/1015 [01:19<00:57,  8.09it/s]"
     ]
    },
    {
     "name": "stdout",
     "output_type": "stream",
     "text": [
      "Epoch:   6 | Samples:    544/712 | RMSE Loss: 0.5146 | MSE Loss: 0.4562 | target: -7.6800 | pred: -8.4468\n"
     ]
    },
    {
     "name": "stderr",
     "output_type": "stream",
     "text": [
      "Division 4/5:  57%|███████████████████████████████████████████▊                                 | 578/1015 [01:24<01:00,  7.27it/s]"
     ]
    },
    {
     "name": "stdout",
     "output_type": "stream",
     "text": [
      "Epoch:   6 | Samples:    576/712 | RMSE Loss: 0.5158 | MSE Loss: 0.4554 | target: -2.8200 | pred: -2.5784\n"
     ]
    },
    {
     "name": "stderr",
     "output_type": "stream",
     "text": [
      "Division 4/5:  60%|██████████████████████████████████████████████▏                              | 609/1015 [01:28<00:43,  9.41it/s]"
     ]
    },
    {
     "name": "stdout",
     "output_type": "stream",
     "text": [
      "Epoch:   6 | Samples:    608/712 | RMSE Loss: 0.5164 | MSE Loss: 0.4548 | target: -2.0300 | pred: -2.1536\n"
     ]
    },
    {
     "name": "stderr",
     "output_type": "stream",
     "text": [
      "Division 4/5:  63%|████████████████████████████████████████████████▋                            | 642/1015 [01:32<00:34, 10.81it/s]"
     ]
    },
    {
     "name": "stdout",
     "output_type": "stream",
     "text": [
      "Epoch:   6 | Samples:    640/712 | RMSE Loss: 0.5133 | MSE Loss: 0.4507 | target: -2.6800 | pred: -2.5587\n"
     ]
    },
    {
     "name": "stderr",
     "output_type": "stream",
     "text": [
      "Division 4/5:  66%|███████████████████████████████████████████████████▏                         | 674/1015 [01:36<00:46,  7.37it/s]"
     ]
    },
    {
     "name": "stdout",
     "output_type": "stream",
     "text": [
      "Epoch:   6 | Samples:    672/712 | RMSE Loss: 0.5092 | MSE Loss: 0.4422 | target: -3.9530 | pred: -4.4382\n"
     ]
    },
    {
     "name": "stderr",
     "output_type": "stream",
     "text": [
      "Division 4/5:  70%|█████████████████████████████████████████████████████▋                       | 707/1015 [01:40<00:39,  7.77it/s]"
     ]
    },
    {
     "name": "stdout",
     "output_type": "stream",
     "text": [
      "Epoch:   6 | Samples:    704/712 | RMSE Loss: 0.5012 | MSE Loss: 0.4318 | target: -3.0940 | pred: -2.7440\n"
     ]
    },
    {
     "name": "stderr",
     "output_type": "stream",
     "text": [
      "Division 4/5:  70%|██████████████████████████████████████████████████████                       | 712/1015 [01:41<00:43,  7.01it/s]\n",
      "Division 4/5:   0%|▏                                                                              | 3/1015 [00:00<02:00,  8.41it/s]"
     ]
    },
    {
     "name": "stdout",
     "output_type": "stream",
     "text": [
      "Epoch:   7 | Samples:      0/712 | RMSE Loss: 0.6823 | MSE Loss: 0.4656 | target: -4.5540 | pred: -3.8717\n"
     ]
    },
    {
     "name": "stderr",
     "output_type": "stream",
     "text": [
      "Division 4/5:   3%|██▌                                                                           | 34/1015 [00:04<02:20,  7.00it/s]"
     ]
    },
    {
     "name": "stdout",
     "output_type": "stream",
     "text": [
      "Epoch:   7 | Samples:     32/712 | RMSE Loss: 0.5306 | MSE Loss: 0.4868 | target: -3.8960 | pred: -5.5128\n"
     ]
    },
    {
     "name": "stderr",
     "output_type": "stream",
     "text": [
      "Division 4/5:   7%|█████                                                                         | 66/1015 [00:09<02:29,  6.35it/s]"
     ]
    },
    {
     "name": "stdout",
     "output_type": "stream",
     "text": [
      "Epoch:   7 | Samples:     64/712 | RMSE Loss: 0.4433 | MSE Loss: 0.3656 | target: -4.1000 | pred: -4.1914\n"
     ]
    },
    {
     "name": "stderr",
     "output_type": "stream",
     "text": [
      "Division 4/5:  10%|███████▌                                                                      | 98/1015 [00:13<02:03,  7.45it/s]"
     ]
    },
    {
     "name": "stdout",
     "output_type": "stream",
     "text": [
      "Epoch:   7 | Samples:     96/712 | RMSE Loss: 0.5027 | MSE Loss: 0.4448 | target: -1.3300 | pred: -1.3443\n"
     ]
    },
    {
     "name": "stderr",
     "output_type": "stream",
     "text": [
      "Division 4/5:  13%|█████████▊                                                                   | 130/1015 [00:17<01:47,  8.24it/s]"
     ]
    },
    {
     "name": "stdout",
     "output_type": "stream",
     "text": [
      "Epoch:   7 | Samples:    128/712 | RMSE Loss: 0.4789 | MSE Loss: 0.3977 | target: 0.0090 | pred: 0.3807\n"
     ]
    },
    {
     "name": "stderr",
     "output_type": "stream",
     "text": [
      "Division 4/5:  16%|████████████▏                                                                | 160/1015 [00:21<01:49,  7.82it/s]"
     ]
    },
    {
     "name": "stdout",
     "output_type": "stream",
     "text": [
      "Epoch:   7 | Samples:    160/712 | RMSE Loss: 0.4791 | MSE Loss: 0.3981 | target: -1.0900 | pred: -1.4364\n"
     ]
    },
    {
     "name": "stderr",
     "output_type": "stream",
     "text": [
      "Division 4/5:  19%|██████████████▋                                                              | 194/1015 [00:26<02:04,  6.57it/s]"
     ]
    },
    {
     "name": "stdout",
     "output_type": "stream",
     "text": [
      "Epoch:   7 | Samples:    192/712 | RMSE Loss: 0.4795 | MSE Loss: 0.3945 | target: -1.3700 | pred: -1.6732\n"
     ]
    },
    {
     "name": "stderr",
     "output_type": "stream",
     "text": [
      "Division 4/5:  22%|█████████████████▏                                                           | 226/1015 [00:31<01:27,  9.05it/s]"
     ]
    },
    {
     "name": "stdout",
     "output_type": "stream",
     "text": [
      "Epoch:   7 | Samples:    224/712 | RMSE Loss: 0.4856 | MSE Loss: 0.3943 | target: -2.0500 | pred: -1.9733\n"
     ]
    },
    {
     "name": "stderr",
     "output_type": "stream",
     "text": [
      "Division 4/5:  25%|███████████████████▍                                                         | 257/1015 [00:36<01:54,  6.60it/s]"
     ]
    },
    {
     "name": "stdout",
     "output_type": "stream",
     "text": [
      "Epoch:   7 | Samples:    256/712 | RMSE Loss: 0.4834 | MSE Loss: 0.3931 | target: -4.4200 | pred: -4.8249\n"
     ]
    },
    {
     "name": "stderr",
     "output_type": "stream",
     "text": [
      "Division 4/5:  28%|█████████████████████▉                                                       | 289/1015 [00:41<02:11,  5.52it/s]"
     ]
    },
    {
     "name": "stdout",
     "output_type": "stream",
     "text": [
      "Epoch:   7 | Samples:    288/712 | RMSE Loss: 0.4837 | MSE Loss: 0.3951 | target: -2.3690 | pred: -2.7466\n"
     ]
    },
    {
     "name": "stderr",
     "output_type": "stream",
     "text": [
      "Division 4/5:  32%|████████████████████████▍                                                    | 322/1015 [00:45<01:28,  7.87it/s]"
     ]
    },
    {
     "name": "stdout",
     "output_type": "stream",
     "text": [
      "Epoch:   7 | Samples:    320/712 | RMSE Loss: 0.4825 | MSE Loss: 0.3957 | target: -3.3500 | pred: -4.4344\n"
     ]
    },
    {
     "name": "stderr",
     "output_type": "stream",
     "text": [
      "Division 4/5:  35%|██████████████████████████▊                                                  | 353/1015 [00:51<02:13,  4.95it/s]"
     ]
    },
    {
     "name": "stdout",
     "output_type": "stream",
     "text": [
      "Epoch:   7 | Samples:    352/712 | RMSE Loss: 0.4920 | MSE Loss: 0.4167 | target: -2.1480 | pred: -1.7437\n"
     ]
    },
    {
     "name": "stderr",
     "output_type": "stream",
     "text": [
      "Division 4/5:  38%|█████████████████████████████▎                                               | 386/1015 [00:56<01:37,  6.46it/s]"
     ]
    },
    {
     "name": "stdout",
     "output_type": "stream",
     "text": [
      "Epoch:   7 | Samples:    384/712 | RMSE Loss: 0.4907 | MSE Loss: 0.4111 | target: -3.4990 | pred: -4.1537\n"
     ]
    },
    {
     "name": "stderr",
     "output_type": "stream",
     "text": [
      "Division 4/5:  41%|███████████████████████████████▋                                             | 418/1015 [01:01<01:08,  8.75it/s]"
     ]
    },
    {
     "name": "stdout",
     "output_type": "stream",
     "text": [
      "Epoch:   7 | Samples:    416/712 | RMSE Loss: 0.4820 | MSE Loss: 0.3996 | target: -1.6140 | pred: -2.2223\n"
     ]
    },
    {
     "name": "stderr",
     "output_type": "stream",
     "text": [
      "Division 4/5:  44%|██████████████████████████████████▏                                          | 450/1015 [01:06<00:57,  9.80it/s]"
     ]
    },
    {
     "name": "stdout",
     "output_type": "stream",
     "text": [
      "Epoch:   7 | Samples:    448/712 | RMSE Loss: 0.4822 | MSE Loss: 0.3962 | target: -4.5600 | pred: -4.2699\n"
     ]
    },
    {
     "name": "stderr",
     "output_type": "stream",
     "text": [
      "Division 4/5:  47%|████████████████████████████████████▍                                        | 481/1015 [01:11<01:02,  8.56it/s]"
     ]
    },
    {
     "name": "stdout",
     "output_type": "stream",
     "text": [
      "Epoch:   7 | Samples:    480/712 | RMSE Loss: 0.4814 | MSE Loss: 0.3917 | target: -2.5100 | pred: -1.4881\n"
     ]
    },
    {
     "name": "stderr",
     "output_type": "stream",
     "text": [
      "Division 4/5:  51%|██████████████████████████████████████▉                                      | 514/1015 [01:15<01:20,  6.20it/s]"
     ]
    },
    {
     "name": "stdout",
     "output_type": "stream",
     "text": [
      "Epoch:   7 | Samples:    512/712 | RMSE Loss: 0.4816 | MSE Loss: 0.3911 | target: -3.3600 | pred: -3.4569\n"
     ]
    },
    {
     "name": "stderr",
     "output_type": "stream",
     "text": [
      "Division 4/5:  54%|█████████████████████████████████████████▍                                   | 546/1015 [01:19<00:58,  8.05it/s]"
     ]
    },
    {
     "name": "stdout",
     "output_type": "stream",
     "text": [
      "Epoch:   7 | Samples:    544/712 | RMSE Loss: 0.4953 | MSE Loss: 0.4234 | target: -7.6800 | pred: -8.5683\n"
     ]
    },
    {
     "name": "stderr",
     "output_type": "stream",
     "text": [
      "Division 4/5:  57%|███████████████████████████████████████████▊                                 | 578/1015 [01:25<01:00,  7.20it/s]"
     ]
    },
    {
     "name": "stdout",
     "output_type": "stream",
     "text": [
      "Epoch:   7 | Samples:    576/712 | RMSE Loss: 0.4972 | MSE Loss: 0.4239 | target: -2.8200 | pred: -2.6105\n"
     ]
    },
    {
     "name": "stderr",
     "output_type": "stream",
     "text": [
      "Division 4/5:  60%|██████████████████████████████████████████████▏                              | 609/1015 [01:29<00:43,  9.34it/s]"
     ]
    },
    {
     "name": "stdout",
     "output_type": "stream",
     "text": [
      "Epoch:   7 | Samples:    608/712 | RMSE Loss: 0.4975 | MSE Loss: 0.4234 | target: -2.0300 | pred: -2.1735\n"
     ]
    },
    {
     "name": "stderr",
     "output_type": "stream",
     "text": [
      "Division 4/5:  63%|████████████████████████████████████████████████▋                            | 642/1015 [01:33<00:35, 10.52it/s]"
     ]
    },
    {
     "name": "stdout",
     "output_type": "stream",
     "text": [
      "Epoch:   7 | Samples:    640/712 | RMSE Loss: 0.4943 | MSE Loss: 0.4199 | target: -2.6800 | pred: -2.5747\n"
     ]
    },
    {
     "name": "stderr",
     "output_type": "stream",
     "text": [
      "Division 4/5:  66%|███████████████████████████████████████████████████▏                         | 674/1015 [01:37<00:46,  7.30it/s]"
     ]
    },
    {
     "name": "stdout",
     "output_type": "stream",
     "text": [
      "Epoch:   7 | Samples:    672/712 | RMSE Loss: 0.4908 | MSE Loss: 0.4123 | target: -3.9530 | pred: -4.3065\n"
     ]
    },
    {
     "name": "stderr",
     "output_type": "stream",
     "text": [
      "Division 4/5:  70%|█████████████████████████████████████████████████████▋                       | 707/1015 [01:41<00:39,  7.70it/s]"
     ]
    },
    {
     "name": "stdout",
     "output_type": "stream",
     "text": [
      "Epoch:   7 | Samples:    704/712 | RMSE Loss: 0.4827 | MSE Loss: 0.4021 | target: -3.0940 | pred: -2.7427\n"
     ]
    },
    {
     "name": "stderr",
     "output_type": "stream",
     "text": [
      "Division 4/5:  70%|██████████████████████████████████████████████████████                       | 712/1015 [01:42<00:43,  6.94it/s]\n",
      "Division 4/5:   0%|▏                                                                              | 3/1015 [00:00<02:00,  8.41it/s]"
     ]
    },
    {
     "name": "stdout",
     "output_type": "stream",
     "text": [
      "Epoch:   8 | Samples:      0/712 | RMSE Loss: 0.6662 | MSE Loss: 0.4439 | target: -4.5540 | pred: -3.8878\n"
     ]
    },
    {
     "name": "stderr",
     "output_type": "stream",
     "text": [
      "Division 4/5:   3%|██▌                                                                           | 34/1015 [00:04<02:20,  6.98it/s]"
     ]
    },
    {
     "name": "stdout",
     "output_type": "stream",
     "text": [
      "Epoch:   8 | Samples:     32/712 | RMSE Loss: 0.5186 | MSE Loss: 0.4645 | target: -3.8960 | pred: -5.5470\n"
     ]
    },
    {
     "name": "stderr",
     "output_type": "stream",
     "text": [
      "Division 4/5:   7%|█████                                                                         | 66/1015 [00:09<02:29,  6.34it/s]"
     ]
    },
    {
     "name": "stdout",
     "output_type": "stream",
     "text": [
      "Epoch:   8 | Samples:     64/712 | RMSE Loss: 0.4274 | MSE Loss: 0.3441 | target: -4.1000 | pred: -4.1600\n"
     ]
    },
    {
     "name": "stderr",
     "output_type": "stream",
     "text": [
      "Division 4/5:  10%|███████▌                                                                      | 98/1015 [00:13<02:02,  7.46it/s]"
     ]
    },
    {
     "name": "stdout",
     "output_type": "stream",
     "text": [
      "Epoch:   8 | Samples:     96/712 | RMSE Loss: 0.4826 | MSE Loss: 0.4162 | target: -1.3300 | pred: -1.3030\n"
     ]
    },
    {
     "name": "stderr",
     "output_type": "stream",
     "text": [
      "Division 4/5:  13%|█████████▊                                                                   | 130/1015 [00:17<01:48,  8.15it/s]"
     ]
    },
    {
     "name": "stdout",
     "output_type": "stream",
     "text": [
      "Epoch:   8 | Samples:    128/712 | RMSE Loss: 0.4623 | MSE Loss: 0.3725 | target: 0.0090 | pred: 0.6403\n"
     ]
    },
    {
     "name": "stderr",
     "output_type": "stream",
     "text": [
      "Division 4/5:  16%|████████████▏                                                                | 160/1015 [00:21<01:50,  7.77it/s]"
     ]
    },
    {
     "name": "stdout",
     "output_type": "stream",
     "text": [
      "Epoch:   8 | Samples:    160/712 | RMSE Loss: 0.4612 | MSE Loss: 0.3699 | target: -1.0900 | pred: -1.4330\n"
     ]
    },
    {
     "name": "stderr",
     "output_type": "stream",
     "text": [
      "Division 4/5:  19%|██████████████▋                                                              | 194/1015 [00:27<02:05,  6.57it/s]"
     ]
    },
    {
     "name": "stdout",
     "output_type": "stream",
     "text": [
      "Epoch:   8 | Samples:    192/712 | RMSE Loss: 0.4607 | MSE Loss: 0.3642 | target: -1.3700 | pred: -1.7380\n"
     ]
    },
    {
     "name": "stderr",
     "output_type": "stream",
     "text": [
      "Division 4/5:  22%|█████████████████▏                                                           | 226/1015 [00:31<01:28,  8.96it/s]"
     ]
    },
    {
     "name": "stdout",
     "output_type": "stream",
     "text": [
      "Epoch:   8 | Samples:    224/712 | RMSE Loss: 0.4688 | MSE Loss: 0.3683 | target: -2.0500 | pred: -2.0242\n"
     ]
    },
    {
     "name": "stderr",
     "output_type": "stream",
     "text": [
      "Division 4/5:  25%|███████████████████▍                                                         | 257/1015 [00:36<01:54,  6.60it/s]"
     ]
    },
    {
     "name": "stdout",
     "output_type": "stream",
     "text": [
      "Epoch:   8 | Samples:    256/712 | RMSE Loss: 0.4704 | MSE Loss: 0.3726 | target: -4.4200 | pred: -4.9767\n"
     ]
    },
    {
     "name": "stderr",
     "output_type": "stream",
     "text": [
      "Division 4/5:  28%|█████████████████████▉                                                       | 289/1015 [00:41<02:12,  5.48it/s]"
     ]
    },
    {
     "name": "stdout",
     "output_type": "stream",
     "text": [
      "Epoch:   8 | Samples:    288/712 | RMSE Loss: 0.4713 | MSE Loss: 0.3755 | target: -2.3690 | pred: -2.6772\n"
     ]
    },
    {
     "name": "stderr",
     "output_type": "stream",
     "text": [
      "Division 4/5:  32%|████████████████████████▌                                                    | 323/1015 [00:45<01:23,  8.28it/s]"
     ]
    },
    {
     "name": "stdout",
     "output_type": "stream",
     "text": [
      "Epoch:   8 | Samples:    320/712 | RMSE Loss: 0.4688 | MSE Loss: 0.3745 | target: -3.3500 | pred: -4.4200\n"
     ]
    },
    {
     "name": "stderr",
     "output_type": "stream",
     "text": [
      "Division 4/5:  35%|██████████████████████████▊                                                  | 353/1015 [00:51<02:13,  4.96it/s]"
     ]
    },
    {
     "name": "stdout",
     "output_type": "stream",
     "text": [
      "Epoch:   8 | Samples:    352/712 | RMSE Loss: 0.4763 | MSE Loss: 0.3924 | target: -2.1480 | pred: -1.7124\n"
     ]
    },
    {
     "name": "stderr",
     "output_type": "stream",
     "text": [
      "Division 4/5:  38%|█████████████████████████████▎                                               | 386/1015 [00:57<01:41,  6.20it/s]"
     ]
    },
    {
     "name": "stdout",
     "output_type": "stream",
     "text": [
      "Epoch:   8 | Samples:    384/712 | RMSE Loss: 0.4758 | MSE Loss: 0.3883 | target: -3.4990 | pred: -4.1372\n"
     ]
    },
    {
     "name": "stderr",
     "output_type": "stream",
     "text": [
      "Division 4/5:  41%|███████████████████████████████▋                                             | 418/1015 [01:01<01:09,  8.58it/s]"
     ]
    },
    {
     "name": "stdout",
     "output_type": "stream",
     "text": [
      "Epoch:   8 | Samples:    416/712 | RMSE Loss: 0.4679 | MSE Loss: 0.3776 | target: -1.6140 | pred: -2.1605\n"
     ]
    },
    {
     "name": "stderr",
     "output_type": "stream",
     "text": [
      "Division 4/5:  44%|██████████████████████████████████▏                                          | 450/1015 [01:06<00:57,  9.86it/s]"
     ]
    },
    {
     "name": "stdout",
     "output_type": "stream",
     "text": [
      "Epoch:   8 | Samples:    448/712 | RMSE Loss: 0.4679 | MSE Loss: 0.3739 | target: -4.5600 | pred: -4.3543\n"
     ]
    },
    {
     "name": "stderr",
     "output_type": "stream",
     "text": [
      "Division 4/5:  47%|████████████████████████████████████▍                                        | 481/1015 [01:11<01:03,  8.46it/s]"
     ]
    },
    {
     "name": "stdout",
     "output_type": "stream",
     "text": [
      "Epoch:   8 | Samples:    480/712 | RMSE Loss: 0.4669 | MSE Loss: 0.3693 | target: -2.5100 | pred: -1.5177\n"
     ]
    },
    {
     "name": "stderr",
     "output_type": "stream",
     "text": [
      "Division 4/5:  51%|██████████████████████████████████████▉                                      | 513/1015 [01:15<01:16,  6.59it/s]"
     ]
    },
    {
     "name": "stdout",
     "output_type": "stream",
     "text": [
      "Epoch:   8 | Samples:    512/712 | RMSE Loss: 0.4675 | MSE Loss: 0.3691 | target: -3.3600 | pred: -3.5386\n"
     ]
    },
    {
     "name": "stderr",
     "output_type": "stream",
     "text": [
      "Division 4/5:  54%|█████████████████████████████████████████▍                                   | 546/1015 [01:20<00:58,  7.98it/s]"
     ]
    },
    {
     "name": "stdout",
     "output_type": "stream",
     "text": [
      "Epoch:   8 | Samples:    544/712 | RMSE Loss: 0.4823 | MSE Loss: 0.4018 | target: -7.6800 | pred: -8.6139\n"
     ]
    },
    {
     "name": "stderr",
     "output_type": "stream",
     "text": [
      "Division 4/5:  57%|███████████████████████████████████████████▊                                 | 578/1015 [01:25<01:00,  7.22it/s]"
     ]
    },
    {
     "name": "stdout",
     "output_type": "stream",
     "text": [
      "Epoch:   8 | Samples:    576/712 | RMSE Loss: 0.4846 | MSE Loss: 0.4029 | target: -2.8200 | pred: -2.6382\n"
     ]
    },
    {
     "name": "stderr",
     "output_type": "stream",
     "text": [
      "Division 4/5:  60%|██████████████████████████████████████████████▏                              | 609/1015 [01:29<00:43,  9.24it/s]"
     ]
    },
    {
     "name": "stdout",
     "output_type": "stream",
     "text": [
      "Epoch:   8 | Samples:    608/712 | RMSE Loss: 0.4846 | MSE Loss: 0.4016 | target: -2.0300 | pred: -2.2023\n"
     ]
    },
    {
     "name": "stderr",
     "output_type": "stream",
     "text": [
      "Division 4/5:  63%|████████████████████████████████████████████████▋                            | 642/1015 [01:33<00:33, 11.12it/s]"
     ]
    },
    {
     "name": "stdout",
     "output_type": "stream",
     "text": [
      "Epoch:   8 | Samples:    640/712 | RMSE Loss: 0.4809 | MSE Loss: 0.3973 | target: -2.6800 | pred: -2.5884\n"
     ]
    },
    {
     "name": "stderr",
     "output_type": "stream",
     "text": [
      "Division 4/5:  66%|███████████████████████████████████████████████████▏                         | 674/1015 [01:38<00:46,  7.31it/s]"
     ]
    },
    {
     "name": "stdout",
     "output_type": "stream",
     "text": [
      "Epoch:   8 | Samples:    672/712 | RMSE Loss: 0.4770 | MSE Loss: 0.3896 | target: -3.9530 | pred: -4.2200\n"
     ]
    },
    {
     "name": "stderr",
     "output_type": "stream",
     "text": [
      "Division 4/5:  70%|█████████████████████████████████████████████████████▋                       | 707/1015 [01:41<00:40,  7.70it/s]"
     ]
    },
    {
     "name": "stdout",
     "output_type": "stream",
     "text": [
      "Epoch:   8 | Samples:    704/712 | RMSE Loss: 0.4691 | MSE Loss: 0.3801 | target: -3.0940 | pred: -2.7629\n"
     ]
    },
    {
     "name": "stderr",
     "output_type": "stream",
     "text": [
      "Division 4/5:  70%|██████████████████████████████████████████████████████                       | 712/1015 [01:42<00:43,  6.91it/s]\n",
      "Division 4/5:   0%|▏                                                                              | 3/1015 [00:00<01:59,  8.44it/s]"
     ]
    },
    {
     "name": "stdout",
     "output_type": "stream",
     "text": [
      "Epoch:   9 | Samples:      0/712 | RMSE Loss: 0.5829 | MSE Loss: 0.3398 | target: -4.5540 | pred: -3.9711\n"
     ]
    },
    {
     "name": "stderr",
     "output_type": "stream",
     "text": [
      "Division 4/5:   3%|██▌                                                                           | 34/1015 [00:04<02:22,  6.91it/s]"
     ]
    },
    {
     "name": "stdout",
     "output_type": "stream",
     "text": [
      "Epoch:   9 | Samples:     32/712 | RMSE Loss: 0.5272 | MSE Loss: 0.4560 | target: -3.8960 | pred: -5.3984\n"
     ]
    },
    {
     "name": "stderr",
     "output_type": "stream",
     "text": [
      "Division 4/5:   7%|█████                                                                         | 66/1015 [00:09<02:34,  6.16it/s]"
     ]
    },
    {
     "name": "stdout",
     "output_type": "stream",
     "text": [
      "Epoch:   9 | Samples:     64/712 | RMSE Loss: 0.4230 | MSE Loss: 0.3302 | target: -4.1000 | pred: -4.0782\n"
     ]
    },
    {
     "name": "stderr",
     "output_type": "stream",
     "text": [
      "Division 4/5:  10%|███████▌                                                                      | 98/1015 [00:13<02:03,  7.42it/s]"
     ]
    },
    {
     "name": "stdout",
     "output_type": "stream",
     "text": [
      "Epoch:   9 | Samples:     96/712 | RMSE Loss: 0.4755 | MSE Loss: 0.3992 | target: -1.3300 | pred: -1.4186\n"
     ]
    },
    {
     "name": "stderr",
     "output_type": "stream",
     "text": [
      "Division 4/5:  13%|█████████▊                                                                   | 130/1015 [00:18<01:50,  7.99it/s]"
     ]
    },
    {
     "name": "stdout",
     "output_type": "stream",
     "text": [
      "Epoch:   9 | Samples:    128/712 | RMSE Loss: 0.4525 | MSE Loss: 0.3546 | target: 0.0090 | pred: 0.7252\n"
     ]
    },
    {
     "name": "stderr",
     "output_type": "stream",
     "text": [
      "Division 4/5:  16%|████████████▏                                                                | 160/1015 [00:22<01:50,  7.76it/s]"
     ]
    },
    {
     "name": "stdout",
     "output_type": "stream",
     "text": [
      "Epoch:   9 | Samples:    160/712 | RMSE Loss: 0.4483 | MSE Loss: 0.3475 | target: -1.0900 | pred: -1.4044\n"
     ]
    },
    {
     "name": "stderr",
     "output_type": "stream",
     "text": [
      "Division 4/5:  19%|██████████████▋                                                              | 194/1015 [00:27<02:08,  6.37it/s]"
     ]
    },
    {
     "name": "stdout",
     "output_type": "stream",
     "text": [
      "Epoch:   9 | Samples:    192/712 | RMSE Loss: 0.4504 | MSE Loss: 0.3451 | target: -1.3700 | pred: -1.8008\n"
     ]
    },
    {
     "name": "stderr",
     "output_type": "stream",
     "text": [
      "Division 4/5:  22%|█████████████████▏                                                           | 226/1015 [00:31<01:29,  8.86it/s]"
     ]
    },
    {
     "name": "stdout",
     "output_type": "stream",
     "text": [
      "Epoch:   9 | Samples:    224/712 | RMSE Loss: 0.4621 | MSE Loss: 0.3528 | target: -2.0500 | pred: -2.1054\n"
     ]
    },
    {
     "name": "stderr",
     "output_type": "stream",
     "text": [
      "Division 4/5:  25%|███████████████████▍                                                         | 257/1015 [00:37<02:10,  5.82it/s]"
     ]
    },
    {
     "name": "stdout",
     "output_type": "stream",
     "text": [
      "Epoch:   9 | Samples:    256/712 | RMSE Loss: 0.4674 | MSE Loss: 0.3631 | target: -4.4200 | pred: -5.2300\n"
     ]
    },
    {
     "name": "stderr",
     "output_type": "stream",
     "text": [
      "Division 4/5:  28%|█████████████████████▉                                                       | 289/1015 [00:42<02:12,  5.50it/s]"
     ]
    },
    {
     "name": "stdout",
     "output_type": "stream",
     "text": [
      "Epoch:   9 | Samples:    288/712 | RMSE Loss: 0.4675 | MSE Loss: 0.3660 | target: -2.3690 | pred: -2.6279\n"
     ]
    },
    {
     "name": "stderr",
     "output_type": "stream",
     "text": [
      "Division 4/5:  32%|████████████████████████▍                                                    | 322/1015 [00:46<01:28,  7.80it/s]"
     ]
    },
    {
     "name": "stdout",
     "output_type": "stream",
     "text": [
      "Epoch:   9 | Samples:    320/712 | RMSE Loss: 0.4657 | MSE Loss: 0.3665 | target: -3.3500 | pred: -4.3473\n"
     ]
    },
    {
     "name": "stderr",
     "output_type": "stream",
     "text": [
      "Division 4/5:  35%|██████████████████████████▊                                                  | 353/1015 [00:51<02:16,  4.85it/s]"
     ]
    },
    {
     "name": "stdout",
     "output_type": "stream",
     "text": [
      "Epoch:   9 | Samples:    352/712 | RMSE Loss: 0.4728 | MSE Loss: 0.3838 | target: -2.1480 | pred: -1.7283\n"
     ]
    },
    {
     "name": "stderr",
     "output_type": "stream",
     "text": [
      "Division 4/5:  38%|█████████████████████████████▎                                               | 386/1015 [00:57<01:37,  6.47it/s]"
     ]
    },
    {
     "name": "stdout",
     "output_type": "stream",
     "text": [
      "Epoch:   9 | Samples:    384/712 | RMSE Loss: 0.4702 | MSE Loss: 0.3773 | target: -3.4990 | pred: -4.1154\n"
     ]
    },
    {
     "name": "stderr",
     "output_type": "stream",
     "text": [
      "Division 4/5:  41%|███████████████████████████████▋                                             | 418/1015 [01:01<01:08,  8.67it/s]"
     ]
    },
    {
     "name": "stdout",
     "output_type": "stream",
     "text": [
      "Epoch:   9 | Samples:    416/712 | RMSE Loss: 0.4612 | MSE Loss: 0.3666 | target: -1.6140 | pred: -2.0906\n"
     ]
    },
    {
     "name": "stderr",
     "output_type": "stream",
     "text": [
      "Division 4/5:  44%|██████████████████████████████████▏                                          | 450/1015 [01:07<00:57,  9.84it/s]"
     ]
    },
    {
     "name": "stdout",
     "output_type": "stream",
     "text": [
      "Epoch:   9 | Samples:    448/712 | RMSE Loss: 0.4608 | MSE Loss: 0.3623 | target: -4.5600 | pred: -4.3702\n"
     ]
    },
    {
     "name": "stderr",
     "output_type": "stream",
     "text": [
      "Division 4/5:  47%|████████████████████████████████████▍                                        | 481/1015 [01:11<01:02,  8.55it/s]"
     ]
    },
    {
     "name": "stdout",
     "output_type": "stream",
     "text": [
      "Epoch:   9 | Samples:    480/712 | RMSE Loss: 0.4593 | MSE Loss: 0.3570 | target: -2.5100 | pred: -1.5714\n"
     ]
    },
    {
     "name": "stderr",
     "output_type": "stream",
     "text": [
      "Division 4/5:  51%|██████████████████████████████████████▉                                      | 513/1015 [01:15<01:15,  6.67it/s]"
     ]
    },
    {
     "name": "stdout",
     "output_type": "stream",
     "text": [
      "Epoch:   9 | Samples:    512/712 | RMSE Loss: 0.4595 | MSE Loss: 0.3567 | target: -3.3600 | pred: -3.6505\n"
     ]
    },
    {
     "name": "stderr",
     "output_type": "stream",
     "text": [
      "Division 4/5:  54%|█████████████████████████████████████████▍                                   | 546/1015 [01:20<00:58,  8.07it/s]"
     ]
    },
    {
     "name": "stdout",
     "output_type": "stream",
     "text": [
      "Epoch:   9 | Samples:    544/712 | RMSE Loss: 0.4743 | MSE Loss: 0.3880 | target: -7.6800 | pred: -8.6279\n"
     ]
    },
    {
     "name": "stderr",
     "output_type": "stream",
     "text": [
      "Division 4/5:  57%|███████████████████████████████████████████▊                                 | 578/1015 [01:25<01:00,  7.22it/s]"
     ]
    },
    {
     "name": "stdout",
     "output_type": "stream",
     "text": [
      "Epoch:   9 | Samples:    576/712 | RMSE Loss: 0.4761 | MSE Loss: 0.3879 | target: -2.8200 | pred: -2.7085\n"
     ]
    },
    {
     "name": "stderr",
     "output_type": "stream",
     "text": [
      "Division 4/5:  60%|██████████████████████████████████████████████▏                              | 609/1015 [01:29<00:43,  9.32it/s]"
     ]
    },
    {
     "name": "stdout",
     "output_type": "stream",
     "text": [
      "Epoch:   9 | Samples:    608/712 | RMSE Loss: 0.4769 | MSE Loss: 0.3868 | target: -2.0300 | pred: -2.2714\n"
     ]
    },
    {
     "name": "stderr",
     "output_type": "stream",
     "text": [
      "Division 4/5:  63%|████████████████████████████████████████████████▋                            | 642/1015 [01:33<00:34, 10.66it/s]"
     ]
    },
    {
     "name": "stdout",
     "output_type": "stream",
     "text": [
      "Epoch:   9 | Samples:    640/712 | RMSE Loss: 0.4732 | MSE Loss: 0.3826 | target: -2.6800 | pred: -2.5845\n"
     ]
    },
    {
     "name": "stderr",
     "output_type": "stream",
     "text": [
      "Division 4/5:  66%|███████████████████████████████████████████████████▏                         | 674/1015 [01:38<00:46,  7.27it/s]"
     ]
    },
    {
     "name": "stdout",
     "output_type": "stream",
     "text": [
      "Epoch:   9 | Samples:    672/712 | RMSE Loss: 0.4673 | MSE Loss: 0.3739 | target: -3.9530 | pred: -4.1563\n"
     ]
    },
    {
     "name": "stderr",
     "output_type": "stream",
     "text": [
      "Division 4/5:  70%|█████████████████████████████████████████████████████▋                       | 707/1015 [01:42<00:39,  7.75it/s]"
     ]
    },
    {
     "name": "stdout",
     "output_type": "stream",
     "text": [
      "Epoch:   9 | Samples:    704/712 | RMSE Loss: 0.4602 | MSE Loss: 0.3657 | target: -3.0940 | pred: -2.7439\n"
     ]
    },
    {
     "name": "stderr",
     "output_type": "stream",
     "text": [
      "Division 4/5:  70%|██████████████████████████████████████████████████████                       | 712/1015 [01:43<00:43,  6.89it/s]\n",
      "Division 5/5:   0%|▏                                                                              | 3/1015 [00:00<02:02,  8.29it/s]"
     ]
    },
    {
     "name": "stdout",
     "output_type": "stream",
     "text": [
      "Epoch:   0 | Samples:      0/916 | RMSE Loss: 4.4654 | MSE Loss: 19.9399 | target: -4.5540 | pred: -0.0886\n"
     ]
    },
    {
     "name": "stderr",
     "output_type": "stream",
     "text": [
      "Division 5/5:   3%|██▌                                                                           | 34/1015 [00:04<02:20,  6.96it/s]"
     ]
    },
    {
     "name": "stdout",
     "output_type": "stream",
     "text": [
      "Epoch:   0 | Samples:     32/916 | RMSE Loss: 1.6799 | MSE Loss: 5.0449 | target: -3.8960 | pred: -7.3002\n"
     ]
    },
    {
     "name": "stderr",
     "output_type": "stream",
     "text": [
      "Division 5/5:   7%|█████                                                                         | 66/1015 [00:09<02:31,  6.28it/s]"
     ]
    },
    {
     "name": "stdout",
     "output_type": "stream",
     "text": [
      "Epoch:   0 | Samples:     64/916 | RMSE Loss: 1.4073 | MSE Loss: 3.5370 | target: -4.1000 | pred: -5.3947\n"
     ]
    },
    {
     "name": "stderr",
     "output_type": "stream",
     "text": [
      "Division 5/5:  10%|███████▌                                                                      | 98/1015 [00:13<02:03,  7.41it/s]"
     ]
    },
    {
     "name": "stdout",
     "output_type": "stream",
     "text": [
      "Epoch:   0 | Samples:     96/916 | RMSE Loss: 1.3723 | MSE Loss: 3.2767 | target: -1.3300 | pred: -1.4091\n"
     ]
    },
    {
     "name": "stderr",
     "output_type": "stream",
     "text": [
      "Division 5/5:  13%|█████████▊                                                                   | 130/1015 [00:17<01:47,  8.21it/s]"
     ]
    },
    {
     "name": "stdout",
     "output_type": "stream",
     "text": [
      "Epoch:   0 | Samples:    128/916 | RMSE Loss: 1.2455 | MSE Loss: 2.7406 | target: 0.0090 | pred: -2.0942\n"
     ]
    },
    {
     "name": "stderr",
     "output_type": "stream",
     "text": [
      "Division 5/5:  16%|████████████▏                                                                | 160/1015 [00:22<01:50,  7.72it/s]"
     ]
    },
    {
     "name": "stdout",
     "output_type": "stream",
     "text": [
      "Epoch:   0 | Samples:    160/916 | RMSE Loss: 1.2574 | MSE Loss: 2.7252 | target: -1.0900 | pred: -2.0815\n"
     ]
    },
    {
     "name": "stderr",
     "output_type": "stream",
     "text": [
      "Division 5/5:  19%|██████████████▋                                                              | 194/1015 [00:27<02:05,  6.55it/s]"
     ]
    },
    {
     "name": "stdout",
     "output_type": "stream",
     "text": [
      "Epoch:   0 | Samples:    192/916 | RMSE Loss: 1.3062 | MSE Loss: 3.0050 | target: -1.3700 | pred: -1.5672\n"
     ]
    },
    {
     "name": "stderr",
     "output_type": "stream",
     "text": [
      "Division 5/5:  22%|█████████████████▏                                                           | 226/1015 [00:31<01:28,  8.92it/s]"
     ]
    },
    {
     "name": "stdout",
     "output_type": "stream",
     "text": [
      "Epoch:   0 | Samples:    224/916 | RMSE Loss: 1.2958 | MSE Loss: 3.0178 | target: -2.0500 | pred: -2.8201\n"
     ]
    },
    {
     "name": "stderr",
     "output_type": "stream",
     "text": [
      "Division 5/5:  25%|███████████████████▍                                                         | 257/1015 [00:36<01:55,  6.57it/s]"
     ]
    },
    {
     "name": "stdout",
     "output_type": "stream",
     "text": [
      "Epoch:   0 | Samples:    256/916 | RMSE Loss: 1.3206 | MSE Loss: 3.0069 | target: -4.4200 | pred: -6.2089\n"
     ]
    },
    {
     "name": "stderr",
     "output_type": "stream",
     "text": [
      "Division 5/5:  28%|█████████████████████▉                                                       | 289/1015 [00:41<02:11,  5.53it/s]"
     ]
    },
    {
     "name": "stdout",
     "output_type": "stream",
     "text": [
      "Epoch:   0 | Samples:    288/916 | RMSE Loss: 1.3200 | MSE Loss: 2.9861 | target: -2.3690 | pred: -2.4104\n"
     ]
    },
    {
     "name": "stderr",
     "output_type": "stream",
     "text": [
      "Division 5/5:  32%|████████████████████████▍                                                    | 322/1015 [00:46<01:28,  7.80it/s]"
     ]
    },
    {
     "name": "stdout",
     "output_type": "stream",
     "text": [
      "Epoch:   0 | Samples:    320/916 | RMSE Loss: 1.2954 | MSE Loss: 2.8739 | target: -3.3500 | pred: -4.1269\n"
     ]
    },
    {
     "name": "stderr",
     "output_type": "stream",
     "text": [
      "Division 5/5:  35%|██████████████████████████▊                                                  | 353/1015 [00:51<02:13,  4.96it/s]"
     ]
    },
    {
     "name": "stdout",
     "output_type": "stream",
     "text": [
      "Epoch:   0 | Samples:    352/916 | RMSE Loss: 1.2660 | MSE Loss: 2.7616 | target: -2.1480 | pred: -1.9662\n"
     ]
    },
    {
     "name": "stderr",
     "output_type": "stream",
     "text": [
      "Division 5/5:  38%|█████████████████████████████▎                                               | 386/1015 [00:57<01:37,  6.44it/s]"
     ]
    },
    {
     "name": "stdout",
     "output_type": "stream",
     "text": [
      "Epoch:   0 | Samples:    384/916 | RMSE Loss: 1.2865 | MSE Loss: 2.8399 | target: -3.4990 | pred: -4.2187\n"
     ]
    },
    {
     "name": "stderr",
     "output_type": "stream",
     "text": [
      "Division 5/5:  41%|███████████████████████████████▋                                             | 418/1015 [01:01<01:08,  8.70it/s]"
     ]
    },
    {
     "name": "stdout",
     "output_type": "stream",
     "text": [
      "Epoch:   0 | Samples:    416/916 | RMSE Loss: 1.2785 | MSE Loss: 2.8066 | target: -1.6140 | pred: -1.9356\n"
     ]
    },
    {
     "name": "stderr",
     "output_type": "stream",
     "text": [
      "Division 5/5:  44%|██████████████████████████████████▏                                          | 450/1015 [01:06<00:57,  9.82it/s]"
     ]
    },
    {
     "name": "stdout",
     "output_type": "stream",
     "text": [
      "Epoch:   0 | Samples:    448/916 | RMSE Loss: 1.2754 | MSE Loss: 2.7945 | target: -4.5600 | pred: -3.3289\n"
     ]
    },
    {
     "name": "stderr",
     "output_type": "stream",
     "text": [
      "Division 5/5:  47%|████████████████████████████████████▍                                        | 481/1015 [01:11<01:02,  8.53it/s]"
     ]
    },
    {
     "name": "stdout",
     "output_type": "stream",
     "text": [
      "Epoch:   0 | Samples:    480/916 | RMSE Loss: 1.2745 | MSE Loss: 2.7564 | target: -2.5100 | pred: -2.7289\n"
     ]
    },
    {
     "name": "stderr",
     "output_type": "stream",
     "text": [
      "Division 5/5:  51%|██████████████████████████████████████▉                                      | 513/1015 [01:15<01:16,  6.55it/s]"
     ]
    },
    {
     "name": "stdout",
     "output_type": "stream",
     "text": [
      "Epoch:   0 | Samples:    512/916 | RMSE Loss: 1.2529 | MSE Loss: 2.6618 | target: -3.3600 | pred: -3.1151\n"
     ]
    },
    {
     "name": "stderr",
     "output_type": "stream",
     "text": [
      "Division 5/5:  54%|█████████████████████████████████████████▍                                   | 546/1015 [01:20<00:58,  7.96it/s]"
     ]
    },
    {
     "name": "stdout",
     "output_type": "stream",
     "text": [
      "Epoch:   0 | Samples:    544/916 | RMSE Loss: 1.2489 | MSE Loss: 2.6713 | target: -7.6800 | pred: -5.4766\n"
     ]
    },
    {
     "name": "stderr",
     "output_type": "stream",
     "text": [
      "Division 5/5:  57%|███████████████████████████████████████████▊                                 | 578/1015 [01:25<01:00,  7.22it/s]"
     ]
    },
    {
     "name": "stdout",
     "output_type": "stream",
     "text": [
      "Epoch:   0 | Samples:    576/916 | RMSE Loss: 1.2332 | MSE Loss: 2.5949 | target: -2.8200 | pred: -2.5205\n"
     ]
    },
    {
     "name": "stderr",
     "output_type": "stream",
     "text": [
      "Division 5/5:  60%|██████████████████████████████████████████████▏                              | 609/1015 [01:29<00:43,  9.39it/s]"
     ]
    },
    {
     "name": "stdout",
     "output_type": "stream",
     "text": [
      "Epoch:   0 | Samples:    608/916 | RMSE Loss: 1.2247 | MSE Loss: 2.5472 | target: -2.0300 | pred: -2.4069\n"
     ]
    },
    {
     "name": "stderr",
     "output_type": "stream",
     "text": [
      "Division 5/5:  63%|████████████████████████████████████████████████▋                            | 642/1015 [01:33<00:35, 10.66it/s]"
     ]
    },
    {
     "name": "stdout",
     "output_type": "stream",
     "text": [
      "Epoch:   0 | Samples:    640/916 | RMSE Loss: 1.2067 | MSE Loss: 2.4854 | target: -2.6800 | pred: -1.9376\n"
     ]
    },
    {
     "name": "stderr",
     "output_type": "stream",
     "text": [
      "Division 5/5:  66%|███████████████████████████████████████████████████▏                         | 674/1015 [01:38<00:46,  7.31it/s]"
     ]
    },
    {
     "name": "stdout",
     "output_type": "stream",
     "text": [
      "Epoch:   0 | Samples:    672/916 | RMSE Loss: 1.1852 | MSE Loss: 2.4109 | target: -3.9530 | pred: -4.1774\n"
     ]
    },
    {
     "name": "stderr",
     "output_type": "stream",
     "text": [
      "Division 5/5:  70%|█████████████████████████████████████████████████████▋                       | 707/1015 [01:41<00:40,  7.69it/s]"
     ]
    },
    {
     "name": "stdout",
     "output_type": "stream",
     "text": [
      "Epoch:   0 | Samples:    704/916 | RMSE Loss: 1.1682 | MSE Loss: 2.3399 | target: -3.0940 | pred: -3.7715\n"
     ]
    },
    {
     "name": "stderr",
     "output_type": "stream",
     "text": [
      "Division 5/5:  73%|███████████████████████████████████████████████████████▉                     | 738/1015 [01:45<00:36,  7.57it/s]"
     ]
    },
    {
     "name": "stdout",
     "output_type": "stream",
     "text": [
      "Epoch:   0 | Samples:    736/916 | RMSE Loss: 1.1552 | MSE Loss: 2.3013 | target: -4.9070 | pred: -2.6447\n"
     ]
    },
    {
     "name": "stderr",
     "output_type": "stream",
     "text": [
      "Division 5/5:  76%|██████████████████████████████████████████████████████████▍                  | 770/1015 [01:49<00:30,  7.91it/s]"
     ]
    },
    {
     "name": "stdout",
     "output_type": "stream",
     "text": [
      "Epoch:   0 | Samples:    768/916 | RMSE Loss: 1.1435 | MSE Loss: 2.2532 | target: -0.1400 | pred: -0.8329\n"
     ]
    },
    {
     "name": "stderr",
     "output_type": "stream",
     "text": [
      "Division 5/5:  79%|████████████████████████████████████████████████████████████▊                | 801/1015 [01:54<00:31,  6.71it/s]"
     ]
    },
    {
     "name": "stdout",
     "output_type": "stream",
     "text": [
      "Epoch:   0 | Samples:    800/916 | RMSE Loss: 1.1303 | MSE Loss: 2.2128 | target: -3.7000 | pred: -4.4276\n"
     ]
    },
    {
     "name": "stderr",
     "output_type": "stream",
     "text": [
      "Division 5/5:  82%|███████████████████████████████████████████████████████████████▎             | 834/1015 [01:59<00:26,  6.96it/s]"
     ]
    },
    {
     "name": "stdout",
     "output_type": "stream",
     "text": [
      "Epoch:   0 | Samples:    832/916 | RMSE Loss: 1.1201 | MSE Loss: 2.1708 | target: -4.0800 | pred: -4.6953\n"
     ]
    },
    {
     "name": "stderr",
     "output_type": "stream",
     "text": [
      "Division 5/5:  85%|█████████████████████████████████████████████████████████████████▋           | 866/1015 [02:03<00:16,  9.31it/s]"
     ]
    },
    {
     "name": "stdout",
     "output_type": "stream",
     "text": [
      "Epoch:   0 | Samples:    864/916 | RMSE Loss: 1.1064 | MSE Loss: 2.1283 | target: 0.3600 | pred: -1.9275\n"
     ]
    },
    {
     "name": "stderr",
     "output_type": "stream",
     "text": [
      "Division 5/5:  88%|████████████████████████████████████████████████████████████████████         | 898/1015 [02:09<00:15,  7.54it/s]"
     ]
    },
    {
     "name": "stdout",
     "output_type": "stream",
     "text": [
      "Epoch:   0 | Samples:    896/916 | RMSE Loss: 1.0882 | MSE Loss: 2.0731 | target: -7.2100 | pred: -6.5181\n"
     ]
    },
    {
     "name": "stderr",
     "output_type": "stream",
     "text": [
      "Division 5/5:  90%|█████████████████████████████████████████████████████████████████████▍       | 916/1015 [02:11<00:14,  6.96it/s]\n",
      "Division 5/5:   0%|▏                                                                              | 3/1015 [00:00<02:05,  8.09it/s]"
     ]
    },
    {
     "name": "stdout",
     "output_type": "stream",
     "text": [
      "Epoch:   1 | Samples:      0/916 | RMSE Loss: 1.4354 | MSE Loss: 2.0604 | target: -4.5540 | pred: -3.1186\n"
     ]
    },
    {
     "name": "stderr",
     "output_type": "stream",
     "text": [
      "Division 5/5:   3%|██▌                                                                           | 34/1015 [00:04<02:20,  6.97it/s]"
     ]
    },
    {
     "name": "stdout",
     "output_type": "stream",
     "text": [
      "Epoch:   1 | Samples:     32/916 | RMSE Loss: 0.9763 | MSE Loss: 1.6009 | target: -3.8960 | pred: -5.2677\n"
     ]
    },
    {
     "name": "stderr",
     "output_type": "stream",
     "text": [
      "Division 5/5:   7%|█████                                                                         | 66/1015 [00:09<02:31,  6.28it/s]"
     ]
    },
    {
     "name": "stdout",
     "output_type": "stream",
     "text": [
      "Epoch:   1 | Samples:     64/916 | RMSE Loss: 0.8675 | MSE Loss: 1.2686 | target: -4.1000 | pred: -4.1260\n"
     ]
    },
    {
     "name": "stderr",
     "output_type": "stream",
     "text": [
      "Division 5/5:  10%|███████▌                                                                      | 98/1015 [00:13<02:02,  7.51it/s]"
     ]
    },
    {
     "name": "stdout",
     "output_type": "stream",
     "text": [
      "Epoch:   1 | Samples:     96/916 | RMSE Loss: 0.8143 | MSE Loss: 1.1125 | target: -1.3300 | pred: -1.7802\n"
     ]
    },
    {
     "name": "stderr",
     "output_type": "stream",
     "text": [
      "Division 5/5:  13%|█████████▊                                                                   | 130/1015 [00:17<01:48,  8.12it/s]"
     ]
    },
    {
     "name": "stdout",
     "output_type": "stream",
     "text": [
      "Epoch:   1 | Samples:    128/916 | RMSE Loss: 0.7598 | MSE Loss: 0.9863 | target: 0.0090 | pred: -1.1306\n"
     ]
    },
    {
     "name": "stderr",
     "output_type": "stream",
     "text": [
      "Division 5/5:  16%|████████████▏                                                                | 160/1015 [00:22<01:50,  7.76it/s]"
     ]
    },
    {
     "name": "stdout",
     "output_type": "stream",
     "text": [
      "Epoch:   1 | Samples:    160/916 | RMSE Loss: 0.7488 | MSE Loss: 0.9407 | target: -1.0900 | pred: -1.7529\n"
     ]
    },
    {
     "name": "stderr",
     "output_type": "stream",
     "text": [
      "Division 5/5:  19%|██████████████▋                                                              | 194/1015 [00:27<02:05,  6.56it/s]"
     ]
    },
    {
     "name": "stdout",
     "output_type": "stream",
     "text": [
      "Epoch:   1 | Samples:    192/916 | RMSE Loss: 0.7746 | MSE Loss: 1.0396 | target: -1.3700 | pred: -2.1717\n"
     ]
    },
    {
     "name": "stderr",
     "output_type": "stream",
     "text": [
      "Division 5/5:  22%|█████████████████▏                                                           | 226/1015 [00:31<01:27,  9.00it/s]"
     ]
    },
    {
     "name": "stdout",
     "output_type": "stream",
     "text": [
      "Epoch:   1 | Samples:    224/916 | RMSE Loss: 0.7653 | MSE Loss: 1.0144 | target: -2.0500 | pred: -1.9351\n"
     ]
    },
    {
     "name": "stderr",
     "output_type": "stream",
     "text": [
      "Division 5/5:  25%|███████████████████▍                                                         | 257/1015 [00:36<01:53,  6.66it/s]"
     ]
    },
    {
     "name": "stdout",
     "output_type": "stream",
     "text": [
      "Epoch:   1 | Samples:    256/916 | RMSE Loss: 0.7555 | MSE Loss: 0.9748 | target: -4.4200 | pred: -5.0620\n"
     ]
    },
    {
     "name": "stderr",
     "output_type": "stream",
     "text": [
      "Division 5/5:  28%|█████████████████████▉                                                       | 289/1015 [00:41<02:11,  5.53it/s]"
     ]
    },
    {
     "name": "stdout",
     "output_type": "stream",
     "text": [
      "Epoch:   1 | Samples:    288/916 | RMSE Loss: 0.7636 | MSE Loss: 0.9841 | target: -2.3690 | pred: -2.6022\n"
     ]
    },
    {
     "name": "stderr",
     "output_type": "stream",
     "text": [
      "Division 5/5:  32%|████████████████████████▍                                                    | 322/1015 [00:45<01:27,  7.93it/s]"
     ]
    },
    {
     "name": "stdout",
     "output_type": "stream",
     "text": [
      "Epoch:   1 | Samples:    320/916 | RMSE Loss: 0.7504 | MSE Loss: 0.9477 | target: -3.3500 | pred: -4.4949\n"
     ]
    },
    {
     "name": "stderr",
     "output_type": "stream",
     "text": [
      "Division 5/5:  35%|██████████████████████████▊                                                  | 353/1015 [00:51<02:14,  4.92it/s]"
     ]
    },
    {
     "name": "stdout",
     "output_type": "stream",
     "text": [
      "Epoch:   1 | Samples:    352/916 | RMSE Loss: 0.7615 | MSE Loss: 0.9834 | target: -2.1480 | pred: -1.4818\n"
     ]
    },
    {
     "name": "stderr",
     "output_type": "stream",
     "text": [
      "Division 5/5:  38%|█████████████████████████████▎                                               | 386/1015 [00:57<01:36,  6.53it/s]"
     ]
    },
    {
     "name": "stdout",
     "output_type": "stream",
     "text": [
      "Epoch:   1 | Samples:    384/916 | RMSE Loss: 0.7852 | MSE Loss: 1.0580 | target: -3.4990 | pred: -5.2868\n"
     ]
    },
    {
     "name": "stderr",
     "output_type": "stream",
     "text": [
      "Division 5/5:  41%|███████████████████████████████▋                                             | 418/1015 [01:01<01:08,  8.66it/s]"
     ]
    },
    {
     "name": "stdout",
     "output_type": "stream",
     "text": [
      "Epoch:   1 | Samples:    416/916 | RMSE Loss: 0.7769 | MSE Loss: 1.0293 | target: -1.6140 | pred: -1.9732\n"
     ]
    },
    {
     "name": "stderr",
     "output_type": "stream",
     "text": [
      "Division 5/5:  44%|██████████████████████████████████▏                                          | 450/1015 [01:06<00:57,  9.88it/s]"
     ]
    },
    {
     "name": "stdout",
     "output_type": "stream",
     "text": [
      "Epoch:   1 | Samples:    448/916 | RMSE Loss: 0.7713 | MSE Loss: 1.0057 | target: -4.5600 | pred: -3.9553\n"
     ]
    },
    {
     "name": "stderr",
     "output_type": "stream",
     "text": [
      "Division 5/5:  47%|████████████████████████████████████▍                                        | 481/1015 [01:11<01:02,  8.60it/s]"
     ]
    },
    {
     "name": "stdout",
     "output_type": "stream",
     "text": [
      "Epoch:   1 | Samples:    480/916 | RMSE Loss: 0.7707 | MSE Loss: 0.9991 | target: -2.5100 | pred: -2.3542\n"
     ]
    },
    {
     "name": "stderr",
     "output_type": "stream",
     "text": [
      "Division 5/5:  51%|██████████████████████████████████████▉                                      | 514/1015 [01:15<01:20,  6.22it/s]"
     ]
    },
    {
     "name": "stdout",
     "output_type": "stream",
     "text": [
      "Epoch:   1 | Samples:    512/916 | RMSE Loss: 0.7688 | MSE Loss: 0.9878 | target: -3.3600 | pred: -2.3234\n"
     ]
    },
    {
     "name": "stderr",
     "output_type": "stream",
     "text": [
      "Division 5/5:  54%|█████████████████████████████████████████▍                                   | 546/1015 [01:19<00:58,  8.09it/s]"
     ]
    },
    {
     "name": "stdout",
     "output_type": "stream",
     "text": [
      "Epoch:   1 | Samples:    544/916 | RMSE Loss: 0.7780 | MSE Loss: 1.0246 | target: -7.6800 | pred: -7.1874\n"
     ]
    },
    {
     "name": "stderr",
     "output_type": "stream",
     "text": [
      "Division 5/5:  57%|███████████████████████████████████████████▊                                 | 578/1015 [01:25<01:00,  7.25it/s]"
     ]
    },
    {
     "name": "stdout",
     "output_type": "stream",
     "text": [
      "Epoch:   1 | Samples:    576/916 | RMSE Loss: 0.7728 | MSE Loss: 1.0078 | target: -2.8200 | pred: -2.7350\n"
     ]
    },
    {
     "name": "stderr",
     "output_type": "stream",
     "text": [
      "Division 5/5:  60%|██████████████████████████████████████████████▏                              | 609/1015 [01:29<00:43,  9.33it/s]"
     ]
    },
    {
     "name": "stdout",
     "output_type": "stream",
     "text": [
      "Epoch:   1 | Samples:    608/916 | RMSE Loss: 0.7761 | MSE Loss: 1.0106 | target: -2.0300 | pred: -2.3301\n"
     ]
    },
    {
     "name": "stderr",
     "output_type": "stream",
     "text": [
      "Division 5/5:  63%|████████████████████████████████████████████████▋                            | 642/1015 [01:32<00:34, 10.78it/s]"
     ]
    },
    {
     "name": "stdout",
     "output_type": "stream",
     "text": [
      "Epoch:   1 | Samples:    640/916 | RMSE Loss: 0.7678 | MSE Loss: 0.9954 | target: -2.6800 | pred: -1.9025\n"
     ]
    },
    {
     "name": "stderr",
     "output_type": "stream",
     "text": [
      "Division 5/5:  66%|███████████████████████████████████████████████████▏                         | 674/1015 [01:37<00:46,  7.39it/s]"
     ]
    },
    {
     "name": "stdout",
     "output_type": "stream",
     "text": [
      "Epoch:   1 | Samples:    672/916 | RMSE Loss: 0.7609 | MSE Loss: 0.9762 | target: -3.9530 | pred: -4.6314\n"
     ]
    },
    {
     "name": "stderr",
     "output_type": "stream",
     "text": [
      "Division 5/5:  70%|█████████████████████████████████████████████████████▋                       | 707/1015 [01:41<00:42,  7.29it/s]"
     ]
    },
    {
     "name": "stdout",
     "output_type": "stream",
     "text": [
      "Epoch:   1 | Samples:    704/916 | RMSE Loss: 0.7527 | MSE Loss: 0.9566 | target: -3.0940 | pred: -3.2866\n"
     ]
    },
    {
     "name": "stderr",
     "output_type": "stream",
     "text": [
      "Division 5/5:  73%|███████████████████████████████████████████████████████▉                     | 738/1015 [01:45<00:36,  7.67it/s]"
     ]
    },
    {
     "name": "stdout",
     "output_type": "stream",
     "text": [
      "Epoch:   1 | Samples:    736/916 | RMSE Loss: 0.7499 | MSE Loss: 0.9521 | target: -4.9070 | pred: -3.5713\n"
     ]
    },
    {
     "name": "stderr",
     "output_type": "stream",
     "text": [
      "Division 5/5:  76%|██████████████████████████████████████████████████████████▎                  | 769/1015 [01:49<00:27,  8.85it/s]"
     ]
    },
    {
     "name": "stdout",
     "output_type": "stream",
     "text": [
      "Epoch:   1 | Samples:    768/916 | RMSE Loss: 0.7461 | MSE Loss: 0.9416 | target: -0.1400 | pred: -0.7153\n"
     ]
    },
    {
     "name": "stderr",
     "output_type": "stream",
     "text": [
      "Division 5/5:  79%|████████████████████████████████████████████████████████████▊                | 801/1015 [01:53<00:31,  6.75it/s]"
     ]
    },
    {
     "name": "stdout",
     "output_type": "stream",
     "text": [
      "Epoch:   1 | Samples:    800/916 | RMSE Loss: 0.7451 | MSE Loss: 0.9439 | target: -3.7000 | pred: -4.3963\n"
     ]
    },
    {
     "name": "stderr",
     "output_type": "stream",
     "text": [
      "Division 5/5:  82%|███████████████████████████████████████████████████████████████▎             | 834/1015 [01:58<00:26,  6.95it/s]"
     ]
    },
    {
     "name": "stdout",
     "output_type": "stream",
     "text": [
      "Epoch:   1 | Samples:    832/916 | RMSE Loss: 0.7437 | MSE Loss: 0.9367 | target: -4.0800 | pred: -4.6532\n"
     ]
    },
    {
     "name": "stderr",
     "output_type": "stream",
     "text": [
      "Division 5/5:  85%|█████████████████████████████████████████████████████████████████▋           | 866/1015 [02:03<00:16,  9.26it/s]"
     ]
    },
    {
     "name": "stdout",
     "output_type": "stream",
     "text": [
      "Epoch:   1 | Samples:    864/916 | RMSE Loss: 0.7415 | MSE Loss: 0.9346 | target: 0.3600 | pred: -1.4544\n"
     ]
    },
    {
     "name": "stderr",
     "output_type": "stream",
     "text": [
      "Division 5/5:  88%|████████████████████████████████████████████████████████████████████         | 898/1015 [02:08<00:15,  7.55it/s]"
     ]
    },
    {
     "name": "stdout",
     "output_type": "stream",
     "text": [
      "Epoch:   1 | Samples:    896/916 | RMSE Loss: 0.7348 | MSE Loss: 0.9200 | target: -7.2100 | pred: -6.8073\n"
     ]
    },
    {
     "name": "stderr",
     "output_type": "stream",
     "text": [
      "Division 5/5:  90%|█████████████████████████████████████████████████████████████████████▍       | 916/1015 [02:10<00:14,  6.99it/s]\n",
      "Division 5/5:   0%|▏                                                                              | 3/1015 [00:00<02:04,  8.16it/s]"
     ]
    },
    {
     "name": "stdout",
     "output_type": "stream",
     "text": [
      "Epoch:   2 | Samples:      0/916 | RMSE Loss: 1.3582 | MSE Loss: 1.8447 | target: -4.5540 | pred: -3.1958\n"
     ]
    },
    {
     "name": "stderr",
     "output_type": "stream",
     "text": [
      "Division 5/5:   3%|██▌                                                                           | 34/1015 [00:04<02:20,  6.96it/s]"
     ]
    },
    {
     "name": "stdout",
     "output_type": "stream",
     "text": [
      "Epoch:   2 | Samples:     32/916 | RMSE Loss: 0.7996 | MSE Loss: 1.0731 | target: -3.8960 | pred: -5.2841\n"
     ]
    },
    {
     "name": "stderr",
     "output_type": "stream",
     "text": [
      "Division 5/5:   7%|█████                                                                         | 66/1015 [00:09<02:31,  6.27it/s]"
     ]
    },
    {
     "name": "stdout",
     "output_type": "stream",
     "text": [
      "Epoch:   2 | Samples:     64/916 | RMSE Loss: 0.7194 | MSE Loss: 0.8638 | target: -4.1000 | pred: -4.2142\n"
     ]
    },
    {
     "name": "stderr",
     "output_type": "stream",
     "text": [
      "Division 5/5:  10%|███████▌                                                                      | 98/1015 [00:13<02:02,  7.48it/s]"
     ]
    },
    {
     "name": "stdout",
     "output_type": "stream",
     "text": [
      "Epoch:   2 | Samples:     96/916 | RMSE Loss: 0.7142 | MSE Loss: 0.8238 | target: -1.3300 | pred: -1.4174\n"
     ]
    },
    {
     "name": "stderr",
     "output_type": "stream",
     "text": [
      "Division 5/5:  13%|█████████▊                                                                   | 130/1015 [00:17<01:48,  8.12it/s]"
     ]
    },
    {
     "name": "stdout",
     "output_type": "stream",
     "text": [
      "Epoch:   2 | Samples:    128/916 | RMSE Loss: 0.6560 | MSE Loss: 0.7159 | target: 0.0090 | pred: -0.7734\n"
     ]
    },
    {
     "name": "stderr",
     "output_type": "stream",
     "text": [
      "Division 5/5:  16%|████████████▏                                                                | 160/1015 [00:21<01:50,  7.75it/s]"
     ]
    },
    {
     "name": "stdout",
     "output_type": "stream",
     "text": [
      "Epoch:   2 | Samples:    160/916 | RMSE Loss: 0.6455 | MSE Loss: 0.6883 | target: -1.0900 | pred: -1.5699\n"
     ]
    },
    {
     "name": "stderr",
     "output_type": "stream",
     "text": [
      "Division 5/5:  19%|██████████████▋                                                              | 194/1015 [00:27<02:05,  6.55it/s]"
     ]
    },
    {
     "name": "stdout",
     "output_type": "stream",
     "text": [
      "Epoch:   2 | Samples:    192/916 | RMSE Loss: 0.6649 | MSE Loss: 0.7492 | target: -1.3700 | pred: -1.9638\n"
     ]
    },
    {
     "name": "stderr",
     "output_type": "stream",
     "text": [
      "Division 5/5:  22%|█████████████████▏                                                           | 226/1015 [00:31<01:28,  8.93it/s]"
     ]
    },
    {
     "name": "stdout",
     "output_type": "stream",
     "text": [
      "Epoch:   2 | Samples:    224/916 | RMSE Loss: 0.6554 | MSE Loss: 0.7345 | target: -2.0500 | pred: -1.8087\n"
     ]
    },
    {
     "name": "stderr",
     "output_type": "stream",
     "text": [
      "Division 5/5:  25%|███████████████████▍                                                         | 257/1015 [00:36<01:54,  6.64it/s]"
     ]
    },
    {
     "name": "stdout",
     "output_type": "stream",
     "text": [
      "Epoch:   2 | Samples:    256/916 | RMSE Loss: 0.6435 | MSE Loss: 0.7009 | target: -4.4200 | pred: -4.6885\n"
     ]
    },
    {
     "name": "stderr",
     "output_type": "stream",
     "text": [
      "Division 5/5:  28%|█████████████████████▉                                                       | 289/1015 [00:41<02:11,  5.51it/s]"
     ]
    },
    {
     "name": "stdout",
     "output_type": "stream",
     "text": [
      "Epoch:   2 | Samples:    288/916 | RMSE Loss: 0.6511 | MSE Loss: 0.7116 | target: -2.3690 | pred: -2.7683\n"
     ]
    },
    {
     "name": "stderr",
     "output_type": "stream",
     "text": [
      "Division 5/5:  32%|████████████████████████▍                                                    | 322/1015 [00:45<01:28,  7.83it/s]"
     ]
    },
    {
     "name": "stdout",
     "output_type": "stream",
     "text": [
      "Epoch:   2 | Samples:    320/916 | RMSE Loss: 0.6466 | MSE Loss: 0.7050 | target: -3.3500 | pred: -4.3198\n"
     ]
    },
    {
     "name": "stderr",
     "output_type": "stream",
     "text": [
      "Division 5/5:  35%|██████████████████████████▊                                                  | 353/1015 [00:51<02:13,  4.95it/s]"
     ]
    },
    {
     "name": "stdout",
     "output_type": "stream",
     "text": [
      "Epoch:   2 | Samples:    352/916 | RMSE Loss: 0.6624 | MSE Loss: 0.7463 | target: -2.1480 | pred: -1.5418\n"
     ]
    },
    {
     "name": "stderr",
     "output_type": "stream",
     "text": [
      "Division 5/5:  38%|█████████████████████████████▎                                               | 386/1015 [00:57<01:37,  6.43it/s]"
     ]
    },
    {
     "name": "stdout",
     "output_type": "stream",
     "text": [
      "Epoch:   2 | Samples:    384/916 | RMSE Loss: 0.6676 | MSE Loss: 0.7653 | target: -3.4990 | pred: -4.9687\n"
     ]
    },
    {
     "name": "stderr",
     "output_type": "stream",
     "text": [
      "Division 5/5:  41%|███████████████████████████████▋                                             | 418/1015 [01:01<01:08,  8.73it/s]"
     ]
    },
    {
     "name": "stdout",
     "output_type": "stream",
     "text": [
      "Epoch:   2 | Samples:    416/916 | RMSE Loss: 0.6563 | MSE Loss: 0.7423 | target: -1.6140 | pred: -2.1723\n"
     ]
    },
    {
     "name": "stderr",
     "output_type": "stream",
     "text": [
      "Division 5/5:  44%|██████████████████████████████████▏                                          | 450/1015 [01:06<00:57,  9.81it/s]"
     ]
    },
    {
     "name": "stdout",
     "output_type": "stream",
     "text": [
      "Epoch:   2 | Samples:    448/916 | RMSE Loss: 0.6533 | MSE Loss: 0.7263 | target: -4.5600 | pred: -3.8711\n"
     ]
    },
    {
     "name": "stderr",
     "output_type": "stream",
     "text": [
      "Division 5/5:  47%|████████████████████████████████████▍                                        | 481/1015 [01:11<01:02,  8.61it/s]"
     ]
    },
    {
     "name": "stdout",
     "output_type": "stream",
     "text": [
      "Epoch:   2 | Samples:    480/916 | RMSE Loss: 0.6529 | MSE Loss: 0.7203 | target: -2.5100 | pred: -2.0181\n"
     ]
    },
    {
     "name": "stderr",
     "output_type": "stream",
     "text": [
      "Division 5/5:  51%|██████████████████████████████████████▉                                      | 514/1015 [01:15<01:20,  6.21it/s]"
     ]
    },
    {
     "name": "stdout",
     "output_type": "stream",
     "text": [
      "Epoch:   2 | Samples:    512/916 | RMSE Loss: 0.6524 | MSE Loss: 0.7134 | target: -3.3600 | pred: -2.4885\n"
     ]
    },
    {
     "name": "stderr",
     "output_type": "stream",
     "text": [
      "Division 5/5:  54%|█████████████████████████████████████████▍                                   | 546/1015 [01:20<00:58,  8.05it/s]"
     ]
    },
    {
     "name": "stdout",
     "output_type": "stream",
     "text": [
      "Epoch:   2 | Samples:    544/916 | RMSE Loss: 0.6654 | MSE Loss: 0.7518 | target: -7.6800 | pred: -7.7373\n"
     ]
    },
    {
     "name": "stderr",
     "output_type": "stream",
     "text": [
      "Division 5/5:  57%|███████████████████████████████████████████▊                                 | 578/1015 [01:25<01:00,  7.21it/s]"
     ]
    },
    {
     "name": "stdout",
     "output_type": "stream",
     "text": [
      "Epoch:   2 | Samples:    576/916 | RMSE Loss: 0.6618 | MSE Loss: 0.7431 | target: -2.8200 | pred: -2.7581\n"
     ]
    },
    {
     "name": "stderr",
     "output_type": "stream",
     "text": [
      "Division 5/5:  60%|██████████████████████████████████████████████▏                              | 609/1015 [01:29<00:43,  9.35it/s]"
     ]
    },
    {
     "name": "stdout",
     "output_type": "stream",
     "text": [
      "Epoch:   2 | Samples:    608/916 | RMSE Loss: 0.6633 | MSE Loss: 0.7414 | target: -2.0300 | pred: -2.2795\n"
     ]
    },
    {
     "name": "stderr",
     "output_type": "stream",
     "text": [
      "Division 5/5:  63%|████████████████████████████████████████████████▋                            | 642/1015 [01:33<00:34, 10.73it/s]"
     ]
    },
    {
     "name": "stdout",
     "output_type": "stream",
     "text": [
      "Epoch:   2 | Samples:    640/916 | RMSE Loss: 0.6599 | MSE Loss: 0.7348 | target: -2.6800 | pred: -2.1035\n"
     ]
    },
    {
     "name": "stderr",
     "output_type": "stream",
     "text": [
      "Division 5/5:  66%|███████████████████████████████████████████████████▏                         | 674/1015 [01:37<00:46,  7.35it/s]"
     ]
    },
    {
     "name": "stdout",
     "output_type": "stream",
     "text": [
      "Epoch:   2 | Samples:    672/916 | RMSE Loss: 0.6551 | MSE Loss: 0.7230 | target: -3.9530 | pred: -4.6198\n"
     ]
    },
    {
     "name": "stderr",
     "output_type": "stream",
     "text": [
      "Division 5/5:  70%|█████████████████████████████████████████████████████▋                       | 707/1015 [01:41<00:40,  7.68it/s]"
     ]
    },
    {
     "name": "stdout",
     "output_type": "stream",
     "text": [
      "Epoch:   2 | Samples:    704/916 | RMSE Loss: 0.6466 | MSE Loss: 0.7089 | target: -3.0940 | pred: -3.0865\n"
     ]
    },
    {
     "name": "stderr",
     "output_type": "stream",
     "text": [
      "Division 5/5:  73%|███████████████████████████████████████████████████████▉                     | 738/1015 [01:45<00:35,  7.71it/s]"
     ]
    },
    {
     "name": "stdout",
     "output_type": "stream",
     "text": [
      "Epoch:   2 | Samples:    736/916 | RMSE Loss: 0.6469 | MSE Loss: 0.7077 | target: -4.9070 | pred: -3.7391\n"
     ]
    },
    {
     "name": "stderr",
     "output_type": "stream",
     "text": [
      "Division 5/5:  76%|██████████████████████████████████████████████████████████▍                  | 770/1015 [01:49<00:30,  7.95it/s]"
     ]
    },
    {
     "name": "stdout",
     "output_type": "stream",
     "text": [
      "Epoch:   2 | Samples:    768/916 | RMSE Loss: 0.6435 | MSE Loss: 0.6991 | target: -0.1400 | pred: -0.5509\n"
     ]
    },
    {
     "name": "stderr",
     "output_type": "stream",
     "text": [
      "Division 5/5:  79%|████████████████████████████████████████████████████████████▊                | 801/1015 [01:53<00:31,  6.75it/s]"
     ]
    },
    {
     "name": "stdout",
     "output_type": "stream",
     "text": [
      "Epoch:   2 | Samples:    800/916 | RMSE Loss: 0.6449 | MSE Loss: 0.7042 | target: -3.7000 | pred: -4.4640\n"
     ]
    },
    {
     "name": "stderr",
     "output_type": "stream",
     "text": [
      "Division 5/5:  82%|███████████████████████████████████████████████████████████████▎             | 834/1015 [01:59<00:25,  7.01it/s]"
     ]
    },
    {
     "name": "stdout",
     "output_type": "stream",
     "text": [
      "Epoch:   2 | Samples:    832/916 | RMSE Loss: 0.6433 | MSE Loss: 0.6977 | target: -4.0800 | pred: -4.5401\n"
     ]
    },
    {
     "name": "stderr",
     "output_type": "stream",
     "text": [
      "Division 5/5:  85%|█████████████████████████████████████████████████████████████████▋           | 866/1015 [02:03<00:16,  9.30it/s]"
     ]
    },
    {
     "name": "stdout",
     "output_type": "stream",
     "text": [
      "Epoch:   2 | Samples:    864/916 | RMSE Loss: 0.6425 | MSE Loss: 0.7012 | target: 0.3600 | pred: -1.1115\n"
     ]
    },
    {
     "name": "stderr",
     "output_type": "stream",
     "text": [
      "Division 5/5:  88%|████████████████████████████████████████████████████████████████████         | 898/1015 [02:08<00:15,  7.55it/s]"
     ]
    },
    {
     "name": "stdout",
     "output_type": "stream",
     "text": [
      "Epoch:   2 | Samples:    896/916 | RMSE Loss: 0.6378 | MSE Loss: 0.6927 | target: -7.2100 | pred: -6.9701\n"
     ]
    },
    {
     "name": "stderr",
     "output_type": "stream",
     "text": [
      "Division 5/5:  90%|█████████████████████████████████████████████████████████████████████▍       | 916/1015 [02:11<00:14,  6.98it/s]\n",
      "Division 5/5:   0%|▏                                                                              | 3/1015 [00:00<02:06,  8.00it/s]"
     ]
    },
    {
     "name": "stdout",
     "output_type": "stream",
     "text": [
      "Epoch:   3 | Samples:      0/916 | RMSE Loss: 1.0855 | MSE Loss: 1.1784 | target: -4.5540 | pred: -3.4685\n"
     ]
    },
    {
     "name": "stderr",
     "output_type": "stream",
     "text": [
      "Division 5/5:   3%|██▌                                                                           | 34/1015 [00:04<02:23,  6.83it/s]"
     ]
    },
    {
     "name": "stdout",
     "output_type": "stream",
     "text": [
      "Epoch:   3 | Samples:     32/916 | RMSE Loss: 0.6673 | MSE Loss: 0.7864 | target: -3.8960 | pred: -5.2226\n"
     ]
    },
    {
     "name": "stderr",
     "output_type": "stream",
     "text": [
      "Division 5/5:   7%|█████                                                                         | 66/1015 [00:09<02:32,  6.23it/s]"
     ]
    },
    {
     "name": "stdout",
     "output_type": "stream",
     "text": [
      "Epoch:   3 | Samples:     64/916 | RMSE Loss: 0.6021 | MSE Loss: 0.6438 | target: -4.1000 | pred: -4.3317\n"
     ]
    },
    {
     "name": "stderr",
     "output_type": "stream",
     "text": [
      "Division 5/5:  10%|███████▌                                                                      | 98/1015 [00:13<02:02,  7.48it/s]"
     ]
    },
    {
     "name": "stdout",
     "output_type": "stream",
     "text": [
      "Epoch:   3 | Samples:     96/916 | RMSE Loss: 0.6356 | MSE Loss: 0.6666 | target: -1.3300 | pred: -1.1204\n"
     ]
    },
    {
     "name": "stderr",
     "output_type": "stream",
     "text": [
      "Division 5/5:  13%|█████████▊                                                                   | 130/1015 [00:17<01:49,  8.09it/s]"
     ]
    },
    {
     "name": "stdout",
     "output_type": "stream",
     "text": [
      "Epoch:   3 | Samples:    128/916 | RMSE Loss: 0.5832 | MSE Loss: 0.5724 | target: 0.0090 | pred: -0.3406\n"
     ]
    },
    {
     "name": "stderr",
     "output_type": "stream",
     "text": [
      "Division 5/5:  16%|████████████▏                                                                | 160/1015 [00:22<01:51,  7.69it/s]"
     ]
    },
    {
     "name": "stdout",
     "output_type": "stream",
     "text": [
      "Epoch:   3 | Samples:    160/916 | RMSE Loss: 0.5738 | MSE Loss: 0.5565 | target: -1.0900 | pred: -1.4689\n"
     ]
    },
    {
     "name": "stderr",
     "output_type": "stream",
     "text": [
      "Division 5/5:  19%|██████████████▋                                                              | 194/1015 [00:27<02:06,  6.49it/s]"
     ]
    },
    {
     "name": "stdout",
     "output_type": "stream",
     "text": [
      "Epoch:   3 | Samples:    192/916 | RMSE Loss: 0.5909 | MSE Loss: 0.6060 | target: -1.3700 | pred: -1.8615\n"
     ]
    },
    {
     "name": "stderr",
     "output_type": "stream",
     "text": [
      "Division 5/5:  22%|█████████████████▏                                                           | 226/1015 [00:31<01:29,  8.85it/s]"
     ]
    },
    {
     "name": "stdout",
     "output_type": "stream",
     "text": [
      "Epoch:   3 | Samples:    224/916 | RMSE Loss: 0.5891 | MSE Loss: 0.6017 | target: -2.0500 | pred: -1.8714\n"
     ]
    },
    {
     "name": "stderr",
     "output_type": "stream",
     "text": [
      "Division 5/5:  25%|███████████████████▍                                                         | 257/1015 [00:36<01:54,  6.61it/s]"
     ]
    },
    {
     "name": "stdout",
     "output_type": "stream",
     "text": [
      "Epoch:   3 | Samples:    256/916 | RMSE Loss: 0.5791 | MSE Loss: 0.5756 | target: -4.4200 | pred: -4.7369\n"
     ]
    },
    {
     "name": "stderr",
     "output_type": "stream",
     "text": [
      "Division 5/5:  28%|█████████████████████▉                                                       | 289/1015 [00:41<02:11,  5.52it/s]"
     ]
    },
    {
     "name": "stdout",
     "output_type": "stream",
     "text": [
      "Epoch:   3 | Samples:    288/916 | RMSE Loss: 0.5849 | MSE Loss: 0.5808 | target: -2.3690 | pred: -2.7789\n"
     ]
    },
    {
     "name": "stderr",
     "output_type": "stream",
     "text": [
      "Division 5/5:  32%|████████████████████████▍                                                    | 322/1015 [00:46<01:29,  7.78it/s]"
     ]
    },
    {
     "name": "stdout",
     "output_type": "stream",
     "text": [
      "Epoch:   3 | Samples:    320/916 | RMSE Loss: 0.5872 | MSE Loss: 0.5880 | target: -3.3500 | pred: -4.2757\n"
     ]
    },
    {
     "name": "stderr",
     "output_type": "stream",
     "text": [
      "Division 5/5:  35%|██████████████████████████▊                                                  | 353/1015 [00:51<02:18,  4.77it/s]"
     ]
    },
    {
     "name": "stdout",
     "output_type": "stream",
     "text": [
      "Epoch:   3 | Samples:    352/916 | RMSE Loss: 0.6035 | MSE Loss: 0.6257 | target: -2.1480 | pred: -1.6803\n"
     ]
    },
    {
     "name": "stderr",
     "output_type": "stream",
     "text": [
      "Division 5/5:  38%|█████████████████████████████▎                                               | 386/1015 [00:57<01:36,  6.49it/s]"
     ]
    },
    {
     "name": "stdout",
     "output_type": "stream",
     "text": [
      "Epoch:   3 | Samples:    384/916 | RMSE Loss: 0.6027 | MSE Loss: 0.6264 | target: -3.4990 | pred: -4.7057\n"
     ]
    },
    {
     "name": "stderr",
     "output_type": "stream",
     "text": [
      "Division 5/5:  41%|███████████████████████████████▋                                             | 418/1015 [01:01<01:08,  8.73it/s]"
     ]
    },
    {
     "name": "stdout",
     "output_type": "stream",
     "text": [
      "Epoch:   3 | Samples:    416/916 | RMSE Loss: 0.5900 | MSE Loss: 0.6046 | target: -1.6140 | pred: -2.1805\n"
     ]
    },
    {
     "name": "stderr",
     "output_type": "stream",
     "text": [
      "Division 5/5:  44%|██████████████████████████████████▏                                          | 450/1015 [01:06<00:57,  9.81it/s]"
     ]
    },
    {
     "name": "stdout",
     "output_type": "stream",
     "text": [
      "Epoch:   3 | Samples:    448/916 | RMSE Loss: 0.5891 | MSE Loss: 0.5937 | target: -4.5600 | pred: -3.8160\n"
     ]
    },
    {
     "name": "stderr",
     "output_type": "stream",
     "text": [
      "Division 5/5:  47%|████████████████████████████████████▍                                        | 481/1015 [01:11<01:03,  8.40it/s]"
     ]
    },
    {
     "name": "stdout",
     "output_type": "stream",
     "text": [
      "Epoch:   3 | Samples:    480/916 | RMSE Loss: 0.5875 | MSE Loss: 0.5865 | target: -2.5100 | pred: -1.7281\n"
     ]
    },
    {
     "name": "stderr",
     "output_type": "stream",
     "text": [
      "Division 5/5:  51%|██████████████████████████████████████▉                                      | 513/1015 [01:15<01:15,  6.62it/s]"
     ]
    },
    {
     "name": "stdout",
     "output_type": "stream",
     "text": [
      "Epoch:   3 | Samples:    512/916 | RMSE Loss: 0.5887 | MSE Loss: 0.5810 | target: -3.3600 | pred: -2.7744\n"
     ]
    },
    {
     "name": "stderr",
     "output_type": "stream",
     "text": [
      "Division 5/5:  54%|█████████████████████████████████████████▍                                   | 546/1015 [01:20<00:58,  8.02it/s]"
     ]
    },
    {
     "name": "stdout",
     "output_type": "stream",
     "text": [
      "Epoch:   3 | Samples:    544/916 | RMSE Loss: 0.6018 | MSE Loss: 0.6174 | target: -7.6800 | pred: -8.0498\n"
     ]
    },
    {
     "name": "stderr",
     "output_type": "stream",
     "text": [
      "Division 5/5:  57%|███████████████████████████████████████████▊                                 | 578/1015 [01:25<01:00,  7.26it/s]"
     ]
    },
    {
     "name": "stdout",
     "output_type": "stream",
     "text": [
      "Epoch:   3 | Samples:    576/916 | RMSE Loss: 0.5991 | MSE Loss: 0.6121 | target: -2.8200 | pred: -2.6976\n"
     ]
    },
    {
     "name": "stderr",
     "output_type": "stream",
     "text": [
      "Division 5/5:  60%|██████████████████████████████████████████████▏                              | 609/1015 [01:29<00:44,  9.14it/s]"
     ]
    },
    {
     "name": "stdout",
     "output_type": "stream",
     "text": [
      "Epoch:   3 | Samples:    608/916 | RMSE Loss: 0.6002 | MSE Loss: 0.6098 | target: -2.0300 | pred: -2.1781\n"
     ]
    },
    {
     "name": "stderr",
     "output_type": "stream",
     "text": [
      "Division 5/5:  63%|████████████████████████████████████████████████▋                            | 642/1015 [01:33<00:34, 10.68it/s]"
     ]
    },
    {
     "name": "stdout",
     "output_type": "stream",
     "text": [
      "Epoch:   3 | Samples:    640/916 | RMSE Loss: 0.5954 | MSE Loss: 0.6030 | target: -2.6800 | pred: -2.3252\n"
     ]
    },
    {
     "name": "stderr",
     "output_type": "stream",
     "text": [
      "Division 5/5:  66%|███████████████████████████████████████████████████▏                         | 674/1015 [01:38<00:46,  7.27it/s]"
     ]
    },
    {
     "name": "stdout",
     "output_type": "stream",
     "text": [
      "Epoch:   3 | Samples:    672/916 | RMSE Loss: 0.5908 | MSE Loss: 0.5924 | target: -3.9530 | pred: -4.4379\n"
     ]
    },
    {
     "name": "stderr",
     "output_type": "stream",
     "text": [
      "Division 5/5:  70%|█████████████████████████████████████████████████████▋                       | 707/1015 [01:42<00:39,  7.70it/s]"
     ]
    },
    {
     "name": "stdout",
     "output_type": "stream",
     "text": [
      "Epoch:   3 | Samples:    704/916 | RMSE Loss: 0.5822 | MSE Loss: 0.5800 | target: -3.0940 | pred: -2.9068\n"
     ]
    },
    {
     "name": "stderr",
     "output_type": "stream",
     "text": [
      "Division 5/5:  73%|███████████████████████████████████████████████████████▉                     | 738/1015 [01:45<00:35,  7.73it/s]"
     ]
    },
    {
     "name": "stdout",
     "output_type": "stream",
     "text": [
      "Epoch:   3 | Samples:    736/916 | RMSE Loss: 0.5833 | MSE Loss: 0.5794 | target: -4.9070 | pred: -3.8223\n"
     ]
    },
    {
     "name": "stderr",
     "output_type": "stream",
     "text": [
      "Division 5/5:  76%|██████████████████████████████████████████████████████████▍                  | 770/1015 [01:49<00:31,  7.88it/s]"
     ]
    },
    {
     "name": "stdout",
     "output_type": "stream",
     "text": [
      "Epoch:   3 | Samples:    768/916 | RMSE Loss: 0.5812 | MSE Loss: 0.5723 | target: -0.1400 | pred: -0.4628\n"
     ]
    },
    {
     "name": "stderr",
     "output_type": "stream",
     "text": [
      "Division 5/5:  79%|████████████████████████████████████████████████████████████▊                | 801/1015 [01:54<00:31,  6.73it/s]"
     ]
    },
    {
     "name": "stdout",
     "output_type": "stream",
     "text": [
      "Epoch:   3 | Samples:    800/916 | RMSE Loss: 0.5845 | MSE Loss: 0.5791 | target: -3.7000 | pred: -4.5016\n"
     ]
    },
    {
     "name": "stderr",
     "output_type": "stream",
     "text": [
      "Division 5/5:  82%|███████████████████████████████████████████████████████████████▎             | 834/1015 [01:59<00:26,  6.82it/s]"
     ]
    },
    {
     "name": "stdout",
     "output_type": "stream",
     "text": [
      "Epoch:   3 | Samples:    832/916 | RMSE Loss: 0.5832 | MSE Loss: 0.5738 | target: -4.0800 | pred: -4.4919\n"
     ]
    },
    {
     "name": "stderr",
     "output_type": "stream",
     "text": [
      "Division 5/5:  85%|█████████████████████████████████████████████████████████████████▋           | 866/1015 [02:03<00:15,  9.32it/s]"
     ]
    },
    {
     "name": "stdout",
     "output_type": "stream",
     "text": [
      "Epoch:   3 | Samples:    864/916 | RMSE Loss: 0.5833 | MSE Loss: 0.5802 | target: 0.3600 | pred: -0.8678\n"
     ]
    },
    {
     "name": "stderr",
     "output_type": "stream",
     "text": [
      "Division 5/5:  88%|████████████████████████████████████████████████████████████████████         | 898/1015 [02:09<00:15,  7.48it/s]"
     ]
    },
    {
     "name": "stdout",
     "output_type": "stream",
     "text": [
      "Epoch:   3 | Samples:    896/916 | RMSE Loss: 0.5792 | MSE Loss: 0.5744 | target: -7.2100 | pred: -7.1831\n"
     ]
    },
    {
     "name": "stderr",
     "output_type": "stream",
     "text": [
      "Division 5/5:  90%|█████████████████████████████████████████████████████████████████████▍       | 916/1015 [02:11<00:14,  6.96it/s]\n",
      "Division 5/5:   0%|▏                                                                              | 3/1015 [00:00<02:06,  8.03it/s]"
     ]
    },
    {
     "name": "stdout",
     "output_type": "stream",
     "text": [
      "Epoch:   4 | Samples:      0/916 | RMSE Loss: 0.7751 | MSE Loss: 0.6007 | target: -4.5540 | pred: -3.7789\n"
     ]
    },
    {
     "name": "stderr",
     "output_type": "stream",
     "text": [
      "Division 5/5:   3%|██▌                                                                           | 34/1015 [00:04<02:21,  6.92it/s]"
     ]
    },
    {
     "name": "stdout",
     "output_type": "stream",
     "text": [
      "Epoch:   4 | Samples:     32/916 | RMSE Loss: 0.5816 | MSE Loss: 0.5935 | target: -3.8960 | pred: -5.3456\n"
     ]
    },
    {
     "name": "stderr",
     "output_type": "stream",
     "text": [
      "Division 5/5:   7%|█████                                                                         | 66/1015 [00:09<02:30,  6.30it/s]"
     ]
    },
    {
     "name": "stdout",
     "output_type": "stream",
     "text": [
      "Epoch:   4 | Samples:     64/916 | RMSE Loss: 0.5341 | MSE Loss: 0.5183 | target: -4.1000 | pred: -4.3239\n"
     ]
    },
    {
     "name": "stderr",
     "output_type": "stream",
     "text": [
      "Division 5/5:  10%|███████▌                                                                      | 98/1015 [00:13<02:02,  7.47it/s]"
     ]
    },
    {
     "name": "stdout",
     "output_type": "stream",
     "text": [
      "Epoch:   4 | Samples:     96/916 | RMSE Loss: 0.5783 | MSE Loss: 0.5637 | target: -1.3300 | pred: -1.1779\n"
     ]
    },
    {
     "name": "stderr",
     "output_type": "stream",
     "text": [
      "Division 5/5:  13%|█████████▊                                                                   | 130/1015 [00:17<01:48,  8.15it/s]"
     ]
    },
    {
     "name": "stdout",
     "output_type": "stream",
     "text": [
      "Epoch:   4 | Samples:    128/916 | RMSE Loss: 0.5388 | MSE Loss: 0.4884 | target: 0.0090 | pred: -0.0850\n"
     ]
    },
    {
     "name": "stderr",
     "output_type": "stream",
     "text": [
      "Division 5/5:  16%|████████████▏                                                                | 160/1015 [00:21<01:49,  7.78it/s]"
     ]
    },
    {
     "name": "stdout",
     "output_type": "stream",
     "text": [
      "Epoch:   4 | Samples:    160/916 | RMSE Loss: 0.5325 | MSE Loss: 0.4832 | target: -1.0900 | pred: -1.4945\n"
     ]
    },
    {
     "name": "stderr",
     "output_type": "stream",
     "text": [
      "Division 5/5:  19%|██████████████▋                                                              | 194/1015 [00:27<02:05,  6.52it/s]"
     ]
    },
    {
     "name": "stdout",
     "output_type": "stream",
     "text": [
      "Epoch:   4 | Samples:    192/916 | RMSE Loss: 0.5497 | MSE Loss: 0.5265 | target: -1.3700 | pred: -1.8033\n"
     ]
    },
    {
     "name": "stderr",
     "output_type": "stream",
     "text": [
      "Division 5/5:  22%|█████████████████▏                                                           | 226/1015 [00:31<01:28,  8.90it/s]"
     ]
    },
    {
     "name": "stdout",
     "output_type": "stream",
     "text": [
      "Epoch:   4 | Samples:    224/916 | RMSE Loss: 0.5515 | MSE Loss: 0.5288 | target: -2.0500 | pred: -1.9372\n"
     ]
    },
    {
     "name": "stderr",
     "output_type": "stream",
     "text": [
      "Division 5/5:  25%|███████████████████▍                                                         | 257/1015 [00:36<01:59,  6.34it/s]"
     ]
    },
    {
     "name": "stdout",
     "output_type": "stream",
     "text": [
      "Epoch:   4 | Samples:    256/916 | RMSE Loss: 0.5424 | MSE Loss: 0.5103 | target: -4.4200 | pred: -4.8055\n"
     ]
    },
    {
     "name": "stderr",
     "output_type": "stream",
     "text": [
      "Division 5/5:  28%|█████████████████████▉                                                       | 289/1015 [00:41<02:11,  5.51it/s]"
     ]
    },
    {
     "name": "stdout",
     "output_type": "stream",
     "text": [
      "Epoch:   4 | Samples:    288/916 | RMSE Loss: 0.5470 | MSE Loss: 0.5143 | target: -2.3690 | pred: -2.7151\n"
     ]
    },
    {
     "name": "stderr",
     "output_type": "stream",
     "text": [
      "Division 5/5:  32%|████████████████████████▍                                                    | 322/1015 [00:46<01:33,  7.44it/s]"
     ]
    },
    {
     "name": "stdout",
     "output_type": "stream",
     "text": [
      "Epoch:   4 | Samples:    320/916 | RMSE Loss: 0.5500 | MSE Loss: 0.5244 | target: -3.3500 | pred: -4.3231\n"
     ]
    },
    {
     "name": "stderr",
     "output_type": "stream",
     "text": [
      "Division 5/5:  35%|██████████████████████████▊                                                  | 353/1015 [00:51<02:13,  4.95it/s]"
     ]
    },
    {
     "name": "stdout",
     "output_type": "stream",
     "text": [
      "Epoch:   4 | Samples:    352/916 | RMSE Loss: 0.5669 | MSE Loss: 0.5585 | target: -2.1480 | pred: -1.6668\n"
     ]
    },
    {
     "name": "stderr",
     "output_type": "stream",
     "text": [
      "Division 5/5:  38%|█████████████████████████████▎                                               | 386/1015 [00:57<01:36,  6.49it/s]"
     ]
    },
    {
     "name": "stdout",
     "output_type": "stream",
     "text": [
      "Epoch:   4 | Samples:    384/916 | RMSE Loss: 0.5622 | MSE Loss: 0.5492 | target: -3.4990 | pred: -4.6185\n"
     ]
    },
    {
     "name": "stderr",
     "output_type": "stream",
     "text": [
      "Division 5/5:  41%|███████████████████████████████▋                                             | 418/1015 [01:01<01:07,  8.79it/s]"
     ]
    },
    {
     "name": "stdout",
     "output_type": "stream",
     "text": [
      "Epoch:   4 | Samples:    416/916 | RMSE Loss: 0.5495 | MSE Loss: 0.5288 | target: -1.6140 | pred: -2.1752\n"
     ]
    },
    {
     "name": "stderr",
     "output_type": "stream",
     "text": [
      "Division 5/5:  44%|██████████████████████████████████▏                                          | 450/1015 [01:06<00:57,  9.87it/s]"
     ]
    },
    {
     "name": "stdout",
     "output_type": "stream",
     "text": [
      "Epoch:   4 | Samples:    448/916 | RMSE Loss: 0.5494 | MSE Loss: 0.5208 | target: -4.5600 | pred: -3.8620\n"
     ]
    },
    {
     "name": "stderr",
     "output_type": "stream",
     "text": [
      "Division 5/5:  47%|████████████████████████████████████▍                                        | 481/1015 [01:11<01:02,  8.53it/s]"
     ]
    },
    {
     "name": "stdout",
     "output_type": "stream",
     "text": [
      "Epoch:   4 | Samples:    480/916 | RMSE Loss: 0.5477 | MSE Loss: 0.5137 | target: -2.5100 | pred: -1.6473\n"
     ]
    },
    {
     "name": "stderr",
     "output_type": "stream",
     "text": [
      "Division 5/5:  51%|██████████████████████████████████████▉                                      | 513/1015 [01:15<01:15,  6.62it/s]"
     ]
    },
    {
     "name": "stdout",
     "output_type": "stream",
     "text": [
      "Epoch:   4 | Samples:    512/916 | RMSE Loss: 0.5497 | MSE Loss: 0.5104 | target: -3.3600 | pred: -3.0199\n"
     ]
    },
    {
     "name": "stderr",
     "output_type": "stream",
     "text": [
      "Division 5/5:  54%|█████████████████████████████████████████▍                                   | 546/1015 [01:20<00:58,  8.00it/s]"
     ]
    },
    {
     "name": "stdout",
     "output_type": "stream",
     "text": [
      "Epoch:   4 | Samples:    544/916 | RMSE Loss: 0.5629 | MSE Loss: 0.5452 | target: -7.6800 | pred: -8.2431\n"
     ]
    },
    {
     "name": "stderr",
     "output_type": "stream",
     "text": [
      "Division 5/5:  57%|███████████████████████████████████████████▊                                 | 578/1015 [01:25<01:00,  7.16it/s]"
     ]
    },
    {
     "name": "stdout",
     "output_type": "stream",
     "text": [
      "Epoch:   4 | Samples:    576/916 | RMSE Loss: 0.5619 | MSE Loss: 0.5416 | target: -2.8200 | pred: -2.6552\n"
     ]
    },
    {
     "name": "stderr",
     "output_type": "stream",
     "text": [
      "Division 5/5:  60%|██████████████████████████████████████████████▏                              | 609/1015 [01:29<00:43,  9.33it/s]"
     ]
    },
    {
     "name": "stdout",
     "output_type": "stream",
     "text": [
      "Epoch:   4 | Samples:    608/916 | RMSE Loss: 0.5625 | MSE Loss: 0.5394 | target: -2.0300 | pred: -2.1489\n"
     ]
    },
    {
     "name": "stderr",
     "output_type": "stream",
     "text": [
      "Division 5/5:  63%|████████████████████████████████████████████████▋                            | 642/1015 [01:33<00:34, 10.67it/s]"
     ]
    },
    {
     "name": "stdout",
     "output_type": "stream",
     "text": [
      "Epoch:   4 | Samples:    640/916 | RMSE Loss: 0.5582 | MSE Loss: 0.5335 | target: -2.6800 | pred: -2.4068\n"
     ]
    },
    {
     "name": "stderr",
     "output_type": "stream",
     "text": [
      "Division 5/5:  66%|███████████████████████████████████████████████████▏                         | 674/1015 [01:38<00:46,  7.28it/s]"
     ]
    },
    {
     "name": "stdout",
     "output_type": "stream",
     "text": [
      "Epoch:   4 | Samples:    672/916 | RMSE Loss: 0.5533 | MSE Loss: 0.5234 | target: -3.9530 | pred: -4.2681\n"
     ]
    },
    {
     "name": "stderr",
     "output_type": "stream",
     "text": [
      "Division 5/5:  70%|█████████████████████████████████████████████████████▋                       | 707/1015 [01:41<00:39,  7.75it/s]"
     ]
    },
    {
     "name": "stdout",
     "output_type": "stream",
     "text": [
      "Epoch:   4 | Samples:    704/916 | RMSE Loss: 0.5448 | MSE Loss: 0.5120 | target: -3.0940 | pred: -2.7596\n"
     ]
    },
    {
     "name": "stderr",
     "output_type": "stream",
     "text": [
      "Division 5/5:  73%|███████████████████████████████████████████████████████▉                     | 738/1015 [01:45<00:36,  7.65it/s]"
     ]
    },
    {
     "name": "stdout",
     "output_type": "stream",
     "text": [
      "Epoch:   4 | Samples:    736/916 | RMSE Loss: 0.5456 | MSE Loss: 0.5111 | target: -4.9070 | pred: -3.9263\n"
     ]
    },
    {
     "name": "stderr",
     "output_type": "stream",
     "text": [
      "Division 5/5:  76%|██████████████████████████████████████████████████████████▍                  | 770/1015 [01:49<00:30,  7.91it/s]"
     ]
    },
    {
     "name": "stdout",
     "output_type": "stream",
     "text": [
      "Epoch:   4 | Samples:    768/916 | RMSE Loss: 0.5440 | MSE Loss: 0.5048 | target: -0.1400 | pred: -0.3702\n"
     ]
    },
    {
     "name": "stderr",
     "output_type": "stream",
     "text": [
      "Division 5/5:  79%|████████████████████████████████████████████████████████████▊                | 801/1015 [01:54<00:31,  6.71it/s]"
     ]
    },
    {
     "name": "stdout",
     "output_type": "stream",
     "text": [
      "Epoch:   4 | Samples:    800/916 | RMSE Loss: 0.5483 | MSE Loss: 0.5119 | target: -3.7000 | pred: -4.4766\n"
     ]
    },
    {
     "name": "stderr",
     "output_type": "stream",
     "text": [
      "Division 5/5:  82%|███████████████████████████████████████████████████████████████▎             | 834/1015 [01:59<00:25,  7.01it/s]"
     ]
    },
    {
     "name": "stdout",
     "output_type": "stream",
     "text": [
      "Epoch:   4 | Samples:    832/916 | RMSE Loss: 0.5465 | MSE Loss: 0.5077 | target: -4.0800 | pred: -4.4764\n"
     ]
    },
    {
     "name": "stderr",
     "output_type": "stream",
     "text": [
      "Division 5/5:  85%|█████████████████████████████████████████████████████████████████▋           | 866/1015 [02:03<00:15,  9.36it/s]"
     ]
    },
    {
     "name": "stdout",
     "output_type": "stream",
     "text": [
      "Epoch:   4 | Samples:    864/916 | RMSE Loss: 0.5469 | MSE Loss: 0.5148 | target: 0.3600 | pred: -0.7334\n"
     ]
    },
    {
     "name": "stderr",
     "output_type": "stream",
     "text": [
      "Division 5/5:  88%|████████████████████████████████████████████████████████████████████         | 898/1015 [02:09<00:15,  7.43it/s]"
     ]
    },
    {
     "name": "stdout",
     "output_type": "stream",
     "text": [
      "Epoch:   4 | Samples:    896/916 | RMSE Loss: 0.5438 | MSE Loss: 0.5107 | target: -7.2100 | pred: -7.3372\n"
     ]
    },
    {
     "name": "stderr",
     "output_type": "stream",
     "text": [
      "Division 5/5:  90%|█████████████████████████████████████████████████████████████████████▍       | 916/1015 [02:11<00:14,  6.96it/s]\n",
      "Division 5/5:   0%|▏                                                                              | 3/1015 [00:00<02:04,  8.14it/s]"
     ]
    },
    {
     "name": "stdout",
     "output_type": "stream",
     "text": [
      "Epoch:   5 | Samples:      0/916 | RMSE Loss: 0.6890 | MSE Loss: 0.4747 | target: -4.5540 | pred: -3.8650\n"
     ]
    },
    {
     "name": "stderr",
     "output_type": "stream",
     "text": [
      "Division 5/5:   3%|██▌                                                                           | 34/1015 [00:04<02:23,  6.84it/s]"
     ]
    },
    {
     "name": "stdout",
     "output_type": "stream",
     "text": [
      "Epoch:   5 | Samples:     32/916 | RMSE Loss: 0.5465 | MSE Loss: 0.5187 | target: -3.8960 | pred: -5.3589\n"
     ]
    },
    {
     "name": "stderr",
     "output_type": "stream",
     "text": [
      "Division 5/5:   7%|█████                                                                         | 66/1015 [00:09<02:29,  6.33it/s]"
     ]
    },
    {
     "name": "stdout",
     "output_type": "stream",
     "text": [
      "Epoch:   5 | Samples:     64/916 | RMSE Loss: 0.4906 | MSE Loss: 0.4521 | target: -4.1000 | pred: -4.2374\n"
     ]
    },
    {
     "name": "stderr",
     "output_type": "stream",
     "text": [
      "Division 5/5:  10%|███████▌                                                                      | 98/1015 [00:13<02:01,  7.54it/s]"
     ]
    },
    {
     "name": "stdout",
     "output_type": "stream",
     "text": [
      "Epoch:   5 | Samples:     96/916 | RMSE Loss: 0.5401 | MSE Loss: 0.5078 | target: -1.3300 | pred: -1.1744\n"
     ]
    },
    {
     "name": "stderr",
     "output_type": "stream",
     "text": [
      "Division 5/5:  13%|█████████▊                                                                   | 130/1015 [00:17<01:48,  8.15it/s]"
     ]
    },
    {
     "name": "stdout",
     "output_type": "stream",
     "text": [
      "Epoch:   5 | Samples:    128/916 | RMSE Loss: 0.5078 | MSE Loss: 0.4433 | target: 0.0090 | pred: 0.2138\n"
     ]
    },
    {
     "name": "stderr",
     "output_type": "stream",
     "text": [
      "Division 5/5:  16%|████████████▏                                                                | 160/1015 [00:21<01:51,  7.66it/s]"
     ]
    },
    {
     "name": "stdout",
     "output_type": "stream",
     "text": [
      "Epoch:   5 | Samples:    160/916 | RMSE Loss: 0.5054 | MSE Loss: 0.4425 | target: -1.0900 | pred: -1.4493\n"
     ]
    },
    {
     "name": "stderr",
     "output_type": "stream",
     "text": [
      "Division 5/5:  19%|██████████████▋                                                              | 194/1015 [00:27<02:06,  6.50it/s]"
     ]
    },
    {
     "name": "stdout",
     "output_type": "stream",
     "text": [
      "Epoch:   5 | Samples:    192/916 | RMSE Loss: 0.5203 | MSE Loss: 0.4735 | target: -1.3700 | pred: -1.7755\n"
     ]
    },
    {
     "name": "stderr",
     "output_type": "stream",
     "text": [
      "Division 5/5:  22%|█████████████████▏                                                           | 226/1015 [00:31<01:28,  8.89it/s]"
     ]
    },
    {
     "name": "stdout",
     "output_type": "stream",
     "text": [
      "Epoch:   5 | Samples:    224/916 | RMSE Loss: 0.5242 | MSE Loss: 0.4790 | target: -2.0500 | pred: -1.9606\n"
     ]
    },
    {
     "name": "stderr",
     "output_type": "stream",
     "text": [
      "Division 5/5:  25%|███████████████████▍                                                         | 257/1015 [00:36<01:55,  6.55it/s]"
     ]
    },
    {
     "name": "stdout",
     "output_type": "stream",
     "text": [
      "Epoch:   5 | Samples:    256/916 | RMSE Loss: 0.5170 | MSE Loss: 0.4642 | target: -4.4200 | pred: -4.8305\n"
     ]
    },
    {
     "name": "stderr",
     "output_type": "stream",
     "text": [
      "Division 5/5:  28%|█████████████████████▉                                                       | 289/1015 [00:41<02:13,  5.42it/s]"
     ]
    },
    {
     "name": "stdout",
     "output_type": "stream",
     "text": [
      "Epoch:   5 | Samples:    288/916 | RMSE Loss: 0.5197 | MSE Loss: 0.4659 | target: -2.3690 | pred: -2.6259\n"
     ]
    },
    {
     "name": "stderr",
     "output_type": "stream",
     "text": [
      "Division 5/5:  32%|████████████████████████▌                                                    | 323/1015 [00:46<01:23,  8.24it/s]"
     ]
    },
    {
     "name": "stdout",
     "output_type": "stream",
     "text": [
      "Epoch:   5 | Samples:    320/916 | RMSE Loss: 0.5209 | MSE Loss: 0.4753 | target: -3.3500 | pred: -4.4460\n"
     ]
    },
    {
     "name": "stderr",
     "output_type": "stream",
     "text": [
      "Division 5/5:  35%|██████████████████████████▊                                                  | 353/1015 [00:51<02:13,  4.95it/s]"
     ]
    },
    {
     "name": "stdout",
     "output_type": "stream",
     "text": [
      "Epoch:   5 | Samples:    352/916 | RMSE Loss: 0.5362 | MSE Loss: 0.5045 | target: -2.1480 | pred: -1.6439\n"
     ]
    },
    {
     "name": "stderr",
     "output_type": "stream",
     "text": [
      "Division 5/5:  38%|█████████████████████████████▎                                               | 386/1015 [00:57<01:37,  6.44it/s]"
     ]
    },
    {
     "name": "stdout",
     "output_type": "stream",
     "text": [
      "Epoch:   5 | Samples:    384/916 | RMSE Loss: 0.5293 | MSE Loss: 0.4905 | target: -3.4990 | pred: -4.4757\n"
     ]
    },
    {
     "name": "stderr",
     "output_type": "stream",
     "text": [
      "Division 5/5:  41%|███████████████████████████████▋                                             | 418/1015 [01:01<01:08,  8.70it/s]"
     ]
    },
    {
     "name": "stdout",
     "output_type": "stream",
     "text": [
      "Epoch:   5 | Samples:    416/916 | RMSE Loss: 0.5169 | MSE Loss: 0.4717 | target: -1.6140 | pred: -2.1370\n"
     ]
    },
    {
     "name": "stderr",
     "output_type": "stream",
     "text": [
      "Division 5/5:  44%|██████████████████████████████████▏                                          | 450/1015 [01:06<00:57,  9.76it/s]"
     ]
    },
    {
     "name": "stdout",
     "output_type": "stream",
     "text": [
      "Epoch:   5 | Samples:    448/916 | RMSE Loss: 0.5171 | MSE Loss: 0.4655 | target: -4.5600 | pred: -3.9040\n"
     ]
    },
    {
     "name": "stderr",
     "output_type": "stream",
     "text": [
      "Division 5/5:  47%|████████████████████████████████████▍                                        | 481/1015 [01:11<01:02,  8.61it/s]"
     ]
    },
    {
     "name": "stdout",
     "output_type": "stream",
     "text": [
      "Epoch:   5 | Samples:    480/916 | RMSE Loss: 0.5157 | MSE Loss: 0.4597 | target: -2.5100 | pred: -1.5780\n"
     ]
    },
    {
     "name": "stderr",
     "output_type": "stream",
     "text": [
      "Division 5/5:  51%|██████████████████████████████████████▉                                      | 513/1015 [01:15<01:15,  6.66it/s]"
     ]
    },
    {
     "name": "stdout",
     "output_type": "stream",
     "text": [
      "Epoch:   5 | Samples:    512/916 | RMSE Loss: 0.5171 | MSE Loss: 0.4575 | target: -3.3600 | pred: -3.2321\n"
     ]
    },
    {
     "name": "stderr",
     "output_type": "stream",
     "text": [
      "Division 5/5:  54%|█████████████████████████████████████████▍                                   | 546/1015 [01:20<00:57,  8.09it/s]"
     ]
    },
    {
     "name": "stdout",
     "output_type": "stream",
     "text": [
      "Epoch:   5 | Samples:    544/916 | RMSE Loss: 0.5314 | MSE Loss: 0.4925 | target: -7.6800 | pred: -8.3751\n"
     ]
    },
    {
     "name": "stderr",
     "output_type": "stream",
     "text": [
      "Division 5/5:  57%|███████████████████████████████████████████▊                                 | 578/1015 [01:25<01:00,  7.17it/s]"
     ]
    },
    {
     "name": "stdout",
     "output_type": "stream",
     "text": [
      "Epoch:   5 | Samples:    576/916 | RMSE Loss: 0.5319 | MSE Loss: 0.4900 | target: -2.8200 | pred: -2.5931\n"
     ]
    },
    {
     "name": "stderr",
     "output_type": "stream",
     "text": [
      "Division 5/5:  60%|██████████████████████████████████████████████▏                              | 609/1015 [01:29<00:44,  9.05it/s]"
     ]
    },
    {
     "name": "stdout",
     "output_type": "stream",
     "text": [
      "Epoch:   5 | Samples:    608/916 | RMSE Loss: 0.5332 | MSE Loss: 0.4889 | target: -2.0300 | pred: -2.0760\n"
     ]
    },
    {
     "name": "stderr",
     "output_type": "stream",
     "text": [
      "Division 5/5:  63%|████████████████████████████████████████████████▋                            | 642/1015 [01:33<00:35, 10.63it/s]"
     ]
    },
    {
     "name": "stdout",
     "output_type": "stream",
     "text": [
      "Epoch:   5 | Samples:    640/916 | RMSE Loss: 0.5292 | MSE Loss: 0.4844 | target: -2.6800 | pred: -2.4887\n"
     ]
    },
    {
     "name": "stderr",
     "output_type": "stream",
     "text": [
      "Division 5/5:  66%|███████████████████████████████████████████████████▏                         | 674/1015 [01:38<00:46,  7.28it/s]"
     ]
    },
    {
     "name": "stdout",
     "output_type": "stream",
     "text": [
      "Epoch:   5 | Samples:    672/916 | RMSE Loss: 0.5250 | MSE Loss: 0.4753 | target: -3.9530 | pred: -4.2486\n"
     ]
    },
    {
     "name": "stderr",
     "output_type": "stream",
     "text": [
      "Division 5/5:  70%|█████████████████████████████████████████████████████▋                       | 707/1015 [01:41<00:39,  7.72it/s]"
     ]
    },
    {
     "name": "stdout",
     "output_type": "stream",
     "text": [
      "Epoch:   5 | Samples:    704/916 | RMSE Loss: 0.5178 | MSE Loss: 0.4660 | target: -3.0940 | pred: -2.6848\n"
     ]
    },
    {
     "name": "stderr",
     "output_type": "stream",
     "text": [
      "Division 5/5:  73%|███████████████████████████████████████████████████████▉                     | 738/1015 [01:45<00:36,  7.62it/s]"
     ]
    },
    {
     "name": "stdout",
     "output_type": "stream",
     "text": [
      "Epoch:   5 | Samples:    736/916 | RMSE Loss: 0.5174 | MSE Loss: 0.4639 | target: -4.9070 | pred: -4.0794\n"
     ]
    },
    {
     "name": "stderr",
     "output_type": "stream",
     "text": [
      "Division 5/5:  76%|██████████████████████████████████████████████████████████▍                  | 770/1015 [01:49<00:31,  7.87it/s]"
     ]
    },
    {
     "name": "stdout",
     "output_type": "stream",
     "text": [
      "Epoch:   5 | Samples:    768/916 | RMSE Loss: 0.5157 | MSE Loss: 0.4575 | target: -0.1400 | pred: -0.3693\n"
     ]
    },
    {
     "name": "stderr",
     "output_type": "stream",
     "text": [
      "Division 5/5:  79%|████████████████████████████████████████████████████████████▊                | 801/1015 [01:54<00:32,  6.63it/s]"
     ]
    },
    {
     "name": "stdout",
     "output_type": "stream",
     "text": [
      "Epoch:   5 | Samples:    800/916 | RMSE Loss: 0.5203 | MSE Loss: 0.4643 | target: -3.7000 | pred: -4.4453\n"
     ]
    },
    {
     "name": "stderr",
     "output_type": "stream",
     "text": [
      "Division 5/5:  82%|███████████████████████████████████████████████████████████████▎             | 834/1015 [01:59<00:26,  6.79it/s]"
     ]
    },
    {
     "name": "stdout",
     "output_type": "stream",
     "text": [
      "Epoch:   5 | Samples:    832/916 | RMSE Loss: 0.5186 | MSE Loss: 0.4613 | target: -4.0800 | pred: -4.5207\n"
     ]
    },
    {
     "name": "stderr",
     "output_type": "stream",
     "text": [
      "Division 5/5:  85%|█████████████████████████████████████████████████████████████████▋           | 866/1015 [02:04<00:15,  9.32it/s]"
     ]
    },
    {
     "name": "stdout",
     "output_type": "stream",
     "text": [
      "Epoch:   5 | Samples:    864/916 | RMSE Loss: 0.5197 | MSE Loss: 0.4688 | target: 0.3600 | pred: -0.6225\n"
     ]
    },
    {
     "name": "stderr",
     "output_type": "stream",
     "text": [
      "Division 5/5:  88%|████████████████████████████████████████████████████████████████████         | 898/1015 [02:09<00:15,  7.51it/s]"
     ]
    },
    {
     "name": "stdout",
     "output_type": "stream",
     "text": [
      "Epoch:   5 | Samples:    896/916 | RMSE Loss: 0.5173 | MSE Loss: 0.4658 | target: -7.2100 | pred: -7.4027\n"
     ]
    },
    {
     "name": "stderr",
     "output_type": "stream",
     "text": [
      "Division 5/5:  90%|█████████████████████████████████████████████████████████████████████▍       | 916/1015 [02:11<00:14,  6.95it/s]\n",
      "Division 5/5:   0%|▏                                                                              | 3/1015 [00:00<02:05,  8.06it/s]"
     ]
    },
    {
     "name": "stdout",
     "output_type": "stream",
     "text": [
      "Epoch:   6 | Samples:      0/916 | RMSE Loss: 0.5987 | MSE Loss: 0.3584 | target: -4.5540 | pred: -3.9553\n"
     ]
    },
    {
     "name": "stderr",
     "output_type": "stream",
     "text": [
      "Division 5/5:   3%|██▌                                                                           | 34/1015 [00:04<02:21,  6.94it/s]"
     ]
    },
    {
     "name": "stdout",
     "output_type": "stream",
     "text": [
      "Epoch:   6 | Samples:     32/916 | RMSE Loss: 0.5095 | MSE Loss: 0.4732 | target: -3.8960 | pred: -5.4316\n"
     ]
    },
    {
     "name": "stderr",
     "output_type": "stream",
     "text": [
      "Division 5/5:   7%|█████                                                                         | 66/1015 [00:09<02:32,  6.23it/s]"
     ]
    },
    {
     "name": "stdout",
     "output_type": "stream",
     "text": [
      "Epoch:   6 | Samples:     64/916 | RMSE Loss: 0.4711 | MSE Loss: 0.4182 | target: -4.1000 | pred: -4.2355\n"
     ]
    },
    {
     "name": "stderr",
     "output_type": "stream",
     "text": [
      "Division 5/5:  10%|███████▌                                                                      | 98/1015 [00:13<02:03,  7.41it/s]"
     ]
    },
    {
     "name": "stdout",
     "output_type": "stream",
     "text": [
      "Epoch:   6 | Samples:     96/916 | RMSE Loss: 0.5146 | MSE Loss: 0.4664 | target: -1.3300 | pred: -1.3133\n"
     ]
    },
    {
     "name": "stderr",
     "output_type": "stream",
     "text": [
      "Division 5/5:  13%|█████████▊                                                                   | 130/1015 [00:17<01:49,  8.10it/s]"
     ]
    },
    {
     "name": "stdout",
     "output_type": "stream",
     "text": [
      "Epoch:   6 | Samples:    128/916 | RMSE Loss: 0.4879 | MSE Loss: 0.4127 | target: 0.0090 | pred: 0.2771\n"
     ]
    },
    {
     "name": "stderr",
     "output_type": "stream",
     "text": [
      "Division 5/5:  16%|████████████▏                                                                | 160/1015 [00:22<01:50,  7.71it/s]"
     ]
    },
    {
     "name": "stdout",
     "output_type": "stream",
     "text": [
      "Epoch:   6 | Samples:    160/916 | RMSE Loss: 0.4862 | MSE Loss: 0.4121 | target: -1.0900 | pred: -1.4503\n"
     ]
    },
    {
     "name": "stderr",
     "output_type": "stream",
     "text": [
      "Division 5/5:  19%|██████████████▋                                                              | 194/1015 [00:27<02:06,  6.50it/s]"
     ]
    },
    {
     "name": "stdout",
     "output_type": "stream",
     "text": [
      "Epoch:   6 | Samples:    192/916 | RMSE Loss: 0.5006 | MSE Loss: 0.4360 | target: -1.3700 | pred: -1.7114\n"
     ]
    },
    {
     "name": "stderr",
     "output_type": "stream",
     "text": [
      "Division 5/5:  22%|█████████████████▏                                                           | 226/1015 [00:31<01:28,  8.89it/s]"
     ]
    },
    {
     "name": "stdout",
     "output_type": "stream",
     "text": [
      "Epoch:   6 | Samples:    224/916 | RMSE Loss: 0.5051 | MSE Loss: 0.4417 | target: -2.0500 | pred: -2.0466\n"
     ]
    },
    {
     "name": "stderr",
     "output_type": "stream",
     "text": [
      "Division 5/5:  25%|███████████████████▍                                                         | 257/1015 [00:36<01:54,  6.60it/s]"
     ]
    },
    {
     "name": "stdout",
     "output_type": "stream",
     "text": [
      "Epoch:   6 | Samples:    256/916 | RMSE Loss: 0.4981 | MSE Loss: 0.4309 | target: -4.4200 | pred: -4.9277\n"
     ]
    },
    {
     "name": "stderr",
     "output_type": "stream",
     "text": [
      "Division 5/5:  28%|█████████████████████▉                                                       | 289/1015 [00:41<02:11,  5.53it/s]"
     ]
    },
    {
     "name": "stdout",
     "output_type": "stream",
     "text": [
      "Epoch:   6 | Samples:    288/916 | RMSE Loss: 0.4999 | MSE Loss: 0.4335 | target: -2.3690 | pred: -2.6171\n"
     ]
    },
    {
     "name": "stderr",
     "output_type": "stream",
     "text": [
      "Division 5/5:  32%|████████████████████████▌                                                    | 323/1015 [00:46<01:23,  8.25it/s]"
     ]
    },
    {
     "name": "stdout",
     "output_type": "stream",
     "text": [
      "Epoch:   6 | Samples:    320/916 | RMSE Loss: 0.4994 | MSE Loss: 0.4423 | target: -3.3500 | pred: -4.5398\n"
     ]
    },
    {
     "name": "stderr",
     "output_type": "stream",
     "text": [
      "Division 5/5:  35%|██████████████████████████▊                                                  | 353/1015 [00:51<02:15,  4.89it/s]"
     ]
    },
    {
     "name": "stdout",
     "output_type": "stream",
     "text": [
      "Epoch:   6 | Samples:    352/916 | RMSE Loss: 0.5118 | MSE Loss: 0.4663 | target: -2.1480 | pred: -1.7025\n"
     ]
    },
    {
     "name": "stderr",
     "output_type": "stream",
     "text": [
      "Division 5/5:  38%|█████████████████████████████▎                                               | 386/1015 [00:57<01:37,  6.47it/s]"
     ]
    },
    {
     "name": "stdout",
     "output_type": "stream",
     "text": [
      "Epoch:   6 | Samples:    384/916 | RMSE Loss: 0.5050 | MSE Loss: 0.4507 | target: -3.4990 | pred: -4.4267\n"
     ]
    },
    {
     "name": "stderr",
     "output_type": "stream",
     "text": [
      "Division 5/5:  41%|███████████████████████████████▋                                             | 418/1015 [01:01<01:09,  8.64it/s]"
     ]
    },
    {
     "name": "stdout",
     "output_type": "stream",
     "text": [
      "Epoch:   6 | Samples:    416/916 | RMSE Loss: 0.4933 | MSE Loss: 0.4336 | target: -1.6140 | pred: -2.1019\n"
     ]
    },
    {
     "name": "stderr",
     "output_type": "stream",
     "text": [
      "Division 5/5:  44%|██████████████████████████████████▏                                          | 450/1015 [01:06<00:58,  9.69it/s]"
     ]
    },
    {
     "name": "stdout",
     "output_type": "stream",
     "text": [
      "Epoch:   6 | Samples:    448/916 | RMSE Loss: 0.4944 | MSE Loss: 0.4283 | target: -4.5600 | pred: -3.9735\n"
     ]
    },
    {
     "name": "stderr",
     "output_type": "stream",
     "text": [
      "Division 5/5:  47%|████████████████████████████████████▍                                        | 481/1015 [01:11<01:02,  8.53it/s]"
     ]
    },
    {
     "name": "stdout",
     "output_type": "stream",
     "text": [
      "Epoch:   6 | Samples:    480/916 | RMSE Loss: 0.4939 | MSE Loss: 0.4238 | target: -2.5100 | pred: -1.5712\n"
     ]
    },
    {
     "name": "stderr",
     "output_type": "stream",
     "text": [
      "Division 5/5:  51%|██████████████████████████████████████▉                                      | 513/1015 [01:15<01:15,  6.63it/s]"
     ]
    },
    {
     "name": "stdout",
     "output_type": "stream",
     "text": [
      "Epoch:   6 | Samples:    512/916 | RMSE Loss: 0.4947 | MSE Loss: 0.4217 | target: -3.3600 | pred: -3.3617\n"
     ]
    },
    {
     "name": "stderr",
     "output_type": "stream",
     "text": [
      "Division 5/5:  54%|█████████████████████████████████████████▍                                   | 546/1015 [01:20<00:58,  8.06it/s]"
     ]
    },
    {
     "name": "stdout",
     "output_type": "stream",
     "text": [
      "Epoch:   6 | Samples:    544/916 | RMSE Loss: 0.5084 | MSE Loss: 0.4549 | target: -7.6800 | pred: -8.4137\n"
     ]
    },
    {
     "name": "stderr",
     "output_type": "stream",
     "text": [
      "Division 5/5:  57%|███████████████████████████████████████████▊                                 | 578/1015 [01:25<01:01,  7.16it/s]"
     ]
    },
    {
     "name": "stdout",
     "output_type": "stream",
     "text": [
      "Epoch:   6 | Samples:    576/916 | RMSE Loss: 0.5090 | MSE Loss: 0.4529 | target: -2.8200 | pred: -2.6223\n"
     ]
    },
    {
     "name": "stderr",
     "output_type": "stream",
     "text": [
      "Division 5/5:  60%|██████████████████████████████████████████████▏                              | 609/1015 [01:29<00:43,  9.26it/s]"
     ]
    },
    {
     "name": "stdout",
     "output_type": "stream",
     "text": [
      "Epoch:   6 | Samples:    608/916 | RMSE Loss: 0.5093 | MSE Loss: 0.4510 | target: -2.0300 | pred: -2.0654\n"
     ]
    },
    {
     "name": "stderr",
     "output_type": "stream",
     "text": [
      "Division 5/5:  63%|████████████████████████████████████████████████▋                            | 642/1015 [01:33<00:34, 10.68it/s]"
     ]
    },
    {
     "name": "stdout",
     "output_type": "stream",
     "text": [
      "Epoch:   6 | Samples:    640/916 | RMSE Loss: 0.5056 | MSE Loss: 0.4461 | target: -2.6800 | pred: -2.5192\n"
     ]
    },
    {
     "name": "stderr",
     "output_type": "stream",
     "text": [
      "Division 5/5:  66%|███████████████████████████████████████████████████▏                         | 674/1015 [01:38<00:47,  7.24it/s]"
     ]
    },
    {
     "name": "stdout",
     "output_type": "stream",
     "text": [
      "Epoch:   6 | Samples:    672/916 | RMSE Loss: 0.5010 | MSE Loss: 0.4374 | target: -3.9530 | pred: -4.1140\n"
     ]
    },
    {
     "name": "stderr",
     "output_type": "stream",
     "text": [
      "Division 5/5:  70%|█████████████████████████████████████████████████████▋                       | 707/1015 [01:42<00:40,  7.70it/s]"
     ]
    },
    {
     "name": "stdout",
     "output_type": "stream",
     "text": [
      "Epoch:   6 | Samples:    704/916 | RMSE Loss: 0.4936 | MSE Loss: 0.4282 | target: -3.0940 | pred: -2.6603\n"
     ]
    },
    {
     "name": "stderr",
     "output_type": "stream",
     "text": [
      "Division 5/5:  73%|███████████████████████████████████████████████████████▉                     | 738/1015 [01:45<00:36,  7.63it/s]"
     ]
    },
    {
     "name": "stdout",
     "output_type": "stream",
     "text": [
      "Epoch:   6 | Samples:    736/916 | RMSE Loss: 0.4926 | MSE Loss: 0.4256 | target: -4.9070 | pred: -4.1548\n"
     ]
    },
    {
     "name": "stderr",
     "output_type": "stream",
     "text": [
      "Division 5/5:  76%|██████████████████████████████████████████████████████████▍                  | 770/1015 [01:49<00:31,  7.82it/s]"
     ]
    },
    {
     "name": "stdout",
     "output_type": "stream",
     "text": [
      "Epoch:   6 | Samples:    768/916 | RMSE Loss: 0.4906 | MSE Loss: 0.4194 | target: -0.1400 | pred: -0.3240\n"
     ]
    },
    {
     "name": "stderr",
     "output_type": "stream",
     "text": [
      "Division 5/5:  79%|████████████████████████████████████████████████████████████▊                | 801/1015 [01:54<00:31,  6.75it/s]"
     ]
    },
    {
     "name": "stdout",
     "output_type": "stream",
     "text": [
      "Epoch:   6 | Samples:    800/916 | RMSE Loss: 0.4956 | MSE Loss: 0.4264 | target: -3.7000 | pred: -4.3845\n"
     ]
    },
    {
     "name": "stderr",
     "output_type": "stream",
     "text": [
      "Division 5/5:  82%|███████████████████████████████████████████████████████████████▎             | 834/1015 [01:59<00:26,  6.96it/s]"
     ]
    },
    {
     "name": "stdout",
     "output_type": "stream",
     "text": [
      "Epoch:   6 | Samples:    832/916 | RMSE Loss: 0.4949 | MSE Loss: 0.4250 | target: -4.0800 | pred: -4.5172\n"
     ]
    },
    {
     "name": "stderr",
     "output_type": "stream",
     "text": [
      "Division 5/5:  85%|█████████████████████████████████████████████████████████████████▋           | 866/1015 [02:04<00:15,  9.33it/s]"
     ]
    },
    {
     "name": "stdout",
     "output_type": "stream",
     "text": [
      "Epoch:   6 | Samples:    864/916 | RMSE Loss: 0.4959 | MSE Loss: 0.4316 | target: 0.3600 | pred: -0.5374\n"
     ]
    },
    {
     "name": "stderr",
     "output_type": "stream",
     "text": [
      "Division 5/5:  88%|████████████████████████████████████████████████████████████████████         | 898/1015 [02:09<00:15,  7.48it/s]"
     ]
    },
    {
     "name": "stdout",
     "output_type": "stream",
     "text": [
      "Epoch:   6 | Samples:    896/916 | RMSE Loss: 0.4941 | MSE Loss: 0.4295 | target: -7.2100 | pred: -7.4483\n"
     ]
    },
    {
     "name": "stderr",
     "output_type": "stream",
     "text": [
      "Division 5/5:  90%|█████████████████████████████████████████████████████████████████████▍       | 916/1015 [02:11<00:14,  6.95it/s]\n",
      "Division 5/5:   0%|▏                                                                              | 3/1015 [00:00<02:02,  8.26it/s]"
     ]
    },
    {
     "name": "stdout",
     "output_type": "stream",
     "text": [
      "Epoch:   7 | Samples:      0/916 | RMSE Loss: 0.5627 | MSE Loss: 0.3166 | target: -4.5540 | pred: -3.9913\n"
     ]
    },
    {
     "name": "stderr",
     "output_type": "stream",
     "text": [
      "Division 5/5:   3%|██▌                                                                           | 34/1015 [00:04<02:21,  6.95it/s]"
     ]
    },
    {
     "name": "stdout",
     "output_type": "stream",
     "text": [
      "Epoch:   7 | Samples:     32/916 | RMSE Loss: 0.4882 | MSE Loss: 0.4478 | target: -3.8960 | pred: -5.4099\n"
     ]
    },
    {
     "name": "stderr",
     "output_type": "stream",
     "text": [
      "Division 5/5:   7%|█████                                                                         | 66/1015 [00:09<02:30,  6.32it/s]"
     ]
    },
    {
     "name": "stdout",
     "output_type": "stream",
     "text": [
      "Epoch:   7 | Samples:     64/916 | RMSE Loss: 0.4484 | MSE Loss: 0.3866 | target: -4.1000 | pred: -4.1998\n"
     ]
    },
    {
     "name": "stderr",
     "output_type": "stream",
     "text": [
      "Division 5/5:  10%|███████▌                                                                      | 98/1015 [00:13<02:05,  7.33it/s]"
     ]
    },
    {
     "name": "stdout",
     "output_type": "stream",
     "text": [
      "Epoch:   7 | Samples:     96/916 | RMSE Loss: 0.4927 | MSE Loss: 0.4331 | target: -1.3300 | pred: -1.3186\n"
     ]
    },
    {
     "name": "stderr",
     "output_type": "stream",
     "text": [
      "Division 5/5:  13%|█████████▊                                                                   | 130/1015 [00:17<01:49,  8.07it/s]"
     ]
    },
    {
     "name": "stdout",
     "output_type": "stream",
     "text": [
      "Epoch:   7 | Samples:    128/916 | RMSE Loss: 0.4679 | MSE Loss: 0.3824 | target: 0.0090 | pred: 0.4018\n"
     ]
    },
    {
     "name": "stderr",
     "output_type": "stream",
     "text": [
      "Division 5/5:  16%|████████████▏                                                                | 160/1015 [00:22<01:50,  7.72it/s]"
     ]
    },
    {
     "name": "stdout",
     "output_type": "stream",
     "text": [
      "Epoch:   7 | Samples:    160/916 | RMSE Loss: 0.4693 | MSE Loss: 0.3828 | target: -1.0900 | pred: -1.4439\n"
     ]
    },
    {
     "name": "stderr",
     "output_type": "stream",
     "text": [
      "Division 5/5:  19%|██████████████▋                                                              | 194/1015 [00:27<02:06,  6.51it/s]"
     ]
    },
    {
     "name": "stdout",
     "output_type": "stream",
     "text": [
      "Epoch:   7 | Samples:    192/916 | RMSE Loss: 0.4817 | MSE Loss: 0.4011 | target: -1.3700 | pred: -1.6730\n"
     ]
    },
    {
     "name": "stderr",
     "output_type": "stream",
     "text": [
      "Division 5/5:  22%|█████████████████▏                                                           | 226/1015 [00:31<01:29,  8.85it/s]"
     ]
    },
    {
     "name": "stdout",
     "output_type": "stream",
     "text": [
      "Epoch:   7 | Samples:    224/916 | RMSE Loss: 0.4852 | MSE Loss: 0.4059 | target: -2.0500 | pred: -2.0018\n"
     ]
    },
    {
     "name": "stderr",
     "output_type": "stream",
     "text": [
      "Division 5/5:  25%|███████████████████▍                                                         | 257/1015 [00:36<01:55,  6.57it/s]"
     ]
    },
    {
     "name": "stdout",
     "output_type": "stream",
     "text": [
      "Epoch:   7 | Samples:    256/916 | RMSE Loss: 0.4812 | MSE Loss: 0.3985 | target: -4.4200 | pred: -4.7856\n"
     ]
    },
    {
     "name": "stderr",
     "output_type": "stream",
     "text": [
      "Division 5/5:  28%|█████████████████████▉                                                       | 289/1015 [00:41<02:12,  5.47it/s]"
     ]
    },
    {
     "name": "stdout",
     "output_type": "stream",
     "text": [
      "Epoch:   7 | Samples:    288/916 | RMSE Loss: 0.4820 | MSE Loss: 0.3996 | target: -2.3690 | pred: -2.5334\n"
     ]
    },
    {
     "name": "stderr",
     "output_type": "stream",
     "text": [
      "Division 5/5:  32%|████████████████████████▍                                                    | 322/1015 [00:46<01:30,  7.68it/s]"
     ]
    },
    {
     "name": "stdout",
     "output_type": "stream",
     "text": [
      "Epoch:   7 | Samples:    320/916 | RMSE Loss: 0.4813 | MSE Loss: 0.4095 | target: -3.3500 | pred: -4.6207\n"
     ]
    },
    {
     "name": "stderr",
     "output_type": "stream",
     "text": [
      "Division 5/5:  35%|██████████████████████████▊                                                  | 353/1015 [00:51<02:13,  4.94it/s]"
     ]
    },
    {
     "name": "stdout",
     "output_type": "stream",
     "text": [
      "Epoch:   7 | Samples:    352/916 | RMSE Loss: 0.4929 | MSE Loss: 0.4306 | target: -2.1480 | pred: -1.6688\n"
     ]
    },
    {
     "name": "stderr",
     "output_type": "stream",
     "text": [
      "Division 5/5:  38%|█████████████████████████████▎                                               | 386/1015 [00:57<01:38,  6.42it/s]"
     ]
    },
    {
     "name": "stdout",
     "output_type": "stream",
     "text": [
      "Epoch:   7 | Samples:    384/916 | RMSE Loss: 0.4848 | MSE Loss: 0.4149 | target: -3.4990 | pred: -4.3316\n"
     ]
    },
    {
     "name": "stderr",
     "output_type": "stream",
     "text": [
      "Division 5/5:  41%|███████████████████████████████▋                                             | 418/1015 [01:01<01:08,  8.69it/s]"
     ]
    },
    {
     "name": "stdout",
     "output_type": "stream",
     "text": [
      "Epoch:   7 | Samples:    416/916 | RMSE Loss: 0.4740 | MSE Loss: 0.3998 | target: -1.6140 | pred: -2.0713\n"
     ]
    },
    {
     "name": "stderr",
     "output_type": "stream",
     "text": [
      "Division 5/5:  44%|██████████████████████████████████▏                                          | 450/1015 [01:07<00:57,  9.89it/s]"
     ]
    },
    {
     "name": "stdout",
     "output_type": "stream",
     "text": [
      "Epoch:   7 | Samples:    448/916 | RMSE Loss: 0.4751 | MSE Loss: 0.3950 | target: -4.5600 | pred: -4.0089\n"
     ]
    },
    {
     "name": "stderr",
     "output_type": "stream",
     "text": [
      "Division 5/5:  47%|████████████████████████████████████▍                                        | 481/1015 [01:11<01:02,  8.51it/s]"
     ]
    },
    {
     "name": "stdout",
     "output_type": "stream",
     "text": [
      "Epoch:   7 | Samples:    480/916 | RMSE Loss: 0.4753 | MSE Loss: 0.3914 | target: -2.5100 | pred: -1.5323\n"
     ]
    },
    {
     "name": "stderr",
     "output_type": "stream",
     "text": [
      "Division 5/5:  51%|██████████████████████████████████████▉                                      | 513/1015 [01:15<01:15,  6.64it/s]"
     ]
    },
    {
     "name": "stdout",
     "output_type": "stream",
     "text": [
      "Epoch:   7 | Samples:    512/916 | RMSE Loss: 0.4762 | MSE Loss: 0.3898 | target: -3.3600 | pred: -3.4143\n"
     ]
    },
    {
     "name": "stderr",
     "output_type": "stream",
     "text": [
      "Division 5/5:  54%|█████████████████████████████████████████▍                                   | 546/1015 [01:20<00:58,  7.98it/s]"
     ]
    },
    {
     "name": "stdout",
     "output_type": "stream",
     "text": [
      "Epoch:   7 | Samples:    544/916 | RMSE Loss: 0.4916 | MSE Loss: 0.4248 | target: -7.6800 | pred: -8.5455\n"
     ]
    },
    {
     "name": "stderr",
     "output_type": "stream",
     "text": [
      "Division 5/5:  57%|███████████████████████████████████████████▊                                 | 578/1015 [01:25<01:00,  7.22it/s]"
     ]
    },
    {
     "name": "stdout",
     "output_type": "stream",
     "text": [
      "Epoch:   7 | Samples:    576/916 | RMSE Loss: 0.4931 | MSE Loss: 0.4236 | target: -2.8200 | pred: -2.5817\n"
     ]
    },
    {
     "name": "stderr",
     "output_type": "stream",
     "text": [
      "Division 5/5:  60%|██████████████████████████████████████████████▏                              | 609/1015 [01:29<00:44,  9.16it/s]"
     ]
    },
    {
     "name": "stdout",
     "output_type": "stream",
     "text": [
      "Epoch:   7 | Samples:    608/916 | RMSE Loss: 0.4934 | MSE Loss: 0.4219 | target: -2.0300 | pred: -2.1035\n"
     ]
    },
    {
     "name": "stderr",
     "output_type": "stream",
     "text": [
      "Division 5/5:  63%|████████████████████████████████████████████████▋                            | 642/1015 [01:33<00:35, 10.65it/s]"
     ]
    },
    {
     "name": "stdout",
     "output_type": "stream",
     "text": [
      "Epoch:   7 | Samples:    640/916 | RMSE Loss: 0.4900 | MSE Loss: 0.4177 | target: -2.6800 | pred: -2.5440\n"
     ]
    },
    {
     "name": "stderr",
     "output_type": "stream",
     "text": [
      "Division 5/5:  66%|███████████████████████████████████████████████████▏                         | 674/1015 [01:38<00:46,  7.31it/s]"
     ]
    },
    {
     "name": "stdout",
     "output_type": "stream",
     "text": [
      "Epoch:   7 | Samples:    672/916 | RMSE Loss: 0.4856 | MSE Loss: 0.4099 | target: -3.9530 | pred: -4.0519\n"
     ]
    },
    {
     "name": "stderr",
     "output_type": "stream",
     "text": [
      "Division 5/5:  70%|█████████████████████████████████████████████████████▋                       | 707/1015 [01:42<00:39,  7.70it/s]"
     ]
    },
    {
     "name": "stdout",
     "output_type": "stream",
     "text": [
      "Epoch:   7 | Samples:    704/916 | RMSE Loss: 0.4778 | MSE Loss: 0.4007 | target: -3.0940 | pred: -2.6462\n"
     ]
    },
    {
     "name": "stderr",
     "output_type": "stream",
     "text": [
      "Division 5/5:  73%|███████████████████████████████████████████████████████▉                     | 738/1015 [01:46<00:36,  7.61it/s]"
     ]
    },
    {
     "name": "stdout",
     "output_type": "stream",
     "text": [
      "Epoch:   7 | Samples:    736/916 | RMSE Loss: 0.4765 | MSE Loss: 0.3982 | target: -4.9070 | pred: -4.2168\n"
     ]
    },
    {
     "name": "stderr",
     "output_type": "stream",
     "text": [
      "Division 5/5:  76%|██████████████████████████████████████████████████████████▍                  | 770/1015 [01:50<00:31,  7.87it/s]"
     ]
    },
    {
     "name": "stdout",
     "output_type": "stream",
     "text": [
      "Epoch:   7 | Samples:    768/916 | RMSE Loss: 0.4742 | MSE Loss: 0.3922 | target: -0.1400 | pred: -0.3099\n"
     ]
    },
    {
     "name": "stderr",
     "output_type": "stream",
     "text": [
      "Division 5/5:  79%|████████████████████████████████████████████████████████████▊                | 801/1015 [01:54<00:31,  6.75it/s]"
     ]
    },
    {
     "name": "stdout",
     "output_type": "stream",
     "text": [
      "Epoch:   7 | Samples:    800/916 | RMSE Loss: 0.4795 | MSE Loss: 0.3991 | target: -3.7000 | pred: -4.3245\n"
     ]
    },
    {
     "name": "stderr",
     "output_type": "stream",
     "text": [
      "Division 5/5:  82%|███████████████████████████████████████████████████████████████▎             | 834/1015 [01:59<00:25,  7.02it/s]"
     ]
    },
    {
     "name": "stdout",
     "output_type": "stream",
     "text": [
      "Epoch:   7 | Samples:    832/916 | RMSE Loss: 0.4791 | MSE Loss: 0.3986 | target: -4.0800 | pred: -4.5124\n"
     ]
    },
    {
     "name": "stderr",
     "output_type": "stream",
     "text": [
      "Division 5/5:  85%|█████████████████████████████████████████████████████████████████▋           | 866/1015 [02:04<00:15,  9.33it/s]"
     ]
    },
    {
     "name": "stdout",
     "output_type": "stream",
     "text": [
      "Epoch:   7 | Samples:    864/916 | RMSE Loss: 0.4803 | MSE Loss: 0.4049 | target: 0.3600 | pred: -0.4532\n"
     ]
    },
    {
     "name": "stderr",
     "output_type": "stream",
     "text": [
      "Division 5/5:  88%|████████████████████████████████████████████████████████████████████         | 898/1015 [02:09<00:15,  7.50it/s]"
     ]
    },
    {
     "name": "stdout",
     "output_type": "stream",
     "text": [
      "Epoch:   7 | Samples:    896/916 | RMSE Loss: 0.4792 | MSE Loss: 0.4037 | target: -7.2100 | pred: -7.4879\n"
     ]
    },
    {
     "name": "stderr",
     "output_type": "stream",
     "text": [
      "Division 5/5:  90%|█████████████████████████████████████████████████████████████████████▍       | 916/1015 [02:11<00:14,  6.95it/s]\n",
      "Division 5/5:   0%|▏                                                                              | 3/1015 [00:00<02:03,  8.16it/s]"
     ]
    },
    {
     "name": "stdout",
     "output_type": "stream",
     "text": [
      "Epoch:   8 | Samples:      0/916 | RMSE Loss: 0.5605 | MSE Loss: 0.3142 | target: -4.5540 | pred: -3.9935\n"
     ]
    },
    {
     "name": "stderr",
     "output_type": "stream",
     "text": [
      "Division 5/5:   3%|██▌                                                                           | 34/1015 [00:04<02:22,  6.88it/s]"
     ]
    },
    {
     "name": "stdout",
     "output_type": "stream",
     "text": [
      "Epoch:   8 | Samples:     32/916 | RMSE Loss: 0.4897 | MSE Loss: 0.4402 | target: -3.8960 | pred: -5.4361\n"
     ]
    },
    {
     "name": "stderr",
     "output_type": "stream",
     "text": [
      "Division 5/5:   7%|█████                                                                         | 66/1015 [00:09<02:31,  6.25it/s]"
     ]
    },
    {
     "name": "stdout",
     "output_type": "stream",
     "text": [
      "Epoch:   8 | Samples:     64/916 | RMSE Loss: 0.4405 | MSE Loss: 0.3719 | target: -4.1000 | pred: -4.0754\n"
     ]
    },
    {
     "name": "stderr",
     "output_type": "stream",
     "text": [
      "Division 5/5:  10%|███████▌                                                                      | 98/1015 [00:13<02:04,  7.39it/s]"
     ]
    },
    {
     "name": "stdout",
     "output_type": "stream",
     "text": [
      "Epoch:   8 | Samples:     96/916 | RMSE Loss: 0.4813 | MSE Loss: 0.4102 | target: -1.3300 | pred: -1.3171\n"
     ]
    },
    {
     "name": "stderr",
     "output_type": "stream",
     "text": [
      "Division 5/5:  13%|█████████▊                                                                   | 130/1015 [00:17<01:48,  8.17it/s]"
     ]
    },
    {
     "name": "stdout",
     "output_type": "stream",
     "text": [
      "Epoch:   8 | Samples:    128/916 | RMSE Loss: 0.4563 | MSE Loss: 0.3628 | target: 0.0090 | pred: 0.3505\n"
     ]
    },
    {
     "name": "stderr",
     "output_type": "stream",
     "text": [
      "Division 5/5:  16%|████████████▏                                                                | 160/1015 [00:22<01:51,  7.69it/s]"
     ]
    },
    {
     "name": "stdout",
     "output_type": "stream",
     "text": [
      "Epoch:   8 | Samples:    160/916 | RMSE Loss: 0.4578 | MSE Loss: 0.3629 | target: -1.0900 | pred: -1.4384\n"
     ]
    },
    {
     "name": "stderr",
     "output_type": "stream",
     "text": [
      "Division 5/5:  19%|██████████████▋                                                              | 194/1015 [00:27<02:05,  6.52it/s]"
     ]
    },
    {
     "name": "stdout",
     "output_type": "stream",
     "text": [
      "Epoch:   8 | Samples:    192/916 | RMSE Loss: 0.4686 | MSE Loss: 0.3784 | target: -1.3700 | pred: -1.6603\n"
     ]
    },
    {
     "name": "stderr",
     "output_type": "stream",
     "text": [
      "Division 5/5:  22%|█████████████████▏                                                           | 226/1015 [00:31<01:29,  8.77it/s]"
     ]
    },
    {
     "name": "stdout",
     "output_type": "stream",
     "text": [
      "Epoch:   8 | Samples:    224/916 | RMSE Loss: 0.4725 | MSE Loss: 0.3832 | target: -2.0500 | pred: -2.0283\n"
     ]
    },
    {
     "name": "stderr",
     "output_type": "stream",
     "text": [
      "Division 5/5:  25%|███████████████████▍                                                         | 257/1015 [00:36<01:54,  6.65it/s]"
     ]
    },
    {
     "name": "stdout",
     "output_type": "stream",
     "text": [
      "Epoch:   8 | Samples:    256/916 | RMSE Loss: 0.4698 | MSE Loss: 0.3774 | target: -4.4200 | pred: -4.7965\n"
     ]
    },
    {
     "name": "stderr",
     "output_type": "stream",
     "text": [
      "Division 5/5:  28%|█████████████████████▉                                                       | 289/1015 [00:41<02:12,  5.50it/s]"
     ]
    },
    {
     "name": "stdout",
     "output_type": "stream",
     "text": [
      "Epoch:   8 | Samples:    288/916 | RMSE Loss: 0.4710 | MSE Loss: 0.3792 | target: -2.3690 | pred: -2.5471\n"
     ]
    },
    {
     "name": "stderr",
     "output_type": "stream",
     "text": [
      "Division 5/5:  32%|████████████████████████▌                                                    | 323/1015 [00:46<01:24,  8.23it/s]"
     ]
    },
    {
     "name": "stdout",
     "output_type": "stream",
     "text": [
      "Epoch:   8 | Samples:    320/916 | RMSE Loss: 0.4698 | MSE Loss: 0.3884 | target: -3.3500 | pred: -4.6045\n"
     ]
    },
    {
     "name": "stderr",
     "output_type": "stream",
     "text": [
      "Division 5/5:  35%|██████████████████████████▊                                                  | 353/1015 [00:51<02:14,  4.91it/s]"
     ]
    },
    {
     "name": "stdout",
     "output_type": "stream",
     "text": [
      "Epoch:   8 | Samples:    352/916 | RMSE Loss: 0.4794 | MSE Loss: 0.4065 | target: -2.1480 | pred: -1.7307\n"
     ]
    },
    {
     "name": "stderr",
     "output_type": "stream",
     "text": [
      "Division 5/5:  38%|█████████████████████████████▎                                               | 386/1015 [00:57<01:37,  6.42it/s]"
     ]
    },
    {
     "name": "stdout",
     "output_type": "stream",
     "text": [
      "Epoch:   8 | Samples:    384/916 | RMSE Loss: 0.4710 | MSE Loss: 0.3909 | target: -3.4990 | pred: -4.2841\n"
     ]
    },
    {
     "name": "stderr",
     "output_type": "stream",
     "text": [
      "Division 5/5:  41%|███████████████████████████████▋                                             | 418/1015 [01:01<01:08,  8.68it/s]"
     ]
    },
    {
     "name": "stdout",
     "output_type": "stream",
     "text": [
      "Epoch:   8 | Samples:    416/916 | RMSE Loss: 0.4612 | MSE Loss: 0.3773 | target: -1.6140 | pred: -2.0659\n"
     ]
    },
    {
     "name": "stderr",
     "output_type": "stream",
     "text": [
      "Division 5/5:  44%|██████████████████████████████████▏                                          | 450/1015 [01:07<00:57,  9.81it/s]"
     ]
    },
    {
     "name": "stdout",
     "output_type": "stream",
     "text": [
      "Epoch:   8 | Samples:    448/916 | RMSE Loss: 0.4629 | MSE Loss: 0.3734 | target: -4.5600 | pred: -4.0579\n"
     ]
    },
    {
     "name": "stderr",
     "output_type": "stream",
     "text": [
      "Division 5/5:  47%|████████████████████████████████████▍                                        | 481/1015 [01:11<01:02,  8.51it/s]"
     ]
    },
    {
     "name": "stdout",
     "output_type": "stream",
     "text": [
      "Epoch:   8 | Samples:    480/916 | RMSE Loss: 0.4631 | MSE Loss: 0.3703 | target: -2.5100 | pred: -1.5106\n"
     ]
    },
    {
     "name": "stderr",
     "output_type": "stream",
     "text": [
      "Division 5/5:  51%|██████████████████████████████████████▉                                      | 513/1015 [01:15<01:17,  6.48it/s]"
     ]
    },
    {
     "name": "stdout",
     "output_type": "stream",
     "text": [
      "Epoch:   8 | Samples:    512/916 | RMSE Loss: 0.4641 | MSE Loss: 0.3691 | target: -3.3600 | pred: -3.4833\n"
     ]
    },
    {
     "name": "stderr",
     "output_type": "stream",
     "text": [
      "Division 5/5:  54%|█████████████████████████████████████████▍                                   | 546/1015 [01:20<00:58,  8.07it/s]"
     ]
    },
    {
     "name": "stdout",
     "output_type": "stream",
     "text": [
      "Epoch:   8 | Samples:    544/916 | RMSE Loss: 0.4791 | MSE Loss: 0.4024 | target: -7.6800 | pred: -8.5972\n"
     ]
    },
    {
     "name": "stderr",
     "output_type": "stream",
     "text": [
      "Division 5/5:  57%|███████████████████████████████████████████▊                                 | 578/1015 [01:25<01:00,  7.25it/s]"
     ]
    },
    {
     "name": "stdout",
     "output_type": "stream",
     "text": [
      "Epoch:   8 | Samples:    576/916 | RMSE Loss: 0.4809 | MSE Loss: 0.4024 | target: -2.8200 | pred: -2.6000\n"
     ]
    },
    {
     "name": "stderr",
     "output_type": "stream",
     "text": [
      "Division 5/5:  60%|██████████████████████████████████████████████▏                              | 609/1015 [01:29<00:43,  9.36it/s]"
     ]
    },
    {
     "name": "stdout",
     "output_type": "stream",
     "text": [
      "Epoch:   8 | Samples:    608/916 | RMSE Loss: 0.4801 | MSE Loss: 0.3997 | target: -2.0300 | pred: -2.1204\n"
     ]
    },
    {
     "name": "stderr",
     "output_type": "stream",
     "text": [
      "Division 5/5:  63%|████████████████████████████████████████████████▋                            | 642/1015 [01:33<00:35, 10.59it/s]"
     ]
    },
    {
     "name": "stdout",
     "output_type": "stream",
     "text": [
      "Epoch:   8 | Samples:    640/916 | RMSE Loss: 0.4761 | MSE Loss: 0.3943 | target: -2.6800 | pred: -2.5368\n"
     ]
    },
    {
     "name": "stderr",
     "output_type": "stream",
     "text": [
      "Division 5/5:  66%|███████████████████████████████████████████████████▏                         | 674/1015 [01:38<00:46,  7.33it/s]"
     ]
    },
    {
     "name": "stdout",
     "output_type": "stream",
     "text": [
      "Epoch:   8 | Samples:    672/916 | RMSE Loss: 0.4720 | MSE Loss: 0.3874 | target: -3.9530 | pred: -4.0107\n"
     ]
    },
    {
     "name": "stderr",
     "output_type": "stream",
     "text": [
      "Division 5/5:  70%|█████████████████████████████████████████████████████▋                       | 707/1015 [01:42<00:39,  7.75it/s]"
     ]
    },
    {
     "name": "stdout",
     "output_type": "stream",
     "text": [
      "Epoch:   8 | Samples:    704/916 | RMSE Loss: 0.4645 | MSE Loss: 0.3790 | target: -3.0940 | pred: -2.6051\n"
     ]
    },
    {
     "name": "stderr",
     "output_type": "stream",
     "text": [
      "Division 5/5:  73%|███████████████████████████████████████████████████████▉                     | 738/1015 [01:46<00:36,  7.66it/s]"
     ]
    },
    {
     "name": "stdout",
     "output_type": "stream",
     "text": [
      "Epoch:   8 | Samples:    736/916 | RMSE Loss: 0.4626 | MSE Loss: 0.3762 | target: -4.9070 | pred: -4.2373\n"
     ]
    },
    {
     "name": "stderr",
     "output_type": "stream",
     "text": [
      "Division 5/5:  76%|██████████████████████████████████████████████████████████▍                  | 770/1015 [01:50<00:31,  7.87it/s]"
     ]
    },
    {
     "name": "stdout",
     "output_type": "stream",
     "text": [
      "Epoch:   8 | Samples:    768/916 | RMSE Loss: 0.4600 | MSE Loss: 0.3705 | target: -0.1400 | pred: -0.2702\n"
     ]
    },
    {
     "name": "stderr",
     "output_type": "stream",
     "text": [
      "Division 5/5:  79%|████████████████████████████████████████████████████████████▊                | 801/1015 [01:54<00:31,  6.78it/s]"
     ]
    },
    {
     "name": "stdout",
     "output_type": "stream",
     "text": [
      "Epoch:   8 | Samples:    800/916 | RMSE Loss: 0.4653 | MSE Loss: 0.3771 | target: -3.7000 | pred: -4.2644\n"
     ]
    },
    {
     "name": "stderr",
     "output_type": "stream",
     "text": [
      "Division 5/5:  82%|███████████████████████████████████████████████████████████████▎             | 834/1015 [01:59<00:26,  6.86it/s]"
     ]
    },
    {
     "name": "stdout",
     "output_type": "stream",
     "text": [
      "Epoch:   8 | Samples:    832/916 | RMSE Loss: 0.4654 | MSE Loss: 0.3774 | target: -4.0800 | pred: -4.5025\n"
     ]
    },
    {
     "name": "stderr",
     "output_type": "stream",
     "text": [
      "Division 5/5:  85%|█████████████████████████████████████████████████████████████████▋           | 866/1015 [02:04<00:15,  9.33it/s]"
     ]
    },
    {
     "name": "stdout",
     "output_type": "stream",
     "text": [
      "Epoch:   8 | Samples:    864/916 | RMSE Loss: 0.4663 | MSE Loss: 0.3830 | target: 0.3600 | pred: -0.4100\n"
     ]
    },
    {
     "name": "stderr",
     "output_type": "stream",
     "text": [
      "Division 5/5:  88%|████████████████████████████████████████████████████████████████████         | 898/1015 [02:09<00:15,  7.62it/s]"
     ]
    },
    {
     "name": "stdout",
     "output_type": "stream",
     "text": [
      "Epoch:   8 | Samples:    896/916 | RMSE Loss: 0.4650 | MSE Loss: 0.3821 | target: -7.2100 | pred: -7.4570\n"
     ]
    },
    {
     "name": "stderr",
     "output_type": "stream",
     "text": [
      "Division 5/5:  90%|█████████████████████████████████████████████████████████████████████▍       | 916/1015 [02:11<00:14,  6.95it/s]\n",
      "Division 5/5:   0%|▏                                                                              | 3/1015 [00:00<02:03,  8.22it/s]"
     ]
    },
    {
     "name": "stdout",
     "output_type": "stream",
     "text": [
      "Epoch:   9 | Samples:      0/916 | RMSE Loss: 0.5251 | MSE Loss: 0.2757 | target: -4.5540 | pred: -4.0289\n"
     ]
    },
    {
     "name": "stderr",
     "output_type": "stream",
     "text": [
      "Division 5/5:   3%|██▌                                                                           | 34/1015 [00:04<02:21,  6.91it/s]"
     ]
    },
    {
     "name": "stdout",
     "output_type": "stream",
     "text": [
      "Epoch:   9 | Samples:     32/916 | RMSE Loss: 0.4860 | MSE Loss: 0.4196 | target: -3.8960 | pred: -5.3303\n"
     ]
    },
    {
     "name": "stderr",
     "output_type": "stream",
     "text": [
      "Division 5/5:   7%|█████                                                                         | 66/1015 [00:09<02:30,  6.32it/s]"
     ]
    },
    {
     "name": "stdout",
     "output_type": "stream",
     "text": [
      "Epoch:   9 | Samples:     64/916 | RMSE Loss: 0.4303 | MSE Loss: 0.3397 | target: -4.1000 | pred: -4.0225\n"
     ]
    },
    {
     "name": "stderr",
     "output_type": "stream",
     "text": [
      "Division 5/5:  10%|███████▌                                                                      | 98/1015 [00:13<02:01,  7.52it/s]"
     ]
    },
    {
     "name": "stdout",
     "output_type": "stream",
     "text": [
      "Epoch:   9 | Samples:     96/916 | RMSE Loss: 0.4761 | MSE Loss: 0.3855 | target: -1.3300 | pred: -1.4083\n"
     ]
    },
    {
     "name": "stderr",
     "output_type": "stream",
     "text": [
      "Division 5/5:  13%|█████████▊                                                                   | 130/1015 [00:17<01:48,  8.13it/s]"
     ]
    },
    {
     "name": "stdout",
     "output_type": "stream",
     "text": [
      "Epoch:   9 | Samples:    128/916 | RMSE Loss: 0.4508 | MSE Loss: 0.3430 | target: 0.0090 | pred: 0.3822\n"
     ]
    },
    {
     "name": "stderr",
     "output_type": "stream",
     "text": [
      "Division 5/5:  16%|████████████▏                                                                | 160/1015 [00:21<01:50,  7.75it/s]"
     ]
    },
    {
     "name": "stdout",
     "output_type": "stream",
     "text": [
      "Epoch:   9 | Samples:    160/916 | RMSE Loss: 0.4525 | MSE Loss: 0.3440 | target: -1.0900 | pred: -1.4388\n"
     ]
    },
    {
     "name": "stderr",
     "output_type": "stream",
     "text": [
      "Division 5/5:  19%|██████████████▋                                                              | 194/1015 [00:26<02:04,  6.57it/s]"
     ]
    },
    {
     "name": "stdout",
     "output_type": "stream",
     "text": [
      "Epoch:   9 | Samples:    192/916 | RMSE Loss: 0.4606 | MSE Loss: 0.3592 | target: -1.3700 | pred: -1.6810\n"
     ]
    },
    {
     "name": "stderr",
     "output_type": "stream",
     "text": [
      "Division 5/5:  22%|█████████████████▏                                                           | 226/1015 [00:31<01:27,  8.98it/s]"
     ]
    },
    {
     "name": "stdout",
     "output_type": "stream",
     "text": [
      "Epoch:   9 | Samples:    224/916 | RMSE Loss: 0.4647 | MSE Loss: 0.3638 | target: -2.0500 | pred: -2.1354\n"
     ]
    },
    {
     "name": "stderr",
     "output_type": "stream",
     "text": [
      "Division 5/5:  25%|███████████████████▍                                                         | 257/1015 [00:36<01:53,  6.67it/s]"
     ]
    },
    {
     "name": "stdout",
     "output_type": "stream",
     "text": [
      "Epoch:   9 | Samples:    256/916 | RMSE Loss: 0.4645 | MSE Loss: 0.3620 | target: -4.4200 | pred: -4.9751\n"
     ]
    },
    {
     "name": "stderr",
     "output_type": "stream",
     "text": [
      "Division 5/5:  28%|█████████████████████▉                                                       | 289/1015 [00:41<02:19,  5.19it/s]"
     ]
    },
    {
     "name": "stdout",
     "output_type": "stream",
     "text": [
      "Epoch:   9 | Samples:    288/916 | RMSE Loss: 0.4658 | MSE Loss: 0.3663 | target: -2.3690 | pred: -2.5062\n"
     ]
    },
    {
     "name": "stderr",
     "output_type": "stream",
     "text": [
      "Division 5/5:  32%|████████████████████████▍                                                    | 322/1015 [00:45<01:32,  7.52it/s]"
     ]
    },
    {
     "name": "stdout",
     "output_type": "stream",
     "text": [
      "Epoch:   9 | Samples:    320/916 | RMSE Loss: 0.4644 | MSE Loss: 0.3750 | target: -3.3500 | pred: -4.5423\n"
     ]
    },
    {
     "name": "stderr",
     "output_type": "stream",
     "text": [
      "Division 5/5:  35%|██████████████████████████▊                                                  | 353/1015 [00:51<02:13,  4.95it/s]"
     ]
    },
    {
     "name": "stdout",
     "output_type": "stream",
     "text": [
      "Epoch:   9 | Samples:    352/916 | RMSE Loss: 0.4721 | MSE Loss: 0.3899 | target: -2.1480 | pred: -1.7687\n"
     ]
    },
    {
     "name": "stderr",
     "output_type": "stream",
     "text": [
      "Division 5/5:  38%|█████████████████████████████▎                                               | 386/1015 [00:57<01:38,  6.41it/s]"
     ]
    },
    {
     "name": "stdout",
     "output_type": "stream",
     "text": [
      "Epoch:   9 | Samples:    384/916 | RMSE Loss: 0.4628 | MSE Loss: 0.3737 | target: -3.4990 | pred: -4.2573\n"
     ]
    },
    {
     "name": "stderr",
     "output_type": "stream",
     "text": [
      "Division 5/5:  41%|███████████████████████████████▋                                             | 418/1015 [01:01<01:09,  8.60it/s]"
     ]
    },
    {
     "name": "stdout",
     "output_type": "stream",
     "text": [
      "Epoch:   9 | Samples:    416/916 | RMSE Loss: 0.4533 | MSE Loss: 0.3607 | target: -1.6140 | pred: -2.0358\n"
     ]
    },
    {
     "name": "stderr",
     "output_type": "stream",
     "text": [
      "Division 5/5:  44%|██████████████████████████████████▏                                          | 450/1015 [01:06<00:58,  9.70it/s]"
     ]
    },
    {
     "name": "stdout",
     "output_type": "stream",
     "text": [
      "Epoch:   9 | Samples:    448/916 | RMSE Loss: 0.4545 | MSE Loss: 0.3566 | target: -4.5600 | pred: -4.0916\n"
     ]
    },
    {
     "name": "stderr",
     "output_type": "stream",
     "text": [
      "Division 5/5:  47%|████████████████████████████████████▍                                        | 481/1015 [01:11<01:02,  8.49it/s]"
     ]
    },
    {
     "name": "stdout",
     "output_type": "stream",
     "text": [
      "Epoch:   9 | Samples:    480/916 | RMSE Loss: 0.4548 | MSE Loss: 0.3543 | target: -2.5100 | pred: -1.5082\n"
     ]
    },
    {
     "name": "stderr",
     "output_type": "stream",
     "text": [
      "Division 5/5:  51%|██████████████████████████████████████▉                                      | 514/1015 [01:15<01:21,  6.16it/s]"
     ]
    },
    {
     "name": "stdout",
     "output_type": "stream",
     "text": [
      "Epoch:   9 | Samples:    512/916 | RMSE Loss: 0.4553 | MSE Loss: 0.3526 | target: -3.3600 | pred: -3.5402\n"
     ]
    },
    {
     "name": "stderr",
     "output_type": "stream",
     "text": [
      "Division 5/5:  54%|█████████████████████████████████████████▍                                   | 546/1015 [01:20<00:58,  7.97it/s]"
     ]
    },
    {
     "name": "stdout",
     "output_type": "stream",
     "text": [
      "Epoch:   9 | Samples:    544/916 | RMSE Loss: 0.4694 | MSE Loss: 0.3838 | target: -7.6800 | pred: -8.5357\n"
     ]
    },
    {
     "name": "stderr",
     "output_type": "stream",
     "text": [
      "Division 5/5:  57%|███████████████████████████████████████████▊                                 | 578/1015 [01:25<01:00,  7.20it/s]"
     ]
    },
    {
     "name": "stdout",
     "output_type": "stream",
     "text": [
      "Epoch:   9 | Samples:    576/916 | RMSE Loss: 0.4713 | MSE Loss: 0.3840 | target: -2.8200 | pred: -2.5646\n"
     ]
    },
    {
     "name": "stderr",
     "output_type": "stream",
     "text": [
      "Division 5/5:  60%|██████████████████████████████████████████████▏                              | 609/1015 [01:29<00:43,  9.24it/s]"
     ]
    },
    {
     "name": "stdout",
     "output_type": "stream",
     "text": [
      "Epoch:   9 | Samples:    608/916 | RMSE Loss: 0.4704 | MSE Loss: 0.3815 | target: -2.0300 | pred: -2.1077\n"
     ]
    },
    {
     "name": "stderr",
     "output_type": "stream",
     "text": [
      "Division 5/5:  63%|████████████████████████████████████████████████▋                            | 642/1015 [01:33<00:37, 10.05it/s]"
     ]
    },
    {
     "name": "stdout",
     "output_type": "stream",
     "text": [
      "Epoch:   9 | Samples:    640/916 | RMSE Loss: 0.4664 | MSE Loss: 0.3758 | target: -2.6800 | pred: -2.5356\n"
     ]
    },
    {
     "name": "stderr",
     "output_type": "stream",
     "text": [
      "Division 5/5:  66%|███████████████████████████████████████████████████▏                         | 674/1015 [01:38<00:47,  7.25it/s]"
     ]
    },
    {
     "name": "stdout",
     "output_type": "stream",
     "text": [
      "Epoch:   9 | Samples:    672/916 | RMSE Loss: 0.4622 | MSE Loss: 0.3693 | target: -3.9530 | pred: -4.0490\n"
     ]
    },
    {
     "name": "stderr",
     "output_type": "stream",
     "text": [
      "Division 5/5:  70%|█████████████████████████████████████████████████████▋                       | 707/1015 [01:41<00:40,  7.69it/s]"
     ]
    },
    {
     "name": "stdout",
     "output_type": "stream",
     "text": [
      "Epoch:   9 | Samples:    704/916 | RMSE Loss: 0.4549 | MSE Loss: 0.3616 | target: -3.0940 | pred: -2.5972\n"
     ]
    },
    {
     "name": "stderr",
     "output_type": "stream",
     "text": [
      "Division 5/5:  73%|███████████████████████████████████████████████████████▉                     | 738/1015 [01:45<00:36,  7.63it/s]"
     ]
    },
    {
     "name": "stdout",
     "output_type": "stream",
     "text": [
      "Epoch:   9 | Samples:    736/916 | RMSE Loss: 0.4529 | MSE Loss: 0.3591 | target: -4.9070 | pred: -4.3525\n"
     ]
    },
    {
     "name": "stderr",
     "output_type": "stream",
     "text": [
      "Division 5/5:  76%|██████████████████████████████████████████████████████████▍                  | 770/1015 [01:49<00:30,  7.91it/s]"
     ]
    },
    {
     "name": "stdout",
     "output_type": "stream",
     "text": [
      "Epoch:   9 | Samples:    768/916 | RMSE Loss: 0.4496 | MSE Loss: 0.3532 | target: -0.1400 | pred: -0.3119\n"
     ]
    },
    {
     "name": "stderr",
     "output_type": "stream",
     "text": [
      "Division 5/5:  79%|████████████████████████████████████████████████████████████▊                | 801/1015 [01:54<00:32,  6.67it/s]"
     ]
    },
    {
     "name": "stdout",
     "output_type": "stream",
     "text": [
      "Epoch:   9 | Samples:    800/916 | RMSE Loss: 0.4548 | MSE Loss: 0.3589 | target: -3.7000 | pred: -4.2133\n"
     ]
    },
    {
     "name": "stderr",
     "output_type": "stream",
     "text": [
      "Division 5/5:  82%|███████████████████████████████████████████████████████████████▎             | 834/1015 [01:59<00:25,  7.00it/s]"
     ]
    },
    {
     "name": "stdout",
     "output_type": "stream",
     "text": [
      "Epoch:   9 | Samples:    832/916 | RMSE Loss: 0.4543 | MSE Loss: 0.3593 | target: -4.0800 | pred: -4.5168\n"
     ]
    },
    {
     "name": "stderr",
     "output_type": "stream",
     "text": [
      "Division 5/5:  85%|█████████████████████████████████████████████████████████████████▋           | 866/1015 [02:03<00:15,  9.37it/s]"
     ]
    },
    {
     "name": "stdout",
     "output_type": "stream",
     "text": [
      "Epoch:   9 | Samples:    864/916 | RMSE Loss: 0.4553 | MSE Loss: 0.3654 | target: 0.3600 | pred: -0.3725\n"
     ]
    },
    {
     "name": "stderr",
     "output_type": "stream",
     "text": [
      "Division 5/5:  88%|████████████████████████████████████████████████████████████████████         | 898/1015 [02:09<00:15,  7.55it/s]"
     ]
    },
    {
     "name": "stdout",
     "output_type": "stream",
     "text": [
      "Epoch:   9 | Samples:    896/916 | RMSE Loss: 0.4537 | MSE Loss: 0.3644 | target: -7.2100 | pred: -7.4455\n"
     ]
    },
    {
     "name": "stderr",
     "output_type": "stream",
     "text": [
      "Division 5/5:  90%|█████████████████████████████████████████████████████████████████████▍       | 916/1015 [02:11<00:14,  6.96it/s]\n"
     ]
    }
   ],
   "source": [
    "gnn_rmse_dict= train_gnn3d_vary_dataset_size(train_samples, min_samples=100, max_samples=(1015-100), divisions=4, n_epochs= 10, printstep=32, save_dir=modeldir, dataset_name=dataset_name)"
   ]
  },
  {
   "cell_type": "code",
   "execution_count": 7,
   "id": "674cc302-9d0b-4f0d-8c9f-40bef3f94fa8",
   "metadata": {},
   "outputs": [
    {
     "data": {
      "image/png": "[encoded data removed]",
      "text/plain": [
       "<Figure size 1000x600 with 1 Axes>"
      ]
     },
     "metadata": {},
     "output_type": "display_data"
    }
   ],
   "source": [
    "# Plot all divisions on the same plot\n",
    "plt.figure(figsize=(10, 6))  # Adjust figure size as needed\n",
    "\n",
    "for key in gnn_rmse_dict.keys():\n",
    "    plt.plot(gnn_rmse_dict[key][\"avg_rmse\"], label=f\"dataset size = {key[1:]}\")\n",
    "\n",
    "plt.legend()\n",
    "plt.title(\"GNN3D RMSE Loss for Different Dataset Sizes\")\n",
    "plt.xlabel(\"Training set size\")\n",
    "plt.ylabel(\"RMSE Loss\")\n",
    "plt.grid(True)\n",
    "plt.tight_layout()\n",
    "\n",
    "# Save the plot\n",
    "plt.savefig(f\"{modeldir}gnn3d_{dataset_name}_all_divisions.svg\", format='svg')\n",
    "plt.show()"
   ]
  },
  {
   "cell_type": "code",
   "execution_count": 8,
   "id": "48ce2298-c8e1-439e-a0ef-fd5b727a0081",
   "metadata": {},
   "outputs": [],
   "source": [
    "def train_autoencoder_model(samples, atom_autoencoder, bond_autoencoder, n_epochs=10, printstep=10, save_dir=\"./models/\", dataset_name=\"logs\"):\n",
    "    \"\"\"Train Autoencoder: Atom and bond\"\"\"\n",
    "    # Set the model in training mode\n",
    "    atom_autoencoder.train()\n",
    "    bond_autoencoder.train()\n",
    "\n",
    "    # Create the directory if it does not exist\n",
    "    os.makedirs(save_dir, exist_ok=True)\n",
    "\n",
    "    # Lists to store losses\n",
    "    avg_atom_rmse_losses = []\n",
    "    avg_bond_rmse_losses = []\n",
    "\n",
    "    for epoch_i in range(n_epochs):\n",
    "        avg_atom_rmse_loss = 0\n",
    "        avg_bond_rmse_loss = 0\n",
    "        total_samples = 0\n",
    "        \n",
    "        for i, molecule in enumerate(samples):\n",
    "            atom_features = molecule[0].to(device)\n",
    "            bond_features = molecule[1].to(device)\n",
    "            \n",
    "            # Forward pass\n",
    "            atom_features_reconstructed = atom_autoencoder(atom_features)\n",
    "            bond_features_reconstructed = bond_autoencoder(bond_features)\n",
    "            \n",
    "            # Calculating loss\n",
    "            atom_loss = mse_loss_fn(atom_features_reconstructed, atom_features)\n",
    "            bond_loss = mse_loss_fn(bond_features_reconstructed, bond_features)\n",
    "            \n",
    "            # Backward pass and optimization step\n",
    "            atom_optimizer.zero_grad()\n",
    "            bond_optimizer.zero_grad()\n",
    "            atom_loss.backward()\n",
    "            bond_loss.backward()\n",
    "            atom_optimizer.step()\n",
    "            bond_optimizer.step()\n",
    "            \n",
    "            # Calculating average loss\n",
    "            avg_atom_rmse_loss = (avg_atom_rmse_loss * total_samples + torch.sqrt(atom_loss).item()) / (total_samples + 1)\n",
    "            avg_bond_rmse_loss = (avg_bond_rmse_loss * total_samples + torch.sqrt(bond_loss).item()) / (total_samples + 1)           \n",
    "            total_samples += 1\n",
    "\n",
    "            \n",
    "            if (i % printstep == 0):\n",
    "                print(f\"Epoch: {epoch_i:>3}/{n_epochs} | Samples: {i:>6}/{len(samples)} | Atom RMSE Loss: {avg_atom_rmse_loss:.4f} | Bond RMSE Loss: {avg_bond_rmse_loss:.4f}\")\n",
    "        \n",
    "        # Append average losses for the epoch to lists\n",
    "        avg_atom_rmse_losses.append(avg_atom_rmse_loss)\n",
    "        avg_bond_rmse_losses.append(avg_bond_rmse_loss)\n",
    "                \n",
    "    # Save the accumulated losses to a file\n",
    "    losses_file = os.path.join(save_dir, f\"autoencoder_losses_{dataset_name}.txt\")\n",
    "    with open(losses_file, 'w') as f:\n",
    "        f.write(f\"Epoch |\\tAtom RMSE Loss |\\tBond RMSE Loss\\n\")\n",
    "        for epoch_i in range(n_epochs):\n",
    "            f.write(f\"{epoch_i}\\t{avg_atom_rmse_losses[epoch_i]}\\t{avg_bond_rmse_losses[epoch_i]}\\n\")\n",
    "\n",
    "    # Save model state\n",
    "    torch.save(atom_autoencoder.state_dict(), f\"{save_dir}atom_autoencoder_{dataset_name}.pth\")\n",
    "    torch.save(bond_autoencoder.state_dict(), f\"{save_dir}bond_autoencoder_{dataset_name}.pth\")\n",
    "    \n",
    "    return avg_atom_rmse_losses, avg_bond_rmse_losses\n",
    "    \n",
    "\n",
    "\n",
    "\n",
    "def process_molecule(molecule, atom_autoencoder, bond_autoencoder):\n",
    "    \"\"\"Separate input features and target\"\"\"\n",
    "    # Ensure molecule has at least 8 elements\n",
    "    if len(molecule) < 8:\n",
    "        return None, None\n",
    "    \n",
    "    target = molecule[8].to(device)  # Assuming target is the 9th element (index 8)\n",
    "    # Assuming first 8 elements are molecule graph input features:\n",
    "    # atomic_features, bond_features, angle_features, dihedral_features, \n",
    "    # global_molecular_features, bond_indices, angle_indices,  dihedral_indices    \n",
    "    molecule_data = [mol_elem.to(device) for mol_elem in molecule[:8]]\n",
    "    \n",
    "    # Putting latent atomic and bond features through encoders\n",
    "    molecule_data[0] = atom_autoencoder.encode(molecule_data[0])\n",
    "    molecule_data[1] = bond_autoencoder.encode(molecule_data[1])\n",
    "    \n",
    "    return molecule_data, target\n",
    "\n",
    "\n",
    "\n",
    "\n",
    "def train_gnn3d_model(gnn3d, samples, atom_autoencoder, bond_autoencoder, n_epochs=10, printstep=10, save_dir=\"./models/\", dataset_name=\"logs\"):\n",
    "    \"\"\"Train GNN3D\"\"\"\n",
    "    # Set the model in training mode\n",
    "    gnn3d.train()\n",
    "\n",
    "    # Create the directory if it does not exist\n",
    "    os.makedirs(save_dir, exist_ok=True)\n",
    "   \n",
    "    # Lists to store losses\n",
    "    avg_rmse_losses_train = []\n",
    "    avg_mse_losses_train = []\n",
    "    avg_rmse_losses_val = []\n",
    "    avg_mse_losses_val = []\n",
    "\n",
    "    # Start timing\n",
    "    start_time = time.time()\n",
    "    \n",
    "    for epoch_i in range(n_epochs):\n",
    "        # Training phase\n",
    "        avg_rmse_loss_train = 0\n",
    "        avg_mse_loss_train = 0\n",
    "        total_samples_train = 0\n",
    "    \n",
    "        for i in tqdm(range(len(train_part_samples)), desc='Training samples'):\n",
    "            molecule_data, target = process_molecule(train_part_samples[i], atom_autoencoder, bond_autoencoder)\n",
    "            if molecule_data is None:\n",
    "                continue\n",
    "        \n",
    "            prediction = gnn3d(molecule_data)\n",
    "            loss = mse_loss_fn(prediction, target)\n",
    "        \n",
    "            gnn_optimizer.zero_grad()\n",
    "            loss.backward()\n",
    "            gnn_optimizer.step()\n",
    "        \n",
    "            avg_rmse_loss_train = (avg_rmse_loss_train * total_samples_train + torch.sqrt(loss).item()) / (total_samples_train + 1)\n",
    "            avg_mse_loss_train = (avg_mse_loss_train * total_samples_train + loss.item()) / (total_samples_train + 1)\n",
    "            total_samples_train += 1\n",
    "        \n",
    "            if (i % printstep == 0):\n",
    "                print(f\"Epoch: {epoch_i:>3} | Train Samples: {i:>6}/{len(train_part_samples)} | RMSE Loss: {avg_rmse_loss_train:.4f} | MSE Loss: {avg_mse_loss_train:.4f}\")\n",
    "    \n",
    "        # Validation phase\n",
    "        avg_rmse_loss_val = 0\n",
    "        avg_mse_loss_val = 0\n",
    "        total_samples_val = 0\n",
    "    \n",
    "        for i in tqdm(range(len(val_samples)), desc='Validation samples'):\n",
    "            molecule_data, target = process_molecule(val_samples[i], atom_autoencoder, bond_autoencoder)\n",
    "            if molecule_data is None:\n",
    "                continue\n",
    "        \n",
    "            prediction = gnn3d(molecule_data)\n",
    "            loss = mse_loss_fn(prediction, target)\n",
    "        \n",
    "            avg_rmse_loss_val = (avg_rmse_loss_val * total_samples_val + torch.sqrt(loss).item()) / (total_samples_val + 1)\n",
    "            avg_mse_loss_val = (avg_mse_loss_val * total_samples_val + loss.item()) / (total_samples_val + 1)\n",
    "            total_samples_val += 1\n",
    "        \n",
    "            if (i % printstep == 0):\n",
    "                print(f\"Epoch: {epoch_i:>3} | Val Samples: {i:>6}/{len(val_samples)} | RMSE Loss: {avg_rmse_loss_val:.4f} | MSE Loss: {avg_mse_loss_val:.4f}\")\n",
    "    \n",
    "        # Append average losses for the epoch to lists\n",
    "        avg_rmse_losses_train.append(avg_rmse_loss_train)\n",
    "        avg_mse_losses_train.append(avg_mse_loss_train)\n",
    "        avg_rmse_losses_val.append(avg_rmse_loss_val)\n",
    "        avg_mse_losses_val.append(avg_mse_loss_val)\n",
    "                \n",
    "    # Save the accumulated losses to a file\n",
    "    losses_file = os.path.join(save_dir, f\"gnn3d_losses_{dataset_name}.txt\")\n",
    "    with open(losses_file, 'w') as f:\n",
    "        f.write(f\"Epoch |\\tRMSE Train Loss |\\tMSE Train Loss |\\tRMSE Val Loss |\\tMSE Val Loss\\n\")\n",
    "        for epoch_i in range(n_epochs):\n",
    "            f.write(f\"{epoch_i}\\t{avg_rmse_losses_train[epoch_i]}\\t{avg_mse_losses_train[epoch_i]}\\t{avg_rmse_losses_val[epoch_i]}\\t{avg_mse_losses_val[epoch_i]}\\n\")\n",
    "\n",
    "    # Save model state\n",
    "    torch.save(gnn3d.state_dict(), f\"{save_dir}gnn3d_{dataset_name}.pth\")\n",
    "\n",
    "    # End timing\n",
    "    end_time = time.time()\n",
    "    \n",
    "    actual_time = end_time - start_time\n",
    "\n",
    "    actual_time_td = datetime.timedelta(seconds=actual_time)\n",
    "    hours = actual_time_td.seconds // 3600\n",
    "    minutes = (actual_time_td.seconds // 60) % 60\n",
    "    seconds = actual_time_td.seconds % 60\n",
    "    actual_time_str = f\"{hours} hours, {minutes} minutes, {seconds} seconds\"\n",
    "    \n",
    "    print(f\"Time taken for training: {actual_time_str}\")\n",
    "    \n",
    "    return avg_rmse_losses_train, avg_mse_losses_train, avg_rmse_losses_val, avg_mse_losses_val\n",
    "\n",
    "\n",
    "\n",
    "\n",
    "def evaluate_gnn3d_model(gnn3d, samples, atom_autoencoder, bond_autoencoder):\n",
    "    \"\"\"Evaluate GNN3D\"\"\"\n",
    "    # Set the model in evaluation mode\n",
    "    gnn3d.eval()\n",
    "\n",
    "    # List to store predictions\n",
    "    predictions = []\n",
    "    targets = []\n",
    "    \n",
    "    avg_rmse_loss = 0\n",
    "    avg_mse_loss = 0\n",
    "    total_samples = 0\n",
    "    \n",
    "    # Start timing\n",
    "    start_time = time.time()\n",
    "    \n",
    "    with torch.no_grad():\n",
    "        for i, molecule in enumerate(samples):\n",
    "            molecule_data, target = process_molecule(molecule, atom_autoencoder, bond_autoencoder)\n",
    "            if molecule_data is None:\n",
    "                continue\n",
    "            \n",
    "            # Forward pass\n",
    "            prediction = gnn3d(molecule_data)\n",
    "\n",
    "            # Extract target, prediction\n",
    "            target_value = target.item()\n",
    "            prediction_value = prediction.item()\n",
    "\n",
    "            # For every test samples\n",
    "            #print(f\"Target: {target.item():.4f} | Prediction: {prediction.item():.4f}\")\n",
    "    \n",
    "            # Store prediction\n",
    "            predictions.append(prediction_value)\n",
    "            targets.append(target_value)\n",
    "                        \n",
    "            # Calculating loss\n",
    "            loss = mse_loss_fn(prediction, target)\n",
    "                     \n",
    "            # Accumulate losses\n",
    "            avg_rmse_loss += (torch.sqrt(loss).item())\n",
    "            avg_mse_loss += loss.item()\n",
    "            total_samples += 1\n",
    "    \n",
    "    # Calculate average losses\n",
    "    avg_rmse_loss /= total_samples\n",
    "    avg_mse_loss /= total_samples\n",
    "\n",
    "    # End timing\n",
    "    end_time = time.time()\n",
    "\n",
    "    actual_time = end_time - start_time\n",
    "\n",
    "    actual_time_td = datetime.timedelta(seconds=actual_time)\n",
    "    hours = actual_time_td.seconds // 3600\n",
    "    minutes = (actual_time_td.seconds // 60) % 60\n",
    "    seconds = actual_time_td.seconds % 60\n",
    "    actual_time_str = f\"{hours} hours, {minutes} minutes, {seconds} seconds\"    \n",
    "    \n",
    "    print(f\"Evaluation Results:\")\n",
    "    print(f\"RMSE Loss: {avg_rmse_loss:.4f}\")\n",
    "    print(f\"MSE Loss: {avg_mse_loss:.4f}\")\n",
    "    print(f\"Time taken for evaluation: {actual_time_str}\")\n",
    "    \n",
    "    return predictions, targets"
   ]
  },
  {
   "cell_type": "markdown",
   "id": "acb3a1fa-cb1b-4397-a444-62b2126099e3",
   "metadata": {},
   "source": [
    "## Training"
   ]
  },
  {
   "cell_type": "markdown",
   "id": "f4253885-98e8-48fb-8847-ba893b9c9b05",
   "metadata": {},
   "source": [
    "### Autoencoder training"
   ]
  },
  {
   "cell_type": "code",
   "execution_count": 9,
   "id": "b723752e-b5db-4c9f-8c77-e26dde760638",
   "metadata": {},
   "outputs": [
    {
     "name": "stdout",
     "output_type": "stream",
     "text": [
      "Training Autoencoder with Atom=46, Bond=3:\n",
      "Epoch:   0/10 | Samples:      0/1015 | Atom RMSE Loss: 0.2168 | Bond RMSE Loss: 0.5344\n",
      "Epoch:   0/10 | Samples:     32/1015 | Atom RMSE Loss: 0.1832 | Bond RMSE Loss: 0.4763\n",
      "Epoch:   0/10 | Samples:     64/1015 | Atom RMSE Loss: 0.1569 | Bond RMSE Loss: 0.4667\n",
      "Epoch:   0/10 | Samples:     96/1015 | Atom RMSE Loss: 0.1474 | Bond RMSE Loss: 0.4535\n",
      "Epoch:   0/10 | Samples:    128/1015 | Atom RMSE Loss: 0.1404 | Bond RMSE Loss: 0.4285\n",
      "Epoch:   0/10 | Samples:    160/1015 | Atom RMSE Loss: 0.1328 | Bond RMSE Loss: 0.4068\n",
      "Epoch:   0/10 | Samples:    192/1015 | Atom RMSE Loss: 0.1239 | Bond RMSE Loss: 0.3830\n",
      "Epoch:   0/10 | Samples:    224/1015 | Atom RMSE Loss: 0.1161 | Bond RMSE Loss: 0.3674\n",
      "Epoch:   0/10 | Samples:    256/1015 | Atom RMSE Loss: 0.1096 | Bond RMSE Loss: 0.3576\n",
      "Epoch:   0/10 | Samples:    288/1015 | Atom RMSE Loss: 0.1041 | Bond RMSE Loss: 0.3495\n",
      "Epoch:   0/10 | Samples:    320/1015 | Atom RMSE Loss: 0.0995 | Bond RMSE Loss: 0.3416\n",
      "Epoch:   0/10 | Samples:    352/1015 | Atom RMSE Loss: 0.0956 | Bond RMSE Loss: 0.3367\n",
      "Epoch:   0/10 | Samples:    384/1015 | Atom RMSE Loss: 0.0919 | Bond RMSE Loss: 0.3313\n",
      "Epoch:   0/10 | Samples:    416/1015 | Atom RMSE Loss: 0.0890 | Bond RMSE Loss: 0.3282\n",
      "Epoch:   0/10 | Samples:    448/1015 | Atom RMSE Loss: 0.0860 | Bond RMSE Loss: 0.3252\n",
      "Epoch:   0/10 | Samples:    480/1015 | Atom RMSE Loss: 0.0836 | Bond RMSE Loss: 0.3211\n",
      "Epoch:   0/10 | Samples:    512/1015 | Atom RMSE Loss: 0.0816 | Bond RMSE Loss: 0.3183\n",
      "Epoch:   0/10 | Samples:    544/1015 | Atom RMSE Loss: 0.0798 | Bond RMSE Loss: 0.3155\n",
      "Epoch:   0/10 | Samples:    576/1015 | Atom RMSE Loss: 0.0781 | Bond RMSE Loss: 0.3122\n",
      "Epoch:   0/10 | Samples:    608/1015 | Atom RMSE Loss: 0.0765 | Bond RMSE Loss: 0.3104\n",
      "Epoch:   0/10 | Samples:    640/1015 | Atom RMSE Loss: 0.0751 | Bond RMSE Loss: 0.3086\n",
      "Epoch:   0/10 | Samples:    672/1015 | Atom RMSE Loss: 0.0736 | Bond RMSE Loss: 0.3066\n",
      "Epoch:   0/10 | Samples:    704/1015 | Atom RMSE Loss: 0.0724 | Bond RMSE Loss: 0.3047\n",
      "Epoch:   0/10 | Samples:    736/1015 | Atom RMSE Loss: 0.0711 | Bond RMSE Loss: 0.3040\n",
      "Epoch:   0/10 | Samples:    768/1015 | Atom RMSE Loss: 0.0699 | Bond RMSE Loss: 0.3026\n",
      "Epoch:   0/10 | Samples:    800/1015 | Atom RMSE Loss: 0.0687 | Bond RMSE Loss: 0.3025\n",
      "Epoch:   0/10 | Samples:    832/1015 | Atom RMSE Loss: 0.0677 | Bond RMSE Loss: 0.3015\n",
      "Epoch:   0/10 | Samples:    864/1015 | Atom RMSE Loss: 0.0668 | Bond RMSE Loss: 0.3003\n",
      "Epoch:   0/10 | Samples:    896/1015 | Atom RMSE Loss: 0.0657 | Bond RMSE Loss: 0.2986\n",
      "Epoch:   0/10 | Samples:    928/1015 | Atom RMSE Loss: 0.0646 | Bond RMSE Loss: 0.2971\n",
      "Epoch:   0/10 | Samples:    960/1015 | Atom RMSE Loss: 0.0638 | Bond RMSE Loss: 0.2952\n",
      "Epoch:   0/10 | Samples:    992/1015 | Atom RMSE Loss: 0.0630 | Bond RMSE Loss: 0.2923\n",
      "Epoch:   1/10 | Samples:      0/1015 | Atom RMSE Loss: 0.0296 | Bond RMSE Loss: 0.1963\n",
      "Epoch:   1/10 | Samples:     32/1015 | Atom RMSE Loss: 0.0317 | Bond RMSE Loss: 0.1527\n",
      "Epoch:   1/10 | Samples:     64/1015 | Atom RMSE Loss: 0.0336 | Bond RMSE Loss: 0.1482\n",
      "Epoch:   1/10 | Samples:     96/1015 | Atom RMSE Loss: 0.0347 | Bond RMSE Loss: 0.1404\n",
      "Epoch:   1/10 | Samples:    128/1015 | Atom RMSE Loss: 0.0366 | Bond RMSE Loss: 0.1366\n",
      "Epoch:   1/10 | Samples:    160/1015 | Atom RMSE Loss: 0.0369 | Bond RMSE Loss: 0.1315\n",
      "Epoch:   1/10 | Samples:    192/1015 | Atom RMSE Loss: 0.0367 | Bond RMSE Loss: 0.1269\n",
      "Epoch:   1/10 | Samples:    224/1015 | Atom RMSE Loss: 0.0366 | Bond RMSE Loss: 0.1227\n",
      "Epoch:   1/10 | Samples:    256/1015 | Atom RMSE Loss: 0.0363 | Bond RMSE Loss: 0.1222\n",
      "Epoch:   1/10 | Samples:    288/1015 | Atom RMSE Loss: 0.0360 | Bond RMSE Loss: 0.1221\n",
      "Epoch:   1/10 | Samples:    320/1015 | Atom RMSE Loss: 0.0358 | Bond RMSE Loss: 0.1189\n",
      "Epoch:   1/10 | Samples:    352/1015 | Atom RMSE Loss: 0.0355 | Bond RMSE Loss: 0.1180\n",
      "Epoch:   1/10 | Samples:    384/1015 | Atom RMSE Loss: 0.0354 | Bond RMSE Loss: 0.1170\n",
      "Epoch:   1/10 | Samples:    416/1015 | Atom RMSE Loss: 0.0353 | Bond RMSE Loss: 0.1168\n",
      "Epoch:   1/10 | Samples:    448/1015 | Atom RMSE Loss: 0.0351 | Bond RMSE Loss: 0.1163\n",
      "Epoch:   1/10 | Samples:    480/1015 | Atom RMSE Loss: 0.0350 | Bond RMSE Loss: 0.1151\n",
      "Epoch:   1/10 | Samples:    512/1015 | Atom RMSE Loss: 0.0348 | Bond RMSE Loss: 0.1150\n",
      "Epoch:   1/10 | Samples:    544/1015 | Atom RMSE Loss: 0.0346 | Bond RMSE Loss: 0.1143\n",
      "Epoch:   1/10 | Samples:    576/1015 | Atom RMSE Loss: 0.0346 | Bond RMSE Loss: 0.1142\n",
      "Epoch:   1/10 | Samples:    608/1015 | Atom RMSE Loss: 0.0344 | Bond RMSE Loss: 0.1130\n",
      "Epoch:   1/10 | Samples:    640/1015 | Atom RMSE Loss: 0.0345 | Bond RMSE Loss: 0.1126\n",
      "Epoch:   1/10 | Samples:    672/1015 | Atom RMSE Loss: 0.0344 | Bond RMSE Loss: 0.1124\n",
      "Epoch:   1/10 | Samples:    704/1015 | Atom RMSE Loss: 0.0343 | Bond RMSE Loss: 0.1110\n",
      "Epoch:   1/10 | Samples:    736/1015 | Atom RMSE Loss: 0.0342 | Bond RMSE Loss: 0.1096\n",
      "Epoch:   1/10 | Samples:    768/1015 | Atom RMSE Loss: 0.0340 | Bond RMSE Loss: 0.1093\n",
      "Epoch:   1/10 | Samples:    800/1015 | Atom RMSE Loss: 0.0339 | Bond RMSE Loss: 0.1091\n",
      "Epoch:   1/10 | Samples:    832/1015 | Atom RMSE Loss: 0.0338 | Bond RMSE Loss: 0.1090\n",
      "Epoch:   1/10 | Samples:    864/1015 | Atom RMSE Loss: 0.0338 | Bond RMSE Loss: 0.1083\n",
      "Epoch:   1/10 | Samples:    896/1015 | Atom RMSE Loss: 0.0337 | Bond RMSE Loss: 0.1074\n",
      "Epoch:   1/10 | Samples:    928/1015 | Atom RMSE Loss: 0.0335 | Bond RMSE Loss: 0.1060\n",
      "Epoch:   1/10 | Samples:    960/1015 | Atom RMSE Loss: 0.0335 | Bond RMSE Loss: 0.1055\n",
      "Epoch:   1/10 | Samples:    992/1015 | Atom RMSE Loss: 0.0334 | Bond RMSE Loss: 0.1048\n",
      "Epoch:   2/10 | Samples:      0/1015 | Atom RMSE Loss: 0.0262 | Bond RMSE Loss: 0.1068\n",
      "Epoch:   2/10 | Samples:     32/1015 | Atom RMSE Loss: 0.0272 | Bond RMSE Loss: 0.0730\n",
      "Epoch:   2/10 | Samples:     64/1015 | Atom RMSE Loss: 0.0284 | Bond RMSE Loss: 0.0771\n",
      "Epoch:   2/10 | Samples:     96/1015 | Atom RMSE Loss: 0.0293 | Bond RMSE Loss: 0.0771\n",
      "Epoch:   2/10 | Samples:    128/1015 | Atom RMSE Loss: 0.0300 | Bond RMSE Loss: 0.0815\n",
      "Epoch:   2/10 | Samples:    160/1015 | Atom RMSE Loss: 0.0301 | Bond RMSE Loss: 0.0812\n",
      "Epoch:   2/10 | Samples:    192/1015 | Atom RMSE Loss: 0.0300 | Bond RMSE Loss: 0.0806\n",
      "Epoch:   2/10 | Samples:    224/1015 | Atom RMSE Loss: 0.0299 | Bond RMSE Loss: 0.0792\n",
      "Epoch:   2/10 | Samples:    256/1015 | Atom RMSE Loss: 0.0296 | Bond RMSE Loss: 0.0809\n",
      "Epoch:   2/10 | Samples:    288/1015 | Atom RMSE Loss: 0.0295 | Bond RMSE Loss: 0.0826\n",
      "Epoch:   2/10 | Samples:    320/1015 | Atom RMSE Loss: 0.0294 | Bond RMSE Loss: 0.0811\n",
      "Epoch:   2/10 | Samples:    352/1015 | Atom RMSE Loss: 0.0292 | Bond RMSE Loss: 0.0815\n",
      "Epoch:   2/10 | Samples:    384/1015 | Atom RMSE Loss: 0.0291 | Bond RMSE Loss: 0.0819\n",
      "Epoch:   2/10 | Samples:    416/1015 | Atom RMSE Loss: 0.0291 | Bond RMSE Loss: 0.0829\n",
      "Epoch:   2/10 | Samples:    448/1015 | Atom RMSE Loss: 0.0289 | Bond RMSE Loss: 0.0833\n",
      "Epoch:   2/10 | Samples:    480/1015 | Atom RMSE Loss: 0.0288 | Bond RMSE Loss: 0.0830\n",
      "Epoch:   2/10 | Samples:    512/1015 | Atom RMSE Loss: 0.0286 | Bond RMSE Loss: 0.0835\n",
      "Epoch:   2/10 | Samples:    544/1015 | Atom RMSE Loss: 0.0285 | Bond RMSE Loss: 0.0834\n",
      "Epoch:   2/10 | Samples:    576/1015 | Atom RMSE Loss: 0.0284 | Bond RMSE Loss: 0.0838\n",
      "Epoch:   2/10 | Samples:    608/1015 | Atom RMSE Loss: 0.0282 | Bond RMSE Loss: 0.0831\n",
      "Epoch:   2/10 | Samples:    640/1015 | Atom RMSE Loss: 0.0283 | Bond RMSE Loss: 0.0832\n",
      "Epoch:   2/10 | Samples:    672/1015 | Atom RMSE Loss: 0.0282 | Bond RMSE Loss: 0.0836\n",
      "Epoch:   2/10 | Samples:    704/1015 | Atom RMSE Loss: 0.0283 | Bond RMSE Loss: 0.0830\n",
      "Epoch:   2/10 | Samples:    736/1015 | Atom RMSE Loss: 0.0284 | Bond RMSE Loss: 0.0821\n",
      "Epoch:   2/10 | Samples:    768/1015 | Atom RMSE Loss: 0.0284 | Bond RMSE Loss: 0.0820\n",
      "Epoch:   2/10 | Samples:    800/1015 | Atom RMSE Loss: 0.0284 | Bond RMSE Loss: 0.0820\n",
      "Epoch:   2/10 | Samples:    832/1015 | Atom RMSE Loss: 0.0284 | Bond RMSE Loss: 0.0820\n",
      "Epoch:   2/10 | Samples:    864/1015 | Atom RMSE Loss: 0.0285 | Bond RMSE Loss: 0.0817\n",
      "Epoch:   2/10 | Samples:    896/1015 | Atom RMSE Loss: 0.0284 | Bond RMSE Loss: 0.0811\n",
      "Epoch:   2/10 | Samples:    928/1015 | Atom RMSE Loss: 0.0283 | Bond RMSE Loss: 0.0802\n",
      "Epoch:   2/10 | Samples:    960/1015 | Atom RMSE Loss: 0.0283 | Bond RMSE Loss: 0.0799\n",
      "Epoch:   2/10 | Samples:    992/1015 | Atom RMSE Loss: 0.0283 | Bond RMSE Loss: 0.0794\n",
      "Epoch:   3/10 | Samples:      0/1015 | Atom RMSE Loss: 0.0243 | Bond RMSE Loss: 0.0814\n",
      "Epoch:   3/10 | Samples:     32/1015 | Atom RMSE Loss: 0.0258 | Bond RMSE Loss: 0.0547\n",
      "Epoch:   3/10 | Samples:     64/1015 | Atom RMSE Loss: 0.0258 | Bond RMSE Loss: 0.0572\n",
      "Epoch:   3/10 | Samples:     96/1015 | Atom RMSE Loss: 0.0264 | Bond RMSE Loss: 0.0576\n",
      "Epoch:   3/10 | Samples:    128/1015 | Atom RMSE Loss: 0.0265 | Bond RMSE Loss: 0.0609\n",
      "Epoch:   3/10 | Samples:    160/1015 | Atom RMSE Loss: 0.0264 | Bond RMSE Loss: 0.0620\n",
      "Epoch:   3/10 | Samples:    192/1015 | Atom RMSE Loss: 0.0264 | Bond RMSE Loss: 0.0609\n",
      "Epoch:   3/10 | Samples:    224/1015 | Atom RMSE Loss: 0.0265 | Bond RMSE Loss: 0.0589\n",
      "Epoch:   3/10 | Samples:    256/1015 | Atom RMSE Loss: 0.0266 | Bond RMSE Loss: 0.0593\n",
      "Epoch:   3/10 | Samples:    288/1015 | Atom RMSE Loss: 0.0269 | Bond RMSE Loss: 0.0598\n",
      "Epoch:   3/10 | Samples:    320/1015 | Atom RMSE Loss: 0.0270 | Bond RMSE Loss: 0.0586\n",
      "Epoch:   3/10 | Samples:    352/1015 | Atom RMSE Loss: 0.0270 | Bond RMSE Loss: 0.0585\n",
      "Epoch:   3/10 | Samples:    384/1015 | Atom RMSE Loss: 0.0270 | Bond RMSE Loss: 0.0584\n",
      "Epoch:   3/10 | Samples:    416/1015 | Atom RMSE Loss: 0.0269 | Bond RMSE Loss: 0.0583\n",
      "Epoch:   3/10 | Samples:    448/1015 | Atom RMSE Loss: 0.0268 | Bond RMSE Loss: 0.0580\n",
      "Epoch:   3/10 | Samples:    480/1015 | Atom RMSE Loss: 0.0266 | Bond RMSE Loss: 0.0579\n",
      "Epoch:   3/10 | Samples:    512/1015 | Atom RMSE Loss: 0.0265 | Bond RMSE Loss: 0.0580\n",
      "Epoch:   3/10 | Samples:    544/1015 | Atom RMSE Loss: 0.0264 | Bond RMSE Loss: 0.0576\n",
      "Epoch:   3/10 | Samples:    576/1015 | Atom RMSE Loss: 0.0264 | Bond RMSE Loss: 0.0574\n",
      "Epoch:   3/10 | Samples:    608/1015 | Atom RMSE Loss: 0.0263 | Bond RMSE Loss: 0.0568\n",
      "Epoch:   3/10 | Samples:    640/1015 | Atom RMSE Loss: 0.0263 | Bond RMSE Loss: 0.0568\n",
      "Epoch:   3/10 | Samples:    672/1015 | Atom RMSE Loss: 0.0263 | Bond RMSE Loss: 0.0566\n",
      "Epoch:   3/10 | Samples:    704/1015 | Atom RMSE Loss: 0.0263 | Bond RMSE Loss: 0.0559\n",
      "Epoch:   3/10 | Samples:    736/1015 | Atom RMSE Loss: 0.0262 | Bond RMSE Loss: 0.0552\n",
      "Epoch:   3/10 | Samples:    768/1015 | Atom RMSE Loss: 0.0262 | Bond RMSE Loss: 0.0548\n",
      "Epoch:   3/10 | Samples:    800/1015 | Atom RMSE Loss: 0.0261 | Bond RMSE Loss: 0.0547\n",
      "Epoch:   3/10 | Samples:    832/1015 | Atom RMSE Loss: 0.0261 | Bond RMSE Loss: 0.0550\n",
      "Epoch:   3/10 | Samples:    864/1015 | Atom RMSE Loss: 0.0262 | Bond RMSE Loss: 0.0551\n",
      "Epoch:   3/10 | Samples:    896/1015 | Atom RMSE Loss: 0.0263 | Bond RMSE Loss: 0.0548\n",
      "Epoch:   3/10 | Samples:    928/1015 | Atom RMSE Loss: 0.0263 | Bond RMSE Loss: 0.0540\n",
      "Epoch:   3/10 | Samples:    960/1015 | Atom RMSE Loss: 0.0263 | Bond RMSE Loss: 0.0537\n",
      "Epoch:   3/10 | Samples:    992/1015 | Atom RMSE Loss: 0.0263 | Bond RMSE Loss: 0.0533\n",
      "Epoch:   4/10 | Samples:      0/1015 | Atom RMSE Loss: 0.0243 | Bond RMSE Loss: 0.0617\n",
      "Epoch:   4/10 | Samples:     32/1015 | Atom RMSE Loss: 0.0263 | Bond RMSE Loss: 0.0313\n",
      "Epoch:   4/10 | Samples:     64/1015 | Atom RMSE Loss: 0.0259 | Bond RMSE Loss: 0.0328\n",
      "Epoch:   4/10 | Samples:     96/1015 | Atom RMSE Loss: 0.0261 | Bond RMSE Loss: 0.0350\n",
      "Epoch:   4/10 | Samples:    128/1015 | Atom RMSE Loss: 0.0262 | Bond RMSE Loss: 0.0362\n",
      "Epoch:   4/10 | Samples:    160/1015 | Atom RMSE Loss: 0.0261 | Bond RMSE Loss: 0.0363\n",
      "Epoch:   4/10 | Samples:    192/1015 | Atom RMSE Loss: 0.0261 | Bond RMSE Loss: 0.0363\n",
      "Epoch:   4/10 | Samples:    224/1015 | Atom RMSE Loss: 0.0261 | Bond RMSE Loss: 0.0353\n",
      "Epoch:   4/10 | Samples:    256/1015 | Atom RMSE Loss: 0.0259 | Bond RMSE Loss: 0.0361\n",
      "Epoch:   4/10 | Samples:    288/1015 | Atom RMSE Loss: 0.0259 | Bond RMSE Loss: 0.0367\n",
      "Epoch:   4/10 | Samples:    320/1015 | Atom RMSE Loss: 0.0258 | Bond RMSE Loss: 0.0362\n",
      "Epoch:   4/10 | Samples:    352/1015 | Atom RMSE Loss: 0.0257 | Bond RMSE Loss: 0.0364\n",
      "Epoch:   4/10 | Samples:    384/1015 | Atom RMSE Loss: 0.0257 | Bond RMSE Loss: 0.0369\n",
      "Epoch:   4/10 | Samples:    416/1015 | Atom RMSE Loss: 0.0256 | Bond RMSE Loss: 0.0370\n",
      "Epoch:   4/10 | Samples:    448/1015 | Atom RMSE Loss: 0.0255 | Bond RMSE Loss: 0.0369\n",
      "Epoch:   4/10 | Samples:    480/1015 | Atom RMSE Loss: 0.0253 | Bond RMSE Loss: 0.0367\n",
      "Epoch:   4/10 | Samples:    512/1015 | Atom RMSE Loss: 0.0253 | Bond RMSE Loss: 0.0371\n",
      "Epoch:   4/10 | Samples:    544/1015 | Atom RMSE Loss: 0.0253 | Bond RMSE Loss: 0.0368\n",
      "Epoch:   4/10 | Samples:    576/1015 | Atom RMSE Loss: 0.0252 | Bond RMSE Loss: 0.0371\n",
      "Epoch:   4/10 | Samples:    608/1015 | Atom RMSE Loss: 0.0252 | Bond RMSE Loss: 0.0369\n",
      "Epoch:   4/10 | Samples:    640/1015 | Atom RMSE Loss: 0.0252 | Bond RMSE Loss: 0.0372\n",
      "Epoch:   4/10 | Samples:    672/1015 | Atom RMSE Loss: 0.0253 | Bond RMSE Loss: 0.0373\n",
      "Epoch:   4/10 | Samples:    704/1015 | Atom RMSE Loss: 0.0253 | Bond RMSE Loss: 0.0371\n",
      "Epoch:   4/10 | Samples:    736/1015 | Atom RMSE Loss: 0.0253 | Bond RMSE Loss: 0.0368\n",
      "Epoch:   4/10 | Samples:    768/1015 | Atom RMSE Loss: 0.0254 | Bond RMSE Loss: 0.0367\n",
      "Epoch:   4/10 | Samples:    800/1015 | Atom RMSE Loss: 0.0254 | Bond RMSE Loss: 0.0369\n",
      "Epoch:   4/10 | Samples:    832/1015 | Atom RMSE Loss: 0.0254 | Bond RMSE Loss: 0.0372\n",
      "Epoch:   4/10 | Samples:    864/1015 | Atom RMSE Loss: 0.0255 | Bond RMSE Loss: 0.0374\n",
      "Epoch:   4/10 | Samples:    896/1015 | Atom RMSE Loss: 0.0256 | Bond RMSE Loss: 0.0370\n",
      "Epoch:   4/10 | Samples:    928/1015 | Atom RMSE Loss: 0.0256 | Bond RMSE Loss: 0.0365\n",
      "Epoch:   4/10 | Samples:    960/1015 | Atom RMSE Loss: 0.0256 | Bond RMSE Loss: 0.0364\n",
      "Epoch:   4/10 | Samples:    992/1015 | Atom RMSE Loss: 0.0257 | Bond RMSE Loss: 0.0363\n",
      "Epoch:   5/10 | Samples:      0/1015 | Atom RMSE Loss: 0.0246 | Bond RMSE Loss: 0.0463\n",
      "Epoch:   5/10 | Samples:     32/1015 | Atom RMSE Loss: 0.0260 | Bond RMSE Loss: 0.0234\n",
      "Epoch:   5/10 | Samples:     64/1015 | Atom RMSE Loss: 0.0257 | Bond RMSE Loss: 0.0247\n",
      "Epoch:   5/10 | Samples:     96/1015 | Atom RMSE Loss: 0.0261 | Bond RMSE Loss: 0.0277\n",
      "Epoch:   5/10 | Samples:    128/1015 | Atom RMSE Loss: 0.0261 | Bond RMSE Loss: 0.0289\n",
      "Epoch:   5/10 | Samples:    160/1015 | Atom RMSE Loss: 0.0259 | Bond RMSE Loss: 0.0290\n",
      "Epoch:   5/10 | Samples:    192/1015 | Atom RMSE Loss: 0.0258 | Bond RMSE Loss: 0.0293\n",
      "Epoch:   5/10 | Samples:    224/1015 | Atom RMSE Loss: 0.0258 | Bond RMSE Loss: 0.0284\n",
      "Epoch:   5/10 | Samples:    256/1015 | Atom RMSE Loss: 0.0257 | Bond RMSE Loss: 0.0290\n",
      "Epoch:   5/10 | Samples:    288/1015 | Atom RMSE Loss: 0.0257 | Bond RMSE Loss: 0.0296\n",
      "Epoch:   5/10 | Samples:    320/1015 | Atom RMSE Loss: 0.0256 | Bond RMSE Loss: 0.0293\n",
      "Epoch:   5/10 | Samples:    352/1015 | Atom RMSE Loss: 0.0256 | Bond RMSE Loss: 0.0296\n",
      "Epoch:   5/10 | Samples:    384/1015 | Atom RMSE Loss: 0.0256 | Bond RMSE Loss: 0.0302\n",
      "Epoch:   5/10 | Samples:    416/1015 | Atom RMSE Loss: 0.0255 | Bond RMSE Loss: 0.0301\n",
      "Epoch:   5/10 | Samples:    448/1015 | Atom RMSE Loss: 0.0254 | Bond RMSE Loss: 0.0301\n",
      "Epoch:   5/10 | Samples:    480/1015 | Atom RMSE Loss: 0.0253 | Bond RMSE Loss: 0.0300\n",
      "Epoch:   5/10 | Samples:    512/1015 | Atom RMSE Loss: 0.0252 | Bond RMSE Loss: 0.0304\n",
      "Epoch:   5/10 | Samples:    544/1015 | Atom RMSE Loss: 0.0252 | Bond RMSE Loss: 0.0302\n",
      "Epoch:   5/10 | Samples:    576/1015 | Atom RMSE Loss: 0.0252 | Bond RMSE Loss: 0.0306\n",
      "Epoch:   5/10 | Samples:    608/1015 | Atom RMSE Loss: 0.0251 | Bond RMSE Loss: 0.0306\n",
      "Epoch:   5/10 | Samples:    640/1015 | Atom RMSE Loss: 0.0251 | Bond RMSE Loss: 0.0310\n",
      "Epoch:   5/10 | Samples:    672/1015 | Atom RMSE Loss: 0.0252 | Bond RMSE Loss: 0.0311\n",
      "Epoch:   5/10 | Samples:    704/1015 | Atom RMSE Loss: 0.0252 | Bond RMSE Loss: 0.0310\n",
      "Epoch:   5/10 | Samples:    736/1015 | Atom RMSE Loss: 0.0253 | Bond RMSE Loss: 0.0308\n",
      "Epoch:   5/10 | Samples:    768/1015 | Atom RMSE Loss: 0.0253 | Bond RMSE Loss: 0.0308\n",
      "Epoch:   5/10 | Samples:    800/1015 | Atom RMSE Loss: 0.0252 | Bond RMSE Loss: 0.0311\n",
      "Epoch:   5/10 | Samples:    832/1015 | Atom RMSE Loss: 0.0252 | Bond RMSE Loss: 0.0315\n",
      "Epoch:   5/10 | Samples:    864/1015 | Atom RMSE Loss: 0.0252 | Bond RMSE Loss: 0.0317\n",
      "Epoch:   5/10 | Samples:    896/1015 | Atom RMSE Loss: 0.0252 | Bond RMSE Loss: 0.0323\n",
      "Epoch:   5/10 | Samples:    928/1015 | Atom RMSE Loss: 0.0252 | Bond RMSE Loss: 0.0321\n",
      "Epoch:   5/10 | Samples:    960/1015 | Atom RMSE Loss: 0.0251 | Bond RMSE Loss: 0.0322\n",
      "Epoch:   5/10 | Samples:    992/1015 | Atom RMSE Loss: 0.0251 | Bond RMSE Loss: 0.0321\n",
      "Epoch:   6/10 | Samples:      0/1015 | Atom RMSE Loss: 0.0231 | Bond RMSE Loss: 0.0375\n",
      "Epoch:   6/10 | Samples:     32/1015 | Atom RMSE Loss: 0.0247 | Bond RMSE Loss: 0.0203\n",
      "Epoch:   6/10 | Samples:     64/1015 | Atom RMSE Loss: 0.0244 | Bond RMSE Loss: 0.0214\n",
      "Epoch:   6/10 | Samples:     96/1015 | Atom RMSE Loss: 0.0246 | Bond RMSE Loss: 0.0248\n",
      "Epoch:   6/10 | Samples:    128/1015 | Atom RMSE Loss: 0.0250 | Bond RMSE Loss: 0.0257\n",
      "Epoch:   6/10 | Samples:    160/1015 | Atom RMSE Loss: 0.0257 | Bond RMSE Loss: 0.0257\n",
      "Epoch:   6/10 | Samples:    192/1015 | Atom RMSE Loss: 0.0257 | Bond RMSE Loss: 0.0262\n",
      "Epoch:   6/10 | Samples:    224/1015 | Atom RMSE Loss: 0.0257 | Bond RMSE Loss: 0.0253\n",
      "Epoch:   6/10 | Samples:    256/1015 | Atom RMSE Loss: 0.0255 | Bond RMSE Loss: 0.0260\n",
      "Epoch:   6/10 | Samples:    288/1015 | Atom RMSE Loss: 0.0254 | Bond RMSE Loss: 0.0265\n",
      "Epoch:   6/10 | Samples:    320/1015 | Atom RMSE Loss: 0.0253 | Bond RMSE Loss: 0.0263\n",
      "Epoch:   6/10 | Samples:    352/1015 | Atom RMSE Loss: 0.0252 | Bond RMSE Loss: 0.0267\n",
      "Epoch:   6/10 | Samples:    384/1015 | Atom RMSE Loss: 0.0251 | Bond RMSE Loss: 0.0273\n",
      "Epoch:   6/10 | Samples:    416/1015 | Atom RMSE Loss: 0.0250 | Bond RMSE Loss: 0.0272\n",
      "Epoch:   6/10 | Samples:    448/1015 | Atom RMSE Loss: 0.0249 | Bond RMSE Loss: 0.0272\n",
      "Epoch:   6/10 | Samples:    480/1015 | Atom RMSE Loss: 0.0248 | Bond RMSE Loss: 0.0271\n",
      "Epoch:   6/10 | Samples:    512/1015 | Atom RMSE Loss: 0.0248 | Bond RMSE Loss: 0.0275\n",
      "Epoch:   6/10 | Samples:    544/1015 | Atom RMSE Loss: 0.0247 | Bond RMSE Loss: 0.0272\n",
      "Epoch:   6/10 | Samples:    576/1015 | Atom RMSE Loss: 0.0247 | Bond RMSE Loss: 0.0276\n",
      "Epoch:   6/10 | Samples:    608/1015 | Atom RMSE Loss: 0.0247 | Bond RMSE Loss: 0.0275\n",
      "Epoch:   6/10 | Samples:    640/1015 | Atom RMSE Loss: 0.0246 | Bond RMSE Loss: 0.0280\n",
      "Epoch:   6/10 | Samples:    672/1015 | Atom RMSE Loss: 0.0247 | Bond RMSE Loss: 0.0281\n",
      "Epoch:   6/10 | Samples:    704/1015 | Atom RMSE Loss: 0.0248 | Bond RMSE Loss: 0.0280\n",
      "Epoch:   6/10 | Samples:    736/1015 | Atom RMSE Loss: 0.0248 | Bond RMSE Loss: 0.0279\n",
      "Epoch:   6/10 | Samples:    768/1015 | Atom RMSE Loss: 0.0249 | Bond RMSE Loss: 0.0278\n",
      "Epoch:   6/10 | Samples:    800/1015 | Atom RMSE Loss: 0.0248 | Bond RMSE Loss: 0.0281\n",
      "Epoch:   6/10 | Samples:    832/1015 | Atom RMSE Loss: 0.0248 | Bond RMSE Loss: 0.0286\n",
      "Epoch:   6/10 | Samples:    864/1015 | Atom RMSE Loss: 0.0248 | Bond RMSE Loss: 0.0289\n",
      "Epoch:   6/10 | Samples:    896/1015 | Atom RMSE Loss: 0.0249 | Bond RMSE Loss: 0.0287\n",
      "Epoch:   6/10 | Samples:    928/1015 | Atom RMSE Loss: 0.0249 | Bond RMSE Loss: 0.0283\n",
      "Epoch:   6/10 | Samples:    960/1015 | Atom RMSE Loss: 0.0249 | Bond RMSE Loss: 0.0284\n",
      "Epoch:   6/10 | Samples:    992/1015 | Atom RMSE Loss: 0.0249 | Bond RMSE Loss: 0.0284\n",
      "Epoch:   7/10 | Samples:      0/1015 | Atom RMSE Loss: 0.0234 | Bond RMSE Loss: 0.0310\n",
      "Epoch:   7/10 | Samples:     32/1015 | Atom RMSE Loss: 0.0245 | Bond RMSE Loss: 0.0182\n",
      "Epoch:   7/10 | Samples:     64/1015 | Atom RMSE Loss: 0.0243 | Bond RMSE Loss: 0.0189\n",
      "Epoch:   7/10 | Samples:     96/1015 | Atom RMSE Loss: 0.0244 | Bond RMSE Loss: 0.0223\n",
      "Epoch:   7/10 | Samples:    128/1015 | Atom RMSE Loss: 0.0253 | Bond RMSE Loss: 0.0238\n",
      "Epoch:   7/10 | Samples:    160/1015 | Atom RMSE Loss: 0.0263 | Bond RMSE Loss: 0.0241\n",
      "Epoch:   7/10 | Samples:    192/1015 | Atom RMSE Loss: 0.0262 | Bond RMSE Loss: 0.0246\n",
      "Epoch:   7/10 | Samples:    224/1015 | Atom RMSE Loss: 0.0261 | Bond RMSE Loss: 0.0238\n",
      "Epoch:   7/10 | Samples:    256/1015 | Atom RMSE Loss: 0.0258 | Bond RMSE Loss: 0.0242\n",
      "Epoch:   7/10 | Samples:    288/1015 | Atom RMSE Loss: 0.0257 | Bond RMSE Loss: 0.0246\n",
      "Epoch:   7/10 | Samples:    320/1015 | Atom RMSE Loss: 0.0255 | Bond RMSE Loss: 0.0244\n",
      "Epoch:   7/10 | Samples:    352/1015 | Atom RMSE Loss: 0.0254 | Bond RMSE Loss: 0.0246\n",
      "Epoch:   7/10 | Samples:    384/1015 | Atom RMSE Loss: 0.0253 | Bond RMSE Loss: 0.0251\n",
      "Epoch:   7/10 | Samples:    416/1015 | Atom RMSE Loss: 0.0252 | Bond RMSE Loss: 0.0251\n",
      "Epoch:   7/10 | Samples:    448/1015 | Atom RMSE Loss: 0.0251 | Bond RMSE Loss: 0.0251\n",
      "Epoch:   7/10 | Samples:    480/1015 | Atom RMSE Loss: 0.0249 | Bond RMSE Loss: 0.0250\n",
      "Epoch:   7/10 | Samples:    512/1015 | Atom RMSE Loss: 0.0249 | Bond RMSE Loss: 0.0252\n",
      "Epoch:   7/10 | Samples:    544/1015 | Atom RMSE Loss: 0.0248 | Bond RMSE Loss: 0.0249\n",
      "Epoch:   7/10 | Samples:    576/1015 | Atom RMSE Loss: 0.0248 | Bond RMSE Loss: 0.0252\n",
      "Epoch:   7/10 | Samples:    608/1015 | Atom RMSE Loss: 0.0247 | Bond RMSE Loss: 0.0251\n",
      "Epoch:   7/10 | Samples:    640/1015 | Atom RMSE Loss: 0.0246 | Bond RMSE Loss: 0.0256\n",
      "Epoch:   7/10 | Samples:    672/1015 | Atom RMSE Loss: 0.0247 | Bond RMSE Loss: 0.0262\n",
      "Epoch:   7/10 | Samples:    704/1015 | Atom RMSE Loss: 0.0248 | Bond RMSE Loss: 0.0265\n",
      "Epoch:   7/10 | Samples:    736/1015 | Atom RMSE Loss: 0.0249 | Bond RMSE Loss: 0.0264\n",
      "Epoch:   7/10 | Samples:    768/1015 | Atom RMSE Loss: 0.0250 | Bond RMSE Loss: 0.0262\n",
      "Epoch:   7/10 | Samples:    800/1015 | Atom RMSE Loss: 0.0250 | Bond RMSE Loss: 0.0267\n",
      "Epoch:   7/10 | Samples:    832/1015 | Atom RMSE Loss: 0.0249 | Bond RMSE Loss: 0.0270\n",
      "Epoch:   7/10 | Samples:    864/1015 | Atom RMSE Loss: 0.0249 | Bond RMSE Loss: 0.0273\n",
      "Epoch:   7/10 | Samples:    896/1015 | Atom RMSE Loss: 0.0249 | Bond RMSE Loss: 0.0271\n",
      "Epoch:   7/10 | Samples:    928/1015 | Atom RMSE Loss: 0.0249 | Bond RMSE Loss: 0.0267\n",
      "Epoch:   7/10 | Samples:    960/1015 | Atom RMSE Loss: 0.0248 | Bond RMSE Loss: 0.0267\n",
      "Epoch:   7/10 | Samples:    992/1015 | Atom RMSE Loss: 0.0248 | Bond RMSE Loss: 0.0267\n",
      "Epoch:   8/10 | Samples:      0/1015 | Atom RMSE Loss: 0.0229 | Bond RMSE Loss: 0.0268\n",
      "Epoch:   8/10 | Samples:     32/1015 | Atom RMSE Loss: 0.0241 | Bond RMSE Loss: 0.0156\n",
      "Epoch:   8/10 | Samples:     64/1015 | Atom RMSE Loss: 0.0240 | Bond RMSE Loss: 0.0160\n",
      "Epoch:   8/10 | Samples:     96/1015 | Atom RMSE Loss: 0.0238 | Bond RMSE Loss: 0.0192\n",
      "Epoch:   8/10 | Samples:    128/1015 | Atom RMSE Loss: 0.0240 | Bond RMSE Loss: 0.0203\n",
      "Epoch:   8/10 | Samples:    160/1015 | Atom RMSE Loss: 0.0238 | Bond RMSE Loss: 0.0202\n",
      "Epoch:   8/10 | Samples:    192/1015 | Atom RMSE Loss: 0.0238 | Bond RMSE Loss: 0.0210\n",
      "Epoch:   8/10 | Samples:    224/1015 | Atom RMSE Loss: 0.0238 | Bond RMSE Loss: 0.0203\n",
      "Epoch:   8/10 | Samples:    256/1015 | Atom RMSE Loss: 0.0237 | Bond RMSE Loss: 0.0207\n",
      "Epoch:   8/10 | Samples:    288/1015 | Atom RMSE Loss: 0.0237 | Bond RMSE Loss: 0.0212\n",
      "Epoch:   8/10 | Samples:    320/1015 | Atom RMSE Loss: 0.0236 | Bond RMSE Loss: 0.0210\n",
      "Epoch:   8/10 | Samples:    352/1015 | Atom RMSE Loss: 0.0236 | Bond RMSE Loss: 0.0213\n",
      "Epoch:   8/10 | Samples:    384/1015 | Atom RMSE Loss: 0.0236 | Bond RMSE Loss: 0.0217\n",
      "Epoch:   8/10 | Samples:    416/1015 | Atom RMSE Loss: 0.0236 | Bond RMSE Loss: 0.0218\n",
      "Epoch:   8/10 | Samples:    448/1015 | Atom RMSE Loss: 0.0236 | Bond RMSE Loss: 0.0221\n",
      "Epoch:   8/10 | Samples:    480/1015 | Atom RMSE Loss: 0.0235 | Bond RMSE Loss: 0.0221\n",
      "Epoch:   8/10 | Samples:    512/1015 | Atom RMSE Loss: 0.0235 | Bond RMSE Loss: 0.0224\n",
      "Epoch:   8/10 | Samples:    544/1015 | Atom RMSE Loss: 0.0235 | Bond RMSE Loss: 0.0220\n",
      "Epoch:   8/10 | Samples:    576/1015 | Atom RMSE Loss: 0.0235 | Bond RMSE Loss: 0.0222\n",
      "Epoch:   8/10 | Samples:    608/1015 | Atom RMSE Loss: 0.0235 | Bond RMSE Loss: 0.0221\n",
      "Epoch:   8/10 | Samples:    640/1015 | Atom RMSE Loss: 0.0235 | Bond RMSE Loss: 0.0225\n",
      "Epoch:   8/10 | Samples:    672/1015 | Atom RMSE Loss: 0.0236 | Bond RMSE Loss: 0.0234\n",
      "Epoch:   8/10 | Samples:    704/1015 | Atom RMSE Loss: 0.0236 | Bond RMSE Loss: 0.0236\n",
      "Epoch:   8/10 | Samples:    736/1015 | Atom RMSE Loss: 0.0236 | Bond RMSE Loss: 0.0235\n",
      "Epoch:   8/10 | Samples:    768/1015 | Atom RMSE Loss: 0.0237 | Bond RMSE Loss: 0.0233\n",
      "Epoch:   8/10 | Samples:    800/1015 | Atom RMSE Loss: 0.0237 | Bond RMSE Loss: 0.0237\n",
      "Epoch:   8/10 | Samples:    832/1015 | Atom RMSE Loss: 0.0238 | Bond RMSE Loss: 0.0241\n",
      "Epoch:   8/10 | Samples:    864/1015 | Atom RMSE Loss: 0.0238 | Bond RMSE Loss: 0.0244\n",
      "Epoch:   8/10 | Samples:    896/1015 | Atom RMSE Loss: 0.0238 | Bond RMSE Loss: 0.0242\n",
      "Epoch:   8/10 | Samples:    928/1015 | Atom RMSE Loss: 0.0239 | Bond RMSE Loss: 0.0238\n",
      "Epoch:   8/10 | Samples:    960/1015 | Atom RMSE Loss: 0.0238 | Bond RMSE Loss: 0.0237\n",
      "Epoch:   8/10 | Samples:    992/1015 | Atom RMSE Loss: 0.0238 | Bond RMSE Loss: 0.0237\n",
      "Epoch:   9/10 | Samples:      0/1015 | Atom RMSE Loss: 0.0229 | Bond RMSE Loss: 0.0219\n",
      "Epoch:   9/10 | Samples:     32/1015 | Atom RMSE Loss: 0.0242 | Bond RMSE Loss: 0.0127\n",
      "Epoch:   9/10 | Samples:     64/1015 | Atom RMSE Loss: 0.0240 | Bond RMSE Loss: 0.0129\n",
      "Epoch:   9/10 | Samples:     96/1015 | Atom RMSE Loss: 0.0238 | Bond RMSE Loss: 0.0161\n",
      "Epoch:   9/10 | Samples:    128/1015 | Atom RMSE Loss: 0.0240 | Bond RMSE Loss: 0.0169\n",
      "Epoch:   9/10 | Samples:    160/1015 | Atom RMSE Loss: 0.0238 | Bond RMSE Loss: 0.0166\n",
      "Epoch:   9/10 | Samples:    192/1015 | Atom RMSE Loss: 0.0239 | Bond RMSE Loss: 0.0174\n",
      "Epoch:   9/10 | Samples:    224/1015 | Atom RMSE Loss: 0.0239 | Bond RMSE Loss: 0.0170\n",
      "Epoch:   9/10 | Samples:    256/1015 | Atom RMSE Loss: 0.0237 | Bond RMSE Loss: 0.0173\n",
      "Epoch:   9/10 | Samples:    288/1015 | Atom RMSE Loss: 0.0237 | Bond RMSE Loss: 0.0178\n",
      "Epoch:   9/10 | Samples:    320/1015 | Atom RMSE Loss: 0.0237 | Bond RMSE Loss: 0.0177\n",
      "Epoch:   9/10 | Samples:    352/1015 | Atom RMSE Loss: 0.0237 | Bond RMSE Loss: 0.0179\n",
      "Epoch:   9/10 | Samples:    384/1015 | Atom RMSE Loss: 0.0237 | Bond RMSE Loss: 0.0183\n",
      "Epoch:   9/10 | Samples:    416/1015 | Atom RMSE Loss: 0.0236 | Bond RMSE Loss: 0.0183\n",
      "Epoch:   9/10 | Samples:    448/1015 | Atom RMSE Loss: 0.0236 | Bond RMSE Loss: 0.0184\n",
      "Epoch:   9/10 | Samples:    480/1015 | Atom RMSE Loss: 0.0236 | Bond RMSE Loss: 0.0183\n",
      "Epoch:   9/10 | Samples:    512/1015 | Atom RMSE Loss: 0.0236 | Bond RMSE Loss: 0.0185\n",
      "Epoch:   9/10 | Samples:    544/1015 | Atom RMSE Loss: 0.0236 | Bond RMSE Loss: 0.0181\n",
      "Epoch:   9/10 | Samples:    576/1015 | Atom RMSE Loss: 0.0236 | Bond RMSE Loss: 0.0183\n",
      "Epoch:   9/10 | Samples:    608/1015 | Atom RMSE Loss: 0.0236 | Bond RMSE Loss: 0.0183\n",
      "Epoch:   9/10 | Samples:    640/1015 | Atom RMSE Loss: 0.0236 | Bond RMSE Loss: 0.0187\n",
      "Epoch:   9/10 | Samples:    672/1015 | Atom RMSE Loss: 0.0237 | Bond RMSE Loss: 0.0195\n",
      "Epoch:   9/10 | Samples:    704/1015 | Atom RMSE Loss: 0.0237 | Bond RMSE Loss: 0.0196\n",
      "Epoch:   9/10 | Samples:    736/1015 | Atom RMSE Loss: 0.0238 | Bond RMSE Loss: 0.0195\n",
      "Epoch:   9/10 | Samples:    768/1015 | Atom RMSE Loss: 0.0239 | Bond RMSE Loss: 0.0193\n",
      "Epoch:   9/10 | Samples:    800/1015 | Atom RMSE Loss: 0.0239 | Bond RMSE Loss: 0.0197\n",
      "Epoch:   9/10 | Samples:    832/1015 | Atom RMSE Loss: 0.0240 | Bond RMSE Loss: 0.0200\n",
      "Epoch:   9/10 | Samples:    864/1015 | Atom RMSE Loss: 0.0241 | Bond RMSE Loss: 0.0204\n",
      "Epoch:   9/10 | Samples:    896/1015 | Atom RMSE Loss: 0.0243 | Bond RMSE Loss: 0.0202\n",
      "Epoch:   9/10 | Samples:    928/1015 | Atom RMSE Loss: 0.0243 | Bond RMSE Loss: 0.0199\n",
      "Epoch:   9/10 | Samples:    960/1015 | Atom RMSE Loss: 0.0243 | Bond RMSE Loss: 0.0198\n",
      "Epoch:   9/10 | Samples:    992/1015 | Atom RMSE Loss: 0.0243 | Bond RMSE Loss: 0.0199\n"
     ]
    }
   ],
   "source": [
    "# Define a range of values for x and y\n",
    "n_atom = [46] #[10, 22, 46]\n",
    "m_bond = [3]\n",
    "\n",
    "for n in n_atom:\n",
    "    for m in m_bond:\n",
    "\n",
    "        print(f\"Training Autoencoder with Atom={n}, Bond={m}:\")\n",
    "        atom_autoencoder = Autoencoder(154, n).to(device)\n",
    "        bond_autoencoder = Autoencoder(10, m).to(device)\n",
    "        mse_loss_fn = torch.nn.MSELoss()\n",
    "        atom_optimizer = torch.optim.Adam(atom_autoencoder.parameters())\n",
    "        bond_optimizer = torch.optim.Adam(bond_autoencoder.parameters())\n",
    "\n",
    "        atom_losses, bond_losses = train_autoencoder_model(train_samples, atom_autoencoder, bond_autoencoder, n_epochs=10, printstep=32, save_dir=modeldir, dataset_name=dataset_name)"
   ]
  },
  {
   "cell_type": "code",
   "execution_count": 10,
   "id": "792de4f6-df8a-4abf-ae05-f3909fb1fa03",
   "metadata": {},
   "outputs": [
    {
     "data": {
      "image/png": "[encoded data removed]",
      "text/plain": [
       "<Figure size 1000x600 with 1 Axes>"
      ]
     },
     "metadata": {},
     "output_type": "display_data"
    },
    {
     "data": {
      "image/png": "[encoded data removed]",
      "text/plain": [
       "<Figure size 1000x600 with 1 Axes>"
      ]
     },
     "metadata": {},
     "output_type": "display_data"
    }
   ],
   "source": [
    "# Plotting the losses (optional)\n",
    "plt.figure(figsize=(10, 6))\n",
    "plt.plot(range(1, len(atom_losses)+1), atom_losses, marker='o', linestyle='-', color='b', label='Atom RMSE Loss')\n",
    "#plt.plot(range(1, len(bond_losses)+1), bond_losses, marker='o', linestyle='-', color='r', label='Avg. Bond RMSE Loss')\n",
    "plt.title(f\"Atom Autoencoder Training Losses for {dataset_name}\")\n",
    "plt.xlabel(\"Epoch\")\n",
    "plt.ylabel(\"RMSE Loss\")\n",
    "plt.legend()\n",
    "plt.grid(True)\n",
    "plt.savefig(f\"{modeldir}atom_autoencoder_losses_{dataset_name}.png\")\n",
    "plt.show()\n",
    "\n",
    "# Plotting the losses (optional)\n",
    "plt.figure(figsize=(10, 6))\n",
    "#plt.plot(range(1, len(atom_losses)+1), atom_losses, marker='o', linestyle='-', color='b', label='Avg. Atom RMSE Loss')\n",
    "plt.plot(range(1, len(bond_losses)+1), bond_losses, marker='o', linestyle='-', color='r', label='Bond RMSE Loss')\n",
    "plt.title(f\"Bond Autoencoder Training Losses for {dataset_name}\")\n",
    "plt.xlabel(\"Epoch\")\n",
    "plt.ylabel(\"RMSE Loss\")\n",
    "plt.legend()\n",
    "plt.grid(True)\n",
    "plt.savefig(f\"{modeldir}bond_autoencoder_losses_{dataset_name}.png\")\n",
    "plt.show()"
   ]
  },
  {
   "cell_type": "markdown",
   "id": "66b95275-4edb-43d6-8227-a6130b511e11",
   "metadata": {},
   "source": [
    "### GNN3D training"
   ]
  },
  {
   "cell_type": "code",
   "execution_count": null,
   "id": "172ce254-abbb-4219-8a31-c73f7d07f046",
   "metadata": {},
   "outputs": [],
   "source": [
    "from sklearn.model_selection import train_test_split\n",
    "\n",
    "train_part_samples, val_samples = train_test_split(train_samples, test_size=0.1, random_state=42)"
   ]
  },
  {
   "cell_type": "code",
   "execution_count": null,
   "id": "1d98798d-a139-4616-bcb4-3608a98a934d",
   "metadata": {},
   "outputs": [],
   "source": [
    "atom_autoencoder = Autoencoder(154, 10).to(device)\n",
    "bond_autoencoder = Autoencoder(10, 3).to(device)\n",
    "mse_loss_fn = torch.nn.MSELoss()\n",
    "gnn3d = GNN3DAtnON(atomic_vector_size=10, bond_vector_size=3, number_of_molecular_features=200, number_of_targets=1).to(device)\n",
    "gnn_optimizer = torch.optim.Adam(gnn3d.parameters())\n",
    "rmse_losses_train, mse_losses_train, rmse_losses_val, mse_losses_val = train_gnn3d_model(gnn3d, train_samples, atom_autoencoder, bond_autoencoder, n_epochs=25, printstep=32, save_dir=modeldir, dataset_name=dataset_name)"
   ]
  },
  {
   "cell_type": "code",
   "execution_count": null,
   "id": "f592be3f-b874-404b-8670-b6906befd044",
   "metadata": {},
   "outputs": [],
   "source": [
    "# Assuming rmse_losses is the list of RMSE losses obtained from training\n",
    "plt.figure(figsize=(10, 6))\n",
    "plt.plot(range(1, len(rmse_losses_train)+1), rmse_losses_train, marker='o', linestyle='-', color='b', label='Train RMSE Loss')\n",
    "plt.plot(range(1, len(rmse_losses_val)+1), rmse_losses_val, marker='x', linestyle='-', color='r', label='Validation RMSE Loss')\n",
    "plt.title(f\"GNN3D Training Losses for {dataset_name}\")\n",
    "plt.xlabel(\"Epoch\")\n",
    "plt.ylabel(\"RMSE Loss\")\n",
    "plt.legend()\n",
    "plt.grid(True)\n",
    "plt.savefig(f\"{modeldir}gnn3d_rmse_losses_{dataset_name}.png\")\n",
    "plt.show()"
   ]
  },
  {
   "cell_type": "markdown",
   "id": "aa98e0ed-50d8-4e68-afcf-7815cbcb79d5",
   "metadata": {},
   "source": [
    "## Testing"
   ]
  },
  {
   "cell_type": "code",
   "execution_count": null,
   "id": "9a26bc02-bb5c-4769-a820-fad17f0e09a8",
   "metadata": {},
   "outputs": [],
   "source": [
    "predictions, targets = evaluate_gnn3d_model(gnn3d, test_samples, atom_autoencoder, bond_autoencoder)"
   ]
  },
  {
   "cell_type": "markdown",
   "id": "86d98a0d-b64b-4269-a10a-a171cc096398",
   "metadata": {},
   "source": [
    "## Know your correlations (KYC)"
   ]
  },
  {
   "cell_type": "code",
   "execution_count": null,
   "id": "deadc1bf-0623-4fa4-933e-d0685a905298",
   "metadata": {},
   "outputs": [],
   "source": [
    "# Calculate R^2\n",
    "def calculate_r_squared(predictions, targets):\n",
    "    ss_tot = np.sum((targets - np.mean(targets))**2)\n",
    "    ss_res = np.sum((targets - predictions)**2)\n",
    "    r_squared = 1 - (ss_res / ss_tot)\n",
    "    return r_squared\n",
    "\n",
    "# Convert lists to NumPy arrays\n",
    "predictions = np.array(predictions)\n",
    "targets = np.array(targets)\n",
    "\n",
    "# Calculate Pearson correlation coefficient\n",
    "corr, _ = pearsonr(predictions, targets)\n",
    "\n",
    "print(f\"Pearson Correlation Coefficient: {corr:.4f}\")\n",
    "\n",
    "r_squared = calculate_r_squared(predictions, targets)\n",
    "print(f\"Coefficient of Determination R^2: {r_squared:.4f}\")\n",
    "\n",
    "# Plotting\n",
    "plt.figure(figsize=(8, 6))\n",
    "plt.scatter(targets, predictions, color='blue', alpha=0.5)\n",
    "plt.plot(targets, targets, color='red', linestyle='-', linewidth=2)  # Plot y=x line\n",
    "plt.text(np.min(targets), np.max(predictions), f\"Pearson Correlation: {corr:.4f}\", fontsize=12, verticalalignment='top')\n",
    "plt.title('Scatter Plot of Predictions vs Targets')\n",
    "plt.xlabel('Targets')\n",
    "plt.ylabel('Predictions')\n",
    "plt.grid(True)\n",
    "plt.tight_layout()\n",
    "plt.show()"
   ]
  },
  {
   "cell_type": "markdown",
   "id": "5364b2e7-e72a-47c5-8f71-6d33975d7bb9",
   "metadata": {},
   "source": [
    "## Know your molecules and true/prediction (Be warned if there is skipped molecule from test_samples! No skip -> correct structure!)"
   ]
  },
  {
   "cell_type": "code",
   "execution_count": null,
   "id": "51f5d46f-d71f-4cd3-ad15-a29624a91746",
   "metadata": {},
   "outputs": [],
   "source": [
    "print(f\"Loaded train samples: {len(train_samples)}\")\n",
    "print(f\"Loaded test samples: {len(test_samples)}\")\n",
    "print(f\"Total (train+test): {len(train_samples) + len(test_samples)}\" )\n",
    "print(f\"Total from dataset: {len(dataset)}\")\n",
    "print(f\"80% of dataset: {int(0.8*len(dataset))}\")\n",
    "print(f\"20% of dataset: {int(0.2*len(dataset))}\")\n",
    "print(f\"NOT Skipped molecule, therefore following output of next cell is correct!\")"
   ]
  },
  {
   "cell_type": "code",
   "execution_count": null,
   "id": "802587be-8f1a-40d7-9159-89752437e927",
   "metadata": {},
   "outputs": [],
   "source": [
    "# Load test_samples from CSV\n",
    "test_dataset = pd.read_csv(datadir+\"test.csv\")\n",
    "molecules = test_dataset['smiles'].apply(lambda x: Chem.MolFromSmiles(x)) \n",
    "\n",
    "y_true = [targets[i] for i in range(len(test_samples))]\n",
    "y_pred = [predictions[i] for i in range(len(test_samples))]\n",
    "\n",
    "legends = [f\"y_true/y_pred = {y_true[i]:.2f}/{y_pred[i]:.2f}\" for i in range(len(test_samples))]\n",
    "MolsToGridImage(molecules, molsPerRow=5, maxMols=100,legends=legends)"
   ]
  },
  {
   "cell_type": "code",
   "execution_count": null,
   "id": "9c2d2fdd-5c41-46e1-8acb-b0c68c514a3c",
   "metadata": {},
   "outputs": [],
   "source": [
    "df = pd.read_csv(datadir+\"test.csv\")      #Reading logS: y_true dataframe\n",
    "df['preds'] = predictions\n",
    "df"
   ]
  },
  {
   "cell_type": "markdown",
   "id": "555f0723-eef6-483b-893a-3d04581b6aa7",
   "metadata": {},
   "source": [
    "## Future task: What is so unique about dihedral angles?"
   ]
  },
  {
   "cell_type": "code",
   "execution_count": null,
   "id": "f5c64eed-5662-468d-b76e-94ff50eebc6f",
   "metadata": {},
   "outputs": [],
   "source": []
  }
 ],
 "metadata": {
  "kernelspec": {
   "display_name": "Python 3 (ipykernel)",
   "language": "python",
   "name": "python3"
  },
  "language_info": {
   "codemirror_mode": {
    "name": "ipython",
    "version": 3
   },
   "file_extension": ".py",
   "mimetype": "text/x-python",
   "name": "python",
   "nbconvert_exporter": "python",
   "pygments_lexer": "ipython3",
   "version": "3.12.2"
  }
 },
 "nbformat": 4,
 "nbformat_minor": 5
}
