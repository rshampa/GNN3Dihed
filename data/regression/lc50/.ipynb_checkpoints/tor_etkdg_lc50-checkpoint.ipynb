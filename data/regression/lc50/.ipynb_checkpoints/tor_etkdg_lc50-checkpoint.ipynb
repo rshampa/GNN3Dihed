{
 "cells": [
  {
   "cell_type": "code",
   "execution_count": 2,
   "id": "eb4d1a83-67f4-4658-84c3-00352643c090",
   "metadata": {},
   "outputs": [
    {
     "name": "stdout",
     "output_type": "stream",
     "text": [
      "2024.03.3\n"
     ]
    }
   ],
   "source": [
    "%matplotlib inline\n",
    "import os\n",
    "import sys\n",
    "sys.path.append('/Users/shampa/software/anaconda3/envs/py312/lib/python3.12/site-packages')\n",
    "import matplotlib.pyplot as plt\n",
    "\n",
    "from ipywidgets import interact,fixed,IntSlider\n",
    "import ipywidgets\n",
    "\n",
    "from io import BytesIO\n",
    "import pandas as pd\n",
    "import numpy as np\n",
    "from rdkit.Chem import PandasTools\n",
    "\n",
    "from rdkit import Chem\n",
    "from rdkit.Chem import AllChem\n",
    "from rdkit.Chem import DataStructs\n",
    "from rdkit.Chem import rdMolDescriptors\n",
    "from rdkit.Chem import rdRGroupDecomposition\n",
    "from rdkit.Chem import rdMolTransforms\n",
    "\n",
    "from rdkit.Chem.Draw import IPythonConsole\n",
    "from rdkit.Chem import Draw\n",
    "from rdkit.Chem import rdDepictor\n",
    "from rdkit.Chem.Draw import rdMolDraw2D\n",
    "from rdkit.Chem.Draw.MolDrawing import MolDrawing, DrawingOptions\n",
    "\n",
    "DrawingOptions.bondLineWidth=1.8\n",
    "IPythonConsole.ipython_useSVG=True\n",
    "IPythonConsole.drawOptions.addStereoAnnotation = True\n",
    "from rdkit import RDLogger\n",
    "RDLogger.DisableLog('rdApp.warning')\n",
    "import rdkit\n",
    "import py3Dmol\n",
    "print(rdkit.__version__)"
   ]
  },
  {
   "cell_type": "code",
   "execution_count": 7,
   "id": "70354d74-c0a2-4d54-8d1b-b3941db0fde6",
   "metadata": {},
   "outputs": [],
   "source": [
    "def MolTo3DView(mol, size=(300, 300), style=\"stick\", surface=False, opacity=0.5):\n",
    "    \"\"\"Draw molecule in 3D\n",
    "    \n",
    "    Args:\n",
    "    ----\n",
    "        mol: rdMol, molecule to show\n",
    "        size: tuple(int, int), canvas size\n",
    "        style: str, type of drawing molecule\n",
    "               style can be 'line', 'stick', 'sphere', 'carton'\n",
    "        surface, bool, display SAS\n",
    "        opacity, float, opacity of surface, range 0.0-1.0\n",
    "    Return:\n",
    "    ----\n",
    "        viewer: py3Dmol.view, a class for constructing embedded 3Dmol.js views in ipython notebooks.\n",
    "    \"\"\"\n",
    "    assert style in ('line', 'stick', 'sphere', 'carton')\n",
    "    mblock = Chem.MolToMolBlock(mol)\n",
    "    viewer = py3Dmol.view(width=size[0], height=size[1])\n",
    "    viewer.addModel(mblock, 'mol')\n",
    "    viewer.setStyle({style:{}})\n",
    "    if surface:\n",
    "        viewer.addSurface(py3Dmol.SAS, {'opacity': opacity})\n",
    "    viewer.zoomTo()\n",
    "    return viewer"
   ]
  },
  {
   "cell_type": "code",
   "execution_count": 8,
   "id": "02b28e57-7017-4acf-85db-723392ddd022",
   "metadata": {},
   "outputs": [],
   "source": [
    "def smi2conf_etkdg(smiles):\n",
    "    '''Convert SMILES to rdkit.Mol with 3D coordinates\n",
    "       Use Experimental Torsion angles Knowledge-based Distance Geometry ETKDGv3\n",
    "       method - version 3 (small rings)\n",
    "       params.numThreads = 0 uses max no. of threads allowed on a conputer\n",
    "    '''\n",
    "    params = Chem.rdDistGeom.srETKDGv3()\n",
    "    params.randomSeed = 12412\n",
    "    params.clearConfs = True\n",
    "    params.numThreads = 0\n",
    "    \n",
    "    mol = Chem.MolFromSmiles(smiles)\n",
    "    if mol is not None:\n",
    "        mol = Chem.AddHs(mol)\n",
    "        AllChem.EmbedMolecule(mol)\n",
    "        AllChem.EmbedMultipleConfs(mol, numConfs=10, params=params)\n",
    "        \n",
    "        return mol\n",
    "    else:\n",
    "        return None"
   ]
  },
  {
   "cell_type": "code",
   "execution_count": 9,
   "id": "9bbb6297-f0db-4ba5-81c3-2d2141b3fabf",
   "metadata": {},
   "outputs": [],
   "source": [
    "def enumerateTorsions(mol):\n",
    "    torsionList = []\n",
    "    \n",
    "    # Iterate through all bonds in the molecule\n",
    "    for bond in mol.GetBonds():\n",
    "        beginAtomIdx = bond.GetBeginAtomIdx()\n",
    "        endAtomIdx = bond.GetEndAtomIdx()\n",
    "        \n",
    "        # Get the atoms connected by the current bond\n",
    "        beginAtom = mol.GetAtomWithIdx(beginAtomIdx)\n",
    "        endAtom = mol.GetAtomWithIdx(endAtomIdx)\n",
    "        \n",
    "        # Skip bonds involving terminal atoms with valency 1\n",
    "        if beginAtom.GetExplicitValence() == 1 or endAtom.GetExplicitValence() == 1 or beginAtom.GetExplicitValence() == 2 or endAtom.GetExplicitValence() == 2 or beginAtom.GetExplicitValence() == 3 or endAtom.GetExplicitValence() == 3:\n",
    "            continue\n",
    "        \n",
    "        # Get neighboring atoms for beginAtom and endAtom to form torsions\n",
    "        for neighbor1 in beginAtom.GetNeighbors():\n",
    "            if neighbor1.GetIdx() != endAtom.GetIdx():\n",
    "                atom1 = neighbor1\n",
    "                break\n",
    "        for neighbor2 in endAtom.GetNeighbors():\n",
    "            if neighbor2.GetIdx() != beginAtom.GetIdx():\n",
    "                atom4 = neighbor2\n",
    "                break\n",
    "        \n",
    "        # Append torsion angle indices (atom indices) to the torsionList\n",
    "        torsionList.append((atom1.GetIdx(), beginAtomIdx, endAtomIdx, atom4.GetIdx()))\n",
    "    \n",
    "    return torsionList\n"
   ]
  },
  {
   "cell_type": "markdown",
   "id": "d4f0c11d-d225-41b2-b2b6-f458dc910a53",
   "metadata": {},
   "source": [
    "## TESTing for a single SMILES"
   ]
  },
  {
   "cell_type": "code",
   "execution_count": 12,
   "id": "86ab0e09-691d-4646-8533-12a8ede98cae",
   "metadata": {},
   "outputs": [
    {
     "name": "stdout",
     "output_type": "stream",
     "text": [
      "List of torsions: [(2, 3, 4, 5), (3, 4, 5, 6), (4, 5, 6, 7), (4, 5, 8, 9), (5, 8, 10, 11), (8, 10, 12, 13), (10, 12, 14, 15), (12, 14, 16, 17), (14, 16, 8, 5), (12, 14, 4, 3)]\n",
      "0 O\n",
      "1 S\n",
      "2 O\n",
      "3 C\n",
      "4 C\n",
      "5 C\n",
      "6 C\n",
      "7 O\n",
      "8 C\n",
      "9 Cl\n",
      "10 C\n",
      "11 Cl\n",
      "12 C\n",
      "13 Cl\n",
      "14 C\n",
      "15 Cl\n",
      "16 C\n",
      "17 Cl\n",
      "18 Cl\n",
      "19 H\n",
      "20 H\n",
      "21 H\n",
      "22 H\n",
      "23 H\n",
      "24 H\n",
      "[(0, 1), (1, 2), (2, 3), (3, 4), (4, 5), (5, 6), (6, 7), (5, 8), (8, 9), (8, 10), (10, 11), (10, 12), (12, 13), (12, 14), (14, 15), (14, 16), (16, 17), (16, 18), (7, 1), (16, 8), (14, 4), (3, 19), (3, 20), (4, 21), (5, 22), (6, 23), (6, 24)]\n"
     ]
    }
   ],
   "source": [
    "#smiles = 'C=CC#N'\n",
    "smiles='O=S1OCC2C(CO1)[C@]1(Cl)C(Cl)=C(Cl)[C@]2(Cl)C1(Cl)Cl'  #conformer generation was unsucessful, thats why did not print any gemetrical parameters\n",
    "mol = Chem.MolFromSmiles(smiles)\n",
    "mol_h = Chem.AddHs(mol)\n",
    "params = Chem.rdDistGeom.srETKDGv3()\n",
    "params.randomSeed = 12412\n",
    "params.clearConfs = True\n",
    "\n",
    "torsionList = enumerateTorsions(mol_h)\n",
    "print(f\"List of torsions: {torsionList}\")\n",
    "\n",
    "\n",
    "cids = AllChem.EmbedMultipleConfs(mol_h, numConfs=100, params=params)\n",
    "\n",
    "atoms=[a for a in mol_h.GetAtoms()]\n",
    "for a in atoms:\n",
    "    print( a.GetIdx(), a.GetSymbol() )\n",
    "\n",
    "\n",
    "bonds = [(x.GetBeginAtomIdx(), x.GetEndAtomIdx()) for x in mol_h.GetBonds()]\n",
    "print(bonds)\n",
    "\n",
    "\n",
    "for cidx in cids:\n",
    "    print(f\"Conformer ID: {cidx}\")\n",
    "    conf = mol_h.GetConformer(cidx)\n",
    "    torsionList = enumerateTorsions(mol_h)\n",
    "    \n",
    "    # Print dihedral angle for each torsion in degrees\n",
    "    for torsion in torsionList:\n",
    "        i, j, k, l = torsion\n",
    "        dihedral_angle = rdMolTransforms.GetDihedralDeg(conf, i, j, k, l)\n",
    "        print(f\"Dihedral angle for torsion {torsion}: {dihedral_angle} degrees\")"
   ]
  },
  {
   "cell_type": "markdown",
   "id": "2ca97030-bbfd-45e8-9670-b23791cc2983",
   "metadata": {},
   "source": [
    "## Loading train dataset"
   ]
  },
  {
   "cell_type": "code",
   "execution_count": 6,
   "id": "3a9ea4fd-1456-4d4c-976e-8a99bf3a9e1a",
   "metadata": {},
   "outputs": [
    {
     "name": "stdout",
     "output_type": "stream",
     "text": [
      "353\n"
     ]
    }
   ],
   "source": [
    "df_train=pd.read_csv('./lc50dm.csv')\n",
    "df_train_smiles=df_train[\"smiles\"]\n",
    "df_train_smiles.head(5)\n",
    "print(len(df_train_smiles))"
   ]
  },
  {
   "cell_type": "code",
   "execution_count": 7,
   "id": "81d76a54-6f6a-4a58-891a-89555da070ce",
   "metadata": {},
   "outputs": [
    {
     "data": {
      "application/vnd.jupyter.widget-view+json": {
       "model_id": "09f1709e707c44d1bc4c7f19d595c5c5",
       "version_major": 2,
       "version_minor": 0
      },
      "text/plain": [
       "interactive(children=(IntSlider(value=0, description='idx', max=352), Dropdown(description='Style:', options=(…"
      ]
     },
     "metadata": {},
     "output_type": "display_data"
    },
    {
     "data": {
      "text/plain": [
       "<function __main__.style_selector(idx, s)>"
      ]
     },
     "execution_count": 7,
     "metadata": {},
     "output_type": "execute_result"
    }
   ],
   "source": [
    "confs = [smi2conf_etkdg(s) for s in df_train_smiles]\n",
    "max_confs=len(confs)\n",
    "\n",
    "def style_selector(idx, s):\n",
    "    conf = confs[idx]\n",
    "    return MolTo3DView(conf, style=s).show()\n",
    "\n",
    "interact(style_selector, \n",
    "         idx=ipywidgets.IntSlider(min=0,max=(max_confs-1), step=1),\n",
    "         s=ipywidgets.Dropdown(\n",
    "            options=['line', 'stick', 'sphere'],\n",
    "            value='line',\n",
    "            description='Style:'))"
   ]
  },
  {
   "cell_type": "markdown",
   "id": "ab9358a0-390c-4da6-a23e-8b30b2001829",
   "metadata": {},
   "source": [
    "## Loading test dataset"
   ]
  },
  {
   "cell_type": "code",
   "execution_count": null,
   "id": "2540ad09-3dae-4ded-bd03-9b5627c138f5",
   "metadata": {},
   "outputs": [],
   "source": [
    "df_test=pd.read_csv('./test.csv')\n",
    "df_test_smiles=df_test[\"smiles\"]\n",
    "df_test_smiles.head(5)\n",
    "print([df_test_smiles])\n",
    "print(len(df_test_smiles))"
   ]
  },
  {
   "cell_type": "code",
   "execution_count": null,
   "id": "addc3882-04c3-4adb-b589-b9cc056e9cf7",
   "metadata": {},
   "outputs": [],
   "source": [
    "confs = [smi2conf_etkdg(s) for s in df_test_smiles]\n",
    "max_confs=len(confs)\n",
    "\n",
    "def style_selector(idx, s):\n",
    "    conf = confs[idx]\n",
    "    return MolTo3DView(conf, style=s).show()\n",
    "\n",
    "interact(style_selector, \n",
    "         idx=ipywidgets.IntSlider(min=0,max=(max_confs-1), step=1),\n",
    "         s=ipywidgets.Dropdown(\n",
    "            options=['line', 'stick', 'sphere'],\n",
    "            value='line',\n",
    "            description='Style:'))"
   ]
  },
  {
   "cell_type": "markdown",
   "id": "68e3a7cb-b003-4454-a0b1-ee156a96882d",
   "metadata": {},
   "source": [
    "## Checking a specific SMILES Using MMFF94s"
   ]
  },
  {
   "cell_type": "code",
   "execution_count": 11,
   "id": "c0828c24-3893-41d2-8c64-02bc4363390a",
   "metadata": {},
   "outputs": [
    {
     "data": {
      "application/vnd.jupyter.widget-view+json": {
       "model_id": "94d6a2f7594944bbbf172822ef86ec95",
       "version_major": 2,
       "version_minor": 0
      },
      "text/plain": [
       "interactive(children=(Text(value='O=S1OCC2C(CO1)[C@]1(Cl)C(Cl)=C(Cl)[C@]2(Cl)C1(Cl)Cl', description='smi'), Ou…"
      ]
     },
     "metadata": {},
     "output_type": "display_data"
    }
   ],
   "source": [
    "def smi2conf(smiles):\n",
    "    '''Convert SMILES to rdkit.Mol with 3D coordinates'''\n",
    "    mol = Chem.MolFromSmiles(smiles)\n",
    "    if mol is not None:\n",
    "        mol = Chem.AddHs(mol)\n",
    "        AllChem.EmbedMolecule(mol)\n",
    "        AllChem.MMFFOptimizeMolecule(mol, maxIters=200, mmffVariant='MMFF94s')\n",
    "        return mol\n",
    "    else:\n",
    "        return None\n",
    "\n",
    "@interact\n",
    "def smi2viewer(smi='O=S1OCC2C(CO1)[C@]1(Cl)C(Cl)=C(Cl)[C@]2(Cl)C1(Cl)Cl'):\n",
    "    try:\n",
    "        conf = smi2conf(smi)\n",
    "        return MolTo3DView(conf).show()\n",
    "    except:\n",
    "        return None"
   ]
  },
  {
   "cell_type": "code",
   "execution_count": 12,
   "id": "cf44cefe-662a-432a-a888-9ed9d98acd1c",
   "metadata": {},
   "outputs": [
    {
     "data": {
      "image/svg+xml": [
       "<svg xmlns=\"http://www.w3.org/2000/svg\" xmlns:rdkit=\"http://www.rdkit.org/xml\" xmlns:xlink=\"http://www.w3.org/1999/xlink\" version=\"1.1\" baseProfile=\"full\" xml:space=\"preserve\" width=\"1650px\" height=\"550px\" viewBox=\"0 0 1650 550\">\n",
       "<!-- END OF HEADER -->\n",
       "<rect style=\"opacity:1.0;fill:#FFFFFF;stroke:none\" width=\"1650.0\" height=\"550.0\" x=\"0.0\" y=\"0.0\"> </rect>\n",
       "<path class=\"bond-0 atom-0 atom-1\" d=\"M 72.0,230.7 L 114.3,223.4\" style=\"fill:none;fill-rule:evenodd;stroke:#000000;stroke-width:2.0px;stroke-linecap:butt;stroke-linejoin:miter;stroke-opacity:1\"/>\n",
       "<path class=\"bond-1 atom-1 atom-2\" d=\"M 114.3,223.4 L 114.4,180.4\" style=\"fill:none;fill-rule:evenodd;stroke:#000000;stroke-width:2.0px;stroke-linecap:butt;stroke-linejoin:miter;stroke-opacity:1\"/>\n",
       "<path class=\"bond-2 atom-1 atom-3\" d=\"M 114.3,223.4 L 128.9,263.7\" style=\"fill:none;fill-rule:evenodd;stroke:#000000;stroke-width:2.0px;stroke-linecap:butt;stroke-linejoin:miter;stroke-opacity:1\"/>\n",
       "<path class=\"bond-3 atom-3 atom-4\" d=\"M 127.9,267.2 L 128.5,267.3\" style=\"fill:none;fill-rule:evenodd;stroke:#000000;stroke-width:1.0px;stroke-linecap:butt;stroke-linejoin:miter;stroke-opacity:1\"/>\n",
       "<path class=\"bond-3 atom-3 atom-4\" d=\"M 127.0,270.7 L 128.2,270.9\" style=\"fill:none;fill-rule:evenodd;stroke:#000000;stroke-width:1.0px;stroke-linecap:butt;stroke-linejoin:miter;stroke-opacity:1\"/>\n",
       "<path class=\"bond-3 atom-3 atom-4\" d=\"M 126.1,274.1 L 127.8,274.5\" style=\"fill:none;fill-rule:evenodd;stroke:#000000;stroke-width:1.0px;stroke-linecap:butt;stroke-linejoin:miter;stroke-opacity:1\"/>\n",
       "<path class=\"bond-3 atom-3 atom-4\" d=\"M 125.2,277.6 L 127.5,278.0\" style=\"fill:none;fill-rule:evenodd;stroke:#000000;stroke-width:1.0px;stroke-linecap:butt;stroke-linejoin:miter;stroke-opacity:1\"/>\n",
       "<path class=\"bond-3 atom-3 atom-4\" d=\"M 124.3,281.1 L 127.1,281.6\" style=\"fill:none;fill-rule:evenodd;stroke:#000000;stroke-width:1.0px;stroke-linecap:butt;stroke-linejoin:miter;stroke-opacity:1\"/>\n",
       "<path class=\"bond-3 atom-3 atom-4\" d=\"M 123.3,284.6 L 126.8,285.2\" style=\"fill:none;fill-rule:evenodd;stroke:#000000;stroke-width:1.0px;stroke-linecap:butt;stroke-linejoin:miter;stroke-opacity:1\"/>\n",
       "<path class=\"bond-3 atom-3 atom-4\" d=\"M 122.4,288.0 L 126.5,288.7\" style=\"fill:none;fill-rule:evenodd;stroke:#000000;stroke-width:1.0px;stroke-linecap:butt;stroke-linejoin:miter;stroke-opacity:1\"/>\n",
       "<path class=\"bond-3 atom-3 atom-4\" d=\"M 121.5,291.5 L 126.1,292.3\" style=\"fill:none;fill-rule:evenodd;stroke:#000000;stroke-width:1.0px;stroke-linecap:butt;stroke-linejoin:miter;stroke-opacity:1\"/>\n",
       "<path class=\"bond-3 atom-3 atom-4\" d=\"M 120.6,295.0 L 125.8,295.9\" style=\"fill:none;fill-rule:evenodd;stroke:#000000;stroke-width:1.0px;stroke-linecap:butt;stroke-linejoin:miter;stroke-opacity:1\"/>\n",
       "<path class=\"bond-3 atom-3 atom-4\" d=\"M 119.7,298.4 L 125.4,299.5\" style=\"fill:none;fill-rule:evenodd;stroke:#000000;stroke-width:1.0px;stroke-linecap:butt;stroke-linejoin:miter;stroke-opacity:1\"/>\n",
       "<path class=\"bond-3 atom-3 atom-4\" d=\"M 118.8,301.9 L 125.1,303.0\" style=\"fill:none;fill-rule:evenodd;stroke:#000000;stroke-width:1.0px;stroke-linecap:butt;stroke-linejoin:miter;stroke-opacity:1\"/>\n",
       "<path class=\"bond-4 atom-4 atom-5\" d=\"M 121.3,306.0 L 80.9,320.6\" style=\"fill:none;fill-rule:evenodd;stroke:#000000;stroke-width:2.0px;stroke-linecap:butt;stroke-linejoin:miter;stroke-opacity:1\"/>\n",
       "<path class=\"bond-4 atom-4 atom-5\" d=\"M 115.6,301.2 L 82.2,313.3\" style=\"fill:none;fill-rule:evenodd;stroke:#000000;stroke-width:2.0px;stroke-linecap:butt;stroke-linejoin:miter;stroke-opacity:1\"/>\n",
       "<path class=\"bond-5 atom-5 atom-6\" d=\"M 80.9,320.6 L 65.6,307.7\" style=\"fill:none;fill-rule:evenodd;stroke:#000000;stroke-width:2.0px;stroke-linecap:butt;stroke-linejoin:miter;stroke-opacity:1\"/>\n",
       "<path class=\"bond-5 atom-5 atom-6\" d=\"M 65.6,307.7 L 50.3,294.8\" style=\"fill:none;fill-rule:evenodd;stroke:#00CC00;stroke-width:2.0px;stroke-linecap:butt;stroke-linejoin:miter;stroke-opacity:1\"/>\n",
       "<path class=\"bond-6 atom-5 atom-7\" d=\"M 80.9,320.6 L 73.4,362.9\" style=\"fill:none;fill-rule:evenodd;stroke:#000000;stroke-width:2.0px;stroke-linecap:butt;stroke-linejoin:miter;stroke-opacity:1\"/>\n",
       "<path class=\"bond-7 atom-7 atom-8\" d=\"M 73.4,362.9 L 70.3,380.2\" style=\"fill:none;fill-rule:evenodd;stroke:#000000;stroke-width:2.0px;stroke-linecap:butt;stroke-linejoin:miter;stroke-opacity:1\"/>\n",
       "<path class=\"bond-7 atom-7 atom-8\" d=\"M 70.3,380.2 L 67.2,397.6\" style=\"fill:none;fill-rule:evenodd;stroke:#33CCCC;stroke-width:2.0px;stroke-linecap:butt;stroke-linejoin:miter;stroke-opacity:1\"/>\n",
       "<path class=\"bond-8 atom-7 atom-9\" d=\"M 73.4,362.9 L 54.8,359.5\" style=\"fill:none;fill-rule:evenodd;stroke:#000000;stroke-width:2.0px;stroke-linecap:butt;stroke-linejoin:miter;stroke-opacity:1\"/>\n",
       "<path class=\"bond-8 atom-7 atom-9\" d=\"M 54.8,359.5 L 36.1,356.2\" style=\"fill:none;fill-rule:evenodd;stroke:#33CCCC;stroke-width:2.0px;stroke-linecap:butt;stroke-linejoin:miter;stroke-opacity:1\"/>\n",
       "<path class=\"bond-9 atom-7 atom-10\" d=\"M 73.4,362.9 L 92.0,366.2\" style=\"fill:none;fill-rule:evenodd;stroke:#000000;stroke-width:2.0px;stroke-linecap:butt;stroke-linejoin:miter;stroke-opacity:1\"/>\n",
       "<path class=\"bond-9 atom-7 atom-10\" d=\"M 92.0,366.2 L 110.6,369.5\" style=\"fill:none;fill-rule:evenodd;stroke:#33CCCC;stroke-width:2.0px;stroke-linecap:butt;stroke-linejoin:miter;stroke-opacity:1\"/>\n",
       "<path class=\"bond-10 atom-3 atom-11\" d=\"M 128.9,263.7 L 156.5,230.9\" style=\"fill:none;fill-rule:evenodd;stroke:#000000;stroke-width:2.0px;stroke-linecap:butt;stroke-linejoin:miter;stroke-opacity:1\"/>\n",
       "<path class=\"bond-11 atom-11 atom-12\" d=\"M 160.0,230.0 L 159.8,229.4\" style=\"fill:none;fill-rule:evenodd;stroke:#000000;stroke-width:1.0px;stroke-linecap:butt;stroke-linejoin:miter;stroke-opacity:1\"/>\n",
       "<path class=\"bond-11 atom-11 atom-12\" d=\"M 163.4,229.0 L 163.0,227.9\" style=\"fill:none;fill-rule:evenodd;stroke:#000000;stroke-width:1.0px;stroke-linecap:butt;stroke-linejoin:miter;stroke-opacity:1\"/>\n",
       "<path class=\"bond-11 atom-11 atom-12\" d=\"M 166.9,228.1 L 166.3,226.4\" style=\"fill:none;fill-rule:evenodd;stroke:#000000;stroke-width:1.0px;stroke-linecap:butt;stroke-linejoin:miter;stroke-opacity:1\"/>\n",
       "<path class=\"bond-11 atom-11 atom-12\" d=\"M 170.4,227.2 L 169.6,225.0\" style=\"fill:none;fill-rule:evenodd;stroke:#000000;stroke-width:1.0px;stroke-linecap:butt;stroke-linejoin:miter;stroke-opacity:1\"/>\n",
       "<path class=\"bond-11 atom-11 atom-12\" d=\"M 173.8,226.2 L 172.8,223.5\" style=\"fill:none;fill-rule:evenodd;stroke:#000000;stroke-width:1.0px;stroke-linecap:butt;stroke-linejoin:miter;stroke-opacity:1\"/>\n",
       "<path class=\"bond-11 atom-11 atom-12\" d=\"M 177.3,225.3 L 176.1,222.0\" style=\"fill:none;fill-rule:evenodd;stroke:#000000;stroke-width:1.0px;stroke-linecap:butt;stroke-linejoin:miter;stroke-opacity:1\"/>\n",
       "<path class=\"bond-11 atom-11 atom-12\" d=\"M 180.8,224.3 L 179.4,220.5\" style=\"fill:none;fill-rule:evenodd;stroke:#000000;stroke-width:1.0px;stroke-linecap:butt;stroke-linejoin:miter;stroke-opacity:1\"/>\n",
       "<path class=\"bond-11 atom-11 atom-12\" d=\"M 184.2,223.4 L 182.6,219.0\" style=\"fill:none;fill-rule:evenodd;stroke:#000000;stroke-width:1.0px;stroke-linecap:butt;stroke-linejoin:miter;stroke-opacity:1\"/>\n",
       "<path class=\"bond-11 atom-11 atom-12\" d=\"M 187.7,222.5 L 185.9,217.5\" style=\"fill:none;fill-rule:evenodd;stroke:#000000;stroke-width:1.0px;stroke-linecap:butt;stroke-linejoin:miter;stroke-opacity:1\"/>\n",
       "<path class=\"bond-11 atom-11 atom-12\" d=\"M 191.1,221.5 L 189.2,216.0\" style=\"fill:none;fill-rule:evenodd;stroke:#000000;stroke-width:1.0px;stroke-linecap:butt;stroke-linejoin:miter;stroke-opacity:1\"/>\n",
       "<path class=\"bond-11 atom-11 atom-12\" d=\"M 194.6,220.6 L 192.4,214.5\" style=\"fill:none;fill-rule:evenodd;stroke:#000000;stroke-width:1.0px;stroke-linecap:butt;stroke-linejoin:miter;stroke-opacity:1\"/>\n",
       "<path class=\"bond-12 atom-12 atom-13\" d=\"M 199.7,218.7 L 203.0,200.6\" style=\"fill:none;fill-rule:evenodd;stroke:#000000;stroke-width:2.0px;stroke-linecap:butt;stroke-linejoin:miter;stroke-opacity:1\"/>\n",
       "<path class=\"bond-12 atom-12 atom-13\" d=\"M 203.0,200.6 L 206.2,182.4\" style=\"fill:none;fill-rule:evenodd;stroke:#FF0000;stroke-width:2.0px;stroke-linecap:butt;stroke-linejoin:miter;stroke-opacity:1\"/>\n",
       "<path class=\"bond-12 atom-12 atom-13\" d=\"M 193.4,217.6 L 196.6,199.4\" style=\"fill:none;fill-rule:evenodd;stroke:#000000;stroke-width:2.0px;stroke-linecap:butt;stroke-linejoin:miter;stroke-opacity:1\"/>\n",
       "<path class=\"bond-12 atom-12 atom-13\" d=\"M 196.6,199.4 L 199.9,181.3\" style=\"fill:none;fill-rule:evenodd;stroke:#FF0000;stroke-width:2.0px;stroke-linecap:butt;stroke-linejoin:miter;stroke-opacity:1\"/>\n",
       "<path class=\"bond-13 atom-12 atom-14\" d=\"M 196.9,216.3 L 209.8,227.2\" style=\"fill:none;fill-rule:evenodd;stroke:#000000;stroke-width:2.0px;stroke-linecap:butt;stroke-linejoin:miter;stroke-opacity:1\"/>\n",
       "<path class=\"bond-13 atom-12 atom-14\" d=\"M 209.8,227.2 L 222.7,238.1\" style=\"fill:none;fill-rule:evenodd;stroke:#FF0000;stroke-width:2.0px;stroke-linecap:butt;stroke-linejoin:miter;stroke-opacity:1\"/>\n",
       "<path class=\"bond-14 atom-14 atom-15\" d=\"M 236.7,241.5 L 253.4,235.4\" style=\"fill:none;fill-rule:evenodd;stroke:#FF0000;stroke-width:2.0px;stroke-linecap:butt;stroke-linejoin:miter;stroke-opacity:1\"/>\n",
       "<path class=\"bond-14 atom-14 atom-15\" d=\"M 253.4,235.4 L 270.1,229.4\" style=\"fill:none;fill-rule:evenodd;stroke:#000000;stroke-width:2.0px;stroke-linecap:butt;stroke-linejoin:miter;stroke-opacity:1\"/>\n",
       "<path class=\"bond-15 atom-15 atom-16\" d=\"M 270.1,229.4 L 277.6,187.1\" style=\"fill:none;fill-rule:evenodd;stroke:#000000;stroke-width:2.0px;stroke-linecap:butt;stroke-linejoin:miter;stroke-opacity:1\"/>\n",
       "<path class=\"bond-16 atom-16 atom-17\" d=\"M 277.6,187.1 L 280.7,169.8\" style=\"fill:none;fill-rule:evenodd;stroke:#000000;stroke-width:2.0px;stroke-linecap:butt;stroke-linejoin:miter;stroke-opacity:1\"/>\n",
       "<path class=\"bond-16 atom-16 atom-17\" d=\"M 280.7,169.8 L 283.9,152.4\" style=\"fill:none;fill-rule:evenodd;stroke:#0000FF;stroke-width:2.0px;stroke-linecap:butt;stroke-linejoin:miter;stroke-opacity:1\"/>\n",
       "<path class=\"bond-16 atom-16 atom-17\" d=\"M 271.3,186.0 L 274.4,168.6\" style=\"fill:none;fill-rule:evenodd;stroke:#000000;stroke-width:2.0px;stroke-linecap:butt;stroke-linejoin:miter;stroke-opacity:1\"/>\n",
       "<path class=\"bond-16 atom-16 atom-17\" d=\"M 274.4,168.6 L 277.5,151.3\" style=\"fill:none;fill-rule:evenodd;stroke:#0000FF;stroke-width:2.0px;stroke-linecap:butt;stroke-linejoin:miter;stroke-opacity:1\"/>\n",
       "<path class=\"bond-16 atom-16 atom-17\" d=\"M 284.0,188.3 L 287.1,170.9\" style=\"fill:none;fill-rule:evenodd;stroke:#000000;stroke-width:2.0px;stroke-linecap:butt;stroke-linejoin:miter;stroke-opacity:1\"/>\n",
       "<path class=\"bond-16 atom-16 atom-17\" d=\"M 287.1,170.9 L 290.2,153.5\" style=\"fill:none;fill-rule:evenodd;stroke:#0000FF;stroke-width:2.0px;stroke-linecap:butt;stroke-linejoin:miter;stroke-opacity:1\"/>\n",
       "<path class=\"bond-17 atom-15 atom-18\" d=\"M 270.1,229.4 L 302.9,257.1\" style=\"fill:none;fill-rule:evenodd;stroke:#000000;stroke-width:2.0px;stroke-linecap:butt;stroke-linejoin:miter;stroke-opacity:1\"/>\n",
       "<path class=\"bond-18 atom-18 atom-19\" d=\"M 302.9,257.1 L 295.4,299.3\" style=\"fill:none;fill-rule:evenodd;stroke:#000000;stroke-width:2.0px;stroke-linecap:butt;stroke-linejoin:miter;stroke-opacity:1\"/>\n",
       "<path class=\"bond-18 atom-18 atom-19\" d=\"M 308.6,261.9 L 302.4,296.8\" style=\"fill:none;fill-rule:evenodd;stroke:#000000;stroke-width:2.0px;stroke-linecap:butt;stroke-linejoin:miter;stroke-opacity:1\"/>\n",
       "<path class=\"bond-19 atom-19 atom-20\" d=\"M 295.4,299.3 L 328.2,327.0\" style=\"fill:none;fill-rule:evenodd;stroke:#000000;stroke-width:2.0px;stroke-linecap:butt;stroke-linejoin:miter;stroke-opacity:1\"/>\n",
       "<path class=\"bond-20 atom-20 atom-21\" d=\"M 328.2,327.0 L 368.6,312.4\" style=\"fill:none;fill-rule:evenodd;stroke:#000000;stroke-width:2.0px;stroke-linecap:butt;stroke-linejoin:miter;stroke-opacity:1\"/>\n",
       "<path class=\"bond-20 atom-20 atom-21\" d=\"M 329.5,319.7 L 362.9,307.6\" style=\"fill:none;fill-rule:evenodd;stroke:#000000;stroke-width:2.0px;stroke-linecap:butt;stroke-linejoin:miter;stroke-opacity:1\"/>\n",
       "<path class=\"bond-21 atom-21 atom-22\" d=\"M 368.6,312.4 L 376.1,270.2\" style=\"fill:none;fill-rule:evenodd;stroke:#000000;stroke-width:2.0px;stroke-linecap:butt;stroke-linejoin:miter;stroke-opacity:1\"/>\n",
       "<path class=\"bond-22 atom-22 atom-23\" d=\"M 376.1,270.2 L 392.8,264.1\" style=\"fill:none;fill-rule:evenodd;stroke:#000000;stroke-width:2.0px;stroke-linecap:butt;stroke-linejoin:miter;stroke-opacity:1\"/>\n",
       "<path class=\"bond-22 atom-22 atom-23\" d=\"M 392.8,264.1 L 409.5,258.1\" style=\"fill:none;fill-rule:evenodd;stroke:#FF0000;stroke-width:2.0px;stroke-linecap:butt;stroke-linejoin:miter;stroke-opacity:1\"/>\n",
       "<path class=\"bond-23 atom-23 atom-24\" d=\"M 423.5,261.5 L 436.4,272.4\" style=\"fill:none;fill-rule:evenodd;stroke:#FF0000;stroke-width:2.0px;stroke-linecap:butt;stroke-linejoin:miter;stroke-opacity:1\"/>\n",
       "<path class=\"bond-23 atom-23 atom-24\" d=\"M 436.4,272.4 L 449.3,283.2\" style=\"fill:none;fill-rule:evenodd;stroke:#000000;stroke-width:2.0px;stroke-linecap:butt;stroke-linejoin:miter;stroke-opacity:1\"/>\n",
       "<path class=\"bond-24 atom-24 atom-25\" d=\"M 449.3,283.2 L 441.8,325.5\" style=\"fill:none;fill-rule:evenodd;stroke:#000000;stroke-width:2.0px;stroke-linecap:butt;stroke-linejoin:miter;stroke-opacity:1\"/>\n",
       "<path class=\"bond-24 atom-24 atom-25\" d=\"M 455.0,288.0 L 448.7,323.0\" style=\"fill:none;fill-rule:evenodd;stroke:#000000;stroke-width:2.0px;stroke-linecap:butt;stroke-linejoin:miter;stroke-opacity:1\"/>\n",
       "<path class=\"bond-25 atom-25 atom-26\" d=\"M 441.8,325.5 L 474.6,353.2\" style=\"fill:none;fill-rule:evenodd;stroke:#000000;stroke-width:2.0px;stroke-linecap:butt;stroke-linejoin:miter;stroke-opacity:1\"/>\n",
       "<path class=\"bond-26 atom-26 atom-27\" d=\"M 474.6,353.2 L 514.9,338.6\" style=\"fill:none;fill-rule:evenodd;stroke:#000000;stroke-width:2.0px;stroke-linecap:butt;stroke-linejoin:miter;stroke-opacity:1\"/>\n",
       "<path class=\"bond-26 atom-26 atom-27\" d=\"M 475.9,345.8 L 509.3,333.8\" style=\"fill:none;fill-rule:evenodd;stroke:#000000;stroke-width:2.0px;stroke-linecap:butt;stroke-linejoin:miter;stroke-opacity:1\"/>\n",
       "<path class=\"bond-27 atom-27 atom-28\" d=\"M 514.9,338.6 L 522.5,296.3\" style=\"fill:none;fill-rule:evenodd;stroke:#000000;stroke-width:2.0px;stroke-linecap:butt;stroke-linejoin:miter;stroke-opacity:1\"/>\n",
       "<path class=\"bond-28 atom-28 atom-29\" d=\"M 522.5,296.3 L 489.7,268.6\" style=\"fill:none;fill-rule:evenodd;stroke:#000000;stroke-width:2.0px;stroke-linecap:butt;stroke-linejoin:miter;stroke-opacity:1\"/>\n",
       "<path class=\"bond-28 atom-28 atom-29\" d=\"M 515.5,298.8 L 488.4,276.0\" style=\"fill:none;fill-rule:evenodd;stroke:#000000;stroke-width:2.0px;stroke-linecap:butt;stroke-linejoin:miter;stroke-opacity:1\"/>\n",
       "<path class=\"bond-29 atom-22 atom-30\" d=\"M 376.1,270.2 L 343.3,242.5\" style=\"fill:none;fill-rule:evenodd;stroke:#000000;stroke-width:2.0px;stroke-linecap:butt;stroke-linejoin:miter;stroke-opacity:1\"/>\n",
       "<path class=\"bond-29 atom-22 atom-30\" d=\"M 369.1,272.7 L 342.0,249.8\" style=\"fill:none;fill-rule:evenodd;stroke:#000000;stroke-width:2.0px;stroke-linecap:butt;stroke-linejoin:miter;stroke-opacity:1\"/>\n",
       "<path class=\"bond-30 atom-11 atom-1\" d=\"M 156.5,230.9 L 114.3,223.4\" style=\"fill:none;fill-rule:evenodd;stroke:#000000;stroke-width:2.0px;stroke-linecap:butt;stroke-linejoin:miter;stroke-opacity:1\"/>\n",
       "<path class=\"bond-31 atom-30 atom-18\" d=\"M 343.3,242.5 L 302.9,257.1\" style=\"fill:none;fill-rule:evenodd;stroke:#000000;stroke-width:2.0px;stroke-linecap:butt;stroke-linejoin:miter;stroke-opacity:1\"/>\n",
       "<path class=\"bond-32 atom-29 atom-24\" d=\"M 489.7,268.6 L 449.3,283.2\" style=\"fill:none;fill-rule:evenodd;stroke:#000000;stroke-width:2.0px;stroke-linecap:butt;stroke-linejoin:miter;stroke-opacity:1\"/>\n",
       "<path d=\"M 128.1,261.7 L 128.9,263.7 L 130.2,262.1\" style=\"fill:none;stroke:#000000;stroke-width:2.0px;stroke-linecap:butt;stroke-linejoin:miter;stroke-opacity:1;\"/>\n",
       "<path d=\"M 155.1,232.6 L 156.5,230.9 L 154.4,230.5\" style=\"fill:none;stroke:#000000;stroke-width:2.0px;stroke-linecap:butt;stroke-linejoin:miter;stroke-opacity:1;\"/>\n",
       "<path d=\"M 277.3,189.3 L 277.6,187.1 L 277.8,186.3\" style=\"fill:none;stroke:#000000;stroke-width:2.0px;stroke-linecap:butt;stroke-linejoin:miter;stroke-opacity:1;\"/>\n",
       "<path d=\"M 295.7,297.2 L 295.4,299.3 L 297.0,300.7\" style=\"fill:none;stroke:#000000;stroke-width:2.0px;stroke-linecap:butt;stroke-linejoin:miter;stroke-opacity:1;\"/>\n",
       "<path d=\"M 326.5,325.6 L 328.2,327.0 L 330.2,326.3\" style=\"fill:none;stroke:#000000;stroke-width:2.0px;stroke-linecap:butt;stroke-linejoin:miter;stroke-opacity:1;\"/>\n",
       "<path d=\"M 366.5,313.1 L 368.6,312.4 L 368.9,310.3\" style=\"fill:none;stroke:#000000;stroke-width:2.0px;stroke-linecap:butt;stroke-linejoin:miter;stroke-opacity:1;\"/>\n",
       "<path d=\"M 442.1,323.4 L 441.8,325.5 L 443.4,326.9\" style=\"fill:none;stroke:#000000;stroke-width:2.0px;stroke-linecap:butt;stroke-linejoin:miter;stroke-opacity:1;\"/>\n",
       "<path d=\"M 472.9,351.8 L 474.6,353.2 L 476.6,352.4\" style=\"fill:none;stroke:#000000;stroke-width:2.0px;stroke-linecap:butt;stroke-linejoin:miter;stroke-opacity:1;\"/>\n",
       "<path d=\"M 512.9,339.3 L 514.9,338.6 L 515.3,336.5\" style=\"fill:none;stroke:#000000;stroke-width:2.0px;stroke-linecap:butt;stroke-linejoin:miter;stroke-opacity:1;\"/>\n",
       "<path d=\"M 522.1,298.4 L 522.5,296.3 L 520.9,294.9\" style=\"fill:none;stroke:#000000;stroke-width:2.0px;stroke-linecap:butt;stroke-linejoin:miter;stroke-opacity:1;\"/>\n",
       "<path d=\"M 491.3,270.0 L 489.7,268.6 L 487.7,269.4\" style=\"fill:none;stroke:#000000;stroke-width:2.0px;stroke-linecap:butt;stroke-linejoin:miter;stroke-opacity:1;\"/>\n",
       "<path d=\"M 344.9,243.9 L 343.3,242.5 L 341.3,243.2\" style=\"fill:none;stroke:#000000;stroke-width:2.0px;stroke-linecap:butt;stroke-linejoin:miter;stroke-opacity:1;\"/>\n",
       "<path class=\"atom-6\" d=\"M 36.7 293.3 Q 36.7 290.3, 38.1 288.7 Q 39.5 287.1, 42.2 287.1 Q 44.7 287.1, 46.1 288.9 L 44.9 289.8 Q 44.0 288.6, 42.2 288.6 Q 40.4 288.6, 39.4 289.8 Q 38.5 291.0, 38.5 293.3 Q 38.5 295.7, 39.5 297.0 Q 40.5 298.2, 42.4 298.2 Q 43.8 298.2, 45.3 297.4 L 45.8 298.7 Q 45.2 299.1, 44.2 299.4 Q 43.2 299.6, 42.2 299.6 Q 39.5 299.6, 38.1 298.0 Q 36.7 296.4, 36.7 293.3 \" fill=\"#00CC00\"/>\n",
       "<path class=\"atom-6\" d=\"M 47.3 286.4 L 48.9 286.4 L 48.9 299.4 L 47.3 299.4 L 47.3 286.4 \" fill=\"#00CC00\"/>\n",
       "<path class=\"atom-8\" d=\"M 62.2 399.0 L 69.4 399.0 L 69.4 400.4 L 63.8 400.4 L 63.8 404.1 L 68.8 404.1 L 68.8 405.5 L 63.8 405.5 L 63.8 411.2 L 62.2 411.2 L 62.2 399.0 \" fill=\"#33CCCC\"/>\n",
       "<path class=\"atom-9\" d=\"M 27.5 349.2 L 34.7 349.2 L 34.7 350.6 L 29.1 350.6 L 29.1 354.3 L 34.1 354.3 L 34.1 355.7 L 29.1 355.7 L 29.1 361.4 L 27.5 361.4 L 27.5 349.2 \" fill=\"#33CCCC\"/>\n",
       "<path class=\"atom-10\" d=\"M 112.0 364.3 L 119.2 364.3 L 119.2 365.7 L 113.7 365.7 L 113.7 369.4 L 118.6 369.4 L 118.6 370.8 L 113.7 370.8 L 113.7 376.5 L 112.0 376.5 L 112.0 364.3 \" fill=\"#33CCCC\"/>\n",
       "<path class=\"atom-13\" d=\"M 198.9 174.1 Q 198.9 171.2, 200.3 169.6 Q 201.8 167.9, 204.4 167.9 Q 207.1 167.9, 208.6 169.6 Q 210.0 171.2, 210.0 174.1 Q 210.0 177.1, 208.6 178.7 Q 207.1 180.4, 204.4 180.4 Q 201.8 180.4, 200.3 178.7 Q 198.9 177.1, 198.9 174.1 M 204.4 179.0 Q 206.3 179.0, 207.3 177.8 Q 208.3 176.5, 208.3 174.1 Q 208.3 171.7, 207.3 170.5 Q 206.3 169.3, 204.4 169.3 Q 202.6 169.3, 201.6 170.5 Q 200.6 171.7, 200.6 174.1 Q 200.6 176.6, 201.6 177.8 Q 202.6 179.0, 204.4 179.0 \" fill=\"#FF0000\"/>\n",
       "<path class=\"atom-14\" d=\"M 224.1 244.0 Q 224.1 241.1, 225.6 239.5 Q 227.0 237.9, 229.7 237.9 Q 232.4 237.9, 233.9 239.5 Q 235.3 241.1, 235.3 244.0 Q 235.3 247.0, 233.8 248.7 Q 232.4 250.3, 229.7 250.3 Q 227.0 250.3, 225.6 248.7 Q 224.1 247.0, 224.1 244.0 M 229.7 249.0 Q 231.6 249.0, 232.6 247.7 Q 233.6 246.5, 233.6 244.0 Q 233.6 241.6, 232.6 240.4 Q 231.6 239.2, 229.7 239.2 Q 227.9 239.2, 226.8 240.4 Q 225.9 241.6, 225.9 244.0 Q 225.9 246.5, 226.8 247.7 Q 227.9 249.0, 229.7 249.0 \" fill=\"#FF0000\"/>\n",
       "<path class=\"atom-17\" d=\"M 282.5 138.8 L 286.5 145.3 Q 286.9 145.9, 287.5 147.0 Q 288.2 148.2, 288.2 148.3 L 288.2 138.8 L 289.8 138.8 L 289.8 151.0 L 288.1 151.0 L 283.9 143.9 Q 283.4 143.1, 282.8 142.2 Q 282.3 141.2, 282.2 140.9 L 282.2 151.0 L 280.6 151.0 L 280.6 138.8 L 282.5 138.8 \" fill=\"#0000FF\"/>\n",
       "<path class=\"atom-23\" d=\"M 410.9 255.6 Q 410.9 252.7, 412.3 251.1 Q 413.8 249.4, 416.5 249.4 Q 419.2 249.4, 420.6 251.1 Q 422.1 252.7, 422.1 255.6 Q 422.1 258.6, 420.6 260.2 Q 419.1 261.9, 416.5 261.9 Q 413.8 261.9, 412.3 260.2 Q 410.9 258.6, 410.9 255.6 M 416.5 260.5 Q 418.3 260.5, 419.3 259.3 Q 420.3 258.0, 420.3 255.6 Q 420.3 253.2, 419.3 252.0 Q 418.3 250.8, 416.5 250.8 Q 414.6 250.8, 413.6 252.0 Q 412.6 253.2, 412.6 255.6 Q 412.6 258.1, 413.6 259.3 Q 414.6 260.5, 416.5 260.5 \" fill=\"#FF0000\"/>\n",
       "<path class=\"note\" d=\"M 110.1 265.9 Q 110.1 264.7, 110.5 263.7 Q 110.9 262.7, 111.5 261.6 L 112.0 261.9 Q 111.5 262.9, 111.2 263.8 Q 110.9 264.7, 110.9 265.9 Q 110.9 267.1, 111.2 268.0 Q 111.5 268.9, 112.0 270.0 L 111.5 270.3 Q 110.9 269.2, 110.5 268.2 Q 110.1 267.2, 110.1 265.9 \" fill=\"#000000\"/>\n",
       "<path class=\"note\" d=\"M 115.8 268.4 L 114.3 265.9 L 114.3 265.9 L 113.3 265.9 L 113.3 268.4 L 112.5 268.4 L 112.5 262.3 L 114.3 262.3 Q 115.3 262.3, 115.9 262.7 Q 116.4 263.2, 116.4 264.1 Q 116.4 264.7, 116.1 265.1 Q 115.8 265.6, 115.2 265.7 L 116.7 268.4 L 115.8 268.4 M 113.3 265.2 L 114.3 265.2 Q 114.9 265.2, 115.2 264.9 Q 115.5 264.6, 115.5 264.1 Q 115.5 263.5, 115.2 263.2 Q 114.9 263.0, 114.3 263.0 L 113.3 263.0 L 113.3 265.2 \" fill=\"#000000\"/>\n",
       "<path class=\"note\" d=\"M 119.0 265.9 Q 119.0 267.2, 118.7 268.2 Q 118.3 269.2, 117.6 270.3 L 117.2 270.0 Q 117.7 268.9, 118.0 268.0 Q 118.3 267.1, 118.3 265.9 Q 118.3 264.7, 118.0 263.8 Q 117.7 262.9, 117.2 261.9 L 117.6 261.6 Q 118.3 262.7, 118.7 263.7 Q 119.0 264.7, 119.0 265.9 \" fill=\"#000000\"/>\n",
       "<path class=\"note\" d=\"M 160.2 243.6 Q 160.2 242.4, 160.6 241.4 Q 161.0 240.4, 161.7 239.3 L 162.1 239.6 Q 161.6 240.6, 161.3 241.5 Q 161.0 242.4, 161.0 243.6 Q 161.0 244.8, 161.3 245.7 Q 161.6 246.6, 162.1 247.7 L 161.7 248.0 Q 161.0 246.9, 160.6 245.9 Q 160.2 244.9, 160.2 243.6 \" fill=\"#000000\"/>\n",
       "<path class=\"note\" d=\"M 165.9 246.1 L 164.4 243.6 L 164.4 243.6 L 163.4 243.6 L 163.4 246.1 L 162.6 246.1 L 162.6 240.0 L 164.4 240.0 Q 165.4 240.0, 166.0 240.5 Q 166.5 240.9, 166.5 241.8 Q 166.5 242.4, 166.2 242.8 Q 165.9 243.3, 165.3 243.4 L 166.8 246.1 L 165.9 246.1 M 163.4 242.9 L 164.4 242.9 Q 165.0 242.9, 165.3 242.6 Q 165.6 242.3, 165.6 241.8 Q 165.6 241.2, 165.3 241.0 Q 165.0 240.7, 164.4 240.7 L 163.4 240.7 L 163.4 242.9 \" fill=\"#000000\"/>\n",
       "<path class=\"note\" d=\"M 169.2 243.6 Q 169.2 244.9, 168.8 245.9 Q 168.4 246.9, 167.7 248.0 L 167.3 247.7 Q 167.8 246.6, 168.1 245.7 Q 168.4 244.8, 168.4 243.6 Q 168.4 242.4, 168.1 241.5 Q 167.8 240.6, 167.3 239.6 L 167.7 239.3 Q 168.4 240.4, 168.8 241.4 Q 169.2 242.4, 169.2 243.6 \" fill=\"#000000\"/>\n",
       "<path class=\"note\" d=\"M 99.5 322.3 Q 99.5 321.1, 99.9 320.1 Q 100.3 319.1, 100.9 318.0 L 101.4 318.3 Q 100.9 319.3, 100.6 320.2 Q 100.3 321.1, 100.3 322.3 Q 100.3 323.5, 100.6 324.4 Q 100.9 325.3, 101.4 326.4 L 100.9 326.7 Q 100.3 325.6, 99.9 324.6 Q 99.5 323.6, 99.5 322.3 \" fill=\"#000000\"/>\n",
       "<path class=\"note\" d=\"M 101.9 324.1 L 105.0 319.4 L 102.0 319.4 L 102.0 318.7 L 106.0 318.7 L 106.0 319.3 L 102.9 324.1 L 106.0 324.1 L 106.0 324.8 L 101.9 324.8 L 101.9 324.1 \" fill=\"#000000\"/>\n",
       "<path class=\"note\" d=\"M 108.5 322.3 Q 108.5 323.6, 108.2 324.6 Q 107.8 325.6, 107.1 326.7 L 106.6 326.4 Q 107.2 325.3, 107.5 324.4 Q 107.7 323.5, 107.7 322.3 Q 107.7 321.1, 107.5 320.2 Q 107.2 319.3, 106.6 318.3 L 107.1 318.0 Q 107.8 319.1, 108.2 320.1 Q 108.5 321.1, 108.5 322.3 \" fill=\"#000000\"/>\n",
       "</svg>"
      ],
      "text/plain": [
       "<IPython.core.display.SVG object>"
      ]
     },
     "execution_count": 12,
     "metadata": {},
     "output_type": "execute_result"
    }
   ],
   "source": [
    "## NOTE by Shampa: added \\\\Cl instead of \\Cl\n",
    "mol_skip=Chem.MolFromSmiles('CC1(C)[C@@H](/C=C(\\\\Cl)C(F)(F)F)[C@H]1C(=O)OC(C#N)c1cccc(Oc2ccccc2)c1')\n",
    "Draw.MolsToGridImage([mol_skip], subImgSize=(550,550))"
   ]
  },
  {
   "cell_type": "code",
   "execution_count": 10,
   "id": "9790aad5-e37f-4191-9658-b3fa293633dd",
   "metadata": {},
   "outputs": [],
   "source": [
    "m_ccw = Chem.MolFromSmiles('N[C@H](C)C(=O)O')"
   ]
  },
  {
   "cell_type": "code",
   "execution_count": null,
   "id": "81e74309-efb6-43d1-b3a9-656cda138f97",
   "metadata": {},
   "outputs": [],
   "source": []
  },
  {
   "cell_type": "code",
   "execution_count": 11,
   "id": "eab9695c-3d77-48f6-9e12-68164a1942f2",
   "metadata": {},
   "outputs": [
    {
     "data": {
      "image/svg+xml": [
       "<svg xmlns=\"http://www.w3.org/2000/svg\" xmlns:rdkit=\"http://www.rdkit.org/xml\" xmlns:xlink=\"http://www.w3.org/1999/xlink\" version=\"1.1\" baseProfile=\"full\" xml:space=\"preserve\" width=\"600px\" height=\"200px\" viewBox=\"0 0 600 200\">\n",
       "<!-- END OF HEADER -->\n",
       "<rect style=\"opacity:1.0;fill:#FFFFFF;stroke:none\" width=\"600.0\" height=\"200.0\" x=\"0.0\" y=\"0.0\"> </rect>\n",
       "<path class=\"bond-0 atom-0 atom-1\" d=\"M 149.8,137.6 L 137.7,116.7\" style=\"fill:none;fill-rule:evenodd;stroke:#0000FF;stroke-width:2.0px;stroke-linecap:butt;stroke-linejoin:miter;stroke-opacity:1\"/>\n",
       "<path class=\"bond-0 atom-0 atom-1\" d=\"M 137.7,116.7 L 125.6,95.8\" style=\"fill:none;fill-rule:evenodd;stroke:#000000;stroke-width:2.0px;stroke-linecap:butt;stroke-linejoin:miter;stroke-opacity:1\"/>\n",
       "<path class=\"bond-1 atom-1 atom-2\" d=\"M 125.6,95.8 L 151.9,41.1 L 159.8,45.6 Z\" style=\"fill:#000000;fill-rule:evenodd;fill-opacity:1;stroke:#000000;stroke-width:0.5px;stroke-linecap:butt;stroke-linejoin:miter;stroke-opacity:1;\"/>\n",
       "<path class=\"bond-2 atom-1 atom-3\" d=\"M 125.6,95.8 L 65.1,95.8\" style=\"fill:none;fill-rule:evenodd;stroke:#000000;stroke-width:2.0px;stroke-linecap:butt;stroke-linejoin:miter;stroke-opacity:1\"/>\n",
       "<path class=\"bond-3 atom-3 atom-4\" d=\"M 70.3,95.8 L 57.7,73.9\" style=\"fill:none;fill-rule:evenodd;stroke:#000000;stroke-width:2.0px;stroke-linecap:butt;stroke-linejoin:miter;stroke-opacity:1\"/>\n",
       "<path class=\"bond-3 atom-3 atom-4\" d=\"M 57.7,73.9 L 45.0,52.0\" style=\"fill:none;fill-rule:evenodd;stroke:#FF0000;stroke-width:2.0px;stroke-linecap:butt;stroke-linejoin:miter;stroke-opacity:1\"/>\n",
       "<path class=\"bond-3 atom-3 atom-4\" d=\"M 62.4,100.3 L 49.8,78.4\" style=\"fill:none;fill-rule:evenodd;stroke:#000000;stroke-width:2.0px;stroke-linecap:butt;stroke-linejoin:miter;stroke-opacity:1\"/>\n",
       "<path class=\"bond-3 atom-3 atom-4\" d=\"M 49.8,78.4 L 37.2,56.5\" style=\"fill:none;fill-rule:evenodd;stroke:#FF0000;stroke-width:2.0px;stroke-linecap:butt;stroke-linejoin:miter;stroke-opacity:1\"/>\n",
       "<path class=\"bond-4 atom-3 atom-5\" d=\"M 65.1,95.8 L 53.0,116.6\" style=\"fill:none;fill-rule:evenodd;stroke:#000000;stroke-width:2.0px;stroke-linecap:butt;stroke-linejoin:miter;stroke-opacity:1\"/>\n",
       "<path class=\"bond-4 atom-3 atom-5\" d=\"M 53.0,116.6 L 41.0,137.5\" style=\"fill:none;fill-rule:evenodd;stroke:#FF0000;stroke-width:2.0px;stroke-linecap:butt;stroke-linejoin:miter;stroke-opacity:1\"/>\n",
       "<path d=\"M 126.2,96.8 L 125.6,95.8 L 122.6,95.8\" style=\"fill:none;stroke:#000000;stroke-width:2.0px;stroke-linecap:butt;stroke-linejoin:miter;stroke-opacity:1;\"/>\n",
       "<path d=\"M 68.1,95.8 L 65.1,95.8 L 64.5,96.8\" style=\"fill:none;stroke:#000000;stroke-width:2.0px;stroke-linecap:butt;stroke-linejoin:miter;stroke-opacity:1;\"/>\n",
       "<path class=\"atom-0\" d=\"M 152.1 139.6 L 157.7 148.7 Q 158.2 149.6, 159.1 151.2 Q 160.0 152.8, 160.1 152.9 L 160.1 139.6 L 162.4 139.6 L 162.4 156.8 L 160.0 156.8 L 154.0 146.8 Q 153.3 145.7, 152.5 144.3 Q 151.8 143.0, 151.6 142.6 L 151.6 156.8 L 149.4 156.8 L 149.4 139.6 L 152.1 139.6 \" fill=\"#0000FF\"/>\n",
       "<path class=\"atom-0\" d=\"M 165.6 139.6 L 168.0 139.6 L 168.0 146.9 L 176.7 146.9 L 176.7 139.6 L 179.1 139.6 L 179.1 156.8 L 176.7 156.8 L 176.7 148.8 L 168.0 148.8 L 168.0 156.8 L 165.6 156.8 L 165.6 139.6 \" fill=\"#0000FF\"/>\n",
       "<path class=\"atom-0\" d=\"M 182.4 156.2 Q 182.8 155.1, 183.8 154.5 Q 184.8 153.9, 186.2 153.9 Q 187.9 153.9, 188.8 154.8 Q 189.8 155.7, 189.8 157.4 Q 189.8 159.1, 188.6 160.6 Q 187.3 162.2, 184.8 164.0 L 190.0 164.0 L 190.0 165.3 L 182.4 165.3 L 182.4 164.3 Q 184.5 162.8, 185.7 161.6 Q 187.0 160.5, 187.6 159.5 Q 188.2 158.5, 188.2 157.5 Q 188.2 156.4, 187.7 155.8 Q 187.1 155.2, 186.2 155.2 Q 185.3 155.2, 184.7 155.5 Q 184.1 155.9, 183.6 156.7 L 182.4 156.2 \" fill=\"#0000FF\"/>\n",
       "<path class=\"atom-4\" d=\"M 26.9 43.4 Q 26.9 39.3, 29.0 37.0 Q 31.0 34.7, 34.8 34.7 Q 38.6 34.7, 40.6 37.0 Q 42.7 39.3, 42.7 43.4 Q 42.7 47.6, 40.6 49.9 Q 38.6 52.3, 34.8 52.3 Q 31.0 52.3, 29.0 49.9 Q 26.9 47.6, 26.9 43.4 M 34.8 50.3 Q 37.4 50.3, 38.8 48.6 Q 40.2 46.8, 40.2 43.4 Q 40.2 40.0, 38.8 38.3 Q 37.4 36.6, 34.8 36.6 Q 32.2 36.6, 30.8 38.3 Q 29.4 40.0, 29.4 43.4 Q 29.4 46.9, 30.8 48.6 Q 32.2 50.3, 34.8 50.3 \" fill=\"#FF0000\"/>\n",
       "<path class=\"atom-5\" d=\"M 10.0 139.7 L 12.3 139.7 L 12.3 147.0 L 21.1 147.0 L 21.1 139.7 L 23.4 139.7 L 23.4 156.9 L 21.1 156.9 L 21.1 148.9 L 12.3 148.9 L 12.3 156.9 L 10.0 156.9 L 10.0 139.7 \" fill=\"#FF0000\"/>\n",
       "<path class=\"atom-5\" d=\"M 26.9 148.2 Q 26.9 144.1, 29.0 141.8 Q 31.0 139.5, 34.8 139.5 Q 38.6 139.5, 40.6 141.8 Q 42.7 144.1, 42.7 148.2 Q 42.7 152.4, 40.6 154.8 Q 38.6 157.1, 34.8 157.1 Q 31.0 157.1, 29.0 154.8 Q 26.9 152.4, 26.9 148.2 M 34.8 155.2 Q 37.4 155.2, 38.8 153.4 Q 40.2 151.7, 40.2 148.2 Q 40.2 144.9, 38.8 143.2 Q 37.4 141.5, 34.8 141.5 Q 32.2 141.5, 30.8 143.1 Q 29.4 144.8, 29.4 148.2 Q 29.4 151.7, 30.8 153.4 Q 32.2 155.2, 34.8 155.2 \" fill=\"#FF0000\"/>\n",
       "<path class=\"note\" d=\"M 139.5 97.1 Q 139.5 95.4, 140.0 93.9 Q 140.5 92.5, 141.5 91.0 L 142.2 91.4 Q 141.4 92.8, 141.0 94.2 Q 140.6 95.4, 140.6 97.1 Q 140.6 98.7, 141.0 100.0 Q 141.4 101.3, 142.2 102.8 L 141.5 103.2 Q 140.5 101.7, 140.0 100.3 Q 139.5 98.9, 139.5 97.1 \" fill=\"#000000\"/>\n",
       "<path class=\"note\" d=\"M 147.5 100.6 L 145.4 97.0 L 145.4 97.0 L 144.0 97.0 L 144.0 100.6 L 142.8 100.6 L 142.8 92.0 L 145.4 92.0 Q 146.8 92.0, 147.6 92.7 Q 148.3 93.3, 148.3 94.5 Q 148.3 95.4, 147.9 96.0 Q 147.4 96.6, 146.6 96.9 L 148.7 100.6 L 147.5 100.6 M 144.0 96.1 L 145.4 96.1 Q 146.2 96.1, 146.6 95.7 Q 147.1 95.3, 147.1 94.5 Q 147.1 93.7, 146.6 93.4 Q 146.2 93.0, 145.4 93.0 L 144.0 93.0 L 144.0 96.1 \" fill=\"#000000\"/>\n",
       "<path class=\"note\" d=\"M 152.1 97.1 Q 152.1 98.9, 151.5 100.3 Q 151.1 101.7, 150.1 103.2 L 149.4 102.8 Q 150.2 101.3, 150.6 100.0 Q 151.0 98.7, 151.0 97.1 Q 151.0 95.4, 150.6 94.2 Q 150.2 92.8, 149.4 91.4 L 150.1 91.0 Q 151.1 92.5, 151.5 93.9 Q 152.1 95.4, 152.1 97.1 \" fill=\"#000000\"/>\n",
       "</svg>"
      ],
      "text/plain": [
       "<IPython.core.display.SVG object>"
      ]
     },
     "execution_count": 11,
     "metadata": {},
     "output_type": "execute_result"
    }
   ],
   "source": [
    "Draw.MolsToGridImage([m_ccw])"
   ]
  },
  {
   "cell_type": "code",
   "execution_count": null,
   "id": "37830f16-0f2c-41a5-87a9-e59fb11d3a5d",
   "metadata": {},
   "outputs": [],
   "source": [
    "x = \" \\\\\\\\ \"\n",
    "print(len(x))"
   ]
  },
  {
   "cell_type": "code",
   "execution_count": null,
   "id": "04b1178e-2c91-4270-8894-fb524fd75b0b",
   "metadata": {},
   "outputs": [],
   "source": [
    "x = \"\\\\\\\"\"\n",
    "print(len(x))"
   ]
  },
  {
   "cell_type": "code",
   "execution_count": 29,
   "id": "f4159cf7-4c00-46a3-b043-7f98a47a3bc1",
   "metadata": {},
   "outputs": [
    {
     "data": {
      "image/svg+xml": [
       "<svg xmlns=\"http://www.w3.org/2000/svg\" xmlns:rdkit=\"http://www.rdkit.org/xml\" xmlns:xlink=\"http://www.w3.org/1999/xlink\" version=\"1.1\" baseProfile=\"full\" xml:space=\"preserve\" width=\"1350px\" height=\"450px\" viewBox=\"0 0 1350 450\">\n",
       "<!-- END OF HEADER -->\n",
       "<rect style=\"opacity:1.0;fill:#FFFFFF;stroke:none\" width=\"1350.0\" height=\"450.0\" x=\"0.0\" y=\"0.0\"> </rect>\n",
       "<path class=\"bond-0 atom-0 atom-1\" d=\"M 408.4,229.8 L 385.2,229.8\" style=\"fill:none;fill-rule:evenodd;stroke:#FF0000;stroke-width:2.0px;stroke-linecap:butt;stroke-linejoin:miter;stroke-opacity:1\"/>\n",
       "<path class=\"bond-0 atom-0 atom-1\" d=\"M 385.2,229.8 L 362.0,229.8\" style=\"fill:none;fill-rule:evenodd;stroke:#CCCC00;stroke-width:2.0px;stroke-linecap:butt;stroke-linejoin:miter;stroke-opacity:1\"/>\n",
       "<path class=\"bond-0 atom-0 atom-1\" d=\"M 408.4,220.0 L 385.2,220.0\" style=\"fill:none;fill-rule:evenodd;stroke:#FF0000;stroke-width:2.0px;stroke-linecap:butt;stroke-linejoin:miter;stroke-opacity:1\"/>\n",
       "<path class=\"bond-0 atom-0 atom-1\" d=\"M 385.2,220.0 L 362.0,220.0\" style=\"fill:none;fill-rule:evenodd;stroke:#CCCC00;stroke-width:2.0px;stroke-linecap:butt;stroke-linejoin:miter;stroke-opacity:1\"/>\n",
       "<path class=\"bond-1 atom-1 atom-2\" d=\"M 348.5,213.5 L 339.9,195.8\" style=\"fill:none;fill-rule:evenodd;stroke:#CCCC00;stroke-width:2.0px;stroke-linecap:butt;stroke-linejoin:miter;stroke-opacity:1\"/>\n",
       "<path class=\"bond-1 atom-1 atom-2\" d=\"M 339.9,195.8 L 331.3,178.0\" style=\"fill:none;fill-rule:evenodd;stroke:#FF0000;stroke-width:2.0px;stroke-linecap:butt;stroke-linejoin:miter;stroke-opacity:1\"/>\n",
       "<path class=\"bond-2 atom-2 atom-3\" d=\"M 315.1,163.8 L 288.6,157.8\" style=\"fill:none;fill-rule:evenodd;stroke:#FF0000;stroke-width:2.0px;stroke-linecap:butt;stroke-linejoin:miter;stroke-opacity:1\"/>\n",
       "<path class=\"bond-2 atom-2 atom-3\" d=\"M 288.6,157.8 L 262.2,151.7\" style=\"fill:none;fill-rule:evenodd;stroke:#000000;stroke-width:2.0px;stroke-linecap:butt;stroke-linejoin:miter;stroke-opacity:1\"/>\n",
       "<path class=\"bond-3 atom-3 atom-4\" d=\"M 262.2,151.7 L 211.3,192.3\" style=\"fill:none;fill-rule:evenodd;stroke:#000000;stroke-width:2.0px;stroke-linecap:butt;stroke-linejoin:miter;stroke-opacity:1\"/>\n",
       "<path class=\"bond-4 atom-4 atom-5\" d=\"M 211.3,192.3 L 211.3,257.4\" style=\"fill:none;fill-rule:evenodd;stroke:#000000;stroke-width:2.0px;stroke-linecap:butt;stroke-linejoin:miter;stroke-opacity:1\"/>\n",
       "<path class=\"bond-5 atom-5 atom-6\" d=\"M 211.3,257.4 L 262.2,298.0\" style=\"fill:none;fill-rule:evenodd;stroke:#000000;stroke-width:2.0px;stroke-linecap:butt;stroke-linejoin:miter;stroke-opacity:1\"/>\n",
       "<path class=\"bond-6 atom-6 atom-7\" d=\"M 262.2,298.0 L 288.6,292.0\" style=\"fill:none;fill-rule:evenodd;stroke:#000000;stroke-width:2.0px;stroke-linecap:butt;stroke-linejoin:miter;stroke-opacity:1\"/>\n",
       "<path class=\"bond-6 atom-6 atom-7\" d=\"M 288.6,292.0 L 315.1,286.0\" style=\"fill:none;fill-rule:evenodd;stroke:#FF0000;stroke-width:2.0px;stroke-linecap:butt;stroke-linejoin:miter;stroke-opacity:1\"/>\n",
       "<path class=\"bond-7 atom-5 atom-8\" d=\"M 211.3,257.4 L 149.3,277.6\" style=\"fill:none;fill-rule:evenodd;stroke:#000000;stroke-width:2.0px;stroke-linecap:butt;stroke-linejoin:miter;stroke-opacity:1\"/>\n",
       "<path class=\"bond-8 atom-8 atom-9\" d=\"M 149.3,277.6 L 143.7,302.8 L 139.1,301.2 Z\" style=\"fill:#000000;fill-rule:evenodd;fill-opacity:1;stroke:#000000;stroke-width:0.5px;stroke-linecap:butt;stroke-linejoin:miter;stroke-opacity:1;\"/>\n",
       "<path class=\"bond-8 atom-8 atom-9\" d=\"M 143.7,302.8 L 128.8,324.9 L 138.1,327.9 Z\" style=\"fill:#00CC00;fill-rule:evenodd;fill-opacity:1;stroke:#00CC00;stroke-width:0.5px;stroke-linecap:butt;stroke-linejoin:miter;stroke-opacity:1;\"/>\n",
       "<path class=\"bond-8 atom-8 atom-9\" d=\"M 143.7,302.8 L 139.1,301.2 L 128.8,324.9 Z\" style=\"fill:#00CC00;fill-rule:evenodd;fill-opacity:1;stroke:#00CC00;stroke-width:0.5px;stroke-linecap:butt;stroke-linejoin:miter;stroke-opacity:1;\"/>\n",
       "<path class=\"bond-9 atom-8 atom-10\" d=\"M 149.3,277.6 L 87.4,257.4\" style=\"fill:none;fill-rule:evenodd;stroke:#000000;stroke-width:2.0px;stroke-linecap:butt;stroke-linejoin:miter;stroke-opacity:1\"/>\n",
       "<path class=\"bond-10 atom-10 atom-11\" d=\"M 87.4,257.4 L 65.3,278.1\" style=\"fill:none;fill-rule:evenodd;stroke:#000000;stroke-width:2.0px;stroke-linecap:butt;stroke-linejoin:miter;stroke-opacity:1\"/>\n",
       "<path class=\"bond-10 atom-10 atom-11\" d=\"M 65.3,278.1 L 43.1,298.7\" style=\"fill:none;fill-rule:evenodd;stroke:#00CC00;stroke-width:2.0px;stroke-linecap:butt;stroke-linejoin:miter;stroke-opacity:1\"/>\n",
       "<path class=\"bond-11 atom-10 atom-12\" d=\"M 87.4,257.4 L 87.4,192.3\" style=\"fill:none;fill-rule:evenodd;stroke:#000000;stroke-width:2.0px;stroke-linecap:butt;stroke-linejoin:miter;stroke-opacity:1\"/>\n",
       "<path class=\"bond-11 atom-10 atom-12\" d=\"M 97.2,250.3 L 97.2,199.4\" style=\"fill:none;fill-rule:evenodd;stroke:#000000;stroke-width:2.0px;stroke-linecap:butt;stroke-linejoin:miter;stroke-opacity:1\"/>\n",
       "<path class=\"bond-12 atom-12 atom-13\" d=\"M 87.4,192.3 L 65.3,171.7\" style=\"fill:none;fill-rule:evenodd;stroke:#000000;stroke-width:2.0px;stroke-linecap:butt;stroke-linejoin:miter;stroke-opacity:1\"/>\n",
       "<path class=\"bond-12 atom-12 atom-13\" d=\"M 65.3,171.7 L 43.1,151.0\" style=\"fill:none;fill-rule:evenodd;stroke:#00CC00;stroke-width:2.0px;stroke-linecap:butt;stroke-linejoin:miter;stroke-opacity:1\"/>\n",
       "<path class=\"bond-13 atom-12 atom-14\" d=\"M 87.4,192.3 L 149.3,172.2\" style=\"fill:none;fill-rule:evenodd;stroke:#000000;stroke-width:2.0px;stroke-linecap:butt;stroke-linejoin:miter;stroke-opacity:1\"/>\n",
       "<path class=\"bond-14 atom-14 atom-15\" d=\"M 147.9,168.9 L 148.6,168.7\" style=\"fill:none;fill-rule:evenodd;stroke:#000000;stroke-width:1.0px;stroke-linecap:butt;stroke-linejoin:miter;stroke-opacity:1\"/>\n",
       "<path class=\"bond-14 atom-14 atom-15\" d=\"M 146.5,165.6 L 147.8,165.2\" style=\"fill:none;fill-rule:evenodd;stroke:#000000;stroke-width:1.0px;stroke-linecap:butt;stroke-linejoin:miter;stroke-opacity:1\"/>\n",
       "<path class=\"bond-14 atom-14 atom-15\" d=\"M 145.0,162.3 L 147.0,161.7\" style=\"fill:none;fill-rule:evenodd;stroke:#000000;stroke-width:1.0px;stroke-linecap:butt;stroke-linejoin:miter;stroke-opacity:1\"/>\n",
       "<path class=\"bond-14 atom-14 atom-15\" d=\"M 143.6,159.1 L 146.3,158.2\" style=\"fill:none;fill-rule:evenodd;stroke:#000000;stroke-width:1.0px;stroke-linecap:butt;stroke-linejoin:miter;stroke-opacity:1\"/>\n",
       "<path class=\"bond-14 atom-14 atom-15\" d=\"M 142.2,155.8 L 145.5,154.7\" style=\"fill:none;fill-rule:evenodd;stroke:#000000;stroke-width:1.0px;stroke-linecap:butt;stroke-linejoin:miter;stroke-opacity:1\"/>\n",
       "<path class=\"bond-14 atom-14 atom-15\" d=\"M 140.7,152.5 L 144.7,151.2\" style=\"fill:none;fill-rule:evenodd;stroke:#000000;stroke-width:1.0px;stroke-linecap:butt;stroke-linejoin:miter;stroke-opacity:1\"/>\n",
       "<path class=\"bond-14 atom-14 atom-15\" d=\"M 139.3,149.2 L 143.9,147.7\" style=\"fill:none;fill-rule:evenodd;stroke:#000000;stroke-width:1.0px;stroke-linecap:butt;stroke-linejoin:miter;stroke-opacity:1\"/>\n",
       "<path class=\"bond-14 atom-14 atom-15\" d=\"M 137.9,145.9 L 143.2,144.2\" style=\"fill:none;fill-rule:evenodd;stroke:#00CC00;stroke-width:1.0px;stroke-linecap:butt;stroke-linejoin:miter;stroke-opacity:1\"/>\n",
       "<path class=\"bond-14 atom-14 atom-15\" d=\"M 136.4,142.6 L 142.4,140.7\" style=\"fill:none;fill-rule:evenodd;stroke:#00CC00;stroke-width:1.0px;stroke-linecap:butt;stroke-linejoin:miter;stroke-opacity:1\"/>\n",
       "<path class=\"bond-14 atom-14 atom-15\" d=\"M 135.0,139.3 L 141.6,137.2\" style=\"fill:none;fill-rule:evenodd;stroke:#00CC00;stroke-width:1.0px;stroke-linecap:butt;stroke-linejoin:miter;stroke-opacity:1\"/>\n",
       "<path class=\"bond-14 atom-14 atom-15\" d=\"M 133.6,136.1 L 140.9,133.7\" style=\"fill:none;fill-rule:evenodd;stroke:#00CC00;stroke-width:1.0px;stroke-linecap:butt;stroke-linejoin:miter;stroke-opacity:1\"/>\n",
       "<path class=\"bond-14 atom-14 atom-15\" d=\"M 132.1,132.8 L 140.1,130.2\" style=\"fill:none;fill-rule:evenodd;stroke:#00CC00;stroke-width:1.0px;stroke-linecap:butt;stroke-linejoin:miter;stroke-opacity:1\"/>\n",
       "<path class=\"bond-14 atom-14 atom-15\" d=\"M 130.7,129.5 L 139.3,126.7\" style=\"fill:none;fill-rule:evenodd;stroke:#00CC00;stroke-width:1.0px;stroke-linecap:butt;stroke-linejoin:miter;stroke-opacity:1\"/>\n",
       "<path class=\"bond-14 atom-14 atom-15\" d=\"M 129.3,126.2 L 138.6,123.2\" style=\"fill:none;fill-rule:evenodd;stroke:#00CC00;stroke-width:1.0px;stroke-linecap:butt;stroke-linejoin:miter;stroke-opacity:1\"/>\n",
       "<path class=\"bond-15 atom-14 atom-16\" d=\"M 149.3,172.2 L 111.1,224.9\" style=\"fill:none;fill-rule:evenodd;stroke:#000000;stroke-width:2.0px;stroke-linecap:butt;stroke-linejoin:miter;stroke-opacity:1\"/>\n",
       "<path class=\"bond-16 atom-16 atom-17\" d=\"M 111.1,224.9 L 82.3,213.9\" style=\"fill:none;fill-rule:evenodd;stroke:#000000;stroke-width:2.0px;stroke-linecap:butt;stroke-linejoin:miter;stroke-opacity:1\"/>\n",
       "<path class=\"bond-16 atom-16 atom-17\" d=\"M 82.3,213.9 L 53.6,202.8\" style=\"fill:none;fill-rule:evenodd;stroke:#00CC00;stroke-width:2.0px;stroke-linecap:butt;stroke-linejoin:miter;stroke-opacity:1\"/>\n",
       "<path class=\"bond-17 atom-16 atom-18\" d=\"M 111.1,224.9 L 82.3,235.9\" style=\"fill:none;fill-rule:evenodd;stroke:#000000;stroke-width:2.0px;stroke-linecap:butt;stroke-linejoin:miter;stroke-opacity:1\"/>\n",
       "<path class=\"bond-17 atom-16 atom-18\" d=\"M 82.3,235.9 L 53.6,246.9\" style=\"fill:none;fill-rule:evenodd;stroke:#00CC00;stroke-width:2.0px;stroke-linecap:butt;stroke-linejoin:miter;stroke-opacity:1\"/>\n",
       "<path class=\"bond-18 atom-7 atom-1\" d=\"M 331.2,272.1 L 339.7,254.4\" style=\"fill:none;fill-rule:evenodd;stroke:#FF0000;stroke-width:2.0px;stroke-linecap:butt;stroke-linejoin:miter;stroke-opacity:1\"/>\n",
       "<path class=\"bond-18 atom-7 atom-1\" d=\"M 339.7,254.4 L 348.2,236.7\" style=\"fill:none;fill-rule:evenodd;stroke:#CCCC00;stroke-width:2.0px;stroke-linecap:butt;stroke-linejoin:miter;stroke-opacity:1\"/>\n",
       "<path class=\"bond-19 atom-16 atom-8\" d=\"M 111.1,224.9 L 149.3,277.6\" style=\"fill:none;fill-rule:evenodd;stroke:#000000;stroke-width:2.0px;stroke-linecap:butt;stroke-linejoin:miter;stroke-opacity:1\"/>\n",
       "<path class=\"bond-20 atom-14 atom-4\" d=\"M 149.3,172.2 L 211.3,192.3\" style=\"fill:none;fill-rule:evenodd;stroke:#000000;stroke-width:2.0px;stroke-linecap:butt;stroke-linejoin:miter;stroke-opacity:1\"/>\n",
       "<path d=\"M 263.5,152.0 L 262.2,151.7 L 259.6,153.8\" style=\"fill:none;stroke:#000000;stroke-width:2.0px;stroke-linecap:butt;stroke-linejoin:miter;stroke-opacity:1;\"/>\n",
       "<path d=\"M 259.6,296.0 L 262.2,298.0 L 263.5,297.7\" style=\"fill:none;stroke:#000000;stroke-width:2.0px;stroke-linecap:butt;stroke-linejoin:miter;stroke-opacity:1;\"/>\n",
       "<path class=\"atom-0\" d=\"M 410.6 224.9 Q 410.6 220.5, 412.8 218.0 Q 414.9 215.6, 419.0 215.6 Q 423.1 215.6, 425.3 218.0 Q 427.5 220.5, 427.5 224.9 Q 427.5 229.4, 425.3 232.0 Q 423.1 234.5, 419.0 234.5 Q 415.0 234.5, 412.8 232.0 Q 410.6 229.4, 410.6 224.9 M 419.0 232.4 Q 421.8 232.4, 423.4 230.5 Q 424.9 228.6, 424.9 224.9 Q 424.9 221.3, 423.4 219.5 Q 421.8 217.6, 419.0 217.6 Q 416.2 217.6, 414.7 219.5 Q 413.2 221.3, 413.2 224.9 Q 413.2 228.7, 414.7 230.5 Q 416.2 232.4, 419.0 232.4 \" fill=\"#FF0000\"/>\n",
       "<path class=\"atom-1\" d=\"M 348.7 231.2 Q 348.9 231.3, 349.8 231.7 Q 350.6 232.0, 351.6 232.3 Q 352.5 232.5, 353.5 232.5 Q 355.2 232.5, 356.2 231.6 Q 357.3 230.8, 357.3 229.3 Q 357.3 228.3, 356.7 227.6 Q 356.2 227.0, 355.5 226.7 Q 354.7 226.3, 353.4 226.0 Q 351.7 225.5, 350.7 225.0 Q 349.8 224.5, 349.1 223.5 Q 348.4 222.5, 348.4 220.9 Q 348.4 218.6, 350.0 217.1 Q 351.5 215.7, 354.7 215.7 Q 356.8 215.7, 359.2 216.7 L 358.6 218.7 Q 356.4 217.8, 354.8 217.8 Q 353.0 217.8, 352.0 218.6 Q 351.0 219.3, 351.0 220.6 Q 351.0 221.5, 351.5 222.1 Q 352.0 222.7, 352.7 223.1 Q 353.5 223.4, 354.8 223.8 Q 356.4 224.3, 357.4 224.9 Q 358.4 225.4, 359.1 226.4 Q 359.8 227.5, 359.8 229.3 Q 359.8 231.8, 358.1 233.2 Q 356.4 234.6, 353.6 234.6 Q 351.9 234.6, 350.7 234.2 Q 349.5 233.9, 348.0 233.3 L 348.7 231.2 \" fill=\"#CCCC00\"/>\n",
       "<path class=\"atom-2\" d=\"M 317.2 166.3 Q 317.2 161.8, 319.4 159.4 Q 321.6 156.9, 325.7 156.9 Q 329.8 156.9, 331.9 159.4 Q 334.1 161.8, 334.1 166.3 Q 334.1 170.7, 331.9 173.3 Q 329.7 175.8, 325.7 175.8 Q 321.6 175.8, 319.4 173.3 Q 317.2 170.8, 317.2 166.3 M 325.7 173.7 Q 328.5 173.7, 330.0 171.9 Q 331.5 170.0, 331.5 166.3 Q 331.5 162.6, 330.0 160.8 Q 328.5 159.0, 325.7 159.0 Q 322.9 159.0, 321.3 160.8 Q 319.8 162.6, 319.8 166.3 Q 319.8 170.0, 321.3 171.9 Q 322.9 173.7, 325.7 173.7 \" fill=\"#FF0000\"/>\n",
       "<path class=\"atom-7\" d=\"M 317.2 283.6 Q 317.2 279.2, 319.4 276.7 Q 321.6 274.2, 325.7 274.2 Q 329.8 274.2, 331.9 276.7 Q 334.1 279.2, 334.1 283.6 Q 334.1 288.1, 331.9 290.6 Q 329.7 293.2, 325.7 293.2 Q 321.6 293.2, 319.4 290.6 Q 317.2 288.1, 317.2 283.6 M 325.7 291.1 Q 328.5 291.1, 330.0 289.2 Q 331.5 287.3, 331.5 283.6 Q 331.5 280.0, 330.0 278.2 Q 328.5 276.3, 325.7 276.3 Q 322.9 276.3, 321.3 278.1 Q 319.8 280.0, 319.8 283.6 Q 319.8 287.3, 321.3 289.2 Q 322.9 291.1, 325.7 291.1 \" fill=\"#FF0000\"/>\n",
       "<path class=\"atom-9\" d=\"M 122.1 340.1 Q 122.1 335.5, 124.2 333.1 Q 126.4 330.7, 130.5 330.7 Q 134.3 330.7, 136.3 333.4 L 134.6 334.8 Q 133.1 332.9, 130.5 332.9 Q 127.7 332.9, 126.2 334.7 Q 124.8 336.6, 124.8 340.1 Q 124.8 343.8, 126.3 345.7 Q 127.8 347.5, 130.8 347.5 Q 132.8 347.5, 135.2 346.3 L 135.9 348.3 Q 135.0 348.9, 133.5 349.2 Q 132.0 349.6, 130.4 349.6 Q 126.4 349.6, 124.2 347.2 Q 122.1 344.7, 122.1 340.1 \" fill=\"#00CC00\"/>\n",
       "<path class=\"atom-9\" d=\"M 138.2 329.6 L 140.6 329.6 L 140.6 349.4 L 138.2 349.4 L 138.2 329.6 \" fill=\"#00CC00\"/>\n",
       "<path class=\"atom-11\" d=\"M 22.5 302.5 Q 22.5 297.9, 24.6 295.5 Q 26.8 293.1, 30.9 293.1 Q 34.7 293.1, 36.7 295.8 L 35.0 297.2 Q 33.5 295.2, 30.9 295.2 Q 28.1 295.2, 26.6 297.1 Q 25.2 298.9, 25.2 302.5 Q 25.2 306.1, 26.7 308.0 Q 28.2 309.9, 31.2 309.9 Q 33.2 309.9, 35.6 308.7 L 36.3 310.6 Q 35.3 311.2, 33.9 311.6 Q 32.4 312.0, 30.8 312.0 Q 26.8 312.0, 24.6 309.5 Q 22.5 307.1, 22.5 302.5 \" fill=\"#00CC00\"/>\n",
       "<path class=\"atom-11\" d=\"M 38.6 292.0 L 41.0 292.0 L 41.0 311.7 L 38.6 311.7 L 38.6 292.0 \" fill=\"#00CC00\"/>\n",
       "<path class=\"atom-13\" d=\"M 22.5 148.6 Q 22.5 144.0, 24.6 141.6 Q 26.8 139.1, 30.9 139.1 Q 34.7 139.1, 36.7 141.8 L 35.0 143.2 Q 33.5 141.3, 30.9 141.3 Q 28.1 141.3, 26.6 143.2 Q 25.2 145.0, 25.2 148.6 Q 25.2 152.2, 26.7 154.1 Q 28.2 155.9, 31.2 155.9 Q 33.2 155.9, 35.6 154.7 L 36.3 156.7 Q 35.3 157.3, 33.9 157.7 Q 32.4 158.0, 30.8 158.0 Q 26.8 158.0, 24.6 155.6 Q 22.5 153.1, 22.5 148.6 \" fill=\"#00CC00\"/>\n",
       "<path class=\"atom-13\" d=\"M 38.6 138.0 L 41.0 138.0 L 41.0 157.8 L 38.6 157.8 L 38.6 138.0 \" fill=\"#00CC00\"/>\n",
       "<path class=\"atom-15\" d=\"M 122.1 110.9 Q 122.1 106.3, 124.2 103.9 Q 126.4 101.5, 130.5 101.5 Q 134.3 101.5, 136.3 104.2 L 134.6 105.6 Q 133.1 103.6, 130.5 103.6 Q 127.7 103.6, 126.2 105.5 Q 124.8 107.4, 124.8 110.9 Q 124.8 114.6, 126.3 116.4 Q 127.8 118.3, 130.8 118.3 Q 132.8 118.3, 135.2 117.1 L 135.9 119.0 Q 135.0 119.7, 133.5 120.0 Q 132.0 120.4, 130.4 120.4 Q 126.4 120.4, 124.2 117.9 Q 122.1 115.5, 122.1 110.9 \" fill=\"#00CC00\"/>\n",
       "<path class=\"atom-15\" d=\"M 138.2 100.4 L 140.6 100.4 L 140.6 120.2 L 138.2 120.2 L 138.2 100.4 \" fill=\"#00CC00\"/>\n",
       "<path class=\"atom-17\" d=\"M 33.0 202.2 Q 33.0 197.6, 35.1 195.2 Q 37.3 192.8, 41.4 192.8 Q 45.2 192.8, 47.2 195.5 L 45.5 196.9 Q 44.0 194.9, 41.4 194.9 Q 38.6 194.9, 37.1 196.8 Q 35.6 198.6, 35.6 202.2 Q 35.6 205.8, 37.2 207.7 Q 38.7 209.6, 41.7 209.6 Q 43.7 209.6, 46.1 208.4 L 46.8 210.3 Q 45.8 210.9, 44.4 211.3 Q 42.9 211.7, 41.3 211.7 Q 37.3 211.7, 35.1 209.2 Q 33.0 206.8, 33.0 202.2 \" fill=\"#00CC00\"/>\n",
       "<path class=\"atom-17\" d=\"M 49.1 191.7 L 51.5 191.7 L 51.5 211.4 L 49.1 211.4 L 49.1 191.7 \" fill=\"#00CC00\"/>\n",
       "<path class=\"atom-18\" d=\"M 33.0 248.9 Q 33.0 244.3, 35.1 241.9 Q 37.3 239.4, 41.4 239.4 Q 45.2 239.4, 47.2 242.1 L 45.5 243.5 Q 44.0 241.6, 41.4 241.6 Q 38.6 241.6, 37.1 243.5 Q 35.6 245.3, 35.6 248.9 Q 35.6 252.5, 37.2 254.4 Q 38.7 256.2, 41.7 256.2 Q 43.7 256.2, 46.1 255.0 L 46.8 257.0 Q 45.8 257.6, 44.4 258.0 Q 42.9 258.3, 41.3 258.3 Q 37.3 258.3, 35.1 255.9 Q 33.0 253.4, 33.0 248.9 \" fill=\"#00CC00\"/>\n",
       "<path class=\"atom-18\" d=\"M 49.1 238.3 L 51.5 238.3 L 51.5 258.1 L 49.1 258.1 L 49.1 238.3 \" fill=\"#00CC00\"/>\n",
       "<path class=\"note\" d=\"M 158.0 294.4 Q 158.0 292.5, 158.5 291.0 Q 159.1 289.4, 160.1 287.8 L 160.9 288.2 Q 160.0 289.8, 159.6 291.2 Q 159.2 292.6, 159.2 294.4 Q 159.2 296.1, 159.6 297.5 Q 160.0 298.9, 160.9 300.5 L 160.1 301.0 Q 159.1 299.3, 158.5 297.8 Q 158.0 296.2, 158.0 294.4 \" fill=\"#000000\"/>\n",
       "<path class=\"note\" d=\"M 161.9 296.6 Q 162.0 296.7, 162.5 296.9 Q 162.9 297.0, 163.4 297.2 Q 163.9 297.3, 164.3 297.3 Q 165.2 297.3, 165.7 296.8 Q 166.2 296.4, 166.2 295.7 Q 166.2 295.2, 166.0 294.9 Q 165.7 294.5, 165.3 294.4 Q 164.9 294.2, 164.3 294.0 Q 163.5 293.8, 163.0 293.5 Q 162.5 293.3, 162.1 292.8 Q 161.8 292.3, 161.8 291.5 Q 161.8 290.3, 162.6 289.6 Q 163.4 288.9, 164.9 288.9 Q 166.0 288.9, 167.2 289.4 L 166.9 290.4 Q 165.8 289.9, 165.0 289.9 Q 164.1 289.9, 163.6 290.3 Q 163.1 290.7, 163.1 291.3 Q 163.1 291.8, 163.3 292.1 Q 163.6 292.4, 164.0 292.6 Q 164.3 292.7, 165.0 292.9 Q 165.8 293.2, 166.3 293.5 Q 166.8 293.7, 167.1 294.3 Q 167.5 294.8, 167.5 295.7 Q 167.5 296.9, 166.6 297.6 Q 165.8 298.3, 164.4 298.3 Q 163.6 298.3, 162.9 298.1 Q 162.3 298.0, 161.6 297.7 L 161.9 296.6 \" fill=\"#000000\"/>\n",
       "<path class=\"note\" d=\"M 171.4 294.4 Q 171.4 296.2, 170.8 297.8 Q 170.3 299.3, 169.2 301.0 L 168.5 300.5 Q 169.4 298.9, 169.8 297.5 Q 170.2 296.1, 170.2 294.4 Q 170.2 292.6, 169.8 291.2 Q 169.4 289.8, 168.5 288.2 L 169.2 287.8 Q 170.3 289.4, 170.8 291.0 Q 171.4 292.5, 171.4 294.4 \" fill=\"#000000\"/>\n",
       "<path class=\"note\" d=\"M 123.3 163.8 Q 123.3 161.9, 123.9 160.4 Q 124.4 158.9, 125.5 157.2 L 126.2 157.7 Q 125.3 159.2, 124.9 160.6 Q 124.5 162.0, 124.5 163.8 Q 124.5 165.6, 124.9 166.9 Q 125.3 168.3, 126.2 169.9 L 125.5 170.4 Q 124.4 168.7, 123.9 167.2 Q 123.3 165.7, 123.3 163.8 \" fill=\"#000000\"/>\n",
       "<path class=\"note\" d=\"M 127.3 166.1 Q 127.4 166.1, 127.8 166.3 Q 128.2 166.5, 128.7 166.6 Q 129.2 166.7, 129.6 166.7 Q 130.5 166.7, 131.0 166.3 Q 131.5 165.9, 131.5 165.1 Q 131.5 164.6, 131.3 164.3 Q 131.0 164.0, 130.6 163.8 Q 130.2 163.6, 129.6 163.4 Q 128.8 163.2, 128.3 163.0 Q 127.8 162.7, 127.4 162.2 Q 127.1 161.7, 127.1 160.9 Q 127.1 159.7, 127.9 159.0 Q 128.7 158.3, 130.2 158.3 Q 131.3 158.3, 132.5 158.8 L 132.2 159.8 Q 131.1 159.4, 130.3 159.4 Q 129.4 159.4, 128.9 159.7 Q 128.4 160.1, 128.4 160.7 Q 128.4 161.2, 128.6 161.5 Q 128.9 161.8, 129.3 162.0 Q 129.7 162.2, 130.3 162.4 Q 131.1 162.6, 131.6 162.9 Q 132.1 163.2, 132.5 163.7 Q 132.8 164.2, 132.8 165.1 Q 132.8 166.4, 132.0 167.1 Q 131.1 167.8, 129.7 167.8 Q 128.9 167.8, 128.2 167.6 Q 127.6 167.4, 126.9 167.1 L 127.3 166.1 \" fill=\"#000000\"/>\n",
       "<path class=\"note\" d=\"M 136.7 163.8 Q 136.7 165.7, 136.1 167.2 Q 135.6 168.7, 134.5 170.4 L 133.8 169.9 Q 134.7 168.3, 135.1 166.9 Q 135.5 165.6, 135.5 163.8 Q 135.5 162.0, 135.1 160.6 Q 134.7 159.2, 133.8 157.7 L 134.5 157.2 Q 135.6 158.9, 136.1 160.4 Q 136.7 161.9, 136.7 163.8 \" fill=\"#000000\"/>\n",
       "<path class=\"bond-0 atom-0 atom-1\" d=\"M 858.4,229.8 L 835.2,229.8\" style=\"fill:none;fill-rule:evenodd;stroke:#FF0000;stroke-width:2.0px;stroke-linecap:butt;stroke-linejoin:miter;stroke-opacity:1\"/>\n",
       "<path class=\"bond-0 atom-0 atom-1\" d=\"M 835.2,229.8 L 812.0,229.8\" style=\"fill:none;fill-rule:evenodd;stroke:#CCCC00;stroke-width:2.0px;stroke-linecap:butt;stroke-linejoin:miter;stroke-opacity:1\"/>\n",
       "<path class=\"bond-0 atom-0 atom-1\" d=\"M 858.4,220.0 L 835.2,220.0\" style=\"fill:none;fill-rule:evenodd;stroke:#FF0000;stroke-width:2.0px;stroke-linecap:butt;stroke-linejoin:miter;stroke-opacity:1\"/>\n",
       "<path class=\"bond-0 atom-0 atom-1\" d=\"M 835.2,220.0 L 812.0,220.0\" style=\"fill:none;fill-rule:evenodd;stroke:#CCCC00;stroke-width:2.0px;stroke-linecap:butt;stroke-linejoin:miter;stroke-opacity:1\"/>\n",
       "<path class=\"bond-1 atom-1 atom-2\" d=\"M 798.5,213.5 L 789.9,195.8\" style=\"fill:none;fill-rule:evenodd;stroke:#CCCC00;stroke-width:2.0px;stroke-linecap:butt;stroke-linejoin:miter;stroke-opacity:1\"/>\n",
       "<path class=\"bond-1 atom-1 atom-2\" d=\"M 789.9,195.8 L 781.3,178.0\" style=\"fill:none;fill-rule:evenodd;stroke:#FF0000;stroke-width:2.0px;stroke-linecap:butt;stroke-linejoin:miter;stroke-opacity:1\"/>\n",
       "<path class=\"bond-2 atom-2 atom-3\" d=\"M 765.1,163.8 L 738.6,157.8\" style=\"fill:none;fill-rule:evenodd;stroke:#FF0000;stroke-width:2.0px;stroke-linecap:butt;stroke-linejoin:miter;stroke-opacity:1\"/>\n",
       "<path class=\"bond-2 atom-2 atom-3\" d=\"M 738.6,157.8 L 712.2,151.7\" style=\"fill:none;fill-rule:evenodd;stroke:#000000;stroke-width:2.0px;stroke-linecap:butt;stroke-linejoin:miter;stroke-opacity:1\"/>\n",
       "<path class=\"bond-3 atom-3 atom-4\" d=\"M 712.2,151.7 L 661.3,192.3\" style=\"fill:none;fill-rule:evenodd;stroke:#000000;stroke-width:2.0px;stroke-linecap:butt;stroke-linejoin:miter;stroke-opacity:1\"/>\n",
       "<path class=\"bond-4 atom-4 atom-5\" d=\"M 661.3,192.3 L 661.3,257.4\" style=\"fill:none;fill-rule:evenodd;stroke:#000000;stroke-width:2.0px;stroke-linecap:butt;stroke-linejoin:miter;stroke-opacity:1\"/>\n",
       "<path class=\"bond-5 atom-5 atom-6\" d=\"M 661.3,257.4 L 712.2,298.0\" style=\"fill:none;fill-rule:evenodd;stroke:#000000;stroke-width:2.0px;stroke-linecap:butt;stroke-linejoin:miter;stroke-opacity:1\"/>\n",
       "<path class=\"bond-6 atom-6 atom-7\" d=\"M 712.2,298.0 L 738.6,292.0\" style=\"fill:none;fill-rule:evenodd;stroke:#000000;stroke-width:2.0px;stroke-linecap:butt;stroke-linejoin:miter;stroke-opacity:1\"/>\n",
       "<path class=\"bond-6 atom-6 atom-7\" d=\"M 738.6,292.0 L 765.1,286.0\" style=\"fill:none;fill-rule:evenodd;stroke:#FF0000;stroke-width:2.0px;stroke-linecap:butt;stroke-linejoin:miter;stroke-opacity:1\"/>\n",
       "<path class=\"bond-7 atom-5 atom-8\" d=\"M 661.3,257.4 L 599.3,277.6\" style=\"fill:none;fill-rule:evenodd;stroke:#000000;stroke-width:2.0px;stroke-linecap:butt;stroke-linejoin:miter;stroke-opacity:1\"/>\n",
       "<path class=\"bond-8 atom-8 atom-9\" d=\"M 599.3,277.6 L 591.1,303.1\" style=\"fill:none;fill-rule:evenodd;stroke:#000000;stroke-width:2.0px;stroke-linecap:butt;stroke-linejoin:miter;stroke-opacity:1\"/>\n",
       "<path class=\"bond-8 atom-8 atom-9\" d=\"M 591.1,303.1 L 582.8,328.6\" style=\"fill:none;fill-rule:evenodd;stroke:#00CC00;stroke-width:2.0px;stroke-linecap:butt;stroke-linejoin:miter;stroke-opacity:1\"/>\n",
       "<path class=\"bond-9 atom-8 atom-10\" d=\"M 599.3,277.6 L 537.4,257.4\" style=\"fill:none;fill-rule:evenodd;stroke:#000000;stroke-width:2.0px;stroke-linecap:butt;stroke-linejoin:miter;stroke-opacity:1\"/>\n",
       "<path class=\"bond-10 atom-10 atom-11\" d=\"M 537.4,257.4 L 515.3,278.1\" style=\"fill:none;fill-rule:evenodd;stroke:#000000;stroke-width:2.0px;stroke-linecap:butt;stroke-linejoin:miter;stroke-opacity:1\"/>\n",
       "<path class=\"bond-10 atom-10 atom-11\" d=\"M 515.3,278.1 L 493.1,298.7\" style=\"fill:none;fill-rule:evenodd;stroke:#00CC00;stroke-width:2.0px;stroke-linecap:butt;stroke-linejoin:miter;stroke-opacity:1\"/>\n",
       "<path class=\"bond-11 atom-10 atom-12\" d=\"M 537.4,257.4 L 537.4,192.3\" style=\"fill:none;fill-rule:evenodd;stroke:#000000;stroke-width:2.0px;stroke-linecap:butt;stroke-linejoin:miter;stroke-opacity:1\"/>\n",
       "<path class=\"bond-11 atom-10 atom-12\" d=\"M 547.2,250.3 L 547.2,199.4\" style=\"fill:none;fill-rule:evenodd;stroke:#000000;stroke-width:2.0px;stroke-linecap:butt;stroke-linejoin:miter;stroke-opacity:1\"/>\n",
       "<path class=\"bond-12 atom-12 atom-13\" d=\"M 537.4,192.3 L 515.3,171.7\" style=\"fill:none;fill-rule:evenodd;stroke:#000000;stroke-width:2.0px;stroke-linecap:butt;stroke-linejoin:miter;stroke-opacity:1\"/>\n",
       "<path class=\"bond-12 atom-12 atom-13\" d=\"M 515.3,171.7 L 493.1,151.0\" style=\"fill:none;fill-rule:evenodd;stroke:#00CC00;stroke-width:2.0px;stroke-linecap:butt;stroke-linejoin:miter;stroke-opacity:1\"/>\n",
       "<path class=\"bond-13 atom-12 atom-14\" d=\"M 537.4,192.3 L 599.3,172.2\" style=\"fill:none;fill-rule:evenodd;stroke:#000000;stroke-width:2.0px;stroke-linecap:butt;stroke-linejoin:miter;stroke-opacity:1\"/>\n",
       "<path class=\"bond-14 atom-14 atom-15\" d=\"M 599.3,172.2 L 591.3,147.4\" style=\"fill:none;fill-rule:evenodd;stroke:#000000;stroke-width:2.0px;stroke-linecap:butt;stroke-linejoin:miter;stroke-opacity:1\"/>\n",
       "<path class=\"bond-14 atom-14 atom-15\" d=\"M 591.3,147.4 L 583.2,122.5\" style=\"fill:none;fill-rule:evenodd;stroke:#00CC00;stroke-width:2.0px;stroke-linecap:butt;stroke-linejoin:miter;stroke-opacity:1\"/>\n",
       "<path class=\"bond-15 atom-14 atom-16\" d=\"M 599.3,172.2 L 561.1,224.9\" style=\"fill:none;fill-rule:evenodd;stroke:#000000;stroke-width:2.0px;stroke-linecap:butt;stroke-linejoin:miter;stroke-opacity:1\"/>\n",
       "<path class=\"bond-16 atom-16 atom-17\" d=\"M 561.1,224.9 L 532.3,213.9\" style=\"fill:none;fill-rule:evenodd;stroke:#000000;stroke-width:2.0px;stroke-linecap:butt;stroke-linejoin:miter;stroke-opacity:1\"/>\n",
       "<path class=\"bond-16 atom-16 atom-17\" d=\"M 532.3,213.9 L 503.6,202.8\" style=\"fill:none;fill-rule:evenodd;stroke:#00CC00;stroke-width:2.0px;stroke-linecap:butt;stroke-linejoin:miter;stroke-opacity:1\"/>\n",
       "<path class=\"bond-17 atom-16 atom-18\" d=\"M 561.1,224.9 L 532.3,235.9\" style=\"fill:none;fill-rule:evenodd;stroke:#000000;stroke-width:2.0px;stroke-linecap:butt;stroke-linejoin:miter;stroke-opacity:1\"/>\n",
       "<path class=\"bond-17 atom-16 atom-18\" d=\"M 532.3,235.9 L 503.6,246.9\" style=\"fill:none;fill-rule:evenodd;stroke:#00CC00;stroke-width:2.0px;stroke-linecap:butt;stroke-linejoin:miter;stroke-opacity:1\"/>\n",
       "<path class=\"bond-18 atom-7 atom-1\" d=\"M 781.2,272.1 L 789.7,254.4\" style=\"fill:none;fill-rule:evenodd;stroke:#FF0000;stroke-width:2.0px;stroke-linecap:butt;stroke-linejoin:miter;stroke-opacity:1\"/>\n",
       "<path class=\"bond-18 atom-7 atom-1\" d=\"M 789.7,254.4 L 798.2,236.7\" style=\"fill:none;fill-rule:evenodd;stroke:#CCCC00;stroke-width:2.0px;stroke-linecap:butt;stroke-linejoin:miter;stroke-opacity:1\"/>\n",
       "<path class=\"bond-19 atom-16 atom-8\" d=\"M 561.1,224.9 L 599.3,277.6\" style=\"fill:none;fill-rule:evenodd;stroke:#000000;stroke-width:2.0px;stroke-linecap:butt;stroke-linejoin:miter;stroke-opacity:1\"/>\n",
       "<path class=\"bond-20 atom-14 atom-4\" d=\"M 599.3,172.2 L 661.3,192.3\" style=\"fill:none;fill-rule:evenodd;stroke:#000000;stroke-width:2.0px;stroke-linecap:butt;stroke-linejoin:miter;stroke-opacity:1\"/>\n",
       "<path d=\"M 713.5,152.0 L 712.2,151.7 L 709.6,153.8\" style=\"fill:none;stroke:#000000;stroke-width:2.0px;stroke-linecap:butt;stroke-linejoin:miter;stroke-opacity:1;\"/>\n",
       "<path d=\"M 709.6,296.0 L 712.2,298.0 L 713.5,297.7\" style=\"fill:none;stroke:#000000;stroke-width:2.0px;stroke-linecap:butt;stroke-linejoin:miter;stroke-opacity:1;\"/>\n",
       "<path class=\"atom-0\" d=\"M 860.6 224.9 Q 860.6 220.5, 862.8 218.0 Q 864.9 215.6, 869.0 215.6 Q 873.1 215.6, 875.3 218.0 Q 877.5 220.5, 877.5 224.9 Q 877.5 229.4, 875.3 232.0 Q 873.1 234.5, 869.0 234.5 Q 865.0 234.5, 862.8 232.0 Q 860.6 229.4, 860.6 224.9 M 869.0 232.4 Q 871.8 232.4, 873.4 230.5 Q 874.9 228.6, 874.9 224.9 Q 874.9 221.3, 873.4 219.5 Q 871.8 217.6, 869.0 217.6 Q 866.2 217.6, 864.7 219.5 Q 863.2 221.3, 863.2 224.9 Q 863.2 228.7, 864.7 230.5 Q 866.2 232.4, 869.0 232.4 \" fill=\"#FF0000\"/>\n",
       "<path class=\"atom-1\" d=\"M 798.7 231.2 Q 798.9 231.3, 799.8 231.7 Q 800.6 232.0, 801.6 232.3 Q 802.5 232.5, 803.5 232.5 Q 805.2 232.5, 806.2 231.6 Q 807.3 230.8, 807.3 229.3 Q 807.3 228.3, 806.7 227.6 Q 806.2 227.0, 805.5 226.7 Q 804.7 226.3, 803.4 226.0 Q 801.7 225.5, 800.7 225.0 Q 799.8 224.5, 799.1 223.5 Q 798.4 222.5, 798.4 220.9 Q 798.4 218.6, 800.0 217.1 Q 801.5 215.7, 804.7 215.7 Q 806.8 215.7, 809.2 216.7 L 808.6 218.7 Q 806.4 217.8, 804.8 217.8 Q 803.0 217.8, 802.0 218.6 Q 801.0 219.3, 801.0 220.6 Q 801.0 221.5, 801.5 222.1 Q 802.0 222.7, 802.7 223.1 Q 803.5 223.4, 804.8 223.8 Q 806.4 224.3, 807.4 224.9 Q 808.4 225.4, 809.1 226.4 Q 809.8 227.5, 809.8 229.3 Q 809.8 231.8, 808.1 233.2 Q 806.4 234.6, 803.6 234.6 Q 801.9 234.6, 800.7 234.2 Q 799.5 233.9, 798.0 233.3 L 798.7 231.2 \" fill=\"#CCCC00\"/>\n",
       "<path class=\"atom-2\" d=\"M 767.2 166.3 Q 767.2 161.8, 769.4 159.4 Q 771.6 156.9, 775.7 156.9 Q 779.8 156.9, 781.9 159.4 Q 784.1 161.8, 784.1 166.3 Q 784.1 170.7, 781.9 173.3 Q 779.7 175.8, 775.7 175.8 Q 771.6 175.8, 769.4 173.3 Q 767.2 170.8, 767.2 166.3 M 775.7 173.7 Q 778.5 173.7, 780.0 171.9 Q 781.5 170.0, 781.5 166.3 Q 781.5 162.6, 780.0 160.8 Q 778.5 159.0, 775.7 159.0 Q 772.9 159.0, 771.3 160.8 Q 769.8 162.6, 769.8 166.3 Q 769.8 170.0, 771.3 171.9 Q 772.9 173.7, 775.7 173.7 \" fill=\"#FF0000\"/>\n",
       "<path class=\"atom-7\" d=\"M 767.2 283.6 Q 767.2 279.2, 769.4 276.7 Q 771.6 274.2, 775.7 274.2 Q 779.8 274.2, 781.9 276.7 Q 784.1 279.2, 784.1 283.6 Q 784.1 288.1, 781.9 290.6 Q 779.7 293.2, 775.7 293.2 Q 771.6 293.2, 769.4 290.6 Q 767.2 288.1, 767.2 283.6 M 775.7 291.1 Q 778.5 291.1, 780.0 289.2 Q 781.5 287.3, 781.5 283.6 Q 781.5 280.0, 780.0 278.2 Q 778.5 276.3, 775.7 276.3 Q 772.9 276.3, 771.3 278.1 Q 769.8 280.0, 769.8 283.6 Q 769.8 287.3, 771.3 289.2 Q 772.9 291.1, 775.7 291.1 \" fill=\"#FF0000\"/>\n",
       "<path class=\"atom-9\" d=\"M 572.1 340.1 Q 572.1 335.5, 574.2 333.1 Q 576.4 330.7, 580.5 330.7 Q 584.3 330.7, 586.3 333.4 L 584.6 334.8 Q 583.1 332.9, 580.5 332.9 Q 577.7 332.9, 576.2 334.7 Q 574.8 336.6, 574.8 340.1 Q 574.8 343.8, 576.3 345.7 Q 577.8 347.5, 580.8 347.5 Q 582.8 347.5, 585.2 346.3 L 585.9 348.3 Q 585.0 348.9, 583.5 349.2 Q 582.0 349.6, 580.4 349.6 Q 576.4 349.6, 574.2 347.2 Q 572.1 344.7, 572.1 340.1 \" fill=\"#00CC00\"/>\n",
       "<path class=\"atom-9\" d=\"M 588.2 329.6 L 590.6 329.6 L 590.6 349.4 L 588.2 349.4 L 588.2 329.6 \" fill=\"#00CC00\"/>\n",
       "<path class=\"atom-11\" d=\"M 472.5 302.5 Q 472.5 297.9, 474.6 295.5 Q 476.8 293.1, 480.9 293.1 Q 484.7 293.1, 486.7 295.8 L 485.0 297.2 Q 483.5 295.2, 480.9 295.2 Q 478.1 295.2, 476.6 297.1 Q 475.2 298.9, 475.2 302.5 Q 475.2 306.1, 476.7 308.0 Q 478.2 309.9, 481.2 309.9 Q 483.2 309.9, 485.6 308.7 L 486.3 310.6 Q 485.3 311.2, 483.9 311.6 Q 482.4 312.0, 480.8 312.0 Q 476.8 312.0, 474.6 309.5 Q 472.5 307.1, 472.5 302.5 \" fill=\"#00CC00\"/>\n",
       "<path class=\"atom-11\" d=\"M 488.6 292.0 L 491.0 292.0 L 491.0 311.7 L 488.6 311.7 L 488.6 292.0 \" fill=\"#00CC00\"/>\n",
       "<path class=\"atom-13\" d=\"M 472.5 148.6 Q 472.5 144.0, 474.6 141.6 Q 476.8 139.1, 480.9 139.1 Q 484.7 139.1, 486.7 141.8 L 485.0 143.2 Q 483.5 141.3, 480.9 141.3 Q 478.1 141.3, 476.6 143.2 Q 475.2 145.0, 475.2 148.6 Q 475.2 152.2, 476.7 154.1 Q 478.2 155.9, 481.2 155.9 Q 483.2 155.9, 485.6 154.7 L 486.3 156.7 Q 485.3 157.3, 483.9 157.7 Q 482.4 158.0, 480.8 158.0 Q 476.8 158.0, 474.6 155.6 Q 472.5 153.1, 472.5 148.6 \" fill=\"#00CC00\"/>\n",
       "<path class=\"atom-13\" d=\"M 488.6 138.0 L 491.0 138.0 L 491.0 157.8 L 488.6 157.8 L 488.6 138.0 \" fill=\"#00CC00\"/>\n",
       "<path class=\"atom-15\" d=\"M 572.1 110.9 Q 572.1 106.3, 574.2 103.9 Q 576.4 101.5, 580.5 101.5 Q 584.3 101.5, 586.3 104.2 L 584.6 105.6 Q 583.1 103.6, 580.5 103.6 Q 577.7 103.6, 576.2 105.5 Q 574.8 107.4, 574.8 110.9 Q 574.8 114.6, 576.3 116.4 Q 577.8 118.3, 580.8 118.3 Q 582.8 118.3, 585.2 117.1 L 585.9 119.0 Q 585.0 119.7, 583.5 120.0 Q 582.0 120.4, 580.4 120.4 Q 576.4 120.4, 574.2 117.9 Q 572.1 115.5, 572.1 110.9 \" fill=\"#00CC00\"/>\n",
       "<path class=\"atom-15\" d=\"M 588.2 100.4 L 590.6 100.4 L 590.6 120.2 L 588.2 120.2 L 588.2 100.4 \" fill=\"#00CC00\"/>\n",
       "<path class=\"atom-17\" d=\"M 483.0 202.2 Q 483.0 197.6, 485.1 195.2 Q 487.3 192.8, 491.4 192.8 Q 495.2 192.8, 497.2 195.5 L 495.5 196.9 Q 494.0 194.9, 491.4 194.9 Q 488.6 194.9, 487.1 196.8 Q 485.6 198.6, 485.6 202.2 Q 485.6 205.8, 487.2 207.7 Q 488.7 209.6, 491.7 209.6 Q 493.7 209.6, 496.1 208.4 L 496.8 210.3 Q 495.8 210.9, 494.4 211.3 Q 492.9 211.7, 491.3 211.7 Q 487.3 211.7, 485.1 209.2 Q 483.0 206.8, 483.0 202.2 \" fill=\"#00CC00\"/>\n",
       "<path class=\"atom-17\" d=\"M 499.1 191.7 L 501.5 191.7 L 501.5 211.4 L 499.1 211.4 L 499.1 191.7 \" fill=\"#00CC00\"/>\n",
       "<path class=\"atom-18\" d=\"M 483.0 248.9 Q 483.0 244.3, 485.1 241.9 Q 487.3 239.4, 491.4 239.4 Q 495.2 239.4, 497.2 242.1 L 495.5 243.5 Q 494.0 241.6, 491.4 241.6 Q 488.6 241.6, 487.1 243.5 Q 485.6 245.3, 485.6 248.9 Q 485.6 252.5, 487.2 254.4 Q 488.7 256.2, 491.7 256.2 Q 493.7 256.2, 496.1 255.0 L 496.8 257.0 Q 495.8 257.6, 494.4 258.0 Q 492.9 258.3, 491.3 258.3 Q 487.3 258.3, 485.1 255.9 Q 483.0 253.4, 483.0 248.9 \" fill=\"#00CC00\"/>\n",
       "<path class=\"atom-18\" d=\"M 499.1 238.3 L 501.5 238.3 L 501.5 258.1 L 499.1 258.1 L 499.1 238.3 \" fill=\"#00CC00\"/>\n",
       "</svg>"
      ],
      "text/plain": [
       "<IPython.core.display.SVG object>"
      ]
     },
     "execution_count": 29,
     "metadata": {},
     "output_type": "execute_result"
    }
   ],
   "source": [
    "mol_skip2=Chem.MolFromSmiles('O=S1OCC2C(CO1)[C@]1(Cl)C(Cl)=C(Cl)[C@]2(Cl)C1(Cl)Cl')\n",
    "mol_skip3=Chem.MolFromSmiles('O=S1OCC2C(CO1)C1(Cl)C(Cl)=C(Cl)C2(Cl)C1(Cl)Cl')\n",
    "Draw.MolsToGridImage([mol_skip2,mol_skip3], subImgSize=(450,450))"
   ]
  },
  {
   "cell_type": "code",
   "execution_count": null,
   "id": "e89849cd-bba9-4136-a11f-97ff20a8048e",
   "metadata": {},
   "outputs": [],
   "source": []
  }
 ],
 "metadata": {
  "kernelspec": {
   "display_name": "Python 3 (ipykernel)",
   "language": "python",
   "name": "python3"
  },
  "language_info": {
   "codemirror_mode": {
    "name": "ipython",
    "version": 3
   },
   "file_extension": ".py",
   "mimetype": "text/x-python",
   "name": "python",
   "nbconvert_exporter": "python",
   "pygments_lexer": "ipython3",
   "version": "3.12.2"
  }
 },
 "nbformat": 4,
 "nbformat_minor": 5
}
