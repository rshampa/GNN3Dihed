{
 "cells": [
  {
   "cell_type": "markdown",
   "id": "d763e732-b4ef-4ad8-abbc-c43a685fdd7f",
   "metadata": {},
   "source": [
    "## Load your libraries (LYL)"
   ]
  },
  {
   "cell_type": "code",
   "execution_count": 9,
   "id": "96c06257-a4aa-4aa0-a2cc-d61619fb23e7",
   "metadata": {},
   "outputs": [
    {
     "name": "stdout",
     "output_type": "stream",
     "text": [
      "cpu\n"
     ]
    }
   ],
   "source": [
    "from dataset import QM9,LogSDataset,LogPDataset\n",
    "import numpy as np\n",
    "import pandas as pd\n",
    "from utils import *\n",
    "import torch\n",
    "from tqdm import tqdm\n",
    "from model import Autoencoder # Simply importing the autoencoder model module from the model.py file\n",
    "from model import GNN3D\n",
    "\n",
    "import matplotlib.pyplot as plt\n",
    "from rdkit import Chem\n",
    "from rdkit.Chem.Draw import MolsToGridImage\n",
    "\n",
    "import os\n",
    "\n",
    "device = torch.device(\"cuda\" if torch.cuda.is_available() else \"cpu\")\n",
    "print(device)"
   ]
  },
  {
   "cell_type": "markdown",
   "id": "9f15f0d0-0cb2-4642-84b0-5b63450abc49",
   "metadata": {},
   "source": [
    "## Split your dataset (SYD)"
   ]
  },
  {
   "cell_type": "code",
   "execution_count": 10,
   "id": "9dd26f61-c851-43ac-8e31-06bc07555dd0",
   "metadata": {},
   "outputs": [
    {
     "name": "stdout",
     "output_type": "stream",
     "text": [
      "Train and test datasets saved successfully.\n"
     ]
    }
   ],
   "source": [
    "# Load dataset from CSV\n",
    "dataset = pd.read_csv(\"../data/logs/logs.csv\")\n",
    "\n",
    "# Split dataset into train and test\n",
    "train_dataset, test_dataset = split_dataset(dataset, 0.9)\n",
    "\n",
    "# Write train_dataset and test_dataset to CSV files\n",
    "train_dataset.to_csv(\"../data/logs/train.csv\", index=False)\n",
    "test_dataset.to_csv(\"../data/logs/test.csv\", index=False)\n",
    "\n",
    "print(\"Train and test datasets saved successfully.\")"
   ]
  },
  {
   "cell_type": "markdown",
   "id": "daaf0ef3-0b21-4ac2-a543-f6f230bcf33d",
   "metadata": {},
   "source": [
    "## Process your data (PYD)"
   ]
  },
  {
   "cell_type": "code",
   "execution_count": 11,
   "id": "92fc2677-334d-4f86-bdcd-12f467a29fde",
   "metadata": {},
   "outputs": [
    {
     "name": "stdout",
     "output_type": "stream",
     "text": [
      "Loading dataset from folder\n",
      "Initializing Molecular Representation Generator\n",
      "Dataset Name: LogS\n",
      "Number of Molecules Loaded: 1178\n",
      "===================================\n",
      "Loading dataset from folder\n",
      "Initializing Molecular Representation Generator\n",
      "Dataset Name: LogS\n",
      "Number of Molecules Loaded: 131\n"
     ]
    }
   ],
   "source": [
    "train_samples = LogSDataset(\"../data/logs/train\")\n",
    "print(train_samples)\n",
    "print(\"===================================\")\n",
    "test_samples = LogSDataset(\"../data/logs/test\")\n",
    "print(test_samples)"
   ]
  },
  {
   "cell_type": "markdown",
   "id": "a5598106-3a5a-403c-ae8d-9758631af771",
   "metadata": {},
   "source": [
    "## Know your features (KYF)"
   ]
  },
  {
   "cell_type": "code",
   "execution_count": 12,
   "id": "15e120fd-0f78-40a9-b890-b237c8715434",
   "metadata": {},
   "outputs": [
    {
     "name": "stdout",
     "output_type": "stream",
     "text": [
      "Atomic Features: torch.Size([29, 154]) - This represents the atomic features of the molecule\n",
      "Bond Features: torch.Size([60, 10]) - This represents the bond features of the molecule\n",
      "Angle Features: torch.Size([96]) - This represents the angle features of the molecule\n",
      "Dihedral Features: torch.Size([136]) - This represents the dihedral features of the molecule\n",
      "Global Molecular Features: torch.Size([200]) - This represents the global molecular features of the molecule\n",
      "Bond Indices: torch.Size([60, 2]) - This represents the bond indices of the molecule\n",
      "Angle Indices: torch.Size([96, 2]) - This represents the angle indices of the molecule\n",
      "Dihedral Indices: torch.Size([136, 2]) - This represents the dihedral indices of the molecule\n",
      "Target: torch.Size([1]) - This represents the target of the molecule\n"
     ]
    }
   ],
   "source": [
    "# Printing out the dimensions of all of these features with a description of what each feature is\n",
    "print(f\"Atomic Features: {(train_samples[0])[0].shape} - This represents the atomic features of the molecule\")\n",
    "print(f\"Bond Features: {(train_samples[0])[1].shape} - This represents the bond features of the molecule\")\n",
    "print(f\"Angle Features: {(train_samples[0])[2].shape} - This represents the angle features of the molecule\")\n",
    "print(f\"Dihedral Features: {(train_samples[0])[3].shape} - This represents the dihedral features of the molecule\")\n",
    "print(f\"Global Molecular Features: {(train_samples[0])[4].shape} - This represents the global molecular features of the molecule\")\n",
    "print(f\"Bond Indices: {(train_samples[0])[5].shape} - This represents the bond indices of the molecule\")\n",
    "print(f\"Angle Indices: {(train_samples[0])[6].shape} - This represents the angle indices of the molecule\")\n",
    "print(f\"Dihedral Indices: {(train_samples[0])[7].shape} - This represents the dihedral indices of the molecule\")\n",
    "print(f\"Target: {(train_samples[0])[8].shape} - This represents the target of the molecule\")"
   ]
  },
  {
   "cell_type": "markdown",
   "id": "b386540a-8acc-49bf-94b9-b8760824a501",
   "metadata": {},
   "source": [
    "## Know your modules (KYM)"
   ]
  },
  {
   "cell_type": "code",
   "execution_count": 29,
   "id": "48ce2298-c8e1-439e-a0ef-fd5b727a0081",
   "metadata": {},
   "outputs": [],
   "source": [
    "def train_gnn3d_vary_dataset_size(train_samples, min_samples=10, max_samples=45, divisions=3, save_dir=\"./models/vary_train_size/\", dataset_name=\"logs\"):\n",
    "    \"\"\"Train GNN3D for varying training set size\"\"\"\n",
    "    # Create the directory if it does not exist\n",
    "    os.makedirs(save_dir, exist_ok=True)\n",
    "\n",
    "    # Autoencoder Training Starts\n",
    "    \"\"\"Train Autoencoder\"\"\"\n",
    "    atom_autoencoder = Autoencoder(154, 10).to(device)\n",
    "    bond_autoencoder = Autoencoder(10, 3).to(device)\n",
    "    mse_loss_fn = torch.nn.MSELoss()\n",
    "    atom_optimizer = torch.optim.Adam(atom_autoencoder.parameters())\n",
    "    bond_optimizer = torch.optim.Adam(bond_autoencoder.parameters())\n",
    "    \n",
    "    for epoch_i in range(10):\n",
    "        avg_atom_rmse_loss = 0\n",
    "        avg_bond_rmse_loss = 0\n",
    "        total_samples = 0\n",
    "        \n",
    "        for i, molecule in enumerate(train_samples):\n",
    "            atom_features = molecule[0].to(device)\n",
    "            bond_features = molecule[1].to(device)\n",
    "            \n",
    "            # Forward pass\n",
    "            atom_features_reconstructed = atom_autoencoder(atom_features)\n",
    "            bond_features_reconstructed = bond_autoencoder(bond_features)\n",
    "            \n",
    "            # Calculating loss\n",
    "            atom_loss = mse_loss_fn(atom_features_reconstructed, atom_features)\n",
    "            bond_loss = mse_loss_fn(bond_features_reconstructed, bond_features)\n",
    "            \n",
    "            # Backward pass and optimization step\n",
    "            atom_optimizer.zero_grad()\n",
    "            bond_optimizer.zero_grad()\n",
    "            atom_loss.backward()\n",
    "            bond_loss.backward()\n",
    "            atom_optimizer.step()\n",
    "            bond_optimizer.step()\n",
    "            \n",
    "            # Calculating average loss\n",
    "            avg_atom_rmse_loss = (avg_atom_rmse_loss * total_samples + (atom_loss.item() ** 0.5)) / (total_samples + 1)\n",
    "            avg_bond_rmse_loss = (avg_bond_rmse_loss * total_samples + (bond_loss.item() ** 0.5)) / (total_samples + 1)           \n",
    "            total_samples += 1\n",
    "    # Autoencoder Training Ends\n",
    "\n",
    "    \n",
    "    # Determine step size for each division\n",
    "    sample_step_size = int((max_samples - min_samples) / divisions) + 1\n",
    "\n",
    "    # Dictionary to store RMSE and MSE for each division\n",
    "    gnn_rmse_dict = {}\n",
    "\n",
    "    # Loop through divisions\n",
    "    for division_i in range(divisions + 1):\n",
    "        # Initialize training components for each division\n",
    "        # Aond and bond autoencoders' dimensions to be changed for a new dataset\n",
    "        atom_autoencoder = Autoencoder(154, 10).to(device)\n",
    "        bond_autoencoder = Autoencoder(10, 3).to(device)\n",
    "        mse_loss_fn = torch.nn.MSELoss()\n",
    "        gnn3d = GNN3D(atomic_vector_size=10, bond_vector_size=3, number_of_molecular_features=200, number_of_targets=1).to(device)\n",
    "        gnn_optimizer = torch.optim.Adam(gnn3d.parameters())\n",
    "\n",
    "        # Average losses initialization\n",
    "        avg_rmse = 0\n",
    "        avg_mse = 0\n",
    "\n",
    "        # Current size of the training set for this division\n",
    "        current_size = min_samples + sample_step_size * division_i\n",
    "\n",
    "        # Initialize dictionary entry for current division\n",
    "        gnn_rmse_dict[\"d\" + str(current_size)] = {\"avg_rmse\": [], \"avg_mse\": []}\n",
    "\n",
    "        # Training loop for current division\n",
    "        for epoch_i in tqdm(range(len(train_samples)), desc=f\"Division {division_i + 1}/{divisions + 1}\"):\n",
    "            if epoch_i >= current_size:\n",
    "                break\n",
    "\n",
    "            molecule = train_samples[epoch_i]\n",
    "            target = molecule[8].to(device)\n",
    "\n",
    "            input_representation = [\n",
    "                atom_autoencoder.encode(molecule[0].to(device)),\n",
    "                bond_autoencoder.encode(molecule[1].to(device)),\n",
    "                molecule[2].to(device),\n",
    "                molecule[3].to(device),\n",
    "                molecule[4].to(device),\n",
    "                molecule[5].to(device),\n",
    "                molecule[6].to(device),\n",
    "                molecule[7].to(device)\n",
    "            ]\n",
    "\n",
    "            # Forward pass\n",
    "            prediction = gnn3d(input_representation)\n",
    "\n",
    "            # Compute loss\n",
    "            loss = mse_loss_fn(prediction, target)\n",
    "\n",
    "            # Backward pass and optimization step\n",
    "            gnn_optimizer.zero_grad()\n",
    "            loss.backward()\n",
    "            gnn_optimizer.step()\n",
    "\n",
    "            # Update average RMSE and MSE\n",
    "            avg_rmse = (avg_rmse * epoch_i + torch.sqrt(loss).item()) / (epoch_i + 1)\n",
    "            avg_mse = (avg_mse * epoch_i + loss.item()) / (epoch_i + 1)\n",
    "            gnn_rmse_dict[\"d\" + str(current_size)][\"avg_rmse\"].append(avg_rmse)\n",
    "            gnn_rmse_dict[\"d\" + str(current_size)][\"avg_mse\"].append(avg_mse)\n",
    "\n",
    "            # Print progress every 10 epochs\n",
    "            if (epoch_i % 10 == 0):\n",
    "                tqdm.write(f\"Epoch: {epoch_i + 1:>4}/{current_size:>3} | Avg. RMSE Loss: {avg_rmse:.4f} | Avg. MSE Loss: {loss.item():.4f} | target: {target.item():.4f} | pred: {prediction.item():.4f}\")\n",
    "\n",
    "        # Save model state after each division\n",
    "        torch.save(gnn3d.state_dict(), f\"{save_dir}gnn3d_{dataset_name}_div{current_size}.pth\")\n",
    "\n",
    "    return gnn_rmse_dict"
   ]
  },
  {
   "cell_type": "markdown",
   "id": "555f0723-eef6-483b-893a-3d04581b6aa7",
   "metadata": {},
   "source": [
    "## Know your training loss for varying dataset size"
   ]
  },
  {
   "cell_type": "code",
   "execution_count": 31,
   "id": "4b77e751-1f22-47ca-aec1-c407ec28b688",
   "metadata": {},
   "outputs": [
    {
     "name": "stderr",
     "output_type": "stream",
     "text": [
      "Division 1/6:   0%|▏                                                                                                                                            | 2/1178 [00:00<01:26, 13.53it/s]"
     ]
    },
    {
     "name": "stdout",
     "output_type": "stream",
     "text": [
      "Epoch:    1/278 | avg rmse: 2.2844 | avg mse: 5.2186 | target: -2.3000 | pred: -0.0156\n"
     ]
    },
    {
     "name": "stderr",
     "output_type": "stream",
     "text": [
      "Division 1/6:   1%|█▍                                                                                                                                          | 12/1178 [00:01<01:52, 10.38it/s]"
     ]
    },
    {
     "name": "stdout",
     "output_type": "stream",
     "text": [
      "Epoch:   11/278 | avg rmse: 2.6070 | avg mse: 0.0047 | target: -0.4200 | pred: -0.4884\n"
     ]
    },
    {
     "name": "stderr",
     "output_type": "stream",
     "text": [
      "Division 1/6:   2%|██▋                                                                                                                                         | 23/1178 [00:01<01:17, 14.98it/s]"
     ]
    },
    {
     "name": "stdout",
     "output_type": "stream",
     "text": [
      "Epoch:   21/278 | avg rmse: 2.3707 | avg mse: 0.2730 | target: -1.3400 | pred: -0.8175\n"
     ]
    },
    {
     "name": "stderr",
     "output_type": "stream",
     "text": [
      "Division 1/6:   3%|███▉                                                                                                                                        | 33/1178 [00:02<01:34, 12.10it/s]"
     ]
    },
    {
     "name": "stdout",
     "output_type": "stream",
     "text": [
      "Epoch:   31/278 | avg rmse: 1.9069 | avg mse: 2.9797 | target: 0.8400 | pred: -0.8862\n"
     ]
    },
    {
     "name": "stderr",
     "output_type": "stream",
     "text": [
      "Division 1/6:   4%|█████                                                                                                                                       | 43/1178 [00:03<01:46, 10.70it/s]"
     ]
    },
    {
     "name": "stdout",
     "output_type": "stream",
     "text": [
      "Epoch:   41/278 | avg rmse: 1.7974 | avg mse: 5.4805 | target: 0.9600 | pred: -1.3811\n"
     ]
    },
    {
     "name": "stderr",
     "output_type": "stream",
     "text": [
      "Division 1/6:   4%|██████▎                                                                                                                                     | 53/1178 [00:04<01:53,  9.87it/s]"
     ]
    },
    {
     "name": "stdout",
     "output_type": "stream",
     "text": [
      "Epoch:   51/278 | avg rmse: 1.8091 | avg mse: 0.1980 | target: -3.3200 | pred: -3.7650\n"
     ]
    },
    {
     "name": "stderr",
     "output_type": "stream",
     "text": [
      "Division 1/6:   5%|███████▏                                                                                                                                    | 61/1178 [00:05<01:27, 12.72it/s]"
     ]
    },
    {
     "name": "stdout",
     "output_type": "stream",
     "text": [
      "Epoch:   61/278 | avg rmse: 1.7610 | avg mse: 2.6692 | target: 0.0000 | pred: -1.6338\n"
     ]
    },
    {
     "name": "stderr",
     "output_type": "stream",
     "text": [
      "Division 1/6:   6%|████████▌                                                                                                                                   | 72/1178 [00:06<01:16, 14.39it/s]"
     ]
    },
    {
     "name": "stdout",
     "output_type": "stream",
     "text": [
      "Epoch:   71/278 | avg rmse: 1.6032 | avg mse: 0.3594 | target: -1.0000 | pred: -1.5995\n"
     ]
    },
    {
     "name": "stderr",
     "output_type": "stream",
     "text": [
      "Division 1/6:   7%|█████████▋                                                                                                                                  | 82/1178 [00:06<01:15, 14.56it/s]"
     ]
    },
    {
     "name": "stdout",
     "output_type": "stream",
     "text": [
      "Epoch:   81/278 | avg rmse: 1.5510 | avg mse: 0.2244 | target: -1.2500 | pred: -1.7237\n"
     ]
    },
    {
     "name": "stderr",
     "output_type": "stream",
     "text": [
      "Division 1/6:   8%|███████████                                                                                                                                 | 93/1178 [00:07<01:08, 15.74it/s]"
     ]
    },
    {
     "name": "stdout",
     "output_type": "stream",
     "text": [
      "Epoch:   91/278 | avg rmse: 1.5544 | avg mse: 0.4025 | target: -2.2400 | pred: -2.8744\n"
     ]
    },
    {
     "name": "stderr",
     "output_type": "stream",
     "text": [
      "Division 1/6:   9%|████████████▏                                                                                                                              | 103/1178 [00:08<01:16, 14.07it/s]"
     ]
    },
    {
     "name": "stdout",
     "output_type": "stream",
     "text": [
      "Epoch:  101/278 | avg rmse: 1.5006 | avg mse: 0.5740 | target: -2.0900 | pred: -2.8477\n"
     ]
    },
    {
     "name": "stderr",
     "output_type": "stream",
     "text": [
      "Division 1/6:  10%|█████████████▎                                                                                                                             | 113/1178 [00:09<01:08, 15.53it/s]"
     ]
    },
    {
     "name": "stdout",
     "output_type": "stream",
     "text": [
      "Epoch:  111/278 | avg rmse: 1.4882 | avg mse: 2.1568 | target: -0.2200 | pred: -1.6886\n"
     ]
    },
    {
     "name": "stderr",
     "output_type": "stream",
     "text": [
      "Division 1/6:  10%|██████████████▍                                                                                                                            | 122/1178 [00:10<01:36, 10.91it/s]"
     ]
    },
    {
     "name": "stdout",
     "output_type": "stream",
     "text": [
      "Epoch:  121/278 | avg rmse: 1.4694 | avg mse: 2.5391 | target: -3.1400 | pred: -1.5466\n"
     ]
    },
    {
     "name": "stderr",
     "output_type": "stream",
     "text": [
      "Division 1/6:  11%|███████████████▌                                                                                                                           | 132/1178 [00:10<01:21, 12.84it/s]"
     ]
    },
    {
     "name": "stdout",
     "output_type": "stream",
     "text": [
      "Epoch:  131/278 | avg rmse: 1.4405 | avg mse: 0.3314 | target: -3.8000 | pred: -3.2243\n"
     ]
    },
    {
     "name": "stderr",
     "output_type": "stream",
     "text": [
      "Division 1/6:  12%|████████████████▊                                                                                                                          | 143/1178 [00:11<01:11, 14.48it/s]"
     ]
    },
    {
     "name": "stdout",
     "output_type": "stream",
     "text": [
      "Epoch:  141/278 | avg rmse: 1.4150 | avg mse: 0.0598 | target: -1.6000 | pred: -1.8445\n"
     ]
    },
    {
     "name": "stderr",
     "output_type": "stream",
     "text": [
      "Division 1/6:  13%|██████████████████                                                                                                                         | 153/1178 [00:12<01:11, 14.29it/s]"
     ]
    },
    {
     "name": "stdout",
     "output_type": "stream",
     "text": [
      "Epoch:  151/278 | avg rmse: 1.4259 | avg mse: 5.8028 | target: -4.8900 | pred: -2.4811\n"
     ]
    },
    {
     "name": "stderr",
     "output_type": "stream",
     "text": [
      "Division 1/6:  14%|███████████████████▏                                                                                                                       | 163/1178 [00:13<01:21, 12.40it/s]"
     ]
    },
    {
     "name": "stdout",
     "output_type": "stream",
     "text": [
      "Epoch:  161/278 | avg rmse: 1.4041 | avg mse: 0.0018 | target: -2.5400 | pred: -2.4974\n"
     ]
    },
    {
     "name": "stderr",
     "output_type": "stream",
     "text": [
      "Division 1/6:  15%|████████████████████▍                                                                                                                      | 173/1178 [00:13<01:15, 13.25it/s]"
     ]
    },
    {
     "name": "stdout",
     "output_type": "stream",
     "text": [
      "Epoch:  171/278 | avg rmse: 1.4266 | avg mse: 4.1164 | target: -0.5000 | pred: -2.5289\n"
     ]
    },
    {
     "name": "stderr",
     "output_type": "stream",
     "text": [
      "Division 1/6:  15%|█████████████████████▍                                                                                                                     | 182/1178 [00:14<01:02, 15.98it/s]"
     ]
    },
    {
     "name": "stdout",
     "output_type": "stream",
     "text": [
      "Epoch:  181/278 | avg rmse: 1.4247 | avg mse: 4.7533 | target: 0.0400 | pred: -2.1402\n"
     ]
    },
    {
     "name": "stderr",
     "output_type": "stream",
     "text": [
      "Division 1/6:  16%|██████████████████████▉                                                                                                                    | 194/1178 [00:15<01:11, 13.72it/s]"
     ]
    },
    {
     "name": "stdout",
     "output_type": "stream",
     "text": [
      "Epoch:  191/278 | avg rmse: 1.4353 | avg mse: 0.2029 | target: -2.3700 | pred: -2.8204\n"
     ]
    },
    {
     "name": "stderr",
     "output_type": "stream",
     "text": [
      "Division 1/6:  17%|███████████████████████▊                                                                                                                   | 202/1178 [00:16<01:12, 13.55it/s]"
     ]
    },
    {
     "name": "stdout",
     "output_type": "stream",
     "text": [
      "Epoch:  201/278 | avg rmse: 1.4223 | avg mse: 1.8978 | target: -3.5200 | pred: -2.1424\n"
     ]
    },
    {
     "name": "stderr",
     "output_type": "stream",
     "text": [
      "Division 1/6:  18%|█████████████████████████▏                                                                                                                 | 213/1178 [00:17<01:17, 12.41it/s]"
     ]
    },
    {
     "name": "stdout",
     "output_type": "stream",
     "text": [
      "Epoch:  211/278 | avg rmse: 1.3926 | avg mse: 2.3200 | target: -3.3700 | pred: -4.8931\n"
     ]
    },
    {
     "name": "stderr",
     "output_type": "stream",
     "text": [
      "Division 1/6:  19%|██████████████████████████▎                                                                                                                | 223/1178 [00:17<01:02, 15.39it/s]"
     ]
    },
    {
     "name": "stdout",
     "output_type": "stream",
     "text": [
      "Epoch:  221/278 | avg rmse: 1.3805 | avg mse: 0.0827 | target: -2.1700 | pred: -1.8825\n"
     ]
    },
    {
     "name": "stderr",
     "output_type": "stream",
     "text": [
      "Division 1/6:  20%|███████████████████████████▎                                                                                                               | 231/1178 [00:18<01:16, 12.36it/s]"
     ]
    },
    {
     "name": "stdout",
     "output_type": "stream",
     "text": [
      "Epoch:  231/278 | avg rmse: 1.3708 | avg mse: 10.6138 | target: -6.2100 | pred: -2.9521\n"
     ]
    },
    {
     "name": "stderr",
     "output_type": "stream",
     "text": [
      "Division 1/6:  21%|████████████████████████████▌                                                                                                              | 242/1178 [00:19<01:18, 11.90it/s]"
     ]
    },
    {
     "name": "stdout",
     "output_type": "stream",
     "text": [
      "Epoch:  241/278 | avg rmse: 1.3490 | avg mse: 0.5702 | target: -2.6000 | pred: -3.3551\n"
     ]
    },
    {
     "name": "stderr",
     "output_type": "stream",
     "text": [
      "Division 1/6:  21%|█████████████████████████████▋                                                                                                             | 252/1178 [00:20<01:28, 10.45it/s]"
     ]
    },
    {
     "name": "stdout",
     "output_type": "stream",
     "text": [
      "Epoch:  251/278 | avg rmse: 1.3369 | avg mse: 0.2629 | target: -4.3500 | pred: -4.8627\n"
     ]
    },
    {
     "name": "stderr",
     "output_type": "stream",
     "text": [
      "Division 1/6:  22%|██████████████████████████████▉                                                                                                            | 262/1178 [00:21<01:33,  9.75it/s]"
     ]
    },
    {
     "name": "stdout",
     "output_type": "stream",
     "text": [
      "Epoch:  261/278 | avg rmse: 1.3262 | avg mse: 0.8481 | target: -0.8900 | pred: -1.8109\n"
     ]
    },
    {
     "name": "stderr",
     "output_type": "stream",
     "text": [
      "Division 1/6:  23%|████████████████████████████████                                                                                                           | 272/1178 [00:22<01:26, 10.51it/s]"
     ]
    },
    {
     "name": "stdout",
     "output_type": "stream",
     "text": [
      "Epoch:  271/278 | avg rmse: 1.3284 | avg mse: 0.0929 | target: -2.2600 | pred: -1.9552\n"
     ]
    },
    {
     "name": "stderr",
     "output_type": "stream",
     "text": [
      "Division 1/6:  24%|████████████████████████████████▊                                                                                                          | 278/1178 [00:22<01:12, 12.36it/s]\n",
      "Division 2/6:   0%|▍                                                                                                                                            | 4/1178 [00:00<01:19, 14.72it/s]"
     ]
    },
    {
     "name": "stdout",
     "output_type": "stream",
     "text": [
      "Epoch:    1/459 | avg rmse: 2.2884 | avg mse: 5.2366 | target: -2.3000 | pred: -0.0116\n"
     ]
    },
    {
     "name": "stderr",
     "output_type": "stream",
     "text": [
      "Division 2/6:   1%|█▍                                                                                                                                          | 12/1178 [00:01<01:47, 10.82it/s]"
     ]
    },
    {
     "name": "stdout",
     "output_type": "stream",
     "text": [
      "Epoch:   11/459 | avg rmse: 2.5100 | avg mse: 0.0232 | target: -0.4200 | pred: -0.5722\n"
     ]
    },
    {
     "name": "stderr",
     "output_type": "stream",
     "text": [
      "Division 2/6:   2%|██▋                                                                                                                                         | 23/1178 [00:01<01:15, 15.29it/s]"
     ]
    },
    {
     "name": "stdout",
     "output_type": "stream",
     "text": [
      "Epoch:   21/459 | avg rmse: 2.2834 | avg mse: 0.2919 | target: -1.3400 | pred: -0.7997\n"
     ]
    },
    {
     "name": "stderr",
     "output_type": "stream",
     "text": [
      "Division 2/6:   3%|███▉                                                                                                                                        | 33/1178 [00:02<01:34, 12.15it/s]"
     ]
    },
    {
     "name": "stdout",
     "output_type": "stream",
     "text": [
      "Epoch:   31/459 | avg rmse: 1.8659 | avg mse: 2.8110 | target: 0.8400 | pred: -0.8366\n"
     ]
    },
    {
     "name": "stderr",
     "output_type": "stream",
     "text": [
      "Division 2/6:   4%|█████                                                                                                                                       | 43/1178 [00:03<01:44, 10.88it/s]"
     ]
    },
    {
     "name": "stdout",
     "output_type": "stream",
     "text": [
      "Epoch:   41/459 | avg rmse: 1.7762 | avg mse: 4.6050 | target: 0.9600 | pred: -1.1859\n"
     ]
    },
    {
     "name": "stderr",
     "output_type": "stream",
     "text": [
      "Division 2/6:   4%|██████▎                                                                                                                                     | 53/1178 [00:04<01:53,  9.92it/s]"
     ]
    },
    {
     "name": "stdout",
     "output_type": "stream",
     "text": [
      "Epoch:   51/459 | avg rmse: 1.7964 | avg mse: 0.1106 | target: -3.3200 | pred: -3.6526\n"
     ]
    },
    {
     "name": "stderr",
     "output_type": "stream",
     "text": [
      "Division 2/6:   5%|███████▌                                                                                                                                    | 64/1178 [00:05<01:21, 13.66it/s]"
     ]
    },
    {
     "name": "stdout",
     "output_type": "stream",
     "text": [
      "Epoch:   61/459 | avg rmse: 1.7486 | avg mse: 2.5050 | target: 0.0000 | pred: -1.5827\n"
     ]
    },
    {
     "name": "stderr",
     "output_type": "stream",
     "text": [
      "Division 2/6:   6%|████████▋                                                                                                                                   | 73/1178 [00:06<01:12, 15.27it/s]"
     ]
    },
    {
     "name": "stdout",
     "output_type": "stream",
     "text": [
      "Epoch:   71/459 | avg rmse: 1.5879 | avg mse: 0.4019 | target: -1.0000 | pred: -1.6339\n"
     ]
    },
    {
     "name": "stderr",
     "output_type": "stream",
     "text": [
      "Division 2/6:   7%|█████████▋                                                                                                                                  | 82/1178 [00:06<01:16, 14.36it/s]"
     ]
    },
    {
     "name": "stdout",
     "output_type": "stream",
     "text": [
      "Epoch:   81/459 | avg rmse: 1.5331 | avg mse: 0.1288 | target: -1.2500 | pred: -1.6089\n"
     ]
    },
    {
     "name": "stderr",
     "output_type": "stream",
     "text": [
      "Division 2/6:   8%|███████████                                                                                                                                 | 93/1178 [00:07<01:09, 15.61it/s]"
     ]
    },
    {
     "name": "stdout",
     "output_type": "stream",
     "text": [
      "Epoch:   91/459 | avg rmse: 1.5396 | avg mse: 0.3432 | target: -2.2400 | pred: -2.8259\n"
     ]
    },
    {
     "name": "stderr",
     "output_type": "stream",
     "text": [
      "Division 2/6:   9%|████████████▏                                                                                                                              | 103/1178 [00:08<01:14, 14.34it/s]"
     ]
    },
    {
     "name": "stdout",
     "output_type": "stream",
     "text": [
      "Epoch:  101/459 | avg rmse: 1.4869 | avg mse: 0.5590 | target: -2.0900 | pred: -2.8377\n"
     ]
    },
    {
     "name": "stderr",
     "output_type": "stream",
     "text": [
      "Division 2/6:  10%|█████████████▎                                                                                                                             | 113/1178 [00:08<01:08, 15.54it/s]"
     ]
    },
    {
     "name": "stdout",
     "output_type": "stream",
     "text": [
      "Epoch:  111/459 | avg rmse: 1.4753 | avg mse: 2.1111 | target: -0.2200 | pred: -1.6730\n"
     ]
    },
    {
     "name": "stderr",
     "output_type": "stream",
     "text": [
      "Division 2/6:  10%|██████████████▍                                                                                                                            | 122/1178 [00:09<01:37, 10.85it/s]"
     ]
    },
    {
     "name": "stdout",
     "output_type": "stream",
     "text": [
      "Epoch:  121/459 | avg rmse: 1.4606 | avg mse: 2.7842 | target: -3.1400 | pred: -1.4714\n"
     ]
    },
    {
     "name": "stderr",
     "output_type": "stream",
     "text": [
      "Division 2/6:  11%|███████████████▊                                                                                                                           | 134/1178 [00:10<01:14, 14.07it/s]"
     ]
    },
    {
     "name": "stdout",
     "output_type": "stream",
     "text": [
      "Epoch:  131/459 | avg rmse: 1.4298 | avg mse: 0.3071 | target: -3.8000 | pred: -3.2458\n"
     ]
    },
    {
     "name": "stderr",
     "output_type": "stream",
     "text": [
      "Division 2/6:  12%|████████████████▊                                                                                                                          | 143/1178 [00:11<01:12, 14.22it/s]"
     ]
    },
    {
     "name": "stdout",
     "output_type": "stream",
     "text": [
      "Epoch:  141/459 | avg rmse: 1.4032 | avg mse: 0.0165 | target: -1.6000 | pred: -1.7286\n"
     ]
    },
    {
     "name": "stderr",
     "output_type": "stream",
     "text": [
      "Division 2/6:  13%|██████████████████                                                                                                                         | 153/1178 [00:12<01:12, 14.11it/s]"
     ]
    },
    {
     "name": "stdout",
     "output_type": "stream",
     "text": [
      "Epoch:  151/459 | avg rmse: 1.4147 | avg mse: 5.8770 | target: -4.8900 | pred: -2.4658\n"
     ]
    },
    {
     "name": "stderr",
     "output_type": "stream",
     "text": [
      "Division 2/6:  14%|███████████████████▏                                                                                                                       | 163/1178 [00:13<01:22, 12.34it/s]"
     ]
    },
    {
     "name": "stdout",
     "output_type": "stream",
     "text": [
      "Epoch:  161/459 | avg rmse: 1.3917 | avg mse: 0.0015 | target: -2.5400 | pred: -2.5013\n"
     ]
    },
    {
     "name": "stderr",
     "output_type": "stream",
     "text": [
      "Division 2/6:  15%|████████████████████▍                                                                                                                      | 173/1178 [00:13<01:14, 13.51it/s]"
     ]
    },
    {
     "name": "stdout",
     "output_type": "stream",
     "text": [
      "Epoch:  171/459 | avg rmse: 1.4141 | avg mse: 4.1106 | target: -0.5000 | pred: -2.5275\n"
     ]
    },
    {
     "name": "stderr",
     "output_type": "stream",
     "text": [
      "Division 2/6:  15%|█████████████████████▍                                                                                                                     | 182/1178 [00:14<00:59, 16.85it/s]"
     ]
    },
    {
     "name": "stdout",
     "output_type": "stream",
     "text": [
      "Epoch:  181/459 | avg rmse: 1.4137 | avg mse: 4.5456 | target: 0.0400 | pred: -2.0920\n"
     ]
    },
    {
     "name": "stderr",
     "output_type": "stream",
     "text": [
      "Division 2/6:  16%|██████████████████████▉                                                                                                                    | 194/1178 [00:15<01:08, 14.26it/s]"
     ]
    },
    {
     "name": "stdout",
     "output_type": "stream",
     "text": [
      "Epoch:  191/459 | avg rmse: 1.4246 | avg mse: 0.2745 | target: -2.3700 | pred: -2.8939\n"
     ]
    },
    {
     "name": "stderr",
     "output_type": "stream",
     "text": [
      "Division 2/6:  17%|███████████████████████▊                                                                                                                   | 202/1178 [00:15<01:09, 14.04it/s]"
     ]
    },
    {
     "name": "stdout",
     "output_type": "stream",
     "text": [
      "Epoch:  201/459 | avg rmse: 1.4122 | avg mse: 2.0159 | target: -3.5200 | pred: -2.1002\n"
     ]
    },
    {
     "name": "stderr",
     "output_type": "stream",
     "text": [
      "Division 2/6:  18%|█████████████████████████▏                                                                                                                 | 213/1178 [00:16<01:16, 12.66it/s]"
     ]
    },
    {
     "name": "stdout",
     "output_type": "stream",
     "text": [
      "Epoch:  211/459 | avg rmse: 1.3836 | avg mse: 2.5712 | target: -3.3700 | pred: -4.9735\n"
     ]
    },
    {
     "name": "stderr",
     "output_type": "stream",
     "text": [
      "Division 2/6:  19%|██████████████████████████▎                                                                                                                | 223/1178 [00:17<01:01, 15.53it/s]"
     ]
    },
    {
     "name": "stdout",
     "output_type": "stream",
     "text": [
      "Epoch:  221/459 | avg rmse: 1.3715 | avg mse: 0.0299 | target: -2.1700 | pred: -1.9970\n"
     ]
    },
    {
     "name": "stderr",
     "output_type": "stream",
     "text": [
      "Division 2/6:  20%|███████████████████████████▎                                                                                                               | 231/1178 [00:18<01:14, 12.71it/s]"
     ]
    },
    {
     "name": "stdout",
     "output_type": "stream",
     "text": [
      "Epoch:  231/459 | avg rmse: 1.3628 | avg mse: 11.2550 | target: -6.2100 | pred: -2.8552\n"
     ]
    },
    {
     "name": "stderr",
     "output_type": "stream",
     "text": [
      "Division 2/6:  21%|████████████████████████████▌                                                                                                              | 242/1178 [00:19<01:17, 12.01it/s]"
     ]
    },
    {
     "name": "stdout",
     "output_type": "stream",
     "text": [
      "Epoch:  241/459 | avg rmse: 1.3395 | avg mse: 0.4275 | target: -2.6000 | pred: -3.2539\n"
     ]
    },
    {
     "name": "stderr",
     "output_type": "stream",
     "text": [
      "Division 2/6:  21%|█████████████████████████████▋                                                                                                             | 252/1178 [00:19<01:28, 10.49it/s]"
     ]
    },
    {
     "name": "stdout",
     "output_type": "stream",
     "text": [
      "Epoch:  251/459 | avg rmse: 1.3278 | avg mse: 0.4593 | target: -4.3500 | pred: -5.0277\n"
     ]
    },
    {
     "name": "stderr",
     "output_type": "stream",
     "text": [
      "Division 2/6:  22%|██████████████████████████████▉                                                                                                            | 262/1178 [00:20<01:33,  9.84it/s]"
     ]
    },
    {
     "name": "stdout",
     "output_type": "stream",
     "text": [
      "Epoch:  261/459 | avg rmse: 1.3183 | avg mse: 0.9557 | target: -0.8900 | pred: -1.8676\n"
     ]
    },
    {
     "name": "stderr",
     "output_type": "stream",
     "text": [
      "Division 2/6:  23%|████████████████████████████████                                                                                                           | 272/1178 [00:21<01:24, 10.72it/s]"
     ]
    },
    {
     "name": "stdout",
     "output_type": "stream",
     "text": [
      "Epoch:  271/459 | avg rmse: 1.3233 | avg mse: 0.1647 | target: -2.2600 | pred: -1.8542\n"
     ]
    },
    {
     "name": "stderr",
     "output_type": "stream",
     "text": [
      "Division 2/6:  24%|█████████████████████████████████▏                                                                                                         | 281/1178 [00:22<01:12, 12.44it/s]"
     ]
    },
    {
     "name": "stdout",
     "output_type": "stream",
     "text": [
      "Epoch:  281/459 | avg rmse: 1.3057 | avg mse: 0.2161 | target: -1.9200 | pred: -2.3849\n"
     ]
    },
    {
     "name": "stderr",
     "output_type": "stream",
     "text": [
      "Division 2/6:  25%|██████████████████████████████████▌                                                                                                        | 293/1178 [00:23<01:17, 11.49it/s]"
     ]
    },
    {
     "name": "stdout",
     "output_type": "stream",
     "text": [
      "Epoch:  291/459 | avg rmse: 1.2860 | avg mse: 0.7483 | target: -1.6100 | pred: -2.4750\n"
     ]
    },
    {
     "name": "stderr",
     "output_type": "stream",
     "text": [
      "Division 2/6:  26%|███████████████████████████████████▊                                                                                                       | 303/1178 [00:24<01:08, 12.86it/s]"
     ]
    },
    {
     "name": "stdout",
     "output_type": "stream",
     "text": [
      "Epoch:  301/459 | avg rmse: 1.2997 | avg mse: 2.7675 | target: -1.7600 | pred: -3.4236\n"
     ]
    },
    {
     "name": "stderr",
     "output_type": "stream",
     "text": [
      "Division 2/6:  27%|████████████████████████████████████▉                                                                                                      | 313/1178 [00:25<01:02, 13.76it/s]"
     ]
    },
    {
     "name": "stdout",
     "output_type": "stream",
     "text": [
      "Epoch:  311/459 | avg rmse: 1.3104 | avg mse: 1.3906 | target: -0.6600 | pred: -1.8393\n"
     ]
    },
    {
     "name": "stderr",
     "output_type": "stream",
     "text": [
      "Division 2/6:  27%|██████████████████████████████████████                                                                                                     | 323/1178 [00:25<00:57, 14.98it/s]"
     ]
    },
    {
     "name": "stdout",
     "output_type": "stream",
     "text": [
      "Epoch:  321/459 | avg rmse: 1.3053 | avg mse: 0.9027 | target: -3.2200 | pred: -2.2699\n"
     ]
    },
    {
     "name": "stderr",
     "output_type": "stream",
     "text": [
      "Division 2/6:  28%|███████████████████████████████████████▎                                                                                                   | 333/1178 [00:26<01:00, 13.91it/s]"
     ]
    },
    {
     "name": "stdout",
     "output_type": "stream",
     "text": [
      "Epoch:  331/459 | avg rmse: 1.3221 | avg mse: 11.0188 | target: 0.7900 | pred: -2.5295\n"
     ]
    },
    {
     "name": "stderr",
     "output_type": "stream",
     "text": [
      "Division 2/6:  29%|████████████████████████████████████████▏                                                                                                  | 341/1178 [00:27<01:27,  9.51it/s]"
     ]
    },
    {
     "name": "stdout",
     "output_type": "stream",
     "text": [
      "Epoch:  341/459 | avg rmse: 1.3181 | avg mse: 1.4474 | target: -2.0600 | pred: -3.2631\n"
     ]
    },
    {
     "name": "stderr",
     "output_type": "stream",
     "text": [
      "Division 2/6:  30%|█████████████████████████████████████████▋                                                                                                 | 353/1178 [00:28<01:05, 12.55it/s]"
     ]
    },
    {
     "name": "stdout",
     "output_type": "stream",
     "text": [
      "Epoch:  351/459 | avg rmse: 1.2972 | avg mse: 0.1636 | target: -1.7700 | pred: -2.1744\n"
     ]
    },
    {
     "name": "stderr",
     "output_type": "stream",
     "text": [
      "Division 2/6:  31%|██████████████████████████████████████████▊                                                                                                | 363/1178 [00:29<01:00, 13.54it/s]"
     ]
    },
    {
     "name": "stdout",
     "output_type": "stream",
     "text": [
      "Epoch:  361/459 | avg rmse: 1.3019 | avg mse: 4.8543 | target: -6.2600 | pred: -4.0568\n"
     ]
    },
    {
     "name": "stderr",
     "output_type": "stream",
     "text": [
      "Division 2/6:  32%|███████████████████████████████████████████▉                                                                                               | 372/1178 [00:29<01:03, 12.64it/s]"
     ]
    },
    {
     "name": "stdout",
     "output_type": "stream",
     "text": [
      "Epoch:  371/459 | avg rmse: 1.3025 | avg mse: 7.0956 | target: 1.0700 | pred: -1.5938\n"
     ]
    },
    {
     "name": "stderr",
     "output_type": "stream",
     "text": [
      "Division 2/6:  32%|█████████████████████████████████████████████                                                                                              | 382/1178 [00:30<00:59, 13.37it/s]"
     ]
    },
    {
     "name": "stdout",
     "output_type": "stream",
     "text": [
      "Epoch:  381/459 | avg rmse: 1.2909 | avg mse: 0.0482 | target: -4.3800 | pred: -4.5995\n"
     ]
    },
    {
     "name": "stderr",
     "output_type": "stream",
     "text": [
      "Division 2/6:  33%|██████████████████████████████████████████████▎                                                                                            | 392/1178 [00:31<01:15, 10.46it/s]"
     ]
    },
    {
     "name": "stdout",
     "output_type": "stream",
     "text": [
      "Epoch:  391/459 | avg rmse: 1.2860 | avg mse: 3.7658 | target: -5.0300 | pred: -3.0894\n"
     ]
    },
    {
     "name": "stderr",
     "output_type": "stream",
     "text": [
      "Division 2/6:  34%|███████████████████████████████████████████████▍                                                                                           | 402/1178 [00:32<00:59, 12.98it/s]"
     ]
    },
    {
     "name": "stdout",
     "output_type": "stream",
     "text": [
      "Epoch:  401/459 | avg rmse: 1.2838 | avg mse: 0.3678 | target: -3.9600 | pred: -3.3535\n"
     ]
    },
    {
     "name": "stderr",
     "output_type": "stream",
     "text": [
      "Division 2/6:  35%|████████████████████████████████████████████████▋                                                                                          | 413/1178 [00:33<00:50, 15.24it/s]"
     ]
    },
    {
     "name": "stdout",
     "output_type": "stream",
     "text": [
      "Epoch:  411/459 | avg rmse: 1.2648 | avg mse: 0.0524 | target: -3.0700 | pred: -2.8411\n"
     ]
    },
    {
     "name": "stderr",
     "output_type": "stream",
     "text": [
      "Division 2/6:  36%|█████████████████████████████████████████████████▊                                                                                         | 422/1178 [00:33<00:57, 13.19it/s]"
     ]
    },
    {
     "name": "stdout",
     "output_type": "stream",
     "text": [
      "Epoch:  421/459 | avg rmse: 1.2536 | avg mse: 3.6140 | target: -0.5400 | pred: -2.4410\n"
     ]
    },
    {
     "name": "stderr",
     "output_type": "stream",
     "text": [
      "Division 2/6:  37%|███████████████████████████████████████████████████                                                                                        | 433/1178 [00:34<01:01, 12.11it/s]"
     ]
    },
    {
     "name": "stdout",
     "output_type": "stream",
     "text": [
      "Epoch:  431/459 | avg rmse: 1.2504 | avg mse: 4.1873 | target: -1.3500 | pred: -3.3963\n"
     ]
    },
    {
     "name": "stderr",
     "output_type": "stream",
     "text": [
      "Division 2/6:  38%|████████████████████████████████████████████████████▍                                                                                      | 444/1178 [00:35<00:52, 13.95it/s]"
     ]
    },
    {
     "name": "stdout",
     "output_type": "stream",
     "text": [
      "Epoch:  441/459 | avg rmse: 1.2423 | avg mse: 0.2035 | target: -3.6600 | pred: -4.1111\n"
     ]
    },
    {
     "name": "stderr",
     "output_type": "stream",
     "text": [
      "Division 2/6:  38%|█████████████████████████████████████████████████████▎                                                                                     | 452/1178 [00:36<01:05, 11.16it/s]"
     ]
    },
    {
     "name": "stdout",
     "output_type": "stream",
     "text": [
      "Epoch:  451/459 | avg rmse: 1.2391 | avg mse: 0.9322 | target: -4.0700 | pred: -3.1045\n"
     ]
    },
    {
     "name": "stderr",
     "output_type": "stream",
     "text": [
      "Division 2/6:  39%|██████████████████████████████████████████████████████▏                                                                                    | 459/1178 [00:36<00:57, 12.42it/s]\n",
      "Division 3/6:   0%|▍                                                                                                                                            | 4/1178 [00:00<01:19, 14.78it/s]"
     ]
    },
    {
     "name": "stdout",
     "output_type": "stream",
     "text": [
      "Epoch:    1/640 | avg rmse: 2.2012 | avg mse: 4.8452 | target: -2.3000 | pred: -0.0988\n"
     ]
    },
    {
     "name": "stderr",
     "output_type": "stream",
     "text": [
      "Division 3/6:   1%|█▍                                                                                                                                          | 12/1178 [00:01<01:44, 11.17it/s]"
     ]
    },
    {
     "name": "stdout",
     "output_type": "stream",
     "text": [
      "Epoch:   11/640 | avg rmse: 2.4796 | avg mse: 0.1414 | target: -0.4200 | pred: -0.7960\n"
     ]
    },
    {
     "name": "stderr",
     "output_type": "stream",
     "text": [
      "Division 3/6:   2%|██▋                                                                                                                                         | 23/1178 [00:01<01:14, 15.59it/s]"
     ]
    },
    {
     "name": "stdout",
     "output_type": "stream",
     "text": [
      "Epoch:   21/640 | avg rmse: 2.1897 | avg mse: 0.0335 | target: -1.3400 | pred: -1.1568\n"
     ]
    },
    {
     "name": "stderr",
     "output_type": "stream",
     "text": [
      "Division 3/6:   3%|███▉                                                                                                                                        | 33/1178 [00:02<01:32, 12.43it/s]"
     ]
    },
    {
     "name": "stdout",
     "output_type": "stream",
     "text": [
      "Epoch:   31/640 | avg rmse: 1.7556 | avg mse: 3.7722 | target: 0.8400 | pred: -1.1022\n"
     ]
    },
    {
     "name": "stderr",
     "output_type": "stream",
     "text": [
      "Division 3/6:   4%|█████                                                                                                                                       | 43/1178 [00:03<01:43, 10.94it/s]"
     ]
    },
    {
     "name": "stdout",
     "output_type": "stream",
     "text": [
      "Epoch:   41/640 | avg rmse: 1.6362 | avg mse: 5.0263 | target: 0.9600 | pred: -1.2819\n"
     ]
    },
    {
     "name": "stderr",
     "output_type": "stream",
     "text": [
      "Division 3/6:   4%|██████▎                                                                                                                                     | 53/1178 [00:04<01:53,  9.91it/s]"
     ]
    },
    {
     "name": "stdout",
     "output_type": "stream",
     "text": [
      "Epoch:   51/640 | avg rmse: 1.6860 | avg mse: 0.1944 | target: -3.3200 | pred: -3.7609\n"
     ]
    },
    {
     "name": "stderr",
     "output_type": "stream",
     "text": [
      "Division 3/6:   5%|███████▏                                                                                                                                    | 61/1178 [00:05<01:27, 12.77it/s]"
     ]
    },
    {
     "name": "stdout",
     "output_type": "stream",
     "text": [
      "Epoch:   61/640 | avg rmse: 1.6575 | avg mse: 2.4194 | target: 0.0000 | pred: -1.5554\n"
     ]
    },
    {
     "name": "stderr",
     "output_type": "stream",
     "text": [
      "Division 3/6:   6%|████████▌                                                                                                                                   | 72/1178 [00:06<01:18, 14.09it/s]"
     ]
    },
    {
     "name": "stdout",
     "output_type": "stream",
     "text": [
      "Epoch:   71/640 | avg rmse: 1.5064 | avg mse: 0.3000 | target: -1.0000 | pred: -1.5477\n"
     ]
    },
    {
     "name": "stderr",
     "output_type": "stream",
     "text": [
      "Division 3/6:   7%|█████████▋                                                                                                                                  | 82/1178 [00:06<01:15, 14.60it/s]"
     ]
    },
    {
     "name": "stdout",
     "output_type": "stream",
     "text": [
      "Epoch:   81/640 | avg rmse: 1.4543 | avg mse: 0.0685 | target: -1.2500 | pred: -1.5117\n"
     ]
    },
    {
     "name": "stderr",
     "output_type": "stream",
     "text": [
      "Division 3/6:   8%|███████████                                                                                                                                 | 93/1178 [00:07<01:08, 15.73it/s]"
     ]
    },
    {
     "name": "stdout",
     "output_type": "stream",
     "text": [
      "Epoch:   91/640 | avg rmse: 1.4753 | avg mse: 0.3199 | target: -2.2400 | pred: -2.8056\n"
     ]
    },
    {
     "name": "stderr",
     "output_type": "stream",
     "text": [
      "Division 3/6:   9%|████████████▏                                                                                                                              | 103/1178 [00:08<01:15, 14.19it/s]"
     ]
    },
    {
     "name": "stdout",
     "output_type": "stream",
     "text": [
      "Epoch:  101/640 | avg rmse: 1.4311 | avg mse: 0.7464 | target: -2.0900 | pred: -2.9540\n"
     ]
    },
    {
     "name": "stderr",
     "output_type": "stream",
     "text": [
      "Division 3/6:  10%|█████████████▎                                                                                                                             | 113/1178 [00:08<01:08, 15.61it/s]"
     ]
    },
    {
     "name": "stdout",
     "output_type": "stream",
     "text": [
      "Epoch:  111/640 | avg rmse: 1.4246 | avg mse: 2.0281 | target: -0.2200 | pred: -1.6441\n"
     ]
    },
    {
     "name": "stderr",
     "output_type": "stream",
     "text": [
      "Division 3/6:  10%|██████████████▍                                                                                                                            | 122/1178 [00:09<01:36, 10.97it/s]"
     ]
    },
    {
     "name": "stdout",
     "output_type": "stream",
     "text": [
      "Epoch:  121/640 | avg rmse: 1.4126 | avg mse: 3.1819 | target: -3.1400 | pred: -1.3562\n"
     ]
    },
    {
     "name": "stderr",
     "output_type": "stream",
     "text": [
      "Division 3/6:  11%|███████████████▌                                                                                                                           | 132/1178 [00:10<01:21, 12.90it/s]"
     ]
    },
    {
     "name": "stdout",
     "output_type": "stream",
     "text": [
      "Epoch:  131/640 | avg rmse: 1.3863 | avg mse: 0.3011 | target: -3.8000 | pred: -3.2513\n"
     ]
    },
    {
     "name": "stderr",
     "output_type": "stream",
     "text": [
      "Division 3/6:  12%|████████████████▊                                                                                                                          | 143/1178 [00:11<01:11, 14.56it/s]"
     ]
    },
    {
     "name": "stdout",
     "output_type": "stream",
     "text": [
      "Epoch:  141/640 | avg rmse: 1.3643 | avg mse: 0.0010 | target: -1.6000 | pred: -1.6309\n"
     ]
    },
    {
     "name": "stderr",
     "output_type": "stream",
     "text": [
      "Division 3/6:  13%|██████████████████                                                                                                                         | 153/1178 [00:12<01:11, 14.25it/s]"
     ]
    },
    {
     "name": "stdout",
     "output_type": "stream",
     "text": [
      "Epoch:  151/640 | avg rmse: 1.3769 | avg mse: 5.9212 | target: -4.8900 | pred: -2.4566\n"
     ]
    },
    {
     "name": "stderr",
     "output_type": "stream",
     "text": [
      "Division 3/6:  14%|███████████████████▏                                                                                                                       | 163/1178 [00:13<01:21, 12.51it/s]"
     ]
    },
    {
     "name": "stdout",
     "output_type": "stream",
     "text": [
      "Epoch:  161/640 | avg rmse: 1.3584 | avg mse: 0.0264 | target: -2.5400 | pred: -2.3775\n"
     ]
    },
    {
     "name": "stderr",
     "output_type": "stream",
     "text": [
      "Division 3/6:  15%|████████████████████▍                                                                                                                      | 173/1178 [00:13<01:14, 13.50it/s]"
     ]
    },
    {
     "name": "stdout",
     "output_type": "stream",
     "text": [
      "Epoch:  171/640 | avg rmse: 1.3817 | avg mse: 3.7927 | target: -0.5000 | pred: -2.4475\n"
     ]
    },
    {
     "name": "stderr",
     "output_type": "stream",
     "text": [
      "Division 3/6:  15%|█████████████████████▍                                                                                                                     | 182/1178 [00:14<00:59, 16.84it/s]"
     ]
    },
    {
     "name": "stdout",
     "output_type": "stream",
     "text": [
      "Epoch:  181/640 | avg rmse: 1.3816 | avg mse: 4.5430 | target: 0.0400 | pred: -2.0914\n"
     ]
    },
    {
     "name": "stderr",
     "output_type": "stream",
     "text": [
      "Division 3/6:  16%|██████████████████████▉                                                                                                                    | 194/1178 [00:15<01:08, 14.33it/s]"
     ]
    },
    {
     "name": "stdout",
     "output_type": "stream",
     "text": [
      "Epoch:  191/640 | avg rmse: 1.3929 | avg mse: 0.3046 | target: -2.3700 | pred: -2.9219\n"
     ]
    },
    {
     "name": "stderr",
     "output_type": "stream",
     "text": [
      "Division 3/6:  17%|███████████████████████▊                                                                                                                   | 202/1178 [00:15<01:09, 14.12it/s]"
     ]
    },
    {
     "name": "stdout",
     "output_type": "stream",
     "text": [
      "Epoch:  201/640 | avg rmse: 1.3819 | avg mse: 1.9747 | target: -3.5200 | pred: -2.1148\n"
     ]
    },
    {
     "name": "stderr",
     "output_type": "stream",
     "text": [
      "Division 3/6:  18%|█████████████████████████▏                                                                                                                 | 213/1178 [00:16<01:16, 12.65it/s]"
     ]
    },
    {
     "name": "stdout",
     "output_type": "stream",
     "text": [
      "Epoch:  211/640 | avg rmse: 1.3553 | avg mse: 2.6283 | target: -3.3700 | pred: -4.9912\n"
     ]
    },
    {
     "name": "stderr",
     "output_type": "stream",
     "text": [
      "Division 3/6:  19%|██████████████████████████▎                                                                                                                | 223/1178 [00:17<01:00, 15.73it/s]"
     ]
    },
    {
     "name": "stdout",
     "output_type": "stream",
     "text": [
      "Epoch:  221/640 | avg rmse: 1.3432 | avg mse: 0.0911 | target: -2.1700 | pred: -1.8681\n"
     ]
    },
    {
     "name": "stderr",
     "output_type": "stream",
     "text": [
      "Division 3/6:  20%|███████████████████████████▎                                                                                                               | 231/1178 [00:18<01:14, 12.76it/s]"
     ]
    },
    {
     "name": "stdout",
     "output_type": "stream",
     "text": [
      "Epoch:  231/640 | avg rmse: 1.3335 | avg mse: 10.1828 | target: -6.2100 | pred: -3.0190\n"
     ]
    },
    {
     "name": "stderr",
     "output_type": "stream",
     "text": [
      "Division 3/6:  21%|████████████████████████████▌                                                                                                              | 242/1178 [00:19<01:17, 12.01it/s]"
     ]
    },
    {
     "name": "stdout",
     "output_type": "stream",
     "text": [
      "Epoch:  241/640 | avg rmse: 1.3124 | avg mse: 0.3561 | target: -2.6000 | pred: -3.1968\n"
     ]
    },
    {
     "name": "stderr",
     "output_type": "stream",
     "text": [
      "Division 3/6:  21%|█████████████████████████████▋                                                                                                             | 252/1178 [00:19<01:28, 10.47it/s]"
     ]
    },
    {
     "name": "stdout",
     "output_type": "stream",
     "text": [
      "Epoch:  251/640 | avg rmse: 1.3020 | avg mse: 0.4088 | target: -4.3500 | pred: -4.9894\n"
     ]
    },
    {
     "name": "stderr",
     "output_type": "stream",
     "text": [
      "Division 3/6:  22%|██████████████████████████████▉                                                                                                            | 262/1178 [00:20<01:32,  9.88it/s]"
     ]
    },
    {
     "name": "stdout",
     "output_type": "stream",
     "text": [
      "Epoch:  261/640 | avg rmse: 1.2922 | avg mse: 0.8787 | target: -0.8900 | pred: -1.8274\n"
     ]
    },
    {
     "name": "stderr",
     "output_type": "stream",
     "text": [
      "Division 3/6:  23%|████████████████████████████████                                                                                                           | 272/1178 [00:21<01:24, 10.67it/s]"
     ]
    },
    {
     "name": "stdout",
     "output_type": "stream",
     "text": [
      "Epoch:  271/640 | avg rmse: 1.2979 | avg mse: 0.3069 | target: -2.2600 | pred: -1.7060\n"
     ]
    },
    {
     "name": "stderr",
     "output_type": "stream",
     "text": [
      "Division 3/6:  24%|█████████████████████████████████▏                                                                                                         | 281/1178 [00:22<01:12, 12.40it/s]"
     ]
    },
    {
     "name": "stdout",
     "output_type": "stream",
     "text": [
      "Epoch:  281/640 | avg rmse: 1.2809 | avg mse: 0.1540 | target: -1.9200 | pred: -2.3124\n"
     ]
    },
    {
     "name": "stderr",
     "output_type": "stream",
     "text": [
      "Division 3/6:  25%|██████████████████████████████████▌                                                                                                        | 293/1178 [00:23<01:16, 11.57it/s]"
     ]
    },
    {
     "name": "stdout",
     "output_type": "stream",
     "text": [
      "Epoch:  291/640 | avg rmse: 1.2625 | avg mse: 0.7721 | target: -1.6100 | pred: -2.4887\n"
     ]
    },
    {
     "name": "stderr",
     "output_type": "stream",
     "text": [
      "Division 3/6:  26%|███████████████████████████████████▊                                                                                                       | 303/1178 [00:24<01:07, 12.92it/s]"
     ]
    },
    {
     "name": "stdout",
     "output_type": "stream",
     "text": [
      "Epoch:  301/640 | avg rmse: 1.2749 | avg mse: 3.1749 | target: -1.7600 | pred: -3.5418\n"
     ]
    },
    {
     "name": "stderr",
     "output_type": "stream",
     "text": [
      "Division 3/6:  27%|████████████████████████████████████▉                                                                                                      | 313/1178 [00:25<01:02, 13.84it/s]"
     ]
    },
    {
     "name": "stdout",
     "output_type": "stream",
     "text": [
      "Epoch:  311/640 | avg rmse: 1.2837 | avg mse: 1.1809 | target: -0.6600 | pred: -1.7467\n"
     ]
    },
    {
     "name": "stderr",
     "output_type": "stream",
     "text": [
      "Division 3/6:  27%|██████████████████████████████████████                                                                                                     | 323/1178 [00:25<00:56, 15.08it/s]"
     ]
    },
    {
     "name": "stdout",
     "output_type": "stream",
     "text": [
      "Epoch:  321/640 | avg rmse: 1.2762 | avg mse: 0.8961 | target: -3.2200 | pred: -2.2734\n"
     ]
    },
    {
     "name": "stderr",
     "output_type": "stream",
     "text": [
      "Division 3/6:  28%|███████████████████████████████████████▎                                                                                                   | 333/1178 [00:26<01:01, 13.74it/s]"
     ]
    },
    {
     "name": "stdout",
     "output_type": "stream",
     "text": [
      "Epoch:  331/640 | avg rmse: 1.2924 | avg mse: 9.9688 | target: 0.7900 | pred: -2.3673\n"
     ]
    },
    {
     "name": "stderr",
     "output_type": "stream",
     "text": [
      "Division 3/6:  29%|████████████████████████████████████████▏                                                                                                  | 341/1178 [00:27<01:27,  9.54it/s]"
     ]
    },
    {
     "name": "stdout",
     "output_type": "stream",
     "text": [
      "Epoch:  341/640 | avg rmse: 1.2871 | avg mse: 1.2597 | target: -2.0600 | pred: -3.1824\n"
     ]
    },
    {
     "name": "stderr",
     "output_type": "stream",
     "text": [
      "Division 3/6:  30%|█████████████████████████████████████████▋                                                                                                 | 353/1178 [00:28<01:05, 12.58it/s]"
     ]
    },
    {
     "name": "stdout",
     "output_type": "stream",
     "text": [
      "Epoch:  351/640 | avg rmse: 1.2641 | avg mse: 0.0618 | target: -1.7700 | pred: -2.0186\n"
     ]
    },
    {
     "name": "stderr",
     "output_type": "stream",
     "text": [
      "Division 3/6:  31%|██████████████████████████████████████████▊                                                                                                | 363/1178 [00:29<00:59, 13.60it/s]"
     ]
    },
    {
     "name": "stdout",
     "output_type": "stream",
     "text": [
      "Epoch:  361/640 | avg rmse: 1.2662 | avg mse: 3.0750 | target: -6.2600 | pred: -4.5064\n"
     ]
    },
    {
     "name": "stderr",
     "output_type": "stream",
     "text": [
      "Division 3/6:  32%|███████████████████████████████████████████▉                                                                                               | 372/1178 [00:29<01:01, 13.02it/s]"
     ]
    },
    {
     "name": "stdout",
     "output_type": "stream",
     "text": [
      "Epoch:  371/640 | avg rmse: 1.2659 | avg mse: 6.6305 | target: 1.0700 | pred: -1.5050\n"
     ]
    },
    {
     "name": "stderr",
     "output_type": "stream",
     "text": [
      "Division 3/6:  32%|████████████████████████████████████████████▉                                                                                              | 381/1178 [00:30<00:59, 13.42it/s]"
     ]
    },
    {
     "name": "stdout",
     "output_type": "stream",
     "text": [
      "Epoch:  381/640 | avg rmse: 1.2545 | avg mse: 0.2984 | target: -4.3800 | pred: -4.9262\n"
     ]
    },
    {
     "name": "stderr",
     "output_type": "stream",
     "text": [
      "Division 3/6:  33%|██████████████████████████████████████████████▏                                                                                            | 391/1178 [00:31<01:15, 10.45it/s]"
     ]
    },
    {
     "name": "stdout",
     "output_type": "stream",
     "text": [
      "Epoch:  391/640 | avg rmse: 1.2506 | avg mse: 3.7877 | target: -5.0300 | pred: -3.0838\n"
     ]
    },
    {
     "name": "stderr",
     "output_type": "stream",
     "text": [
      "Division 3/6:  34%|███████████████████████████████████████████████▌                                                                                           | 403/1178 [00:32<00:58, 13.14it/s]"
     ]
    },
    {
     "name": "stdout",
     "output_type": "stream",
     "text": [
      "Epoch:  401/640 | avg rmse: 1.2454 | avg mse: 0.2404 | target: -3.9600 | pred: -3.4697\n"
     ]
    },
    {
     "name": "stderr",
     "output_type": "stream",
     "text": [
      "Division 3/6:  35%|████████████████████████████████████████████████▋                                                                                          | 413/1178 [00:33<00:50, 15.24it/s]"
     ]
    },
    {
     "name": "stdout",
     "output_type": "stream",
     "text": [
      "Epoch:  411/640 | avg rmse: 1.2285 | avg mse: 0.0000 | target: -3.0700 | pred: -3.0664\n"
     ]
    },
    {
     "name": "stderr",
     "output_type": "stream",
     "text": [
      "Division 3/6:  36%|█████████████████████████████████████████████████▊                                                                                         | 422/1178 [00:33<00:56, 13.31it/s]"
     ]
    },
    {
     "name": "stdout",
     "output_type": "stream",
     "text": [
      "Epoch:  421/640 | avg rmse: 1.2158 | avg mse: 3.2204 | target: -0.5400 | pred: -2.3345\n"
     ]
    },
    {
     "name": "stderr",
     "output_type": "stream",
     "text": [
      "Division 3/6:  37%|███████████████████████████████████████████████████                                                                                        | 433/1178 [00:34<01:00, 12.23it/s]"
     ]
    },
    {
     "name": "stdout",
     "output_type": "stream",
     "text": [
      "Epoch:  431/640 | avg rmse: 1.2120 | avg mse: 3.3802 | target: -1.3500 | pred: -3.1885\n"
     ]
    },
    {
     "name": "stderr",
     "output_type": "stream",
     "text": [
      "Division 3/6:  38%|████████████████████████████████████████████████████▍                                                                                      | 444/1178 [00:35<00:53, 13.84it/s]"
     ]
    },
    {
     "name": "stdout",
     "output_type": "stream",
     "text": [
      "Epoch:  441/640 | avg rmse: 1.2040 | avg mse: 0.1080 | target: -3.6600 | pred: -3.9887\n"
     ]
    },
    {
     "name": "stderr",
     "output_type": "stream",
     "text": [
      "Division 3/6:  38%|█████████████████████████████████████████████████████▎                                                                                     | 452/1178 [00:36<01:05, 11.08it/s]"
     ]
    },
    {
     "name": "stdout",
     "output_type": "stream",
     "text": [
      "Epoch:  451/640 | avg rmse: 1.2007 | avg mse: 0.7837 | target: -4.0700 | pred: -3.1847\n"
     ]
    },
    {
     "name": "stderr",
     "output_type": "stream",
     "text": [
      "Division 3/6:  39%|██████████████████████████████████████████████████████▌                                                                                    | 462/1178 [00:37<00:57, 12.41it/s]"
     ]
    },
    {
     "name": "stdout",
     "output_type": "stream",
     "text": [
      "Epoch:  461/640 | avg rmse: 1.1877 | avg mse: 0.1511 | target: -1.8200 | pred: -1.4313\n"
     ]
    },
    {
     "name": "stderr",
     "output_type": "stream",
     "text": [
      "Division 3/6:  40%|███████████████████████████████████████████████████████▋                                                                                   | 472/1178 [00:37<00:59, 11.94it/s]"
     ]
    },
    {
     "name": "stdout",
     "output_type": "stream",
     "text": [
      "Epoch:  471/640 | avg rmse: 1.1801 | avg mse: 0.3287 | target: -1.9100 | pred: -2.4833\n"
     ]
    },
    {
     "name": "stderr",
     "output_type": "stream",
     "text": [
      "Division 3/6:  41%|████████████████████████████████████████████████████████▉                                                                                  | 483/1178 [00:38<00:48, 14.36it/s]"
     ]
    },
    {
     "name": "stdout",
     "output_type": "stream",
     "text": [
      "Epoch:  481/640 | avg rmse: 1.1754 | avg mse: 2.6029 | target: -0.4200 | pred: -2.0334\n"
     ]
    },
    {
     "name": "stderr",
     "output_type": "stream",
     "text": [
      "Division 3/6:  42%|██████████████████████████████████████████████████████████▏                                                                                | 493/1178 [00:39<00:52, 13.11it/s]"
     ]
    },
    {
     "name": "stdout",
     "output_type": "stream",
     "text": [
      "Epoch:  491/640 | avg rmse: 1.1733 | avg mse: 3.7622 | target: -6.8900 | pred: -4.9504\n"
     ]
    },
    {
     "name": "stderr",
     "output_type": "stream",
     "text": [
      "Division 3/6:  43%|███████████████████████████████████████████████████████████▏                                                                               | 502/1178 [00:40<00:48, 13.81it/s]"
     ]
    },
    {
     "name": "stdout",
     "output_type": "stream",
     "text": [
      "Epoch:  501/640 | avg rmse: 1.1670 | avg mse: 0.1969 | target: -4.5700 | pred: -4.1263\n"
     ]
    },
    {
     "name": "stderr",
     "output_type": "stream",
     "text": [
      "Division 3/6:  43%|████████████████████████████████████████████████████████████▍                                                                              | 512/1178 [00:41<00:54, 12.23it/s]"
     ]
    },
    {
     "name": "stdout",
     "output_type": "stream",
     "text": [
      "Epoch:  511/640 | avg rmse: 1.1557 | avg mse: 0.3780 | target: -0.9000 | pred: -0.2852\n"
     ]
    },
    {
     "name": "stderr",
     "output_type": "stream",
     "text": [
      "Division 3/6:  44%|█████████████████████████████████████████████████████████████▊                                                                             | 524/1178 [00:41<00:43, 15.17it/s]"
     ]
    },
    {
     "name": "stdout",
     "output_type": "stream",
     "text": [
      "Epoch:  521/640 | avg rmse: 1.1464 | avg mse: 0.2667 | target: -2.6800 | pred: -3.1965\n"
     ]
    },
    {
     "name": "stderr",
     "output_type": "stream",
     "text": [
      "Division 3/6:  45%|██████████████████████████████████████████████████████████████▉                                                                            | 533/1178 [00:42<00:49, 13.04it/s]"
     ]
    },
    {
     "name": "stdout",
     "output_type": "stream",
     "text": [
      "Epoch:  531/640 | avg rmse: 1.1357 | avg mse: 2.0123 | target: -5.6800 | pred: -4.2615\n"
     ]
    },
    {
     "name": "stderr",
     "output_type": "stream",
     "text": [
      "Division 3/6:  46%|████████████████████████████████████████████████████████████████                                                                           | 543/1178 [00:43<00:46, 13.62it/s]"
     ]
    },
    {
     "name": "stdout",
     "output_type": "stream",
     "text": [
      "Epoch:  541/640 | avg rmse: 1.1360 | avg mse: 1.0210 | target: -0.9900 | pred: -2.0004\n"
     ]
    },
    {
     "name": "stderr",
     "output_type": "stream",
     "text": [
      "Division 3/6:  47%|█████████████████████████████████████████████████████████████████▏                                                                         | 552/1178 [00:43<00:45, 13.89it/s]"
     ]
    },
    {
     "name": "stdout",
     "output_type": "stream",
     "text": [
      "Epoch:  551/640 | avg rmse: 1.1383 | avg mse: 2.3400 | target: -7.9100 | pred: -6.3803\n"
     ]
    },
    {
     "name": "stderr",
     "output_type": "stream",
     "text": [
      "Division 3/6:  48%|██████████████████████████████████████████████████████████████████▎                                                                        | 562/1178 [00:44<00:44, 13.78it/s]"
     ]
    },
    {
     "name": "stdout",
     "output_type": "stream",
     "text": [
      "Epoch:  561/640 | avg rmse: 1.1374 | avg mse: 1.0776 | target: -5.4300 | pred: -4.3919\n"
     ]
    },
    {
     "name": "stderr",
     "output_type": "stream",
     "text": [
      "Division 3/6:  49%|███████████████████████████████████████████████████████████████████▍                                                                       | 572/1178 [00:45<01:00, 10.06it/s]"
     ]
    },
    {
     "name": "stdout",
     "output_type": "stream",
     "text": [
      "Epoch:  571/640 | avg rmse: 1.1330 | avg mse: 1.5618 | target: -2.3200 | pred: -3.5697\n"
     ]
    },
    {
     "name": "stderr",
     "output_type": "stream",
     "text": [
      "Division 3/6:  49%|████████████████████████████████████████████████████████████████████▋                                                                      | 582/1178 [00:46<01:10,  8.46it/s]"
     ]
    },
    {
     "name": "stdout",
     "output_type": "stream",
     "text": [
      "Epoch:  581/640 | avg rmse: 1.1262 | avg mse: 5.4271 | target: -6.8100 | pred: -4.4804\n"
     ]
    },
    {
     "name": "stderr",
     "output_type": "stream",
     "text": [
      "Division 3/6:  50%|██████████████████████████████████████████████████████████████████████                                                                     | 594/1178 [00:47<00:50, 11.48it/s]"
     ]
    },
    {
     "name": "stdout",
     "output_type": "stream",
     "text": [
      "Epoch:  591/640 | avg rmse: 1.1238 | avg mse: 4.2717 | target: -3.1200 | pred: -5.1868\n"
     ]
    },
    {
     "name": "stderr",
     "output_type": "stream",
     "text": [
      "Division 3/6:  51%|███████████████████████████████████████████████████████████████████████                                                                    | 602/1178 [00:48<00:44, 12.99it/s]"
     ]
    },
    {
     "name": "stdout",
     "output_type": "stream",
     "text": [
      "Epoch:  601/640 | avg rmse: 1.1196 | avg mse: 0.0304 | target: -2.5100 | pred: -2.6845\n"
     ]
    },
    {
     "name": "stderr",
     "output_type": "stream",
     "text": [
      "Division 3/6:  52%|████████████████████████████████████████████████████████████████████████▏                                                                  | 612/1178 [00:49<00:44, 12.72it/s]"
     ]
    },
    {
     "name": "stdout",
     "output_type": "stream",
     "text": [
      "Epoch:  611/640 | avg rmse: 1.1129 | avg mse: 0.2303 | target: -3.8900 | pred: -3.4101\n"
     ]
    },
    {
     "name": "stderr",
     "output_type": "stream",
     "text": [
      "Division 3/6:  53%|█████████████████████████████████████████████████████████████████████████▌                                                                 | 623/1178 [00:50<00:38, 14.43it/s]"
     ]
    },
    {
     "name": "stdout",
     "output_type": "stream",
     "text": [
      "Epoch:  621/640 | avg rmse: 1.1052 | avg mse: 0.0631 | target: -1.2300 | pred: -0.9788\n"
     ]
    },
    {
     "name": "stderr",
     "output_type": "stream",
     "text": [
      "Division 3/6:  54%|██████████████████████████████████████████████████████████████████████████▌                                                                | 632/1178 [00:50<00:41, 13.20it/s]"
     ]
    },
    {
     "name": "stdout",
     "output_type": "stream",
     "text": [
      "Epoch:  631/640 | avg rmse: 1.1066 | avg mse: 0.0482 | target: -3.3600 | pred: -3.1404\n"
     ]
    },
    {
     "name": "stderr",
     "output_type": "stream",
     "text": [
      "Division 3/6:  54%|███████████████████████████████████████████████████████████████████████████▌                                                               | 640/1178 [00:51<00:43, 12.46it/s]\n",
      "Division 4/6:   0%|▍                                                                                                                                            | 4/1178 [00:00<01:20, 14.57it/s]"
     ]
    },
    {
     "name": "stdout",
     "output_type": "stream",
     "text": [
      "Epoch:    1/821 | avg rmse: 2.5461 | avg mse: 6.4827 | target: -2.3000 | pred: 0.2461\n"
     ]
    },
    {
     "name": "stderr",
     "output_type": "stream",
     "text": [
      "Division 4/6:   1%|█▍                                                                                                                                          | 12/1178 [00:01<01:44, 11.17it/s]"
     ]
    },
    {
     "name": "stdout",
     "output_type": "stream",
     "text": [
      "Epoch:   11/821 | avg rmse: 2.8590 | avg mse: 0.0443 | target: -0.4200 | pred: -0.2096\n"
     ]
    },
    {
     "name": "stderr",
     "output_type": "stream",
     "text": [
      "Division 4/6:   2%|██▋                                                                                                                                         | 23/1178 [00:01<01:13, 15.64it/s]"
     ]
    },
    {
     "name": "stdout",
     "output_type": "stream",
     "text": [
      "Epoch:   21/821 | avg rmse: 2.5937 | avg mse: 0.7311 | target: -1.3400 | pred: -0.4849\n"
     ]
    },
    {
     "name": "stderr",
     "output_type": "stream",
     "text": [
      "Division 4/6:   3%|███▉                                                                                                                                        | 33/1178 [00:02<01:32, 12.38it/s]"
     ]
    },
    {
     "name": "stdout",
     "output_type": "stream",
     "text": [
      "Epoch:   31/821 | avg rmse: 2.1139 | avg mse: 2.1496 | target: 0.8400 | pred: -0.6262\n"
     ]
    },
    {
     "name": "stderr",
     "output_type": "stream",
     "text": [
      "Division 4/6:   4%|█████                                                                                                                                       | 43/1178 [00:03<01:44, 10.87it/s]"
     ]
    },
    {
     "name": "stdout",
     "output_type": "stream",
     "text": [
      "Epoch:   41/821 | avg rmse: 2.0023 | avg mse: 4.4051 | target: 0.9600 | pred: -1.1388\n"
     ]
    },
    {
     "name": "stderr",
     "output_type": "stream",
     "text": [
      "Division 4/6:   4%|██████▎                                                                                                                                     | 53/1178 [00:04<01:51, 10.08it/s]"
     ]
    },
    {
     "name": "stdout",
     "output_type": "stream",
     "text": [
      "Epoch:   51/821 | avg rmse: 1.9782 | avg mse: 0.0339 | target: -3.3200 | pred: -3.5040\n"
     ]
    },
    {
     "name": "stderr",
     "output_type": "stream",
     "text": [
      "Division 4/6:   5%|███████▏                                                                                                                                    | 61/1178 [00:05<01:26, 12.89it/s]"
     ]
    },
    {
     "name": "stdout",
     "output_type": "stream",
     "text": [
      "Epoch:   61/821 | avg rmse: 1.9120 | avg mse: 2.4450 | target: 0.0000 | pred: -1.5636\n"
     ]
    },
    {
     "name": "stderr",
     "output_type": "stream",
     "text": [
      "Division 4/6:   6%|████████▌                                                                                                                                   | 72/1178 [00:06<01:16, 14.48it/s]"
     ]
    },
    {
     "name": "stdout",
     "output_type": "stream",
     "text": [
      "Epoch:   71/821 | avg rmse: 1.7320 | avg mse: 0.2850 | target: -1.0000 | pred: -1.5338\n"
     ]
    },
    {
     "name": "stderr",
     "output_type": "stream",
     "text": [
      "Division 4/6:   7%|█████████▋                                                                                                                                  | 82/1178 [00:06<01:15, 14.53it/s]"
     ]
    },
    {
     "name": "stdout",
     "output_type": "stream",
     "text": [
      "Epoch:   81/821 | avg rmse: 1.6588 | avg mse: 0.1562 | target: -1.2500 | pred: -1.6452\n"
     ]
    },
    {
     "name": "stderr",
     "output_type": "stream",
     "text": [
      "Division 4/6:   8%|███████████                                                                                                                                 | 93/1178 [00:07<01:08, 15.75it/s]"
     ]
    },
    {
     "name": "stdout",
     "output_type": "stream",
     "text": [
      "Epoch:   91/821 | avg rmse: 1.6579 | avg mse: 0.5357 | target: -2.2400 | pred: -2.9719\n"
     ]
    },
    {
     "name": "stderr",
     "output_type": "stream",
     "text": [
      "Division 4/6:   9%|████████████▏                                                                                                                              | 103/1178 [00:08<01:15, 14.24it/s]"
     ]
    },
    {
     "name": "stdout",
     "output_type": "stream",
     "text": [
      "Epoch:  101/821 | avg rmse: 1.5958 | avg mse: 0.8097 | target: -2.0900 | pred: -2.9898\n"
     ]
    },
    {
     "name": "stderr",
     "output_type": "stream",
     "text": [
      "Division 4/6:  10%|█████████████▎                                                                                                                             | 113/1178 [00:08<01:08, 15.59it/s]"
     ]
    },
    {
     "name": "stdout",
     "output_type": "stream",
     "text": [
      "Epoch:  111/821 | avg rmse: 1.5763 | avg mse: 2.2060 | target: -0.2200 | pred: -1.7052\n"
     ]
    },
    {
     "name": "stderr",
     "output_type": "stream",
     "text": [
      "Division 4/6:  10%|██████████████▍                                                                                                                            | 122/1178 [00:09<01:36, 10.98it/s]"
     ]
    },
    {
     "name": "stdout",
     "output_type": "stream",
     "text": [
      "Epoch:  121/821 | avg rmse: 1.5548 | avg mse: 3.3963 | target: -3.1400 | pred: -1.2971\n"
     ]
    },
    {
     "name": "stderr",
     "output_type": "stream",
     "text": [
      "Division 4/6:  11%|███████████████▌                                                                                                                           | 132/1178 [00:10<01:20, 12.96it/s]"
     ]
    },
    {
     "name": "stdout",
     "output_type": "stream",
     "text": [
      "Epoch:  131/821 | avg rmse: 1.5185 | avg mse: 0.2614 | target: -3.8000 | pred: -3.2887\n"
     ]
    },
    {
     "name": "stderr",
     "output_type": "stream",
     "text": [
      "Division 4/6:  12%|████████████████▊                                                                                                                          | 143/1178 [00:11<01:11, 14.47it/s]"
     ]
    },
    {
     "name": "stdout",
     "output_type": "stream",
     "text": [
      "Epoch:  141/821 | avg rmse: 1.4897 | avg mse: 0.0785 | target: -1.6000 | pred: -1.8801\n"
     ]
    },
    {
     "name": "stderr",
     "output_type": "stream",
     "text": [
      "Division 4/6:  13%|██████████████████                                                                                                                         | 153/1178 [00:12<01:11, 14.34it/s]"
     ]
    },
    {
     "name": "stdout",
     "output_type": "stream",
     "text": [
      "Epoch:  151/821 | avg rmse: 1.4968 | avg mse: 6.3434 | target: -4.8900 | pred: -2.3714\n"
     ]
    },
    {
     "name": "stderr",
     "output_type": "stream",
     "text": [
      "Division 4/6:  14%|███████████████████▏                                                                                                                       | 163/1178 [00:12<01:21, 12.42it/s]"
     ]
    },
    {
     "name": "stdout",
     "output_type": "stream",
     "text": [
      "Epoch:  161/821 | avg rmse: 1.4715 | avg mse: 0.0144 | target: -2.5400 | pred: -2.4198\n"
     ]
    },
    {
     "name": "stderr",
     "output_type": "stream",
     "text": [
      "Division 4/6:  15%|████████████████████▍                                                                                                                      | 173/1178 [00:13<01:15, 13.39it/s]"
     ]
    },
    {
     "name": "stdout",
     "output_type": "stream",
     "text": [
      "Epoch:  171/821 | avg rmse: 1.4884 | avg mse: 3.7437 | target: -0.5000 | pred: -2.4349\n"
     ]
    },
    {
     "name": "stderr",
     "output_type": "stream",
     "text": [
      "Division 4/6:  15%|█████████████████████▍                                                                                                                     | 182/1178 [00:14<01:00, 16.40it/s]"
     ]
    },
    {
     "name": "stdout",
     "output_type": "stream",
     "text": [
      "Epoch:  181/821 | avg rmse: 1.4849 | avg mse: 4.8869 | target: 0.0400 | pred: -2.1706\n"
     ]
    },
    {
     "name": "stderr",
     "output_type": "stream",
     "text": [
      "Division 4/6:  16%|██████████████████████▉                                                                                                                    | 194/1178 [00:15<01:11, 13.78it/s]"
     ]
    },
    {
     "name": "stdout",
     "output_type": "stream",
     "text": [
      "Epoch:  191/821 | avg rmse: 1.4955 | avg mse: 0.3547 | target: -2.3700 | pred: -2.9656\n"
     ]
    },
    {
     "name": "stderr",
     "output_type": "stream",
     "text": [
      "Division 4/6:  17%|███████████████████████▊                                                                                                                   | 202/1178 [00:15<01:10, 13.89it/s]"
     ]
    },
    {
     "name": "stdout",
     "output_type": "stream",
     "text": [
      "Epoch:  201/821 | avg rmse: 1.4810 | avg mse: 1.9351 | target: -3.5200 | pred: -2.1289\n"
     ]
    },
    {
     "name": "stderr",
     "output_type": "stream",
     "text": [
      "Division 4/6:  18%|█████████████████████████▏                                                                                                                 | 213/1178 [00:16<01:16, 12.64it/s]"
     ]
    },
    {
     "name": "stdout",
     "output_type": "stream",
     "text": [
      "Epoch:  211/821 | avg rmse: 1.4513 | avg mse: 2.5993 | target: -3.3700 | pred: -4.9822\n"
     ]
    },
    {
     "name": "stderr",
     "output_type": "stream",
     "text": [
      "Division 4/6:  19%|██████████████████████████▎                                                                                                                | 223/1178 [00:17<01:01, 15.64it/s]"
     ]
    },
    {
     "name": "stdout",
     "output_type": "stream",
     "text": [
      "Epoch:  221/821 | avg rmse: 1.4367 | avg mse: 0.0031 | target: -2.1700 | pred: -2.1146\n"
     ]
    },
    {
     "name": "stderr",
     "output_type": "stream",
     "text": [
      "Division 4/6:  20%|███████████████████████████▎                                                                                                               | 231/1178 [00:18<01:14, 12.79it/s]"
     ]
    },
    {
     "name": "stdout",
     "output_type": "stream",
     "text": [
      "Epoch:  231/821 | avg rmse: 1.4251 | avg mse: 11.7082 | target: -6.2100 | pred: -2.7883\n"
     ]
    },
    {
     "name": "stderr",
     "output_type": "stream",
     "text": [
      "Division 4/6:  21%|████████████████████████████▌                                                                                                              | 242/1178 [00:19<01:17, 12.07it/s]"
     ]
    },
    {
     "name": "stdout",
     "output_type": "stream",
     "text": [
      "Epoch:  241/821 | avg rmse: 1.3981 | avg mse: 0.4794 | target: -2.6000 | pred: -3.2924\n"
     ]
    },
    {
     "name": "stderr",
     "output_type": "stream",
     "text": [
      "Division 4/6:  21%|█████████████████████████████▋                                                                                                             | 252/1178 [00:19<01:27, 10.55it/s]"
     ]
    },
    {
     "name": "stdout",
     "output_type": "stream",
     "text": [
      "Epoch:  251/821 | avg rmse: 1.3855 | avg mse: 0.4234 | target: -4.3500 | pred: -5.0007\n"
     ]
    },
    {
     "name": "stderr",
     "output_type": "stream",
     "text": [
      "Division 4/6:  22%|██████████████████████████████▉                                                                                                            | 262/1178 [00:20<01:33,  9.82it/s]"
     ]
    },
    {
     "name": "stdout",
     "output_type": "stream",
     "text": [
      "Epoch:  261/821 | avg rmse: 1.3739 | avg mse: 0.9414 | target: -0.8900 | pred: -1.8602\n"
     ]
    },
    {
     "name": "stderr",
     "output_type": "stream",
     "text": [
      "Division 4/6:  23%|████████████████████████████████                                                                                                           | 272/1178 [00:21<01:25, 10.66it/s]"
     ]
    },
    {
     "name": "stdout",
     "output_type": "stream",
     "text": [
      "Epoch:  271/821 | avg rmse: 1.3770 | avg mse: 0.2064 | target: -2.2600 | pred: -1.8057\n"
     ]
    },
    {
     "name": "stderr",
     "output_type": "stream",
     "text": [
      "Division 4/6:  24%|█████████████████████████████████▏                                                                                                         | 281/1178 [00:22<01:11, 12.49it/s]"
     ]
    },
    {
     "name": "stdout",
     "output_type": "stream",
     "text": [
      "Epoch:  281/821 | avg rmse: 1.3569 | avg mse: 0.1503 | target: -1.9200 | pred: -2.3077\n"
     ]
    },
    {
     "name": "stderr",
     "output_type": "stream",
     "text": [
      "Division 4/6:  25%|██████████████████████████████████▌                                                                                                        | 293/1178 [00:23<01:16, 11.58it/s]"
     ]
    },
    {
     "name": "stdout",
     "output_type": "stream",
     "text": [
      "Epoch:  291/821 | avg rmse: 1.3365 | avg mse: 0.9852 | target: -1.6100 | pred: -2.6026\n"
     ]
    },
    {
     "name": "stderr",
     "output_type": "stream",
     "text": [
      "Division 4/6:  26%|███████████████████████████████████▊                                                                                                       | 303/1178 [00:24<01:08, 12.82it/s]"
     ]
    },
    {
     "name": "stdout",
     "output_type": "stream",
     "text": [
      "Epoch:  301/821 | avg rmse: 1.3495 | avg mse: 3.1053 | target: -1.7600 | pred: -3.5222\n"
     ]
    },
    {
     "name": "stderr",
     "output_type": "stream",
     "text": [
      "Division 4/6:  27%|████████████████████████████████████▉                                                                                                      | 313/1178 [00:25<01:02, 13.75it/s]"
     ]
    },
    {
     "name": "stdout",
     "output_type": "stream",
     "text": [
      "Epoch:  311/821 | avg rmse: 1.3594 | avg mse: 1.3432 | target: -0.6600 | pred: -1.8190\n"
     ]
    },
    {
     "name": "stderr",
     "output_type": "stream",
     "text": [
      "Division 4/6:  27%|██████████████████████████████████████                                                                                                     | 323/1178 [00:25<00:57, 14.93it/s]"
     ]
    },
    {
     "name": "stdout",
     "output_type": "stream",
     "text": [
      "Epoch:  321/821 | avg rmse: 1.3554 | avg mse: 1.1962 | target: -3.2200 | pred: -2.1263\n"
     ]
    },
    {
     "name": "stderr",
     "output_type": "stream",
     "text": [
      "Division 4/6:  28%|███████████████████████████████████████▎                                                                                                   | 333/1178 [00:26<01:00, 13.93it/s]"
     ]
    },
    {
     "name": "stdout",
     "output_type": "stream",
     "text": [
      "Epoch:  331/821 | avg rmse: 1.3728 | avg mse: 11.6045 | target: 0.7900 | pred: -2.6165\n"
     ]
    },
    {
     "name": "stderr",
     "output_type": "stream",
     "text": [
      "Division 4/6:  29%|████████████████████████████████████████▏                                                                                                  | 341/1178 [00:27<01:27,  9.60it/s]"
     ]
    },
    {
     "name": "stdout",
     "output_type": "stream",
     "text": [
      "Epoch:  341/821 | avg rmse: 1.3687 | avg mse: 1.9639 | target: -2.0600 | pred: -3.4614\n"
     ]
    },
    {
     "name": "stderr",
     "output_type": "stream",
     "text": [
      "Division 4/6:  30%|█████████████████████████████████████████▋                                                                                                 | 353/1178 [00:28<01:04, 12.72it/s]"
     ]
    },
    {
     "name": "stdout",
     "output_type": "stream",
     "text": [
      "Epoch:  351/821 | avg rmse: 1.3477 | avg mse: 0.1356 | target: -1.7700 | pred: -2.1382\n"
     ]
    },
    {
     "name": "stderr",
     "output_type": "stream",
     "text": [
      "Division 4/6:  31%|██████████████████████████████████████████▊                                                                                                | 363/1178 [00:29<00:59, 13.59it/s]"
     ]
    },
    {
     "name": "stdout",
     "output_type": "stream",
     "text": [
      "Epoch:  361/821 | avg rmse: 1.3509 | avg mse: 5.4186 | target: -6.2600 | pred: -3.9322\n"
     ]
    },
    {
     "name": "stderr",
     "output_type": "stream",
     "text": [
      "Division 4/6:  32%|███████████████████████████████████████████▉                                                                                               | 372/1178 [00:29<01:02, 13.00it/s]"
     ]
    },
    {
     "name": "stdout",
     "output_type": "stream",
     "text": [
      "Epoch:  371/821 | avg rmse: 1.3488 | avg mse: 6.5516 | target: 1.0700 | pred: -1.4896\n"
     ]
    },
    {
     "name": "stderr",
     "output_type": "stream",
     "text": [
      "Division 4/6:  32%|████████████████████████████████████████████▉                                                                                              | 381/1178 [00:30<00:58, 13.58it/s]"
     ]
    },
    {
     "name": "stdout",
     "output_type": "stream",
     "text": [
      "Epoch:  381/821 | avg rmse: 1.3367 | avg mse: 0.0325 | target: -4.3800 | pred: -4.5604\n"
     ]
    },
    {
     "name": "stderr",
     "output_type": "stream",
     "text": [
      "Division 4/6:  33%|██████████████████████████████████████████████▏                                                                                            | 391/1178 [00:31<01:16, 10.33it/s]"
     ]
    },
    {
     "name": "stdout",
     "output_type": "stream",
     "text": [
      "Epoch:  391/821 | avg rmse: 1.3311 | avg mse: 3.9242 | target: -5.0300 | pred: -3.0490\n"
     ]
    },
    {
     "name": "stderr",
     "output_type": "stream",
     "text": [
      "Division 4/6:  34%|███████████████████████████████████████████████▌                                                                                           | 403/1178 [00:32<00:58, 13.17it/s]"
     ]
    },
    {
     "name": "stdout",
     "output_type": "stream",
     "text": [
      "Epoch:  401/821 | avg rmse: 1.3285 | avg mse: 0.6026 | target: -3.9600 | pred: -3.1837\n"
     ]
    },
    {
     "name": "stderr",
     "output_type": "stream",
     "text": [
      "Division 4/6:  35%|████████████████████████████████████████████████▋                                                                                          | 413/1178 [00:33<00:52, 14.67it/s]"
     ]
    },
    {
     "name": "stdout",
     "output_type": "stream",
     "text": [
      "Epoch:  411/821 | avg rmse: 1.3082 | avg mse: 0.0096 | target: -3.0700 | pred: -2.9718\n"
     ]
    },
    {
     "name": "stderr",
     "output_type": "stream",
     "text": [
      "Division 4/6:  36%|█████████████████████████████████████████████████▊                                                                                         | 422/1178 [00:33<00:57, 13.14it/s]"
     ]
    },
    {
     "name": "stdout",
     "output_type": "stream",
     "text": [
      "Epoch:  421/821 | avg rmse: 1.2955 | avg mse: 3.5639 | target: -0.5400 | pred: -2.4278\n"
     ]
    },
    {
     "name": "stderr",
     "output_type": "stream",
     "text": [
      "Division 4/6:  37%|███████████████████████████████████████████████████                                                                                        | 433/1178 [00:34<01:02, 11.89it/s]"
     ]
    },
    {
     "name": "stdout",
     "output_type": "stream",
     "text": [
      "Epoch:  431/821 | avg rmse: 1.2923 | avg mse: 5.0652 | target: -1.3500 | pred: -3.6006\n"
     ]
    },
    {
     "name": "stderr",
     "output_type": "stream",
     "text": [
      "Division 4/6:  38%|████████████████████████████████████████████████████▍                                                                                      | 444/1178 [00:35<00:53, 13.74it/s]"
     ]
    },
    {
     "name": "stdout",
     "output_type": "stream",
     "text": [
      "Epoch:  441/821 | avg rmse: 1.2836 | avg mse: 0.2317 | target: -3.6600 | pred: -4.1413\n"
     ]
    },
    {
     "name": "stderr",
     "output_type": "stream",
     "text": [
      "Division 4/6:  38%|█████████████████████████████████████████████████████▎                                                                                     | 452/1178 [00:36<01:05, 11.14it/s]"
     ]
    },
    {
     "name": "stdout",
     "output_type": "stream",
     "text": [
      "Epoch:  451/821 | avg rmse: 1.2789 | avg mse: 1.1424 | target: -4.0700 | pred: -3.0012\n"
     ]
    },
    {
     "name": "stderr",
     "output_type": "stream",
     "text": [
      "Division 4/6:  39%|██████████████████████████████████████████████████████▌                                                                                    | 462/1178 [00:37<00:57, 12.42it/s]"
     ]
    },
    {
     "name": "stdout",
     "output_type": "stream",
     "text": [
      "Epoch:  461/821 | avg rmse: 1.2652 | avg mse: 0.0870 | target: -1.8200 | pred: -1.5251\n"
     ]
    },
    {
     "name": "stderr",
     "output_type": "stream",
     "text": [
      "Division 4/6:  40%|███████████████████████████████████████████████████████▋                                                                                   | 472/1178 [00:38<00:59, 11.92it/s]"
     ]
    },
    {
     "name": "stdout",
     "output_type": "stream",
     "text": [
      "Epoch:  471/821 | avg rmse: 1.2558 | avg mse: 0.3305 | target: -1.9100 | pred: -2.4849\n"
     ]
    },
    {
     "name": "stderr",
     "output_type": "stream",
     "text": [
      "Division 4/6:  41%|████████████████████████████████████████████████████████▉                                                                                  | 483/1178 [00:38<00:48, 14.19it/s]"
     ]
    },
    {
     "name": "stdout",
     "output_type": "stream",
     "text": [
      "Epoch:  481/821 | avg rmse: 1.2494 | avg mse: 3.0895 | target: -0.4200 | pred: -2.1777\n"
     ]
    },
    {
     "name": "stderr",
     "output_type": "stream",
     "text": [
      "Division 4/6:  42%|██████████████████████████████████████████████████████████▏                                                                                | 493/1178 [00:39<00:52, 13.15it/s]"
     ]
    },
    {
     "name": "stdout",
     "output_type": "stream",
     "text": [
      "Epoch:  491/821 | avg rmse: 1.2450 | avg mse: 4.2746 | target: -6.8900 | pred: -4.8225\n"
     ]
    },
    {
     "name": "stderr",
     "output_type": "stream",
     "text": [
      "Division 4/6:  43%|███████████████████████████████████████████████████████████▏                                                                               | 502/1178 [00:40<00:49, 13.78it/s]"
     ]
    },
    {
     "name": "stdout",
     "output_type": "stream",
     "text": [
      "Epoch:  501/821 | avg rmse: 1.2353 | avg mse: 0.2388 | target: -4.5700 | pred: -4.0813\n"
     ]
    },
    {
     "name": "stderr",
     "output_type": "stream",
     "text": [
      "Division 4/6:  43%|████████████████████████████████████████████████████████████▍                                                                              | 512/1178 [00:41<00:54, 12.24it/s]"
     ]
    },
    {
     "name": "stdout",
     "output_type": "stream",
     "text": [
      "Epoch:  511/821 | avg rmse: 1.2234 | avg mse: 0.2555 | target: -0.9000 | pred: -0.3946\n"
     ]
    },
    {
     "name": "stderr",
     "output_type": "stream",
     "text": [
      "Division 4/6:  44%|█████████████████████████████████████████████████████████████▊                                                                             | 524/1178 [00:41<00:43, 15.13it/s]"
     ]
    },
    {
     "name": "stdout",
     "output_type": "stream",
     "text": [
      "Epoch:  521/821 | avg rmse: 1.2138 | avg mse: 0.2055 | target: -2.6800 | pred: -3.1333\n"
     ]
    },
    {
     "name": "stderr",
     "output_type": "stream",
     "text": [
      "Division 4/6:  45%|██████████████████████████████████████████████████████████████▉                                                                            | 533/1178 [00:42<00:49, 13.09it/s]"
     ]
    },
    {
     "name": "stdout",
     "output_type": "stream",
     "text": [
      "Epoch:  531/821 | avg rmse: 1.2028 | avg mse: 2.1334 | target: -5.6800 | pred: -4.2194\n"
     ]
    },
    {
     "name": "stderr",
     "output_type": "stream",
     "text": [
      "Division 4/6:  46%|████████████████████████████████████████████████████████████████                                                                           | 543/1178 [00:43<00:46, 13.60it/s]"
     ]
    },
    {
     "name": "stdout",
     "output_type": "stream",
     "text": [
      "Epoch:  541/821 | avg rmse: 1.2026 | avg mse: 1.0508 | target: -0.9900 | pred: -2.0151\n"
     ]
    },
    {
     "name": "stderr",
     "output_type": "stream",
     "text": [
      "Division 4/6:  47%|█████████████████████████████████████████████████████████████████▎                                                                         | 554/1178 [00:44<00:42, 14.80it/s]"
     ]
    },
    {
     "name": "stdout",
     "output_type": "stream",
     "text": [
      "Epoch:  551/821 | avg rmse: 1.2047 | avg mse: 3.2902 | target: -7.9100 | pred: -6.0961\n"
     ]
    },
    {
     "name": "stderr",
     "output_type": "stream",
     "text": [
      "Division 4/6:  48%|██████████████████████████████████████████████████████████████████▎                                                                        | 562/1178 [00:44<00:44, 13.81it/s]"
     ]
    },
    {
     "name": "stdout",
     "output_type": "stream",
     "text": [
      "Epoch:  561/821 | avg rmse: 1.2026 | avg mse: 1.1933 | target: -5.4300 | pred: -4.3376\n"
     ]
    },
    {
     "name": "stderr",
     "output_type": "stream",
     "text": [
      "Division 4/6:  49%|███████████████████████████████████████████████████████████████████▍                                                                       | 572/1178 [00:45<01:00,  9.94it/s]"
     ]
    },
    {
     "name": "stdout",
     "output_type": "stream",
     "text": [
      "Epoch:  571/821 | avg rmse: 1.1980 | avg mse: 1.9328 | target: -2.3200 | pred: -3.7103\n"
     ]
    },
    {
     "name": "stderr",
     "output_type": "stream",
     "text": [
      "Division 4/6:  49%|████████████████████████████████████████████████████████████████████▋                                                                      | 582/1178 [00:46<01:10,  8.43it/s]"
     ]
    },
    {
     "name": "stdout",
     "output_type": "stream",
     "text": [
      "Epoch:  581/821 | avg rmse: 1.1907 | avg mse: 6.1757 | target: -6.8100 | pred: -4.3249\n"
     ]
    },
    {
     "name": "stderr",
     "output_type": "stream",
     "text": [
      "Division 4/6:  50%|██████████████████████████████████████████████████████████████████████                                                                     | 594/1178 [00:47<00:50, 11.50it/s]"
     ]
    },
    {
     "name": "stdout",
     "output_type": "stream",
     "text": [
      "Epoch:  591/821 | avg rmse: 1.1865 | avg mse: 3.4630 | target: -3.1200 | pred: -4.9809\n"
     ]
    },
    {
     "name": "stderr",
     "output_type": "stream",
     "text": [
      "Division 4/6:  51%|███████████████████████████████████████████████████████████████████████                                                                    | 602/1178 [00:48<00:44, 13.01it/s]"
     ]
    },
    {
     "name": "stdout",
     "output_type": "stream",
     "text": [
      "Epoch:  601/821 | avg rmse: 1.1809 | avg mse: 0.0256 | target: -2.5100 | pred: -2.6702\n"
     ]
    },
    {
     "name": "stderr",
     "output_type": "stream",
     "text": [
      "Division 4/6:  52%|████████████████████████████████████████████████████████████████████████▏                                                                  | 612/1178 [00:49<00:44, 12.69it/s]"
     ]
    },
    {
     "name": "stdout",
     "output_type": "stream",
     "text": [
      "Epoch:  611/821 | avg rmse: 1.1729 | avg mse: 0.1510 | target: -3.8900 | pred: -3.5014\n"
     ]
    },
    {
     "name": "stderr",
     "output_type": "stream",
     "text": [
      "Division 4/6:  53%|█████████████████████████████████████████████████████████████████████████▌                                                                 | 623/1178 [00:50<00:38, 14.50it/s]"
     ]
    },
    {
     "name": "stdout",
     "output_type": "stream",
     "text": [
      "Epoch:  621/821 | avg rmse: 1.1646 | avg mse: 0.0368 | target: -1.2300 | pred: -1.0382\n"
     ]
    },
    {
     "name": "stderr",
     "output_type": "stream",
     "text": [
      "Division 4/6:  54%|██████████████████████████████████████████████████████████████████████████▌                                                                | 632/1178 [00:50<00:41, 13.20it/s]"
     ]
    },
    {
     "name": "stdout",
     "output_type": "stream",
     "text": [
      "Epoch:  631/821 | avg rmse: 1.1660 | avg mse: 0.0571 | target: -3.3600 | pred: -3.1211\n"
     ]
    },
    {
     "name": "stderr",
     "output_type": "stream",
     "text": [
      "Division 4/6:  54%|███████████████████████████████████████████████████████████████████████████▊                                                               | 642/1178 [00:51<00:36, 14.69it/s]"
     ]
    },
    {
     "name": "stdout",
     "output_type": "stream",
     "text": [
      "Epoch:  641/821 | avg rmse: 1.1618 | avg mse: 0.4222 | target: -1.1600 | pred: -1.8098\n"
     ]
    },
    {
     "name": "stderr",
     "output_type": "stream",
     "text": [
      "Division 4/6:  55%|█████████████████████████████████████████████████████████████████████████████                                                              | 653/1178 [00:52<00:38, 13.49it/s]"
     ]
    },
    {
     "name": "stdout",
     "output_type": "stream",
     "text": [
      "Epoch:  651/821 | avg rmse: 1.1520 | avg mse: 0.2199 | target: -0.4200 | pred: -0.8889\n"
     ]
    },
    {
     "name": "stderr",
     "output_type": "stream",
     "text": [
      "Division 4/6:  56%|██████████████████████████████████████████████████████████████████████████████▎                                                            | 664/1178 [00:53<00:35, 14.68it/s]"
     ]
    },
    {
     "name": "stdout",
     "output_type": "stream",
     "text": [
      "Epoch:  661/821 | avg rmse: 1.1435 | avg mse: 0.8349 | target: 1.1200 | pred: 0.2063\n"
     ]
    },
    {
     "name": "stderr",
     "output_type": "stream",
     "text": [
      "Division 4/6:  57%|███████████████████████████████████████████████████████████████████████████████▌                                                           | 674/1178 [00:53<00:33, 14.96it/s]"
     ]
    },
    {
     "name": "stdout",
     "output_type": "stream",
     "text": [
      "Epoch:  671/821 | avg rmse: 1.1379 | avg mse: 0.2592 | target: -2.7800 | pred: -3.2891\n"
     ]
    },
    {
     "name": "stderr",
     "output_type": "stream",
     "text": [
      "Division 4/6:  58%|████████████████████████████████████████████████████████████████████████████████▌                                                          | 683/1178 [00:54<00:36, 13.58it/s]"
     ]
    },
    {
     "name": "stdout",
     "output_type": "stream",
     "text": [
      "Epoch:  681/821 | avg rmse: 1.1324 | avg mse: 0.0132 | target: -3.2200 | pred: -3.3349\n"
     ]
    },
    {
     "name": "stderr",
     "output_type": "stream",
     "text": [
      "Division 4/6:  59%|█████████████████████████████████████████████████████████████████████████████████▊                                                         | 693/1178 [00:55<00:30, 15.67it/s]"
     ]
    },
    {
     "name": "stdout",
     "output_type": "stream",
     "text": [
      "Epoch:  691/821 | avg rmse: 1.1274 | avg mse: 1.2471 | target: -0.7300 | pred: -1.8467\n"
     ]
    },
    {
     "name": "stderr",
     "output_type": "stream",
     "text": [
      "Division 4/6:  60%|███████████████████████████████████████████████████████████████████████████████████                                                        | 704/1178 [00:55<00:25, 18.72it/s]"
     ]
    },
    {
     "name": "stdout",
     "output_type": "stream",
     "text": [
      "Epoch:  701/821 | avg rmse: 1.1219 | avg mse: 0.0061 | target: -3.6300 | pred: -3.5521\n"
     ]
    },
    {
     "name": "stderr",
     "output_type": "stream",
     "text": [
      "Division 4/6:  60%|███████████████████████████████████████████████████████████████████████████████████▊                                                       | 710/1178 [00:56<00:28, 16.65it/s]"
     ]
    },
    {
     "name": "stdout",
     "output_type": "stream",
     "text": [
      "Epoch:  711/821 | avg rmse: 1.1155 | avg mse: 1.1976 | target: -0.7000 | pred: -1.7943\n"
     ]
    },
    {
     "name": "stderr",
     "output_type": "stream",
     "text": [
      "Division 4/6:  61%|█████████████████████████████████████████████████████████████████████████████████████▎                                                     | 723/1178 [00:57<00:39, 11.46it/s]"
     ]
    },
    {
     "name": "stdout",
     "output_type": "stream",
     "text": [
      "Epoch:  721/821 | avg rmse: 1.1093 | avg mse: 0.0737 | target: -0.9600 | pred: -1.2315\n"
     ]
    },
    {
     "name": "stderr",
     "output_type": "stream",
     "text": [
      "Division 4/6:  62%|██████████████████████████████████████████████████████████████████████████████████████▎                                                    | 731/1178 [00:57<00:36, 12.25it/s]"
     ]
    },
    {
     "name": "stdout",
     "output_type": "stream",
     "text": [
      "Epoch:  731/821 | avg rmse: 1.1039 | avg mse: 5.7963 | target: -9.1500 | pred: -6.7424\n"
     ]
    },
    {
     "name": "stderr",
     "output_type": "stream",
     "text": [
      "Division 4/6:  63%|███████████████████████████████████████████████████████████████████████████████████████▊                                                   | 744/1178 [00:59<00:34, 12.42it/s]"
     ]
    },
    {
     "name": "stdout",
     "output_type": "stream",
     "text": [
      "Epoch:  741/821 | avg rmse: 1.1007 | avg mse: 0.6757 | target: -1.5600 | pred: -2.3820\n"
     ]
    },
    {
     "name": "stderr",
     "output_type": "stream",
     "text": [
      "Division 4/6:  64%|████████████████████████████████████████████████████████████████████████████████████████▊                                                  | 753/1178 [00:59<00:30, 13.84it/s]"
     ]
    },
    {
     "name": "stdout",
     "output_type": "stream",
     "text": [
      "Epoch:  751/821 | avg rmse: 1.0968 | avg mse: 2.5717 | target: -3.6000 | pred: -5.2037\n"
     ]
    },
    {
     "name": "stderr",
     "output_type": "stream",
     "text": [
      "Division 4/6:  65%|██████████████████████████████████████████████████████████████████████████████████████████                                                 | 763/1178 [01:00<00:28, 14.70it/s]"
     ]
    },
    {
     "name": "stdout",
     "output_type": "stream",
     "text": [
      "Epoch:  761/821 | avg rmse: 1.0912 | avg mse: 0.0338 | target: -2.4300 | pred: -2.2460\n"
     ]
    },
    {
     "name": "stderr",
     "output_type": "stream",
     "text": [
      "Division 4/6:  66%|███████████████████████████████████████████████████████████████████████████████████████████                                                | 772/1178 [01:01<00:26, 15.33it/s]"
     ]
    },
    {
     "name": "stdout",
     "output_type": "stream",
     "text": [
      "Epoch:  771/821 | avg rmse: 1.0837 | avg mse: 0.4667 | target: -0.8500 | pred: -1.5332\n"
     ]
    },
    {
     "name": "stderr",
     "output_type": "stream",
     "text": [
      "Division 4/6:  66%|████████████████████████████████████████████████████████████████████████████████████████████▏                                              | 781/1178 [01:01<00:25, 15.39it/s]"
     ]
    },
    {
     "name": "stdout",
     "output_type": "stream",
     "text": [
      "Epoch:  781/821 | avg rmse: 1.0774 | avg mse: 0.1021 | target: -2.4800 | pred: -2.7996\n"
     ]
    },
    {
     "name": "stderr",
     "output_type": "stream",
     "text": [
      "Division 4/6:  67%|█████████████████████████████████████████████████████████████████████████████████████████████▌                                             | 793/1178 [01:02<00:31, 12.32it/s]"
     ]
    },
    {
     "name": "stdout",
     "output_type": "stream",
     "text": [
      "Epoch:  791/821 | avg rmse: 1.0755 | avg mse: 0.2253 | target: -2.0900 | pred: -1.6153\n"
     ]
    },
    {
     "name": "stderr",
     "output_type": "stream",
     "text": [
      "Division 4/6:  68%|██████████████████████████████████████████████████████████████████████████████████████████████▌                                            | 801/1178 [01:03<00:38,  9.80it/s]"
     ]
    },
    {
     "name": "stdout",
     "output_type": "stream",
     "text": [
      "Epoch:  801/821 | avg rmse: 1.0716 | avg mse: 0.0412 | target: -2.3300 | pred: -2.1270\n"
     ]
    },
    {
     "name": "stderr",
     "output_type": "stream",
     "text": [
      "Division 4/6:  69%|███████████████████████████████████████████████████████████████████████████████████████████████▊                                           | 812/1178 [01:04<00:28, 12.65it/s]"
     ]
    },
    {
     "name": "stdout",
     "output_type": "stream",
     "text": [
      "Epoch:  811/821 | avg rmse: 1.0673 | avg mse: 1.0091 | target: -4.8100 | pred: -3.8054\n"
     ]
    },
    {
     "name": "stderr",
     "output_type": "stream",
     "text": [
      "Division 4/6:  70%|████████████████████████████████████████████████████████████████████████████████████████████████▉                                          | 821/1178 [01:05<00:28, 12.60it/s]\n"
     ]
    },
    {
     "name": "stdout",
     "output_type": "stream",
     "text": [
      "Epoch:  821/821 | avg rmse: 1.0654 | avg mse: 1.3967 | target: 1.1200 | pred: -0.0618\n"
     ]
    },
    {
     "name": "stderr",
     "output_type": "stream",
     "text": [
      "Division 5/6:   0%|▏                                                                                                                                            | 2/1178 [00:00<01:18, 14.91it/s]"
     ]
    },
    {
     "name": "stdout",
     "output_type": "stream",
     "text": [
      "Epoch:    1/1002 | avg rmse: 2.1295 | avg mse: 4.5347 | target: -2.3000 | pred: -0.1705\n"
     ]
    },
    {
     "name": "stderr",
     "output_type": "stream",
     "text": [
      "Division 5/6:   1%|█▍                                                                                                                                          | 12/1178 [00:01<01:45, 11.00it/s]"
     ]
    },
    {
     "name": "stdout",
     "output_type": "stream",
     "text": [
      "Epoch:   11/1002 | avg rmse: 2.3714 | avg mse: 0.1657 | target: -0.4200 | pred: -0.8271\n"
     ]
    },
    {
     "name": "stderr",
     "output_type": "stream",
     "text": [
      "Division 5/6:   2%|██▋                                                                                                                                         | 23/1178 [00:01<01:13, 15.66it/s]"
     ]
    },
    {
     "name": "stdout",
     "output_type": "stream",
     "text": [
      "Epoch:   21/1002 | avg rmse: 2.0926 | avg mse: 0.0111 | target: -1.3400 | pred: -1.2344\n"
     ]
    },
    {
     "name": "stderr",
     "output_type": "stream",
     "text": [
      "Division 5/6:   3%|███▉                                                                                                                                        | 33/1178 [00:02<01:32, 12.43it/s]"
     ]
    },
    {
     "name": "stdout",
     "output_type": "stream",
     "text": [
      "Epoch:   31/1002 | avg rmse: 1.6905 | avg mse: 4.1906 | target: 0.8400 | pred: -1.2071\n"
     ]
    },
    {
     "name": "stderr",
     "output_type": "stream",
     "text": [
      "Division 5/6:   4%|█████                                                                                                                                       | 43/1178 [00:03<01:43, 11.01it/s]"
     ]
    },
    {
     "name": "stdout",
     "output_type": "stream",
     "text": [
      "Epoch:   41/1002 | avg rmse: 1.5656 | avg mse: 5.2137 | target: 0.9600 | pred: -1.3234\n"
     ]
    },
    {
     "name": "stderr",
     "output_type": "stream",
     "text": [
      "Division 5/6:   4%|██████▎                                                                                                                                     | 53/1178 [00:04<01:54,  9.79it/s]"
     ]
    },
    {
     "name": "stdout",
     "output_type": "stream",
     "text": [
      "Epoch:   51/1002 | avg rmse: 1.6154 | avg mse: 0.1239 | target: -3.3200 | pred: -3.6719\n"
     ]
    },
    {
     "name": "stderr",
     "output_type": "stream",
     "text": [
      "Division 5/6:   5%|███████▏                                                                                                                                    | 61/1178 [00:05<01:30, 12.38it/s]"
     ]
    },
    {
     "name": "stdout",
     "output_type": "stream",
     "text": [
      "Epoch:   61/1002 | avg rmse: 1.5877 | avg mse: 2.7145 | target: 0.0000 | pred: -1.6476\n"
     ]
    },
    {
     "name": "stderr",
     "output_type": "stream",
     "text": [
      "Division 5/6:   6%|████████▌                                                                                                                                   | 72/1178 [00:06<01:17, 14.26it/s]"
     ]
    },
    {
     "name": "stdout",
     "output_type": "stream",
     "text": [
      "Epoch:   71/1002 | avg rmse: 1.4434 | avg mse: 0.3513 | target: -1.0000 | pred: -1.5927\n"
     ]
    },
    {
     "name": "stderr",
     "output_type": "stream",
     "text": [
      "Division 5/6:   7%|█████████▋                                                                                                                                  | 82/1178 [00:06<01:15, 14.43it/s]"
     ]
    },
    {
     "name": "stdout",
     "output_type": "stream",
     "text": [
      "Epoch:   81/1002 | avg rmse: 1.3979 | avg mse: 0.0439 | target: -1.2500 | pred: -1.4595\n"
     ]
    },
    {
     "name": "stderr",
     "output_type": "stream",
     "text": [
      "Division 5/6:   8%|███████████                                                                                                                                 | 93/1178 [00:07<01:09, 15.61it/s]"
     ]
    },
    {
     "name": "stdout",
     "output_type": "stream",
     "text": [
      "Epoch:   91/1002 | avg rmse: 1.4132 | avg mse: 0.2302 | target: -2.2400 | pred: -2.7198\n"
     ]
    },
    {
     "name": "stderr",
     "output_type": "stream",
     "text": [
      "Division 5/6:   9%|████████████▏                                                                                                                              | 103/1178 [00:08<01:15, 14.24it/s]"
     ]
    },
    {
     "name": "stdout",
     "output_type": "stream",
     "text": [
      "Epoch:  101/1002 | avg rmse: 1.3756 | avg mse: 0.4371 | target: -2.0900 | pred: -2.7511\n"
     ]
    },
    {
     "name": "stderr",
     "output_type": "stream",
     "text": [
      "Division 5/6:  10%|█████████████▎                                                                                                                             | 113/1178 [00:08<01:09, 15.42it/s]"
     ]
    },
    {
     "name": "stdout",
     "output_type": "stream",
     "text": [
      "Epoch:  111/1002 | avg rmse: 1.3715 | avg mse: 2.0900 | target: -0.2200 | pred: -1.6657\n"
     ]
    },
    {
     "name": "stderr",
     "output_type": "stream",
     "text": [
      "Division 5/6:  10%|██████████████▍                                                                                                                            | 122/1178 [00:09<01:37, 10.87it/s]"
     ]
    },
    {
     "name": "stdout",
     "output_type": "stream",
     "text": [
      "Epoch:  121/1002 | avg rmse: 1.3603 | avg mse: 2.5964 | target: -3.1400 | pred: -1.5287\n"
     ]
    },
    {
     "name": "stderr",
     "output_type": "stream",
     "text": [
      "Division 5/6:  11%|███████████████▌                                                                                                                           | 132/1178 [00:10<01:22, 12.65it/s]"
     ]
    },
    {
     "name": "stdout",
     "output_type": "stream",
     "text": [
      "Epoch:  131/1002 | avg rmse: 1.3366 | avg mse: 0.5439 | target: -3.8000 | pred: -3.0625\n"
     ]
    },
    {
     "name": "stderr",
     "output_type": "stream",
     "text": [
      "Division 5/6:  12%|████████████████▊                                                                                                                          | 143/1178 [00:11<01:11, 14.40it/s]"
     ]
    },
    {
     "name": "stdout",
     "output_type": "stream",
     "text": [
      "Epoch:  141/1002 | avg rmse: 1.3156 | avg mse: 0.0093 | target: -1.6000 | pred: -1.5038\n"
     ]
    },
    {
     "name": "stderr",
     "output_type": "stream",
     "text": [
      "Division 5/6:  13%|██████████████████                                                                                                                         | 153/1178 [00:12<01:12, 14.10it/s]"
     ]
    },
    {
     "name": "stdout",
     "output_type": "stream",
     "text": [
      "Epoch:  151/1002 | avg rmse: 1.3295 | avg mse: 5.2736 | target: -4.8900 | pred: -2.5936\n"
     ]
    },
    {
     "name": "stderr",
     "output_type": "stream",
     "text": [
      "Division 5/6:  14%|███████████████████▏                                                                                                                       | 163/1178 [00:13<01:21, 12.40it/s]"
     ]
    },
    {
     "name": "stdout",
     "output_type": "stream",
     "text": [
      "Epoch:  161/1002 | avg rmse: 1.3127 | avg mse: 0.0095 | target: -2.5400 | pred: -2.4424\n"
     ]
    },
    {
     "name": "stderr",
     "output_type": "stream",
     "text": [
      "Division 5/6:  15%|████████████████████▍                                                                                                                      | 173/1178 [00:13<01:15, 13.31it/s]"
     ]
    },
    {
     "name": "stdout",
     "output_type": "stream",
     "text": [
      "Epoch:  171/1002 | avg rmse: 1.3396 | avg mse: 4.0412 | target: -0.5000 | pred: -2.5103\n"
     ]
    },
    {
     "name": "stderr",
     "output_type": "stream",
     "text": [
      "Division 5/6:  15%|█████████████████████▍                                                                                                                     | 182/1178 [00:14<00:59, 16.68it/s]"
     ]
    },
    {
     "name": "stdout",
     "output_type": "stream",
     "text": [
      "Epoch:  181/1002 | avg rmse: 1.3399 | avg mse: 4.3824 | target: 0.0400 | pred: -2.0534\n"
     ]
    },
    {
     "name": "stderr",
     "output_type": "stream",
     "text": [
      "Division 5/6:  16%|██████████████████████▉                                                                                                                    | 194/1178 [00:15<01:10, 14.04it/s]"
     ]
    },
    {
     "name": "stdout",
     "output_type": "stream",
     "text": [
      "Epoch:  191/1002 | avg rmse: 1.3508 | avg mse: 0.1409 | target: -2.3700 | pred: -2.7453\n"
     ]
    },
    {
     "name": "stderr",
     "output_type": "stream",
     "text": [
      "Division 5/6:  17%|███████████████████████▊                                                                                                                   | 202/1178 [00:15<01:10, 13.90it/s]"
     ]
    },
    {
     "name": "stdout",
     "output_type": "stream",
     "text": [
      "Epoch:  201/1002 | avg rmse: 1.3398 | avg mse: 1.6707 | target: -3.5200 | pred: -2.2274\n"
     ]
    },
    {
     "name": "stderr",
     "output_type": "stream",
     "text": [
      "Division 5/6:  18%|█████████████████████████▏                                                                                                                 | 213/1178 [00:16<01:16, 12.54it/s]"
     ]
    },
    {
     "name": "stdout",
     "output_type": "stream",
     "text": [
      "Epoch:  211/1002 | avg rmse: 1.3148 | avg mse: 2.8362 | target: -3.3700 | pred: -5.0541\n"
     ]
    },
    {
     "name": "stderr",
     "output_type": "stream",
     "text": [
      "Division 5/6:  19%|██████████████████████████▎                                                                                                                | 223/1178 [00:17<01:01, 15.57it/s]"
     ]
    },
    {
     "name": "stdout",
     "output_type": "stream",
     "text": [
      "Epoch:  221/1002 | avg rmse: 1.3052 | avg mse: 0.1784 | target: -2.1700 | pred: -1.7476\n"
     ]
    },
    {
     "name": "stderr",
     "output_type": "stream",
     "text": [
      "Division 5/6:  20%|███████████████████████████▎                                                                                                               | 231/1178 [00:18<01:14, 12.67it/s]"
     ]
    },
    {
     "name": "stdout",
     "output_type": "stream",
     "text": [
      "Epoch:  231/1002 | avg rmse: 1.2978 | avg mse: 9.4198 | target: -6.2100 | pred: -3.1408\n"
     ]
    },
    {
     "name": "stderr",
     "output_type": "stream",
     "text": [
      "Division 5/6:  21%|████████████████████████████▌                                                                                                              | 242/1178 [00:19<01:19, 11.74it/s]"
     ]
    },
    {
     "name": "stdout",
     "output_type": "stream",
     "text": [
      "Epoch:  241/1002 | avg rmse: 1.2805 | avg mse: 0.4853 | target: -2.6000 | pred: -3.2966\n"
     ]
    },
    {
     "name": "stderr",
     "output_type": "stream",
     "text": [
      "Division 5/6:  21%|█████████████████████████████▋                                                                                                             | 252/1178 [00:20<01:29, 10.31it/s]"
     ]
    },
    {
     "name": "stdout",
     "output_type": "stream",
     "text": [
      "Epoch:  251/1002 | avg rmse: 1.2710 | avg mse: 0.3382 | target: -4.3500 | pred: -4.9315\n"
     ]
    },
    {
     "name": "stderr",
     "output_type": "stream",
     "text": [
      "Division 5/6:  22%|██████████████████████████████▉                                                                                                            | 262/1178 [00:21<01:36,  9.54it/s]"
     ]
    },
    {
     "name": "stdout",
     "output_type": "stream",
     "text": [
      "Epoch:  261/1002 | avg rmse: 1.2618 | avg mse: 0.9885 | target: -0.8900 | pred: -1.8843\n"
     ]
    },
    {
     "name": "stderr",
     "output_type": "stream",
     "text": [
      "Division 5/6:  23%|████████████████████████████████                                                                                                           | 272/1178 [00:22<01:26, 10.44it/s]"
     ]
    },
    {
     "name": "stdout",
     "output_type": "stream",
     "text": [
      "Epoch:  271/1002 | avg rmse: 1.2661 | avg mse: 0.1622 | target: -2.2600 | pred: -1.8573\n"
     ]
    },
    {
     "name": "stderr",
     "output_type": "stream",
     "text": [
      "Division 5/6:  24%|█████████████████████████████████▏                                                                                                         | 281/1178 [00:22<01:13, 12.13it/s]"
     ]
    },
    {
     "name": "stdout",
     "output_type": "stream",
     "text": [
      "Epoch:  281/1002 | avg rmse: 1.2482 | avg mse: 0.1062 | target: -1.9200 | pred: -2.2459\n"
     ]
    },
    {
     "name": "stderr",
     "output_type": "stream",
     "text": [
      "Division 5/6:  25%|██████████████████████████████████▌                                                                                                        | 293/1178 [00:23<01:21, 10.91it/s]"
     ]
    },
    {
     "name": "stdout",
     "output_type": "stream",
     "text": [
      "Epoch:  291/1002 | avg rmse: 1.2293 | avg mse: 0.3202 | target: -1.6100 | pred: -2.1759\n"
     ]
    },
    {
     "name": "stderr",
     "output_type": "stream",
     "text": [
      "Division 5/6:  26%|███████████████████████████████████▊                                                                                                       | 303/1178 [00:24<01:13, 11.96it/s]"
     ]
    },
    {
     "name": "stdout",
     "output_type": "stream",
     "text": [
      "Epoch:  301/1002 | avg rmse: 1.2411 | avg mse: 2.6774 | target: -1.7600 | pred: -3.3963\n"
     ]
    },
    {
     "name": "stderr",
     "output_type": "stream",
     "text": [
      "Division 5/6:  27%|████████████████████████████████████▉                                                                                                      | 313/1178 [00:25<01:04, 13.33it/s]"
     ]
    },
    {
     "name": "stdout",
     "output_type": "stream",
     "text": [
      "Epoch:  311/1002 | avg rmse: 1.2488 | avg mse: 1.1441 | target: -0.6600 | pred: -1.7296\n"
     ]
    },
    {
     "name": "stderr",
     "output_type": "stream",
     "text": [
      "Division 5/6:  27%|██████████████████████████████████████                                                                                                     | 323/1178 [00:26<00:59, 14.39it/s]"
     ]
    },
    {
     "name": "stdout",
     "output_type": "stream",
     "text": [
      "Epoch:  321/1002 | avg rmse: 1.2427 | avg mse: 0.5996 | target: -3.2200 | pred: -2.4457\n"
     ]
    },
    {
     "name": "stderr",
     "output_type": "stream",
     "text": [
      "Division 5/6:  28%|███████████████████████████████████████▎                                                                                                   | 333/1178 [00:27<01:01, 13.64it/s]"
     ]
    },
    {
     "name": "stdout",
     "output_type": "stream",
     "text": [
      "Epoch:  331/1002 | avg rmse: 1.2588 | avg mse: 10.2291 | target: 0.7900 | pred: -2.4083\n"
     ]
    },
    {
     "name": "stderr",
     "output_type": "stream",
     "text": [
      "Division 5/6:  29%|████████████████████████████████████████▏                                                                                                  | 341/1178 [00:27<01:28,  9.45it/s]"
     ]
    },
    {
     "name": "stdout",
     "output_type": "stream",
     "text": [
      "Epoch:  341/1002 | avg rmse: 1.2534 | avg mse: 0.9211 | target: -2.0600 | pred: -3.0197\n"
     ]
    },
    {
     "name": "stderr",
     "output_type": "stream",
     "text": [
      "Division 5/6:  30%|█████████████████████████████████████████▋                                                                                                 | 353/1178 [00:28<01:05, 12.61it/s]"
     ]
    },
    {
     "name": "stdout",
     "output_type": "stream",
     "text": [
      "Epoch:  351/1002 | avg rmse: 1.2300 | avg mse: 0.0509 | target: -1.7700 | pred: -1.9955\n"
     ]
    },
    {
     "name": "stderr",
     "output_type": "stream",
     "text": [
      "Division 5/6:  31%|██████████████████████████████████████████▊                                                                                                | 363/1178 [00:29<01:00, 13.50it/s]"
     ]
    },
    {
     "name": "stdout",
     "output_type": "stream",
     "text": [
      "Epoch:  361/1002 | avg rmse: 1.2337 | avg mse: 2.7387 | target: -6.2600 | pred: -4.6051\n"
     ]
    },
    {
     "name": "stderr",
     "output_type": "stream",
     "text": [
      "Division 5/6:  32%|███████████████████████████████████████████▉                                                                                               | 372/1178 [00:30<01:02, 12.87it/s]"
     ]
    },
    {
     "name": "stdout",
     "output_type": "stream",
     "text": [
      "Epoch:  371/1002 | avg rmse: 1.2342 | avg mse: 7.1307 | target: 1.0700 | pred: -1.6003\n"
     ]
    },
    {
     "name": "stderr",
     "output_type": "stream",
     "text": [
      "Division 5/6:  32%|█████████████████████████████████████████████                                                                                              | 382/1178 [00:31<00:59, 13.28it/s]"
     ]
    },
    {
     "name": "stdout",
     "output_type": "stream",
     "text": [
      "Epoch:  381/1002 | avg rmse: 1.2241 | avg mse: 0.4098 | target: -4.3800 | pred: -5.0202\n"
     ]
    },
    {
     "name": "stderr",
     "output_type": "stream",
     "text": [
      "Division 5/6:  33%|██████████████████████████████████████████████▎                                                                                            | 392/1178 [00:32<01:15, 10.44it/s]"
     ]
    },
    {
     "name": "stdout",
     "output_type": "stream",
     "text": [
      "Epoch:  391/1002 | avg rmse: 1.2187 | avg mse: 3.0522 | target: -5.0300 | pred: -3.2829\n"
     ]
    },
    {
     "name": "stderr",
     "output_type": "stream",
     "text": [
      "Division 5/6:  34%|███████████████████████████████████████████████▍                                                                                           | 402/1178 [00:32<01:00, 12.83it/s]"
     ]
    },
    {
     "name": "stdout",
     "output_type": "stream",
     "text": [
      "Epoch:  401/1002 | avg rmse: 1.2128 | avg mse: 0.2026 | target: -3.9600 | pred: -3.5099\n"
     ]
    },
    {
     "name": "stderr",
     "output_type": "stream",
     "text": [
      "Division 5/6:  35%|████████████████████████████████████████████████▋                                                                                          | 413/1178 [00:33<00:51, 14.91it/s]"
     ]
    },
    {
     "name": "stdout",
     "output_type": "stream",
     "text": [
      "Epoch:  411/1002 | avg rmse: 1.1964 | avg mse: 0.0076 | target: -3.0700 | pred: -3.1571\n"
     ]
    },
    {
     "name": "stderr",
     "output_type": "stream",
     "text": [
      "Division 5/6:  36%|█████████████████████████████████████████████████▊                                                                                         | 422/1178 [00:34<00:58, 13.02it/s]"
     ]
    },
    {
     "name": "stdout",
     "output_type": "stream",
     "text": [
      "Epoch:  421/1002 | avg rmse: 1.1838 | avg mse: 3.1620 | target: -0.5400 | pred: -2.3182\n"
     ]
    },
    {
     "name": "stderr",
     "output_type": "stream",
     "text": [
      "Division 5/6:  37%|███████████████████████████████████████████████████                                                                                        | 433/1178 [00:35<01:01, 12.06it/s]"
     ]
    },
    {
     "name": "stdout",
     "output_type": "stream",
     "text": [
      "Epoch:  431/1002 | avg rmse: 1.1801 | avg mse: 2.5366 | target: -1.3500 | pred: -2.9427\n"
     ]
    },
    {
     "name": "stderr",
     "output_type": "stream",
     "text": [
      "Division 5/6:  38%|████████████████████████████████████████████████████▏                                                                                      | 442/1178 [00:36<01:01, 12.04it/s]"
     ]
    },
    {
     "name": "stdout",
     "output_type": "stream",
     "text": [
      "Epoch:  441/1002 | avg rmse: 1.1729 | avg mse: 0.0495 | target: -3.6600 | pred: -3.8825\n"
     ]
    },
    {
     "name": "stderr",
     "output_type": "stream",
     "text": [
      "Division 5/6:  38%|█████████████████████████████████████████████████████▎                                                                                     | 452/1178 [00:36<01:07, 10.77it/s]"
     ]
    },
    {
     "name": "stdout",
     "output_type": "stream",
     "text": [
      "Epoch:  451/1002 | avg rmse: 1.1701 | avg mse: 0.6772 | target: -4.0700 | pred: -3.2471\n"
     ]
    },
    {
     "name": "stderr",
     "output_type": "stream",
     "text": [
      "Division 5/6:  39%|██████████████████████████████████████████████████████▌                                                                                    | 462/1178 [00:37<01:01, 11.56it/s]"
     ]
    },
    {
     "name": "stdout",
     "output_type": "stream",
     "text": [
      "Epoch:  461/1002 | avg rmse: 1.1579 | avg mse: 0.0769 | target: -1.8200 | pred: -1.5426\n"
     ]
    },
    {
     "name": "stderr",
     "output_type": "stream",
     "text": [
      "Division 5/6:  40%|███████████████████████████████████████████████████████▋                                                                                   | 472/1178 [00:38<01:03, 11.04it/s]"
     ]
    },
    {
     "name": "stdout",
     "output_type": "stream",
     "text": [
      "Epoch:  471/1002 | avg rmse: 1.1496 | avg mse: 0.2028 | target: -1.9100 | pred: -2.3604\n"
     ]
    },
    {
     "name": "stderr",
     "output_type": "stream",
     "text": [
      "Division 5/6:  41%|████████████████████████████████████████████████████████▉                                                                                  | 483/1178 [00:39<00:52, 13.34it/s]"
     ]
    },
    {
     "name": "stdout",
     "output_type": "stream",
     "text": [
      "Epoch:  481/1002 | avg rmse: 1.1463 | avg mse: 2.5620 | target: -0.4200 | pred: -2.0206\n"
     ]
    },
    {
     "name": "stderr",
     "output_type": "stream",
     "text": [
      "Division 5/6:  42%|█████████████████████████████████████████████████████████▉                                                                                 | 491/1178 [00:40<00:53, 12.77it/s]"
     ]
    },
    {
     "name": "stdout",
     "output_type": "stream",
     "text": [
      "Epoch:  491/1002 | avg rmse: 1.1440 | avg mse: 3.5101 | target: -6.8900 | pred: -5.0165\n"
     ]
    },
    {
     "name": "stderr",
     "output_type": "stream",
     "text": [
      "Division 5/6:  43%|███████████████████████████████████████████████████████████▏                                                                               | 502/1178 [00:41<00:54, 12.30it/s]"
     ]
    },
    {
     "name": "stdout",
     "output_type": "stream",
     "text": [
      "Epoch:  501/1002 | avg rmse: 1.1379 | avg mse: 0.2412 | target: -4.5700 | pred: -4.0789\n"
     ]
    },
    {
     "name": "stderr",
     "output_type": "stream",
     "text": [
      "Division 5/6:  43%|████████████████████████████████████████████████████████████▍                                                                              | 512/1178 [00:42<00:56, 11.82it/s]"
     ]
    },
    {
     "name": "stdout",
     "output_type": "stream",
     "text": [
      "Epoch:  511/1002 | avg rmse: 1.1274 | avg mse: 0.4626 | target: -0.9000 | pred: -0.2198\n"
     ]
    },
    {
     "name": "stderr",
     "output_type": "stream",
     "text": [
      "Division 5/6:  44%|█████████████████████████████████████████████████████████████▊                                                                             | 524/1178 [00:42<00:43, 14.90it/s]"
     ]
    },
    {
     "name": "stdout",
     "output_type": "stream",
     "text": [
      "Epoch:  521/1002 | avg rmse: 1.1183 | avg mse: 0.2340 | target: -2.6800 | pred: -3.1638\n"
     ]
    },
    {
     "name": "stderr",
     "output_type": "stream",
     "text": [
      "Division 5/6:  45%|██████████████████████████████████████████████████████████████▉                                                                            | 533/1178 [00:43<00:50, 12.87it/s]"
     ]
    },
    {
     "name": "stdout",
     "output_type": "stream",
     "text": [
      "Epoch:  531/1002 | avg rmse: 1.1079 | avg mse: 1.6616 | target: -5.6800 | pred: -4.3910\n"
     ]
    },
    {
     "name": "stderr",
     "output_type": "stream",
     "text": [
      "Division 5/6:  46%|████████████████████████████████████████████████████████████████                                                                           | 543/1178 [00:44<00:47, 13.38it/s]"
     ]
    },
    {
     "name": "stdout",
     "output_type": "stream",
     "text": [
      "Epoch:  541/1002 | avg rmse: 1.1084 | avg mse: 0.9390 | target: -0.9900 | pred: -1.9590\n"
     ]
    },
    {
     "name": "stderr",
     "output_type": "stream",
     "text": [
      "Division 5/6:  47%|█████████████████████████████████████████████████████████████████▎                                                                         | 554/1178 [00:45<00:42, 14.52it/s]"
     ]
    },
    {
     "name": "stdout",
     "output_type": "stream",
     "text": [
      "Epoch:  551/1002 | avg rmse: 1.1111 | avg mse: 2.2264 | target: -7.9100 | pred: -6.4179\n"
     ]
    },
    {
     "name": "stderr",
     "output_type": "stream",
     "text": [
      "Division 5/6:  48%|██████████████████████████████████████████████████████████████████▎                                                                        | 562/1178 [00:45<00:45, 13.62it/s]"
     ]
    },
    {
     "name": "stdout",
     "output_type": "stream",
     "text": [
      "Epoch:  561/1002 | avg rmse: 1.1095 | avg mse: 1.0278 | target: -5.4300 | pred: -4.4162\n"
     ]
    },
    {
     "name": "stderr",
     "output_type": "stream",
     "text": [
      "Division 5/6:  49%|███████████████████████████████████████████████████████████████████▍                                                                       | 572/1178 [00:46<01:01,  9.91it/s]"
     ]
    },
    {
     "name": "stdout",
     "output_type": "stream",
     "text": [
      "Epoch:  571/1002 | avg rmse: 1.1065 | avg mse: 2.2325 | target: -2.3200 | pred: -3.8142\n"
     ]
    },
    {
     "name": "stderr",
     "output_type": "stream",
     "text": [
      "Division 5/6:  49%|████████████████████████████████████████████████████████████████████▋                                                                      | 582/1178 [00:47<01:10,  8.44it/s]"
     ]
    },
    {
     "name": "stdout",
     "output_type": "stream",
     "text": [
      "Epoch:  581/1002 | avg rmse: 1.0996 | avg mse: 4.8223 | target: -6.8100 | pred: -4.6140\n"
     ]
    },
    {
     "name": "stderr",
     "output_type": "stream",
     "text": [
      "Division 5/6:  50%|██████████████████████████████████████████████████████████████████████                                                                     | 594/1178 [00:48<00:51, 11.35it/s]"
     ]
    },
    {
     "name": "stdout",
     "output_type": "stream",
     "text": [
      "Epoch:  591/1002 | avg rmse: 1.0976 | avg mse: 4.3198 | target: -3.1200 | pred: -5.1984\n"
     ]
    },
    {
     "name": "stderr",
     "output_type": "stream",
     "text": [
      "Division 5/6:  51%|███████████████████████████████████████████████████████████████████████                                                                    | 602/1178 [00:49<00:44, 12.84it/s]"
     ]
    },
    {
     "name": "stdout",
     "output_type": "stream",
     "text": [
      "Epoch:  601/1002 | avg rmse: 1.0937 | avg mse: 0.0149 | target: -2.5100 | pred: -2.6321\n"
     ]
    },
    {
     "name": "stderr",
     "output_type": "stream",
     "text": [
      "Division 5/6:  52%|████████████████████████████████████████████████████████████████████████▏                                                                  | 612/1178 [00:50<00:46, 12.27it/s]"
     ]
    },
    {
     "name": "stdout",
     "output_type": "stream",
     "text": [
      "Epoch:  611/1002 | avg rmse: 1.0877 | avg mse: 0.1561 | target: -3.8900 | pred: -3.4949\n"
     ]
    },
    {
     "name": "stderr",
     "output_type": "stream",
     "text": [
      "Division 5/6:  53%|█████████████████████████████████████████████████████████████████████████▌                                                                 | 623/1178 [00:51<00:39, 14.03it/s]"
     ]
    },
    {
     "name": "stdout",
     "output_type": "stream",
     "text": [
      "Epoch:  621/1002 | avg rmse: 1.0806 | avg mse: 0.0344 | target: -1.2300 | pred: -1.0444\n"
     ]
    },
    {
     "name": "stderr",
     "output_type": "stream",
     "text": [
      "Division 5/6:  54%|██████████████████████████████████████████████████████████████████████████▋                                                                | 633/1178 [00:51<00:40, 13.32it/s]"
     ]
    },
    {
     "name": "stdout",
     "output_type": "stream",
     "text": [
      "Epoch:  631/1002 | avg rmse: 1.0814 | avg mse: 0.0000 | target: -3.3600 | pred: -3.3593\n"
     ]
    },
    {
     "name": "stderr",
     "output_type": "stream",
     "text": [
      "Division 5/6:  54%|███████████████████████████████████████████████████████████████████████████▊                                                               | 642/1178 [00:52<00:36, 14.56it/s]"
     ]
    },
    {
     "name": "stdout",
     "output_type": "stream",
     "text": [
      "Epoch:  641/1002 | avg rmse: 1.0776 | avg mse: 0.2140 | target: -1.1600 | pred: -1.6226\n"
     ]
    },
    {
     "name": "stderr",
     "output_type": "stream",
     "text": [
      "Division 5/6:  55%|█████████████████████████████████████████████████████████████████████████████                                                              | 653/1178 [00:53<00:38, 13.47it/s]"
     ]
    },
    {
     "name": "stdout",
     "output_type": "stream",
     "text": [
      "Epoch:  651/1002 | avg rmse: 1.0689 | avg mse: 0.1381 | target: -0.4200 | pred: -0.7916\n"
     ]
    },
    {
     "name": "stderr",
     "output_type": "stream",
     "text": [
      "Division 5/6:  56%|██████████████████████████████████████████████████████████████████████████████▎                                                            | 664/1178 [00:54<00:35, 14.56it/s]"
     ]
    },
    {
     "name": "stdout",
     "output_type": "stream",
     "text": [
      "Epoch:  661/1002 | avg rmse: 1.0612 | avg mse: 0.6896 | target: 1.1200 | pred: 0.2896\n"
     ]
    },
    {
     "name": "stderr",
     "output_type": "stream",
     "text": [
      "Division 5/6:  57%|███████████████████████████████████████████████████████████████████████████████▌                                                           | 674/1178 [00:54<00:34, 14.82it/s]"
     ]
    },
    {
     "name": "stdout",
     "output_type": "stream",
     "text": [
      "Epoch:  671/1002 | avg rmse: 1.0568 | avg mse: 0.3808 | target: -2.7800 | pred: -3.3971\n"
     ]
    },
    {
     "name": "stderr",
     "output_type": "stream",
     "text": [
      "Division 5/6:  58%|████████████████████████████████████████████████████████████████████████████████▌                                                          | 683/1178 [00:55<00:36, 13.62it/s]"
     ]
    },
    {
     "name": "stdout",
     "output_type": "stream",
     "text": [
      "Epoch:  681/1002 | avg rmse: 1.0533 | avg mse: 0.0721 | target: -3.2200 | pred: -3.4884\n"
     ]
    },
    {
     "name": "stderr",
     "output_type": "stream",
     "text": [
      "Division 5/6:  59%|█████████████████████████████████████████████████████████████████████████████████▊                                                         | 693/1178 [00:56<00:31, 15.25it/s]"
     ]
    },
    {
     "name": "stdout",
     "output_type": "stream",
     "text": [
      "Epoch:  691/1002 | avg rmse: 1.0484 | avg mse: 0.8893 | target: -0.7300 | pred: -1.6730\n"
     ]
    },
    {
     "name": "stderr",
     "output_type": "stream",
     "text": [
      "Division 5/6:  60%|███████████████████████████████████████████████████████████████████████████████████                                                        | 704/1178 [00:56<00:26, 18.11it/s]"
     ]
    },
    {
     "name": "stdout",
     "output_type": "stream",
     "text": [
      "Epoch:  701/1002 | avg rmse: 1.0440 | avg mse: 0.0029 | target: -3.6300 | pred: -3.5762\n"
     ]
    },
    {
     "name": "stderr",
     "output_type": "stream",
     "text": [
      "Division 5/6:  60%|████████████████████████████████████████████████████████████████████████████████████                                                       | 712/1178 [00:57<00:28, 16.64it/s]"
     ]
    },
    {
     "name": "stdout",
     "output_type": "stream",
     "text": [
      "Epoch:  711/1002 | avg rmse: 1.0378 | avg mse: 0.8587 | target: -0.7000 | pred: -1.6267\n"
     ]
    },
    {
     "name": "stderr",
     "output_type": "stream",
     "text": [
      "Division 5/6:  61%|█████████████████████████████████████████████████████████████████████████████████████▏                                                     | 722/1178 [00:58<00:41, 10.96it/s]"
     ]
    },
    {
     "name": "stdout",
     "output_type": "stream",
     "text": [
      "Epoch:  721/1002 | avg rmse: 1.0317 | avg mse: 0.0355 | target: -0.9600 | pred: -1.1483\n"
     ]
    },
    {
     "name": "stderr",
     "output_type": "stream",
     "text": [
      "Division 5/6:  62%|██████████████████████████████████████████████████████████████████████████████████████▎                                                    | 732/1178 [00:59<00:38, 11.48it/s]"
     ]
    },
    {
     "name": "stdout",
     "output_type": "stream",
     "text": [
      "Epoch:  731/1002 | avg rmse: 1.0266 | avg mse: 5.1400 | target: -9.1500 | pred: -6.8828\n"
     ]
    },
    {
     "name": "stderr",
     "output_type": "stream",
     "text": [
      "Division 5/6:  63%|███████████████████████████████████████████████████████████████████████████████████████▌                                                   | 742/1178 [01:00<00:38, 11.47it/s]"
     ]
    },
    {
     "name": "stdout",
     "output_type": "stream",
     "text": [
      "Epoch:  741/1002 | avg rmse: 1.0233 | avg mse: 0.5956 | target: -1.5600 | pred: -2.3317\n"
     ]
    },
    {
     "name": "stderr",
     "output_type": "stream",
     "text": [
      "Division 5/6:  64%|████████████████████████████████████████████████████████████████████████████████████████▊                                                  | 753/1178 [01:01<00:31, 13.42it/s]"
     ]
    },
    {
     "name": "stdout",
     "output_type": "stream",
     "text": [
      "Epoch:  751/1002 | avg rmse: 1.0203 | avg mse: 2.4310 | target: -3.6000 | pred: -5.1592\n"
     ]
    },
    {
     "name": "stderr",
     "output_type": "stream",
     "text": [
      "Division 5/6:  65%|██████████████████████████████████████████████████████████████████████████████████████████                                                 | 763/1178 [01:01<00:28, 14.36it/s]"
     ]
    },
    {
     "name": "stdout",
     "output_type": "stream",
     "text": [
      "Epoch:  761/1002 | avg rmse: 1.0155 | avg mse: 0.0745 | target: -2.4300 | pred: -2.1570\n"
     ]
    },
    {
     "name": "stderr",
     "output_type": "stream",
     "text": [
      "Division 5/6:  66%|███████████████████████████████████████████████████████████████████████████████████████████                                                | 772/1178 [01:02<00:26, 15.15it/s]"
     ]
    },
    {
     "name": "stdout",
     "output_type": "stream",
     "text": [
      "Epoch:  771/1002 | avg rmse: 1.0091 | avg mse: 0.8371 | target: -0.8500 | pred: -1.7649\n"
     ]
    },
    {
     "name": "stderr",
     "output_type": "stream",
     "text": [
      "Division 5/6:  66%|████████████████████████████████████████████████████████████████████████████████████████████▏                                              | 781/1178 [01:03<00:25, 15.47it/s]"
     ]
    },
    {
     "name": "stdout",
     "output_type": "stream",
     "text": [
      "Epoch:  781/1002 | avg rmse: 1.0035 | avg mse: 0.0535 | target: -2.4800 | pred: -2.7113\n"
     ]
    },
    {
     "name": "stderr",
     "output_type": "stream",
     "text": [
      "Division 5/6:  67%|█████████████████████████████████████████████████████████████████████████████████████████████▌                                             | 793/1178 [01:04<00:31, 12.41it/s]"
     ]
    },
    {
     "name": "stdout",
     "output_type": "stream",
     "text": [
      "Epoch:  791/1002 | avg rmse: 1.0022 | avg mse: 0.2539 | target: -2.0900 | pred: -1.5861\n"
     ]
    },
    {
     "name": "stderr",
     "output_type": "stream",
     "text": [
      "Division 5/6:  68%|██████████████████████████████████████████████████████████████████████████████████████████████▌                                            | 801/1178 [01:04<00:38,  9.84it/s]"
     ]
    },
    {
     "name": "stdout",
     "output_type": "stream",
     "text": [
      "Epoch:  801/1002 | avg rmse: 0.9994 | avg mse: 0.0594 | target: -2.3300 | pred: -2.0862\n"
     ]
    },
    {
     "name": "stderr",
     "output_type": "stream",
     "text": [
      "Division 5/6:  69%|███████████████████████████████████████████████████████████████████████████████████████████████▊                                           | 812/1178 [01:05<00:29, 12.50it/s]"
     ]
    },
    {
     "name": "stdout",
     "output_type": "stream",
     "text": [
      "Epoch:  811/1002 | avg rmse: 0.9954 | avg mse: 0.8198 | target: -4.8100 | pred: -3.9046\n"
     ]
    },
    {
     "name": "stderr",
     "output_type": "stream",
     "text": [
      "Division 5/6:  70%|█████████████████████████████████████████████████████████████████████████████████████████████████                                          | 823/1178 [01:06<00:26, 13.31it/s]"
     ]
    },
    {
     "name": "stdout",
     "output_type": "stream",
     "text": [
      "Epoch:  821/1002 | avg rmse: 0.9934 | avg mse: 1.5634 | target: 1.1200 | pred: -0.1304\n"
     ]
    },
    {
     "name": "stderr",
     "output_type": "stream",
     "text": [
      "Division 5/6:  71%|██████████████████████████████████████████████████████████████████████████████████████████████████▍                                        | 834/1178 [01:07<00:21, 16.06it/s]"
     ]
    },
    {
     "name": "stdout",
     "output_type": "stream",
     "text": [
      "Epoch:  831/1002 | avg rmse: 0.9920 | avg mse: 0.5979 | target: -0.7400 | pred: -1.5133\n"
     ]
    },
    {
     "name": "stderr",
     "output_type": "stream",
     "text": [
      "Division 5/6:  71%|███████████████████████████████████████████████████████████████████████████████████████████████████▏                                       | 841/1178 [01:07<00:21, 15.45it/s]"
     ]
    },
    {
     "name": "stdout",
     "output_type": "stream",
     "text": [
      "Epoch:  841/1002 | avg rmse: 0.9882 | avg mse: 1.0596 | target: -4.6400 | pred: -3.6106\n"
     ]
    },
    {
     "name": "stderr",
     "output_type": "stream",
     "text": [
      "Division 5/6:  72%|████████████████████████████████████████████████████████████████████████████████████████████████████▍                                      | 851/1178 [01:08<00:27, 11.90it/s]"
     ]
    },
    {
     "name": "stdout",
     "output_type": "stream",
     "text": [
      "Epoch:  851/1002 | avg rmse: 0.9874 | avg mse: 0.5465 | target: -4.1000 | pred: -3.3608\n"
     ]
    },
    {
     "name": "stderr",
     "output_type": "stream",
     "text": [
      "Division 5/6:  73%|█████████████████████████████████████████████████████████████████████████████████████████████████████▊                                     | 863/1178 [01:09<00:30, 10.21it/s]"
     ]
    },
    {
     "name": "stdout",
     "output_type": "stream",
     "text": [
      "Epoch:  861/1002 | avg rmse: 0.9931 | avg mse: 0.8149 | target: -1.1300 | pred: -2.0327\n"
     ]
    },
    {
     "name": "stderr",
     "output_type": "stream",
     "text": [
      "Division 5/6:  74%|██████████████████████████████████████████████████████████████████████████████████████████████████████▉                                    | 872/1178 [01:10<00:24, 12.44it/s]"
     ]
    },
    {
     "name": "stdout",
     "output_type": "stream",
     "text": [
      "Epoch:  871/1002 | avg rmse: 0.9914 | avg mse: 0.6431 | target: -2.0900 | pred: -2.8920\n"
     ]
    },
    {
     "name": "stderr",
     "output_type": "stream",
     "text": [
      "Division 5/6:  75%|████████████████████████████████████████████████████████████████████████████████████████████████████████▎                                  | 884/1178 [01:11<00:20, 14.31it/s]"
     ]
    },
    {
     "name": "stdout",
     "output_type": "stream",
     "text": [
      "Epoch:  881/1002 | avg rmse: 0.9897 | avg mse: 1.9843 | target: -2.1500 | pred: -0.7414\n"
     ]
    },
    {
     "name": "stderr",
     "output_type": "stream",
     "text": [
      "Division 5/6:  76%|█████████████████████████████████████████████████████████████████████████████████████████████████████████▎                                 | 892/1178 [01:12<00:25, 11.15it/s]"
     ]
    },
    {
     "name": "stdout",
     "output_type": "stream",
     "text": [
      "Epoch:  891/1002 | avg rmse: 0.9895 | avg mse: 4.6768 | target: -8.9400 | pred: -6.7774\n"
     ]
    },
    {
     "name": "stderr",
     "output_type": "stream",
     "text": [
      "Division 5/6:  77%|██████████████████████████████████████████████████████████████████████████████████████████████████████████▍                                | 902/1178 [01:13<00:24, 11.20it/s]"
     ]
    },
    {
     "name": "stdout",
     "output_type": "stream",
     "text": [
      "Epoch:  901/1002 | avg rmse: 0.9879 | avg mse: 0.0936 | target: -1.6400 | pred: -1.9460\n"
     ]
    },
    {
     "name": "stderr",
     "output_type": "stream",
     "text": [
      "Division 5/6:  77%|███████████████████████████████████████████████████████████████████████████████████████████████████████████▌                               | 912/1178 [01:13<00:18, 14.43it/s]"
     ]
    },
    {
     "name": "stdout",
     "output_type": "stream",
     "text": [
      "Epoch:  911/1002 | avg rmse: 0.9814 | avg mse: 0.0002 | target: -4.2800 | pred: -4.2931\n"
     ]
    },
    {
     "name": "stderr",
     "output_type": "stream",
     "text": [
      "Division 5/6:  78%|████████████████████████████████████████████████████████████████████████████████████████████████████████████▉                              | 923/1178 [01:14<00:17, 14.40it/s]"
     ]
    },
    {
     "name": "stdout",
     "output_type": "stream",
     "text": [
      "Epoch:  921/1002 | avg rmse: 0.9776 | avg mse: 0.0318 | target: -3.2100 | pred: -3.3884\n"
     ]
    },
    {
     "name": "stderr",
     "output_type": "stream",
     "text": [
      "Division 5/6:  79%|██████████████████████████████████████████████████████████████████████████████████████████████████████████████                             | 933/1178 [01:15<00:18, 13.23it/s]"
     ]
    },
    {
     "name": "stdout",
     "output_type": "stream",
     "text": [
      "Epoch:  931/1002 | avg rmse: 0.9734 | avg mse: 0.0075 | target: -3.5100 | pred: -3.5965\n"
     ]
    },
    {
     "name": "stderr",
     "output_type": "stream",
     "text": [
      "Division 5/6:  80%|███████████████████████████████████████████████████████████████████████████████████████████████████████████████▍                           | 944/1178 [01:16<00:18, 12.98it/s]"
     ]
    },
    {
     "name": "stdout",
     "output_type": "stream",
     "text": [
      "Epoch:  941/1002 | avg rmse: 0.9714 | avg mse: 0.2381 | target: -2.0600 | pred: -2.5480\n"
     ]
    },
    {
     "name": "stderr",
     "output_type": "stream",
     "text": [
      "Division 5/6:  81%|████████████████████████████████████████████████████████████████████████████████████████████████████████████████▎                          | 952/1178 [01:16<00:16, 13.52it/s]"
     ]
    },
    {
     "name": "stdout",
     "output_type": "stream",
     "text": [
      "Epoch:  951/1002 | avg rmse: 0.9698 | avg mse: 0.0032 | target: -2.1600 | pred: -2.1034\n"
     ]
    },
    {
     "name": "stderr",
     "output_type": "stream",
     "text": [
      "Division 5/6:  82%|█████████████████████████████████████████████████████████████████████████████████████████████████████████████████▌                         | 962/1178 [01:17<00:22,  9.66it/s]"
     ]
    },
    {
     "name": "stdout",
     "output_type": "stream",
     "text": [
      "Epoch:  961/1002 | avg rmse: 0.9653 | avg mse: 0.1384 | target: -4.0000 | pred: -3.6280\n"
     ]
    },
    {
     "name": "stderr",
     "output_type": "stream",
     "text": [
      "Division 5/6:  83%|██████████████████████████████████████████████████████████████████████████████████████████████████████████████████▊                        | 973/1178 [01:18<00:15, 13.57it/s]"
     ]
    },
    {
     "name": "stdout",
     "output_type": "stream",
     "text": [
      "Epoch:  971/1002 | avg rmse: 0.9635 | avg mse: 0.7606 | target: -2.7200 | pred: -1.8479\n"
     ]
    },
    {
     "name": "stderr",
     "output_type": "stream",
     "text": [
      "Division 5/6:  84%|████████████████████████████████████████████████████████████████████████████████████████████████████████████████████▏                      | 985/1178 [01:19<00:10, 18.64it/s]"
     ]
    },
    {
     "name": "stdout",
     "output_type": "stream",
     "text": [
      "Epoch:  981/1002 | avg rmse: 0.9586 | avg mse: 0.0104 | target: -0.3000 | pred: -0.4019\n"
     ]
    },
    {
     "name": "stderr",
     "output_type": "stream",
     "text": [
      "Division 5/6:  84%|█████████████████████████████████████████████████████████████████████████████████████████████████████████████████████▎                     | 994/1178 [01:20<00:13, 13.85it/s]"
     ]
    },
    {
     "name": "stdout",
     "output_type": "stream",
     "text": [
      "Epoch:  991/1002 | avg rmse: 0.9566 | avg mse: 0.0145 | target: -3.6900 | pred: -3.5697\n"
     ]
    },
    {
     "name": "stderr",
     "output_type": "stream",
     "text": [
      "Division 5/6:  85%|█████████████████████████████████████████████████████████████████████████████████████████████████████████████████████▍                    | 1002/1178 [01:20<00:14, 12.39it/s]\n"
     ]
    },
    {
     "name": "stdout",
     "output_type": "stream",
     "text": [
      "Epoch: 1001/1002 | avg rmse: 0.9533 | avg mse: 0.1276 | target: -3.3900 | pred: -3.0328\n"
     ]
    },
    {
     "name": "stderr",
     "output_type": "stream",
     "text": [
      "Division 6/6:   0%|                                                                                                                                                     | 0/1178 [00:00<?, ?it/s]"
     ]
    },
    {
     "name": "stdout",
     "output_type": "stream",
     "text": [
      "Epoch:    1/1183 | avg rmse: 2.3358 | avg mse: 5.4561 | target: -2.3000 | pred: 0.0358\n"
     ]
    },
    {
     "name": "stderr",
     "output_type": "stream",
     "text": [
      "Division 6/6:   1%|█▍                                                                                                                                          | 12/1178 [00:01<01:47, 10.82it/s]"
     ]
    },
    {
     "name": "stdout",
     "output_type": "stream",
     "text": [
      "Epoch:   11/1183 | avg rmse: 2.6009 | avg mse: 0.0121 | target: -0.4200 | pred: -0.5301\n"
     ]
    },
    {
     "name": "stderr",
     "output_type": "stream",
     "text": [
      "Division 6/6:   2%|██▋                                                                                                                                         | 23/1178 [00:01<01:14, 15.58it/s]"
     ]
    },
    {
     "name": "stdout",
     "output_type": "stream",
     "text": [
      "Epoch:   21/1183 | avg rmse: 2.2634 | avg mse: 0.0329 | target: -1.3400 | pred: -1.1587\n"
     ]
    },
    {
     "name": "stderr",
     "output_type": "stream",
     "text": [
      "Division 6/6:   3%|███▉                                                                                                                                        | 33/1178 [00:02<01:32, 12.33it/s]"
     ]
    },
    {
     "name": "stdout",
     "output_type": "stream",
     "text": [
      "Epoch:   31/1183 | avg rmse: 1.8007 | avg mse: 3.8679 | target: 0.8400 | pred: -1.1267\n"
     ]
    },
    {
     "name": "stderr",
     "output_type": "stream",
     "text": [
      "Division 6/6:   4%|█████                                                                                                                                       | 43/1178 [00:03<01:45, 10.75it/s]"
     ]
    },
    {
     "name": "stdout",
     "output_type": "stream",
     "text": [
      "Epoch:   41/1183 | avg rmse: 1.6612 | avg mse: 4.6011 | target: 0.9600 | pred: -1.1850\n"
     ]
    },
    {
     "name": "stderr",
     "output_type": "stream",
     "text": [
      "Division 6/6:   4%|██████▎                                                                                                                                     | 53/1178 [00:04<01:52,  9.98it/s]"
     ]
    },
    {
     "name": "stdout",
     "output_type": "stream",
     "text": [
      "Epoch:   51/1183 | avg rmse: 1.7103 | avg mse: 0.1914 | target: -3.3200 | pred: -3.7575\n"
     ]
    },
    {
     "name": "stderr",
     "output_type": "stream",
     "text": [
      "Division 6/6:   5%|███████▏                                                                                                                                    | 61/1178 [00:05<01:28, 12.66it/s]"
     ]
    },
    {
     "name": "stdout",
     "output_type": "stream",
     "text": [
      "Epoch:   61/1183 | avg rmse: 1.6796 | avg mse: 1.7955 | target: 0.0000 | pred: -1.3400\n"
     ]
    },
    {
     "name": "stderr",
     "output_type": "stream",
     "text": [
      "Division 6/6:   6%|████████▌                                                                                                                                   | 72/1178 [00:06<01:17, 14.25it/s]"
     ]
    },
    {
     "name": "stdout",
     "output_type": "stream",
     "text": [
      "Epoch:   71/1183 | avg rmse: 1.5239 | avg mse: 0.1784 | target: -1.0000 | pred: -1.4224\n"
     ]
    },
    {
     "name": "stderr",
     "output_type": "stream",
     "text": [
      "Division 6/6:   7%|█████████▋                                                                                                                                  | 82/1178 [00:06<01:16, 14.37it/s]"
     ]
    },
    {
     "name": "stdout",
     "output_type": "stream",
     "text": [
      "Epoch:   81/1183 | avg rmse: 1.4597 | avg mse: 0.0243 | target: -1.2500 | pred: -1.4060\n"
     ]
    },
    {
     "name": "stderr",
     "output_type": "stream",
     "text": [
      "Division 6/6:   8%|███████████                                                                                                                                 | 93/1178 [00:07<01:09, 15.69it/s]"
     ]
    },
    {
     "name": "stdout",
     "output_type": "stream",
     "text": [
      "Epoch:   91/1183 | avg rmse: 1.4835 | avg mse: 0.3625 | target: -2.2400 | pred: -2.8421\n"
     ]
    },
    {
     "name": "stderr",
     "output_type": "stream",
     "text": [
      "Division 6/6:   9%|████████████▏                                                                                                                              | 103/1178 [00:08<01:16, 14.09it/s]"
     ]
    },
    {
     "name": "stdout",
     "output_type": "stream",
     "text": [
      "Epoch:  101/1183 | avg rmse: 1.4380 | avg mse: 0.6810 | target: -2.0900 | pred: -2.9152\n"
     ]
    },
    {
     "name": "stderr",
     "output_type": "stream",
     "text": [
      "Division 6/6:  10%|█████████████▎                                                                                                                             | 113/1178 [00:09<01:09, 15.34it/s]"
     ]
    },
    {
     "name": "stdout",
     "output_type": "stream",
     "text": [
      "Epoch:  111/1183 | avg rmse: 1.4289 | avg mse: 1.7614 | target: -0.2200 | pred: -1.5472\n"
     ]
    },
    {
     "name": "stderr",
     "output_type": "stream",
     "text": [
      "Division 6/6:  10%|██████████████▍                                                                                                                            | 122/1178 [00:09<01:37, 10.84it/s]"
     ]
    },
    {
     "name": "stdout",
     "output_type": "stream",
     "text": [
      "Epoch:  121/1183 | avg rmse: 1.4163 | avg mse: 3.2161 | target: -3.1400 | pred: -1.3467\n"
     ]
    },
    {
     "name": "stderr",
     "output_type": "stream",
     "text": [
      "Division 6/6:  11%|███████████████▌                                                                                                                           | 132/1178 [00:10<01:22, 12.75it/s]"
     ]
    },
    {
     "name": "stdout",
     "output_type": "stream",
     "text": [
      "Epoch:  131/1183 | avg rmse: 1.3863 | avg mse: 0.3562 | target: -3.8000 | pred: -3.2032\n"
     ]
    },
    {
     "name": "stderr",
     "output_type": "stream",
     "text": [
      "Division 6/6:  12%|████████████████▊                                                                                                                          | 142/1178 [00:11<01:12, 14.34it/s]"
     ]
    },
    {
     "name": "stdout",
     "output_type": "stream",
     "text": [
      "Epoch:  141/1183 | avg rmse: 1.3604 | avg mse: 0.0116 | target: -1.6000 | pred: -1.4921\n"
     ]
    },
    {
     "name": "stderr",
     "output_type": "stream",
     "text": [
      "Division 6/6:  13%|█████████████████▉                                                                                                                         | 152/1178 [00:12<01:13, 14.02it/s]"
     ]
    },
    {
     "name": "stdout",
     "output_type": "stream",
     "text": [
      "Epoch:  151/1183 | avg rmse: 1.3702 | avg mse: 5.3881 | target: -4.8900 | pred: -2.5688\n"
     ]
    },
    {
     "name": "stderr",
     "output_type": "stream",
     "text": [
      "Division 6/6:  14%|███████████████████                                                                                                                        | 162/1178 [00:13<01:24, 12.02it/s]"
     ]
    },
    {
     "name": "stdout",
     "output_type": "stream",
     "text": [
      "Epoch:  161/1183 | avg rmse: 1.3467 | avg mse: 0.0026 | target: -2.5400 | pred: -2.4886\n"
     ]
    },
    {
     "name": "stderr",
     "output_type": "stream",
     "text": [
      "Division 6/6:  15%|████████████████████▎                                                                                                                      | 172/1178 [00:13<01:12, 13.83it/s]"
     ]
    },
    {
     "name": "stdout",
     "output_type": "stream",
     "text": [
      "Epoch:  171/1183 | avg rmse: 1.3694 | avg mse: 3.6981 | target: -0.5000 | pred: -2.4230\n"
     ]
    },
    {
     "name": "stderr",
     "output_type": "stream",
     "text": [
      "Division 6/6:  15%|█████████████████████▍                                                                                                                     | 182/1178 [00:14<01:01, 16.21it/s]"
     ]
    },
    {
     "name": "stdout",
     "output_type": "stream",
     "text": [
      "Epoch:  181/1183 | avg rmse: 1.3685 | avg mse: 4.2393 | target: 0.0400 | pred: -2.0190\n"
     ]
    },
    {
     "name": "stderr",
     "output_type": "stream",
     "text": [
      "Division 6/6:  16%|██████████████████████▉                                                                                                                    | 194/1178 [00:15<01:09, 14.10it/s]"
     ]
    },
    {
     "name": "stdout",
     "output_type": "stream",
     "text": [
      "Epoch:  191/1183 | avg rmse: 1.3800 | avg mse: 0.2680 | target: -2.3700 | pred: -2.8877\n"
     ]
    },
    {
     "name": "stderr",
     "output_type": "stream",
     "text": [
      "Division 6/6:  17%|███████████████████████▊                                                                                                                   | 202/1178 [00:16<01:10, 13.91it/s]"
     ]
    },
    {
     "name": "stdout",
     "output_type": "stream",
     "text": [
      "Epoch:  201/1183 | avg rmse: 1.3693 | avg mse: 2.0090 | target: -3.5200 | pred: -2.1026\n"
     ]
    },
    {
     "name": "stderr",
     "output_type": "stream",
     "text": [
      "Division 6/6:  18%|█████████████████████████▏                                                                                                                 | 213/1178 [00:16<01:17, 12.51it/s]"
     ]
    },
    {
     "name": "stdout",
     "output_type": "stream",
     "text": [
      "Epoch:  211/1183 | avg rmse: 1.3390 | avg mse: 2.1021 | target: -3.3700 | pred: -4.8199\n"
     ]
    },
    {
     "name": "stderr",
     "output_type": "stream",
     "text": [
      "Division 6/6:  19%|██████████████████████████▎                                                                                                                | 223/1178 [00:17<01:01, 15.60it/s]"
     ]
    },
    {
     "name": "stdout",
     "output_type": "stream",
     "text": [
      "Epoch:  221/1183 | avg rmse: 1.3264 | avg mse: 0.1367 | target: -2.1700 | pred: -1.8002\n"
     ]
    },
    {
     "name": "stderr",
     "output_type": "stream",
     "text": [
      "Division 6/6:  20%|███████████████████████████▎                                                                                                               | 231/1178 [00:18<01:14, 12.65it/s]"
     ]
    },
    {
     "name": "stdout",
     "output_type": "stream",
     "text": [
      "Epoch:  231/1183 | avg rmse: 1.3195 | avg mse: 9.0481 | target: -6.2100 | pred: -3.2020\n"
     ]
    },
    {
     "name": "stderr",
     "output_type": "stream",
     "text": [
      "Division 6/6:  21%|████████████████████████████▌                                                                                                              | 242/1178 [00:19<01:18, 11.93it/s]"
     ]
    },
    {
     "name": "stdout",
     "output_type": "stream",
     "text": [
      "Epoch:  241/1183 | avg rmse: 1.3038 | avg mse: 0.7435 | target: -2.6000 | pred: -3.4623\n"
     ]
    },
    {
     "name": "stderr",
     "output_type": "stream",
     "text": [
      "Division 6/6:  21%|█████████████████████████████▋                                                                                                             | 252/1178 [00:20<01:28, 10.43it/s]"
     ]
    },
    {
     "name": "stdout",
     "output_type": "stream",
     "text": [
      "Epoch:  251/1183 | avg rmse: 1.2899 | avg mse: 0.2598 | target: -4.3500 | pred: -4.8597\n"
     ]
    },
    {
     "name": "stderr",
     "output_type": "stream",
     "text": [
      "Division 6/6:  22%|██████████████████████████████▉                                                                                                            | 262/1178 [00:21<01:33,  9.79it/s]"
     ]
    },
    {
     "name": "stdout",
     "output_type": "stream",
     "text": [
      "Epoch:  261/1183 | avg rmse: 1.2793 | avg mse: 0.7439 | target: -0.8900 | pred: -1.7525\n"
     ]
    },
    {
     "name": "stderr",
     "output_type": "stream",
     "text": [
      "Division 6/6:  23%|████████████████████████████████                                                                                                           | 272/1178 [00:21<01:26, 10.47it/s]"
     ]
    },
    {
     "name": "stdout",
     "output_type": "stream",
     "text": [
      "Epoch:  271/1183 | avg rmse: 1.2833 | avg mse: 0.2713 | target: -2.2600 | pred: -1.7391\n"
     ]
    },
    {
     "name": "stderr",
     "output_type": "stream",
     "text": [
      "Division 6/6:  24%|█████████████████████████████████▏                                                                                                         | 281/1178 [00:22<01:12, 12.37it/s]"
     ]
    },
    {
     "name": "stdout",
     "output_type": "stream",
     "text": [
      "Epoch:  281/1183 | avg rmse: 1.2654 | avg mse: 0.0787 | target: -1.9200 | pred: -2.2005\n"
     ]
    },
    {
     "name": "stderr",
     "output_type": "stream",
     "text": [
      "Division 6/6:  25%|██████████████████████████████████▌                                                                                                        | 293/1178 [00:23<01:17, 11.47it/s]"
     ]
    },
    {
     "name": "stdout",
     "output_type": "stream",
     "text": [
      "Epoch:  291/1183 | avg rmse: 1.2429 | avg mse: 0.2169 | target: -1.6100 | pred: -2.0757\n"
     ]
    },
    {
     "name": "stderr",
     "output_type": "stream",
     "text": [
      "Division 6/6:  26%|███████████████████████████████████▊                                                                                                       | 303/1178 [00:24<01:08, 12.78it/s]"
     ]
    },
    {
     "name": "stdout",
     "output_type": "stream",
     "text": [
      "Epoch:  301/1183 | avg rmse: 1.2555 | avg mse: 3.2947 | target: -1.7600 | pred: -3.5751\n"
     ]
    },
    {
     "name": "stderr",
     "output_type": "stream",
     "text": [
      "Division 6/6:  27%|████████████████████████████████████▉                                                                                                      | 313/1178 [00:25<01:02, 13.80it/s]"
     ]
    },
    {
     "name": "stdout",
     "output_type": "stream",
     "text": [
      "Epoch:  311/1183 | avg rmse: 1.2622 | avg mse: 0.9443 | target: -0.6600 | pred: -1.6318\n"
     ]
    },
    {
     "name": "stderr",
     "output_type": "stream",
     "text": [
      "Division 6/6:  27%|██████████████████████████████████████                                                                                                     | 323/1178 [00:26<00:57, 14.87it/s]"
     ]
    },
    {
     "name": "stdout",
     "output_type": "stream",
     "text": [
      "Epoch:  321/1183 | avg rmse: 1.2555 | avg mse: 0.7660 | target: -3.2200 | pred: -2.3448\n"
     ]
    },
    {
     "name": "stderr",
     "output_type": "stream",
     "text": [
      "Division 6/6:  28%|███████████████████████████████████████▎                                                                                                   | 333/1178 [00:26<01:00, 13.94it/s]"
     ]
    },
    {
     "name": "stdout",
     "output_type": "stream",
     "text": [
      "Epoch:  331/1183 | avg rmse: 1.2704 | avg mse: 10.0472 | target: 0.7900 | pred: -2.3797\n"
     ]
    },
    {
     "name": "stderr",
     "output_type": "stream",
     "text": [
      "Division 6/6:  29%|████████████████████████████████████████▏                                                                                                  | 341/1178 [00:27<01:27,  9.55it/s]"
     ]
    },
    {
     "name": "stdout",
     "output_type": "stream",
     "text": [
      "Epoch:  341/1183 | avg rmse: 1.2657 | avg mse: 1.1127 | target: -2.0600 | pred: -3.1148\n"
     ]
    },
    {
     "name": "stderr",
     "output_type": "stream",
     "text": [
      "Division 6/6:  30%|█████████████████████████████████████████▋                                                                                                 | 353/1178 [00:28<01:06, 12.48it/s]"
     ]
    },
    {
     "name": "stdout",
     "output_type": "stream",
     "text": [
      "Epoch:  351/1183 | avg rmse: 1.2428 | avg mse: 0.0936 | target: -1.7700 | pred: -2.0760\n"
     ]
    },
    {
     "name": "stderr",
     "output_type": "stream",
     "text": [
      "Division 6/6:  31%|██████████████████████████████████████████▊                                                                                                | 363/1178 [00:29<01:00, 13.53it/s]"
     ]
    },
    {
     "name": "stdout",
     "output_type": "stream",
     "text": [
      "Epoch:  361/1183 | avg rmse: 1.2439 | avg mse: 2.5068 | target: -6.2600 | pred: -4.6767\n"
     ]
    },
    {
     "name": "stderr",
     "output_type": "stream",
     "text": [
      "Division 6/6:  32%|███████████████████████████████████████████▉                                                                                               | 372/1178 [00:30<01:02, 12.86it/s]"
     ]
    },
    {
     "name": "stdout",
     "output_type": "stream",
     "text": [
      "Epoch:  371/1183 | avg rmse: 1.2436 | avg mse: 7.0325 | target: 1.0700 | pred: -1.5819\n"
     ]
    },
    {
     "name": "stderr",
     "output_type": "stream",
     "text": [
      "Division 6/6:  32%|█████████████████████████████████████████████                                                                                              | 382/1178 [00:30<01:00, 13.09it/s]"
     ]
    },
    {
     "name": "stdout",
     "output_type": "stream",
     "text": [
      "Epoch:  381/1183 | avg rmse: 1.2325 | avg mse: 0.4211 | target: -4.3800 | pred: -5.0289\n"
     ]
    },
    {
     "name": "stderr",
     "output_type": "stream",
     "text": [
      "Division 6/6:  33%|██████████████████████████████████████████████▎                                                                                            | 392/1178 [00:31<01:17, 10.20it/s]"
     ]
    },
    {
     "name": "stdout",
     "output_type": "stream",
     "text": [
      "Epoch:  391/1183 | avg rmse: 1.2284 | avg mse: 2.9370 | target: -5.0300 | pred: -3.3162\n"
     ]
    },
    {
     "name": "stderr",
     "output_type": "stream",
     "text": [
      "Division 6/6:  34%|███████████████████████████████████████████████▍                                                                                           | 402/1178 [00:32<01:02, 12.48it/s]"
     ]
    },
    {
     "name": "stdout",
     "output_type": "stream",
     "text": [
      "Epoch:  401/1183 | avg rmse: 1.2219 | avg mse: 0.0979 | target: -3.9600 | pred: -3.6471\n"
     ]
    },
    {
     "name": "stderr",
     "output_type": "stream",
     "text": [
      "Division 6/6:  35%|████████████████████████████████████████████████▋                                                                                          | 413/1178 [00:33<00:50, 15.03it/s]"
     ]
    },
    {
     "name": "stdout",
     "output_type": "stream",
     "text": [
      "Epoch:  411/1183 | avg rmse: 1.2060 | avg mse: 0.0013 | target: -3.0700 | pred: -3.1067\n"
     ]
    },
    {
     "name": "stderr",
     "output_type": "stream",
     "text": [
      "Division 6/6:  36%|█████████████████████████████████████████████████▊                                                                                         | 422/1178 [00:34<00:58, 13.00it/s]"
     ]
    },
    {
     "name": "stdout",
     "output_type": "stream",
     "text": [
      "Epoch:  421/1183 | avg rmse: 1.1920 | avg mse: 2.7949 | target: -0.5400 | pred: -2.2118\n"
     ]
    },
    {
     "name": "stderr",
     "output_type": "stream",
     "text": [
      "Division 6/6:  37%|██████████████████████████████████████████████████▉                                                                                        | 432/1178 [00:35<01:05, 11.34it/s]"
     ]
    },
    {
     "name": "stdout",
     "output_type": "stream",
     "text": [
      "Epoch:  431/1183 | avg rmse: 1.1874 | avg mse: 2.5131 | target: -1.3500 | pred: -2.9353\n"
     ]
    },
    {
     "name": "stderr",
     "output_type": "stream",
     "text": [
      "Division 6/6:  38%|████████████████████████████████████████████████████▏                                                                                      | 442/1178 [00:35<01:00, 12.11it/s]"
     ]
    },
    {
     "name": "stdout",
     "output_type": "stream",
     "text": [
      "Epoch:  441/1183 | avg rmse: 1.1789 | avg mse: 0.0573 | target: -3.6600 | pred: -3.8995\n"
     ]
    },
    {
     "name": "stderr",
     "output_type": "stream",
     "text": [
      "Division 6/6:  38%|█████████████████████████████████████████████████████▎                                                                                     | 452/1178 [00:36<01:06, 10.90it/s]"
     ]
    },
    {
     "name": "stdout",
     "output_type": "stream",
     "text": [
      "Epoch:  451/1183 | avg rmse: 1.1760 | avg mse: 0.6607 | target: -4.0700 | pred: -3.2572\n"
     ]
    },
    {
     "name": "stderr",
     "output_type": "stream",
     "text": [
      "Division 6/6:  39%|██████████████████████████████████████████████████████▌                                                                                    | 462/1178 [00:37<00:58, 12.15it/s]"
     ]
    },
    {
     "name": "stdout",
     "output_type": "stream",
     "text": [
      "Epoch:  461/1183 | avg rmse: 1.1618 | avg mse: 0.0466 | target: -1.8200 | pred: -1.6042\n"
     ]
    },
    {
     "name": "stderr",
     "output_type": "stream",
     "text": [
      "Division 6/6:  40%|███████████████████████████████████████████████████████▋                                                                                   | 472/1178 [00:38<01:00, 11.65it/s]"
     ]
    },
    {
     "name": "stdout",
     "output_type": "stream",
     "text": [
      "Epoch:  471/1183 | avg rmse: 1.1541 | avg mse: 0.2604 | target: -1.9100 | pred: -2.4203\n"
     ]
    },
    {
     "name": "stderr",
     "output_type": "stream",
     "text": [
      "Division 6/6:  41%|████████████████████████████████████████████████████████▉                                                                                  | 483/1178 [00:39<00:49, 13.95it/s]"
     ]
    },
    {
     "name": "stdout",
     "output_type": "stream",
     "text": [
      "Epoch:  481/1183 | avg rmse: 1.1488 | avg mse: 2.2199 | target: -0.4200 | pred: -1.9099\n"
     ]
    },
    {
     "name": "stderr",
     "output_type": "stream",
     "text": [
      "Division 6/6:  42%|██████████████████████████████████████████████████████████▏                                                                                | 493/1178 [00:40<00:54, 12.65it/s]"
     ]
    },
    {
     "name": "stdout",
     "output_type": "stream",
     "text": [
      "Epoch:  491/1183 | avg rmse: 1.1487 | avg mse: 3.6305 | target: -6.8900 | pred: -4.9846\n"
     ]
    },
    {
     "name": "stderr",
     "output_type": "stream",
     "text": [
      "Division 6/6:  43%|███████████████████████████████████████████████████████████▏                                                                               | 502/1178 [00:40<00:50, 13.49it/s]"
     ]
    },
    {
     "name": "stdout",
     "output_type": "stream",
     "text": [
      "Epoch:  501/1183 | avg rmse: 1.1434 | avg mse: 0.2422 | target: -4.5700 | pred: -4.0779\n"
     ]
    },
    {
     "name": "stderr",
     "output_type": "stream",
     "text": [
      "Division 6/6:  43%|████████████████████████████████████████████████████████████▍                                                                              | 512/1178 [00:41<00:55, 12.08it/s]"
     ]
    },
    {
     "name": "stdout",
     "output_type": "stream",
     "text": [
      "Epoch:  511/1183 | avg rmse: 1.1337 | avg mse: 0.5519 | target: -0.9000 | pred: -0.1571\n"
     ]
    },
    {
     "name": "stderr",
     "output_type": "stream",
     "text": [
      "Division 6/6:  44%|█████████████████████████████████████████████████████████████▊                                                                             | 524/1178 [00:42<00:43, 15.02it/s]"
     ]
    },
    {
     "name": "stdout",
     "output_type": "stream",
     "text": [
      "Epoch:  521/1183 | avg rmse: 1.1248 | avg mse: 0.1263 | target: -2.6800 | pred: -3.0355\n"
     ]
    },
    {
     "name": "stderr",
     "output_type": "stream",
     "text": [
      "Division 6/6:  45%|██████████████████████████████████████████████████████████████▉                                                                            | 533/1178 [00:43<00:50, 12.74it/s]"
     ]
    },
    {
     "name": "stdout",
     "output_type": "stream",
     "text": [
      "Epoch:  531/1183 | avg rmse: 1.1145 | avg mse: 2.0209 | target: -5.6800 | pred: -4.2584\n"
     ]
    },
    {
     "name": "stderr",
     "output_type": "stream",
     "text": [
      "Division 6/6:  46%|████████████████████████████████████████████████████████████████                                                                           | 543/1178 [00:43<00:47, 13.36it/s]"
     ]
    },
    {
     "name": "stdout",
     "output_type": "stream",
     "text": [
      "Epoch:  541/1183 | avg rmse: 1.1147 | avg mse: 1.1397 | target: -0.9900 | pred: -2.0575\n"
     ]
    },
    {
     "name": "stderr",
     "output_type": "stream",
     "text": [
      "Division 6/6:  47%|█████████████████████████████████████████████████████████████████▎                                                                         | 553/1178 [00:44<00:44, 14.14it/s]"
     ]
    },
    {
     "name": "stdout",
     "output_type": "stream",
     "text": [
      "Epoch:  551/1183 | avg rmse: 1.1170 | avg mse: 2.1485 | target: -7.9100 | pred: -6.4442\n"
     ]
    },
    {
     "name": "stderr",
     "output_type": "stream",
     "text": [
      "Division 6/6:  48%|██████████████████████████████████████████████████████████████████▏                                                                        | 561/1178 [00:45<00:47, 13.09it/s]"
     ]
    },
    {
     "name": "stdout",
     "output_type": "stream",
     "text": [
      "Epoch:  561/1183 | avg rmse: 1.1155 | avg mse: 1.3950 | target: -5.4300 | pred: -4.2489\n"
     ]
    },
    {
     "name": "stderr",
     "output_type": "stream",
     "text": [
      "Division 6/6:  49%|███████████████████████████████████████████████████████████████████▍                                                                       | 572/1178 [00:46<01:00,  9.96it/s]"
     ]
    },
    {
     "name": "stdout",
     "output_type": "stream",
     "text": [
      "Epoch:  571/1183 | avg rmse: 1.1138 | avg mse: 1.9572 | target: -2.3200 | pred: -3.7190\n"
     ]
    },
    {
     "name": "stderr",
     "output_type": "stream",
     "text": [
      "Division 6/6:  49%|████████████████████████████████████████████████████████████████████▋                                                                      | 582/1178 [00:47<01:11,  8.38it/s]"
     ]
    },
    {
     "name": "stdout",
     "output_type": "stream",
     "text": [
      "Epoch:  581/1183 | avg rmse: 1.1066 | avg mse: 4.6175 | target: -6.8100 | pred: -4.6612\n"
     ]
    },
    {
     "name": "stderr",
     "output_type": "stream",
     "text": [
      "Division 6/6:  50%|██████████████████████████████████████████████████████████████████████                                                                     | 594/1178 [00:48<00:51, 11.27it/s]"
     ]
    },
    {
     "name": "stdout",
     "output_type": "stream",
     "text": [
      "Epoch:  591/1183 | avg rmse: 1.1053 | avg mse: 4.6963 | target: -3.1200 | pred: -5.2871\n"
     ]
    },
    {
     "name": "stderr",
     "output_type": "stream",
     "text": [
      "Division 6/6:  51%|███████████████████████████████████████████████████████████████████████                                                                    | 602/1178 [00:49<00:45, 12.76it/s]"
     ]
    },
    {
     "name": "stdout",
     "output_type": "stream",
     "text": [
      "Epoch:  601/1183 | avg rmse: 1.1014 | avg mse: 0.0020 | target: -2.5100 | pred: -2.5544\n"
     ]
    },
    {
     "name": "stderr",
     "output_type": "stream",
     "text": [
      "Division 6/6:  52%|████████████████████████████████████████████████████████████████████████▏                                                                  | 612/1178 [00:50<00:46, 12.20it/s]"
     ]
    },
    {
     "name": "stdout",
     "output_type": "stream",
     "text": [
      "Epoch:  611/1183 | avg rmse: 1.0957 | avg mse: 0.2878 | target: -3.8900 | pred: -3.3535\n"
     ]
    },
    {
     "name": "stderr",
     "output_type": "stream",
     "text": [
      "Division 6/6:  53%|█████████████████████████████████████████████████████████████████████████▌                                                                 | 623/1178 [00:50<00:40, 13.70it/s]"
     ]
    },
    {
     "name": "stdout",
     "output_type": "stream",
     "text": [
      "Epoch:  621/1183 | avg rmse: 1.0885 | avg mse: 0.0588 | target: -1.2300 | pred: -0.9876\n"
     ]
    },
    {
     "name": "stderr",
     "output_type": "stream",
     "text": [
      "Division 6/6:  54%|██████████████████████████████████████████████████████████████████████████▋                                                                | 633/1178 [00:51<00:41, 13.00it/s]"
     ]
    },
    {
     "name": "stdout",
     "output_type": "stream",
     "text": [
      "Epoch:  631/1183 | avg rmse: 1.0891 | avg mse: 0.0138 | target: -3.3600 | pred: -3.2426\n"
     ]
    },
    {
     "name": "stderr",
     "output_type": "stream",
     "text": [
      "Division 6/6:  54%|███████████████████████████████████████████████████████████████████████████▊                                                               | 642/1178 [00:52<00:37, 14.19it/s]"
     ]
    },
    {
     "name": "stdout",
     "output_type": "stream",
     "text": [
      "Epoch:  641/1183 | avg rmse: 1.0852 | avg mse: 0.2909 | target: -1.1600 | pred: -1.6994\n"
     ]
    },
    {
     "name": "stderr",
     "output_type": "stream",
     "text": [
      "Division 6/6:  55%|█████████████████████████████████████████████████████████████████████████████                                                              | 653/1178 [00:53<00:39, 13.23it/s]"
     ]
    },
    {
     "name": "stdout",
     "output_type": "stream",
     "text": [
      "Epoch:  651/1183 | avg rmse: 1.0756 | avg mse: 0.1302 | target: -0.4200 | pred: -0.7808\n"
     ]
    },
    {
     "name": "stderr",
     "output_type": "stream",
     "text": [
      "Division 6/6:  56%|██████████████████████████████████████████████████████████████████████████████▎                                                            | 664/1178 [00:53<00:35, 14.56it/s]"
     ]
    },
    {
     "name": "stdout",
     "output_type": "stream",
     "text": [
      "Epoch:  661/1183 | avg rmse: 1.0676 | avg mse: 0.8722 | target: 1.1200 | pred: 0.1861\n"
     ]
    },
    {
     "name": "stderr",
     "output_type": "stream",
     "text": [
      "Division 6/6:  57%|███████████████████████████████████████████████████████████████████████████████▎                                                           | 672/1178 [00:54<00:35, 14.36it/s]"
     ]
    },
    {
     "name": "stdout",
     "output_type": "stream",
     "text": [
      "Epoch:  671/1183 | avg rmse: 1.0629 | avg mse: 0.3863 | target: -2.7800 | pred: -3.4015\n"
     ]
    },
    {
     "name": "stderr",
     "output_type": "stream",
     "text": [
      "Division 6/6:  58%|████████████████████████████████████████████████████████████████████████████████▌                                                          | 683/1178 [00:55<00:37, 13.26it/s]"
     ]
    },
    {
     "name": "stdout",
     "output_type": "stream",
     "text": [
      "Epoch:  681/1183 | avg rmse: 1.0580 | avg mse: 0.0203 | target: -3.2200 | pred: -3.3626\n"
     ]
    },
    {
     "name": "stderr",
     "output_type": "stream",
     "text": [
      "Division 6/6:  59%|█████████████████████████████████████████████████████████████████████████████████▊                                                         | 693/1178 [00:56<00:32, 15.05it/s]"
     ]
    },
    {
     "name": "stdout",
     "output_type": "stream",
     "text": [
      "Epoch:  691/1183 | avg rmse: 1.0535 | avg mse: 0.5445 | target: -0.7300 | pred: -1.4679\n"
     ]
    },
    {
     "name": "stderr",
     "output_type": "stream",
     "text": [
      "Division 6/6:  60%|███████████████████████████████████████████████████████████████████████████████████                                                        | 704/1178 [00:56<00:25, 18.40it/s]"
     ]
    },
    {
     "name": "stdout",
     "output_type": "stream",
     "text": [
      "Epoch:  701/1183 | avg rmse: 1.0497 | avg mse: 0.0010 | target: -3.6300 | pred: -3.6622\n"
     ]
    },
    {
     "name": "stderr",
     "output_type": "stream",
     "text": [
      "Division 6/6:  60%|████████████████████████████████████████████████████████████████████████████████████                                                       | 712/1178 [00:57<00:27, 16.86it/s]"
     ]
    },
    {
     "name": "stdout",
     "output_type": "stream",
     "text": [
      "Epoch:  711/1183 | avg rmse: 1.0436 | avg mse: 0.7942 | target: -0.7000 | pred: -1.5912\n"
     ]
    },
    {
     "name": "stderr",
     "output_type": "stream",
     "text": [
      "Division 6/6:  61%|█████████████████████████████████████████████████████████████████████████████████████▏                                                     | 722/1178 [00:58<00:39, 11.67it/s]"
     ]
    },
    {
     "name": "stdout",
     "output_type": "stream",
     "text": [
      "Epoch:  721/1183 | avg rmse: 1.0379 | avg mse: 0.0463 | target: -0.9600 | pred: -1.1752\n"
     ]
    },
    {
     "name": "stderr",
     "output_type": "stream",
     "text": [
      "Division 6/6:  62%|██████████████████████████████████████████████████████████████████████████████████████▎                                                    | 732/1178 [00:59<00:36, 12.22it/s]"
     ]
    },
    {
     "name": "stdout",
     "output_type": "stream",
     "text": [
      "Epoch:  731/1183 | avg rmse: 1.0320 | avg mse: 4.7326 | target: -9.1500 | pred: -6.9745\n"
     ]
    },
    {
     "name": "stderr",
     "output_type": "stream",
     "text": [
      "Division 6/6:  63%|███████████████████████████████████████████████████████████████████████████████████████▌                                                   | 742/1178 [00:59<00:36, 11.92it/s]"
     ]
    },
    {
     "name": "stdout",
     "output_type": "stream",
     "text": [
      "Epoch:  741/1183 | avg rmse: 1.0289 | avg mse: 0.6915 | target: -1.5600 | pred: -2.3916\n"
     ]
    },
    {
     "name": "stderr",
     "output_type": "stream",
     "text": [
      "Division 6/6:  64%|████████████████████████████████████████████████████████████████████████████████████████▊                                                  | 753/1178 [01:00<00:31, 13.66it/s]"
     ]
    },
    {
     "name": "stdout",
     "output_type": "stream",
     "text": [
      "Epoch:  751/1183 | avg rmse: 1.0255 | avg mse: 2.3040 | target: -3.6000 | pred: -5.1179\n"
     ]
    },
    {
     "name": "stderr",
     "output_type": "stream",
     "text": [
      "Division 6/6:  65%|██████████████████████████████████████████████████████████████████████████████████████████                                                 | 763/1178 [01:01<00:28, 14.50it/s]"
     ]
    },
    {
     "name": "stdout",
     "output_type": "stream",
     "text": [
      "Epoch:  761/1183 | avg rmse: 1.0207 | avg mse: 0.1050 | target: -2.4300 | pred: -2.1060\n"
     ]
    },
    {
     "name": "stderr",
     "output_type": "stream",
     "text": [
      "Division 6/6:  66%|███████████████████████████████████████████████████████████████████████████████████████████                                                | 772/1178 [01:02<00:26, 15.24it/s]"
     ]
    },
    {
     "name": "stdout",
     "output_type": "stream",
     "text": [
      "Epoch:  771/1183 | avg rmse: 1.0145 | avg mse: 0.4416 | target: -0.8500 | pred: -1.5145\n"
     ]
    },
    {
     "name": "stderr",
     "output_type": "stream",
     "text": [
      "Division 6/6:  66%|████████████████████████████████████████████████████████████████████████████████████████████▏                                              | 781/1178 [01:02<00:25, 15.41it/s]"
     ]
    },
    {
     "name": "stdout",
     "output_type": "stream",
     "text": [
      "Epoch:  781/1183 | avg rmse: 1.0088 | avg mse: 0.1271 | target: -2.4800 | pred: -2.8365\n"
     ]
    },
    {
     "name": "stderr",
     "output_type": "stream",
     "text": [
      "Division 6/6:  67%|█████████████████████████████████████████████████████████████████████████████████████████████▌                                             | 793/1178 [01:03<00:30, 12.43it/s]"
     ]
    },
    {
     "name": "stdout",
     "output_type": "stream",
     "text": [
      "Epoch:  791/1183 | avg rmse: 1.0072 | avg mse: 0.2832 | target: -2.0900 | pred: -1.5578\n"
     ]
    },
    {
     "name": "stderr",
     "output_type": "stream",
     "text": [
      "Division 6/6:  68%|██████████████████████████████████████████████████████████████████████████████████████████████▌                                            | 801/1178 [01:04<00:38,  9.78it/s]"
     ]
    },
    {
     "name": "stdout",
     "output_type": "stream",
     "text": [
      "Epoch:  801/1183 | avg rmse: 1.0040 | avg mse: 0.0541 | target: -2.3300 | pred: -2.0975\n"
     ]
    },
    {
     "name": "stderr",
     "output_type": "stream",
     "text": [
      "Division 6/6:  69%|███████████████████████████████████████████████████████████████████████████████████████████████▊                                           | 812/1178 [01:05<00:29, 12.29it/s]"
     ]
    },
    {
     "name": "stdout",
     "output_type": "stream",
     "text": [
      "Epoch:  811/1183 | avg rmse: 0.9996 | avg mse: 0.8894 | target: -4.8100 | pred: -3.8669\n"
     ]
    },
    {
     "name": "stderr",
     "output_type": "stream",
     "text": [
      "Division 6/6:  70%|█████████████████████████████████████████████████████████████████████████████████████████████████                                          | 823/1178 [01:06<00:26, 13.27it/s]"
     ]
    },
    {
     "name": "stdout",
     "output_type": "stream",
     "text": [
      "Epoch:  821/1183 | avg rmse: 0.9981 | avg mse: 1.0510 | target: 1.1200 | pred: 0.0948\n"
     ]
    },
    {
     "name": "stderr",
     "output_type": "stream",
     "text": [
      "Division 6/6:  71%|██████████████████████████████████████████████████████████████████████████████████████████████████▍                                        | 834/1178 [01:07<00:21, 16.17it/s]"
     ]
    },
    {
     "name": "stdout",
     "output_type": "stream",
     "text": [
      "Epoch:  831/1183 | avg rmse: 0.9973 | avg mse: 0.3844 | target: -0.7400 | pred: -1.3600\n"
     ]
    },
    {
     "name": "stderr",
     "output_type": "stream",
     "text": [
      "Division 6/6:  71%|███████████████████████████████████████████████████████████████████████████████████████████████████▏                                       | 841/1178 [01:07<00:22, 15.28it/s]"
     ]
    },
    {
     "name": "stdout",
     "output_type": "stream",
     "text": [
      "Epoch:  841/1183 | avg rmse: 0.9930 | avg mse: 1.0919 | target: -4.6400 | pred: -3.5951\n"
     ]
    },
    {
     "name": "stderr",
     "output_type": "stream",
     "text": [
      "Division 6/6:  72%|████████████████████████████████████████████████████████████████████████████████████████████████████▍                                      | 851/1178 [01:08<00:27, 11.82it/s]"
     ]
    },
    {
     "name": "stdout",
     "output_type": "stream",
     "text": [
      "Epoch:  851/1183 | avg rmse: 0.9924 | avg mse: 0.5383 | target: -4.1000 | pred: -3.3663\n"
     ]
    },
    {
     "name": "stderr",
     "output_type": "stream",
     "text": [
      "Division 6/6:  73%|█████████████████████████████████████████████████████████████████████████████████████████████████████▊                                     | 863/1178 [01:09<00:30, 10.19it/s]"
     ]
    },
    {
     "name": "stdout",
     "output_type": "stream",
     "text": [
      "Epoch:  861/1183 | avg rmse: 0.9983 | avg mse: 0.8388 | target: -1.1300 | pred: -2.0458\n"
     ]
    },
    {
     "name": "stderr",
     "output_type": "stream",
     "text": [
      "Division 6/6:  74%|██████████████████████████████████████████████████████████████████████████████████████████████████████▉                                    | 872/1178 [01:10<00:24, 12.28it/s]"
     ]
    },
    {
     "name": "stdout",
     "output_type": "stream",
     "text": [
      "Epoch:  871/1183 | avg rmse: 0.9964 | avg mse: 0.7978 | target: -2.0900 | pred: -2.9832\n"
     ]
    },
    {
     "name": "stderr",
     "output_type": "stream",
     "text": [
      "Division 6/6:  75%|████████████████████████████████████████████████████████████████████████████████████████████████████████▎                                  | 884/1178 [01:11<00:20, 14.26it/s]"
     ]
    },
    {
     "name": "stdout",
     "output_type": "stream",
     "text": [
      "Epoch:  881/1183 | avg rmse: 0.9947 | avg mse: 2.3562 | target: -2.1500 | pred: -0.6150\n"
     ]
    },
    {
     "name": "stderr",
     "output_type": "stream",
     "text": [
      "Division 6/6:  76%|█████████████████████████████████████████████████████████████████████████████████████████████████████████▎                                 | 892/1178 [01:11<00:25, 11.18it/s]"
     ]
    },
    {
     "name": "stdout",
     "output_type": "stream",
     "text": [
      "Epoch:  891/1183 | avg rmse: 0.9946 | avg mse: 5.6232 | target: -8.9400 | pred: -6.5687\n"
     ]
    },
    {
     "name": "stderr",
     "output_type": "stream",
     "text": [
      "Division 6/6:  77%|██████████████████████████████████████████████████████████████████████████████████████████████████████████▍                                | 902/1178 [01:12<00:24, 11.10it/s]"
     ]
    },
    {
     "name": "stdout",
     "output_type": "stream",
     "text": [
      "Epoch:  901/1183 | avg rmse: 0.9929 | avg mse: 0.3268 | target: -1.6400 | pred: -2.2117\n"
     ]
    },
    {
     "name": "stderr",
     "output_type": "stream",
     "text": [
      "Division 6/6:  77%|███████████████████████████████████████████████████████████████████████████████████████████████████████████▌                               | 912/1178 [01:13<00:18, 14.34it/s]"
     ]
    },
    {
     "name": "stdout",
     "output_type": "stream",
     "text": [
      "Epoch:  911/1183 | avg rmse: 0.9860 | avg mse: 0.0082 | target: -4.2800 | pred: -4.3708\n"
     ]
    },
    {
     "name": "stderr",
     "output_type": "stream",
     "text": [
      "Division 6/6:  78%|████████████████████████████████████████████████████████████████████████████████████████████████████████████▉                              | 923/1178 [01:14<00:17, 14.34it/s]"
     ]
    },
    {
     "name": "stdout",
     "output_type": "stream",
     "text": [
      "Epoch:  921/1183 | avg rmse: 0.9830 | avg mse: 0.0537 | target: -3.2100 | pred: -3.4417\n"
     ]
    },
    {
     "name": "stderr",
     "output_type": "stream",
     "text": [
      "Division 6/6:  79%|██████████████████████████████████████████████████████████████████████████████████████████████████████████████                             | 933/1178 [01:15<00:18, 13.16it/s]"
     ]
    },
    {
     "name": "stdout",
     "output_type": "stream",
     "text": [
      "Epoch:  931/1183 | avg rmse: 0.9788 | avg mse: 0.0019 | target: -3.5100 | pred: -3.5530\n"
     ]
    },
    {
     "name": "stderr",
     "output_type": "stream",
     "text": [
      "Division 6/6:  80%|███████████████████████████████████████████████████████████████████████████████████████████████████████████████▍                           | 944/1178 [01:16<00:17, 13.01it/s]"
     ]
    },
    {
     "name": "stdout",
     "output_type": "stream",
     "text": [
      "Epoch:  941/1183 | avg rmse: 0.9772 | avg mse: 0.2857 | target: -2.0600 | pred: -2.5945\n"
     ]
    },
    {
     "name": "stderr",
     "output_type": "stream",
     "text": [
      "Division 6/6:  81%|████████████████████████████████████████████████████████████████████████████████████████████████████████████████▎                          | 952/1178 [01:16<00:16, 13.46it/s]"
     ]
    },
    {
     "name": "stdout",
     "output_type": "stream",
     "text": [
      "Epoch:  951/1183 | avg rmse: 0.9755 | avg mse: 0.0151 | target: -2.1600 | pred: -2.0370\n"
     ]
    },
    {
     "name": "stderr",
     "output_type": "stream",
     "text": [
      "Division 6/6:  82%|█████████████████████████████████████████████████████████████████████████████████████████████████████████████████▌                         | 962/1178 [01:17<00:22,  9.57it/s]"
     ]
    },
    {
     "name": "stdout",
     "output_type": "stream",
     "text": [
      "Epoch:  961/1183 | avg rmse: 0.9712 | avg mse: 0.1446 | target: -4.0000 | pred: -3.6198\n"
     ]
    },
    {
     "name": "stderr",
     "output_type": "stream",
     "text": [
      "Division 6/6:  83%|██████████████████████████████████████████████████████████████████████████████████████████████████████████████████▊                        | 973/1178 [01:18<00:15, 13.55it/s]"
     ]
    },
    {
     "name": "stdout",
     "output_type": "stream",
     "text": [
      "Epoch:  971/1183 | avg rmse: 0.9689 | avg mse: 0.6343 | target: -2.7200 | pred: -1.9236\n"
     ]
    },
    {
     "name": "stderr",
     "output_type": "stream",
     "text": [
      "Division 6/6:  84%|████████████████████████████████████████████████████████████████████████████████████████████████████████████████████▏                      | 985/1178 [01:19<00:10, 18.67it/s]"
     ]
    },
    {
     "name": "stdout",
     "output_type": "stream",
     "text": [
      "Epoch:  981/1183 | avg rmse: 0.9642 | avg mse: 0.0040 | target: -0.3000 | pred: -0.3629\n"
     ]
    },
    {
     "name": "stderr",
     "output_type": "stream",
     "text": [
      "Division 6/6:  84%|█████████████████████████████████████████████████████████████████████████████████████████████████████████████████████▎                     | 994/1178 [01:19<00:13, 13.86it/s]"
     ]
    },
    {
     "name": "stdout",
     "output_type": "stream",
     "text": [
      "Epoch:  991/1183 | avg rmse: 0.9619 | avg mse: 0.0205 | target: -3.6900 | pred: -3.5470\n"
     ]
    },
    {
     "name": "stderr",
     "output_type": "stream",
     "text": [
      "Division 6/6:  85%|█████████████████████████████████████████████████████████████████████████████████████████████████████████████████████▍                    | 1002/1178 [01:20<00:14, 12.37it/s]"
     ]
    },
    {
     "name": "stdout",
     "output_type": "stream",
     "text": [
      "Epoch: 1001/1183 | avg rmse: 0.9588 | avg mse: 0.1566 | target: -3.3900 | pred: -2.9942\n"
     ]
    },
    {
     "name": "stderr",
     "output_type": "stream",
     "text": [
      "Division 6/6:  86%|██████████████████████████████████████████████████████████████████████████████████████████████████████████████████████▌                   | 1012/1178 [01:21<00:13, 12.23it/s]"
     ]
    },
    {
     "name": "stdout",
     "output_type": "stream",
     "text": [
      "Epoch: 1011/1183 | avg rmse: 0.9560 | avg mse: 1.9684 | target: 0.0200 | pred: -1.3830\n"
     ]
    },
    {
     "name": "stderr",
     "output_type": "stream",
     "text": [
      "Division 6/6:  87%|███████████████████████████████████████████████████████████████████████████████████████████████████████████████████████▉                  | 1024/1178 [01:22<00:10, 14.99it/s]"
     ]
    },
    {
     "name": "stdout",
     "output_type": "stream",
     "text": [
      "Epoch: 1021/1183 | avg rmse: 0.9527 | avg mse: 0.2370 | target: -2.4300 | pred: -1.9431\n"
     ]
    },
    {
     "name": "stderr",
     "output_type": "stream",
     "text": [
      "Division 6/6:  88%|████████████████████████████████████████████████████████████████████████████████████████████████████████████████████████▉                 | 1032/1178 [01:23<00:14,  9.96it/s]"
     ]
    },
    {
     "name": "stdout",
     "output_type": "stream",
     "text": [
      "Epoch: 1031/1183 | avg rmse: 0.9514 | avg mse: 1.5031 | target: -8.2300 | pred: -7.0040\n"
     ]
    },
    {
     "name": "stderr",
     "output_type": "stream",
     "text": [
      "Division 6/6:  89%|██████████████████████████████████████████████████████████████████████████████████████████████████████████████████████████▏               | 1043/1178 [01:23<00:08, 15.90it/s]"
     ]
    },
    {
     "name": "stdout",
     "output_type": "stream",
     "text": [
      "Epoch: 1041/1183 | avg rmse: 0.9494 | avg mse: 2.2071 | target: -0.2200 | pred: -1.7056\n"
     ]
    },
    {
     "name": "stderr",
     "output_type": "stream",
     "text": [
      "Division 6/6:  89%|███████████████████████████████████████████████████████████████████████████████████████████████████████████████████████████▏              | 1052/1178 [01:24<00:10, 12.00it/s]"
     ]
    },
    {
     "name": "stdout",
     "output_type": "stream",
     "text": [
      "Epoch: 1051/1183 | avg rmse: 0.9479 | avg mse: 0.5598 | target: -4.6200 | pred: -5.3682\n"
     ]
    },
    {
     "name": "stderr",
     "output_type": "stream",
     "text": [
      "Division 6/6:  90%|████████████████████████████████████████████████████████████████████████████████████████████████████████████████████████████▋             | 1064/1178 [01:25<00:08, 14.05it/s]"
     ]
    },
    {
     "name": "stdout",
     "output_type": "stream",
     "text": [
      "Epoch: 1061/1183 | avg rmse: 0.9457 | avg mse: 0.6625 | target: -1.9100 | pred: -2.7239\n"
     ]
    },
    {
     "name": "stderr",
     "output_type": "stream",
     "text": [
      "Division 6/6:  91%|█████████████████████████████████████████████████████████████████████████████████████████████████████████████████████████████▍            | 1071/1178 [01:26<00:07, 13.71it/s]"
     ]
    },
    {
     "name": "stdout",
     "output_type": "stream",
     "text": [
      "Epoch: 1071/1183 | avg rmse: 0.9427 | avg mse: 0.0043 | target: -4.4300 | pred: -4.4960\n"
     ]
    },
    {
     "name": "stderr",
     "output_type": "stream",
     "text": [
      "Division 6/6:  92%|██████████████████████████████████████████████████████████████████████████████████████████████████████████████████████████████▊           | 1082/1178 [01:27<00:07, 12.33it/s]"
     ]
    },
    {
     "name": "stdout",
     "output_type": "stream",
     "text": [
      "Epoch: 1081/1183 | avg rmse: 0.9394 | avg mse: 1.1394 | target: -1.3000 | pred: -2.3674\n"
     ]
    },
    {
     "name": "stderr",
     "output_type": "stream",
     "text": [
      "Division 6/6:  93%|███████████████████████████████████████████████████████████████████████████████████████████████████████████████████████████████▉          | 1092/1178 [01:27<00:07, 10.80it/s]"
     ]
    },
    {
     "name": "stdout",
     "output_type": "stream",
     "text": [
      "Epoch: 1091/1183 | avg rmse: 0.9388 | avg mse: 5.7659 | target: -3.2800 | pred: -0.8788\n"
     ]
    },
    {
     "name": "stderr",
     "output_type": "stream",
     "text": [
      "Division 6/6:  94%|█████████████████████████████████████████████████████████████████████████████████████████████████████████████████████████████████         | 1102/1178 [01:28<00:06, 11.62it/s]"
     ]
    },
    {
     "name": "stdout",
     "output_type": "stream",
     "text": [
      "Epoch: 1101/1183 | avg rmse: 0.9359 | avg mse: 1.8482 | target: -7.9200 | pred: -6.5605\n"
     ]
    },
    {
     "name": "stderr",
     "output_type": "stream",
     "text": [
      "Division 6/6:  94%|██████████████████████████████████████████████████████████████████████████████████████████████████████████████████████████████████▍       | 1113/1178 [01:29<00:04, 13.66it/s]"
     ]
    },
    {
     "name": "stdout",
     "output_type": "stream",
     "text": [
      "Epoch: 1111/1183 | avg rmse: 0.9376 | avg mse: 10.6632 | target: 0.4300 | pred: -2.8355\n"
     ]
    },
    {
     "name": "stderr",
     "output_type": "stream",
     "text": [
      "Division 6/6:  95%|███████████████████████████████████████████████████████████████████████████████████████████████████████████████████████████████████▎      | 1121/1178 [01:30<00:05, 10.91it/s]"
     ]
    },
    {
     "name": "stdout",
     "output_type": "stream",
     "text": [
      "Epoch: 1121/1183 | avg rmse: 0.9345 | avg mse: 0.1138 | target: -3.1100 | pred: -2.7727\n"
     ]
    },
    {
     "name": "stderr",
     "output_type": "stream",
     "text": [
      "Division 6/6:  96%|████████████████████████████████████████████████████████████████████████████████████████████████████████████████████████████████████▌     | 1132/1178 [01:31<00:03, 13.89it/s]"
     ]
    },
    {
     "name": "stdout",
     "output_type": "stream",
     "text": [
      "Epoch: 1131/1183 | avg rmse: 0.9313 | avg mse: 1.7838 | target: -4.9100 | pred: -3.5744\n"
     ]
    },
    {
     "name": "stderr",
     "output_type": "stream",
     "text": [
      "Division 6/6:  97%|█████████████████████████████████████████████████████████████████████████████████████████████████████████████████████████████████████▊    | 1142/1178 [01:32<00:03, 10.85it/s]"
     ]
    },
    {
     "name": "stdout",
     "output_type": "stream",
     "text": [
      "Epoch: 1141/1183 | avg rmse: 0.9279 | avg mse: 0.1098 | target: -0.1700 | pred: -0.5013\n"
     ]
    },
    {
     "name": "stderr",
     "output_type": "stream",
     "text": [
      "Division 6/6:  98%|██████████████████████████████████████████████████████████████████████████████████████████████████████████████████████████████████████▉   | 1152/1178 [01:33<00:02, 12.38it/s]"
     ]
    },
    {
     "name": "stdout",
     "output_type": "stream",
     "text": [
      "Epoch: 1151/1183 | avg rmse: 0.9264 | avg mse: 0.0012 | target: -3.5400 | pred: -3.5751\n"
     ]
    },
    {
     "name": "stderr",
     "output_type": "stream",
     "text": [
      "Division 6/6:  99%|████████████████████████████████████████████████████████████████████████████████████████████████████████████████████████████████████████▏ | 1162/1178 [01:34<00:01, 10.55it/s]"
     ]
    },
    {
     "name": "stdout",
     "output_type": "stream",
     "text": [
      "Epoch: 1161/1183 | avg rmse: 0.9265 | avg mse: 0.7654 | target: -6.5600 | pred: -5.6851\n"
     ]
    },
    {
     "name": "stderr",
     "output_type": "stream",
     "text": [
      "Division 6/6: 100%|█████████████████████████████████████████████████████████████████████████████████████████████████████████████████████████████████████████▍| 1173/1178 [01:34<00:00, 15.02it/s]"
     ]
    },
    {
     "name": "stdout",
     "output_type": "stream",
     "text": [
      "Epoch: 1171/1183 | avg rmse: 0.9268 | avg mse: 0.4293 | target: -4.4000 | pred: -5.0552\n"
     ]
    },
    {
     "name": "stderr",
     "output_type": "stream",
     "text": [
      "Division 6/6: 100%|██████████████████████████████████████████████████████████████████████████████████████████████████████████████████████████████████████████| 1178/1178 [01:35<00:00, 12.37it/s]\n"
     ]
    }
   ],
   "source": [
    "gnn_rmse_dict= train_gnn3d_vary_dataset_size(train_samples, min_samples=278, max_samples=1178, divisions=5, save_dir=\"./models/logs/vary_train_size/\", dataset_name=\"logs\")"
   ]
  },
  {
   "cell_type": "markdown",
   "id": "76961dd1-1e09-4be4-9e14-e862ac8833b2",
   "metadata": {},
   "source": [
    "## Know your plots for training loss vs. training set size"
   ]
  },
  {
   "cell_type": "code",
   "execution_count": 35,
   "id": "1aebecd8-8f62-47b6-9236-cd0471044269",
   "metadata": {},
   "outputs": [
    {
     "data": {
      "image/png": "[encoded data removed]",
      "text/plain": [
       "<Figure size 1000x600 with 1 Axes>"
      ]
     },
     "metadata": {},
     "output_type": "display_data"
    }
   ],
   "source": [
    "# Create the directory if it does not exist\n",
    "plot_dir = \"./models/logs/vary_train_size/plots/\"\n",
    "os.makedirs(plot_dir, exist_ok=True)\n",
    "dataset_name=\"logs\"\n",
    "\n",
    "# Plot all divisions on the same plot\n",
    "plt.figure(figsize=(10, 6))  # Adjust figure size as needed\n",
    "\n",
    "for key in gnn_rmse_dict.keys():\n",
    "    plt.plot(gnn_rmse_dict[key][\"avg_rmse\"], label=f\"dataset size = {key[1:]}\")\n",
    "\n",
    "plt.legend()\n",
    "plt.title(\"GNN3D RMSE Loss for Different Dataset Sizes\")\n",
    "plt.xlabel(\"Epoch\")\n",
    "plt.ylabel(\"RMSE Loss\")\n",
    "plt.grid(True)\n",
    "plt.tight_layout()\n",
    "\n",
    "# Save the plot\n",
    "plt.savefig(f\"{plot_dir}gnn3d_{dataset_name}_all_divisions.svg\", format='svg')\n",
    "plt.show()"
   ]
  },
  {
   "cell_type": "code",
   "execution_count": null,
   "id": "d3c0a952-5985-46e6-aebc-d53d664f33d2",
   "metadata": {},
   "outputs": [],
   "source": []
  }
 ],
 "metadata": {
  "kernelspec": {
   "display_name": "Python 3 (ipykernel)",
   "language": "python",
   "name": "python3"
  },
  "language_info": {
   "codemirror_mode": {
    "name": "ipython",
    "version": 3
   },
   "file_extension": ".py",
   "mimetype": "text/x-python",
   "name": "python",
   "nbconvert_exporter": "python",
   "pygments_lexer": "ipython3",
   "version": "3.12.2"
  }
 },
 "nbformat": 4,
 "nbformat_minor": 5
}
