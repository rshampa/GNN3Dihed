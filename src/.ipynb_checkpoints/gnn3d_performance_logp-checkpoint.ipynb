{
 "cells": [
  {
   "cell_type": "markdown",
   "id": "ede5a585-8b58-4257-b162-6e36cb73f873",
   "metadata": {},
   "source": [
    "## Know your libraries (KYL)"
   ]
  },
  {
   "cell_type": "code",
   "execution_count": 1,
   "id": "96c06257-a4aa-4aa0-a2cc-d61619fb23e7",
   "metadata": {},
   "outputs": [
    {
     "name": "stdout",
     "output_type": "stream",
     "text": [
      "cpu\n"
     ]
    }
   ],
   "source": [
    "from dataset import QM9Dataset,LogSDataset,LogPDataset,FreeSolvDataset,ESOLDataset\n",
    "import numpy as np\n",
    "import pandas as pd\n",
    "from utils import *\n",
    "import torch\n",
    "from scipy.stats import pearsonr\n",
    "from tqdm import tqdm\n",
    "from model import Autoencoder # Simply importing the autoencoder model module from the model.py file\n",
    "from model import GNN3D\n",
    "\n",
    "import matplotlib.pyplot as plt\n",
    "from rdkit import Chem\n",
    "from rdkit.Chem import AllChem\n",
    "from rdkit.Chem.Draw import MolsToGridImage\n",
    "\n",
    "import os\n",
    "import sys\n",
    "datadir=\"../data/logp/\"\n",
    "modeldir=\"./models/logp/\"\n",
    "dataset_name=\"logp\"\n",
    "# Create datadir and modeldir folders if they don't exist\n",
    "if not os.path.exists(datadir):\n",
    "    os.makedirs(datadir)\n",
    "    \n",
    "if not os.path.exists(modeldir):\n",
    "    os.makedirs(modeldir)\n",
    "    \n",
    "device = torch.device(\"cuda\" if torch.cuda.is_available() else \"cpu\")\n",
    "print(device)"
   ]
  },
  {
   "cell_type": "markdown",
   "id": "9f15f0d0-0cb2-4642-84b0-5b63450abc49",
   "metadata": {},
   "source": [
    "## Split your dataset (SYD)"
   ]
  },
  {
   "cell_type": "code",
   "execution_count": 2,
   "id": "6cc4c168-84d4-4b6b-9101-730733b54d69",
   "metadata": {},
   "outputs": [
    {
     "name": "stdout",
     "output_type": "stream",
     "text": [
      "Train and test datasets saved successfully.\n"
     ]
    }
   ],
   "source": [
    "# Load dataset from CSV\n",
    "dataset = pd.read_csv(datadir+dataset_name+\".csv\")\n",
    "\n",
    "# Split dataset into train and test\n",
    "train_dataset, test_dataset = split_dataset(dataset, 0.8)\n",
    "\n",
    "# Write train_dataset and test_dataset to CSV files\n",
    "train_dataset.to_csv(datadir+\"train.csv\", index=False)\n",
    "test_dataset.to_csv(datadir+\"test.csv\", index=False)\n",
    "\n",
    "print(\"Train and test datasets saved successfully.\")"
   ]
  },
  {
   "cell_type": "markdown",
   "id": "d54da7a7-16b5-4c3d-9016-404ee9cc5d0d",
   "metadata": {},
   "source": [
    "## Process your data (PYD)"
   ]
  },
  {
   "cell_type": "code",
   "execution_count": 4,
   "id": "57a5b7a1-e495-4f9a-9afe-5f36a14e4ee0",
   "metadata": {},
   "outputs": [
    {
     "name": "stdout",
     "output_type": "stream",
     "text": [
      "Loading dataset from folder\n",
      "Initializing Molecular Representation Generator\n",
      "Dataset Name: LogP\n",
      "Number of Molecules Loaded: 3357\n",
      "===================================\n",
      "Loading dataset from folder\n",
      "Initializing Molecular Representation Generator\n",
      "Dataset Name: LogP\n",
      "Number of Molecules Loaded: 839\n"
     ]
    }
   ],
   "source": [
    "train_samples = LogPDataset(datadir+\"train\")\n",
    "print(train_samples)\n",
    "print(\"===================================\")\n",
    "test_samples = LogPDataset(datadir+\"test\")\n",
    "print(test_samples)"
   ]
  },
  {
   "cell_type": "markdown",
   "id": "fb6992d9-9ff0-4e60-8c03-06e81c1265ac",
   "metadata": {},
   "source": [
    "## Know your featues (KYF)"
   ]
  },
  {
   "cell_type": "code",
   "execution_count": 5,
   "id": "15e120fd-0f78-40a9-b890-b237c8715434",
   "metadata": {},
   "outputs": [
    {
     "name": "stdout",
     "output_type": "stream",
     "text": [
      "Atomic Features: torch.Size([35, 56]) - This represents the atomic features of the molecule\n",
      "Bond Features: torch.Size([72, 10]) - This represents the bond features of the molecule\n",
      "Angle Features: torch.Size([122]) - This represents the angle features of the molecule\n",
      "Dihedral Features: torch.Size([168]) - This represents the dihedral features of the molecule\n",
      "Global Molecular Features: torch.Size([200]) - This represents the global molecular features of the molecule\n",
      "Bond Indices: torch.Size([72, 2]) - This represents the bond indices of the molecule\n",
      "Angle Indices: torch.Size([122, 2]) - This represents the angle indices of the molecule\n",
      "Dihedral Indices: torch.Size([168, 2]) - This represents the dihedral indices of the molecule\n",
      "Target: torch.Size([1]) - This represents the target of the molecule\n"
     ]
    }
   ],
   "source": [
    "# Printing out the dimensions of all of these features with a description of what each feature is\n",
    "print(f\"Atomic Features: {(train_samples[0])[0].shape} - This represents the atomic features of the molecule\")\n",
    "print(f\"Bond Features: {(train_samples[0])[1].shape} - This represents the bond features of the molecule\")\n",
    "print(f\"Angle Features: {(train_samples[0])[2].shape} - This represents the angle features of the molecule\")\n",
    "print(f\"Dihedral Features: {(train_samples[0])[3].shape} - This represents the dihedral features of the molecule\")\n",
    "print(f\"Global Molecular Features: {(train_samples[0])[4].shape} - This represents the global molecular features of the molecule\")\n",
    "print(f\"Bond Indices: {(train_samples[0])[5].shape} - This represents the bond indices of the molecule\")\n",
    "print(f\"Angle Indices: {(train_samples[0])[6].shape} - This represents the angle indices of the molecule\")\n",
    "print(f\"Dihedral Indices: {(train_samples[0])[7].shape} - This represents the dihedral indices of the molecule\")\n",
    "print(f\"Target: {(train_samples[0])[8].shape} - This represents the target of the molecule\")"
   ]
  },
  {
   "cell_type": "markdown",
   "id": "b386540a-8acc-49bf-94b9-b8760824a501",
   "metadata": {},
   "source": [
    "## Know your modules (KYM)"
   ]
  },
  {
   "cell_type": "code",
   "execution_count": 6,
   "id": "48ce2298-c8e1-439e-a0ef-fd5b727a0081",
   "metadata": {},
   "outputs": [],
   "source": [
    "def train_autoencoder_model(samples, atom_autoencoder, bond_autoencoder, n_epochs=10, printstep=10, save_dir=\"./models/\", dataset_name=\"logs\"):\n",
    "    \"\"\"Train Autoencoder: Atom and bond\"\"\"\n",
    "    # Set the model in training mode\n",
    "    atom_autoencoder.train()\n",
    "    bond_autoencoder.train()\n",
    "\n",
    "    # Create the directory if it does not exist\n",
    "    os.makedirs(save_dir, exist_ok=True)\n",
    "\n",
    "    # Lists to store losses\n",
    "    avg_atom_rmse_losses = []\n",
    "    avg_bond_rmse_losses = []\n",
    "\n",
    "    for epoch_i in range(n_epochs):\n",
    "        avg_atom_rmse_loss = 0\n",
    "        avg_bond_rmse_loss = 0\n",
    "        total_samples = 0\n",
    "        \n",
    "        for i, molecule in enumerate(samples):\n",
    "            atom_features = molecule[0].to(device)\n",
    "            bond_features = molecule[1].to(device)\n",
    "            \n",
    "            # Forward pass\n",
    "            atom_features_reconstructed = atom_autoencoder(atom_features)\n",
    "            bond_features_reconstructed = bond_autoencoder(bond_features)\n",
    "            \n",
    "            # Calculating loss\n",
    "            atom_loss = mse_loss_fn(atom_features_reconstructed, atom_features)\n",
    "            bond_loss = mse_loss_fn(bond_features_reconstructed, bond_features)\n",
    "            \n",
    "            # Backward pass and optimization step\n",
    "            atom_optimizer.zero_grad()\n",
    "            bond_optimizer.zero_grad()\n",
    "            atom_loss.backward()\n",
    "            bond_loss.backward()\n",
    "            atom_optimizer.step()\n",
    "            bond_optimizer.step()\n",
    "            \n",
    "            # Calculating average loss\n",
    "            avg_atom_rmse_loss = (avg_atom_rmse_loss * total_samples + torch.sqrt(atom_loss).item()) / (total_samples + 1)\n",
    "            avg_bond_rmse_loss = (avg_bond_rmse_loss * total_samples + torch.sqrt(bond_loss).item()) / (total_samples + 1)           \n",
    "            total_samples += 1\n",
    "\n",
    "            \n",
    "            if (i % printstep == 0):\n",
    "                print(f\"Epoch: {epoch_i:>3}/{n_epochs} | Samples: {i:>6}/{len(samples)} | Atom Avg. RMSE Loss: {avg_atom_rmse_loss:.4f} | Bond Avg. RMSE Loss: {avg_bond_rmse_loss:.4f}\")\n",
    "        \n",
    "        # Append average losses for the epoch to lists\n",
    "        avg_atom_rmse_losses.append(avg_atom_rmse_loss)\n",
    "        avg_bond_rmse_losses.append(avg_bond_rmse_loss)\n",
    "                \n",
    "    # Save the accumulated losses to a file\n",
    "    losses_file = os.path.join(save_dir, f\"autoencoder_losses_{dataset_name}.txt\")\n",
    "    with open(losses_file, 'w') as f:\n",
    "        f.write(f\"Epoch\\tAvg Atom RMSE Loss\\tAvg Bond RMSE Loss\\n\")\n",
    "        for epoch_i in range(n_epochs):\n",
    "            f.write(f\"{epoch_i}\\t{avg_atom_rmse_losses[epoch_i]}\\t{avg_bond_rmse_losses[epoch_i]}\\n\")\n",
    "\n",
    "    # Save model state\n",
    "    torch.save(atom_autoencoder.state_dict(), f\"{save_dir}atom_autoencoder_{dataset_name}.pth\")\n",
    "    torch.save(bond_autoencoder.state_dict(), f\"{save_dir}bond_autoencoder_{dataset_name}.pth\")\n",
    "    \n",
    "    return avg_atom_rmse_losses, avg_bond_rmse_losses\n",
    "    \n",
    "\n",
    "\n",
    "\n",
    "def process_molecule(molecule, atom_autoencoder, bond_autoencoder):\n",
    "    \"\"\"Separate input features and target\"\"\"\n",
    "    # Ensure molecule has at least 8 elements\n",
    "    if len(molecule) < 8:\n",
    "        return None, None\n",
    "    \n",
    "    target = molecule[8].to(device)  # Assuming target is the 9th element (index 8)\n",
    "    # Assuming first 8 elements are molecule graph input features:\n",
    "    # atomic_features, bond_features, angle_features, dihedral_features, \n",
    "    # global_molecular_features, bond_indices, angle_indices,  dihedral_indices    \n",
    "    molecule_data = [mol_elem.to(device) for mol_elem in molecule[:8]]\n",
    "    \n",
    "    # Putting latent atomic and bond features through encoders\n",
    "    molecule_data[0] = atom_autoencoder.encode(molecule_data[0])\n",
    "    molecule_data[1] = bond_autoencoder.encode(molecule_data[1])\n",
    "    \n",
    "    return molecule_data, target\n",
    "\n",
    "\n",
    "\n",
    "\n",
    "def train_gnn3d_model(gnn3d, samples, atom_autoencoder, bond_autoencoder, n_epochs=10, printstep=10, save_dir=\"./models/\", dataset_name=\"logs\"):\n",
    "    \"\"\"Train GNN3D\"\"\"\n",
    "    # Set the model in training mode\n",
    "    gnn3d.train()\n",
    "\n",
    "    # Create the directory if it does not exist\n",
    "    os.makedirs(save_dir, exist_ok=True)\n",
    "   \n",
    "    # Lists to store losses\n",
    "    avg_rmse_losses = []\n",
    "    avg_mse_losses = []\n",
    "\n",
    "    for epoch_i in range(n_epochs):\n",
    "        avg_rmse_loss = 0\n",
    "        avg_mse_loss = 0\n",
    "        total_samples = 0\n",
    "        \n",
    "        for i in tqdm(range(len(samples)), desc='Processing samples'):\n",
    "            molecule_data, target = process_molecule(samples[i], atom_autoencoder, bond_autoencoder)\n",
    "            if molecule_data is None:\n",
    "                continue\n",
    "            \n",
    "            # Forward pass\n",
    "            prediction = gnn3d(molecule_data)\n",
    "            \n",
    "            # Calculating loss\n",
    "            loss = mse_loss_fn(prediction, target)\n",
    "            \n",
    "            # Backward pass\n",
    "            gnn_optimizer.zero_grad()\n",
    "            loss.backward()\n",
    "            gnn_optimizer.step()\n",
    "            \n",
    "            # Calculating average loss\n",
    "            avg_rmse_loss = (avg_rmse_loss * total_samples + torch.sqrt(loss).item()) / (total_samples + 1)\n",
    "            avg_mse_loss = (avg_mse_loss * total_samples + loss.item()) / (total_samples + 1)\n",
    "            total_samples += 1\n",
    "            \n",
    "            if (i % printstep == 0):\n",
    "                print(f\"Epoch: {epoch_i:>3} | Samples: {i:>6}/{len(samples)} | Avg. RMSE Loss: {avg_rmse_loss:.4f} | Avg. MSE Loss: {avg_mse_loss:.4f}\")\n",
    "\n",
    "                # Append average losses for the epoch to lists\n",
    "        avg_rmse_losses.append(avg_rmse_loss)\n",
    "        avg_mse_losses.append(avg_mse_loss)\n",
    "                \n",
    "    # Save the accumulated losses to a file\n",
    "    losses_file = os.path.join(save_dir, f\"gnn3d_losses_{dataset_name}.txt\")\n",
    "    with open(losses_file, 'w') as f:\n",
    "        f.write(f\"Epoch\\tAvg RMSE Loss\\tAvg RMSE Loss\\n\")\n",
    "        for epoch_i in range(n_epochs):\n",
    "            f.write(f\"{epoch_i}\\t{avg_rmse_losses[epoch_i]}\\t{avg_mse_losses[epoch_i]}\\n\")\n",
    "\n",
    "    # Save model state\n",
    "    torch.save(gnn3d.state_dict(), f\"{save_dir}gnn3d_{dataset_name}.pth\")\n",
    "    \n",
    "    return avg_rmse_losses, avg_mse_losses\n",
    "\n",
    "\n",
    "\n",
    "\n",
    "def evaluate_gnn3d_model(gnn3d, samples, atom_autoencoder, bond_autoencoder):\n",
    "    \"\"\"Evaluate GNN3D\"\"\"\n",
    "    # Set the model in evaluation mode\n",
    "    gnn3d.eval()\n",
    "\n",
    "    # List to store predictions\n",
    "    predictions = []\n",
    "    targets = []\n",
    "    \n",
    "    avg_rmse_loss = 0\n",
    "    avg_mse_loss = 0\n",
    "    total_samples = 0\n",
    "    \n",
    "    with torch.no_grad():\n",
    "        for i, molecule in enumerate(samples):\n",
    "            molecule_data, target = process_molecule(molecule, atom_autoencoder, bond_autoencoder)\n",
    "            if molecule_data is None:\n",
    "                continue\n",
    "            \n",
    "            # Forward pass\n",
    "            prediction = gnn3d(molecule_data)\n",
    "\n",
    "            # Extract target, prediction\n",
    "            target_value = target.item()\n",
    "            prediction_value = prediction.item()\n",
    "\n",
    "            # For every test samples\n",
    "            #print(f\"Target: {target.item():.4f} | Prediction: {prediction.item():.4f}\")\n",
    "    \n",
    "            # Store prediction\n",
    "            predictions.append(prediction_value)\n",
    "            targets.append(target_value)\n",
    "                        \n",
    "            # Calculating loss\n",
    "            loss = mse_loss_fn(prediction, target)\n",
    "            \n",
    "            # Accumulate losses\n",
    "            avg_rmse_loss += (torch.sqrt(loss).item())\n",
    "            avg_mse_loss += loss.item()\n",
    "            total_samples += 1\n",
    "    \n",
    "    # Calculate average losses\n",
    "    avg_rmse_loss /= total_samples\n",
    "    avg_mse_loss /= total_samples\n",
    "    \n",
    "    print(f\"Evaluation Results:\")\n",
    "    print(f\"Avg. RMSE Loss: {avg_rmse_loss:.4f}\")\n",
    "    print(f\"Avg. MSE Loss: {avg_mse_loss:.4f}\")\n",
    "    \n",
    "    return predictions, targets"
   ]
  },
  {
   "cell_type": "markdown",
   "id": "acb3a1fa-cb1b-4397-a444-62b2126099e3",
   "metadata": {},
   "source": [
    "## Training"
   ]
  },
  {
   "cell_type": "markdown",
   "id": "f4253885-98e8-48fb-8847-ba893b9c9b05",
   "metadata": {},
   "source": [
    "### Autoencoder training"
   ]
  },
  {
   "cell_type": "code",
   "execution_count": 7,
   "id": "b723752e-b5db-4c9f-8c77-e26dde760638",
   "metadata": {},
   "outputs": [
    {
     "name": "stdout",
     "output_type": "stream",
     "text": [
      "Epoch:   0/20 | Samples:      0/3357 | Atom Avg. RMSE Loss: 0.3521 | Bond Avg. RMSE Loss: 0.5161\n",
      "Epoch:   0/20 | Samples:    500/3357 | Atom Avg. RMSE Loss: 0.1549 | Bond Avg. RMSE Loss: 0.3418\n",
      "Epoch:   0/20 | Samples:   1000/3357 | Atom Avg. RMSE Loss: 0.1162 | Bond Avg. RMSE Loss: 0.2390\n",
      "Epoch:   0/20 | Samples:   1500/3357 | Atom Avg. RMSE Loss: 0.0982 | Bond Avg. RMSE Loss: 0.1994\n",
      "Epoch:   0/20 | Samples:   2000/3357 | Atom Avg. RMSE Loss: 0.0875 | Bond Avg. RMSE Loss: 0.1759\n",
      "Epoch:   0/20 | Samples:   2500/3357 | Atom Avg. RMSE Loss: 0.0803 | Bond Avg. RMSE Loss: 0.1531\n",
      "Epoch:   0/20 | Samples:   3000/3357 | Atom Avg. RMSE Loss: 0.0751 | Bond Avg. RMSE Loss: 0.1342\n",
      "Epoch:   1/20 | Samples:      0/3357 | Atom Avg. RMSE Loss: 0.0523 | Bond Avg. RMSE Loss: 0.0631\n",
      "Epoch:   1/20 | Samples:    500/3357 | Atom Avg. RMSE Loss: 0.0449 | Bond Avg. RMSE Loss: 0.0244\n",
      "Epoch:   1/20 | Samples:   1000/3357 | Atom Avg. RMSE Loss: 0.0441 | Bond Avg. RMSE Loss: 0.0235\n",
      "Epoch:   1/20 | Samples:   1500/3357 | Atom Avg. RMSE Loss: 0.0436 | Bond Avg. RMSE Loss: 0.0216\n",
      "Epoch:   1/20 | Samples:   2000/3357 | Atom Avg. RMSE Loss: 0.0430 | Bond Avg. RMSE Loss: 0.0195\n",
      "Epoch:   1/20 | Samples:   2500/3357 | Atom Avg. RMSE Loss: 0.0425 | Bond Avg. RMSE Loss: 0.0177\n",
      "Epoch:   1/20 | Samples:   3000/3357 | Atom Avg. RMSE Loss: 0.0422 | Bond Avg. RMSE Loss: 0.0164\n",
      "Epoch:   2/20 | Samples:      0/3357 | Atom Avg. RMSE Loss: 0.0422 | Bond Avg. RMSE Loss: 0.0071\n",
      "Epoch:   2/20 | Samples:    500/3357 | Atom Avg. RMSE Loss: 0.0393 | Bond Avg. RMSE Loss: 0.0094\n",
      "Epoch:   2/20 | Samples:   1000/3357 | Atom Avg. RMSE Loss: 0.0393 | Bond Avg. RMSE Loss: 0.0100\n",
      "Epoch:   2/20 | Samples:   1500/3357 | Atom Avg. RMSE Loss: 0.0391 | Bond Avg. RMSE Loss: 0.0103\n",
      "Epoch:   2/20 | Samples:   2000/3357 | Atom Avg. RMSE Loss: 0.0389 | Bond Avg. RMSE Loss: 0.0104\n",
      "Epoch:   2/20 | Samples:   2500/3357 | Atom Avg. RMSE Loss: 0.0388 | Bond Avg. RMSE Loss: 0.0102\n",
      "Epoch:   2/20 | Samples:   3000/3357 | Atom Avg. RMSE Loss: 0.0387 | Bond Avg. RMSE Loss: 0.0101\n",
      "Epoch:   3/20 | Samples:      0/3357 | Atom Avg. RMSE Loss: 0.0365 | Bond Avg. RMSE Loss: 0.0069\n",
      "Epoch:   3/20 | Samples:    500/3357 | Atom Avg. RMSE Loss: 0.0382 | Bond Avg. RMSE Loss: 0.0089\n",
      "Epoch:   3/20 | Samples:   1000/3357 | Atom Avg. RMSE Loss: 0.0383 | Bond Avg. RMSE Loss: 0.0096\n",
      "Epoch:   3/20 | Samples:   1500/3357 | Atom Avg. RMSE Loss: 0.0381 | Bond Avg. RMSE Loss: 0.0099\n",
      "Epoch:   3/20 | Samples:   2000/3357 | Atom Avg. RMSE Loss: 0.0381 | Bond Avg. RMSE Loss: 0.0100\n",
      "Epoch:   3/20 | Samples:   2500/3357 | Atom Avg. RMSE Loss: 0.0380 | Bond Avg. RMSE Loss: 0.0098\n",
      "Epoch:   3/20 | Samples:   3000/3357 | Atom Avg. RMSE Loss: 0.0381 | Bond Avg. RMSE Loss: 0.0096\n",
      "Epoch:   4/20 | Samples:      0/3357 | Atom Avg. RMSE Loss: 0.0375 | Bond Avg. RMSE Loss: 0.0073\n",
      "Epoch:   4/20 | Samples:    500/3357 | Atom Avg. RMSE Loss: 0.0383 | Bond Avg. RMSE Loss: 0.0081\n",
      "Epoch:   4/20 | Samples:   1000/3357 | Atom Avg. RMSE Loss: 0.0381 | Bond Avg. RMSE Loss: 0.0086\n",
      "Epoch:   4/20 | Samples:   1500/3357 | Atom Avg. RMSE Loss: 0.0380 | Bond Avg. RMSE Loss: 0.0087\n",
      "Epoch:   4/20 | Samples:   2000/3357 | Atom Avg. RMSE Loss: 0.0379 | Bond Avg. RMSE Loss: 0.0086\n",
      "Epoch:   4/20 | Samples:   2500/3357 | Atom Avg. RMSE Loss: 0.0379 | Bond Avg. RMSE Loss: 0.0083\n",
      "Epoch:   4/20 | Samples:   3000/3357 | Atom Avg. RMSE Loss: 0.0379 | Bond Avg. RMSE Loss: 0.0080\n",
      "Epoch:   5/20 | Samples:      0/3357 | Atom Avg. RMSE Loss: 0.0371 | Bond Avg. RMSE Loss: 0.0057\n",
      "Epoch:   5/20 | Samples:    500/3357 | Atom Avg. RMSE Loss: 0.0378 | Bond Avg. RMSE Loss: 0.0062\n",
      "Epoch:   5/20 | Samples:   1000/3357 | Atom Avg. RMSE Loss: 0.0379 | Bond Avg. RMSE Loss: 0.0063\n",
      "Epoch:   5/20 | Samples:   1500/3357 | Atom Avg. RMSE Loss: 0.0378 | Bond Avg. RMSE Loss: 0.0062\n",
      "Epoch:   5/20 | Samples:   2000/3357 | Atom Avg. RMSE Loss: 0.0378 | Bond Avg. RMSE Loss: 0.0058\n",
      "Epoch:   5/20 | Samples:   2500/3357 | Atom Avg. RMSE Loss: 0.0378 | Bond Avg. RMSE Loss: 0.0055\n",
      "Epoch:   5/20 | Samples:   3000/3357 | Atom Avg. RMSE Loss: 0.0378 | Bond Avg. RMSE Loss: 0.0055\n",
      "Epoch:   6/20 | Samples:      0/3357 | Atom Avg. RMSE Loss: 0.0364 | Bond Avg. RMSE Loss: 0.0047\n",
      "Epoch:   6/20 | Samples:    500/3357 | Atom Avg. RMSE Loss: 0.0377 | Bond Avg. RMSE Loss: 0.0042\n",
      "Epoch:   6/20 | Samples:   1000/3357 | Atom Avg. RMSE Loss: 0.0377 | Bond Avg. RMSE Loss: 0.0046\n",
      "Epoch:   6/20 | Samples:   1500/3357 | Atom Avg. RMSE Loss: 0.0377 | Bond Avg. RMSE Loss: 0.0047\n",
      "Epoch:   6/20 | Samples:   2000/3357 | Atom Avg. RMSE Loss: 0.0377 | Bond Avg. RMSE Loss: 0.0044\n",
      "Epoch:   6/20 | Samples:   2500/3357 | Atom Avg. RMSE Loss: 0.0377 | Bond Avg. RMSE Loss: 0.0043\n",
      "Epoch:   6/20 | Samples:   3000/3357 | Atom Avg. RMSE Loss: 0.0377 | Bond Avg. RMSE Loss: 0.0043\n",
      "Epoch:   7/20 | Samples:      0/3357 | Atom Avg. RMSE Loss: 0.0362 | Bond Avg. RMSE Loss: 0.0040\n",
      "Epoch:   7/20 | Samples:    500/3357 | Atom Avg. RMSE Loss: 0.0376 | Bond Avg. RMSE Loss: 0.0045\n",
      "Epoch:   7/20 | Samples:   1000/3357 | Atom Avg. RMSE Loss: 0.0377 | Bond Avg. RMSE Loss: 0.0044\n",
      "Epoch:   7/20 | Samples:   1500/3357 | Atom Avg. RMSE Loss: 0.0377 | Bond Avg. RMSE Loss: 0.0045\n",
      "Epoch:   7/20 | Samples:   2000/3357 | Atom Avg. RMSE Loss: 0.0376 | Bond Avg. RMSE Loss: 0.0041\n",
      "Epoch:   7/20 | Samples:   2500/3357 | Atom Avg. RMSE Loss: 0.0376 | Bond Avg. RMSE Loss: 0.0041\n",
      "Epoch:   7/20 | Samples:   3000/3357 | Atom Avg. RMSE Loss: 0.0377 | Bond Avg. RMSE Loss: 0.0040\n",
      "Epoch:   8/20 | Samples:      0/3357 | Atom Avg. RMSE Loss: 0.0358 | Bond Avg. RMSE Loss: 0.0044\n",
      "Epoch:   8/20 | Samples:    500/3357 | Atom Avg. RMSE Loss: 0.0376 | Bond Avg. RMSE Loss: 0.0042\n",
      "Epoch:   8/20 | Samples:   1000/3357 | Atom Avg. RMSE Loss: 0.0376 | Bond Avg. RMSE Loss: 0.0046\n",
      "Epoch:   8/20 | Samples:   1500/3357 | Atom Avg. RMSE Loss: 0.0376 | Bond Avg. RMSE Loss: 0.0045\n",
      "Epoch:   8/20 | Samples:   2000/3357 | Atom Avg. RMSE Loss: 0.0375 | Bond Avg. RMSE Loss: 0.0041\n",
      "Epoch:   8/20 | Samples:   2500/3357 | Atom Avg. RMSE Loss: 0.0375 | Bond Avg. RMSE Loss: 0.0039\n",
      "Epoch:   8/20 | Samples:   3000/3357 | Atom Avg. RMSE Loss: 0.0375 | Bond Avg. RMSE Loss: 0.0040\n",
      "Epoch:   9/20 | Samples:      0/3357 | Atom Avg. RMSE Loss: 0.0358 | Bond Avg. RMSE Loss: 0.0034\n",
      "Epoch:   9/20 | Samples:    500/3357 | Atom Avg. RMSE Loss: 0.0373 | Bond Avg. RMSE Loss: 0.0032\n",
      "Epoch:   9/20 | Samples:   1000/3357 | Atom Avg. RMSE Loss: 0.0374 | Bond Avg. RMSE Loss: 0.0043\n",
      "Epoch:   9/20 | Samples:   1500/3357 | Atom Avg. RMSE Loss: 0.0374 | Bond Avg. RMSE Loss: 0.0045\n",
      "Epoch:   9/20 | Samples:   2000/3357 | Atom Avg. RMSE Loss: 0.0373 | Bond Avg. RMSE Loss: 0.0040\n",
      "Epoch:   9/20 | Samples:   2500/3357 | Atom Avg. RMSE Loss: 0.0374 | Bond Avg. RMSE Loss: 0.0039\n",
      "Epoch:   9/20 | Samples:   3000/3357 | Atom Avg. RMSE Loss: 0.0374 | Bond Avg. RMSE Loss: 0.0038\n",
      "Epoch:  10/20 | Samples:      0/3357 | Atom Avg. RMSE Loss: 0.0359 | Bond Avg. RMSE Loss: 0.0036\n",
      "Epoch:  10/20 | Samples:    500/3357 | Atom Avg. RMSE Loss: 0.0372 | Bond Avg. RMSE Loss: 0.0039\n",
      "Epoch:  10/20 | Samples:   1000/3357 | Atom Avg. RMSE Loss: 0.0373 | Bond Avg. RMSE Loss: 0.0045\n",
      "Epoch:  10/20 | Samples:   1500/3357 | Atom Avg. RMSE Loss: 0.0373 | Bond Avg. RMSE Loss: 0.0044\n",
      "Epoch:  10/20 | Samples:   2000/3357 | Atom Avg. RMSE Loss: 0.0373 | Bond Avg. RMSE Loss: 0.0040\n",
      "Epoch:  10/20 | Samples:   2500/3357 | Atom Avg. RMSE Loss: 0.0373 | Bond Avg. RMSE Loss: 0.0038\n",
      "Epoch:  10/20 | Samples:   3000/3357 | Atom Avg. RMSE Loss: 0.0373 | Bond Avg. RMSE Loss: 0.0039\n",
      "Epoch:  11/20 | Samples:      0/3357 | Atom Avg. RMSE Loss: 0.0358 | Bond Avg. RMSE Loss: 0.0037\n",
      "Epoch:  11/20 | Samples:    500/3357 | Atom Avg. RMSE Loss: 0.0375 | Bond Avg. RMSE Loss: 0.0038\n",
      "Epoch:  11/20 | Samples:   1000/3357 | Atom Avg. RMSE Loss: 0.0374 | Bond Avg. RMSE Loss: 0.0041\n",
      "Epoch:  11/20 | Samples:   1500/3357 | Atom Avg. RMSE Loss: 0.0374 | Bond Avg. RMSE Loss: 0.0040\n",
      "Epoch:  11/20 | Samples:   2000/3357 | Atom Avg. RMSE Loss: 0.0373 | Bond Avg. RMSE Loss: 0.0036\n",
      "Epoch:  11/20 | Samples:   2500/3357 | Atom Avg. RMSE Loss: 0.0374 | Bond Avg. RMSE Loss: 0.0036\n",
      "Epoch:  11/20 | Samples:   3000/3357 | Atom Avg. RMSE Loss: 0.0374 | Bond Avg. RMSE Loss: 0.0036\n",
      "Epoch:  12/20 | Samples:      0/3357 | Atom Avg. RMSE Loss: 0.0361 | Bond Avg. RMSE Loss: 0.0042\n",
      "Epoch:  12/20 | Samples:    500/3357 | Atom Avg. RMSE Loss: 0.0373 | Bond Avg. RMSE Loss: 0.0039\n",
      "Epoch:  12/20 | Samples:   1000/3357 | Atom Avg. RMSE Loss: 0.0373 | Bond Avg. RMSE Loss: 0.0039\n",
      "Epoch:  12/20 | Samples:   1500/3357 | Atom Avg. RMSE Loss: 0.0373 | Bond Avg. RMSE Loss: 0.0037\n",
      "Epoch:  12/20 | Samples:   2000/3357 | Atom Avg. RMSE Loss: 0.0373 | Bond Avg. RMSE Loss: 0.0034\n",
      "Epoch:  12/20 | Samples:   2500/3357 | Atom Avg. RMSE Loss: 0.0373 | Bond Avg. RMSE Loss: 0.0033\n",
      "Epoch:  12/20 | Samples:   3000/3357 | Atom Avg. RMSE Loss: 0.0373 | Bond Avg. RMSE Loss: 0.0035\n",
      "Epoch:  13/20 | Samples:      0/3357 | Atom Avg. RMSE Loss: 0.0360 | Bond Avg. RMSE Loss: 0.0024\n",
      "Epoch:  13/20 | Samples:    500/3357 | Atom Avg. RMSE Loss: 0.0372 | Bond Avg. RMSE Loss: 0.0025\n",
      "Epoch:  13/20 | Samples:   1000/3357 | Atom Avg. RMSE Loss: 0.0373 | Bond Avg. RMSE Loss: 0.0036\n",
      "Epoch:  13/20 | Samples:   1500/3357 | Atom Avg. RMSE Loss: 0.0373 | Bond Avg. RMSE Loss: 0.0033\n",
      "Epoch:  13/20 | Samples:   2000/3357 | Atom Avg. RMSE Loss: 0.0373 | Bond Avg. RMSE Loss: 0.0030\n",
      "Epoch:  13/20 | Samples:   2500/3357 | Atom Avg. RMSE Loss: 0.0373 | Bond Avg. RMSE Loss: 0.0031\n",
      "Epoch:  13/20 | Samples:   3000/3357 | Atom Avg. RMSE Loss: 0.0373 | Bond Avg. RMSE Loss: 0.0032\n",
      "Epoch:  14/20 | Samples:      0/3357 | Atom Avg. RMSE Loss: 0.0359 | Bond Avg. RMSE Loss: 0.0019\n",
      "Epoch:  14/20 | Samples:    500/3357 | Atom Avg. RMSE Loss: 0.0371 | Bond Avg. RMSE Loss: 0.0018\n",
      "Epoch:  14/20 | Samples:   1000/3357 | Atom Avg. RMSE Loss: 0.0372 | Bond Avg. RMSE Loss: 0.0027\n",
      "Epoch:  14/20 | Samples:   1500/3357 | Atom Avg. RMSE Loss: 0.0373 | Bond Avg. RMSE Loss: 0.0031\n",
      "Epoch:  14/20 | Samples:   2000/3357 | Atom Avg. RMSE Loss: 0.0372 | Bond Avg. RMSE Loss: 0.0028\n",
      "Epoch:  14/20 | Samples:   2500/3357 | Atom Avg. RMSE Loss: 0.0373 | Bond Avg. RMSE Loss: 0.0027\n",
      "Epoch:  14/20 | Samples:   3000/3357 | Atom Avg. RMSE Loss: 0.0373 | Bond Avg. RMSE Loss: 0.0030\n",
      "Epoch:  15/20 | Samples:      0/3357 | Atom Avg. RMSE Loss: 0.0359 | Bond Avg. RMSE Loss: 0.0027\n",
      "Epoch:  15/20 | Samples:    500/3357 | Atom Avg. RMSE Loss: 0.0371 | Bond Avg. RMSE Loss: 0.0021\n",
      "Epoch:  15/20 | Samples:   1000/3357 | Atom Avg. RMSE Loss: 0.0372 | Bond Avg. RMSE Loss: 0.0026\n",
      "Epoch:  15/20 | Samples:   1500/3357 | Atom Avg. RMSE Loss: 0.0373 | Bond Avg. RMSE Loss: 0.0031\n",
      "Epoch:  15/20 | Samples:   2000/3357 | Atom Avg. RMSE Loss: 0.0372 | Bond Avg. RMSE Loss: 0.0027\n",
      "Epoch:  15/20 | Samples:   2500/3357 | Atom Avg. RMSE Loss: 0.0373 | Bond Avg. RMSE Loss: 0.0025\n",
      "Epoch:  15/20 | Samples:   3000/3357 | Atom Avg. RMSE Loss: 0.0373 | Bond Avg. RMSE Loss: 0.0028\n",
      "Epoch:  16/20 | Samples:      0/3357 | Atom Avg. RMSE Loss: 0.0359 | Bond Avg. RMSE Loss: 0.0017\n",
      "Epoch:  16/20 | Samples:    500/3357 | Atom Avg. RMSE Loss: 0.0374 | Bond Avg. RMSE Loss: 0.0020\n",
      "Epoch:  16/20 | Samples:   1000/3357 | Atom Avg. RMSE Loss: 0.0374 | Bond Avg. RMSE Loss: 0.0024\n",
      "Epoch:  16/20 | Samples:   1500/3357 | Atom Avg. RMSE Loss: 0.0374 | Bond Avg. RMSE Loss: 0.0032\n",
      "Epoch:  16/20 | Samples:   2000/3357 | Atom Avg. RMSE Loss: 0.0373 | Bond Avg. RMSE Loss: 0.0027\n",
      "Epoch:  16/20 | Samples:   2500/3357 | Atom Avg. RMSE Loss: 0.0373 | Bond Avg. RMSE Loss: 0.0024\n",
      "Epoch:  16/20 | Samples:   3000/3357 | Atom Avg. RMSE Loss: 0.0373 | Bond Avg. RMSE Loss: 0.0024\n",
      "Epoch:  17/20 | Samples:      0/3357 | Atom Avg. RMSE Loss: 0.0361 | Bond Avg. RMSE Loss: 0.0010\n",
      "Epoch:  17/20 | Samples:    500/3357 | Atom Avg. RMSE Loss: 0.0374 | Bond Avg. RMSE Loss: 0.0026\n",
      "Epoch:  17/20 | Samples:   1000/3357 | Atom Avg. RMSE Loss: 0.0373 | Bond Avg. RMSE Loss: 0.0024\n",
      "Epoch:  17/20 | Samples:   1500/3357 | Atom Avg. RMSE Loss: 0.0373 | Bond Avg. RMSE Loss: 0.0027\n",
      "Epoch:  17/20 | Samples:   2000/3357 | Atom Avg. RMSE Loss: 0.0373 | Bond Avg. RMSE Loss: 0.0024\n",
      "Epoch:  17/20 | Samples:   2500/3357 | Atom Avg. RMSE Loss: 0.0373 | Bond Avg. RMSE Loss: 0.0024\n",
      "Epoch:  17/20 | Samples:   3000/3357 | Atom Avg. RMSE Loss: 0.0373 | Bond Avg. RMSE Loss: 0.0025\n",
      "Epoch:  18/20 | Samples:      0/3357 | Atom Avg. RMSE Loss: 0.0360 | Bond Avg. RMSE Loss: 0.0023\n",
      "Epoch:  18/20 | Samples:    500/3357 | Atom Avg. RMSE Loss: 0.0377 | Bond Avg. RMSE Loss: 0.0021\n",
      "Epoch:  18/20 | Samples:   1000/3357 | Atom Avg. RMSE Loss: 0.0375 | Bond Avg. RMSE Loss: 0.0021\n",
      "Epoch:  18/20 | Samples:   1500/3357 | Atom Avg. RMSE Loss: 0.0374 | Bond Avg. RMSE Loss: 0.0025\n",
      "Epoch:  18/20 | Samples:   2000/3357 | Atom Avg. RMSE Loss: 0.0373 | Bond Avg. RMSE Loss: 0.0023\n",
      "Epoch:  18/20 | Samples:   2500/3357 | Atom Avg. RMSE Loss: 0.0374 | Bond Avg. RMSE Loss: 0.0022\n",
      "Epoch:  18/20 | Samples:   3000/3357 | Atom Avg. RMSE Loss: 0.0374 | Bond Avg. RMSE Loss: 0.0025\n",
      "Epoch:  19/20 | Samples:      0/3357 | Atom Avg. RMSE Loss: 0.0358 | Bond Avg. RMSE Loss: 0.0007\n",
      "Epoch:  19/20 | Samples:    500/3357 | Atom Avg. RMSE Loss: 0.0371 | Bond Avg. RMSE Loss: 0.0013\n",
      "Epoch:  19/20 | Samples:   1000/3357 | Atom Avg. RMSE Loss: 0.0372 | Bond Avg. RMSE Loss: 0.0024\n",
      "Epoch:  19/20 | Samples:   1500/3357 | Atom Avg. RMSE Loss: 0.0373 | Bond Avg. RMSE Loss: 0.0026\n",
      "Epoch:  19/20 | Samples:   2000/3357 | Atom Avg. RMSE Loss: 0.0372 | Bond Avg. RMSE Loss: 0.0024\n",
      "Epoch:  19/20 | Samples:   2500/3357 | Atom Avg. RMSE Loss: 0.0372 | Bond Avg. RMSE Loss: 0.0022\n",
      "Epoch:  19/20 | Samples:   3000/3357 | Atom Avg. RMSE Loss: 0.0373 | Bond Avg. RMSE Loss: 0.0026\n"
     ]
    }
   ],
   "source": [
    "atom_autoencoder = Autoencoder(56, 10).to(device)\n",
    "bond_autoencoder = Autoencoder(10, 3).to(device)\n",
    "mse_loss_fn = torch.nn.MSELoss()\n",
    "atom_optimizer = torch.optim.Adam(atom_autoencoder.parameters())\n",
    "bond_optimizer = torch.optim.Adam(bond_autoencoder.parameters())\n",
    "\n",
    "atom_losses, bond_losses = train_autoencoder_model(train_samples, atom_autoencoder, bond_autoencoder, n_epochs=20, printstep=500, save_dir=modeldir, dataset_name=dataset_name)"
   ]
  },
  {
   "cell_type": "code",
   "execution_count": 8,
   "id": "792de4f6-df8a-4abf-ae05-f3909fb1fa03",
   "metadata": {},
   "outputs": [
    {
     "data": {
      "image/png": "[encoded data removed]",
      "text/plain": [
       "<Figure size 1000x600 with 1 Axes>"
      ]
     },
     "metadata": {},
     "output_type": "display_data"
    },
    {
     "data": {
      "image/png": "[encoded data removed]",
      "text/plain": [
       "<Figure size 1000x600 with 1 Axes>"
      ]
     },
     "metadata": {},
     "output_type": "display_data"
    }
   ],
   "source": [
    "# Plotting the losses (optional)\n",
    "plt.figure(figsize=(10, 6))\n",
    "plt.plot(range(1, len(atom_losses)+1), atom_losses, marker='o', linestyle='-', color='b', label='Avg. Atom RMSE Loss')\n",
    "#plt.plot(range(1, len(bond_losses)+1), bond_losses, marker='o', linestyle='-', color='r', label='Avg. Bond RMSE Loss')\n",
    "plt.title(f\"Atom Autoencoder Training Losses for {dataset_name}\")\n",
    "plt.xlabel(\"Epoch\")\n",
    "plt.ylabel(\"RMSE Loss\")\n",
    "plt.legend()\n",
    "plt.grid(True)\n",
    "plt.savefig(f\"{modeldir}atom_autoencoder_losses_{dataset_name}.png\")\n",
    "plt.show()\n",
    "\n",
    "# Plotting the losses (optional)\n",
    "plt.figure(figsize=(10, 6))\n",
    "#plt.plot(range(1, len(atom_losses)+1), atom_losses, marker='o', linestyle='-', color='b', label='Avg. Atom RMSE Loss')\n",
    "plt.plot(range(1, len(bond_losses)+1), bond_losses, marker='o', linestyle='-', color='r', label='Avg. Bond RMSE Loss')\n",
    "plt.title(f\"Bond Autoencoder Training Losses for {dataset_name}\")\n",
    "plt.xlabel(\"Epoch\")\n",
    "plt.ylabel(\"RMSE Loss\")\n",
    "plt.legend()\n",
    "plt.grid(True)\n",
    "plt.savefig(f\"{modeldir}bond_autoencoder_losses_{dataset_name}.png\")\n",
    "plt.show()"
   ]
  },
  {
   "cell_type": "markdown",
   "id": "66b95275-4edb-43d6-8227-a6130b511e11",
   "metadata": {},
   "source": [
    "### GNN3D training"
   ]
  },
  {
   "cell_type": "code",
   "execution_count": 9,
   "id": "1d98798d-a139-4616-bcb4-3608a98a934d",
   "metadata": {},
   "outputs": [
    {
     "name": "stderr",
     "output_type": "stream",
     "text": [
      "Processing samples:   0%|                                                                                                                                      | 2/3357 [00:00<08:55,  6.26it/s]"
     ]
    },
    {
     "name": "stdout",
     "output_type": "stream",
     "text": [
      "Epoch:   0 | Samples:      0/3357 | Avg. RMSE Loss: 2.6514 | Avg. MSE Loss: 7.0301\n"
     ]
    },
    {
     "name": "stderr",
     "output_type": "stream",
     "text": [
      "Processing samples:  15%|███████████████████▋                                                                                                                | 502/3357 [01:16<07:02,  6.76it/s]"
     ]
    },
    {
     "name": "stdout",
     "output_type": "stream",
     "text": [
      "Epoch:   0 | Samples:    500/3357 | Avg. RMSE Loss: 1.0131 | Avg. MSE Loss: 1.5493\n"
     ]
    },
    {
     "name": "stderr",
     "output_type": "stream",
     "text": [
      "Processing samples:  30%|███████████████████████████████████████                                                                                            | 1002/3357 [02:35<05:34,  7.03it/s]"
     ]
    },
    {
     "name": "stdout",
     "output_type": "stream",
     "text": [
      "Epoch:   0 | Samples:   1000/3357 | Avg. RMSE Loss: 0.9339 | Avg. MSE Loss: 1.3325\n"
     ]
    },
    {
     "name": "stderr",
     "output_type": "stream",
     "text": [
      "Processing samples:  45%|██████████████████████████████████████████████████████████▌                                                                        | 1502/3357 [03:54<05:48,  5.32it/s]"
     ]
    },
    {
     "name": "stdout",
     "output_type": "stream",
     "text": [
      "Epoch:   0 | Samples:   1500/3357 | Avg. RMSE Loss: 0.8860 | Avg. MSE Loss: 1.2260\n"
     ]
    },
    {
     "name": "stderr",
     "output_type": "stream",
     "text": [
      "Processing samples:  60%|██████████████████████████████████████████████████████████████████████████████                                                     | 2002/3357 [05:12<03:17,  6.86it/s]"
     ]
    },
    {
     "name": "stdout",
     "output_type": "stream",
     "text": [
      "Epoch:   0 | Samples:   2000/3357 | Avg. RMSE Loss: 0.8582 | Avg. MSE Loss: 1.1487\n"
     ]
    },
    {
     "name": "stderr",
     "output_type": "stream",
     "text": [
      "Processing samples:  75%|█████████████████████████████████████████████████████████████████████████████████████████████████▋                                 | 2502/3357 [06:30<02:30,  5.69it/s]"
     ]
    },
    {
     "name": "stdout",
     "output_type": "stream",
     "text": [
      "Epoch:   0 | Samples:   2500/3357 | Avg. RMSE Loss: 0.8400 | Avg. MSE Loss: 1.0972\n"
     ]
    },
    {
     "name": "stderr",
     "output_type": "stream",
     "text": [
      "Processing samples:  89%|█████████████████████████████████████████████████████████████████████████████████████████████████████████████████████              | 3001/3357 [07:47<00:57,  6.23it/s]"
     ]
    },
    {
     "name": "stdout",
     "output_type": "stream",
     "text": [
      "Epoch:   0 | Samples:   3000/3357 | Avg. RMSE Loss: 0.8222 | Avg. MSE Loss: 1.0495\n"
     ]
    },
    {
     "name": "stderr",
     "output_type": "stream",
     "text": [
      "Processing samples: 100%|███████████████████████████████████████████████████████████████████████████████████████████████████████████████████████████████████| 3357/3357 [08:45<00:00,  6.39it/s]\n",
      "Processing samples:   0%|                                                                                                                                      | 2/3357 [00:00<07:21,  7.60it/s]"
     ]
    },
    {
     "name": "stdout",
     "output_type": "stream",
     "text": [
      "Epoch:   1 | Samples:      0/3357 | Avg. RMSE Loss: 0.5390 | Avg. MSE Loss: 0.2906\n"
     ]
    },
    {
     "name": "stderr",
     "output_type": "stream",
     "text": [
      "Processing samples:  15%|███████████████████▋                                                                                                                | 502/3357 [01:16<07:00,  6.79it/s]"
     ]
    },
    {
     "name": "stdout",
     "output_type": "stream",
     "text": [
      "Epoch:   1 | Samples:    500/3357 | Avg. RMSE Loss: 0.7358 | Avg. MSE Loss: 0.8469\n"
     ]
    },
    {
     "name": "stderr",
     "output_type": "stream",
     "text": [
      "Processing samples:  30%|███████████████████████████████████████                                                                                            | 1002/3357 [02:35<05:35,  7.01it/s]"
     ]
    },
    {
     "name": "stdout",
     "output_type": "stream",
     "text": [
      "Epoch:   1 | Samples:   1000/3357 | Avg. RMSE Loss: 0.7176 | Avg. MSE Loss: 0.8179\n"
     ]
    },
    {
     "name": "stderr",
     "output_type": "stream",
     "text": [
      "Processing samples:  45%|██████████████████████████████████████████████████████████▌                                                                        | 1502/3357 [03:54<05:43,  5.39it/s]"
     ]
    },
    {
     "name": "stdout",
     "output_type": "stream",
     "text": [
      "Epoch:   1 | Samples:   1500/3357 | Avg. RMSE Loss: 0.7098 | Avg. MSE Loss: 0.8138\n"
     ]
    },
    {
     "name": "stderr",
     "output_type": "stream",
     "text": [
      "Processing samples:  60%|██████████████████████████████████████████████████████████████████████████████                                                     | 2002/3357 [05:12<03:14,  6.95it/s]"
     ]
    },
    {
     "name": "stdout",
     "output_type": "stream",
     "text": [
      "Epoch:   1 | Samples:   2000/3357 | Avg. RMSE Loss: 0.7082 | Avg. MSE Loss: 0.8025\n"
     ]
    },
    {
     "name": "stderr",
     "output_type": "stream",
     "text": [
      "Processing samples:  75%|█████████████████████████████████████████████████████████████████████████████████████████████████▋                                 | 2502/3357 [06:30<02:30,  5.69it/s]"
     ]
    },
    {
     "name": "stdout",
     "output_type": "stream",
     "text": [
      "Epoch:   1 | Samples:   2500/3357 | Avg. RMSE Loss: 0.7050 | Avg. MSE Loss: 0.7910\n"
     ]
    },
    {
     "name": "stderr",
     "output_type": "stream",
     "text": [
      "Processing samples:  89%|█████████████████████████████████████████████████████████████████████████████████████████████████████████████████████              | 3001/3357 [07:47<00:57,  6.18it/s]"
     ]
    },
    {
     "name": "stdout",
     "output_type": "stream",
     "text": [
      "Epoch:   1 | Samples:   3000/3357 | Avg. RMSE Loss: 0.6979 | Avg. MSE Loss: 0.7732\n"
     ]
    },
    {
     "name": "stderr",
     "output_type": "stream",
     "text": [
      "Processing samples: 100%|███████████████████████████████████████████████████████████████████████████████████████████████████████████████████████████████████| 3357/3357 [08:45<00:00,  6.39it/s]\n",
      "Processing samples:   0%|                                                                                                                                      | 2/3357 [00:00<07:23,  7.56it/s]"
     ]
    },
    {
     "name": "stdout",
     "output_type": "stream",
     "text": [
      "Epoch:   2 | Samples:      0/3357 | Avg. RMSE Loss: 0.6786 | Avg. MSE Loss: 0.4605\n"
     ]
    },
    {
     "name": "stderr",
     "output_type": "stream",
     "text": [
      "Processing samples:  15%|███████████████████▋                                                                                                                | 502/3357 [01:16<07:00,  6.78it/s]"
     ]
    },
    {
     "name": "stdout",
     "output_type": "stream",
     "text": [
      "Epoch:   2 | Samples:    500/3357 | Avg. RMSE Loss: 0.7046 | Avg. MSE Loss: 0.7770\n"
     ]
    },
    {
     "name": "stderr",
     "output_type": "stream",
     "text": [
      "Processing samples:  30%|███████████████████████████████████████                                                                                            | 1002/3357 [02:35<05:36,  7.00it/s]"
     ]
    },
    {
     "name": "stdout",
     "output_type": "stream",
     "text": [
      "Epoch:   2 | Samples:   1000/3357 | Avg. RMSE Loss: 0.6775 | Avg. MSE Loss: 0.7369\n"
     ]
    },
    {
     "name": "stderr",
     "output_type": "stream",
     "text": [
      "Processing samples:  45%|██████████████████████████████████████████████████████████▌                                                                        | 1502/3357 [03:54<05:47,  5.34it/s]"
     ]
    },
    {
     "name": "stdout",
     "output_type": "stream",
     "text": [
      "Epoch:   2 | Samples:   1500/3357 | Avg. RMSE Loss: 0.6714 | Avg. MSE Loss: 0.7381\n"
     ]
    },
    {
     "name": "stderr",
     "output_type": "stream",
     "text": [
      "Processing samples:  60%|██████████████████████████████████████████████████████████████████████████████                                                     | 2002/3357 [05:13<03:17,  6.86it/s]"
     ]
    },
    {
     "name": "stdout",
     "output_type": "stream",
     "text": [
      "Epoch:   2 | Samples:   2000/3357 | Avg. RMSE Loss: 0.6704 | Avg. MSE Loss: 0.7265\n"
     ]
    },
    {
     "name": "stderr",
     "output_type": "stream",
     "text": [
      "Processing samples:  75%|█████████████████████████████████████████████████████████████████████████████████████████████████▋                                 | 2502/3357 [06:31<02:29,  5.71it/s]"
     ]
    },
    {
     "name": "stdout",
     "output_type": "stream",
     "text": [
      "Epoch:   2 | Samples:   2500/3357 | Avg. RMSE Loss: 0.6676 | Avg. MSE Loss: 0.7156\n"
     ]
    },
    {
     "name": "stderr",
     "output_type": "stream",
     "text": [
      "Processing samples:  89%|█████████████████████████████████████████████████████████████████████████████████████████████████████████████████████              | 3001/3357 [07:48<00:57,  6.18it/s]"
     ]
    },
    {
     "name": "stdout",
     "output_type": "stream",
     "text": [
      "Epoch:   2 | Samples:   3000/3357 | Avg. RMSE Loss: 0.6605 | Avg. MSE Loss: 0.6998\n"
     ]
    },
    {
     "name": "stderr",
     "output_type": "stream",
     "text": [
      "Processing samples: 100%|███████████████████████████████████████████████████████████████████████████████████████████████████████████████████████████████████| 3357/3357 [08:46<00:00,  6.38it/s]\n",
      "Processing samples:   0%|                                                                                                                                      | 2/3357 [00:00<07:21,  7.60it/s]"
     ]
    },
    {
     "name": "stdout",
     "output_type": "stream",
     "text": [
      "Epoch:   3 | Samples:      0/3357 | Avg. RMSE Loss: 0.7509 | Avg. MSE Loss: 0.5639\n"
     ]
    },
    {
     "name": "stderr",
     "output_type": "stream",
     "text": [
      "Processing samples:  15%|███████████████████▋                                                                                                                | 502/3357 [01:16<07:03,  6.74it/s]"
     ]
    },
    {
     "name": "stdout",
     "output_type": "stream",
     "text": [
      "Epoch:   3 | Samples:    500/3357 | Avg. RMSE Loss: 0.6864 | Avg. MSE Loss: 0.7338\n"
     ]
    },
    {
     "name": "stderr",
     "output_type": "stream",
     "text": [
      "Processing samples:  30%|███████████████████████████████████████                                                                                            | 1002/3357 [02:35<05:33,  7.07it/s]"
     ]
    },
    {
     "name": "stdout",
     "output_type": "stream",
     "text": [
      "Epoch:   3 | Samples:   1000/3357 | Avg. RMSE Loss: 0.6535 | Avg. MSE Loss: 0.6867\n"
     ]
    },
    {
     "name": "stderr",
     "output_type": "stream",
     "text": [
      "Processing samples:  45%|██████████████████████████████████████████████████████████▌                                                                        | 1502/3357 [03:54<05:46,  5.35it/s]"
     ]
    },
    {
     "name": "stdout",
     "output_type": "stream",
     "text": [
      "Epoch:   3 | Samples:   1500/3357 | Avg. RMSE Loss: 0.6479 | Avg. MSE Loss: 0.6908\n"
     ]
    },
    {
     "name": "stderr",
     "output_type": "stream",
     "text": [
      "Processing samples:  60%|██████████████████████████████████████████████████████████████████████████████                                                     | 2002/3357 [05:13<03:17,  6.85it/s]"
     ]
    },
    {
     "name": "stdout",
     "output_type": "stream",
     "text": [
      "Epoch:   3 | Samples:   2000/3357 | Avg. RMSE Loss: 0.6456 | Avg. MSE Loss: 0.6782\n"
     ]
    },
    {
     "name": "stderr",
     "output_type": "stream",
     "text": [
      "Processing samples:  75%|█████████████████████████████████████████████████████████████████████████████████████████████████▌                                 | 2501/3357 [06:31<02:23,  5.95it/s]"
     ]
    },
    {
     "name": "stdout",
     "output_type": "stream",
     "text": [
      "Epoch:   3 | Samples:   2500/3357 | Avg. RMSE Loss: 0.6434 | Avg. MSE Loss: 0.6679\n"
     ]
    },
    {
     "name": "stderr",
     "output_type": "stream",
     "text": [
      "Processing samples:  89%|█████████████████████████████████████████████████████████████████████████████████████████████████████████████████████              | 3001/3357 [07:48<00:57,  6.19it/s]"
     ]
    },
    {
     "name": "stdout",
     "output_type": "stream",
     "text": [
      "Epoch:   3 | Samples:   3000/3357 | Avg. RMSE Loss: 0.6364 | Avg. MSE Loss: 0.6531\n"
     ]
    },
    {
     "name": "stderr",
     "output_type": "stream",
     "text": [
      "Processing samples: 100%|███████████████████████████████████████████████████████████████████████████████████████████████████████████████████████████████████| 3357/3357 [08:45<00:00,  6.38it/s]\n",
      "Processing samples:   0%|                                                                                                                                      | 2/3357 [00:00<07:23,  7.57it/s]"
     ]
    },
    {
     "name": "stdout",
     "output_type": "stream",
     "text": [
      "Epoch:   4 | Samples:      0/3357 | Avg. RMSE Loss: 0.7583 | Avg. MSE Loss: 0.5750\n"
     ]
    },
    {
     "name": "stderr",
     "output_type": "stream",
     "text": [
      "Processing samples:  15%|███████████████████▋                                                                                                                | 502/3357 [01:16<07:00,  6.79it/s]"
     ]
    },
    {
     "name": "stdout",
     "output_type": "stream",
     "text": [
      "Epoch:   4 | Samples:    500/3357 | Avg. RMSE Loss: 0.6691 | Avg. MSE Loss: 0.7003\n"
     ]
    },
    {
     "name": "stderr",
     "output_type": "stream",
     "text": [
      "Processing samples:  30%|███████████████████████████████████████                                                                                            | 1002/3357 [02:35<05:35,  7.03it/s]"
     ]
    },
    {
     "name": "stdout",
     "output_type": "stream",
     "text": [
      "Epoch:   4 | Samples:   1000/3357 | Avg. RMSE Loss: 0.6353 | Avg. MSE Loss: 0.6531\n"
     ]
    },
    {
     "name": "stderr",
     "output_type": "stream",
     "text": [
      "Processing samples:  45%|██████████████████████████████████████████████████████████▌                                                                        | 1502/3357 [03:54<05:45,  5.37it/s]"
     ]
    },
    {
     "name": "stdout",
     "output_type": "stream",
     "text": [
      "Epoch:   4 | Samples:   1500/3357 | Avg. RMSE Loss: 0.6279 | Avg. MSE Loss: 0.6530\n"
     ]
    },
    {
     "name": "stderr",
     "output_type": "stream",
     "text": [
      "Processing samples:  60%|██████████████████████████████████████████████████████████████████████████████                                                     | 2002/3357 [05:12<03:17,  6.87it/s]"
     ]
    },
    {
     "name": "stdout",
     "output_type": "stream",
     "text": [
      "Epoch:   4 | Samples:   2000/3357 | Avg. RMSE Loss: 0.6255 | Avg. MSE Loss: 0.6402\n"
     ]
    },
    {
     "name": "stderr",
     "output_type": "stream",
     "text": [
      "Processing samples:  75%|█████████████████████████████████████████████████████████████████████████████████████████████████▋                                 | 2502/3357 [06:30<02:29,  5.71it/s]"
     ]
    },
    {
     "name": "stdout",
     "output_type": "stream",
     "text": [
      "Epoch:   4 | Samples:   2500/3357 | Avg. RMSE Loss: 0.6238 | Avg. MSE Loss: 0.6305\n"
     ]
    },
    {
     "name": "stderr",
     "output_type": "stream",
     "text": [
      "Processing samples:  89%|█████████████████████████████████████████████████████████████████████████████████████████████████████████████████████              | 3001/3357 [07:47<00:57,  6.16it/s]"
     ]
    },
    {
     "name": "stdout",
     "output_type": "stream",
     "text": [
      "Epoch:   4 | Samples:   3000/3357 | Avg. RMSE Loss: 0.6171 | Avg. MSE Loss: 0.6163\n"
     ]
    },
    {
     "name": "stderr",
     "output_type": "stream",
     "text": [
      "Processing samples: 100%|███████████████████████████████████████████████████████████████████████████████████████████████████████████████████████████████████| 3357/3357 [08:45<00:00,  6.39it/s]\n",
      "Processing samples:   0%|                                                                                                                                      | 2/3357 [00:00<07:21,  7.60it/s]"
     ]
    },
    {
     "name": "stdout",
     "output_type": "stream",
     "text": [
      "Epoch:   5 | Samples:      0/3357 | Avg. RMSE Loss: 0.8109 | Avg. MSE Loss: 0.6576\n"
     ]
    },
    {
     "name": "stderr",
     "output_type": "stream",
     "text": [
      "Processing samples:  15%|███████████████████▋                                                                                                                | 502/3357 [01:16<07:04,  6.73it/s]"
     ]
    },
    {
     "name": "stdout",
     "output_type": "stream",
     "text": [
      "Epoch:   5 | Samples:    500/3357 | Avg. RMSE Loss: 0.6565 | Avg. MSE Loss: 0.6786\n"
     ]
    },
    {
     "name": "stderr",
     "output_type": "stream",
     "text": [
      "Processing samples:  30%|███████████████████████████████████████                                                                                            | 1002/3357 [02:35<05:36,  7.00it/s]"
     ]
    },
    {
     "name": "stdout",
     "output_type": "stream",
     "text": [
      "Epoch:   5 | Samples:   1000/3357 | Avg. RMSE Loss: 0.6231 | Avg. MSE Loss: 0.6293\n"
     ]
    },
    {
     "name": "stderr",
     "output_type": "stream",
     "text": [
      "Processing samples:  45%|██████████████████████████████████████████████████████████▌                                                                        | 1502/3357 [03:54<05:45,  5.37it/s]"
     ]
    },
    {
     "name": "stdout",
     "output_type": "stream",
     "text": [
      "Epoch:   5 | Samples:   1500/3357 | Avg. RMSE Loss: 0.6145 | Avg. MSE Loss: 0.6263\n"
     ]
    },
    {
     "name": "stderr",
     "output_type": "stream",
     "text": [
      "Processing samples:  60%|██████████████████████████████████████████████████████████████████████████████                                                     | 2002/3357 [05:13<03:14,  6.97it/s]"
     ]
    },
    {
     "name": "stdout",
     "output_type": "stream",
     "text": [
      "Epoch:   5 | Samples:   2000/3357 | Avg. RMSE Loss: 0.6112 | Avg. MSE Loss: 0.6132\n"
     ]
    },
    {
     "name": "stderr",
     "output_type": "stream",
     "text": [
      "Processing samples:  75%|█████████████████████████████████████████████████████████████████████████████████████████████████▋                                 | 2502/3357 [06:31<02:30,  5.67it/s]"
     ]
    },
    {
     "name": "stdout",
     "output_type": "stream",
     "text": [
      "Epoch:   5 | Samples:   2500/3357 | Avg. RMSE Loss: 0.6090 | Avg. MSE Loss: 0.6022\n"
     ]
    },
    {
     "name": "stderr",
     "output_type": "stream",
     "text": [
      "Processing samples:  89%|█████████████████████████████████████████████████████████████████████████████████████████████████████████████████████              | 3001/3357 [07:48<00:57,  6.15it/s]"
     ]
    },
    {
     "name": "stdout",
     "output_type": "stream",
     "text": [
      "Epoch:   5 | Samples:   3000/3357 | Avg. RMSE Loss: 0.6031 | Avg. MSE Loss: 0.5884\n"
     ]
    },
    {
     "name": "stderr",
     "output_type": "stream",
     "text": [
      "Processing samples: 100%|███████████████████████████████████████████████████████████████████████████████████████████████████████████████████████████████████| 3357/3357 [08:46<00:00,  6.38it/s]\n",
      "Processing samples:   0%|                                                                                                                                      | 2/3357 [00:00<07:19,  7.63it/s]"
     ]
    },
    {
     "name": "stdout",
     "output_type": "stream",
     "text": [
      "Epoch:   6 | Samples:      0/3357 | Avg. RMSE Loss: 0.7530 | Avg. MSE Loss: 0.5670\n"
     ]
    },
    {
     "name": "stderr",
     "output_type": "stream",
     "text": [
      "Processing samples:  15%|███████████████████▋                                                                                                                | 502/3357 [01:17<07:01,  6.77it/s]"
     ]
    },
    {
     "name": "stdout",
     "output_type": "stream",
     "text": [
      "Epoch:   6 | Samples:    500/3357 | Avg. RMSE Loss: 0.6454 | Avg. MSE Loss: 0.6595\n"
     ]
    },
    {
     "name": "stderr",
     "output_type": "stream",
     "text": [
      "Processing samples:  30%|███████████████████████████████████████                                                                                            | 1002/3357 [02:35<05:35,  7.02it/s]"
     ]
    },
    {
     "name": "stdout",
     "output_type": "stream",
     "text": [
      "Epoch:   6 | Samples:   1000/3357 | Avg. RMSE Loss: 0.6100 | Avg. MSE Loss: 0.6080\n"
     ]
    },
    {
     "name": "stderr",
     "output_type": "stream",
     "text": [
      "Processing samples:  45%|██████████████████████████████████████████████████████████▌                                                                        | 1502/3357 [03:54<05:46,  5.35it/s]"
     ]
    },
    {
     "name": "stdout",
     "output_type": "stream",
     "text": [
      "Epoch:   6 | Samples:   1500/3357 | Avg. RMSE Loss: 0.6021 | Avg. MSE Loss: 0.6044\n"
     ]
    },
    {
     "name": "stderr",
     "output_type": "stream",
     "text": [
      "Processing samples:  60%|██████████████████████████████████████████████████████████████████████████████                                                     | 2002/3357 [05:13<03:17,  6.85it/s]"
     ]
    },
    {
     "name": "stdout",
     "output_type": "stream",
     "text": [
      "Epoch:   6 | Samples:   2000/3357 | Avg. RMSE Loss: 0.5985 | Avg. MSE Loss: 0.5913\n"
     ]
    },
    {
     "name": "stderr",
     "output_type": "stream",
     "text": [
      "Processing samples:  75%|█████████████████████████████████████████████████████████████████████████████████████████████████▋                                 | 2502/3357 [06:31<02:29,  5.71it/s]"
     ]
    },
    {
     "name": "stdout",
     "output_type": "stream",
     "text": [
      "Epoch:   6 | Samples:   2500/3357 | Avg. RMSE Loss: 0.5962 | Avg. MSE Loss: 0.5803\n"
     ]
    },
    {
     "name": "stderr",
     "output_type": "stream",
     "text": [
      "Processing samples:  89%|█████████████████████████████████████████████████████████████████████████████████████████████████████████████████████              | 3001/3357 [07:48<00:57,  6.18it/s]"
     ]
    },
    {
     "name": "stdout",
     "output_type": "stream",
     "text": [
      "Epoch:   6 | Samples:   3000/3357 | Avg. RMSE Loss: 0.5897 | Avg. MSE Loss: 0.5663\n"
     ]
    },
    {
     "name": "stderr",
     "output_type": "stream",
     "text": [
      "Processing samples: 100%|███████████████████████████████████████████████████████████████████████████████████████████████████████████████████████████████████| 3357/3357 [08:45<00:00,  6.38it/s]\n",
      "Processing samples:   0%|                                                                                                                                      | 2/3357 [00:00<07:16,  7.69it/s]"
     ]
    },
    {
     "name": "stdout",
     "output_type": "stream",
     "text": [
      "Epoch:   7 | Samples:      0/3357 | Avg. RMSE Loss: 0.7656 | Avg. MSE Loss: 0.5861\n"
     ]
    },
    {
     "name": "stderr",
     "output_type": "stream",
     "text": [
      "Processing samples:  15%|███████████████████▋                                                                                                                | 502/3357 [01:16<07:03,  6.74it/s]"
     ]
    },
    {
     "name": "stdout",
     "output_type": "stream",
     "text": [
      "Epoch:   7 | Samples:    500/3357 | Avg. RMSE Loss: 0.6360 | Avg. MSE Loss: 0.6395\n"
     ]
    },
    {
     "name": "stderr",
     "output_type": "stream",
     "text": [
      "Processing samples:  30%|███████████████████████████████████████                                                                                            | 1002/3357 [02:35<05:38,  6.95it/s]"
     ]
    },
    {
     "name": "stdout",
     "output_type": "stream",
     "text": [
      "Epoch:   7 | Samples:   1000/3357 | Avg. RMSE Loss: 0.5993 | Avg. MSE Loss: 0.5880\n"
     ]
    },
    {
     "name": "stderr",
     "output_type": "stream",
     "text": [
      "Processing samples:  45%|██████████████████████████████████████████████████████████▌                                                                        | 1502/3357 [03:54<05:47,  5.34it/s]"
     ]
    },
    {
     "name": "stdout",
     "output_type": "stream",
     "text": [
      "Epoch:   7 | Samples:   1500/3357 | Avg. RMSE Loss: 0.5907 | Avg. MSE Loss: 0.5831\n"
     ]
    },
    {
     "name": "stderr",
     "output_type": "stream",
     "text": [
      "Processing samples:  60%|██████████████████████████████████████████████████████████████████████████████                                                     | 2002/3357 [05:13<03:17,  6.88it/s]"
     ]
    },
    {
     "name": "stdout",
     "output_type": "stream",
     "text": [
      "Epoch:   7 | Samples:   2000/3357 | Avg. RMSE Loss: 0.5872 | Avg. MSE Loss: 0.5714\n"
     ]
    },
    {
     "name": "stderr",
     "output_type": "stream",
     "text": [
      "Processing samples:  75%|█████████████████████████████████████████████████████████████████████████████████████████████████▋                                 | 2502/3357 [06:31<02:34,  5.54it/s]"
     ]
    },
    {
     "name": "stdout",
     "output_type": "stream",
     "text": [
      "Epoch:   7 | Samples:   2500/3357 | Avg. RMSE Loss: 0.5848 | Avg. MSE Loss: 0.5605\n"
     ]
    },
    {
     "name": "stderr",
     "output_type": "stream",
     "text": [
      "Processing samples:  89%|█████████████████████████████████████████████████████████████████████████████████████████████████████████████████████              | 3001/3357 [07:48<00:57,  6.20it/s]"
     ]
    },
    {
     "name": "stdout",
     "output_type": "stream",
     "text": [
      "Epoch:   7 | Samples:   3000/3357 | Avg. RMSE Loss: 0.5790 | Avg. MSE Loss: 0.5472\n"
     ]
    },
    {
     "name": "stderr",
     "output_type": "stream",
     "text": [
      "Processing samples: 100%|███████████████████████████████████████████████████████████████████████████████████████████████████████████████████████████████████| 3357/3357 [08:46<00:00,  6.37it/s]\n",
      "Processing samples:   0%|                                                                                                                                      | 2/3357 [00:00<07:21,  7.59it/s]"
     ]
    },
    {
     "name": "stdout",
     "output_type": "stream",
     "text": [
      "Epoch:   8 | Samples:      0/3357 | Avg. RMSE Loss: 0.7425 | Avg. MSE Loss: 0.5514\n"
     ]
    },
    {
     "name": "stderr",
     "output_type": "stream",
     "text": [
      "Processing samples:  15%|███████████████████▋                                                                                                                | 502/3357 [01:16<07:05,  6.71it/s]"
     ]
    },
    {
     "name": "stdout",
     "output_type": "stream",
     "text": [
      "Epoch:   8 | Samples:    500/3357 | Avg. RMSE Loss: 0.6221 | Avg. MSE Loss: 0.6161\n"
     ]
    },
    {
     "name": "stderr",
     "output_type": "stream",
     "text": [
      "Processing samples:  30%|███████████████████████████████████████                                                                                            | 1002/3357 [02:35<05:36,  7.00it/s]"
     ]
    },
    {
     "name": "stdout",
     "output_type": "stream",
     "text": [
      "Epoch:   8 | Samples:   1000/3357 | Avg. RMSE Loss: 0.5877 | Avg. MSE Loss: 0.5651\n"
     ]
    },
    {
     "name": "stderr",
     "output_type": "stream",
     "text": [
      "Processing samples:  45%|██████████████████████████████████████████████████████████▌                                                                        | 1502/3357 [03:54<05:45,  5.37it/s]"
     ]
    },
    {
     "name": "stdout",
     "output_type": "stream",
     "text": [
      "Epoch:   8 | Samples:   1500/3357 | Avg. RMSE Loss: 0.5797 | Avg. MSE Loss: 0.5627\n"
     ]
    },
    {
     "name": "stderr",
     "output_type": "stream",
     "text": [
      "Processing samples:  60%|██████████████████████████████████████████████████████████████████████████████                                                     | 2002/3357 [05:12<03:16,  6.89it/s]"
     ]
    },
    {
     "name": "stdout",
     "output_type": "stream",
     "text": [
      "Epoch:   8 | Samples:   2000/3357 | Avg. RMSE Loss: 0.5764 | Avg. MSE Loss: 0.5519\n"
     ]
    },
    {
     "name": "stderr",
     "output_type": "stream",
     "text": [
      "Processing samples:  75%|█████████████████████████████████████████████████████████████████████████████████████████████████▋                                 | 2502/3357 [06:30<02:31,  5.66it/s]"
     ]
    },
    {
     "name": "stdout",
     "output_type": "stream",
     "text": [
      "Epoch:   8 | Samples:   2500/3357 | Avg. RMSE Loss: 0.5727 | Avg. MSE Loss: 0.5400\n"
     ]
    },
    {
     "name": "stderr",
     "output_type": "stream",
     "text": [
      "Processing samples:  89%|█████████████████████████████████████████████████████████████████████████████████████████████████████████████████████              | 3001/3357 [07:47<00:57,  6.17it/s]"
     ]
    },
    {
     "name": "stdout",
     "output_type": "stream",
     "text": [
      "Epoch:   8 | Samples:   3000/3357 | Avg. RMSE Loss: 0.5669 | Avg. MSE Loss: 0.5277\n"
     ]
    },
    {
     "name": "stderr",
     "output_type": "stream",
     "text": [
      "Processing samples: 100%|███████████████████████████████████████████████████████████████████████████████████████████████████████████████████████████████████| 3357/3357 [08:45<00:00,  6.38it/s]\n",
      "Processing samples:   0%|                                                                                                                                      | 2/3357 [00:00<07:20,  7.61it/s]"
     ]
    },
    {
     "name": "stdout",
     "output_type": "stream",
     "text": [
      "Epoch:   9 | Samples:      0/3357 | Avg. RMSE Loss: 0.8166 | Avg. MSE Loss: 0.6669\n"
     ]
    },
    {
     "name": "stderr",
     "output_type": "stream",
     "text": [
      "Processing samples:  15%|███████████████████▋                                                                                                                | 502/3357 [01:16<06:59,  6.80it/s]"
     ]
    },
    {
     "name": "stdout",
     "output_type": "stream",
     "text": [
      "Epoch:   9 | Samples:    500/3357 | Avg. RMSE Loss: 0.6146 | Avg. MSE Loss: 0.5985\n"
     ]
    },
    {
     "name": "stderr",
     "output_type": "stream",
     "text": [
      "Processing samples:  30%|███████████████████████████████████████                                                                                            | 1002/3357 [02:35<05:40,  6.92it/s]"
     ]
    },
    {
     "name": "stdout",
     "output_type": "stream",
     "text": [
      "Epoch:   9 | Samples:   1000/3357 | Avg. RMSE Loss: 0.5807 | Avg. MSE Loss: 0.5491\n"
     ]
    },
    {
     "name": "stderr",
     "output_type": "stream",
     "text": [
      "Processing samples:  45%|██████████████████████████████████████████████████████████▌                                                                        | 1502/3357 [03:54<05:48,  5.33it/s]"
     ]
    },
    {
     "name": "stdout",
     "output_type": "stream",
     "text": [
      "Epoch:   9 | Samples:   1500/3357 | Avg. RMSE Loss: 0.5705 | Avg. MSE Loss: 0.5447\n"
     ]
    },
    {
     "name": "stderr",
     "output_type": "stream",
     "text": [
      "Processing samples:  60%|██████████████████████████████████████████████████████████████████████████████                                                     | 2002/3357 [05:13<03:17,  6.87it/s]"
     ]
    },
    {
     "name": "stdout",
     "output_type": "stream",
     "text": [
      "Epoch:   9 | Samples:   2000/3357 | Avg. RMSE Loss: 0.5661 | Avg. MSE Loss: 0.5328\n"
     ]
    },
    {
     "name": "stderr",
     "output_type": "stream",
     "text": [
      "Processing samples:  75%|█████████████████████████████████████████████████████████████████████████████████████████████████▋                                 | 2502/3357 [06:32<02:29,  5.72it/s]"
     ]
    },
    {
     "name": "stdout",
     "output_type": "stream",
     "text": [
      "Epoch:   9 | Samples:   2500/3357 | Avg. RMSE Loss: 0.5625 | Avg. MSE Loss: 0.5206\n"
     ]
    },
    {
     "name": "stderr",
     "output_type": "stream",
     "text": [
      "Processing samples:  89%|█████████████████████████████████████████████████████████████████████████████████████████████████████████████████████              | 3001/3357 [07:49<00:58,  6.14it/s]"
     ]
    },
    {
     "name": "stdout",
     "output_type": "stream",
     "text": [
      "Epoch:   9 | Samples:   3000/3357 | Avg. RMSE Loss: 0.5570 | Avg. MSE Loss: 0.5095\n"
     ]
    },
    {
     "name": "stderr",
     "output_type": "stream",
     "text": [
      "Processing samples: 100%|███████████████████████████████████████████████████████████████████████████████████████████████████████████████████████████████████| 3357/3357 [08:46<00:00,  6.37it/s]\n",
      "Processing samples:   0%|                                                                                                                                      | 2/3357 [00:00<07:26,  7.52it/s]"
     ]
    },
    {
     "name": "stdout",
     "output_type": "stream",
     "text": [
      "Epoch:  10 | Samples:      0/3357 | Avg. RMSE Loss: 0.8086 | Avg. MSE Loss: 0.6539\n"
     ]
    },
    {
     "name": "stderr",
     "output_type": "stream",
     "text": [
      "Processing samples:  15%|███████████████████▋                                                                                                                | 502/3357 [01:17<07:01,  6.77it/s]"
     ]
    },
    {
     "name": "stdout",
     "output_type": "stream",
     "text": [
      "Epoch:  10 | Samples:    500/3357 | Avg. RMSE Loss: 0.6036 | Avg. MSE Loss: 0.5836\n"
     ]
    },
    {
     "name": "stderr",
     "output_type": "stream",
     "text": [
      "Processing samples:  30%|███████████████████████████████████████                                                                                            | 1002/3357 [02:36<05:58,  6.58it/s]"
     ]
    },
    {
     "name": "stdout",
     "output_type": "stream",
     "text": [
      "Epoch:  10 | Samples:   1000/3357 | Avg. RMSE Loss: 0.5708 | Avg. MSE Loss: 0.5302\n"
     ]
    },
    {
     "name": "stderr",
     "output_type": "stream",
     "text": [
      "Processing samples:  45%|██████████████████████████████████████████████████████████▌                                                                        | 1502/3357 [03:56<05:49,  5.30it/s]"
     ]
    },
    {
     "name": "stdout",
     "output_type": "stream",
     "text": [
      "Epoch:  10 | Samples:   1500/3357 | Avg. RMSE Loss: 0.5605 | Avg. MSE Loss: 0.5240\n"
     ]
    },
    {
     "name": "stderr",
     "output_type": "stream",
     "text": [
      "Processing samples:  60%|██████████████████████████████████████████████████████████████████████████████                                                     | 2002/3357 [05:15<03:16,  6.89it/s]"
     ]
    },
    {
     "name": "stdout",
     "output_type": "stream",
     "text": [
      "Epoch:  10 | Samples:   2000/3357 | Avg. RMSE Loss: 0.5558 | Avg. MSE Loss: 0.5122\n"
     ]
    },
    {
     "name": "stderr",
     "output_type": "stream",
     "text": [
      "Processing samples:  75%|█████████████████████████████████████████████████████████████████████████████████████████████████▋                                 | 2502/3357 [06:33<02:32,  5.59it/s]"
     ]
    },
    {
     "name": "stdout",
     "output_type": "stream",
     "text": [
      "Epoch:  10 | Samples:   2500/3357 | Avg. RMSE Loss: 0.5531 | Avg. MSE Loss: 0.5018\n"
     ]
    },
    {
     "name": "stderr",
     "output_type": "stream",
     "text": [
      "Processing samples:  89%|█████████████████████████████████████████████████████████████████████████████████████████████████████████████████████              | 3001/3357 [07:50<00:57,  6.18it/s]"
     ]
    },
    {
     "name": "stdout",
     "output_type": "stream",
     "text": [
      "Epoch:  10 | Samples:   3000/3357 | Avg. RMSE Loss: 0.5477 | Avg. MSE Loss: 0.4917\n"
     ]
    },
    {
     "name": "stderr",
     "output_type": "stream",
     "text": [
      "Processing samples: 100%|███████████████████████████████████████████████████████████████████████████████████████████████████████████████████████████████████| 3357/3357 [08:48<00:00,  6.35it/s]\n",
      "Processing samples:   0%|                                                                                                                                      | 2/3357 [00:00<07:18,  7.66it/s]"
     ]
    },
    {
     "name": "stdout",
     "output_type": "stream",
     "text": [
      "Epoch:  11 | Samples:      0/3357 | Avg. RMSE Loss: 0.8125 | Avg. MSE Loss: 0.6602\n"
     ]
    },
    {
     "name": "stderr",
     "output_type": "stream",
     "text": [
      "Processing samples:  15%|███████████████████▋                                                                                                                | 502/3357 [01:16<07:07,  6.68it/s]"
     ]
    },
    {
     "name": "stdout",
     "output_type": "stream",
     "text": [
      "Epoch:  11 | Samples:    500/3357 | Avg. RMSE Loss: 0.5918 | Avg. MSE Loss: 0.5620\n"
     ]
    },
    {
     "name": "stderr",
     "output_type": "stream",
     "text": [
      "Processing samples:  30%|███████████████████████████████████████                                                                                            | 1002/3357 [02:35<05:36,  7.00it/s]"
     ]
    },
    {
     "name": "stdout",
     "output_type": "stream",
     "text": [
      "Epoch:  11 | Samples:   1000/3357 | Avg. RMSE Loss: 0.5621 | Avg. MSE Loss: 0.5144\n"
     ]
    },
    {
     "name": "stderr",
     "output_type": "stream",
     "text": [
      "Processing samples:  45%|██████████████████████████████████████████████████████████▌                                                                        | 1502/3357 [03:54<05:46,  5.36it/s]"
     ]
    },
    {
     "name": "stdout",
     "output_type": "stream",
     "text": [
      "Epoch:  11 | Samples:   1500/3357 | Avg. RMSE Loss: 0.5518 | Avg. MSE Loss: 0.5088\n"
     ]
    },
    {
     "name": "stderr",
     "output_type": "stream",
     "text": [
      "Processing samples:  60%|██████████████████████████████████████████████████████████████████████████████                                                     | 2002/3357 [05:13<03:16,  6.89it/s]"
     ]
    },
    {
     "name": "stdout",
     "output_type": "stream",
     "text": [
      "Epoch:  11 | Samples:   2000/3357 | Avg. RMSE Loss: 0.5471 | Avg. MSE Loss: 0.4969\n"
     ]
    },
    {
     "name": "stderr",
     "output_type": "stream",
     "text": [
      "Processing samples:  75%|█████████████████████████████████████████████████████████████████████████████████████████████████▋                                 | 2502/3357 [06:31<02:29,  5.72it/s]"
     ]
    },
    {
     "name": "stdout",
     "output_type": "stream",
     "text": [
      "Epoch:  11 | Samples:   2500/3357 | Avg. RMSE Loss: 0.5453 | Avg. MSE Loss: 0.4870\n"
     ]
    },
    {
     "name": "stderr",
     "output_type": "stream",
     "text": [
      "Processing samples:  89%|█████████████████████████████████████████████████████████████████████████████████████████████████████████████████████              | 3001/3357 [07:48<00:57,  6.17it/s]"
     ]
    },
    {
     "name": "stdout",
     "output_type": "stream",
     "text": [
      "Epoch:  11 | Samples:   3000/3357 | Avg. RMSE Loss: 0.5398 | Avg. MSE Loss: 0.4776\n"
     ]
    },
    {
     "name": "stderr",
     "output_type": "stream",
     "text": [
      "Processing samples: 100%|███████████████████████████████████████████████████████████████████████████████████████████████████████████████████████████████████| 3357/3357 [08:46<00:00,  6.38it/s]\n",
      "Processing samples:   0%|                                                                                                                                      | 2/3357 [00:00<07:24,  7.56it/s]"
     ]
    },
    {
     "name": "stdout",
     "output_type": "stream",
     "text": [
      "Epoch:  12 | Samples:      0/3357 | Avg. RMSE Loss: 0.8219 | Avg. MSE Loss: 0.6755\n"
     ]
    },
    {
     "name": "stderr",
     "output_type": "stream",
     "text": [
      "Processing samples:  15%|███████████████████▋                                                                                                                | 502/3357 [01:16<07:03,  6.74it/s]"
     ]
    },
    {
     "name": "stdout",
     "output_type": "stream",
     "text": [
      "Epoch:  12 | Samples:    500/3357 | Avg. RMSE Loss: 0.5864 | Avg. MSE Loss: 0.5490\n"
     ]
    },
    {
     "name": "stderr",
     "output_type": "stream",
     "text": [
      "Processing samples:  30%|███████████████████████████████████████                                                                                            | 1002/3357 [02:35<05:35,  7.03it/s]"
     ]
    },
    {
     "name": "stdout",
     "output_type": "stream",
     "text": [
      "Epoch:  12 | Samples:   1000/3357 | Avg. RMSE Loss: 0.5572 | Avg. MSE Loss: 0.5044\n"
     ]
    },
    {
     "name": "stderr",
     "output_type": "stream",
     "text": [
      "Processing samples:  45%|██████████████████████████████████████████████████████████▌                                                                        | 1502/3357 [03:54<05:48,  5.32it/s]"
     ]
    },
    {
     "name": "stdout",
     "output_type": "stream",
     "text": [
      "Epoch:  12 | Samples:   1500/3357 | Avg. RMSE Loss: 0.5457 | Avg. MSE Loss: 0.4979\n"
     ]
    },
    {
     "name": "stderr",
     "output_type": "stream",
     "text": [
      "Processing samples:  60%|██████████████████████████████████████████████████████████████████████████████                                                     | 2002/3357 [05:13<03:16,  6.91it/s]"
     ]
    },
    {
     "name": "stdout",
     "output_type": "stream",
     "text": [
      "Epoch:  12 | Samples:   2000/3357 | Avg. RMSE Loss: 0.5408 | Avg. MSE Loss: 0.4852\n"
     ]
    },
    {
     "name": "stderr",
     "output_type": "stream",
     "text": [
      "Processing samples:  75%|█████████████████████████████████████████████████████████████████████████████████████████████████▋                                 | 2502/3357 [06:31<02:30,  5.67it/s]"
     ]
    },
    {
     "name": "stdout",
     "output_type": "stream",
     "text": [
      "Epoch:  12 | Samples:   2500/3357 | Avg. RMSE Loss: 0.5383 | Avg. MSE Loss: 0.4746\n"
     ]
    },
    {
     "name": "stderr",
     "output_type": "stream",
     "text": [
      "Processing samples:  89%|█████████████████████████████████████████████████████████████████████████████████████████████████████████████████████              | 3001/3357 [07:49<00:57,  6.16it/s]"
     ]
    },
    {
     "name": "stdout",
     "output_type": "stream",
     "text": [
      "Epoch:  12 | Samples:   3000/3357 | Avg. RMSE Loss: 0.5338 | Avg. MSE Loss: 0.4665\n"
     ]
    },
    {
     "name": "stderr",
     "output_type": "stream",
     "text": [
      "Processing samples: 100%|███████████████████████████████████████████████████████████████████████████████████████████████████████████████████████████████████| 3357/3357 [08:46<00:00,  6.37it/s]\n",
      "Processing samples:   0%|                                                                                                                                      | 2/3357 [00:00<07:20,  7.61it/s]"
     ]
    },
    {
     "name": "stdout",
     "output_type": "stream",
     "text": [
      "Epoch:  13 | Samples:      0/3357 | Avg. RMSE Loss: 0.8465 | Avg. MSE Loss: 0.7165\n"
     ]
    },
    {
     "name": "stderr",
     "output_type": "stream",
     "text": [
      "Processing samples:  15%|███████████████████▋                                                                                                                | 502/3357 [01:16<07:01,  6.78it/s]"
     ]
    },
    {
     "name": "stdout",
     "output_type": "stream",
     "text": [
      "Epoch:  13 | Samples:    500/3357 | Avg. RMSE Loss: 0.5744 | Avg. MSE Loss: 0.5300\n"
     ]
    },
    {
     "name": "stderr",
     "output_type": "stream",
     "text": [
      "Processing samples:  30%|███████████████████████████████████████                                                                                            | 1002/3357 [02:35<05:32,  7.08it/s]"
     ]
    },
    {
     "name": "stdout",
     "output_type": "stream",
     "text": [
      "Epoch:  13 | Samples:   1000/3357 | Avg. RMSE Loss: 0.5456 | Avg. MSE Loss: 0.4856\n"
     ]
    },
    {
     "name": "stderr",
     "output_type": "stream",
     "text": [
      "Processing samples:  45%|██████████████████████████████████████████████████████████▌                                                                        | 1502/3357 [03:54<05:46,  5.36it/s]"
     ]
    },
    {
     "name": "stdout",
     "output_type": "stream",
     "text": [
      "Epoch:  13 | Samples:   1500/3357 | Avg. RMSE Loss: 0.5337 | Avg. MSE Loss: 0.4780\n"
     ]
    },
    {
     "name": "stderr",
     "output_type": "stream",
     "text": [
      "Processing samples:  60%|██████████████████████████████████████████████████████████████████████████████                                                     | 2002/3357 [05:13<03:49,  5.91it/s]"
     ]
    },
    {
     "name": "stdout",
     "output_type": "stream",
     "text": [
      "Epoch:  13 | Samples:   2000/3357 | Avg. RMSE Loss: 0.5299 | Avg. MSE Loss: 0.4663\n"
     ]
    },
    {
     "name": "stderr",
     "output_type": "stream",
     "text": [
      "Processing samples:  75%|█████████████████████████████████████████████████████████████████████████████████████████████████▋                                 | 2502/3357 [06:31<02:33,  5.57it/s]"
     ]
    },
    {
     "name": "stdout",
     "output_type": "stream",
     "text": [
      "Epoch:  13 | Samples:   2500/3357 | Avg. RMSE Loss: 0.5278 | Avg. MSE Loss: 0.4573\n"
     ]
    },
    {
     "name": "stderr",
     "output_type": "stream",
     "text": [
      "Processing samples:  89%|█████████████████████████████████████████████████████████████████████████████████████████████████████████████████████              | 3001/3357 [07:48<00:57,  6.16it/s]"
     ]
    },
    {
     "name": "stdout",
     "output_type": "stream",
     "text": [
      "Epoch:  13 | Samples:   3000/3357 | Avg. RMSE Loss: 0.5237 | Avg. MSE Loss: 0.4503\n"
     ]
    },
    {
     "name": "stderr",
     "output_type": "stream",
     "text": [
      "Processing samples: 100%|███████████████████████████████████████████████████████████████████████████████████████████████████████████████████████████████████| 3357/3357 [08:46<00:00,  6.37it/s]\n",
      "Processing samples:   0%|                                                                                                                                      | 2/3357 [00:00<07:39,  7.31it/s]"
     ]
    },
    {
     "name": "stdout",
     "output_type": "stream",
     "text": [
      "Epoch:  14 | Samples:      0/3357 | Avg. RMSE Loss: 0.9261 | Avg. MSE Loss: 0.8577\n"
     ]
    },
    {
     "name": "stderr",
     "output_type": "stream",
     "text": [
      "Processing samples:  15%|███████████████████▋                                                                                                                | 502/3357 [01:17<07:03,  6.75it/s]"
     ]
    },
    {
     "name": "stdout",
     "output_type": "stream",
     "text": [
      "Epoch:  14 | Samples:    500/3357 | Avg. RMSE Loss: 0.5656 | Avg. MSE Loss: 0.5152\n"
     ]
    },
    {
     "name": "stderr",
     "output_type": "stream",
     "text": [
      "Processing samples:  30%|███████████████████████████████████████                                                                                            | 1002/3357 [02:35<05:36,  7.00it/s]"
     ]
    },
    {
     "name": "stdout",
     "output_type": "stream",
     "text": [
      "Epoch:  14 | Samples:   1000/3357 | Avg. RMSE Loss: 0.5368 | Avg. MSE Loss: 0.4752\n"
     ]
    },
    {
     "name": "stderr",
     "output_type": "stream",
     "text": [
      "Processing samples:  45%|██████████████████████████████████████████████████████████▌                                                                        | 1502/3357 [03:54<05:49,  5.30it/s]"
     ]
    },
    {
     "name": "stdout",
     "output_type": "stream",
     "text": [
      "Epoch:  14 | Samples:   1500/3357 | Avg. RMSE Loss: 0.5256 | Avg. MSE Loss: 0.4680\n"
     ]
    },
    {
     "name": "stderr",
     "output_type": "stream",
     "text": [
      "Processing samples:  60%|██████████████████████████████████████████████████████████████████████████████                                                     | 2002/3357 [05:13<03:16,  6.89it/s]"
     ]
    },
    {
     "name": "stdout",
     "output_type": "stream",
     "text": [
      "Epoch:  14 | Samples:   2000/3357 | Avg. RMSE Loss: 0.5216 | Avg. MSE Loss: 0.4551\n"
     ]
    },
    {
     "name": "stderr",
     "output_type": "stream",
     "text": [
      "Processing samples:  75%|█████████████████████████████████████████████████████████████████████████████████████████████████▋                                 | 2502/3357 [06:32<02:31,  5.64it/s]"
     ]
    },
    {
     "name": "stdout",
     "output_type": "stream",
     "text": [
      "Epoch:  14 | Samples:   2500/3357 | Avg. RMSE Loss: 0.5199 | Avg. MSE Loss: 0.4470\n"
     ]
    },
    {
     "name": "stderr",
     "output_type": "stream",
     "text": [
      "Processing samples:  89%|█████████████████████████████████████████████████████████████████████████████████████████████████████████████████████              | 3001/3357 [07:49<00:57,  6.18it/s]"
     ]
    },
    {
     "name": "stdout",
     "output_type": "stream",
     "text": [
      "Epoch:  14 | Samples:   3000/3357 | Avg. RMSE Loss: 0.5164 | Avg. MSE Loss: 0.4400\n"
     ]
    },
    {
     "name": "stderr",
     "output_type": "stream",
     "text": [
      "Processing samples: 100%|███████████████████████████████████████████████████████████████████████████████████████████████████████████████████████████████████| 3357/3357 [08:47<00:00,  6.36it/s]\n",
      "Processing samples:   0%|                                                                                                                                      | 2/3357 [00:00<07:18,  7.66it/s]"
     ]
    },
    {
     "name": "stdout",
     "output_type": "stream",
     "text": [
      "Epoch:  15 | Samples:      0/3357 | Avg. RMSE Loss: 1.0990 | Avg. MSE Loss: 1.2079\n"
     ]
    },
    {
     "name": "stderr",
     "output_type": "stream",
     "text": [
      "Processing samples:  15%|███████████████████▋                                                                                                                | 502/3357 [01:16<07:03,  6.74it/s]"
     ]
    },
    {
     "name": "stdout",
     "output_type": "stream",
     "text": [
      "Epoch:  15 | Samples:    500/3357 | Avg. RMSE Loss: 0.5599 | Avg. MSE Loss: 0.5061\n"
     ]
    },
    {
     "name": "stderr",
     "output_type": "stream",
     "text": [
      "Processing samples:  30%|███████████████████████████████████████                                                                                            | 1002/3357 [02:35<05:36,  7.01it/s]"
     ]
    },
    {
     "name": "stdout",
     "output_type": "stream",
     "text": [
      "Epoch:  15 | Samples:   1000/3357 | Avg. RMSE Loss: 0.5331 | Avg. MSE Loss: 0.4651\n"
     ]
    },
    {
     "name": "stderr",
     "output_type": "stream",
     "text": [
      "Processing samples:  45%|██████████████████████████████████████████████████████████▌                                                                        | 1502/3357 [03:54<05:49,  5.31it/s]"
     ]
    },
    {
     "name": "stdout",
     "output_type": "stream",
     "text": [
      "Epoch:  15 | Samples:   1500/3357 | Avg. RMSE Loss: 0.5220 | Avg. MSE Loss: 0.4581\n"
     ]
    },
    {
     "name": "stderr",
     "output_type": "stream",
     "text": [
      "Processing samples:  60%|██████████████████████████████████████████████████████████████████████████████                                                     | 2002/3357 [05:13<03:17,  6.85it/s]"
     ]
    },
    {
     "name": "stdout",
     "output_type": "stream",
     "text": [
      "Epoch:  15 | Samples:   2000/3357 | Avg. RMSE Loss: 0.5176 | Avg. MSE Loss: 0.4456\n"
     ]
    },
    {
     "name": "stderr",
     "output_type": "stream",
     "text": [
      "Processing samples:  75%|█████████████████████████████████████████████████████████████████████████████████████████████████▋                                 | 2502/3357 [06:31<02:32,  5.59it/s]"
     ]
    },
    {
     "name": "stdout",
     "output_type": "stream",
     "text": [
      "Epoch:  15 | Samples:   2500/3357 | Avg. RMSE Loss: 0.5156 | Avg. MSE Loss: 0.4378\n"
     ]
    },
    {
     "name": "stderr",
     "output_type": "stream",
     "text": [
      "Processing samples:  89%|█████████████████████████████████████████████████████████████████████████████████████████████████████████████████████              | 3001/3357 [07:48<00:57,  6.19it/s]"
     ]
    },
    {
     "name": "stdout",
     "output_type": "stream",
     "text": [
      "Epoch:  15 | Samples:   3000/3357 | Avg. RMSE Loss: 0.5111 | Avg. MSE Loss: 0.4291\n"
     ]
    },
    {
     "name": "stderr",
     "output_type": "stream",
     "text": [
      "Processing samples: 100%|███████████████████████████████████████████████████████████████████████████████████████████████████████████████████████████████████| 3357/3357 [08:46<00:00,  6.37it/s]\n",
      "Processing samples:   0%|                                                                                                                                      | 2/3357 [00:00<07:20,  7.62it/s]"
     ]
    },
    {
     "name": "stdout",
     "output_type": "stream",
     "text": [
      "Epoch:  16 | Samples:      0/3357 | Avg. RMSE Loss: 1.0775 | Avg. MSE Loss: 1.1610\n"
     ]
    },
    {
     "name": "stderr",
     "output_type": "stream",
     "text": [
      "Processing samples:  15%|███████████████████▋                                                                                                                | 502/3357 [01:17<07:00,  6.78it/s]"
     ]
    },
    {
     "name": "stdout",
     "output_type": "stream",
     "text": [
      "Epoch:  16 | Samples:    500/3357 | Avg. RMSE Loss: 0.5508 | Avg. MSE Loss: 0.4887\n"
     ]
    },
    {
     "name": "stderr",
     "output_type": "stream",
     "text": [
      "Processing samples:  30%|███████████████████████████████████████                                                                                            | 1002/3357 [02:35<05:36,  7.00it/s]"
     ]
    },
    {
     "name": "stdout",
     "output_type": "stream",
     "text": [
      "Epoch:  16 | Samples:   1000/3357 | Avg. RMSE Loss: 0.5251 | Avg. MSE Loss: 0.4514\n"
     ]
    },
    {
     "name": "stderr",
     "output_type": "stream",
     "text": [
      "Processing samples:  45%|██████████████████████████████████████████████████████████▌                                                                        | 1502/3357 [03:55<05:46,  5.36it/s]"
     ]
    },
    {
     "name": "stdout",
     "output_type": "stream",
     "text": [
      "Epoch:  16 | Samples:   1500/3357 | Avg. RMSE Loss: 0.5135 | Avg. MSE Loss: 0.4439\n"
     ]
    },
    {
     "name": "stderr",
     "output_type": "stream",
     "text": [
      "Processing samples:  60%|██████████████████████████████████████████████████████████████████████████████                                                     | 2002/3357 [05:14<03:16,  6.89it/s]"
     ]
    },
    {
     "name": "stdout",
     "output_type": "stream",
     "text": [
      "Epoch:  16 | Samples:   2000/3357 | Avg. RMSE Loss: 0.5090 | Avg. MSE Loss: 0.4312\n"
     ]
    },
    {
     "name": "stderr",
     "output_type": "stream",
     "text": [
      "Processing samples:  75%|█████████████████████████████████████████████████████████████████████████████████████████████████▋                                 | 2502/3357 [06:32<02:29,  5.70it/s]"
     ]
    },
    {
     "name": "stdout",
     "output_type": "stream",
     "text": [
      "Epoch:  16 | Samples:   2500/3357 | Avg. RMSE Loss: 0.5083 | Avg. MSE Loss: 0.4254\n"
     ]
    },
    {
     "name": "stderr",
     "output_type": "stream",
     "text": [
      "Processing samples:  89%|█████████████████████████████████████████████████████████████████████████████████████████████████████████████████████              | 3001/3357 [07:49<00:57,  6.19it/s]"
     ]
    },
    {
     "name": "stdout",
     "output_type": "stream",
     "text": [
      "Epoch:  16 | Samples:   3000/3357 | Avg. RMSE Loss: 0.5045 | Avg. MSE Loss: 0.4180\n"
     ]
    },
    {
     "name": "stderr",
     "output_type": "stream",
     "text": [
      "Processing samples: 100%|███████████████████████████████████████████████████████████████████████████████████████████████████████████████████████████████████| 3357/3357 [08:47<00:00,  6.37it/s]\n",
      "Processing samples:   0%|                                                                                                                                      | 2/3357 [00:00<07:22,  7.58it/s]"
     ]
    },
    {
     "name": "stdout",
     "output_type": "stream",
     "text": [
      "Epoch:  17 | Samples:      0/3357 | Avg. RMSE Loss: 1.0456 | Avg. MSE Loss: 1.0934\n"
     ]
    },
    {
     "name": "stderr",
     "output_type": "stream",
     "text": [
      "Processing samples:  15%|███████████████████▋                                                                                                                | 502/3357 [01:16<07:03,  6.74it/s]"
     ]
    },
    {
     "name": "stdout",
     "output_type": "stream",
     "text": [
      "Epoch:  17 | Samples:    500/3357 | Avg. RMSE Loss: 0.5438 | Avg. MSE Loss: 0.4780\n"
     ]
    },
    {
     "name": "stderr",
     "output_type": "stream",
     "text": [
      "Processing samples:  30%|███████████████████████████████████████                                                                                            | 1002/3357 [02:35<05:37,  6.98it/s]"
     ]
    },
    {
     "name": "stdout",
     "output_type": "stream",
     "text": [
      "Epoch:  17 | Samples:   1000/3357 | Avg. RMSE Loss: 0.5186 | Avg. MSE Loss: 0.4398\n"
     ]
    },
    {
     "name": "stderr",
     "output_type": "stream",
     "text": [
      "Processing samples:  45%|██████████████████████████████████████████████████████████▌                                                                        | 1502/3357 [03:54<05:49,  5.31it/s]"
     ]
    },
    {
     "name": "stdout",
     "output_type": "stream",
     "text": [
      "Epoch:  17 | Samples:   1500/3357 | Avg. RMSE Loss: 0.5064 | Avg. MSE Loss: 0.4303\n"
     ]
    },
    {
     "name": "stderr",
     "output_type": "stream",
     "text": [
      "Processing samples:  60%|██████████████████████████████████████████████████████████████████████████████                                                     | 2002/3357 [05:13<03:18,  6.84it/s]"
     ]
    },
    {
     "name": "stdout",
     "output_type": "stream",
     "text": [
      "Epoch:  17 | Samples:   2000/3357 | Avg. RMSE Loss: 0.5017 | Avg. MSE Loss: 0.4183\n"
     ]
    },
    {
     "name": "stderr",
     "output_type": "stream",
     "text": [
      "Processing samples:  75%|█████████████████████████████████████████████████████████████████████████████████████████████████▋                                 | 2502/3357 [06:31<02:30,  5.69it/s]"
     ]
    },
    {
     "name": "stdout",
     "output_type": "stream",
     "text": [
      "Epoch:  17 | Samples:   2500/3357 | Avg. RMSE Loss: 0.5001 | Avg. MSE Loss: 0.4125\n"
     ]
    },
    {
     "name": "stderr",
     "output_type": "stream",
     "text": [
      "Processing samples:  89%|█████████████████████████████████████████████████████████████████████████████████████████████████████████████████████              | 3001/3357 [07:48<00:57,  6.15it/s]"
     ]
    },
    {
     "name": "stdout",
     "output_type": "stream",
     "text": [
      "Epoch:  17 | Samples:   3000/3357 | Avg. RMSE Loss: 0.4949 | Avg. MSE Loss: 0.4040\n"
     ]
    },
    {
     "name": "stderr",
     "output_type": "stream",
     "text": [
      "Processing samples: 100%|███████████████████████████████████████████████████████████████████████████████████████████████████████████████████████████████████| 3357/3357 [08:46<00:00,  6.38it/s]\n",
      "Processing samples:   0%|                                                                                                                                      | 2/3357 [00:00<07:17,  7.66it/s]"
     ]
    },
    {
     "name": "stdout",
     "output_type": "stream",
     "text": [
      "Epoch:  18 | Samples:      0/3357 | Avg. RMSE Loss: 0.9875 | Avg. MSE Loss: 0.9752\n"
     ]
    },
    {
     "name": "stderr",
     "output_type": "stream",
     "text": [
      "Processing samples:  15%|███████████████████▋                                                                                                                | 502/3357 [01:16<07:05,  6.71it/s]"
     ]
    },
    {
     "name": "stdout",
     "output_type": "stream",
     "text": [
      "Epoch:  18 | Samples:    500/3357 | Avg. RMSE Loss: 0.5396 | Avg. MSE Loss: 0.4666\n"
     ]
    },
    {
     "name": "stderr",
     "output_type": "stream",
     "text": [
      "Processing samples:  30%|███████████████████████████████████████                                                                                            | 1002/3357 [02:35<05:35,  7.03it/s]"
     ]
    },
    {
     "name": "stdout",
     "output_type": "stream",
     "text": [
      "Epoch:  18 | Samples:   1000/3357 | Avg. RMSE Loss: 0.5109 | Avg. MSE Loss: 0.4263\n"
     ]
    },
    {
     "name": "stderr",
     "output_type": "stream",
     "text": [
      "Processing samples:  45%|██████████████████████████████████████████████████████████▌                                                                        | 1502/3357 [03:54<05:51,  5.28it/s]"
     ]
    },
    {
     "name": "stdout",
     "output_type": "stream",
     "text": [
      "Epoch:  18 | Samples:   1500/3357 | Avg. RMSE Loss: 0.4986 | Avg. MSE Loss: 0.4170\n"
     ]
    },
    {
     "name": "stderr",
     "output_type": "stream",
     "text": [
      "Processing samples:  60%|██████████████████████████████████████████████████████████████████████████████                                                     | 2002/3357 [05:13<03:17,  6.85it/s]"
     ]
    },
    {
     "name": "stdout",
     "output_type": "stream",
     "text": [
      "Epoch:  18 | Samples:   2000/3357 | Avg. RMSE Loss: 0.4929 | Avg. MSE Loss: 0.4045\n"
     ]
    },
    {
     "name": "stderr",
     "output_type": "stream",
     "text": [
      "Processing samples:  75%|█████████████████████████████████████████████████████████████████████████████████████████████████▋                                 | 2502/3357 [06:31<02:32,  5.59it/s]"
     ]
    },
    {
     "name": "stdout",
     "output_type": "stream",
     "text": [
      "Epoch:  18 | Samples:   2500/3357 | Avg. RMSE Loss: 0.4936 | Avg. MSE Loss: 0.4022\n"
     ]
    },
    {
     "name": "stderr",
     "output_type": "stream",
     "text": [
      "Processing samples:  89%|█████████████████████████████████████████████████████████████████████████████████████████████████████████████████████              | 3001/3357 [07:48<00:57,  6.18it/s]"
     ]
    },
    {
     "name": "stdout",
     "output_type": "stream",
     "text": [
      "Epoch:  18 | Samples:   3000/3357 | Avg. RMSE Loss: 0.4887 | Avg. MSE Loss: 0.3944\n"
     ]
    },
    {
     "name": "stderr",
     "output_type": "stream",
     "text": [
      "Processing samples: 100%|███████████████████████████████████████████████████████████████████████████████████████████████████████████████████████████████████| 3357/3357 [08:46<00:00,  6.37it/s]\n",
      "Processing samples:   0%|                                                                                                                                      | 2/3357 [00:00<07:27,  7.50it/s]"
     ]
    },
    {
     "name": "stdout",
     "output_type": "stream",
     "text": [
      "Epoch:  19 | Samples:      0/3357 | Avg. RMSE Loss: 1.0687 | Avg. MSE Loss: 1.1421\n"
     ]
    },
    {
     "name": "stderr",
     "output_type": "stream",
     "text": [
      "Processing samples:  15%|███████████████████▋                                                                                                                | 502/3357 [01:16<07:00,  6.80it/s]"
     ]
    },
    {
     "name": "stdout",
     "output_type": "stream",
     "text": [
      "Epoch:  19 | Samples:    500/3357 | Avg. RMSE Loss: 0.5321 | Avg. MSE Loss: 0.4547\n"
     ]
    },
    {
     "name": "stderr",
     "output_type": "stream",
     "text": [
      "Processing samples:  30%|███████████████████████████████████████                                                                                            | 1002/3357 [02:35<05:36,  6.99it/s]"
     ]
    },
    {
     "name": "stdout",
     "output_type": "stream",
     "text": [
      "Epoch:  19 | Samples:   1000/3357 | Avg. RMSE Loss: 0.5051 | Avg. MSE Loss: 0.4157\n"
     ]
    },
    {
     "name": "stderr",
     "output_type": "stream",
     "text": [
      "Processing samples:  45%|██████████████████████████████████████████████████████████▌                                                                        | 1502/3357 [03:55<05:47,  5.34it/s]"
     ]
    },
    {
     "name": "stdout",
     "output_type": "stream",
     "text": [
      "Epoch:  19 | Samples:   1500/3357 | Avg. RMSE Loss: 0.4942 | Avg. MSE Loss: 0.4067\n"
     ]
    },
    {
     "name": "stderr",
     "output_type": "stream",
     "text": [
      "Processing samples:  60%|██████████████████████████████████████████████████████████████████████████████                                                     | 2002/3357 [05:13<03:16,  6.89it/s]"
     ]
    },
    {
     "name": "stdout",
     "output_type": "stream",
     "text": [
      "Epoch:  19 | Samples:   2000/3357 | Avg. RMSE Loss: 0.4874 | Avg. MSE Loss: 0.3943\n"
     ]
    },
    {
     "name": "stderr",
     "output_type": "stream",
     "text": [
      "Processing samples:  75%|█████████████████████████████████████████████████████████████████████████████████████████████████▋                                 | 2502/3357 [06:32<02:29,  5.71it/s]"
     ]
    },
    {
     "name": "stdout",
     "output_type": "stream",
     "text": [
      "Epoch:  19 | Samples:   2500/3357 | Avg. RMSE Loss: 0.4873 | Avg. MSE Loss: 0.3917\n"
     ]
    },
    {
     "name": "stderr",
     "output_type": "stream",
     "text": [
      "Processing samples:  89%|█████████████████████████████████████████████████████████████████████████████████████████████████████████████████████              | 3001/3357 [07:49<00:57,  6.15it/s]"
     ]
    },
    {
     "name": "stdout",
     "output_type": "stream",
     "text": [
      "Epoch:  19 | Samples:   3000/3357 | Avg. RMSE Loss: 0.4828 | Avg. MSE Loss: 0.3844\n"
     ]
    },
    {
     "name": "stderr",
     "output_type": "stream",
     "text": [
      "Processing samples: 100%|███████████████████████████████████████████████████████████████████████████████████████████████████████████████████████████████████| 3357/3357 [08:47<00:00,  6.37it/s]\n"
     ]
    }
   ],
   "source": [
    "atom_autoencoder = Autoencoder(56, 10).to(device)\n",
    "bond_autoencoder = Autoencoder(10, 3).to(device)\n",
    "mse_loss_fn = torch.nn.MSELoss()\n",
    "gnn3d = GNN3D(atomic_vector_size=10, bond_vector_size=3, number_of_molecular_features=200, number_of_targets=1).to(device)\n",
    "gnn_optimizer = torch.optim.Adam(gnn3d.parameters())\n",
    "rmse_losses, mse_losses = train_gnn3d_model(gnn3d, train_samples, atom_autoencoder, bond_autoencoder, n_epochs=20, printstep=500, save_dir=modeldir, dataset_name=dataset_name)"
   ]
  },
  {
   "cell_type": "code",
   "execution_count": 10,
   "id": "f592be3f-b874-404b-8670-b6906befd044",
   "metadata": {},
   "outputs": [
    {
     "data": {
      "image/png": "[encoded data removed]",
      "text/plain": [
       "<Figure size 1000x600 with 1 Axes>"
      ]
     },
     "metadata": {},
     "output_type": "display_data"
    }
   ],
   "source": [
    "# Assuming rmse_losses is the list of RMSE losses obtained from training\n",
    "plt.figure(figsize=(10, 6))\n",
    "plt.plot(range(1, len(rmse_losses)+1), rmse_losses, marker='o', linestyle='-', color='b', label='Avg. RMSE Loss')\n",
    "plt.title(f\"GNN3D Training Losses for {dataset_name}\")\n",
    "plt.xlabel(\"Epoch\")\n",
    "plt.ylabel(\"RMSE Loss\")\n",
    "plt.legend()\n",
    "plt.grid(True)\n",
    "plt.savefig(f\"{modeldir}gnn3d_rmse_losses_{dataset_name}.png\")\n",
    "plt.show()"
   ]
  },
  {
   "cell_type": "markdown",
   "id": "aa98e0ed-50d8-4e68-afcf-7815cbcb79d5",
   "metadata": {},
   "source": [
    "## Testing"
   ]
  },
  {
   "cell_type": "code",
   "execution_count": 12,
   "id": "9a26bc02-bb5c-4769-a820-fad17f0e09a8",
   "metadata": {},
   "outputs": [
    {
     "name": "stdout",
     "output_type": "stream",
     "text": [
      "Evaluation Results:\n",
      "Avg. RMSE Loss: 0.6848\n",
      "Avg. MSE Loss: 0.7444\n"
     ]
    }
   ],
   "source": [
    "predictions, targets = evaluate_gnn3d_model( gnn3d, test_samples, atom_autoencoder, bond_autoencoder)"
   ]
  },
  {
   "cell_type": "markdown",
   "id": "86d98a0d-b64b-4269-a10a-a171cc096398",
   "metadata": {},
   "source": [
    "## Know your correlations (KYC)"
   ]
  },
  {
   "cell_type": "code",
   "execution_count": 13,
   "id": "deadc1bf-0623-4fa4-933e-d0685a905298",
   "metadata": {},
   "outputs": [
    {
     "name": "stdout",
     "output_type": "stream",
     "text": [
      "Pearson Correlation Coefficient: 0.7926\n",
      "Coefficient of Determination R^2: 0.4736\n"
     ]
    },
    {
     "data": {
      "image/png": "[encoded data removed]",
      "text/plain": [
       "<Figure size 800x600 with 1 Axes>"
      ]
     },
     "metadata": {},
     "output_type": "display_data"
    }
   ],
   "source": [
    "# Calculate R^2\n",
    "def calculate_r_squared(predictions, targets):\n",
    "    ss_tot = np.sum((targets - np.mean(targets))**2)\n",
    "    ss_res = np.sum((targets - predictions)**2)\n",
    "    r_squared = 1 - (ss_res / ss_tot)\n",
    "    return r_squared\n",
    "\n",
    "# Convert lists to NumPy arrays\n",
    "predictions = np.array(predictions)\n",
    "targets = np.array(targets)\n",
    "\n",
    "# Calculate Pearson correlation coefficient\n",
    "corr, _ = pearsonr(predictions, targets)\n",
    "\n",
    "print(f\"Pearson Correlation Coefficient: {corr:.4f}\")\n",
    "\n",
    "r_squared = calculate_r_squared(predictions, targets)\n",
    "print(f\"Coefficient of Determination R^2: {r_squared:.4f}\")\n",
    "\n",
    "# Plotting\n",
    "plt.figure(figsize=(8, 6))\n",
    "plt.scatter(targets, predictions, color='blue', alpha=0.5)\n",
    "plt.plot(targets, targets, color='red', linestyle='-', linewidth=2)  # Plot y=x line\n",
    "plt.text(np.min(targets), np.max(predictions), f\"Pearson Correlation: {corr:.4f}\", fontsize=12, verticalalignment='top')\n",
    "plt.title('Scatter Plot of Predictions vs Targets')\n",
    "plt.xlabel('Targets')\n",
    "plt.ylabel('Predictions')\n",
    "plt.grid(True)\n",
    "plt.tight_layout()\n",
    "plt.show()"
   ]
  },
  {
   "cell_type": "markdown",
   "id": "5364b2e7-e72a-47c5-8f71-6d33975d7bb9",
   "metadata": {},
   "source": [
    "## Know your molecules and true/prediction (Be warned if there is skipped molecule from test_samples! No skip -> correct structure!)"
   ]
  },
  {
   "cell_type": "code",
   "execution_count": 14,
   "id": "51f5d46f-d71f-4cd3-ad15-a29624a91746",
   "metadata": {},
   "outputs": [
    {
     "name": "stdout",
     "output_type": "stream",
     "text": [
      "Loaded train samples: 3357\n",
      "Loaded test samples: 839\n",
      "Total (train+test): 4196\n",
      "Total from dataset: 4200\n",
      "80% of dataset: 3360\n",
      "20% of dataset: 840\n",
      "NOT Skipped molecule, therefore following output of next cell is correct!\n"
     ]
    }
   ],
   "source": [
    "print(f\"Loaded train samples: {len(train_samples)}\")\n",
    "print(f\"Loaded test samples: {len(test_samples)}\")\n",
    "print(f\"Total (train+test): {len(train_samples) + len(test_samples)}\" )\n",
    "print(f\"Total from dataset: {len(dataset)}\")\n",
    "print(f\"80% of dataset: {int(0.8*len(dataset))}\")\n",
    "print(f\"20% of dataset: {int(0.2*len(dataset))}\")\n",
    "print(f\"NOT Skipped molecule, therefore following output of next cell is correct!\")"
   ]
  },
  {
   "cell_type": "code",
   "execution_count": null,
   "id": "802587be-8f1a-40d7-9159-89752437e927",
   "metadata": {},
   "outputs": [],
   "source": [
    "# Load test_samples from CSV\n",
    "test_dataset = pd.read_csv(datadir+\"test.csv\")\n",
    "#molecules = [molecule_from_smiles(test_dataset.smiles.values[i]) for i in range(len(test_samples))]\n",
    "molecules = test_dataset['smiles'].apply(lambda x: Chem.MolFromSmiles(x)) \n",
    "\n",
    "y_true = [targets[i] for i in range(len(test_samples))]\n",
    "y_pred = [predictions[i] for i in range(len(test_samples))]\n",
    "\n",
    "legends = [f\"y_true/y_pred = {y_true[i]:.2f}/{y_pred[i]:.2f}\" for i in range(len(test_samples))]\n",
    "MolsToGridImage(molecules, molsPerRow=5, maxMols=100,legends=legends)"
   ]
  },
  {
   "cell_type": "code",
   "execution_count": null,
   "id": "9c2d2fdd-5c41-46e1-8acb-b0c68c514a3c",
   "metadata": {},
   "outputs": [],
   "source": [
    "df = pd.read_csv(datadir+\"test.csv\")      #Reading logS: y_true dataframe\n",
    "df['preds'] = predictions\n",
    "df"
   ]
  },
  {
   "cell_type": "markdown",
   "id": "555f0723-eef6-483b-893a-3d04581b6aa7",
   "metadata": {},
   "source": [
    "## Future task: What is so unique about dihedral angles?"
   ]
  },
  {
   "cell_type": "code",
   "execution_count": 17,
   "id": "9d128a19-95c6-478b-94b6-2e5375b449c6",
   "metadata": {},
   "outputs": [],
   "source": [
    "import matplotlib.pyplot as plt\n",
    "from matplotlib.offsetbox import AnchoredText\n",
    "from sklearn.metrics import mean_absolute_error, root_mean_squared_error\n",
    "\n",
    "def plot_parity(y_true, y_pred, y_pred_unc=None):\n",
    "    \n",
    "    axmin = min(min(y_true), min(y_pred)) - 0.1*(max(y_true)-min(y_true))\n",
    "    axmax = max(max(y_true), max(y_pred)) + 0.1*(max(y_true)-min(y_true))\n",
    "    \n",
    "    mae = mean_absolute_error(y_true, y_pred)\n",
    "    rmse = root_mean_squared_error(y_true, y_pred)\n",
    "    \n",
    "    plt.plot([axmin, axmax], [axmin, axmax], '--k')\n",
    "\n",
    "    plt.errorbar(y_true, y_pred, yerr=y_pred_unc, linewidth=0, marker='o', markeredgecolor='w', alpha=1, elinewidth=1)\n",
    "    \n",
    "    plt.xlim((axmin, axmax))\n",
    "    plt.ylim((axmin, axmax))\n",
    "    \n",
    "    ax = plt.gca()\n",
    "    ax.set_aspect('equal')\n",
    "    \n",
    "    at = AnchoredText(\n",
    "    f\"MAE = {mae:.2f}\\nRMSE = {rmse:.2f}\", prop=dict(size=10), frameon=True, loc='upper left')\n",
    "    at.patch.set_boxstyle(\"round,pad=0.,rounding_size=0.2\")\n",
    "    ax.add_artist(at)\n",
    "    \n",
    "    plt.xlabel('True')\n",
    "    plt.ylabel('GNN3Dihed Predicted')\n",
    "    \n",
    "    plt.show()\n",
    "    \n",
    "    return"
   ]
  },
  {
   "cell_type": "code",
   "execution_count": null,
   "id": "08ba29c8-8144-4790-b22e-9833cbfabb81",
   "metadata": {},
   "outputs": [],
   "source": [
    "plot_parity(df.logP, df.preds)"
   ]
  },
  {
   "cell_type": "code",
   "execution_count": null,
   "id": "1df96768-28a1-4d8a-8e66-257aeffaad80",
   "metadata": {},
   "outputs": [],
   "source": []
  }
 ],
 "metadata": {
  "kernelspec": {
   "display_name": "Python 3 (ipykernel)",
   "language": "python",
   "name": "python3"
  },
  "language_info": {
   "codemirror_mode": {
    "name": "ipython",
    "version": 3
   },
   "file_extension": ".py",
   "mimetype": "text/x-python",
   "name": "python",
   "nbconvert_exporter": "python",
   "pygments_lexer": "ipython3",
   "version": "3.12.2"
  }
 },
 "nbformat": 4,
 "nbformat_minor": 5
}
